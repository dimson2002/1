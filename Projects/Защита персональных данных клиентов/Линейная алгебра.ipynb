{
 "cells": [
  {
   "cell_type": "markdown",
   "metadata": {
    "toc": true
   },
   "source": [
    "<h1>Содержание<span class=\"tocSkip\"></span></h1>\n",
    "<div class=\"toc\"><ul class=\"toc-item\"><li><span><a href=\"#Загрузка-данных\" data-toc-modified-id=\"Загрузка-данных-1\"><span class=\"toc-item-num\">1&nbsp;&nbsp;</span>Загрузка данных</a></span></li><li><span><a href=\"#Умножение-матриц\" data-toc-modified-id=\"Умножение-матриц-2\"><span class=\"toc-item-num\">2&nbsp;&nbsp;</span>Умножение матриц</a></span></li><li><span><a href=\"#Алгоритм-преобразования\" data-toc-modified-id=\"Алгоритм-преобразования-3\"><span class=\"toc-item-num\">3&nbsp;&nbsp;</span>Алгоритм преобразования</a></span></li><li><span><a href=\"#Проверка-алгоритма\" data-toc-modified-id=\"Проверка-алгоритма-4\"><span class=\"toc-item-num\">4&nbsp;&nbsp;</span>Проверка алгоритма</a></span></li><li><span><a href=\"#Чек-лист-проверки\" data-toc-modified-id=\"Чек-лист-проверки-5\"><span class=\"toc-item-num\">5&nbsp;&nbsp;</span>Чек-лист проверки</a></span></li></ul></div>"
   ]
  },
  {
   "cell_type": "markdown",
   "metadata": {},
   "source": [
    "# Защита персональных данных клиентов"
   ]
  },
  {
   "cell_type": "markdown",
   "metadata": {},
   "source": [
    "Вам нужно защитить данные клиентов страховой компании «Хоть потоп». Разработайте такой метод преобразования данных, чтобы по ним было сложно восстановить персональную информацию. Обоснуйте корректность его работы.\n",
    "\n",
    "Нужно защитить данные, чтобы при преобразовании качество моделей машинного обучения не ухудшилось. Подбирать наилучшую модель не требуется."
   ]
  },
  {
   "cell_type": "markdown",
   "metadata": {},
   "source": [
    "## Загрузка данных"
   ]
  },
  {
   "cell_type": "code",
   "execution_count": 56,
   "metadata": {},
   "outputs": [
    {
     "data": {
      "text/html": [
       "<style>.container { width:90% !important; }</style>"
      ],
      "text/plain": [
       "<IPython.core.display.HTML object>"
      ]
     },
     "metadata": {},
     "output_type": "display_data"
    }
   ],
   "source": [
    "import pandas as pd\n",
    "\n",
    "import numpy as np\n",
    "\n",
    "from sklearn.linear_model import LinearRegression\n",
    "from sklearn.model_selection import train_test_split\n",
    "from sklearn.metrics import r2_score\n",
    "\n",
    "from IPython.core.display import display, HTML\n",
    "display(HTML(\"<style>.container { width:90% !important; }</style>\"))"
   ]
  },
  {
   "cell_type": "code",
   "execution_count": 57,
   "metadata": {},
   "outputs": [
    {
     "data": {
      "text/html": [
       "<div>\n",
       "<style scoped>\n",
       "    .dataframe tbody tr th:only-of-type {\n",
       "        vertical-align: middle;\n",
       "    }\n",
       "\n",
       "    .dataframe tbody tr th {\n",
       "        vertical-align: top;\n",
       "    }\n",
       "\n",
       "    .dataframe thead th {\n",
       "        text-align: right;\n",
       "    }\n",
       "</style>\n",
       "<table border=\"1\" class=\"dataframe\">\n",
       "  <thead>\n",
       "    <tr style=\"text-align: right;\">\n",
       "      <th></th>\n",
       "      <th>Пол</th>\n",
       "      <th>Возраст</th>\n",
       "      <th>Зарплата</th>\n",
       "      <th>Члены семьи</th>\n",
       "      <th>Страховые выплаты</th>\n",
       "    </tr>\n",
       "  </thead>\n",
       "  <tbody>\n",
       "    <tr>\n",
       "      <th>0</th>\n",
       "      <td>1</td>\n",
       "      <td>41.0</td>\n",
       "      <td>49600.0</td>\n",
       "      <td>1</td>\n",
       "      <td>0</td>\n",
       "    </tr>\n",
       "    <tr>\n",
       "      <th>1</th>\n",
       "      <td>0</td>\n",
       "      <td>46.0</td>\n",
       "      <td>38000.0</td>\n",
       "      <td>1</td>\n",
       "      <td>1</td>\n",
       "    </tr>\n",
       "    <tr>\n",
       "      <th>2</th>\n",
       "      <td>0</td>\n",
       "      <td>29.0</td>\n",
       "      <td>21000.0</td>\n",
       "      <td>0</td>\n",
       "      <td>0</td>\n",
       "    </tr>\n",
       "    <tr>\n",
       "      <th>3</th>\n",
       "      <td>0</td>\n",
       "      <td>21.0</td>\n",
       "      <td>41700.0</td>\n",
       "      <td>2</td>\n",
       "      <td>0</td>\n",
       "    </tr>\n",
       "    <tr>\n",
       "      <th>4</th>\n",
       "      <td>1</td>\n",
       "      <td>28.0</td>\n",
       "      <td>26100.0</td>\n",
       "      <td>0</td>\n",
       "      <td>0</td>\n",
       "    </tr>\n",
       "  </tbody>\n",
       "</table>\n",
       "</div>"
      ],
      "text/plain": [
       "   Пол  Возраст  Зарплата  Члены семьи  Страховые выплаты\n",
       "0    1     41.0   49600.0            1                  0\n",
       "1    0     46.0   38000.0            1                  1\n",
       "2    0     29.0   21000.0            0                  0\n",
       "3    0     21.0   41700.0            2                  0\n",
       "4    1     28.0   26100.0            0                  0"
      ]
     },
     "execution_count": 57,
     "metadata": {},
     "output_type": "execute_result"
    }
   ],
   "source": [
    "data = pd.read_csv('/datasets/insurance.csv')\n",
    "data.head(5)"
   ]
  },
  {
   "cell_type": "code",
   "execution_count": 58,
   "metadata": {},
   "outputs": [
    {
     "name": "stdout",
     "output_type": "stream",
     "text": [
      "<class 'pandas.core.frame.DataFrame'>\n",
      "RangeIndex: 5000 entries, 0 to 4999\n",
      "Data columns (total 5 columns):\n",
      " #   Column             Non-Null Count  Dtype  \n",
      "---  ------             --------------  -----  \n",
      " 0   Пол                5000 non-null   int64  \n",
      " 1   Возраст            5000 non-null   float64\n",
      " 2   Зарплата           5000 non-null   float64\n",
      " 3   Члены семьи        5000 non-null   int64  \n",
      " 4   Страховые выплаты  5000 non-null   int64  \n",
      "dtypes: float64(2), int64(3)\n",
      "memory usage: 195.4 KB\n"
     ]
    }
   ],
   "source": [
    "data.info()"
   ]
  },
  {
   "cell_type": "code",
   "execution_count": 59,
   "metadata": {},
   "outputs": [
    {
     "data": {
      "image/png": "[encoded data removed]",
      "text/plain": [
       "<Figure size 720x576 with 6 Axes>"
      ]
     },
     "metadata": {
      "needs_background": "light"
     },
     "output_type": "display_data"
    }
   ],
   "source": [
    "data.hist(figsize=(10, 8));"
   ]
  },
  {
   "cell_type": "code",
   "execution_count": 60,
   "metadata": {
    "scrolled": true
   },
   "outputs": [
    {
     "data": {
      "text/html": [
       "<div>\n",
       "<style scoped>\n",
       "    .dataframe tbody tr th:only-of-type {\n",
       "        vertical-align: middle;\n",
       "    }\n",
       "\n",
       "    .dataframe tbody tr th {\n",
       "        vertical-align: top;\n",
       "    }\n",
       "\n",
       "    .dataframe thead th {\n",
       "        text-align: right;\n",
       "    }\n",
       "</style>\n",
       "<table border=\"1\" class=\"dataframe\">\n",
       "  <thead>\n",
       "    <tr style=\"text-align: right;\">\n",
       "      <th></th>\n",
       "      <th>Пол</th>\n",
       "      <th>Возраст</th>\n",
       "      <th>Зарплата</th>\n",
       "      <th>Члены семьи</th>\n",
       "      <th>Страховые выплаты</th>\n",
       "    </tr>\n",
       "  </thead>\n",
       "  <tbody>\n",
       "    <tr>\n",
       "      <th>count</th>\n",
       "      <td>5000.000000</td>\n",
       "      <td>5000.000000</td>\n",
       "      <td>5000.000000</td>\n",
       "      <td>5000.000000</td>\n",
       "      <td>5000.000000</td>\n",
       "    </tr>\n",
       "    <tr>\n",
       "      <th>mean</th>\n",
       "      <td>0.499000</td>\n",
       "      <td>30.952800</td>\n",
       "      <td>39916.360000</td>\n",
       "      <td>1.194200</td>\n",
       "      <td>0.148000</td>\n",
       "    </tr>\n",
       "    <tr>\n",
       "      <th>std</th>\n",
       "      <td>0.500049</td>\n",
       "      <td>8.440807</td>\n",
       "      <td>9900.083569</td>\n",
       "      <td>1.091387</td>\n",
       "      <td>0.463183</td>\n",
       "    </tr>\n",
       "    <tr>\n",
       "      <th>min</th>\n",
       "      <td>0.000000</td>\n",
       "      <td>18.000000</td>\n",
       "      <td>5300.000000</td>\n",
       "      <td>0.000000</td>\n",
       "      <td>0.000000</td>\n",
       "    </tr>\n",
       "    <tr>\n",
       "      <th>25%</th>\n",
       "      <td>0.000000</td>\n",
       "      <td>24.000000</td>\n",
       "      <td>33300.000000</td>\n",
       "      <td>0.000000</td>\n",
       "      <td>0.000000</td>\n",
       "    </tr>\n",
       "    <tr>\n",
       "      <th>50%</th>\n",
       "      <td>0.000000</td>\n",
       "      <td>30.000000</td>\n",
       "      <td>40200.000000</td>\n",
       "      <td>1.000000</td>\n",
       "      <td>0.000000</td>\n",
       "    </tr>\n",
       "    <tr>\n",
       "      <th>75%</th>\n",
       "      <td>1.000000</td>\n",
       "      <td>37.000000</td>\n",
       "      <td>46600.000000</td>\n",
       "      <td>2.000000</td>\n",
       "      <td>0.000000</td>\n",
       "    </tr>\n",
       "    <tr>\n",
       "      <th>max</th>\n",
       "      <td>1.000000</td>\n",
       "      <td>65.000000</td>\n",
       "      <td>79000.000000</td>\n",
       "      <td>6.000000</td>\n",
       "      <td>5.000000</td>\n",
       "    </tr>\n",
       "  </tbody>\n",
       "</table>\n",
       "</div>"
      ],
      "text/plain": [
       "               Пол      Возраст      Зарплата  Члены семьи  Страховые выплаты\n",
       "count  5000.000000  5000.000000   5000.000000  5000.000000        5000.000000\n",
       "mean      0.499000    30.952800  39916.360000     1.194200           0.148000\n",
       "std       0.500049     8.440807   9900.083569     1.091387           0.463183\n",
       "min       0.000000    18.000000   5300.000000     0.000000           0.000000\n",
       "25%       0.000000    24.000000  33300.000000     0.000000           0.000000\n",
       "50%       0.000000    30.000000  40200.000000     1.000000           0.000000\n",
       "75%       1.000000    37.000000  46600.000000     2.000000           0.000000\n",
       "max       1.000000    65.000000  79000.000000     6.000000           5.000000"
      ]
     },
     "execution_count": 60,
     "metadata": {},
     "output_type": "execute_result"
    }
   ],
   "source": [
    "data.describe()"
   ]
  },
  {
   "cell_type": "code",
   "execution_count": 61,
   "metadata": {},
   "outputs": [
    {
     "data": {
      "text/plain": [
       "array([41., 46., 29., 21., 28., 43., 39., 25., 36., 32., 38., 23., 40.,\n",
       "       34., 26., 42., 27., 33., 47., 30., 19., 31., 22., 20., 24., 18.,\n",
       "       37., 48., 45., 44., 52., 49., 35., 56., 65., 55., 57., 54., 50.,\n",
       "       53., 51., 58., 59., 60., 61., 62.])"
      ]
     },
     "execution_count": 61,
     "metadata": {},
     "output_type": "execute_result"
    }
   ],
   "source": [
    "data['Возраст'].unique()"
   ]
  },
  {
   "cell_type": "code",
   "execution_count": 62,
   "metadata": {
    "scrolled": true
   },
   "outputs": [
    {
     "data": {
      "text/plain": [
       "array([49600., 38000., 21000., 41700., 26100., 41000., 39700., 38600.,\n",
       "       49700., 51700., 36600., 29300., 39500., 55000., 43700., 23300.,\n",
       "       48900., 33200., 36900., 43500., 36100., 26600., 48700., 40400.,\n",
       "       38400., 34600., 34800., 36800., 42200., 46300., 30300., 51000.,\n",
       "       28100., 64800., 30400., 45300., 38300., 49500., 19400., 40200.,\n",
       "       31700., 69200., 33100., 31600., 34500., 38700., 39600., 42400.,\n",
       "       34900., 30500., 24200., 49900., 14300., 47000., 44800., 43800.,\n",
       "       42700., 35400., 57200., 29600., 37400., 48100., 33700., 61800.,\n",
       "       39400., 15600., 52600., 37600., 52500., 32700., 51600., 60900.,\n",
       "       41800., 47400., 26500., 45900., 35700., 34300., 26700., 25700.,\n",
       "       33300., 31100., 31500., 42100., 37300., 42500., 27300., 46800.,\n",
       "       33500., 44300., 41600., 53900., 40100., 44600., 45000., 32000.,\n",
       "       38200., 33000., 38500., 51800., 33800., 46400., 43200., 31800.,\n",
       "       50200., 35100., 30700., 45800., 49300., 42800., 33600., 50300.,\n",
       "       34000., 36400., 44900., 43600., 54600., 52800., 29700., 39000.,\n",
       "       44100., 31900., 37700., 35200., 43100., 51300., 47500., 40800.,\n",
       "       26800., 64900., 35900., 31200., 39900., 43300., 33900., 40700.,\n",
       "       44700., 53400., 30600., 56000., 35600., 55200., 40600., 48300.,\n",
       "       50800., 41200., 44200., 44400., 40500., 39800., 16600., 48400.,\n",
       "       25100., 23100., 32100., 31000., 42900., 46700., 26000., 55900.,\n",
       "       52000., 41500., 49400., 60300., 45600., 49000., 37500., 21900.,\n",
       "       45100., 47900., 54300., 32400., 41300., 44500., 23200., 37900.,\n",
       "       48000., 52100., 45700., 29900., 42600., 45200., 36000., 46500.,\n",
       "       23800., 30200., 24400., 32800., 29000., 43400., 51500., 61700.,\n",
       "       45400., 50700., 36200., 41900., 27900., 47200., 48800., 55100.,\n",
       "       48200., 35500., 35000., 43900., 40000., 22000., 40300., 36300.,\n",
       "       49800., 25600., 42300., 54900., 25500., 32900., 36700., 38900.,\n",
       "       24700., 28800., 22900., 47300., 14500., 28700., 44000., 34100.,\n",
       "       53000., 59300., 28500., 47100., 41400., 58900., 17500., 54200.,\n",
       "       43000., 29800., 20000., 13800., 27500., 67700., 28000., 37100.,\n",
       "        8900., 14600., 56200., 38800., 27700., 50500., 58400., 34700.,\n",
       "       34400., 49100., 50900., 28200., 61500., 32500., 25900.,  9800.,\n",
       "       28300., 41100., 62000., 32600., 37200., 53800., 24000., 53600.,\n",
       "       54800., 59600., 20200., 21700., 29200., 38100., 20700., 32300.,\n",
       "       21200., 62100., 54000., 24500., 51900., 47800., 56100., 55300.,\n",
       "       58100., 28900., 39100., 58000., 27200., 24600., 30100., 57100.,\n",
       "       60100., 22200., 47700., 24900., 37800., 52700., 34200., 18700.,\n",
       "       42000., 26300., 22600., 30900., 35800., 30800., 51100., 53300.,\n",
       "       46200., 24100., 54700., 51200., 62300., 51400., 40900., 23400.,\n",
       "       35300., 55800., 33400., 21300., 30000., 56700., 46900.,  5300.,\n",
       "       39200., 57500., 31300., 53700., 21600., 50000., 36500., 16400.,\n",
       "       15900., 65100., 59900., 63200., 26200., 61200., 48500., 32200.,\n",
       "       29100., 50100., 22700., 28600., 23500., 23700., 19600., 17800.,\n",
       "       50600., 57900., 22500., 22100., 58300., 64100., 25000., 60400.,\n",
       "       59100., 37000., 62400., 29500., 25800., 25400., 26900., 21500.,\n",
       "       52200., 46600., 57300., 46100., 19300., 18900., 31400., 28400.,\n",
       "       29400., 17600., 13900., 52400., 11300., 46000., 60500., 58700.,\n",
       "       58200., 24800., 63700., 60600., 20400., 26400., 55600., 57000.,\n",
       "       45500., 48600., 57600., 52900., 62800., 17000., 56500., 52300.,\n",
       "       18400., 63300., 12900., 27000., 55700., 39300., 27800., 18300.,\n",
       "       56300., 59800., 24300., 14400., 13400., 17900., 47600., 54500.,\n",
       "       54400., 23900., 13000., 19900., 55400., 22800., 61000., 57400.,\n",
       "       23000., 20500., 53200., 18100., 25300., 59500., 18200., 50400.,\n",
       "       21100., 20900., 27400., 17300., 60700., 70600., 17700., 19700.,\n",
       "       49200., 63100., 59200., 14700., 53100., 21800., 68000., 16500.,\n",
       "       71400., 10000., 55500., 54100., 56400., 20600., 66300., 18800.,\n",
       "       11000., 66100., 27100., 57800., 53500., 19200., 58500., 64000.,\n",
       "       63600., 23600., 25200., 19100., 18600., 57700., 62700., 56600.,\n",
       "       21400., 58800., 68400., 17100., 13300., 68500., 56900., 64400.,\n",
       "       27600., 67200., 16200., 58600., 62200., 16000., 79000., 22300.,\n",
       "       11200., 71600., 61300., 70500., 67100., 59000., 13500., 16700.,\n",
       "       15700., 60000., 17400., 63400., 61900., 65200., 62600., 14100.,\n",
       "       20100., 63800., 15100., 70000., 60200., 20300., 65900., 15200.,\n",
       "       63500., 13200., 68900., 12200.,  6000., 74800., 59700., 10800.,\n",
       "       19000., 10600., 69400., 15000., 75200., 62500., 16300., 20800.,\n",
       "        7400., 65300., 61400., 56800.])"
      ]
     },
     "execution_count": 62,
     "metadata": {},
     "output_type": "execute_result"
    }
   ],
   "source": [
    "data['Зарплата'].unique()"
   ]
  },
  {
   "cell_type": "code",
   "execution_count": 63,
   "metadata": {},
   "outputs": [],
   "source": [
    "data['Возраст'] = data['Возраст'].astype('int')"
   ]
  },
  {
   "cell_type": "code",
   "execution_count": 64,
   "metadata": {},
   "outputs": [],
   "source": [
    "data['Зарплата'] = data['Зарплата'].astype('int')"
   ]
  },
  {
   "cell_type": "code",
   "execution_count": 65,
   "metadata": {},
   "outputs": [
    {
     "name": "stdout",
     "output_type": "stream",
     "text": [
      "<class 'pandas.core.frame.DataFrame'>\n",
      "RangeIndex: 5000 entries, 0 to 4999\n",
      "Data columns (total 5 columns):\n",
      " #   Column             Non-Null Count  Dtype\n",
      "---  ------             --------------  -----\n",
      " 0   Пол                5000 non-null   int64\n",
      " 1   Возраст            5000 non-null   int64\n",
      " 2   Зарплата           5000 non-null   int64\n",
      " 3   Члены семьи        5000 non-null   int64\n",
      " 4   Страховые выплаты  5000 non-null   int64\n",
      "dtypes: int64(5)\n",
      "memory usage: 195.4 KB\n"
     ]
    }
   ],
   "source": [
    "data.info()"
   ]
  },
  {
   "cell_type": "markdown",
   "metadata": {},
   "source": [
    "В данных не было обнаружено аномалий. Решил поменять значения столбцов на целочисленные для ускорения работы, а сделал я это потому что в данных нет дробных значений."
   ]
  },
  {
   "cell_type": "markdown",
   "metadata": {},
   "source": [
    "Создаем обратимую матрицу"
   ]
  },
  {
   "cell_type": "code",
   "execution_count": 66,
   "metadata": {},
   "outputs": [
    {
     "data": {
      "text/plain": [
       "array([[-1.23739864,  0.27826737,  0.13904347,  0.94207878],\n",
       "       [ 0.7318193 ,  3.85379302, -0.44221667, -1.83820173],\n",
       "       [ 1.86098469,  1.95182334, -1.88513437,  0.27103475],\n",
       "       [-1.10753573, -6.08945435,  2.97360952,  0.89554918]])"
      ]
     },
     "execution_count": 66,
     "metadata": {},
     "output_type": "execute_result"
    }
   ],
   "source": [
    "invert = np.random.rand(4, 4)\n",
    "np.linalg.inv(invert)"
   ]
  },
  {
   "cell_type": "code",
   "execution_count": 67,
   "metadata": {},
   "outputs": [
    {
     "name": "stdout",
     "output_type": "stream",
     "text": [
      "(5000, 4)\n",
      "(5000,)\n"
     ]
    }
   ],
   "source": [
    "features = data.drop('Страховые выплаты', axis=1)\n",
    "target = data['Страховые выплаты']\n",
    "print(features.shape)\n",
    "print(target.shape)"
   ]
  },
  {
   "cell_type": "code",
   "execution_count": 68,
   "metadata": {},
   "outputs": [],
   "source": [
    "def predictions(features, target):\n",
    "    model = LinearRegression()\n",
    "    model.fit(features, target)\n",
    "    score = model.score(features, target)\n",
    "    return score"
   ]
  },
  {
   "cell_type": "markdown",
   "metadata": {},
   "source": [
    "R2 для обычной матрицы"
   ]
  },
  {
   "cell_type": "code",
   "execution_count": 69,
   "metadata": {},
   "outputs": [
    {
     "data": {
      "text/plain": [
       "0.42494550308169177"
      ]
     },
     "execution_count": 69,
     "metadata": {},
     "output_type": "execute_result"
    }
   ],
   "source": [
    "predictions(features, target)"
   ]
  },
  {
   "cell_type": "markdown",
   "metadata": {},
   "source": [
    "R2 для матрицы умноженной на обратимую"
   ]
  },
  {
   "cell_type": "code",
   "execution_count": 70,
   "metadata": {},
   "outputs": [
    {
     "data": {
      "text/plain": [
       "0.42494550308169365"
      ]
     },
     "execution_count": 70,
     "metadata": {},
     "output_type": "execute_result"
    }
   ],
   "source": [
    "x = features @ invert\n",
    "predictions(x, target)"
   ]
  },
  {
   "cell_type": "markdown",
   "metadata": {},
   "source": [
    "*Вывод: качество линейной регрессии при умножении на обратимую матрицу не меняется.*"
   ]
  },
  {
   "cell_type": "markdown",
   "metadata": {},
   "source": [
    "## Умножение матриц"
   ]
  },
  {
   "cell_type": "markdown",
   "metadata": {},
   "source": [
    "В этом задании вы можете записывать формулы в *Jupyter Notebook.*\n",
    "\n",
    "Чтобы записать формулу внутри текста, окружите её символами доллара \\\\$; если снаружи —  двойными символами \\\\$\\\\$. Эти формулы записываются на языке вёрстки *LaTeX.* \n",
    "\n",
    "Для примера мы записали формулы линейной регрессии. Можете их скопировать и отредактировать, чтобы решить задачу.\n",
    "\n",
    "Работать в *LaTeX* необязательно."
   ]
  },
  {
   "cell_type": "markdown",
   "metadata": {},
   "source": [
    "Обозначения:\n",
    "\n",
    "- $X$ — матрица признаков (нулевой столбец состоит из единиц)\n",
    "\n",
    "- $y$ — вектор целевого признака\n",
    "\n",
    "- $P$ — матрица, на которую умножаются признаки\n",
    "\n",
    "- $w$ — вектор весов линейной регрессии (нулевой элемент равен сдвигу)"
   ]
  },
  {
   "cell_type": "markdown",
   "metadata": {},
   "source": [
    "Предсказания:\n",
    "\n",
    "$$\n",
    "a = Xw\n",
    "$$\n",
    "\n",
    "Задача обучения:\n",
    "\n",
    "$$\n",
    "w = \\arg\\min_w MSE(Xw, y)\n",
    "$$\n",
    "\n",
    "Формула обучения:\n",
    "\n",
    "$$\n",
    "w = (X^T X)^{-1} X^T y\n",
    "$$"
   ]
  },
  {
   "cell_type": "markdown",
   "metadata": {},
   "source": [
    "**Ответ:** \n",
    "R2 не поменяется\n",
    "\n",
    "\n",
    "\n",
    "**Обоснование:** \n",
    "\n",
    "Задача обучения заключается в минимизации MSE между вектором предсказаний и целевым вектором:\n",
    "\n",
    "$\n",
    "w = \\arg\\min_w MSE(Xw, y) \n",
    "$\n",
    "\n",
    "Новая матрица равна:\n",
    "\n",
    "$\n",
    "A = XP\n",
    "$\n",
    "\n",
    "Соответсвенно новая задача обучения выглядит так:\n",
    "\n",
    "$\n",
    "w_p = \\arg\\min_w MSE(XPw_p, y) \n",
    "$\n",
    "\n",
    "Первый аргумент можно преобразовать вот так:\n",
    "\n",
    "$\n",
    "XPw_p = XP ((XP)^T XP)^{-1} (XP)^T y = XP(P^T X^T X P)^{-1} (XP)^T y\n",
    "$\n",
    "\n",
    "Матрица $Х^T$ имеет размерность 4 на 5000, а матрица $Х$ - 5000 на 4, следовательно их произведение даст квадратную матрицу с размерностью 5000 на 5000. В итоге в скобке получается 3 квадртаные матрицы и их можно раскрыть по свойству.\n",
    "\n",
    "$\n",
    "XPw_p = XP P^{-1} (X^TX)^{-1} (P^T)^{-1} P^T X^T y = XP P^{-1} (X^TX)^{-1} X^T y = X(X^TX)^{-1} X^T y\n",
    "$\n",
    "\n",
    "В итоге:\n",
    "$\n",
    "XPw_p = X(X^TX)^{-1} X^T y, и XPw = X(X^TX)^{-1} X^T y, следовательно XPw_p = XPw\n",
    "$\n"
   ]
  },
  {
   "cell_type": "markdown",
   "metadata": {},
   "source": [
    "## Алгоритм преобразования"
   ]
  },
  {
   "cell_type": "markdown",
   "metadata": {},
   "source": [
    "**Алгоритм**\n",
    "\n",
    "Для защиты информации предлагаю умножить исходную матрицу признаков на обратимую матрицу.\n",
    "\n",
    "Этапы:\n",
    "\n",
    "1) Создание функции для генерации обратимой матрицы, размером с количество признаков.\n",
    "\n",
    "2) Проверка матрицы на обратимость\n",
    "\n",
    "3) Создание новой матрицы признаков путем умножения исходной матрицы на обратимую новую\n"
   ]
  },
  {
   "cell_type": "markdown",
   "metadata": {},
   "source": [
    "**Обоснование**\n",
    "\n",
    "Поскольку метрика R2 не изменилась на преобразованных данных - мы можем применить такой метод дальше."
   ]
  },
  {
   "cell_type": "markdown",
   "metadata": {},
   "source": [
    "## Проверка алгоритма"
   ]
  },
  {
   "cell_type": "code",
   "execution_count": 71,
   "metadata": {},
   "outputs": [],
   "source": [
    "features_train, features_test, target_train, target_test = train_test_split(features, target, test_size=0.25, random_state=12345)"
   ]
  },
  {
   "cell_type": "code",
   "execution_count": 72,
   "metadata": {},
   "outputs": [
    {
     "name": "stdout",
     "output_type": "stream",
     "text": [
      "R2 на исходной выборке: 0.4352275684083322\n"
     ]
    }
   ],
   "source": [
    "model = LinearRegression()\n",
    "model.fit(features_train, target_train)\n",
    "pred = model.predict(features_test)\n",
    "print('R2 на исходной выборке:', r2_score(target_test, pred))"
   ]
  },
  {
   "cell_type": "markdown",
   "metadata": {},
   "source": [
    "Создаем обратимую матрицу."
   ]
  },
  {
   "cell_type": "code",
   "execution_count": 73,
   "metadata": {},
   "outputs": [
    {
     "data": {
      "text/plain": [
       "array([[5.78275993e-01, 4.41324504e-01, 2.03882251e-01, 1.00348478e-01],\n",
       "       [4.68854154e-01, 4.15790672e-01, 2.62313401e-02, 2.78110569e-01],\n",
       "       [9.72647884e-01, 7.91547618e-01, 1.39098447e-01, 1.17156361e-01],\n",
       "       [1.95686532e-04, 5.92313412e-02, 2.93137718e-02, 9.02893025e-01]])"
      ]
     },
     "execution_count": 73,
     "metadata": {},
     "output_type": "execute_result"
    }
   ],
   "source": [
    "def func(dim):\n",
    "    transform_matrix = np.random.rand(dim, dim)\n",
    "    try: \n",
    "        inv = np.linalg.inv(transform_matrix)\n",
    "        return transform_matrix, inv\n",
    "    except:\n",
    "        func(dim)\n",
    "inv"
   ]
  },
  {
   "cell_type": "markdown",
   "metadata": {},
   "source": [
    "Создаем зашифрованные признаки."
   ]
  },
  {
   "cell_type": "code",
   "execution_count": 74,
   "metadata": {},
   "outputs": [],
   "source": [
    "new_features = features @ inv"
   ]
  },
  {
   "cell_type": "code",
   "execution_count": 75,
   "metadata": {},
   "outputs": [
    {
     "data": {
      "text/html": [
       "<div>\n",
       "<style scoped>\n",
       "    .dataframe tbody tr th:only-of-type {\n",
       "        vertical-align: middle;\n",
       "    }\n",
       "\n",
       "    .dataframe tbody tr th {\n",
       "        vertical-align: top;\n",
       "    }\n",
       "\n",
       "    .dataframe thead th {\n",
       "        text-align: right;\n",
       "    }\n",
       "</style>\n",
       "<table border=\"1\" class=\"dataframe\">\n",
       "  <thead>\n",
       "    <tr style=\"text-align: right;\">\n",
       "      <th></th>\n",
       "      <th>0</th>\n",
       "      <th>1</th>\n",
       "      <th>2</th>\n",
       "      <th>3</th>\n",
       "    </tr>\n",
       "  </thead>\n",
       "  <tbody>\n",
       "    <tr>\n",
       "      <th>0</th>\n",
       "      <td>48263.136529</td>\n",
       "      <td>39278.309807</td>\n",
       "      <td>6900.591670</td>\n",
       "      <td>5823.361282</td>\n",
       "    </tr>\n",
       "    <tr>\n",
       "      <th>1</th>\n",
       "      <td>36982.187071</td>\n",
       "      <td>30097.995071</td>\n",
       "      <td>5286.976955</td>\n",
       "      <td>4465.637698</td>\n",
       "    </tr>\n",
       "    <tr>\n",
       "      <th>2</th>\n",
       "      <td>20439.202330</td>\n",
       "      <td>16634.557899</td>\n",
       "      <td>2921.828103</td>\n",
       "      <td>2468.348788</td>\n",
       "    </tr>\n",
       "    <tr>\n",
       "      <th>3</th>\n",
       "      <td>40569.263083</td>\n",
       "      <td>33016.385721</td>\n",
       "      <td>5801.014740</td>\n",
       "      <td>4893.066363</td>\n",
       "    </tr>\n",
       "    <tr>\n",
       "      <th>4</th>\n",
       "      <td>25399.815960</td>\n",
       "      <td>20671.476283</td>\n",
       "      <td>3631.407836</td>\n",
       "      <td>3065.668467</td>\n",
       "    </tr>\n",
       "  </tbody>\n",
       "</table>\n",
       "</div>"
      ],
      "text/plain": [
       "              0             1            2            3\n",
       "0  48263.136529  39278.309807  6900.591670  5823.361282\n",
       "1  36982.187071  30097.995071  5286.976955  4465.637698\n",
       "2  20439.202330  16634.557899  2921.828103  2468.348788\n",
       "3  40569.263083  33016.385721  5801.014740  4893.066363\n",
       "4  25399.815960  20671.476283  3631.407836  3065.668467"
      ]
     },
     "execution_count": 75,
     "metadata": {},
     "output_type": "execute_result"
    }
   ],
   "source": [
    "new_features.head(5)"
   ]
  },
  {
   "cell_type": "code",
   "execution_count": 76,
   "metadata": {},
   "outputs": [],
   "source": [
    "features_train, features_test, target_train, target_test = train_test_split(new_features, target, test_size=0.25, random_state=12345)"
   ]
  },
  {
   "cell_type": "code",
   "execution_count": 77,
   "metadata": {},
   "outputs": [
    {
     "name": "stdout",
     "output_type": "stream",
     "text": [
      "R2 на преобразованной выборке: 0.4352275683833773\n"
     ]
    }
   ],
   "source": [
    "model = LinearRegression()\n",
    "model.fit(features_train, target_train)\n",
    "pred = model.predict(features_test)\n",
    "print('R2 на преобразованной выборке:', r2_score(target_test, pred))"
   ]
  },
  {
   "cell_type": "markdown",
   "metadata": {},
   "source": [
    "В ходе работы было проделано:\n",
    "\n",
    "1)Загружены и изучены данные.\n",
    "\n",
    "2)Качество линейной регресии не изменилось от использования исодной матрици и исходной матрицы, умноженную на обратимую.\n",
    "\n",
    "3)Создан алгоритм преобразования данных.\n",
    "\n",
    "4)Исследован алгоритм преобразования данных и проверена метрика R2 для данных без преобразования и с ним.\n",
    "\n",
    "По результатам работы использования матричных операций можно увидеть, что данные очень просто зашифровать от распознования, имея правильную матрицу."
   ]
  }
 ],
 "metadata": {
  "ExecuteTimeLog": [
   {
    "duration": 483,
    "start_time": "2023-05-12T10:02:24.577Z"
   },
   {
    "duration": 104,
    "start_time": "2023-05-12T10:02:53.694Z"
   },
   {
    "duration": 37,
    "start_time": "2023-05-12T10:02:57.175Z"
   },
   {
    "duration": 29,
    "start_time": "2023-05-12T10:03:12.396Z"
   },
   {
    "duration": 12,
    "start_time": "2023-05-12T10:03:31.127Z"
   },
   {
    "duration": 1011,
    "start_time": "2023-05-12T10:03:52.119Z"
   },
   {
    "duration": 921,
    "start_time": "2023-05-12T10:04:15.500Z"
   },
   {
    "duration": 980,
    "start_time": "2023-05-12T10:04:26.832Z"
   },
   {
    "duration": 12,
    "start_time": "2023-05-12T10:10:27.794Z"
   },
   {
    "duration": 48,
    "start_time": "2023-05-12T10:10:30.924Z"
   },
   {
    "duration": 433,
    "start_time": "2023-05-15T07:19:02.910Z"
   },
   {
    "duration": 94,
    "start_time": "2023-05-15T07:19:03.345Z"
   },
   {
    "duration": 10,
    "start_time": "2023-05-15T07:19:03.440Z"
   },
   {
    "duration": 972,
    "start_time": "2023-05-15T07:19:03.564Z"
   },
   {
    "duration": 24,
    "start_time": "2023-05-15T07:19:04.539Z"
   },
   {
    "duration": 64,
    "start_time": "2023-05-15T07:22:33.661Z"
   },
   {
    "duration": 7,
    "start_time": "2023-05-15T07:22:47.389Z"
   },
   {
    "duration": 231,
    "start_time": "2023-05-15T07:22:56.901Z"
   },
   {
    "duration": 3,
    "start_time": "2023-05-15T07:23:43.815Z"
   },
   {
    "duration": 6,
    "start_time": "2023-05-15T07:24:21.511Z"
   },
   {
    "duration": 8,
    "start_time": "2023-05-15T07:24:32.689Z"
   },
   {
    "duration": 4,
    "start_time": "2023-05-15T07:24:37.239Z"
   },
   {
    "duration": 5,
    "start_time": "2023-05-15T07:24:43.547Z"
   },
   {
    "duration": 978,
    "start_time": "2023-05-15T07:30:17.395Z"
   },
   {
    "duration": 2,
    "start_time": "2023-05-15T07:30:48.174Z"
   },
   {
    "duration": 44,
    "start_time": "2023-05-15T07:30:58.378Z"
   },
   {
    "duration": 3,
    "start_time": "2023-05-15T07:31:10.227Z"
   },
   {
    "duration": 10,
    "start_time": "2023-05-15T07:31:10.698Z"
   },
   {
    "duration": 1014,
    "start_time": "2023-05-15T07:32:35.979Z"
   },
   {
    "duration": 399,
    "start_time": "2023-05-15T07:33:02.844Z"
   },
   {
    "duration": 601,
    "start_time": "2023-05-15T07:33:27.853Z"
   },
   {
    "duration": 70,
    "start_time": "2023-05-15T07:33:51.620Z"
   },
   {
    "duration": 30,
    "start_time": "2023-05-15T07:33:51.820Z"
   },
   {
    "duration": 10,
    "start_time": "2023-05-15T07:33:52.003Z"
   },
   {
    "duration": 651,
    "start_time": "2023-05-15T07:33:52.212Z"
   },
   {
    "duration": 20,
    "start_time": "2023-05-15T07:33:52.865Z"
   },
   {
    "duration": 5,
    "start_time": "2023-05-15T07:33:52.886Z"
   },
   {
    "duration": 4,
    "start_time": "2023-05-15T07:33:53.028Z"
   },
   {
    "duration": 3,
    "start_time": "2023-05-15T07:33:53.252Z"
   },
   {
    "duration": 18,
    "start_time": "2023-05-15T07:33:53.683Z"
   },
   {
    "duration": 762,
    "start_time": "2023-05-15T07:33:54.436Z"
   },
   {
    "duration": 7,
    "start_time": "2023-05-15T07:37:42.646Z"
   },
   {
    "duration": 8,
    "start_time": "2023-05-15T07:37:49.877Z"
   },
   {
    "duration": 8,
    "start_time": "2023-05-15T07:38:00.894Z"
   },
   {
    "duration": 19,
    "start_time": "2023-05-15T07:38:22.422Z"
   },
   {
    "duration": 76,
    "start_time": "2023-05-15T11:46:38.699Z"
   },
   {
    "duration": 43,
    "start_time": "2023-05-15T11:46:51.136Z"
   },
   {
    "duration": 15,
    "start_time": "2023-05-15T11:49:21.630Z"
   },
   {
    "duration": 12,
    "start_time": "2023-05-15T12:01:17.141Z"
   },
   {
    "duration": 13,
    "start_time": "2023-05-15T12:01:28.703Z"
   },
   {
    "duration": 8,
    "start_time": "2023-05-15T12:02:35.666Z"
   },
   {
    "duration": 4,
    "start_time": "2023-05-15T12:04:55.730Z"
   },
   {
    "duration": 5,
    "start_time": "2023-05-15T12:05:28.460Z"
   },
   {
    "duration": 3,
    "start_time": "2023-05-15T12:06:01.044Z"
   },
   {
    "duration": 5,
    "start_time": "2023-05-15T12:06:29.148Z"
   },
   {
    "duration": 18,
    "start_time": "2023-05-15T12:07:10.405Z"
   },
   {
    "duration": 11,
    "start_time": "2023-05-15T12:08:18.380Z"
   },
   {
    "duration": 8,
    "start_time": "2023-05-15T12:08:33.732Z"
   },
   {
    "duration": 5,
    "start_time": "2023-05-15T12:11:35.678Z"
   },
   {
    "duration": 8,
    "start_time": "2023-05-15T12:11:47.582Z"
   },
   {
    "duration": 7,
    "start_time": "2023-05-15T12:12:13.423Z"
   },
   {
    "duration": 4,
    "start_time": "2023-05-15T12:12:30.239Z"
   },
   {
    "duration": 13,
    "start_time": "2023-05-15T12:12:36.593Z"
   },
   {
    "duration": 2832,
    "start_time": "2023-05-16T06:37:00.518Z"
   },
   {
    "duration": 90,
    "start_time": "2023-05-16T06:37:03.352Z"
   },
   {
    "duration": 13,
    "start_time": "2023-05-16T06:37:03.444Z"
   },
   {
    "duration": 1135,
    "start_time": "2023-05-16T06:37:03.459Z"
   },
   {
    "duration": 35,
    "start_time": "2023-05-16T06:37:04.598Z"
   },
   {
    "duration": 6,
    "start_time": "2023-05-16T06:37:04.635Z"
   },
   {
    "duration": 20,
    "start_time": "2023-05-16T06:37:04.643Z"
   },
   {
    "duration": 13,
    "start_time": "2023-05-16T06:37:04.666Z"
   },
   {
    "duration": 4,
    "start_time": "2023-05-16T06:37:04.697Z"
   },
   {
    "duration": 28,
    "start_time": "2023-05-16T06:37:04.703Z"
   },
   {
    "duration": 66,
    "start_time": "2023-05-16T06:37:04.733Z"
   },
   {
    "duration": 7,
    "start_time": "2023-05-16T06:37:04.801Z"
   },
   {
    "duration": 89,
    "start_time": "2023-05-16T06:37:04.810Z"
   },
   {
    "duration": 97,
    "start_time": "2023-05-16T06:37:04.902Z"
   },
   {
    "duration": 124,
    "start_time": "2023-05-16T06:37:05.001Z"
   },
   {
    "duration": 188,
    "start_time": "2023-05-16T06:37:05.128Z"
   },
   {
    "duration": 14,
    "start_time": "2023-05-16T06:37:05.318Z"
   },
   {
    "duration": 13,
    "start_time": "2023-05-16T06:37:05.334Z"
   },
   {
    "duration": 53,
    "start_time": "2023-05-16T06:37:05.349Z"
   },
   {
    "duration": 103,
    "start_time": "2023-05-16T06:37:05.405Z"
   },
   {
    "duration": 13,
    "start_time": "2023-05-16T06:37:05.510Z"
   },
   {
    "duration": 13,
    "start_time": "2023-05-16T06:37:05.525Z"
   },
   {
    "duration": 1118,
    "start_time": "2023-05-16T07:27:57.793Z"
   },
   {
    "duration": 86,
    "start_time": "2023-05-16T07:28:01.403Z"
   },
   {
    "duration": 12,
    "start_time": "2023-05-16T07:28:01.756Z"
   },
   {
    "duration": 956,
    "start_time": "2023-05-16T07:28:11.132Z"
   },
   {
    "duration": 25,
    "start_time": "2023-05-16T07:29:23.244Z"
   },
   {
    "duration": 5,
    "start_time": "2023-05-16T07:29:23.605Z"
   },
   {
    "duration": 7,
    "start_time": "2023-05-16T07:29:24.022Z"
   },
   {
    "duration": 3,
    "start_time": "2023-05-16T07:29:24.498Z"
   },
   {
    "duration": 4,
    "start_time": "2023-05-16T07:29:24.813Z"
   },
   {
    "duration": 10,
    "start_time": "2023-05-16T07:29:25.189Z"
   },
   {
    "duration": 10,
    "start_time": "2023-05-16T07:29:30.505Z"
   },
   {
    "duration": 6,
    "start_time": "2023-05-16T07:29:30.736Z"
   },
   {
    "duration": 3,
    "start_time": "2023-05-16T07:29:30.955Z"
   },
   {
    "duration": 13,
    "start_time": "2023-05-16T07:29:31.429Z"
   },
   {
    "duration": 10,
    "start_time": "2023-05-16T07:29:32.012Z"
   },
   {
    "duration": 3,
    "start_time": "2023-05-16T11:27:07.964Z"
   },
   {
    "duration": 4,
    "start_time": "2023-05-16T11:27:46.859Z"
   },
   {
    "duration": 117,
    "start_time": "2023-05-16T11:27:50.912Z"
   },
   {
    "duration": 3,
    "start_time": "2023-05-16T11:28:34.938Z"
   },
   {
    "duration": 9,
    "start_time": "2023-05-16T11:28:37.676Z"
   },
   {
    "duration": 3,
    "start_time": "2023-05-16T11:29:04.755Z"
   },
   {
    "duration": 10,
    "start_time": "2023-05-16T11:29:05.901Z"
   },
   {
    "duration": 4,
    "start_time": "2023-05-16T11:29:25.260Z"
   },
   {
    "duration": 10,
    "start_time": "2023-05-16T11:29:30.253Z"
   },
   {
    "duration": 284,
    "start_time": "2023-05-16T11:29:39.201Z"
   },
   {
    "duration": 32,
    "start_time": "2023-05-16T11:29:39.487Z"
   },
   {
    "duration": 11,
    "start_time": "2023-05-16T11:29:39.897Z"
   },
   {
    "duration": 582,
    "start_time": "2023-05-16T11:29:40.257Z"
   },
   {
    "duration": 22,
    "start_time": "2023-05-16T11:29:41.260Z"
   },
   {
    "duration": 4,
    "start_time": "2023-05-16T11:29:41.659Z"
   },
   {
    "duration": 8,
    "start_time": "2023-05-16T11:29:41.960Z"
   },
   {
    "duration": 4,
    "start_time": "2023-05-16T11:29:42.209Z"
   },
   {
    "duration": 3,
    "start_time": "2023-05-16T11:29:42.501Z"
   },
   {
    "duration": 11,
    "start_time": "2023-05-16T11:29:42.762Z"
   },
   {
    "duration": 5,
    "start_time": "2023-05-16T11:29:43.822Z"
   },
   {
    "duration": 5,
    "start_time": "2023-05-16T11:29:44.098Z"
   },
   {
    "duration": 3,
    "start_time": "2023-05-16T11:29:44.904Z"
   },
   {
    "duration": 26,
    "start_time": "2023-05-16T11:29:45.858Z"
   },
   {
    "duration": 9,
    "start_time": "2023-05-16T11:29:47.161Z"
   },
   {
    "duration": 6,
    "start_time": "2023-05-16T11:29:52.205Z"
   },
   {
    "duration": 8,
    "start_time": "2023-05-16T11:29:52.513Z"
   },
   {
    "duration": 5,
    "start_time": "2023-05-16T11:29:57.029Z"
   },
   {
    "duration": 3,
    "start_time": "2023-05-16T11:29:57.613Z"
   },
   {
    "duration": 3,
    "start_time": "2023-05-16T11:30:02.309Z"
   },
   {
    "duration": 9,
    "start_time": "2023-05-16T11:30:04.462Z"
   },
   {
    "duration": 6,
    "start_time": "2023-05-16T11:30:05.862Z"
   },
   {
    "duration": 9,
    "start_time": "2023-05-16T11:30:06.509Z"
   },
   {
    "duration": 10,
    "start_time": "2023-05-16T11:31:28.960Z"
   },
   {
    "duration": 3,
    "start_time": "2023-05-16T11:31:32.758Z"
   },
   {
    "duration": 8,
    "start_time": "2023-05-16T11:31:33.460Z"
   },
   {
    "duration": 5,
    "start_time": "2023-05-16T11:32:53.375Z"
   },
   {
    "duration": 3,
    "start_time": "2023-05-16T11:33:00.031Z"
   },
   {
    "duration": 8,
    "start_time": "2023-05-16T11:33:00.473Z"
   },
   {
    "duration": 5,
    "start_time": "2023-05-16T11:33:01.405Z"
   },
   {
    "duration": 8,
    "start_time": "2023-05-16T11:33:01.697Z"
   },
   {
    "duration": 161,
    "start_time": "2023-05-16T11:33:12.202Z"
   },
   {
    "duration": 33,
    "start_time": "2023-05-16T11:33:12.472Z"
   },
   {
    "duration": 9,
    "start_time": "2023-05-16T11:33:12.673Z"
   },
   {
    "duration": 463,
    "start_time": "2023-05-16T11:33:12.877Z"
   },
   {
    "duration": 21,
    "start_time": "2023-05-16T11:33:13.410Z"
   },
   {
    "duration": 5,
    "start_time": "2023-05-16T11:33:13.571Z"
   },
   {
    "duration": 7,
    "start_time": "2023-05-16T11:33:14.073Z"
   },
   {
    "duration": 12,
    "start_time": "2023-05-16T11:33:14.082Z"
   },
   {
    "duration": 3,
    "start_time": "2023-05-16T11:33:14.113Z"
   },
   {
    "duration": 11,
    "start_time": "2023-05-16T11:33:14.173Z"
   },
   {
    "duration": 8,
    "start_time": "2023-05-16T11:33:14.276Z"
   },
   {
    "duration": 77,
    "start_time": "2023-05-16T11:33:14.312Z"
   },
   {
    "duration": 13,
    "start_time": "2023-05-16T11:33:14.391Z"
   },
   {
    "duration": 69,
    "start_time": "2023-05-16T11:33:14.421Z"
   },
   {
    "duration": 11,
    "start_time": "2023-05-16T11:33:16.118Z"
   },
   {
    "duration": 6,
    "start_time": "2023-05-16T11:33:18.678Z"
   },
   {
    "duration": 9,
    "start_time": "2023-05-16T11:33:18.973Z"
   },
   {
    "duration": 5,
    "start_time": "2023-05-16T11:33:19.360Z"
   },
   {
    "duration": 3,
    "start_time": "2023-05-16T11:33:20.308Z"
   },
   {
    "duration": 8,
    "start_time": "2023-05-16T11:33:20.677Z"
   },
   {
    "duration": 5,
    "start_time": "2023-05-16T11:33:21.065Z"
   },
   {
    "duration": 8,
    "start_time": "2023-05-16T11:33:21.670Z"
   }
  ],
  "kernelspec": {
   "display_name": "Python 3 (ipykernel)",
   "language": "python",
   "name": "python3"
  },
  "language_info": {
   "codemirror_mode": {
    "name": "ipython",
    "version": 3
   },
   "file_extension": ".py",
   "mimetype": "text/x-python",
   "name": "python",
   "nbconvert_exporter": "python",
   "pygments_lexer": "ipython3",
   "version": "3.9.5"
  },
  "toc": {
   "base_numbering": 1,
   "nav_menu": {},
   "number_sections": true,
   "sideBar": true,
   "skip_h1_title": true,
   "title_cell": "Содержание",
   "title_sidebar": "Contents",
   "toc_cell": true,
   "toc_position": {
    "height": "calc(100% - 180px)",
    "left": "10px",
    "top": "150px",
    "width": "165px"
   },
   "toc_section_display": true,
   "toc_window_display": false
  }
 },
 "nbformat": 4,
 "nbformat_minor": 2
}
