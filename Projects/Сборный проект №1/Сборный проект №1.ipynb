{
 "cells": [
  {
   "cell_type": "markdown",
   "metadata": {},
   "source": [
    "# Исследование закономерностей, определяющих успешность продаж игр\n"
   ]
  },
  {
   "cell_type": "markdown",
   "metadata": {},
   "source": [
    "В моем распоряжении исторические данные о продажах игр, оценки пользователей и экспертов, жанры и платформы (например, Xbox или PlayStation). Мне нужно выявить определяющие успешность игры закономерности. Это позволит сделать ставку на потенциально популярный продукт и спланировать рекламные кампании.\n",
    "У меня данные до 2016 года и мне нужно планировать рекламную кампанию на 2017-й. \n",
    "\n",
    "Мне необходимо определить период, на основе которого можно будет сделать прогноз. На этом периоде выяснить:\n",
    "\n",
    "1) Какие платформы самые популярные?\n",
    "\n",
    "2) Как влияют на продажи игр по платформам отзывы пользователей и критиков?\n",
    "\n",
    "3) Какие жанры самые популярные?\n",
    "\n",
    "4) На какой рейтинг ESRB стоит сделать акцент?\n",
    "\n",
    "5) На какой регион стоит сделать акцент?\n",
    "\n",
    "6) А также проверить две гипотезы: Средние пользовательские рейтинги платформ Xbox One и PC одинаковые; Средние пользовательские рейтинги жанров Action (англ. «действие», экшен-игры) и Sports (англ. «спортивные соревнования») разные."
   ]
  },
  {
   "cell_type": "markdown",
   "metadata": {},
   "source": [
    "### Изучение общей информации"
   ]
  },
  {
   "cell_type": "code",
   "execution_count": 1,
   "metadata": {},
   "outputs": [],
   "source": [
    "import pandas as pd\n",
    "import seaborn as sns\n",
    "import matplotlib.pyplot as plt \n",
    "import numpy as np\n",
    "from scipy import stats as st"
   ]
  },
  {
   "cell_type": "code",
   "execution_count": 2,
   "metadata": {},
   "outputs": [],
   "source": [
    "data = pd.read_csv('/datasets/games.csv')"
   ]
  },
  {
   "cell_type": "code",
   "execution_count": 3,
   "metadata": {},
   "outputs": [
    {
     "data": {
      "text/html": [
       "<div>\n",
       "<style scoped>\n",
       "    .dataframe tbody tr th:only-of-type {\n",
       "        vertical-align: middle;\n",
       "    }\n",
       "\n",
       "    .dataframe tbody tr th {\n",
       "        vertical-align: top;\n",
       "    }\n",
       "\n",
       "    .dataframe thead th {\n",
       "        text-align: right;\n",
       "    }\n",
       "</style>\n",
       "<table border=\"1\" class=\"dataframe\">\n",
       "  <thead>\n",
       "    <tr style=\"text-align: right;\">\n",
       "      <th></th>\n",
       "      <th>Name</th>\n",
       "      <th>Platform</th>\n",
       "      <th>Year_of_Release</th>\n",
       "      <th>Genre</th>\n",
       "      <th>NA_sales</th>\n",
       "      <th>EU_sales</th>\n",
       "      <th>JP_sales</th>\n",
       "      <th>Other_sales</th>\n",
       "      <th>Critic_Score</th>\n",
       "      <th>User_Score</th>\n",
       "      <th>Rating</th>\n",
       "    </tr>\n",
       "  </thead>\n",
       "  <tbody>\n",
       "    <tr>\n",
       "      <th>0</th>\n",
       "      <td>Wii Sports</td>\n",
       "      <td>Wii</td>\n",
       "      <td>2006.0</td>\n",
       "      <td>Sports</td>\n",
       "      <td>41.36</td>\n",
       "      <td>28.96</td>\n",
       "      <td>3.77</td>\n",
       "      <td>8.45</td>\n",
       "      <td>76.0</td>\n",
       "      <td>8</td>\n",
       "      <td>E</td>\n",
       "    </tr>\n",
       "    <tr>\n",
       "      <th>1</th>\n",
       "      <td>Super Mario Bros.</td>\n",
       "      <td>NES</td>\n",
       "      <td>1985.0</td>\n",
       "      <td>Platform</td>\n",
       "      <td>29.08</td>\n",
       "      <td>3.58</td>\n",
       "      <td>6.81</td>\n",
       "      <td>0.77</td>\n",
       "      <td>NaN</td>\n",
       "      <td>NaN</td>\n",
       "      <td>NaN</td>\n",
       "    </tr>\n",
       "    <tr>\n",
       "      <th>2</th>\n",
       "      <td>Mario Kart Wii</td>\n",
       "      <td>Wii</td>\n",
       "      <td>2008.0</td>\n",
       "      <td>Racing</td>\n",
       "      <td>15.68</td>\n",
       "      <td>12.76</td>\n",
       "      <td>3.79</td>\n",
       "      <td>3.29</td>\n",
       "      <td>82.0</td>\n",
       "      <td>8.3</td>\n",
       "      <td>E</td>\n",
       "    </tr>\n",
       "    <tr>\n",
       "      <th>3</th>\n",
       "      <td>Wii Sports Resort</td>\n",
       "      <td>Wii</td>\n",
       "      <td>2009.0</td>\n",
       "      <td>Sports</td>\n",
       "      <td>15.61</td>\n",
       "      <td>10.93</td>\n",
       "      <td>3.28</td>\n",
       "      <td>2.95</td>\n",
       "      <td>80.0</td>\n",
       "      <td>8</td>\n",
       "      <td>E</td>\n",
       "    </tr>\n",
       "    <tr>\n",
       "      <th>4</th>\n",
       "      <td>Pokemon Red/Pokemon Blue</td>\n",
       "      <td>GB</td>\n",
       "      <td>1996.0</td>\n",
       "      <td>Role-Playing</td>\n",
       "      <td>11.27</td>\n",
       "      <td>8.89</td>\n",
       "      <td>10.22</td>\n",
       "      <td>1.00</td>\n",
       "      <td>NaN</td>\n",
       "      <td>NaN</td>\n",
       "      <td>NaN</td>\n",
       "    </tr>\n",
       "  </tbody>\n",
       "</table>\n",
       "</div>"
      ],
      "text/plain": [
       "                       Name Platform  Year_of_Release         Genre  NA_sales  \\\n",
       "0                Wii Sports      Wii           2006.0        Sports     41.36   \n",
       "1         Super Mario Bros.      NES           1985.0      Platform     29.08   \n",
       "2            Mario Kart Wii      Wii           2008.0        Racing     15.68   \n",
       "3         Wii Sports Resort      Wii           2009.0        Sports     15.61   \n",
       "4  Pokemon Red/Pokemon Blue       GB           1996.0  Role-Playing     11.27   \n",
       "\n",
       "   EU_sales  JP_sales  Other_sales  Critic_Score User_Score Rating  \n",
       "0     28.96      3.77         8.45          76.0          8      E  \n",
       "1      3.58      6.81         0.77           NaN        NaN    NaN  \n",
       "2     12.76      3.79         3.29          82.0        8.3      E  \n",
       "3     10.93      3.28         2.95          80.0          8      E  \n",
       "4      8.89     10.22         1.00           NaN        NaN    NaN  "
      ]
     },
     "execution_count": 3,
     "metadata": {},
     "output_type": "execute_result"
    }
   ],
   "source": [
    "data.head()"
   ]
  },
  {
   "cell_type": "code",
   "execution_count": 4,
   "metadata": {},
   "outputs": [
    {
     "name": "stdout",
     "output_type": "stream",
     "text": [
      "<class 'pandas.core.frame.DataFrame'>\n",
      "RangeIndex: 16715 entries, 0 to 16714\n",
      "Data columns (total 11 columns):\n",
      " #   Column           Non-Null Count  Dtype  \n",
      "---  ------           --------------  -----  \n",
      " 0   Name             16713 non-null  object \n",
      " 1   Platform         16715 non-null  object \n",
      " 2   Year_of_Release  16446 non-null  float64\n",
      " 3   Genre            16713 non-null  object \n",
      " 4   NA_sales         16715 non-null  float64\n",
      " 5   EU_sales         16715 non-null  float64\n",
      " 6   JP_sales         16715 non-null  float64\n",
      " 7   Other_sales      16715 non-null  float64\n",
      " 8   Critic_Score     8137 non-null   float64\n",
      " 9   User_Score       10014 non-null  object \n",
      " 10  Rating           9949 non-null   object \n",
      "dtypes: float64(6), object(5)\n",
      "memory usage: 1.4+ MB\n"
     ]
    }
   ],
   "source": [
    "data.info()"
   ]
  },
  {
   "cell_type": "code",
   "execution_count": 5,
   "metadata": {},
   "outputs": [
    {
     "data": {
      "text/plain": [
       "array([[<AxesSubplot:title={'center':'Year_of_Release'}>,\n",
       "        <AxesSubplot:title={'center':'NA_sales'}>],\n",
       "       [<AxesSubplot:title={'center':'EU_sales'}>,\n",
       "        <AxesSubplot:title={'center':'JP_sales'}>],\n",
       "       [<AxesSubplot:title={'center':'Other_sales'}>,\n",
       "        <AxesSubplot:title={'center':'Critic_Score'}>]], dtype=object)"
      ]
     },
     "execution_count": 5,
     "metadata": {},
     "output_type": "execute_result"
    },
    {
     "data": {
      "image/png": "[encoded data removed]",
      "text/plain": [
       "<Figure size 1080x1440 with 6 Axes>"
      ]
     },
     "metadata": {
      "needs_background": "light"
     },
     "output_type": "display_data"
    }
   ],
   "source": [
    "data.hist(figsize=(15, 20))"
   ]
  },
  {
   "cell_type": "markdown",
   "metadata": {},
   "source": [
    "По гистограммам можно сделать вывод, что присутствуют аномальные значения по продажам в регионах, это обуславливается тем, что в разных регионах могут быть определенные популярные или экслюзивные игры."
   ]
  },
  {
   "cell_type": "markdown",
   "metadata": {},
   "source": [
    "### Предобработка данных"
   ]
  },
  {
   "cell_type": "code",
   "execution_count": 6,
   "metadata": {},
   "outputs": [],
   "source": [
    "data.columns = data.columns.str.lower()"
   ]
  },
  {
   "cell_type": "code",
   "execution_count": 7,
   "metadata": {},
   "outputs": [],
   "source": [
    "#data['critic_score'] = data['critic_score'].astype('Int64')"
   ]
  },
  {
   "cell_type": "markdown",
   "metadata": {},
   "source": [
    "С таким типом данных нельзя посчитать корреляцию."
   ]
  },
  {
   "cell_type": "code",
   "execution_count": 8,
   "metadata": {},
   "outputs": [],
   "source": [
    "data['user_score'] = pd.to_numeric(data['user_score'], errors='coerce')"
   ]
  },
  {
   "cell_type": "markdown",
   "metadata": {},
   "source": [
    "Менял тип данных в годах, потому что должны быть целые (сменил тип чуть ниже после удаления пропусков). Также в оценках пользователей было значение \"tbd\" - оно означает, что оценки только будут поставлены, из чего я сделал вывод, что можно заменить пропусками."
   ]
  },
  {
   "cell_type": "code",
   "execution_count": 9,
   "metadata": {},
   "outputs": [
    {
     "data": {
      "text/plain": [
       "name                  2\n",
       "platform              0\n",
       "year_of_release     269\n",
       "genre                 2\n",
       "na_sales              0\n",
       "eu_sales              0\n",
       "jp_sales              0\n",
       "other_sales           0\n",
       "critic_score       8578\n",
       "user_score         9125\n",
       "rating             6766\n",
       "dtype: int64"
      ]
     },
     "execution_count": 9,
     "metadata": {},
     "output_type": "execute_result"
    }
   ],
   "source": [
    "data.isna().sum()"
   ]
  },
  {
   "cell_type": "code",
   "execution_count": 10,
   "metadata": {},
   "outputs": [],
   "source": [
    "data = data.dropna(subset=['name'])\n",
    "data = data.dropna(subset=['year_of_release'])\n",
    "data = data.reset_index(drop=True)"
   ]
  },
  {
   "cell_type": "markdown",
   "metadata": {},
   "source": [
    "Решил удалить строки с пропущенными значениями в столбцах name и year_of_release, потому что их очень мало (1,6%)."
   ]
  },
  {
   "cell_type": "markdown",
   "metadata": {},
   "source": [
    "Оценки критиков и оценки игроков заполнять нельзя, так как это все зависит от игр. Я думал, что можно было бы заполнить медианой по жанрам, но не стал. Удалять тоже не стал, потому что слишком большой объем данных уйдет.\n",
    "Рейтинг я так же не стал заполнять, хотя думал это сделать по жанрам."
   ]
  },
  {
   "cell_type": "code",
   "execution_count": 11,
   "metadata": {},
   "outputs": [],
   "source": [
    "data['year_of_release'] = data['year_of_release'].astype('int', errors='ignore')"
   ]
  },
  {
   "cell_type": "code",
   "execution_count": 12,
   "metadata": {},
   "outputs": [
    {
     "name": "stdout",
     "output_type": "stream",
     "text": [
      "<class 'pandas.core.frame.DataFrame'>\n",
      "RangeIndex: 16444 entries, 0 to 16443\n",
      "Data columns (total 11 columns):\n",
      " #   Column           Non-Null Count  Dtype  \n",
      "---  ------           --------------  -----  \n",
      " 0   name             16444 non-null  object \n",
      " 1   platform         16444 non-null  object \n",
      " 2   year_of_release  16444 non-null  int64  \n",
      " 3   genre            16444 non-null  object \n",
      " 4   na_sales         16444 non-null  float64\n",
      " 5   eu_sales         16444 non-null  float64\n",
      " 6   jp_sales         16444 non-null  float64\n",
      " 7   other_sales      16444 non-null  float64\n",
      " 8   critic_score     7983 non-null   float64\n",
      " 9   user_score       7463 non-null   float64\n",
      " 10  rating           9768 non-null   object \n",
      "dtypes: float64(6), int64(1), object(4)\n",
      "memory usage: 1.4+ MB\n"
     ]
    }
   ],
   "source": [
    "data.info()"
   ]
  },
  {
   "cell_type": "code",
   "execution_count": 13,
   "metadata": {},
   "outputs": [
    {
     "data": {
      "text/html": [
       "<div>\n",
       "<style scoped>\n",
       "    .dataframe tbody tr th:only-of-type {\n",
       "        vertical-align: middle;\n",
       "    }\n",
       "\n",
       "    .dataframe tbody tr th {\n",
       "        vertical-align: top;\n",
       "    }\n",
       "\n",
       "    .dataframe thead th {\n",
       "        text-align: right;\n",
       "    }\n",
       "</style>\n",
       "<table border=\"1\" class=\"dataframe\">\n",
       "  <thead>\n",
       "    <tr style=\"text-align: right;\">\n",
       "      <th></th>\n",
       "      <th>name</th>\n",
       "      <th>platform</th>\n",
       "      <th>year_of_release</th>\n",
       "      <th>genre</th>\n",
       "      <th>na_sales</th>\n",
       "      <th>eu_sales</th>\n",
       "      <th>jp_sales</th>\n",
       "      <th>other_sales</th>\n",
       "      <th>critic_score</th>\n",
       "      <th>user_score</th>\n",
       "      <th>rating</th>\n",
       "    </tr>\n",
       "  </thead>\n",
       "  <tbody>\n",
       "    <tr>\n",
       "      <th>1</th>\n",
       "      <td>Super Mario Bros.</td>\n",
       "      <td>NES</td>\n",
       "      <td>1985</td>\n",
       "      <td>Platform</td>\n",
       "      <td>29.08</td>\n",
       "      <td>3.58</td>\n",
       "      <td>6.81</td>\n",
       "      <td>0.77</td>\n",
       "      <td>NaN</td>\n",
       "      <td>NaN</td>\n",
       "      <td>NaN</td>\n",
       "    </tr>\n",
       "    <tr>\n",
       "      <th>4</th>\n",
       "      <td>Pokemon Red/Pokemon Blue</td>\n",
       "      <td>GB</td>\n",
       "      <td>1996</td>\n",
       "      <td>Role-Playing</td>\n",
       "      <td>11.27</td>\n",
       "      <td>8.89</td>\n",
       "      <td>10.22</td>\n",
       "      <td>1.00</td>\n",
       "      <td>NaN</td>\n",
       "      <td>NaN</td>\n",
       "      <td>NaN</td>\n",
       "    </tr>\n",
       "    <tr>\n",
       "      <th>5</th>\n",
       "      <td>Tetris</td>\n",
       "      <td>GB</td>\n",
       "      <td>1989</td>\n",
       "      <td>Puzzle</td>\n",
       "      <td>23.20</td>\n",
       "      <td>2.26</td>\n",
       "      <td>4.22</td>\n",
       "      <td>0.58</td>\n",
       "      <td>NaN</td>\n",
       "      <td>NaN</td>\n",
       "      <td>NaN</td>\n",
       "    </tr>\n",
       "    <tr>\n",
       "      <th>9</th>\n",
       "      <td>Duck Hunt</td>\n",
       "      <td>NES</td>\n",
       "      <td>1984</td>\n",
       "      <td>Shooter</td>\n",
       "      <td>26.93</td>\n",
       "      <td>0.63</td>\n",
       "      <td>0.28</td>\n",
       "      <td>0.47</td>\n",
       "      <td>NaN</td>\n",
       "      <td>NaN</td>\n",
       "      <td>NaN</td>\n",
       "    </tr>\n",
       "    <tr>\n",
       "      <th>10</th>\n",
       "      <td>Nintendogs</td>\n",
       "      <td>DS</td>\n",
       "      <td>2005</td>\n",
       "      <td>Simulation</td>\n",
       "      <td>9.05</td>\n",
       "      <td>10.95</td>\n",
       "      <td>1.93</td>\n",
       "      <td>2.74</td>\n",
       "      <td>NaN</td>\n",
       "      <td>NaN</td>\n",
       "      <td>NaN</td>\n",
       "    </tr>\n",
       "    <tr>\n",
       "      <th>...</th>\n",
       "      <td>...</td>\n",
       "      <td>...</td>\n",
       "      <td>...</td>\n",
       "      <td>...</td>\n",
       "      <td>...</td>\n",
       "      <td>...</td>\n",
       "      <td>...</td>\n",
       "      <td>...</td>\n",
       "      <td>...</td>\n",
       "      <td>...</td>\n",
       "      <td>...</td>\n",
       "    </tr>\n",
       "    <tr>\n",
       "      <th>16439</th>\n",
       "      <td>Samurai Warriors: Sanada Maru</td>\n",
       "      <td>PS3</td>\n",
       "      <td>2016</td>\n",
       "      <td>Action</td>\n",
       "      <td>0.00</td>\n",
       "      <td>0.00</td>\n",
       "      <td>0.01</td>\n",
       "      <td>0.00</td>\n",
       "      <td>NaN</td>\n",
       "      <td>NaN</td>\n",
       "      <td>NaN</td>\n",
       "    </tr>\n",
       "    <tr>\n",
       "      <th>16440</th>\n",
       "      <td>LMA Manager 2007</td>\n",
       "      <td>X360</td>\n",
       "      <td>2006</td>\n",
       "      <td>Sports</td>\n",
       "      <td>0.00</td>\n",
       "      <td>0.01</td>\n",
       "      <td>0.00</td>\n",
       "      <td>0.00</td>\n",
       "      <td>NaN</td>\n",
       "      <td>NaN</td>\n",
       "      <td>NaN</td>\n",
       "    </tr>\n",
       "    <tr>\n",
       "      <th>16441</th>\n",
       "      <td>Haitaka no Psychedelica</td>\n",
       "      <td>PSV</td>\n",
       "      <td>2016</td>\n",
       "      <td>Adventure</td>\n",
       "      <td>0.00</td>\n",
       "      <td>0.00</td>\n",
       "      <td>0.01</td>\n",
       "      <td>0.00</td>\n",
       "      <td>NaN</td>\n",
       "      <td>NaN</td>\n",
       "      <td>NaN</td>\n",
       "    </tr>\n",
       "    <tr>\n",
       "      <th>16442</th>\n",
       "      <td>Spirits &amp; Spells</td>\n",
       "      <td>GBA</td>\n",
       "      <td>2003</td>\n",
       "      <td>Platform</td>\n",
       "      <td>0.01</td>\n",
       "      <td>0.00</td>\n",
       "      <td>0.00</td>\n",
       "      <td>0.00</td>\n",
       "      <td>NaN</td>\n",
       "      <td>NaN</td>\n",
       "      <td>NaN</td>\n",
       "    </tr>\n",
       "    <tr>\n",
       "      <th>16443</th>\n",
       "      <td>Winning Post 8 2016</td>\n",
       "      <td>PSV</td>\n",
       "      <td>2016</td>\n",
       "      <td>Simulation</td>\n",
       "      <td>0.00</td>\n",
       "      <td>0.00</td>\n",
       "      <td>0.01</td>\n",
       "      <td>0.00</td>\n",
       "      <td>NaN</td>\n",
       "      <td>NaN</td>\n",
       "      <td>NaN</td>\n",
       "    </tr>\n",
       "  </tbody>\n",
       "</table>\n",
       "<p>6676 rows × 11 columns</p>\n",
       "</div>"
      ],
      "text/plain": [
       "                                name platform  year_of_release         genre  \\\n",
       "1                  Super Mario Bros.      NES             1985      Platform   \n",
       "4           Pokemon Red/Pokemon Blue       GB             1996  Role-Playing   \n",
       "5                             Tetris       GB             1989        Puzzle   \n",
       "9                          Duck Hunt      NES             1984       Shooter   \n",
       "10                        Nintendogs       DS             2005    Simulation   \n",
       "...                              ...      ...              ...           ...   \n",
       "16439  Samurai Warriors: Sanada Maru      PS3             2016        Action   \n",
       "16440               LMA Manager 2007     X360             2006        Sports   \n",
       "16441        Haitaka no Psychedelica      PSV             2016     Adventure   \n",
       "16442               Spirits & Spells      GBA             2003      Platform   \n",
       "16443            Winning Post 8 2016      PSV             2016    Simulation   \n",
       "\n",
       "       na_sales  eu_sales  jp_sales  other_sales  critic_score  user_score  \\\n",
       "1         29.08      3.58      6.81         0.77           NaN         NaN   \n",
       "4         11.27      8.89     10.22         1.00           NaN         NaN   \n",
       "5         23.20      2.26      4.22         0.58           NaN         NaN   \n",
       "9         26.93      0.63      0.28         0.47           NaN         NaN   \n",
       "10         9.05     10.95      1.93         2.74           NaN         NaN   \n",
       "...         ...       ...       ...          ...           ...         ...   \n",
       "16439      0.00      0.00      0.01         0.00           NaN         NaN   \n",
       "16440      0.00      0.01      0.00         0.00           NaN         NaN   \n",
       "16441      0.00      0.00      0.01         0.00           NaN         NaN   \n",
       "16442      0.01      0.00      0.00         0.00           NaN         NaN   \n",
       "16443      0.00      0.00      0.01         0.00           NaN         NaN   \n",
       "\n",
       "      rating  \n",
       "1        NaN  \n",
       "4        NaN  \n",
       "5        NaN  \n",
       "9        NaN  \n",
       "10       NaN  \n",
       "...      ...  \n",
       "16439    NaN  \n",
       "16440    NaN  \n",
       "16441    NaN  \n",
       "16442    NaN  \n",
       "16443    NaN  \n",
       "\n",
       "[6676 rows x 11 columns]"
      ]
     },
     "execution_count": 13,
     "metadata": {},
     "output_type": "execute_result"
    }
   ],
   "source": [
    "data[data['rating'].isna()]"
   ]
  },
  {
   "cell_type": "code",
   "execution_count": 14,
   "metadata": {},
   "outputs": [
    {
     "data": {
      "text/plain": [
       "array(['E', nan, 'M', 'T', 'E10+', 'K-A', 'AO', 'EC', 'RP'], dtype=object)"
      ]
     },
     "execution_count": 14,
     "metadata": {},
     "output_type": "execute_result"
    }
   ],
   "source": [
    "data['rating'].unique()"
   ]
  },
  {
   "cell_type": "markdown",
   "metadata": {},
   "source": [
    "Пока думал над рейтингом наткнулся на википедию и обнаружил, что рейтинг \"Е\" раньше назывался \"К-А\" и решил переименовать."
   ]
  },
  {
   "cell_type": "code",
   "execution_count": 15,
   "metadata": {},
   "outputs": [],
   "source": [
    "data.loc[data['rating']=='K-A', 'rating'] = 'E'"
   ]
  },
  {
   "cell_type": "code",
   "execution_count": 16,
   "metadata": {},
   "outputs": [],
   "source": [
    "data['rating'] = data['rating'].fillna('unknown')"
   ]
  },
  {
   "cell_type": "code",
   "execution_count": 17,
   "metadata": {},
   "outputs": [
    {
     "data": {
      "text/plain": [
       "name                  0\n",
       "platform              0\n",
       "year_of_release       0\n",
       "genre                 0\n",
       "na_sales              0\n",
       "eu_sales              0\n",
       "jp_sales              0\n",
       "other_sales           0\n",
       "critic_score       8461\n",
       "user_score         8981\n",
       "rating                0\n",
       "dtype: int64"
      ]
     },
     "execution_count": 17,
     "metadata": {},
     "output_type": "execute_result"
    }
   ],
   "source": [
    "data.isna().sum()"
   ]
  },
  {
   "cell_type": "markdown",
   "metadata": {},
   "source": [
    "Причиной пропусков может быть то, что забыли внести данные об этих играх."
   ]
  },
  {
   "cell_type": "code",
   "execution_count": 18,
   "metadata": {},
   "outputs": [],
   "source": [
    "data['sum_of_sales'] = data.loc[:,['na_sales','eu_sales', 'jp_sales', 'other_sales']].sum(axis=1)"
   ]
  },
  {
   "cell_type": "code",
   "execution_count": 19,
   "metadata": {},
   "outputs": [
    {
     "data": {
      "text/html": [
       "<div>\n",
       "<style scoped>\n",
       "    .dataframe tbody tr th:only-of-type {\n",
       "        vertical-align: middle;\n",
       "    }\n",
       "\n",
       "    .dataframe tbody tr th {\n",
       "        vertical-align: top;\n",
       "    }\n",
       "\n",
       "    .dataframe thead th {\n",
       "        text-align: right;\n",
       "    }\n",
       "</style>\n",
       "<table border=\"1\" class=\"dataframe\">\n",
       "  <thead>\n",
       "    <tr style=\"text-align: right;\">\n",
       "      <th></th>\n",
       "      <th>name</th>\n",
       "      <th>platform</th>\n",
       "      <th>year_of_release</th>\n",
       "      <th>genre</th>\n",
       "      <th>na_sales</th>\n",
       "      <th>eu_sales</th>\n",
       "      <th>jp_sales</th>\n",
       "      <th>other_sales</th>\n",
       "      <th>critic_score</th>\n",
       "      <th>user_score</th>\n",
       "      <th>rating</th>\n",
       "      <th>sum_of_sales</th>\n",
       "    </tr>\n",
       "  </thead>\n",
       "  <tbody>\n",
       "    <tr>\n",
       "      <th>0</th>\n",
       "      <td>Wii Sports</td>\n",
       "      <td>Wii</td>\n",
       "      <td>2006</td>\n",
       "      <td>Sports</td>\n",
       "      <td>41.36</td>\n",
       "      <td>28.96</td>\n",
       "      <td>3.77</td>\n",
       "      <td>8.45</td>\n",
       "      <td>76.0</td>\n",
       "      <td>8.0</td>\n",
       "      <td>E</td>\n",
       "      <td>82.54</td>\n",
       "    </tr>\n",
       "    <tr>\n",
       "      <th>1</th>\n",
       "      <td>Super Mario Bros.</td>\n",
       "      <td>NES</td>\n",
       "      <td>1985</td>\n",
       "      <td>Platform</td>\n",
       "      <td>29.08</td>\n",
       "      <td>3.58</td>\n",
       "      <td>6.81</td>\n",
       "      <td>0.77</td>\n",
       "      <td>NaN</td>\n",
       "      <td>NaN</td>\n",
       "      <td>unknown</td>\n",
       "      <td>40.24</td>\n",
       "    </tr>\n",
       "    <tr>\n",
       "      <th>2</th>\n",
       "      <td>Mario Kart Wii</td>\n",
       "      <td>Wii</td>\n",
       "      <td>2008</td>\n",
       "      <td>Racing</td>\n",
       "      <td>15.68</td>\n",
       "      <td>12.76</td>\n",
       "      <td>3.79</td>\n",
       "      <td>3.29</td>\n",
       "      <td>82.0</td>\n",
       "      <td>8.3</td>\n",
       "      <td>E</td>\n",
       "      <td>35.52</td>\n",
       "    </tr>\n",
       "    <tr>\n",
       "      <th>3</th>\n",
       "      <td>Wii Sports Resort</td>\n",
       "      <td>Wii</td>\n",
       "      <td>2009</td>\n",
       "      <td>Sports</td>\n",
       "      <td>15.61</td>\n",
       "      <td>10.93</td>\n",
       "      <td>3.28</td>\n",
       "      <td>2.95</td>\n",
       "      <td>80.0</td>\n",
       "      <td>8.0</td>\n",
       "      <td>E</td>\n",
       "      <td>32.77</td>\n",
       "    </tr>\n",
       "    <tr>\n",
       "      <th>4</th>\n",
       "      <td>Pokemon Red/Pokemon Blue</td>\n",
       "      <td>GB</td>\n",
       "      <td>1996</td>\n",
       "      <td>Role-Playing</td>\n",
       "      <td>11.27</td>\n",
       "      <td>8.89</td>\n",
       "      <td>10.22</td>\n",
       "      <td>1.00</td>\n",
       "      <td>NaN</td>\n",
       "      <td>NaN</td>\n",
       "      <td>unknown</td>\n",
       "      <td>31.38</td>\n",
       "    </tr>\n",
       "  </tbody>\n",
       "</table>\n",
       "</div>"
      ],
      "text/plain": [
       "                       name platform  year_of_release         genre  na_sales  \\\n",
       "0                Wii Sports      Wii             2006        Sports     41.36   \n",
       "1         Super Mario Bros.      NES             1985      Platform     29.08   \n",
       "2            Mario Kart Wii      Wii             2008        Racing     15.68   \n",
       "3         Wii Sports Resort      Wii             2009        Sports     15.61   \n",
       "4  Pokemon Red/Pokemon Blue       GB             1996  Role-Playing     11.27   \n",
       "\n",
       "   eu_sales  jp_sales  other_sales  critic_score  user_score   rating  \\\n",
       "0     28.96      3.77         8.45          76.0         8.0        E   \n",
       "1      3.58      6.81         0.77           NaN         NaN  unknown   \n",
       "2     12.76      3.79         3.29          82.0         8.3        E   \n",
       "3     10.93      3.28         2.95          80.0         8.0        E   \n",
       "4      8.89     10.22         1.00           NaN         NaN  unknown   \n",
       "\n",
       "   sum_of_sales  \n",
       "0         82.54  \n",
       "1         40.24  \n",
       "2         35.52  \n",
       "3         32.77  \n",
       "4         31.38  "
      ]
     },
     "execution_count": 19,
     "metadata": {},
     "output_type": "execute_result"
    }
   ],
   "source": [
    "data.head()"
   ]
  },
  {
   "cell_type": "code",
   "execution_count": 20,
   "metadata": {},
   "outputs": [
    {
     "data": {
      "text/html": [
       "<div>\n",
       "<style scoped>\n",
       "    .dataframe tbody tr th:only-of-type {\n",
       "        vertical-align: middle;\n",
       "    }\n",
       "\n",
       "    .dataframe tbody tr th {\n",
       "        vertical-align: top;\n",
       "    }\n",
       "\n",
       "    .dataframe thead th {\n",
       "        text-align: right;\n",
       "    }\n",
       "</style>\n",
       "<table border=\"1\" class=\"dataframe\">\n",
       "  <thead>\n",
       "    <tr style=\"text-align: right;\">\n",
       "      <th></th>\n",
       "      <th>name</th>\n",
       "      <th>platform</th>\n",
       "      <th>year_of_release</th>\n",
       "      <th>genre</th>\n",
       "      <th>na_sales</th>\n",
       "      <th>eu_sales</th>\n",
       "      <th>jp_sales</th>\n",
       "      <th>other_sales</th>\n",
       "      <th>critic_score</th>\n",
       "      <th>user_score</th>\n",
       "      <th>rating</th>\n",
       "      <th>sum_of_sales</th>\n",
       "    </tr>\n",
       "  </thead>\n",
       "  <tbody>\n",
       "  </tbody>\n",
       "</table>\n",
       "</div>"
      ],
      "text/plain": [
       "Empty DataFrame\n",
       "Columns: [name, platform, year_of_release, genre, na_sales, eu_sales, jp_sales, other_sales, critic_score, user_score, rating, sum_of_sales]\n",
       "Index: []"
      ]
     },
     "execution_count": 20,
     "metadata": {},
     "output_type": "execute_result"
    }
   ],
   "source": [
    "data[data.duplicated()]"
   ]
  },
  {
   "cell_type": "code",
   "execution_count": 21,
   "metadata": {},
   "outputs": [],
   "source": [
    "data = data.drop_duplicates()"
   ]
  },
  {
   "cell_type": "code",
   "execution_count": 22,
   "metadata": {},
   "outputs": [
    {
     "name": "stdout",
     "output_type": "stream",
     "text": [
      "<class 'pandas.core.frame.DataFrame'>\n",
      "Int64Index: 16444 entries, 0 to 16443\n",
      "Data columns (total 12 columns):\n",
      " #   Column           Non-Null Count  Dtype  \n",
      "---  ------           --------------  -----  \n",
      " 0   name             16444 non-null  object \n",
      " 1   platform         16444 non-null  object \n",
      " 2   year_of_release  16444 non-null  int64  \n",
      " 3   genre            16444 non-null  object \n",
      " 4   na_sales         16444 non-null  float64\n",
      " 5   eu_sales         16444 non-null  float64\n",
      " 6   jp_sales         16444 non-null  float64\n",
      " 7   other_sales      16444 non-null  float64\n",
      " 8   critic_score     7983 non-null   float64\n",
      " 9   user_score       7463 non-null   float64\n",
      " 10  rating           16444 non-null  object \n",
      " 11  sum_of_sales     16444 non-null  float64\n",
      "dtypes: float64(7), int64(1), object(4)\n",
      "memory usage: 1.6+ MB\n",
      "None\n",
      "-------------------------\n",
      "name [' Beyblade Burst' ' Fire Emblem Fates' \" Frozen: Olaf's Quest\" ...\n",
      " 'uDraw Studio' 'uDraw Studio: Instant Artist'\n",
      " '¡Shin Chan Flipa en colores!']\n",
      "name : кол-во NaN 0 , процент NaN 0.0 %\n",
      "-------------------------\n",
      "platform ['2600' '3DO' '3DS' 'DC' 'DS' 'GB' 'GBA' 'GC' 'GEN' 'GG' 'N64' 'NES' 'NG'\n",
      " 'PC' 'PCFX' 'PS' 'PS2' 'PS3' 'PS4' 'PSP' 'PSV' 'SAT' 'SCD' 'SNES' 'TG16'\n",
      " 'WS' 'Wii' 'WiiU' 'X360' 'XB' 'XOne']\n",
      "platform : кол-во NaN 0 , процент NaN 0.0 %\n",
      "-------------------------\n",
      "year_of_release [1980 1981 1982 1983 1984 1985 1986 1987 1988 1989 1990 1991 1992 1993\n",
      " 1994 1995 1996 1997 1998 1999 2000 2001 2002 2003 2004 2005 2006 2007\n",
      " 2008 2009 2010 2011 2012 2013 2014 2015 2016]\n",
      "year_of_release : кол-во NaN 0 , процент NaN 0.0 %\n",
      "-------------------------\n",
      "genre ['Action' 'Adventure' 'Fighting' 'Misc' 'Platform' 'Puzzle' 'Racing'\n",
      " 'Role-Playing' 'Shooter' 'Simulation' 'Sports' 'Strategy']\n",
      "genre : кол-во NaN 0 , процент NaN 0.0 %\n",
      "-------------------------\n",
      "critic_score [13. 17. 19. 20. 21. 23. 24. 25. 26. 27. 28. 29. 30. 31. 32. 33. 34. 35.\n",
      " 36. 37. 38. 39. 40. 41. 42. 43. 44. 45. 46. 47. 48. 49. 50. 51. 52. 53.\n",
      " 54. 55. 56. 57. 58. 59. 60. 61. 62. 63. 64. 65. 66. 67. 68. 69. 70. 71.\n",
      " 72. 73. 74. 75. 76. 77. 78. 79. 80. 81. 82. 83. 84. 85. 86. 87. 88. 89.\n",
      " 90. 91. 92. 93. 94. 95. 96. 97. 98. nan]\n",
      "critic_score : кол-во NaN 8461 , процент NaN 51.45 %\n",
      "-------------------------\n",
      "user_score [0.  0.2 0.3 0.5 0.6 0.7 0.9 1.  1.1 1.2 1.3 1.4 1.5 1.6 1.7 1.8 1.9 2.\n",
      " 2.1 2.2 2.3 2.4 2.5 2.6 2.7 2.8 2.9 3.  3.1 3.2 3.3 3.4 3.5 3.6 3.7 3.8\n",
      " 3.9 4.  4.1 4.2 4.3 4.4 4.5 4.6 4.7 4.8 4.9 5.  5.1 5.2 5.3 5.4 5.5 5.6\n",
      " 5.7 5.8 5.9 6.  6.1 6.2 6.3 6.4 6.5 6.6 6.7 6.8 6.9 7.  7.1 7.2 7.3 7.4\n",
      " 7.5 7.6 7.7 7.8 7.9 8.  8.1 8.2 8.3 8.4 8.5 8.6 8.7 8.8 8.9 9.  9.1 9.2\n",
      " 9.3 9.4 9.5 9.6 9.7 nan]\n",
      "user_score : кол-во NaN 8981 , процент NaN 54.62 %\n",
      "-------------------------\n",
      "rating ['AO' 'E' 'E10+' 'EC' 'M' 'RP' 'T' 'unknown']\n",
      "rating : кол-во NaN 0 , процент NaN 0.0 %\n"
     ]
    }
   ],
   "source": [
    "# Комментарий ревьюера\n",
    "# Посмотрим, что у нас осталось\n",
    "temp = data.copy() \n",
    "list_c = ['name', 'platform', 'year_of_release', 'genre', 'critic_score', 'user_score', 'rating']\n",
    "print(temp.info())\n",
    "for col_l in list_c:\n",
    "  print('-'* 25)\n",
    "  print(col_l, temp[col_l].sort_values().unique())\n",
    "  print(col_l,': кол-во NaN',temp[col_l].isna().sum(),\n",
    "        ', процент NaN', round(temp[col_l].isna().sum()/len(temp)*100, 2),'%')"
   ]
  },
  {
   "cell_type": "markdown",
   "metadata": {},
   "source": [
    "### Исследовательский анализ"
   ]
  },
  {
   "cell_type": "markdown",
   "metadata": {},
   "source": [
    "Посмотрим, сколько игр выпускалось в разные годы."
   ]
  },
  {
   "cell_type": "code",
   "execution_count": 23,
   "metadata": {},
   "outputs": [
    {
     "data": {
      "text/plain": [
       "year_of_release\n",
       "1980       9\n",
       "1981      46\n",
       "1982      36\n",
       "1983      17\n",
       "1984      14\n",
       "1985      14\n",
       "1986      21\n",
       "1987      16\n",
       "1988      15\n",
       "1989      17\n",
       "1990      16\n",
       "1991      41\n",
       "1992      43\n",
       "1993      60\n",
       "1994     121\n",
       "1995     219\n",
       "1996     263\n",
       "1997     289\n",
       "1998     379\n",
       "1999     338\n",
       "2000     350\n",
       "2001     482\n",
       "2002     829\n",
       "2003     775\n",
       "2004     762\n",
       "2005     939\n",
       "2006    1006\n",
       "2007    1197\n",
       "2008    1427\n",
       "2009    1426\n",
       "2010    1255\n",
       "2011    1136\n",
       "2012     653\n",
       "2013     544\n",
       "2014     581\n",
       "2015     606\n",
       "2016     502\n",
       "Name: name, dtype: int64"
      ]
     },
     "execution_count": 23,
     "metadata": {},
     "output_type": "execute_result"
    }
   ],
   "source": [
    "game_of_years = data.groupby(by='year_of_release')['name'].count()\n",
    "game_of_years"
   ]
  },
  {
   "cell_type": "code",
   "execution_count": 24,
   "metadata": {},
   "outputs": [
    {
     "data": {
      "text/plain": [
       "Text(0.5, 0, 'Год')"
      ]
     },
     "execution_count": 24,
     "metadata": {},
     "output_type": "execute_result"
    },
    {
     "data": {
      "image/png": "[encoded data removed]",
      "text/plain": [
       "<Figure size 432x288 with 1 Axes>"
      ]
     },
     "metadata": {
      "needs_background": "light"
     },
     "output_type": "display_data"
    }
   ],
   "source": [
    "game_of_years.plot(grid=True, color=\"red\")\n",
    "plt.title('Cколько игр выпускалось в разные годы')\n",
    "plt.ylabel('Количество игр')\n",
    "plt.xlabel('Год')"
   ]
  },
  {
   "cell_type": "markdown",
   "metadata": {},
   "source": [
    "Я считаю, что для прогноза нужно взять данные, начиная с 2008 года, когда был пик по количеству. Потому что в последующие года компании начали снижать выпуск игр, потому что необходимо было повышать качество игр, а не их количество."
   ]
  },
  {
   "cell_type": "markdown",
   "metadata": {},
   "source": [
    "Посмотрим, как менялись продажи по платформам."
   ]
  },
  {
   "cell_type": "code",
   "execution_count": 25,
   "metadata": {},
   "outputs": [],
   "source": [
    "sales_of_platform = data.pivot_table(index='year_of_release', columns='platform', values='sum_of_sales', aggfunc='sum')\n",
    "sales_of_platform = sales_of_platform.query('year_of_release >= 1995')"
   ]
  },
  {
   "cell_type": "code",
   "execution_count": 26,
   "metadata": {},
   "outputs": [
    {
     "data": {
      "text/plain": [
       "Text(0, 0.5, 'Количество игр')"
      ]
     },
     "execution_count": 26,
     "metadata": {},
     "output_type": "execute_result"
    },
    {
     "data": {
      "image/png": "[encoded data removed]",
      "text/plain": [
       "<Figure size 1224x864 with 1 Axes>"
      ]
     },
     "metadata": {
      "needs_background": "light"
     },
     "output_type": "display_data"
    }
   ],
   "source": [
    "sales_of_platform.plot(title='Продажи по платформам', figsize=(17, 12), grid=True)\n",
    "plt.xlabel('Год')\n",
    "plt.ylabel('Количество игр')"
   ]
  },
  {
   "cell_type": "markdown",
   "metadata": {},
   "source": [
    "Я бы отбросил еще платформы, на которые выпускалось меньше 50млн копий, но я не особо понимаю, как это сделать по таблице sales_of_platform."
   ]
  },
  {
   "cell_type": "markdown",
   "metadata": {},
   "source": [
    "Посмотрим Какие платформы лидируют по продажам, растут или падают?"
   ]
  },
  {
   "cell_type": "code",
   "execution_count": 27,
   "metadata": {},
   "outputs": [],
   "source": [
    "new_df = data.query('year_of_release >= 2013')"
   ]
  },
  {
   "cell_type": "code",
   "execution_count": 28,
   "metadata": {},
   "outputs": [],
   "source": [
    "top_of_platform = new_df.pivot_table(index='year_of_release', columns='platform', values='sum_of_sales', aggfunc='sum')"
   ]
  },
  {
   "cell_type": "code",
   "execution_count": 29,
   "metadata": {},
   "outputs": [
    {
     "data": {
      "text/plain": [
       "Text(0, 0.5, 'Количество игр')"
      ]
     },
     "execution_count": 29,
     "metadata": {},
     "output_type": "execute_result"
    },
    {
     "data": {
      "image/png": "[encoded data removed]",
      "text/plain": [
       "<Figure size 1224x864 with 1 Axes>"
      ]
     },
     "metadata": {
      "needs_background": "light"
     },
     "output_type": "display_data"
    }
   ],
   "source": [
    "top_of_platform.plot(title='Продажи по платформам', figsize=(17, 12), grid=True)\n",
    "plt.xlabel('Год')\n",
    "plt.ylabel('Количество игр')"
   ]
  },
  {
   "cell_type": "markdown",
   "metadata": {},
   "source": [
    "На 2016 год лидерами по продажам игр являются - PS4, Xbox One и Nintendo 3DS. Продажи по всем платформам падают.\n"
   ]
  },
  {
   "cell_type": "code",
   "execution_count": 30,
   "metadata": {
    "scrolled": false
   },
   "outputs": [
    {
     "data": {
      "text/plain": [
       "<AxesSubplot:xlabel='sum_of_sales', ylabel='platform'>"
      ]
     },
     "execution_count": 30,
     "metadata": {},
     "output_type": "execute_result"
    },
    {
     "data": {
      "image/png": "[encoded data removed]",
      "text/plain": [
       "<Figure size 1224x504 with 1 Axes>"
      ]
     },
     "metadata": {
      "needs_background": "light"
     },
     "output_type": "display_data"
    }
   ],
   "source": [
    "plt.figure(figsize=(17, 7))\n",
    "sns.boxplot(data=new_df, x = 'sum_of_sales', y = 'platform')"
   ]
  },
  {
   "cell_type": "code",
   "execution_count": 31,
   "metadata": {},
   "outputs": [
    {
     "data": {
      "text/plain": [
       "(0.0, 1.0)"
      ]
     },
     "execution_count": 31,
     "metadata": {},
     "output_type": "execute_result"
    },
    {
     "data": {
      "image/png": "[encoded data removed]",
      "text/plain": [
       "<Figure size 1224x504 with 1 Axes>"
      ]
     },
     "metadata": {
      "needs_background": "light"
     },
     "output_type": "display_data"
    }
   ],
   "source": [
    "plt.figure(figsize=(17, 7))\n",
    "sns.boxplot(data=new_df, x = 'sum_of_sales', y = 'platform')\n",
    "plt.xlim(0, 1)"
   ]
  },
  {
   "cell_type": "markdown",
   "metadata": {},
   "source": [
    "Самыми поуплярными платформами являются: Xbox360, PS4, Nintendo Wii U. Присутствуют выбросы, они обусловлены очень популярными играми. "
   ]
  },
  {
   "cell_type": "markdown",
   "metadata": {},
   "source": [
    " Смотрим как влияют на продажи внутри одной популярной платформы отзывы пользователей и критиков"
   ]
  },
  {
   "cell_type": "code",
   "execution_count": 32,
   "metadata": {},
   "outputs": [],
   "source": [
    "#new_df.query('platform==\"PS4\"').plot(x='sum_of_sales', y='critic_score', kind='scatter')"
   ]
  },
  {
   "cell_type": "code",
   "execution_count": 33,
   "metadata": {},
   "outputs": [],
   "source": [
    "#new_df.query('platform==\"PS4\"')['sum_of_sales'].corr(new_df.query('platform==\"PS4\"')['critic_score'])"
   ]
  },
  {
   "cell_type": "code",
   "execution_count": 34,
   "metadata": {},
   "outputs": [],
   "source": [
    "#new_df.query('platform==\"PS4\"').plot(x='sum_of_sales', y='user_score', kind='scatter')"
   ]
  },
  {
   "cell_type": "code",
   "execution_count": 35,
   "metadata": {},
   "outputs": [],
   "source": [
    "#new_df.query('platform==\"PS4\"')['sum_of_sales'].corr(new_df.query('platform==\"PS4\"')['user_score'])"
   ]
  },
  {
   "cell_type": "code",
   "execution_count": 36,
   "metadata": {},
   "outputs": [],
   "source": [
    "#new_df.query('platform==\"Wii\"').plot(x='sum_of_sales', y='critic_score', kind='scatter')"
   ]
  },
  {
   "cell_type": "code",
   "execution_count": 37,
   "metadata": {},
   "outputs": [],
   "source": [
    "#new_df.query('platform==\"Wii\"')['sum_of_sales'].corr(new_df.query('platform==\"Wii\"')['critic_score'])"
   ]
  },
  {
   "cell_type": "code",
   "execution_count": 38,
   "metadata": {},
   "outputs": [],
   "source": [
    "#new_df.query('platform==\"Wii\"').plot(x='sum_of_sales', y='user_score', kind='scatter')"
   ]
  },
  {
   "cell_type": "code",
   "execution_count": 39,
   "metadata": {},
   "outputs": [],
   "source": [
    "#new_df.query('platform==\"Wii\"')['sum_of_sales'].corr(new_df.query('platform==\"Wii\"')['user_score'])"
   ]
  },
  {
   "cell_type": "code",
   "execution_count": 40,
   "metadata": {},
   "outputs": [],
   "source": [
    "#new_df.query('platform==\"X360\"').plot(x='sum_of_sales', y='critic_score', kind='scatter')"
   ]
  },
  {
   "cell_type": "code",
   "execution_count": 41,
   "metadata": {},
   "outputs": [],
   "source": [
    "#new_df.query('platform==\"X360\"')['sum_of_sales'].corr(new_df.query('platform==\"X360\"')['critic_score'])"
   ]
  },
  {
   "cell_type": "code",
   "execution_count": 42,
   "metadata": {},
   "outputs": [],
   "source": [
    "#new_df.query('platform==\"X360\"').plot(x='sum_of_sales', y='user_score', kind='scatter')"
   ]
  },
  {
   "cell_type": "code",
   "execution_count": 43,
   "metadata": {
    "scrolled": true
   },
   "outputs": [],
   "source": [
    "#new_df.query('platform==\"X360\"')['sum_of_sales'].corr(new_df.query('platform==\"X360\"')['user_score'])"
   ]
  },
  {
   "cell_type": "code",
   "execution_count": 44,
   "metadata": {
    "scrolled": false
   },
   "outputs": [
    {
     "name": "stdout",
     "output_type": "stream",
     "text": [
      "Как влияют на продажи игр X360 отзывы критиков.\n",
      "AxesSubplot(0.125,0.125;0.775x0.755)\n",
      "0.3503445460228664\n",
      "Как влияют на продажи игр X360 отзывы пользователей.\n",
      "AxesSubplot(0.125,0.125;0.775x0.755)\n",
      "-0.011742185147181342\n"
     ]
    },
    {
     "data": {
      "image/png": "[encoded data removed]",
      "text/plain": [
       "<Figure size 432x288 with 1 Axes>"
      ]
     },
     "metadata": {
      "needs_background": "light"
     },
     "output_type": "display_data"
    },
    {
     "data": {
      "image/png": "[encoded data removed]",
      "text/plain": [
       "<Figure size 432x288 with 1 Axes>"
      ]
     },
     "metadata": {
      "needs_background": "light"
     },
     "output_type": "display_data"
    },
    {
     "name": "stdout",
     "output_type": "stream",
     "text": [
      "Как влияют на продажи игр PS4 отзывы критиков.\n",
      "AxesSubplot(0.125,0.125;0.775x0.755)\n",
      "0.406567902061781\n",
      "Как влияют на продажи игр PS4 отзывы пользователей.\n",
      "AxesSubplot(0.125,0.125;0.775x0.755)\n",
      "-0.031957110204556376\n"
     ]
    },
    {
     "data": {
      "image/png": "[encoded data removed]",
      "text/plain": [
       "<Figure size 432x288 with 1 Axes>"
      ]
     },
     "metadata": {
      "needs_background": "light"
     },
     "output_type": "display_data"
    },
    {
     "data": {
      "image/png": "[encoded data removed]",
      "text/plain": [
       "<Figure size 432x288 with 1 Axes>"
      ]
     },
     "metadata": {
      "needs_background": "light"
     },
     "output_type": "display_data"
    },
    {
     "name": "stdout",
     "output_type": "stream",
     "text": [
      "Как влияют на продажи игр XOne отзывы критиков.\n",
      "AxesSubplot(0.125,0.125;0.775x0.755)\n",
      "0.41699832800840175\n",
      "Как влияют на продажи игр XOne отзывы пользователей.\n",
      "AxesSubplot(0.125,0.125;0.775x0.755)\n",
      "-0.06892505328279412\n"
     ]
    },
    {
     "data": {
      "image/png": "[encoded data removed]",
      "text/plain": [
       "<Figure size 432x288 with 1 Axes>"
      ]
     },
     "metadata": {
      "needs_background": "light"
     },
     "output_type": "display_data"
    },
    {
     "data": {
      "image/png": "[encoded data removed]",
      "text/plain": [
       "<Figure size 432x288 with 1 Axes>"
      ]
     },
     "metadata": {
      "needs_background": "light"
     },
     "output_type": "display_data"
    },
    {
     "name": "stdout",
     "output_type": "stream",
     "text": [
      "Как влияют на продажи игр PS3 отзывы критиков.\n",
      "AxesSubplot(0.125,0.125;0.775x0.755)\n",
      "0.3342853393371919\n",
      "Как влияют на продажи игр PS3 отзывы пользователей.\n",
      "AxesSubplot(0.125,0.125;0.775x0.755)\n",
      "0.0023944027357566925\n"
     ]
    },
    {
     "data": {
      "image/png": "[encoded data removed]",
      "text/plain": [
       "<Figure size 432x288 with 1 Axes>"
      ]
     },
     "metadata": {
      "needs_background": "light"
     },
     "output_type": "display_data"
    },
    {
     "data": {
      "image/png": "[encoded data removed]",
      "text/plain": [
       "<Figure size 432x288 with 1 Axes>"
      ]
     },
     "metadata": {
      "needs_background": "light"
     },
     "output_type": "display_data"
    }
   ],
   "source": [
    "list1 = ['X360', 'PS4', 'XOne', 'PS3']\n",
    "for col in list1:\n",
    "    print(f'Как влияют на продажи игр {col} отзывы критиков.')\n",
    "    print(new_df.query(\"platform==@col\").plot(x='sum_of_sales', y='critic_score', kind='scatter'))\n",
    "    print(new_df.query('platform==@col')['sum_of_sales'].corr(new_df.query('platform==@col')['critic_score']))\n",
    "    print(f'Как влияют на продажи игр {col} отзывы пользователей.')\n",
    "    print(new_df.query('platform==\"PS4\"').plot(x='sum_of_sales', y='user_score', kind='scatter'))\n",
    "    print(new_df.query('platform==@col')['sum_of_sales'].corr(new_df.query('platform==@col')['user_score']))\n",
    "    plt.show()"
   ]
  },
  {
   "cell_type": "markdown",
   "metadata": {},
   "source": [
    "*Вывод: оценки критиков слабо влияют на продажу игр по платформам, так как их оценки более объективные. А оценки пользователей вообще не влияют на продажу, так как, я считаю, что у всех пользователей разные мнения и оценки субъективные.*"
   ]
  },
  {
   "cell_type": "markdown",
   "metadata": {},
   "source": [
    "Посмотрим общее распределение игр по жанрам"
   ]
  },
  {
   "cell_type": "code",
   "execution_count": 45,
   "metadata": {},
   "outputs": [
    {
     "data": {
      "text/plain": [
       "<AxesSubplot:xlabel='sum_of_sales', ylabel='genre'>"
      ]
     },
     "execution_count": 45,
     "metadata": {},
     "output_type": "execute_result"
    },
    {
     "data": {
      "image/png": "[encoded data removed]",
      "text/plain": [
       "<Figure size 864x504 with 1 Axes>"
      ]
     },
     "metadata": {
      "needs_background": "light"
     },
     "output_type": "display_data"
    }
   ],
   "source": [
    "plt.figure(figsize=(12, 7))\n",
    "#sns.barplot(data=new_df, x = 'sum_of_sales', y = 'genre')\n",
    "sns.boxplot(data=new_df, x = 'sum_of_sales', y = 'genre')"
   ]
  },
  {
   "cell_type": "markdown",
   "metadata": {},
   "source": [
    "*Вывод: самым популярным жанром является шутер. Меньше всего игр по жанрам: приключения, пазлы и стратегии. Но хочется отметить, что везде присутствуют выбросы, особенно в жанрах спорт и платформер.*"
   ]
  },
  {
   "cell_type": "markdown",
   "metadata": {},
   "source": [
    "### Портрет пользователя каждого региона"
   ]
  },
  {
   "cell_type": "markdown",
   "metadata": {},
   "source": [
    "Самые популярные платформы (топ-5) в Северной Америке."
   ]
  },
  {
   "cell_type": "code",
   "execution_count": 46,
   "metadata": {},
   "outputs": [
    {
     "data": {
      "text/html": [
       "<div>\n",
       "<style scoped>\n",
       "    .dataframe tbody tr th:only-of-type {\n",
       "        vertical-align: middle;\n",
       "    }\n",
       "\n",
       "    .dataframe tbody tr th {\n",
       "        vertical-align: top;\n",
       "    }\n",
       "\n",
       "    .dataframe thead th {\n",
       "        text-align: right;\n",
       "    }\n",
       "</style>\n",
       "<table border=\"1\" class=\"dataframe\">\n",
       "  <thead>\n",
       "    <tr style=\"text-align: right;\">\n",
       "      <th></th>\n",
       "      <th>na_sales</th>\n",
       "    </tr>\n",
       "    <tr>\n",
       "      <th>platform</th>\n",
       "      <th></th>\n",
       "    </tr>\n",
       "  </thead>\n",
       "  <tbody>\n",
       "    <tr>\n",
       "      <th>PS4</th>\n",
       "      <td>108.74</td>\n",
       "    </tr>\n",
       "    <tr>\n",
       "      <th>XOne</th>\n",
       "      <td>93.12</td>\n",
       "    </tr>\n",
       "    <tr>\n",
       "      <th>X360</th>\n",
       "      <td>81.66</td>\n",
       "    </tr>\n",
       "    <tr>\n",
       "      <th>PS3</th>\n",
       "      <td>63.50</td>\n",
       "    </tr>\n",
       "    <tr>\n",
       "      <th>3DS</th>\n",
       "      <td>38.20</td>\n",
       "    </tr>\n",
       "    <tr>\n",
       "      <th>WiiU</th>\n",
       "      <td>29.21</td>\n",
       "    </tr>\n",
       "    <tr>\n",
       "      <th>PC</th>\n",
       "      <td>11.11</td>\n",
       "    </tr>\n",
       "    <tr>\n",
       "      <th>Wii</th>\n",
       "      <td>6.56</td>\n",
       "    </tr>\n",
       "    <tr>\n",
       "      <th>PSV</th>\n",
       "      <td>5.04</td>\n",
       "    </tr>\n",
       "    <tr>\n",
       "      <th>DS</th>\n",
       "      <td>0.57</td>\n",
       "    </tr>\n",
       "    <tr>\n",
       "      <th>PSP</th>\n",
       "      <td>0.00</td>\n",
       "    </tr>\n",
       "  </tbody>\n",
       "</table>\n",
       "</div>"
      ],
      "text/plain": [
       "          na_sales\n",
       "platform          \n",
       "PS4         108.74\n",
       "XOne         93.12\n",
       "X360         81.66\n",
       "PS3          63.50\n",
       "3DS          38.20\n",
       "WiiU         29.21\n",
       "PC           11.11\n",
       "Wii           6.56\n",
       "PSV           5.04\n",
       "DS            0.57\n",
       "PSP           0.00"
      ]
     },
     "execution_count": 46,
     "metadata": {},
     "output_type": "execute_result"
    }
   ],
   "source": [
    "new_df.pivot_table(index='platform', values='na_sales', aggfunc='sum').sort_values(by='na_sales', ascending=False)"
   ]
  },
  {
   "cell_type": "markdown",
   "metadata": {},
   "source": [
    "В Северной Америке наблюдается такой топ-5 платформ: Xbox360, PS3, Nintendo Wii, Nintendo DS и PS4."
   ]
  },
  {
   "cell_type": "markdown",
   "metadata": {},
   "source": [
    "Самые популярные платформы (топ-5) в Европе."
   ]
  },
  {
   "cell_type": "code",
   "execution_count": 47,
   "metadata": {},
   "outputs": [
    {
     "data": {
      "text/html": [
       "<div>\n",
       "<style scoped>\n",
       "    .dataframe tbody tr th:only-of-type {\n",
       "        vertical-align: middle;\n",
       "    }\n",
       "\n",
       "    .dataframe tbody tr th {\n",
       "        vertical-align: top;\n",
       "    }\n",
       "\n",
       "    .dataframe thead th {\n",
       "        text-align: right;\n",
       "    }\n",
       "</style>\n",
       "<table border=\"1\" class=\"dataframe\">\n",
       "  <thead>\n",
       "    <tr style=\"text-align: right;\">\n",
       "      <th></th>\n",
       "      <th>eu_sales</th>\n",
       "    </tr>\n",
       "    <tr>\n",
       "      <th>platform</th>\n",
       "      <th></th>\n",
       "    </tr>\n",
       "  </thead>\n",
       "  <tbody>\n",
       "    <tr>\n",
       "      <th>PS4</th>\n",
       "      <td>141.09</td>\n",
       "    </tr>\n",
       "    <tr>\n",
       "      <th>PS3</th>\n",
       "      <td>67.81</td>\n",
       "    </tr>\n",
       "    <tr>\n",
       "      <th>XOne</th>\n",
       "      <td>51.59</td>\n",
       "    </tr>\n",
       "    <tr>\n",
       "      <th>X360</th>\n",
       "      <td>42.52</td>\n",
       "    </tr>\n",
       "    <tr>\n",
       "      <th>3DS</th>\n",
       "      <td>30.96</td>\n",
       "    </tr>\n",
       "    <tr>\n",
       "      <th>PC</th>\n",
       "      <td>25.36</td>\n",
       "    </tr>\n",
       "    <tr>\n",
       "      <th>WiiU</th>\n",
       "      <td>19.85</td>\n",
       "    </tr>\n",
       "    <tr>\n",
       "      <th>PSV</th>\n",
       "      <td>6.10</td>\n",
       "    </tr>\n",
       "    <tr>\n",
       "      <th>Wii</th>\n",
       "      <td>5.93</td>\n",
       "    </tr>\n",
       "    <tr>\n",
       "      <th>DS</th>\n",
       "      <td>0.85</td>\n",
       "    </tr>\n",
       "    <tr>\n",
       "      <th>PSP</th>\n",
       "      <td>0.17</td>\n",
       "    </tr>\n",
       "  </tbody>\n",
       "</table>\n",
       "</div>"
      ],
      "text/plain": [
       "          eu_sales\n",
       "platform          \n",
       "PS4         141.09\n",
       "PS3          67.81\n",
       "XOne         51.59\n",
       "X360         42.52\n",
       "3DS          30.96\n",
       "PC           25.36\n",
       "WiiU         19.85\n",
       "PSV           6.10\n",
       "Wii           5.93\n",
       "DS            0.85\n",
       "PSP           0.17"
      ]
     },
     "execution_count": 47,
     "metadata": {},
     "output_type": "execute_result"
    }
   ],
   "source": [
    "new_df.pivot_table(index='platform', values='eu_sales', aggfunc='sum').sort_values(by='eu_sales', ascending=False)"
   ]
  },
  {
   "cell_type": "markdown",
   "metadata": {},
   "source": [
    "В Европе наблюдается такой топ-5 платформ: PS3, Xbox360, PS4, Nintendo Wii и PC."
   ]
  },
  {
   "cell_type": "markdown",
   "metadata": {},
   "source": [
    "Самые популярные платформы (топ-5) в Японии."
   ]
  },
  {
   "cell_type": "code",
   "execution_count": 48,
   "metadata": {},
   "outputs": [
    {
     "data": {
      "text/html": [
       "<div>\n",
       "<style scoped>\n",
       "    .dataframe tbody tr th:only-of-type {\n",
       "        vertical-align: middle;\n",
       "    }\n",
       "\n",
       "    .dataframe tbody tr th {\n",
       "        vertical-align: top;\n",
       "    }\n",
       "\n",
       "    .dataframe thead th {\n",
       "        text-align: right;\n",
       "    }\n",
       "</style>\n",
       "<table border=\"1\" class=\"dataframe\">\n",
       "  <thead>\n",
       "    <tr style=\"text-align: right;\">\n",
       "      <th></th>\n",
       "      <th>jp_sales</th>\n",
       "    </tr>\n",
       "    <tr>\n",
       "      <th>platform</th>\n",
       "      <th></th>\n",
       "    </tr>\n",
       "  </thead>\n",
       "  <tbody>\n",
       "    <tr>\n",
       "      <th>3DS</th>\n",
       "      <td>67.81</td>\n",
       "    </tr>\n",
       "    <tr>\n",
       "      <th>PS3</th>\n",
       "      <td>23.35</td>\n",
       "    </tr>\n",
       "    <tr>\n",
       "      <th>PSV</th>\n",
       "      <td>18.59</td>\n",
       "    </tr>\n",
       "    <tr>\n",
       "      <th>PS4</th>\n",
       "      <td>15.96</td>\n",
       "    </tr>\n",
       "    <tr>\n",
       "      <th>WiiU</th>\n",
       "      <td>10.88</td>\n",
       "    </tr>\n",
       "    <tr>\n",
       "      <th>PSP</th>\n",
       "      <td>3.29</td>\n",
       "    </tr>\n",
       "    <tr>\n",
       "      <th>X360</th>\n",
       "      <td>0.51</td>\n",
       "    </tr>\n",
       "    <tr>\n",
       "      <th>XOne</th>\n",
       "      <td>0.34</td>\n",
       "    </tr>\n",
       "    <tr>\n",
       "      <th>Wii</th>\n",
       "      <td>0.05</td>\n",
       "    </tr>\n",
       "    <tr>\n",
       "      <th>DS</th>\n",
       "      <td>0.00</td>\n",
       "    </tr>\n",
       "    <tr>\n",
       "      <th>PC</th>\n",
       "      <td>0.00</td>\n",
       "    </tr>\n",
       "  </tbody>\n",
       "</table>\n",
       "</div>"
      ],
      "text/plain": [
       "          jp_sales\n",
       "platform          \n",
       "3DS          67.81\n",
       "PS3          23.35\n",
       "PSV          18.59\n",
       "PS4          15.96\n",
       "WiiU         10.88\n",
       "PSP           3.29\n",
       "X360          0.51\n",
       "XOne          0.34\n",
       "Wii           0.05\n",
       "DS            0.00\n",
       "PC            0.00"
      ]
     },
     "execution_count": 48,
     "metadata": {},
     "output_type": "execute_result"
    }
   ],
   "source": [
    "new_df.pivot_table(index='platform', values='jp_sales', aggfunc='sum').sort_values(by='jp_sales', ascending=False)"
   ]
  },
  {
   "cell_type": "markdown",
   "metadata": {},
   "source": [
    "В Японии наблюдается такой топ-5 платформ: Nintendo 3DS, PS3, Nintendo DS, PSP и Nintendo Wii."
   ]
  },
  {
   "cell_type": "markdown",
   "metadata": {},
   "source": [
    "Самые популярные жанры (топ-5) в Северной Америке."
   ]
  },
  {
   "cell_type": "code",
   "execution_count": 49,
   "metadata": {},
   "outputs": [
    {
     "data": {
      "text/plain": [
       "([<matplotlib.patches.Wedge at 0x7fda57b9f220>,\n",
       "  <matplotlib.patches.Wedge at 0x7fda57b9f910>,\n",
       "  <matplotlib.patches.Wedge at 0x7fda57b9ff10>,\n",
       "  <matplotlib.patches.Wedge at 0x7fda57bac550>,\n",
       "  <matplotlib.patches.Wedge at 0x7fda57bacb50>,\n",
       "  <matplotlib.patches.Wedge at 0x7fda57bbb190>,\n",
       "  <matplotlib.patches.Wedge at 0x7fda57bbb790>,\n",
       "  <matplotlib.patches.Wedge at 0x7fda57bbbdc0>,\n",
       "  <matplotlib.patches.Wedge at 0x7fda57bca400>,\n",
       "  <matplotlib.patches.Wedge at 0x7fda57bcaa00>,\n",
       "  <matplotlib.patches.Wedge at 0x7fda57b9f1f0>,\n",
       "  <matplotlib.patches.Wedge at 0x7fda57bda610>],\n",
       " [Text(0.6797106326218408, 0.864866149124139, 'Action'),\n",
       "  Text(-0.9408995416112679, 0.5698316002080844, 'Shooter'),\n",
       "  Text(-0.8330777408948545, -0.7183185070882734, 'Sports'),\n",
       "  Text(-0.06348089428758455, -1.0981667341804016, 'Role-Playing'),\n",
       "  Text(0.5007147831724511, -0.9794308071081722, 'Misc'),\n",
       "  Text(0.789163274560499, -0.7663036774575408, 'Platform'),\n",
       "  Text(0.9496997708595467, -0.5550408500545925, 'Fighting'),\n",
       "  Text(1.042671038154375, -0.35048124941867886, 'Racing'),\n",
       "  Text(1.0822264768126455, -0.19694124221627235, 'Adventure'),\n",
       "  Text(1.0951561595415198, -0.10311637221251369, 'Simulation'),\n",
       "  Text(1.0993086338349938, -0.03899394280961516, 'Strategy'),\n",
       "  Text(1.0999804788393288, -0.006553332923126906, 'Puzzle')],\n",
       " [Text(0.3707512541573677, 0.4717451722495303, '29%'),\n",
       "  Text(-0.5132179317879643, 0.31081723647713694, '25%'),\n",
       "  Text(-0.4544060404881024, -0.3918100947754218, '15%'),\n",
       "  Text(-0.03462594233868248, -0.5990000368256735, '11%'),\n",
       "  Text(0.2731171544577006, -0.5342349856953665, '6%'),\n",
       "  Text(0.43045269521481755, -0.41798382406774953, '4%'),\n",
       "  Text(0.51801805683248, -0.3027495545752322, '4%'),\n",
       "  Text(0.5687296571751136, -0.19117159059200664, '3%'),\n",
       "  Text(0.5903053509887157, -0.10742249575433035, '2%'),\n",
       "  Text(0.5973579052044652, -0.05624529393409837, '1%'),\n",
       "  Text(0.5996228911827238, -0.021269423350699177, '1%'),\n",
       "  Text(0.5999893520941793, -0.0035745452307964936, '0%')])"
      ]
     },
     "execution_count": 49,
     "metadata": {},
     "output_type": "execute_result"
    },
    {
     "data": {
      "image/png": "[encoded data removed]",
      "text/plain": [
       "<Figure size 432x288 with 1 Axes>"
      ]
     },
     "metadata": {},
     "output_type": "display_data"
    }
   ],
   "source": [
    "ab = new_df.pivot_table(index='genre', values='na_sales', aggfunc='sum').sort_values(by='na_sales', ascending=False)\n",
    "plt.pie(ab['na_sales'], labels=ab.index, autopct='%.0f%%')"
   ]
  },
  {
   "cell_type": "markdown",
   "metadata": {},
   "source": [
    "В Северной Америке самыми популярными жанрами являются: экшен, шутер, спорт, аркада и ролевая игра."
   ]
  },
  {
   "cell_type": "markdown",
   "metadata": {},
   "source": [
    "Самые популярные жанры (топ-5) в Европе."
   ]
  },
  {
   "cell_type": "code",
   "execution_count": 50,
   "metadata": {},
   "outputs": [
    {
     "data": {
      "text/plain": [
       "([<matplotlib.patches.Wedge at 0x7fda57b95d30>,\n",
       "  <matplotlib.patches.Wedge at 0x7fda57b22460>,\n",
       "  <matplotlib.patches.Wedge at 0x7fda57b22a60>,\n",
       "  <matplotlib.patches.Wedge at 0x7fda57b300a0>,\n",
       "  <matplotlib.patches.Wedge at 0x7fda57b306a0>,\n",
       "  <matplotlib.patches.Wedge at 0x7fda57b30ca0>,\n",
       "  <matplotlib.patches.Wedge at 0x7fda57b3e2e0>,\n",
       "  <matplotlib.patches.Wedge at 0x7fda57b3e8e0>,\n",
       "  <matplotlib.patches.Wedge at 0x7fda57b3eee0>,\n",
       "  <matplotlib.patches.Wedge at 0x7fda57b4f520>,\n",
       "  <matplotlib.patches.Wedge at 0x7fda57b95d00>,\n",
       "  <matplotlib.patches.Wedge at 0x7fda57ade130>],\n",
       " [Text(0.6432734453277142, 0.8922999913348718, 'Action'),\n",
       "  Text(-0.9403367321975017, 0.5707598707688936, 'Shooter'),\n",
       "  Text(-0.8803780373120612, -0.6594956492794801, 'Sports'),\n",
       "  Text(-0.16113505161472874, -1.0881339509183228, 'Role-Playing'),\n",
       "  Text(0.33641448294160425, -1.0472942736724635, 'Racing'),\n",
       "  Text(0.6507551003178982, -0.886858387461179, 'Misc'),\n",
       "  Text(0.874052497527357, -0.6678564453280283, 'Platform'),\n",
       "  Text(0.9951305015411696, -0.4687379704082233, 'Simulation'),\n",
       "  Text(1.0558566190483678, -0.3084911668293759, 'Fighting'),\n",
       "  Text(1.0876976937081455, -0.16405403714014918, 'Adventure'),\n",
       "  Text(1.0986352074679937, -0.054778471243351605, 'Strategy'),\n",
       "  Text(1.099964718531248, -0.008810107063634175, 'Puzzle')],\n",
       " [Text(0.35087642472420777, 0.4867090861826573, '30%'),\n",
       "  Text(-0.5129109448350009, 0.31132356587394194, '22%'),\n",
       "  Text(-0.48020620217021515, -0.3597248996069891, '15%'),\n",
       "  Text(-0.08789184633530657, -0.5935276095918124, '9%'),\n",
       "  Text(0.18349880887723868, -0.5712514220031619, '5%'),\n",
       "  Text(0.35495732744612624, -0.4837409386151884, '5%'),\n",
       "  Text(0.4767559077421947, -0.36428533381528816, '4%'),\n",
       "  Text(0.5427984553860924, -0.2556752565863036, '3%'),\n",
       "  Text(0.5759217922082006, -0.16826790917965956, '2%'),\n",
       "  Text(0.5932896511135338, -0.08948402025826317, '2%'),\n",
       "  Text(0.5992555677098147, -0.029879166132737237, '1%'),\n",
       "  Text(0.5999807555624989, -0.004805512943800459, '0%')])"
      ]
     },
     "execution_count": 50,
     "metadata": {},
     "output_type": "execute_result"
    },
    {
     "data": {
      "image/png": "[encoded data removed]",
      "text/plain": [
       "<Figure size 432x288 with 1 Axes>"
      ]
     },
     "metadata": {},
     "output_type": "display_data"
    }
   ],
   "source": [
    "ab = new_df.pivot_table(index='genre', values='eu_sales', aggfunc='sum').sort_values(by='eu_sales', ascending=False)\n",
    "plt.pie(ab['eu_sales'], labels=ab.index, autopct='%.0f%%')"
   ]
  },
  {
   "cell_type": "markdown",
   "metadata": {},
   "source": [
    "В Европе точно такие же популярные жанры, как и в Северной Америке."
   ]
  },
  {
   "cell_type": "markdown",
   "metadata": {},
   "source": [
    "Самые популярные жанры (топ-5) в Японии."
   ]
  },
  {
   "cell_type": "code",
   "execution_count": 51,
   "metadata": {},
   "outputs": [
    {
     "data": {
      "text/plain": [
       "([<matplotlib.patches.Wedge at 0x7fda5623e820>,\n",
       "  <matplotlib.patches.Wedge at 0x7fda5623ef10>,\n",
       "  <matplotlib.patches.Wedge at 0x7fda5624c550>,\n",
       "  <matplotlib.patches.Wedge at 0x7fda5624cb50>,\n",
       "  <matplotlib.patches.Wedge at 0x7fda5625c190>,\n",
       "  <matplotlib.patches.Wedge at 0x7fda5625c790>,\n",
       "  <matplotlib.patches.Wedge at 0x7fda5625cd90>,\n",
       "  <matplotlib.patches.Wedge at 0x7fda5626a3d0>,\n",
       "  <matplotlib.patches.Wedge at 0x7fda5626a9d0>,\n",
       "  <matplotlib.patches.Wedge at 0x7fda5626afd0>,\n",
       "  <matplotlib.patches.Wedge at 0x7fda5623e7f0>,\n",
       "  <matplotlib.patches.Wedge at 0x7fda5627abe0>],\n",
       " [Text(0.46036404947847065, 0.9990320024642776, 'Role-Playing'),\n",
       "  Text(-1.0991225303238712, -0.043927933418847924, 'Action'),\n",
       "  Text(-0.4505324600234556, -1.0035041118327386, 'Misc'),\n",
       "  Text(-0.05054914085225468, -1.0988379245180333, 'Fighting'),\n",
       "  Text(0.29578997727485, -1.059484916996813, 'Shooter'),\n",
       "  Text(0.5746125927120485, -0.9379874030586646, 'Adventure'),\n",
       "  Text(0.7892742940293831, -0.7661893295944672, 'Sports'),\n",
       "  Text(0.9418134725178458, -0.5683197893649995, 'Platform'),\n",
       "  Text(1.038786100996626, -0.3618334373385464, 'Simulation'),\n",
       "  Text(1.0816348286292075, -0.2001651755332709, 'Racing'),\n",
       "  Text(1.0953315669919783, -0.10123615140303205, 'Strategy'),\n",
       "  Text(1.0996186600610507, -0.028962086346458263, 'Puzzle')],\n",
       " [Text(0.25110766335189305, 0.5449265467986968, '36%'),\n",
       "  Text(-0.599521380176657, -0.023960690955735227, '29%'),\n",
       "  Text(-0.2457449781946121, -0.5473658791814937, '7%'),\n",
       "  Text(-0.027572258646684368, -0.5993661406461999, '5%'),\n",
       "  Text(0.1613399876044636, -0.5779008638164435, '5%'),\n",
       "  Text(0.31342505057020825, -0.5116294925774534, '4%'),\n",
       "  Text(0.43051325128875434, -0.41792145250607293, '4%'),\n",
       "  Text(0.5137164395551885, -0.30999261238090875, '3%'),\n",
       "  Text(0.5666106005436141, -0.19736369309375254, '3%'),\n",
       "  Text(0.5899826337977494, -0.10918100483632957, '2%'),\n",
       "  Text(0.5974535819956245, -0.055219718947108386, '1%'),\n",
       "  Text(0.5997919963969366, -0.015797501643522685, '1%')])"
      ]
     },
     "execution_count": 51,
     "metadata": {},
     "output_type": "execute_result"
    },
    {
     "data": {
      "image/png": "[encoded data removed]",
      "text/plain": [
       "<Figure size 432x288 with 1 Axes>"
      ]
     },
     "metadata": {},
     "output_type": "display_data"
    }
   ],
   "source": [
    "ab = new_df.pivot_table(index='genre', values='jp_sales', aggfunc='sum').sort_values(by='jp_sales', ascending=False)\n",
    "plt.pie(ab['jp_sales'], labels=ab.index, autopct='%.0f%%')"
   ]
  },
  {
   "cell_type": "code",
   "execution_count": 67,
   "metadata": {},
   "outputs": [
    {
     "data": {
      "image/png": "[encoded data removed]",
      "text/plain": [
       "<Figure size 1080x360 with 3 Axes>"
      ]
     },
     "metadata": {},
     "output_type": "display_data"
    }
   ],
   "source": [
    "tmp = new_df.copy()\n",
    "region = tmp.columns[4:7]\n",
    "# начертим круговую диаграмму для каждого региона\n",
    "fig, axs = plt.subplots(1, 3, figsize=(15, 5))\n",
    "fig.suptitle('ТОП-5 жанров в регионах')\n",
    "for i in range(len(region)):\n",
    "  # выберем 5 самых продающих жанров\n",
    "  df_i = (tmp.groupby('genre')[region[i]].sum().reset_index().\n",
    "          sort_values(region[i], ascending = False, ignore_index = True)[:5])\n",
    "  # занесем все остальыне продажи в другие жанры\n",
    "  df_i = df_i.append({'genre': 'Other_genre', region[i]: tmp[region[i]].sum() - df_i[region[i]].sum()}, ignore_index= True)\n",
    "  axs[i].pie(df_i[region[i]], labels = df_i['genre'], autopct='%1.1f%%')\n",
    "  # Зададим название региона.\n",
    "  axs[i].set_title(df_i.columns[1].split('_')[0].upper())\n",
    "plt.show()"
   ]
  },
  {
   "cell_type": "markdown",
   "metadata": {},
   "source": [
    "В Японии же популярными жанрами являются: ролевые игры, экшен, аркады, спорт и платформеры."
   ]
  },
  {
   "cell_type": "markdown",
   "metadata": {},
   "source": [
    "Как влияет рейтинг ESRB на продажи в отдельном регионе:"
   ]
  },
  {
   "cell_type": "code",
   "execution_count": 52,
   "metadata": {},
   "outputs": [
    {
     "data": {
      "text/html": [
       "<div>\n",
       "<style scoped>\n",
       "    .dataframe tbody tr th:only-of-type {\n",
       "        vertical-align: middle;\n",
       "    }\n",
       "\n",
       "    .dataframe tbody tr th {\n",
       "        vertical-align: top;\n",
       "    }\n",
       "\n",
       "    .dataframe thead th {\n",
       "        text-align: right;\n",
       "    }\n",
       "</style>\n",
       "<table border=\"1\" class=\"dataframe\">\n",
       "  <thead>\n",
       "    <tr style=\"text-align: right;\">\n",
       "      <th></th>\n",
       "      <th>na_sales</th>\n",
       "    </tr>\n",
       "    <tr>\n",
       "      <th>rating</th>\n",
       "      <th></th>\n",
       "    </tr>\n",
       "  </thead>\n",
       "  <tbody>\n",
       "    <tr>\n",
       "      <th>M</th>\n",
       "      <td>165.21</td>\n",
       "    </tr>\n",
       "    <tr>\n",
       "      <th>unknown</th>\n",
       "      <td>89.42</td>\n",
       "    </tr>\n",
       "    <tr>\n",
       "      <th>E</th>\n",
       "      <td>79.05</td>\n",
       "    </tr>\n",
       "    <tr>\n",
       "      <th>E10+</th>\n",
       "      <td>54.24</td>\n",
       "    </tr>\n",
       "    <tr>\n",
       "      <th>T</th>\n",
       "      <td>49.79</td>\n",
       "    </tr>\n",
       "  </tbody>\n",
       "</table>\n",
       "</div>"
      ],
      "text/plain": [
       "         na_sales\n",
       "rating           \n",
       "M          165.21\n",
       "unknown     89.42\n",
       "E           79.05\n",
       "E10+        54.24\n",
       "T           49.79"
      ]
     },
     "execution_count": 52,
     "metadata": {},
     "output_type": "execute_result"
    }
   ],
   "source": [
    "new_df.pivot_table(index='rating', values='na_sales', aggfunc='sum').sort_values(by='na_sales', ascending=False)"
   ]
  },
  {
   "cell_type": "markdown",
   "metadata": {},
   "source": [
    "В Северной Америке самые популярные игры с рейтингом M (материалы игры не подходят для лиц младше 17 лет), а также с рейтингом E (содержание вполне подходит для всех возрастов) и игры без рейтинга."
   ]
  },
  {
   "cell_type": "code",
   "execution_count": 53,
   "metadata": {},
   "outputs": [
    {
     "data": {
      "text/html": [
       "<div>\n",
       "<style scoped>\n",
       "    .dataframe tbody tr th:only-of-type {\n",
       "        vertical-align: middle;\n",
       "    }\n",
       "\n",
       "    .dataframe tbody tr th {\n",
       "        vertical-align: top;\n",
       "    }\n",
       "\n",
       "    .dataframe thead th {\n",
       "        text-align: right;\n",
       "    }\n",
       "</style>\n",
       "<table border=\"1\" class=\"dataframe\">\n",
       "  <thead>\n",
       "    <tr style=\"text-align: right;\">\n",
       "      <th></th>\n",
       "      <th>eu_sales</th>\n",
       "    </tr>\n",
       "    <tr>\n",
       "      <th>rating</th>\n",
       "      <th></th>\n",
       "    </tr>\n",
       "  </thead>\n",
       "  <tbody>\n",
       "    <tr>\n",
       "      <th>M</th>\n",
       "      <td>145.32</td>\n",
       "    </tr>\n",
       "    <tr>\n",
       "      <th>E</th>\n",
       "      <td>83.36</td>\n",
       "    </tr>\n",
       "    <tr>\n",
       "      <th>unknown</th>\n",
       "      <td>78.91</td>\n",
       "    </tr>\n",
       "    <tr>\n",
       "      <th>E10+</th>\n",
       "      <td>42.69</td>\n",
       "    </tr>\n",
       "    <tr>\n",
       "      <th>T</th>\n",
       "      <td>41.95</td>\n",
       "    </tr>\n",
       "  </tbody>\n",
       "</table>\n",
       "</div>"
      ],
      "text/plain": [
       "         eu_sales\n",
       "rating           \n",
       "M          145.32\n",
       "E           83.36\n",
       "unknown     78.91\n",
       "E10+        42.69\n",
       "T           41.95"
      ]
     },
     "execution_count": 53,
     "metadata": {},
     "output_type": "execute_result"
    }
   ],
   "source": [
    "new_df.pivot_table(index='rating', values='eu_sales', aggfunc='sum').sort_values(by='eu_sales', ascending=False)"
   ]
  },
  {
   "cell_type": "markdown",
   "metadata": {},
   "source": [
    "В Европе самые популярные игры с таким же игровым рейтингом, как и в Северной Америке."
   ]
  },
  {
   "cell_type": "code",
   "execution_count": 54,
   "metadata": {},
   "outputs": [
    {
     "data": {
      "text/html": [
       "<div>\n",
       "<style scoped>\n",
       "    .dataframe tbody tr th:only-of-type {\n",
       "        vertical-align: middle;\n",
       "    }\n",
       "\n",
       "    .dataframe tbody tr th {\n",
       "        vertical-align: top;\n",
       "    }\n",
       "\n",
       "    .dataframe thead th {\n",
       "        text-align: right;\n",
       "    }\n",
       "</style>\n",
       "<table border=\"1\" class=\"dataframe\">\n",
       "  <thead>\n",
       "    <tr style=\"text-align: right;\">\n",
       "      <th></th>\n",
       "      <th>jp_sales</th>\n",
       "    </tr>\n",
       "    <tr>\n",
       "      <th>rating</th>\n",
       "      <th></th>\n",
       "    </tr>\n",
       "  </thead>\n",
       "  <tbody>\n",
       "    <tr>\n",
       "      <th>unknown</th>\n",
       "      <td>85.05</td>\n",
       "    </tr>\n",
       "    <tr>\n",
       "      <th>T</th>\n",
       "      <td>20.59</td>\n",
       "    </tr>\n",
       "    <tr>\n",
       "      <th>E</th>\n",
       "      <td>15.14</td>\n",
       "    </tr>\n",
       "    <tr>\n",
       "      <th>M</th>\n",
       "      <td>14.11</td>\n",
       "    </tr>\n",
       "    <tr>\n",
       "      <th>E10+</th>\n",
       "      <td>5.89</td>\n",
       "    </tr>\n",
       "  </tbody>\n",
       "</table>\n",
       "</div>"
      ],
      "text/plain": [
       "         jp_sales\n",
       "rating           \n",
       "unknown     85.05\n",
       "T           20.59\n",
       "E           15.14\n",
       "M           14.11\n",
       "E10+         5.89"
      ]
     },
     "execution_count": 54,
     "metadata": {},
     "output_type": "execute_result"
    }
   ],
   "source": [
    "new_df.pivot_table(index='rating', values='jp_sales', aggfunc='sum').sort_values(by='jp_sales', ascending=False)"
   ]
  },
  {
   "cell_type": "markdown",
   "metadata": {},
   "source": [
    "В Японии популярны игры без рейтинга и с рейтингом Е (содержание вполне подходит для всех возрастов), а также Т (игра подходит для лиц от 13 лет)."
   ]
  },
  {
   "cell_type": "code",
   "execution_count": 55,
   "metadata": {},
   "outputs": [
    {
     "name": "stdout",
     "output_type": "stream",
     "text": [
      "0 0.0\n"
     ]
    },
    {
     "data": {
      "text/plain": [
       "unknown    977\n",
       "M          369\n",
       "T          333\n",
       "E          302\n",
       "E10+       252\n",
       "Name: rating, dtype: int64"
      ]
     },
     "execution_count": 55,
     "metadata": {},
     "output_type": "execute_result"
    }
   ],
   "source": [
    "# Комментарий ревьюера\n",
    "temp = new_df.copy()\n",
    "print(temp.rating.isna().sum(), temp.rating.isna().sum()/len(temp))\n",
    "temp.rating.value_counts()"
   ]
  },
  {
   "cell_type": "markdown",
   "metadata": {},
   "source": [
    "###  Проверка гипотез"
   ]
  },
  {
   "cell_type": "markdown",
   "metadata": {},
   "source": [
    "Далее предлагаю проверить гипотезу, что средние пользовательские рейтинги платформ Xbox One и PC одинаковые."
   ]
  },
  {
   "cell_type": "markdown",
   "metadata": {},
   "source": [
    "Нулевая гипотеза: средние пользовательские рейтинги платформ Xbox One и PC одинаковые.\n",
    "\n",
    "Альтернативная гипотеза: средние пользовательские рейтинги платформ Xbox One и PC разные."
   ]
  },
  {
   "cell_type": "markdown",
   "metadata": {},
   "source": [
    "Принципы формирования нулевой и альтернативной гипотез: Н0 - гипотеза, при которой средние генеральных совокупностей равны.\n",
    "Н1 - противоречащее Н0 выражение \"средние не равны\"."
   ]
  },
  {
   "cell_type": "code",
   "execution_count": 56,
   "metadata": {},
   "outputs": [
    {
     "data": {
      "text/plain": [
       "1.8965188383045526"
      ]
     },
     "execution_count": 56,
     "metadata": {},
     "output_type": "execute_result"
    }
   ],
   "source": [
    "x = new_df.query('platform== \"XOne\"')\n",
    "var1 = np.var(x['user_score'])\n",
    "var1"
   ]
  },
  {
   "cell_type": "code",
   "execution_count": 57,
   "metadata": {},
   "outputs": [
    {
     "data": {
      "text/plain": [
       "3.01630634755463"
      ]
     },
     "execution_count": 57,
     "metadata": {},
     "output_type": "execute_result"
    }
   ],
   "source": [
    "y = new_df.query('platform== \"PC\"')\n",
    "var2 = np.var(y['user_score'])\n",
    "var2"
   ]
  },
  {
   "cell_type": "markdown",
   "metadata": {},
   "source": [
    "Из вышеперечисленных расчетов, можно сказать, что дисперсии двух генеральных совокупнстей не равны. И так как объемы выборок не равны, есть основания для того, что бы поставить параметр **equal_var=False**."
   ]
  },
  {
   "cell_type": "code",
   "execution_count": 58,
   "metadata": {
    "scrolled": true
   },
   "outputs": [
    {
     "name": "stdout",
     "output_type": "stream",
     "text": [
      "p-значение: 0.14759594013430463\n",
      "Не получилось отвергнуть нулевую гипотезу\n"
     ]
    }
   ],
   "source": [
    "x1 = x['user_score']\n",
    "x1 = x1.dropna()\n",
    "\n",
    "y1 = y['user_score']\n",
    "y1 = y1.dropna()\n",
    "\n",
    "alpha = 0.05 #уровень статистической значимости если p-value окажется меньше него, отвергнем гипотезу\n",
    "\n",
    "results = st.ttest_ind(x1, y1, equal_var=False)\n",
    "print('p-значение:', results.pvalue)\n",
    "\n",
    "if results.pvalue < alpha:\n",
    "    print('Отвергаем нулевую гипотезу')\n",
    "else:\n",
    "    print('Не получилось отвергнуть нулевую гипотезу') "
   ]
  },
  {
   "cell_type": "code",
   "execution_count": 59,
   "metadata": {},
   "outputs": [
    {
     "data": {
      "text/plain": [
       "6.521428571428572"
      ]
     },
     "execution_count": 59,
     "metadata": {},
     "output_type": "execute_result"
    }
   ],
   "source": [
    "x1.sum() / len(x1)"
   ]
  },
  {
   "cell_type": "code",
   "execution_count": 60,
   "metadata": {},
   "outputs": [
    {
     "data": {
      "text/plain": [
       "6.2696774193548395"
      ]
     },
     "execution_count": 60,
     "metadata": {},
     "output_type": "execute_result"
    }
   ],
   "source": [
    "y1.sum() / len(y1)"
   ]
  },
  {
   "cell_type": "markdown",
   "metadata": {},
   "source": [
    "*Можно сделать вывод, что на имеющихся данных, на уровне значимости 5% (уровне доверия 95%) нет оснований отвергнуть\n",
    "нулевую гипотезу в пользу альтернативы. И можно увидеть, что средние оценки примерно равны.*"
   ]
  },
  {
   "cell_type": "markdown",
   "metadata": {},
   "source": [
    " Теперь посмотрим гипотезу, что средние пользовательские рейтинги жанров Action (англ. «действие», экшен-игры) и Sports (англ. «спортивные соревнования») разные."
   ]
  },
  {
   "cell_type": "markdown",
   "metadata": {},
   "source": [
    "Нулевая гипотеза: средние пользовательские рейтинги жанров Action и Sports одинаковые.\n",
    "\n",
    "Альтернативная гипотеза: средний пользовательский рейтингй жанра Action больше, чем Sports."
   ]
  },
  {
   "cell_type": "markdown",
   "metadata": {},
   "source": [
    "Принципы формирования нулевой и альтернативной гипотез: Н0 - гипотеза, при которой средние генеральных совокупностей равны. Н1 - противоречащая гипотеза \"среднее Acrtion больше, чем Sports\"."
   ]
  },
  {
   "cell_type": "code",
   "execution_count": 61,
   "metadata": {},
   "outputs": [
    {
     "data": {
      "text/plain": [
       "1.7648124186332366"
      ]
     },
     "execution_count": 61,
     "metadata": {},
     "output_type": "execute_result"
    }
   ],
   "source": [
    "a = new_df.query('genre == \"Action\"')\n",
    "a1 = a['user_score']\n",
    "var1 = np.var(a1)\n",
    "var1"
   ]
  },
  {
   "cell_type": "code",
   "execution_count": 62,
   "metadata": {},
   "outputs": [
    {
     "data": {
      "text/plain": [
       "3.160733984375"
      ]
     },
     "execution_count": 62,
     "metadata": {},
     "output_type": "execute_result"
    }
   ],
   "source": [
    "b = new_df.query('genre == \"Sports\"')\n",
    "b1 = b['user_score']\n",
    "var2 = np.var(b1)\n",
    "var2"
   ]
  },
  {
   "cell_type": "markdown",
   "metadata": {},
   "source": [
    "Из вышеперечисленных расчетов, можно сказать, что дисперсии двух генеральных совокупнстей не равны. И так как объемы выборок не равны, есть основания для того, что бы поставить параметр **equal_var=False**."
   ]
  },
  {
   "cell_type": "code",
   "execution_count": 63,
   "metadata": {
    "scrolled": true
   },
   "outputs": [
    {
     "name": "stdout",
     "output_type": "stream",
     "text": [
      "p-значение: 1.4460039700704315e-20\n",
      "Отвергаем нулевую гипотезу\n"
     ]
    }
   ],
   "source": [
    "a1 = a1.dropna()\n",
    "\n",
    "b1 = b1.dropna()\n",
    "\n",
    "alpha = 0.01 #уровень статистической значимости если p-value окажется меньше него, отвергнем гипотезу\n",
    "\n",
    "results = st.ttest_ind(a1, b1, equal_var=False)\n",
    "print('p-значение:', results.pvalue)\n",
    "\n",
    "if results.pvalue < alpha:\n",
    "    print('Отвергаем нулевую гипотезу')\n",
    "else:\n",
    "    print('Не получилось отвергнуть нулевую гипотезу') "
   ]
  },
  {
   "cell_type": "code",
   "execution_count": 64,
   "metadata": {},
   "outputs": [
    {
     "data": {
      "text/plain": [
       "6.837532133676092"
      ]
     },
     "execution_count": 64,
     "metadata": {},
     "output_type": "execute_result"
    }
   ],
   "source": [
    "a1.sum() / len(a1)"
   ]
  },
  {
   "cell_type": "code",
   "execution_count": 65,
   "metadata": {},
   "outputs": [
    {
     "data": {
      "text/plain": [
       "5.238124999999999"
      ]
     },
     "execution_count": 65,
     "metadata": {},
     "output_type": "execute_result"
    }
   ],
   "source": [
    "b1.sum() / len(b1)"
   ]
  },
  {
   "cell_type": "markdown",
   "metadata": {},
   "source": [
    "*Из расчетов делаем вывод, что на имеющихся данных, на уровне значимости 5% (уровне доверия 95%) есть основания отвергнуть\n",
    "нулевую гипотезу в пользу альтернативы. Отличие в средних более, чем на 1.5 пункта.*"
   ]
  },
  {
   "cell_type": "markdown",
   "metadata": {},
   "source": [
    "T-критерий я применил к выборкам, потому что выборки независимые и в них находятся количественные переменые."
   ]
  },
  {
   "cell_type": "markdown",
   "metadata": {},
   "source": [
    "### Вывод"
   ]
  },
  {
   "cell_type": "markdown",
   "metadata": {},
   "source": [
    "Чтобы сделать прогноз на 2017 год, я взял данные с 2008 года, потому что именно с этого года начинается тенденция спада количества проданных игр. Этот спад обусловлен тем, что компании по выпуску игр снижают количество засчет повышения качества игр.\n",
    "\n",
    "**В период с 2008 года были определеные следющие параметры:**\n",
    "\n",
    "*1)**Самыми популярными платформами** являются: Xbox360, PS4, XboxOne, PS3. Все платформы падают по продажам игр.*\n",
    "\n",
    "*2)**Оценки критиков слегка влияют на продажу игр** по платформам, так как их оценки более объективные. А **оценки пользователей вообще не влияют на продажу**, так как, я считаю, что у всех пользователей разные мнения и оценки субъективные.*\n",
    "\n",
    "*3)**Самым популярным жанром является шутер**. Меньше всего игр по жанрам: приключения, пазлы и стратегии. Но хочется отметить, что везде присутствуют выбросы, особенно в жанрах спорт и платформер.*\n",
    "\n",
    "*4)Для жителей **Европы и Северной Америки** популярными платформами являются **PS3** и **Xbox 360**. Для жителей **Японии** также **PS3**, но и **Nintendo 3DS**.*\n",
    "\n",
    "*5)Для **всех регионов популярен жанр шутер**, и для жителей **Европы и Северной Америки** можно выделить популярность жанров **экшен и спорт**. В **Японии** популярны жанры: **аркада и ролевая игра**.*\n",
    "\n",
    "*6)**Влияет ли рейтинг ESRB на продажи? - Да**: для всех регионов в топ-3 входили игры с рейтингами М (материалы игры не подходят для лиц младше 17 лет), Е (содержание вполне подходит для всех возрастов), Т (игра подходит для лиц от 13 лет).*\n",
    "\n",
    "*7)Средние пользовательские **рейтинги платформ Xbox One и PC одинаковые?**\n",
    "Ответ: **нет предпоссылок, это отвергать**. Ответ дан, исходя из проверки гипотезы о равенстве средних двух генеральных совокупностей.*\n",
    "\n",
    "*8)Средние пользовательские **рейтинги жанров Action и Sports разные?**\n",
    "Ответ: **есть предпоссылки это опровергнуть**. Ответ также получен из проверки гипотезы.*\n",
    "\n",
    "\n",
    "Рекомендации для рекламного отдела:\n",
    "\n",
    "1)Стоит потратить на рекламу в Северной Америке, на платформе PS4, с жанром экшен и с рейтингом М. А также стоит немного обратить внимание на отзывы критиков.\n",
    "\n",
    "2)Или по таким же параметрам только в Европе."
   ]
  }
 ],
 "metadata": {
  "ExecuteTimeLog": [
   {
    "duration": 446,
    "start_time": "2023-02-28T11:33:54.524Z"
   },
   {
    "duration": 210,
    "start_time": "2023-02-28T11:35:14.511Z"
   },
   {
    "duration": 16,
    "start_time": "2023-02-28T11:35:22.524Z"
   },
   {
    "duration": 50,
    "start_time": "2023-02-28T11:37:18.139Z"
   },
   {
    "duration": 86,
    "start_time": "2023-02-28T11:37:25.736Z"
   },
   {
    "duration": 20,
    "start_time": "2023-02-28T11:37:28.998Z"
   },
   {
    "duration": 1215,
    "start_time": "2023-02-28T11:42:03.315Z"
   },
   {
    "duration": 4,
    "start_time": "2023-02-28T11:51:45.472Z"
   },
   {
    "duration": 87,
    "start_time": "2023-02-28T11:52:36.230Z"
   },
   {
    "duration": 13,
    "start_time": "2023-02-28T11:52:41.502Z"
   },
   {
    "duration": 4,
    "start_time": "2023-02-28T11:53:41.134Z"
   },
   {
    "duration": 6,
    "start_time": "2023-02-28T11:58:30.138Z"
   },
   {
    "duration": 4,
    "start_time": "2023-02-28T11:59:11.138Z"
   },
   {
    "duration": 5,
    "start_time": "2023-02-28T11:59:19.162Z"
   },
   {
    "duration": 8,
    "start_time": "2023-02-28T11:59:29.170Z"
   },
   {
    "duration": 4,
    "start_time": "2023-02-28T12:00:09.858Z"
   },
   {
    "duration": 13,
    "start_time": "2023-02-28T12:02:00.789Z"
   },
   {
    "duration": 8,
    "start_time": "2023-02-28T12:06:47.172Z"
   },
   {
    "duration": 9,
    "start_time": "2023-02-28T12:08:30.407Z"
   },
   {
    "duration": 70,
    "start_time": "2023-02-28T12:08:51.760Z"
   },
   {
    "duration": 3,
    "start_time": "2023-02-28T12:10:24.505Z"
   },
   {
    "duration": 15,
    "start_time": "2023-02-28T12:10:30.253Z"
   },
   {
    "duration": 3,
    "start_time": "2023-02-28T12:10:53.017Z"
   },
   {
    "duration": 15,
    "start_time": "2023-02-28T12:10:55.457Z"
   },
   {
    "duration": 6,
    "start_time": "2023-02-28T12:13:43.378Z"
   },
   {
    "duration": 6,
    "start_time": "2023-02-28T12:19:07.010Z"
   },
   {
    "duration": 23,
    "start_time": "2023-02-28T12:19:42.488Z"
   },
   {
    "duration": 13,
    "start_time": "2023-02-28T12:21:53.260Z"
   },
   {
    "duration": 24,
    "start_time": "2023-02-28T12:22:39.872Z"
   },
   {
    "duration": 14,
    "start_time": "2023-02-28T12:24:22.889Z"
   },
   {
    "duration": 9,
    "start_time": "2023-02-28T12:24:49.944Z"
   },
   {
    "duration": 15,
    "start_time": "2023-02-28T12:25:39.986Z"
   },
   {
    "duration": 6,
    "start_time": "2023-02-28T12:26:30.010Z"
   },
   {
    "duration": 9,
    "start_time": "2023-02-28T12:26:34.377Z"
   },
   {
    "duration": 12,
    "start_time": "2023-02-28T12:26:44.130Z"
   },
   {
    "duration": 7,
    "start_time": "2023-02-28T12:26:51.634Z"
   },
   {
    "duration": 15,
    "start_time": "2023-02-28T12:30:03.123Z"
   },
   {
    "duration": 30,
    "start_time": "2023-02-28T12:30:33.061Z"
   },
   {
    "duration": 27,
    "start_time": "2023-02-28T12:31:40.758Z"
   },
   {
    "duration": 3,
    "start_time": "2023-02-28T12:32:02.900Z"
   },
   {
    "duration": 52,
    "start_time": "2023-02-28T12:32:03.192Z"
   },
   {
    "duration": 16,
    "start_time": "2023-02-28T12:32:03.476Z"
   },
   {
    "duration": 19,
    "start_time": "2023-02-28T12:32:03.780Z"
   },
   {
    "duration": 859,
    "start_time": "2023-02-28T12:32:04.190Z"
   },
   {
    "duration": 4,
    "start_time": "2023-02-28T12:32:05.051Z"
   },
   {
    "duration": 4,
    "start_time": "2023-02-28T12:32:05.302Z"
   },
   {
    "duration": 5,
    "start_time": "2023-02-28T12:32:05.961Z"
   },
   {
    "duration": 10,
    "start_time": "2023-02-28T12:32:06.237Z"
   },
   {
    "duration": 17,
    "start_time": "2023-02-28T12:32:06.669Z"
   },
   {
    "duration": 13,
    "start_time": "2023-02-28T12:32:07.062Z"
   },
   {
    "duration": 22,
    "start_time": "2023-02-28T12:32:07.501Z"
   },
   {
    "duration": 44,
    "start_time": "2023-02-28T12:32:15.413Z"
   },
   {
    "duration": 13,
    "start_time": "2023-02-28T12:33:32.173Z"
   },
   {
    "duration": 18,
    "start_time": "2023-02-28T12:33:43.414Z"
   },
   {
    "duration": 11,
    "start_time": "2023-02-28T12:34:07.366Z"
   },
   {
    "duration": 17,
    "start_time": "2023-02-28T12:34:09.117Z"
   },
   {
    "duration": 13,
    "start_time": "2023-02-28T12:37:35.111Z"
   },
   {
    "duration": 23,
    "start_time": "2023-02-28T12:38:29.736Z"
   },
   {
    "duration": 6,
    "start_time": "2023-02-28T12:39:46.238Z"
   },
   {
    "duration": 30,
    "start_time": "2023-02-28T12:41:07.225Z"
   },
   {
    "duration": 6,
    "start_time": "2023-02-28T12:43:02.402Z"
   },
   {
    "duration": 6,
    "start_time": "2023-02-28T12:47:49.075Z"
   },
   {
    "duration": 5,
    "start_time": "2023-02-28T12:49:34.917Z"
   },
   {
    "duration": 6,
    "start_time": "2023-02-28T12:49:42.927Z"
   },
   {
    "duration": 5,
    "start_time": "2023-02-28T12:56:46.898Z"
   },
   {
    "duration": 15,
    "start_time": "2023-02-28T12:56:55.194Z"
   },
   {
    "duration": 4,
    "start_time": "2023-02-28T15:02:13.618Z"
   },
   {
    "duration": 24,
    "start_time": "2023-02-28T15:02:15.769Z"
   },
   {
    "duration": 20,
    "start_time": "2023-02-28T15:21:21.324Z"
   },
   {
    "duration": 11,
    "start_time": "2023-02-28T15:21:27.556Z"
   },
   {
    "duration": 3,
    "start_time": "2023-02-28T15:21:35.548Z"
   },
   {
    "duration": 4,
    "start_time": "2023-02-28T15:21:40.971Z"
   },
   {
    "duration": 8,
    "start_time": "2023-02-28T15:24:27.973Z"
   },
   {
    "duration": 3,
    "start_time": "2023-02-28T15:29:06.967Z"
   },
   {
    "duration": 180,
    "start_time": "2023-02-28T15:29:53.936Z"
   },
   {
    "duration": 199,
    "start_time": "2023-02-28T15:31:15.057Z"
   },
   {
    "duration": 181,
    "start_time": "2023-02-28T15:31:30.849Z"
   },
   {
    "duration": 229,
    "start_time": "2023-02-28T15:32:42.825Z"
   },
   {
    "duration": 141,
    "start_time": "2023-02-28T15:33:31.482Z"
   },
   {
    "duration": 149,
    "start_time": "2023-02-28T15:34:10.147Z"
   },
   {
    "duration": 127,
    "start_time": "2023-02-28T15:34:14.642Z"
   },
   {
    "duration": 291,
    "start_time": "2023-02-28T15:34:52.986Z"
   },
   {
    "duration": 209,
    "start_time": "2023-02-28T15:35:19.139Z"
   },
   {
    "duration": 132,
    "start_time": "2023-02-28T15:35:46.651Z"
   },
   {
    "duration": 230,
    "start_time": "2023-02-28T15:36:00.388Z"
   },
   {
    "duration": 170,
    "start_time": "2023-02-28T15:36:19.275Z"
   },
   {
    "duration": 199,
    "start_time": "2023-02-28T15:47:18.881Z"
   },
   {
    "duration": 162,
    "start_time": "2023-02-28T15:47:28.770Z"
   },
   {
    "duration": 161,
    "start_time": "2023-02-28T15:49:24.531Z"
   },
   {
    "duration": 6,
    "start_time": "2023-02-28T15:50:39.371Z"
   },
   {
    "duration": 12,
    "start_time": "2023-02-28T15:52:01.652Z"
   },
   {
    "duration": 6,
    "start_time": "2023-02-28T15:52:06.868Z"
   },
   {
    "duration": 9,
    "start_time": "2023-02-28T15:53:33.157Z"
   },
   {
    "duration": 11,
    "start_time": "2023-02-28T15:54:10.433Z"
   },
   {
    "duration": 12,
    "start_time": "2023-02-28T15:54:17.478Z"
   },
   {
    "duration": 128,
    "start_time": "2023-02-28T16:42:17.506Z"
   },
   {
    "duration": 11,
    "start_time": "2023-02-28T16:43:10.563Z"
   },
   {
    "duration": 7,
    "start_time": "2023-02-28T16:44:42.331Z"
   },
   {
    "duration": 72,
    "start_time": "2023-02-28T16:52:11.039Z"
   },
   {
    "duration": 7,
    "start_time": "2023-02-28T16:52:17.503Z"
   },
   {
    "duration": 10,
    "start_time": "2023-02-28T16:54:48.161Z"
   },
   {
    "duration": 11,
    "start_time": "2023-02-28T16:54:51.745Z"
   },
   {
    "duration": 10,
    "start_time": "2023-02-28T16:54:59.473Z"
   },
   {
    "duration": 4,
    "start_time": "2023-02-28T16:59:22.627Z"
   },
   {
    "duration": 16,
    "start_time": "2023-02-28T16:59:29.763Z"
   },
   {
    "duration": 12,
    "start_time": "2023-02-28T16:59:38.487Z"
   },
   {
    "duration": 13,
    "start_time": "2023-02-28T16:59:41.011Z"
   },
   {
    "duration": 11,
    "start_time": "2023-02-28T17:00:34.820Z"
   },
   {
    "duration": 12,
    "start_time": "2023-02-28T17:01:52.606Z"
   },
   {
    "duration": 9,
    "start_time": "2023-02-28T17:02:04.926Z"
   },
   {
    "duration": 10,
    "start_time": "2023-02-28T17:02:18.412Z"
   },
   {
    "duration": 17,
    "start_time": "2023-02-28T17:03:15.045Z"
   },
   {
    "duration": 10,
    "start_time": "2023-02-28T17:03:26.798Z"
   },
   {
    "duration": 5,
    "start_time": "2023-02-28T17:03:29.294Z"
   },
   {
    "duration": 15,
    "start_time": "2023-02-28T17:03:34.269Z"
   },
   {
    "duration": 16,
    "start_time": "2023-02-28T17:03:43.134Z"
   },
   {
    "duration": 13,
    "start_time": "2023-02-28T17:04:00.822Z"
   },
   {
    "duration": 10,
    "start_time": "2023-02-28T17:04:20.046Z"
   },
   {
    "duration": 16,
    "start_time": "2023-02-28T17:04:20.729Z"
   },
   {
    "duration": 347,
    "start_time": "2023-02-28T17:05:29.766Z"
   },
   {
    "duration": 318,
    "start_time": "2023-02-28T17:05:53.689Z"
   },
   {
    "duration": 20,
    "start_time": "2023-02-28T17:06:25.639Z"
   },
   {
    "duration": 5,
    "start_time": "2023-02-28T17:12:28.810Z"
   },
   {
    "duration": 21,
    "start_time": "2023-02-28T17:12:31.722Z"
   },
   {
    "duration": 13,
    "start_time": "2023-02-28T17:13:37.587Z"
   },
   {
    "duration": 28,
    "start_time": "2023-02-28T17:13:43.257Z"
   },
   {
    "duration": 59,
    "start_time": "2023-02-28T17:22:48.259Z"
   },
   {
    "duration": 17,
    "start_time": "2023-02-28T17:23:19.033Z"
   },
   {
    "duration": 616,
    "start_time": "2023-02-28T17:23:52.176Z"
   },
   {
    "duration": 16,
    "start_time": "2023-02-28T17:24:19.921Z"
   },
   {
    "duration": 925,
    "start_time": "2023-02-28T17:25:47.203Z"
   },
   {
    "duration": 44,
    "start_time": "2023-02-28T17:26:12.594Z"
   },
   {
    "duration": 10,
    "start_time": "2023-02-28T17:26:15.661Z"
   },
   {
    "duration": 128,
    "start_time": "2023-02-28T17:26:25.114Z"
   },
   {
    "duration": 518,
    "start_time": "2023-02-28T17:31:09.108Z"
   },
   {
    "duration": 484,
    "start_time": "2023-02-28T17:48:07.966Z"
   },
   {
    "duration": 504,
    "start_time": "2023-02-28T17:50:20.663Z"
   },
   {
    "duration": 510,
    "start_time": "2023-02-28T17:51:10.583Z"
   },
   {
    "duration": 619,
    "start_time": "2023-02-28T17:53:22.097Z"
   },
   {
    "duration": 555,
    "start_time": "2023-02-28T17:53:32.049Z"
   },
   {
    "duration": 580,
    "start_time": "2023-02-28T17:53:38.536Z"
   },
   {
    "duration": 545,
    "start_time": "2023-02-28T17:54:04.129Z"
   },
   {
    "duration": 549,
    "start_time": "2023-02-28T17:54:09.153Z"
   },
   {
    "duration": 517,
    "start_time": "2023-02-28T17:54:12.209Z"
   },
   {
    "duration": 537,
    "start_time": "2023-02-28T17:57:03.955Z"
   },
   {
    "duration": 64,
    "start_time": "2023-02-28T18:00:16.901Z"
   },
   {
    "duration": 20,
    "start_time": "2023-02-28T18:05:42.542Z"
   },
   {
    "duration": 19,
    "start_time": "2023-02-28T18:05:59.832Z"
   },
   {
    "duration": 188,
    "start_time": "2023-02-28T18:06:06.096Z"
   },
   {
    "duration": 18,
    "start_time": "2023-02-28T18:06:12.601Z"
   },
   {
    "duration": 557,
    "start_time": "2023-02-28T18:06:14.057Z"
   },
   {
    "duration": 9,
    "start_time": "2023-02-28T18:12:37.540Z"
   },
   {
    "duration": 2,
    "start_time": "2023-02-28T18:13:03.830Z"
   },
   {
    "duration": 3,
    "start_time": "2023-02-28T18:13:04.115Z"
   },
   {
    "duration": 50,
    "start_time": "2023-02-28T18:13:04.684Z"
   },
   {
    "duration": 15,
    "start_time": "2023-02-28T18:13:05.121Z"
   },
   {
    "duration": 14,
    "start_time": "2023-02-28T18:13:05.572Z"
   },
   {
    "duration": 796,
    "start_time": "2023-02-28T18:13:05.980Z"
   },
   {
    "duration": 4,
    "start_time": "2023-02-28T18:13:06.948Z"
   },
   {
    "duration": 4,
    "start_time": "2023-02-28T18:13:07.356Z"
   },
   {
    "duration": 10,
    "start_time": "2023-02-28T18:13:07.659Z"
   },
   {
    "duration": 11,
    "start_time": "2023-02-28T18:13:08.299Z"
   },
   {
    "duration": 15,
    "start_time": "2023-02-28T18:13:08.643Z"
   },
   {
    "duration": 4,
    "start_time": "2023-02-28T18:13:09.484Z"
   },
   {
    "duration": 22,
    "start_time": "2023-02-28T18:13:09.780Z"
   },
   {
    "duration": 6,
    "start_time": "2023-02-28T18:13:10.075Z"
   },
   {
    "duration": 5,
    "start_time": "2023-02-28T18:13:10.699Z"
   },
   {
    "duration": 10,
    "start_time": "2023-02-28T18:13:10.988Z"
   },
   {
    "duration": 5,
    "start_time": "2023-02-28T18:13:11.765Z"
   },
   {
    "duration": 16,
    "start_time": "2023-02-28T18:13:13.740Z"
   },
   {
    "duration": 7,
    "start_time": "2023-02-28T18:13:14.781Z"
   },
   {
    "duration": 158,
    "start_time": "2023-02-28T18:13:15.212Z"
   },
   {
    "duration": 18,
    "start_time": "2023-02-28T18:13:16.135Z"
   },
   {
    "duration": 542,
    "start_time": "2023-02-28T18:13:16.660Z"
   },
   {
    "duration": 7,
    "start_time": "2023-02-28T18:13:18.292Z"
   },
   {
    "duration": 14,
    "start_time": "2023-02-28T18:16:12.262Z"
   },
   {
    "duration": 361,
    "start_time": "2023-02-28T18:16:29.967Z"
   },
   {
    "duration": 6,
    "start_time": "2023-02-28T18:20:34.161Z"
   },
   {
    "duration": 25,
    "start_time": "2023-02-28T18:23:41.991Z"
   },
   {
    "duration": 3,
    "start_time": "2023-02-28T18:23:54.728Z"
   },
   {
    "duration": 53,
    "start_time": "2023-02-28T18:24:03.018Z"
   },
   {
    "duration": 687,
    "start_time": "2023-02-28T18:24:07.491Z"
   },
   {
    "duration": 4,
    "start_time": "2023-02-28T18:24:23.762Z"
   },
   {
    "duration": 22,
    "start_time": "2023-02-28T18:24:26.851Z"
   },
   {
    "duration": 4,
    "start_time": "2023-02-28T18:24:40.380Z"
   },
   {
    "duration": 23,
    "start_time": "2023-02-28T18:24:44.834Z"
   },
   {
    "duration": 16,
    "start_time": "2023-02-28T18:25:41.853Z"
   },
   {
    "duration": 12,
    "start_time": "2023-02-28T18:26:02.332Z"
   },
   {
    "duration": 4,
    "start_time": "2023-02-28T18:26:04.820Z"
   },
   {
    "duration": 15,
    "start_time": "2023-02-28T18:26:10.587Z"
   },
   {
    "duration": 2,
    "start_time": "2023-02-28T18:28:09.943Z"
   },
   {
    "duration": 385,
    "start_time": "2023-02-28T18:28:20.492Z"
   },
   {
    "duration": 244,
    "start_time": "2023-02-28T18:28:20.879Z"
   },
   {
    "duration": 54,
    "start_time": "2023-02-28T18:28:21.125Z"
   },
   {
    "duration": 18,
    "start_time": "2023-02-28T18:28:21.338Z"
   },
   {
    "duration": 15,
    "start_time": "2023-02-28T18:28:21.605Z"
   },
   {
    "duration": 770,
    "start_time": "2023-02-28T18:28:21.997Z"
   },
   {
    "duration": 3,
    "start_time": "2023-02-28T18:28:23.461Z"
   },
   {
    "duration": 5,
    "start_time": "2023-02-28T18:28:23.748Z"
   },
   {
    "duration": 11,
    "start_time": "2023-02-28T18:28:24.045Z"
   },
   {
    "duration": 9,
    "start_time": "2023-02-28T18:28:24.701Z"
   },
   {
    "duration": 14,
    "start_time": "2023-02-28T18:28:25.060Z"
   },
   {
    "duration": 4,
    "start_time": "2023-02-28T18:28:25.949Z"
   },
   {
    "duration": 23,
    "start_time": "2023-02-28T18:28:26.357Z"
   },
   {
    "duration": 6,
    "start_time": "2023-02-28T18:28:26.740Z"
   },
   {
    "duration": 5,
    "start_time": "2023-02-28T18:28:27.404Z"
   },
   {
    "duration": 10,
    "start_time": "2023-02-28T18:28:27.693Z"
   },
   {
    "duration": 5,
    "start_time": "2023-02-28T18:28:28.357Z"
   },
   {
    "duration": 16,
    "start_time": "2023-02-28T18:28:28.645Z"
   },
   {
    "duration": 7,
    "start_time": "2023-02-28T18:28:29.485Z"
   },
   {
    "duration": 161,
    "start_time": "2023-02-28T18:28:29.845Z"
   },
   {
    "duration": 71,
    "start_time": "2023-02-28T18:28:33.244Z"
   },
   {
    "duration": 581,
    "start_time": "2023-02-28T18:28:33.945Z"
   },
   {
    "duration": 7,
    "start_time": "2023-02-28T18:28:35.853Z"
   },
   {
    "duration": 15,
    "start_time": "2023-02-28T18:28:36.173Z"
   },
   {
    "duration": 356,
    "start_time": "2023-02-28T18:28:36.653Z"
   },
   {
    "duration": 13,
    "start_time": "2023-02-28T18:29:18.733Z"
   },
   {
    "duration": 390,
    "start_time": "2023-02-28T18:36:58.641Z"
   },
   {
    "duration": 378,
    "start_time": "2023-02-28T18:37:16.386Z"
   },
   {
    "duration": 362,
    "start_time": "2023-02-28T18:37:48.970Z"
   },
   {
    "duration": 341,
    "start_time": "2023-02-28T18:38:26.250Z"
   },
   {
    "duration": 374,
    "start_time": "2023-02-28T18:39:19.963Z"
   },
   {
    "duration": 369,
    "start_time": "2023-02-28T18:39:43.115Z"
   },
   {
    "duration": 366,
    "start_time": "2023-02-28T18:39:49.939Z"
   },
   {
    "duration": 363,
    "start_time": "2023-02-28T18:41:25.357Z"
   },
   {
    "duration": 446,
    "start_time": "2023-02-28T18:45:35.311Z"
   },
   {
    "duration": 8,
    "start_time": "2023-02-28T18:54:16.644Z"
   },
   {
    "duration": 91,
    "start_time": "2023-02-28T18:54:51.100Z"
   },
   {
    "duration": 29,
    "start_time": "2023-02-28T18:55:23.541Z"
   },
   {
    "duration": 24,
    "start_time": "2023-02-28T18:57:24.607Z"
   },
   {
    "duration": 17,
    "start_time": "2023-02-28T18:57:28.902Z"
   },
   {
    "duration": 7,
    "start_time": "2023-02-28T18:57:41.013Z"
   },
   {
    "duration": 13,
    "start_time": "2023-02-28T18:57:44.349Z"
   },
   {
    "duration": 343,
    "start_time": "2023-02-28T18:57:44.894Z"
   },
   {
    "duration": 356,
    "start_time": "2023-03-01T17:49:03.584Z"
   },
   {
    "duration": 482,
    "start_time": "2023-03-01T17:49:03.942Z"
   },
   {
    "duration": 429,
    "start_time": "2023-03-01T17:49:04.426Z"
   },
   {
    "duration": 18,
    "start_time": "2023-03-01T17:49:04.856Z"
   },
   {
    "duration": 15,
    "start_time": "2023-03-01T17:49:04.876Z"
   },
   {
    "duration": 767,
    "start_time": "2023-03-01T17:49:04.892Z"
   },
   {
    "duration": 4,
    "start_time": "2023-03-01T17:49:05.662Z"
   },
   {
    "duration": 8,
    "start_time": "2023-03-01T17:49:05.667Z"
   },
   {
    "duration": 8,
    "start_time": "2023-03-01T17:49:05.896Z"
   },
   {
    "duration": 9,
    "start_time": "2023-03-01T17:49:06.360Z"
   },
   {
    "duration": 13,
    "start_time": "2023-03-01T17:49:06.608Z"
   },
   {
    "duration": 4,
    "start_time": "2023-03-01T17:49:07.328Z"
   },
   {
    "duration": 11,
    "start_time": "2023-03-01T17:49:07.552Z"
   },
   {
    "duration": 23,
    "start_time": "2023-03-01T17:49:07.808Z"
   },
   {
    "duration": 4,
    "start_time": "2023-03-01T17:49:08.048Z"
   },
   {
    "duration": 5,
    "start_time": "2023-03-01T17:49:08.528Z"
   },
   {
    "duration": 9,
    "start_time": "2023-03-01T17:49:08.769Z"
   },
   {
    "duration": 6,
    "start_time": "2023-03-01T17:49:09.455Z"
   },
   {
    "duration": 14,
    "start_time": "2023-03-01T17:49:09.703Z"
   },
   {
    "duration": 7,
    "start_time": "2023-03-01T17:49:10.191Z"
   },
   {
    "duration": 141,
    "start_time": "2023-03-01T17:49:10.472Z"
   },
   {
    "duration": 75,
    "start_time": "2023-03-01T17:49:11.040Z"
   },
   {
    "duration": 520,
    "start_time": "2023-03-01T17:49:11.272Z"
   },
   {
    "duration": 6,
    "start_time": "2023-03-01T17:49:12.025Z"
   },
   {
    "duration": 13,
    "start_time": "2023-03-01T17:49:12.304Z"
   },
   {
    "duration": 317,
    "start_time": "2023-03-01T17:49:12.616Z"
   },
   {
    "duration": 320,
    "start_time": "2023-03-01T17:52:16.450Z"
   },
   {
    "duration": 213,
    "start_time": "2023-03-01T17:58:44.199Z"
   },
   {
    "duration": 527,
    "start_time": "2023-03-01T18:08:41.041Z"
   },
   {
    "duration": 249,
    "start_time": "2023-03-01T18:09:45.465Z"
   },
   {
    "duration": 147,
    "start_time": "2023-03-01T18:10:08.833Z"
   },
   {
    "duration": 243,
    "start_time": "2023-03-01T18:10:19.469Z"
   },
   {
    "duration": 109,
    "start_time": "2023-03-01T18:16:17.023Z"
   },
   {
    "duration": 267,
    "start_time": "2023-03-01T18:16:23.608Z"
   },
   {
    "duration": 246,
    "start_time": "2023-03-01T18:16:31.032Z"
   },
   {
    "duration": 347,
    "start_time": "2023-03-01T18:16:35.880Z"
   },
   {
    "duration": 247,
    "start_time": "2023-03-01T18:16:40.335Z"
   },
   {
    "duration": 249,
    "start_time": "2023-03-01T18:16:45.080Z"
   },
   {
    "duration": 273,
    "start_time": "2023-03-01T18:17:19.728Z"
   },
   {
    "duration": 288,
    "start_time": "2023-03-01T18:17:36.536Z"
   },
   {
    "duration": 264,
    "start_time": "2023-03-01T18:17:41.025Z"
   },
   {
    "duration": 461,
    "start_time": "2023-03-01T18:17:53.889Z"
   },
   {
    "duration": 157,
    "start_time": "2023-03-01T18:25:46.705Z"
   },
   {
    "duration": 264,
    "start_time": "2023-03-01T18:29:00.015Z"
   },
   {
    "duration": 1346,
    "start_time": "2023-03-01T18:40:08.750Z"
   },
   {
    "duration": 8,
    "start_time": "2023-03-01T18:45:50.076Z"
   },
   {
    "duration": 16,
    "start_time": "2023-03-01T18:46:29.876Z"
   },
   {
    "duration": 46,
    "start_time": "2023-03-01T18:46:52.216Z"
   },
   {
    "duration": 15,
    "start_time": "2023-03-01T18:46:52.527Z"
   },
   {
    "duration": 13,
    "start_time": "2023-03-01T18:46:52.959Z"
   },
   {
    "duration": 241,
    "start_time": "2023-03-01T18:47:08.580Z"
   },
   {
    "duration": 2,
    "start_time": "2023-03-01T18:48:18.282Z"
   },
   {
    "duration": 2,
    "start_time": "2023-03-01T18:48:18.574Z"
   },
   {
    "duration": 2,
    "start_time": "2023-03-01T18:48:18.946Z"
   },
   {
    "duration": 46,
    "start_time": "2023-03-01T18:48:19.290Z"
   },
   {
    "duration": 14,
    "start_time": "2023-03-01T18:48:19.634Z"
   },
   {
    "duration": 13,
    "start_time": "2023-03-01T18:48:19.994Z"
   },
   {
    "duration": 736,
    "start_time": "2023-03-01T18:48:20.306Z"
   },
   {
    "duration": 4,
    "start_time": "2023-03-01T18:48:21.478Z"
   },
   {
    "duration": 2,
    "start_time": "2023-03-01T18:48:21.889Z"
   },
   {
    "duration": 8,
    "start_time": "2023-03-01T18:48:23.130Z"
   },
   {
    "duration": 8,
    "start_time": "2023-03-01T18:48:23.849Z"
   },
   {
    "duration": 13,
    "start_time": "2023-03-01T18:48:24.201Z"
   },
   {
    "duration": 5,
    "start_time": "2023-03-01T18:48:24.897Z"
   },
   {
    "duration": 16,
    "start_time": "2023-03-01T18:48:25.113Z"
   },
   {
    "duration": 20,
    "start_time": "2023-03-01T18:48:25.385Z"
   },
   {
    "duration": 5,
    "start_time": "2023-03-01T18:48:25.626Z"
   },
   {
    "duration": 4,
    "start_time": "2023-03-01T18:48:26.186Z"
   },
   {
    "duration": 8,
    "start_time": "2023-03-01T18:48:26.475Z"
   },
   {
    "duration": 5,
    "start_time": "2023-03-01T18:48:26.921Z"
   },
   {
    "duration": 14,
    "start_time": "2023-03-01T18:48:27.153Z"
   },
   {
    "duration": 7,
    "start_time": "2023-03-01T18:48:27.617Z"
   },
   {
    "duration": 140,
    "start_time": "2023-03-01T18:48:27.850Z"
   },
   {
    "duration": 17,
    "start_time": "2023-03-01T18:48:28.409Z"
   },
   {
    "duration": 513,
    "start_time": "2023-03-01T18:48:28.754Z"
   },
   {
    "duration": 6,
    "start_time": "2023-03-01T18:48:29.426Z"
   },
   {
    "duration": 14,
    "start_time": "2023-03-01T18:48:29.679Z"
   },
   {
    "duration": 342,
    "start_time": "2023-03-01T18:48:29.936Z"
   },
   {
    "duration": 283,
    "start_time": "2023-03-01T18:48:30.505Z"
   },
   {
    "duration": 153,
    "start_time": "2023-03-01T18:48:31.426Z"
   },
   {
    "duration": 8,
    "start_time": "2023-03-01T18:48:31.850Z"
   },
   {
    "duration": 11,
    "start_time": "2023-03-01T18:56:53.990Z"
   },
   {
    "duration": 142,
    "start_time": "2023-03-01T18:58:00.175Z"
   },
   {
    "duration": 9,
    "start_time": "2023-03-01T19:00:14.641Z"
   },
   {
    "duration": 132,
    "start_time": "2023-03-01T19:11:48.271Z"
   },
   {
    "duration": 9,
    "start_time": "2023-03-01T19:15:07.713Z"
   },
   {
    "duration": 9,
    "start_time": "2023-03-01T19:15:14.722Z"
   },
   {
    "duration": 10,
    "start_time": "2023-03-01T19:15:29.482Z"
   },
   {
    "duration": 126,
    "start_time": "2023-03-01T19:16:14.545Z"
   },
   {
    "duration": 10,
    "start_time": "2023-03-01T19:16:36.425Z"
   },
   {
    "duration": 277,
    "start_time": "2023-03-01T19:22:17.886Z"
   },
   {
    "duration": 276,
    "start_time": "2023-03-01T19:26:47.564Z"
   },
   {
    "duration": 73,
    "start_time": "2023-03-01T19:27:21.592Z"
   },
   {
    "duration": 418,
    "start_time": "2023-03-01T19:28:28.018Z"
   },
   {
    "duration": 523,
    "start_time": "2023-03-01T19:28:49.049Z"
   },
   {
    "duration": 438,
    "start_time": "2023-03-01T19:29:03.216Z"
   },
   {
    "duration": 265,
    "start_time": "2023-03-01T19:29:19.760Z"
   },
   {
    "duration": 422,
    "start_time": "2023-03-01T19:30:10.137Z"
   },
   {
    "duration": 261,
    "start_time": "2023-03-01T19:30:22.905Z"
   },
   {
    "duration": 13,
    "start_time": "2023-03-01T21:49:41.684Z"
   },
   {
    "duration": 18,
    "start_time": "2023-03-01T21:49:54.084Z"
   },
   {
    "duration": 14,
    "start_time": "2023-03-01T21:50:01.626Z"
   },
   {
    "duration": 15,
    "start_time": "2023-03-01T21:50:13.474Z"
   },
   {
    "duration": 91,
    "start_time": "2023-03-01T22:05:05.302Z"
   },
   {
    "duration": 18,
    "start_time": "2023-03-01T22:05:27.516Z"
   },
   {
    "duration": 15,
    "start_time": "2023-03-01T22:05:34.812Z"
   },
   {
    "duration": 14,
    "start_time": "2023-03-01T22:17:13.368Z"
   },
   {
    "duration": 15,
    "start_time": "2023-03-01T22:28:29.527Z"
   },
   {
    "duration": 114,
    "start_time": "2023-03-01T23:03:38.084Z"
   },
   {
    "duration": 15,
    "start_time": "2023-03-01T23:03:52.475Z"
   },
   {
    "duration": 15,
    "start_time": "2023-03-01T23:04:24.620Z"
   },
   {
    "duration": 12,
    "start_time": "2023-03-01T23:05:25.933Z"
   },
   {
    "duration": 73,
    "start_time": "2023-03-01T23:05:51.061Z"
   },
   {
    "duration": 13,
    "start_time": "2023-03-01T23:06:04.452Z"
   },
   {
    "duration": 10,
    "start_time": "2023-03-01T23:06:16.293Z"
   },
   {
    "duration": 12,
    "start_time": "2023-03-01T23:08:25.167Z"
   },
   {
    "duration": 15,
    "start_time": "2023-03-01T23:09:36.552Z"
   },
   {
    "duration": 15,
    "start_time": "2023-03-01T23:10:06.313Z"
   },
   {
    "duration": 16,
    "start_time": "2023-03-01T23:10:22.016Z"
   },
   {
    "duration": 13,
    "start_time": "2023-03-01T23:10:54.601Z"
   },
   {
    "duration": 14,
    "start_time": "2023-03-01T23:11:10.785Z"
   },
   {
    "duration": 14,
    "start_time": "2023-03-01T23:11:22.321Z"
   },
   {
    "duration": 423,
    "start_time": "2023-03-02T11:00:55.031Z"
   },
   {
    "duration": 1069,
    "start_time": "2023-03-02T11:00:55.462Z"
   },
   {
    "duration": 3,
    "start_time": "2023-03-02T11:00:56.533Z"
   },
   {
    "duration": 232,
    "start_time": "2023-03-02T11:00:56.538Z"
   },
   {
    "duration": 24,
    "start_time": "2023-03-02T11:00:56.773Z"
   },
   {
    "duration": 24,
    "start_time": "2023-03-02T11:00:56.799Z"
   },
   {
    "duration": 865,
    "start_time": "2023-03-02T11:00:56.927Z"
   },
   {
    "duration": 18,
    "start_time": "2023-03-02T11:00:57.795Z"
   },
   {
    "duration": 3,
    "start_time": "2023-03-02T11:00:58.030Z"
   },
   {
    "duration": 9,
    "start_time": "2023-03-02T11:00:58.529Z"
   },
   {
    "duration": 12,
    "start_time": "2023-03-02T11:00:58.921Z"
   },
   {
    "duration": 16,
    "start_time": "2023-03-02T11:00:59.102Z"
   },
   {
    "duration": 4,
    "start_time": "2023-03-02T11:00:59.662Z"
   },
   {
    "duration": 13,
    "start_time": "2023-03-02T11:00:59.838Z"
   },
   {
    "duration": 21,
    "start_time": "2023-03-02T11:01:00.021Z"
   },
   {
    "duration": 5,
    "start_time": "2023-03-02T11:01:00.198Z"
   },
   {
    "duration": 5,
    "start_time": "2023-03-02T11:01:00.590Z"
   },
   {
    "duration": 12,
    "start_time": "2023-03-02T11:01:00.782Z"
   },
   {
    "duration": 5,
    "start_time": "2023-03-02T11:01:01.150Z"
   },
   {
    "duration": 14,
    "start_time": "2023-03-02T11:01:01.366Z"
   },
   {
    "duration": 7,
    "start_time": "2023-03-02T11:01:01.734Z"
   },
   {
    "duration": 166,
    "start_time": "2023-03-02T11:01:01.926Z"
   },
   {
    "duration": 19,
    "start_time": "2023-03-02T11:01:02.334Z"
   },
   {
    "duration": 647,
    "start_time": "2023-03-02T11:01:02.616Z"
   },
   {
    "duration": 6,
    "start_time": "2023-03-02T11:01:03.265Z"
   },
   {
    "duration": 15,
    "start_time": "2023-03-02T11:01:03.374Z"
   },
   {
    "duration": 346,
    "start_time": "2023-03-02T11:01:03.616Z"
   },
   {
    "duration": 402,
    "start_time": "2023-03-02T11:01:04.030Z"
   },
   {
    "duration": 165,
    "start_time": "2023-03-02T11:01:04.895Z"
   },
   {
    "duration": 19,
    "start_time": "2023-03-02T11:01:05.102Z"
   },
   {
    "duration": 142,
    "start_time": "2023-03-02T11:01:05.320Z"
   },
   {
    "duration": 10,
    "start_time": "2023-03-02T11:01:05.542Z"
   },
   {
    "duration": 305,
    "start_time": "2023-03-02T11:01:06.294Z"
   },
   {
    "duration": 18,
    "start_time": "2023-03-02T11:01:06.990Z"
   },
   {
    "duration": 17,
    "start_time": "2023-03-02T11:01:07.935Z"
   },
   {
    "duration": 16,
    "start_time": "2023-03-02T11:01:08.519Z"
   },
   {
    "duration": 16,
    "start_time": "2023-03-02T11:01:09.016Z"
   },
   {
    "duration": 15,
    "start_time": "2023-03-02T11:01:09.521Z"
   },
   {
    "duration": 22,
    "start_time": "2023-03-02T11:01:09.998Z"
   },
   {
    "duration": 16,
    "start_time": "2023-03-02T11:01:10.567Z"
   },
   {
    "duration": 17,
    "start_time": "2023-03-02T11:01:10.855Z"
   },
   {
    "duration": 14,
    "start_time": "2023-03-02T11:01:11.094Z"
   },
   {
    "duration": 5,
    "start_time": "2023-03-02T11:54:55.847Z"
   },
   {
    "duration": 10,
    "start_time": "2023-03-02T11:58:22.053Z"
   },
   {
    "duration": 30,
    "start_time": "2023-03-02T11:58:29.158Z"
   },
   {
    "duration": 6,
    "start_time": "2023-03-02T11:59:01.617Z"
   },
   {
    "duration": 9,
    "start_time": "2023-03-02T11:59:06.446Z"
   },
   {
    "duration": 10,
    "start_time": "2023-03-02T11:59:23.927Z"
   },
   {
    "duration": 8,
    "start_time": "2023-03-02T12:01:25.368Z"
   },
   {
    "duration": 126,
    "start_time": "2023-03-02T12:15:02.944Z"
   },
   {
    "duration": 2,
    "start_time": "2023-03-02T12:15:24.625Z"
   },
   {
    "duration": 4,
    "start_time": "2023-03-02T12:15:28.549Z"
   },
   {
    "duration": 5,
    "start_time": "2023-03-02T12:16:22.178Z"
   },
   {
    "duration": 5,
    "start_time": "2023-03-02T12:16:52.681Z"
   },
   {
    "duration": 16,
    "start_time": "2023-03-02T12:17:23.745Z"
   },
   {
    "duration": 6,
    "start_time": "2023-03-02T12:17:25.473Z"
   },
   {
    "duration": 5,
    "start_time": "2023-03-02T12:17:57.042Z"
   },
   {
    "duration": 3,
    "start_time": "2023-03-02T12:18:51.202Z"
   },
   {
    "duration": 953,
    "start_time": "2023-03-02T12:18:57.484Z"
   },
   {
    "duration": 10,
    "start_time": "2023-03-02T12:19:31.131Z"
   },
   {
    "duration": 10,
    "start_time": "2023-03-02T12:19:32.835Z"
   },
   {
    "duration": 5,
    "start_time": "2023-03-02T12:19:36.250Z"
   },
   {
    "duration": 23,
    "start_time": "2023-03-02T12:20:12.251Z"
   },
   {
    "duration": 1059,
    "start_time": "2023-03-02T12:23:30.974Z"
   },
   {
    "duration": 2,
    "start_time": "2023-03-02T12:23:51.103Z"
   },
   {
    "duration": 503,
    "start_time": "2023-03-02T12:24:00.013Z"
   },
   {
    "duration": 1106,
    "start_time": "2023-03-02T12:24:00.518Z"
   },
   {
    "duration": 3,
    "start_time": "2023-03-02T12:24:01.627Z"
   },
   {
    "duration": 41,
    "start_time": "2023-03-02T12:24:01.633Z"
   },
   {
    "duration": 29,
    "start_time": "2023-03-02T12:24:01.678Z"
   },
   {
    "duration": 88,
    "start_time": "2023-03-02T12:24:01.710Z"
   },
   {
    "duration": 28,
    "start_time": "2023-03-02T12:24:01.800Z"
   },
   {
    "duration": 57,
    "start_time": "2023-03-02T12:24:01.831Z"
   },
   {
    "duration": 983,
    "start_time": "2023-03-02T12:24:01.891Z"
   },
   {
    "duration": 6,
    "start_time": "2023-03-02T12:24:02.876Z"
   },
   {
    "duration": 15,
    "start_time": "2023-03-02T12:24:02.888Z"
   },
   {
    "duration": 16,
    "start_time": "2023-03-02T12:24:02.905Z"
   },
   {
    "duration": 22,
    "start_time": "2023-03-02T12:24:02.924Z"
   },
   {
    "duration": 16,
    "start_time": "2023-03-02T12:24:02.948Z"
   },
   {
    "duration": 7,
    "start_time": "2023-03-02T12:24:02.969Z"
   },
   {
    "duration": 19,
    "start_time": "2023-03-02T12:24:02.980Z"
   },
   {
    "duration": 32,
    "start_time": "2023-03-02T12:24:03.003Z"
   },
   {
    "duration": 7,
    "start_time": "2023-03-02T12:24:03.055Z"
   },
   {
    "duration": 28,
    "start_time": "2023-03-02T12:24:03.066Z"
   },
   {
    "duration": 20,
    "start_time": "2023-03-02T12:24:03.097Z"
   },
   {
    "duration": 7,
    "start_time": "2023-03-02T12:24:03.122Z"
   },
   {
    "duration": 33,
    "start_time": "2023-03-02T12:24:03.131Z"
   },
   {
    "duration": 9,
    "start_time": "2023-03-02T12:24:03.166Z"
   },
   {
    "duration": 246,
    "start_time": "2023-03-02T12:24:03.178Z"
   },
   {
    "duration": 37,
    "start_time": "2023-03-02T12:24:03.427Z"
   },
   {
    "duration": 786,
    "start_time": "2023-03-02T12:24:03.465Z"
   },
   {
    "duration": 11,
    "start_time": "2023-03-02T12:24:04.260Z"
   },
   {
    "duration": 19,
    "start_time": "2023-03-02T12:24:04.273Z"
   },
   {
    "duration": 521,
    "start_time": "2023-03-02T12:24:04.295Z"
   },
   {
    "duration": 507,
    "start_time": "2023-03-02T12:24:04.818Z"
   },
   {
    "duration": 207,
    "start_time": "2023-03-02T12:24:05.328Z"
   },
   {
    "duration": 27,
    "start_time": "2023-03-02T12:24:05.539Z"
   },
   {
    "duration": 166,
    "start_time": "2023-03-02T12:24:05.568Z"
   },
   {
    "duration": 22,
    "start_time": "2023-03-02T12:24:05.736Z"
   },
   {
    "duration": 393,
    "start_time": "2023-03-02T12:24:05.760Z"
   },
   {
    "duration": 23,
    "start_time": "2023-03-02T12:24:06.155Z"
   },
   {
    "duration": 20,
    "start_time": "2023-03-02T12:24:06.179Z"
   },
   {
    "duration": 37,
    "start_time": "2023-03-02T12:24:06.201Z"
   },
   {
    "duration": 39,
    "start_time": "2023-03-02T12:24:06.241Z"
   },
   {
    "duration": 20,
    "start_time": "2023-03-02T12:24:06.282Z"
   },
   {
    "duration": 17,
    "start_time": "2023-03-02T12:24:06.304Z"
   },
   {
    "duration": 44,
    "start_time": "2023-03-02T12:24:06.324Z"
   },
   {
    "duration": 26,
    "start_time": "2023-03-02T12:24:06.374Z"
   },
   {
    "duration": 19,
    "start_time": "2023-03-02T12:24:06.402Z"
   },
   {
    "duration": 11,
    "start_time": "2023-03-02T12:24:06.423Z"
   },
   {
    "duration": 13,
    "start_time": "2023-03-02T12:24:06.453Z"
   },
   {
    "duration": 6,
    "start_time": "2023-03-02T12:24:06.468Z"
   },
   {
    "duration": 1070,
    "start_time": "2023-03-02T12:24:18.638Z"
   },
   {
    "duration": 5,
    "start_time": "2023-03-02T12:24:43.022Z"
   },
   {
    "duration": 9,
    "start_time": "2023-03-02T12:24:52.389Z"
   },
   {
    "duration": 31,
    "start_time": "2023-03-02T12:24:54.342Z"
   },
   {
    "duration": 3,
    "start_time": "2023-03-02T12:25:27.823Z"
   },
   {
    "duration": 5,
    "start_time": "2023-03-02T12:25:52.438Z"
   },
   {
    "duration": 4,
    "start_time": "2023-03-02T12:26:12.743Z"
   },
   {
    "duration": 4,
    "start_time": "2023-03-02T12:26:23.751Z"
   },
   {
    "duration": 6,
    "start_time": "2023-03-02T12:26:45.127Z"
   },
   {
    "duration": 7,
    "start_time": "2023-03-02T12:27:14.624Z"
   },
   {
    "duration": 9,
    "start_time": "2023-03-02T12:28:17.778Z"
   },
   {
    "duration": 9,
    "start_time": "2023-03-02T12:28:56.847Z"
   },
   {
    "duration": 7,
    "start_time": "2023-03-02T12:43:53.696Z"
   },
   {
    "duration": 7,
    "start_time": "2023-03-02T12:53:34.503Z"
   },
   {
    "duration": 7,
    "start_time": "2023-03-02T12:53:38.119Z"
   },
   {
    "duration": 13,
    "start_time": "2023-03-02T12:54:03.822Z"
   },
   {
    "duration": 7,
    "start_time": "2023-03-02T12:54:07.854Z"
   },
   {
    "duration": 10,
    "start_time": "2023-03-02T12:54:11.190Z"
   },
   {
    "duration": 8,
    "start_time": "2023-03-02T12:57:03.930Z"
   },
   {
    "duration": 2,
    "start_time": "2023-03-02T13:09:24.983Z"
   },
   {
    "duration": 437,
    "start_time": "2023-03-02T13:42:31.638Z"
   },
   {
    "duration": 763,
    "start_time": "2023-03-02T13:42:32.076Z"
   },
   {
    "duration": 3,
    "start_time": "2023-03-02T13:42:32.840Z"
   },
   {
    "duration": 13,
    "start_time": "2023-03-02T13:42:32.845Z"
   },
   {
    "duration": 12,
    "start_time": "2023-03-02T13:42:32.860Z"
   },
   {
    "duration": 67,
    "start_time": "2023-03-02T13:42:32.873Z"
   },
   {
    "duration": 18,
    "start_time": "2023-03-02T13:42:32.941Z"
   },
   {
    "duration": 26,
    "start_time": "2023-03-02T13:42:32.961Z"
   },
   {
    "duration": 841,
    "start_time": "2023-03-02T13:42:32.989Z"
   },
   {
    "duration": 3,
    "start_time": "2023-03-02T13:42:33.832Z"
   },
   {
    "duration": 6,
    "start_time": "2023-03-02T13:42:33.836Z"
   },
   {
    "duration": 17,
    "start_time": "2023-03-02T13:42:33.844Z"
   },
   {
    "duration": 14,
    "start_time": "2023-03-02T13:42:33.863Z"
   },
   {
    "duration": 15,
    "start_time": "2023-03-02T13:42:33.879Z"
   },
   {
    "duration": 5,
    "start_time": "2023-03-02T13:42:33.896Z"
   },
   {
    "duration": 25,
    "start_time": "2023-03-02T13:42:33.903Z"
   },
   {
    "duration": 50,
    "start_time": "2023-03-02T13:42:33.930Z"
   },
   {
    "duration": 7,
    "start_time": "2023-03-02T13:42:33.982Z"
   },
   {
    "duration": 11,
    "start_time": "2023-03-02T13:42:33.991Z"
   },
   {
    "duration": 19,
    "start_time": "2023-03-02T13:42:34.004Z"
   },
   {
    "duration": 6,
    "start_time": "2023-03-02T13:42:34.025Z"
   },
   {
    "duration": 51,
    "start_time": "2023-03-02T13:42:34.033Z"
   },
   {
    "duration": 10,
    "start_time": "2023-03-02T13:42:34.086Z"
   },
   {
    "duration": 207,
    "start_time": "2023-03-02T13:42:34.098Z"
   },
   {
    "duration": 21,
    "start_time": "2023-03-02T13:42:34.307Z"
   },
   {
    "duration": 610,
    "start_time": "2023-03-02T13:42:34.331Z"
   },
   {
    "duration": 7,
    "start_time": "2023-03-02T13:42:34.953Z"
   },
   {
    "duration": 20,
    "start_time": "2023-03-02T13:42:34.961Z"
   },
   {
    "duration": 374,
    "start_time": "2023-03-02T13:42:34.982Z"
   },
   {
    "duration": 409,
    "start_time": "2023-03-02T13:42:35.358Z"
   },
   {
    "duration": 169,
    "start_time": "2023-03-02T13:42:35.770Z"
   },
   {
    "duration": 17,
    "start_time": "2023-03-02T13:42:35.940Z"
   },
   {
    "duration": 170,
    "start_time": "2023-03-02T13:42:35.958Z"
   },
   {
    "duration": 24,
    "start_time": "2023-03-02T13:42:36.130Z"
   },
   {
    "duration": 340,
    "start_time": "2023-03-02T13:42:36.156Z"
   },
   {
    "duration": 17,
    "start_time": "2023-03-02T13:42:36.498Z"
   },
   {
    "duration": 24,
    "start_time": "2023-03-02T13:42:36.517Z"
   },
   {
    "duration": 22,
    "start_time": "2023-03-02T13:42:36.543Z"
   },
   {
    "duration": 17,
    "start_time": "2023-03-02T13:42:36.567Z"
   },
   {
    "duration": 17,
    "start_time": "2023-03-02T13:42:36.586Z"
   },
   {
    "duration": 47,
    "start_time": "2023-03-02T13:42:36.607Z"
   },
   {
    "duration": 15,
    "start_time": "2023-03-02T13:42:36.656Z"
   },
   {
    "duration": 17,
    "start_time": "2023-03-02T13:42:36.673Z"
   },
   {
    "duration": 17,
    "start_time": "2023-03-02T13:42:36.692Z"
   },
   {
    "duration": 11,
    "start_time": "2023-03-02T13:42:36.711Z"
   },
   {
    "duration": 8,
    "start_time": "2023-03-02T13:42:36.752Z"
   },
   {
    "duration": 7,
    "start_time": "2023-03-02T13:42:36.762Z"
   },
   {
    "duration": 10,
    "start_time": "2023-03-02T13:42:36.771Z"
   },
   {
    "duration": 9,
    "start_time": "2023-03-02T13:42:36.783Z"
   },
   {
    "duration": 7,
    "start_time": "2023-03-02T13:42:36.794Z"
   },
   {
    "duration": 70,
    "start_time": "2023-03-02T14:59:45.557Z"
   },
   {
    "duration": 99,
    "start_time": "2023-03-02T15:29:40.686Z"
   },
   {
    "duration": 9,
    "start_time": "2023-03-02T15:36:05.363Z"
   },
   {
    "duration": 1561,
    "start_time": "2023-03-02T17:28:19.516Z"
   },
   {
    "duration": 532,
    "start_time": "2023-03-02T17:30:10.153Z"
   },
   {
    "duration": 24,
    "start_time": "2023-03-02T17:30:10.687Z"
   },
   {
    "duration": 14,
    "start_time": "2023-03-02T17:30:10.783Z"
   },
   {
    "duration": 859,
    "start_time": "2023-03-02T17:30:11.400Z"
   },
   {
    "duration": 4,
    "start_time": "2023-03-02T17:30:40.263Z"
   },
   {
    "duration": 5,
    "start_time": "2023-03-02T17:30:40.719Z"
   },
   {
    "duration": 15,
    "start_time": "2023-03-02T17:30:41.128Z"
   },
   {
    "duration": 14,
    "start_time": "2023-03-02T17:30:41.841Z"
   },
   {
    "duration": 13,
    "start_time": "2023-03-02T17:30:42.104Z"
   },
   {
    "duration": 4,
    "start_time": "2023-03-02T17:30:43.080Z"
   },
   {
    "duration": 13,
    "start_time": "2023-03-02T17:30:43.648Z"
   },
   {
    "duration": 25,
    "start_time": "2023-03-02T17:30:44.008Z"
   },
   {
    "duration": 16,
    "start_time": "2023-03-02T17:30:44.519Z"
   },
   {
    "duration": 7,
    "start_time": "2023-03-02T17:30:45.428Z"
   },
   {
    "duration": 15,
    "start_time": "2023-03-02T17:30:46.033Z"
   },
   {
    "duration": 5,
    "start_time": "2023-03-02T17:30:46.991Z"
   },
   {
    "duration": 14,
    "start_time": "2023-03-02T17:30:47.583Z"
   },
   {
    "duration": 81,
    "start_time": "2023-03-02T17:30:48.600Z"
   },
   {
    "duration": 21,
    "start_time": "2023-03-02T17:31:23.505Z"
   },
   {
    "duration": 86,
    "start_time": "2023-03-02T17:31:58.870Z"
   },
   {
    "duration": 5,
    "start_time": "2023-03-02T23:37:19.086Z"
   },
   {
    "duration": 4,
    "start_time": "2023-03-02T23:37:22.385Z"
   },
   {
    "duration": 4,
    "start_time": "2023-03-02T23:37:28.418Z"
   },
   {
    "duration": 1009,
    "start_time": "2023-03-02T23:37:29.536Z"
   },
   {
    "duration": 1123,
    "start_time": "2023-03-02T23:38:18.914Z"
   },
   {
    "duration": 50,
    "start_time": "2023-03-02T23:38:20.039Z"
   },
   {
    "duration": 16,
    "start_time": "2023-03-02T23:38:20.091Z"
   },
   {
    "duration": 14,
    "start_time": "2023-03-02T23:38:20.108Z"
   },
   {
    "duration": 765,
    "start_time": "2023-03-02T23:38:20.124Z"
   },
   {
    "duration": 4,
    "start_time": "2023-03-02T23:38:21.537Z"
   },
   {
    "duration": 2,
    "start_time": "2023-03-02T23:38:45.130Z"
   },
   {
    "duration": 9,
    "start_time": "2023-03-02T23:38:45.498Z"
   },
   {
    "duration": 9,
    "start_time": "2023-03-02T23:38:46.153Z"
   },
   {
    "duration": 13,
    "start_time": "2023-03-02T23:38:46.402Z"
   },
   {
    "duration": 4,
    "start_time": "2023-03-02T23:38:47.489Z"
   },
   {
    "duration": 13,
    "start_time": "2023-03-02T23:38:48.017Z"
   },
   {
    "duration": 21,
    "start_time": "2023-03-02T23:38:48.466Z"
   },
   {
    "duration": 5,
    "start_time": "2023-03-02T23:38:48.922Z"
   },
   {
    "duration": 6,
    "start_time": "2023-03-02T23:38:49.578Z"
   },
   {
    "duration": 4,
    "start_time": "2023-03-02T23:38:49.850Z"
   },
   {
    "duration": 6,
    "start_time": "2023-03-02T23:38:50.442Z"
   },
   {
    "duration": 92,
    "start_time": "2023-03-02T23:38:51.691Z"
   },
   {
    "duration": 5,
    "start_time": "2023-03-02T23:38:58.428Z"
   },
   {
    "duration": 13,
    "start_time": "2023-03-02T23:39:07.438Z"
   },
   {
    "duration": 3,
    "start_time": "2023-03-02T23:39:59.098Z"
   },
   {
    "duration": 50,
    "start_time": "2023-03-02T23:39:59.562Z"
   },
   {
    "duration": 15,
    "start_time": "2023-03-02T23:39:59.804Z"
   },
   {
    "duration": 13,
    "start_time": "2023-03-02T23:39:59.970Z"
   },
   {
    "duration": 747,
    "start_time": "2023-03-02T23:40:00.156Z"
   },
   {
    "duration": 3,
    "start_time": "2023-03-02T23:40:01.043Z"
   },
   {
    "duration": 2,
    "start_time": "2023-03-02T23:40:01.434Z"
   },
   {
    "duration": 8,
    "start_time": "2023-03-02T23:40:01.814Z"
   },
   {
    "duration": 8,
    "start_time": "2023-03-02T23:40:02.428Z"
   },
   {
    "duration": 11,
    "start_time": "2023-03-02T23:40:02.773Z"
   },
   {
    "duration": 4,
    "start_time": "2023-03-02T23:40:03.971Z"
   },
   {
    "duration": 13,
    "start_time": "2023-03-02T23:40:04.546Z"
   },
   {
    "duration": 20,
    "start_time": "2023-03-02T23:40:04.947Z"
   },
   {
    "duration": 5,
    "start_time": "2023-03-02T23:40:05.299Z"
   },
   {
    "duration": 5,
    "start_time": "2023-03-02T23:40:06.274Z"
   },
   {
    "duration": 7,
    "start_time": "2023-03-02T23:40:06.667Z"
   },
   {
    "duration": 8,
    "start_time": "2023-03-02T23:40:17.299Z"
   },
   {
    "duration": 9,
    "start_time": "2023-03-02T23:40:33.348Z"
   },
   {
    "duration": 5,
    "start_time": "2023-03-02T23:40:36.360Z"
   },
   {
    "duration": 14,
    "start_time": "2023-03-02T23:40:37.964Z"
   },
   {
    "duration": 4,
    "start_time": "2023-03-02T23:40:58.236Z"
   },
   {
    "duration": 8,
    "start_time": "2023-03-02T23:40:59.467Z"
   },
   {
    "duration": 4,
    "start_time": "2023-03-02T23:41:01.667Z"
   },
   {
    "duration": 15,
    "start_time": "2023-03-02T23:41:02.683Z"
   },
   {
    "duration": 16,
    "start_time": "2023-03-02T23:41:03.091Z"
   },
   {
    "duration": 66,
    "start_time": "2023-03-02T23:41:03.683Z"
   },
   {
    "duration": 7,
    "start_time": "2023-03-02T23:41:05.723Z"
   },
   {
    "duration": 140,
    "start_time": "2023-03-02T23:45:29.191Z"
   },
   {
    "duration": 90,
    "start_time": "2023-03-02T23:45:33.151Z"
   },
   {
    "duration": 530,
    "start_time": "2023-03-02T23:45:33.807Z"
   },
   {
    "duration": 7,
    "start_time": "2023-03-02T23:48:00.344Z"
   },
   {
    "duration": 14,
    "start_time": "2023-03-02T23:48:00.873Z"
   },
   {
    "duration": 293,
    "start_time": "2023-03-02T23:48:01.592Z"
   },
   {
    "duration": 18,
    "start_time": "2023-03-02T23:49:32.105Z"
   },
   {
    "duration": 509,
    "start_time": "2023-03-02T23:49:32.553Z"
   },
   {
    "duration": 1482,
    "start_time": "2023-03-03T10:05:42.553Z"
   },
   {
    "duration": 203,
    "start_time": "2023-03-03T10:05:44.037Z"
   },
   {
    "duration": 29,
    "start_time": "2023-03-03T10:05:44.242Z"
   },
   {
    "duration": 16,
    "start_time": "2023-03-03T10:05:44.429Z"
   },
   {
    "duration": 887,
    "start_time": "2023-03-03T10:05:44.447Z"
   },
   {
    "duration": 4,
    "start_time": "2023-03-03T10:05:45.367Z"
   },
   {
    "duration": 3,
    "start_time": "2023-03-03T10:05:45.878Z"
   },
   {
    "duration": 12,
    "start_time": "2023-03-03T10:05:46.398Z"
   },
   {
    "duration": 18,
    "start_time": "2023-03-03T10:05:47.148Z"
   },
   {
    "duration": 17,
    "start_time": "2023-03-03T10:05:47.415Z"
   },
   {
    "duration": 4,
    "start_time": "2023-03-03T10:05:48.366Z"
   },
   {
    "duration": 15,
    "start_time": "2023-03-03T10:05:48.831Z"
   },
   {
    "duration": 25,
    "start_time": "2023-03-03T10:05:49.070Z"
   },
   {
    "duration": 5,
    "start_time": "2023-03-03T10:05:49.319Z"
   },
   {
    "duration": 6,
    "start_time": "2023-03-03T10:05:49.830Z"
   },
   {
    "duration": 6,
    "start_time": "2023-03-03T10:05:50.046Z"
   },
   {
    "duration": 12,
    "start_time": "2023-03-03T10:05:50.534Z"
   },
   {
    "duration": 6,
    "start_time": "2023-03-03T10:05:51.053Z"
   },
   {
    "duration": 14,
    "start_time": "2023-03-03T10:05:51.790Z"
   },
   {
    "duration": 21,
    "start_time": "2023-03-03T10:05:52.064Z"
   },
   {
    "duration": 102,
    "start_time": "2023-03-03T10:05:52.295Z"
   },
   {
    "duration": 10,
    "start_time": "2023-03-03T10:05:53.774Z"
   },
   {
    "duration": 167,
    "start_time": "2023-03-03T10:05:54.064Z"
   },
   {
    "duration": 19,
    "start_time": "2023-03-03T10:05:55.678Z"
   },
   {
    "duration": 699,
    "start_time": "2023-03-03T10:05:56.207Z"
   },
   {
    "duration": 8,
    "start_time": "2023-03-03T10:05:59.156Z"
   },
   {
    "duration": 14,
    "start_time": "2023-03-03T10:05:59.526Z"
   },
   {
    "duration": 381,
    "start_time": "2023-03-03T10:06:01.120Z"
   },
   {
    "duration": 397,
    "start_time": "2023-03-03T10:06:05.056Z"
   },
   {
    "duration": 328,
    "start_time": "2023-03-03T10:06:47.839Z"
   },
   {
    "duration": 310,
    "start_time": "2023-03-03T10:07:00.210Z"
   },
   {
    "duration": 275,
    "start_time": "2023-03-03T10:07:08.785Z"
   },
   {
    "duration": 216,
    "start_time": "2023-03-03T10:09:02.881Z"
   },
   {
    "duration": 13,
    "start_time": "2023-03-03T10:09:03.609Z"
   },
   {
    "duration": 193,
    "start_time": "2023-03-03T10:09:04.360Z"
   },
   {
    "duration": 175,
    "start_time": "2023-03-03T10:09:44.516Z"
   },
   {
    "duration": 14,
    "start_time": "2023-03-03T10:10:17.282Z"
   },
   {
    "duration": 11,
    "start_time": "2023-03-03T10:11:16.831Z"
   },
   {
    "duration": 24,
    "start_time": "2023-03-03T10:12:00.863Z"
   },
   {
    "duration": 185,
    "start_time": "2023-03-03T10:13:27.305Z"
   },
   {
    "duration": 11,
    "start_time": "2023-03-03T10:21:25.793Z"
   },
   {
    "duration": 146,
    "start_time": "2023-03-03T10:21:56.039Z"
   },
   {
    "duration": 172,
    "start_time": "2023-03-03T10:22:08.869Z"
   },
   {
    "duration": 12,
    "start_time": "2023-03-03T10:22:30.520Z"
   },
   {
    "duration": 282,
    "start_time": "2023-03-03T10:22:48.273Z"
   },
   {
    "duration": 10,
    "start_time": "2023-03-03T10:23:09.688Z"
   },
   {
    "duration": 304,
    "start_time": "2023-03-03T10:26:45.216Z"
   },
   {
    "duration": 15,
    "start_time": "2023-03-03T10:27:12.861Z"
   },
   {
    "duration": 155,
    "start_time": "2023-03-03T10:27:42.467Z"
   },
   {
    "duration": 18,
    "start_time": "2023-03-03T10:27:54.028Z"
   },
   {
    "duration": 17,
    "start_time": "2023-03-03T10:28:02.323Z"
   },
   {
    "duration": 14,
    "start_time": "2023-03-03T10:28:30.596Z"
   },
   {
    "duration": 14,
    "start_time": "2023-03-03T10:28:35.966Z"
   },
   {
    "duration": 8,
    "start_time": "2023-03-03T10:29:09.500Z"
   },
   {
    "duration": 14,
    "start_time": "2023-03-03T10:39:10.406Z"
   },
   {
    "duration": 14,
    "start_time": "2023-03-03T10:39:15.121Z"
   },
   {
    "duration": 18,
    "start_time": "2023-03-03T10:39:15.912Z"
   },
   {
    "duration": 18,
    "start_time": "2023-03-03T10:39:16.694Z"
   },
   {
    "duration": 16,
    "start_time": "2023-03-03T10:39:17.521Z"
   },
   {
    "duration": 14,
    "start_time": "2023-03-03T10:39:18.392Z"
   },
   {
    "duration": 52,
    "start_time": "2023-03-03T10:45:55.214Z"
   },
   {
    "duration": 365,
    "start_time": "2023-03-03T10:46:11.954Z"
   },
   {
    "duration": 311,
    "start_time": "2023-03-03T10:46:58.709Z"
   },
   {
    "duration": 322,
    "start_time": "2023-03-03T10:47:28.670Z"
   },
   {
    "duration": 653,
    "start_time": "2023-03-03T10:50:20.649Z"
   },
   {
    "duration": 620,
    "start_time": "2023-03-03T10:51:48.659Z"
   },
   {
    "duration": 872,
    "start_time": "2023-03-03T10:54:11.427Z"
   },
   {
    "duration": 1175,
    "start_time": "2023-03-03T11:00:44.042Z"
   },
   {
    "duration": 3,
    "start_time": "2023-03-03T11:01:38.535Z"
   },
   {
    "duration": 3,
    "start_time": "2023-03-03T11:01:38.774Z"
   },
   {
    "duration": 3,
    "start_time": "2023-03-03T11:01:39.006Z"
   },
   {
    "duration": 3,
    "start_time": "2023-03-03T11:01:39.230Z"
   },
   {
    "duration": 2,
    "start_time": "2023-03-03T11:01:39.575Z"
   },
   {
    "duration": 2,
    "start_time": "2023-03-03T11:01:39.987Z"
   },
   {
    "duration": 3,
    "start_time": "2023-03-03T11:01:40.367Z"
   },
   {
    "duration": 3,
    "start_time": "2023-03-03T11:01:40.774Z"
   },
   {
    "duration": 3,
    "start_time": "2023-03-03T11:01:41.144Z"
   },
   {
    "duration": 3,
    "start_time": "2023-03-03T11:01:41.563Z"
   },
   {
    "duration": 3,
    "start_time": "2023-03-03T11:01:41.942Z"
   },
   {
    "duration": 3,
    "start_time": "2023-03-03T11:01:42.864Z"
   },
   {
    "duration": 9,
    "start_time": "2023-03-03T11:40:31.836Z"
   },
   {
    "duration": 14,
    "start_time": "2023-03-03T11:40:32.470Z"
   },
   {
    "duration": 8,
    "start_time": "2023-03-03T11:40:37.277Z"
   },
   {
    "duration": 9,
    "start_time": "2023-03-03T11:40:48.428Z"
   },
   {
    "duration": 11,
    "start_time": "2023-03-03T11:40:48.877Z"
   },
   {
    "duration": 8,
    "start_time": "2023-03-03T11:40:49.763Z"
   },
   {
    "duration": 5,
    "start_time": "2023-03-03T11:41:29.132Z"
   },
   {
    "duration": 6,
    "start_time": "2023-03-03T11:41:54.419Z"
   },
   {
    "duration": 6,
    "start_time": "2023-03-03T11:42:01.020Z"
   },
   {
    "duration": 5,
    "start_time": "2023-03-03T11:42:08.877Z"
   },
   {
    "duration": 5,
    "start_time": "2023-03-03T11:42:13.821Z"
   },
   {
    "duration": 4,
    "start_time": "2023-03-03T11:43:00.837Z"
   },
   {
    "duration": 6,
    "start_time": "2023-03-03T11:43:33.823Z"
   },
   {
    "duration": 4,
    "start_time": "2023-03-03T11:43:44.734Z"
   },
   {
    "duration": 14,
    "start_time": "2023-03-03T13:36:44.255Z"
   },
   {
    "duration": 196,
    "start_time": "2023-03-03T13:36:47.676Z"
   },
   {
    "duration": 8,
    "start_time": "2023-03-03T13:39:27.737Z"
   },
   {
    "duration": 20,
    "start_time": "2023-03-03T13:55:41.857Z"
   },
   {
    "duration": 11,
    "start_time": "2023-03-03T13:55:48.154Z"
   },
   {
    "duration": 4,
    "start_time": "2023-03-03T13:56:23.875Z"
   },
   {
    "duration": 13,
    "start_time": "2023-03-03T13:56:27.522Z"
   },
   {
    "duration": 159,
    "start_time": "2023-03-03T13:56:45.675Z"
   },
   {
    "duration": 140,
    "start_time": "2023-03-03T13:57:26.619Z"
   },
   {
    "duration": 140,
    "start_time": "2023-03-03T13:57:54.588Z"
   },
   {
    "duration": 162,
    "start_time": "2023-03-03T13:58:19.606Z"
   },
   {
    "duration": 217,
    "start_time": "2023-03-03T13:59:03.108Z"
   },
   {
    "duration": 13,
    "start_time": "2023-03-03T14:00:26.242Z"
   },
   {
    "duration": 19,
    "start_time": "2023-03-03T14:00:32.637Z"
   },
   {
    "duration": 15,
    "start_time": "2023-03-03T14:02:10.086Z"
   },
   {
    "duration": 29,
    "start_time": "2023-03-03T14:02:16.448Z"
   },
   {
    "duration": 23,
    "start_time": "2023-03-03T14:02:36.291Z"
   },
   {
    "duration": 227,
    "start_time": "2023-03-03T14:02:44.895Z"
   },
   {
    "duration": 244,
    "start_time": "2023-03-03T14:03:07.853Z"
   },
   {
    "duration": 358,
    "start_time": "2023-03-03T14:03:50.258Z"
   },
   {
    "duration": 231,
    "start_time": "2023-03-03T14:05:16.582Z"
   },
   {
    "duration": 156,
    "start_time": "2023-03-03T14:05:38.600Z"
   },
   {
    "duration": 67,
    "start_time": "2023-03-03T14:05:55.543Z"
   },
   {
    "duration": 4,
    "start_time": "2023-03-03T14:06:05.207Z"
   },
   {
    "duration": 158,
    "start_time": "2023-03-03T14:06:13.009Z"
   },
   {
    "duration": 207,
    "start_time": "2023-03-03T14:06:33.281Z"
   },
   {
    "duration": 219,
    "start_time": "2023-03-03T14:06:40.895Z"
   },
   {
    "duration": 6,
    "start_time": "2023-03-03T14:08:03.138Z"
   },
   {
    "duration": 1517,
    "start_time": "2023-03-03T14:09:56.995Z"
   },
   {
    "duration": 1202,
    "start_time": "2023-03-03T14:11:20.175Z"
   },
   {
    "duration": 56,
    "start_time": "2023-03-03T14:11:21.382Z"
   },
   {
    "duration": 20,
    "start_time": "2023-03-03T14:11:21.440Z"
   },
   {
    "duration": 17,
    "start_time": "2023-03-03T14:11:21.462Z"
   },
   {
    "duration": 943,
    "start_time": "2023-03-03T14:11:21.482Z"
   },
   {
    "duration": 3,
    "start_time": "2023-03-03T14:11:22.427Z"
   },
   {
    "duration": 3,
    "start_time": "2023-03-03T14:11:22.441Z"
   },
   {
    "duration": 12,
    "start_time": "2023-03-03T14:11:22.446Z"
   },
   {
    "duration": 11,
    "start_time": "2023-03-03T14:11:22.460Z"
   },
   {
    "duration": 14,
    "start_time": "2023-03-03T14:11:22.473Z"
   },
   {
    "duration": 5,
    "start_time": "2023-03-03T14:11:22.489Z"
   },
   {
    "duration": 15,
    "start_time": "2023-03-03T14:11:22.496Z"
   },
   {
    "duration": 28,
    "start_time": "2023-03-03T14:11:22.540Z"
   },
   {
    "duration": 6,
    "start_time": "2023-03-03T14:11:22.572Z"
   },
   {
    "duration": 6,
    "start_time": "2023-03-03T14:11:22.581Z"
   },
   {
    "duration": 7,
    "start_time": "2023-03-03T14:11:22.589Z"
   },
   {
    "duration": 13,
    "start_time": "2023-03-03T14:11:22.598Z"
   },
   {
    "duration": 7,
    "start_time": "2023-03-03T14:11:22.643Z"
   },
   {
    "duration": 25,
    "start_time": "2023-03-03T14:11:22.653Z"
   },
   {
    "duration": 21,
    "start_time": "2023-03-03T14:11:22.680Z"
   },
   {
    "duration": 128,
    "start_time": "2023-03-03T14:11:22.703Z"
   },
   {
    "duration": 13,
    "start_time": "2023-03-03T14:11:22.841Z"
   },
   {
    "duration": 240,
    "start_time": "2023-03-03T14:11:22.856Z"
   },
   {
    "duration": 23,
    "start_time": "2023-03-03T14:11:23.098Z"
   },
   {
    "duration": 839,
    "start_time": "2023-03-03T14:11:23.123Z"
   },
   {
    "duration": 8,
    "start_time": "2023-03-03T14:11:23.964Z"
   },
   {
    "duration": 17,
    "start_time": "2023-03-03T14:11:23.974Z"
   },
   {
    "duration": 436,
    "start_time": "2023-03-03T14:11:23.993Z"
   },
   {
    "duration": 459,
    "start_time": "2023-03-03T14:11:24.431Z"
   },
   {
    "duration": 372,
    "start_time": "2023-03-03T14:11:24.892Z"
   },
   {
    "duration": 3,
    "start_time": "2023-03-03T14:11:25.266Z"
   },
   {
    "duration": 10,
    "start_time": "2023-03-03T14:11:25.271Z"
   },
   {
    "duration": 3,
    "start_time": "2023-03-03T14:11:25.285Z"
   },
   {
    "duration": 4,
    "start_time": "2023-03-03T14:11:25.290Z"
   },
   {
    "duration": 17,
    "start_time": "2023-03-03T14:11:25.298Z"
   },
   {
    "duration": 9,
    "start_time": "2023-03-03T14:11:25.317Z"
   },
   {
    "duration": 5,
    "start_time": "2023-03-03T14:11:25.328Z"
   },
   {
    "duration": 3,
    "start_time": "2023-03-03T14:11:25.342Z"
   },
   {
    "duration": 5,
    "start_time": "2023-03-03T14:11:25.347Z"
   },
   {
    "duration": 6,
    "start_time": "2023-03-03T14:11:25.355Z"
   },
   {
    "duration": 7,
    "start_time": "2023-03-03T14:11:25.366Z"
   },
   {
    "duration": 15,
    "start_time": "2023-03-03T14:11:25.374Z"
   },
   {
    "duration": 1625,
    "start_time": "2023-03-03T14:11:25.391Z"
   },
   {
    "duration": 406,
    "start_time": "2023-03-03T14:11:27.018Z"
   },
   {
    "duration": 30,
    "start_time": "2023-03-03T14:11:27.426Z"
   },
   {
    "duration": 24,
    "start_time": "2023-03-03T14:11:27.457Z"
   },
   {
    "duration": 19,
    "start_time": "2023-03-03T14:11:27.484Z"
   },
   {
    "duration": 190,
    "start_time": "2023-03-03T14:11:27.506Z"
   },
   {
    "duration": 0,
    "start_time": "2023-03-03T14:11:27.698Z"
   },
   {
    "duration": 0,
    "start_time": "2023-03-03T14:11:27.700Z"
   },
   {
    "duration": 0,
    "start_time": "2023-03-03T14:11:27.701Z"
   },
   {
    "duration": 0,
    "start_time": "2023-03-03T14:11:27.703Z"
   },
   {
    "duration": 0,
    "start_time": "2023-03-03T14:11:27.704Z"
   },
   {
    "duration": 0,
    "start_time": "2023-03-03T14:11:27.706Z"
   },
   {
    "duration": 0,
    "start_time": "2023-03-03T14:11:27.707Z"
   },
   {
    "duration": 0,
    "start_time": "2023-03-03T14:11:27.709Z"
   },
   {
    "duration": 0,
    "start_time": "2023-03-03T14:11:27.710Z"
   },
   {
    "duration": 0,
    "start_time": "2023-03-03T14:11:27.712Z"
   },
   {
    "duration": 0,
    "start_time": "2023-03-03T14:11:27.713Z"
   },
   {
    "duration": 0,
    "start_time": "2023-03-03T14:11:27.714Z"
   },
   {
    "duration": 0,
    "start_time": "2023-03-03T14:11:27.716Z"
   },
   {
    "duration": 0,
    "start_time": "2023-03-03T14:11:27.717Z"
   },
   {
    "duration": 0,
    "start_time": "2023-03-03T14:11:27.718Z"
   },
   {
    "duration": 0,
    "start_time": "2023-03-03T14:11:27.719Z"
   },
   {
    "duration": 1269,
    "start_time": "2023-03-04T11:29:00.855Z"
   },
   {
    "duration": 81,
    "start_time": "2023-03-04T11:29:02.127Z"
   },
   {
    "duration": 27,
    "start_time": "2023-03-04T11:29:02.211Z"
   },
   {
    "duration": 47,
    "start_time": "2023-03-04T11:29:02.240Z"
   },
   {
    "duration": 906,
    "start_time": "2023-03-04T11:29:02.290Z"
   },
   {
    "duration": 4,
    "start_time": "2023-03-04T11:29:03.197Z"
   },
   {
    "duration": 11,
    "start_time": "2023-03-04T11:29:03.203Z"
   },
   {
    "duration": 13,
    "start_time": "2023-03-04T11:29:03.216Z"
   },
   {
    "duration": 23,
    "start_time": "2023-03-04T11:29:03.231Z"
   },
   {
    "duration": 25,
    "start_time": "2023-03-04T11:29:03.255Z"
   },
   {
    "duration": 4,
    "start_time": "2023-03-04T11:29:03.282Z"
   },
   {
    "duration": 17,
    "start_time": "2023-03-04T11:29:03.288Z"
   },
   {
    "duration": 47,
    "start_time": "2023-03-04T11:29:03.306Z"
   },
   {
    "duration": 10,
    "start_time": "2023-03-04T11:29:03.357Z"
   },
   {
    "duration": 8,
    "start_time": "2023-03-04T11:29:03.369Z"
   },
   {
    "duration": 12,
    "start_time": "2023-03-04T11:29:03.380Z"
   },
   {
    "duration": 14,
    "start_time": "2023-03-04T11:29:03.394Z"
   },
   {
    "duration": 7,
    "start_time": "2023-03-04T11:29:03.411Z"
   },
   {
    "duration": 49,
    "start_time": "2023-03-04T11:29:03.420Z"
   },
   {
    "duration": 21,
    "start_time": "2023-03-04T11:29:03.471Z"
   },
   {
    "duration": 121,
    "start_time": "2023-03-04T11:29:03.494Z"
   },
   {
    "duration": 10,
    "start_time": "2023-03-04T11:29:03.617Z"
   },
   {
    "duration": 208,
    "start_time": "2023-03-04T11:29:03.651Z"
   },
   {
    "duration": 24,
    "start_time": "2023-03-04T11:29:03.861Z"
   },
   {
    "duration": 709,
    "start_time": "2023-03-04T11:29:03.887Z"
   },
   {
    "duration": 9,
    "start_time": "2023-03-04T11:29:04.598Z"
   },
   {
    "duration": 19,
    "start_time": "2023-03-04T11:29:04.609Z"
   },
   {
    "duration": 438,
    "start_time": "2023-03-04T11:29:04.630Z"
   },
   {
    "duration": 391,
    "start_time": "2023-03-04T11:29:05.071Z"
   },
   {
    "duration": 331,
    "start_time": "2023-03-04T11:29:05.478Z"
   },
   {
    "duration": 3,
    "start_time": "2023-03-04T11:29:05.815Z"
   },
   {
    "duration": 9,
    "start_time": "2023-03-04T11:29:05.824Z"
   },
   {
    "duration": 15,
    "start_time": "2023-03-04T11:29:05.835Z"
   },
   {
    "duration": 24,
    "start_time": "2023-03-04T11:29:05.854Z"
   },
   {
    "duration": 12,
    "start_time": "2023-03-04T11:29:05.881Z"
   },
   {
    "duration": 5,
    "start_time": "2023-03-04T11:29:05.896Z"
   },
   {
    "duration": 9,
    "start_time": "2023-03-04T11:29:05.903Z"
   },
   {
    "duration": 5,
    "start_time": "2023-03-04T11:29:05.915Z"
   },
   {
    "duration": 10,
    "start_time": "2023-03-04T11:29:05.922Z"
   },
   {
    "duration": 38,
    "start_time": "2023-03-04T11:29:05.934Z"
   },
   {
    "duration": 12,
    "start_time": "2023-03-04T11:29:05.976Z"
   },
   {
    "duration": 9,
    "start_time": "2023-03-04T11:29:05.990Z"
   },
   {
    "duration": 1330,
    "start_time": "2023-03-04T11:29:06.001Z"
   },
   {
    "duration": 337,
    "start_time": "2023-03-04T11:29:07.333Z"
   },
   {
    "duration": 17,
    "start_time": "2023-03-04T11:29:07.672Z"
   },
   {
    "duration": 29,
    "start_time": "2023-03-04T11:29:07.691Z"
   },
   {
    "duration": 47,
    "start_time": "2023-03-04T11:29:07.722Z"
   },
   {
    "duration": 154,
    "start_time": "2023-03-04T11:29:07.772Z"
   },
   {
    "duration": 0,
    "start_time": "2023-03-04T11:29:07.928Z"
   },
   {
    "duration": 0,
    "start_time": "2023-03-04T11:29:07.929Z"
   },
   {
    "duration": 0,
    "start_time": "2023-03-04T11:29:07.930Z"
   },
   {
    "duration": 0,
    "start_time": "2023-03-04T11:29:07.932Z"
   },
   {
    "duration": 0,
    "start_time": "2023-03-04T11:29:07.933Z"
   },
   {
    "duration": 0,
    "start_time": "2023-03-04T11:29:07.934Z"
   },
   {
    "duration": 0,
    "start_time": "2023-03-04T11:29:07.949Z"
   },
   {
    "duration": 0,
    "start_time": "2023-03-04T11:29:07.950Z"
   },
   {
    "duration": 0,
    "start_time": "2023-03-04T11:29:07.950Z"
   },
   {
    "duration": 0,
    "start_time": "2023-03-04T11:29:07.957Z"
   },
   {
    "duration": 0,
    "start_time": "2023-03-04T11:29:07.958Z"
   },
   {
    "duration": 0,
    "start_time": "2023-03-04T11:29:07.959Z"
   },
   {
    "duration": 0,
    "start_time": "2023-03-04T11:29:07.960Z"
   },
   {
    "duration": 0,
    "start_time": "2023-03-04T11:29:07.961Z"
   },
   {
    "duration": 0,
    "start_time": "2023-03-04T11:29:07.964Z"
   },
   {
    "duration": 0,
    "start_time": "2023-03-04T11:29:07.965Z"
   },
   {
    "duration": 1335,
    "start_time": "2023-03-04T11:36:26.539Z"
   },
   {
    "duration": 57,
    "start_time": "2023-03-04T11:36:27.877Z"
   },
   {
    "duration": 32,
    "start_time": "2023-03-04T11:36:27.937Z"
   },
   {
    "duration": 27,
    "start_time": "2023-03-04T11:36:27.971Z"
   },
   {
    "duration": 962,
    "start_time": "2023-03-04T11:36:28.001Z"
   },
   {
    "duration": 6,
    "start_time": "2023-03-04T11:36:28.966Z"
   },
   {
    "duration": 9,
    "start_time": "2023-03-04T11:36:28.974Z"
   },
   {
    "duration": 14,
    "start_time": "2023-03-04T11:36:28.985Z"
   },
   {
    "duration": 12,
    "start_time": "2023-03-04T11:36:29.001Z"
   },
   {
    "duration": 43,
    "start_time": "2023-03-04T11:36:29.015Z"
   },
   {
    "duration": 7,
    "start_time": "2023-03-04T11:36:29.064Z"
   },
   {
    "duration": 19,
    "start_time": "2023-03-04T11:36:29.073Z"
   },
   {
    "duration": 24,
    "start_time": "2023-03-04T11:36:29.094Z"
   },
   {
    "duration": 5,
    "start_time": "2023-03-04T11:36:29.121Z"
   },
   {
    "duration": 9,
    "start_time": "2023-03-04T11:36:29.147Z"
   },
   {
    "duration": 15,
    "start_time": "2023-03-04T11:36:29.158Z"
   },
   {
    "duration": 16,
    "start_time": "2023-03-04T11:36:29.175Z"
   },
   {
    "duration": 6,
    "start_time": "2023-03-04T11:36:29.193Z"
   },
   {
    "duration": 21,
    "start_time": "2023-03-04T11:36:29.201Z"
   },
   {
    "duration": 42,
    "start_time": "2023-03-04T11:36:29.225Z"
   },
   {
    "duration": 119,
    "start_time": "2023-03-04T11:36:29.270Z"
   },
   {
    "duration": 10,
    "start_time": "2023-03-04T11:36:29.391Z"
   },
   {
    "duration": 226,
    "start_time": "2023-03-04T11:36:29.403Z"
   },
   {
    "duration": 32,
    "start_time": "2023-03-04T11:36:29.631Z"
   },
   {
    "duration": 659,
    "start_time": "2023-03-04T11:36:29.665Z"
   },
   {
    "duration": 9,
    "start_time": "2023-03-04T11:36:30.326Z"
   },
   {
    "duration": 54,
    "start_time": "2023-03-04T11:36:30.336Z"
   },
   {
    "duration": 454,
    "start_time": "2023-03-04T11:36:30.393Z"
   },
   {
    "duration": 409,
    "start_time": "2023-03-04T11:36:30.856Z"
   },
   {
    "duration": 320,
    "start_time": "2023-03-04T11:36:31.267Z"
   },
   {
    "duration": 4,
    "start_time": "2023-03-04T11:36:31.589Z"
   },
   {
    "duration": 21,
    "start_time": "2023-03-04T11:36:31.596Z"
   },
   {
    "duration": 11,
    "start_time": "2023-03-04T11:36:31.620Z"
   },
   {
    "duration": 9,
    "start_time": "2023-03-04T11:36:31.633Z"
   },
   {
    "duration": 23,
    "start_time": "2023-03-04T11:36:31.644Z"
   },
   {
    "duration": 10,
    "start_time": "2023-03-04T11:36:31.669Z"
   },
   {
    "duration": 15,
    "start_time": "2023-03-04T11:36:31.681Z"
   },
   {
    "duration": 10,
    "start_time": "2023-03-04T11:36:31.697Z"
   },
   {
    "duration": 12,
    "start_time": "2023-03-04T11:36:31.709Z"
   },
   {
    "duration": 10,
    "start_time": "2023-03-04T11:36:31.724Z"
   },
   {
    "duration": 41,
    "start_time": "2023-03-04T11:36:31.740Z"
   },
   {
    "duration": 21,
    "start_time": "2023-03-04T11:36:31.783Z"
   },
   {
    "duration": 1358,
    "start_time": "2023-03-04T11:36:31.806Z"
   },
   {
    "duration": 337,
    "start_time": "2023-03-04T11:36:33.165Z"
   },
   {
    "duration": 19,
    "start_time": "2023-03-04T11:36:33.504Z"
   },
   {
    "duration": 37,
    "start_time": "2023-03-04T11:36:33.526Z"
   },
   {
    "duration": 30,
    "start_time": "2023-03-04T11:36:33.567Z"
   },
   {
    "duration": 123,
    "start_time": "2023-03-04T11:36:33.598Z"
   },
   {
    "duration": 0,
    "start_time": "2023-03-04T11:36:33.723Z"
   },
   {
    "duration": 0,
    "start_time": "2023-03-04T11:36:33.725Z"
   },
   {
    "duration": 0,
    "start_time": "2023-03-04T11:36:33.726Z"
   },
   {
    "duration": 0,
    "start_time": "2023-03-04T11:36:33.727Z"
   },
   {
    "duration": 1,
    "start_time": "2023-03-04T11:36:33.728Z"
   },
   {
    "duration": 0,
    "start_time": "2023-03-04T11:36:33.730Z"
   },
   {
    "duration": 0,
    "start_time": "2023-03-04T11:36:33.749Z"
   },
   {
    "duration": 0,
    "start_time": "2023-03-04T11:36:33.750Z"
   },
   {
    "duration": 0,
    "start_time": "2023-03-04T11:36:33.750Z"
   },
   {
    "duration": 0,
    "start_time": "2023-03-04T11:36:33.752Z"
   },
   {
    "duration": 0,
    "start_time": "2023-03-04T11:36:33.753Z"
   },
   {
    "duration": 0,
    "start_time": "2023-03-04T11:36:33.754Z"
   },
   {
    "duration": 0,
    "start_time": "2023-03-04T11:36:33.755Z"
   },
   {
    "duration": 0,
    "start_time": "2023-03-04T11:36:33.756Z"
   },
   {
    "duration": 0,
    "start_time": "2023-03-04T11:36:33.757Z"
   },
   {
    "duration": 0,
    "start_time": "2023-03-04T11:36:33.758Z"
   },
   {
    "duration": 1525,
    "start_time": "2023-03-04T15:02:46.563Z"
   },
   {
    "duration": 129,
    "start_time": "2023-03-04T15:02:48.091Z"
   },
   {
    "duration": 31,
    "start_time": "2023-03-04T15:02:48.223Z"
   },
   {
    "duration": 27,
    "start_time": "2023-03-04T15:02:48.259Z"
   },
   {
    "duration": 898,
    "start_time": "2023-03-04T15:02:48.292Z"
   },
   {
    "duration": 7,
    "start_time": "2023-03-04T15:02:49.193Z"
   },
   {
    "duration": 9,
    "start_time": "2023-03-04T15:02:49.202Z"
   },
   {
    "duration": 13,
    "start_time": "2023-03-04T15:02:49.213Z"
   },
   {
    "duration": 13,
    "start_time": "2023-03-04T15:02:49.228Z"
   },
   {
    "duration": 39,
    "start_time": "2023-03-04T15:02:49.249Z"
   },
   {
    "duration": 25,
    "start_time": "2023-03-04T15:02:49.290Z"
   },
   {
    "duration": 26,
    "start_time": "2023-03-04T15:02:49.318Z"
   },
   {
    "duration": 87,
    "start_time": "2023-03-04T15:02:49.346Z"
   },
   {
    "duration": 6,
    "start_time": "2023-03-04T15:02:49.438Z"
   },
   {
    "duration": 44,
    "start_time": "2023-03-04T15:02:49.446Z"
   },
   {
    "duration": 34,
    "start_time": "2023-03-04T15:02:49.492Z"
   },
   {
    "duration": 27,
    "start_time": "2023-03-04T15:02:49.528Z"
   },
   {
    "duration": 48,
    "start_time": "2023-03-04T15:02:49.559Z"
   },
   {
    "duration": 22,
    "start_time": "2023-03-04T15:02:49.609Z"
   },
   {
    "duration": 35,
    "start_time": "2023-03-04T15:02:49.633Z"
   },
   {
    "duration": 131,
    "start_time": "2023-03-04T15:02:49.670Z"
   },
   {
    "duration": 9,
    "start_time": "2023-03-04T15:02:49.809Z"
   },
   {
    "duration": 219,
    "start_time": "2023-03-04T15:02:49.819Z"
   },
   {
    "duration": 36,
    "start_time": "2023-03-04T15:02:50.040Z"
   },
   {
    "duration": 692,
    "start_time": "2023-03-04T15:02:50.078Z"
   },
   {
    "duration": 19,
    "start_time": "2023-03-04T15:02:50.771Z"
   },
   {
    "duration": 42,
    "start_time": "2023-03-04T15:02:50.792Z"
   },
   {
    "duration": 389,
    "start_time": "2023-03-04T15:02:50.835Z"
   },
   {
    "duration": 435,
    "start_time": "2023-03-04T15:02:51.226Z"
   },
   {
    "duration": 309,
    "start_time": "2023-03-04T15:02:51.663Z"
   },
   {
    "duration": 10,
    "start_time": "2023-03-04T15:02:51.975Z"
   },
   {
    "duration": 31,
    "start_time": "2023-03-04T15:02:51.987Z"
   },
   {
    "duration": 14,
    "start_time": "2023-03-04T15:02:52.020Z"
   },
   {
    "duration": 10,
    "start_time": "2023-03-04T15:02:52.035Z"
   },
   {
    "duration": 60,
    "start_time": "2023-03-04T15:02:52.047Z"
   },
   {
    "duration": 7,
    "start_time": "2023-03-04T15:02:52.109Z"
   },
   {
    "duration": 7,
    "start_time": "2023-03-04T15:02:52.118Z"
   },
   {
    "duration": 14,
    "start_time": "2023-03-04T15:02:52.127Z"
   },
   {
    "duration": 37,
    "start_time": "2023-03-04T15:02:52.143Z"
   },
   {
    "duration": 24,
    "start_time": "2023-03-04T15:02:52.182Z"
   },
   {
    "duration": 7,
    "start_time": "2023-03-04T15:02:52.210Z"
   },
   {
    "duration": 9,
    "start_time": "2023-03-04T15:02:52.219Z"
   },
   {
    "duration": 1433,
    "start_time": "2023-03-04T15:02:52.230Z"
   },
   {
    "duration": 356,
    "start_time": "2023-03-04T15:02:53.671Z"
   },
   {
    "duration": 42,
    "start_time": "2023-03-04T15:02:54.030Z"
   },
   {
    "duration": 38,
    "start_time": "2023-03-04T15:02:54.077Z"
   },
   {
    "duration": 19,
    "start_time": "2023-03-04T15:02:54.117Z"
   },
   {
    "duration": 169,
    "start_time": "2023-03-04T15:02:54.138Z"
   },
   {
    "duration": 0,
    "start_time": "2023-03-04T15:02:54.309Z"
   },
   {
    "duration": 0,
    "start_time": "2023-03-04T15:02:54.311Z"
   },
   {
    "duration": 0,
    "start_time": "2023-03-04T15:02:54.313Z"
   },
   {
    "duration": 0,
    "start_time": "2023-03-04T15:02:54.314Z"
   },
   {
    "duration": 0,
    "start_time": "2023-03-04T15:02:54.314Z"
   },
   {
    "duration": 0,
    "start_time": "2023-03-04T15:02:54.315Z"
   },
   {
    "duration": 0,
    "start_time": "2023-03-04T15:02:54.317Z"
   },
   {
    "duration": 0,
    "start_time": "2023-03-04T15:02:54.318Z"
   },
   {
    "duration": 0,
    "start_time": "2023-03-04T15:02:54.320Z"
   },
   {
    "duration": 0,
    "start_time": "2023-03-04T15:02:54.322Z"
   },
   {
    "duration": 0,
    "start_time": "2023-03-04T15:02:54.324Z"
   },
   {
    "duration": 0,
    "start_time": "2023-03-04T15:02:54.325Z"
   },
   {
    "duration": 0,
    "start_time": "2023-03-04T15:02:54.327Z"
   },
   {
    "duration": 0,
    "start_time": "2023-03-04T15:02:54.329Z"
   },
   {
    "duration": 0,
    "start_time": "2023-03-04T15:02:54.354Z"
   },
   {
    "duration": 0,
    "start_time": "2023-03-04T15:02:54.356Z"
   },
   {
    "duration": 234,
    "start_time": "2023-03-04T15:03:27.080Z"
   },
   {
    "duration": 40,
    "start_time": "2023-03-04T15:03:33.760Z"
   },
   {
    "duration": 256,
    "start_time": "2023-03-04T15:03:39.074Z"
   },
   {
    "duration": 339,
    "start_time": "2023-03-04T15:03:42.727Z"
   },
   {
    "duration": 263,
    "start_time": "2023-03-04T15:04:51.573Z"
   },
   {
    "duration": 27,
    "start_time": "2023-03-04T15:05:44.367Z"
   },
   {
    "duration": 45,
    "start_time": "2023-03-04T15:07:01.271Z"
   },
   {
    "duration": 59,
    "start_time": "2023-03-04T15:07:08.103Z"
   },
   {
    "duration": 36,
    "start_time": "2023-03-04T15:07:16.383Z"
   },
   {
    "duration": 40,
    "start_time": "2023-03-04T15:07:20.574Z"
   },
   {
    "duration": 3,
    "start_time": "2023-03-04T15:07:27.114Z"
   },
   {
    "duration": 114,
    "start_time": "2023-03-04T15:07:27.936Z"
   },
   {
    "duration": 25,
    "start_time": "2023-03-04T15:07:28.190Z"
   },
   {
    "duration": 36,
    "start_time": "2023-03-04T15:07:28.475Z"
   },
   {
    "duration": 1123,
    "start_time": "2023-03-04T15:07:28.906Z"
   },
   {
    "duration": 8,
    "start_time": "2023-03-04T15:07:30.879Z"
   },
   {
    "duration": 5,
    "start_time": "2023-03-04T15:07:31.494Z"
   },
   {
    "duration": 20,
    "start_time": "2023-03-04T15:07:32.075Z"
   },
   {
    "duration": 23,
    "start_time": "2023-03-04T15:07:33.084Z"
   },
   {
    "duration": 14,
    "start_time": "2023-03-04T15:07:33.428Z"
   },
   {
    "duration": 12,
    "start_time": "2023-03-04T15:07:34.872Z"
   },
   {
    "duration": 20,
    "start_time": "2023-03-04T15:07:35.810Z"
   },
   {
    "duration": 41,
    "start_time": "2023-03-04T15:07:36.486Z"
   },
   {
    "duration": 10,
    "start_time": "2023-03-04T15:07:37.400Z"
   },
   {
    "duration": 15,
    "start_time": "2023-03-04T15:07:38.773Z"
   },
   {
    "duration": 13,
    "start_time": "2023-03-04T15:07:39.073Z"
   },
   {
    "duration": 18,
    "start_time": "2023-03-04T15:07:40.073Z"
   },
   {
    "duration": 6,
    "start_time": "2023-03-04T15:07:41.017Z"
   },
   {
    "duration": 44,
    "start_time": "2023-03-04T15:07:42.371Z"
   },
   {
    "duration": 45,
    "start_time": "2023-03-04T15:07:43.074Z"
   },
   {
    "duration": 30,
    "start_time": "2023-03-04T15:07:46.494Z"
   },
   {
    "duration": 29,
    "start_time": "2023-03-04T15:09:33.699Z"
   },
   {
    "duration": 45,
    "start_time": "2023-03-04T15:09:37.876Z"
   },
   {
    "duration": 94,
    "start_time": "2023-03-04T15:09:47.563Z"
   },
   {
    "duration": 42,
    "start_time": "2023-03-04T15:09:55.077Z"
   },
   {
    "duration": 54,
    "start_time": "2023-03-04T15:11:05.867Z"
   },
   {
    "duration": 75,
    "start_time": "2023-03-04T15:11:23.818Z"
   },
   {
    "duration": 24,
    "start_time": "2023-03-04T15:11:24.207Z"
   },
   {
    "duration": 31,
    "start_time": "2023-03-04T15:11:26.788Z"
   },
   {
    "duration": 38,
    "start_time": "2023-03-04T15:11:36.989Z"
   },
   {
    "duration": 18,
    "start_time": "2023-03-04T15:11:41.728Z"
   },
   {
    "duration": 24,
    "start_time": "2023-03-04T15:11:53.620Z"
   },
   {
    "duration": 23,
    "start_time": "2023-03-04T15:11:55.480Z"
   },
   {
    "duration": 1554,
    "start_time": "2023-03-04T15:17:17.614Z"
   },
   {
    "duration": 84,
    "start_time": "2023-03-04T15:18:39.735Z"
   },
   {
    "duration": 89,
    "start_time": "2023-03-04T15:19:05.023Z"
   },
   {
    "duration": 1473,
    "start_time": "2023-03-04T15:19:52.623Z"
   },
   {
    "duration": 98,
    "start_time": "2023-03-04T15:20:17.710Z"
   },
   {
    "duration": 1541,
    "start_time": "2023-03-04T15:20:59.376Z"
   },
   {
    "duration": 1330,
    "start_time": "2023-03-04T15:22:13.006Z"
   },
   {
    "duration": 80,
    "start_time": "2023-03-04T15:22:14.338Z"
   },
   {
    "duration": 18,
    "start_time": "2023-03-04T15:22:14.420Z"
   },
   {
    "duration": 20,
    "start_time": "2023-03-04T15:22:14.440Z"
   },
   {
    "duration": 973,
    "start_time": "2023-03-04T15:22:14.463Z"
   },
   {
    "duration": 23,
    "start_time": "2023-03-04T15:22:15.438Z"
   },
   {
    "duration": 24,
    "start_time": "2023-03-04T15:22:15.469Z"
   },
   {
    "duration": 11,
    "start_time": "2023-03-04T15:22:15.495Z"
   },
   {
    "duration": 15,
    "start_time": "2023-03-04T15:22:15.508Z"
   },
   {
    "duration": 15,
    "start_time": "2023-03-04T15:22:15.527Z"
   },
   {
    "duration": 11,
    "start_time": "2023-03-04T15:22:15.544Z"
   },
   {
    "duration": 44,
    "start_time": "2023-03-04T15:22:15.562Z"
   },
   {
    "duration": 27,
    "start_time": "2023-03-04T15:22:15.607Z"
   },
   {
    "duration": 6,
    "start_time": "2023-03-04T15:22:15.636Z"
   },
   {
    "duration": 55,
    "start_time": "2023-03-04T15:22:15.643Z"
   },
   {
    "duration": 15,
    "start_time": "2023-03-04T15:22:15.700Z"
   },
   {
    "duration": 13,
    "start_time": "2023-03-04T15:22:15.717Z"
   },
   {
    "duration": 6,
    "start_time": "2023-03-04T15:22:15.732Z"
   },
   {
    "duration": 69,
    "start_time": "2023-03-04T15:22:15.740Z"
   },
   {
    "duration": 61,
    "start_time": "2023-03-04T15:22:15.811Z"
   },
   {
    "duration": 53,
    "start_time": "2023-03-04T15:22:15.874Z"
   },
   {
    "duration": 99,
    "start_time": "2023-03-04T15:22:15.929Z"
   },
   {
    "duration": 24,
    "start_time": "2023-03-04T15:22:16.030Z"
   },
   {
    "duration": 242,
    "start_time": "2023-03-04T15:22:16.062Z"
   },
   {
    "duration": 20,
    "start_time": "2023-03-04T15:22:16.306Z"
   },
   {
    "duration": 632,
    "start_time": "2023-03-04T15:22:16.328Z"
   },
   {
    "duration": 8,
    "start_time": "2023-03-04T15:22:16.963Z"
   },
   {
    "duration": 26,
    "start_time": "2023-03-04T15:22:16.974Z"
   },
   {
    "duration": 337,
    "start_time": "2023-03-04T15:22:17.002Z"
   },
   {
    "duration": 437,
    "start_time": "2023-03-04T15:22:17.349Z"
   },
   {
    "duration": 310,
    "start_time": "2023-03-04T15:22:17.790Z"
   },
   {
    "duration": 2,
    "start_time": "2023-03-04T15:22:18.102Z"
   },
   {
    "duration": 9,
    "start_time": "2023-03-04T15:22:18.106Z"
   },
   {
    "duration": 7,
    "start_time": "2023-03-04T15:22:18.117Z"
   },
   {
    "duration": 17,
    "start_time": "2023-03-04T15:22:18.127Z"
   },
   {
    "duration": 27,
    "start_time": "2023-03-04T15:22:18.146Z"
   },
   {
    "duration": 20,
    "start_time": "2023-03-04T15:22:18.176Z"
   },
   {
    "duration": 5,
    "start_time": "2023-03-04T15:22:18.198Z"
   },
   {
    "duration": 5,
    "start_time": "2023-03-04T15:22:18.205Z"
   },
   {
    "duration": 6,
    "start_time": "2023-03-04T15:22:18.212Z"
   },
   {
    "duration": 6,
    "start_time": "2023-03-04T15:22:18.219Z"
   },
   {
    "duration": 10,
    "start_time": "2023-03-04T15:22:18.227Z"
   },
   {
    "duration": 31,
    "start_time": "2023-03-04T15:22:18.239Z"
   },
   {
    "duration": 1303,
    "start_time": "2023-03-04T15:22:18.276Z"
   },
   {
    "duration": 342,
    "start_time": "2023-03-04T15:22:19.585Z"
   },
   {
    "duration": 27,
    "start_time": "2023-03-04T15:22:19.929Z"
   },
   {
    "duration": 48,
    "start_time": "2023-03-04T15:22:19.959Z"
   },
   {
    "duration": 18,
    "start_time": "2023-03-04T15:22:20.010Z"
   },
   {
    "duration": 182,
    "start_time": "2023-03-04T15:22:20.030Z"
   },
   {
    "duration": 193,
    "start_time": "2023-03-04T15:22:20.214Z"
   },
   {
    "duration": 197,
    "start_time": "2023-03-04T15:22:20.408Z"
   },
   {
    "duration": 19,
    "start_time": "2023-03-04T15:22:20.607Z"
   },
   {
    "duration": 40,
    "start_time": "2023-03-04T15:22:20.628Z"
   },
   {
    "duration": 58,
    "start_time": "2023-03-04T15:22:20.670Z"
   },
   {
    "duration": 10,
    "start_time": "2023-03-04T15:22:20.731Z"
   },
   {
    "duration": 90,
    "start_time": "2023-03-04T15:22:20.743Z"
   },
   {
    "duration": 21,
    "start_time": "2023-03-04T15:22:20.836Z"
   },
   {
    "duration": 53,
    "start_time": "2023-03-04T15:22:20.860Z"
   },
   {
    "duration": 24,
    "start_time": "2023-03-04T15:22:20.915Z"
   },
   {
    "duration": 14,
    "start_time": "2023-03-04T15:22:20.942Z"
   },
   {
    "duration": 56,
    "start_time": "2023-03-04T15:22:20.958Z"
   },
   {
    "duration": 17,
    "start_time": "2023-03-04T15:22:21.016Z"
   },
   {
    "duration": 66,
    "start_time": "2023-03-04T15:22:21.035Z"
   },
   {
    "duration": 36,
    "start_time": "2023-03-04T15:22:21.103Z"
   },
   {
    "duration": 71,
    "start_time": "2023-03-04T15:22:21.141Z"
   },
   {
    "duration": 1098,
    "start_time": "2023-03-05T12:49:09.622Z"
   },
   {
    "duration": 50,
    "start_time": "2023-03-05T12:49:10.721Z"
   },
   {
    "duration": 16,
    "start_time": "2023-03-05T12:49:10.772Z"
   },
   {
    "duration": 12,
    "start_time": "2023-03-05T12:49:10.790Z"
   },
   {
    "duration": 750,
    "start_time": "2023-03-05T12:49:10.804Z"
   },
   {
    "duration": 3,
    "start_time": "2023-03-05T12:49:11.556Z"
   },
   {
    "duration": 13,
    "start_time": "2023-03-05T12:49:11.560Z"
   },
   {
    "duration": 23,
    "start_time": "2023-03-05T12:49:11.574Z"
   },
   {
    "duration": 15,
    "start_time": "2023-03-05T12:49:11.599Z"
   },
   {
    "duration": 21,
    "start_time": "2023-03-05T12:49:11.615Z"
   },
   {
    "duration": 3,
    "start_time": "2023-03-05T12:49:11.638Z"
   },
   {
    "duration": 30,
    "start_time": "2023-03-05T12:49:11.643Z"
   },
   {
    "duration": 20,
    "start_time": "2023-03-05T12:49:11.675Z"
   },
   {
    "duration": 4,
    "start_time": "2023-03-05T12:49:11.697Z"
   },
   {
    "duration": 17,
    "start_time": "2023-03-05T12:49:11.702Z"
   },
   {
    "duration": 11,
    "start_time": "2023-03-05T12:49:11.721Z"
   },
   {
    "duration": 17,
    "start_time": "2023-03-05T12:49:11.733Z"
   },
   {
    "duration": 15,
    "start_time": "2023-03-05T12:49:11.752Z"
   },
   {
    "duration": 20,
    "start_time": "2023-03-05T12:49:11.768Z"
   },
   {
    "duration": 31,
    "start_time": "2023-03-05T12:49:11.789Z"
   },
   {
    "duration": 12,
    "start_time": "2023-03-05T12:49:11.822Z"
   },
   {
    "duration": 83,
    "start_time": "2023-03-05T12:49:11.836Z"
   },
   {
    "duration": 7,
    "start_time": "2023-03-05T12:49:11.920Z"
   },
   {
    "duration": 154,
    "start_time": "2023-03-05T12:49:11.928Z"
   },
   {
    "duration": 25,
    "start_time": "2023-03-05T12:49:12.083Z"
   },
   {
    "duration": 506,
    "start_time": "2023-03-05T12:49:12.109Z"
   },
   {
    "duration": 5,
    "start_time": "2023-03-05T12:49:12.617Z"
   },
   {
    "duration": 31,
    "start_time": "2023-03-05T12:49:12.623Z"
   },
   {
    "duration": 295,
    "start_time": "2023-03-05T12:49:12.655Z"
   },
   {
    "duration": 321,
    "start_time": "2023-03-05T12:49:12.951Z"
   },
   {
    "duration": 258,
    "start_time": "2023-03-05T12:49:13.274Z"
   },
   {
    "duration": 2,
    "start_time": "2023-03-05T12:49:13.534Z"
   },
   {
    "duration": 6,
    "start_time": "2023-03-05T12:49:13.537Z"
   },
   {
    "duration": 5,
    "start_time": "2023-03-05T12:49:13.544Z"
   },
   {
    "duration": 4,
    "start_time": "2023-03-05T12:49:13.551Z"
   },
   {
    "duration": 5,
    "start_time": "2023-03-05T12:49:13.556Z"
   },
   {
    "duration": 4,
    "start_time": "2023-03-05T12:49:13.562Z"
   },
   {
    "duration": 6,
    "start_time": "2023-03-05T12:49:13.567Z"
   },
   {
    "duration": 4,
    "start_time": "2023-03-05T12:49:13.574Z"
   },
   {
    "duration": 24,
    "start_time": "2023-03-05T12:49:13.580Z"
   },
   {
    "duration": 2,
    "start_time": "2023-03-05T12:49:13.607Z"
   },
   {
    "duration": 5,
    "start_time": "2023-03-05T12:49:13.610Z"
   },
   {
    "duration": 5,
    "start_time": "2023-03-05T12:49:13.616Z"
   },
   {
    "duration": 1071,
    "start_time": "2023-03-05T12:49:13.622Z"
   },
   {
    "duration": 255,
    "start_time": "2023-03-05T12:49:14.703Z"
   },
   {
    "duration": 14,
    "start_time": "2023-03-05T12:49:14.959Z"
   },
   {
    "duration": 18,
    "start_time": "2023-03-05T12:49:14.975Z"
   },
   {
    "duration": 22,
    "start_time": "2023-03-05T12:49:14.994Z"
   },
   {
    "duration": 171,
    "start_time": "2023-03-05T12:49:15.017Z"
   },
   {
    "duration": 165,
    "start_time": "2023-03-05T12:49:15.189Z"
   },
   {
    "duration": 176,
    "start_time": "2023-03-05T12:49:15.355Z"
   },
   {
    "duration": 19,
    "start_time": "2023-03-05T12:49:15.533Z"
   },
   {
    "duration": 17,
    "start_time": "2023-03-05T12:49:15.555Z"
   },
   {
    "duration": 13,
    "start_time": "2023-03-05T12:49:15.573Z"
   },
   {
    "duration": 20,
    "start_time": "2023-03-05T12:49:15.588Z"
   },
   {
    "duration": 6,
    "start_time": "2023-03-05T12:49:15.610Z"
   },
   {
    "duration": 9,
    "start_time": "2023-03-05T12:49:15.618Z"
   },
   {
    "duration": 12,
    "start_time": "2023-03-05T12:49:15.629Z"
   },
   {
    "duration": 11,
    "start_time": "2023-03-05T12:49:15.642Z"
   },
   {
    "duration": 7,
    "start_time": "2023-03-05T12:49:15.654Z"
   },
   {
    "duration": 13,
    "start_time": "2023-03-05T12:49:15.663Z"
   },
   {
    "duration": 28,
    "start_time": "2023-03-05T12:49:15.677Z"
   },
   {
    "duration": 11,
    "start_time": "2023-03-05T12:49:15.706Z"
   },
   {
    "duration": 7,
    "start_time": "2023-03-05T12:49:15.719Z"
   },
   {
    "duration": 7,
    "start_time": "2023-03-05T12:49:15.727Z"
   },
   {
    "duration": 245,
    "start_time": "2023-03-05T12:52:14.073Z"
   },
   {
    "duration": 350,
    "start_time": "2023-03-05T12:55:36.699Z"
   }
  ],
  "kernelspec": {
   "display_name": "Python 3 (ipykernel)",
   "language": "python",
   "name": "python3"
  },
  "language_info": {
   "codemirror_mode": {
    "name": "ipython",
    "version": 3
   },
   "file_extension": ".py",
   "mimetype": "text/x-python",
   "name": "python",
   "nbconvert_exporter": "python",
   "pygments_lexer": "ipython3",
   "version": "3.9.5"
  },
  "toc": {
   "base_numbering": 1,
   "nav_menu": {},
   "number_sections": true,
   "sideBar": true,
   "skip_h1_title": true,
   "title_cell": "Table of Contents",
   "title_sidebar": "Contents",
   "toc_cell": false,
   "toc_position": {
    "height": "calc(100% - 180px)",
    "left": "10px",
    "top": "150px",
    "width": "198.398px"
   },
   "toc_section_display": true,
   "toc_window_display": false
  }
 },
 "nbformat": 4,
 "nbformat_minor": 2
}
