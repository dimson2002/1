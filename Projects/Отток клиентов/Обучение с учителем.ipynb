{
 "cells": [
  {
   "cell_type": "markdown",
   "metadata": {
    "toc": true
   },
   "source": [
    "<h1>Содержание<span class=\"tocSkip\"></span></h1>\n",
    "<div class=\"toc\"><ul class=\"toc-item\"><li><span><a href=\"#Подготовка-данных\" data-toc-modified-id=\"Подготовка-данных-1\"><span class=\"toc-item-num\">1&nbsp;&nbsp;</span>Подготовка данных</a></span></li><li><span><a href=\"#Исследование-задачи\" data-toc-modified-id=\"Исследование-задачи-2\"><span class=\"toc-item-num\">2&nbsp;&nbsp;</span>Исследование задачи</a></span><ul class=\"toc-item\"><li><span><a href=\"#Дерево-решений\" data-toc-modified-id=\"Дерево-решений-2.1\"><span class=\"toc-item-num\">2.1&nbsp;&nbsp;</span>Дерево решений</a></span></li><li><span><a href=\"#Случайный-лес\" data-toc-modified-id=\"Случайный-лес-2.2\"><span class=\"toc-item-num\">2.2&nbsp;&nbsp;</span>Случайный лес</a></span></li><li><span><a href=\"#Логистическая-регрессия\" data-toc-modified-id=\"Логистическая-регрессия-2.3\"><span class=\"toc-item-num\">2.3&nbsp;&nbsp;</span>Логистическая регрессия</a></span></li></ul></li><li><span><a href=\"#Борьба-с-дисбалансом\" data-toc-modified-id=\"Борьба-с-дисбалансом-3\"><span class=\"toc-item-num\">3&nbsp;&nbsp;</span>Борьба с дисбалансом</a></span><ul class=\"toc-item\"><li><span><a href=\"#Увеличение-выборки\" data-toc-modified-id=\"Увеличение-выборки-3.1\"><span class=\"toc-item-num\">3.1&nbsp;&nbsp;</span>Увеличение выборки</a></span><ul class=\"toc-item\"><li><span><a href=\"#Дерево-решений\" data-toc-modified-id=\"Дерево-решений-3.1.1\"><span class=\"toc-item-num\">3.1.1&nbsp;&nbsp;</span>Дерево решений</a></span></li><li><span><a href=\"#Случайный-лес\" data-toc-modified-id=\"Случайный-лес-3.1.2\"><span class=\"toc-item-num\">3.1.2&nbsp;&nbsp;</span>Случайный лес</a></span></li><li><span><a href=\"#Логистическая-регрессия\" data-toc-modified-id=\"Логистическая-регрессия-3.1.3\"><span class=\"toc-item-num\">3.1.3&nbsp;&nbsp;</span>Логистическая регрессия</a></span></li></ul></li><li><span><a href=\"#Уменьшение-выборки\" data-toc-modified-id=\"Уменьшение-выборки-3.2\"><span class=\"toc-item-num\">3.2&nbsp;&nbsp;</span>Уменьшение выборки</a></span><ul class=\"toc-item\"><li><span><a href=\"#Дерево-решений\" data-toc-modified-id=\"Дерево-решений-3.2.1\"><span class=\"toc-item-num\">3.2.1&nbsp;&nbsp;</span>Дерево решений</a></span></li><li><span><a href=\"#Случайный-лес\" data-toc-modified-id=\"Случайный-лес-3.2.2\"><span class=\"toc-item-num\">3.2.2&nbsp;&nbsp;</span>Случайный лес</a></span></li><li><span><a href=\"#Логистическая-регрессия\" data-toc-modified-id=\"Логистическая-регрессия-3.2.3\"><span class=\"toc-item-num\">3.2.3&nbsp;&nbsp;</span>Логистическая регрессия</a></span></li></ul></li><li><span><a href=\"#Изменение-порога\" data-toc-modified-id=\"Изменение-порога-3.3\"><span class=\"toc-item-num\">3.3&nbsp;&nbsp;</span>Изменение порога</a></span><ul class=\"toc-item\"><li><span><a href=\"#Дерево-решений\" data-toc-modified-id=\"Дерево-решений-3.3.1\"><span class=\"toc-item-num\">3.3.1&nbsp;&nbsp;</span>Дерево решений</a></span></li><li><span><a href=\"#Случайный-лес\" data-toc-modified-id=\"Случайный-лес-3.3.2\"><span class=\"toc-item-num\">3.3.2&nbsp;&nbsp;</span>Случайный лес</a></span></li><li><span><a href=\"#Логистическая-регрессия\" data-toc-modified-id=\"Логистическая-регрессия-3.3.3\"><span class=\"toc-item-num\">3.3.3&nbsp;&nbsp;</span>Логистическая регрессия</a></span></li></ul></li></ul></li><li><span><a href=\"#Тестирование-модели\" data-toc-modified-id=\"Тестирование-модели-4\"><span class=\"toc-item-num\">4&nbsp;&nbsp;</span>Тестирование модели</a></span></li><li><span><a href=\"#Чек-лист-готовности-проекта\" data-toc-modified-id=\"Чек-лист-готовности-проекта-5\"><span class=\"toc-item-num\">5&nbsp;&nbsp;</span>Чек-лист готовности проекта</a></span></li><li><span><a href=\"#Общий-вывод-по-проекту\" data-toc-modified-id=\"Общий-вывод-по-проекту-6\"><span class=\"toc-item-num\">6&nbsp;&nbsp;</span><b>Общий вывод по проекту</b></a></span></li><li><span><a href=\"#Общий-вывод-по-проекту-В2\" data-toc-modified-id=\"Общий-вывод-по-проекту-В2-7\"><span class=\"toc-item-num\">7&nbsp;&nbsp;</span><b>Общий вывод по проекту В2</b></a></span></li></ul></div>"
   ]
  },
  {
   "cell_type": "markdown",
   "metadata": {},
   "source": [
    "# Отток клиентов"
   ]
  },
  {
   "cell_type": "markdown",
   "metadata": {},
   "source": [
    "Из «Бета-Банка» стали уходить клиенты. Каждый месяц. Немного, но заметно. Банковские маркетологи посчитали: сохранять текущих клиентов дешевле, чем привлекать новых.\n",
    "\n",
    "Нужно спрогнозировать, уйдёт клиент из банка в ближайшее время или нет. Вам предоставлены исторические данные о поведении клиентов и расторжении договоров с банком. \n",
    "\n",
    "Постройте модель с предельно большим значением *F1*-меры. Чтобы сдать проект успешно, нужно довести метрику до 0.59. Проверьте *F1*-меру на тестовой выборке самостоятельно.\n",
    "\n",
    "Дополнительно измеряйте *AUC-ROC*, сравнивайте её значение с *F1*-мерой.\n",
    "\n",
    "Источник данных: [https://www.kaggle.com/barelydedicated/bank-customer-churn-modeling](https://www.kaggle.com/barelydedicated/bank-customer-churn-modeling)"
   ]
  },
  {
   "cell_type": "markdown",
   "metadata": {},
   "source": [
    "## Подготовка данных"
   ]
  },
  {
   "cell_type": "code",
   "execution_count": 1,
   "metadata": {},
   "outputs": [],
   "source": [
    "import pandas as pd\n",
    "from sklearn.preprocessing import OrdinalEncoder \n",
    "from sklearn.model_selection import train_test_split\n",
    "from sklearn.tree import DecisionTreeClassifier\n",
    "from tqdm import tqdm\n",
    "from sklearn.metrics import f1_score\n",
    "from sklearn.preprocessing import StandardScaler \n",
    "from sklearn.preprocessing import OneHotEncoder\n",
    "import warnings\n",
    "from sklearn.ensemble import RandomForestClassifier\n",
    "from sklearn.metrics import roc_auc_score\n",
    "from sklearn.linear_model import LogisticRegression\n",
    "from sklearn.utils import shuffle\n",
    "import numpy as np\n",
    "import matplotlib.pyplot as plt"
   ]
  },
  {
   "cell_type": "code",
   "execution_count": 2,
   "metadata": {},
   "outputs": [],
   "source": [
    "warnings.filterwarnings(\"ignore\")"
   ]
  },
  {
   "cell_type": "code",
   "execution_count": 3,
   "metadata": {},
   "outputs": [
    {
     "data": {
      "text/html": [
       "<div>\n",
       "<style scoped>\n",
       "    .dataframe tbody tr th:only-of-type {\n",
       "        vertical-align: middle;\n",
       "    }\n",
       "\n",
       "    .dataframe tbody tr th {\n",
       "        vertical-align: top;\n",
       "    }\n",
       "\n",
       "    .dataframe thead th {\n",
       "        text-align: right;\n",
       "    }\n",
       "</style>\n",
       "<table border=\"1\" class=\"dataframe\">\n",
       "  <thead>\n",
       "    <tr style=\"text-align: right;\">\n",
       "      <th></th>\n",
       "      <th>RowNumber</th>\n",
       "      <th>CustomerId</th>\n",
       "      <th>Surname</th>\n",
       "      <th>CreditScore</th>\n",
       "      <th>Geography</th>\n",
       "      <th>Gender</th>\n",
       "      <th>Age</th>\n",
       "      <th>Tenure</th>\n",
       "      <th>Balance</th>\n",
       "      <th>NumOfProducts</th>\n",
       "      <th>HasCrCard</th>\n",
       "      <th>IsActiveMember</th>\n",
       "      <th>EstimatedSalary</th>\n",
       "      <th>Exited</th>\n",
       "    </tr>\n",
       "  </thead>\n",
       "  <tbody>\n",
       "    <tr>\n",
       "      <th>0</th>\n",
       "      <td>1</td>\n",
       "      <td>15634602</td>\n",
       "      <td>Hargrave</td>\n",
       "      <td>619</td>\n",
       "      <td>France</td>\n",
       "      <td>Female</td>\n",
       "      <td>42</td>\n",
       "      <td>2.0</td>\n",
       "      <td>0.00</td>\n",
       "      <td>1</td>\n",
       "      <td>1</td>\n",
       "      <td>1</td>\n",
       "      <td>101348.88</td>\n",
       "      <td>1</td>\n",
       "    </tr>\n",
       "    <tr>\n",
       "      <th>1</th>\n",
       "      <td>2</td>\n",
       "      <td>15647311</td>\n",
       "      <td>Hill</td>\n",
       "      <td>608</td>\n",
       "      <td>Spain</td>\n",
       "      <td>Female</td>\n",
       "      <td>41</td>\n",
       "      <td>1.0</td>\n",
       "      <td>83807.86</td>\n",
       "      <td>1</td>\n",
       "      <td>0</td>\n",
       "      <td>1</td>\n",
       "      <td>112542.58</td>\n",
       "      <td>0</td>\n",
       "    </tr>\n",
       "    <tr>\n",
       "      <th>2</th>\n",
       "      <td>3</td>\n",
       "      <td>15619304</td>\n",
       "      <td>Onio</td>\n",
       "      <td>502</td>\n",
       "      <td>France</td>\n",
       "      <td>Female</td>\n",
       "      <td>42</td>\n",
       "      <td>8.0</td>\n",
       "      <td>159660.80</td>\n",
       "      <td>3</td>\n",
       "      <td>1</td>\n",
       "      <td>0</td>\n",
       "      <td>113931.57</td>\n",
       "      <td>1</td>\n",
       "    </tr>\n",
       "    <tr>\n",
       "      <th>3</th>\n",
       "      <td>4</td>\n",
       "      <td>15701354</td>\n",
       "      <td>Boni</td>\n",
       "      <td>699</td>\n",
       "      <td>France</td>\n",
       "      <td>Female</td>\n",
       "      <td>39</td>\n",
       "      <td>1.0</td>\n",
       "      <td>0.00</td>\n",
       "      <td>2</td>\n",
       "      <td>0</td>\n",
       "      <td>0</td>\n",
       "      <td>93826.63</td>\n",
       "      <td>0</td>\n",
       "    </tr>\n",
       "    <tr>\n",
       "      <th>4</th>\n",
       "      <td>5</td>\n",
       "      <td>15737888</td>\n",
       "      <td>Mitchell</td>\n",
       "      <td>850</td>\n",
       "      <td>Spain</td>\n",
       "      <td>Female</td>\n",
       "      <td>43</td>\n",
       "      <td>2.0</td>\n",
       "      <td>125510.82</td>\n",
       "      <td>1</td>\n",
       "      <td>1</td>\n",
       "      <td>1</td>\n",
       "      <td>79084.10</td>\n",
       "      <td>0</td>\n",
       "    </tr>\n",
       "  </tbody>\n",
       "</table>\n",
       "</div>"
      ],
      "text/plain": [
       "   RowNumber  CustomerId   Surname  CreditScore Geography  Gender  Age  \\\n",
       "0          1    15634602  Hargrave          619    France  Female   42   \n",
       "1          2    15647311      Hill          608     Spain  Female   41   \n",
       "2          3    15619304      Onio          502    France  Female   42   \n",
       "3          4    15701354      Boni          699    France  Female   39   \n",
       "4          5    15737888  Mitchell          850     Spain  Female   43   \n",
       "\n",
       "   Tenure    Balance  NumOfProducts  HasCrCard  IsActiveMember  \\\n",
       "0     2.0       0.00              1          1               1   \n",
       "1     1.0   83807.86              1          0               1   \n",
       "2     8.0  159660.80              3          1               0   \n",
       "3     1.0       0.00              2          0               0   \n",
       "4     2.0  125510.82              1          1               1   \n",
       "\n",
       "   EstimatedSalary  Exited  \n",
       "0        101348.88       1  \n",
       "1        112542.58       0  \n",
       "2        113931.57       1  \n",
       "3         93826.63       0  \n",
       "4         79084.10       0  "
      ]
     },
     "execution_count": 3,
     "metadata": {},
     "output_type": "execute_result"
    }
   ],
   "source": [
    "data = pd.read_csv('/datasets/Churn.csv')\n",
    "data.head()"
   ]
  },
  {
   "cell_type": "code",
   "execution_count": 4,
   "metadata": {
    "scrolled": false
   },
   "outputs": [
    {
     "name": "stdout",
     "output_type": "stream",
     "text": [
      "<class 'pandas.core.frame.DataFrame'>\n",
      "RangeIndex: 10000 entries, 0 to 9999\n",
      "Data columns (total 14 columns):\n",
      " #   Column           Non-Null Count  Dtype  \n",
      "---  ------           --------------  -----  \n",
      " 0   RowNumber        10000 non-null  int64  \n",
      " 1   CustomerId       10000 non-null  int64  \n",
      " 2   Surname          10000 non-null  object \n",
      " 3   CreditScore      10000 non-null  int64  \n",
      " 4   Geography        10000 non-null  object \n",
      " 5   Gender           10000 non-null  object \n",
      " 6   Age              10000 non-null  int64  \n",
      " 7   Tenure           9091 non-null   float64\n",
      " 8   Balance          10000 non-null  float64\n",
      " 9   NumOfProducts    10000 non-null  int64  \n",
      " 10  HasCrCard        10000 non-null  int64  \n",
      " 11  IsActiveMember   10000 non-null  int64  \n",
      " 12  EstimatedSalary  10000 non-null  float64\n",
      " 13  Exited           10000 non-null  int64  \n",
      "dtypes: float64(3), int64(8), object(3)\n",
      "memory usage: 1.1+ MB\n"
     ]
    }
   ],
   "source": [
    "data.info()"
   ]
  },
  {
   "cell_type": "code",
   "execution_count": 5,
   "metadata": {
    "scrolled": false
   },
   "outputs": [
    {
     "data": {
      "text/plain": [
       "array([[<AxesSubplot:title={'center':'RowNumber'}>,\n",
       "        <AxesSubplot:title={'center':'CustomerId'}>,\n",
       "        <AxesSubplot:title={'center':'CreditScore'}>],\n",
       "       [<AxesSubplot:title={'center':'Age'}>,\n",
       "        <AxesSubplot:title={'center':'Tenure'}>,\n",
       "        <AxesSubplot:title={'center':'Balance'}>],\n",
       "       [<AxesSubplot:title={'center':'NumOfProducts'}>,\n",
       "        <AxesSubplot:title={'center':'HasCrCard'}>,\n",
       "        <AxesSubplot:title={'center':'IsActiveMember'}>],\n",
       "       [<AxesSubplot:title={'center':'EstimatedSalary'}>,\n",
       "        <AxesSubplot:title={'center':'Exited'}>, <AxesSubplot:>]],\n",
       "      dtype=object)"
      ]
     },
     "execution_count": 5,
     "metadata": {},
     "output_type": "execute_result"
    },
    {
     "data": {
      "image/png": "[encoded data removed]",
      "text/plain": [
       "<Figure size 1080x1440 with 12 Axes>"
      ]
     },
     "metadata": {
      "needs_background": "light"
     },
     "output_type": "display_data"
    }
   ],
   "source": [
    "data.hist(figsize=(15, 20))"
   ]
  },
  {
   "cell_type": "markdown",
   "metadata": {},
   "source": [
    "По гистограммам можно сказать, что выбросов в принципе нет."
   ]
  },
  {
   "cell_type": "code",
   "execution_count": 6,
   "metadata": {},
   "outputs": [],
   "source": [
    "data = data.rename(columns={'CreditScore': 'credit_score', 'NumOfProducts'\n",
    "                        :'num_of_products', 'HasCrCard':'has_cr_card', 'IsActiveMember': 'is_active_member', 'EstimatedSalary'\n",
    "                       :'estimated_salary'})"
   ]
  },
  {
   "cell_type": "code",
   "execution_count": 7,
   "metadata": {},
   "outputs": [
    {
     "name": "stdout",
     "output_type": "stream",
     "text": [
      "Корреляция с индексом строки: -0.016571371463984682\n",
      "Корреляция с id клиента: -0.0062479866378187705\n"
     ]
    }
   ],
   "source": [
    "print(f'Корреляция с индексом строки: {data[\"RowNumber\"].corr(data[\"Exited\"])}')\n",
    "print(f'Корреляция с id клиента: {data[\"CustomerId\"].corr(data[\"Exited\"])}')"
   ]
  },
  {
   "cell_type": "code",
   "execution_count": 8,
   "metadata": {},
   "outputs": [],
   "source": [
    "data = data.drop(['RowNumber','CustomerId','Surname'], axis=1)"
   ]
  },
  {
   "cell_type": "markdown",
   "metadata": {},
   "source": [
    "Решаю дропнуть колонки, которые никак не влияют на факт ухода клиента."
   ]
  },
  {
   "cell_type": "code",
   "execution_count": 9,
   "metadata": {},
   "outputs": [],
   "source": [
    "data.columns = data.columns.str.lower()"
   ]
  },
  {
   "cell_type": "code",
   "execution_count": 10,
   "metadata": {},
   "outputs": [
    {
     "data": {
      "text/html": [
       "<div>\n",
       "<style scoped>\n",
       "    .dataframe tbody tr th:only-of-type {\n",
       "        vertical-align: middle;\n",
       "    }\n",
       "\n",
       "    .dataframe tbody tr th {\n",
       "        vertical-align: top;\n",
       "    }\n",
       "\n",
       "    .dataframe thead th {\n",
       "        text-align: right;\n",
       "    }\n",
       "</style>\n",
       "<table border=\"1\" class=\"dataframe\">\n",
       "  <thead>\n",
       "    <tr style=\"text-align: right;\">\n",
       "      <th></th>\n",
       "      <th>credit_score</th>\n",
       "      <th>geography</th>\n",
       "      <th>gender</th>\n",
       "      <th>age</th>\n",
       "      <th>tenure</th>\n",
       "      <th>balance</th>\n",
       "      <th>num_of_products</th>\n",
       "      <th>has_cr_card</th>\n",
       "      <th>is_active_member</th>\n",
       "      <th>estimated_salary</th>\n",
       "      <th>exited</th>\n",
       "    </tr>\n",
       "  </thead>\n",
       "  <tbody>\n",
       "    <tr>\n",
       "      <th>30</th>\n",
       "      <td>591</td>\n",
       "      <td>Spain</td>\n",
       "      <td>Female</td>\n",
       "      <td>39</td>\n",
       "      <td>NaN</td>\n",
       "      <td>0.00</td>\n",
       "      <td>3</td>\n",
       "      <td>1</td>\n",
       "      <td>0</td>\n",
       "      <td>140469.38</td>\n",
       "      <td>1</td>\n",
       "    </tr>\n",
       "    <tr>\n",
       "      <th>48</th>\n",
       "      <td>550</td>\n",
       "      <td>Germany</td>\n",
       "      <td>Male</td>\n",
       "      <td>38</td>\n",
       "      <td>NaN</td>\n",
       "      <td>103391.38</td>\n",
       "      <td>1</td>\n",
       "      <td>0</td>\n",
       "      <td>1</td>\n",
       "      <td>90878.13</td>\n",
       "      <td>0</td>\n",
       "    </tr>\n",
       "    <tr>\n",
       "      <th>51</th>\n",
       "      <td>585</td>\n",
       "      <td>Germany</td>\n",
       "      <td>Male</td>\n",
       "      <td>36</td>\n",
       "      <td>NaN</td>\n",
       "      <td>146050.97</td>\n",
       "      <td>2</td>\n",
       "      <td>0</td>\n",
       "      <td>0</td>\n",
       "      <td>86424.57</td>\n",
       "      <td>0</td>\n",
       "    </tr>\n",
       "    <tr>\n",
       "      <th>53</th>\n",
       "      <td>655</td>\n",
       "      <td>Germany</td>\n",
       "      <td>Male</td>\n",
       "      <td>41</td>\n",
       "      <td>NaN</td>\n",
       "      <td>125561.97</td>\n",
       "      <td>1</td>\n",
       "      <td>0</td>\n",
       "      <td>0</td>\n",
       "      <td>164040.94</td>\n",
       "      <td>1</td>\n",
       "    </tr>\n",
       "    <tr>\n",
       "      <th>60</th>\n",
       "      <td>742</td>\n",
       "      <td>Germany</td>\n",
       "      <td>Male</td>\n",
       "      <td>35</td>\n",
       "      <td>NaN</td>\n",
       "      <td>136857.00</td>\n",
       "      <td>1</td>\n",
       "      <td>0</td>\n",
       "      <td>0</td>\n",
       "      <td>84509.57</td>\n",
       "      <td>0</td>\n",
       "    </tr>\n",
       "    <tr>\n",
       "      <th>...</th>\n",
       "      <td>...</td>\n",
       "      <td>...</td>\n",
       "      <td>...</td>\n",
       "      <td>...</td>\n",
       "      <td>...</td>\n",
       "      <td>...</td>\n",
       "      <td>...</td>\n",
       "      <td>...</td>\n",
       "      <td>...</td>\n",
       "      <td>...</td>\n",
       "      <td>...</td>\n",
       "    </tr>\n",
       "    <tr>\n",
       "      <th>9944</th>\n",
       "      <td>744</td>\n",
       "      <td>Germany</td>\n",
       "      <td>Male</td>\n",
       "      <td>41</td>\n",
       "      <td>NaN</td>\n",
       "      <td>190409.34</td>\n",
       "      <td>2</td>\n",
       "      <td>1</td>\n",
       "      <td>1</td>\n",
       "      <td>138361.48</td>\n",
       "      <td>0</td>\n",
       "    </tr>\n",
       "    <tr>\n",
       "      <th>9956</th>\n",
       "      <td>520</td>\n",
       "      <td>France</td>\n",
       "      <td>Female</td>\n",
       "      <td>46</td>\n",
       "      <td>NaN</td>\n",
       "      <td>85216.61</td>\n",
       "      <td>1</td>\n",
       "      <td>1</td>\n",
       "      <td>0</td>\n",
       "      <td>117369.52</td>\n",
       "      <td>1</td>\n",
       "    </tr>\n",
       "    <tr>\n",
       "      <th>9964</th>\n",
       "      <td>479</td>\n",
       "      <td>France</td>\n",
       "      <td>Male</td>\n",
       "      <td>34</td>\n",
       "      <td>NaN</td>\n",
       "      <td>117593.48</td>\n",
       "      <td>2</td>\n",
       "      <td>0</td>\n",
       "      <td>0</td>\n",
       "      <td>113308.29</td>\n",
       "      <td>0</td>\n",
       "    </tr>\n",
       "    <tr>\n",
       "      <th>9985</th>\n",
       "      <td>659</td>\n",
       "      <td>France</td>\n",
       "      <td>Male</td>\n",
       "      <td>36</td>\n",
       "      <td>NaN</td>\n",
       "      <td>123841.49</td>\n",
       "      <td>2</td>\n",
       "      <td>1</td>\n",
       "      <td>0</td>\n",
       "      <td>96833.00</td>\n",
       "      <td>0</td>\n",
       "    </tr>\n",
       "    <tr>\n",
       "      <th>9999</th>\n",
       "      <td>792</td>\n",
       "      <td>France</td>\n",
       "      <td>Female</td>\n",
       "      <td>28</td>\n",
       "      <td>NaN</td>\n",
       "      <td>130142.79</td>\n",
       "      <td>1</td>\n",
       "      <td>1</td>\n",
       "      <td>0</td>\n",
       "      <td>38190.78</td>\n",
       "      <td>0</td>\n",
       "    </tr>\n",
       "  </tbody>\n",
       "</table>\n",
       "<p>909 rows × 11 columns</p>\n",
       "</div>"
      ],
      "text/plain": [
       "      credit_score geography  gender  age  tenure    balance  num_of_products  \\\n",
       "30             591     Spain  Female   39     NaN       0.00                3   \n",
       "48             550   Germany    Male   38     NaN  103391.38                1   \n",
       "51             585   Germany    Male   36     NaN  146050.97                2   \n",
       "53             655   Germany    Male   41     NaN  125561.97                1   \n",
       "60             742   Germany    Male   35     NaN  136857.00                1   \n",
       "...            ...       ...     ...  ...     ...        ...              ...   \n",
       "9944           744   Germany    Male   41     NaN  190409.34                2   \n",
       "9956           520    France  Female   46     NaN   85216.61                1   \n",
       "9964           479    France    Male   34     NaN  117593.48                2   \n",
       "9985           659    France    Male   36     NaN  123841.49                2   \n",
       "9999           792    France  Female   28     NaN  130142.79                1   \n",
       "\n",
       "      has_cr_card  is_active_member  estimated_salary  exited  \n",
       "30              1                 0         140469.38       1  \n",
       "48              0                 1          90878.13       0  \n",
       "51              0                 0          86424.57       0  \n",
       "53              0                 0         164040.94       1  \n",
       "60              0                 0          84509.57       0  \n",
       "...           ...               ...               ...     ...  \n",
       "9944            1                 1         138361.48       0  \n",
       "9956            1                 0         117369.52       1  \n",
       "9964            0                 0         113308.29       0  \n",
       "9985            1                 0          96833.00       0  \n",
       "9999            1                 0          38190.78       0  \n",
       "\n",
       "[909 rows x 11 columns]"
      ]
     },
     "execution_count": 10,
     "metadata": {},
     "output_type": "execute_result"
    }
   ],
   "source": [
    "data[data['tenure'].isna()]"
   ]
  },
  {
   "cell_type": "code",
   "execution_count": 11,
   "metadata": {},
   "outputs": [
    {
     "name": "stdout",
     "output_type": "stream",
     "text": [
      "183\n",
      "726\n"
     ]
    }
   ],
   "source": [
    "print(len(data[data['tenure'].isna()].query('exited==1')))\n",
    "print(len(data[data['tenure'].isna()].query('exited==0')))"
   ]
  },
  {
   "cell_type": "code",
   "execution_count": 12,
   "metadata": {},
   "outputs": [],
   "source": [
    "data = data.dropna()"
   ]
  },
  {
   "cell_type": "markdown",
   "metadata": {},
   "source": [
    "Обнаружил 10% пропусков в столбце \"tenure\" и решаю их тоже дропнуть, так как не придумал, какие значения можно подставить и 10% - не так много данных.\n"
   ]
  },
  {
   "cell_type": "code",
   "execution_count": 13,
   "metadata": {},
   "outputs": [],
   "source": [
    "data['tenure'] = data['tenure'].astype('int')"
   ]
  },
  {
   "cell_type": "code",
   "execution_count": 14,
   "metadata": {},
   "outputs": [
    {
     "data": {
      "text/plain": [
       "0"
      ]
     },
     "execution_count": 14,
     "metadata": {},
     "output_type": "execute_result"
    }
   ],
   "source": [
    "data.duplicated().sum()"
   ]
  },
  {
   "cell_type": "markdown",
   "metadata": {},
   "source": [
    "## Исследование задачи"
   ]
  },
  {
   "cell_type": "code",
   "execution_count": 15,
   "metadata": {},
   "outputs": [
    {
     "data": {
      "text/plain": [
       "0.7960620393796062"
      ]
     },
     "execution_count": 15,
     "metadata": {},
     "output_type": "execute_result"
    }
   ],
   "source": [
    "len(data.query('exited==0')) / len(data['exited'])"
   ]
  },
  {
   "cell_type": "markdown",
   "metadata": {},
   "source": [
    "Присутствует дисбалланс классов: 79% клиентов не ушли, 21% - ушли, поэтому константная модель будет выдавать accuracy равной 0.79. "
   ]
  },
  {
   "cell_type": "code",
   "execution_count": 16,
   "metadata": {},
   "outputs": [
    {
     "data": {
      "text/plain": [
       "7237"
      ]
     },
     "execution_count": 16,
     "metadata": {},
     "output_type": "execute_result"
    }
   ],
   "source": [
    "len(data.query('exited==0'))"
   ]
  },
  {
   "cell_type": "code",
   "execution_count": 17,
   "metadata": {},
   "outputs": [
    {
     "data": {
      "text/plain": [
       "1854"
      ]
     },
     "execution_count": 17,
     "metadata": {},
     "output_type": "execute_result"
    }
   ],
   "source": [
    "len(data.query('exited==1'))"
   ]
  },
  {
   "cell_type": "code",
   "execution_count": 18,
   "metadata": {},
   "outputs": [
    {
     "name": "stdout",
     "output_type": "stream",
     "text": [
      "Размер обучающей выборки: (5454, 10), (5454,)\n",
      "Размер валидационной выборки: (1818, 10), (1818,)\n",
      "Размер тестовой выборки: (1819, 10), (1819,)\n",
      "\n",
      "Данные после стандартизации\n"
     ]
    },
    {
     "data": {
      "text/html": [
       "<div>\n",
       "<style scoped>\n",
       "    .dataframe tbody tr th:only-of-type {\n",
       "        vertical-align: middle;\n",
       "    }\n",
       "\n",
       "    .dataframe tbody tr th {\n",
       "        vertical-align: top;\n",
       "    }\n",
       "\n",
       "    .dataframe thead th {\n",
       "        text-align: right;\n",
       "    }\n",
       "</style>\n",
       "<table border=\"1\" class=\"dataframe\">\n",
       "  <thead>\n",
       "    <tr style=\"text-align: right;\">\n",
       "      <th></th>\n",
       "      <th>credit_score</th>\n",
       "      <th>geography</th>\n",
       "      <th>gender</th>\n",
       "      <th>age</th>\n",
       "      <th>tenure</th>\n",
       "      <th>balance</th>\n",
       "      <th>num_of_products</th>\n",
       "      <th>has_cr_card</th>\n",
       "      <th>is_active_member</th>\n",
       "      <th>estimated_salary</th>\n",
       "    </tr>\n",
       "  </thead>\n",
       "  <tbody>\n",
       "    <tr>\n",
       "      <th>9344</th>\n",
       "      <td>0.809075</td>\n",
       "      <td>France</td>\n",
       "      <td>Female</td>\n",
       "      <td>-1.039327</td>\n",
       "      <td>-1.025995</td>\n",
       "      <td>0.554904</td>\n",
       "      <td>-0.908179</td>\n",
       "      <td>0.663468</td>\n",
       "      <td>-1.024127</td>\n",
       "      <td>0.019508</td>\n",
       "    </tr>\n",
       "    <tr>\n",
       "      <th>3796</th>\n",
       "      <td>-1.152518</td>\n",
       "      <td>France</td>\n",
       "      <td>Male</td>\n",
       "      <td>-1.227561</td>\n",
       "      <td>0.696524</td>\n",
       "      <td>0.480609</td>\n",
       "      <td>-0.908179</td>\n",
       "      <td>-1.507231</td>\n",
       "      <td>-1.024127</td>\n",
       "      <td>0.056167</td>\n",
       "    </tr>\n",
       "    <tr>\n",
       "      <th>7462</th>\n",
       "      <td>-0.398853</td>\n",
       "      <td>France</td>\n",
       "      <td>Male</td>\n",
       "      <td>0.090079</td>\n",
       "      <td>1.385532</td>\n",
       "      <td>-1.237830</td>\n",
       "      <td>-0.908179</td>\n",
       "      <td>0.663468</td>\n",
       "      <td>0.976442</td>\n",
       "      <td>0.848738</td>\n",
       "    </tr>\n",
       "    <tr>\n",
       "      <th>1508</th>\n",
       "      <td>-0.749875</td>\n",
       "      <td>France</td>\n",
       "      <td>Male</td>\n",
       "      <td>-0.286389</td>\n",
       "      <td>0.352020</td>\n",
       "      <td>-1.237830</td>\n",
       "      <td>0.809300</td>\n",
       "      <td>0.663468</td>\n",
       "      <td>0.976442</td>\n",
       "      <td>-0.894953</td>\n",
       "    </tr>\n",
       "    <tr>\n",
       "      <th>4478</th>\n",
       "      <td>-1.028628</td>\n",
       "      <td>France</td>\n",
       "      <td>Male</td>\n",
       "      <td>-0.756975</td>\n",
       "      <td>-0.336987</td>\n",
       "      <td>-1.237830</td>\n",
       "      <td>0.809300</td>\n",
       "      <td>-1.507231</td>\n",
       "      <td>0.976442</td>\n",
       "      <td>-1.284516</td>\n",
       "    </tr>\n",
       "  </tbody>\n",
       "</table>\n",
       "</div>"
      ],
      "text/plain": [
       "      credit_score geography  gender       age    tenure   balance  \\\n",
       "9344      0.809075    France  Female -1.039327 -1.025995  0.554904   \n",
       "3796     -1.152518    France    Male -1.227561  0.696524  0.480609   \n",
       "7462     -0.398853    France    Male  0.090079  1.385532 -1.237830   \n",
       "1508     -0.749875    France    Male -0.286389  0.352020 -1.237830   \n",
       "4478     -1.028628    France    Male -0.756975 -0.336987 -1.237830   \n",
       "\n",
       "      num_of_products  has_cr_card  is_active_member  estimated_salary  \n",
       "9344        -0.908179     0.663468         -1.024127          0.019508  \n",
       "3796        -0.908179    -1.507231         -1.024127          0.056167  \n",
       "7462        -0.908179     0.663468          0.976442          0.848738  \n",
       "1508         0.809300     0.663468          0.976442         -0.894953  \n",
       "4478         0.809300    -1.507231          0.976442         -1.284516  "
      ]
     },
     "metadata": {},
     "output_type": "display_data"
    },
    {
     "name": "stdout",
     "output_type": "stream",
     "text": [
      "----------------------------------------------------------------------------------------------------------------\n",
      "Данные после ОЕ\n"
     ]
    },
    {
     "data": {
      "text/html": [
       "<div>\n",
       "<style scoped>\n",
       "    .dataframe tbody tr th:only-of-type {\n",
       "        vertical-align: middle;\n",
       "    }\n",
       "\n",
       "    .dataframe tbody tr th {\n",
       "        vertical-align: top;\n",
       "    }\n",
       "\n",
       "    .dataframe thead th {\n",
       "        text-align: right;\n",
       "    }\n",
       "</style>\n",
       "<table border=\"1\" class=\"dataframe\">\n",
       "  <thead>\n",
       "    <tr style=\"text-align: right;\">\n",
       "      <th></th>\n",
       "      <th>credit_score</th>\n",
       "      <th>geography</th>\n",
       "      <th>gender</th>\n",
       "      <th>age</th>\n",
       "      <th>tenure</th>\n",
       "      <th>balance</th>\n",
       "      <th>num_of_products</th>\n",
       "      <th>has_cr_card</th>\n",
       "      <th>is_active_member</th>\n",
       "      <th>estimated_salary</th>\n",
       "    </tr>\n",
       "  </thead>\n",
       "  <tbody>\n",
       "    <tr>\n",
       "      <th>0</th>\n",
       "      <td>323.0</td>\n",
       "      <td>0.0</td>\n",
       "      <td>0.0</td>\n",
       "      <td>10.0</td>\n",
       "      <td>2.0</td>\n",
       "      <td>1369.0</td>\n",
       "      <td>0.0</td>\n",
       "      <td>1.0</td>\n",
       "      <td>0.0</td>\n",
       "      <td>2779.0</td>\n",
       "    </tr>\n",
       "    <tr>\n",
       "      <th>1</th>\n",
       "      <td>133.0</td>\n",
       "      <td>0.0</td>\n",
       "      <td>1.0</td>\n",
       "      <td>8.0</td>\n",
       "      <td>7.0</td>\n",
       "      <td>1166.0</td>\n",
       "      <td>0.0</td>\n",
       "      <td>0.0</td>\n",
       "      <td>0.0</td>\n",
       "      <td>2845.0</td>\n",
       "    </tr>\n",
       "    <tr>\n",
       "      <th>2</th>\n",
       "      <td>206.0</td>\n",
       "      <td>0.0</td>\n",
       "      <td>1.0</td>\n",
       "      <td>22.0</td>\n",
       "      <td>9.0</td>\n",
       "      <td>0.0</td>\n",
       "      <td>0.0</td>\n",
       "      <td>1.0</td>\n",
       "      <td>1.0</td>\n",
       "      <td>4060.0</td>\n",
       "    </tr>\n",
       "    <tr>\n",
       "      <th>3</th>\n",
       "      <td>172.0</td>\n",
       "      <td>0.0</td>\n",
       "      <td>1.0</td>\n",
       "      <td>18.0</td>\n",
       "      <td>6.0</td>\n",
       "      <td>0.0</td>\n",
       "      <td>1.0</td>\n",
       "      <td>1.0</td>\n",
       "      <td>1.0</td>\n",
       "      <td>1302.0</td>\n",
       "    </tr>\n",
       "    <tr>\n",
       "      <th>4</th>\n",
       "      <td>145.0</td>\n",
       "      <td>0.0</td>\n",
       "      <td>1.0</td>\n",
       "      <td>13.0</td>\n",
       "      <td>4.0</td>\n",
       "      <td>0.0</td>\n",
       "      <td>1.0</td>\n",
       "      <td>0.0</td>\n",
       "      <td>1.0</td>\n",
       "      <td>711.0</td>\n",
       "    </tr>\n",
       "  </tbody>\n",
       "</table>\n",
       "</div>"
      ],
      "text/plain": [
       "   credit_score  geography  gender   age  tenure  balance  num_of_products  \\\n",
       "0         323.0        0.0     0.0  10.0     2.0   1369.0              0.0   \n",
       "1         133.0        0.0     1.0   8.0     7.0   1166.0              0.0   \n",
       "2         206.0        0.0     1.0  22.0     9.0      0.0              0.0   \n",
       "3         172.0        0.0     1.0  18.0     6.0      0.0              1.0   \n",
       "4         145.0        0.0     1.0  13.0     4.0      0.0              1.0   \n",
       "\n",
       "   has_cr_card  is_active_member  estimated_salary  \n",
       "0          1.0               0.0            2779.0  \n",
       "1          0.0               0.0            2845.0  \n",
       "2          1.0               1.0            4060.0  \n",
       "3          1.0               1.0            1302.0  \n",
       "4          0.0               1.0             711.0  "
      ]
     },
     "metadata": {},
     "output_type": "display_data"
    },
    {
     "name": "stdout",
     "output_type": "stream",
     "text": [
      "----------------------------------------------------------------------------------------------------------------\n",
      "Данные после ОНЕ\n",
      "      credit_score       age    tenure   balance  num_of_products  \\\n",
      "9344      0.809075 -1.039327 -1.025995  0.554904        -0.908179   \n",
      "3796     -1.152518 -1.227561  0.696524  0.480609        -0.908179   \n",
      "7462     -0.398853  0.090079  1.385532 -1.237830        -0.908179   \n",
      "1508     -0.749875 -0.286389  0.352020 -1.237830         0.809300   \n",
      "4478     -1.028628 -0.756975 -0.336987 -1.237830         0.809300   \n",
      "\n",
      "      has_cr_card  is_active_member  estimated_salary  x0_Germany  x0_Spain  \\\n",
      "9344     0.663468         -1.024127          0.019508         0.0       0.0   \n",
      "3796    -1.507231         -1.024127          0.056167         0.0       0.0   \n",
      "7462     0.663468          0.976442          0.848738         0.0       0.0   \n",
      "1508     0.663468          0.976442         -0.894953         0.0       0.0   \n",
      "4478    -1.507231          0.976442         -1.284516         0.0       0.0   \n",
      "\n",
      "      x1_Male  \n",
      "9344      0.0  \n",
      "3796      1.0  \n",
      "7462      1.0  \n",
      "1508      1.0  \n",
      "4478      1.0  \n"
     ]
    }
   ],
   "source": [
    "target = data['exited']\n",
    "features = data.drop('exited', axis=1)\n",
    "features_train, features_test_valid, target_train, target_test_valid = train_test_split(\n",
    "    features, target, test_size=0.4, random_state=12345)\n",
    "print(f'Размер обучающей выборки: {features_train.shape}, {target_train.shape}')\n",
    "\n",
    "features_valid, features_test, target_valid, target_test = train_test_split(\n",
    "    features_test_valid, target_test_valid, test_size=0.5, random_state=12345)\n",
    "print(f'Размер валидационной выборки: {features_valid.shape}, {target_valid.shape}')\n",
    "print(f'Размер тестовой выборки: {features_test.shape}, {target_test.shape}')\n",
    "\n",
    "features_quantitive = ['credit_score', 'age', \n",
    "                       'num_of_products', 'tenure', 'balance', 'num_of_products', \n",
    "                       'has_cr_card', 'is_active_member', 'estimated_salary']\n",
    "scaler = StandardScaler()\n",
    "scaler.fit(features_train[features_quantitive])\n",
    "features_train[features_quantitive] = scaler.transform(features_train[features_quantitive])\n",
    "pd.options.mode.chained_assignment = None\n",
    "features_valid[features_quantitive] = scaler.transform(features_valid[features_quantitive])\n",
    "features_test[features_quantitive] = scaler.transform(features_test[features_quantitive])\n",
    "print('')\n",
    "print('Данные после стандартизации')\n",
    "display(features_train.head(5))\n",
    "print('-' * 112)\n",
    "\n",
    "encoder = OrdinalEncoder(handle_unknown = 'ignore')\n",
    "encoder.fit(features_train)\n",
    "features_train_ord = encoder.transform(features_train)\n",
    "features_train_ord = pd.DataFrame(features_train_ord, columns=features_train.columns)\n",
    "features_valid_ord = encoder.transform(features_valid)\n",
    "features_test_ord = encoder.transform(features_test)\n",
    "\n",
    "print('Данные после ОЕ')\n",
    "display(features_train_ord.head(5))\n",
    "print('-' * 112)\n",
    "features_categirical = ['geography', 'gender']\n",
    "\n",
    "ohe = OneHotEncoder(sparse=False, drop='first')\n",
    "ohe.fit(features_train[features_categirical])\n",
    "\n",
    "def features_ohe(ohe_variable, df_features, features_categ):\n",
    "    df_features_ohe = pd.DataFrame(\n",
    "          data=ohe_variable.transform(df_features[features_categ]), \n",
    "          index=df_features.index,\n",
    "          columns=ohe_variable.get_feature_names()\n",
    "      )\n",
    "\n",
    "    df_features = df_features.drop(features_categ, axis=1)\n",
    "    df_features = df_features.join(df_features_ohe)\n",
    "    return df_features    \n",
    "\n",
    "features_train = features_ohe(ohe, features_train, features_categirical)\n",
    "features_valid = features_ohe(ohe, features_valid, features_categirical)\n",
    "features_test = features_ohe(ohe, features_test, features_categirical)\n",
    "print('Данные после ОНЕ')\n",
    "print(features_train.head(5))"
   ]
  },
  {
   "cell_type": "markdown",
   "metadata": {},
   "source": [
    "### Дерево решений"
   ]
  },
  {
   "cell_type": "code",
   "execution_count": 19,
   "metadata": {
    "scrolled": true
   },
   "outputs": [
    {
     "name": "stderr",
     "output_type": "stream",
     "text": [
      "100%|██████████| 14/14 [00:06<00:00,  2.14it/s]"
     ]
    },
    {
     "name": "stdout",
     "output_type": "stream",
     "text": [
      "Лучшая F1-мера: 0.5705794947994056, глубина:9, критерий:gini, leaf:13\n"
     ]
    },
    {
     "name": "stderr",
     "output_type": "stream",
     "text": [
      "\n"
     ]
    }
   ],
   "source": [
    "bestF1 = 0\n",
    "depth = 0\n",
    "crit = 0\n",
    "leaf = 0\n",
    "for x in tqdm(range(1, 15)):\n",
    "    for y in ['gini', 'entropy']:\n",
    "        for z in range(1, 15):\n",
    "            model_DT_DB = DecisionTreeClassifier(max_depth=x, min_samples_leaf=z, criterion=y, random_state=12345).fit(\n",
    "                features_train_ord, target_train)\n",
    "            predictions = model_DT_DB.predict(features_valid_ord)\n",
    "            F1_score = f1_score(target_valid, predictions)\n",
    "            if F1_score > bestF1:\n",
    "                bestF1 = F1_score\n",
    "                depth = x\n",
    "                crit = y\n",
    "                leaf = z\n",
    "print(f'Лучшая F1-мера: {bestF1}, глубина:{depth}, критерий:{crit}, leaf:{leaf}')  \n",
    "model_DT_DB_best = DecisionTreeClassifier(max_depth=depth, min_samples_leaf=leaf, criterion=crit, random_state=12345)"
   ]
  },
  {
   "cell_type": "code",
   "execution_count": 20,
   "metadata": {},
   "outputs": [],
   "source": [
    "model_DT_DB_best.fit(features_train_ord, target_train)\n",
    "prob_valid = model_DT_DB_best.predict_proba(features_valid_ord)\n",
    "prob_one_valid = prob_valid[:,1]\n",
    "roc_DT_DB = roc_auc_score(target_valid, prob_one_valid)"
   ]
  },
  {
   "cell_type": "code",
   "execution_count": 21,
   "metadata": {},
   "outputs": [],
   "source": [
    "df = []\n",
    "df.append({\"Модель\": \"Дерево решений небаланс\", \"F1-мера\": bestF1, \"ROC-AUC\": roc_DT_DB})"
   ]
  },
  {
   "cell_type": "markdown",
   "metadata": {},
   "source": [
    "### Случайный лес\n"
   ]
  },
  {
   "cell_type": "markdown",
   "metadata": {},
   "source": [
    "Ячейка ниже выполняется 8 минут 40 секунд."
   ]
  },
  {
   "cell_type": "code",
   "execution_count": 22,
   "metadata": {},
   "outputs": [
    {
     "name": "stderr",
     "output_type": "stream",
     "text": [
      "100%|██████████| 14/14 [07:18<00:00, 31.36s/it]"
     ]
    },
    {
     "name": "stdout",
     "output_type": "stream",
     "text": [
      "Лучшая F1-мера: 0.5771812080536912, глубина:10, критерий:entropy, leaf:11, кол-во деревьев: 10\n"
     ]
    },
    {
     "name": "stderr",
     "output_type": "stream",
     "text": [
      "\n"
     ]
    }
   ],
   "source": [
    "bestF1 = 0\n",
    "depth = 0\n",
    "crit = 0\n",
    "leaf = 0\n",
    "est = 0\n",
    "for x in tqdm(range(1, 15)):\n",
    "    for y in range(10, 100, 20):\n",
    "        for z in ['gini', 'entropy']:\n",
    "            for col in range(1, 15):\n",
    "                model_RF_DB = RandomForestClassifier(\n",
    "                    random_state=12345, max_depth=x, n_estimators=y, min_samples_leaf=col, criterion = z)\n",
    "                model_RF_DB.fit(features_train_ord, target_train)\n",
    "                predictions = model_RF_DB.predict(features_valid_ord)\n",
    "                F1_score = f1_score(target_valid, predictions)\n",
    "                if F1_score > bestF1:\n",
    "                    bestF1 = F1_score\n",
    "                    depth = x\n",
    "                    crit = z\n",
    "                    leaf = col\n",
    "                    est = y \n",
    "print(f'Лучшая F1-мера: {bestF1}, глубина:{depth}, критерий:{crit}, leaf:{leaf}, кол-во деревьев: {est}')\n",
    "model_RF_DB_best = RandomForestClassifier(\n",
    "    random_state=12345, max_depth=depth, n_estimators=est, min_samples_leaf=leaf, criterion = crit)"
   ]
  },
  {
   "cell_type": "code",
   "execution_count": 23,
   "metadata": {},
   "outputs": [
    {
     "data": {
      "text/plain": [
       "0.8313753895485929"
      ]
     },
     "execution_count": 23,
     "metadata": {},
     "output_type": "execute_result"
    }
   ],
   "source": [
    "model_RF_DB_best.fit(features_train_ord, target_train)\n",
    "prob_valid = model_RF_DB_best.predict_proba(features_valid_ord)\n",
    "prob_one_valid = prob_valid[:,1]\n",
    "roc_RF_DB = roc_auc_score(target_valid, prob_one_valid)\n",
    "roc_RF_DB"
   ]
  },
  {
   "cell_type": "code",
   "execution_count": 24,
   "metadata": {},
   "outputs": [],
   "source": [
    "df.append({\"Модель\": \"Случайный лес небаланс\", \"F1-мера\": bestF1, \"ROC-AUC\": roc_RF_DB})"
   ]
  },
  {
   "cell_type": "markdown",
   "metadata": {},
   "source": [
    "### Логистическая регрессия\n"
   ]
  },
  {
   "cell_type": "code",
   "execution_count": 25,
   "metadata": {},
   "outputs": [
    {
     "name": "stderr",
     "output_type": "stream",
     "text": [
      "100%|██████████| 20/20 [00:10<00:00,  1.96it/s]\n"
     ]
    },
    {
     "name": "stdout",
     "output_type": "stream",
     "text": [
      "Лучшая F1-мера: 0.3033932135728543, критерий:lbfgs, итераций: 51\n"
     ]
    }
   ],
   "source": [
    "it = 0\n",
    "crit = 0\n",
    "bestF1=0\n",
    "for i in tqdm(range(1,1000, 50)):\n",
    "    for x in [\"lbfgs\", \"liblinear\"]:\n",
    "        model_LR_DB = LogisticRegression(random_state=12345, max_iter=i, solver=x).fit(features_train, target_train)\n",
    "        predictions = model_LR_DB.predict(features_valid)\n",
    "        F1_score = f1_score(target_valid, predictions)\n",
    "        if F1_score > bestF1:\n",
    "            bestF1 = F1_score\n",
    "            crit = x\n",
    "            it = i\n",
    "print(f'Лучшая F1-мера: {bestF1}, критерий:{crit}, итераций: {it}') \n",
    "model_LR_DB_best = LogisticRegression(random_state=12345, max_iter=it, solver=crit)\n",
    "model_LR_DB_best.fit(features_train, target_train)\n",
    "prob_valid = model_LR_DB_best.predict_proba(features_valid)\n",
    "prob_one_valid = prob_valid[:,1]\n",
    "roc_LR_DB = roc_auc_score(target_valid, prob_one_valid)"
   ]
  },
  {
   "cell_type": "code",
   "execution_count": 26,
   "metadata": {},
   "outputs": [
    {
     "data": {
      "text/html": [
       "<div>\n",
       "<style scoped>\n",
       "    .dataframe tbody tr th:only-of-type {\n",
       "        vertical-align: middle;\n",
       "    }\n",
       "\n",
       "    .dataframe tbody tr th {\n",
       "        vertical-align: top;\n",
       "    }\n",
       "\n",
       "    .dataframe thead th {\n",
       "        text-align: right;\n",
       "    }\n",
       "</style>\n",
       "<table border=\"1\" class=\"dataframe\">\n",
       "  <thead>\n",
       "    <tr style=\"text-align: right;\">\n",
       "      <th></th>\n",
       "      <th>Модель</th>\n",
       "      <th>F1-мера</th>\n",
       "      <th>ROC-AUC</th>\n",
       "    </tr>\n",
       "  </thead>\n",
       "  <tbody>\n",
       "    <tr>\n",
       "      <th>0</th>\n",
       "      <td>Дерево решений небаланс</td>\n",
       "      <td>0.570579</td>\n",
       "      <td>0.786050</td>\n",
       "    </tr>\n",
       "    <tr>\n",
       "      <th>1</th>\n",
       "      <td>Случайный лес небаланс</td>\n",
       "      <td>0.577181</td>\n",
       "      <td>0.831375</td>\n",
       "    </tr>\n",
       "    <tr>\n",
       "      <th>2</th>\n",
       "      <td>Логистическая регрессия небаланс</td>\n",
       "      <td>0.303393</td>\n",
       "      <td>0.773577</td>\n",
       "    </tr>\n",
       "  </tbody>\n",
       "</table>\n",
       "</div>"
      ],
      "text/plain": [
       "                             Модель   F1-мера   ROC-AUC\n",
       "0           Дерево решений небаланс  0.570579  0.786050\n",
       "1            Случайный лес небаланс  0.577181  0.831375\n",
       "2  Логистическая регрессия небаланс  0.303393  0.773577"
      ]
     },
     "execution_count": 26,
     "metadata": {},
     "output_type": "execute_result"
    }
   ],
   "source": [
    "df.append({\"Модель\": \"Логистическая регрессия небаланс\", \"F1-мера\": bestF1, \"ROC-AUC\": roc_LR_DB})\n",
    "pd.DataFrame(df)"
   ]
  },
  {
   "cell_type": "markdown",
   "metadata": {},
   "source": [
    "*Вывод: по итогам исследования моделей до борьбы с диссбалансом лучшей моделью оказался случайный лес с F1-мерой равной 0.577, а самой худшей - логистическая регрессия с F1-мерой равной 0.303.*"
   ]
  },
  {
   "cell_type": "markdown",
   "metadata": {},
   "source": [
    "## Борьба с дисбалансом"
   ]
  },
  {
   "cell_type": "markdown",
   "metadata": {},
   "source": [
    "### Увеличение выборки"
   ]
  },
  {
   "cell_type": "markdown",
   "metadata": {},
   "source": [
    "Так как в целевом признаке единиц меньше в 3.9 раз, то решаю увеличить количество единиц в 4 раза."
   ]
  },
  {
   "cell_type": "code",
   "execution_count": 27,
   "metadata": {
    "scrolled": false
   },
   "outputs": [
    {
     "name": "stdout",
     "output_type": "stream",
     "text": [
      "Количество ушедших клиентов: 8832\n",
      "Количество действующих клиентов: 8832\n"
     ]
    }
   ],
   "source": [
    "def upsample(features, target, repeat):\n",
    "    features_zeros = features[target == 0]\n",
    "    features_ones = features[target == 1]\n",
    "    target_zeros = target[target == 0]\n",
    "    target_ones = target[target == 1]\n",
    "\n",
    "    features_upsampled = pd.concat([features_zeros] + [features_ones] * repeat)\n",
    "    target_upsampled = pd.concat([target_zeros] + [target_ones] * repeat)\n",
    "    \n",
    "    features_upsampled, target_upsampled = shuffle(\n",
    "        features_upsampled, target_upsampled, random_state=12345)\n",
    "    \n",
    "    return features_upsampled, target_upsampled\n",
    "\n",
    "features_upsampled, target_upsampled = upsample(features_train, target_train, 4)\n",
    "print(f'Количество ушедших клиентов: {len(target_upsampled==1)}')\n",
    "print(f'Количество действующих клиентов: {len(target_upsampled==0)}')\n"
   ]
  },
  {
   "cell_type": "markdown",
   "metadata": {},
   "source": [
    "#### Дерево решений"
   ]
  },
  {
   "cell_type": "code",
   "execution_count": 28,
   "metadata": {},
   "outputs": [
    {
     "name": "stderr",
     "output_type": "stream",
     "text": [
      "100%|██████████| 14/14 [00:08<00:00,  1.61it/s]"
     ]
    },
    {
     "name": "stdout",
     "output_type": "stream",
     "text": [
      "Лучшая F1-мера: 0.5826944140197152, глубина:8, критерий:gini, leaf:14\n"
     ]
    },
    {
     "name": "stderr",
     "output_type": "stream",
     "text": [
      "\n"
     ]
    }
   ],
   "source": [
    "bestF1 = 0\n",
    "depth = 0\n",
    "crit = 0\n",
    "leaf = 0\n",
    "for x in tqdm(range(1, 15)):\n",
    "    for y in ['gini', 'entropy']:\n",
    "        for z in range(1, 15):\n",
    "            model_DT_B = DecisionTreeClassifier(max_depth=x, min_samples_leaf=z, criterion=y, random_state=12345).fit(\n",
    "                features_upsampled, target_upsampled)\n",
    "            predictions = model_DT_B.predict(features_valid)\n",
    "            F1_score = f1_score(target_valid, predictions)\n",
    "            if F1_score > bestF1:\n",
    "                bestF1 = F1_score\n",
    "                depth = x\n",
    "                crit = y\n",
    "                leaf = z\n",
    "print(f'Лучшая F1-мера: {bestF1}, глубина:{depth}, критерий:{crit}, leaf:{leaf}')  \n",
    "model_DT_B_best = DecisionTreeClassifier(max_depth=depth, min_samples_leaf=leaf, criterion=crit, random_state=12345)\n",
    "model_DT_B_best.fit(features_upsampled, target_upsampled)\n",
    "prob_valid = model_DT_B_best.predict_proba(features_valid)\n",
    "prob_one_valid = prob_valid[:,1]\n",
    "roc_DT_UP = roc_auc_score(target_valid, prob_one_valid)"
   ]
  },
  {
   "cell_type": "code",
   "execution_count": 29,
   "metadata": {},
   "outputs": [],
   "source": [
    "df.append({\"Модель\": \"Дерево решений upsample\", \"F1-мера\": bestF1, \"ROC-AUC\": roc_DT_UP})"
   ]
  },
  {
   "cell_type": "markdown",
   "metadata": {},
   "source": [
    "#### Случайный лес"
   ]
  },
  {
   "cell_type": "markdown",
   "metadata": {},
   "source": [
    "Ячейка выполняется 8 минут."
   ]
  },
  {
   "cell_type": "code",
   "execution_count": 30,
   "metadata": {},
   "outputs": [
    {
     "name": "stderr",
     "output_type": "stream",
     "text": [
      "100%|██████████| 14/14 [09:57<00:00, 42.66s/it]\n"
     ]
    },
    {
     "name": "stdout",
     "output_type": "stream",
     "text": [
      "Лучшая F1-мера: 0.6457399103139013, глубина:12, критерий:entropy, leaf:14, кол-во деревьев: 30\n"
     ]
    }
   ],
   "source": [
    "bestF1 = 0\n",
    "depth = 0\n",
    "crit = 0\n",
    "leaf = 0\n",
    "est = 0\n",
    "for x in tqdm(range(1, 15)):\n",
    "    for y in range(10, 100, 20):\n",
    "        for z in ['gini', 'entropy']:\n",
    "            for col in range(1, 15):\n",
    "                model_RF_B = RandomForestClassifier(\n",
    "                    random_state=12345, max_depth=x, n_estimators=y, min_samples_leaf=col, criterion = z)\n",
    "                model_RF_B.fit(features_upsampled, target_upsampled)\n",
    "                predictions = model_RF_B.predict(features_valid)\n",
    "                F1_score = f1_score(target_valid, predictions)\n",
    "                if F1_score > bestF1:\n",
    "                    bestF1 = F1_score\n",
    "                    depth = x\n",
    "                    crit = z\n",
    "                    leaf = col\n",
    "                    est = y \n",
    "print(f'Лучшая F1-мера: {bestF1}, глубина:{depth}, критерий:{crit}, leaf:{leaf}, кол-во деревьев: {est}')\n",
    "model_RF_B_best = RandomForestClassifier(\n",
    "    random_state=12345, max_depth=depth, n_estimators=est, min_samples_leaf=leaf, criterion = crit)\n",
    "model_RF_B_best.fit(features_upsampled, target_upsampled)\n",
    "prob_valid = model_RF_B_best.predict_proba(features_valid)\n",
    "prob_one_valid = prob_valid[:,1]\n",
    "roc_RF_UP = roc_auc_score(target_valid, prob_one_valid)"
   ]
  },
  {
   "cell_type": "code",
   "execution_count": 31,
   "metadata": {},
   "outputs": [],
   "source": [
    "df.append({\"Модель\": \"Случайный лес upsample\", \"F1-мера\": bestF1, \"ROC-AUC\": roc_RF_UP})"
   ]
  },
  {
   "cell_type": "markdown",
   "metadata": {},
   "source": [
    "#### Логистическая регрессия"
   ]
  },
  {
   "cell_type": "code",
   "execution_count": 32,
   "metadata": {},
   "outputs": [
    {
     "name": "stderr",
     "output_type": "stream",
     "text": [
      "100%|██████████| 20/20 [00:10<00:00,  1.82it/s]\n"
     ]
    },
    {
     "name": "stdout",
     "output_type": "stream",
     "text": [
      "Лучшая F1-мера: 0.5072463768115941, критерий:lbfgs, итераций: 51\n"
     ]
    }
   ],
   "source": [
    "it = 0\n",
    "crit = 0\n",
    "bestF1=0\n",
    "for i in tqdm(range(1,1000, 50)):\n",
    "    for x in [\"lbfgs\", \"liblinear\"]:\n",
    "        model_LR_B = LogisticRegression(random_state=12345, max_iter=i, solver=x).fit(\n",
    "            features_upsampled, target_upsampled)\n",
    "        predictions = model_LR_B.predict(features_valid)\n",
    "        F1_score = f1_score(target_valid, predictions)\n",
    "        if F1_score > bestF1:\n",
    "            bestF1 = F1_score\n",
    "            crit = x\n",
    "            it = i\n",
    "print(f'Лучшая F1-мера: {bestF1}, критерий:{crit}, итераций: {it}') \n",
    "model_LR_B_best = LogisticRegression(random_state=12345, max_iter=it, solver=crit)\n",
    "model_LR_B_best.fit(features_upsampled, target_upsampled)\n",
    "prob_valid = model_LR_B_best.predict_proba(features_valid)\n",
    "prob_one_valid = prob_valid[:,1]\n",
    "roc_LR_UP = roc_auc_score(target_valid, prob_one_valid)"
   ]
  },
  {
   "cell_type": "code",
   "execution_count": 33,
   "metadata": {},
   "outputs": [
    {
     "data": {
      "text/html": [
       "<div>\n",
       "<style scoped>\n",
       "    .dataframe tbody tr th:only-of-type {\n",
       "        vertical-align: middle;\n",
       "    }\n",
       "\n",
       "    .dataframe tbody tr th {\n",
       "        vertical-align: top;\n",
       "    }\n",
       "\n",
       "    .dataframe thead th {\n",
       "        text-align: right;\n",
       "    }\n",
       "</style>\n",
       "<table border=\"1\" class=\"dataframe\">\n",
       "  <thead>\n",
       "    <tr style=\"text-align: right;\">\n",
       "      <th></th>\n",
       "      <th>Модель</th>\n",
       "      <th>F1-мера</th>\n",
       "      <th>ROC-AUC</th>\n",
       "    </tr>\n",
       "  </thead>\n",
       "  <tbody>\n",
       "    <tr>\n",
       "      <th>0</th>\n",
       "      <td>Дерево решений небаланс</td>\n",
       "      <td>0.570579</td>\n",
       "      <td>0.786050</td>\n",
       "    </tr>\n",
       "    <tr>\n",
       "      <th>1</th>\n",
       "      <td>Случайный лес небаланс</td>\n",
       "      <td>0.577181</td>\n",
       "      <td>0.831375</td>\n",
       "    </tr>\n",
       "    <tr>\n",
       "      <th>2</th>\n",
       "      <td>Логистическая регрессия небаланс</td>\n",
       "      <td>0.303393</td>\n",
       "      <td>0.773577</td>\n",
       "    </tr>\n",
       "    <tr>\n",
       "      <th>3</th>\n",
       "      <td>Дерево решений upsample</td>\n",
       "      <td>0.582694</td>\n",
       "      <td>0.824976</td>\n",
       "    </tr>\n",
       "    <tr>\n",
       "      <th>4</th>\n",
       "      <td>Случайный лес upsample</td>\n",
       "      <td>0.645740</td>\n",
       "      <td>0.867468</td>\n",
       "    </tr>\n",
       "    <tr>\n",
       "      <th>5</th>\n",
       "      <td>Логистическая регрессия upsample</td>\n",
       "      <td>0.507246</td>\n",
       "      <td>0.777833</td>\n",
       "    </tr>\n",
       "  </tbody>\n",
       "</table>\n",
       "</div>"
      ],
      "text/plain": [
       "                             Модель   F1-мера   ROC-AUC\n",
       "0           Дерево решений небаланс  0.570579  0.786050\n",
       "1            Случайный лес небаланс  0.577181  0.831375\n",
       "2  Логистическая регрессия небаланс  0.303393  0.773577\n",
       "3           Дерево решений upsample  0.582694  0.824976\n",
       "4            Случайный лес upsample  0.645740  0.867468\n",
       "5  Логистическая регрессия upsample  0.507246  0.777833"
      ]
     },
     "execution_count": 33,
     "metadata": {},
     "output_type": "execute_result"
    }
   ],
   "source": [
    "df.append({\"Модель\": \"Логистическая регрессия upsample\", \"F1-мера\": bestF1, \"ROC-AUC\": roc_LR_UP})\n",
    "pd.DataFrame(df)"
   ]
  },
  {
   "cell_type": "markdown",
   "metadata": {},
   "source": [
    "*Вывод: самой лучшей моделью после увеличения выборки оказалась модель дерева решений с F1-мерой: 0.898, и AUC-ROC: 0.91\n",
    "А самой худшей оказалась содель случайного леса с F1-мерой: 0.69.*"
   ]
  },
  {
   "cell_type": "markdown",
   "metadata": {},
   "source": [
    "### Уменьшение выборки"
   ]
  },
  {
   "cell_type": "code",
   "execution_count": 34,
   "metadata": {},
   "outputs": [
    {
     "name": "stdout",
     "output_type": "stream",
     "text": [
      "Количество ушедших клиентов: 2234\n",
      "Количество действующих клиентов: 2234\n"
     ]
    }
   ],
   "source": [
    "def downsample(features, target, fraction):\n",
    "    features_zeros = features[target == 0]\n",
    "    features_ones = features[target == 1]\n",
    "    target_zeros = target[target == 0]\n",
    "    target_ones = target[target == 1]\n",
    "\n",
    "    features_downsampled = pd.concat(\n",
    "        [features_zeros.sample(frac=fraction, random_state=12345)] + [features_ones])\n",
    "    target_downsampled = pd.concat(\n",
    "        [target_zeros.sample(frac=fraction, random_state=12345)] + [target_ones])\n",
    "    \n",
    "    features_downsampled, target_downsampled = shuffle(\n",
    "        features_downsampled, target_downsampled, random_state=12345)\n",
    "    \n",
    "    return features_downsampled, target_downsampled\n",
    "\n",
    "features_downsampled, target_downsampled = downsample(features_train, target_train, 0.256)\n",
    "print(f'Количество ушедших клиентов: {len(target_downsampled==1)}')\n",
    "print(f'Количество действующих клиентов: {len(target_downsampled==0)}')"
   ]
  },
  {
   "cell_type": "markdown",
   "metadata": {},
   "source": [
    "#### Дерево решений"
   ]
  },
  {
   "cell_type": "code",
   "execution_count": 35,
   "metadata": {},
   "outputs": [
    {
     "name": "stderr",
     "output_type": "stream",
     "text": [
      "100%|██████████| 14/14 [00:03<00:00,  3.56it/s]"
     ]
    },
    {
     "name": "stdout",
     "output_type": "stream",
     "text": [
      "Лучшая F1-мера: 0.5927419354838709, глубина:6, критерий:entropy, leaf:7\n"
     ]
    },
    {
     "name": "stderr",
     "output_type": "stream",
     "text": [
      "\n"
     ]
    }
   ],
   "source": [
    "bestF1 = 0\n",
    "depth = 0\n",
    "crit = 0\n",
    "leaf = 0\n",
    "for x in tqdm(range(1, 15)):\n",
    "    for y in ['gini', 'entropy']:\n",
    "        for z in range(1, 15):\n",
    "            model_DT_B = DecisionTreeClassifier(max_depth=x, min_samples_leaf=z, criterion=y, random_state=12345).fit(\n",
    "                features_downsampled, target_downsampled)\n",
    "            predictions = model_DT_B.predict(features_valid)\n",
    "            F1_score = f1_score(target_valid, predictions)\n",
    "            if F1_score > bestF1:\n",
    "                bestF1 = F1_score\n",
    "                depth = x\n",
    "                crit = y\n",
    "                leaf = z\n",
    "print(f'Лучшая F1-мера: {bestF1}, глубина:{depth}, критерий:{crit}, leaf:{leaf}')  \n",
    "model_DT_B_best = DecisionTreeClassifier(max_depth=depth, min_samples_leaf=leaf, criterion=crit, random_state=12345)\n",
    "model_DT_B_best.fit(features_downsampled, target_downsampled)\n",
    "prob_valid = model_DT_B_best.predict_proba(features_valid)\n",
    "prob_one_valid = prob_valid[:,1]\n",
    "roc_DT_DW = roc_auc_score(target_valid, prob_one_valid)"
   ]
  },
  {
   "cell_type": "code",
   "execution_count": 36,
   "metadata": {},
   "outputs": [],
   "source": [
    "df.append({\"Модель\": \"Дерево решений downsample\", \"F1-мера\": bestF1, \"ROC-AUC\": roc_DT_DW})"
   ]
  },
  {
   "cell_type": "markdown",
   "metadata": {},
   "source": [
    "#### Случайный лес"
   ]
  },
  {
   "cell_type": "markdown",
   "metadata": {},
   "source": [
    "Ячейка выполняется"
   ]
  },
  {
   "cell_type": "code",
   "execution_count": 37,
   "metadata": {},
   "outputs": [
    {
     "name": "stderr",
     "output_type": "stream",
     "text": [
      "100%|██████████| 14/14 [04:18<00:00, 18.47s/it]"
     ]
    },
    {
     "name": "stdout",
     "output_type": "stream",
     "text": [
      "Лучшая F1-мера: 0.6092184368737474, глубина:7, критерий:entropy, leaf:2, кол-во деревьев: 50\n"
     ]
    },
    {
     "name": "stderr",
     "output_type": "stream",
     "text": [
      "\n"
     ]
    }
   ],
   "source": [
    "bestF1 = 0\n",
    "depth = 0\n",
    "crit = 0\n",
    "leaf = 0\n",
    "est = 0\n",
    "for x in tqdm(range(1, 15)):\n",
    "    for y in range(10, 100, 20):\n",
    "        for z in ['gini', 'entropy']:\n",
    "            for col in range(1, 15):\n",
    "                model_RF_B = RandomForestClassifier(\n",
    "                    random_state=12345, max_depth=x, n_estimators=y, min_samples_leaf=col, criterion = z)\n",
    "                model_RF_B.fit(features_downsampled, target_downsampled)\n",
    "                predictions = model_RF_B.predict(features_valid)\n",
    "                F1_score = f1_score(target_valid, predictions)\n",
    "                if F1_score > bestF1:\n",
    "                    bestF1 = F1_score\n",
    "                    depth = x\n",
    "                    crit = z\n",
    "                    leaf = col\n",
    "                    est = y \n",
    "print(f'Лучшая F1-мера: {bestF1}, глубина:{depth}, критерий:{crit}, leaf:{leaf}, кол-во деревьев: {est}')\n",
    "model_RF_B_best = RandomForestClassifier(\n",
    "    random_state=12345, max_depth=depth, n_estimators=est, min_samples_leaf=leaf, criterion = crit)\n",
    "model_RF_B_best.fit(features_downsampled, target_downsampled)\n",
    "prob_valid = model_RF_B_best.predict_proba(features_valid)\n",
    "prob_one_valid = prob_valid[:,1]\n",
    "roc_RF_DW = roc_auc_score(target_valid, prob_one_valid)"
   ]
  },
  {
   "cell_type": "code",
   "execution_count": 38,
   "metadata": {},
   "outputs": [],
   "source": [
    "df.append({\"Модель\": \"Случайный лес downsample\", \"F1-мера\": bestF1, \"ROC-AUC\": roc_RF_DW})"
   ]
  },
  {
   "cell_type": "markdown",
   "metadata": {},
   "source": [
    "#### Логистическая регрессия\n"
   ]
  },
  {
   "cell_type": "code",
   "execution_count": 39,
   "metadata": {},
   "outputs": [
    {
     "name": "stderr",
     "output_type": "stream",
     "text": [
      "100%|██████████| 20/20 [00:06<00:00,  3.22it/s]\n"
     ]
    },
    {
     "name": "stdout",
     "output_type": "stream",
     "text": [
      "Лучшая F1-мера: 0.5040797824116047, критерий:lbfgs, итераций: 51\n"
     ]
    }
   ],
   "source": [
    "it = 0\n",
    "crit = 0\n",
    "bestF1=0\n",
    "for i in tqdm(range(1,1000, 50)):\n",
    "    for x in [\"lbfgs\", \"liblinear\"]:\n",
    "        model_LR_B = LogisticRegression(random_state=12345, max_iter=i, solver=x).fit(\n",
    "            features_downsampled, target_downsampled)\n",
    "        predictions = model_LR_B.predict(features_valid)\n",
    "        F1_score = f1_score(target_valid, predictions)\n",
    "        if F1_score > bestF1:\n",
    "            bestF1 = F1_score\n",
    "            crit = x\n",
    "            it = i\n",
    "print(f'Лучшая F1-мера: {bestF1}, критерий:{crit}, итераций: {it}') \n",
    "model_LR_B_best = LogisticRegression(random_state=12345, max_iter=it, solver=crit)\n",
    "model_LR_B_best.fit(features_downsampled, target_downsampled)\n",
    "prob_valid = model_LR_B_best.predict_proba(features_valid)\n",
    "prob_one_valid = prob_valid[:,1]\n",
    "roc_LR_DW = roc_auc_score(target_valid, prob_one_valid)"
   ]
  },
  {
   "cell_type": "code",
   "execution_count": 40,
   "metadata": {},
   "outputs": [
    {
     "data": {
      "text/html": [
       "<div>\n",
       "<style scoped>\n",
       "    .dataframe tbody tr th:only-of-type {\n",
       "        vertical-align: middle;\n",
       "    }\n",
       "\n",
       "    .dataframe tbody tr th {\n",
       "        vertical-align: top;\n",
       "    }\n",
       "\n",
       "    .dataframe thead th {\n",
       "        text-align: right;\n",
       "    }\n",
       "</style>\n",
       "<table border=\"1\" class=\"dataframe\">\n",
       "  <thead>\n",
       "    <tr style=\"text-align: right;\">\n",
       "      <th></th>\n",
       "      <th>Модель</th>\n",
       "      <th>F1-мера</th>\n",
       "      <th>ROC-AUC</th>\n",
       "    </tr>\n",
       "  </thead>\n",
       "  <tbody>\n",
       "    <tr>\n",
       "      <th>0</th>\n",
       "      <td>Дерево решений небаланс</td>\n",
       "      <td>0.570579</td>\n",
       "      <td>0.786050</td>\n",
       "    </tr>\n",
       "    <tr>\n",
       "      <th>1</th>\n",
       "      <td>Случайный лес небаланс</td>\n",
       "      <td>0.577181</td>\n",
       "      <td>0.831375</td>\n",
       "    </tr>\n",
       "    <tr>\n",
       "      <th>2</th>\n",
       "      <td>Логистическая регрессия небаланс</td>\n",
       "      <td>0.303393</td>\n",
       "      <td>0.773577</td>\n",
       "    </tr>\n",
       "    <tr>\n",
       "      <th>3</th>\n",
       "      <td>Дерево решений upsample</td>\n",
       "      <td>0.582694</td>\n",
       "      <td>0.824976</td>\n",
       "    </tr>\n",
       "    <tr>\n",
       "      <th>4</th>\n",
       "      <td>Случайный лес upsample</td>\n",
       "      <td>0.645740</td>\n",
       "      <td>0.867468</td>\n",
       "    </tr>\n",
       "    <tr>\n",
       "      <th>5</th>\n",
       "      <td>Логистическая регрессия upsample</td>\n",
       "      <td>0.507246</td>\n",
       "      <td>0.777833</td>\n",
       "    </tr>\n",
       "    <tr>\n",
       "      <th>6</th>\n",
       "      <td>Дерево решений downsample</td>\n",
       "      <td>0.592742</td>\n",
       "      <td>0.850310</td>\n",
       "    </tr>\n",
       "    <tr>\n",
       "      <th>7</th>\n",
       "      <td>Случайный лес downsample</td>\n",
       "      <td>0.609218</td>\n",
       "      <td>0.866945</td>\n",
       "    </tr>\n",
       "    <tr>\n",
       "      <th>8</th>\n",
       "      <td>Логистическая регрессия downsample</td>\n",
       "      <td>0.504080</td>\n",
       "      <td>0.775616</td>\n",
       "    </tr>\n",
       "  </tbody>\n",
       "</table>\n",
       "</div>"
      ],
      "text/plain": [
       "                               Модель   F1-мера   ROC-AUC\n",
       "0             Дерево решений небаланс  0.570579  0.786050\n",
       "1              Случайный лес небаланс  0.577181  0.831375\n",
       "2    Логистическая регрессия небаланс  0.303393  0.773577\n",
       "3             Дерево решений upsample  0.582694  0.824976\n",
       "4              Случайный лес upsample  0.645740  0.867468\n",
       "5    Логистическая регрессия upsample  0.507246  0.777833\n",
       "6           Дерево решений downsample  0.592742  0.850310\n",
       "7            Случайный лес downsample  0.609218  0.866945\n",
       "8  Логистическая регрессия downsample  0.504080  0.775616"
      ]
     },
     "execution_count": 40,
     "metadata": {},
     "output_type": "execute_result"
    }
   ],
   "source": [
    "df.append({\"Модель\": \"Логистическая регрессия downsample\", \"F1-мера\": bestF1, \"ROC-AUC\": roc_LR_DW})\n",
    "pd.DataFrame(df)"
   ]
  },
  {
   "cell_type": "markdown",
   "metadata": {},
   "source": [
    "*Вывод: после уменьшения выборки лучшей моделью оказалась модель случайного леса с F1-мерой: 0.782, а худшая - логичстическая регрессия с F1-мерой: 0.69.*"
   ]
  },
  {
   "cell_type": "markdown",
   "metadata": {},
   "source": [
    "### Изменение порога"
   ]
  },
  {
   "cell_type": "markdown",
   "metadata": {},
   "source": [
    "#### Дерево решений"
   ]
  },
  {
   "cell_type": "code",
   "execution_count": 41,
   "metadata": {},
   "outputs": [
    {
     "name": "stdout",
     "output_type": "stream",
     "text": [
      "F1-мера равна: 0.5483599663582843, порог равен: 0.34\n"
     ]
    }
   ],
   "source": [
    "prob_valid = model_DT_B_best.predict_proba(features_valid)\n",
    "prob_one_valid = prob_valid[:,1]\n",
    "\n",
    "f1=0\n",
    "auc_dt = 0\n",
    "for threshold in np.arange(0, 0.35, 0.02):\n",
    "    predicted_valid = prob_one_valid > threshold\n",
    "    if f1_score(target_valid, predicted_valid) > f1:\n",
    "        f1 = f1_score(target_valid, predicted_valid)\n",
    "        auc_dt = roc_auc_score(target_valid, predicted_valid)\n",
    "print(f'F1-мера равна: {f1}, порог равен: {threshold}')"
   ]
  },
  {
   "cell_type": "code",
   "execution_count": 42,
   "metadata": {},
   "outputs": [],
   "source": [
    "df.append({\"Модель\": \"Дерево решений изменение порога\", \"F1-мера\": f1, \"ROC-AUC\": auc_dt})"
   ]
  },
  {
   "cell_type": "markdown",
   "metadata": {},
   "source": [
    "#### Случайный лес"
   ]
  },
  {
   "cell_type": "code",
   "execution_count": 43,
   "metadata": {},
   "outputs": [
    {
     "name": "stdout",
     "output_type": "stream",
     "text": [
      "F1-мера равна: 0.6318607764390898, порог равен: 0.98\n"
     ]
    }
   ],
   "source": [
    "probabilities_valid = model_RF_B_best.predict_proba(features_valid)\n",
    "probabilities_one_valid = probabilities_valid[:, 1]\n",
    "f1=0\n",
    "auc_rf = 0\n",
    "for threshold in np.arange(0, 1, 0.02):\n",
    "    predicted_valid = probabilities_one_valid > threshold\n",
    "    if f1_score(target_valid, predicted_valid) > f1:\n",
    "        f1 = f1_score(target_valid, predicted_valid)\n",
    "        auc_rf = roc_auc_score(target_valid, predicted_valid)\n",
    "print(f'F1-мера равна: {f1}, порог равен: {threshold}')"
   ]
  },
  {
   "cell_type": "code",
   "execution_count": 44,
   "metadata": {},
   "outputs": [],
   "source": [
    "df.append({\"Модель\": \"Случайный лес изменение порога\", \"F1-мера\": f1, \"ROC-AUC\": auc_rf})"
   ]
  },
  {
   "cell_type": "markdown",
   "metadata": {},
   "source": [
    "#### Логистическая регрессия\n"
   ]
  },
  {
   "cell_type": "code",
   "execution_count": 45,
   "metadata": {
    "scrolled": true
   },
   "outputs": [
    {
     "name": "stdout",
     "output_type": "stream",
     "text": [
      "F1-мера равна: 0.5095948827292112, порог равен: 0.98\n"
     ]
    }
   ],
   "source": [
    "probabilities_valid = model_LR_B_best.predict_proba(features_valid)\n",
    "probabilities_one_valid = probabilities_valid[:, 1]\n",
    "\n",
    "f1=0\n",
    "auc_LR = 0\n",
    "for threshold in np.arange(0, 1, 0.02):\n",
    "    predicted_valid = probabilities_one_valid > threshold\n",
    "    if f1_score(target_valid, predicted_valid) > f1:\n",
    "        f1 = f1_score(target_valid, predicted_valid)\n",
    "        auc_LR = roc_auc_score(target_valid, predicted_valid)\n",
    "print(f'F1-мера равна: {f1}, порог равен: {threshold}')"
   ]
  },
  {
   "cell_type": "code",
   "execution_count": 46,
   "metadata": {},
   "outputs": [
    {
     "data": {
      "text/html": [
       "<div>\n",
       "<style scoped>\n",
       "    .dataframe tbody tr th:only-of-type {\n",
       "        vertical-align: middle;\n",
       "    }\n",
       "\n",
       "    .dataframe tbody tr th {\n",
       "        vertical-align: top;\n",
       "    }\n",
       "\n",
       "    .dataframe thead th {\n",
       "        text-align: right;\n",
       "    }\n",
       "</style>\n",
       "<table border=\"1\" class=\"dataframe\">\n",
       "  <thead>\n",
       "    <tr style=\"text-align: right;\">\n",
       "      <th></th>\n",
       "      <th>Модель</th>\n",
       "      <th>F1-мера</th>\n",
       "      <th>ROC-AUC</th>\n",
       "    </tr>\n",
       "  </thead>\n",
       "  <tbody>\n",
       "    <tr>\n",
       "      <th>0</th>\n",
       "      <td>Дерево решений небаланс</td>\n",
       "      <td>0.570579</td>\n",
       "      <td>0.786050</td>\n",
       "    </tr>\n",
       "    <tr>\n",
       "      <th>1</th>\n",
       "      <td>Случайный лес небаланс</td>\n",
       "      <td>0.577181</td>\n",
       "      <td>0.831375</td>\n",
       "    </tr>\n",
       "    <tr>\n",
       "      <th>2</th>\n",
       "      <td>Логистическая регрессия небаланс</td>\n",
       "      <td>0.303393</td>\n",
       "      <td>0.773577</td>\n",
       "    </tr>\n",
       "    <tr>\n",
       "      <th>3</th>\n",
       "      <td>Дерево решений upsample</td>\n",
       "      <td>0.582694</td>\n",
       "      <td>0.824976</td>\n",
       "    </tr>\n",
       "    <tr>\n",
       "      <th>4</th>\n",
       "      <td>Случайный лес upsample</td>\n",
       "      <td>0.645740</td>\n",
       "      <td>0.867468</td>\n",
       "    </tr>\n",
       "    <tr>\n",
       "      <th>5</th>\n",
       "      <td>Логистическая регрессия upsample</td>\n",
       "      <td>0.507246</td>\n",
       "      <td>0.777833</td>\n",
       "    </tr>\n",
       "    <tr>\n",
       "      <th>6</th>\n",
       "      <td>Дерево решений downsample</td>\n",
       "      <td>0.592742</td>\n",
       "      <td>0.850310</td>\n",
       "    </tr>\n",
       "    <tr>\n",
       "      <th>7</th>\n",
       "      <td>Случайный лес downsample</td>\n",
       "      <td>0.609218</td>\n",
       "      <td>0.866945</td>\n",
       "    </tr>\n",
       "    <tr>\n",
       "      <th>8</th>\n",
       "      <td>Логистическая регрессия downsample</td>\n",
       "      <td>0.504080</td>\n",
       "      <td>0.775616</td>\n",
       "    </tr>\n",
       "    <tr>\n",
       "      <th>9</th>\n",
       "      <td>Дерево решений изменение порога</td>\n",
       "      <td>0.548360</td>\n",
       "      <td>0.763728</td>\n",
       "    </tr>\n",
       "    <tr>\n",
       "      <th>10</th>\n",
       "      <td>Случайный лес изменение порога</td>\n",
       "      <td>0.631861</td>\n",
       "      <td>0.766502</td>\n",
       "    </tr>\n",
       "    <tr>\n",
       "      <th>11</th>\n",
       "      <td>Логистическая регрессия изменение порога</td>\n",
       "      <td>0.509595</td>\n",
       "      <td>0.705248</td>\n",
       "    </tr>\n",
       "  </tbody>\n",
       "</table>\n",
       "</div>"
      ],
      "text/plain": [
       "                                      Модель   F1-мера   ROC-AUC\n",
       "0                    Дерево решений небаланс  0.570579  0.786050\n",
       "1                     Случайный лес небаланс  0.577181  0.831375\n",
       "2           Логистическая регрессия небаланс  0.303393  0.773577\n",
       "3                    Дерево решений upsample  0.582694  0.824976\n",
       "4                     Случайный лес upsample  0.645740  0.867468\n",
       "5           Логистическая регрессия upsample  0.507246  0.777833\n",
       "6                  Дерево решений downsample  0.592742  0.850310\n",
       "7                   Случайный лес downsample  0.609218  0.866945\n",
       "8         Логистическая регрессия downsample  0.504080  0.775616\n",
       "9            Дерево решений изменение порога  0.548360  0.763728\n",
       "10            Случайный лес изменение порога  0.631861  0.766502\n",
       "11  Логистическая регрессия изменение порога  0.509595  0.705248"
      ]
     },
     "execution_count": 46,
     "metadata": {},
     "output_type": "execute_result"
    }
   ],
   "source": [
    "df.append({\"Модель\": \"Логистическая регрессия изменение порога\", \"F1-мера\": f1, \"ROC-AUC\": auc_LR})\n",
    "pd.DataFrame(df)"
   ]
  },
  {
   "cell_type": "markdown",
   "metadata": {},
   "source": [
    "*Вывод по разделу устранения дисбаланса: для более точных предсказаний подходит техника увеличения выборки. И применение ее на модель случайного леса, так как эта модель выдала самую большую F1-меру и AUC-ROC.*"
   ]
  },
  {
   "cell_type": "markdown",
   "metadata": {},
   "source": [
    "## Тестирование модели"
   ]
  },
  {
   "cell_type": "code",
   "execution_count": 47,
   "metadata": {},
   "outputs": [
    {
     "name": "stdout",
     "output_type": "stream",
     "text": [
      "F1-мера на тестовой выборке равна: 0.6094420600858369\n",
      "AUC-ROC равен: 0.8526747246093295\n"
     ]
    }
   ],
   "source": [
    "model = RandomForestClassifier(\n",
    "    random_state=12345, max_depth=14, n_estimators=90, min_samples_leaf=1, criterion = 'gini')\n",
    "model.fit(features_upsampled, target_upsampled)\n",
    "pred = model.predict(features_test)\n",
    "prob_test = model.predict_proba(features_test)\n",
    "prob_one_test = prob_test[:,1]\n",
    "\n",
    "print(f'F1-мера на тестовой выборке равна: {f1_score(target_test, pred)}')\n",
    "# target_test_up = target_test[:-1]\n",
    "# print(len(target_test_up))\n",
    "# print(len(prob_one_test))\n",
    "print(f'AUC-ROC равен: {roc_auc_score(target_test, prob_one_test)}')"
   ]
  },
  {
   "cell_type": "markdown",
   "metadata": {},
   "source": [
    "*Общий вывод: передо мной была поставлена задача классификации, я подготовил все данные для обучения моделей. Из проведенного анализа можно сказать, что наилучшей моделью является дерево решений, а наилучший способ установления баланса классов - увеличение выборки. Мне удалось достичь F1-меры равной 0.609  и AUC-ROC равному 0.853 .*"
   ]
  }
 ],
 "metadata": {
  "ExecuteTimeLog": [
   {
    "duration": 77,
    "start_time": "2023-04-05T17:56:59.385Z"
   },
   {
    "duration": 418,
    "start_time": "2023-04-05T17:57:04.155Z"
   },
   {
    "duration": 228,
    "start_time": "2023-04-05T17:57:04.576Z"
   },
   {
    "duration": 13,
    "start_time": "2023-04-05T18:09:56.382Z"
   },
   {
    "duration": 7,
    "start_time": "2023-04-05T18:13:03.719Z"
   },
   {
    "duration": 1857,
    "start_time": "2023-04-05T18:15:39.044Z"
   },
   {
    "duration": 58,
    "start_time": "2023-04-05T18:21:05.657Z"
   },
   {
    "duration": 59,
    "start_time": "2023-04-05T18:21:16.061Z"
   },
   {
    "duration": 68,
    "start_time": "2023-04-05T18:21:48.954Z"
   },
   {
    "duration": 69,
    "start_time": "2023-04-05T18:21:57.147Z"
   },
   {
    "duration": 3,
    "start_time": "2023-04-05T18:22:09.095Z"
   },
   {
    "duration": 15,
    "start_time": "2023-04-05T18:22:31.911Z"
   },
   {
    "duration": 7,
    "start_time": "2023-04-05T18:22:45.765Z"
   },
   {
    "duration": 9,
    "start_time": "2023-04-05T18:22:52.271Z"
   },
   {
    "duration": 64,
    "start_time": "2023-04-05T18:22:57.284Z"
   },
   {
    "duration": 4,
    "start_time": "2023-04-05T18:23:01.153Z"
   },
   {
    "duration": 8,
    "start_time": "2023-04-05T18:23:03.174Z"
   },
   {
    "duration": 3,
    "start_time": "2023-04-05T18:23:11.755Z"
   },
   {
    "duration": 10,
    "start_time": "2023-04-05T18:24:15.303Z"
   },
   {
    "duration": 12,
    "start_time": "2023-04-05T18:25:01.957Z"
   },
   {
    "duration": 54,
    "start_time": "2023-04-05T18:25:06.375Z"
   },
   {
    "duration": 4,
    "start_time": "2023-04-05T18:25:10.656Z"
   },
   {
    "duration": 3,
    "start_time": "2023-04-05T18:25:11.103Z"
   },
   {
    "duration": 8,
    "start_time": "2023-04-05T18:25:11.636Z"
   },
   {
    "duration": 42,
    "start_time": "2023-04-05T18:42:46.674Z"
   },
   {
    "duration": 28,
    "start_time": "2023-04-05T18:45:00.158Z"
   },
   {
    "duration": 11,
    "start_time": "2023-04-05T18:45:19.882Z"
   },
   {
    "duration": 13,
    "start_time": "2023-04-05T18:45:39.674Z"
   },
   {
    "duration": 215,
    "start_time": "2023-04-05T19:33:53.388Z"
   },
   {
    "duration": 1447,
    "start_time": "2023-04-05T19:55:40.914Z"
   },
   {
    "duration": 22,
    "start_time": "2023-04-05T19:55:49.428Z"
   },
   {
    "duration": 16,
    "start_time": "2023-04-05T19:57:35.188Z"
   },
   {
    "duration": 13,
    "start_time": "2023-04-05T20:05:20.200Z"
   },
   {
    "duration": 408,
    "start_time": "2023-04-06T17:54:52.267Z"
   },
   {
    "duration": 97,
    "start_time": "2023-04-06T17:54:52.680Z"
   },
   {
    "duration": 15,
    "start_time": "2023-04-06T17:54:52.874Z"
   },
   {
    "duration": 2166,
    "start_time": "2023-04-06T17:54:53.419Z"
   },
   {
    "duration": 4,
    "start_time": "2023-04-06T17:54:55.588Z"
   },
   {
    "duration": 6,
    "start_time": "2023-04-06T17:54:55.593Z"
   },
   {
    "duration": 85,
    "start_time": "2023-04-06T17:55:39.812Z"
   },
   {
    "duration": 649,
    "start_time": "2023-04-06T17:55:46.197Z"
   },
   {
    "duration": 3,
    "start_time": "2023-04-06T17:55:49.739Z"
   },
   {
    "duration": 57,
    "start_time": "2023-04-06T17:55:50.629Z"
   },
   {
    "duration": 22,
    "start_time": "2023-04-06T17:55:51.252Z"
   },
   {
    "duration": 5,
    "start_time": "2023-04-06T17:55:54.428Z"
   },
   {
    "duration": 14,
    "start_time": "2023-04-06T17:55:54.974Z"
   },
   {
    "duration": 15,
    "start_time": "2023-04-06T17:56:05.012Z"
   },
   {
    "duration": 16,
    "start_time": "2023-04-06T17:56:12.820Z"
   },
   {
    "duration": 25,
    "start_time": "2023-04-06T17:56:22.661Z"
   },
   {
    "duration": 6,
    "start_time": "2023-04-06T17:56:30.974Z"
   },
   {
    "duration": 21,
    "start_time": "2023-04-06T17:56:54.752Z"
   },
   {
    "duration": 203,
    "start_time": "2023-04-06T17:57:15.213Z"
   },
   {
    "duration": 10,
    "start_time": "2023-04-06T17:57:27.542Z"
   },
   {
    "duration": 21,
    "start_time": "2023-04-06T17:57:35.053Z"
   },
   {
    "duration": 11,
    "start_time": "2023-04-06T17:57:45.590Z"
   },
   {
    "duration": 45,
    "start_time": "2023-04-06T17:57:51.725Z"
   },
   {
    "duration": 11,
    "start_time": "2023-04-06T17:57:55.061Z"
   },
   {
    "duration": 49,
    "start_time": "2023-04-06T17:58:22.837Z"
   },
   {
    "duration": 4,
    "start_time": "2023-04-06T17:58:26.245Z"
   },
   {
    "duration": 3,
    "start_time": "2023-04-06T17:58:27.677Z"
   },
   {
    "duration": 23,
    "start_time": "2023-04-06T17:58:30.074Z"
   },
   {
    "duration": 23,
    "start_time": "2023-04-06T17:58:38.109Z"
   },
   {
    "duration": 21,
    "start_time": "2023-04-06T17:58:58.664Z"
   },
   {
    "duration": 26,
    "start_time": "2023-04-06T17:59:16.958Z"
   },
   {
    "duration": 8,
    "start_time": "2023-04-06T17:59:31.950Z"
   },
   {
    "duration": 7,
    "start_time": "2023-04-06T17:59:43.230Z"
   },
   {
    "duration": 10,
    "start_time": "2023-04-06T17:59:43.976Z"
   },
   {
    "duration": 9,
    "start_time": "2023-04-06T18:00:50.471Z"
   },
   {
    "duration": 22,
    "start_time": "2023-04-06T18:00:54.473Z"
   },
   {
    "duration": 714,
    "start_time": "2023-04-06T18:05:14.404Z"
   },
   {
    "duration": 43,
    "start_time": "2023-04-06T18:05:15.232Z"
   },
   {
    "duration": 4,
    "start_time": "2023-04-06T18:05:19.328Z"
   },
   {
    "duration": 4,
    "start_time": "2023-04-06T18:05:19.657Z"
   },
   {
    "duration": 3,
    "start_time": "2023-04-06T18:05:21.625Z"
   },
   {
    "duration": 7,
    "start_time": "2023-04-06T18:05:23.873Z"
   },
   {
    "duration": 22,
    "start_time": "2023-04-06T18:06:12.194Z"
   },
   {
    "duration": 61,
    "start_time": "2023-04-06T18:19:44.610Z"
   },
   {
    "duration": 63,
    "start_time": "2023-04-06T18:19:57.993Z"
   },
   {
    "duration": 32,
    "start_time": "2023-04-06T18:20:01.385Z"
   },
   {
    "duration": 25,
    "start_time": "2023-04-06T18:20:14.714Z"
   },
   {
    "duration": 31,
    "start_time": "2023-04-06T18:21:37.131Z"
   },
   {
    "duration": 28,
    "start_time": "2023-04-06T18:22:34.188Z"
   },
   {
    "duration": 28,
    "start_time": "2023-04-06T18:22:45.790Z"
   },
   {
    "duration": 199,
    "start_time": "2023-04-06T18:23:51.708Z"
   },
   {
    "duration": 8,
    "start_time": "2023-04-06T18:30:11.415Z"
   },
   {
    "duration": 3,
    "start_time": "2023-04-06T18:34:25.010Z"
   },
   {
    "duration": 19,
    "start_time": "2023-04-06T18:47:52.194Z"
   },
   {
    "duration": 4,
    "start_time": "2023-04-06T18:48:04.537Z"
   },
   {
    "duration": 10,
    "start_time": "2023-04-06T18:48:08.826Z"
   },
   {
    "duration": 7892,
    "start_time": "2023-04-06T18:48:27.099Z"
   },
   {
    "duration": 4,
    "start_time": "2023-04-06T18:50:15.685Z"
   },
   {
    "duration": 12,
    "start_time": "2023-04-06T18:52:50.741Z"
   },
   {
    "duration": 3,
    "start_time": "2023-04-06T18:53:07.324Z"
   },
   {
    "duration": 12,
    "start_time": "2023-04-06T18:53:47.308Z"
   },
   {
    "duration": 4,
    "start_time": "2023-04-06T18:55:15.653Z"
   },
   {
    "duration": 11,
    "start_time": "2023-04-06T18:55:20.107Z"
   },
   {
    "duration": 32,
    "start_time": "2023-04-06T18:57:19.535Z"
   },
   {
    "duration": 3,
    "start_time": "2023-04-06T18:57:48.191Z"
   },
   {
    "duration": 2,
    "start_time": "2023-04-06T18:58:02.840Z"
   },
   {
    "duration": 40,
    "start_time": "2023-04-06T18:58:09.839Z"
   },
   {
    "duration": 11,
    "start_time": "2023-04-06T19:07:07.149Z"
   },
   {
    "duration": 4,
    "start_time": "2023-04-06T20:15:25.421Z"
   },
   {
    "duration": 2,
    "start_time": "2023-04-06T20:15:25.940Z"
   },
   {
    "duration": 77,
    "start_time": "2023-04-06T20:15:26.236Z"
   },
   {
    "duration": 11,
    "start_time": "2023-04-06T20:15:26.541Z"
   },
   {
    "duration": 4,
    "start_time": "2023-04-06T20:15:30.404Z"
   },
   {
    "duration": 5,
    "start_time": "2023-04-06T20:15:30.732Z"
   },
   {
    "duration": 3,
    "start_time": "2023-04-06T20:15:31.405Z"
   },
   {
    "duration": 17,
    "start_time": "2023-04-06T20:15:31.801Z"
   },
   {
    "duration": 3,
    "start_time": "2023-04-06T20:15:59.517Z"
   },
   {
    "duration": 30,
    "start_time": "2023-04-06T20:15:59.886Z"
   },
   {
    "duration": 9,
    "start_time": "2023-04-06T20:16:02.957Z"
   },
   {
    "duration": 5,
    "start_time": "2023-04-06T20:16:03.180Z"
   },
   {
    "duration": 20,
    "start_time": "2023-04-06T20:16:07.440Z"
   },
   {
    "duration": 11,
    "start_time": "2023-04-06T20:16:08.277Z"
   },
   {
    "duration": 31,
    "start_time": "2023-04-06T20:16:11.644Z"
   },
   {
    "duration": 24,
    "start_time": "2023-04-06T20:17:49.014Z"
   },
   {
    "duration": 39,
    "start_time": "2023-04-06T20:19:59.744Z"
   },
   {
    "duration": 38,
    "start_time": "2023-04-06T20:24:10.834Z"
   },
   {
    "duration": 16,
    "start_time": "2023-04-06T20:24:14.030Z"
   },
   {
    "duration": 1826,
    "start_time": "2023-04-06T20:24:33.161Z"
   },
   {
    "duration": 3,
    "start_time": "2023-04-06T20:24:35.554Z"
   },
   {
    "duration": 55,
    "start_time": "2023-04-06T20:24:36.538Z"
   },
   {
    "duration": 14,
    "start_time": "2023-04-06T20:24:38.297Z"
   },
   {
    "duration": 5,
    "start_time": "2023-04-06T20:24:42.128Z"
   },
   {
    "duration": 5,
    "start_time": "2023-04-06T20:24:42.713Z"
   },
   {
    "duration": 4,
    "start_time": "2023-04-06T20:24:43.152Z"
   },
   {
    "duration": 22,
    "start_time": "2023-04-06T20:24:43.577Z"
   },
   {
    "duration": 10,
    "start_time": "2023-04-06T20:24:47.137Z"
   },
   {
    "duration": 5,
    "start_time": "2023-04-06T20:24:47.448Z"
   },
   {
    "duration": 10,
    "start_time": "2023-04-06T20:24:48.033Z"
   },
   {
    "duration": 44,
    "start_time": "2023-04-06T20:24:51.339Z"
   },
   {
    "duration": 8549,
    "start_time": "2023-04-06T20:24:53.466Z"
   },
   {
    "duration": 29,
    "start_time": "2023-04-06T20:25:08.441Z"
   },
   {
    "duration": 12,
    "start_time": "2023-04-06T20:25:11.024Z"
   },
   {
    "duration": 29,
    "start_time": "2023-04-06T20:25:36.546Z"
   },
   {
    "duration": 11,
    "start_time": "2023-04-06T20:25:38.001Z"
   },
   {
    "duration": 12,
    "start_time": "2023-04-06T20:25:43.722Z"
   },
   {
    "duration": 16,
    "start_time": "2023-04-06T20:25:55.922Z"
   },
   {
    "duration": 38,
    "start_time": "2023-04-06T20:26:03.594Z"
   },
   {
    "duration": 497686,
    "start_time": "2023-04-06T20:26:09.802Z"
   },
   {
    "duration": 131,
    "start_time": "2023-04-06T20:37:03.432Z"
   },
   {
    "duration": 34,
    "start_time": "2023-04-06T20:37:29.633Z"
   },
   {
    "duration": 409,
    "start_time": "2023-04-06T20:37:36.957Z"
   },
   {
    "duration": 494394,
    "start_time": "2023-04-06T20:37:41.809Z"
   },
   {
    "duration": 3,
    "start_time": "2023-04-06T20:50:21.633Z"
   },
   {
    "duration": 8083,
    "start_time": "2023-04-06T20:55:42.123Z"
   },
   {
    "duration": 7,
    "start_time": "2023-04-06T20:55:50.209Z"
   },
   {
    "duration": 6,
    "start_time": "2023-04-06T21:01:08.038Z"
   },
   {
    "duration": 6,
    "start_time": "2023-04-06T21:01:17.991Z"
   },
   {
    "duration": 6,
    "start_time": "2023-04-06T21:01:19.750Z"
   },
   {
    "duration": 75,
    "start_time": "2023-04-06T21:03:49.856Z"
   },
   {
    "duration": 83,
    "start_time": "2023-04-06T21:04:05.689Z"
   },
   {
    "duration": 1198,
    "start_time": "2023-04-08T12:34:04.215Z"
   },
   {
    "duration": 3,
    "start_time": "2023-04-08T12:34:05.471Z"
   },
   {
    "duration": 183,
    "start_time": "2023-04-08T12:34:06.079Z"
   },
   {
    "duration": 16,
    "start_time": "2023-04-08T12:34:07.079Z"
   },
   {
    "duration": 6,
    "start_time": "2023-04-08T12:34:10.839Z"
   },
   {
    "duration": 5,
    "start_time": "2023-04-08T12:34:11.503Z"
   },
   {
    "duration": 3,
    "start_time": "2023-04-08T12:34:11.966Z"
   },
   {
    "duration": 20,
    "start_time": "2023-04-08T12:34:12.719Z"
   },
   {
    "duration": 8,
    "start_time": "2023-04-08T12:34:15.223Z"
   },
   {
    "duration": 4,
    "start_time": "2023-04-08T12:34:16.119Z"
   },
   {
    "duration": 11,
    "start_time": "2023-04-08T12:34:16.927Z"
   },
   {
    "duration": 27,
    "start_time": "2023-04-08T12:34:22.647Z"
   },
   {
    "duration": 7057,
    "start_time": "2023-04-08T12:34:25.399Z"
   },
   {
    "duration": 6,
    "start_time": "2023-04-08T12:34:32.458Z"
   },
   {
    "duration": 120,
    "start_time": "2023-04-08T12:43:46.601Z"
   },
   {
    "duration": 13,
    "start_time": "2023-04-08T12:43:56.922Z"
   },
   {
    "duration": 3,
    "start_time": "2023-04-08T12:44:09.477Z"
   },
   {
    "duration": 8,
    "start_time": "2023-04-08T12:44:13.061Z"
   },
   {
    "duration": 4,
    "start_time": "2023-04-08T12:44:28.969Z"
   },
   {
    "duration": 5,
    "start_time": "2023-04-08T12:44:38.213Z"
   },
   {
    "duration": 10,
    "start_time": "2023-04-08T12:44:40.988Z"
   },
   {
    "duration": 27,
    "start_time": "2023-04-08T12:44:53.980Z"
   },
   {
    "duration": 15,
    "start_time": "2023-04-08T12:44:55.989Z"
   },
   {
    "duration": 25,
    "start_time": "2023-04-08T12:44:59.773Z"
   },
   {
    "duration": 458881,
    "start_time": "2023-04-08T12:45:02.637Z"
   },
   {
    "duration": 85,
    "start_time": "2023-04-08T12:52:41.520Z"
   },
   {
    "duration": 9,
    "start_time": "2023-04-08T12:54:08.015Z"
   },
   {
    "duration": 10,
    "start_time": "2023-04-08T12:54:59.899Z"
   },
   {
    "duration": 11,
    "start_time": "2023-04-08T12:55:07.010Z"
   },
   {
    "duration": 10,
    "start_time": "2023-04-08T12:55:17.715Z"
   },
   {
    "duration": 9,
    "start_time": "2023-04-08T12:55:31.859Z"
   },
   {
    "duration": 26,
    "start_time": "2023-04-08T12:57:36.397Z"
   },
   {
    "duration": 18,
    "start_time": "2023-04-08T12:57:52.401Z"
   },
   {
    "duration": 4,
    "start_time": "2023-04-08T12:58:58.798Z"
   },
   {
    "duration": 3,
    "start_time": "2023-04-08T12:59:02.077Z"
   },
   {
    "duration": 8121,
    "start_time": "2023-04-08T13:15:42.471Z"
   },
   {
    "duration": 15,
    "start_time": "2023-04-08T13:18:12.535Z"
   },
   {
    "duration": 13770,
    "start_time": "2023-04-08T13:18:16.737Z"
   },
   {
    "duration": 32,
    "start_time": "2023-04-08T13:18:31.754Z"
   },
   {
    "duration": 16020,
    "start_time": "2023-04-08T13:21:42.065Z"
   },
   {
    "duration": 30,
    "start_time": "2023-04-08T13:26:17.754Z"
   },
   {
    "duration": 1059,
    "start_time": "2023-04-08T13:26:50.293Z"
   },
   {
    "duration": 3,
    "start_time": "2023-04-08T13:26:51.733Z"
   },
   {
    "duration": 55,
    "start_time": "2023-04-08T13:26:52.053Z"
   },
   {
    "duration": 11,
    "start_time": "2023-04-08T13:26:52.462Z"
   },
   {
    "duration": 1844,
    "start_time": "2023-04-08T13:26:52.741Z"
   },
   {
    "duration": 5,
    "start_time": "2023-04-08T13:26:54.587Z"
   },
   {
    "duration": 14,
    "start_time": "2023-04-08T13:26:54.594Z"
   },
   {
    "duration": 14,
    "start_time": "2023-04-08T13:26:54.609Z"
   },
   {
    "duration": 27,
    "start_time": "2023-04-08T13:26:54.624Z"
   },
   {
    "duration": 11,
    "start_time": "2023-04-08T13:26:54.884Z"
   },
   {
    "duration": 4,
    "start_time": "2023-04-08T13:26:55.269Z"
   },
   {
    "duration": 8,
    "start_time": "2023-04-08T13:26:55.605Z"
   },
   {
    "duration": 27,
    "start_time": "2023-04-08T13:26:56.676Z"
   },
   {
    "duration": 7032,
    "start_time": "2023-04-08T13:26:57.053Z"
   },
   {
    "duration": 28,
    "start_time": "2023-04-08T13:27:04.087Z"
   },
   {
    "duration": 11,
    "start_time": "2023-04-08T13:27:04.116Z"
   },
   {
    "duration": 37,
    "start_time": "2023-04-08T13:27:04.129Z"
   },
   {
    "duration": 32,
    "start_time": "2023-04-08T13:27:04.168Z"
   },
   {
    "duration": 46,
    "start_time": "2023-04-08T13:27:04.202Z"
   },
   {
    "duration": 459465,
    "start_time": "2023-04-08T13:27:04.249Z"
   },
   {
    "duration": 11,
    "start_time": "2023-04-08T13:34:43.820Z"
   },
   {
    "duration": 31,
    "start_time": "2023-04-08T13:34:43.834Z"
   },
   {
    "duration": 23225,
    "start_time": "2023-04-08T13:34:43.867Z"
   },
   {
    "duration": 77,
    "start_time": "2023-04-08T13:35:07.201Z"
   },
   {
    "duration": 36,
    "start_time": "2023-04-08T13:35:07.280Z"
   },
   {
    "duration": 180,
    "start_time": "2023-04-08T13:35:07.318Z"
   },
   {
    "duration": 7,
    "start_time": "2023-04-08T13:41:26.246Z"
   },
   {
    "duration": 7,
    "start_time": "2023-04-08T13:41:42.853Z"
   },
   {
    "duration": 140,
    "start_time": "2023-04-08T13:42:10.934Z"
   },
   {
    "duration": 7,
    "start_time": "2023-04-08T13:42:18.871Z"
   },
   {
    "duration": 7,
    "start_time": "2023-04-08T13:42:23.574Z"
   },
   {
    "duration": 24,
    "start_time": "2023-04-08T13:44:48.671Z"
   },
   {
    "duration": 38,
    "start_time": "2023-04-08T13:56:11.270Z"
   },
   {
    "duration": 28,
    "start_time": "2023-04-08T13:56:31.350Z"
   },
   {
    "duration": 65,
    "start_time": "2023-04-08T13:57:09.006Z"
   },
   {
    "duration": 43,
    "start_time": "2023-04-08T13:57:36.783Z"
   },
   {
    "duration": 67,
    "start_time": "2023-04-08T13:57:42.521Z"
   },
   {
    "duration": 8,
    "start_time": "2023-04-08T14:02:24.361Z"
   },
   {
    "duration": 6,
    "start_time": "2023-04-08T14:03:43.250Z"
   },
   {
    "duration": 6,
    "start_time": "2023-04-08T14:03:48.313Z"
   },
   {
    "duration": 17,
    "start_time": "2023-04-08T14:09:59.782Z"
   },
   {
    "duration": 25,
    "start_time": "2023-04-08T14:10:01.022Z"
   },
   {
    "duration": 6,
    "start_time": "2023-04-08T14:10:19.688Z"
   },
   {
    "duration": 42,
    "start_time": "2023-04-08T14:10:23.581Z"
   },
   {
    "duration": 36,
    "start_time": "2023-04-08T14:12:40.624Z"
   },
   {
    "duration": 40,
    "start_time": "2023-04-08T14:12:43.199Z"
   },
   {
    "duration": 44,
    "start_time": "2023-04-08T14:12:56.999Z"
   },
   {
    "duration": 53,
    "start_time": "2023-04-08T14:13:00.647Z"
   },
   {
    "duration": 9,
    "start_time": "2023-04-08T14:14:25.157Z"
   },
   {
    "duration": 12,
    "start_time": "2023-04-08T14:14:35.472Z"
   },
   {
    "duration": 11,
    "start_time": "2023-04-08T14:14:48.248Z"
   },
   {
    "duration": 15,
    "start_time": "2023-04-08T14:15:06.474Z"
   },
   {
    "duration": 11,
    "start_time": "2023-04-08T14:15:14.056Z"
   },
   {
    "duration": 9,
    "start_time": "2023-04-08T14:15:21.265Z"
   },
   {
    "duration": 11,
    "start_time": "2023-04-08T14:15:25.673Z"
   },
   {
    "duration": 11,
    "start_time": "2023-04-08T14:15:30.665Z"
   },
   {
    "duration": 10,
    "start_time": "2023-04-08T14:15:41.321Z"
   },
   {
    "duration": 8,
    "start_time": "2023-04-08T14:16:14.513Z"
   },
   {
    "duration": 10,
    "start_time": "2023-04-08T14:16:44.809Z"
   },
   {
    "duration": 8,
    "start_time": "2023-04-08T14:18:05.266Z"
   },
   {
    "duration": 11,
    "start_time": "2023-04-08T14:18:27.235Z"
   },
   {
    "duration": 13,
    "start_time": "2023-04-08T14:18:32.594Z"
   },
   {
    "duration": 15,
    "start_time": "2023-04-08T14:19:55.179Z"
   },
   {
    "duration": 10,
    "start_time": "2023-04-08T14:21:02.244Z"
   },
   {
    "duration": 11,
    "start_time": "2023-04-08T14:21:23.740Z"
   },
   {
    "duration": 14,
    "start_time": "2023-04-08T14:22:28.453Z"
   },
   {
    "duration": 59,
    "start_time": "2023-04-08T14:24:50.301Z"
   },
   {
    "duration": 59,
    "start_time": "2023-04-08T14:24:57.358Z"
   },
   {
    "duration": 20,
    "start_time": "2023-04-08T14:25:05.579Z"
   },
   {
    "duration": 13,
    "start_time": "2023-04-08T14:27:54.760Z"
   },
   {
    "duration": 131,
    "start_time": "2023-04-08T14:27:57.816Z"
   },
   {
    "duration": 12,
    "start_time": "2023-04-08T14:27:58.128Z"
   },
   {
    "duration": 13,
    "start_time": "2023-04-08T14:29:14.449Z"
   },
   {
    "duration": 111,
    "start_time": "2023-04-08T14:29:17.985Z"
   },
   {
    "duration": 11,
    "start_time": "2023-04-08T14:29:18.504Z"
   },
   {
    "duration": 14,
    "start_time": "2023-04-08T14:30:51.937Z"
   },
   {
    "duration": 1318,
    "start_time": "2023-04-08T14:31:50.418Z"
   },
   {
    "duration": 3,
    "start_time": "2023-04-08T14:31:51.738Z"
   },
   {
    "duration": 95,
    "start_time": "2023-04-08T14:31:51.743Z"
   },
   {
    "duration": 17,
    "start_time": "2023-04-08T14:31:51.841Z"
   },
   {
    "duration": 2235,
    "start_time": "2023-04-08T14:31:51.861Z"
   },
   {
    "duration": 6,
    "start_time": "2023-04-08T14:31:54.099Z"
   },
   {
    "duration": 11,
    "start_time": "2023-04-08T14:31:54.107Z"
   },
   {
    "duration": 13,
    "start_time": "2023-04-08T14:31:54.121Z"
   },
   {
    "duration": 43,
    "start_time": "2023-04-08T14:31:54.136Z"
   },
   {
    "duration": 10,
    "start_time": "2023-04-08T14:31:54.184Z"
   },
   {
    "duration": 27,
    "start_time": "2023-04-08T14:31:54.196Z"
   },
   {
    "duration": 22,
    "start_time": "2023-04-08T14:31:54.225Z"
   },
   {
    "duration": 10,
    "start_time": "2023-04-08T14:31:54.249Z"
   },
   {
    "duration": 17,
    "start_time": "2023-04-08T14:31:54.260Z"
   },
   {
    "duration": 9,
    "start_time": "2023-04-08T14:31:54.279Z"
   },
   {
    "duration": 44,
    "start_time": "2023-04-08T14:31:54.290Z"
   },
   {
    "duration": 23,
    "start_time": "2023-04-08T14:31:54.336Z"
   },
   {
    "duration": 8048,
    "start_time": "2023-04-08T14:31:54.383Z"
   },
   {
    "duration": 51,
    "start_time": "2023-04-08T14:32:02.433Z"
   },
   {
    "duration": 12,
    "start_time": "2023-04-08T14:32:02.487Z"
   },
   {
    "duration": 56,
    "start_time": "2023-04-08T14:32:02.500Z"
   },
   {
    "duration": 29,
    "start_time": "2023-04-08T14:32:02.558Z"
   },
   {
    "duration": 482876,
    "start_time": "2023-04-08T14:32:02.591Z"
   },
   {
    "duration": 106,
    "start_time": "2023-04-08T14:40:05.469Z"
   },
   {
    "duration": 12,
    "start_time": "2023-04-08T14:40:05.584Z"
   },
   {
    "duration": 53,
    "start_time": "2023-04-08T14:40:05.599Z"
   },
   {
    "duration": 15355,
    "start_time": "2023-04-08T14:40:05.655Z"
   },
   {
    "duration": 301,
    "start_time": "2023-04-08T14:40:21.083Z"
   },
   {
    "duration": 14,
    "start_time": "2023-04-08T14:40:21.386Z"
   },
   {
    "duration": 33,
    "start_time": "2023-04-08T14:40:21.402Z"
   },
   {
    "duration": 80,
    "start_time": "2023-04-08T14:40:21.437Z"
   },
   {
    "duration": 13,
    "start_time": "2023-04-08T14:40:21.519Z"
   },
   {
    "duration": 132,
    "start_time": "2023-04-08T14:40:21.534Z"
   },
   {
    "duration": 17,
    "start_time": "2023-04-08T14:40:21.668Z"
   },
   {
    "duration": 98,
    "start_time": "2023-04-08T14:40:21.686Z"
   },
   {
    "duration": 16,
    "start_time": "2023-04-08T14:40:21.785Z"
   },
   {
    "duration": 1191,
    "start_time": "2023-04-09T19:16:32.222Z"
   },
   {
    "duration": 3,
    "start_time": "2023-04-09T19:16:33.415Z"
   },
   {
    "duration": 121,
    "start_time": "2023-04-09T19:16:33.426Z"
   },
   {
    "duration": 15,
    "start_time": "2023-04-09T19:16:33.550Z"
   },
   {
    "duration": 5,
    "start_time": "2023-04-09T19:16:37.021Z"
   },
   {
    "duration": 6,
    "start_time": "2023-04-09T19:16:37.261Z"
   },
   {
    "duration": 3,
    "start_time": "2023-04-09T19:16:37.709Z"
   },
   {
    "duration": 21,
    "start_time": "2023-04-09T19:16:37.958Z"
   },
   {
    "duration": 8,
    "start_time": "2023-04-09T19:16:38.439Z"
   },
   {
    "duration": 4,
    "start_time": "2023-04-09T19:16:39.937Z"
   },
   {
    "duration": 19,
    "start_time": "2023-04-09T19:16:40.612Z"
   },
   {
    "duration": 9,
    "start_time": "2023-04-09T19:16:41.502Z"
   },
   {
    "duration": 8,
    "start_time": "2023-04-09T19:16:42.197Z"
   },
   {
    "duration": 35,
    "start_time": "2023-04-09T19:21:39.616Z"
   },
   {
    "duration": 14,
    "start_time": "2023-04-09T19:46:19.050Z"
   },
   {
    "duration": 114,
    "start_time": "2023-04-09T19:54:22.647Z"
   },
   {
    "duration": 11,
    "start_time": "2023-04-09T20:03:05.338Z"
   },
   {
    "duration": 74,
    "start_time": "2023-04-09T20:11:19.640Z"
   },
   {
    "duration": 12,
    "start_time": "2023-04-09T20:11:30.799Z"
   },
   {
    "duration": 1238,
    "start_time": "2023-04-09T20:34:46.659Z"
   },
   {
    "duration": 3,
    "start_time": "2023-04-09T20:34:47.900Z"
   },
   {
    "duration": 75,
    "start_time": "2023-04-09T20:34:47.906Z"
   },
   {
    "duration": 14,
    "start_time": "2023-04-09T20:34:47.983Z"
   },
   {
    "duration": 2318,
    "start_time": "2023-04-09T20:34:47.998Z"
   },
   {
    "duration": 6,
    "start_time": "2023-04-09T20:34:50.322Z"
   },
   {
    "duration": 17,
    "start_time": "2023-04-09T20:34:50.330Z"
   },
   {
    "duration": 6,
    "start_time": "2023-04-09T20:34:50.354Z"
   },
   {
    "duration": 30,
    "start_time": "2023-04-09T20:34:50.362Z"
   },
   {
    "duration": 29,
    "start_time": "2023-04-09T20:34:50.397Z"
   },
   {
    "duration": 8,
    "start_time": "2023-04-09T20:34:50.428Z"
   },
   {
    "duration": 46,
    "start_time": "2023-04-09T20:34:50.444Z"
   },
   {
    "duration": 11,
    "start_time": "2023-04-09T20:34:50.494Z"
   },
   {
    "duration": 41,
    "start_time": "2023-04-09T20:34:50.507Z"
   },
   {
    "duration": 17,
    "start_time": "2023-04-09T20:34:50.550Z"
   },
   {
    "duration": 40,
    "start_time": "2023-04-09T20:34:50.569Z"
   },
   {
    "duration": 31,
    "start_time": "2023-04-09T20:34:50.611Z"
   },
   {
    "duration": 8882,
    "start_time": "2023-04-09T20:34:50.645Z"
   },
   {
    "duration": 33,
    "start_time": "2023-04-09T20:34:59.535Z"
   },
   {
    "duration": 10,
    "start_time": "2023-04-09T20:34:59.570Z"
   },
   {
    "duration": 58,
    "start_time": "2023-04-09T20:34:59.583Z"
   },
   {
    "duration": 41,
    "start_time": "2023-04-09T20:34:59.646Z"
   },
   {
    "duration": 526819,
    "start_time": "2023-04-09T20:34:59.690Z"
   },
   {
    "duration": 99,
    "start_time": "2023-04-09T20:43:46.511Z"
   },
   {
    "duration": 21,
    "start_time": "2023-04-09T20:43:46.612Z"
   },
   {
    "duration": 28,
    "start_time": "2023-04-09T20:43:46.635Z"
   },
   {
    "duration": 25571,
    "start_time": "2023-04-09T20:43:46.665Z"
   },
   {
    "duration": 103,
    "start_time": "2023-04-09T20:44:12.323Z"
   },
   {
    "duration": 89,
    "start_time": "2023-04-09T20:44:12.435Z"
   },
   {
    "duration": 30,
    "start_time": "2023-04-09T20:44:12.527Z"
   },
   {
    "duration": 13,
    "start_time": "2023-04-09T20:44:12.559Z"
   },
   {
    "duration": 62,
    "start_time": "2023-04-09T20:44:12.573Z"
   },
   {
    "duration": 19,
    "start_time": "2023-04-09T20:44:12.636Z"
   },
   {
    "duration": 161,
    "start_time": "2023-04-09T20:44:12.656Z"
   },
   {
    "duration": 22,
    "start_time": "2023-04-09T20:44:12.819Z"
   },
   {
    "duration": 88,
    "start_time": "2023-04-09T20:44:12.843Z"
   },
   {
    "duration": 101,
    "start_time": "2023-04-09T20:44:12.938Z"
   },
   {
    "duration": 83,
    "start_time": "2023-04-09T20:44:13.047Z"
   },
   {
    "duration": 19,
    "start_time": "2023-04-09T20:44:13.134Z"
   },
   {
    "duration": 13,
    "start_time": "2023-04-09T20:44:13.155Z"
   },
   {
    "duration": 70,
    "start_time": "2023-04-09T20:44:13.170Z"
   },
   {
    "duration": 16,
    "start_time": "2023-04-09T20:44:13.242Z"
   },
   {
    "duration": 72,
    "start_time": "2023-04-09T20:44:13.260Z"
   },
   {
    "duration": 95,
    "start_time": "2023-04-09T20:44:13.337Z"
   },
   {
    "duration": 12,
    "start_time": "2023-04-09T20:45:08.288Z"
   },
   {
    "duration": 16,
    "start_time": "2023-04-09T20:45:11.636Z"
   },
   {
    "duration": 12,
    "start_time": "2023-04-09T20:45:25.889Z"
   },
   {
    "duration": 13,
    "start_time": "2023-04-09T20:45:52.603Z"
   },
   {
    "duration": 10,
    "start_time": "2023-04-09T20:45:57.379Z"
   },
   {
    "duration": 12,
    "start_time": "2023-04-09T20:46:01.649Z"
   },
   {
    "duration": 14,
    "start_time": "2023-04-09T20:46:05.258Z"
   },
   {
    "duration": 131,
    "start_time": "2023-04-09T20:46:18.699Z"
   },
   {
    "duration": 15,
    "start_time": "2023-04-09T20:46:19.142Z"
   },
   {
    "duration": 20,
    "start_time": "2023-04-09T20:46:24.034Z"
   },
   {
    "duration": 15,
    "start_time": "2023-04-09T20:46:24.323Z"
   },
   {
    "duration": 58,
    "start_time": "2023-04-09T20:46:26.339Z"
   },
   {
    "duration": 11,
    "start_time": "2023-04-09T20:46:26.578Z"
   },
   {
    "duration": 29,
    "start_time": "2023-04-09T20:46:27.242Z"
   },
   {
    "duration": 12,
    "start_time": "2023-04-09T20:46:27.674Z"
   },
   {
    "duration": 5,
    "start_time": "2023-04-09T20:47:48.839Z"
   },
   {
    "duration": 17,
    "start_time": "2023-04-09T20:51:58.071Z"
   },
   {
    "duration": 43,
    "start_time": "2023-04-09T20:51:58.679Z"
   },
   {
    "duration": 21,
    "start_time": "2023-04-09T20:52:03.021Z"
   },
   {
    "duration": 15,
    "start_time": "2023-04-09T20:52:51.465Z"
   },
   {
    "duration": 25,
    "start_time": "2023-04-09T20:52:52.089Z"
   },
   {
    "duration": 14,
    "start_time": "2023-04-09T20:53:01.104Z"
   },
   {
    "duration": 1145,
    "start_time": "2023-04-10T19:17:43.390Z"
   },
   {
    "duration": 3,
    "start_time": "2023-04-10T19:17:44.536Z"
   },
   {
    "duration": 194,
    "start_time": "2023-04-10T19:17:44.541Z"
   },
   {
    "duration": 18,
    "start_time": "2023-04-10T19:17:44.737Z"
   },
   {
    "duration": 1951,
    "start_time": "2023-04-10T19:17:44.757Z"
   },
   {
    "duration": 4,
    "start_time": "2023-04-10T19:17:46.710Z"
   },
   {
    "duration": 20,
    "start_time": "2023-04-10T19:17:46.715Z"
   },
   {
    "duration": 9,
    "start_time": "2023-04-10T19:17:46.737Z"
   },
   {
    "duration": 38,
    "start_time": "2023-04-10T19:17:46.747Z"
   },
   {
    "duration": 24,
    "start_time": "2023-04-10T19:17:46.787Z"
   },
   {
    "duration": 23,
    "start_time": "2023-04-10T19:17:46.813Z"
   },
   {
    "duration": 27,
    "start_time": "2023-04-10T19:17:46.838Z"
   },
   {
    "duration": 7,
    "start_time": "2023-04-10T19:17:47.289Z"
   },
   {
    "duration": 8,
    "start_time": "2023-04-10T19:17:47.688Z"
   },
   {
    "duration": 6,
    "start_time": "2023-04-10T19:17:47.897Z"
   },
   {
    "duration": 26,
    "start_time": "2023-04-10T19:17:48.592Z"
   },
   {
    "duration": 16,
    "start_time": "2023-04-10T19:17:48.817Z"
   },
   {
    "duration": 7115,
    "start_time": "2023-04-10T19:17:49.024Z"
   },
   {
    "duration": 27,
    "start_time": "2023-04-10T19:17:56.141Z"
   },
   {
    "duration": 20,
    "start_time": "2023-04-10T19:17:56.169Z"
   },
   {
    "duration": 29,
    "start_time": "2023-04-10T19:17:56.191Z"
   },
   {
    "duration": 462108,
    "start_time": "2023-04-10T19:17:56.221Z"
   },
   {
    "duration": 90,
    "start_time": "2023-04-10T19:25:38.331Z"
   },
   {
    "duration": 11,
    "start_time": "2023-04-10T19:25:38.422Z"
   },
   {
    "duration": 32,
    "start_time": "2023-04-10T19:25:38.434Z"
   },
   {
    "duration": 14324,
    "start_time": "2023-04-10T19:25:38.467Z"
   },
   {
    "duration": 116,
    "start_time": "2023-04-10T19:25:52.797Z"
   },
   {
    "duration": 103,
    "start_time": "2023-04-10T19:25:52.984Z"
   },
   {
    "duration": 29,
    "start_time": "2023-04-10T19:25:53.088Z"
   },
   {
    "duration": 9,
    "start_time": "2023-04-10T19:25:53.119Z"
   },
   {
    "duration": 62,
    "start_time": "2023-04-10T19:25:53.130Z"
   },
   {
    "duration": 10,
    "start_time": "2023-04-10T19:25:53.194Z"
   },
   {
    "duration": 122,
    "start_time": "2023-04-10T19:25:53.205Z"
   },
   {
    "duration": 11,
    "start_time": "2023-04-10T19:25:53.329Z"
   },
   {
    "duration": 27,
    "start_time": "2023-04-10T19:25:53.342Z"
   },
   {
    "duration": 185,
    "start_time": "2023-04-10T19:25:53.371Z"
   },
   {
    "duration": 0,
    "start_time": "2023-04-10T19:25:53.559Z"
   },
   {
    "duration": 0,
    "start_time": "2023-04-10T19:25:53.560Z"
   },
   {
    "duration": 0,
    "start_time": "2023-04-10T19:25:53.561Z"
   },
   {
    "duration": 0,
    "start_time": "2023-04-10T19:25:53.562Z"
   },
   {
    "duration": 0,
    "start_time": "2023-04-10T19:25:53.564Z"
   },
   {
    "duration": 0,
    "start_time": "2023-04-10T19:25:53.565Z"
   },
   {
    "duration": 0,
    "start_time": "2023-04-10T19:25:53.567Z"
   },
   {
    "duration": 0,
    "start_time": "2023-04-10T19:25:53.569Z"
   },
   {
    "duration": 0,
    "start_time": "2023-04-10T19:25:53.570Z"
   },
   {
    "duration": 61,
    "start_time": "2023-04-10T19:28:25.411Z"
   },
   {
    "duration": 62,
    "start_time": "2023-04-10T19:28:29.350Z"
   },
   {
    "duration": 25,
    "start_time": "2023-04-10T19:30:09.183Z"
   },
   {
    "duration": 12,
    "start_time": "2023-04-10T19:30:11.415Z"
   },
   {
    "duration": 43,
    "start_time": "2023-04-10T19:30:14.161Z"
   },
   {
    "duration": 38,
    "start_time": "2023-04-10T19:30:18.567Z"
   },
   {
    "duration": 36,
    "start_time": "2023-04-10T19:30:27.248Z"
   },
   {
    "duration": 10,
    "start_time": "2023-04-10T19:30:27.503Z"
   },
   {
    "duration": 86,
    "start_time": "2023-04-10T19:30:28.336Z"
   },
   {
    "duration": 11,
    "start_time": "2023-04-10T19:30:28.616Z"
   },
   {
    "duration": 63,
    "start_time": "2023-04-10T19:30:29.320Z"
   },
   {
    "duration": 10,
    "start_time": "2023-04-10T19:30:29.776Z"
   },
   {
    "duration": 12,
    "start_time": "2023-04-10T19:30:39.480Z"
   },
   {
    "duration": 18,
    "start_time": "2023-04-10T19:30:40.104Z"
   },
   {
    "duration": 11,
    "start_time": "2023-04-10T19:30:40.759Z"
   },
   {
    "duration": 40,
    "start_time": "2023-04-10T19:30:43.288Z"
   },
   {
    "duration": 11,
    "start_time": "2023-04-10T19:30:43.600Z"
   },
   {
    "duration": 21,
    "start_time": "2023-04-10T19:30:45.836Z"
   },
   {
    "duration": 11,
    "start_time": "2023-04-10T19:30:46.143Z"
   },
   {
    "duration": 34,
    "start_time": "2023-04-10T19:32:29.129Z"
   },
   {
    "duration": 43,
    "start_time": "2023-04-10T19:32:48.985Z"
   },
   {
    "duration": 53,
    "start_time": "2023-04-10T19:33:42.610Z"
   },
   {
    "duration": 10,
    "start_time": "2023-04-10T19:33:58.650Z"
   },
   {
    "duration": 4,
    "start_time": "2023-04-10T19:34:12.195Z"
   },
   {
    "duration": 54,
    "start_time": "2023-04-10T19:34:16.514Z"
   },
   {
    "duration": 201,
    "start_time": "2023-04-10T19:34:24.665Z"
   },
   {
    "duration": 32,
    "start_time": "2023-04-10T19:37:04.668Z"
   },
   {
    "duration": 53,
    "start_time": "2023-04-10T19:37:20.996Z"
   },
   {
    "duration": 56,
    "start_time": "2023-04-10T19:37:39.883Z"
   },
   {
    "duration": 53,
    "start_time": "2023-04-10T19:37:58.196Z"
   },
   {
    "duration": 103,
    "start_time": "2023-04-10T19:39:39.716Z"
   },
   {
    "duration": 191,
    "start_time": "2023-04-10T19:41:08.997Z"
   },
   {
    "duration": 226,
    "start_time": "2023-04-10T19:41:46.663Z"
   },
   {
    "duration": 81,
    "start_time": "2023-04-10T19:41:52.638Z"
   },
   {
    "duration": 57,
    "start_time": "2023-04-10T19:41:57.558Z"
   },
   {
    "duration": 171,
    "start_time": "2023-04-10T19:43:03.375Z"
   },
   {
    "duration": 158,
    "start_time": "2023-04-10T19:43:21.440Z"
   },
   {
    "duration": 177,
    "start_time": "2023-04-10T19:45:19.317Z"
   },
   {
    "duration": 180,
    "start_time": "2023-04-10T19:45:27.410Z"
   },
   {
    "duration": 189,
    "start_time": "2023-04-10T19:45:32.752Z"
   },
   {
    "duration": 184,
    "start_time": "2023-04-10T19:46:41.329Z"
   },
   {
    "duration": 215,
    "start_time": "2023-04-10T19:46:45.057Z"
   },
   {
    "duration": 308,
    "start_time": "2023-04-10T19:47:36.826Z"
   },
   {
    "duration": 357,
    "start_time": "2023-04-10T19:48:00.841Z"
   },
   {
    "duration": 185,
    "start_time": "2023-04-10T19:54:31.806Z"
   },
   {
    "duration": 226,
    "start_time": "2023-04-10T19:54:39.565Z"
   },
   {
    "duration": 163,
    "start_time": "2023-04-10T19:54:45.765Z"
   },
   {
    "duration": 11,
    "start_time": "2023-04-10T19:55:12.165Z"
   },
   {
    "duration": 1300,
    "start_time": "2023-04-10T19:57:49.695Z"
   },
   {
    "duration": 3,
    "start_time": "2023-04-10T19:57:50.997Z"
   },
   {
    "duration": 55,
    "start_time": "2023-04-10T19:57:51.002Z"
   },
   {
    "duration": 11,
    "start_time": "2023-04-10T19:57:51.059Z"
   },
   {
    "duration": 1417,
    "start_time": "2023-04-10T19:57:51.071Z"
   },
   {
    "duration": 3,
    "start_time": "2023-04-10T19:57:52.490Z"
   },
   {
    "duration": 34,
    "start_time": "2023-04-10T19:57:52.495Z"
   },
   {
    "duration": 35,
    "start_time": "2023-04-10T19:57:52.531Z"
   },
   {
    "duration": 28,
    "start_time": "2023-04-10T19:57:52.567Z"
   },
   {
    "duration": 7,
    "start_time": "2023-04-10T19:57:52.598Z"
   },
   {
    "duration": 15,
    "start_time": "2023-04-10T19:57:52.606Z"
   },
   {
    "duration": 27,
    "start_time": "2023-04-10T19:57:52.623Z"
   },
   {
    "duration": 23,
    "start_time": "2023-04-10T19:57:52.652Z"
   },
   {
    "duration": 20,
    "start_time": "2023-04-10T19:57:52.676Z"
   },
   {
    "duration": 8,
    "start_time": "2023-04-10T19:57:52.698Z"
   },
   {
    "duration": 42,
    "start_time": "2023-04-10T19:57:52.707Z"
   },
   {
    "duration": 15,
    "start_time": "2023-04-10T19:57:52.750Z"
   },
   {
    "duration": 6932,
    "start_time": "2023-04-10T19:57:52.766Z"
   },
   {
    "duration": 27,
    "start_time": "2023-04-10T19:57:59.699Z"
   },
   {
    "duration": 13,
    "start_time": "2023-04-10T19:57:59.728Z"
   },
   {
    "duration": 75,
    "start_time": "2023-04-10T19:57:59.743Z"
   },
   {
    "duration": 460800,
    "start_time": "2023-04-10T19:57:59.823Z"
   },
   {
    "duration": 94,
    "start_time": "2023-04-10T20:05:40.624Z"
   },
   {
    "duration": 10,
    "start_time": "2023-04-10T20:05:40.720Z"
   },
   {
    "duration": 36,
    "start_time": "2023-04-10T20:05:40.731Z"
   },
   {
    "duration": 13631,
    "start_time": "2023-04-10T20:05:40.768Z"
   },
   {
    "duration": 121,
    "start_time": "2023-04-10T20:05:54.485Z"
   },
   {
    "duration": 82,
    "start_time": "2023-04-10T20:05:54.611Z"
   },
   {
    "duration": 113,
    "start_time": "2023-04-10T20:05:54.695Z"
   },
   {
    "duration": 11,
    "start_time": "2023-04-10T20:05:54.809Z"
   },
   {
    "duration": 39,
    "start_time": "2023-04-10T20:05:54.821Z"
   },
   {
    "duration": 24,
    "start_time": "2023-04-10T20:05:54.861Z"
   },
   {
    "duration": 85,
    "start_time": "2023-04-10T20:05:54.886Z"
   },
   {
    "duration": 17,
    "start_time": "2023-04-10T20:05:54.973Z"
   },
   {
    "duration": 191,
    "start_time": "2023-04-10T20:05:54.992Z"
   },
   {
    "duration": 10,
    "start_time": "2023-04-10T20:05:55.185Z"
   },
   {
    "duration": 16,
    "start_time": "2023-04-10T20:05:55.196Z"
   },
   {
    "duration": 23,
    "start_time": "2023-04-10T20:05:55.214Z"
   },
   {
    "duration": 14,
    "start_time": "2023-04-10T20:05:55.239Z"
   },
   {
    "duration": 79,
    "start_time": "2023-04-10T20:05:55.255Z"
   },
   {
    "duration": 12,
    "start_time": "2023-04-10T20:05:55.336Z"
   },
   {
    "duration": 136,
    "start_time": "2023-04-10T20:05:55.350Z"
   },
   {
    "duration": 104,
    "start_time": "2023-04-10T20:05:55.488Z"
   },
   {
    "duration": 217,
    "start_time": "2023-04-10T20:05:55.595Z"
   },
   {
    "duration": 12,
    "start_time": "2023-04-10T20:05:55.814Z"
   },
   {
    "duration": 202,
    "start_time": "2023-04-10T20:05:55.827Z"
   },
   {
    "duration": 22,
    "start_time": "2023-04-10T20:05:56.031Z"
   },
   {
    "duration": 354,
    "start_time": "2023-04-10T20:05:56.055Z"
   },
   {
    "duration": 10,
    "start_time": "2023-04-10T20:05:56.410Z"
   },
   {
    "duration": 128,
    "start_time": "2023-04-10T20:25:28.258Z"
   },
   {
    "duration": 53,
    "start_time": "2023-04-10T20:25:53.522Z"
   },
   {
    "duration": 39,
    "start_time": "2023-04-10T20:31:30.295Z"
   },
   {
    "duration": 42,
    "start_time": "2023-04-10T20:31:38.854Z"
   },
   {
    "duration": 81,
    "start_time": "2023-04-10T20:31:53.271Z"
   },
   {
    "duration": 77,
    "start_time": "2023-04-10T20:31:59.431Z"
   },
   {
    "duration": 73,
    "start_time": "2023-04-10T20:32:02.631Z"
   },
   {
    "duration": 11,
    "start_time": "2023-04-10T20:32:15.279Z"
   },
   {
    "duration": 90,
    "start_time": "2023-04-10T20:32:39.440Z"
   },
   {
    "duration": 115,
    "start_time": "2023-04-10T20:32:56.096Z"
   },
   {
    "duration": 250,
    "start_time": "2023-04-10T20:33:26.960Z"
   },
   {
    "duration": 13,
    "start_time": "2023-04-10T20:44:48.672Z"
   },
   {
    "duration": 1602,
    "start_time": "2023-04-11T06:41:55.834Z"
   },
   {
    "duration": 3,
    "start_time": "2023-04-11T06:41:57.438Z"
   },
   {
    "duration": 90,
    "start_time": "2023-04-11T06:41:57.443Z"
   },
   {
    "duration": 3,
    "start_time": "2023-04-11T06:42:02.374Z"
   },
   {
    "duration": 1310,
    "start_time": "2023-04-11T06:42:50.824Z"
   },
   {
    "duration": 1153,
    "start_time": "2023-04-11T06:43:01.292Z"
   },
   {
    "duration": 7,
    "start_time": "2023-04-11T06:43:19.472Z"
   },
   {
    "duration": 74,
    "start_time": "2023-04-11T06:44:03.786Z"
   },
   {
    "duration": 98,
    "start_time": "2023-04-11T06:44:20.922Z"
   },
   {
    "duration": 5,
    "start_time": "2023-04-11T06:44:38.649Z"
   },
   {
    "duration": 6,
    "start_time": "2023-04-11T06:45:08.289Z"
   },
   {
    "duration": 298,
    "start_time": "2023-04-11T06:46:12.643Z"
   },
   {
    "duration": 5,
    "start_time": "2023-04-11T06:47:12.844Z"
   },
   {
    "duration": 6,
    "start_time": "2023-04-11T06:47:18.994Z"
   },
   {
    "duration": 4,
    "start_time": "2023-04-11T06:51:26.788Z"
   },
   {
    "duration": 31,
    "start_time": "2023-04-11T06:51:26.959Z"
   },
   {
    "duration": 9,
    "start_time": "2023-04-11T06:53:16.933Z"
   },
   {
    "duration": 22,
    "start_time": "2023-04-11T06:53:19.686Z"
   },
   {
    "duration": 12,
    "start_time": "2023-04-11T06:53:20.972Z"
   },
   {
    "duration": 7,
    "start_time": "2023-04-11T06:57:04.976Z"
   },
   {
    "duration": 4,
    "start_time": "2023-04-11T06:57:06.911Z"
   },
   {
    "duration": 10,
    "start_time": "2023-04-11T06:57:07.274Z"
   },
   {
    "duration": 8,
    "start_time": "2023-04-11T06:57:10.720Z"
   },
   {
    "duration": 9,
    "start_time": "2023-04-11T06:57:12.751Z"
   },
   {
    "duration": 9,
    "start_time": "2023-04-11T06:57:12.943Z"
   },
   {
    "duration": 27,
    "start_time": "2023-04-11T07:14:20.680Z"
   },
   {
    "duration": 28,
    "start_time": "2023-04-11T07:14:37.416Z"
   },
   {
    "duration": 9,
    "start_time": "2023-04-11T07:16:27.721Z"
   },
   {
    "duration": 12,
    "start_time": "2023-04-11T07:16:35.912Z"
   },
   {
    "duration": 11,
    "start_time": "2023-04-11T07:16:39.336Z"
   },
   {
    "duration": 27,
    "start_time": "2023-04-11T08:31:51.072Z"
   },
   {
    "duration": 6,
    "start_time": "2023-04-11T08:32:08.766Z"
   },
   {
    "duration": 41,
    "start_time": "2023-04-11T08:32:20.613Z"
   },
   {
    "duration": 1911,
    "start_time": "2023-04-11T08:34:57.566Z"
   },
   {
    "duration": 4,
    "start_time": "2023-04-11T08:34:59.480Z"
   },
   {
    "duration": 88,
    "start_time": "2023-04-11T08:34:59.497Z"
   },
   {
    "duration": 34,
    "start_time": "2023-04-11T08:34:59.589Z"
   },
   {
    "duration": 2398,
    "start_time": "2023-04-11T08:34:59.625Z"
   },
   {
    "duration": 6,
    "start_time": "2023-04-11T08:35:02.027Z"
   },
   {
    "duration": 23,
    "start_time": "2023-04-11T08:35:02.034Z"
   },
   {
    "duration": 42,
    "start_time": "2023-04-11T08:35:02.059Z"
   },
   {
    "duration": 4,
    "start_time": "2023-04-11T08:35:02.950Z"
   },
   {
    "duration": 31,
    "start_time": "2023-04-11T08:35:03.230Z"
   },
   {
    "duration": 15,
    "start_time": "2023-04-11T08:35:03.830Z"
   },
   {
    "duration": 9,
    "start_time": "2023-04-11T08:35:04.269Z"
   },
   {
    "duration": 5,
    "start_time": "2023-04-11T08:35:06.764Z"
   },
   {
    "duration": 14,
    "start_time": "2023-04-11T08:35:07.234Z"
   },
   {
    "duration": 8,
    "start_time": "2023-04-11T08:35:08.230Z"
   },
   {
    "duration": 11,
    "start_time": "2023-04-11T08:35:08.861Z"
   },
   {
    "duration": 9,
    "start_time": "2023-04-11T08:35:09.224Z"
   },
   {
    "duration": 155,
    "start_time": "2023-04-11T08:35:13.039Z"
   },
   {
    "duration": 34,
    "start_time": "2023-04-11T08:37:03.381Z"
   },
   {
    "duration": 33,
    "start_time": "2023-04-11T08:38:48.611Z"
   },
   {
    "duration": 35,
    "start_time": "2023-04-11T08:38:53.940Z"
   },
   {
    "duration": 47,
    "start_time": "2023-04-11T08:39:23.611Z"
   },
   {
    "duration": 85,
    "start_time": "2023-04-11T08:39:35.472Z"
   },
   {
    "duration": 83,
    "start_time": "2023-04-11T08:42:21.048Z"
   },
   {
    "duration": 69,
    "start_time": "2023-04-11T08:44:24.899Z"
   },
   {
    "duration": 84,
    "start_time": "2023-04-11T08:44:53.319Z"
   },
   {
    "duration": 81,
    "start_time": "2023-04-11T08:46:15.362Z"
   },
   {
    "duration": 88,
    "start_time": "2023-04-11T08:46:21.676Z"
   },
   {
    "duration": 93,
    "start_time": "2023-04-11T08:46:45.619Z"
   },
   {
    "duration": 85,
    "start_time": "2023-04-11T08:47:16.822Z"
   },
   {
    "duration": 91,
    "start_time": "2023-04-11T08:48:54.021Z"
   },
   {
    "duration": 100,
    "start_time": "2023-04-11T08:49:18.043Z"
   },
   {
    "duration": 115,
    "start_time": "2023-04-11T08:49:47.913Z"
   },
   {
    "duration": 81,
    "start_time": "2023-04-11T08:51:44.766Z"
   },
   {
    "duration": 70,
    "start_time": "2023-04-11T08:51:48.318Z"
   },
   {
    "duration": 107,
    "start_time": "2023-04-11T08:53:37.472Z"
   },
   {
    "duration": 97,
    "start_time": "2023-04-11T08:53:44.087Z"
   },
   {
    "duration": 4,
    "start_time": "2023-04-11T08:54:42.937Z"
   },
   {
    "duration": 97,
    "start_time": "2023-04-11T08:54:47.434Z"
   },
   {
    "duration": 105,
    "start_time": "2023-04-11T08:58:39.945Z"
   },
   {
    "duration": 125,
    "start_time": "2023-04-11T09:01:05.052Z"
   },
   {
    "duration": 146,
    "start_time": "2023-04-11T09:01:24.289Z"
   },
   {
    "duration": 130,
    "start_time": "2023-04-11T09:02:01.618Z"
   },
   {
    "duration": 117,
    "start_time": "2023-04-11T09:02:08.934Z"
   },
   {
    "duration": 109,
    "start_time": "2023-04-11T09:02:15.726Z"
   },
   {
    "duration": 122,
    "start_time": "2023-04-11T09:02:20.985Z"
   },
   {
    "duration": 141,
    "start_time": "2023-04-11T09:03:11.938Z"
   },
   {
    "duration": 125,
    "start_time": "2023-04-11T09:03:42.649Z"
   },
   {
    "duration": 123,
    "start_time": "2023-04-11T09:03:49.945Z"
   },
   {
    "duration": 145,
    "start_time": "2023-04-11T09:04:02.386Z"
   },
   {
    "duration": 124,
    "start_time": "2023-04-11T09:04:28.128Z"
   },
   {
    "duration": 159,
    "start_time": "2023-04-11T09:04:50.570Z"
   },
   {
    "duration": 170,
    "start_time": "2023-04-11T09:05:06.733Z"
   },
   {
    "duration": 122,
    "start_time": "2023-04-11T09:06:03.731Z"
   },
   {
    "duration": 157,
    "start_time": "2023-04-11T09:07:21.626Z"
   },
   {
    "duration": 16,
    "start_time": "2023-04-11T09:10:47.757Z"
   },
   {
    "duration": 24,
    "start_time": "2023-04-11T09:10:58.524Z"
   },
   {
    "duration": 8094,
    "start_time": "2023-04-11T09:11:03.515Z"
   },
   {
    "duration": 8206,
    "start_time": "2023-04-11T09:19:15.420Z"
   },
   {
    "duration": 32,
    "start_time": "2023-04-11T09:21:46.242Z"
   },
   {
    "duration": 6,
    "start_time": "2023-04-11T09:21:55.217Z"
   },
   {
    "duration": 587832,
    "start_time": "2023-04-11T09:26:32.868Z"
   },
   {
    "duration": 636,
    "start_time": "2023-04-11T09:36:20.705Z"
   },
   {
    "duration": 3,
    "start_time": "2023-04-11T09:36:21.343Z"
   },
   {
    "duration": 10160,
    "start_time": "2023-04-11T09:36:21.348Z"
   },
   {
    "duration": 186,
    "start_time": "2023-04-11T09:36:31.516Z"
   },
   {
    "duration": 4,
    "start_time": "2023-04-11T10:12:00.221Z"
   },
   {
    "duration": 10,
    "start_time": "2023-04-11T10:13:26.875Z"
   },
   {
    "duration": 18,
    "start_time": "2023-04-11T10:18:26.735Z"
   },
   {
    "duration": 12,
    "start_time": "2023-04-11T10:18:32.743Z"
   },
   {
    "duration": 12,
    "start_time": "2023-04-11T10:18:54.766Z"
   },
   {
    "duration": 19,
    "start_time": "2023-04-11T10:30:17.113Z"
   },
   {
    "duration": 12,
    "start_time": "2023-04-11T10:31:24.011Z"
   },
   {
    "duration": 8,
    "start_time": "2023-04-11T10:31:38.934Z"
   },
   {
    "duration": 11,
    "start_time": "2023-04-11T10:32:58.034Z"
   },
   {
    "duration": 7,
    "start_time": "2023-04-11T10:33:03.265Z"
   },
   {
    "duration": 28,
    "start_time": "2023-04-11T10:33:26.408Z"
   },
   {
    "duration": 7645,
    "start_time": "2023-04-11T10:33:39.770Z"
   },
   {
    "duration": 29,
    "start_time": "2023-04-11T10:35:15.970Z"
   },
   {
    "duration": 19,
    "start_time": "2023-04-11T10:36:53.244Z"
   },
   {
    "duration": 28,
    "start_time": "2023-04-11T10:37:57.730Z"
   },
   {
    "duration": 10,
    "start_time": "2023-04-11T10:38:45.357Z"
   },
   {
    "duration": 3,
    "start_time": "2023-04-11T10:39:07.579Z"
   },
   {
    "duration": 1455,
    "start_time": "2023-04-11T10:49:08.809Z"
   },
   {
    "duration": 4,
    "start_time": "2023-04-11T10:49:10.266Z"
   },
   {
    "duration": 74,
    "start_time": "2023-04-11T10:49:10.273Z"
   },
   {
    "duration": 18,
    "start_time": "2023-04-11T10:49:10.349Z"
   },
   {
    "duration": 1807,
    "start_time": "2023-04-11T10:49:10.369Z"
   },
   {
    "duration": 11,
    "start_time": "2023-04-11T10:49:12.178Z"
   },
   {
    "duration": 7,
    "start_time": "2023-04-11T10:49:12.191Z"
   },
   {
    "duration": 5,
    "start_time": "2023-04-11T10:49:12.200Z"
   },
   {
    "duration": 6,
    "start_time": "2023-04-11T10:49:12.207Z"
   },
   {
    "duration": 21,
    "start_time": "2023-04-11T10:49:12.215Z"
   },
   {
    "duration": 12,
    "start_time": "2023-04-11T10:49:12.237Z"
   },
   {
    "duration": 42,
    "start_time": "2023-04-11T10:49:12.251Z"
   },
   {
    "duration": 5,
    "start_time": "2023-04-11T10:49:12.295Z"
   },
   {
    "duration": 13,
    "start_time": "2023-04-11T10:49:12.303Z"
   },
   {
    "duration": 14,
    "start_time": "2023-04-11T10:49:12.318Z"
   },
   {
    "duration": 8,
    "start_time": "2023-04-11T10:49:12.666Z"
   },
   {
    "duration": 8,
    "start_time": "2023-04-11T10:49:12.882Z"
   },
   {
    "duration": 131,
    "start_time": "2023-04-11T10:49:13.377Z"
   },
   {
    "duration": 7243,
    "start_time": "2023-04-11T10:49:14.619Z"
   },
   {
    "duration": 42,
    "start_time": "2023-04-11T10:49:21.864Z"
   },
   {
    "duration": 4,
    "start_time": "2023-04-11T10:49:21.908Z"
   },
   {
    "duration": 14766,
    "start_time": "2023-04-11T10:49:28.643Z"
   },
   {
    "duration": 4,
    "start_time": "2023-04-11T10:49:47.243Z"
   },
   {
    "duration": 3,
    "start_time": "2023-04-11T10:49:47.513Z"
   },
   {
    "duration": 42,
    "start_time": "2023-04-11T10:49:47.907Z"
   },
   {
    "duration": 16,
    "start_time": "2023-04-11T10:49:48.434Z"
   },
   {
    "duration": 1563,
    "start_time": "2023-04-11T10:49:48.699Z"
   },
   {
    "duration": 5,
    "start_time": "2023-04-11T10:49:50.264Z"
   },
   {
    "duration": 26,
    "start_time": "2023-04-11T10:49:50.271Z"
   },
   {
    "duration": 6,
    "start_time": "2023-04-11T10:49:50.301Z"
   },
   {
    "duration": 4,
    "start_time": "2023-04-11T10:49:50.713Z"
   },
   {
    "duration": 20,
    "start_time": "2023-04-11T10:49:50.922Z"
   },
   {
    "duration": 11,
    "start_time": "2023-04-11T10:49:51.145Z"
   },
   {
    "duration": 7,
    "start_time": "2023-04-11T10:49:51.443Z"
   },
   {
    "duration": 5,
    "start_time": "2023-04-11T10:49:52.403Z"
   },
   {
    "duration": 10,
    "start_time": "2023-04-11T10:49:52.650Z"
   },
   {
    "duration": 11,
    "start_time": "2023-04-11T10:49:53.186Z"
   },
   {
    "duration": 8,
    "start_time": "2023-04-11T10:49:53.658Z"
   },
   {
    "duration": 7,
    "start_time": "2023-04-11T10:49:53.882Z"
   },
   {
    "duration": 119,
    "start_time": "2023-04-11T10:49:54.315Z"
   },
   {
    "duration": 7747,
    "start_time": "2023-04-11T10:49:56.242Z"
   },
   {
    "duration": 36,
    "start_time": "2023-04-11T10:50:03.992Z"
   },
   {
    "duration": 3,
    "start_time": "2023-04-11T10:50:04.030Z"
   },
   {
    "duration": 546577,
    "start_time": "2023-04-11T10:50:04.035Z"
   },
   {
    "duration": 809,
    "start_time": "2023-04-11T10:59:10.614Z"
   },
   {
    "duration": 4,
    "start_time": "2023-04-11T10:59:11.428Z"
   },
   {
    "duration": 12996,
    "start_time": "2023-04-11T10:59:11.437Z"
   },
   {
    "duration": 228,
    "start_time": "2023-04-11T10:59:24.513Z"
   },
   {
    "duration": 0,
    "start_time": "2023-04-11T10:59:24.743Z"
   },
   {
    "duration": 0,
    "start_time": "2023-04-11T10:59:24.745Z"
   },
   {
    "duration": 0,
    "start_time": "2023-04-11T10:59:24.746Z"
   },
   {
    "duration": 0,
    "start_time": "2023-04-11T10:59:24.748Z"
   },
   {
    "duration": 0,
    "start_time": "2023-04-11T10:59:24.749Z"
   },
   {
    "duration": 0,
    "start_time": "2023-04-11T10:59:24.751Z"
   },
   {
    "duration": 0,
    "start_time": "2023-04-11T10:59:24.752Z"
   },
   {
    "duration": 0,
    "start_time": "2023-04-11T10:59:24.753Z"
   },
   {
    "duration": 0,
    "start_time": "2023-04-11T10:59:24.755Z"
   },
   {
    "duration": 0,
    "start_time": "2023-04-11T10:59:24.756Z"
   },
   {
    "duration": 0,
    "start_time": "2023-04-11T10:59:24.757Z"
   },
   {
    "duration": 0,
    "start_time": "2023-04-11T10:59:24.759Z"
   },
   {
    "duration": 0,
    "start_time": "2023-04-11T10:59:24.800Z"
   },
   {
    "duration": 25,
    "start_time": "2023-04-11T11:01:09.154Z"
   },
   {
    "duration": 3,
    "start_time": "2023-04-11T11:01:13.354Z"
   },
   {
    "duration": 9,
    "start_time": "2023-04-11T11:01:14.442Z"
   },
   {
    "duration": 10046,
    "start_time": "2023-04-11T11:01:32.946Z"
   },
   {
    "duration": 14393,
    "start_time": "2023-04-11T11:02:17.739Z"
   },
   {
    "duration": 14076,
    "start_time": "2023-04-11T11:02:45.116Z"
   },
   {
    "duration": 34,
    "start_time": "2023-04-11T11:03:11.588Z"
   },
   {
    "duration": 11,
    "start_time": "2023-04-11T11:03:35.667Z"
   },
   {
    "duration": 11,
    "start_time": "2023-04-11T11:03:47.452Z"
   },
   {
    "duration": 14,
    "start_time": "2023-04-11T11:03:52.718Z"
   },
   {
    "duration": 14,
    "start_time": "2023-04-11T11:03:53.683Z"
   },
   {
    "duration": 8152,
    "start_time": "2023-04-11T11:03:57.284Z"
   },
   {
    "duration": 7973,
    "start_time": "2023-04-11T11:06:02.829Z"
   },
   {
    "duration": 9,
    "start_time": "2023-04-11T11:06:42.302Z"
   },
   {
    "duration": 90,
    "start_time": "2023-04-11T11:07:52.487Z"
   },
   {
    "duration": 522626,
    "start_time": "2023-04-11T11:07:57.558Z"
   },
   {
    "duration": 0,
    "start_time": "2023-04-11T11:16:40.186Z"
   },
   {
    "duration": 547482,
    "start_time": "2023-04-11T11:17:09.250Z"
   },
   {
    "duration": 11,
    "start_time": "2023-04-11T11:26:16.734Z"
   },
   {
    "duration": 0,
    "start_time": "2023-04-11T11:26:16.749Z"
   },
   {
    "duration": 15,
    "start_time": "2023-04-11T11:28:31.662Z"
   },
   {
    "duration": 65,
    "start_time": "2023-04-11T11:28:52.732Z"
   },
   {
    "duration": 12306,
    "start_time": "2023-04-11T11:29:06.825Z"
   },
   {
    "duration": 79,
    "start_time": "2023-04-11T11:29:19.142Z"
   },
   {
    "duration": 12,
    "start_time": "2023-04-11T11:30:40.870Z"
   },
   {
    "duration": 17,
    "start_time": "2023-04-11T11:31:32.421Z"
   },
   {
    "duration": 7,
    "start_time": "2023-04-11T11:31:33.150Z"
   },
   {
    "duration": 3808,
    "start_time": "2023-04-11T11:32:11.924Z"
   },
   {
    "duration": 11,
    "start_time": "2023-04-11T11:32:49.216Z"
   },
   {
    "duration": 3564,
    "start_time": "2023-04-11T11:33:05.461Z"
   },
   {
    "duration": 4,
    "start_time": "2023-04-11T11:33:09.028Z"
   },
   {
    "duration": 255802,
    "start_time": "2023-04-11T11:34:41.343Z"
   },
   {
    "duration": 14,
    "start_time": "2023-04-11T11:38:57.148Z"
   },
   {
    "duration": 0,
    "start_time": "2023-04-11T11:38:57.164Z"
   },
   {
    "duration": 1,
    "start_time": "2023-04-11T11:38:57.165Z"
   },
   {
    "duration": 6,
    "start_time": "2023-04-11T11:39:27.035Z"
   },
   {
    "duration": 6658,
    "start_time": "2023-04-11T11:39:39.938Z"
   },
   {
    "duration": 46,
    "start_time": "2023-04-11T11:39:46.598Z"
   },
   {
    "duration": 4,
    "start_time": "2023-04-11T11:39:51.539Z"
   },
   {
    "duration": 14,
    "start_time": "2023-04-11T11:41:28.348Z"
   },
   {
    "duration": 14,
    "start_time": "2023-04-11T11:43:59.415Z"
   },
   {
    "duration": 17,
    "start_time": "2023-04-11T11:44:04.015Z"
   },
   {
    "duration": 3,
    "start_time": "2023-04-11T11:44:12.581Z"
   },
   {
    "duration": 23,
    "start_time": "2023-04-11T11:44:29.115Z"
   },
   {
    "duration": 38,
    "start_time": "2023-04-11T11:51:47.946Z"
   },
   {
    "duration": 17,
    "start_time": "2023-04-11T11:53:29.713Z"
   },
   {
    "duration": 24,
    "start_time": "2023-04-11T11:53:32.026Z"
   },
   {
    "duration": 56,
    "start_time": "2023-04-11T11:53:37.954Z"
   },
   {
    "duration": 3,
    "start_time": "2023-04-11T11:53:40.475Z"
   },
   {
    "duration": 44,
    "start_time": "2023-04-11T11:54:17.412Z"
   },
   {
    "duration": 35,
    "start_time": "2023-04-11T11:54:34.652Z"
   },
   {
    "duration": 98,
    "start_time": "2023-04-11T11:54:42.450Z"
   },
   {
    "duration": 3,
    "start_time": "2023-04-11T11:55:07.195Z"
   },
   {
    "duration": 155,
    "start_time": "2023-04-11T11:55:17.651Z"
   },
   {
    "duration": 293,
    "start_time": "2023-04-11T11:56:08.577Z"
   },
   {
    "duration": 10,
    "start_time": "2023-04-11T11:56:38.276Z"
   },
   {
    "duration": 273,
    "start_time": "2023-04-11T11:58:45.811Z"
   },
   {
    "duration": 11,
    "start_time": "2023-04-11T11:58:46.259Z"
   },
   {
    "duration": 13,
    "start_time": "2023-04-11T12:01:08.110Z"
   },
   {
    "duration": 77,
    "start_time": "2023-04-11T12:13:51.709Z"
   },
   {
    "duration": 42,
    "start_time": "2023-04-11T12:13:56.052Z"
   },
   {
    "duration": 40,
    "start_time": "2023-04-11T12:14:11.114Z"
   },
   {
    "duration": 29,
    "start_time": "2023-04-11T12:14:24.811Z"
   },
   {
    "duration": 89,
    "start_time": "2023-04-11T12:16:54.367Z"
   },
   {
    "duration": 64,
    "start_time": "2023-04-11T12:17:12.334Z"
   },
   {
    "duration": 63,
    "start_time": "2023-04-11T12:17:38.141Z"
   },
   {
    "duration": 52,
    "start_time": "2023-04-11T12:18:31.138Z"
   },
   {
    "duration": 32,
    "start_time": "2023-04-11T12:18:56.408Z"
   },
   {
    "duration": 0,
    "start_time": "2023-04-11T12:20:30.437Z"
   },
   {
    "duration": 46,
    "start_time": "2023-04-11T12:20:36.847Z"
   },
   {
    "duration": 40,
    "start_time": "2023-04-11T12:22:39.243Z"
   },
   {
    "duration": 39,
    "start_time": "2023-04-11T12:23:01.311Z"
   },
   {
    "duration": 30,
    "start_time": "2023-04-11T12:23:32.138Z"
   },
   {
    "duration": 34,
    "start_time": "2023-04-11T12:25:48.939Z"
   },
   {
    "duration": 34,
    "start_time": "2023-04-11T12:25:57.762Z"
   },
   {
    "duration": 58,
    "start_time": "2023-04-11T12:26:26.515Z"
   },
   {
    "duration": 43,
    "start_time": "2023-04-11T12:26:55.926Z"
   },
   {
    "duration": 43,
    "start_time": "2023-04-11T12:27:06.331Z"
   },
   {
    "duration": 44,
    "start_time": "2023-04-11T12:27:23.925Z"
   },
   {
    "duration": 14,
    "start_time": "2023-04-11T12:27:40.626Z"
   },
   {
    "duration": 11,
    "start_time": "2023-04-11T12:27:41.396Z"
   },
   {
    "duration": 40,
    "start_time": "2023-04-11T12:27:56.740Z"
   },
   {
    "duration": 1676,
    "start_time": "2023-04-11T12:34:49.056Z"
   },
   {
    "duration": 4,
    "start_time": "2023-04-11T12:34:50.734Z"
   },
   {
    "duration": 59,
    "start_time": "2023-04-11T12:34:50.739Z"
   },
   {
    "duration": 16,
    "start_time": "2023-04-11T12:34:50.803Z"
   },
   {
    "duration": 1922,
    "start_time": "2023-04-11T12:34:50.821Z"
   },
   {
    "duration": 6,
    "start_time": "2023-04-11T12:34:52.745Z"
   },
   {
    "duration": 20,
    "start_time": "2023-04-11T12:34:52.753Z"
   },
   {
    "duration": 30,
    "start_time": "2023-04-11T12:34:52.775Z"
   },
   {
    "duration": 10,
    "start_time": "2023-04-11T12:34:52.810Z"
   },
   {
    "duration": 21,
    "start_time": "2023-04-11T12:34:52.825Z"
   },
   {
    "duration": 13,
    "start_time": "2023-04-11T12:34:52.847Z"
   },
   {
    "duration": 7,
    "start_time": "2023-04-11T12:34:52.861Z"
   },
   {
    "duration": 14,
    "start_time": "2023-04-11T12:34:52.870Z"
   },
   {
    "duration": 17,
    "start_time": "2023-04-11T12:34:52.885Z"
   },
   {
    "duration": 11,
    "start_time": "2023-04-11T12:34:52.904Z"
   },
   {
    "duration": 8,
    "start_time": "2023-04-11T12:34:52.917Z"
   },
   {
    "duration": 14,
    "start_time": "2023-04-11T12:34:52.927Z"
   },
   {
    "duration": 207,
    "start_time": "2023-04-11T12:34:52.943Z"
   },
   {
    "duration": 7892,
    "start_time": "2023-04-11T12:34:53.153Z"
   },
   {
    "duration": 36,
    "start_time": "2023-04-11T12:35:01.048Z"
   },
   {
    "duration": 5,
    "start_time": "2023-04-11T12:35:01.089Z"
   },
   {
    "duration": 519425,
    "start_time": "2023-04-11T12:35:01.095Z"
   },
   {
    "duration": 109,
    "start_time": "2023-04-11T12:43:40.522Z"
   },
   {
    "duration": 3,
    "start_time": "2023-04-11T12:43:40.633Z"
   },
   {
    "duration": 6056,
    "start_time": "2023-04-11T12:43:40.638Z"
   },
   {
    "duration": 101,
    "start_time": "2023-04-11T12:43:46.704Z"
   },
   {
    "duration": 11,
    "start_time": "2023-04-11T12:43:46.807Z"
   },
   {
    "duration": 7,
    "start_time": "2023-04-11T12:43:46.822Z"
   },
   {
    "duration": 7435,
    "start_time": "2023-04-11T12:43:46.831Z"
   },
   {
    "duration": 3,
    "start_time": "2023-04-11T12:43:54.267Z"
   },
   {
    "duration": 475288,
    "start_time": "2023-04-11T12:43:54.272Z"
   },
   {
    "duration": 3,
    "start_time": "2023-04-11T12:51:49.563Z"
   },
   {
    "duration": 5630,
    "start_time": "2023-04-11T12:51:49.568Z"
   },
   {
    "duration": 95,
    "start_time": "2023-04-11T12:51:55.211Z"
   },
   {
    "duration": 15,
    "start_time": "2023-04-11T12:51:55.313Z"
   },
   {
    "duration": 7,
    "start_time": "2023-04-11T12:51:55.330Z"
   },
   {
    "duration": 3150,
    "start_time": "2023-04-11T12:51:55.339Z"
   },
   {
    "duration": 11,
    "start_time": "2023-04-11T12:51:58.491Z"
   },
   {
    "duration": 232794,
    "start_time": "2023-04-11T12:51:58.504Z"
   },
   {
    "duration": 3,
    "start_time": "2023-04-11T12:55:51.300Z"
   },
   {
    "duration": 2685,
    "start_time": "2023-04-11T12:55:51.305Z"
   },
   {
    "duration": 88,
    "start_time": "2023-04-11T12:55:54.003Z"
   },
   {
    "duration": 55,
    "start_time": "2023-04-11T12:55:54.098Z"
   },
   {
    "duration": 2,
    "start_time": "2023-04-11T12:55:54.155Z"
   },
   {
    "duration": 170,
    "start_time": "2023-04-11T12:55:54.159Z"
   },
   {
    "duration": 3,
    "start_time": "2023-04-11T12:55:54.331Z"
   },
   {
    "duration": 246,
    "start_time": "2023-04-11T12:55:54.336Z"
   },
   {
    "duration": 18,
    "start_time": "2023-04-11T12:55:54.592Z"
   },
   {
    "duration": 34,
    "start_time": "2023-04-11T12:55:54.612Z"
   },
   {
    "duration": 818,
    "start_time": "2023-04-11T13:00:33.735Z"
   },
   {
    "duration": 12,
    "start_time": "2023-04-11T13:00:56.641Z"
   },
   {
    "duration": 639,
    "start_time": "2023-04-11T13:01:02.707Z"
   },
   {
    "duration": 705,
    "start_time": "2023-04-11T13:01:23.747Z"
   },
   {
    "duration": 680,
    "start_time": "2023-04-11T13:01:27.947Z"
   },
   {
    "duration": 697,
    "start_time": "2023-04-11T13:01:39.834Z"
   },
   {
    "duration": 612,
    "start_time": "2023-04-11T13:02:06.019Z"
   },
   {
    "duration": 641,
    "start_time": "2023-04-11T13:02:38.808Z"
   },
   {
    "duration": 12,
    "start_time": "2023-04-11T13:02:50.757Z"
   },
   {
    "duration": 9,
    "start_time": "2023-04-11T13:02:51.187Z"
   },
   {
    "duration": 11,
    "start_time": "2023-04-11T13:02:56.524Z"
   },
   {
    "duration": 7,
    "start_time": "2023-04-11T13:02:57.044Z"
   },
   {
    "duration": 612,
    "start_time": "2023-04-11T13:03:03.214Z"
   },
   {
    "duration": 11,
    "start_time": "2023-04-11T13:03:16.861Z"
   },
   {
    "duration": 7,
    "start_time": "2023-04-11T13:03:17.348Z"
   },
   {
    "duration": 635,
    "start_time": "2023-04-11T13:03:21.724Z"
   },
   {
    "duration": 636,
    "start_time": "2023-04-11T13:03:42.114Z"
   },
   {
    "duration": 12,
    "start_time": "2023-04-11T13:03:53.314Z"
   },
   {
    "duration": 10,
    "start_time": "2023-04-11T13:03:54.086Z"
   },
   {
    "duration": 645,
    "start_time": "2023-04-11T13:03:57.702Z"
   },
   {
    "duration": 1446,
    "start_time": "2023-04-12T04:03:36.382Z"
   },
   {
    "duration": 3,
    "start_time": "2023-04-12T04:03:37.830Z"
   },
   {
    "duration": 55,
    "start_time": "2023-04-12T04:03:37.834Z"
   },
   {
    "duration": 11,
    "start_time": "2023-04-12T04:03:37.890Z"
   },
   {
    "duration": 1341,
    "start_time": "2023-04-12T04:03:37.904Z"
   },
   {
    "duration": 4,
    "start_time": "2023-04-12T04:03:39.246Z"
   },
   {
    "duration": 11,
    "start_time": "2023-04-12T04:03:39.251Z"
   },
   {
    "duration": 4,
    "start_time": "2023-04-12T04:03:39.263Z"
   },
   {
    "duration": 8,
    "start_time": "2023-04-12T04:03:39.269Z"
   },
   {
    "duration": 20,
    "start_time": "2023-04-12T04:03:39.279Z"
   },
   {
    "duration": 27,
    "start_time": "2023-04-12T04:03:39.307Z"
   },
   {
    "duration": 6,
    "start_time": "2023-04-12T04:03:39.336Z"
   },
   {
    "duration": 4,
    "start_time": "2023-04-12T04:03:39.343Z"
   },
   {
    "duration": 9,
    "start_time": "2023-04-12T04:03:39.349Z"
   },
   {
    "duration": 7,
    "start_time": "2023-04-12T04:03:39.360Z"
   },
   {
    "duration": 6,
    "start_time": "2023-04-12T04:03:39.368Z"
   },
   {
    "duration": 9,
    "start_time": "2023-04-12T04:03:39.376Z"
   },
   {
    "duration": 128,
    "start_time": "2023-04-12T04:03:39.387Z"
   },
   {
    "duration": 11,
    "start_time": "2023-04-12T04:03:49.161Z"
   },
   {
    "duration": 9065,
    "start_time": "2023-04-12T04:04:23.500Z"
   },
   {
    "duration": 125,
    "start_time": "2023-04-12T04:04:32.566Z"
   },
   {
    "duration": 398016,
    "start_time": "2023-04-12T04:05:30.355Z"
   },
   {
    "duration": 0,
    "start_time": "2023-04-12T04:12:08.372Z"
   },
   {
    "duration": 740,
    "start_time": "2023-04-12T04:12:12.766Z"
   },
   {
    "duration": 753,
    "start_time": "2023-04-12T04:13:03.553Z"
   },
   {
    "duration": 788,
    "start_time": "2023-04-12T04:13:47.750Z"
   },
   {
    "duration": 1535,
    "start_time": "2023-04-12T04:25:55.503Z"
   },
   {
    "duration": 3,
    "start_time": "2023-04-12T04:25:57.040Z"
   },
   {
    "duration": 66,
    "start_time": "2023-04-12T04:25:57.044Z"
   },
   {
    "duration": 11,
    "start_time": "2023-04-12T04:25:57.113Z"
   },
   {
    "duration": 1516,
    "start_time": "2023-04-12T04:25:57.126Z"
   },
   {
    "duration": 4,
    "start_time": "2023-04-12T04:25:58.644Z"
   },
   {
    "duration": 12,
    "start_time": "2023-04-12T04:25:58.650Z"
   },
   {
    "duration": 6,
    "start_time": "2023-04-12T04:25:58.663Z"
   },
   {
    "duration": 9,
    "start_time": "2023-04-12T04:25:58.671Z"
   },
   {
    "duration": 25,
    "start_time": "2023-04-12T04:25:58.682Z"
   },
   {
    "duration": 28,
    "start_time": "2023-04-12T04:25:58.708Z"
   },
   {
    "duration": 8,
    "start_time": "2023-04-12T04:25:58.738Z"
   },
   {
    "duration": 8,
    "start_time": "2023-04-12T04:25:58.747Z"
   },
   {
    "duration": 18,
    "start_time": "2023-04-12T04:25:58.757Z"
   },
   {
    "duration": 8,
    "start_time": "2023-04-12T04:25:58.776Z"
   },
   {
    "duration": 15,
    "start_time": "2023-04-12T04:25:58.786Z"
   },
   {
    "duration": 17,
    "start_time": "2023-04-12T04:25:58.802Z"
   },
   {
    "duration": 124,
    "start_time": "2023-04-12T04:25:58.821Z"
   },
   {
    "duration": 6545,
    "start_time": "2023-04-12T04:25:58.946Z"
   },
   {
    "duration": 21,
    "start_time": "2023-04-12T04:26:05.492Z"
   },
   {
    "duration": 6,
    "start_time": "2023-04-12T04:26:05.514Z"
   },
   {
    "duration": 439007,
    "start_time": "2023-04-12T04:26:05.521Z"
   },
   {
    "duration": 72,
    "start_time": "2023-04-12T04:33:24.547Z"
   },
   {
    "duration": 3,
    "start_time": "2023-04-12T04:33:24.620Z"
   },
   {
    "duration": 10724,
    "start_time": "2023-04-12T04:33:24.625Z"
   },
   {
    "duration": 19,
    "start_time": "2023-04-12T04:33:35.435Z"
   },
   {
    "duration": 110,
    "start_time": "2023-04-12T04:33:35.456Z"
   },
   {
    "duration": 8786,
    "start_time": "2023-04-12T04:33:35.569Z"
   },
   {
    "duration": 3,
    "start_time": "2023-04-12T04:33:44.356Z"
   },
   {
    "duration": 597464,
    "start_time": "2023-04-12T04:33:44.360Z"
   },
   {
    "duration": 11,
    "start_time": "2023-04-12T04:43:41.826Z"
   },
   {
    "duration": 11414,
    "start_time": "2023-04-12T04:43:41.842Z"
   },
   {
    "duration": 100,
    "start_time": "2023-04-12T04:43:53.342Z"
   },
   {
    "duration": 11,
    "start_time": "2023-04-12T04:43:53.444Z"
   },
   {
    "duration": 3948,
    "start_time": "2023-04-12T04:43:53.457Z"
   },
   {
    "duration": 2,
    "start_time": "2023-04-12T04:43:57.407Z"
   },
   {
    "duration": 258698,
    "start_time": "2023-04-12T04:43:57.411Z"
   },
   {
    "duration": 2,
    "start_time": "2023-04-12T04:48:16.111Z"
   },
   {
    "duration": 6522,
    "start_time": "2023-04-12T04:48:16.115Z"
   },
   {
    "duration": 9,
    "start_time": "2023-04-12T04:48:22.734Z"
   },
   {
    "duration": 44,
    "start_time": "2023-04-12T04:48:22.745Z"
   },
   {
    "duration": 3,
    "start_time": "2023-04-12T04:48:22.790Z"
   },
   {
    "duration": 160,
    "start_time": "2023-04-12T04:48:22.794Z"
   },
   {
    "duration": 3,
    "start_time": "2023-04-12T04:48:22.955Z"
   },
   {
    "duration": 298,
    "start_time": "2023-04-12T04:48:22.960Z"
   },
   {
    "duration": 9,
    "start_time": "2023-04-12T04:48:23.260Z"
   },
   {
    "duration": 744,
    "start_time": "2023-04-12T04:48:23.270Z"
   }
  ],
  "kernelspec": {
   "display_name": "Python 3 (ipykernel)",
   "language": "python",
   "name": "python3"
  },
  "language_info": {
   "codemirror_mode": {
    "name": "ipython",
    "version": 3
   },
   "file_extension": ".py",
   "mimetype": "text/x-python",
   "name": "python",
   "nbconvert_exporter": "python",
   "pygments_lexer": "ipython3",
   "version": "3.9.5"
  },
  "toc": {
   "base_numbering": 1,
   "nav_menu": {},
   "number_sections": true,
   "sideBar": true,
   "skip_h1_title": true,
   "title_cell": "Содержание",
   "title_sidebar": "Contents",
   "toc_cell": true,
   "toc_position": {
    "height": "calc(100% - 180px)",
    "left": "10px",
    "top": "150px",
    "width": "165px"
   },
   "toc_section_display": true,
   "toc_window_display": true
  }
 },
 "nbformat": 4,
 "nbformat_minor": 2
}
