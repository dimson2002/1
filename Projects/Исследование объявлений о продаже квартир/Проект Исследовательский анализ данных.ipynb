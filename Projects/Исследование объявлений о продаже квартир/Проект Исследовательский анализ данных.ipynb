{
 "cells": [
  {
   "cell_type": "markdown",
   "metadata": {},
   "source": [
    "# Исследование объявлений о продаже квартир\n",
    "\n",
    "В вашем распоряжении данные сервиса Яндекс.Недвижимость — архив объявлений о продаже квартир в Санкт-Петербурге и соседних населённых пунктов за несколько лет. Нужно научиться определять рыночную стоимость объектов недвижимости. Ваша задача — установить параметры. Это позволит построить автоматизированную систему: она отследит аномалии и мошенническую деятельность. \n",
    "\n",
    "По каждой квартире на продажу доступны два вида данных. Первые вписаны пользователем, вторые — получены автоматически на основе картографических данных. Например, расстояние до центра, аэропорта, ближайшего парка и водоёма. "
   ]
  },
  {
   "cell_type": "markdown",
   "metadata": {},
   "source": [
    "### Откройте файл с данными и изучите общую информацию. "
   ]
  },
  {
   "cell_type": "code",
   "execution_count": 1,
   "metadata": {},
   "outputs": [],
   "source": [
    "import matplotlib.pyplot as plt \n",
    "import pandas as pd"
   ]
  },
  {
   "cell_type": "code",
   "execution_count": 2,
   "metadata": {},
   "outputs": [],
   "source": [
    "data = pd.read_csv('/datasets/real_estate_data.csv', sep='\\t')"
   ]
  },
  {
   "cell_type": "markdown",
   "metadata": {},
   "source": [
    "Знаю, что можно написать через try..except, но пока не делаю проекты локально."
   ]
  },
  {
   "cell_type": "code",
   "execution_count": 3,
   "metadata": {
    "scrolled": false
   },
   "outputs": [
    {
     "data": {
      "text/html": [
       "<div>\n",
       "<style scoped>\n",
       "    .dataframe tbody tr th:only-of-type {\n",
       "        vertical-align: middle;\n",
       "    }\n",
       "\n",
       "    .dataframe tbody tr th {\n",
       "        vertical-align: top;\n",
       "    }\n",
       "\n",
       "    .dataframe thead th {\n",
       "        text-align: right;\n",
       "    }\n",
       "</style>\n",
       "<table border=\"1\" class=\"dataframe\">\n",
       "  <thead>\n",
       "    <tr style=\"text-align: right;\">\n",
       "      <th></th>\n",
       "      <th>total_images</th>\n",
       "      <th>last_price</th>\n",
       "      <th>total_area</th>\n",
       "      <th>first_day_exposition</th>\n",
       "      <th>rooms</th>\n",
       "      <th>ceiling_height</th>\n",
       "      <th>floors_total</th>\n",
       "      <th>living_area</th>\n",
       "      <th>floor</th>\n",
       "      <th>is_apartment</th>\n",
       "      <th>...</th>\n",
       "      <th>kitchen_area</th>\n",
       "      <th>balcony</th>\n",
       "      <th>locality_name</th>\n",
       "      <th>airports_nearest</th>\n",
       "      <th>cityCenters_nearest</th>\n",
       "      <th>parks_around3000</th>\n",
       "      <th>parks_nearest</th>\n",
       "      <th>ponds_around3000</th>\n",
       "      <th>ponds_nearest</th>\n",
       "      <th>days_exposition</th>\n",
       "    </tr>\n",
       "  </thead>\n",
       "  <tbody>\n",
       "    <tr>\n",
       "      <th>0</th>\n",
       "      <td>20</td>\n",
       "      <td>13000000.0</td>\n",
       "      <td>108.00</td>\n",
       "      <td>2019-03-07T00:00:00</td>\n",
       "      <td>3</td>\n",
       "      <td>2.70</td>\n",
       "      <td>16.0</td>\n",
       "      <td>51.00</td>\n",
       "      <td>8</td>\n",
       "      <td>NaN</td>\n",
       "      <td>...</td>\n",
       "      <td>25.00</td>\n",
       "      <td>NaN</td>\n",
       "      <td>Санкт-Петербург</td>\n",
       "      <td>18863.0</td>\n",
       "      <td>16028.0</td>\n",
       "      <td>1.0</td>\n",
       "      <td>482.0</td>\n",
       "      <td>2.0</td>\n",
       "      <td>755.0</td>\n",
       "      <td>NaN</td>\n",
       "    </tr>\n",
       "    <tr>\n",
       "      <th>1</th>\n",
       "      <td>7</td>\n",
       "      <td>3350000.0</td>\n",
       "      <td>40.40</td>\n",
       "      <td>2018-12-04T00:00:00</td>\n",
       "      <td>1</td>\n",
       "      <td>NaN</td>\n",
       "      <td>11.0</td>\n",
       "      <td>18.60</td>\n",
       "      <td>1</td>\n",
       "      <td>NaN</td>\n",
       "      <td>...</td>\n",
       "      <td>11.00</td>\n",
       "      <td>2.0</td>\n",
       "      <td>посёлок Шушары</td>\n",
       "      <td>12817.0</td>\n",
       "      <td>18603.0</td>\n",
       "      <td>0.0</td>\n",
       "      <td>NaN</td>\n",
       "      <td>0.0</td>\n",
       "      <td>NaN</td>\n",
       "      <td>81.0</td>\n",
       "    </tr>\n",
       "    <tr>\n",
       "      <th>2</th>\n",
       "      <td>10</td>\n",
       "      <td>5196000.0</td>\n",
       "      <td>56.00</td>\n",
       "      <td>2015-08-20T00:00:00</td>\n",
       "      <td>2</td>\n",
       "      <td>NaN</td>\n",
       "      <td>5.0</td>\n",
       "      <td>34.30</td>\n",
       "      <td>4</td>\n",
       "      <td>NaN</td>\n",
       "      <td>...</td>\n",
       "      <td>8.30</td>\n",
       "      <td>0.0</td>\n",
       "      <td>Санкт-Петербург</td>\n",
       "      <td>21741.0</td>\n",
       "      <td>13933.0</td>\n",
       "      <td>1.0</td>\n",
       "      <td>90.0</td>\n",
       "      <td>2.0</td>\n",
       "      <td>574.0</td>\n",
       "      <td>558.0</td>\n",
       "    </tr>\n",
       "    <tr>\n",
       "      <th>3</th>\n",
       "      <td>0</td>\n",
       "      <td>64900000.0</td>\n",
       "      <td>159.00</td>\n",
       "      <td>2015-07-24T00:00:00</td>\n",
       "      <td>3</td>\n",
       "      <td>NaN</td>\n",
       "      <td>14.0</td>\n",
       "      <td>NaN</td>\n",
       "      <td>9</td>\n",
       "      <td>NaN</td>\n",
       "      <td>...</td>\n",
       "      <td>NaN</td>\n",
       "      <td>0.0</td>\n",
       "      <td>Санкт-Петербург</td>\n",
       "      <td>28098.0</td>\n",
       "      <td>6800.0</td>\n",
       "      <td>2.0</td>\n",
       "      <td>84.0</td>\n",
       "      <td>3.0</td>\n",
       "      <td>234.0</td>\n",
       "      <td>424.0</td>\n",
       "    </tr>\n",
       "    <tr>\n",
       "      <th>4</th>\n",
       "      <td>2</td>\n",
       "      <td>10000000.0</td>\n",
       "      <td>100.00</td>\n",
       "      <td>2018-06-19T00:00:00</td>\n",
       "      <td>2</td>\n",
       "      <td>3.03</td>\n",
       "      <td>14.0</td>\n",
       "      <td>32.00</td>\n",
       "      <td>13</td>\n",
       "      <td>NaN</td>\n",
       "      <td>...</td>\n",
       "      <td>41.00</td>\n",
       "      <td>NaN</td>\n",
       "      <td>Санкт-Петербург</td>\n",
       "      <td>31856.0</td>\n",
       "      <td>8098.0</td>\n",
       "      <td>2.0</td>\n",
       "      <td>112.0</td>\n",
       "      <td>1.0</td>\n",
       "      <td>48.0</td>\n",
       "      <td>121.0</td>\n",
       "    </tr>\n",
       "    <tr>\n",
       "      <th>5</th>\n",
       "      <td>10</td>\n",
       "      <td>2890000.0</td>\n",
       "      <td>30.40</td>\n",
       "      <td>2018-09-10T00:00:00</td>\n",
       "      <td>1</td>\n",
       "      <td>NaN</td>\n",
       "      <td>12.0</td>\n",
       "      <td>14.40</td>\n",
       "      <td>5</td>\n",
       "      <td>NaN</td>\n",
       "      <td>...</td>\n",
       "      <td>9.10</td>\n",
       "      <td>NaN</td>\n",
       "      <td>городской посёлок Янино-1</td>\n",
       "      <td>NaN</td>\n",
       "      <td>NaN</td>\n",
       "      <td>NaN</td>\n",
       "      <td>NaN</td>\n",
       "      <td>NaN</td>\n",
       "      <td>NaN</td>\n",
       "      <td>55.0</td>\n",
       "    </tr>\n",
       "    <tr>\n",
       "      <th>6</th>\n",
       "      <td>6</td>\n",
       "      <td>3700000.0</td>\n",
       "      <td>37.30</td>\n",
       "      <td>2017-11-02T00:00:00</td>\n",
       "      <td>1</td>\n",
       "      <td>NaN</td>\n",
       "      <td>26.0</td>\n",
       "      <td>10.60</td>\n",
       "      <td>6</td>\n",
       "      <td>NaN</td>\n",
       "      <td>...</td>\n",
       "      <td>14.40</td>\n",
       "      <td>1.0</td>\n",
       "      <td>посёлок Парголово</td>\n",
       "      <td>52996.0</td>\n",
       "      <td>19143.0</td>\n",
       "      <td>0.0</td>\n",
       "      <td>NaN</td>\n",
       "      <td>0.0</td>\n",
       "      <td>NaN</td>\n",
       "      <td>155.0</td>\n",
       "    </tr>\n",
       "    <tr>\n",
       "      <th>7</th>\n",
       "      <td>5</td>\n",
       "      <td>7915000.0</td>\n",
       "      <td>71.60</td>\n",
       "      <td>2019-04-18T00:00:00</td>\n",
       "      <td>2</td>\n",
       "      <td>NaN</td>\n",
       "      <td>24.0</td>\n",
       "      <td>NaN</td>\n",
       "      <td>22</td>\n",
       "      <td>NaN</td>\n",
       "      <td>...</td>\n",
       "      <td>18.90</td>\n",
       "      <td>2.0</td>\n",
       "      <td>Санкт-Петербург</td>\n",
       "      <td>23982.0</td>\n",
       "      <td>11634.0</td>\n",
       "      <td>0.0</td>\n",
       "      <td>NaN</td>\n",
       "      <td>0.0</td>\n",
       "      <td>NaN</td>\n",
       "      <td>NaN</td>\n",
       "    </tr>\n",
       "    <tr>\n",
       "      <th>8</th>\n",
       "      <td>20</td>\n",
       "      <td>2900000.0</td>\n",
       "      <td>33.16</td>\n",
       "      <td>2018-05-23T00:00:00</td>\n",
       "      <td>1</td>\n",
       "      <td>NaN</td>\n",
       "      <td>27.0</td>\n",
       "      <td>15.43</td>\n",
       "      <td>26</td>\n",
       "      <td>NaN</td>\n",
       "      <td>...</td>\n",
       "      <td>8.81</td>\n",
       "      <td>NaN</td>\n",
       "      <td>посёлок Мурино</td>\n",
       "      <td>NaN</td>\n",
       "      <td>NaN</td>\n",
       "      <td>NaN</td>\n",
       "      <td>NaN</td>\n",
       "      <td>NaN</td>\n",
       "      <td>NaN</td>\n",
       "      <td>189.0</td>\n",
       "    </tr>\n",
       "    <tr>\n",
       "      <th>9</th>\n",
       "      <td>18</td>\n",
       "      <td>5400000.0</td>\n",
       "      <td>61.00</td>\n",
       "      <td>2017-02-26T00:00:00</td>\n",
       "      <td>3</td>\n",
       "      <td>2.50</td>\n",
       "      <td>9.0</td>\n",
       "      <td>43.60</td>\n",
       "      <td>7</td>\n",
       "      <td>NaN</td>\n",
       "      <td>...</td>\n",
       "      <td>6.50</td>\n",
       "      <td>2.0</td>\n",
       "      <td>Санкт-Петербург</td>\n",
       "      <td>50898.0</td>\n",
       "      <td>15008.0</td>\n",
       "      <td>0.0</td>\n",
       "      <td>NaN</td>\n",
       "      <td>0.0</td>\n",
       "      <td>NaN</td>\n",
       "      <td>289.0</td>\n",
       "    </tr>\n",
       "  </tbody>\n",
       "</table>\n",
       "<p>10 rows × 22 columns</p>\n",
       "</div>"
      ],
      "text/plain": [
       "   total_images  last_price  total_area first_day_exposition  rooms  \\\n",
       "0            20  13000000.0      108.00  2019-03-07T00:00:00      3   \n",
       "1             7   3350000.0       40.40  2018-12-04T00:00:00      1   \n",
       "2            10   5196000.0       56.00  2015-08-20T00:00:00      2   \n",
       "3             0  64900000.0      159.00  2015-07-24T00:00:00      3   \n",
       "4             2  10000000.0      100.00  2018-06-19T00:00:00      2   \n",
       "5            10   2890000.0       30.40  2018-09-10T00:00:00      1   \n",
       "6             6   3700000.0       37.30  2017-11-02T00:00:00      1   \n",
       "7             5   7915000.0       71.60  2019-04-18T00:00:00      2   \n",
       "8            20   2900000.0       33.16  2018-05-23T00:00:00      1   \n",
       "9            18   5400000.0       61.00  2017-02-26T00:00:00      3   \n",
       "\n",
       "   ceiling_height  floors_total  living_area  floor is_apartment  ...  \\\n",
       "0            2.70          16.0        51.00      8          NaN  ...   \n",
       "1             NaN          11.0        18.60      1          NaN  ...   \n",
       "2             NaN           5.0        34.30      4          NaN  ...   \n",
       "3             NaN          14.0          NaN      9          NaN  ...   \n",
       "4            3.03          14.0        32.00     13          NaN  ...   \n",
       "5             NaN          12.0        14.40      5          NaN  ...   \n",
       "6             NaN          26.0        10.60      6          NaN  ...   \n",
       "7             NaN          24.0          NaN     22          NaN  ...   \n",
       "8             NaN          27.0        15.43     26          NaN  ...   \n",
       "9            2.50           9.0        43.60      7          NaN  ...   \n",
       "\n",
       "   kitchen_area  balcony              locality_name  airports_nearest  \\\n",
       "0         25.00      NaN            Санкт-Петербург           18863.0   \n",
       "1         11.00      2.0             посёлок Шушары           12817.0   \n",
       "2          8.30      0.0            Санкт-Петербург           21741.0   \n",
       "3           NaN      0.0            Санкт-Петербург           28098.0   \n",
       "4         41.00      NaN            Санкт-Петербург           31856.0   \n",
       "5          9.10      NaN  городской посёлок Янино-1               NaN   \n",
       "6         14.40      1.0          посёлок Парголово           52996.0   \n",
       "7         18.90      2.0            Санкт-Петербург           23982.0   \n",
       "8          8.81      NaN             посёлок Мурино               NaN   \n",
       "9          6.50      2.0            Санкт-Петербург           50898.0   \n",
       "\n",
       "  cityCenters_nearest  parks_around3000  parks_nearest  ponds_around3000  \\\n",
       "0             16028.0               1.0          482.0               2.0   \n",
       "1             18603.0               0.0            NaN               0.0   \n",
       "2             13933.0               1.0           90.0               2.0   \n",
       "3              6800.0               2.0           84.0               3.0   \n",
       "4              8098.0               2.0          112.0               1.0   \n",
       "5                 NaN               NaN            NaN               NaN   \n",
       "6             19143.0               0.0            NaN               0.0   \n",
       "7             11634.0               0.0            NaN               0.0   \n",
       "8                 NaN               NaN            NaN               NaN   \n",
       "9             15008.0               0.0            NaN               0.0   \n",
       "\n",
       "   ponds_nearest  days_exposition  \n",
       "0          755.0              NaN  \n",
       "1            NaN             81.0  \n",
       "2          574.0            558.0  \n",
       "3          234.0            424.0  \n",
       "4           48.0            121.0  \n",
       "5            NaN             55.0  \n",
       "6            NaN            155.0  \n",
       "7            NaN              NaN  \n",
       "8            NaN            189.0  \n",
       "9            NaN            289.0  \n",
       "\n",
       "[10 rows x 22 columns]"
      ]
     },
     "execution_count": 3,
     "metadata": {},
     "output_type": "execute_result"
    }
   ],
   "source": [
    "data.head(10)"
   ]
  },
  {
   "cell_type": "code",
   "execution_count": 4,
   "metadata": {
    "scrolled": false
   },
   "outputs": [
    {
     "name": "stdout",
     "output_type": "stream",
     "text": [
      "<class 'pandas.core.frame.DataFrame'>\n",
      "RangeIndex: 23699 entries, 0 to 23698\n",
      "Data columns (total 22 columns):\n",
      " #   Column                Non-Null Count  Dtype  \n",
      "---  ------                --------------  -----  \n",
      " 0   total_images          23699 non-null  int64  \n",
      " 1   last_price            23699 non-null  float64\n",
      " 2   total_area            23699 non-null  float64\n",
      " 3   first_day_exposition  23699 non-null  object \n",
      " 4   rooms                 23699 non-null  int64  \n",
      " 5   ceiling_height        14504 non-null  float64\n",
      " 6   floors_total          23613 non-null  float64\n",
      " 7   living_area           21796 non-null  float64\n",
      " 8   floor                 23699 non-null  int64  \n",
      " 9   is_apartment          2775 non-null   object \n",
      " 10  studio                23699 non-null  bool   \n",
      " 11  open_plan             23699 non-null  bool   \n",
      " 12  kitchen_area          21421 non-null  float64\n",
      " 13  balcony               12180 non-null  float64\n",
      " 14  locality_name         23650 non-null  object \n",
      " 15  airports_nearest      18157 non-null  float64\n",
      " 16  cityCenters_nearest   18180 non-null  float64\n",
      " 17  parks_around3000      18181 non-null  float64\n",
      " 18  parks_nearest         8079 non-null   float64\n",
      " 19  ponds_around3000      18181 non-null  float64\n",
      " 20  ponds_nearest         9110 non-null   float64\n",
      " 21  days_exposition       20518 non-null  float64\n",
      "dtypes: bool(2), float64(14), int64(3), object(3)\n",
      "memory usage: 3.7+ MB\n"
     ]
    }
   ],
   "source": [
    "data.info()"
   ]
  },
  {
   "cell_type": "code",
   "execution_count": 5,
   "metadata": {},
   "outputs": [
    {
     "data": {
      "text/plain": [
       "array([[<AxesSubplot:title={'center':'total_images'}>,\n",
       "        <AxesSubplot:title={'center':'last_price'}>,\n",
       "        <AxesSubplot:title={'center':'total_area'}>,\n",
       "        <AxesSubplot:title={'center':'rooms'}>],\n",
       "       [<AxesSubplot:title={'center':'ceiling_height'}>,\n",
       "        <AxesSubplot:title={'center':'floors_total'}>,\n",
       "        <AxesSubplot:title={'center':'living_area'}>,\n",
       "        <AxesSubplot:title={'center':'floor'}>],\n",
       "       [<AxesSubplot:title={'center':'kitchen_area'}>,\n",
       "        <AxesSubplot:title={'center':'balcony'}>,\n",
       "        <AxesSubplot:title={'center':'airports_nearest'}>,\n",
       "        <AxesSubplot:title={'center':'cityCenters_nearest'}>],\n",
       "       [<AxesSubplot:title={'center':'parks_around3000'}>,\n",
       "        <AxesSubplot:title={'center':'parks_nearest'}>,\n",
       "        <AxesSubplot:title={'center':'ponds_around3000'}>,\n",
       "        <AxesSubplot:title={'center':'ponds_nearest'}>],\n",
       "       [<AxesSubplot:title={'center':'days_exposition'}>, <AxesSubplot:>,\n",
       "        <AxesSubplot:>, <AxesSubplot:>]], dtype=object)"
      ]
     },
     "execution_count": 5,
     "metadata": {},
     "output_type": "execute_result"
    },
    {
     "data": {
      "image/png": "[encoded data removed]",
      "text/plain": [
       "<Figure size 1080x1440 with 20 Axes>"
      ]
     },
     "metadata": {
      "needs_background": "light"
     },
     "output_type": "display_data"
    }
   ],
   "source": [
    "data.hist(figsize=(15, 20))"
   ]
  },
  {
   "cell_type": "markdown",
   "metadata": {},
   "source": [
    "На данном этапе не увидел ошибок в данных по диаграммам, но увидел, что есть пропуски."
   ]
  },
  {
   "cell_type": "markdown",
   "metadata": {},
   "source": [
    "### Предобработка данных"
   ]
  },
  {
   "cell_type": "code",
   "execution_count": 6,
   "metadata": {
    "scrolled": false
   },
   "outputs": [
    {
     "data": {
      "text/plain": [
       "total_images                0\n",
       "last_price                  0\n",
       "total_area                  0\n",
       "first_day_exposition        0\n",
       "rooms                       0\n",
       "ceiling_height           9195\n",
       "floors_total               86\n",
       "living_area              1903\n",
       "floor                       0\n",
       "is_apartment            20924\n",
       "studio                      0\n",
       "open_plan                   0\n",
       "kitchen_area             2278\n",
       "balcony                 11519\n",
       "locality_name              49\n",
       "airports_nearest         5542\n",
       "cityCenters_nearest      5519\n",
       "parks_around3000         5518\n",
       "parks_nearest           15620\n",
       "ponds_around3000         5518\n",
       "ponds_nearest           14589\n",
       "days_exposition          3181\n",
       "dtype: int64"
      ]
     },
     "execution_count": 6,
     "metadata": {},
     "output_type": "execute_result"
    }
   ],
   "source": [
    "data.isna().sum() #Считаю количество пропусков в столбцах"
   ]
  },
  {
   "cell_type": "code",
   "execution_count": 7,
   "metadata": {},
   "outputs": [],
   "source": [
    "data = data.dropna(subset=['locality_name', 'floors_total'])"
   ]
  },
  {
   "cell_type": "code",
   "execution_count": 8,
   "metadata": {
    "scrolled": true
   },
   "outputs": [],
   "source": [
    "for col in data['locality_name'].unique():\n",
    "    data.loc[(data['locality_name'] == col) & (data['cityCenters_nearest'].isna()), 'cityCenters_nearest'] =\\\n",
    "    data.loc[(data['locality_name'] == col) & ~(data['cityCenters_nearest'].isna()), 'cityCenters_nearest'].median()"
   ]
  },
  {
   "cell_type": "code",
   "execution_count": 9,
   "metadata": {},
   "outputs": [],
   "source": [
    "for col in data['locality_name'].unique():\n",
    "    data.loc[(data['locality_name'] == col) & (data['parks_nearest'].isna()), 'parks_nearest'] =\\\n",
    "    data.loc[(data['locality_name'] == col) & ~(data['parks_nearest'].isna()), 'parks_nearest'].median()"
   ]
  },
  {
   "cell_type": "code",
   "execution_count": 10,
   "metadata": {},
   "outputs": [],
   "source": [
    "for col in data['locality_name'].unique():\n",
    "    data.loc[(data['locality_name'] == col) & (data['ponds_nearest'].isna()), 'ponds_nearest'] =\\\n",
    "    data.loc[(data['locality_name'] == col) & ~(data['ponds_nearest'].isna()), 'ponds_nearest'].median()"
   ]
  },
  {
   "cell_type": "code",
   "execution_count": 11,
   "metadata": {},
   "outputs": [],
   "source": [
    "for col in data['locality_name'].unique():\n",
    "    data.loc[(data['locality_name'] == col) & (data['airports_nearest'].isna()), 'airports_nearest'] =\\\n",
    "    data.loc[(data['locality_name'] == col) & ~(data['airports_nearest'].isna()), 'airports_nearest'].median()"
   ]
  },
  {
   "cell_type": "code",
   "execution_count": 12,
   "metadata": {},
   "outputs": [],
   "source": [
    "for col in data['rooms'].unique():\n",
    "    data.loc[(data['rooms']==col) & (data['living_area'].isna()), 'living_area'] =\\\n",
    "    data.loc[data['rooms']==col, 'living_area'].median()"
   ]
  },
  {
   "cell_type": "code",
   "execution_count": 13,
   "metadata": {},
   "outputs": [],
   "source": [
    "for col in data['rooms'].unique():\n",
    "    data.loc[(data['rooms']==col) & (data['rooms'] != 0) & (data['kitchen_area'].isna()), 'kitchen_area'] =\\\n",
    "    data.loc[(data['rooms']==col) & (data['rooms']!=0), 'kitchen_area'].median()"
   ]
  },
  {
   "cell_type": "code",
   "execution_count": 14,
   "metadata": {},
   "outputs": [],
   "source": [
    "#Список названий столбцов, котрые заполняю нулем.\n",
    "fill_with_null = [\n",
    "    \"balcony\",\n",
    "    \"parks_around3000\",\n",
    "    \"ponds_around3000\",\n",
    "]\n",
    "\n",
    "for x in fill_with_null:\n",
    "    data[x] = data[x].fillna(0)"
   ]
  },
  {
   "cell_type": "code",
   "execution_count": 15,
   "metadata": {
    "scrolled": false
   },
   "outputs": [
    {
     "data": {
      "text/plain": [
       "total_images                0\n",
       "last_price                  0\n",
       "total_area                  0\n",
       "first_day_exposition        0\n",
       "rooms                       0\n",
       "ceiling_height           9084\n",
       "floors_total                0\n",
       "living_area                 0\n",
       "floor                       0\n",
       "is_apartment            20805\n",
       "studio                      0\n",
       "open_plan                   0\n",
       "kitchen_area              194\n",
       "balcony                     0\n",
       "locality_name               0\n",
       "airports_nearest         5432\n",
       "cityCenters_nearest      5432\n",
       "parks_around3000            0\n",
       "parks_nearest            5986\n",
       "ponds_around3000            0\n",
       "ponds_nearest            5517\n",
       "days_exposition          3171\n",
       "dtype: int64"
      ]
     },
     "execution_count": 15,
     "metadata": {},
     "output_type": "execute_result"
    }
   ],
   "source": [
    "data.isna().sum()"
   ]
  },
  {
   "cell_type": "markdown",
   "metadata": {},
   "source": [
    "Решил не вставлять значения в столбец is_apartment, потому что апартаменты или нет могут указывать специально, для более быстрой и удобной продажи квартиры.\n",
    "\n",
    "**Возможные причины пропусков в данных:**\n",
    "\n",
    "*1)Человеческий фактор - люди могли случайно что-то не указать или наоборот указать по ошибке. Также могли специально указать, что каких-то данных нет.*\n",
    "\n",
    "*2)Картографический фактор - неточное определение местоположения квартиры.*"
   ]
  },
  {
   "cell_type": "code",
   "execution_count": 16,
   "metadata": {},
   "outputs": [],
   "source": [
    "data['floors_total'] = pd.to_numeric(data['floors_total'], errors='coerce')\n",
    "data['first_day_exposition'] = pd.to_datetime(data['first_day_exposition'], format=\"%Y-%m-%dT%H:%M:%S\")\n",
    "#data['last_price'] = data['last_price'].astype('int')\n",
    "data['balcony'] = data['balcony'].astype('int')\n",
    "data['airports_nearest'] = pd.to_numeric(data['airports_nearest'], errors='coerce')\n",
    "data['cityCenters_nearest'] = pd.to_numeric(data['cityCenters_nearest'], errors='coerce')\n",
    "data['parks_around3000'] = data['parks_around3000'].astype('int64')\n",
    "data['parks_nearest'] = pd.to_numeric(data['parks_nearest'], errors='coerce')\n",
    "data['ponds_around3000'] = data['ponds_around3000'].astype('int64')\n",
    "data['days_exposition'] = pd.to_numeric(data['days_exposition'], errors='coerce')"
   ]
  },
  {
   "cell_type": "markdown",
   "metadata": {},
   "source": [
    "Небходимо было поменять значения в столбце first_day_exposition, для более удобной работы с данными. Также можно было поменять множество столбцов с float на int, но в этом, вроде, нет необходимости.(Если есть, скажите, пожалуйста)"
   ]
  },
  {
   "cell_type": "code",
   "execution_count": 17,
   "metadata": {},
   "outputs": [
    {
     "name": "stdout",
     "output_type": "stream",
     "text": [
      "<class 'pandas.core.frame.DataFrame'>\n",
      "Int64Index: 23565 entries, 0 to 23698\n",
      "Data columns (total 22 columns):\n",
      " #   Column                Non-Null Count  Dtype         \n",
      "---  ------                --------------  -----         \n",
      " 0   total_images          23565 non-null  int64         \n",
      " 1   last_price            23565 non-null  float64       \n",
      " 2   total_area            23565 non-null  float64       \n",
      " 3   first_day_exposition  23565 non-null  datetime64[ns]\n",
      " 4   rooms                 23565 non-null  int64         \n",
      " 5   ceiling_height        14481 non-null  float64       \n",
      " 6   floors_total          23565 non-null  float64       \n",
      " 7   living_area           23565 non-null  float64       \n",
      " 8   floor                 23565 non-null  int64         \n",
      " 9   is_apartment          2760 non-null   object        \n",
      " 10  studio                23565 non-null  bool          \n",
      " 11  open_plan             23565 non-null  bool          \n",
      " 12  kitchen_area          23371 non-null  float64       \n",
      " 13  balcony               23565 non-null  int64         \n",
      " 14  locality_name         23565 non-null  object        \n",
      " 15  airports_nearest      18133 non-null  float64       \n",
      " 16  cityCenters_nearest   18133 non-null  float64       \n",
      " 17  parks_around3000      23565 non-null  int64         \n",
      " 18  parks_nearest         17579 non-null  float64       \n",
      " 19  ponds_around3000      23565 non-null  int64         \n",
      " 20  ponds_nearest         18048 non-null  float64       \n",
      " 21  days_exposition       20394 non-null  float64       \n",
      "dtypes: bool(2), datetime64[ns](1), float64(11), int64(6), object(2)\n",
      "memory usage: 3.8+ MB\n"
     ]
    }
   ],
   "source": [
    "data.info()"
   ]
  },
  {
   "cell_type": "code",
   "execution_count": 18,
   "metadata": {},
   "outputs": [
    {
     "data": {
      "text/html": [
       "<div>\n",
       "<style scoped>\n",
       "    .dataframe tbody tr th:only-of-type {\n",
       "        vertical-align: middle;\n",
       "    }\n",
       "\n",
       "    .dataframe tbody tr th {\n",
       "        vertical-align: top;\n",
       "    }\n",
       "\n",
       "    .dataframe thead th {\n",
       "        text-align: right;\n",
       "    }\n",
       "</style>\n",
       "<table border=\"1\" class=\"dataframe\">\n",
       "  <thead>\n",
       "    <tr style=\"text-align: right;\">\n",
       "      <th></th>\n",
       "      <th>total_images</th>\n",
       "      <th>last_price</th>\n",
       "      <th>total_area</th>\n",
       "      <th>first_day_exposition</th>\n",
       "      <th>rooms</th>\n",
       "      <th>ceiling_height</th>\n",
       "      <th>floors_total</th>\n",
       "      <th>living_area</th>\n",
       "      <th>floor</th>\n",
       "      <th>is_apartment</th>\n",
       "      <th>...</th>\n",
       "      <th>kitchen_area</th>\n",
       "      <th>balcony</th>\n",
       "      <th>locality_name</th>\n",
       "      <th>airports_nearest</th>\n",
       "      <th>cityCenters_nearest</th>\n",
       "      <th>parks_around3000</th>\n",
       "      <th>parks_nearest</th>\n",
       "      <th>ponds_around3000</th>\n",
       "      <th>ponds_nearest</th>\n",
       "      <th>days_exposition</th>\n",
       "    </tr>\n",
       "  </thead>\n",
       "  <tbody>\n",
       "    <tr>\n",
       "      <th>22309</th>\n",
       "      <td>20</td>\n",
       "      <td>5300000.0</td>\n",
       "      <td>45.0</td>\n",
       "      <td>2017-09-30</td>\n",
       "      <td>1</td>\n",
       "      <td>10.3</td>\n",
       "      <td>16.0</td>\n",
       "      <td>15.5</td>\n",
       "      <td>15</td>\n",
       "      <td>NaN</td>\n",
       "      <td>...</td>\n",
       "      <td>9.0</td>\n",
       "      <td>0</td>\n",
       "      <td>Санкт-Петербург</td>\n",
       "      <td>36353.0</td>\n",
       "      <td>11936.0</td>\n",
       "      <td>2</td>\n",
       "      <td>440.0</td>\n",
       "      <td>2</td>\n",
       "      <td>450.0</td>\n",
       "      <td>136.0</td>\n",
       "    </tr>\n",
       "    <tr>\n",
       "      <th>5863</th>\n",
       "      <td>20</td>\n",
       "      <td>5650000.0</td>\n",
       "      <td>45.0</td>\n",
       "      <td>2018-08-15</td>\n",
       "      <td>1</td>\n",
       "      <td>8.3</td>\n",
       "      <td>16.0</td>\n",
       "      <td>19.3</td>\n",
       "      <td>14</td>\n",
       "      <td>NaN</td>\n",
       "      <td>...</td>\n",
       "      <td>8.3</td>\n",
       "      <td>1</td>\n",
       "      <td>Санкт-Петербург</td>\n",
       "      <td>13069.0</td>\n",
       "      <td>10763.0</td>\n",
       "      <td>0</td>\n",
       "      <td>460.0</td>\n",
       "      <td>1</td>\n",
       "      <td>613.0</td>\n",
       "      <td>14.0</td>\n",
       "    </tr>\n",
       "    <tr>\n",
       "      <th>15743</th>\n",
       "      <td>14</td>\n",
       "      <td>5600000.0</td>\n",
       "      <td>67.0</td>\n",
       "      <td>2016-11-11</td>\n",
       "      <td>3</td>\n",
       "      <td>8.0</td>\n",
       "      <td>16.0</td>\n",
       "      <td>41.0</td>\n",
       "      <td>1</td>\n",
       "      <td>NaN</td>\n",
       "      <td>...</td>\n",
       "      <td>8.0</td>\n",
       "      <td>0</td>\n",
       "      <td>Санкт-Петербург</td>\n",
       "      <td>32691.0</td>\n",
       "      <td>11035.0</td>\n",
       "      <td>1</td>\n",
       "      <td>723.0</td>\n",
       "      <td>0</td>\n",
       "      <td>504.0</td>\n",
       "      <td>474.0</td>\n",
       "    </tr>\n",
       "    <tr>\n",
       "      <th>17442</th>\n",
       "      <td>0</td>\n",
       "      <td>5350000.0</td>\n",
       "      <td>54.0</td>\n",
       "      <td>2015-06-16</td>\n",
       "      <td>2</td>\n",
       "      <td>8.0</td>\n",
       "      <td>5.0</td>\n",
       "      <td>29.0</td>\n",
       "      <td>2</td>\n",
       "      <td>NaN</td>\n",
       "      <td>...</td>\n",
       "      <td>8.7</td>\n",
       "      <td>1</td>\n",
       "      <td>Красное Село</td>\n",
       "      <td>24638.0</td>\n",
       "      <td>28062.0</td>\n",
       "      <td>0</td>\n",
       "      <td>435.0</td>\n",
       "      <td>0</td>\n",
       "      <td>225.5</td>\n",
       "      <td>469.0</td>\n",
       "    </tr>\n",
       "    <tr>\n",
       "      <th>3474</th>\n",
       "      <td>3</td>\n",
       "      <td>1400000.0</td>\n",
       "      <td>30.0</td>\n",
       "      <td>2018-03-16</td>\n",
       "      <td>1</td>\n",
       "      <td>8.0</td>\n",
       "      <td>5.0</td>\n",
       "      <td>15.3</td>\n",
       "      <td>2</td>\n",
       "      <td>False</td>\n",
       "      <td>...</td>\n",
       "      <td>7.3</td>\n",
       "      <td>0</td>\n",
       "      <td>деревня Нурма</td>\n",
       "      <td>NaN</td>\n",
       "      <td>NaN</td>\n",
       "      <td>0</td>\n",
       "      <td>NaN</td>\n",
       "      <td>0</td>\n",
       "      <td>NaN</td>\n",
       "      <td>125.0</td>\n",
       "    </tr>\n",
       "  </tbody>\n",
       "</table>\n",
       "<p>5 rows × 22 columns</p>\n",
       "</div>"
      ],
      "text/plain": [
       "       total_images  last_price  total_area first_day_exposition  rooms  \\\n",
       "22309            20   5300000.0        45.0           2017-09-30      1   \n",
       "5863             20   5650000.0        45.0           2018-08-15      1   \n",
       "15743            14   5600000.0        67.0           2016-11-11      3   \n",
       "17442             0   5350000.0        54.0           2015-06-16      2   \n",
       "3474              3   1400000.0        30.0           2018-03-16      1   \n",
       "\n",
       "       ceiling_height  floors_total  living_area  floor is_apartment  ...  \\\n",
       "22309            10.3          16.0         15.5     15          NaN  ...   \n",
       "5863              8.3          16.0         19.3     14          NaN  ...   \n",
       "15743             8.0          16.0         41.0      1          NaN  ...   \n",
       "17442             8.0           5.0         29.0      2          NaN  ...   \n",
       "3474              8.0           5.0         15.3      2        False  ...   \n",
       "\n",
       "       kitchen_area  balcony    locality_name  airports_nearest  \\\n",
       "22309           9.0        0  Санкт-Петербург           36353.0   \n",
       "5863            8.3        1  Санкт-Петербург           13069.0   \n",
       "15743           8.0        0  Санкт-Петербург           32691.0   \n",
       "17442           8.7        1     Красное Село           24638.0   \n",
       "3474            7.3        0    деревня Нурма               NaN   \n",
       "\n",
       "      cityCenters_nearest  parks_around3000  parks_nearest  ponds_around3000  \\\n",
       "22309             11936.0                 2          440.0                 2   \n",
       "5863              10763.0                 0          460.0                 1   \n",
       "15743             11035.0                 1          723.0                 0   \n",
       "17442             28062.0                 0          435.0                 0   \n",
       "3474                  NaN                 0            NaN                 0   \n",
       "\n",
       "       ponds_nearest  days_exposition  \n",
       "22309          450.0            136.0  \n",
       "5863           613.0             14.0  \n",
       "15743          504.0            474.0  \n",
       "17442          225.5            469.0  \n",
       "3474             NaN            125.0  \n",
       "\n",
       "[5 rows x 22 columns]"
      ]
     },
     "execution_count": 18,
     "metadata": {},
     "output_type": "execute_result"
    }
   ],
   "source": [
    "data[data['ceiling_height'] > 7].sort_values(by='ceiling_height', ascending=False).tail()\n",
    "#Здесь, я определил длину потолков, которые мне кажутся аномальными(от 10м). Возможно, я не знаю о наличии квартир с более\n",
    "#высокими потолками."
   ]
  },
  {
   "cell_type": "code",
   "execution_count": 19,
   "metadata": {},
   "outputs": [
    {
     "data": {
      "text/html": [
       "<div>\n",
       "<style scoped>\n",
       "    .dataframe tbody tr th:only-of-type {\n",
       "        vertical-align: middle;\n",
       "    }\n",
       "\n",
       "    .dataframe tbody tr th {\n",
       "        vertical-align: top;\n",
       "    }\n",
       "\n",
       "    .dataframe thead th {\n",
       "        text-align: right;\n",
       "    }\n",
       "</style>\n",
       "<table border=\"1\" class=\"dataframe\">\n",
       "  <thead>\n",
       "    <tr style=\"text-align: right;\">\n",
       "      <th></th>\n",
       "      <th>total_images</th>\n",
       "      <th>last_price</th>\n",
       "      <th>total_area</th>\n",
       "      <th>first_day_exposition</th>\n",
       "      <th>rooms</th>\n",
       "      <th>ceiling_height</th>\n",
       "      <th>floors_total</th>\n",
       "      <th>living_area</th>\n",
       "      <th>floor</th>\n",
       "      <th>is_apartment</th>\n",
       "      <th>...</th>\n",
       "      <th>kitchen_area</th>\n",
       "      <th>balcony</th>\n",
       "      <th>locality_name</th>\n",
       "      <th>airports_nearest</th>\n",
       "      <th>cityCenters_nearest</th>\n",
       "      <th>parks_around3000</th>\n",
       "      <th>parks_nearest</th>\n",
       "      <th>ponds_around3000</th>\n",
       "      <th>ponds_nearest</th>\n",
       "      <th>days_exposition</th>\n",
       "    </tr>\n",
       "  </thead>\n",
       "  <tbody>\n",
       "    <tr>\n",
       "      <th>16446</th>\n",
       "      <td>6</td>\n",
       "      <td>12300000.0</td>\n",
       "      <td>88.3</td>\n",
       "      <td>2019-03-12</td>\n",
       "      <td>3</td>\n",
       "      <td>2.00</td>\n",
       "      <td>5.0</td>\n",
       "      <td>63.9</td>\n",
       "      <td>2</td>\n",
       "      <td>NaN</td>\n",
       "      <td>...</td>\n",
       "      <td>12.00</td>\n",
       "      <td>0</td>\n",
       "      <td>Санкт-Петербург</td>\n",
       "      <td>38415.0</td>\n",
       "      <td>7675.0</td>\n",
       "      <td>1</td>\n",
       "      <td>568.0</td>\n",
       "      <td>1</td>\n",
       "      <td>154.0</td>\n",
       "      <td>NaN</td>\n",
       "    </tr>\n",
       "    <tr>\n",
       "      <th>19329</th>\n",
       "      <td>5</td>\n",
       "      <td>1700000.0</td>\n",
       "      <td>40.0</td>\n",
       "      <td>2018-07-15</td>\n",
       "      <td>2</td>\n",
       "      <td>2.00</td>\n",
       "      <td>9.0</td>\n",
       "      <td>30.5</td>\n",
       "      <td>8</td>\n",
       "      <td>NaN</td>\n",
       "      <td>...</td>\n",
       "      <td>8.70</td>\n",
       "      <td>0</td>\n",
       "      <td>Сосновый Бор</td>\n",
       "      <td>NaN</td>\n",
       "      <td>NaN</td>\n",
       "      <td>0</td>\n",
       "      <td>NaN</td>\n",
       "      <td>0</td>\n",
       "      <td>NaN</td>\n",
       "      <td>45.0</td>\n",
       "    </tr>\n",
       "    <tr>\n",
       "      <th>16934</th>\n",
       "      <td>5</td>\n",
       "      <td>4100000.0</td>\n",
       "      <td>40.0</td>\n",
       "      <td>2017-10-17</td>\n",
       "      <td>1</td>\n",
       "      <td>1.75</td>\n",
       "      <td>37.0</td>\n",
       "      <td>17.4</td>\n",
       "      <td>5</td>\n",
       "      <td>NaN</td>\n",
       "      <td>...</td>\n",
       "      <td>8.34</td>\n",
       "      <td>0</td>\n",
       "      <td>Санкт-Петербург</td>\n",
       "      <td>18732.0</td>\n",
       "      <td>20444.0</td>\n",
       "      <td>0</td>\n",
       "      <td>460.0</td>\n",
       "      <td>3</td>\n",
       "      <td>80.0</td>\n",
       "      <td>71.0</td>\n",
       "    </tr>\n",
       "    <tr>\n",
       "      <th>5712</th>\n",
       "      <td>5</td>\n",
       "      <td>1500000.0</td>\n",
       "      <td>42.8</td>\n",
       "      <td>2017-08-14</td>\n",
       "      <td>2</td>\n",
       "      <td>1.20</td>\n",
       "      <td>2.0</td>\n",
       "      <td>27.5</td>\n",
       "      <td>1</td>\n",
       "      <td>NaN</td>\n",
       "      <td>...</td>\n",
       "      <td>5.20</td>\n",
       "      <td>0</td>\n",
       "      <td>городской посёлок Мга</td>\n",
       "      <td>NaN</td>\n",
       "      <td>NaN</td>\n",
       "      <td>0</td>\n",
       "      <td>NaN</td>\n",
       "      <td>0</td>\n",
       "      <td>NaN</td>\n",
       "      <td>248.0</td>\n",
       "    </tr>\n",
       "    <tr>\n",
       "      <th>22590</th>\n",
       "      <td>16</td>\n",
       "      <td>6000000.0</td>\n",
       "      <td>55.0</td>\n",
       "      <td>2018-10-31</td>\n",
       "      <td>2</td>\n",
       "      <td>1.00</td>\n",
       "      <td>12.0</td>\n",
       "      <td>32.4</td>\n",
       "      <td>7</td>\n",
       "      <td>NaN</td>\n",
       "      <td>...</td>\n",
       "      <td>10.00</td>\n",
       "      <td>0</td>\n",
       "      <td>Санкт-Петербург</td>\n",
       "      <td>33053.0</td>\n",
       "      <td>14217.0</td>\n",
       "      <td>2</td>\n",
       "      <td>293.0</td>\n",
       "      <td>2</td>\n",
       "      <td>289.0</td>\n",
       "      <td>13.0</td>\n",
       "    </tr>\n",
       "  </tbody>\n",
       "</table>\n",
       "<p>5 rows × 22 columns</p>\n",
       "</div>"
      ],
      "text/plain": [
       "       total_images  last_price  total_area first_day_exposition  rooms  \\\n",
       "16446             6  12300000.0        88.3           2019-03-12      3   \n",
       "19329             5   1700000.0        40.0           2018-07-15      2   \n",
       "16934             5   4100000.0        40.0           2017-10-17      1   \n",
       "5712              5   1500000.0        42.8           2017-08-14      2   \n",
       "22590            16   6000000.0        55.0           2018-10-31      2   \n",
       "\n",
       "       ceiling_height  floors_total  living_area  floor is_apartment  ...  \\\n",
       "16446            2.00           5.0         63.9      2          NaN  ...   \n",
       "19329            2.00           9.0         30.5      8          NaN  ...   \n",
       "16934            1.75          37.0         17.4      5          NaN  ...   \n",
       "5712             1.20           2.0         27.5      1          NaN  ...   \n",
       "22590            1.00          12.0         32.4      7          NaN  ...   \n",
       "\n",
       "       kitchen_area  balcony          locality_name  airports_nearest  \\\n",
       "16446         12.00        0        Санкт-Петербург           38415.0   \n",
       "19329          8.70        0           Сосновый Бор               NaN   \n",
       "16934          8.34        0        Санкт-Петербург           18732.0   \n",
       "5712           5.20        0  городской посёлок Мга               NaN   \n",
       "22590         10.00        0        Санкт-Петербург           33053.0   \n",
       "\n",
       "      cityCenters_nearest  parks_around3000  parks_nearest  ponds_around3000  \\\n",
       "16446              7675.0                 1          568.0                 1   \n",
       "19329                 NaN                 0            NaN                 0   \n",
       "16934             20444.0                 0          460.0                 3   \n",
       "5712                  NaN                 0            NaN                 0   \n",
       "22590             14217.0                 2          293.0                 2   \n",
       "\n",
       "       ponds_nearest  days_exposition  \n",
       "16446          154.0              NaN  \n",
       "19329            NaN             45.0  \n",
       "16934           80.0             71.0  \n",
       "5712             NaN            248.0  \n",
       "22590          289.0             13.0  \n",
       "\n",
       "[5 rows x 22 columns]"
      ]
     },
     "execution_count": 19,
     "metadata": {},
     "output_type": "execute_result"
    }
   ],
   "source": [
    "data[data['ceiling_height'] <= 2.5 ].sort_values(by='ceiling_height', ascending=False).tail()"
   ]
  },
  {
   "cell_type": "code",
   "execution_count": 20,
   "metadata": {},
   "outputs": [],
   "source": [
    "data.loc[data['ceiling_height'] >= 10, 'ceiling_height'] = data.loc[data['ceiling_height'] > 10, 'ceiling_height'] / 10\n",
    "#Все аномальные значения, по моему мнению, я отбросил(По гистограммам я не увидел выбросов). Есть квартиры с потолками меньше \n",
    "#2,5м, но таких значений 5, поэтому не вижу смысла их удалять."
   ]
  },
  {
   "cell_type": "code",
   "execution_count": 21,
   "metadata": {},
   "outputs": [
    {
     "data": {
      "text/plain": [
       "364"
      ]
     },
     "execution_count": 21,
     "metadata": {},
     "output_type": "execute_result"
    }
   ],
   "source": [
    "len(data['locality_name'].unique())"
   ]
  },
  {
   "cell_type": "code",
   "execution_count": 22,
   "metadata": {},
   "outputs": [],
   "source": [
    "data['locality_name'] = data['locality_name'].str.replace('ё','е')\n",
    "data['locality_name'] = data['locality_name'].str.replace('поселок городского типа', 'поселок')\n",
    "data['locality_name'] = data['locality_name'].str.replace('городской поселок','поселок')\n",
    "data['locality_name'] = data['locality_name'].str.replace('поселок станции','поселок')\n",
    "data['locality_name'] = data['locality_name'].str.replace('поселок при железнодорожной станции','поселок')\n",
    "#Переименовал список местностей в более структурированный."
   ]
  },
  {
   "cell_type": "code",
   "execution_count": 23,
   "metadata": {
    "scrolled": true
   },
   "outputs": [
    {
     "data": {
      "text/plain": [
       "319"
      ]
     },
     "execution_count": 23,
     "metadata": {},
     "output_type": "execute_result"
    }
   ],
   "source": [
    "len(data['locality_name'].unique())"
   ]
  },
  {
   "cell_type": "markdown",
   "metadata": {},
   "source": [
    "### Посчитайте и добавьте в таблицу новые столбцы"
   ]
  },
  {
   "cell_type": "code",
   "execution_count": 24,
   "metadata": {},
   "outputs": [],
   "source": [
    "data['price_of_meter'] = data['last_price'] / data['total_area']\n",
    "data['month_of_exposition'] = pd.DatetimeIndex(data['first_day_exposition']).month\n",
    "data['year_of_exposition'] = pd.DatetimeIndex(data['first_day_exposition']).year\n",
    "data['day_of_exposition']= data['first_day_exposition'].dt.weekday\n",
    "data['cityCenters_nearest_km'] = round(data['cityCenters_nearest'] / 1000) \n",
    "def floor(row):\n",
    "    floors = row['floor']\n",
    "    total = row['floors_total']\n",
    "    if floors==total:\n",
    "        return 'последний'\n",
    "    elif floors==1:\n",
    "        return 'первый'\n",
    "    return 'другой'\n",
    "data['type_of_floor'] = data.apply(floor, axis=1)"
   ]
  },
  {
   "cell_type": "markdown",
   "metadata": {},
   "source": [
    "### Проведите исследовательский анализ данных"
   ]
  },
  {
   "cell_type": "markdown",
   "metadata": {},
   "source": [
    "#### Общая площадь"
   ]
  },
  {
   "cell_type": "code",
   "execution_count": 25,
   "metadata": {},
   "outputs": [
    {
     "data": {
      "text/plain": [
       "count    23565.000000\n",
       "mean        60.322824\n",
       "std         35.657060\n",
       "min         12.000000\n",
       "25%         40.000000\n",
       "50%         52.000000\n",
       "75%         69.700000\n",
       "max        900.000000\n",
       "Name: total_area, dtype: float64"
      ]
     },
     "execution_count": 25,
     "metadata": {},
     "output_type": "execute_result"
    }
   ],
   "source": [
    "data['total_area'].describe()"
   ]
  },
  {
   "cell_type": "code",
   "execution_count": 26,
   "metadata": {
    "scrolled": true
   },
   "outputs": [
    {
     "data": {
      "text/plain": [
       "<AxesSubplot:>"
      ]
     },
     "execution_count": 26,
     "metadata": {},
     "output_type": "execute_result"
    },
    {
     "data": {
      "image/png": "[encoded data removed]",
      "text/plain": [
       "<Figure size 432x288 with 1 Axes>"
      ]
     },
     "metadata": {
      "needs_background": "light"
     },
     "output_type": "display_data"
    }
   ],
   "source": [
    "data.boxplot(column='total_area')"
   ]
  },
  {
   "cell_type": "code",
   "execution_count": 27,
   "metadata": {
    "scrolled": true
   },
   "outputs": [
    {
     "data": {
      "text/plain": [
       "<AxesSubplot:>"
      ]
     },
     "execution_count": 27,
     "metadata": {},
     "output_type": "execute_result"
    },
    {
     "data": {
      "image/png": "[encoded data removed]",
      "text/plain": [
       "<Figure size 1080x360 with 1 Axes>"
      ]
     },
     "metadata": {
      "needs_background": "light"
     },
     "output_type": "display_data"
    }
   ],
   "source": [
    "data['total_area'].hist(bins=100, range=(0, 500), figsize=(15,5\n",
    "                                                          ))"
   ]
  },
  {
   "cell_type": "markdown",
   "metadata": {},
   "source": [
    "По общей жилой площади можно сказать, что присутсвуют выбросы(площадь более 600 м.кв.), но они обусловлены тем, что в Санкт-Петербурге могут продавать квартиры, которые были комунальными и их сделали под одну квартиру."
   ]
  },
  {
   "cell_type": "markdown",
   "metadata": {},
   "source": [
    "#### Жилая площадь"
   ]
  },
  {
   "cell_type": "code",
   "execution_count": 28,
   "metadata": {},
   "outputs": [
    {
     "data": {
      "text/plain": [
       "count    23565.000000\n",
       "mean        34.324899\n",
       "std         21.722006\n",
       "min          2.000000\n",
       "25%         18.400000\n",
       "50%         30.300000\n",
       "75%         42.700000\n",
       "max        409.700000\n",
       "Name: living_area, dtype: float64"
      ]
     },
     "execution_count": 28,
     "metadata": {},
     "output_type": "execute_result"
    }
   ],
   "source": [
    "data['living_area'].describe()"
   ]
  },
  {
   "cell_type": "code",
   "execution_count": 29,
   "metadata": {},
   "outputs": [
    {
     "data": {
      "text/plain": [
       "<AxesSubplot:>"
      ]
     },
     "execution_count": 29,
     "metadata": {},
     "output_type": "execute_result"
    },
    {
     "data": {
      "image/png": "[encoded data removed]",
      "text/plain": [
       "<Figure size 432x288 with 1 Axes>"
      ]
     },
     "metadata": {
      "needs_background": "light"
     },
     "output_type": "display_data"
    }
   ],
   "source": [
    "data.boxplot(column='living_area')\n"
   ]
  },
  {
   "cell_type": "code",
   "execution_count": 30,
   "metadata": {},
   "outputs": [
    {
     "data": {
      "text/plain": [
       "<AxesSubplot:>"
      ]
     },
     "execution_count": 30,
     "metadata": {},
     "output_type": "execute_result"
    },
    {
     "data": {
      "image/png": "[encoded data removed]",
      "text/plain": [
       "<Figure size 1080x360 with 1 Axes>"
      ]
     },
     "metadata": {
      "needs_background": "light"
     },
     "output_type": "display_data"
    }
   ],
   "source": [
    "data['living_area'].hist(bins=100, range=(0, 200), figsize=(15, 5))"
   ]
  },
  {
   "cell_type": "code",
   "execution_count": 31,
   "metadata": {
    "scrolled": true
   },
   "outputs": [
    {
     "data": {
      "text/plain": [
       "0.9098829491960255"
      ]
     },
     "execution_count": 31,
     "metadata": {},
     "output_type": "execute_result"
    },
    {
     "data": {
      "image/png": "[encoded data removed]",
      "text/plain": [
       "<Figure size 432x288 with 1 Axes>"
      ]
     },
     "metadata": {
      "needs_background": "light"
     },
     "output_type": "display_data"
    }
   ],
   "source": [
    "data.plot(x='total_area', y='living_area', kind='scatter', alpha=0.1, grid=True)\n",
    "data['total_area'].corr(data['living_area'])"
   ]
  },
  {
   "cell_type": "markdown",
   "metadata": {},
   "source": [
    "Насчет жилой площади в картирах можно сказать то же самое, что и по общей площади, так как они коррелируют между собой. Хоть и на диаграмме рассеяния есть странное явление, что при росте общей площади, жилая площадь остается на одном уровне."
   ]
  },
  {
   "cell_type": "markdown",
   "metadata": {},
   "source": [
    "Могли ли бы вы подсказать, пожалуйста. Я сидел работал и решил вернуться к этому пункту, чтобы поставить параметр grid и у меня сразу корреялция взлетела до 0.93 и пропали вот эти странные значения: жилая площадь остается на одном уровне при росте общей площади. Перезапустил ядро и все вернулось обратно."
   ]
  },
  {
   "cell_type": "markdown",
   "metadata": {},
   "source": [
    "#### Площадь кухни"
   ]
  },
  {
   "cell_type": "code",
   "execution_count": 32,
   "metadata": {},
   "outputs": [
    {
     "data": {
      "text/plain": [
       "count    23371.000000\n",
       "mean        10.454371\n",
       "std          5.665974\n",
       "min          1.300000\n",
       "25%          7.300000\n",
       "50%          9.000000\n",
       "75%         11.500000\n",
       "max        112.000000\n",
       "Name: kitchen_area, dtype: float64"
      ]
     },
     "execution_count": 32,
     "metadata": {},
     "output_type": "execute_result"
    }
   ],
   "source": [
    "data['kitchen_area'].describe()"
   ]
  },
  {
   "cell_type": "code",
   "execution_count": 33,
   "metadata": {},
   "outputs": [
    {
     "data": {
      "text/plain": [
       "<AxesSubplot:>"
      ]
     },
     "execution_count": 33,
     "metadata": {},
     "output_type": "execute_result"
    },
    {
     "data": {
      "image/png": "[encoded data removed]",
      "text/plain": [
       "<Figure size 432x288 with 1 Axes>"
      ]
     },
     "metadata": {
      "needs_background": "light"
     },
     "output_type": "display_data"
    }
   ],
   "source": [
    "data.boxplot(column='kitchen_area')"
   ]
  },
  {
   "cell_type": "code",
   "execution_count": 34,
   "metadata": {},
   "outputs": [
    {
     "data": {
      "text/plain": [
       "<AxesSubplot:>"
      ]
     },
     "execution_count": 34,
     "metadata": {},
     "output_type": "execute_result"
    },
    {
     "data": {
      "image/png": "[encoded data removed]",
      "text/plain": [
       "<Figure size 1080x360 with 1 Axes>"
      ]
     },
     "metadata": {
      "needs_background": "light"
     },
     "output_type": "display_data"
    }
   ],
   "source": [
    "data['kitchen_area'].hist(bins=100, range=(0, 70), figsize=(15, 5))"
   ]
  },
  {
   "cell_type": "code",
   "execution_count": 35,
   "metadata": {},
   "outputs": [
    {
     "data": {
      "text/plain": [
       "0.5872117946699851"
      ]
     },
     "execution_count": 35,
     "metadata": {},
     "output_type": "execute_result"
    },
    {
     "data": {
      "image/png": "[encoded data removed]",
      "text/plain": [
       "<Figure size 432x288 with 1 Axes>"
      ]
     },
     "metadata": {
      "needs_background": "light"
     },
     "output_type": "display_data"
    }
   ],
   "source": [
    "data.plot(x='total_area', y='kitchen_area', kind='scatter', alpha=0.1, grid=True)\n",
    "data['total_area'].corr(data['kitchen_area'])"
   ]
  },
  {
   "cell_type": "markdown",
   "metadata": {},
   "source": [
    "Корреляция снизилась на 30%. Это значит, что с увеличением площади квартиры меньше увеличивается площадь кухонь. Для меня это возможно, логично, потому что я не вижу смысла в увеличении площади кухни."
   ]
  },
  {
   "cell_type": "markdown",
   "metadata": {},
   "source": [
    "#### Цена объекта"
   ]
  },
  {
   "cell_type": "code",
   "execution_count": 36,
   "metadata": {
    "scrolled": true
   },
   "outputs": [
    {
     "data": {
      "text/plain": [
       "count    2.356500e+04\n",
       "mean     6.540058e+06\n",
       "std      1.091093e+07\n",
       "min      1.219000e+04\n",
       "25%      3.400000e+06\n",
       "50%      4.646000e+06\n",
       "75%      6.790000e+06\n",
       "max      7.630000e+08\n",
       "Name: last_price, dtype: float64"
      ]
     },
     "execution_count": 36,
     "metadata": {},
     "output_type": "execute_result"
    }
   ],
   "source": [
    "data['last_price'].describe()"
   ]
  },
  {
   "cell_type": "markdown",
   "metadata": {},
   "source": [
    "Здесь я увидел экспоненциальное представление цен, поэтому решил создать новый стобец new_price, где поделил значения last_price на 1млн. и цены там будут представлены в миллионах."
   ]
  },
  {
   "cell_type": "code",
   "execution_count": 37,
   "metadata": {},
   "outputs": [],
   "source": [
    "data['new_price'] = data['last_price'] / 1000000"
   ]
  },
  {
   "cell_type": "code",
   "execution_count": 38,
   "metadata": {},
   "outputs": [
    {
     "data": {
      "text/plain": [
       "count    23565.000000\n",
       "mean         6.540058\n",
       "std         10.910935\n",
       "min          0.012190\n",
       "25%          3.400000\n",
       "50%          4.646000\n",
       "75%          6.790000\n",
       "max        763.000000\n",
       "Name: new_price, dtype: float64"
      ]
     },
     "execution_count": 38,
     "metadata": {},
     "output_type": "execute_result"
    }
   ],
   "source": [
    "data['new_price'].describe()"
   ]
  },
  {
   "cell_type": "code",
   "execution_count": 39,
   "metadata": {},
   "outputs": [
    {
     "data": {
      "text/plain": [
       "<AxesSubplot:>"
      ]
     },
     "execution_count": 39,
     "metadata": {},
     "output_type": "execute_result"
    },
    {
     "data": {
      "image/png": "[encoded data removed]",
      "text/plain": [
       "<Figure size 432x288 with 1 Axes>"
      ]
     },
     "metadata": {
      "needs_background": "light"
     },
     "output_type": "display_data"
    }
   ],
   "source": [
    "data.boxplot(column='new_price')"
   ]
  },
  {
   "cell_type": "code",
   "execution_count": 40,
   "metadata": {},
   "outputs": [
    {
     "data": {
      "text/plain": [
       "<AxesSubplot:ylabel='Frequency'>"
      ]
     },
     "execution_count": 40,
     "metadata": {},
     "output_type": "execute_result"
    },
    {
     "data": {
      "image/png": "[encoded data removed]",
      "text/plain": [
       "<Figure size 1080x360 with 1 Axes>"
      ]
     },
     "metadata": {
      "needs_background": "light"
     },
     "output_type": "display_data"
    }
   ],
   "source": [
    "data.plot(y='new_price', kind='hist', bins=500, range=(0,40), figsize=(15, 5), grid=True)"
   ]
  },
  {
   "cell_type": "code",
   "execution_count": 41,
   "metadata": {},
   "outputs": [
    {
     "data": {
      "text/plain": [
       "4.5"
      ]
     },
     "execution_count": 41,
     "metadata": {},
     "output_type": "execute_result"
    }
   ],
   "source": [
    "data['new_price'].mode()[0]"
   ]
  },
  {
   "cell_type": "code",
   "execution_count": 42,
   "metadata": {},
   "outputs": [
    {
     "data": {
      "text/plain": [
       "0.6536213939252806"
      ]
     },
     "execution_count": 42,
     "metadata": {},
     "output_type": "execute_result"
    }
   ],
   "source": [
    "data['new_price'].corr(data['total_area'])"
   ]
  },
  {
   "cell_type": "markdown",
   "metadata": {},
   "source": [
    "Цены рознятся от 12 190 руб. до 763 миллионов руб.. Больше всего продают квартир за 4,5 миллиона руб.. Выбросы присутсвуют, но они зависят от цены объекта и, как я предполагаю, от нахождения рядом с центром."
   ]
  },
  {
   "cell_type": "markdown",
   "metadata": {},
   "source": [
    "#### Количество комнат\n"
   ]
  },
  {
   "cell_type": "code",
   "execution_count": 43,
   "metadata": {},
   "outputs": [
    {
     "data": {
      "text/plain": [
       "count    23565.000000\n",
       "mean         2.070656\n",
       "std          1.078591\n",
       "min          0.000000\n",
       "25%          1.000000\n",
       "50%          2.000000\n",
       "75%          3.000000\n",
       "max         19.000000\n",
       "Name: rooms, dtype: float64"
      ]
     },
     "execution_count": 43,
     "metadata": {},
     "output_type": "execute_result"
    }
   ],
   "source": [
    "data['rooms'].describe()"
   ]
  },
  {
   "cell_type": "code",
   "execution_count": 44,
   "metadata": {},
   "outputs": [
    {
     "data": {
      "text/plain": [
       "<AxesSubplot:>"
      ]
     },
     "execution_count": 44,
     "metadata": {},
     "output_type": "execute_result"
    },
    {
     "data": {
      "image/png": "[encoded data removed]",
      "text/plain": [
       "<Figure size 432x288 with 1 Axes>"
      ]
     },
     "metadata": {
      "needs_background": "light"
     },
     "output_type": "display_data"
    }
   ],
   "source": [
    "data.boxplot(column='rooms')"
   ]
  },
  {
   "cell_type": "code",
   "execution_count": 45,
   "metadata": {},
   "outputs": [
    {
     "data": {
      "text/plain": [
       "<AxesSubplot:>"
      ]
     },
     "execution_count": 45,
     "metadata": {},
     "output_type": "execute_result"
    },
    {
     "data": {
      "image/png": "[encoded data removed]",
      "text/plain": [
       "<Figure size 1080x360 with 1 Axes>"
      ]
     },
     "metadata": {
      "needs_background": "light"
     },
     "output_type": "display_data"
    }
   ],
   "source": [
    "data['rooms'].hist(bins=50, figsize=(15, 5))"
   ]
  },
  {
   "cell_type": "code",
   "execution_count": 46,
   "metadata": {},
   "outputs": [
    {
     "data": {
      "text/plain": [
       "0.7587348223341028"
      ]
     },
     "execution_count": 46,
     "metadata": {},
     "output_type": "execute_result"
    }
   ],
   "source": [
    "data['rooms'].corr(data['total_area'])"
   ]
  },
  {
   "cell_type": "markdown",
   "metadata": {},
   "source": [
    "Количество комнат в большей степени зависит от общей площади. Но это не значит, что в одинаковых по площадях квартирах будет одинаковое количество комнат, то есть может быть комнат меньше, а площадь их больше.\n",
    "Про 19-ти комнатные квартиры можно сказать, что это все те же полностью выкупленные коммунальные квартиры."
   ]
  },
  {
   "cell_type": "markdown",
   "metadata": {},
   "source": [
    "#### Высота потолков"
   ]
  },
  {
   "cell_type": "code",
   "execution_count": 47,
   "metadata": {},
   "outputs": [
    {
     "data": {
      "text/plain": [
       "count    14481.000000\n",
       "mean         2.727815\n",
       "std          0.299744\n",
       "min          1.000000\n",
       "25%          2.510000\n",
       "50%          2.650000\n",
       "75%          2.800000\n",
       "max         10.000000\n",
       "Name: ceiling_height, dtype: float64"
      ]
     },
     "execution_count": 47,
     "metadata": {},
     "output_type": "execute_result"
    }
   ],
   "source": [
    "data['ceiling_height'].describe()"
   ]
  },
  {
   "cell_type": "code",
   "execution_count": 48,
   "metadata": {},
   "outputs": [
    {
     "data": {
      "text/plain": [
       "<AxesSubplot:>"
      ]
     },
     "execution_count": 48,
     "metadata": {},
     "output_type": "execute_result"
    },
    {
     "data": {
      "image/png": "[encoded data removed]",
      "text/plain": [
       "<Figure size 432x288 with 1 Axes>"
      ]
     },
     "metadata": {
      "needs_background": "light"
     },
     "output_type": "display_data"
    }
   ],
   "source": [
    "data.boxplot(column='ceiling_height')"
   ]
  },
  {
   "cell_type": "code",
   "execution_count": 49,
   "metadata": {
    "scrolled": true
   },
   "outputs": [
    {
     "data": {
      "text/plain": [
       "<AxesSubplot:>"
      ]
     },
     "execution_count": 49,
     "metadata": {},
     "output_type": "execute_result"
    },
    {
     "data": {
      "image/png": "[encoded data removed]",
      "text/plain": [
       "<Figure size 1080x360 with 1 Axes>"
      ]
     },
     "metadata": {
      "needs_background": "light"
     },
     "output_type": "display_data"
    }
   ],
   "source": [
    "data['ceiling_height'].hist(bins=200, figsize=(15, 5), range=(2, 4))"
   ]
  },
  {
   "cell_type": "markdown",
   "metadata": {},
   "source": [
    "Высота потолков разниться от 1 м. до 8,3 м.. Больше всего квартир с высотой потолков 2,5 м.. Большие значения обусловлены особенностями домов в Санкт-Петербурге."
   ]
  },
  {
   "cell_type": "markdown",
   "metadata": {},
   "source": [
    "#### Этаж квартиры"
   ]
  },
  {
   "cell_type": "code",
   "execution_count": 50,
   "metadata": {},
   "outputs": [
    {
     "data": {
      "text/plain": [
       "count    23565.000000\n",
       "mean         5.878124\n",
       "std          4.871485\n",
       "min          1.000000\n",
       "25%          2.000000\n",
       "50%          4.000000\n",
       "75%          8.000000\n",
       "max         33.000000\n",
       "Name: floor, dtype: float64"
      ]
     },
     "execution_count": 50,
     "metadata": {},
     "output_type": "execute_result"
    }
   ],
   "source": [
    "data['floor'].describe()"
   ]
  },
  {
   "cell_type": "code",
   "execution_count": 51,
   "metadata": {},
   "outputs": [
    {
     "data": {
      "text/plain": [
       "<AxesSubplot:>"
      ]
     },
     "execution_count": 51,
     "metadata": {},
     "output_type": "execute_result"
    },
    {
     "data": {
      "image/png": "[encoded data removed]",
      "text/plain": [
       "<Figure size 432x288 with 1 Axes>"
      ]
     },
     "metadata": {
      "needs_background": "light"
     },
     "output_type": "display_data"
    }
   ],
   "source": [
    "data.boxplot(column='floor')"
   ]
  },
  {
   "cell_type": "code",
   "execution_count": 52,
   "metadata": {
    "scrolled": true
   },
   "outputs": [
    {
     "data": {
      "text/plain": [
       "<AxesSubplot:>"
      ]
     },
     "execution_count": 52,
     "metadata": {},
     "output_type": "execute_result"
    },
    {
     "data": {
      "image/png": "[encoded data removed]",
      "text/plain": [
       "<Figure size 1080x360 with 1 Axes>"
      ]
     },
     "metadata": {
      "needs_background": "light"
     },
     "output_type": "display_data"
    }
   ],
   "source": [
    "data['floor'].hist(bins=200, figsize=(15, 5))"
   ]
  },
  {
   "cell_type": "code",
   "execution_count": 53,
   "metadata": {},
   "outputs": [
    {
     "data": {
      "text/plain": [
       "0.6780095011297615"
      ]
     },
     "execution_count": 53,
     "metadata": {},
     "output_type": "execute_result"
    }
   ],
   "source": [
    "data['floors_total'].corr(data['floor'])"
   ]
  },
  {
   "cell_type": "markdown",
   "metadata": {},
   "source": [
    "Больше всего квартир расположено на 2-ом этаже. Этаж квартиры, которая продается, средне зависит от количества этажей в доме. Выбросы отсутствуют."
   ]
  },
  {
   "cell_type": "markdown",
   "metadata": {},
   "source": [
    "#### Тип этажа квартиры"
   ]
  },
  {
   "cell_type": "code",
   "execution_count": 54,
   "metadata": {},
   "outputs": [
    {
     "data": {
      "text/plain": [
       "другой       17326\n",
       "последний     3355\n",
       "первый        2884\n",
       "Name: type_of_floor, dtype: int64"
      ]
     },
     "execution_count": 54,
     "metadata": {},
     "output_type": "execute_result"
    }
   ],
   "source": [
    "data['type_of_floor'].value_counts()"
   ]
  },
  {
   "cell_type": "markdown",
   "metadata": {},
   "source": [
    "Около четверти квартир занимают первый и последний этажи, основная масса квартир расположена между ними."
   ]
  },
  {
   "cell_type": "markdown",
   "metadata": {},
   "source": [
    "#### Общее количество этажей в доме"
   ]
  },
  {
   "cell_type": "code",
   "execution_count": 55,
   "metadata": {},
   "outputs": [
    {
     "data": {
      "text/plain": [
       "count    23565.000000\n",
       "mean        10.675875\n",
       "std          6.594823\n",
       "min          1.000000\n",
       "25%          5.000000\n",
       "50%          9.000000\n",
       "75%         16.000000\n",
       "max         60.000000\n",
       "Name: floors_total, dtype: float64"
      ]
     },
     "execution_count": 55,
     "metadata": {},
     "output_type": "execute_result"
    }
   ],
   "source": [
    "data['floors_total'].describe()"
   ]
  },
  {
   "cell_type": "code",
   "execution_count": 56,
   "metadata": {},
   "outputs": [
    {
     "data": {
      "text/plain": [
       "<AxesSubplot:>"
      ]
     },
     "execution_count": 56,
     "metadata": {},
     "output_type": "execute_result"
    },
    {
     "data": {
      "image/png": "[encoded data removed]",
      "text/plain": [
       "<Figure size 432x288 with 1 Axes>"
      ]
     },
     "metadata": {
      "needs_background": "light"
     },
     "output_type": "display_data"
    }
   ],
   "source": [
    "data.boxplot(column='floors_total')"
   ]
  },
  {
   "cell_type": "code",
   "execution_count": 57,
   "metadata": {},
   "outputs": [
    {
     "data": {
      "text/plain": [
       "<AxesSubplot:>"
      ]
     },
     "execution_count": 57,
     "metadata": {},
     "output_type": "execute_result"
    },
    {
     "data": {
      "image/png": "[encoded data removed]",
      "text/plain": [
       "<Figure size 1080x360 with 1 Axes>"
      ]
     },
     "metadata": {
      "needs_background": "light"
     },
     "output_type": "display_data"
    }
   ],
   "source": [
    "data['floors_total'].hist(bins=200, figsize=(15, 5))"
   ]
  },
  {
   "cell_type": "markdown",
   "metadata": {},
   "source": [
    "Больше всего 5-ти эатжек. Но присутствуют значения зданий в 52 и 60 этажей. Посмотрев самые высокие данные в Санкт-Петербурге, я могу сделать вывод, что это ошибочные данные, так как такой высоты достигает только Лахта-Центр, где вряд ли будут продавать жилые помещения."
   ]
  },
  {
   "cell_type": "markdown",
   "metadata": {},
   "source": [
    "#### Расстояние до центра города в метрах"
   ]
  },
  {
   "cell_type": "code",
   "execution_count": 58,
   "metadata": {},
   "outputs": [
    {
     "data": {
      "text/plain": [
       "count    18133.000000\n",
       "mean     14195.267882\n",
       "std       8610.213514\n",
       "min        181.000000\n",
       "25%       9265.000000\n",
       "50%      13073.000000\n",
       "75%      16275.000000\n",
       "max      65968.000000\n",
       "Name: cityCenters_nearest, dtype: float64"
      ]
     },
     "execution_count": 58,
     "metadata": {},
     "output_type": "execute_result"
    }
   ],
   "source": [
    "data['cityCenters_nearest'].describe()"
   ]
  },
  {
   "cell_type": "code",
   "execution_count": 59,
   "metadata": {},
   "outputs": [
    {
     "data": {
      "text/plain": [
       "<AxesSubplot:>"
      ]
     },
     "execution_count": 59,
     "metadata": {},
     "output_type": "execute_result"
    },
    {
     "data": {
      "image/png": "[encoded data removed]",
      "text/plain": [
       "<Figure size 432x288 with 1 Axes>"
      ]
     },
     "metadata": {
      "needs_background": "light"
     },
     "output_type": "display_data"
    }
   ],
   "source": [
    "data.boxplot(column='cityCenters_nearest')"
   ]
  },
  {
   "cell_type": "code",
   "execution_count": 60,
   "metadata": {},
   "outputs": [
    {
     "data": {
      "text/plain": [
       "<AxesSubplot:>"
      ]
     },
     "execution_count": 60,
     "metadata": {},
     "output_type": "execute_result"
    },
    {
     "data": {
      "image/png": "[encoded data removed]",
      "text/plain": [
       "<Figure size 1080x360 with 1 Axes>"
      ]
     },
     "metadata": {
      "needs_background": "light"
     },
     "output_type": "display_data"
    }
   ],
   "source": [
    "data['cityCenters_nearest'].hist(bins=100, figsize=(15, 5), range=(5000,22000))"
   ]
  },
  {
   "cell_type": "code",
   "execution_count": 61,
   "metadata": {},
   "outputs": [
    {
     "data": {
      "text/plain": [
       "12242.0"
      ]
     },
     "execution_count": 61,
     "metadata": {},
     "output_type": "execute_result"
    }
   ],
   "source": [
    "data['cityCenters_nearest'].mode()[0]"
   ]
  },
  {
   "cell_type": "markdown",
   "metadata": {},
   "source": [
    "Около 5,5 тыс. объявлений про квартиры на расстоянии 13 км.. Выбросов много, но этот столбец не зависит ни от каких параметров"
   ]
  },
  {
   "cell_type": "markdown",
   "metadata": {},
   "source": [
    "#### Расстояние до ближайшего аэропорта"
   ]
  },
  {
   "cell_type": "code",
   "execution_count": 62,
   "metadata": {},
   "outputs": [
    {
     "data": {
      "text/plain": [
       "count    18133.000000\n",
       "mean     28788.533971\n",
       "std      12606.251799\n",
       "min          0.000000\n",
       "25%      18590.000000\n",
       "50%      26763.000000\n",
       "75%      37227.000000\n",
       "max      84869.000000\n",
       "Name: airports_nearest, dtype: float64"
      ]
     },
     "execution_count": 62,
     "metadata": {},
     "output_type": "execute_result"
    }
   ],
   "source": [
    "data['airports_nearest'].describe()"
   ]
  },
  {
   "cell_type": "code",
   "execution_count": 63,
   "metadata": {},
   "outputs": [
    {
     "data": {
      "text/plain": [
       "<AxesSubplot:>"
      ]
     },
     "execution_count": 63,
     "metadata": {},
     "output_type": "execute_result"
    },
    {
     "data": {
      "image/png": "[encoded data removed]",
      "text/plain": [
       "<Figure size 432x288 with 1 Axes>"
      ]
     },
     "metadata": {
      "needs_background": "light"
     },
     "output_type": "display_data"
    }
   ],
   "source": [
    "data.boxplot(column='airports_nearest')"
   ]
  },
  {
   "cell_type": "code",
   "execution_count": 64,
   "metadata": {
    "scrolled": false
   },
   "outputs": [
    {
     "data": {
      "text/plain": [
       "<AxesSubplot:>"
      ]
     },
     "execution_count": 64,
     "metadata": {},
     "output_type": "execute_result"
    },
    {
     "data": {
      "image/png": "[encoded data removed]",
      "text/plain": [
       "<Figure size 1080x360 with 1 Axes>"
      ]
     },
     "metadata": {
      "needs_background": "light"
     },
     "output_type": "display_data"
    }
   ],
   "source": [
    "data['airports_nearest'].hist(bins=100, figsize=(15, 5))"
   ]
  },
  {
   "cell_type": "markdown",
   "metadata": {},
   "source": [
    "Самое популярное расстояние до аэропрта 26,7 км.. Выбросы тоже присутствуют."
   ]
  },
  {
   "cell_type": "markdown",
   "metadata": {},
   "source": [
    "#### Расстояние до ближайшего парка"
   ]
  },
  {
   "cell_type": "code",
   "execution_count": 65,
   "metadata": {},
   "outputs": [
    {
     "data": {
      "text/plain": [
       "count    17579.000000\n",
       "mean       475.895244\n",
       "std        234.981831\n",
       "min          1.000000\n",
       "25%        433.000000\n",
       "50%        460.000000\n",
       "75%        460.000000\n",
       "max       3190.000000\n",
       "Name: parks_nearest, dtype: float64"
      ]
     },
     "execution_count": 65,
     "metadata": {},
     "output_type": "execute_result"
    }
   ],
   "source": [
    "data['parks_nearest'].describe()"
   ]
  },
  {
   "cell_type": "code",
   "execution_count": 66,
   "metadata": {},
   "outputs": [
    {
     "data": {
      "text/plain": [
       "<AxesSubplot:>"
      ]
     },
     "execution_count": 66,
     "metadata": {},
     "output_type": "execute_result"
    },
    {
     "data": {
      "image/png": "[encoded data removed]",
      "text/plain": [
       "<Figure size 432x288 with 1 Axes>"
      ]
     },
     "metadata": {
      "needs_background": "light"
     },
     "output_type": "display_data"
    }
   ],
   "source": [
    "data.boxplot(column='parks_nearest')"
   ]
  },
  {
   "cell_type": "code",
   "execution_count": 67,
   "metadata": {
    "scrolled": true
   },
   "outputs": [
    {
     "data": {
      "text/plain": [
       "<AxesSubplot:>"
      ]
     },
     "execution_count": 67,
     "metadata": {},
     "output_type": "execute_result"
    },
    {
     "data": {
      "image/png": "[encoded data removed]",
      "text/plain": [
       "<Figure size 1080x360 with 1 Axes>"
      ]
     },
     "metadata": {
      "needs_background": "light"
     },
     "output_type": "display_data"
    }
   ],
   "source": [
    "data['parks_nearest'].hist(bins=100, figsize=(15, 5))"
   ]
  },
  {
   "cell_type": "markdown",
   "metadata": {},
   "source": [
    "Больше всего парков на расстоянии 467 м.. Выбросы присутсвуют, но опят же, я думаю они здесь уместны."
   ]
  },
  {
   "cell_type": "markdown",
   "metadata": {},
   "source": [
    "#### День публикации объявления"
   ]
  },
  {
   "cell_type": "code",
   "execution_count": 68,
   "metadata": {},
   "outputs": [
    {
     "data": {
      "text/plain": [
       "count    23565.000000\n",
       "mean         2.567367\n",
       "std          1.788279\n",
       "min          0.000000\n",
       "25%          1.000000\n",
       "50%          3.000000\n",
       "75%          4.000000\n",
       "max          6.000000\n",
       "Name: day_of_exposition, dtype: float64"
      ]
     },
     "execution_count": 68,
     "metadata": {},
     "output_type": "execute_result"
    }
   ],
   "source": [
    "data['day_of_exposition'].describe()"
   ]
  },
  {
   "cell_type": "code",
   "execution_count": 69,
   "metadata": {},
   "outputs": [
    {
     "data": {
      "text/plain": [
       "<AxesSubplot:>"
      ]
     },
     "execution_count": 69,
     "metadata": {},
     "output_type": "execute_result"
    },
    {
     "data": {
      "image/png": "[encoded data removed]",
      "text/plain": [
       "<Figure size 432x288 with 1 Axes>"
      ]
     },
     "metadata": {
      "needs_background": "light"
     },
     "output_type": "display_data"
    }
   ],
   "source": [
    "data.boxplot(column='day_of_exposition')"
   ]
  },
  {
   "cell_type": "code",
   "execution_count": 70,
   "metadata": {},
   "outputs": [
    {
     "data": {
      "text/plain": [
       "<AxesSubplot:>"
      ]
     },
     "execution_count": 70,
     "metadata": {},
     "output_type": "execute_result"
    },
    {
     "data": {
      "image/png": "[encoded data removed]",
      "text/plain": [
       "<Figure size 1080x360 with 1 Axes>"
      ]
     },
     "metadata": {
      "needs_background": "light"
     },
     "output_type": "display_data"
    }
   ],
   "source": [
    "data['day_of_exposition'].hist(bins=7, figsize=(15, 5))"
   ]
  },
  {
   "cell_type": "markdown",
   "metadata": {},
   "source": [
    "Больше всего объявления размещают по четвергам и вторникам. Меньше всех - на выходных."
   ]
  },
  {
   "cell_type": "markdown",
   "metadata": {},
   "source": [
    "#### Месяц публикации объявления"
   ]
  },
  {
   "cell_type": "code",
   "execution_count": 71,
   "metadata": {},
   "outputs": [
    {
     "data": {
      "text/plain": [
       "count    23565.000000\n",
       "mean         6.401570\n",
       "std          3.492948\n",
       "min          1.000000\n",
       "25%          3.000000\n",
       "50%          6.000000\n",
       "75%         10.000000\n",
       "max         12.000000\n",
       "Name: month_of_exposition, dtype: float64"
      ]
     },
     "execution_count": 71,
     "metadata": {},
     "output_type": "execute_result"
    }
   ],
   "source": [
    "data['month_of_exposition'].describe()"
   ]
  },
  {
   "cell_type": "code",
   "execution_count": 72,
   "metadata": {},
   "outputs": [
    {
     "data": {
      "text/plain": [
       "<AxesSubplot:>"
      ]
     },
     "execution_count": 72,
     "metadata": {},
     "output_type": "execute_result"
    },
    {
     "data": {
      "image/png": "[encoded data removed]",
      "text/plain": [
       "<Figure size 432x288 with 1 Axes>"
      ]
     },
     "metadata": {
      "needs_background": "light"
     },
     "output_type": "display_data"
    }
   ],
   "source": [
    "data.boxplot(column='month_of_exposition')"
   ]
  },
  {
   "cell_type": "code",
   "execution_count": 73,
   "metadata": {
    "scrolled": false
   },
   "outputs": [
    {
     "data": {
      "text/plain": [
       "<AxesSubplot:title={'center':'month_of_exposition'}, ylabel='Frequency'>"
      ]
     },
     "execution_count": 73,
     "metadata": {},
     "output_type": "execute_result"
    },
    {
     "data": {
      "image/png": "[encoded data removed]",
      "text/plain": [
       "<Figure size 1080x360 with 1 Axes>"
      ]
     },
     "metadata": {
      "needs_background": "light"
     },
     "output_type": "display_data"
    }
   ],
   "source": [
    "data['month_of_exposition'].plot(kind='hist', figsize=(15, 5), bins=12, title='month_of_exposition', grid=True)"
   ]
  },
  {
   "cell_type": "code",
   "execution_count": 74,
   "metadata": {},
   "outputs": [
    {
     "data": {
      "image/png": "[encoded data removed]",
      "text/plain": [
       "<Figure size 432x288 with 2 Axes>"
      ]
     },
     "metadata": {
      "needs_background": "light"
     },
     "output_type": "display_data"
    }
   ],
   "source": [
    "fig = plt.figure()\n",
    "ax_1 = fig.add_subplot(1, 2, 1)\n",
    "ax_2 = fig.add_subplot(1, 2, 2)\n",
    "plt.show()"
   ]
  },
  {
   "cell_type": "markdown",
   "metadata": {},
   "source": [
    "Больше всего размещено объявлений в феврале и марте, меньше всего - в мае."
   ]
  },
  {
   "cell_type": "markdown",
   "metadata": {},
   "source": [
    "#### Как быстро продавались квартиры\n"
   ]
  },
  {
   "cell_type": "code",
   "execution_count": 75,
   "metadata": {},
   "outputs": [
    {
     "data": {
      "text/plain": [
       "count    20394.000000\n",
       "mean       180.741395\n",
       "std        219.732782\n",
       "min          1.000000\n",
       "25%         45.000000\n",
       "50%         95.000000\n",
       "75%        231.000000\n",
       "max       1580.000000\n",
       "Name: days_exposition, dtype: float64"
      ]
     },
     "execution_count": 75,
     "metadata": {},
     "output_type": "execute_result"
    }
   ],
   "source": [
    "data['days_exposition'].describe()"
   ]
  },
  {
   "cell_type": "code",
   "execution_count": 76,
   "metadata": {},
   "outputs": [
    {
     "data": {
      "text/plain": [
       "<AxesSubplot:title={'center':'days_exposition'}, ylabel='Frequency'>"
      ]
     },
     "execution_count": 76,
     "metadata": {},
     "output_type": "execute_result"
    },
    {
     "data": {
      "image/png": "[encoded data removed]",
      "text/plain": [
       "<Figure size 1080x360 with 1 Axes>"
      ]
     },
     "metadata": {
      "needs_background": "light"
     },
     "output_type": "display_data"
    }
   ],
   "source": [
    "data['days_exposition'].plot(kind='hist', figsize=(15, 5), bins=100, title='days_exposition', grid=True)"
   ]
  },
  {
   "cell_type": "code",
   "execution_count": 77,
   "metadata": {},
   "outputs": [
    {
     "data": {
      "text/plain": [
       "<AxesSubplot:>"
      ]
     },
     "execution_count": 77,
     "metadata": {},
     "output_type": "execute_result"
    },
    {
     "data": {
      "image/png": "[encoded data removed]",
      "text/plain": [
       "<Figure size 432x288 with 1 Axes>"
      ]
     },
     "metadata": {
      "needs_background": "light"
     },
     "output_type": "display_data"
    }
   ],
   "source": [
    "data.boxplot(column='days_exposition')\n",
    "#plt.ylim(-1, 450)"
   ]
  },
  {
   "cell_type": "markdown",
   "metadata": {},
   "source": [
    "В среднем квартиры продавались по 163 дня. Медианное количество дней - 74. По диаграмме размаха, можно сказать, что быстрым являются продажи от 45 до 199 дней. Необычно долгие продажи,я считаю, происходят от 430 дней(Q3+1,5 размаха = 199 + 1,5 * (199 - 45) = 430)"
   ]
  },
  {
   "cell_type": "code",
   "execution_count": 78,
   "metadata": {
    "scrolled": false
   },
   "outputs": [
    {
     "data": {
      "text/plain": [
       "<AxesSubplot:title={'center':'days_exposition'}, ylabel='Frequency'>"
      ]
     },
     "execution_count": 78,
     "metadata": {},
     "output_type": "execute_result"
    },
    {
     "data": {
      "image/png": "[encoded data removed]",
      "text/plain": [
       "<Figure size 1080x360 with 1 Axes>"
      ]
     },
     "metadata": {
      "needs_background": "light"
     },
     "output_type": "display_data"
    }
   ],
   "source": [
    "data['days_exposition'].plot(kind='hist', figsize=(15, 5), bins=100, title='days_exposition', grid=True, range=(0,100))"
   ]
  },
  {
   "cell_type": "markdown",
   "metadata": {},
   "source": [
    "#### Какие факторы больше всего влияют на общую (полную) стоимость объекта?"
   ]
  },
  {
   "cell_type": "markdown",
   "metadata": {},
   "source": [
    "##### Зависит ли цена от общей площади?"
   ]
  },
  {
   "cell_type": "code",
   "execution_count": 79,
   "metadata": {},
   "outputs": [
    {
     "data": {
      "text/plain": [
       "0.6536213939252808"
      ]
     },
     "execution_count": 79,
     "metadata": {},
     "output_type": "execute_result"
    }
   ],
   "source": [
    "data['last_price'].corr(data['total_area'])"
   ]
  },
  {
   "cell_type": "code",
   "execution_count": 80,
   "metadata": {},
   "outputs": [
    {
     "data": {
      "text/plain": [
       "<AxesSubplot:xlabel='total_area', ylabel='last_price'>"
      ]
     },
     "execution_count": 80,
     "metadata": {},
     "output_type": "execute_result"
    },
    {
     "data": {
      "image/png": "[encoded data removed]",
      "text/plain": [
       "<Figure size 432x288 with 1 Axes>"
      ]
     },
     "metadata": {
      "needs_background": "light"
     },
     "output_type": "display_data"
    }
   ],
   "source": [
    "data.plot(x='total_area', y='last_price', kind='scatter', grid=True)"
   ]
  },
  {
   "cell_type": "markdown",
   "metadata": {},
   "source": [
    "Зависимость есть, но на цену влияет но только общая площадь квартиры."
   ]
  },
  {
   "cell_type": "markdown",
   "metadata": {},
   "source": [
    "##### Зависит ли цена от жилой площади?"
   ]
  },
  {
   "cell_type": "code",
   "execution_count": 81,
   "metadata": {},
   "outputs": [
    {
     "data": {
      "text/plain": [
       "0.5560554214888885"
      ]
     },
     "execution_count": 81,
     "metadata": {},
     "output_type": "execute_result"
    }
   ],
   "source": [
    "data['last_price'].corr(data['living_area'])"
   ]
  },
  {
   "cell_type": "code",
   "execution_count": 82,
   "metadata": {},
   "outputs": [
    {
     "data": {
      "text/plain": [
       "<AxesSubplot:xlabel='living_area', ylabel='last_price'>"
      ]
     },
     "execution_count": 82,
     "metadata": {},
     "output_type": "execute_result"
    },
    {
     "data": {
      "image/png": "[encoded data removed]",
      "text/plain": [
       "<Figure size 432x288 with 1 Axes>"
      ]
     },
     "metadata": {
      "needs_background": "light"
     },
     "output_type": "display_data"
    }
   ],
   "source": [
    "data.plot(x='living_area', y='last_price', kind='scatter', grid=True)"
   ]
  },
  {
   "cell_type": "markdown",
   "metadata": {},
   "source": [
    "Жилая площадь в меньшей степени, чем общая стоимость влияет на цену квартиры."
   ]
  },
  {
   "cell_type": "markdown",
   "metadata": {},
   "source": [
    "##### Зависит ли цена от площади кухни?"
   ]
  },
  {
   "cell_type": "code",
   "execution_count": 83,
   "metadata": {},
   "outputs": [
    {
     "data": {
      "text/plain": [
       "0.45417008457942204"
      ]
     },
     "execution_count": 83,
     "metadata": {},
     "output_type": "execute_result"
    }
   ],
   "source": [
    "data['last_price'].corr(data['kitchen_area'])"
   ]
  },
  {
   "cell_type": "code",
   "execution_count": 84,
   "metadata": {},
   "outputs": [
    {
     "data": {
      "text/plain": [
       "<AxesSubplot:xlabel='kitchen_area', ylabel='last_price'>"
      ]
     },
     "execution_count": 84,
     "metadata": {},
     "output_type": "execute_result"
    },
    {
     "data": {
      "image/png": "[encoded data removed]",
      "text/plain": [
       "<Figure size 432x288 with 1 Axes>"
      ]
     },
     "metadata": {
      "needs_background": "light"
     },
     "output_type": "display_data"
    }
   ],
   "source": [
    "data.plot(x='kitchen_area', y='last_price', kind='scatter', grid=True)"
   ]
  },
  {
   "cell_type": "markdown",
   "metadata": {},
   "source": [
    "Площадь кухни еще в более меньшей степени влияет на цену квартиры."
   ]
  },
  {
   "cell_type": "markdown",
   "metadata": {},
   "source": [
    "##### Зависит ли цена от количества комнат?"
   ]
  },
  {
   "cell_type": "code",
   "execution_count": 85,
   "metadata": {},
   "outputs": [
    {
     "data": {
      "text/plain": [
       "0.3631905485065751"
      ]
     },
     "execution_count": 85,
     "metadata": {},
     "output_type": "execute_result"
    }
   ],
   "source": [
    "data['last_price'].corr(data['rooms'])"
   ]
  },
  {
   "cell_type": "code",
   "execution_count": 86,
   "metadata": {},
   "outputs": [
    {
     "data": {
      "text/html": [
       "<div>\n",
       "<style scoped>\n",
       "    .dataframe tbody tr th:only-of-type {\n",
       "        vertical-align: middle;\n",
       "    }\n",
       "\n",
       "    .dataframe tbody tr th {\n",
       "        vertical-align: top;\n",
       "    }\n",
       "\n",
       "    .dataframe thead th {\n",
       "        text-align: right;\n",
       "    }\n",
       "</style>\n",
       "<table border=\"1\" class=\"dataframe\">\n",
       "  <thead>\n",
       "    <tr style=\"text-align: right;\">\n",
       "      <th></th>\n",
       "      <th>rooms</th>\n",
       "    </tr>\n",
       "  </thead>\n",
       "  <tbody>\n",
       "    <tr>\n",
       "      <th>3.344493</th>\n",
       "      <td>0</td>\n",
       "    </tr>\n",
       "    <tr>\n",
       "      <th>3.833870</th>\n",
       "      <td>1</td>\n",
       "    </tr>\n",
       "    <tr>\n",
       "      <th>5.587257</th>\n",
       "      <td>2</td>\n",
       "    </tr>\n",
       "    <tr>\n",
       "      <th>8.174764</th>\n",
       "      <td>3</td>\n",
       "    </tr>\n",
       "    <tr>\n",
       "      <th>13.417916</th>\n",
       "      <td>4</td>\n",
       "    </tr>\n",
       "    <tr>\n",
       "      <th>23.798304</th>\n",
       "      <td>5</td>\n",
       "    </tr>\n",
       "    <tr>\n",
       "      <th>31.880038</th>\n",
       "      <td>6</td>\n",
       "    </tr>\n",
       "    <tr>\n",
       "      <th>51.470069</th>\n",
       "      <td>7</td>\n",
       "    </tr>\n",
       "    <tr>\n",
       "      <th>50.224167</th>\n",
       "      <td>8</td>\n",
       "    </tr>\n",
       "    <tr>\n",
       "      <th>34.152363</th>\n",
       "      <td>9</td>\n",
       "    </tr>\n",
       "    <tr>\n",
       "      <th>26.166667</th>\n",
       "      <td>10</td>\n",
       "    </tr>\n",
       "    <tr>\n",
       "      <th>25.250000</th>\n",
       "      <td>11</td>\n",
       "    </tr>\n",
       "    <tr>\n",
       "      <th>420.000000</th>\n",
       "      <td>12</td>\n",
       "    </tr>\n",
       "    <tr>\n",
       "      <th>26.829500</th>\n",
       "      <td>14</td>\n",
       "    </tr>\n",
       "    <tr>\n",
       "      <th>65.000000</th>\n",
       "      <td>15</td>\n",
       "    </tr>\n",
       "    <tr>\n",
       "      <th>28.500000</th>\n",
       "      <td>16</td>\n",
       "    </tr>\n",
       "    <tr>\n",
       "      <th>32.250000</th>\n",
       "      <td>19</td>\n",
       "    </tr>\n",
       "  </tbody>\n",
       "</table>\n",
       "</div>"
      ],
      "text/plain": [
       "            rooms\n",
       "3.344493        0\n",
       "3.833870        1\n",
       "5.587257        2\n",
       "8.174764        3\n",
       "13.417916       4\n",
       "23.798304       5\n",
       "31.880038       6\n",
       "51.470069       7\n",
       "50.224167       8\n",
       "34.152363       9\n",
       "26.166667      10\n",
       "25.250000      11\n",
       "420.000000     12\n",
       "26.829500      14\n",
       "65.000000      15\n",
       "28.500000      16\n",
       "32.250000      19"
      ]
     },
     "execution_count": 86,
     "metadata": {},
     "output_type": "execute_result"
    }
   ],
   "source": [
    "rooms = []\n",
    "price = []\n",
    "for col in data['rooms'].unique():\n",
    "    mean = data.loc[data['rooms']==col, 'last_price'].mean()\n",
    "    rooms.append(col)\n",
    "    price.append(mean)\n",
    "df1 = pd.DataFrame(rooms, price, columns=['rooms'])\n",
    "df1.index = df1.index / 1000000\n",
    "df1.sort_values(by='rooms')"
   ]
  },
  {
   "cell_type": "markdown",
   "metadata": {},
   "source": [
    "##### Зависит ли цена от этажа, на котором расположена квартира (первый, последний, другой)?"
   ]
  },
  {
   "cell_type": "code",
   "execution_count": 87,
   "metadata": {},
   "outputs": [
    {
     "data": {
      "text/plain": [
       "count    2884.000000\n",
       "mean        4.820066\n",
       "std         5.115116\n",
       "min         0.430000\n",
       "25%         2.800000\n",
       "50%         3.900000\n",
       "75%         5.402500\n",
       "max       135.000000\n",
       "Name: new_price, dtype: float64"
      ]
     },
     "execution_count": 87,
     "metadata": {},
     "output_type": "execute_result"
    }
   ],
   "source": [
    "df_first_floor = data.query('type_of_floor == \"первый\"')\n",
    "df_first_floor['new_price'].describe()"
   ]
  },
  {
   "cell_type": "code",
   "execution_count": 88,
   "metadata": {},
   "outputs": [
    {
     "data": {
      "text/plain": [
       "count    17326.000000\n",
       "mean         6.674349\n",
       "std          8.630830\n",
       "min          0.450000\n",
       "25%          3.600000\n",
       "50%          4.848500\n",
       "75%          6.999750\n",
       "max        330.000000\n",
       "Name: new_price, dtype: float64"
      ]
     },
     "execution_count": 88,
     "metadata": {},
     "output_type": "execute_result"
    }
   ],
   "source": [
    "df_other_floor = data.query('type_of_floor == \"другой\"')\n",
    "df_other_floor['new_price'].describe()"
   ]
  },
  {
   "cell_type": "code",
   "execution_count": 89,
   "metadata": {},
   "outputs": [
    {
     "data": {
      "text/plain": [
       "count    3355.000000\n",
       "mean        7.325077\n",
       "std        20.636520\n",
       "min         0.012190\n",
       "25%         2.990000\n",
       "50%         4.300000\n",
       "75%         6.700000\n",
       "max       763.000000\n",
       "Name: new_price, dtype: float64"
      ]
     },
     "execution_count": 89,
     "metadata": {},
     "output_type": "execute_result"
    }
   ],
   "source": [
    "df_last_floor = data.query('type_of_floor == \"последний\"')\n",
    "df_last_floor['new_price'].describe()"
   ]
  },
  {
   "cell_type": "markdown",
   "metadata": {},
   "source": [
    "Так как в данных могут присутсвовать выбросы, то стоит сравнивать медианные значения цен. По ним можно сказать, что самые дешевые квартиры на 1-ом этаже, это обуславлиается как мининум опасностью жить там и большим наличием звуков.\n",
    "Потом идут квартиры на последнем этаже, их место в середине тоже можно объяснить - если протечет крыша, то осадки могут оппасть в квартиру. \n",
    "И самые дорогие квартиры, находящиеся между первым и последним этажами. Поэтому может зависеть от этажа."
   ]
  },
  {
   "cell_type": "markdown",
   "metadata": {},
   "source": [
    "##### Зависит ли цена от даты размещения (день недели)?"
   ]
  },
  {
   "cell_type": "code",
   "execution_count": 90,
   "metadata": {},
   "outputs": [
    {
     "data": {
      "text/html": [
       "<div>\n",
       "<style scoped>\n",
       "    .dataframe tbody tr th:only-of-type {\n",
       "        vertical-align: middle;\n",
       "    }\n",
       "\n",
       "    .dataframe tbody tr th {\n",
       "        vertical-align: top;\n",
       "    }\n",
       "\n",
       "    .dataframe thead th {\n",
       "        text-align: right;\n",
       "    }\n",
       "</style>\n",
       "<table border=\"1\" class=\"dataframe\">\n",
       "  <thead>\n",
       "    <tr style=\"text-align: right;\">\n",
       "      <th></th>\n",
       "      <th>days</th>\n",
       "    </tr>\n",
       "  </thead>\n",
       "  <tbody>\n",
       "    <tr>\n",
       "      <th>6.518332</th>\n",
       "      <td>0</td>\n",
       "    </tr>\n",
       "    <tr>\n",
       "      <th>6.389281</th>\n",
       "      <td>1</td>\n",
       "    </tr>\n",
       "    <tr>\n",
       "      <th>6.630246</th>\n",
       "      <td>2</td>\n",
       "    </tr>\n",
       "    <tr>\n",
       "      <th>6.706766</th>\n",
       "      <td>3</td>\n",
       "    </tr>\n",
       "    <tr>\n",
       "      <th>6.359714</th>\n",
       "      <td>4</td>\n",
       "    </tr>\n",
       "    <tr>\n",
       "      <th>6.986165</th>\n",
       "      <td>5</td>\n",
       "    </tr>\n",
       "    <tr>\n",
       "      <th>6.242137</th>\n",
       "      <td>6</td>\n",
       "    </tr>\n",
       "  </tbody>\n",
       "</table>\n",
       "</div>"
      ],
      "text/plain": [
       "          days\n",
       "6.518332     0\n",
       "6.389281     1\n",
       "6.630246     2\n",
       "6.706766     3\n",
       "6.359714     4\n",
       "6.986165     5\n",
       "6.242137     6"
      ]
     },
     "execution_count": 90,
     "metadata": {},
     "output_type": "execute_result"
    }
   ],
   "source": [
    "days = []\n",
    "price =[]\n",
    "for col in data['day_of_exposition'].unique():\n",
    "    mean = data.loc[data['day_of_exposition']==col, 'new_price'].mean()\n",
    "    days.append(col)\n",
    "    price.append(mean)\n",
    "df1 = pd.DataFrame(days, price, columns=['days'])\n",
    "df1.sort_values(by='days')"
   ]
  },
  {
   "cell_type": "markdown",
   "metadata": {},
   "source": [
    "Зависимости цены от дня размещения объявления вообще нет."
   ]
  },
  {
   "cell_type": "markdown",
   "metadata": {},
   "source": [
    "##### Зависит ли цена от даты размещения (месяц)?"
   ]
  },
  {
   "cell_type": "code",
   "execution_count": 91,
   "metadata": {},
   "outputs": [
    {
     "data": {
      "text/html": [
       "<div>\n",
       "<style scoped>\n",
       "    .dataframe tbody tr th:only-of-type {\n",
       "        vertical-align: middle;\n",
       "    }\n",
       "\n",
       "    .dataframe tbody tr th {\n",
       "        vertical-align: top;\n",
       "    }\n",
       "\n",
       "    .dataframe thead th {\n",
       "        text-align: right;\n",
       "    }\n",
       "</style>\n",
       "<table border=\"1\" class=\"dataframe\">\n",
       "  <thead>\n",
       "    <tr style=\"text-align: right;\">\n",
       "      <th></th>\n",
       "      <th>month</th>\n",
       "    </tr>\n",
       "  </thead>\n",
       "  <tbody>\n",
       "    <tr>\n",
       "      <th>6.664171</th>\n",
       "      <td>1</td>\n",
       "    </tr>\n",
       "    <tr>\n",
       "      <th>6.463941</th>\n",
       "      <td>2</td>\n",
       "    </tr>\n",
       "    <tr>\n",
       "      <th>6.359922</th>\n",
       "      <td>3</td>\n",
       "    </tr>\n",
       "    <tr>\n",
       "      <th>6.743395</th>\n",
       "      <td>4</td>\n",
       "    </tr>\n",
       "    <tr>\n",
       "      <th>6.591127</th>\n",
       "      <td>5</td>\n",
       "    </tr>\n",
       "    <tr>\n",
       "      <th>6.316913</th>\n",
       "      <td>6</td>\n",
       "    </tr>\n",
       "    <tr>\n",
       "      <th>6.639479</th>\n",
       "      <td>7</td>\n",
       "    </tr>\n",
       "    <tr>\n",
       "      <th>6.345784</th>\n",
       "      <td>8</td>\n",
       "    </tr>\n",
       "    <tr>\n",
       "      <th>6.838447</th>\n",
       "      <td>9</td>\n",
       "    </tr>\n",
       "    <tr>\n",
       "      <th>6.236776</th>\n",
       "      <td>10</td>\n",
       "    </tr>\n",
       "    <tr>\n",
       "      <th>6.449083</th>\n",
       "      <td>11</td>\n",
       "    </tr>\n",
       "    <tr>\n",
       "      <th>7.005343</th>\n",
       "      <td>12</td>\n",
       "    </tr>\n",
       "  </tbody>\n",
       "</table>\n",
       "</div>"
      ],
      "text/plain": [
       "          month\n",
       "6.664171      1\n",
       "6.463941      2\n",
       "6.359922      3\n",
       "6.743395      4\n",
       "6.591127      5\n",
       "6.316913      6\n",
       "6.639479      7\n",
       "6.345784      8\n",
       "6.838447      9\n",
       "6.236776     10\n",
       "6.449083     11\n",
       "7.005343     12"
      ]
     },
     "execution_count": 91,
     "metadata": {},
     "output_type": "execute_result"
    }
   ],
   "source": [
    "month = []\n",
    "price =[]\n",
    "for col in data['month_of_exposition'].unique():\n",
    "    mean = data.loc[data['month_of_exposition']==col, 'new_price'].mean()\n",
    "    month.append(col)\n",
    "    price.append(mean)\n",
    "df1 = pd.DataFrame(month, price, columns=['month'])\n",
    "df1.sort_values(by='month')"
   ]
  },
  {
   "cell_type": "markdown",
   "metadata": {},
   "source": [
    "Зависимости цены от месяца размещения объявления тоже нет. Только в декабре цены чуть повыше."
   ]
  },
  {
   "cell_type": "markdown",
   "metadata": {},
   "source": [
    "##### Зависит ли цена от даты размещения (год)?"
   ]
  },
  {
   "cell_type": "code",
   "execution_count": 92,
   "metadata": {},
   "outputs": [
    {
     "data": {
      "text/html": [
       "<div>\n",
       "<style scoped>\n",
       "    .dataframe tbody tr th:only-of-type {\n",
       "        vertical-align: middle;\n",
       "    }\n",
       "\n",
       "    .dataframe tbody tr th {\n",
       "        vertical-align: top;\n",
       "    }\n",
       "\n",
       "    .dataframe thead th {\n",
       "        text-align: right;\n",
       "    }\n",
       "</style>\n",
       "<table border=\"1\" class=\"dataframe\">\n",
       "  <thead>\n",
       "    <tr style=\"text-align: right;\">\n",
       "      <th></th>\n",
       "      <th>years</th>\n",
       "    </tr>\n",
       "  </thead>\n",
       "  <tbody>\n",
       "    <tr>\n",
       "      <th>12.046600</th>\n",
       "      <td>2014</td>\n",
       "    </tr>\n",
       "    <tr>\n",
       "      <th>8.595669</th>\n",
       "      <td>2015</td>\n",
       "    </tr>\n",
       "    <tr>\n",
       "      <th>6.829117</th>\n",
       "      <td>2016</td>\n",
       "    </tr>\n",
       "    <tr>\n",
       "      <th>6.582530</th>\n",
       "      <td>2017</td>\n",
       "    </tr>\n",
       "    <tr>\n",
       "      <th>5.954065</th>\n",
       "      <td>2018</td>\n",
       "    </tr>\n",
       "    <tr>\n",
       "      <th>6.779324</th>\n",
       "      <td>2019</td>\n",
       "    </tr>\n",
       "  </tbody>\n",
       "</table>\n",
       "</div>"
      ],
      "text/plain": [
       "           years\n",
       "12.046600   2014\n",
       "8.595669    2015\n",
       "6.829117    2016\n",
       "6.582530    2017\n",
       "5.954065    2018\n",
       "6.779324    2019"
      ]
     },
     "execution_count": 92,
     "metadata": {},
     "output_type": "execute_result"
    }
   ],
   "source": [
    "years = []\n",
    "price =[]\n",
    "for col in data['year_of_exposition'].unique():\n",
    "    mean = data.loc[data['year_of_exposition']==col, 'new_price'].mean()\n",
    "    years.append(col)\n",
    "    price.append(mean)\n",
    "df1 = pd.DataFrame(years, price, columns=['years'])\n",
    "df1.sort_values(by='years')"
   ]
  },
  {
   "cell_type": "markdown",
   "metadata": {},
   "source": [
    "По средней цене похоже на обратную зависимость с 2014 по 2017 год."
   ]
  },
  {
   "cell_type": "markdown",
   "metadata": {},
   "source": [
    "*Больше всего на стоимость квариры влияет общая площадь - корреляция 0,65.*"
   ]
  },
  {
   "cell_type": "markdown",
   "metadata": {},
   "source": [
    " #### Средняя цена одного квадратного метра в 10 населённых пунктах с наибольшим числом объявлений"
   ]
  },
  {
   "cell_type": "code",
   "execution_count": 93,
   "metadata": {},
   "outputs": [
    {
     "data": {
      "text/html": [
       "<div>\n",
       "<style scoped>\n",
       "    .dataframe tbody tr th:only-of-type {\n",
       "        vertical-align: middle;\n",
       "    }\n",
       "\n",
       "    .dataframe tbody tr th {\n",
       "        vertical-align: top;\n",
       "    }\n",
       "\n",
       "    .dataframe thead th {\n",
       "        text-align: right;\n",
       "    }\n",
       "</style>\n",
       "<table border=\"1\" class=\"dataframe\">\n",
       "  <thead>\n",
       "    <tr style=\"text-align: right;\">\n",
       "      <th></th>\n",
       "      <th>count</th>\n",
       "      <th>mean</th>\n",
       "    </tr>\n",
       "    <tr>\n",
       "      <th>locality_name</th>\n",
       "      <th></th>\n",
       "      <th></th>\n",
       "    </tr>\n",
       "  </thead>\n",
       "  <tbody>\n",
       "    <tr>\n",
       "      <th>Санкт-Петербург</th>\n",
       "      <td>15651</td>\n",
       "      <td>114868.877341</td>\n",
       "    </tr>\n",
       "    <tr>\n",
       "      <th>поселок Мурино</th>\n",
       "      <td>552</td>\n",
       "      <td>85629.568678</td>\n",
       "    </tr>\n",
       "    <tr>\n",
       "      <th>поселок Шушары</th>\n",
       "      <td>439</td>\n",
       "      <td>78551.344545</td>\n",
       "    </tr>\n",
       "    <tr>\n",
       "      <th>Всеволожск</th>\n",
       "      <td>398</td>\n",
       "      <td>68654.473986</td>\n",
       "    </tr>\n",
       "    <tr>\n",
       "      <th>Пушкин</th>\n",
       "      <td>369</td>\n",
       "      <td>103125.819291</td>\n",
       "    </tr>\n",
       "    <tr>\n",
       "      <th>Колпино</th>\n",
       "      <td>338</td>\n",
       "      <td>75424.579098</td>\n",
       "    </tr>\n",
       "    <tr>\n",
       "      <th>поселок Парголово</th>\n",
       "      <td>327</td>\n",
       "      <td>90175.913458</td>\n",
       "    </tr>\n",
       "    <tr>\n",
       "      <th>Гатчина</th>\n",
       "      <td>307</td>\n",
       "      <td>68746.146763</td>\n",
       "    </tr>\n",
       "    <tr>\n",
       "      <th>деревня Кудрово</th>\n",
       "      <td>299</td>\n",
       "      <td>92473.547576</td>\n",
       "    </tr>\n",
       "    <tr>\n",
       "      <th>Выборг</th>\n",
       "      <td>237</td>\n",
       "      <td>58141.909153</td>\n",
       "    </tr>\n",
       "  </tbody>\n",
       "</table>\n",
       "</div>"
      ],
      "text/plain": [
       "                   count           mean\n",
       "locality_name                          \n",
       "Санкт-Петербург    15651  114868.877341\n",
       "поселок Мурино       552   85629.568678\n",
       "поселок Шушары       439   78551.344545\n",
       "Всеволожск           398   68654.473986\n",
       "Пушкин               369  103125.819291\n",
       "Колпино              338   75424.579098\n",
       "поселок Парголово    327   90175.913458\n",
       "Гатчина              307   68746.146763\n",
       "деревня Кудрово      299   92473.547576\n",
       "Выборг               237   58141.909153"
      ]
     },
     "execution_count": 93,
     "metadata": {},
     "output_type": "execute_result"
    }
   ],
   "source": [
    "df = data.pivot_table(index='locality_name', values='price_of_meter', aggfunc=('count', 'mean'))\n",
    "df = df.sort_values(by='count', ascending=False).head(10)\n",
    "df"
   ]
  },
  {
   "cell_type": "markdown",
   "metadata": {},
   "source": [
    "Данные о средней цене одного квадратного метра в 10-ти самых больших по объявлениям населенных пунктов представлены в последнем столбце таблицы. "
   ]
  },
  {
   "cell_type": "markdown",
   "metadata": {},
   "source": [
    "#### Средняя цена каждого километра до центра"
   ]
  },
  {
   "cell_type": "code",
   "execution_count": 94,
   "metadata": {
    "scrolled": false
   },
   "outputs": [],
   "source": [
    "df_saints = data.query('locality_name==\"Санкт-Петербург\"').sort_values(by='cityCenters_nearest_km')\n",
    "df_saints = df_saints.pivot_table(index='cityCenters_nearest_km', values='price_of_meter', aggfunc=('count', 'median', 'mean'))\n",
    "df_saints['cityCenters_nearest_km'] = df_saints.index \n",
    "\n",
    "#Я не особо понял, что такое стоимость каждого км до центра, поэтому я просто посчитал зависимость цен от расстояния до центра.\n",
    "#Я могу разделить каждую среднюю цену на количество километров по очереди(245833руб. - цена 0 км, 176640/1 - цена первого км, \n",
    "# 157944/2 - цена первых двух км. Но они же не будут совпадать - для каждого километра будет разная цена километра)"
   ]
  },
  {
   "cell_type": "markdown",
   "metadata": {},
   "source": [
    "Средние и медианные цены, в зависимости от растояния до центра представлены в таблице."
   ]
  },
  {
   "cell_type": "code",
   "execution_count": 95,
   "metadata": {},
   "outputs": [
    {
     "data": {
      "text/plain": [
       "<AxesSubplot:xlabel='cityCenters_nearest_km'>"
      ]
     },
     "execution_count": 95,
     "metadata": {},
     "output_type": "execute_result"
    },
    {
     "data": {
      "image/png": "[encoded data removed]",
      "text/plain": [
       "<Figure size 432x288 with 1 Axes>"
      ]
     },
     "metadata": {
      "needs_background": "light"
     },
     "output_type": "display_data"
    }
   ],
   "source": [
    "df_saints.plot( x=\"cityCenters_nearest_km\", y='mean')"
   ]
  },
  {
   "cell_type": "code",
   "execution_count": 96,
   "metadata": {},
   "outputs": [
    {
     "data": {
      "text/plain": [
       "-0.7694410425911339"
      ]
     },
     "execution_count": 96,
     "metadata": {},
     "output_type": "execute_result"
    }
   ],
   "source": [
    "df_saints['cityCenters_nearest_km'].corr(df_saints['mean'])"
   ]
  },
  {
   "cell_type": "markdown",
   "metadata": {},
   "source": [
    "В итоге можно сказать, что расттояние до центра сильно коррелирует со средней и медианной ценой одного квадратного метра - чем больше расстояние от центра, тем меншье цена(обратная зависимость)."
   ]
  },
  {
   "cell_type": "markdown",
   "metadata": {},
   "source": [
    "### Общий вывод"
   ]
  },
  {
   "cell_type": "markdown",
   "metadata": {},
   "source": [
    "Мною было проведенно иследование на основании данных о продаже квартир, я ответил на следющие задаваемые вопросы:\n",
    "\n",
    "**1)Как быстро продавались квартиры? И какие продажи можно назвать быстрыми, а какие - долгими?**\n",
    "\n",
    "*В среднем квартиры продавались по 163 дня. Медианное количество дней - 74. По диаграмме размаха, можно сказать, что быстрым являются продажи от 45 до 199 дней. Необычно долгие продажи,я считаю, происходят от 430 дней(на основе рассчетов).*\n",
    "\n",
    "**2)Какие факторы больше всего влияют на общую (полную) стоимость объекта?**\n",
    "\n",
    "*Больше всего на стоимость объекта влияет общая площадь квартиры. Жилая площадь больше влияет на стоимость объекта, чем площадь кухни. И в более меньшей степени на стоимость квартиры влияет количество комнат и тип этажа. Дата размещения объявдения никак не влияет на стоимость объекта.*\n",
    "\n",
    "**3)Какая средняя цена одного квадратного метра в 10 населённых пунктах с наибольшим числом объявлений?**\n",
    "\n",
    "*В Санкт-Петербурге цена одного квадратного метра в среднем равна 124421 руб., в поселке Мурино - 83081 руб., в поселке Шушары - 76328 руб., во Всеволожске - 67635 руб., в городе Пушкин - 105097 руб., в Колпино - 74467 руб., в поселке Парголово - 87110 руб., в Гатчине - 68475 руб., в деревне Кудрово - 90916 руб., в Выборге - 57898 руб..*\n",
    "\n",
    "**4)Как стоимость объектов зависит от расстояния до центра города?**\n",
    "\n",
    "*Можно сказать, что расттояние до центра сильно коррелирует со средней и медианной ценой одного квадратного метра - чем больше расстояние от центра, тем меншье цена(обратная зависимость).*"
   ]
  }
 ],
 "metadata": {
  "ExecuteTimeLog": [
   {
    "duration": 464,
    "start_time": "2023-02-07T12:28:34.181Z"
   },
   {
    "duration": 155,
    "start_time": "2023-02-07T12:28:39.964Z"
   },
   {
    "duration": 13,
    "start_time": "2023-02-07T12:28:56.771Z"
   },
   {
    "duration": 94,
    "start_time": "2023-02-07T12:29:13.492Z"
   },
   {
    "duration": 29,
    "start_time": "2023-02-07T12:29:14.132Z"
   },
   {
    "duration": 15,
    "start_time": "2023-02-07T12:29:27.588Z"
   },
   {
    "duration": 117,
    "start_time": "2023-02-07T12:30:42.468Z"
   },
   {
    "duration": 12,
    "start_time": "2023-02-07T12:30:42.716Z"
   },
   {
    "duration": 83,
    "start_time": "2023-02-07T12:30:48.637Z"
   },
   {
    "duration": 15,
    "start_time": "2023-02-07T12:30:50.060Z"
   },
   {
    "duration": 63,
    "start_time": "2023-02-07T12:33:12.813Z"
   },
   {
    "duration": 39,
    "start_time": "2023-02-07T12:34:33.608Z"
   },
   {
    "duration": 27,
    "start_time": "2023-02-07T12:34:57.567Z"
   },
   {
    "duration": 8,
    "start_time": "2023-02-07T12:36:17.665Z"
   },
   {
    "duration": 30,
    "start_time": "2023-02-07T12:41:44.098Z"
   },
   {
    "duration": 14,
    "start_time": "2023-02-07T12:43:45.364Z"
   },
   {
    "duration": 8,
    "start_time": "2023-02-07T12:44:11.153Z"
   },
   {
    "duration": 6,
    "start_time": "2023-02-07T12:44:18.979Z"
   },
   {
    "duration": 10,
    "start_time": "2023-02-07T12:44:28.635Z"
   },
   {
    "duration": 9,
    "start_time": "2023-02-07T12:47:40.382Z"
   },
   {
    "duration": 14,
    "start_time": "2023-02-07T12:47:42.910Z"
   },
   {
    "duration": 7,
    "start_time": "2023-02-07T12:51:22.735Z"
   },
   {
    "duration": 5,
    "start_time": "2023-02-07T12:54:32.074Z"
   },
   {
    "duration": 16,
    "start_time": "2023-02-07T12:54:33.870Z"
   },
   {
    "duration": 35,
    "start_time": "2023-02-07T13:56:42.274Z"
   },
   {
    "duration": 3790,
    "start_time": "2023-02-07T14:00:10.061Z"
   },
   {
    "duration": 9,
    "start_time": "2023-02-07T14:00:22.228Z"
   },
   {
    "duration": 4,
    "start_time": "2023-02-07T14:03:34.644Z"
   },
   {
    "duration": 10,
    "start_time": "2023-02-07T14:03:35.178Z"
   },
   {
    "duration": 3,
    "start_time": "2023-02-07T14:03:58.546Z"
   },
   {
    "duration": 4,
    "start_time": "2023-02-07T14:04:23.162Z"
   },
   {
    "duration": 14,
    "start_time": "2023-02-07T14:04:23.594Z"
   },
   {
    "duration": 57,
    "start_time": "2023-02-07T14:06:29.364Z"
   },
   {
    "duration": 1129,
    "start_time": "2023-02-07T14:07:02.058Z"
   },
   {
    "duration": 1252,
    "start_time": "2023-02-07T14:07:13.136Z"
   },
   {
    "duration": 583,
    "start_time": "2023-02-07T14:07:19.276Z"
   },
   {
    "duration": 15,
    "start_time": "2023-02-07T14:07:58.582Z"
   },
   {
    "duration": 6,
    "start_time": "2023-02-07T14:08:09.781Z"
   },
   {
    "duration": 36,
    "start_time": "2023-02-07T14:08:22.624Z"
   },
   {
    "duration": 9,
    "start_time": "2023-02-07T14:08:44.623Z"
   },
   {
    "duration": 1283,
    "start_time": "2023-02-07T14:19:17.914Z"
   },
   {
    "duration": 1198,
    "start_time": "2023-02-07T14:22:28.887Z"
   },
   {
    "duration": 36,
    "start_time": "2023-02-07T14:22:40.223Z"
   },
   {
    "duration": 1023,
    "start_time": "2023-02-07T14:28:04.866Z"
   },
   {
    "duration": 10,
    "start_time": "2023-02-07T14:28:10.946Z"
   },
   {
    "duration": 890,
    "start_time": "2023-02-07T14:28:38.218Z"
   },
   {
    "duration": 10,
    "start_time": "2023-02-07T14:28:39.111Z"
   },
   {
    "duration": 8,
    "start_time": "2023-02-07T14:29:33.892Z"
   },
   {
    "duration": 6,
    "start_time": "2023-02-07T14:46:03.581Z"
   },
   {
    "duration": 9,
    "start_time": "2023-02-07T14:46:28.597Z"
   },
   {
    "duration": 7,
    "start_time": "2023-02-07T14:46:39.006Z"
   },
   {
    "duration": 5,
    "start_time": "2023-02-07T14:50:15.032Z"
   },
   {
    "duration": 7,
    "start_time": "2023-02-07T14:52:46.185Z"
   },
   {
    "duration": 7,
    "start_time": "2023-02-07T14:52:55.603Z"
   },
   {
    "duration": 8,
    "start_time": "2023-02-07T14:53:04.658Z"
   },
   {
    "duration": 42,
    "start_time": "2023-02-07T14:54:25.299Z"
   },
   {
    "duration": 51,
    "start_time": "2023-02-07T15:06:53.785Z"
   },
   {
    "duration": 94,
    "start_time": "2023-02-07T15:08:43.150Z"
   },
   {
    "duration": 1238,
    "start_time": "2023-02-07T15:26:33.481Z"
   },
   {
    "duration": 1203,
    "start_time": "2023-02-07T15:50:22.243Z"
   },
   {
    "duration": 49,
    "start_time": "2023-02-07T19:26:23.561Z"
   },
   {
    "duration": 819,
    "start_time": "2023-02-07T19:26:27.473Z"
   },
   {
    "duration": 36,
    "start_time": "2023-02-07T19:26:28.293Z"
   },
   {
    "duration": 13,
    "start_time": "2023-02-07T19:26:28.330Z"
   },
   {
    "duration": 10,
    "start_time": "2023-02-07T19:26:29.381Z"
   },
   {
    "duration": 3,
    "start_time": "2023-02-07T19:26:34.239Z"
   },
   {
    "duration": 3,
    "start_time": "2023-02-07T19:26:34.615Z"
   },
   {
    "duration": 11,
    "start_time": "2023-02-07T19:26:34.967Z"
   },
   {
    "duration": 5,
    "start_time": "2023-02-07T19:26:35.318Z"
   },
   {
    "duration": 7,
    "start_time": "2023-02-07T19:26:35.878Z"
   },
   {
    "duration": 12,
    "start_time": "2023-02-07T19:26:37.481Z"
   },
   {
    "duration": 5,
    "start_time": "2023-02-07T19:26:46.254Z"
   },
   {
    "duration": 739,
    "start_time": "2023-02-07T19:32:50.881Z"
   },
   {
    "duration": 756,
    "start_time": "2023-02-07T19:34:26.147Z"
   },
   {
    "duration": 5,
    "start_time": "2023-02-07T19:34:39.051Z"
   },
   {
    "duration": 20,
    "start_time": "2023-02-07T20:14:40.113Z"
   },
   {
    "duration": 9,
    "start_time": "2023-02-07T20:14:41.300Z"
   },
   {
    "duration": 543,
    "start_time": "2023-02-08T13:30:42.336Z"
   },
   {
    "duration": 36,
    "start_time": "2023-02-08T13:30:42.882Z"
   },
   {
    "duration": 16,
    "start_time": "2023-02-08T13:30:43.312Z"
   },
   {
    "duration": 10,
    "start_time": "2023-02-08T13:30:44.160Z"
   },
   {
    "duration": 1245,
    "start_time": "2023-02-08T13:30:45.369Z"
   },
   {
    "duration": 16,
    "start_time": "2023-02-08T13:30:46.689Z"
   },
   {
    "duration": 9,
    "start_time": "2023-02-08T13:30:47.568Z"
   },
   {
    "duration": 7,
    "start_time": "2023-02-08T13:32:47.258Z"
   },
   {
    "duration": 9,
    "start_time": "2023-02-08T13:33:00.783Z"
   },
   {
    "duration": 6,
    "start_time": "2023-02-08T13:34:01.163Z"
   },
   {
    "duration": 8,
    "start_time": "2023-02-08T13:34:08.778Z"
   },
   {
    "duration": 7,
    "start_time": "2023-02-08T13:34:16.218Z"
   },
   {
    "duration": 8,
    "start_time": "2023-02-08T13:34:26.370Z"
   },
   {
    "duration": 7,
    "start_time": "2023-02-08T13:34:46.266Z"
   },
   {
    "duration": 2409,
    "start_time": "2023-02-08T13:35:48.638Z"
   },
   {
    "duration": 19,
    "start_time": "2023-02-08T13:39:18.962Z"
   },
   {
    "duration": 71,
    "start_time": "2023-02-08T13:39:54.134Z"
   },
   {
    "duration": 31,
    "start_time": "2023-02-08T13:39:57.693Z"
   },
   {
    "duration": 6,
    "start_time": "2023-02-08T13:41:54.934Z"
   },
   {
    "duration": 5,
    "start_time": "2023-02-08T13:43:53.558Z"
   },
   {
    "duration": 82,
    "start_time": "2023-02-08T13:48:12.729Z"
   },
   {
    "duration": 76,
    "start_time": "2023-02-08T13:49:05.736Z"
   },
   {
    "duration": 620,
    "start_time": "2023-02-08T13:49:29.114Z"
   },
   {
    "duration": 8,
    "start_time": "2023-02-08T13:50:18.866Z"
   },
   {
    "duration": 24,
    "start_time": "2023-02-08T13:51:24.532Z"
   },
   {
    "duration": 5,
    "start_time": "2023-02-08T13:51:59.075Z"
   },
   {
    "duration": 16,
    "start_time": "2023-02-08T13:52:00.993Z"
   },
   {
    "duration": 18,
    "start_time": "2023-02-08T13:53:21.532Z"
   },
   {
    "duration": 7,
    "start_time": "2023-02-08T13:55:20.881Z"
   },
   {
    "duration": 3,
    "start_time": "2023-02-08T13:55:39.453Z"
   },
   {
    "duration": 13,
    "start_time": "2023-02-08T13:55:39.927Z"
   },
   {
    "duration": 7,
    "start_time": "2023-02-08T13:56:17.573Z"
   },
   {
    "duration": 3,
    "start_time": "2023-02-08T13:56:20.565Z"
   },
   {
    "duration": 9,
    "start_time": "2023-02-08T13:56:20.903Z"
   },
   {
    "duration": 10,
    "start_time": "2023-02-08T13:56:42.660Z"
   },
   {
    "duration": 8,
    "start_time": "2023-02-08T13:56:49.380Z"
   },
   {
    "duration": 7,
    "start_time": "2023-02-08T13:56:52.980Z"
   },
   {
    "duration": 16,
    "start_time": "2023-02-08T13:57:56.373Z"
   },
   {
    "duration": 4,
    "start_time": "2023-02-08T13:58:24.086Z"
   },
   {
    "duration": 6,
    "start_time": "2023-02-08T13:58:56.566Z"
   },
   {
    "duration": 16,
    "start_time": "2023-02-08T13:59:51.766Z"
   },
   {
    "duration": 8,
    "start_time": "2023-02-08T14:00:01.926Z"
   },
   {
    "duration": 15,
    "start_time": "2023-02-08T14:00:28.502Z"
   },
   {
    "duration": 23,
    "start_time": "2023-02-08T14:00:29.623Z"
   },
   {
    "duration": 11,
    "start_time": "2023-02-08T14:02:23.104Z"
   },
   {
    "duration": 24,
    "start_time": "2023-02-08T14:02:24.528Z"
   },
   {
    "duration": 6,
    "start_time": "2023-02-08T14:14:20.302Z"
   },
   {
    "duration": 634,
    "start_time": "2023-02-08T20:23:23.656Z"
   },
   {
    "duration": 38,
    "start_time": "2023-02-08T20:23:24.298Z"
   },
   {
    "duration": 16,
    "start_time": "2023-02-08T20:23:25.136Z"
   },
   {
    "duration": 2743,
    "start_time": "2023-02-08T20:23:25.541Z"
   },
   {
    "duration": 23,
    "start_time": "2023-02-08T20:23:32.458Z"
   },
   {
    "duration": 24,
    "start_time": "2023-02-08T20:23:32.848Z"
   },
   {
    "duration": 42,
    "start_time": "2023-02-08T20:23:33.301Z"
   },
   {
    "duration": 26,
    "start_time": "2023-02-08T20:23:34.154Z"
   },
   {
    "duration": 8,
    "start_time": "2023-02-08T20:23:35.101Z"
   },
   {
    "duration": 19,
    "start_time": "2023-02-08T20:23:35.569Z"
   },
   {
    "duration": 8,
    "start_time": "2023-02-08T20:23:36.889Z"
   },
   {
    "duration": 6,
    "start_time": "2023-02-08T20:23:37.396Z"
   },
   {
    "duration": 16,
    "start_time": "2023-02-08T20:23:46.575Z"
   },
   {
    "duration": 1211,
    "start_time": "2023-02-08T20:25:03.371Z"
   },
   {
    "duration": 11,
    "start_time": "2023-02-08T20:25:04.584Z"
   },
   {
    "duration": 17,
    "start_time": "2023-02-08T20:26:03.251Z"
   },
   {
    "duration": 9,
    "start_time": "2023-02-08T20:26:04.487Z"
   },
   {
    "duration": 74,
    "start_time": "2023-02-08T20:27:26.848Z"
   },
   {
    "duration": 8,
    "start_time": "2023-02-08T20:27:29.183Z"
   },
   {
    "duration": 9,
    "start_time": "2023-02-08T20:28:22.837Z"
   },
   {
    "duration": 11,
    "start_time": "2023-02-08T20:28:24.055Z"
   },
   {
    "duration": 13,
    "start_time": "2023-02-08T20:30:51.354Z"
   },
   {
    "duration": 18,
    "start_time": "2023-02-08T20:30:52.748Z"
   },
   {
    "duration": 9,
    "start_time": "2023-02-08T20:38:41.238Z"
   },
   {
    "duration": 10,
    "start_time": "2023-02-08T20:39:00.138Z"
   },
   {
    "duration": 10,
    "start_time": "2023-02-08T20:39:09.401Z"
   },
   {
    "duration": 9,
    "start_time": "2023-02-08T20:40:28.090Z"
   },
   {
    "duration": 7,
    "start_time": "2023-02-08T20:42:23.512Z"
   },
   {
    "duration": 8,
    "start_time": "2023-02-08T20:42:27.628Z"
   },
   {
    "duration": 28,
    "start_time": "2023-02-08T20:47:27.023Z"
   },
   {
    "duration": 9,
    "start_time": "2023-02-08T20:52:51.778Z"
   },
   {
    "duration": 13,
    "start_time": "2023-02-08T20:55:42.499Z"
   },
   {
    "duration": 8,
    "start_time": "2023-02-08T20:55:45.489Z"
   },
   {
    "duration": 3,
    "start_time": "2023-02-08T21:12:01.722Z"
   },
   {
    "duration": 9,
    "start_time": "2023-02-08T21:12:54.601Z"
   },
   {
    "duration": 8,
    "start_time": "2023-02-08T21:13:05.273Z"
   },
   {
    "duration": 6,
    "start_time": "2023-02-08T21:13:16.544Z"
   },
   {
    "duration": 321,
    "start_time": "2023-02-08T21:14:10.881Z"
   },
   {
    "duration": 0,
    "start_time": "2023-02-08T21:14:11.204Z"
   },
   {
    "duration": 334,
    "start_time": "2023-02-08T21:14:27.172Z"
   },
   {
    "duration": 6,
    "start_time": "2023-02-08T21:14:28.225Z"
   },
   {
    "duration": 10,
    "start_time": "2023-02-08T21:14:34.465Z"
   },
   {
    "duration": 107,
    "start_time": "2023-02-08T21:14:41.766Z"
   },
   {
    "duration": 39,
    "start_time": "2023-02-08T21:14:41.991Z"
   },
   {
    "duration": 22,
    "start_time": "2023-02-08T21:14:42.174Z"
   },
   {
    "duration": 2249,
    "start_time": "2023-02-08T21:14:42.366Z"
   },
   {
    "duration": 12,
    "start_time": "2023-02-08T21:14:44.618Z"
   },
   {
    "duration": 30,
    "start_time": "2023-02-08T21:14:44.632Z"
   },
   {
    "duration": 33,
    "start_time": "2023-02-08T21:14:44.665Z"
   },
   {
    "duration": 8,
    "start_time": "2023-02-08T21:14:44.700Z"
   },
   {
    "duration": 9,
    "start_time": "2023-02-08T21:14:44.710Z"
   },
   {
    "duration": 34,
    "start_time": "2023-02-08T21:14:44.720Z"
   },
   {
    "duration": 7,
    "start_time": "2023-02-08T21:14:44.800Z"
   },
   {
    "duration": 17,
    "start_time": "2023-02-08T21:14:45.593Z"
   },
   {
    "duration": 10,
    "start_time": "2023-02-08T21:14:46.105Z"
   },
   {
    "duration": 11,
    "start_time": "2023-02-08T21:14:47.275Z"
   },
   {
    "duration": 8,
    "start_time": "2023-02-08T21:14:48.331Z"
   },
   {
    "duration": 300,
    "start_time": "2023-02-08T21:15:08.889Z"
   },
   {
    "duration": 5,
    "start_time": "2023-02-08T21:15:09.384Z"
   },
   {
    "duration": 88,
    "start_time": "2023-02-08T21:15:13.783Z"
   },
   {
    "duration": 28,
    "start_time": "2023-02-08T21:15:13.967Z"
   },
   {
    "duration": 15,
    "start_time": "2023-02-08T21:15:14.137Z"
   },
   {
    "duration": 2110,
    "start_time": "2023-02-08T21:15:14.297Z"
   },
   {
    "duration": 10,
    "start_time": "2023-02-08T21:15:16.409Z"
   },
   {
    "duration": 77,
    "start_time": "2023-02-08T21:15:16.420Z"
   },
   {
    "duration": 50,
    "start_time": "2023-02-08T21:15:16.499Z"
   },
   {
    "duration": 27,
    "start_time": "2023-02-08T21:15:16.551Z"
   },
   {
    "duration": 12,
    "start_time": "2023-02-08T21:15:16.579Z"
   },
   {
    "duration": 18,
    "start_time": "2023-02-08T21:15:16.593Z"
   },
   {
    "duration": 6,
    "start_time": "2023-02-08T21:15:16.613Z"
   },
   {
    "duration": 17,
    "start_time": "2023-02-08T21:15:16.621Z"
   },
   {
    "duration": 8,
    "start_time": "2023-02-08T21:15:17.185Z"
   },
   {
    "duration": 8,
    "start_time": "2023-02-08T21:15:18.344Z"
   },
   {
    "duration": 5,
    "start_time": "2023-02-08T21:15:19.241Z"
   },
   {
    "duration": 110,
    "start_time": "2023-02-08T21:17:00.757Z"
   },
   {
    "duration": 39,
    "start_time": "2023-02-08T21:17:00.947Z"
   },
   {
    "duration": 26,
    "start_time": "2023-02-08T21:17:01.138Z"
   },
   {
    "duration": 1987,
    "start_time": "2023-02-08T21:17:01.307Z"
   },
   {
    "duration": 12,
    "start_time": "2023-02-08T21:17:03.297Z"
   },
   {
    "duration": 24,
    "start_time": "2023-02-08T21:17:03.311Z"
   },
   {
    "duration": 51,
    "start_time": "2023-02-08T21:17:03.338Z"
   },
   {
    "duration": 16,
    "start_time": "2023-02-08T21:17:03.391Z"
   },
   {
    "duration": 14,
    "start_time": "2023-02-08T21:17:03.409Z"
   },
   {
    "duration": 34,
    "start_time": "2023-02-08T21:17:03.425Z"
   },
   {
    "duration": 170,
    "start_time": "2023-02-08T21:17:03.461Z"
   },
   {
    "duration": 22,
    "start_time": "2023-02-08T21:17:03.894Z"
   },
   {
    "duration": 10,
    "start_time": "2023-02-08T21:17:04.491Z"
   },
   {
    "duration": 15,
    "start_time": "2023-02-08T21:17:26.979Z"
   },
   {
    "duration": 8,
    "start_time": "2023-02-08T21:17:27.634Z"
   },
   {
    "duration": 26,
    "start_time": "2023-02-08T21:18:16.284Z"
   },
   {
    "duration": 7,
    "start_time": "2023-02-08T21:18:23.587Z"
   },
   {
    "duration": 97,
    "start_time": "2023-02-08T21:21:10.369Z"
   },
   {
    "duration": 31,
    "start_time": "2023-02-08T21:21:10.579Z"
   },
   {
    "duration": 21,
    "start_time": "2023-02-08T21:21:10.758Z"
   },
   {
    "duration": 1938,
    "start_time": "2023-02-08T21:21:10.970Z"
   },
   {
    "duration": 10,
    "start_time": "2023-02-08T21:21:12.910Z"
   },
   {
    "duration": 37,
    "start_time": "2023-02-08T21:21:12.921Z"
   },
   {
    "duration": 29,
    "start_time": "2023-02-08T21:21:12.963Z"
   },
   {
    "duration": 10,
    "start_time": "2023-02-08T21:21:12.993Z"
   },
   {
    "duration": 14,
    "start_time": "2023-02-08T21:21:13.004Z"
   },
   {
    "duration": 22,
    "start_time": "2023-02-08T21:21:13.453Z"
   },
   {
    "duration": 5,
    "start_time": "2023-02-08T21:21:13.877Z"
   },
   {
    "duration": 12,
    "start_time": "2023-02-08T21:21:14.244Z"
   },
   {
    "duration": 69,
    "start_time": "2023-02-08T21:21:14.621Z"
   },
   {
    "duration": 14,
    "start_time": "2023-02-08T21:21:21.663Z"
   },
   {
    "duration": 88,
    "start_time": "2023-02-08T21:22:06.214Z"
   },
   {
    "duration": 16,
    "start_time": "2023-02-08T21:22:18.146Z"
   },
   {
    "duration": 24,
    "start_time": "2023-02-08T21:22:19.175Z"
   },
   {
    "duration": 20,
    "start_time": "2023-02-08T21:22:19.509Z"
   },
   {
    "duration": 19,
    "start_time": "2023-02-08T21:26:07.096Z"
   },
   {
    "duration": 114,
    "start_time": "2023-02-08T21:26:17.895Z"
   },
   {
    "duration": 42,
    "start_time": "2023-02-08T21:26:18.141Z"
   },
   {
    "duration": 19,
    "start_time": "2023-02-08T21:26:18.400Z"
   },
   {
    "duration": 2153,
    "start_time": "2023-02-08T21:26:18.774Z"
   },
   {
    "duration": 24,
    "start_time": "2023-02-08T21:26:20.929Z"
   },
   {
    "duration": 43,
    "start_time": "2023-02-08T21:26:20.959Z"
   },
   {
    "duration": 54,
    "start_time": "2023-02-08T21:26:21.004Z"
   },
   {
    "duration": 10,
    "start_time": "2023-02-08T21:26:21.615Z"
   },
   {
    "duration": 11,
    "start_time": "2023-02-08T21:26:22.248Z"
   },
   {
    "duration": 14,
    "start_time": "2023-02-08T21:26:22.823Z"
   },
   {
    "duration": 7,
    "start_time": "2023-02-08T21:26:23.575Z"
   },
   {
    "duration": 12,
    "start_time": "2023-02-08T21:26:24.231Z"
   },
   {
    "duration": 13,
    "start_time": "2023-02-08T21:26:24.896Z"
   },
   {
    "duration": 17,
    "start_time": "2023-02-08T21:26:43.312Z"
   },
   {
    "duration": 13,
    "start_time": "2023-02-08T21:26:55.432Z"
   },
   {
    "duration": 12,
    "start_time": "2023-02-08T21:27:23.721Z"
   },
   {
    "duration": 9,
    "start_time": "2023-02-08T21:27:27.554Z"
   },
   {
    "duration": 19,
    "start_time": "2023-02-08T21:29:31.000Z"
   },
   {
    "duration": 13,
    "start_time": "2023-02-08T21:30:43.276Z"
   },
   {
    "duration": 7,
    "start_time": "2023-02-08T21:30:43.971Z"
   },
   {
    "duration": 1250,
    "start_time": "2023-02-08T22:46:09.485Z"
   },
   {
    "duration": 5,
    "start_time": "2023-02-08T22:46:35.596Z"
   },
   {
    "duration": 7,
    "start_time": "2023-02-08T22:58:44.528Z"
   },
   {
    "duration": 9,
    "start_time": "2023-02-08T23:19:27.390Z"
   },
   {
    "duration": 734,
    "start_time": "2023-02-09T12:48:46.790Z"
   },
   {
    "duration": 49,
    "start_time": "2023-02-09T12:48:47.526Z"
   },
   {
    "duration": 15,
    "start_time": "2023-02-09T12:48:48.115Z"
   },
   {
    "duration": 2889,
    "start_time": "2023-02-09T12:48:48.514Z"
   },
   {
    "duration": 11,
    "start_time": "2023-02-09T12:48:51.405Z"
   },
   {
    "duration": 18,
    "start_time": "2023-02-09T12:48:52.674Z"
   },
   {
    "duration": 32,
    "start_time": "2023-02-09T12:48:53.589Z"
   },
   {
    "duration": 10,
    "start_time": "2023-02-09T12:48:54.107Z"
   },
   {
    "duration": 9,
    "start_time": "2023-02-09T12:48:54.619Z"
   },
   {
    "duration": 21,
    "start_time": "2023-02-09T12:48:55.078Z"
   },
   {
    "duration": 7,
    "start_time": "2023-02-09T12:48:55.486Z"
   },
   {
    "duration": 19,
    "start_time": "2023-02-09T12:48:56.114Z"
   },
   {
    "duration": 25,
    "start_time": "2023-02-09T12:48:56.657Z"
   },
   {
    "duration": 26,
    "start_time": "2023-02-09T12:48:58.367Z"
   },
   {
    "duration": 26,
    "start_time": "2023-02-09T12:48:58.890Z"
   },
   {
    "duration": 23,
    "start_time": "2023-02-09T12:48:59.453Z"
   },
   {
    "duration": 9,
    "start_time": "2023-02-09T12:49:00.026Z"
   },
   {
    "duration": 10,
    "start_time": "2023-02-09T12:49:31.253Z"
   },
   {
    "duration": 9,
    "start_time": "2023-02-09T12:49:45.299Z"
   },
   {
    "duration": 11,
    "start_time": "2023-02-09T12:50:36.169Z"
   },
   {
    "duration": 16,
    "start_time": "2023-02-09T12:52:18.474Z"
   },
   {
    "duration": 14,
    "start_time": "2023-02-09T12:52:26.485Z"
   },
   {
    "duration": 18,
    "start_time": "2023-02-09T12:57:54.681Z"
   },
   {
    "duration": 18,
    "start_time": "2023-02-09T12:57:57.487Z"
   },
   {
    "duration": 91,
    "start_time": "2023-02-09T13:00:48.097Z"
   },
   {
    "duration": 18,
    "start_time": "2023-02-09T13:01:28.485Z"
   },
   {
    "duration": 18,
    "start_time": "2023-02-09T13:02:00.153Z"
   },
   {
    "duration": 562,
    "start_time": "2023-02-09T18:16:09.103Z"
   },
   {
    "duration": 41,
    "start_time": "2023-02-09T18:16:09.667Z"
   },
   {
    "duration": 15,
    "start_time": "2023-02-09T18:16:09.709Z"
   },
   {
    "duration": 3297,
    "start_time": "2023-02-09T18:16:09.893Z"
   },
   {
    "duration": 14,
    "start_time": "2023-02-09T18:16:13.193Z"
   },
   {
    "duration": 18,
    "start_time": "2023-02-09T18:16:13.209Z"
   },
   {
    "duration": 35,
    "start_time": "2023-02-09T18:16:13.229Z"
   },
   {
    "duration": 17,
    "start_time": "2023-02-09T18:16:13.266Z"
   },
   {
    "duration": 35,
    "start_time": "2023-02-09T18:16:13.286Z"
   },
   {
    "duration": 41,
    "start_time": "2023-02-09T18:16:13.323Z"
   },
   {
    "duration": 5,
    "start_time": "2023-02-09T18:16:13.366Z"
   },
   {
    "duration": 95,
    "start_time": "2023-02-09T18:16:13.373Z"
   },
   {
    "duration": 12,
    "start_time": "2023-02-09T18:16:13.896Z"
   },
   {
    "duration": 74,
    "start_time": "2023-02-09T18:16:14.926Z"
   },
   {
    "duration": 116,
    "start_time": "2023-02-09T18:51:53.039Z"
   },
   {
    "duration": 110,
    "start_time": "2023-02-09T19:50:18.159Z"
   },
   {
    "duration": 355,
    "start_time": "2023-02-09T19:50:29.807Z"
   },
   {
    "duration": 397,
    "start_time": "2023-02-09T19:50:47.657Z"
   },
   {
    "duration": 124,
    "start_time": "2023-02-09T19:51:14.338Z"
   },
   {
    "duration": 28,
    "start_time": "2023-02-09T19:51:14.559Z"
   },
   {
    "duration": 15,
    "start_time": "2023-02-09T19:51:14.757Z"
   },
   {
    "duration": 1927,
    "start_time": "2023-02-09T19:51:14.961Z"
   },
   {
    "duration": 49,
    "start_time": "2023-02-09T19:51:16.890Z"
   },
   {
    "duration": 19,
    "start_time": "2023-02-09T19:51:16.941Z"
   },
   {
    "duration": 28,
    "start_time": "2023-02-09T19:51:16.963Z"
   },
   {
    "duration": 12,
    "start_time": "2023-02-09T19:51:16.994Z"
   },
   {
    "duration": 20,
    "start_time": "2023-02-09T19:51:17.021Z"
   },
   {
    "duration": 16,
    "start_time": "2023-02-09T19:51:17.043Z"
   },
   {
    "duration": 5,
    "start_time": "2023-02-09T19:51:17.061Z"
   },
   {
    "duration": 80,
    "start_time": "2023-02-09T19:51:17.078Z"
   },
   {
    "duration": 9,
    "start_time": "2023-02-09T19:51:17.295Z"
   },
   {
    "duration": 74,
    "start_time": "2023-02-09T19:51:18.427Z"
   },
   {
    "duration": 539,
    "start_time": "2023-02-09T19:52:13.567Z"
   },
   {
    "duration": 112,
    "start_time": "2023-02-09T20:58:07.528Z"
   },
   {
    "duration": 28,
    "start_time": "2023-02-09T20:58:08.528Z"
   },
   {
    "duration": 22,
    "start_time": "2023-02-09T20:58:08.997Z"
   },
   {
    "duration": 1865,
    "start_time": "2023-02-09T20:58:09.365Z"
   },
   {
    "duration": 8,
    "start_time": "2023-02-09T20:58:16.100Z"
   },
   {
    "duration": 1491,
    "start_time": "2023-02-09T20:58:16.861Z"
   },
   {
    "duration": 0,
    "start_time": "2023-02-09T20:58:18.354Z"
   },
   {
    "duration": 25,
    "start_time": "2023-02-09T20:58:25.411Z"
   },
   {
    "duration": 9,
    "start_time": "2023-02-09T20:58:27.164Z"
   },
   {
    "duration": 16,
    "start_time": "2023-02-09T21:02:00.362Z"
   },
   {
    "duration": 9,
    "start_time": "2023-02-09T21:02:00.882Z"
   },
   {
    "duration": 25,
    "start_time": "2023-02-09T21:23:22.140Z"
   },
   {
    "duration": 681,
    "start_time": "2023-02-09T21:28:55.775Z"
   },
   {
    "duration": 25,
    "start_time": "2023-02-09T21:29:06.329Z"
   },
   {
    "duration": 114,
    "start_time": "2023-02-09T21:29:16.042Z"
   },
   {
    "duration": 727,
    "start_time": "2023-02-10T11:53:55.160Z"
   },
   {
    "duration": 41,
    "start_time": "2023-02-10T11:53:55.889Z"
   },
   {
    "duration": 17,
    "start_time": "2023-02-10T11:53:56.277Z"
   },
   {
    "duration": 2355,
    "start_time": "2023-02-10T11:53:56.638Z"
   },
   {
    "duration": 9,
    "start_time": "2023-02-10T11:53:58.995Z"
   },
   {
    "duration": 39,
    "start_time": "2023-02-10T11:53:59.006Z"
   },
   {
    "duration": 18,
    "start_time": "2023-02-10T11:53:59.047Z"
   },
   {
    "duration": 8,
    "start_time": "2023-02-10T11:53:59.198Z"
   },
   {
    "duration": 16,
    "start_time": "2023-02-10T11:53:59.990Z"
   },
   {
    "duration": 30,
    "start_time": "2023-02-10T11:54:00.342Z"
   },
   {
    "duration": 33,
    "start_time": "2023-02-10T11:54:01.022Z"
   },
   {
    "duration": 5,
    "start_time": "2023-02-10T11:54:01.334Z"
   },
   {
    "duration": 56,
    "start_time": "2023-02-10T11:54:01.677Z"
   },
   {
    "duration": 7,
    "start_time": "2023-02-10T11:54:02.093Z"
   },
   {
    "duration": 322,
    "start_time": "2023-02-10T11:54:02.878Z"
   },
   {
    "duration": 126,
    "start_time": "2023-02-10T11:55:13.423Z"
   },
   {
    "duration": 197,
    "start_time": "2023-02-10T11:55:59.989Z"
   },
   {
    "duration": 303,
    "start_time": "2023-02-10T11:56:06.632Z"
   },
   {
    "duration": 240,
    "start_time": "2023-02-10T11:56:20.272Z"
   },
   {
    "duration": 254,
    "start_time": "2023-02-10T11:57:02.522Z"
   },
   {
    "duration": 250,
    "start_time": "2023-02-10T11:57:30.185Z"
   },
   {
    "duration": 232,
    "start_time": "2023-02-10T11:57:43.920Z"
   },
   {
    "duration": 375,
    "start_time": "2023-02-10T11:58:05.665Z"
   },
   {
    "duration": 251,
    "start_time": "2023-02-10T11:58:12.969Z"
   },
   {
    "duration": 321,
    "start_time": "2023-02-10T11:58:24.946Z"
   },
   {
    "duration": 72,
    "start_time": "2023-02-10T11:59:37.602Z"
   },
   {
    "duration": 774,
    "start_time": "2023-02-10T12:00:13.314Z"
   },
   {
    "duration": 799,
    "start_time": "2023-02-10T12:00:40.162Z"
   },
   {
    "duration": 60,
    "start_time": "2023-02-10T12:02:10.729Z"
   },
   {
    "duration": 265,
    "start_time": "2023-02-10T12:02:14.675Z"
   },
   {
    "duration": 136,
    "start_time": "2023-02-10T12:02:38.557Z"
   },
   {
    "duration": 48,
    "start_time": "2023-02-10T12:03:16.052Z"
   },
   {
    "duration": 132,
    "start_time": "2023-02-10T12:03:19.899Z"
   },
   {
    "duration": 138,
    "start_time": "2023-02-10T12:03:29.085Z"
   },
   {
    "duration": 22,
    "start_time": "2023-02-10T12:03:39.900Z"
   },
   {
    "duration": 113,
    "start_time": "2023-02-10T12:03:43.572Z"
   },
   {
    "duration": 269,
    "start_time": "2023-02-10T12:03:50.916Z"
   },
   {
    "duration": 117,
    "start_time": "2023-02-10T12:05:40.622Z"
   },
   {
    "duration": 249,
    "start_time": "2023-02-10T12:06:00.486Z"
   },
   {
    "duration": 117,
    "start_time": "2023-02-10T12:06:16.022Z"
   },
   {
    "duration": 128,
    "start_time": "2023-02-10T12:06:30.663Z"
   },
   {
    "duration": 260,
    "start_time": "2023-02-10T12:06:32.351Z"
   },
   {
    "duration": 222,
    "start_time": "2023-02-10T12:07:45.919Z"
   },
   {
    "duration": 392,
    "start_time": "2023-02-10T12:08:03.847Z"
   },
   {
    "duration": 311,
    "start_time": "2023-02-10T12:08:16.319Z"
   },
   {
    "duration": 237,
    "start_time": "2023-02-10T12:08:22.936Z"
   },
   {
    "duration": 309,
    "start_time": "2023-02-10T12:08:27.751Z"
   },
   {
    "duration": 240,
    "start_time": "2023-02-10T12:08:40.855Z"
   },
   {
    "duration": 11,
    "start_time": "2023-02-10T12:09:40.419Z"
   },
   {
    "duration": 8,
    "start_time": "2023-02-10T12:14:33.683Z"
   },
   {
    "duration": 117,
    "start_time": "2023-02-10T12:14:37.588Z"
   },
   {
    "duration": 242,
    "start_time": "2023-02-10T12:14:49.348Z"
   },
   {
    "duration": 260,
    "start_time": "2023-02-10T12:15:20.140Z"
   },
   {
    "duration": 408,
    "start_time": "2023-02-10T12:15:51.860Z"
   },
   {
    "duration": 280,
    "start_time": "2023-02-10T12:16:12.516Z"
   },
   {
    "duration": 280,
    "start_time": "2023-02-10T12:19:22.390Z"
   },
   {
    "duration": 9,
    "start_time": "2023-02-10T12:19:24.164Z"
   },
   {
    "duration": 114,
    "start_time": "2023-02-10T12:19:24.374Z"
   },
   {
    "duration": 306,
    "start_time": "2023-02-10T12:19:36.423Z"
   },
   {
    "duration": 263,
    "start_time": "2023-02-10T12:19:44.422Z"
   },
   {
    "duration": 233,
    "start_time": "2023-02-10T12:19:52.031Z"
   },
   {
    "duration": 258,
    "start_time": "2023-02-10T12:20:03.479Z"
   },
   {
    "duration": 265,
    "start_time": "2023-02-10T12:20:12.310Z"
   },
   {
    "duration": 255,
    "start_time": "2023-02-10T12:20:19.639Z"
   },
   {
    "duration": 411,
    "start_time": "2023-02-10T12:23:06.952Z"
   },
   {
    "duration": 179,
    "start_time": "2023-02-10T12:23:18.735Z"
   },
   {
    "duration": 193,
    "start_time": "2023-02-10T12:23:59.841Z"
   },
   {
    "duration": 182,
    "start_time": "2023-02-10T12:24:06.561Z"
   },
   {
    "duration": 181,
    "start_time": "2023-02-10T12:24:27.657Z"
   },
   {
    "duration": 173,
    "start_time": "2023-02-10T12:26:05.666Z"
   },
   {
    "duration": 185,
    "start_time": "2023-02-10T12:27:02.362Z"
   },
   {
    "duration": 187,
    "start_time": "2023-02-10T12:27:27.699Z"
   },
   {
    "duration": 9,
    "start_time": "2023-02-10T12:34:56.767Z"
   },
   {
    "duration": 127,
    "start_time": "2023-02-10T12:35:10.983Z"
   },
   {
    "duration": 92,
    "start_time": "2023-02-10T12:37:00.312Z"
   },
   {
    "duration": 102,
    "start_time": "2023-02-10T12:37:44.017Z"
   },
   {
    "duration": 135,
    "start_time": "2023-02-10T12:38:47.169Z"
   },
   {
    "duration": 118,
    "start_time": "2023-02-10T12:39:10.866Z"
   },
   {
    "duration": 122,
    "start_time": "2023-02-10T12:39:27.922Z"
   },
   {
    "duration": 247,
    "start_time": "2023-02-10T12:41:05.259Z"
   },
   {
    "duration": 253,
    "start_time": "2023-02-10T12:41:17.530Z"
   },
   {
    "duration": 61,
    "start_time": "2023-02-10T12:46:01.941Z"
   },
   {
    "duration": 247,
    "start_time": "2023-02-10T12:46:04.861Z"
   },
   {
    "duration": 250,
    "start_time": "2023-02-10T12:46:18.269Z"
   },
   {
    "duration": 51,
    "start_time": "2023-02-10T12:46:25.846Z"
   },
   {
    "duration": 68,
    "start_time": "2023-02-10T12:46:32.014Z"
   },
   {
    "duration": 129,
    "start_time": "2023-02-10T12:46:45.238Z"
   },
   {
    "duration": 51,
    "start_time": "2023-02-10T12:46:46.238Z"
   },
   {
    "duration": 49,
    "start_time": "2023-02-10T12:46:54.670Z"
   },
   {
    "duration": 261,
    "start_time": "2023-02-10T12:47:13.567Z"
   },
   {
    "duration": 11,
    "start_time": "2023-02-10T12:48:06.231Z"
   },
   {
    "duration": 10,
    "start_time": "2023-02-10T12:48:11.558Z"
   },
   {
    "duration": 8,
    "start_time": "2023-02-10T12:48:14.359Z"
   },
   {
    "duration": 18,
    "start_time": "2023-02-10T12:48:31.687Z"
   },
   {
    "duration": 10,
    "start_time": "2023-02-10T12:48:43.967Z"
   },
   {
    "duration": 8,
    "start_time": "2023-02-10T12:48:48.824Z"
   },
   {
    "duration": 175,
    "start_time": "2023-02-10T12:50:56.160Z"
   },
   {
    "duration": 1068,
    "start_time": "2023-02-10T12:51:02.808Z"
   },
   {
    "duration": 172,
    "start_time": "2023-02-10T12:51:25.232Z"
   },
   {
    "duration": 220,
    "start_time": "2023-02-10T12:52:38.577Z"
   },
   {
    "duration": 10,
    "start_time": "2023-02-10T12:54:03.953Z"
   },
   {
    "duration": 121,
    "start_time": "2023-02-10T12:54:05.042Z"
   },
   {
    "duration": 274,
    "start_time": "2023-02-10T12:54:05.809Z"
   },
   {
    "duration": 10,
    "start_time": "2023-02-10T12:54:13.225Z"
   },
   {
    "duration": 143,
    "start_time": "2023-02-10T12:54:15.657Z"
   },
   {
    "duration": 313,
    "start_time": "2023-02-10T12:54:18.330Z"
   },
   {
    "duration": 11,
    "start_time": "2023-02-10T12:54:26.033Z"
   },
   {
    "duration": 191,
    "start_time": "2023-02-10T12:54:26.474Z"
   },
   {
    "duration": 270,
    "start_time": "2023-02-10T12:54:27.280Z"
   },
   {
    "duration": 197,
    "start_time": "2023-02-10T12:54:37.825Z"
   },
   {
    "duration": 177,
    "start_time": "2023-02-10T12:54:54.201Z"
   },
   {
    "duration": 171,
    "start_time": "2023-02-10T12:55:03.673Z"
   },
   {
    "duration": 229,
    "start_time": "2023-02-10T12:55:12.452Z"
   },
   {
    "duration": 800,
    "start_time": "2023-02-10T12:55:38.858Z"
   },
   {
    "duration": 37,
    "start_time": "2023-02-10T12:55:39.803Z"
   },
   {
    "duration": 17,
    "start_time": "2023-02-10T12:55:40.211Z"
   },
   {
    "duration": 2072,
    "start_time": "2023-02-10T12:55:40.553Z"
   },
   {
    "duration": 10,
    "start_time": "2023-02-10T12:55:43.414Z"
   },
   {
    "duration": 21,
    "start_time": "2023-02-10T12:55:44.226Z"
   },
   {
    "duration": 10,
    "start_time": "2023-02-10T12:55:44.698Z"
   },
   {
    "duration": 12,
    "start_time": "2023-02-10T12:55:45.802Z"
   },
   {
    "duration": 14,
    "start_time": "2023-02-10T12:55:46.714Z"
   },
   {
    "duration": 29,
    "start_time": "2023-02-10T12:55:47.194Z"
   },
   {
    "duration": 31,
    "start_time": "2023-02-10T12:55:47.770Z"
   },
   {
    "duration": 5,
    "start_time": "2023-02-10T12:55:48.158Z"
   },
   {
    "duration": 58,
    "start_time": "2023-02-10T12:55:48.556Z"
   },
   {
    "duration": 7,
    "start_time": "2023-02-10T12:55:48.890Z"
   },
   {
    "duration": 311,
    "start_time": "2023-02-10T12:55:49.506Z"
   },
   {
    "duration": 10,
    "start_time": "2023-02-10T12:55:50.601Z"
   },
   {
    "duration": 113,
    "start_time": "2023-02-10T12:55:51.425Z"
   },
   {
    "duration": 254,
    "start_time": "2023-02-10T12:55:52.155Z"
   },
   {
    "duration": 9,
    "start_time": "2023-02-10T12:55:54.357Z"
   },
   {
    "duration": 193,
    "start_time": "2023-02-10T12:55:54.778Z"
   },
   {
    "duration": 271,
    "start_time": "2023-02-10T12:55:55.557Z"
   },
   {
    "duration": 242,
    "start_time": "2023-02-10T12:55:56.490Z"
   },
   {
    "duration": 10,
    "start_time": "2023-02-10T12:56:02.058Z"
   },
   {
    "duration": 114,
    "start_time": "2023-02-10T12:56:02.674Z"
   },
   {
    "duration": 273,
    "start_time": "2023-02-10T12:56:03.531Z"
   },
   {
    "duration": 192,
    "start_time": "2023-02-10T12:56:04.923Z"
   },
   {
    "duration": 219,
    "start_time": "2023-02-10T12:56:25.506Z"
   },
   {
    "duration": 10,
    "start_time": "2023-02-10T12:59:20.021Z"
   },
   {
    "duration": 121,
    "start_time": "2023-02-10T12:59:20.507Z"
   },
   {
    "duration": 370,
    "start_time": "2023-02-10T12:59:21.156Z"
   },
   {
    "duration": 186,
    "start_time": "2023-02-10T12:59:22.091Z"
   },
   {
    "duration": 9,
    "start_time": "2023-02-10T12:59:25.180Z"
   },
   {
    "duration": 11,
    "start_time": "2023-02-10T12:59:36.141Z"
   },
   {
    "duration": 14,
    "start_time": "2023-02-10T12:59:37.152Z"
   },
   {
    "duration": 28,
    "start_time": "2023-02-10T12:59:37.357Z"
   },
   {
    "duration": 30,
    "start_time": "2023-02-10T12:59:37.547Z"
   },
   {
    "duration": 5,
    "start_time": "2023-02-10T12:59:37.748Z"
   },
   {
    "duration": 69,
    "start_time": "2023-02-10T12:59:37.932Z"
   },
   {
    "duration": 6,
    "start_time": "2023-02-10T12:59:38.260Z"
   },
   {
    "duration": 355,
    "start_time": "2023-02-10T12:59:38.668Z"
   },
   {
    "duration": 11,
    "start_time": "2023-02-10T12:59:39.467Z"
   },
   {
    "duration": 129,
    "start_time": "2023-02-10T12:59:39.668Z"
   },
   {
    "duration": 287,
    "start_time": "2023-02-10T12:59:39.860Z"
   },
   {
    "duration": 10,
    "start_time": "2023-02-10T12:59:42.824Z"
   },
   {
    "duration": 136,
    "start_time": "2023-02-10T12:59:43.355Z"
   },
   {
    "duration": 406,
    "start_time": "2023-02-10T12:59:44.322Z"
   },
   {
    "duration": 232,
    "start_time": "2023-02-10T12:59:47.390Z"
   },
   {
    "duration": 12,
    "start_time": "2023-02-10T12:59:49.076Z"
   },
   {
    "duration": 118,
    "start_time": "2023-02-10T12:59:50.060Z"
   },
   {
    "duration": 267,
    "start_time": "2023-02-10T12:59:50.701Z"
   },
   {
    "duration": 200,
    "start_time": "2023-02-10T12:59:51.428Z"
   },
   {
    "duration": 14,
    "start_time": "2023-02-10T12:59:53.187Z"
   },
   {
    "duration": 139,
    "start_time": "2023-02-10T12:59:53.694Z"
   },
   {
    "duration": 212,
    "start_time": "2023-02-10T12:59:53.834Z"
   },
   {
    "duration": 9,
    "start_time": "2023-02-10T13:05:10.774Z"
   },
   {
    "duration": 159,
    "start_time": "2023-02-10T13:05:30.079Z"
   },
   {
    "duration": 299,
    "start_time": "2023-02-10T13:12:29.227Z"
   },
   {
    "duration": 241,
    "start_time": "2023-02-10T13:12:53.971Z"
   },
   {
    "duration": 246,
    "start_time": "2023-02-10T13:13:59.619Z"
   },
   {
    "duration": 467,
    "start_time": "2023-02-10T13:14:07.015Z"
   },
   {
    "duration": 1749,
    "start_time": "2023-02-10T13:14:23.868Z"
   },
   {
    "duration": 9583,
    "start_time": "2023-02-10T13:14:57.169Z"
   },
   {
    "duration": 46,
    "start_time": "2023-02-10T13:15:38.564Z"
   },
   {
    "duration": 9615,
    "start_time": "2023-02-10T13:15:41.852Z"
   },
   {
    "duration": 9229,
    "start_time": "2023-02-10T13:16:13.820Z"
   },
   {
    "duration": 52,
    "start_time": "2023-02-10T13:17:19.293Z"
   },
   {
    "duration": 10213,
    "start_time": "2023-02-10T13:17:22.133Z"
   },
   {
    "duration": 9691,
    "start_time": "2023-02-10T13:24:36.033Z"
   },
   {
    "duration": 88,
    "start_time": "2023-02-10T13:30:40.628Z"
   },
   {
    "duration": 8239,
    "start_time": "2023-02-10T13:32:01.385Z"
   },
   {
    "duration": 11,
    "start_time": "2023-02-10T13:32:19.571Z"
   },
   {
    "duration": 11500,
    "start_time": "2023-02-10T13:33:46.766Z"
   },
   {
    "duration": 11932,
    "start_time": "2023-02-10T13:34:24.447Z"
   },
   {
    "duration": 10,
    "start_time": "2023-02-10T13:34:51.117Z"
   },
   {
    "duration": 8446,
    "start_time": "2023-02-10T13:36:28.369Z"
   },
   {
    "duration": 112,
    "start_time": "2023-02-10T13:36:40.798Z"
   },
   {
    "duration": 12,
    "start_time": "2023-02-10T13:36:46.495Z"
   },
   {
    "duration": 4,
    "start_time": "2023-02-10T13:41:55.956Z"
   },
   {
    "duration": 147,
    "start_time": "2023-02-10T13:42:08.764Z"
   },
   {
    "duration": 11433,
    "start_time": "2023-02-10T13:42:30.426Z"
   },
   {
    "duration": 351,
    "start_time": "2023-02-10T13:43:02.860Z"
   },
   {
    "duration": 1817,
    "start_time": "2023-02-10T13:43:09.360Z"
   },
   {
    "duration": 53,
    "start_time": "2023-02-10T13:43:25.722Z"
   },
   {
    "duration": 1811,
    "start_time": "2023-02-10T13:43:28.664Z"
   },
   {
    "duration": 960,
    "start_time": "2023-02-10T13:43:46.825Z"
   },
   {
    "duration": 3755,
    "start_time": "2023-02-10T13:44:01.312Z"
   },
   {
    "duration": 955,
    "start_time": "2023-02-10T13:44:37.483Z"
   },
   {
    "duration": 910,
    "start_time": "2023-02-10T13:44:48.161Z"
   },
   {
    "duration": 848,
    "start_time": "2023-02-10T13:45:23.304Z"
   },
   {
    "duration": 8,
    "start_time": "2023-02-10T13:45:28.094Z"
   },
   {
    "duration": 118,
    "start_time": "2023-02-10T13:50:03.052Z"
   },
   {
    "duration": 114,
    "start_time": "2023-02-10T13:50:13.255Z"
   },
   {
    "duration": 121,
    "start_time": "2023-02-10T13:50:19.492Z"
   },
   {
    "duration": 5,
    "start_time": "2023-02-10T13:51:28.524Z"
   },
   {
    "duration": 6,
    "start_time": "2023-02-10T13:52:06.477Z"
   },
   {
    "duration": 124,
    "start_time": "2023-02-10T14:04:19.061Z"
   },
   {
    "duration": 127,
    "start_time": "2023-02-10T14:04:31.693Z"
   },
   {
    "duration": 125,
    "start_time": "2023-02-10T14:04:52.566Z"
   },
   {
    "duration": 134,
    "start_time": "2023-02-10T14:05:06.956Z"
   },
   {
    "duration": 119,
    "start_time": "2023-02-10T14:05:19.413Z"
   },
   {
    "duration": 149,
    "start_time": "2023-02-10T14:05:26.319Z"
   },
   {
    "duration": 128,
    "start_time": "2023-02-10T14:05:33.653Z"
   },
   {
    "duration": 115,
    "start_time": "2023-02-10T14:06:59.718Z"
   },
   {
    "duration": 136,
    "start_time": "2023-02-10T14:07:05.270Z"
   },
   {
    "duration": 6,
    "start_time": "2023-02-10T14:09:00.667Z"
   },
   {
    "duration": 5,
    "start_time": "2023-02-10T14:09:09.463Z"
   },
   {
    "duration": 6,
    "start_time": "2023-02-10T14:09:15.384Z"
   },
   {
    "duration": 5,
    "start_time": "2023-02-10T14:09:19.156Z"
   },
   {
    "duration": 7,
    "start_time": "2023-02-10T14:10:05.498Z"
   },
   {
    "duration": 6,
    "start_time": "2023-02-10T14:11:47.960Z"
   },
   {
    "duration": 1144,
    "start_time": "2023-02-11T18:50:38.781Z"
   },
   {
    "duration": 41,
    "start_time": "2023-02-11T18:50:39.927Z"
   },
   {
    "duration": 19,
    "start_time": "2023-02-11T18:50:39.969Z"
   },
   {
    "duration": 1915,
    "start_time": "2023-02-11T18:50:40.006Z"
   },
   {
    "duration": 10,
    "start_time": "2023-02-11T18:50:41.923Z"
   },
   {
    "duration": 28,
    "start_time": "2023-02-11T18:50:41.934Z"
   },
   {
    "duration": 10,
    "start_time": "2023-02-11T18:50:41.964Z"
   },
   {
    "duration": 11,
    "start_time": "2023-02-11T18:50:42.056Z"
   },
   {
    "duration": 15,
    "start_time": "2023-02-11T18:50:42.630Z"
   },
   {
    "duration": 28,
    "start_time": "2023-02-11T18:50:42.926Z"
   },
   {
    "duration": 36,
    "start_time": "2023-02-11T18:50:43.247Z"
   },
   {
    "duration": 5,
    "start_time": "2023-02-11T18:50:43.527Z"
   },
   {
    "duration": 65,
    "start_time": "2023-02-11T18:50:43.807Z"
   },
   {
    "duration": 6,
    "start_time": "2023-02-11T18:50:44.071Z"
   },
   {
    "duration": 305,
    "start_time": "2023-02-11T18:50:44.646Z"
   },
   {
    "duration": 11,
    "start_time": "2023-02-11T18:50:45.502Z"
   },
   {
    "duration": 137,
    "start_time": "2023-02-11T18:50:45.767Z"
   },
   {
    "duration": 244,
    "start_time": "2023-02-11T18:50:46.065Z"
   },
   {
    "duration": 8,
    "start_time": "2023-02-11T18:50:46.918Z"
   },
   {
    "duration": 189,
    "start_time": "2023-02-11T18:50:47.198Z"
   },
   {
    "duration": 288,
    "start_time": "2023-02-11T18:50:47.486Z"
   },
   {
    "duration": 223,
    "start_time": "2023-02-11T18:50:47.777Z"
   },
   {
    "duration": 10,
    "start_time": "2023-02-11T18:50:49.237Z"
   },
   {
    "duration": 115,
    "start_time": "2023-02-11T18:50:49.575Z"
   },
   {
    "duration": 285,
    "start_time": "2023-02-11T18:50:49.886Z"
   },
   {
    "duration": 196,
    "start_time": "2023-02-11T18:50:50.270Z"
   },
   {
    "duration": 9,
    "start_time": "2023-02-11T18:50:52.798Z"
   },
   {
    "duration": 5,
    "start_time": "2023-02-11T18:50:53.742Z"
   },
   {
    "duration": 8,
    "start_time": "2023-02-11T18:51:03.374Z"
   },
   {
    "duration": 120,
    "start_time": "2023-02-11T18:51:04.710Z"
   },
   {
    "duration": 1016,
    "start_time": "2023-02-11T18:51:05.661Z"
   },
   {
    "duration": 4,
    "start_time": "2023-02-11T18:51:06.679Z"
   },
   {
    "duration": 22,
    "start_time": "2023-02-11T18:51:06.684Z"
   },
   {
    "duration": 14,
    "start_time": "2023-02-11T18:51:08.353Z"
   },
   {
    "duration": 112,
    "start_time": "2023-02-11T18:51:08.702Z"
   },
   {
    "duration": 215,
    "start_time": "2023-02-11T18:51:09.047Z"
   },
   {
    "duration": 5,
    "start_time": "2023-02-11T18:51:09.478Z"
   },
   {
    "duration": 8,
    "start_time": "2023-02-11T18:51:10.606Z"
   },
   {
    "duration": 17,
    "start_time": "2023-02-11T18:51:23.510Z"
   },
   {
    "duration": 4,
    "start_time": "2023-02-11T18:52:16.896Z"
   },
   {
    "duration": 11,
    "start_time": "2023-02-11T18:52:26.373Z"
   },
   {
    "duration": 124,
    "start_time": "2023-02-11T18:52:47.608Z"
   },
   {
    "duration": 247,
    "start_time": "2023-02-11T18:53:06.154Z"
   },
   {
    "duration": 355,
    "start_time": "2023-02-11T18:53:35.840Z"
   },
   {
    "duration": 314,
    "start_time": "2023-02-11T18:53:43.456Z"
   },
   {
    "duration": 265,
    "start_time": "2023-02-11T18:53:53.472Z"
   },
   {
    "duration": 417,
    "start_time": "2023-02-11T18:54:05.321Z"
   },
   {
    "duration": 375,
    "start_time": "2023-02-11T18:54:25.558Z"
   },
   {
    "duration": 10,
    "start_time": "2023-02-11T18:57:50.467Z"
   },
   {
    "duration": 869,
    "start_time": "2023-02-11T18:58:12.563Z"
   },
   {
    "duration": 4,
    "start_time": "2023-02-11T18:58:18.841Z"
   },
   {
    "duration": 6,
    "start_time": "2023-02-11T18:58:54.571Z"
   },
   {
    "duration": 5,
    "start_time": "2023-02-11T18:59:05.404Z"
   },
   {
    "duration": 220,
    "start_time": "2023-02-11T18:59:42.821Z"
   },
   {
    "duration": 409,
    "start_time": "2023-02-11T19:00:04.845Z"
   },
   {
    "duration": 9,
    "start_time": "2023-02-11T19:01:51.975Z"
   },
   {
    "duration": 7,
    "start_time": "2023-02-11T19:02:50.384Z"
   },
   {
    "duration": 741,
    "start_time": "2023-02-11T19:04:40.299Z"
   },
   {
    "duration": 10,
    "start_time": "2023-02-11T19:04:54.957Z"
   },
   {
    "duration": 128,
    "start_time": "2023-02-11T19:07:26.381Z"
   },
   {
    "duration": 134,
    "start_time": "2023-02-11T19:07:28.437Z"
   },
   {
    "duration": 115,
    "start_time": "2023-02-11T19:07:37.470Z"
   },
   {
    "duration": 425,
    "start_time": "2023-02-11T19:08:00.334Z"
   },
   {
    "duration": 8,
    "start_time": "2023-02-11T19:13:51.674Z"
   },
   {
    "duration": 135,
    "start_time": "2023-02-11T19:21:45.448Z"
   },
   {
    "duration": 380,
    "start_time": "2023-02-11T19:22:00.738Z"
   },
   {
    "duration": 691,
    "start_time": "2023-02-11T19:22:16.777Z"
   },
   {
    "duration": 801,
    "start_time": "2023-02-11T19:22:24.768Z"
   },
   {
    "duration": 1025,
    "start_time": "2023-02-11T19:23:30.670Z"
   },
   {
    "duration": 6,
    "start_time": "2023-02-11T19:24:01.482Z"
   },
   {
    "duration": 74,
    "start_time": "2023-02-11T19:26:42.637Z"
   },
   {
    "duration": 10,
    "start_time": "2023-02-11T19:27:04.269Z"
   },
   {
    "duration": 115,
    "start_time": "2023-02-11T19:27:20.169Z"
   },
   {
    "duration": 774,
    "start_time": "2023-02-11T19:27:56.715Z"
   },
   {
    "duration": 311,
    "start_time": "2023-02-11T19:28:03.676Z"
   },
   {
    "duration": 251,
    "start_time": "2023-02-11T19:28:42.006Z"
   },
   {
    "duration": 44,
    "start_time": "2023-02-11T19:29:58.973Z"
   },
   {
    "duration": 9,
    "start_time": "2023-02-11T19:30:25.674Z"
   },
   {
    "duration": 108,
    "start_time": "2023-02-11T19:32:46.913Z"
   },
   {
    "duration": 125,
    "start_time": "2023-02-11T19:32:49.289Z"
   },
   {
    "duration": 271,
    "start_time": "2023-02-11T19:35:57.618Z"
   },
   {
    "duration": 27,
    "start_time": "2023-02-11T19:47:22.744Z"
   },
   {
    "duration": 733,
    "start_time": "2023-02-11T19:49:09.688Z"
   },
   {
    "duration": 5,
    "start_time": "2023-02-11T19:49:16.077Z"
   },
   {
    "duration": 6,
    "start_time": "2023-02-11T19:50:03.233Z"
   },
   {
    "duration": 109,
    "start_time": "2023-02-11T19:51:22.233Z"
   },
   {
    "duration": 435,
    "start_time": "2023-02-11T19:51:42.227Z"
   },
   {
    "duration": 141,
    "start_time": "2023-02-11T19:51:49.000Z"
   },
   {
    "duration": 127,
    "start_time": "2023-02-11T19:52:02.410Z"
   },
   {
    "duration": 120,
    "start_time": "2023-02-11T19:52:07.010Z"
   },
   {
    "duration": 7,
    "start_time": "2023-02-11T19:55:02.212Z"
   },
   {
    "duration": 103,
    "start_time": "2023-02-11T19:55:14.476Z"
   },
   {
    "duration": 122,
    "start_time": "2023-02-11T19:55:26.540Z"
   },
   {
    "duration": 132,
    "start_time": "2023-02-11T20:00:51.493Z"
   },
   {
    "duration": 148,
    "start_time": "2023-02-11T20:01:01.048Z"
   },
   {
    "duration": 8,
    "start_time": "2023-02-11T20:10:10.328Z"
   },
   {
    "duration": 393,
    "start_time": "2023-02-11T20:11:13.265Z"
   },
   {
    "duration": 130,
    "start_time": "2023-02-11T20:12:00.297Z"
   },
   {
    "duration": 115,
    "start_time": "2023-02-11T20:12:42.248Z"
   },
   {
    "duration": 130,
    "start_time": "2023-02-11T20:13:43.387Z"
   },
   {
    "duration": 109,
    "start_time": "2023-02-11T20:26:41.109Z"
   },
   {
    "duration": 8,
    "start_time": "2023-02-11T20:33:26.654Z"
   },
   {
    "duration": 8,
    "start_time": "2023-02-11T20:33:47.227Z"
   },
   {
    "duration": 6,
    "start_time": "2023-02-11T20:53:11.608Z"
   },
   {
    "duration": 172,
    "start_time": "2023-02-11T21:27:08.403Z"
   },
   {
    "duration": 5,
    "start_time": "2023-02-11T21:46:24.099Z"
   },
   {
    "duration": 191,
    "start_time": "2023-02-11T21:46:36.804Z"
   },
   {
    "duration": 5,
    "start_time": "2023-02-11T21:49:56.183Z"
   },
   {
    "duration": 179,
    "start_time": "2023-02-11T21:50:07.104Z"
   },
   {
    "duration": 52,
    "start_time": "2023-02-11T21:50:33.785Z"
   },
   {
    "duration": 5,
    "start_time": "2023-02-11T21:50:52.440Z"
   },
   {
    "duration": 178,
    "start_time": "2023-02-11T21:51:11.024Z"
   },
   {
    "duration": 275,
    "start_time": "2023-02-11T21:53:58.922Z"
   },
   {
    "duration": 707,
    "start_time": "2023-02-11T21:54:01.410Z"
   },
   {
    "duration": 5,
    "start_time": "2023-02-11T21:54:50.578Z"
   },
   {
    "duration": 193,
    "start_time": "2023-02-11T21:54:52.538Z"
   },
   {
    "duration": 272,
    "start_time": "2023-02-11T21:55:50.269Z"
   },
   {
    "duration": 13,
    "start_time": "2023-02-11T21:57:50.866Z"
   },
   {
    "duration": 12,
    "start_time": "2023-02-11T21:57:58.101Z"
   },
   {
    "duration": 12,
    "start_time": "2023-02-11T21:58:56.619Z"
   },
   {
    "duration": 48,
    "start_time": "2023-02-11T21:59:53.343Z"
   },
   {
    "duration": 19,
    "start_time": "2023-02-11T21:59:59.726Z"
   },
   {
    "duration": 5,
    "start_time": "2023-02-11T22:54:05.581Z"
   },
   {
    "duration": 179,
    "start_time": "2023-02-11T22:54:22.613Z"
   },
   {
    "duration": 56,
    "start_time": "2023-02-11T22:54:42.405Z"
   },
   {
    "duration": 6,
    "start_time": "2023-02-11T22:55:00.262Z"
   },
   {
    "duration": 188,
    "start_time": "2023-02-11T22:55:26.366Z"
   },
   {
    "duration": 5,
    "start_time": "2023-02-11T22:56:54.160Z"
   },
   {
    "duration": 173,
    "start_time": "2023-02-11T22:57:14.737Z"
   },
   {
    "duration": 6,
    "start_time": "2023-02-11T22:58:57.943Z"
   },
   {
    "duration": 178,
    "start_time": "2023-02-11T22:59:19.608Z"
   },
   {
    "duration": 185,
    "start_time": "2023-02-11T22:59:46.698Z"
   },
   {
    "duration": 185,
    "start_time": "2023-02-11T23:00:06.804Z"
   },
   {
    "duration": 5,
    "start_time": "2023-02-11T23:00:20.970Z"
   },
   {
    "duration": 195,
    "start_time": "2023-02-11T23:00:26.410Z"
   },
   {
    "duration": 182,
    "start_time": "2023-02-11T23:01:37.796Z"
   },
   {
    "duration": 6,
    "start_time": "2023-02-11T23:05:05.030Z"
   },
   {
    "duration": 7,
    "start_time": "2023-02-11T23:05:13.708Z"
   },
   {
    "duration": 52,
    "start_time": "2023-02-11T23:05:19.950Z"
   },
   {
    "duration": 8,
    "start_time": "2023-02-11T23:05:22.413Z"
   },
   {
    "duration": 246,
    "start_time": "2023-02-11T23:08:39.175Z"
   },
   {
    "duration": 26,
    "start_time": "2023-02-11T23:08:39.543Z"
   },
   {
    "duration": 13,
    "start_time": "2023-02-11T23:08:39.743Z"
   },
   {
    "duration": 1886,
    "start_time": "2023-02-11T23:08:39.934Z"
   },
   {
    "duration": 8,
    "start_time": "2023-02-11T23:08:41.822Z"
   },
   {
    "duration": 24,
    "start_time": "2023-02-11T23:08:41.832Z"
   },
   {
    "duration": 7,
    "start_time": "2023-02-11T23:08:41.858Z"
   },
   {
    "duration": 11,
    "start_time": "2023-02-11T23:08:41.866Z"
   },
   {
    "duration": 13,
    "start_time": "2023-02-11T23:08:41.879Z"
   },
   {
    "duration": 27,
    "start_time": "2023-02-11T23:08:42.063Z"
   },
   {
    "duration": 26,
    "start_time": "2023-02-11T23:08:42.311Z"
   },
   {
    "duration": 6,
    "start_time": "2023-02-11T23:08:42.558Z"
   },
   {
    "duration": 54,
    "start_time": "2023-02-11T23:08:42.792Z"
   },
   {
    "duration": 7,
    "start_time": "2023-02-11T23:08:43.023Z"
   },
   {
    "duration": 268,
    "start_time": "2023-02-11T23:08:43.494Z"
   },
   {
    "duration": 9,
    "start_time": "2023-02-11T23:08:44.255Z"
   },
   {
    "duration": 95,
    "start_time": "2023-02-11T23:08:44.488Z"
   },
   {
    "duration": 222,
    "start_time": "2023-02-11T23:08:44.719Z"
   },
   {
    "duration": 8,
    "start_time": "2023-02-11T23:08:45.582Z"
   },
   {
    "duration": 122,
    "start_time": "2023-02-11T23:08:45.815Z"
   },
   {
    "duration": 244,
    "start_time": "2023-02-11T23:08:46.031Z"
   },
   {
    "duration": 186,
    "start_time": "2023-02-11T23:08:46.277Z"
   },
   {
    "duration": 11,
    "start_time": "2023-02-11T23:08:47.102Z"
   },
   {
    "duration": 104,
    "start_time": "2023-02-11T23:08:47.334Z"
   },
   {
    "duration": 233,
    "start_time": "2023-02-11T23:08:47.567Z"
   },
   {
    "duration": 192,
    "start_time": "2023-02-11T23:08:47.802Z"
   },
   {
    "duration": 11,
    "start_time": "2023-02-11T23:08:48.494Z"
   },
   {
    "duration": 4,
    "start_time": "2023-02-11T23:08:49.374Z"
   },
   {
    "duration": 8,
    "start_time": "2023-02-11T23:08:49.616Z"
   },
   {
    "duration": 122,
    "start_time": "2023-02-11T23:08:49.862Z"
   },
   {
    "duration": 805,
    "start_time": "2023-02-11T23:08:50.087Z"
   },
   {
    "duration": 5,
    "start_time": "2023-02-11T23:08:50.893Z"
   },
   {
    "duration": 10,
    "start_time": "2023-02-11T23:08:50.899Z"
   },
   {
    "duration": 11,
    "start_time": "2023-02-11T23:08:51.294Z"
   },
   {
    "duration": 124,
    "start_time": "2023-02-11T23:08:51.551Z"
   },
   {
    "duration": 191,
    "start_time": "2023-02-11T23:08:51.807Z"
   },
   {
    "duration": 4,
    "start_time": "2023-02-11T23:08:52.040Z"
   },
   {
    "duration": 9,
    "start_time": "2023-02-11T23:08:52.814Z"
   },
   {
    "duration": 99,
    "start_time": "2023-02-11T23:08:53.056Z"
   },
   {
    "duration": 694,
    "start_time": "2023-02-11T23:08:53.279Z"
   },
   {
    "duration": 8,
    "start_time": "2023-02-11T23:08:53.975Z"
   },
   {
    "duration": 116,
    "start_time": "2023-02-11T23:08:54.208Z"
   },
   {
    "duration": 340,
    "start_time": "2023-02-11T23:08:54.431Z"
   },
   {
    "duration": 6,
    "start_time": "2023-02-11T23:08:54.773Z"
   },
   {
    "duration": 8,
    "start_time": "2023-02-11T23:08:55.398Z"
   },
   {
    "duration": 10,
    "start_time": "2023-02-11T23:08:56.071Z"
   },
   {
    "duration": 126,
    "start_time": "2023-02-11T23:08:56.287Z"
   },
   {
    "duration": 336,
    "start_time": "2023-02-11T23:08:56.512Z"
   },
   {
    "duration": 10,
    "start_time": "2023-02-11T23:08:57.168Z"
   },
   {
    "duration": 125,
    "start_time": "2023-02-11T23:08:57.391Z"
   },
   {
    "duration": 246,
    "start_time": "2023-02-11T23:08:57.751Z"
   },
   {
    "duration": 4,
    "start_time": "2023-02-11T23:08:58.014Z"
   },
   {
    "duration": 8,
    "start_time": "2023-02-11T23:08:58.680Z"
   },
   {
    "duration": 98,
    "start_time": "2023-02-11T23:08:58.919Z"
   },
   {
    "duration": 226,
    "start_time": "2023-02-11T23:08:59.135Z"
   },
   {
    "duration": 8,
    "start_time": "2023-02-11T23:08:59.823Z"
   },
   {
    "duration": 123,
    "start_time": "2023-02-11T23:09:00.039Z"
   },
   {
    "duration": 237,
    "start_time": "2023-02-11T23:09:00.280Z"
   },
   {
    "duration": 8,
    "start_time": "2023-02-11T23:09:00.959Z"
   },
   {
    "duration": 111,
    "start_time": "2023-02-11T23:09:01.199Z"
   },
   {
    "duration": 127,
    "start_time": "2023-02-11T23:09:01.423Z"
   },
   {
    "duration": 8,
    "start_time": "2023-02-11T23:09:02.135Z"
   },
   {
    "duration": 101,
    "start_time": "2023-02-11T23:09:02.387Z"
   },
   {
    "duration": 138,
    "start_time": "2023-02-11T23:09:02.663Z"
   },
   {
    "duration": 8,
    "start_time": "2023-02-11T23:09:04.087Z"
   },
   {
    "duration": 282,
    "start_time": "2023-02-11T23:09:04.647Z"
   },
   {
    "duration": 126,
    "start_time": "2023-02-11T23:09:05.536Z"
   },
   {
    "duration": 7,
    "start_time": "2023-02-11T23:09:07.648Z"
   },
   {
    "duration": 191,
    "start_time": "2023-02-11T23:09:07.943Z"
   },
   {
    "duration": 5,
    "start_time": "2023-02-11T23:09:08.802Z"
   },
   {
    "duration": 208,
    "start_time": "2023-02-11T23:09:09.023Z"
   },
   {
    "duration": 5,
    "start_time": "2023-02-11T23:09:09.839Z"
   },
   {
    "duration": 204,
    "start_time": "2023-02-11T23:09:10.176Z"
   },
   {
    "duration": 6,
    "start_time": "2023-02-11T23:09:11.161Z"
   },
   {
    "duration": 203,
    "start_time": "2023-02-11T23:09:11.640Z"
   },
   {
    "duration": 23,
    "start_time": "2023-02-11T23:09:13.263Z"
   },
   {
    "duration": 8,
    "start_time": "2023-02-11T23:09:14.144Z"
   },
   {
    "duration": 195,
    "start_time": "2023-02-11T23:09:14.383Z"
   },
   {
    "duration": 5,
    "start_time": "2023-02-11T23:09:15.120Z"
   },
   {
    "duration": 205,
    "start_time": "2023-02-11T23:09:15.362Z"
   },
   {
    "duration": 5,
    "start_time": "2023-02-11T23:09:16.120Z"
   },
   {
    "duration": 186,
    "start_time": "2023-02-11T23:09:16.361Z"
   },
   {
    "duration": 67,
    "start_time": "2023-02-11T23:09:17.103Z"
   },
   {
    "duration": 11,
    "start_time": "2023-02-11T23:18:58.302Z"
   },
   {
    "duration": 11,
    "start_time": "2023-02-11T23:19:06.712Z"
   },
   {
    "duration": 11,
    "start_time": "2023-02-11T23:19:13.616Z"
   },
   {
    "duration": 17,
    "start_time": "2023-02-11T23:19:23.719Z"
   },
   {
    "duration": 20,
    "start_time": "2023-02-11T23:19:36.767Z"
   },
   {
    "duration": 29,
    "start_time": "2023-02-11T23:19:48.625Z"
   },
   {
    "duration": 24,
    "start_time": "2023-02-11T23:20:09.575Z"
   },
   {
    "duration": 32,
    "start_time": "2023-02-11T23:20:19.576Z"
   },
   {
    "duration": 24,
    "start_time": "2023-02-11T23:20:22.738Z"
   },
   {
    "duration": 17,
    "start_time": "2023-02-11T23:20:37.207Z"
   },
   {
    "duration": 17,
    "start_time": "2023-02-11T23:22:37.618Z"
   },
   {
    "duration": 25,
    "start_time": "2023-02-11T23:22:41.129Z"
   },
   {
    "duration": 17,
    "start_time": "2023-02-11T23:23:09.251Z"
   },
   {
    "duration": 24,
    "start_time": "2023-02-11T23:23:12.034Z"
   },
   {
    "duration": 35,
    "start_time": "2023-02-11T23:23:23.961Z"
   },
   {
    "duration": 24,
    "start_time": "2023-02-11T23:23:32.939Z"
   },
   {
    "duration": 25,
    "start_time": "2023-02-11T23:23:49.780Z"
   },
   {
    "duration": 24,
    "start_time": "2023-02-11T23:24:04.012Z"
   },
   {
    "duration": 4,
    "start_time": "2023-02-11T23:27:25.301Z"
   },
   {
    "duration": 10,
    "start_time": "2023-02-11T23:27:30.252Z"
   },
   {
    "duration": 10,
    "start_time": "2023-02-11T23:29:02.555Z"
   },
   {
    "duration": 99,
    "start_time": "2023-02-11T23:31:16.761Z"
   },
   {
    "duration": 36,
    "start_time": "2023-02-11T23:31:18.224Z"
   },
   {
    "duration": 16,
    "start_time": "2023-02-11T23:31:18.495Z"
   },
   {
    "duration": 2211,
    "start_time": "2023-02-11T23:31:18.761Z"
   },
   {
    "duration": 9,
    "start_time": "2023-02-11T23:31:20.974Z"
   },
   {
    "duration": 19,
    "start_time": "2023-02-11T23:31:20.984Z"
   },
   {
    "duration": 7,
    "start_time": "2023-02-11T23:31:21.005Z"
   },
   {
    "duration": 7,
    "start_time": "2023-02-11T23:31:21.014Z"
   },
   {
    "duration": 40,
    "start_time": "2023-02-11T23:31:21.023Z"
   },
   {
    "duration": 27,
    "start_time": "2023-02-11T23:31:21.064Z"
   },
   {
    "duration": 31,
    "start_time": "2023-02-11T23:31:21.093Z"
   },
   {
    "duration": 4,
    "start_time": "2023-02-11T23:31:21.126Z"
   },
   {
    "duration": 54,
    "start_time": "2023-02-11T23:31:21.160Z"
   },
   {
    "duration": 6,
    "start_time": "2023-02-11T23:31:21.215Z"
   },
   {
    "duration": 290,
    "start_time": "2023-02-11T23:31:21.223Z"
   },
   {
    "duration": 9,
    "start_time": "2023-02-11T23:31:21.515Z"
   },
   {
    "duration": 115,
    "start_time": "2023-02-11T23:31:21.525Z"
   },
   {
    "duration": 246,
    "start_time": "2023-02-11T23:31:21.642Z"
   },
   {
    "duration": 8,
    "start_time": "2023-02-11T23:31:21.889Z"
   },
   {
    "duration": 130,
    "start_time": "2023-02-11T23:31:21.898Z"
   },
   {
    "duration": 264,
    "start_time": "2023-02-11T23:31:22.030Z"
   },
   {
    "duration": 182,
    "start_time": "2023-02-11T23:31:22.295Z"
   },
   {
    "duration": 8,
    "start_time": "2023-02-11T23:31:22.479Z"
   },
   {
    "duration": 123,
    "start_time": "2023-02-11T23:31:22.488Z"
   },
   {
    "duration": 259,
    "start_time": "2023-02-11T23:31:22.613Z"
   },
   {
    "duration": 172,
    "start_time": "2023-02-11T23:31:22.874Z"
   },
   {
    "duration": 18,
    "start_time": "2023-02-11T23:31:23.048Z"
   },
   {
    "duration": 6,
    "start_time": "2023-02-11T23:31:23.068Z"
   },
   {
    "duration": 17,
    "start_time": "2023-02-11T23:31:23.075Z"
   },
   {
    "duration": 136,
    "start_time": "2023-02-11T23:31:23.093Z"
   },
   {
    "duration": 995,
    "start_time": "2023-02-11T23:31:23.233Z"
   },
   {
    "duration": 5,
    "start_time": "2023-02-11T23:31:24.230Z"
   },
   {
    "duration": 24,
    "start_time": "2023-02-11T23:31:24.236Z"
   },
   {
    "duration": 9,
    "start_time": "2023-02-11T23:31:24.262Z"
   },
   {
    "duration": 130,
    "start_time": "2023-02-11T23:31:24.273Z"
   },
   {
    "duration": 223,
    "start_time": "2023-02-11T23:31:24.405Z"
   },
   {
    "duration": 6,
    "start_time": "2023-02-11T23:31:24.630Z"
   },
   {
    "duration": 23,
    "start_time": "2023-02-11T23:31:24.638Z"
   },
   {
    "duration": 115,
    "start_time": "2023-02-11T23:31:24.662Z"
   },
   {
    "duration": 398,
    "start_time": "2023-02-11T23:31:24.779Z"
   },
   {
    "duration": 8,
    "start_time": "2023-02-11T23:31:25.179Z"
   },
   {
    "duration": 124,
    "start_time": "2023-02-11T23:31:25.188Z"
   },
   {
    "duration": 357,
    "start_time": "2023-02-11T23:31:25.314Z"
   },
   {
    "duration": 5,
    "start_time": "2023-02-11T23:31:25.672Z"
   },
   {
    "duration": 9,
    "start_time": "2023-02-11T23:31:25.679Z"
   },
   {
    "duration": 9,
    "start_time": "2023-02-11T23:31:25.690Z"
   },
   {
    "duration": 126,
    "start_time": "2023-02-11T23:31:25.700Z"
   },
   {
    "duration": 356,
    "start_time": "2023-02-11T23:31:25.827Z"
   },
   {
    "duration": 8,
    "start_time": "2023-02-11T23:31:26.184Z"
   },
   {
    "duration": 145,
    "start_time": "2023-02-11T23:31:26.193Z"
   },
   {
    "duration": 720,
    "start_time": "2023-02-11T23:31:26.340Z"
   },
   {
    "duration": 6,
    "start_time": "2023-02-11T23:31:27.062Z"
   },
   {
    "duration": 9,
    "start_time": "2023-02-11T23:31:27.069Z"
   },
   {
    "duration": 115,
    "start_time": "2023-02-11T23:31:27.080Z"
   },
   {
    "duration": 231,
    "start_time": "2023-02-11T23:31:27.197Z"
   },
   {
    "duration": 7,
    "start_time": "2023-02-11T23:31:27.430Z"
   },
   {
    "duration": 128,
    "start_time": "2023-02-11T23:31:27.448Z"
   },
   {
    "duration": 254,
    "start_time": "2023-02-11T23:31:27.577Z"
   },
   {
    "duration": 30,
    "start_time": "2023-02-11T23:31:27.832Z"
   },
   {
    "duration": 112,
    "start_time": "2023-02-11T23:31:27.863Z"
   },
   {
    "duration": 130,
    "start_time": "2023-02-11T23:31:27.976Z"
   },
   {
    "duration": 7,
    "start_time": "2023-02-11T23:31:28.108Z"
   },
   {
    "duration": 120,
    "start_time": "2023-02-11T23:31:28.116Z"
   },
   {
    "duration": 152,
    "start_time": "2023-02-11T23:31:28.237Z"
   },
   {
    "duration": 9,
    "start_time": "2023-02-11T23:31:28.390Z"
   },
   {
    "duration": 280,
    "start_time": "2023-02-11T23:31:28.400Z"
   },
   {
    "duration": 131,
    "start_time": "2023-02-11T23:31:28.682Z"
   },
   {
    "duration": 4,
    "start_time": "2023-02-11T23:31:28.815Z"
   },
   {
    "duration": 189,
    "start_time": "2023-02-11T23:31:28.821Z"
   },
   {
    "duration": 5,
    "start_time": "2023-02-11T23:31:29.011Z"
   },
   {
    "duration": 223,
    "start_time": "2023-02-11T23:31:29.017Z"
   },
   {
    "duration": 6,
    "start_time": "2023-02-11T23:31:29.248Z"
   },
   {
    "duration": 220,
    "start_time": "2023-02-11T23:31:29.264Z"
   },
   {
    "duration": 6,
    "start_time": "2023-02-11T23:31:29.486Z"
   },
   {
    "duration": 229,
    "start_time": "2023-02-11T23:31:29.493Z"
   },
   {
    "duration": 37,
    "start_time": "2023-02-11T23:31:29.725Z"
   },
   {
    "duration": 4,
    "start_time": "2023-02-11T23:31:29.764Z"
   },
   {
    "duration": 211,
    "start_time": "2023-02-11T23:31:29.770Z"
   },
   {
    "duration": 5,
    "start_time": "2023-02-11T23:31:29.983Z"
   },
   {
    "duration": 213,
    "start_time": "2023-02-11T23:31:29.990Z"
   },
   {
    "duration": 4,
    "start_time": "2023-02-11T23:31:30.205Z"
   },
   {
    "duration": 213,
    "start_time": "2023-02-11T23:31:30.211Z"
   },
   {
    "duration": 38,
    "start_time": "2023-02-11T23:31:30.426Z"
   },
   {
    "duration": 15,
    "start_time": "2023-02-11T23:31:30.465Z"
   },
   {
    "duration": 24,
    "start_time": "2023-02-11T23:38:51.394Z"
   },
   {
    "duration": 727,
    "start_time": "2023-02-11T23:38:59.065Z"
   },
   {
    "duration": 10,
    "start_time": "2023-02-11T23:54:07.648Z"
   },
   {
    "duration": 60,
    "start_time": "2023-02-12T00:23:01.162Z"
   },
   {
    "duration": 7,
    "start_time": "2023-02-12T00:23:24.387Z"
   },
   {
    "duration": 44,
    "start_time": "2023-02-12T00:23:30.058Z"
   },
   {
    "duration": 15,
    "start_time": "2023-02-12T00:44:16.223Z"
   },
   {
    "duration": 44,
    "start_time": "2023-02-12T00:44:20.208Z"
   },
   {
    "duration": 16,
    "start_time": "2023-02-12T00:47:20.242Z"
   },
   {
    "duration": 22,
    "start_time": "2023-02-12T00:47:24.834Z"
   },
   {
    "duration": 22,
    "start_time": "2023-02-12T00:47:54.858Z"
   },
   {
    "duration": 30,
    "start_time": "2023-02-12T00:49:00.611Z"
   },
   {
    "duration": 30,
    "start_time": "2023-02-12T00:50:22.300Z"
   },
   {
    "duration": 893,
    "start_time": "2023-02-12T00:52:08.822Z"
   },
   {
    "duration": 28,
    "start_time": "2023-02-12T00:53:41.573Z"
   },
   {
    "duration": 807,
    "start_time": "2023-02-12T01:02:23.611Z"
   },
   {
    "duration": 8,
    "start_time": "2023-02-12T01:02:41.250Z"
   },
   {
    "duration": 101,
    "start_time": "2023-02-12T01:02:57.994Z"
   },
   {
    "duration": 11,
    "start_time": "2023-02-12T01:04:17.139Z"
   },
   {
    "duration": 8,
    "start_time": "2023-02-12T01:04:27.420Z"
   },
   {
    "duration": 52,
    "start_time": "2023-02-12T01:06:02.924Z"
   },
   {
    "duration": 8,
    "start_time": "2023-02-12T01:06:07.066Z"
   },
   {
    "duration": 8,
    "start_time": "2023-02-12T01:06:12.109Z"
   },
   {
    "duration": 11,
    "start_time": "2023-02-12T01:06:15.213Z"
   },
   {
    "duration": 12,
    "start_time": "2023-02-12T01:07:53.952Z"
   },
   {
    "duration": 14,
    "start_time": "2023-02-12T01:08:59.480Z"
   },
   {
    "duration": 15,
    "start_time": "2023-02-12T01:09:08.111Z"
   },
   {
    "duration": 20,
    "start_time": "2023-02-12T01:09:49.952Z"
   },
   {
    "duration": 19,
    "start_time": "2023-02-12T01:10:16.312Z"
   },
   {
    "duration": 135,
    "start_time": "2023-02-12T01:12:05.088Z"
   },
   {
    "duration": 52,
    "start_time": "2023-02-12T13:09:54.320Z"
   },
   {
    "duration": 932,
    "start_time": "2023-02-12T13:09:56.841Z"
   },
   {
    "duration": 31,
    "start_time": "2023-02-12T13:10:23.664Z"
   },
   {
    "duration": 29,
    "start_time": "2023-02-12T13:10:24.183Z"
   },
   {
    "duration": 1987,
    "start_time": "2023-02-12T13:10:24.474Z"
   },
   {
    "duration": 9,
    "start_time": "2023-02-12T13:10:26.463Z"
   },
   {
    "duration": 17,
    "start_time": "2023-02-12T13:10:26.473Z"
   },
   {
    "duration": 14,
    "start_time": "2023-02-12T13:10:26.492Z"
   },
   {
    "duration": 10,
    "start_time": "2023-02-12T13:10:26.508Z"
   },
   {
    "duration": 13,
    "start_time": "2023-02-12T13:10:26.519Z"
   },
   {
    "duration": 24,
    "start_time": "2023-02-12T13:10:26.534Z"
   },
   {
    "duration": 56,
    "start_time": "2023-02-12T13:10:26.560Z"
   },
   {
    "duration": 5,
    "start_time": "2023-02-12T13:10:26.618Z"
   },
   {
    "duration": 71,
    "start_time": "2023-02-12T13:10:26.625Z"
   },
   {
    "duration": 12,
    "start_time": "2023-02-12T13:10:26.698Z"
   },
   {
    "duration": 366,
    "start_time": "2023-02-12T13:10:26.712Z"
   },
   {
    "duration": 18,
    "start_time": "2023-02-12T13:10:27.079Z"
   },
   {
    "duration": 108,
    "start_time": "2023-02-12T13:10:27.098Z"
   },
   {
    "duration": 333,
    "start_time": "2023-02-12T13:10:27.207Z"
   },
   {
    "duration": 8,
    "start_time": "2023-02-12T13:10:27.541Z"
   },
   {
    "duration": 130,
    "start_time": "2023-02-12T13:10:27.550Z"
   },
   {
    "duration": 288,
    "start_time": "2023-02-12T13:10:27.682Z"
   },
   {
    "duration": 209,
    "start_time": "2023-02-12T13:10:27.971Z"
   },
   {
    "duration": 14,
    "start_time": "2023-02-12T13:10:28.182Z"
   },
   {
    "duration": 127,
    "start_time": "2023-02-12T13:10:28.198Z"
   },
   {
    "duration": 259,
    "start_time": "2023-02-12T13:10:28.326Z"
   },
   {
    "duration": 183,
    "start_time": "2023-02-12T13:10:28.592Z"
   },
   {
    "duration": 25,
    "start_time": "2023-02-12T13:10:28.776Z"
   },
   {
    "duration": 9,
    "start_time": "2023-02-12T13:10:28.806Z"
   },
   {
    "duration": 9,
    "start_time": "2023-02-12T13:10:28.817Z"
   },
   {
    "duration": 131,
    "start_time": "2023-02-12T13:10:28.828Z"
   },
   {
    "duration": 983,
    "start_time": "2023-02-12T13:10:28.961Z"
   },
   {
    "duration": 5,
    "start_time": "2023-02-12T13:10:29.946Z"
   },
   {
    "duration": 5,
    "start_time": "2023-02-12T13:10:29.953Z"
   },
   {
    "duration": 8,
    "start_time": "2023-02-12T13:10:29.960Z"
   },
   {
    "duration": 134,
    "start_time": "2023-02-12T13:10:29.995Z"
   },
   {
    "duration": 228,
    "start_time": "2023-02-12T13:10:30.131Z"
   },
   {
    "duration": 5,
    "start_time": "2023-02-12T13:10:30.360Z"
   },
   {
    "duration": 18,
    "start_time": "2023-02-12T13:10:30.366Z"
   },
   {
    "duration": 115,
    "start_time": "2023-02-12T13:10:30.385Z"
   },
   {
    "duration": 470,
    "start_time": "2023-02-12T13:10:30.502Z"
   },
   {
    "duration": 20,
    "start_time": "2023-02-12T13:10:30.974Z"
   },
   {
    "duration": 163,
    "start_time": "2023-02-12T13:10:30.996Z"
   },
   {
    "duration": 389,
    "start_time": "2023-02-12T13:10:31.160Z"
   },
   {
    "duration": 5,
    "start_time": "2023-02-12T13:10:31.550Z"
   },
   {
    "duration": 10,
    "start_time": "2023-02-12T13:10:31.556Z"
   },
   {
    "duration": 10,
    "start_time": "2023-02-12T13:10:31.568Z"
   },
   {
    "duration": 140,
    "start_time": "2023-02-12T13:10:31.580Z"
   },
   {
    "duration": 369,
    "start_time": "2023-02-12T13:10:31.721Z"
   },
   {
    "duration": 11,
    "start_time": "2023-02-12T13:10:32.093Z"
   },
   {
    "duration": 289,
    "start_time": "2023-02-12T13:10:32.106Z"
   },
   {
    "duration": 267,
    "start_time": "2023-02-12T13:10:32.397Z"
   },
   {
    "duration": 4,
    "start_time": "2023-02-12T13:10:32.666Z"
   },
   {
    "duration": 12,
    "start_time": "2023-02-12T13:10:32.671Z"
   },
   {
    "duration": 125,
    "start_time": "2023-02-12T13:10:32.697Z"
   },
   {
    "duration": 240,
    "start_time": "2023-02-12T13:10:32.824Z"
   },
   {
    "duration": 8,
    "start_time": "2023-02-12T13:10:33.065Z"
   },
   {
    "duration": 146,
    "start_time": "2023-02-12T13:10:33.074Z"
   },
   {
    "duration": 287,
    "start_time": "2023-02-12T13:10:33.222Z"
   },
   {
    "duration": 8,
    "start_time": "2023-02-12T13:10:33.510Z"
   },
   {
    "duration": 121,
    "start_time": "2023-02-12T13:10:33.519Z"
   },
   {
    "duration": 138,
    "start_time": "2023-02-12T13:10:33.642Z"
   },
   {
    "duration": 14,
    "start_time": "2023-02-12T13:10:33.781Z"
   },
   {
    "duration": 126,
    "start_time": "2023-02-12T13:10:33.797Z"
   },
   {
    "duration": 192,
    "start_time": "2023-02-12T13:10:33.924Z"
   },
   {
    "duration": 12,
    "start_time": "2023-02-12T13:10:34.118Z"
   },
   {
    "duration": 331,
    "start_time": "2023-02-12T13:10:34.132Z"
   },
   {
    "duration": 138,
    "start_time": "2023-02-12T13:10:34.465Z"
   },
   {
    "duration": 7,
    "start_time": "2023-02-12T13:10:34.609Z"
   },
   {
    "duration": 209,
    "start_time": "2023-02-12T13:10:34.617Z"
   },
   {
    "duration": 6,
    "start_time": "2023-02-12T13:10:34.827Z"
   },
   {
    "duration": 225,
    "start_time": "2023-02-12T13:10:34.834Z"
   },
   {
    "duration": 6,
    "start_time": "2023-02-12T13:10:35.061Z"
   },
   {
    "duration": 363,
    "start_time": "2023-02-12T13:10:35.068Z"
   },
   {
    "duration": 5,
    "start_time": "2023-02-12T13:10:35.433Z"
   },
   {
    "duration": 218,
    "start_time": "2023-02-12T13:10:35.440Z"
   },
   {
    "duration": 22,
    "start_time": "2023-02-12T13:10:35.660Z"
   },
   {
    "duration": 6,
    "start_time": "2023-02-12T13:10:35.694Z"
   },
   {
    "duration": 218,
    "start_time": "2023-02-12T13:10:35.702Z"
   },
   {
    "duration": 4,
    "start_time": "2023-02-12T13:10:35.922Z"
   },
   {
    "duration": 203,
    "start_time": "2023-02-12T13:10:35.928Z"
   },
   {
    "duration": 4,
    "start_time": "2023-02-12T13:10:36.133Z"
   },
   {
    "duration": 208,
    "start_time": "2023-02-12T13:10:36.139Z"
   },
   {
    "duration": 33,
    "start_time": "2023-02-12T13:10:36.349Z"
   },
   {
    "duration": 17,
    "start_time": "2023-02-12T13:10:36.393Z"
   },
   {
    "duration": 36,
    "start_time": "2023-02-12T13:10:36.412Z"
   },
   {
    "duration": 166,
    "start_time": "2023-02-12T13:10:36.450Z"
   },
   {
    "duration": 69,
    "start_time": "2023-02-12T13:13:08.618Z"
   },
   {
    "duration": 526,
    "start_time": "2023-02-12T13:14:22.705Z"
   },
   {
    "duration": 20,
    "start_time": "2023-02-12T13:15:12.411Z"
   },
   {
    "duration": 21,
    "start_time": "2023-02-12T13:15:31.810Z"
   },
   {
    "duration": 17,
    "start_time": "2023-02-12T13:15:52.122Z"
   },
   {
    "duration": 16,
    "start_time": "2023-02-12T13:16:57.835Z"
   },
   {
    "duration": 16,
    "start_time": "2023-02-12T13:17:45.267Z"
   },
   {
    "duration": 17,
    "start_time": "2023-02-12T13:18:15.420Z"
   },
   {
    "duration": 16,
    "start_time": "2023-02-12T13:18:18.588Z"
   },
   {
    "duration": 20,
    "start_time": "2023-02-12T13:18:25.811Z"
   },
   {
    "duration": 17,
    "start_time": "2023-02-12T13:18:42.108Z"
   },
   {
    "duration": 20,
    "start_time": "2023-02-12T13:18:45.676Z"
   },
   {
    "duration": 24,
    "start_time": "2023-02-12T13:19:03.837Z"
   },
   {
    "duration": 19,
    "start_time": "2023-02-12T13:19:08.672Z"
   },
   {
    "duration": 23,
    "start_time": "2023-02-12T13:19:24.782Z"
   },
   {
    "duration": 15,
    "start_time": "2023-02-12T13:20:14.741Z"
   },
   {
    "duration": 22,
    "start_time": "2023-02-12T13:21:31.615Z"
   },
   {
    "duration": 16,
    "start_time": "2023-02-12T13:21:40.670Z"
   },
   {
    "duration": 15,
    "start_time": "2023-02-12T13:23:12.479Z"
   },
   {
    "duration": 19,
    "start_time": "2023-02-12T13:23:21.311Z"
   },
   {
    "duration": 21,
    "start_time": "2023-02-12T13:23:41.952Z"
   },
   {
    "duration": 18,
    "start_time": "2023-02-12T13:23:46.632Z"
   },
   {
    "duration": 24,
    "start_time": "2023-02-12T13:25:02.214Z"
   },
   {
    "duration": 35,
    "start_time": "2023-02-12T13:25:09.600Z"
   },
   {
    "duration": 749,
    "start_time": "2023-02-12T13:25:25.232Z"
   },
   {
    "duration": 10,
    "start_time": "2023-02-12T13:25:58.352Z"
   },
   {
    "duration": 22,
    "start_time": "2023-02-12T13:32:29.796Z"
   },
   {
    "duration": 19,
    "start_time": "2023-02-12T13:32:44.365Z"
   },
   {
    "duration": 20,
    "start_time": "2023-02-12T13:33:06.781Z"
   },
   {
    "duration": 22,
    "start_time": "2023-02-12T13:33:12.989Z"
   },
   {
    "duration": 33,
    "start_time": "2023-02-12T13:33:47.565Z"
   },
   {
    "duration": 30,
    "start_time": "2023-02-12T13:33:54.094Z"
   },
   {
    "duration": 22,
    "start_time": "2023-02-12T13:34:02.215Z"
   },
   {
    "duration": 1359,
    "start_time": "2023-02-12T13:34:53.990Z"
   },
   {
    "duration": 243,
    "start_time": "2023-02-12T13:35:03.927Z"
   },
   {
    "duration": 192,
    "start_time": "2023-02-12T13:35:33.383Z"
   },
   {
    "duration": 210,
    "start_time": "2023-02-12T13:36:08.544Z"
   },
   {
    "duration": 223,
    "start_time": "2023-02-12T13:36:14.367Z"
   },
   {
    "duration": 7,
    "start_time": "2023-02-12T13:38:50.552Z"
   },
   {
    "duration": 11,
    "start_time": "2023-02-12T13:39:26.188Z"
   },
   {
    "duration": 8,
    "start_time": "2023-02-12T13:40:20.073Z"
   },
   {
    "duration": 12,
    "start_time": "2023-02-12T13:40:32.833Z"
   },
   {
    "duration": 16,
    "start_time": "2023-02-12T13:40:46.873Z"
   },
   {
    "duration": 6,
    "start_time": "2023-02-12T13:41:06.074Z"
   },
   {
    "duration": 15,
    "start_time": "2023-02-12T13:41:16.593Z"
   },
   {
    "duration": 1399,
    "start_time": "2023-02-12T20:07:02.745Z"
   },
   {
    "duration": 35,
    "start_time": "2023-02-12T20:07:04.146Z"
   },
   {
    "duration": 21,
    "start_time": "2023-02-12T20:07:04.183Z"
   },
   {
    "duration": 2429,
    "start_time": "2023-02-12T20:07:04.206Z"
   },
   {
    "duration": 13,
    "start_time": "2023-02-12T20:07:06.637Z"
   },
   {
    "duration": 22,
    "start_time": "2023-02-12T20:07:06.652Z"
   },
   {
    "duration": 9,
    "start_time": "2023-02-12T20:07:06.679Z"
   },
   {
    "duration": 46,
    "start_time": "2023-02-12T20:07:06.689Z"
   },
   {
    "duration": 17,
    "start_time": "2023-02-12T20:07:06.737Z"
   },
   {
    "duration": 29,
    "start_time": "2023-02-12T20:07:06.757Z"
   },
   {
    "duration": 47,
    "start_time": "2023-02-12T20:07:06.788Z"
   },
   {
    "duration": 6,
    "start_time": "2023-02-12T20:07:06.838Z"
   },
   {
    "duration": 102,
    "start_time": "2023-02-12T20:07:06.846Z"
   },
   {
    "duration": 9,
    "start_time": "2023-02-12T20:07:06.950Z"
   },
   {
    "duration": 406,
    "start_time": "2023-02-12T20:07:06.961Z"
   },
   {
    "duration": 9,
    "start_time": "2023-02-12T20:07:07.369Z"
   },
   {
    "duration": 152,
    "start_time": "2023-02-12T20:07:07.379Z"
   },
   {
    "duration": 315,
    "start_time": "2023-02-12T20:07:07.533Z"
   },
   {
    "duration": 10,
    "start_time": "2023-02-12T20:07:07.850Z"
   },
   {
    "duration": 271,
    "start_time": "2023-02-12T20:07:07.861Z"
   },
   {
    "duration": 328,
    "start_time": "2023-02-12T20:07:08.134Z"
   },
   {
    "duration": 230,
    "start_time": "2023-02-12T20:07:08.464Z"
   },
   {
    "duration": 10,
    "start_time": "2023-02-12T20:07:08.696Z"
   },
   {
    "duration": 160,
    "start_time": "2023-02-12T20:07:08.708Z"
   },
   {
    "duration": 308,
    "start_time": "2023-02-12T20:07:08.870Z"
   },
   {
    "duration": 229,
    "start_time": "2023-02-12T20:07:09.179Z"
   },
   {
    "duration": 10,
    "start_time": "2023-02-12T20:07:09.410Z"
   },
   {
    "duration": 18,
    "start_time": "2023-02-12T20:07:09.427Z"
   },
   {
    "duration": 15,
    "start_time": "2023-02-12T20:07:09.447Z"
   },
   {
    "duration": 187,
    "start_time": "2023-02-12T20:07:09.464Z"
   },
   {
    "duration": 1253,
    "start_time": "2023-02-12T20:07:09.653Z"
   },
   {
    "duration": 5,
    "start_time": "2023-02-12T20:07:10.907Z"
   },
   {
    "duration": 5,
    "start_time": "2023-02-12T20:07:10.914Z"
   },
   {
    "duration": 27,
    "start_time": "2023-02-12T20:07:10.921Z"
   },
   {
    "duration": 129,
    "start_time": "2023-02-12T20:07:10.950Z"
   },
   {
    "duration": 279,
    "start_time": "2023-02-12T20:07:11.081Z"
   },
   {
    "duration": 5,
    "start_time": "2023-02-12T20:07:11.363Z"
   },
   {
    "duration": 25,
    "start_time": "2023-02-12T20:07:11.370Z"
   },
   {
    "duration": 186,
    "start_time": "2023-02-12T20:07:11.398Z"
   },
   {
    "duration": 589,
    "start_time": "2023-02-12T20:07:11.588Z"
   },
   {
    "duration": 10,
    "start_time": "2023-02-12T20:07:12.179Z"
   },
   {
    "duration": 179,
    "start_time": "2023-02-12T20:07:12.197Z"
   },
   {
    "duration": 455,
    "start_time": "2023-02-12T20:07:12.378Z"
   },
   {
    "duration": 5,
    "start_time": "2023-02-12T20:07:12.834Z"
   },
   {
    "duration": 10,
    "start_time": "2023-02-12T20:07:12.841Z"
   },
   {
    "duration": 18,
    "start_time": "2023-02-12T20:07:12.853Z"
   },
   {
    "duration": 169,
    "start_time": "2023-02-12T20:07:12.873Z"
   },
   {
    "duration": 449,
    "start_time": "2023-02-12T20:07:13.045Z"
   },
   {
    "duration": 12,
    "start_time": "2023-02-12T20:07:13.496Z"
   },
   {
    "duration": 165,
    "start_time": "2023-02-12T20:07:13.510Z"
   },
   {
    "duration": 518,
    "start_time": "2023-02-12T20:07:13.677Z"
   },
   {
    "duration": 5,
    "start_time": "2023-02-12T20:07:14.197Z"
   },
   {
    "duration": 43,
    "start_time": "2023-02-12T20:07:14.204Z"
   },
   {
    "duration": 135,
    "start_time": "2023-02-12T20:07:14.249Z"
   },
   {
    "duration": 305,
    "start_time": "2023-02-12T20:07:14.386Z"
   },
   {
    "duration": 11,
    "start_time": "2023-02-12T20:07:14.693Z"
   },
   {
    "duration": 158,
    "start_time": "2023-02-12T20:07:14.706Z"
   },
   {
    "duration": 350,
    "start_time": "2023-02-12T20:07:14.866Z"
   },
   {
    "duration": 20,
    "start_time": "2023-02-12T20:07:15.221Z"
   },
   {
    "duration": 147,
    "start_time": "2023-02-12T20:07:15.243Z"
   },
   {
    "duration": 158,
    "start_time": "2023-02-12T20:07:15.392Z"
   },
   {
    "duration": 11,
    "start_time": "2023-02-12T20:07:15.551Z"
   },
   {
    "duration": 151,
    "start_time": "2023-02-12T20:07:15.564Z"
   },
   {
    "duration": 220,
    "start_time": "2023-02-12T20:07:15.717Z"
   },
   {
    "duration": 13,
    "start_time": "2023-02-12T20:07:15.939Z"
   },
   {
    "duration": 418,
    "start_time": "2023-02-12T20:07:15.955Z"
   },
   {
    "duration": 198,
    "start_time": "2023-02-12T20:07:16.375Z"
   },
   {
    "duration": 6,
    "start_time": "2023-02-12T20:07:16.575Z"
   },
   {
    "duration": 250,
    "start_time": "2023-02-12T20:07:16.583Z"
   },
   {
    "duration": 7,
    "start_time": "2023-02-12T20:07:16.835Z"
   },
   {
    "duration": 233,
    "start_time": "2023-02-12T20:07:16.843Z"
   },
   {
    "duration": 7,
    "start_time": "2023-02-12T20:07:17.078Z"
   },
   {
    "duration": 242,
    "start_time": "2023-02-12T20:07:17.091Z"
   },
   {
    "duration": 6,
    "start_time": "2023-02-12T20:07:17.334Z"
   },
   {
    "duration": 408,
    "start_time": "2023-02-12T20:07:17.342Z"
   },
   {
    "duration": 226,
    "start_time": "2023-02-12T20:07:17.752Z"
   },
   {
    "duration": 24,
    "start_time": "2023-02-12T20:07:17.979Z"
   },
   {
    "duration": 33,
    "start_time": "2023-02-12T20:07:18.004Z"
   },
   {
    "duration": 11,
    "start_time": "2023-02-12T20:07:18.039Z"
   },
   {
    "duration": 8,
    "start_time": "2023-02-12T20:07:18.052Z"
   },
   {
    "duration": 237,
    "start_time": "2023-02-12T20:07:18.062Z"
   },
   {
    "duration": 6,
    "start_time": "2023-02-12T20:07:18.306Z"
   },
   {
    "duration": 246,
    "start_time": "2023-02-12T20:07:18.313Z"
   },
   {
    "duration": 6,
    "start_time": "2023-02-12T20:07:18.560Z"
   },
   {
    "duration": 257,
    "start_time": "2023-02-12T20:07:18.568Z"
   },
   {
    "duration": 26,
    "start_time": "2023-02-12T20:07:18.827Z"
   },
   {
    "duration": 16,
    "start_time": "2023-02-12T20:07:18.854Z"
   },
   {
    "duration": 44,
    "start_time": "2023-02-12T20:07:18.872Z"
   },
   {
    "duration": 1008,
    "start_time": "2023-02-12T20:07:18.921Z"
   },
   {
    "duration": 16,
    "start_time": "2023-02-12T20:07:19.931Z"
   },
   {
    "duration": 22,
    "start_time": "2023-02-12T20:24:00.292Z"
   },
   {
    "duration": 5,
    "start_time": "2023-02-12T20:33:50.564Z"
   },
   {
    "duration": 5,
    "start_time": "2023-02-12T20:34:10.418Z"
   },
   {
    "duration": 4,
    "start_time": "2023-02-12T20:34:31.665Z"
   },
   {
    "duration": 5,
    "start_time": "2023-02-12T20:35:25.334Z"
   },
   {
    "duration": 4,
    "start_time": "2023-02-12T20:35:38.063Z"
   },
   {
    "duration": 79,
    "start_time": "2023-02-12T21:07:52.419Z"
   },
   {
    "duration": 618,
    "start_time": "2023-02-12T22:34:40.634Z"
   },
   {
    "duration": 928,
    "start_time": "2023-02-12T22:34:41.254Z"
   },
   {
    "duration": 34,
    "start_time": "2023-02-12T22:34:45.134Z"
   },
   {
    "duration": 17,
    "start_time": "2023-02-12T22:34:47.934Z"
   },
   {
    "duration": 2173,
    "start_time": "2023-02-12T22:34:50.872Z"
   },
   {
    "duration": 11,
    "start_time": "2023-02-12T22:34:59.224Z"
   },
   {
    "duration": 46,
    "start_time": "2023-02-12T23:11:52.834Z"
   },
   {
    "duration": 17,
    "start_time": "2023-02-12T23:12:03.240Z"
   },
   {
    "duration": 24,
    "start_time": "2023-02-13T00:25:38.092Z"
   },
   {
    "duration": 9,
    "start_time": "2023-02-13T00:25:53.966Z"
   },
   {
    "duration": 1401,
    "start_time": "2023-02-13T00:27:02.848Z"
   },
   {
    "duration": 1420,
    "start_time": "2023-02-13T00:27:41.008Z"
   },
   {
    "duration": 62,
    "start_time": "2023-02-13T00:27:45.002Z"
   },
   {
    "duration": 623,
    "start_time": "2023-02-13T12:22:52.221Z"
   },
   {
    "duration": 327,
    "start_time": "2023-02-13T12:22:53.068Z"
   },
   {
    "duration": 34,
    "start_time": "2023-02-13T12:22:57.321Z"
   },
   {
    "duration": 16,
    "start_time": "2023-02-13T12:23:01.500Z"
   },
   {
    "duration": 1877,
    "start_time": "2023-02-13T12:23:04.412Z"
   },
   {
    "duration": 11,
    "start_time": "2023-02-13T12:23:07.102Z"
   },
   {
    "duration": 93,
    "start_time": "2023-02-13T12:23:13.157Z"
   },
   {
    "duration": 77,
    "start_time": "2023-02-13T12:23:20.325Z"
   },
   {
    "duration": 1389,
    "start_time": "2023-02-13T12:23:24.509Z"
   },
   {
    "duration": 1500,
    "start_time": "2023-02-13T12:24:34.519Z"
   },
   {
    "duration": 1387,
    "start_time": "2023-02-13T12:26:18.455Z"
   },
   {
    "duration": 1236,
    "start_time": "2023-02-13T12:26:50.159Z"
   },
   {
    "duration": 1480,
    "start_time": "2023-02-13T12:27:03.143Z"
   },
   {
    "duration": 1183,
    "start_time": "2023-02-13T12:27:19.951Z"
   },
   {
    "duration": 10,
    "start_time": "2023-02-13T12:27:23.493Z"
   },
   {
    "duration": 1386,
    "start_time": "2023-02-13T12:29:25.380Z"
   },
   {
    "duration": 1239,
    "start_time": "2023-02-13T12:31:01.489Z"
   },
   {
    "duration": 75,
    "start_time": "2023-02-13T12:33:02.562Z"
   },
   {
    "duration": 27,
    "start_time": "2023-02-13T12:33:07.442Z"
   },
   {
    "duration": 9,
    "start_time": "2023-02-13T12:33:14.673Z"
   },
   {
    "duration": 63,
    "start_time": "2023-02-13T12:33:47.651Z"
   },
   {
    "duration": 9,
    "start_time": "2023-02-13T12:33:55.186Z"
   },
   {
    "duration": 29,
    "start_time": "2023-02-13T12:34:32.708Z"
   },
   {
    "duration": 34,
    "start_time": "2023-02-13T12:34:36.363Z"
   },
   {
    "duration": 36,
    "start_time": "2023-02-13T12:34:39.907Z"
   },
   {
    "duration": 9,
    "start_time": "2023-02-13T12:34:43.202Z"
   },
   {
    "duration": 21,
    "start_time": "2023-02-13T12:37:28.181Z"
   },
   {
    "duration": 50,
    "start_time": "2023-02-13T12:38:44.246Z"
   },
   {
    "duration": 4,
    "start_time": "2023-02-13T12:42:24.480Z"
   },
   {
    "duration": 4,
    "start_time": "2023-02-13T12:42:40.304Z"
   },
   {
    "duration": 32,
    "start_time": "2023-02-13T12:42:55.728Z"
   },
   {
    "duration": 27,
    "start_time": "2023-02-13T12:43:25.697Z"
   },
   {
    "duration": 9,
    "start_time": "2023-02-13T12:45:41.841Z"
   },
   {
    "duration": 36,
    "start_time": "2023-02-13T12:45:47.178Z"
   },
   {
    "duration": 36,
    "start_time": "2023-02-13T12:47:07.514Z"
   },
   {
    "duration": 9,
    "start_time": "2023-02-13T12:47:13.242Z"
   },
   {
    "duration": 779,
    "start_time": "2023-02-13T12:52:05.069Z"
   },
   {
    "duration": 57,
    "start_time": "2023-02-13T12:56:33.354Z"
   },
   {
    "duration": 699,
    "start_time": "2023-02-13T12:56:37.617Z"
   },
   {
    "duration": 5,
    "start_time": "2023-02-13T13:04:59.286Z"
   },
   {
    "duration": 1112,
    "start_time": "2023-02-13T13:05:15.406Z"
   },
   {
    "duration": 1150,
    "start_time": "2023-02-13T13:05:20.798Z"
   },
   {
    "duration": 9,
    "start_time": "2023-02-13T13:05:36.853Z"
   },
   {
    "duration": 53,
    "start_time": "2023-02-13T13:08:16.615Z"
   },
   {
    "duration": 1108,
    "start_time": "2023-02-13T13:08:17.415Z"
   },
   {
    "duration": 9,
    "start_time": "2023-02-13T13:08:21.630Z"
   },
   {
    "duration": 1112,
    "start_time": "2023-02-13T13:11:48.538Z"
   },
   {
    "duration": 9,
    "start_time": "2023-02-13T13:11:53.920Z"
   },
   {
    "duration": 1105,
    "start_time": "2023-02-13T13:12:19.937Z"
   },
   {
    "duration": 1171,
    "start_time": "2023-02-13T13:12:21.044Z"
   },
   {
    "duration": 8,
    "start_time": "2023-02-13T13:12:24.554Z"
   },
   {
    "duration": 1112,
    "start_time": "2023-02-13T13:12:59.463Z"
   },
   {
    "duration": 9,
    "start_time": "2023-02-13T13:13:03.633Z"
   },
   {
    "duration": 14,
    "start_time": "2023-02-13T13:13:18.835Z"
   },
   {
    "duration": 13,
    "start_time": "2023-02-13T13:13:41.114Z"
   },
   {
    "duration": 13,
    "start_time": "2023-02-13T13:14:09.316Z"
   },
   {
    "duration": 10,
    "start_time": "2023-02-13T13:15:11.653Z"
   },
   {
    "duration": 9,
    "start_time": "2023-02-13T13:15:35.796Z"
   },
   {
    "duration": 10,
    "start_time": "2023-02-13T13:15:51.372Z"
   },
   {
    "duration": 18,
    "start_time": "2023-02-13T13:17:18.949Z"
   },
   {
    "duration": 22,
    "start_time": "2023-02-13T13:17:49.134Z"
   },
   {
    "duration": 25,
    "start_time": "2023-02-13T13:18:10.157Z"
   },
   {
    "duration": 5,
    "start_time": "2023-02-13T13:18:36.326Z"
   },
   {
    "duration": 17,
    "start_time": "2023-02-13T13:18:40.533Z"
   },
   {
    "duration": 14,
    "start_time": "2023-02-13T13:18:45.268Z"
   },
   {
    "duration": 15,
    "start_time": "2023-02-13T13:19:49.622Z"
   },
   {
    "duration": 14,
    "start_time": "2023-02-13T13:19:51.766Z"
   },
   {
    "duration": 13,
    "start_time": "2023-02-13T13:19:56.742Z"
   },
   {
    "duration": 69,
    "start_time": "2023-02-13T13:19:59.136Z"
   },
   {
    "duration": 14,
    "start_time": "2023-02-13T13:20:01.477Z"
   },
   {
    "duration": 12,
    "start_time": "2023-02-13T13:22:25.368Z"
   },
   {
    "duration": 4,
    "start_time": "2023-02-13T13:22:36.008Z"
   },
   {
    "duration": 5,
    "start_time": "2023-02-13T13:22:43.471Z"
   },
   {
    "duration": 52,
    "start_time": "2023-02-13T13:22:44.847Z"
   },
   {
    "duration": 5,
    "start_time": "2023-02-13T13:22:45.168Z"
   },
   {
    "duration": 84,
    "start_time": "2023-02-13T13:22:55.408Z"
   },
   {
    "duration": 6,
    "start_time": "2023-02-13T13:23:04.536Z"
   },
   {
    "duration": 53,
    "start_time": "2023-02-13T13:23:05.240Z"
   },
   {
    "duration": 5,
    "start_time": "2023-02-13T13:23:05.552Z"
   },
   {
    "duration": 6,
    "start_time": "2023-02-13T13:35:53.407Z"
   },
   {
    "duration": 155,
    "start_time": "2023-02-13T13:36:20.207Z"
   },
   {
    "duration": 165,
    "start_time": "2023-02-13T13:36:52.656Z"
   },
   {
    "duration": 179,
    "start_time": "2023-02-13T13:38:00.784Z"
   },
   {
    "duration": 172,
    "start_time": "2023-02-13T13:38:12.592Z"
   },
   {
    "duration": 244,
    "start_time": "2023-02-13T19:29:02.562Z"
   },
   {
    "duration": 8,
    "start_time": "2023-02-13T19:32:12.627Z"
   },
   {
    "duration": 20,
    "start_time": "2023-02-13T19:32:18.837Z"
   },
   {
    "duration": 377,
    "start_time": "2023-02-13T19:32:40.141Z"
   },
   {
    "duration": 284,
    "start_time": "2023-02-13T19:32:40.814Z"
   },
   {
    "duration": 43,
    "start_time": "2023-02-13T19:32:44.311Z"
   },
   {
    "duration": 20,
    "start_time": "2023-02-13T19:32:45.950Z"
   },
   {
    "duration": 1955,
    "start_time": "2023-02-13T19:32:47.566Z"
   },
   {
    "duration": 9,
    "start_time": "2023-02-13T19:32:54.869Z"
   },
   {
    "duration": 1290,
    "start_time": "2023-02-13T19:32:58.193Z"
   },
   {
    "duration": 1276,
    "start_time": "2023-02-13T19:33:00.078Z"
   },
   {
    "duration": 1324,
    "start_time": "2023-02-13T19:33:01.718Z"
   },
   {
    "duration": 1497,
    "start_time": "2023-02-13T19:33:03.044Z"
   },
   {
    "duration": 37,
    "start_time": "2023-02-13T19:33:04.543Z"
   },
   {
    "duration": 40,
    "start_time": "2023-02-13T19:33:04.907Z"
   },
   {
    "duration": 5,
    "start_time": "2023-02-13T19:33:07.629Z"
   },
   {
    "duration": 10,
    "start_time": "2023-02-13T19:33:12.313Z"
   },
   {
    "duration": 1333,
    "start_time": "2023-02-13T19:33:35.617Z"
   },
   {
    "duration": 10,
    "start_time": "2023-02-13T19:33:40.549Z"
   },
   {
    "duration": 67,
    "start_time": "2023-02-13T19:34:57.779Z"
   },
   {
    "duration": 9,
    "start_time": "2023-02-13T19:37:48.156Z"
   },
   {
    "duration": 9,
    "start_time": "2023-02-13T19:37:53.632Z"
   },
   {
    "duration": 1312,
    "start_time": "2023-02-13T19:38:03.640Z"
   },
   {
    "duration": 1250,
    "start_time": "2023-02-13T19:38:04.954Z"
   },
   {
    "duration": 1260,
    "start_time": "2023-02-13T19:38:06.206Z"
   },
   {
    "duration": 1265,
    "start_time": "2023-02-13T19:38:07.468Z"
   },
   {
    "duration": 27,
    "start_time": "2023-02-13T19:38:08.735Z"
   },
   {
    "duration": 39,
    "start_time": "2023-02-13T19:38:08.764Z"
   },
   {
    "duration": 5,
    "start_time": "2023-02-13T19:38:08.805Z"
   },
   {
    "duration": 11,
    "start_time": "2023-02-13T19:38:08.812Z"
   },
   {
    "duration": 21,
    "start_time": "2023-02-13T19:38:13.969Z"
   },
   {
    "duration": 18,
    "start_time": "2023-02-13T19:38:16.921Z"
   },
   {
    "duration": 36,
    "start_time": "2023-02-13T19:38:19.953Z"
   },
   {
    "duration": 28,
    "start_time": "2023-02-13T19:38:20.473Z"
   },
   {
    "duration": 5,
    "start_time": "2023-02-13T19:38:23.026Z"
   },
   {
    "duration": 84,
    "start_time": "2023-02-13T19:40:15.978Z"
   },
   {
    "duration": 123,
    "start_time": "2023-02-13T19:40:39.818Z"
   },
   {
    "duration": 173,
    "start_time": "2023-02-13T19:51:28.985Z"
   },
   {
    "duration": 189,
    "start_time": "2023-02-13T19:51:35.816Z"
   },
   {
    "duration": 175,
    "start_time": "2023-02-13T19:51:41.640Z"
   },
   {
    "duration": 19,
    "start_time": "2023-02-13T19:54:27.763Z"
   },
   {
    "duration": 18,
    "start_time": "2023-02-13T20:05:24.518Z"
   },
   {
    "duration": 9,
    "start_time": "2023-02-13T20:05:39.728Z"
   },
   {
    "duration": 9,
    "start_time": "2023-02-13T20:06:19.449Z"
   },
   {
    "duration": 19,
    "start_time": "2023-02-13T20:06:28.441Z"
   },
   {
    "duration": 12,
    "start_time": "2023-02-13T20:07:44.490Z"
   },
   {
    "duration": 15,
    "start_time": "2023-02-13T20:07:52.043Z"
   },
   {
    "duration": 12,
    "start_time": "2023-02-13T20:10:26.127Z"
   },
   {
    "duration": 17,
    "start_time": "2023-02-13T20:10:29.187Z"
   },
   {
    "duration": 14,
    "start_time": "2023-02-13T20:10:55.729Z"
   },
   {
    "duration": 22,
    "start_time": "2023-02-13T20:12:58.245Z"
   },
   {
    "duration": 15,
    "start_time": "2023-02-13T20:13:32.959Z"
   },
   {
    "duration": 19,
    "start_time": "2023-02-13T20:13:52.262Z"
   },
   {
    "duration": 16,
    "start_time": "2023-02-13T20:14:03.583Z"
   },
   {
    "duration": 12,
    "start_time": "2023-02-13T20:14:32.615Z"
   },
   {
    "duration": 17,
    "start_time": "2023-02-13T20:14:36.542Z"
   },
   {
    "duration": 17,
    "start_time": "2023-02-13T20:14:42.895Z"
   },
   {
    "duration": 17,
    "start_time": "2023-02-13T20:14:55.094Z"
   },
   {
    "duration": 20,
    "start_time": "2023-02-13T20:15:03.638Z"
   },
   {
    "duration": 7,
    "start_time": "2023-02-13T20:15:42.926Z"
   },
   {
    "duration": 10,
    "start_time": "2023-02-13T20:15:45.912Z"
   },
   {
    "duration": 1163,
    "start_time": "2023-02-13T20:24:59.165Z"
   },
   {
    "duration": 449,
    "start_time": "2023-02-13T20:25:24.108Z"
   },
   {
    "duration": 277,
    "start_time": "2023-02-13T20:25:24.617Z"
   },
   {
    "duration": 30,
    "start_time": "2023-02-13T20:25:24.896Z"
   },
   {
    "duration": 14,
    "start_time": "2023-02-13T20:25:24.927Z"
   },
   {
    "duration": 1890,
    "start_time": "2023-02-13T20:25:24.943Z"
   },
   {
    "duration": 10,
    "start_time": "2023-02-13T20:25:26.835Z"
   },
   {
    "duration": 11,
    "start_time": "2023-02-13T20:25:26.847Z"
   },
   {
    "duration": 1271,
    "start_time": "2023-02-13T20:25:26.860Z"
   },
   {
    "duration": 1256,
    "start_time": "2023-02-13T20:25:28.133Z"
   },
   {
    "duration": 1281,
    "start_time": "2023-02-13T20:25:29.394Z"
   },
   {
    "duration": 1257,
    "start_time": "2023-02-13T20:25:30.677Z"
   },
   {
    "duration": 26,
    "start_time": "2023-02-13T20:25:31.936Z"
   },
   {
    "duration": 44,
    "start_time": "2023-02-13T20:25:31.964Z"
   },
   {
    "duration": 4,
    "start_time": "2023-02-13T20:25:32.011Z"
   },
   {
    "duration": 11,
    "start_time": "2023-02-13T20:25:32.016Z"
   },
   {
    "duration": 14,
    "start_time": "2023-02-13T20:25:32.029Z"
   },
   {
    "duration": 12,
    "start_time": "2023-02-13T20:25:32.044Z"
   },
   {
    "duration": 57,
    "start_time": "2023-02-13T20:25:32.058Z"
   },
   {
    "duration": 29,
    "start_time": "2023-02-13T20:25:32.117Z"
   },
   {
    "duration": 6,
    "start_time": "2023-02-13T20:25:32.147Z"
   },
   {
    "duration": 11,
    "start_time": "2023-02-13T20:25:32.155Z"
   },
   {
    "duration": 77,
    "start_time": "2023-02-13T20:25:32.168Z"
   },
   {
    "duration": 5,
    "start_time": "2023-02-13T20:25:32.247Z"
   },
   {
    "duration": 313,
    "start_time": "2023-02-13T20:25:32.254Z"
   },
   {
    "duration": 10,
    "start_time": "2023-02-13T20:25:32.569Z"
   },
   {
    "duration": 125,
    "start_time": "2023-02-13T20:25:32.581Z"
   },
   {
    "duration": 266,
    "start_time": "2023-02-13T20:25:32.708Z"
   },
   {
    "duration": 16,
    "start_time": "2023-02-13T20:25:32.976Z"
   },
   {
    "duration": 213,
    "start_time": "2023-02-13T20:25:32.994Z"
   },
   {
    "duration": 267,
    "start_time": "2023-02-13T20:25:33.209Z"
   },
   {
    "duration": 193,
    "start_time": "2023-02-13T20:25:33.478Z"
   },
   {
    "duration": 20,
    "start_time": "2023-02-13T20:25:33.675Z"
   },
   {
    "duration": 113,
    "start_time": "2023-02-13T20:25:33.698Z"
   },
   {
    "duration": 319,
    "start_time": "2023-02-13T20:25:33.812Z"
   },
   {
    "duration": 245,
    "start_time": "2023-02-13T20:25:34.133Z"
   },
   {
    "duration": 15,
    "start_time": "2023-02-13T20:25:34.379Z"
   },
   {
    "duration": 4,
    "start_time": "2023-02-13T20:25:34.396Z"
   },
   {
    "duration": 11,
    "start_time": "2023-02-13T20:25:34.401Z"
   },
   {
    "duration": 148,
    "start_time": "2023-02-13T20:25:34.413Z"
   },
   {
    "duration": 1086,
    "start_time": "2023-02-13T20:25:34.563Z"
   },
   {
    "duration": 5,
    "start_time": "2023-02-13T20:25:35.650Z"
   },
   {
    "duration": 17,
    "start_time": "2023-02-13T20:25:35.656Z"
   },
   {
    "duration": 25,
    "start_time": "2023-02-13T20:25:35.674Z"
   },
   {
    "duration": 122,
    "start_time": "2023-02-13T20:25:35.701Z"
   },
   {
    "duration": 204,
    "start_time": "2023-02-13T20:25:35.824Z"
   },
   {
    "duration": 5,
    "start_time": "2023-02-13T20:25:36.030Z"
   },
   {
    "duration": 26,
    "start_time": "2023-02-13T20:25:36.036Z"
   },
   {
    "duration": 101,
    "start_time": "2023-02-13T20:25:36.064Z"
   },
   {
    "duration": 521,
    "start_time": "2023-02-13T20:25:36.166Z"
   },
   {
    "duration": 13,
    "start_time": "2023-02-13T20:25:36.689Z"
   },
   {
    "duration": 138,
    "start_time": "2023-02-13T20:25:36.704Z"
   },
   {
    "duration": 357,
    "start_time": "2023-02-13T20:25:36.844Z"
   },
   {
    "duration": 5,
    "start_time": "2023-02-13T20:25:37.203Z"
   },
   {
    "duration": 11,
    "start_time": "2023-02-13T20:25:37.210Z"
   },
   {
    "duration": 10,
    "start_time": "2023-02-13T20:25:37.222Z"
   },
   {
    "duration": 131,
    "start_time": "2023-02-13T20:25:37.234Z"
   },
   {
    "duration": 351,
    "start_time": "2023-02-13T20:25:37.367Z"
   },
   {
    "duration": 9,
    "start_time": "2023-02-13T20:25:37.720Z"
   },
   {
    "duration": 127,
    "start_time": "2023-02-13T20:25:37.731Z"
   },
   {
    "duration": 396,
    "start_time": "2023-02-13T20:25:37.860Z"
   },
   {
    "duration": 5,
    "start_time": "2023-02-13T20:25:38.258Z"
   },
   {
    "duration": 12,
    "start_time": "2023-02-13T20:25:38.265Z"
   },
   {
    "duration": 128,
    "start_time": "2023-02-13T20:25:38.279Z"
   },
   {
    "duration": 228,
    "start_time": "2023-02-13T20:25:38.409Z"
   },
   {
    "duration": 9,
    "start_time": "2023-02-13T20:25:38.639Z"
   },
   {
    "duration": 127,
    "start_time": "2023-02-13T20:25:38.649Z"
   },
   {
    "duration": 249,
    "start_time": "2023-02-13T20:25:38.778Z"
   },
   {
    "duration": 8,
    "start_time": "2023-02-13T20:25:39.028Z"
   },
   {
    "duration": 121,
    "start_time": "2023-02-13T20:25:39.037Z"
   },
   {
    "duration": 158,
    "start_time": "2023-02-13T20:25:39.160Z"
   },
   {
    "duration": 9,
    "start_time": "2023-02-13T20:25:39.320Z"
   },
   {
    "duration": 149,
    "start_time": "2023-02-13T20:25:39.331Z"
   },
   {
    "duration": 146,
    "start_time": "2023-02-13T20:25:39.493Z"
   },
   {
    "duration": 162,
    "start_time": "2023-02-13T20:25:39.641Z"
   },
   {
    "duration": 8,
    "start_time": "2023-02-13T20:25:39.805Z"
   },
   {
    "duration": 265,
    "start_time": "2023-02-13T20:25:39.815Z"
   },
   {
    "duration": 132,
    "start_time": "2023-02-13T20:25:40.081Z"
   },
   {
    "duration": 441,
    "start_time": "2023-02-13T20:25:40.214Z"
   },
   {
    "duration": 6,
    "start_time": "2023-02-13T20:25:40.656Z"
   },
   {
    "duration": 219,
    "start_time": "2023-02-13T20:25:40.664Z"
   },
   {
    "duration": 12,
    "start_time": "2023-02-13T20:25:40.885Z"
   },
   {
    "duration": 212,
    "start_time": "2023-02-13T20:25:40.899Z"
   },
   {
    "duration": 6,
    "start_time": "2023-02-13T20:25:41.113Z"
   },
   {
    "duration": 181,
    "start_time": "2023-02-13T20:25:41.120Z"
   },
   {
    "duration": 5,
    "start_time": "2023-02-13T20:25:41.302Z"
   },
   {
    "duration": 16,
    "start_time": "2023-02-13T20:25:41.312Z"
   },
   {
    "duration": 14,
    "start_time": "2023-02-13T20:25:41.329Z"
   },
   {
    "duration": 14,
    "start_time": "2023-02-13T20:25:41.344Z"
   },
   {
    "duration": 45,
    "start_time": "2023-02-13T20:25:41.359Z"
   },
   {
    "duration": 5,
    "start_time": "2023-02-13T20:25:41.406Z"
   },
   {
    "duration": 204,
    "start_time": "2023-02-13T20:25:41.413Z"
   },
   {
    "duration": 11,
    "start_time": "2023-02-13T20:25:41.618Z"
   },
   {
    "duration": 5,
    "start_time": "2023-02-13T20:25:41.631Z"
   },
   {
    "duration": 211,
    "start_time": "2023-02-13T20:25:41.637Z"
   },
   {
    "duration": 5,
    "start_time": "2023-02-13T20:25:41.849Z"
   },
   {
    "duration": 200,
    "start_time": "2023-02-13T20:25:41.856Z"
   },
   {
    "duration": 24,
    "start_time": "2023-02-13T20:25:44.684Z"
   },
   {
    "duration": 11,
    "start_time": "2023-02-13T20:25:46.397Z"
   },
   {
    "duration": 71,
    "start_time": "2023-02-13T20:27:17.701Z"
   },
   {
    "duration": 19,
    "start_time": "2023-02-13T20:27:24.006Z"
   },
   {
    "duration": 14,
    "start_time": "2023-02-13T20:27:35.422Z"
   },
   {
    "duration": 23,
    "start_time": "2023-02-13T21:34:34.429Z"
   },
   {
    "duration": 18,
    "start_time": "2023-02-13T21:34:49.253Z"
   },
   {
    "duration": 16,
    "start_time": "2023-02-13T21:35:05.955Z"
   },
   {
    "duration": 1184,
    "start_time": "2023-02-13T21:41:07.650Z"
   },
   {
    "duration": 1195,
    "start_time": "2023-02-13T21:41:15.106Z"
   },
   {
    "duration": 16,
    "start_time": "2023-02-13T21:41:23.407Z"
   },
   {
    "duration": 17,
    "start_time": "2023-02-13T21:42:48.736Z"
   },
   {
    "duration": 12,
    "start_time": "2023-02-13T21:42:56.426Z"
   },
   {
    "duration": 68,
    "start_time": "2023-02-13T22:42:09.321Z"
   },
   {
    "duration": 15,
    "start_time": "2023-02-13T22:42:17.064Z"
   },
   {
    "duration": 15,
    "start_time": "2023-02-13T22:42:51.528Z"
   },
   {
    "duration": 23,
    "start_time": "2023-02-13T22:43:18.840Z"
   },
   {
    "duration": 21,
    "start_time": "2023-02-13T22:43:25.903Z"
   },
   {
    "duration": 21,
    "start_time": "2023-02-13T22:43:35.999Z"
   },
   {
    "duration": 21,
    "start_time": "2023-02-13T22:44:01.360Z"
   },
   {
    "duration": 27,
    "start_time": "2023-02-13T22:44:31.208Z"
   },
   {
    "duration": 6,
    "start_time": "2023-02-13T22:46:42.969Z"
   },
   {
    "duration": 206,
    "start_time": "2023-02-13T22:47:18.033Z"
   },
   {
    "duration": 153,
    "start_time": "2023-02-13T22:48:01.979Z"
   },
   {
    "duration": 138,
    "start_time": "2023-02-13T22:49:31.883Z"
   },
   {
    "duration": 132,
    "start_time": "2023-02-13T22:53:06.854Z"
   },
   {
    "duration": 482,
    "start_time": "2023-02-14T21:01:18.486Z"
   },
   {
    "duration": 343,
    "start_time": "2023-02-14T21:01:18.970Z"
   },
   {
    "duration": 32,
    "start_time": "2023-02-14T21:01:19.314Z"
   },
   {
    "duration": 15,
    "start_time": "2023-02-14T21:01:19.347Z"
   },
   {
    "duration": 1871,
    "start_time": "2023-02-14T21:01:19.365Z"
   },
   {
    "duration": 8,
    "start_time": "2023-02-14T21:01:21.238Z"
   },
   {
    "duration": 10,
    "start_time": "2023-02-14T21:01:21.247Z"
   },
   {
    "duration": 1292,
    "start_time": "2023-02-14T21:01:21.258Z"
   },
   {
    "duration": 1302,
    "start_time": "2023-02-14T21:01:22.551Z"
   },
   {
    "duration": 1285,
    "start_time": "2023-02-14T21:01:23.854Z"
   },
   {
    "duration": 1167,
    "start_time": "2023-02-14T21:01:25.140Z"
   },
   {
    "duration": 29,
    "start_time": "2023-02-14T21:01:26.309Z"
   },
   {
    "duration": 32,
    "start_time": "2023-02-14T21:01:26.340Z"
   },
   {
    "duration": 5,
    "start_time": "2023-02-14T21:01:26.375Z"
   },
   {
    "duration": 33,
    "start_time": "2023-02-14T21:01:26.382Z"
   },
   {
    "duration": 20,
    "start_time": "2023-02-14T21:01:26.417Z"
   },
   {
    "duration": 14,
    "start_time": "2023-02-14T21:01:26.439Z"
   },
   {
    "duration": 24,
    "start_time": "2023-02-14T21:01:26.454Z"
   },
   {
    "duration": 59,
    "start_time": "2023-02-14T21:01:26.480Z"
   },
   {
    "duration": 5,
    "start_time": "2023-02-14T21:01:26.540Z"
   },
   {
    "duration": 8,
    "start_time": "2023-02-14T21:01:26.546Z"
   },
   {
    "duration": 74,
    "start_time": "2023-02-14T21:01:26.555Z"
   },
   {
    "duration": 7,
    "start_time": "2023-02-14T21:01:26.631Z"
   },
   {
    "duration": 376,
    "start_time": "2023-02-14T21:01:26.640Z"
   },
   {
    "duration": 10,
    "start_time": "2023-02-14T21:01:27.019Z"
   },
   {
    "duration": 130,
    "start_time": "2023-02-14T21:01:27.031Z"
   },
   {
    "duration": 252,
    "start_time": "2023-02-14T21:01:27.162Z"
   },
   {
    "duration": 17,
    "start_time": "2023-02-14T21:01:27.416Z"
   },
   {
    "duration": 198,
    "start_time": "2023-02-14T21:01:27.435Z"
   },
   {
    "duration": 255,
    "start_time": "2023-02-14T21:01:27.634Z"
   },
   {
    "duration": 193,
    "start_time": "2023-02-14T21:01:27.890Z"
   },
   {
    "duration": 8,
    "start_time": "2023-02-14T21:01:28.085Z"
   },
   {
    "duration": 137,
    "start_time": "2023-02-14T21:01:28.095Z"
   },
   {
    "duration": 266,
    "start_time": "2023-02-14T21:01:28.233Z"
   },
   {
    "duration": 196,
    "start_time": "2023-02-14T21:01:28.501Z"
   },
   {
    "duration": 33,
    "start_time": "2023-02-14T21:01:28.699Z"
   },
   {
    "duration": 4,
    "start_time": "2023-02-14T21:01:28.733Z"
   },
   {
    "duration": 17,
    "start_time": "2023-02-14T21:01:28.738Z"
   },
   {
    "duration": 123,
    "start_time": "2023-02-14T21:01:28.756Z"
   },
   {
    "duration": 951,
    "start_time": "2023-02-14T21:01:28.881Z"
   },
   {
    "duration": 5,
    "start_time": "2023-02-14T21:01:29.837Z"
   },
   {
    "duration": 8,
    "start_time": "2023-02-14T21:01:29.843Z"
   },
   {
    "duration": 10,
    "start_time": "2023-02-14T21:01:29.852Z"
   },
   {
    "duration": 146,
    "start_time": "2023-02-14T21:01:29.864Z"
   },
   {
    "duration": 213,
    "start_time": "2023-02-14T21:01:30.012Z"
   },
   {
    "duration": 6,
    "start_time": "2023-02-14T21:01:30.228Z"
   },
   {
    "duration": 29,
    "start_time": "2023-02-14T21:01:30.236Z"
   },
   {
    "duration": 166,
    "start_time": "2023-02-14T21:01:30.267Z"
   },
   {
    "duration": 471,
    "start_time": "2023-02-14T21:01:30.435Z"
   },
   {
    "duration": 10,
    "start_time": "2023-02-14T21:01:30.907Z"
   },
   {
    "duration": 126,
    "start_time": "2023-02-14T21:01:30.921Z"
   },
   {
    "duration": 363,
    "start_time": "2023-02-14T21:01:31.048Z"
   },
   {
    "duration": 9,
    "start_time": "2023-02-14T21:01:31.414Z"
   },
   {
    "duration": 11,
    "start_time": "2023-02-14T21:01:31.425Z"
   },
   {
    "duration": 17,
    "start_time": "2023-02-14T21:01:31.438Z"
   },
   {
    "duration": 119,
    "start_time": "2023-02-14T21:01:31.456Z"
   },
   {
    "duration": 340,
    "start_time": "2023-02-14T21:01:31.577Z"
   },
   {
    "duration": 13,
    "start_time": "2023-02-14T21:01:31.919Z"
   },
   {
    "duration": 140,
    "start_time": "2023-02-14T21:01:31.933Z"
   },
   {
    "duration": 381,
    "start_time": "2023-02-14T21:01:32.074Z"
   },
   {
    "duration": 5,
    "start_time": "2023-02-14T21:01:32.457Z"
   },
   {
    "duration": 9,
    "start_time": "2023-02-14T21:01:32.463Z"
   },
   {
    "duration": 125,
    "start_time": "2023-02-14T21:01:32.473Z"
   },
   {
    "duration": 249,
    "start_time": "2023-02-14T21:01:32.600Z"
   },
   {
    "duration": 9,
    "start_time": "2023-02-14T21:01:32.850Z"
   },
   {
    "duration": 135,
    "start_time": "2023-02-14T21:01:32.860Z"
   },
   {
    "duration": 265,
    "start_time": "2023-02-14T21:01:32.997Z"
   },
   {
    "duration": 8,
    "start_time": "2023-02-14T21:01:33.263Z"
   },
   {
    "duration": 138,
    "start_time": "2023-02-14T21:01:33.273Z"
   },
   {
    "duration": 164,
    "start_time": "2023-02-14T21:01:33.413Z"
   },
   {
    "duration": 8,
    "start_time": "2023-02-14T21:01:33.578Z"
   },
   {
    "duration": 124,
    "start_time": "2023-02-14T21:01:33.588Z"
   },
   {
    "duration": 165,
    "start_time": "2023-02-14T21:01:33.714Z"
   },
   {
    "duration": 168,
    "start_time": "2023-02-14T21:01:33.880Z"
   },
   {
    "duration": 8,
    "start_time": "2023-02-14T21:01:34.049Z"
   },
   {
    "duration": 261,
    "start_time": "2023-02-14T21:01:34.058Z"
   },
   {
    "duration": 128,
    "start_time": "2023-02-14T21:01:34.320Z"
   },
   {
    "duration": 369,
    "start_time": "2023-02-14T21:01:34.449Z"
   },
   {
    "duration": 6,
    "start_time": "2023-02-14T21:01:34.820Z"
   },
   {
    "duration": 205,
    "start_time": "2023-02-14T21:01:34.828Z"
   },
   {
    "duration": 6,
    "start_time": "2023-02-14T21:01:35.034Z"
   },
   {
    "duration": 214,
    "start_time": "2023-02-14T21:01:35.042Z"
   },
   {
    "duration": 5,
    "start_time": "2023-02-14T21:01:35.257Z"
   },
   {
    "duration": 191,
    "start_time": "2023-02-14T21:01:35.263Z"
   },
   {
    "duration": 6,
    "start_time": "2023-02-14T21:01:35.456Z"
   },
   {
    "duration": 22,
    "start_time": "2023-02-14T21:01:35.463Z"
   },
   {
    "duration": 29,
    "start_time": "2023-02-14T21:01:35.486Z"
   },
   {
    "duration": 13,
    "start_time": "2023-02-14T21:01:35.517Z"
   },
   {
    "duration": 11,
    "start_time": "2023-02-14T21:01:35.532Z"
   },
   {
    "duration": 11,
    "start_time": "2023-02-14T21:01:35.544Z"
   },
   {
    "duration": 12,
    "start_time": "2023-02-14T21:01:35.557Z"
   },
   {
    "duration": 42,
    "start_time": "2023-02-14T21:01:35.571Z"
   },
   {
    "duration": 21,
    "start_time": "2023-02-14T21:01:35.614Z"
   },
   {
    "duration": 23,
    "start_time": "2023-02-14T21:01:35.636Z"
   },
   {
    "duration": 155,
    "start_time": "2023-02-14T21:01:35.660Z"
   },
   {
    "duration": 8,
    "start_time": "2023-02-14T21:01:35.817Z"
   },
   {
    "duration": 27,
    "start_time": "2023-02-14T21:12:18.084Z"
   },
   {
    "duration": 6,
    "start_time": "2023-02-14T21:12:34.434Z"
   }
  ],
  "kernelspec": {
   "display_name": "Python 3 (ipykernel)",
   "language": "python",
   "name": "python3"
  },
  "language_info": {
   "codemirror_mode": {
    "name": "ipython",
    "version": 3
   },
   "file_extension": ".py",
   "mimetype": "text/x-python",
   "name": "python",
   "nbconvert_exporter": "python",
   "pygments_lexer": "ipython3",
   "version": "3.9.5"
  },
  "toc": {
   "base_numbering": 1,
   "nav_menu": {},
   "number_sections": false,
   "sideBar": true,
   "skip_h1_title": false,
   "title_cell": "Table of Contents",
   "title_sidebar": "Contents",
   "toc_cell": false,
   "toc_position": {
    "height": "calc(100% - 180px)",
    "left": "10px",
    "top": "150px",
    "width": "165px"
   },
   "toc_section_display": true,
   "toc_window_display": true
  }
 },
 "nbformat": 4,
 "nbformat_minor": 2
}
