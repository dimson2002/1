{
 "cells": [
  {
   "cell_type": "markdown",
   "metadata": {
    "toc": true
   },
   "source": [
    "<h1>Содержание<span class=\"tocSkip\"></span></h1>\n",
    "<div class=\"toc\"><ul class=\"toc-item\"><li><span><a href=\"#Подготовка\" data-toc-modified-id=\"Подготовка-1\"><span class=\"toc-item-num\">1&nbsp;&nbsp;</span>Подготовка</a></span></li><li><span><a href=\"#Анализ\" data-toc-modified-id=\"Анализ-2\"><span class=\"toc-item-num\">2&nbsp;&nbsp;</span>Анализ</a></span></li><li><span><a href=\"#Обучение\" data-toc-modified-id=\"Обучение-3\"><span class=\"toc-item-num\">3&nbsp;&nbsp;</span>Обучение</a></span><ul class=\"toc-item\"><li><span><a href=\"#Линейная-регрессия\" data-toc-modified-id=\"Линейная-регрессия-3.1\"><span class=\"toc-item-num\">3.1&nbsp;&nbsp;</span>Линейная регрессия</a></span></li><li><span><a href=\"#Случайный-лес\" data-toc-modified-id=\"Случайный-лес-3.2\"><span class=\"toc-item-num\">3.2&nbsp;&nbsp;</span>Случайный лес</a></span></li><li><span><a href=\"#Модель-CatBoost\" data-toc-modified-id=\"Модель-CatBoost-3.3\"><span class=\"toc-item-num\">3.3&nbsp;&nbsp;</span>Модель CatBoost</a></span></li></ul></li><li><span><a href=\"#Тестирование\" data-toc-modified-id=\"Тестирование-4\"><span class=\"toc-item-num\">4&nbsp;&nbsp;</span>Тестирование</a></span></li><li><span><a href=\"#Чек-лист-проверки\" data-toc-modified-id=\"Чек-лист-проверки-5\"><span class=\"toc-item-num\">5&nbsp;&nbsp;</span>Чек-лист проверки</a></span></li></ul></div>"
   ]
  },
  {
   "cell_type": "markdown",
   "metadata": {},
   "source": [
    "#  Прогнозирование заказов такси"
   ]
  },
  {
   "cell_type": "markdown",
   "metadata": {},
   "source": [
    "Компания «Чётенькое такси» собрала исторические данные о заказах такси в аэропортах. Чтобы привлекать больше водителей в период пиковой нагрузки, нужно спрогнозировать количество заказов такси на следующий час. Постройте модель для такого предсказания.\n",
    "\n",
    "Значение метрики *RMSE* на тестовой выборке должно быть не больше 48.\n",
    "\n",
    "Вам нужно:\n",
    "\n",
    "1. Загрузить данные и выполнить их ресемплирование по одному часу.\n",
    "2. Проанализировать данные.\n",
    "3. Обучить разные модели с различными гиперпараметрами. Сделать тестовую выборку размером 10% от исходных данных.\n",
    "4. Проверить данные на тестовой выборке и сделать выводы.\n",
    "\n",
    "\n",
    "Данные лежат в файле `taxi.csv`. Количество заказов находится в столбце `num_orders` (от англ. *number of orders*, «число заказов»)."
   ]
  },
  {
   "cell_type": "markdown",
   "metadata": {},
   "source": [
    "## Подготовка"
   ]
  },
  {
   "cell_type": "code",
   "execution_count": 1,
   "metadata": {},
   "outputs": [
    {
     "data": {
      "text/html": [
       "<style>.container { width:90% !important; }</style>"
      ],
      "text/plain": [
       "<IPython.core.display.HTML object>"
      ]
     },
     "metadata": {},
     "output_type": "display_data"
    }
   ],
   "source": [
    "import pandas as pd\n",
    "\n",
    "import numpy as np\n",
    "\n",
    "from statsmodels.tsa.seasonal import seasonal_decompose\n",
    "\n",
    "import matplotlib.pyplot as plt\n",
    "\n",
    "from sklearn.model_selection import train_test_split, TimeSeriesSplit, cross_val_score\n",
    "from sklearn.metrics import make_scorer, mean_squared_error \n",
    "from sklearn.linear_model import LinearRegression\n",
    "from sklearn.model_selection import GridSearchCV\n",
    "from sklearn.ensemble import RandomForestRegressor \n",
    "\n",
    "from catboost import CatBoostRegressor\n",
    "\n",
    "from IPython.core.display import display, HTML\n",
    "display(HTML(\"<style>.container { width:90% !important; }</style>\"))\n",
    "\n",
    "import warnings\n",
    "warnings.filterwarnings(\"ignore\")\n",
    "\n",
    "import time"
   ]
  },
  {
   "cell_type": "code",
   "execution_count": 2,
   "metadata": {},
   "outputs": [
    {
     "data": {
      "text/html": [
       "<div>\n",
       "<style scoped>\n",
       "    .dataframe tbody tr th:only-of-type {\n",
       "        vertical-align: middle;\n",
       "    }\n",
       "\n",
       "    .dataframe tbody tr th {\n",
       "        vertical-align: top;\n",
       "    }\n",
       "\n",
       "    .dataframe thead th {\n",
       "        text-align: right;\n",
       "    }\n",
       "</style>\n",
       "<table border=\"1\" class=\"dataframe\">\n",
       "  <thead>\n",
       "    <tr style=\"text-align: right;\">\n",
       "      <th></th>\n",
       "      <th>num_orders</th>\n",
       "    </tr>\n",
       "    <tr>\n",
       "      <th>datetime</th>\n",
       "      <th></th>\n",
       "    </tr>\n",
       "  </thead>\n",
       "  <tbody>\n",
       "    <tr>\n",
       "      <th>2018-03-01 00:00:00</th>\n",
       "      <td>9</td>\n",
       "    </tr>\n",
       "    <tr>\n",
       "      <th>2018-03-01 00:10:00</th>\n",
       "      <td>14</td>\n",
       "    </tr>\n",
       "    <tr>\n",
       "      <th>2018-03-01 00:20:00</th>\n",
       "      <td>28</td>\n",
       "    </tr>\n",
       "    <tr>\n",
       "      <th>2018-03-01 00:30:00</th>\n",
       "      <td>20</td>\n",
       "    </tr>\n",
       "    <tr>\n",
       "      <th>2018-03-01 00:40:00</th>\n",
       "      <td>32</td>\n",
       "    </tr>\n",
       "  </tbody>\n",
       "</table>\n",
       "</div>"
      ],
      "text/plain": [
       "                     num_orders\n",
       "datetime                       \n",
       "2018-03-01 00:00:00           9\n",
       "2018-03-01 00:10:00          14\n",
       "2018-03-01 00:20:00          28\n",
       "2018-03-01 00:30:00          20\n",
       "2018-03-01 00:40:00          32"
      ]
     },
     "execution_count": 2,
     "metadata": {},
     "output_type": "execute_result"
    }
   ],
   "source": [
    "data = pd.read_csv('/datasets/taxi.csv', index_col=[0], parse_dates=[0])\n",
    "data.head(5)"
   ]
  },
  {
   "cell_type": "markdown",
   "metadata": {},
   "source": [
    "Решил сразу убрать выбросы, так как они мешают прогнозу."
   ]
  },
  {
   "cell_type": "code",
   "execution_count": 5,
   "metadata": {},
   "outputs": [
    {
     "name": "stdout",
     "output_type": "stream",
     "text": [
      "<class 'pandas.core.frame.DataFrame'>\n",
      "DatetimeIndex: 26496 entries, 2018-03-01 00:00:00 to 2018-08-31 23:50:00\n",
      "Data columns (total 1 columns):\n",
      " #   Column      Non-Null Count  Dtype\n",
      "---  ------      --------------  -----\n",
      " 0   num_orders  26496 non-null  int64\n",
      "dtypes: int64(1)\n",
      "memory usage: 414.0 KB\n"
     ]
    }
   ],
   "source": [
    "data.info()"
   ]
  },
  {
   "cell_type": "code",
   "execution_count": 6,
   "metadata": {},
   "outputs": [
    {
     "data": {
      "text/plain": [
       "<AxesSubplot:>"
      ]
     },
     "execution_count": 6,
     "metadata": {},
     "output_type": "execute_result"
    },
    {
     "data": {
      "image/png": "[encoded data removed]",
      "text/plain": [
       "<Figure size 432x288 with 1 Axes>"
      ]
     },
     "metadata": {
      "needs_background": "light"
     },
     "output_type": "display_data"
    }
   ],
   "source": [
    "data.boxplot()"
   ]
  },
  {
   "cell_type": "code",
   "execution_count": 7,
   "metadata": {},
   "outputs": [],
   "source": [
    "data = data.query('num_orders < 40')"
   ]
  },
  {
   "cell_type": "code",
   "execution_count": 8,
   "metadata": {},
   "outputs": [
    {
     "data": {
      "text/plain": [
       "<AxesSubplot:xlabel='datetime'>"
      ]
     },
     "execution_count": 8,
     "metadata": {},
     "output_type": "execute_result"
    },
    {
     "data": {
      "image/png": "[encoded data removed]",
      "text/plain": [
       "<Figure size 432x288 with 1 Axes>"
      ]
     },
     "metadata": {
      "needs_background": "light"
     },
     "output_type": "display_data"
    }
   ],
   "source": [
    "data = data.resample('1H').sum()\n",
    "data.plot()"
   ]
  },
  {
   "cell_type": "markdown",
   "metadata": {},
   "source": [
    "## Анализ"
   ]
  },
  {
   "cell_type": "markdown",
   "metadata": {},
   "source": [
    "Так как на графике с ресемплированием по 1 часу ничего особо не видно, ресемплируем по дням."
   ]
  },
  {
   "cell_type": "code",
   "execution_count": 9,
   "metadata": {},
   "outputs": [
    {
     "data": {
      "text/plain": [
       "<AxesSubplot:xlabel='datetime'>"
      ]
     },
     "execution_count": 9,
     "metadata": {},
     "output_type": "execute_result"
    },
    {
     "data": {
      "image/png": "[encoded data removed]",
      "text/plain": [
       "<Figure size 432x288 with 1 Axes>"
      ]
     },
     "metadata": {
      "needs_background": "light"
     },
     "output_type": "display_data"
    }
   ],
   "source": [
    "data.resample('1D').mean().plot()"
   ]
  },
  {
   "cell_type": "code",
   "execution_count": 10,
   "metadata": {},
   "outputs": [
    {
     "data": {
      "text/plain": [
       "<AxesSubplot:xlabel='datetime'>"
      ]
     },
     "execution_count": 10,
     "metadata": {},
     "output_type": "execute_result"
    },
    {
     "data": {
      "image/png": "[encoded data removed]",
      "text/plain": [
       "<Figure size 432x288 with 1 Axes>"
      ]
     },
     "metadata": {
      "needs_background": "light"
     },
     "output_type": "display_data"
    }
   ],
   "source": [
    "data.rolling(100).mean().plot()"
   ]
  },
  {
   "cell_type": "markdown",
   "metadata": {},
   "source": [
    "На графиках наблюдается восходящий тренд."
   ]
  },
  {
   "cell_type": "code",
   "execution_count": 11,
   "metadata": {},
   "outputs": [
    {
     "data": {
      "image/png": "[encoded data removed]",
      "text/plain": [
       "<Figure size 504x720 with 3 Axes>"
      ]
     },
     "metadata": {
      "needs_background": "light"
     },
     "output_type": "display_data"
    }
   ],
   "source": [
    "decomposed = seasonal_decompose(data)\n",
    "\n",
    "plt.figure(figsize=(7, 10))\n",
    "plt.subplot(311)\n",
    "decomposed.trend.plot(ax=plt.gca())\n",
    "plt.title('Trend')\n",
    "plt.subplot(312)\n",
    "decomposed.seasonal.plot(ax=plt.gca())\n",
    "plt.title('Seasonality')\n",
    "plt.subplot(313)\n",
    "decomposed.resid.plot(ax=plt.gca())\n",
    "plt.title('Residuals')\n",
    "plt.tight_layout()"
   ]
  },
  {
   "cell_type": "markdown",
   "metadata": {},
   "source": [
    "На графиках выше сложно разобрать что-то кроме тренда, поэтому сократим промежуток до недели(с понедельника по воскресенье)."
   ]
  },
  {
   "cell_type": "code",
   "execution_count": 12,
   "metadata": {},
   "outputs": [
    {
     "data": {
      "image/png": "[encoded data removed]",
      "text/plain": [
       "<Figure size 504x720 with 3 Axes>"
      ]
     },
     "metadata": {
      "needs_background": "light"
     },
     "output_type": "display_data"
    }
   ],
   "source": [
    "decomposed = seasonal_decompose(data['2018-03-05' : '2018-03-11'])\n",
    "\n",
    "plt.figure(figsize=(7, 10))\n",
    "plt.subplot(311)\n",
    "decomposed.trend.plot(ax=plt.gca())\n",
    "plt.title('Trend')\n",
    "plt.subplot(312)\n",
    "decomposed.seasonal.plot(ax=plt.gca())\n",
    "plt.title('Seasonality')\n",
    "plt.subplot(313)\n",
    "decomposed.resid.plot(ax=plt.gca())\n",
    "plt.title('Residuals')\n",
    "plt.tight_layout()"
   ]
  },
  {
   "cell_type": "markdown",
   "metadata": {},
   "source": [
    "На графике с трендом видно, что больше всего заказов в среду, четверг и воскресенье.\n",
    "\n",
    "\n",
    "На графике с сезоностью можно увидеть закономерость того, что ночью заказов почти нет, когда днем и вечером их много. "
   ]
  },
  {
   "cell_type": "code",
   "execution_count": 13,
   "metadata": {},
   "outputs": [
    {
     "data": {
      "text/plain": [
       "<AxesSubplot:xlabel='datetime'>"
      ]
     },
     "execution_count": 13,
     "metadata": {},
     "output_type": "execute_result"
    },
    {
     "data": {
      "image/png": "[encoded data removed]",
      "text/plain": [
       "<Figure size 432x288 with 1 Axes>"
      ]
     },
     "metadata": {
      "needs_background": "light"
     },
     "output_type": "display_data"
    }
   ],
   "source": [
    "data.resample('1M').mean().plot()"
   ]
  },
  {
   "cell_type": "markdown",
   "metadata": {},
   "source": [
    "На разбивке по месяцам также отслеживается восходящий тренд."
   ]
  },
  {
   "cell_type": "code",
   "execution_count": 14,
   "metadata": {},
   "outputs": [
    {
     "data": {
      "text/plain": [
       "<AxesSubplot:xlabel='datetime'>"
      ]
     },
     "execution_count": 14,
     "metadata": {},
     "output_type": "execute_result"
    },
    {
     "data": {
      "image/png": "[encoded data removed]",
      "text/plain": [
       "<Figure size 432x288 with 1 Axes>"
      ]
     },
     "metadata": {
      "needs_background": "light"
     },
     "output_type": "display_data"
    }
   ],
   "source": [
    "data_1d = data.copy()\n",
    "data_1d['mean'] = data_1d['num_orders'].rolling(15).mean()\n",
    "data_1d['std'] = data_1d['num_orders'].rolling(15).std()\n",
    "data_1d['2018-03-05' : '2018-03-11'].plot() "
   ]
  },
  {
   "cell_type": "markdown",
   "metadata": {},
   "source": [
    "*Выводы:* \n",
    "\n",
    "*1)За представленный период можно отследить восходящий тренд;*\n",
    "\n",
    "*2)За рассмотренный мной период(1 неделя) наблюдается рост количества заказов в среду, четверг и в воскресенье. А также ночью заказов гораздо меньше, чем днем и вечером в час пик.*"
   ]
  },
  {
   "cell_type": "markdown",
   "metadata": {},
   "source": [
    "## Обучение"
   ]
  },
  {
   "cell_type": "markdown",
   "metadata": {},
   "source": [
    "Напишем функцию для создания признаков."
   ]
  },
  {
   "cell_type": "code",
   "execution_count": 15,
   "metadata": {},
   "outputs": [],
   "source": [
    "def make_features(data, max_lag, rolling_mean_size):\n",
    "    data = data.copy()\n",
    "    data['month'] = data.index.month\n",
    "    data['day'] = data.index.day\n",
    "    data['dayofweek'] = data.index.dayofweek\n",
    "    \n",
    "    for lag in range(1, max_lag + 1):\n",
    "        data['lag_{}'.format(lag)] = data['num_orders'].shift(lag)\n",
    "    data['rolling_mean'] = data['num_orders'].shift().rolling(rolling_mean_size).mean()\n",
    "    return data"
   ]
  },
  {
   "cell_type": "code",
   "execution_count": 16,
   "metadata": {},
   "outputs": [
    {
     "data": {
      "text/html": [
       "<div>\n",
       "<style scoped>\n",
       "    .dataframe tbody tr th:only-of-type {\n",
       "        vertical-align: middle;\n",
       "    }\n",
       "\n",
       "    .dataframe tbody tr th {\n",
       "        vertical-align: top;\n",
       "    }\n",
       "\n",
       "    .dataframe thead th {\n",
       "        text-align: right;\n",
       "    }\n",
       "</style>\n",
       "<table border=\"1\" class=\"dataframe\">\n",
       "  <thead>\n",
       "    <tr style=\"text-align: right;\">\n",
       "      <th></th>\n",
       "      <th>num_orders</th>\n",
       "      <th>month</th>\n",
       "      <th>day</th>\n",
       "      <th>dayofweek</th>\n",
       "      <th>lag_1</th>\n",
       "      <th>lag_2</th>\n",
       "      <th>lag_3</th>\n",
       "      <th>lag_4</th>\n",
       "      <th>lag_5</th>\n",
       "      <th>lag_6</th>\n",
       "      <th>...</th>\n",
       "      <th>lag_16</th>\n",
       "      <th>lag_17</th>\n",
       "      <th>lag_18</th>\n",
       "      <th>lag_19</th>\n",
       "      <th>lag_20</th>\n",
       "      <th>lag_21</th>\n",
       "      <th>lag_22</th>\n",
       "      <th>lag_23</th>\n",
       "      <th>lag_24</th>\n",
       "      <th>rolling_mean</th>\n",
       "    </tr>\n",
       "    <tr>\n",
       "      <th>datetime</th>\n",
       "      <th></th>\n",
       "      <th></th>\n",
       "      <th></th>\n",
       "      <th></th>\n",
       "      <th></th>\n",
       "      <th></th>\n",
       "      <th></th>\n",
       "      <th></th>\n",
       "      <th></th>\n",
       "      <th></th>\n",
       "      <th></th>\n",
       "      <th></th>\n",
       "      <th></th>\n",
       "      <th></th>\n",
       "      <th></th>\n",
       "      <th></th>\n",
       "      <th></th>\n",
       "      <th></th>\n",
       "      <th></th>\n",
       "      <th></th>\n",
       "      <th></th>\n",
       "    </tr>\n",
       "  </thead>\n",
       "  <tbody>\n",
       "    <tr>\n",
       "      <th>2018-03-01 00:00:00</th>\n",
       "      <td>124</td>\n",
       "      <td>3</td>\n",
       "      <td>1</td>\n",
       "      <td>3</td>\n",
       "      <td>NaN</td>\n",
       "      <td>NaN</td>\n",
       "      <td>NaN</td>\n",
       "      <td>NaN</td>\n",
       "      <td>NaN</td>\n",
       "      <td>NaN</td>\n",
       "      <td>...</td>\n",
       "      <td>NaN</td>\n",
       "      <td>NaN</td>\n",
       "      <td>NaN</td>\n",
       "      <td>NaN</td>\n",
       "      <td>NaN</td>\n",
       "      <td>NaN</td>\n",
       "      <td>NaN</td>\n",
       "      <td>NaN</td>\n",
       "      <td>NaN</td>\n",
       "      <td>NaN</td>\n",
       "    </tr>\n",
       "    <tr>\n",
       "      <th>2018-03-01 01:00:00</th>\n",
       "      <td>85</td>\n",
       "      <td>3</td>\n",
       "      <td>1</td>\n",
       "      <td>3</td>\n",
       "      <td>124.0</td>\n",
       "      <td>NaN</td>\n",
       "      <td>NaN</td>\n",
       "      <td>NaN</td>\n",
       "      <td>NaN</td>\n",
       "      <td>NaN</td>\n",
       "      <td>...</td>\n",
       "      <td>NaN</td>\n",
       "      <td>NaN</td>\n",
       "      <td>NaN</td>\n",
       "      <td>NaN</td>\n",
       "      <td>NaN</td>\n",
       "      <td>NaN</td>\n",
       "      <td>NaN</td>\n",
       "      <td>NaN</td>\n",
       "      <td>NaN</td>\n",
       "      <td>NaN</td>\n",
       "    </tr>\n",
       "    <tr>\n",
       "      <th>2018-03-01 02:00:00</th>\n",
       "      <td>71</td>\n",
       "      <td>3</td>\n",
       "      <td>1</td>\n",
       "      <td>3</td>\n",
       "      <td>85.0</td>\n",
       "      <td>124.0</td>\n",
       "      <td>NaN</td>\n",
       "      <td>NaN</td>\n",
       "      <td>NaN</td>\n",
       "      <td>NaN</td>\n",
       "      <td>...</td>\n",
       "      <td>NaN</td>\n",
       "      <td>NaN</td>\n",
       "      <td>NaN</td>\n",
       "      <td>NaN</td>\n",
       "      <td>NaN</td>\n",
       "      <td>NaN</td>\n",
       "      <td>NaN</td>\n",
       "      <td>NaN</td>\n",
       "      <td>NaN</td>\n",
       "      <td>NaN</td>\n",
       "    </tr>\n",
       "    <tr>\n",
       "      <th>2018-03-01 03:00:00</th>\n",
       "      <td>66</td>\n",
       "      <td>3</td>\n",
       "      <td>1</td>\n",
       "      <td>3</td>\n",
       "      <td>71.0</td>\n",
       "      <td>85.0</td>\n",
       "      <td>124.0</td>\n",
       "      <td>NaN</td>\n",
       "      <td>NaN</td>\n",
       "      <td>NaN</td>\n",
       "      <td>...</td>\n",
       "      <td>NaN</td>\n",
       "      <td>NaN</td>\n",
       "      <td>NaN</td>\n",
       "      <td>NaN</td>\n",
       "      <td>NaN</td>\n",
       "      <td>NaN</td>\n",
       "      <td>NaN</td>\n",
       "      <td>NaN</td>\n",
       "      <td>NaN</td>\n",
       "      <td>NaN</td>\n",
       "    </tr>\n",
       "    <tr>\n",
       "      <th>2018-03-01 04:00:00</th>\n",
       "      <td>43</td>\n",
       "      <td>3</td>\n",
       "      <td>1</td>\n",
       "      <td>3</td>\n",
       "      <td>66.0</td>\n",
       "      <td>71.0</td>\n",
       "      <td>85.0</td>\n",
       "      <td>124.0</td>\n",
       "      <td>NaN</td>\n",
       "      <td>NaN</td>\n",
       "      <td>...</td>\n",
       "      <td>NaN</td>\n",
       "      <td>NaN</td>\n",
       "      <td>NaN</td>\n",
       "      <td>NaN</td>\n",
       "      <td>NaN</td>\n",
       "      <td>NaN</td>\n",
       "      <td>NaN</td>\n",
       "      <td>NaN</td>\n",
       "      <td>NaN</td>\n",
       "      <td>NaN</td>\n",
       "    </tr>\n",
       "  </tbody>\n",
       "</table>\n",
       "<p>5 rows × 29 columns</p>\n",
       "</div>"
      ],
      "text/plain": [
       "                     num_orders  month  day  dayofweek  lag_1  lag_2  lag_3  \\\n",
       "datetime                                                                      \n",
       "2018-03-01 00:00:00         124      3    1          3    NaN    NaN    NaN   \n",
       "2018-03-01 01:00:00          85      3    1          3  124.0    NaN    NaN   \n",
       "2018-03-01 02:00:00          71      3    1          3   85.0  124.0    NaN   \n",
       "2018-03-01 03:00:00          66      3    1          3   71.0   85.0  124.0   \n",
       "2018-03-01 04:00:00          43      3    1          3   66.0   71.0   85.0   \n",
       "\n",
       "                     lag_4  lag_5  lag_6  ...  lag_16  lag_17  lag_18  lag_19  \\\n",
       "datetime                                  ...                                   \n",
       "2018-03-01 00:00:00    NaN    NaN    NaN  ...     NaN     NaN     NaN     NaN   \n",
       "2018-03-01 01:00:00    NaN    NaN    NaN  ...     NaN     NaN     NaN     NaN   \n",
       "2018-03-01 02:00:00    NaN    NaN    NaN  ...     NaN     NaN     NaN     NaN   \n",
       "2018-03-01 03:00:00    NaN    NaN    NaN  ...     NaN     NaN     NaN     NaN   \n",
       "2018-03-01 04:00:00  124.0    NaN    NaN  ...     NaN     NaN     NaN     NaN   \n",
       "\n",
       "                     lag_20  lag_21  lag_22  lag_23  lag_24  rolling_mean  \n",
       "datetime                                                                   \n",
       "2018-03-01 00:00:00     NaN     NaN     NaN     NaN     NaN           NaN  \n",
       "2018-03-01 01:00:00     NaN     NaN     NaN     NaN     NaN           NaN  \n",
       "2018-03-01 02:00:00     NaN     NaN     NaN     NaN     NaN           NaN  \n",
       "2018-03-01 03:00:00     NaN     NaN     NaN     NaN     NaN           NaN  \n",
       "2018-03-01 04:00:00     NaN     NaN     NaN     NaN     NaN           NaN  \n",
       "\n",
       "[5 rows x 29 columns]"
      ]
     },
     "execution_count": 16,
     "metadata": {},
     "output_type": "execute_result"
    }
   ],
   "source": [
    "df = make_features(data, 24, 10)\n",
    "df.head()"
   ]
  },
  {
   "cell_type": "code",
   "execution_count": 17,
   "metadata": {},
   "outputs": [],
   "source": [
    "df = df.dropna()"
   ]
  },
  {
   "cell_type": "code",
   "execution_count": 18,
   "metadata": {},
   "outputs": [
    {
     "data": {
      "text/html": [
       "<div>\n",
       "<style scoped>\n",
       "    .dataframe tbody tr th:only-of-type {\n",
       "        vertical-align: middle;\n",
       "    }\n",
       "\n",
       "    .dataframe tbody tr th {\n",
       "        vertical-align: top;\n",
       "    }\n",
       "\n",
       "    .dataframe thead th {\n",
       "        text-align: right;\n",
       "    }\n",
       "</style>\n",
       "<table border=\"1\" class=\"dataframe\">\n",
       "  <thead>\n",
       "    <tr style=\"text-align: right;\">\n",
       "      <th></th>\n",
       "      <th>num_orders</th>\n",
       "      <th>month</th>\n",
       "      <th>day</th>\n",
       "      <th>dayofweek</th>\n",
       "      <th>lag_1</th>\n",
       "      <th>lag_2</th>\n",
       "      <th>lag_3</th>\n",
       "      <th>lag_4</th>\n",
       "      <th>lag_5</th>\n",
       "      <th>lag_6</th>\n",
       "      <th>...</th>\n",
       "      <th>lag_16</th>\n",
       "      <th>lag_17</th>\n",
       "      <th>lag_18</th>\n",
       "      <th>lag_19</th>\n",
       "      <th>lag_20</th>\n",
       "      <th>lag_21</th>\n",
       "      <th>lag_22</th>\n",
       "      <th>lag_23</th>\n",
       "      <th>lag_24</th>\n",
       "      <th>rolling_mean</th>\n",
       "    </tr>\n",
       "    <tr>\n",
       "      <th>datetime</th>\n",
       "      <th></th>\n",
       "      <th></th>\n",
       "      <th></th>\n",
       "      <th></th>\n",
       "      <th></th>\n",
       "      <th></th>\n",
       "      <th></th>\n",
       "      <th></th>\n",
       "      <th></th>\n",
       "      <th></th>\n",
       "      <th></th>\n",
       "      <th></th>\n",
       "      <th></th>\n",
       "      <th></th>\n",
       "      <th></th>\n",
       "      <th></th>\n",
       "      <th></th>\n",
       "      <th></th>\n",
       "      <th></th>\n",
       "      <th></th>\n",
       "      <th></th>\n",
       "    </tr>\n",
       "  </thead>\n",
       "  <tbody>\n",
       "    <tr>\n",
       "      <th>2018-03-02 00:00:00</th>\n",
       "      <td>90</td>\n",
       "      <td>3</td>\n",
       "      <td>2</td>\n",
       "      <td>4</td>\n",
       "      <td>58.0</td>\n",
       "      <td>113.0</td>\n",
       "      <td>66.0</td>\n",
       "      <td>61.0</td>\n",
       "      <td>45.0</td>\n",
       "      <td>73.0</td>\n",
       "      <td>...</td>\n",
       "      <td>34.0</td>\n",
       "      <td>15.0</td>\n",
       "      <td>12.0</td>\n",
       "      <td>6.0</td>\n",
       "      <td>43.0</td>\n",
       "      <td>66.0</td>\n",
       "      <td>71.0</td>\n",
       "      <td>85.0</td>\n",
       "      <td>124.0</td>\n",
       "      <td>61.7</td>\n",
       "    </tr>\n",
       "    <tr>\n",
       "      <th>2018-03-02 01:00:00</th>\n",
       "      <td>120</td>\n",
       "      <td>3</td>\n",
       "      <td>2</td>\n",
       "      <td>4</td>\n",
       "      <td>90.0</td>\n",
       "      <td>58.0</td>\n",
       "      <td>113.0</td>\n",
       "      <td>66.0</td>\n",
       "      <td>61.0</td>\n",
       "      <td>45.0</td>\n",
       "      <td>...</td>\n",
       "      <td>69.0</td>\n",
       "      <td>34.0</td>\n",
       "      <td>15.0</td>\n",
       "      <td>12.0</td>\n",
       "      <td>6.0</td>\n",
       "      <td>43.0</td>\n",
       "      <td>66.0</td>\n",
       "      <td>71.0</td>\n",
       "      <td>85.0</td>\n",
       "      <td>65.9</td>\n",
       "    </tr>\n",
       "    <tr>\n",
       "      <th>2018-03-02 02:00:00</th>\n",
       "      <td>75</td>\n",
       "      <td>3</td>\n",
       "      <td>2</td>\n",
       "      <td>4</td>\n",
       "      <td>120.0</td>\n",
       "      <td>90.0</td>\n",
       "      <td>58.0</td>\n",
       "      <td>113.0</td>\n",
       "      <td>66.0</td>\n",
       "      <td>61.0</td>\n",
       "      <td>...</td>\n",
       "      <td>64.0</td>\n",
       "      <td>69.0</td>\n",
       "      <td>34.0</td>\n",
       "      <td>15.0</td>\n",
       "      <td>12.0</td>\n",
       "      <td>6.0</td>\n",
       "      <td>43.0</td>\n",
       "      <td>66.0</td>\n",
       "      <td>71.0</td>\n",
       "      <td>71.3</td>\n",
       "    </tr>\n",
       "    <tr>\n",
       "      <th>2018-03-02 03:00:00</th>\n",
       "      <td>64</td>\n",
       "      <td>3</td>\n",
       "      <td>2</td>\n",
       "      <td>4</td>\n",
       "      <td>75.0</td>\n",
       "      <td>120.0</td>\n",
       "      <td>90.0</td>\n",
       "      <td>58.0</td>\n",
       "      <td>113.0</td>\n",
       "      <td>66.0</td>\n",
       "      <td>...</td>\n",
       "      <td>96.0</td>\n",
       "      <td>64.0</td>\n",
       "      <td>69.0</td>\n",
       "      <td>34.0</td>\n",
       "      <td>15.0</td>\n",
       "      <td>12.0</td>\n",
       "      <td>6.0</td>\n",
       "      <td>43.0</td>\n",
       "      <td>66.0</td>\n",
       "      <td>74.5</td>\n",
       "    </tr>\n",
       "    <tr>\n",
       "      <th>2018-03-02 04:00:00</th>\n",
       "      <td>20</td>\n",
       "      <td>3</td>\n",
       "      <td>2</td>\n",
       "      <td>4</td>\n",
       "      <td>64.0</td>\n",
       "      <td>75.0</td>\n",
       "      <td>120.0</td>\n",
       "      <td>90.0</td>\n",
       "      <td>58.0</td>\n",
       "      <td>113.0</td>\n",
       "      <td>...</td>\n",
       "      <td>30.0</td>\n",
       "      <td>96.0</td>\n",
       "      <td>64.0</td>\n",
       "      <td>69.0</td>\n",
       "      <td>34.0</td>\n",
       "      <td>15.0</td>\n",
       "      <td>12.0</td>\n",
       "      <td>6.0</td>\n",
       "      <td>43.0</td>\n",
       "      <td>76.5</td>\n",
       "    </tr>\n",
       "  </tbody>\n",
       "</table>\n",
       "<p>5 rows × 29 columns</p>\n",
       "</div>"
      ],
      "text/plain": [
       "                     num_orders  month  day  dayofweek  lag_1  lag_2  lag_3  \\\n",
       "datetime                                                                      \n",
       "2018-03-02 00:00:00          90      3    2          4   58.0  113.0   66.0   \n",
       "2018-03-02 01:00:00         120      3    2          4   90.0   58.0  113.0   \n",
       "2018-03-02 02:00:00          75      3    2          4  120.0   90.0   58.0   \n",
       "2018-03-02 03:00:00          64      3    2          4   75.0  120.0   90.0   \n",
       "2018-03-02 04:00:00          20      3    2          4   64.0   75.0  120.0   \n",
       "\n",
       "                     lag_4  lag_5  lag_6  ...  lag_16  lag_17  lag_18  lag_19  \\\n",
       "datetime                                  ...                                   \n",
       "2018-03-02 00:00:00   61.0   45.0   73.0  ...    34.0    15.0    12.0     6.0   \n",
       "2018-03-02 01:00:00   66.0   61.0   45.0  ...    69.0    34.0    15.0    12.0   \n",
       "2018-03-02 02:00:00  113.0   66.0   61.0  ...    64.0    69.0    34.0    15.0   \n",
       "2018-03-02 03:00:00   58.0  113.0   66.0  ...    96.0    64.0    69.0    34.0   \n",
       "2018-03-02 04:00:00   90.0   58.0  113.0  ...    30.0    96.0    64.0    69.0   \n",
       "\n",
       "                     lag_20  lag_21  lag_22  lag_23  lag_24  rolling_mean  \n",
       "datetime                                                                   \n",
       "2018-03-02 00:00:00    43.0    66.0    71.0    85.0   124.0          61.7  \n",
       "2018-03-02 01:00:00     6.0    43.0    66.0    71.0    85.0          65.9  \n",
       "2018-03-02 02:00:00    12.0     6.0    43.0    66.0    71.0          71.3  \n",
       "2018-03-02 03:00:00    15.0    12.0     6.0    43.0    66.0          74.5  \n",
       "2018-03-02 04:00:00    34.0    15.0    12.0     6.0    43.0          76.5  \n",
       "\n",
       "[5 rows x 29 columns]"
      ]
     },
     "execution_count": 18,
     "metadata": {},
     "output_type": "execute_result"
    }
   ],
   "source": [
    "df.head()"
   ]
  },
  {
   "cell_type": "markdown",
   "metadata": {},
   "source": [
    "Разделим выборки на обучающую и тествоую."
   ]
  },
  {
   "cell_type": "code",
   "execution_count": 19,
   "metadata": {},
   "outputs": [],
   "source": [
    "train, test = train_test_split(df, shuffle=False, test_size=0.1)\n",
    "features_train = train.drop('num_orders', axis=1)\n",
    "features_test = test.drop('num_orders', axis=1)\n",
    "target_train = train['num_orders']\n",
    "target_test = test['num_orders']"
   ]
  },
  {
   "cell_type": "markdown",
   "metadata": {},
   "source": [
    "Напишем функцию для подсчета RMSE."
   ]
  },
  {
   "cell_type": "code",
   "execution_count": 20,
   "metadata": {},
   "outputs": [],
   "source": [
    "def rmse(true, pred):\n",
    "    return (mean_squared_error(true, pred))**0.5"
   ]
  },
  {
   "cell_type": "code",
   "execution_count": 21,
   "metadata": {},
   "outputs": [],
   "source": [
    "RMSE_score = make_scorer(rmse, greater_is_better=False)"
   ]
  },
  {
   "cell_type": "markdown",
   "metadata": {},
   "source": [
    "### Линейная регрессия"
   ]
  },
  {
   "cell_type": "markdown",
   "metadata": {},
   "source": [
    "Собираюсь применять кросс-валидацию, но не обычную, так как для временных рядов нужна другая - TimeSeriesSplit."
   ]
  },
  {
   "cell_type": "code",
   "execution_count": 22,
   "metadata": {},
   "outputs": [
    {
     "name": "stdout",
     "output_type": "stream",
     "text": [
      "Среднее RMSE модели линейной регрессии на кросс-валидации: 24.49913982581239\n",
      "CPU times: user 523 ms, sys: 1.14 s, total: 1.67 s\n",
      "Wall time: 1.58 s\n"
     ]
    }
   ],
   "source": [
    "%%time\n",
    "cv = TimeSeriesSplit(n_splits=10)\n",
    "regression = LinearRegression()\n",
    "regression.fit(features_train, target_train)\n",
    "regression_cv_score = cross_val_score(regression, features_train,target_train,scoring=RMSE_score,cv=cv).mean()*(-1)\n",
    "print('Среднее RMSE модели линейной регрессии на кросс-валидации:', regression_cv_score )"
   ]
  },
  {
   "cell_type": "markdown",
   "metadata": {},
   "source": [
    "### Случайный лес"
   ]
  },
  {
   "cell_type": "markdown",
   "metadata": {},
   "source": [
    "Применяю GridSearchCV для подбора гиперпараметров."
   ]
  },
  {
   "cell_type": "code",
   "execution_count": 53,
   "metadata": {},
   "outputs": [
    {
     "name": "stdout",
     "output_type": "stream",
     "text": [
      "{'max_depth': 11, 'min_samples_leaf': 1, 'min_samples_split': 2, 'n_estimators': 25}\n",
      "--------------------\n",
      "12.9342354974527\n",
      "CPU times: user 12min 40s, sys: 2.27 s, total: 12min 43s\n",
      "Wall time: 12min 43s\n"
     ]
    }
   ],
   "source": [
    "%%time\n",
    "random = RandomForestRegressor(random_state=12345)\n",
    "forest_parametrs = {'n_estimators': range(5, 30, 5),\n",
    "                    'max_depth': range(1, 15, 2),\n",
    "                    'min_samples_leaf': range(1,5),\n",
    "                    'min_samples_split': range(2,8,2)}\n",
    "random_forest = GridSearchCV(random, forest_parametrs, scoring=RMSE_score, cv=cv)\n",
    "random_forest.fit(features_train, target_train)\n",
    "\n",
    "print(random_forest.best_params_)\n",
    "print('--'*10)\n",
    "print(random_forest.score(features_train, target_train) * (-1))"
   ]
  },
  {
   "cell_type": "markdown",
   "metadata": {},
   "source": [
    "### Модель CatBoost"
   ]
  },
  {
   "cell_type": "code",
   "execution_count": 54,
   "metadata": {
    "scrolled": true
   },
   "outputs": [
    {
     "name": "stdout",
     "output_type": "stream",
     "text": [
      "0:\tlearn: 29.0090873\ttotal: 48.4ms\tremaining: 194ms\n",
      "4:\tlearn: 27.7222616\ttotal: 56ms\tremaining: 0us\n",
      "0:\tlearn: 28.5110409\ttotal: 2.75ms\tremaining: 11ms\n",
      "4:\tlearn: 27.1204608\ttotal: 10.3ms\tremaining: 0us\n",
      "0:\tlearn: 28.6919376\ttotal: 2ms\tremaining: 8.01ms\n",
      "4:\tlearn: 27.4026117\ttotal: 8.65ms\tremaining: 0us\n",
      "0:\tlearn: 29.7530240\ttotal: 2.19ms\tremaining: 8.76ms\n",
      "4:\tlearn: 28.4314429\ttotal: 9.49ms\tremaining: 0us\n",
      "0:\tlearn: 29.9045697\ttotal: 2.15ms\tremaining: 8.62ms\n",
      "4:\tlearn: 28.6226463\ttotal: 9.25ms\tremaining: 0us\n",
      "0:\tlearn: 30.9769647\ttotal: 2.23ms\tremaining: 8.9ms\n",
      "4:\tlearn: 29.6148566\ttotal: 9.92ms\tremaining: 0us\n",
      "0:\tlearn: 31.2676307\ttotal: 2.3ms\tremaining: 9.2ms\n",
      "4:\tlearn: 29.8644480\ttotal: 10.2ms\tremaining: 0us\n",
      "0:\tlearn: 31.7831340\ttotal: 2.35ms\tremaining: 9.42ms\n",
      "4:\tlearn: 30.3419142\ttotal: 10.5ms\tremaining: 0us\n",
      "0:\tlearn: 32.5971316\ttotal: 2.68ms\tremaining: 10.7ms\n",
      "4:\tlearn: 31.0953164\ttotal: 11.3ms\tremaining: 0us\n",
      "0:\tlearn: 33.4536289\ttotal: 2.44ms\tremaining: 9.75ms\n",
      "4:\tlearn: 31.8821889\ttotal: 11ms\tremaining: 0us\n",
      "0:\tlearn: 28.0919060\ttotal: 1.28ms\tremaining: 5.1ms\n",
      "4:\tlearn: 24.5147060\ttotal: 5.83ms\tremaining: 0us\n",
      "0:\tlearn: 27.5930245\ttotal: 2.11ms\tremaining: 8.45ms\n",
      "4:\tlearn: 23.8436349\ttotal: 10.5ms\tremaining: 0us\n",
      "0:\tlearn: 27.9074292\ttotal: 1.88ms\tremaining: 7.52ms\n",
      "4:\tlearn: 24.4822102\ttotal: 8.29ms\tremaining: 0us\n",
      "0:\tlearn: 28.9168123\ttotal: 1.86ms\tremaining: 7.46ms\n",
      "4:\tlearn: 25.3913374\ttotal: 8.71ms\tremaining: 0us\n",
      "0:\tlearn: 29.1001378\ttotal: 1.92ms\tremaining: 7.69ms\n",
      "4:\tlearn: 25.7954856\ttotal: 9.04ms\tremaining: 0us\n",
      "0:\tlearn: 30.1230592\ttotal: 2.51ms\tremaining: 10ms\n",
      "4:\tlearn: 26.4862987\ttotal: 10.9ms\tremaining: 0us\n",
      "0:\tlearn: 30.4226904\ttotal: 2.16ms\tremaining: 8.65ms\n",
      "4:\tlearn: 26.6697718\ttotal: 10ms\tremaining: 0us\n",
      "0:\tlearn: 30.9524243\ttotal: 2.28ms\tremaining: 9.13ms\n",
      "4:\tlearn: 27.0703993\ttotal: 10.5ms\tremaining: 0us\n",
      "0:\tlearn: 31.7195632\ttotal: 3.86ms\tremaining: 15.4ms\n",
      "4:\tlearn: 27.8021828\ttotal: 16ms\tremaining: 0us\n",
      "0:\tlearn: 32.5309546\ttotal: 3.78ms\tremaining: 15.1ms\n",
      "4:\tlearn: 28.4111092\ttotal: 17.9ms\tremaining: 0us\n",
      "0:\tlearn: 28.7435856\ttotal: 1.95ms\tremaining: 7.79ms\n",
      "4:\tlearn: 26.7069450\ttotal: 8.33ms\tremaining: 0us\n",
      "0:\tlearn: 28.2451866\ttotal: 1.67ms\tremaining: 6.66ms\n",
      "4:\tlearn: 26.1245515\ttotal: 7.91ms\tremaining: 0us\n",
      "0:\tlearn: 28.4644439\ttotal: 1.76ms\tremaining: 7.05ms\n",
      "4:\tlearn: 26.3919007\ttotal: 9.79ms\tremaining: 0us\n",
      "0:\tlearn: 29.5105441\ttotal: 2.02ms\tremaining: 8.08ms\n",
      "4:\tlearn: 27.4408588\ttotal: 10.3ms\tremaining: 0us\n",
      "0:\tlearn: 29.6711364\ttotal: 2.23ms\tremaining: 8.92ms\n",
      "4:\tlearn: 27.7000247\ttotal: 10.1ms\tremaining: 0us\n",
      "0:\tlearn: 30.7291821\ttotal: 2.56ms\tremaining: 10.3ms\n",
      "4:\tlearn: 28.6169788\ttotal: 11.3ms\tremaining: 0us\n",
      "0:\tlearn: 31.0223770\ttotal: 2.45ms\tremaining: 9.81ms\n",
      "4:\tlearn: 28.7982440\ttotal: 11ms\tremaining: 0us\n",
      "0:\tlearn: 31.5418475\ttotal: 2.52ms\tremaining: 10.1ms\n",
      "4:\tlearn: 29.3277114\ttotal: 11.4ms\tremaining: 0us\n",
      "0:\tlearn: 32.3422656\ttotal: 2.7ms\tremaining: 10.8ms\n",
      "4:\tlearn: 29.9916543\ttotal: 12ms\tremaining: 0us\n",
      "0:\tlearn: 33.1857133\ttotal: 2.39ms\tremaining: 9.56ms\n",
      "4:\tlearn: 30.7165643\ttotal: 11.7ms\tremaining: 0us\n",
      "0:\tlearn: 29.0090873\ttotal: 1.46ms\tremaining: 71.6ms\n",
      "49:\tlearn: 19.7285351\ttotal: 57.9ms\tremaining: 0us\n",
      "0:\tlearn: 28.5110409\ttotal: 1.65ms\tremaining: 80.8ms\n",
      "49:\tlearn: 19.7371471\ttotal: 70.5ms\tremaining: 0us\n",
      "0:\tlearn: 28.6919376\ttotal: 1.91ms\tremaining: 93.3ms\n",
      "49:\tlearn: 20.3976892\ttotal: 81.6ms\tremaining: 0us\n",
      "0:\tlearn: 29.7530240\ttotal: 2.13ms\tremaining: 104ms\n",
      "49:\tlearn: 21.0336321\ttotal: 90.4ms\tremaining: 0us\n",
      "0:\tlearn: 29.9045697\ttotal: 2.15ms\tremaining: 105ms\n",
      "49:\tlearn: 21.4897364\ttotal: 94.1ms\tremaining: 0us\n",
      "0:\tlearn: 30.9769647\ttotal: 2.34ms\tremaining: 115ms\n",
      "49:\tlearn: 22.0062749\ttotal: 106ms\tremaining: 0us\n",
      "0:\tlearn: 31.2676307\ttotal: 2.24ms\tremaining: 110ms\n",
      "49:\tlearn: 22.3258884\ttotal: 96ms\tremaining: 0us\n",
      "0:\tlearn: 31.7831340\ttotal: 2.22ms\tremaining: 109ms\n",
      "49:\tlearn: 22.8148947\ttotal: 108ms\tremaining: 0us\n",
      "0:\tlearn: 32.5971316\ttotal: 3.78ms\tremaining: 185ms\n",
      "49:\tlearn: 23.3550329\ttotal: 104ms\tremaining: 0us\n",
      "0:\tlearn: 33.4536289\ttotal: 2.69ms\tremaining: 132ms\n",
      "49:\tlearn: 23.9598422\ttotal: 108ms\tremaining: 0us\n",
      "0:\tlearn: 28.0919060\ttotal: 1.36ms\tremaining: 66.6ms\n",
      "49:\tlearn: 15.0711146\ttotal: 70.8ms\tremaining: 0us\n",
      "0:\tlearn: 27.5930245\ttotal: 1.58ms\tremaining: 77.7ms\n",
      "49:\tlearn: 16.1378252\ttotal: 84.9ms\tremaining: 0us\n",
      "0:\tlearn: 27.9074292\ttotal: 2.72ms\tremaining: 133ms\n",
      "49:\tlearn: 17.0836104\ttotal: 76.3ms\tremaining: 0us\n",
      "0:\tlearn: 28.9168123\ttotal: 2.02ms\tremaining: 99ms\n",
      "49:\tlearn: 17.9775276\ttotal: 82.2ms\tremaining: 0us\n",
      "0:\tlearn: 29.1001378\ttotal: 2ms\tremaining: 98ms\n",
      "49:\tlearn: 18.4227180\ttotal: 87.1ms\tremaining: 0us\n",
      "0:\tlearn: 30.1230592\ttotal: 2.29ms\tremaining: 112ms\n",
      "49:\tlearn: 18.9237835\ttotal: 99.2ms\tremaining: 0us\n",
      "0:\tlearn: 30.4226904\ttotal: 2.12ms\tremaining: 104ms\n",
      "49:\tlearn: 19.5261918\ttotal: 105ms\tremaining: 0us\n",
      "0:\tlearn: 30.9524243\ttotal: 3.67ms\tremaining: 180ms\n",
      "49:\tlearn: 20.0827331\ttotal: 116ms\tremaining: 0us\n",
      "0:\tlearn: 31.7195632\ttotal: 2.71ms\tremaining: 133ms\n",
      "49:\tlearn: 20.6239559\ttotal: 104ms\tremaining: 0us\n",
      "0:\tlearn: 32.5309546\ttotal: 2.74ms\tremaining: 134ms\n",
      "49:\tlearn: 21.2533848\ttotal: 102ms\tremaining: 0us\n",
      "0:\tlearn: 28.7435856\ttotal: 1.39ms\tremaining: 68ms\n",
      "49:\tlearn: 17.4849121\ttotal: 57.7ms\tremaining: 0us\n",
      "0:\tlearn: 28.2451866\ttotal: 1.68ms\tremaining: 82.5ms\n",
      "49:\tlearn: 18.0085243\ttotal: 70.7ms\tremaining: 0us\n",
      "0:\tlearn: 28.4644439\ttotal: 1.7ms\tremaining: 83.5ms\n",
      "49:\tlearn: 18.8014735\ttotal: 73.3ms\tremaining: 0us\n",
      "0:\tlearn: 29.5105441\ttotal: 1.83ms\tremaining: 89.7ms\n",
      "49:\tlearn: 19.4891363\ttotal: 82.3ms\tremaining: 0us\n",
      "0:\tlearn: 29.6711364\ttotal: 2.05ms\tremaining: 101ms\n",
      "49:\tlearn: 19.9400810\ttotal: 85.2ms\tremaining: 0us\n",
      "0:\tlearn: 30.7291821\ttotal: 2.15ms\tremaining: 105ms\n",
      "49:\tlearn: 20.4678495\ttotal: 90.6ms\tremaining: 0us\n",
      "0:\tlearn: 31.0223770\ttotal: 2.24ms\tremaining: 110ms\n",
      "49:\tlearn: 20.8744479\ttotal: 106ms\tremaining: 0us\n",
      "0:\tlearn: 31.5418475\ttotal: 2.83ms\tremaining: 139ms\n",
      "49:\tlearn: 21.4584968\ttotal: 132ms\tremaining: 0us\n",
      "0:\tlearn: 32.3422656\ttotal: 3.59ms\tremaining: 176ms\n",
      "49:\tlearn: 21.9467406\ttotal: 114ms\tremaining: 0us\n",
      "0:\tlearn: 33.1857133\ttotal: 2.38ms\tremaining: 117ms\n",
      "49:\tlearn: 22.5472502\ttotal: 103ms\tremaining: 0us\n",
      "0:\tlearn: 29.0090873\ttotal: 1.44ms\tremaining: 5.78ms\n",
      "4:\tlearn: 27.7222616\ttotal: 6.27ms\tremaining: 0us\n",
      "0:\tlearn: 28.5110409\ttotal: 1.72ms\tremaining: 6.89ms\n",
      "4:\tlearn: 27.1204608\ttotal: 7.15ms\tremaining: 0us\n",
      "0:\tlearn: 28.6919376\ttotal: 1.76ms\tremaining: 7.05ms\n",
      "4:\tlearn: 27.4026117\ttotal: 8.1ms\tremaining: 0us\n",
      "0:\tlearn: 29.7530240\ttotal: 2.29ms\tremaining: 9.14ms\n",
      "4:\tlearn: 28.4314429\ttotal: 13.1ms\tremaining: 0us\n",
      "0:\tlearn: 29.9045697\ttotal: 2.14ms\tremaining: 8.55ms\n",
      "4:\tlearn: 28.6226463\ttotal: 9.41ms\tremaining: 0us\n",
      "0:\tlearn: 30.9769647\ttotal: 2.2ms\tremaining: 8.79ms\n",
      "4:\tlearn: 29.6148566\ttotal: 10ms\tremaining: 0us\n",
      "0:\tlearn: 31.2676307\ttotal: 2.18ms\tremaining: 8.72ms\n",
      "4:\tlearn: 29.8644480\ttotal: 10ms\tremaining: 0us\n",
      "0:\tlearn: 31.7831340\ttotal: 2.34ms\tremaining: 9.37ms\n",
      "4:\tlearn: 30.3419142\ttotal: 10.8ms\tremaining: 0us\n",
      "0:\tlearn: 32.5971316\ttotal: 2.42ms\tremaining: 9.66ms\n",
      "4:\tlearn: 31.0953164\ttotal: 10.9ms\tremaining: 0us\n",
      "0:\tlearn: 33.4536289\ttotal: 3.02ms\tremaining: 12.1ms\n",
      "4:\tlearn: 31.8821889\ttotal: 12.6ms\tremaining: 0us\n",
      "0:\tlearn: 28.0919060\ttotal: 1.61ms\tremaining: 6.45ms\n",
      "4:\tlearn: 24.5147060\ttotal: 6.03ms\tremaining: 0us\n",
      "0:\tlearn: 27.5930245\ttotal: 1.58ms\tremaining: 6.34ms\n",
      "4:\tlearn: 23.8436349\ttotal: 7.25ms\tremaining: 0us\n",
      "0:\tlearn: 27.9074292\ttotal: 1.69ms\tremaining: 6.76ms\n",
      "4:\tlearn: 24.4822102\ttotal: 8.04ms\tremaining: 0us\n",
      "0:\tlearn: 28.9168123\ttotal: 2.02ms\tremaining: 8.1ms\n",
      "4:\tlearn: 25.3913374\ttotal: 8.88ms\tremaining: 0us\n",
      "0:\tlearn: 29.1001378\ttotal: 2.2ms\tremaining: 8.79ms\n",
      "4:\tlearn: 25.7954856\ttotal: 9.42ms\tremaining: 0us\n",
      "0:\tlearn: 30.1230592\ttotal: 2.55ms\tremaining: 10.2ms\n",
      "4:\tlearn: 26.4862987\ttotal: 11.7ms\tremaining: 0us\n",
      "0:\tlearn: 30.4226904\ttotal: 2.44ms\tremaining: 9.78ms\n",
      "4:\tlearn: 26.6697718\ttotal: 10.6ms\tremaining: 0us\n",
      "0:\tlearn: 30.9524243\ttotal: 3.6ms\tremaining: 14.4ms\n",
      "4:\tlearn: 27.0703993\ttotal: 14.5ms\tremaining: 0us\n",
      "0:\tlearn: 31.7195632\ttotal: 2.73ms\tremaining: 10.9ms\n",
      "4:\tlearn: 27.8021828\ttotal: 12.4ms\tremaining: 0us\n",
      "0:\tlearn: 32.5309546\ttotal: 3.71ms\tremaining: 14.9ms\n",
      "4:\tlearn: 28.4111092\ttotal: 16.8ms\tremaining: 0us\n",
      "0:\tlearn: 28.7435856\ttotal: 1.33ms\tremaining: 5.31ms\n",
      "4:\tlearn: 26.7069450\ttotal: 6.27ms\tremaining: 0us\n",
      "0:\tlearn: 28.2451866\ttotal: 1.6ms\tremaining: 6.42ms\n",
      "4:\tlearn: 26.1245515\ttotal: 7.75ms\tremaining: 0us\n",
      "0:\tlearn: 28.4644439\ttotal: 2.65ms\tremaining: 10.6ms\n",
      "4:\tlearn: 26.3919007\ttotal: 9.73ms\tremaining: 0us\n",
      "0:\tlearn: 29.5105441\ttotal: 1.9ms\tremaining: 7.6ms\n",
      "4:\tlearn: 27.4408588\ttotal: 8.72ms\tremaining: 0us\n",
      "0:\tlearn: 29.6711364\ttotal: 2.1ms\tremaining: 8.39ms\n",
      "4:\tlearn: 27.7000247\ttotal: 9.86ms\tremaining: 0us\n",
      "0:\tlearn: 30.7291821\ttotal: 2.43ms\tremaining: 9.71ms\n",
      "4:\tlearn: 28.6169788\ttotal: 10.6ms\tremaining: 0us\n",
      "0:\tlearn: 31.0223770\ttotal: 2.34ms\tremaining: 9.36ms\n",
      "4:\tlearn: 28.7982440\ttotal: 11ms\tremaining: 0us\n",
      "0:\tlearn: 31.5418475\ttotal: 2.52ms\tremaining: 10.1ms\n",
      "4:\tlearn: 29.3277114\ttotal: 11.2ms\tremaining: 0us\n",
      "0:\tlearn: 32.3422656\ttotal: 2.49ms\tremaining: 9.96ms\n",
      "4:\tlearn: 29.9916543\ttotal: 11.4ms\tremaining: 0us\n",
      "0:\tlearn: 33.1857133\ttotal: 2.73ms\tremaining: 10.9ms\n",
      "4:\tlearn: 30.7165643\ttotal: 13.1ms\tremaining: 0us\n",
      "0:\tlearn: 29.1584722\ttotal: 405us\tremaining: 1.62ms\n",
      "4:\tlearn: 28.2672253\ttotal: 1.74ms\tremaining: 0us\n",
      "0:\tlearn: 28.6623232\ttotal: 434us\tremaining: 1.74ms\n",
      "4:\tlearn: 27.7666790\ttotal: 2.23ms\tremaining: 0us\n",
      "0:\tlearn: 28.7885447\ttotal: 530us\tremaining: 2.12ms\n",
      "4:\tlearn: 27.9174210\ttotal: 2.41ms\tremaining: 0us\n",
      "0:\tlearn: 29.8614623\ttotal: 680us\tremaining: 2.72ms\n",
      "4:\tlearn: 28.9358487\ttotal: 2.57ms\tremaining: 0us\n",
      "0:\tlearn: 30.0047320\ttotal: 652us\tremaining: 2.61ms\n",
      "4:\tlearn: 29.0966211\ttotal: 2.81ms\tremaining: 0us\n",
      "0:\tlearn: 31.0808725\ttotal: 757us\tremaining: 3.03ms\n",
      "4:\tlearn: 30.1032502\ttotal: 3.21ms\tremaining: 0us\n",
      "0:\tlearn: 31.3689077\ttotal: 999us\tremaining: 4ms\n",
      "4:\tlearn: 30.3940753\ttotal: 3.65ms\tremaining: 0us\n",
      "0:\tlearn: 31.8990042\ttotal: 816us\tremaining: 3.27ms\n",
      "4:\tlearn: 30.9076754\ttotal: 3.81ms\tremaining: 0us\n",
      "0:\tlearn: 32.7167755\ttotal: 862us\tremaining: 3.45ms\n",
      "4:\tlearn: 31.7010016\ttotal: 4.72ms\tremaining: 0us\n",
      "0:\tlearn: 33.5765278\ttotal: 891us\tremaining: 3.57ms\n",
      "4:\tlearn: 32.5340991\ttotal: 3.91ms\tremaining: 0us\n",
      "0:\tlearn: 28.5868546\ttotal: 446us\tremaining: 1.78ms\n",
      "4:\tlearn: 26.2550192\ttotal: 1.74ms\tremaining: 0us\n",
      "0:\tlearn: 28.0941231\ttotal: 641us\tremaining: 2.56ms\n",
      "4:\tlearn: 25.7050926\ttotal: 2.84ms\tremaining: 0us\n",
      "0:\tlearn: 28.2277291\ttotal: 648us\tremaining: 2.6ms\n",
      "4:\tlearn: 25.9780762\ttotal: 2.4ms\tremaining: 0us\n",
      "0:\tlearn: 29.2760594\ttotal: 654us\tremaining: 2.62ms\n",
      "4:\tlearn: 26.8947802\ttotal: 2.87ms\tremaining: 0us\n",
      "0:\tlearn: 29.4314542\ttotal: 689us\tremaining: 2.76ms\n",
      "4:\tlearn: 27.1102963\ttotal: 3.03ms\tremaining: 0us\n",
      "0:\tlearn: 30.4667043\ttotal: 742us\tremaining: 2.97ms\n",
      "4:\tlearn: 27.9078492\ttotal: 3.16ms\tremaining: 0us\n",
      "0:\tlearn: 30.7573691\ttotal: 1.07ms\tremaining: 4.29ms\n",
      "4:\tlearn: 28.1921346\ttotal: 3.65ms\tremaining: 0us\n",
      "0:\tlearn: 31.3341386\ttotal: 852us\tremaining: 3.41ms\n",
      "4:\tlearn: 28.7035494\ttotal: 3.52ms\tremaining: 0us\n",
      "0:\tlearn: 32.1137581\ttotal: 824us\tremaining: 3.3ms\n",
      "4:\tlearn: 29.4268922\ttotal: 3.82ms\tremaining: 0us\n",
      "0:\tlearn: 32.9360681\ttotal: 1.17ms\tremaining: 4.68ms\n",
      "4:\tlearn: 30.1799846\ttotal: 4.09ms\tremaining: 0us\n",
      "0:\tlearn: 28.9921674\ttotal: 430us\tremaining: 1.72ms\n",
      "4:\tlearn: 27.6062009\ttotal: 1.71ms\tremaining: 0us\n",
      "0:\tlearn: 28.4969079\ttotal: 482us\tremaining: 1.93ms\n",
      "4:\tlearn: 27.1419037\ttotal: 2.07ms\tremaining: 0us\n",
      "0:\tlearn: 28.6252317\ttotal: 645us\tremaining: 2.58ms\n",
      "4:\tlearn: 27.2728520\ttotal: 2.47ms\tremaining: 0us\n",
      "0:\tlearn: 29.6909845\ttotal: 888us\tremaining: 3.56ms\n",
      "4:\tlearn: 28.2657634\ttotal: 3.7ms\tremaining: 0us\n",
      "0:\tlearn: 29.8377332\ttotal: 686us\tremaining: 2.75ms\n",
      "4:\tlearn: 28.4392630\ttotal: 2.9ms\tremaining: 0us\n",
      "0:\tlearn: 30.9020009\ttotal: 776us\tremaining: 3.11ms\n",
      "4:\tlearn: 29.4016090\ttotal: 3.06ms\tremaining: 0us\n",
      "0:\tlearn: 31.1907826\ttotal: 901us\tremaining: 3.6ms\n",
      "4:\tlearn: 29.6831967\ttotal: 3.6ms\tremaining: 0us\n",
      "0:\tlearn: 31.7343510\ttotal: 794us\tremaining: 3.18ms\n",
      "4:\tlearn: 30.1910840\ttotal: 3.38ms\tremaining: 0us\n",
      "0:\tlearn: 32.5410463\ttotal: 888us\tremaining: 3.55ms\n",
      "4:\tlearn: 30.9610582\ttotal: 3.6ms\tremaining: 0us\n",
      "0:\tlearn: 33.3899299\ttotal: 935us\tremaining: 3.74ms\n",
      "4:\tlearn: 31.7623045\ttotal: 3.88ms\tremaining: 0us\n",
      "0:\tlearn: 29.1584722\ttotal: 427us\tremaining: 20.9ms\n",
      "49:\tlearn: 23.1306322\ttotal: 13.4ms\tremaining: 0us\n",
      "0:\tlearn: 28.6623232\ttotal: 644us\tremaining: 31.6ms\n",
      "49:\tlearn: 22.5280051\ttotal: 18.9ms\tremaining: 0us\n",
      "0:\tlearn: 28.7885447\ttotal: 534us\tremaining: 26.2ms\n",
      "49:\tlearn: 23.0109800\ttotal: 19ms\tremaining: 0us\n",
      "0:\tlearn: 29.8614623\ttotal: 608us\tremaining: 29.8ms\n",
      "49:\tlearn: 23.8358437\ttotal: 23.4ms\tremaining: 0us\n",
      "0:\tlearn: 30.0047320\ttotal: 852us\tremaining: 41.7ms\n",
      "49:\tlearn: 24.1784298\ttotal: 30.5ms\tremaining: 0us\n",
      "0:\tlearn: 31.0808725\ttotal: 919us\tremaining: 45ms\n",
      "49:\tlearn: 24.7461952\ttotal: 34.9ms\tremaining: 0us\n",
      "0:\tlearn: 31.3689077\ttotal: 677us\tremaining: 33.2ms\n",
      "49:\tlearn: 25.0008563\ttotal: 30.5ms\tremaining: 0us\n",
      "0:\tlearn: 31.8990042\ttotal: 999us\tremaining: 49ms\n",
      "49:\tlearn: 25.3990948\ttotal: 33.4ms\tremaining: 0us\n",
      "0:\tlearn: 32.7167755\ttotal: 819us\tremaining: 40.1ms\n",
      "49:\tlearn: 26.0034974\ttotal: 40.7ms\tremaining: 0us\n",
      "0:\tlearn: 33.5765278\ttotal: 874us\tremaining: 42.8ms\n",
      "49:\tlearn: 26.6165319\ttotal: 33.5ms\tremaining: 0us\n",
      "0:\tlearn: 28.5868546\ttotal: 417us\tremaining: 20.5ms\n",
      "49:\tlearn: 19.1375062\ttotal: 12.7ms\tremaining: 0us\n",
      "0:\tlearn: 28.0941231\ttotal: 484us\tremaining: 23.8ms\n",
      "49:\tlearn: 19.3794005\ttotal: 26.1ms\tremaining: 0us\n",
      "0:\tlearn: 28.2277291\ttotal: 587us\tremaining: 28.8ms\n",
      "49:\tlearn: 19.9709390\ttotal: 19.3ms\tremaining: 0us\n",
      "0:\tlearn: 29.2760594\ttotal: 594us\tremaining: 29.1ms\n",
      "49:\tlearn: 20.5613757\ttotal: 21.6ms\tremaining: 0us\n",
      "0:\tlearn: 29.4314542\ttotal: 674us\tremaining: 33.1ms\n",
      "49:\tlearn: 21.0854492\ttotal: 24.3ms\tremaining: 0us\n",
      "0:\tlearn: 30.4667043\ttotal: 733us\tremaining: 35.9ms\n",
      "49:\tlearn: 21.6185503\ttotal: 25ms\tremaining: 0us\n",
      "0:\tlearn: 30.7573691\ttotal: 696us\tremaining: 34.1ms\n",
      "49:\tlearn: 21.9038562\ttotal: 27.1ms\tremaining: 0us\n",
      "0:\tlearn: 31.3341386\ttotal: 825us\tremaining: 40.5ms\n",
      "49:\tlearn: 22.3427350\ttotal: 29.6ms\tremaining: 0us\n",
      "0:\tlearn: 32.1137581\ttotal: 1.05ms\tremaining: 51.6ms\n",
      "49:\tlearn: 22.9532934\ttotal: 32ms\tremaining: 0us\n",
      "0:\tlearn: 32.9360681\ttotal: 1.33ms\tremaining: 65.5ms\n",
      "49:\tlearn: 23.4716083\ttotal: 36ms\tremaining: 0us\n",
      "0:\tlearn: 28.9921674\ttotal: 464us\tremaining: 22.8ms\n",
      "49:\tlearn: 21.2568650\ttotal: 13.4ms\tremaining: 0us\n",
      "0:\tlearn: 28.4969079\ttotal: 654us\tremaining: 32.1ms\n",
      "49:\tlearn: 20.8943863\ttotal: 16.7ms\tremaining: 0us\n",
      "0:\tlearn: 28.6252317\ttotal: 537us\tremaining: 26.3ms\n",
      "49:\tlearn: 21.4296752\ttotal: 20ms\tremaining: 0us\n",
      "0:\tlearn: 29.6909845\ttotal: 647us\tremaining: 31.7ms\n",
      "49:\tlearn: 22.1709216\ttotal: 22.6ms\tremaining: 0us\n",
      "0:\tlearn: 29.8377332\ttotal: 668us\tremaining: 32.7ms\n",
      "49:\tlearn: 22.6060228\ttotal: 25ms\tremaining: 0us\n",
      "0:\tlearn: 30.9020009\ttotal: 707us\tremaining: 34.7ms\n",
      "49:\tlearn: 23.1288437\ttotal: 26.1ms\tremaining: 0us\n",
      "0:\tlearn: 31.1907826\ttotal: 737us\tremaining: 36.1ms\n",
      "49:\tlearn: 23.4639957\ttotal: 28.6ms\tremaining: 0us\n",
      "0:\tlearn: 31.7343510\ttotal: 839us\tremaining: 41.1ms\n",
      "49:\tlearn: 23.8594163\ttotal: 29.8ms\tremaining: 0us\n",
      "0:\tlearn: 32.5410463\ttotal: 873us\tremaining: 42.8ms\n",
      "49:\tlearn: 24.4336372\ttotal: 30.6ms\tremaining: 0us\n",
      "0:\tlearn: 33.3899299\ttotal: 876us\tremaining: 42.9ms\n",
      "49:\tlearn: 25.0117896\ttotal: 32.6ms\tremaining: 0us\n",
      "0:\tlearn: 29.1584722\ttotal: 426us\tremaining: 1.71ms\n",
      "4:\tlearn: 28.2672253\ttotal: 1.71ms\tremaining: 0us\n",
      "0:\tlearn: 28.6623232\ttotal: 609us\tremaining: 2.44ms\n",
      "4:\tlearn: 27.7666790\ttotal: 2.21ms\tremaining: 0us\n",
      "0:\tlearn: 28.7885447\ttotal: 718us\tremaining: 2.87ms\n",
      "4:\tlearn: 27.9174210\ttotal: 3.15ms\tremaining: 0us\n",
      "0:\tlearn: 29.8614623\ttotal: 860us\tremaining: 3.44ms\n",
      "4:\tlearn: 28.9358487\ttotal: 3.66ms\tremaining: 0us\n",
      "0:\tlearn: 30.0047320\ttotal: 639us\tremaining: 2.56ms\n",
      "4:\tlearn: 29.0966211\ttotal: 2.66ms\tremaining: 0us\n",
      "0:\tlearn: 31.0808725\ttotal: 763us\tremaining: 3.05ms\n",
      "4:\tlearn: 30.1032502\ttotal: 3.35ms\tremaining: 0us\n",
      "0:\tlearn: 31.3689077\ttotal: 742us\tremaining: 2.97ms\n",
      "4:\tlearn: 30.3940753\ttotal: 3.26ms\tremaining: 0us\n",
      "0:\tlearn: 31.8990042\ttotal: 810us\tremaining: 3.24ms\n",
      "4:\tlearn: 30.9076754\ttotal: 3.62ms\tremaining: 0us\n",
      "0:\tlearn: 32.7167755\ttotal: 833us\tremaining: 3.33ms\n",
      "4:\tlearn: 31.7010016\ttotal: 3.95ms\tremaining: 0us\n",
      "0:\tlearn: 33.5765278\ttotal: 892us\tremaining: 3.57ms\n",
      "4:\tlearn: 32.5340991\ttotal: 4.39ms\tremaining: 0us\n",
      "0:\tlearn: 28.5868546\ttotal: 715us\tremaining: 2.86ms\n",
      "4:\tlearn: 26.2550192\ttotal: 2.79ms\tremaining: 0us\n",
      "0:\tlearn: 28.0941231\ttotal: 476us\tremaining: 1.91ms\n",
      "4:\tlearn: 25.7050926\ttotal: 1.83ms\tremaining: 0us\n",
      "0:\tlearn: 28.2277291\ttotal: 587us\tremaining: 2.35ms\n",
      "4:\tlearn: 25.9780762\ttotal: 2.69ms\tremaining: 0us\n",
      "0:\tlearn: 29.2760594\ttotal: 904us\tremaining: 3.62ms\n",
      "4:\tlearn: 26.8947802\ttotal: 3.81ms\tremaining: 0us\n",
      "0:\tlearn: 29.4314542\ttotal: 966us\tremaining: 3.86ms\n",
      "4:\tlearn: 27.1102963\ttotal: 3.75ms\tremaining: 0us\n",
      "0:\tlearn: 30.4667043\ttotal: 711us\tremaining: 2.85ms\n",
      "4:\tlearn: 27.9078492\ttotal: 3.03ms\tremaining: 0us\n",
      "0:\tlearn: 30.7573691\ttotal: 776us\tremaining: 3.11ms\n",
      "4:\tlearn: 28.1921346\ttotal: 3.64ms\tremaining: 0us\n",
      "0:\tlearn: 31.3341386\ttotal: 812us\tremaining: 3.25ms\n",
      "4:\tlearn: 28.7035494\ttotal: 3.78ms\tremaining: 0us\n",
      "0:\tlearn: 32.1137581\ttotal: 994us\tremaining: 3.98ms\n",
      "4:\tlearn: 29.4268922\ttotal: 4.15ms\tremaining: 0us\n",
      "0:\tlearn: 32.9360681\ttotal: 862us\tremaining: 3.45ms\n",
      "4:\tlearn: 30.1799846\ttotal: 4.34ms\tremaining: 0us\n",
      "0:\tlearn: 28.9921674\ttotal: 468us\tremaining: 1.88ms\n",
      "4:\tlearn: 27.6062009\ttotal: 1.64ms\tremaining: 0us\n",
      "0:\tlearn: 28.4969079\ttotal: 523us\tremaining: 2.1ms\n",
      "4:\tlearn: 27.1419037\ttotal: 2.43ms\tremaining: 0us\n",
      "0:\tlearn: 28.6252317\ttotal: 600us\tremaining: 2.4ms\n",
      "4:\tlearn: 27.2728520\ttotal: 2.41ms\tremaining: 0us\n",
      "0:\tlearn: 29.6909845\ttotal: 615us\tremaining: 2.46ms\n",
      "4:\tlearn: 28.2657634\ttotal: 2.66ms\tremaining: 0us\n",
      "0:\tlearn: 29.8377332\ttotal: 701us\tremaining: 2.8ms\n",
      "4:\tlearn: 28.4392630\ttotal: 2.81ms\tremaining: 0us\n",
      "0:\tlearn: 30.9020009\ttotal: 711us\tremaining: 2.85ms\n",
      "4:\tlearn: 29.4016090\ttotal: 3.27ms\tremaining: 0us\n",
      "0:\tlearn: 31.1907826\ttotal: 831us\tremaining: 3.32ms\n",
      "4:\tlearn: 29.6831967\ttotal: 3.43ms\tremaining: 0us\n",
      "0:\tlearn: 31.7343510\ttotal: 803us\tremaining: 3.21ms\n",
      "4:\tlearn: 30.1910840\ttotal: 3.78ms\tremaining: 0us\n",
      "0:\tlearn: 32.5410463\ttotal: 814us\tremaining: 3.26ms\n",
      "4:\tlearn: 30.9610582\ttotal: 3.46ms\tremaining: 0us\n",
      "0:\tlearn: 33.3899299\ttotal: 855us\tremaining: 3.42ms\n",
      "4:\tlearn: 31.7623045\ttotal: 3.86ms\tremaining: 0us\n",
      "0:\tlearn: 33.4266802\ttotal: 2.63ms\tremaining: 129ms\n",
      "49:\tlearn: 21.8270721\ttotal: 109ms\tremaining: 0us\n",
      "CPU times: user 8.1 s, sys: 721 ms, total: 8.83 s\n",
      "Wall time: 2min 59s\n"
     ]
    },
    {
     "data": {
      "text/plain": [
       "GridSearchCV(cv=TimeSeriesSplit(gap=0, max_train_size=None, n_splits=10, test_size=None),\n",
       "             estimator=<catboost.core.CatBoostRegressor object at 0x7ff54a07a160>,\n",
       "             param_grid={'depth': [4, 20, 1], 'iterations': [5, 50, 5],\n",
       "                         'learning_rate': [0.03, 0.1, 0.05]},\n",
       "             scoring=make_scorer(rmse, greater_is_better=False))"
      ]
     },
     "execution_count": 54,
     "metadata": {},
     "output_type": "execute_result"
    }
   ],
   "source": [
    "%%time\n",
    "cat = CatBoostRegressor(random_state=12345)\n",
    "cat_param = {'learning_rate': [0.03, 0.1, 0.05],\n",
    "                'depth': [4, 20, 1],\n",
    "             'iterations':[5, 50, 5]\n",
    "            }\n",
    "cat_boost = GridSearchCV(cat, cat_param, scoring=RMSE_score, cv=cv)\n",
    "cat_boost.fit(features_train, target_train, verbose=100)"
   ]
  },
  {
   "cell_type": "code",
   "execution_count": 55,
   "metadata": {},
   "outputs": [
    {
     "name": "stdout",
     "output_type": "stream",
     "text": [
      "{'depth': 4, 'iterations': 50, 'learning_rate': 0.1}\n",
      "--------------------\n",
      "21.827072084321816\n"
     ]
    }
   ],
   "source": [
    "print(cat_boost.best_params_)\n",
    "print('--' * 10)\n",
    "print(cat_boost.score(features_train, target_train) * (-1))"
   ]
  },
  {
   "cell_type": "markdown",
   "metadata": {},
   "source": [
    "*В итоге, случайный лес - модель с наименьшим RMSE, ее и будем использовать для финального теста.*"
   ]
  },
  {
   "cell_type": "markdown",
   "metadata": {},
   "source": [
    "## Тестирование"
   ]
  },
  {
   "cell_type": "markdown",
   "metadata": {},
   "source": [
    "Создадим константную модель для проверки модели на адекватность."
   ]
  },
  {
   "cell_type": "code",
   "execution_count": 56,
   "metadata": {},
   "outputs": [
    {
     "name": "stdout",
     "output_type": "stream",
     "text": [
      "RMSE константной модели: 51.46611859890314\n"
     ]
    }
   ],
   "source": [
    "pred_median = target_train.median() * np.ones(target_test.shape)\n",
    "print('RMSE константной модели:', rmse(target_test, pred_median))"
   ]
  },
  {
   "cell_type": "code",
   "execution_count": 57,
   "metadata": {},
   "outputs": [
    {
     "name": "stdout",
     "output_type": "stream",
     "text": [
      "RMSE случайного леса на тестовой выборке равен 33.888695816381976\n"
     ]
    }
   ],
   "source": [
    "best_model = RandomForestRegressor(max_depth=13, min_samples_leaf=4, min_samples_split=2, n_estimators=25)\n",
    "best_model.fit(features_train, target_train)\n",
    "print('RMSE случайного леса на тестовой выборке равен', rmse(target_test, best_model.predict(features_test)))"
   ]
  },
  {
   "cell_type": "code",
   "execution_count": 58,
   "metadata": {},
   "outputs": [
    {
     "data": {
      "text/plain": [
       "<AxesSubplot:title={'center':'График распределения предсказанных и истинных значениий'}, xlabel='Предсказанные / Истинные значения', ylabel='Количество'>"
      ]
     },
     "execution_count": 58,
     "metadata": {},
     "output_type": "execute_result"
    },
    {
     "data": {
      "image/png": "[encoded data removed]",
      "text/plain": [
       "<Figure size 576x360 with 1 Axes>"
      ]
     },
     "metadata": {
      "needs_background": "light"
     },
     "output_type": "display_data"
    }
   ],
   "source": [
    "plt.figure(figsize=(8, 5))\n",
    "pd.Series(best_model.predict(features_test)).hist(bins=20, alpha=0.5)\n",
    "pd.Series(target_test).hist(bins=20, alpha=0.5)\n",
    "plt.legend(['Предсказанные значения', 'Истинные значения'])\n",
    "plt.title('График распределения предсказанных и истинных значениий', y=1.05)\n",
    "plt.xlabel('Предсказанные / Истинные значения')\n",
    "plt.ylabel('Количество')\n",
    "plt.subplot()"
   ]
  },
  {
   "cell_type": "code",
   "execution_count": 59,
   "metadata": {},
   "outputs": [
    {
     "data": {
      "text/plain": [
       "<AxesSubplot:xlabel='datetime'>"
      ]
     },
     "execution_count": 59,
     "metadata": {},
     "output_type": "execute_result"
    },
    {
     "data": {
      "image/png": "[encoded data removed]",
      "text/plain": [
       "<Figure size 432x288 with 1 Axes>"
      ]
     },
     "metadata": {
      "needs_background": "light"
     },
     "output_type": "display_data"
    }
   ],
   "source": [
    "df2 = pd.DataFrame(target_test)\n",
    "df2 = df2.rename(columns = {'num_orders':'Истинные значения'})\n",
    "df2['Предсказанные значения'] = best_model.predict(features_test)\n",
    "df2.plot()"
   ]
  },
  {
   "cell_type": "markdown",
   "metadata": {},
   "source": [
    "**Общий вывод:** \n",
    "\n",
    "1)Периоды с наиболее пиковой нагрузкой для заказа такси - день и вечер(до 00:00) среды, четверга и воскресенья;\n",
    "\n",
    "2)Хорошей моделью для прогнозирования будет случайный лес. RMSE на константной модели больше, чем на тестовых данных, что делает эту модель адекватной."
   ]
  }
 ],
 "metadata": {
  "ExecuteTimeLog": [
   {
    "duration": 371,
    "start_time": "2023-06-17T21:50:25.292Z"
   },
   {
    "duration": 132,
    "start_time": "2023-06-17T21:51:23.700Z"
   },
   {
    "duration": 48,
    "start_time": "2023-06-17T21:51:36.748Z"
   },
   {
    "duration": 12,
    "start_time": "2023-06-17T21:51:55.603Z"
   },
   {
    "duration": 522,
    "start_time": "2023-06-17T21:53:48.238Z"
   },
   {
    "duration": 107,
    "start_time": "2023-06-17T21:54:15.509Z"
   },
   {
    "duration": 49,
    "start_time": "2023-06-17T22:08:35.398Z"
   },
   {
    "duration": 10,
    "start_time": "2023-06-17T22:08:37.296Z"
   },
   {
    "duration": 118,
    "start_time": "2023-06-17T22:08:40.393Z"
   },
   {
    "duration": 102,
    "start_time": "2023-06-17T22:08:42.129Z"
   },
   {
    "duration": 6,
    "start_time": "2023-06-17T22:23:51.285Z"
   },
   {
    "duration": 57,
    "start_time": "2023-06-17T22:25:04.592Z"
   },
   {
    "duration": 231,
    "start_time": "2023-06-17T22:47:32.040Z"
   },
   {
    "duration": 211,
    "start_time": "2023-06-17T22:47:42.753Z"
   },
   {
    "duration": 6,
    "start_time": "2023-06-17T22:47:55.288Z"
   },
   {
    "duration": 51,
    "start_time": "2023-06-17T22:49:13.294Z"
   },
   {
    "duration": 13,
    "start_time": "2023-06-17T22:49:13.496Z"
   },
   {
    "duration": 717,
    "start_time": "2023-06-17T22:49:14.017Z"
   },
   {
    "duration": 466,
    "start_time": "2023-06-18T16:03:33.750Z"
   },
   {
    "duration": 262,
    "start_time": "2023-06-18T16:03:34.218Z"
   },
   {
    "duration": 12,
    "start_time": "2023-06-18T16:03:34.589Z"
   },
   {
    "duration": 1378,
    "start_time": "2023-06-18T16:03:34.983Z"
   },
   {
    "duration": 150,
    "start_time": "2023-06-18T16:03:36.363Z"
   },
   {
    "duration": 8,
    "start_time": "2023-06-18T16:03:36.515Z"
   },
   {
    "duration": 703,
    "start_time": "2023-06-18T16:04:45.486Z"
   },
   {
    "duration": 262,
    "start_time": "2023-06-18T16:06:22.387Z"
   },
   {
    "duration": 424,
    "start_time": "2023-06-18T16:07:23.024Z"
   },
   {
    "duration": 80,
    "start_time": "2023-06-18T16:07:23.453Z"
   },
   {
    "duration": 13,
    "start_time": "2023-06-18T16:07:23.536Z"
   },
   {
    "duration": 1114,
    "start_time": "2023-06-18T16:07:23.556Z"
   },
   {
    "duration": 211,
    "start_time": "2023-06-18T16:07:24.673Z"
   },
   {
    "duration": 6,
    "start_time": "2023-06-18T16:07:24.886Z"
   },
   {
    "duration": 26,
    "start_time": "2023-06-18T16:07:24.894Z"
   },
   {
    "duration": 262,
    "start_time": "2023-06-18T16:07:24.922Z"
   },
   {
    "duration": 108,
    "start_time": "2023-06-18T16:08:57.275Z"
   },
   {
    "duration": 15,
    "start_time": "2023-06-18T16:09:09.985Z"
   },
   {
    "duration": 231,
    "start_time": "2023-06-18T16:09:24.671Z"
   },
   {
    "duration": 18,
    "start_time": "2023-06-18T16:09:36.050Z"
   },
   {
    "duration": 218,
    "start_time": "2023-06-18T16:10:22.499Z"
   },
   {
    "duration": 239,
    "start_time": "2023-06-18T16:10:25.890Z"
   },
   {
    "duration": 513,
    "start_time": "2023-06-18T16:10:47.699Z"
   },
   {
    "duration": 3,
    "start_time": "2023-06-18T16:11:37.787Z"
   },
   {
    "duration": 147,
    "start_time": "2023-06-18T16:12:02.782Z"
   },
   {
    "duration": 890,
    "start_time": "2023-06-18T16:12:06.708Z"
   },
   {
    "duration": 44,
    "start_time": "2023-06-18T16:12:58.726Z"
   },
   {
    "duration": 29,
    "start_time": "2023-06-18T16:13:27.489Z"
   },
   {
    "duration": 722,
    "start_time": "2023-06-18T16:14:56.391Z"
   },
   {
    "duration": 545,
    "start_time": "2023-06-18T16:15:37.319Z"
   },
   {
    "duration": 498,
    "start_time": "2023-06-18T16:16:07.903Z"
   },
   {
    "duration": 500,
    "start_time": "2023-06-18T16:20:09.898Z"
   },
   {
    "duration": 176,
    "start_time": "2023-06-18T16:21:52.044Z"
   },
   {
    "duration": 354,
    "start_time": "2023-06-18T16:25:10.102Z"
   },
   {
    "duration": 1062,
    "start_time": "2023-06-18T16:25:24.995Z"
   },
   {
    "duration": 124,
    "start_time": "2023-06-18T16:25:26.061Z"
   },
   {
    "duration": 11,
    "start_time": "2023-06-18T16:25:26.187Z"
   },
   {
    "duration": 146,
    "start_time": "2023-06-18T16:25:26.199Z"
   },
   {
    "duration": 7,
    "start_time": "2023-06-18T16:25:26.351Z"
   },
   {
    "duration": 264,
    "start_time": "2023-06-18T16:25:26.569Z"
   },
   {
    "duration": 232,
    "start_time": "2023-06-18T16:25:27.350Z"
   },
   {
    "duration": 233,
    "start_time": "2023-06-18T16:25:27.664Z"
   },
   {
    "duration": 757,
    "start_time": "2023-06-18T16:25:28.046Z"
   },
   {
    "duration": 559,
    "start_time": "2023-06-18T16:25:28.804Z"
   },
   {
    "duration": 179,
    "start_time": "2023-06-18T16:25:29.365Z"
   },
   {
    "duration": 127,
    "start_time": "2023-06-18T16:26:17.711Z"
   },
   {
    "duration": 3,
    "start_time": "2023-06-18T16:26:33.569Z"
   },
   {
    "duration": 59,
    "start_time": "2023-06-18T16:26:33.743Z"
   },
   {
    "duration": 15,
    "start_time": "2023-06-18T16:26:34.110Z"
   },
   {
    "duration": 137,
    "start_time": "2023-06-18T16:26:34.335Z"
   },
   {
    "duration": 6,
    "start_time": "2023-06-18T16:26:37.274Z"
   },
   {
    "duration": 246,
    "start_time": "2023-06-18T16:26:37.479Z"
   },
   {
    "duration": 220,
    "start_time": "2023-06-18T16:26:39.454Z"
   },
   {
    "duration": 263,
    "start_time": "2023-06-18T16:26:40.311Z"
   },
   {
    "duration": 854,
    "start_time": "2023-06-18T16:26:42.055Z"
   },
   {
    "duration": 496,
    "start_time": "2023-06-18T16:26:53.784Z"
   },
   {
    "duration": 5,
    "start_time": "2023-06-18T16:50:06.284Z"
   },
   {
    "duration": 1069,
    "start_time": "2023-06-18T17:08:12.501Z"
   },
   {
    "duration": 120,
    "start_time": "2023-06-18T17:08:13.572Z"
   },
   {
    "duration": 9,
    "start_time": "2023-06-18T17:08:13.694Z"
   },
   {
    "duration": 153,
    "start_time": "2023-06-18T17:08:13.705Z"
   },
   {
    "duration": 8,
    "start_time": "2023-06-18T17:08:13.865Z"
   },
   {
    "duration": 262,
    "start_time": "2023-06-18T17:08:13.875Z"
   },
   {
    "duration": 235,
    "start_time": "2023-06-18T17:08:14.139Z"
   },
   {
    "duration": 246,
    "start_time": "2023-06-18T17:08:14.376Z"
   },
   {
    "duration": 841,
    "start_time": "2023-06-18T17:08:14.624Z"
   },
   {
    "duration": 590,
    "start_time": "2023-06-18T17:08:15.467Z"
   },
   {
    "duration": 194,
    "start_time": "2023-06-18T17:08:16.065Z"
   },
   {
    "duration": 5,
    "start_time": "2023-06-18T17:08:16.267Z"
   },
   {
    "duration": 22,
    "start_time": "2023-06-18T17:08:16.274Z"
   },
   {
    "duration": 11,
    "start_time": "2023-06-18T17:11:28.744Z"
   },
   {
    "duration": 18,
    "start_time": "2023-06-18T17:11:40.041Z"
   },
   {
    "duration": 16,
    "start_time": "2023-06-18T17:12:12.390Z"
   },
   {
    "duration": 12,
    "start_time": "2023-06-18T17:12:19.097Z"
   },
   {
    "duration": 16,
    "start_time": "2023-06-18T17:12:34.122Z"
   },
   {
    "duration": 290,
    "start_time": "2023-06-18T17:41:53.152Z"
   },
   {
    "duration": 7,
    "start_time": "2023-06-18T17:46:09.761Z"
   },
   {
    "duration": 7,
    "start_time": "2023-06-18T17:48:06.413Z"
   },
   {
    "duration": 4,
    "start_time": "2023-06-18T19:55:37.776Z"
   },
   {
    "duration": 123,
    "start_time": "2023-06-18T19:56:23.015Z"
   },
   {
    "duration": 3,
    "start_time": "2023-06-18T19:56:33.118Z"
   },
   {
    "duration": 5,
    "start_time": "2023-06-18T19:56:33.381Z"
   },
   {
    "duration": 54,
    "start_time": "2023-06-18T19:57:49.516Z"
   },
   {
    "duration": 63,
    "start_time": "2023-06-18T20:08:11.385Z"
   },
   {
    "duration": 269,
    "start_time": "2023-06-18T21:03:22.685Z"
   },
   {
    "duration": 196,
    "start_time": "2023-06-18T21:03:31.380Z"
   },
   {
    "duration": 288,
    "start_time": "2023-06-18T21:03:41.966Z"
   },
   {
    "duration": 76,
    "start_time": "2023-06-18T21:05:58.918Z"
   },
   {
    "duration": 65,
    "start_time": "2023-06-18T22:04:28.008Z"
   },
   {
    "duration": 1562,
    "start_time": "2023-06-18T22:36:01.865Z"
   },
   {
    "duration": 76,
    "start_time": "2023-06-18T22:36:03.430Z"
   },
   {
    "duration": 10,
    "start_time": "2023-06-18T22:36:03.507Z"
   },
   {
    "duration": 155,
    "start_time": "2023-06-18T22:36:03.518Z"
   },
   {
    "duration": 8,
    "start_time": "2023-06-18T22:36:03.674Z"
   },
   {
    "duration": 269,
    "start_time": "2023-06-18T22:36:08.599Z"
   },
   {
    "duration": 211,
    "start_time": "2023-06-18T22:36:08.934Z"
   },
   {
    "duration": 334,
    "start_time": "2023-06-18T22:36:09.154Z"
   },
   {
    "duration": 763,
    "start_time": "2023-06-18T22:36:09.490Z"
   },
   {
    "duration": 522,
    "start_time": "2023-06-18T22:36:10.255Z"
   },
   {
    "duration": 189,
    "start_time": "2023-06-18T22:36:10.779Z"
   },
   {
    "duration": 4,
    "start_time": "2023-06-18T22:36:10.970Z"
   },
   {
    "duration": 17,
    "start_time": "2023-06-18T22:36:10.976Z"
   },
   {
    "duration": 7,
    "start_time": "2023-06-18T22:36:10.995Z"
   },
   {
    "duration": 16,
    "start_time": "2023-06-18T22:36:11.289Z"
   },
   {
    "duration": 7,
    "start_time": "2023-06-18T22:36:11.542Z"
   },
   {
    "duration": 3,
    "start_time": "2023-06-18T22:36:11.934Z"
   },
   {
    "duration": 3,
    "start_time": "2023-06-18T22:36:12.238Z"
   },
   {
    "duration": 185,
    "start_time": "2023-06-18T22:36:12.684Z"
   },
   {
    "duration": 429757,
    "start_time": "2023-06-18T22:36:13.055Z"
   },
   {
    "duration": 151,
    "start_time": "2023-06-18T23:11:54.953Z"
   },
   {
    "duration": 162876,
    "start_time": "2023-06-18T23:11:59.968Z"
   },
   {
    "duration": 116,
    "start_time": "2023-06-18T23:16:01.335Z"
   },
   {
    "duration": 6,
    "start_time": "2023-06-18T23:16:11.851Z"
   },
   {
    "duration": 67,
    "start_time": "2023-06-18T23:30:39.913Z"
   },
   {
    "duration": 1745,
    "start_time": "2023-06-18T23:32:40.722Z"
   },
   {
    "duration": 1937,
    "start_time": "2023-06-18T23:33:05.201Z"
   },
   {
    "duration": 5,
    "start_time": "2023-06-18T23:33:22.010Z"
   },
   {
    "duration": 1775,
    "start_time": "2023-06-19T10:12:14.196Z"
   },
   {
    "duration": 141,
    "start_time": "2023-06-19T10:12:15.973Z"
   },
   {
    "duration": 10,
    "start_time": "2023-06-19T10:12:16.116Z"
   },
   {
    "duration": 124,
    "start_time": "2023-06-19T10:12:16.128Z"
   },
   {
    "duration": 18,
    "start_time": "2023-06-19T10:12:16.253Z"
   },
   {
    "duration": 228,
    "start_time": "2023-06-19T10:12:16.272Z"
   },
   {
    "duration": 300,
    "start_time": "2023-06-19T10:12:16.501Z"
   },
   {
    "duration": 229,
    "start_time": "2023-06-19T10:12:22.096Z"
   },
   {
    "duration": 837,
    "start_time": "2023-06-19T10:12:22.327Z"
   },
   {
    "duration": 464,
    "start_time": "2023-06-19T10:12:23.165Z"
   },
   {
    "duration": 177,
    "start_time": "2023-06-19T10:12:23.631Z"
   },
   {
    "duration": 4,
    "start_time": "2023-06-19T10:12:27.289Z"
   },
   {
    "duration": 12,
    "start_time": "2023-06-19T10:12:27.592Z"
   },
   {
    "duration": 8,
    "start_time": "2023-06-19T10:12:27.952Z"
   },
   {
    "duration": 16,
    "start_time": "2023-06-19T10:12:29.101Z"
   },
   {
    "duration": 6,
    "start_time": "2023-06-19T10:12:31.952Z"
   },
   {
    "duration": 3,
    "start_time": "2023-06-19T10:12:32.290Z"
   },
   {
    "duration": 4,
    "start_time": "2023-06-19T10:12:37.287Z"
   },
   {
    "duration": 366,
    "start_time": "2023-06-19T10:12:43.208Z"
   },
   {
    "duration": 5,
    "start_time": "2023-06-19T10:13:23.049Z"
   },
   {
    "duration": 404075,
    "start_time": "2023-06-19T10:18:31.075Z"
   },
   {
    "duration": 142,
    "start_time": "2023-06-19T10:25:15.152Z"
   },
   {
    "duration": 28,
    "start_time": "2023-06-19T10:30:09.392Z"
   },
   {
    "duration": 424540,
    "start_time": "2023-06-19T10:33:32.905Z"
   },
   {
    "duration": 22,
    "start_time": "2023-06-19T10:40:37.447Z"
   },
   {
    "duration": 598,
    "start_time": "2023-06-19T10:42:43.619Z"
   },
   {
    "duration": 517,
    "start_time": "2023-06-19T10:43:07.012Z"
   },
   {
    "duration": 1628,
    "start_time": "2023-06-19T10:50:16.354Z"
   },
   {
    "duration": 52,
    "start_time": "2023-06-19T10:50:17.985Z"
   },
   {
    "duration": 10,
    "start_time": "2023-06-19T10:50:18.038Z"
   },
   {
    "duration": 137,
    "start_time": "2023-06-19T10:50:18.050Z"
   },
   {
    "duration": 6,
    "start_time": "2023-06-19T10:50:18.189Z"
   },
   {
    "duration": 250,
    "start_time": "2023-06-19T10:50:18.197Z"
   },
   {
    "duration": 209,
    "start_time": "2023-06-19T10:50:18.448Z"
   },
   {
    "duration": 288,
    "start_time": "2023-06-19T10:50:18.658Z"
   },
   {
    "duration": 760,
    "start_time": "2023-06-19T10:50:18.948Z"
   },
   {
    "duration": 488,
    "start_time": "2023-06-19T10:50:19.710Z"
   },
   {
    "duration": 181,
    "start_time": "2023-06-19T10:50:20.199Z"
   },
   {
    "duration": 4,
    "start_time": "2023-06-19T10:50:20.382Z"
   },
   {
    "duration": 22,
    "start_time": "2023-06-19T10:50:20.388Z"
   },
   {
    "duration": 6,
    "start_time": "2023-06-19T10:50:20.412Z"
   },
   {
    "duration": 28,
    "start_time": "2023-06-19T10:50:20.419Z"
   },
   {
    "duration": 9,
    "start_time": "2023-06-19T10:50:20.449Z"
   },
   {
    "duration": 22,
    "start_time": "2023-06-19T10:50:20.459Z"
   },
   {
    "duration": 21,
    "start_time": "2023-06-19T10:50:20.482Z"
   },
   {
    "duration": 290,
    "start_time": "2023-06-19T10:50:20.504Z"
   },
   {
    "duration": 433880,
    "start_time": "2023-06-19T10:50:20.796Z"
   },
   {
    "duration": 159218,
    "start_time": "2023-06-19T10:57:34.678Z"
   },
   {
    "duration": 5,
    "start_time": "2023-06-19T11:00:13.898Z"
   },
   {
    "duration": 8,
    "start_time": "2023-06-19T11:00:13.905Z"
   },
   {
    "duration": 605,
    "start_time": "2023-06-19T11:00:13.915Z"
   },
   {
    "duration": 437,
    "start_time": "2023-06-19T11:00:14.522Z"
   },
   {
    "duration": 63,
    "start_time": "2023-06-19T11:05:30.852Z"
   },
   {
    "duration": 66,
    "start_time": "2023-06-19T11:05:31.058Z"
   },
   {
    "duration": 10,
    "start_time": "2023-06-19T11:05:31.305Z"
   },
   {
    "duration": 114,
    "start_time": "2023-06-19T11:05:31.508Z"
   },
   {
    "duration": 6,
    "start_time": "2023-06-19T11:05:31.810Z"
   },
   {
    "duration": 235,
    "start_time": "2023-06-19T11:05:32.005Z"
   },
   {
    "duration": 219,
    "start_time": "2023-06-19T11:05:32.914Z"
   },
   {
    "duration": 303,
    "start_time": "2023-06-19T11:05:33.205Z"
   },
   {
    "duration": 777,
    "start_time": "2023-06-19T11:05:33.987Z"
   },
   {
    "duration": 521,
    "start_time": "2023-06-19T11:05:35.635Z"
   },
   {
    "duration": 182,
    "start_time": "2023-06-19T11:05:37.010Z"
   },
   {
    "duration": 49,
    "start_time": "2023-06-19T11:06:28.682Z"
   },
   {
    "duration": 5,
    "start_time": "2023-06-19T11:06:32.052Z"
   },
   {
    "duration": 240,
    "start_time": "2023-06-19T11:06:32.972Z"
   },
   {
    "duration": 130,
    "start_time": "2023-06-19T11:06:47.703Z"
   },
   {
    "duration": 137,
    "start_time": "2023-06-19T11:07:41.703Z"
   },
   {
    "duration": 92,
    "start_time": "2023-06-19T11:31:23.450Z"
   },
   {
    "duration": 49,
    "start_time": "2023-06-19T11:31:24.417Z"
   },
   {
    "duration": 9,
    "start_time": "2023-06-19T11:31:25.025Z"
   },
   {
    "duration": 251,
    "start_time": "2023-06-19T11:31:25.537Z"
   },
   {
    "duration": 5,
    "start_time": "2023-06-19T11:31:31.553Z"
   },
   {
    "duration": 275,
    "start_time": "2023-06-19T11:31:42.479Z"
   },
   {
    "duration": 207,
    "start_time": "2023-06-19T11:35:32.006Z"
   },
   {
    "duration": 241,
    "start_time": "2023-06-19T11:35:32.215Z"
   },
   {
    "duration": 721,
    "start_time": "2023-06-19T11:35:35.798Z"
   },
   {
    "duration": 496,
    "start_time": "2023-06-19T11:35:36.521Z"
   },
   {
    "duration": 128,
    "start_time": "2023-06-19T11:35:39.206Z"
   },
   {
    "duration": 318,
    "start_time": "2023-06-19T11:35:41.532Z"
   },
   {
    "duration": 4,
    "start_time": "2023-06-19T11:37:48.052Z"
   },
   {
    "duration": 18,
    "start_time": "2023-06-19T11:37:49.295Z"
   },
   {
    "duration": 34,
    "start_time": "2023-06-19T11:38:16.722Z"
   },
   {
    "duration": 4,
    "start_time": "2023-06-19T11:38:41.430Z"
   },
   {
    "duration": 38,
    "start_time": "2023-06-19T11:38:42.095Z"
   },
   {
    "duration": 13,
    "start_time": "2023-06-19T11:38:54.014Z"
   },
   {
    "duration": 48,
    "start_time": "2023-06-19T11:39:02.154Z"
   },
   {
    "duration": 29,
    "start_time": "2023-06-19T11:39:17.214Z"
   },
   {
    "duration": 10,
    "start_time": "2023-06-19T11:39:21.223Z"
   },
   {
    "duration": 34,
    "start_time": "2023-06-19T11:39:21.389Z"
   },
   {
    "duration": 9,
    "start_time": "2023-06-19T11:39:29.497Z"
   },
   {
    "duration": 5,
    "start_time": "2023-06-19T11:39:33.391Z"
   },
   {
    "duration": 3,
    "start_time": "2023-06-19T11:39:33.587Z"
   },
   {
    "duration": 2115,
    "start_time": "2023-06-19T11:39:39.793Z"
   },
   {
    "duration": 858666,
    "start_time": "2023-06-19T11:40:14.399Z"
   },
   {
    "duration": 190823,
    "start_time": "2023-06-19T11:54:33.068Z"
   },
   {
    "duration": 8,
    "start_time": "2023-06-19T11:57:43.893Z"
   },
   {
    "duration": 9,
    "start_time": "2023-06-19T14:05:55.486Z"
   },
   {
    "duration": 936,
    "start_time": "2023-06-19T14:05:57.064Z"
   },
   {
    "duration": 246,
    "start_time": "2023-06-19T14:09:39.639Z"
   },
   {
    "duration": 125,
    "start_time": "2023-06-19T14:11:38.607Z"
   },
   {
    "duration": 113,
    "start_time": "2023-06-19T14:11:55.382Z"
   },
   {
    "duration": 285,
    "start_time": "2023-06-19T14:12:23.952Z"
   },
   {
    "duration": 119,
    "start_time": "2023-06-19T14:12:39.959Z"
   },
   {
    "duration": 209,
    "start_time": "2023-06-19T14:13:49.448Z"
   },
   {
    "duration": 6,
    "start_time": "2023-06-19T14:14:47.001Z"
   },
   {
    "duration": 6,
    "start_time": "2023-06-19T14:15:04.858Z"
   },
   {
    "duration": 19,
    "start_time": "2023-06-19T14:15:43.010Z"
   },
   {
    "duration": 20,
    "start_time": "2023-06-19T14:16:00.738Z"
   },
   {
    "duration": 4,
    "start_time": "2023-06-19T14:16:03.998Z"
   },
   {
    "duration": 13,
    "start_time": "2023-06-19T14:16:04.986Z"
   },
   {
    "duration": 23,
    "start_time": "2023-06-19T14:17:47.096Z"
   },
   {
    "duration": 15,
    "start_time": "2023-06-19T14:18:01.052Z"
   },
   {
    "duration": 3,
    "start_time": "2023-06-19T14:19:30.349Z"
   },
   {
    "duration": 12,
    "start_time": "2023-06-19T14:19:33.348Z"
   },
   {
    "duration": 30,
    "start_time": "2023-06-19T14:21:09.438Z"
   },
   {
    "duration": 9,
    "start_time": "2023-06-19T14:21:17.187Z"
   },
   {
    "duration": 14,
    "start_time": "2023-06-19T14:21:39.198Z"
   },
   {
    "duration": 16,
    "start_time": "2023-06-19T14:21:44.342Z"
   },
   {
    "duration": 252,
    "start_time": "2023-06-19T14:21:55.670Z"
   },
   {
    "duration": 22,
    "start_time": "2023-06-19T14:22:14.785Z"
   },
   {
    "duration": 17,
    "start_time": "2023-06-19T14:22:19.591Z"
   },
   {
    "duration": 17,
    "start_time": "2023-06-19T14:22:34.343Z"
   },
   {
    "duration": 270,
    "start_time": "2023-06-19T14:22:38.054Z"
   },
   {
    "duration": 6435,
    "start_time": "2023-06-20T12:24:09.302Z"
   },
   {
    "duration": 170,
    "start_time": "2023-06-20T12:24:15.740Z"
   },
   {
    "duration": 407,
    "start_time": "2023-06-20T12:24:15.911Z"
   },
   {
    "duration": 1698,
    "start_time": "2023-06-20T12:24:16.324Z"
   },
   {
    "duration": 17,
    "start_time": "2023-06-20T12:24:18.107Z"
   },
   {
    "duration": 2878,
    "start_time": "2023-06-20T12:24:18.127Z"
   },
   {
    "duration": 805,
    "start_time": "2023-06-20T12:24:21.008Z"
   },
   {
    "duration": 1087,
    "start_time": "2023-06-20T12:24:21.815Z"
   },
   {
    "duration": 2523,
    "start_time": "2023-06-20T12:24:22.904Z"
   },
   {
    "duration": 1602,
    "start_time": "2023-06-20T12:24:25.430Z"
   },
   {
    "duration": 515,
    "start_time": "2023-06-20T12:24:27.107Z"
   },
   {
    "duration": 800,
    "start_time": "2023-06-20T12:24:27.624Z"
   },
   {
    "duration": 76,
    "start_time": "2023-06-20T12:24:28.427Z"
   },
   {
    "duration": 118,
    "start_time": "2023-06-20T12:24:28.505Z"
   },
   {
    "duration": 77,
    "start_time": "2023-06-20T12:24:28.625Z"
   },
   {
    "duration": 30,
    "start_time": "2023-06-20T12:24:28.704Z"
   },
   {
    "duration": 95,
    "start_time": "2023-06-20T12:24:28.736Z"
   },
   {
    "duration": 69,
    "start_time": "2023-06-20T12:24:28.833Z"
   },
   {
    "duration": 18,
    "start_time": "2023-06-20T12:24:28.904Z"
   },
   {
    "duration": 887,
    "start_time": "2023-06-20T12:24:28.925Z"
   },
   {
    "duration": 25898,
    "start_time": "2023-06-20T12:24:29.814Z"
   },
   {
    "duration": 1195,
    "start_time": "2023-06-20T12:24:55.714Z"
   },
   {
    "duration": 19,
    "start_time": "2023-06-20T12:24:56.910Z"
   },
   {
    "duration": 0,
    "start_time": "2023-06-20T12:24:57.003Z"
   },
   {
    "duration": 0,
    "start_time": "2023-06-20T12:24:57.005Z"
   },
   {
    "duration": 0,
    "start_time": "2023-06-20T12:24:57.007Z"
   },
   {
    "duration": 0,
    "start_time": "2023-06-20T12:24:57.008Z"
   },
   {
    "duration": 1960,
    "start_time": "2023-06-20T17:24:50.998Z"
   },
   {
    "duration": 219,
    "start_time": "2023-06-20T17:24:52.960Z"
   },
   {
    "duration": 12,
    "start_time": "2023-06-20T17:24:53.180Z"
   },
   {
    "duration": 130,
    "start_time": "2023-06-20T17:24:53.195Z"
   },
   {
    "duration": 7,
    "start_time": "2023-06-20T17:24:53.327Z"
   },
   {
    "duration": 253,
    "start_time": "2023-06-20T17:24:53.335Z"
   },
   {
    "duration": 294,
    "start_time": "2023-06-20T17:24:53.590Z"
   },
   {
    "duration": 215,
    "start_time": "2023-06-20T17:24:53.885Z"
   },
   {
    "duration": 782,
    "start_time": "2023-06-20T17:24:54.101Z"
   },
   {
    "duration": 520,
    "start_time": "2023-06-20T17:24:54.884Z"
   },
   {
    "duration": 144,
    "start_time": "2023-06-20T17:24:55.406Z"
   },
   {
    "duration": 210,
    "start_time": "2023-06-20T17:24:55.552Z"
   },
   {
    "duration": 4,
    "start_time": "2023-06-20T17:24:55.763Z"
   },
   {
    "duration": 24,
    "start_time": "2023-06-20T17:24:56.807Z"
   },
   {
    "duration": 6,
    "start_time": "2023-06-20T17:24:57.708Z"
   },
   {
    "duration": 8,
    "start_time": "2023-06-20T17:24:57.927Z"
   },
   {
    "duration": 7,
    "start_time": "2023-06-20T17:24:58.644Z"
   },
   {
    "duration": 3,
    "start_time": "2023-06-20T17:24:59.397Z"
   },
   {
    "duration": 3,
    "start_time": "2023-06-20T17:24:59.644Z"
   },
   {
    "duration": 1040,
    "start_time": "2023-06-20T17:25:02.285Z"
   },
   {
    "duration": 127,
    "start_time": "2023-06-20T17:26:12.551Z"
   },
   {
    "duration": 45,
    "start_time": "2023-06-20T17:27:06.092Z"
   },
   {
    "duration": 8,
    "start_time": "2023-06-20T17:27:32.951Z"
   },
   {
    "duration": 23,
    "start_time": "2023-06-20T17:27:36.216Z"
   },
   {
    "duration": 9,
    "start_time": "2023-06-20T17:28:01.480Z"
   },
   {
    "duration": 3,
    "start_time": "2023-06-20T17:28:04.401Z"
   },
   {
    "duration": 2,
    "start_time": "2023-06-20T17:28:04.615Z"
   },
   {
    "duration": 1613,
    "start_time": "2023-06-20T17:28:05.793Z"
   },
   {
    "duration": 92,
    "start_time": "2023-06-20T17:28:32.025Z"
   },
   {
    "duration": 54,
    "start_time": "2023-06-20T17:28:32.338Z"
   },
   {
    "duration": 13,
    "start_time": "2023-06-20T17:28:32.560Z"
   },
   {
    "duration": 108,
    "start_time": "2023-06-20T17:28:32.761Z"
   },
   {
    "duration": 6,
    "start_time": "2023-06-20T17:28:33.103Z"
   },
   {
    "duration": 234,
    "start_time": "2023-06-20T17:28:33.288Z"
   },
   {
    "duration": 193,
    "start_time": "2023-06-20T17:28:34.431Z"
   },
   {
    "duration": 198,
    "start_time": "2023-06-20T17:28:34.646Z"
   },
   {
    "duration": 684,
    "start_time": "2023-06-20T17:28:35.047Z"
   },
   {
    "duration": 572,
    "start_time": "2023-06-20T17:28:35.732Z"
   },
   {
    "duration": 133,
    "start_time": "2023-06-20T17:28:36.306Z"
   },
   {
    "duration": 193,
    "start_time": "2023-06-20T17:28:36.440Z"
   },
   {
    "duration": 4,
    "start_time": "2023-06-20T17:28:37.697Z"
   },
   {
    "duration": 25,
    "start_time": "2023-06-20T17:28:38.712Z"
   },
   {
    "duration": 4,
    "start_time": "2023-06-20T17:28:46.393Z"
   },
   {
    "duration": 7,
    "start_time": "2023-06-20T17:28:47.639Z"
   },
   {
    "duration": 4,
    "start_time": "2023-06-20T17:29:30.392Z"
   },
   {
    "duration": 31,
    "start_time": "2023-06-20T17:29:31.896Z"
   },
   {
    "duration": 13,
    "start_time": "2023-06-20T17:29:35.088Z"
   },
   {
    "duration": 29,
    "start_time": "2023-06-20T17:29:35.432Z"
   },
   {
    "duration": 7,
    "start_time": "2023-06-20T17:29:36.945Z"
   },
   {
    "duration": 2,
    "start_time": "2023-06-20T17:29:38.936Z"
   },
   {
    "duration": 3,
    "start_time": "2023-06-20T17:29:39.116Z"
   },
   {
    "duration": 2084,
    "start_time": "2023-06-20T17:29:39.921Z"
   },
   {
    "duration": 763673,
    "start_time": "2023-06-20T17:29:45.800Z"
   },
   {
    "duration": 179338,
    "start_time": "2023-06-20T17:42:29.475Z"
   },
   {
    "duration": 6,
    "start_time": "2023-06-20T17:45:28.815Z"
   },
   {
    "duration": 5,
    "start_time": "2023-06-20T18:06:31.293Z"
   },
   {
    "duration": 969,
    "start_time": "2023-06-20T18:06:32.396Z"
   },
   {
    "duration": 299,
    "start_time": "2023-06-20T18:06:35.995Z"
   },
   {
    "duration": 251,
    "start_time": "2023-06-20T18:06:37.221Z"
   },
   {
    "duration": 1612,
    "start_time": "2023-06-20T18:07:11.414Z"
   },
   {
    "duration": 56,
    "start_time": "2023-06-20T18:07:13.028Z"
   },
   {
    "duration": 10,
    "start_time": "2023-06-20T18:07:13.086Z"
   },
   {
    "duration": 178,
    "start_time": "2023-06-20T18:07:13.098Z"
   },
   {
    "duration": 12,
    "start_time": "2023-06-20T18:07:15.835Z"
   },
   {
    "duration": 171,
    "start_time": "2023-06-20T18:07:16.154Z"
   },
   {
    "duration": 7,
    "start_time": "2023-06-20T18:07:16.970Z"
   },
   {
    "duration": 350,
    "start_time": "2023-06-20T18:07:17.443Z"
   },
   {
    "duration": 274,
    "start_time": "2023-06-20T18:07:19.931Z"
   },
   {
    "duration": 433,
    "start_time": "2023-06-20T18:07:20.214Z"
   },
   {
    "duration": 948,
    "start_time": "2023-06-20T18:07:20.695Z"
   },
   {
    "duration": 537,
    "start_time": "2023-06-20T18:07:21.645Z"
   },
   {
    "duration": 142,
    "start_time": "2023-06-20T18:07:22.293Z"
   },
   {
    "duration": 229,
    "start_time": "2023-06-20T18:07:22.802Z"
   },
   {
    "duration": 8,
    "start_time": "2023-06-20T18:07:24.515Z"
   },
   {
    "duration": 41,
    "start_time": "2023-06-20T18:07:26.238Z"
   },
   {
    "duration": 15,
    "start_time": "2023-06-20T18:07:32.197Z"
   },
   {
    "duration": 27,
    "start_time": "2023-06-20T18:07:34.527Z"
   },
   {
    "duration": 9,
    "start_time": "2023-06-20T18:07:35.935Z"
   },
   {
    "duration": 3,
    "start_time": "2023-06-20T18:07:38.096Z"
   },
   {
    "duration": 3,
    "start_time": "2023-06-20T18:07:39.169Z"
   },
   {
    "duration": 1650,
    "start_time": "2023-06-20T18:07:40.369Z"
   }
  ],
  "kernelspec": {
   "display_name": "Python 3 (ipykernel)",
   "language": "python",
   "name": "python3"
  },
  "language_info": {
   "codemirror_mode": {
    "name": "ipython",
    "version": 3
   },
   "file_extension": ".py",
   "mimetype": "text/x-python",
   "name": "python",
   "nbconvert_exporter": "python",
   "pygments_lexer": "ipython3",
   "version": "3.9.5"
  },
  "toc": {
   "base_numbering": 1,
   "nav_menu": {},
   "number_sections": true,
   "sideBar": true,
   "skip_h1_title": true,
   "title_cell": "Содержание",
   "title_sidebar": "Contents",
   "toc_cell": true,
   "toc_position": {
    "height": "calc(100% - 180px)",
    "left": "10px",
    "top": "150px",
    "width": "165px"
   },
   "toc_section_display": true,
   "toc_window_display": true
  }
 },
 "nbformat": 4,
 "nbformat_minor": 2
}
