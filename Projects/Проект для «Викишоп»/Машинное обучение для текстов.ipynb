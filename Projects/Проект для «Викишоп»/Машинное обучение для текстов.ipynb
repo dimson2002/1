{
 "cells": [
  {
   "cell_type": "markdown",
   "metadata": {},
   "source": [
    "# Проект для «Викишоп»"
   ]
  },
  {
   "cell_type": "markdown",
   "metadata": {},
   "source": [
    "Интернет-магазин «Викишоп» запускает новый сервис. Теперь пользователи могут редактировать и дополнять описания товаров, как в вики-сообществах. То есть клиенты предлагают свои правки и комментируют изменения других. Магазину нужен инструмент, который будет искать токсичные комментарии и отправлять их на модерацию. \n",
    "\n",
    "Обучите модель классифицировать комментарии на позитивные и негативные. В вашем распоряжении набор данных с разметкой о токсичности правок.\n",
    "\n",
    "Постройте модель со значением метрики качества *F1* не меньше 0.75. \n",
    "\n",
    "**Инструкция по выполнению проекта**\n",
    "\n",
    "1. Загрузите и подготовьте данные.\n",
    "2. Обучите разные модели. \n",
    "3. Сделайте выводы.\n",
    "\n",
    "Для выполнения проекта применять *BERT* необязательно, но вы можете попробовать.\n",
    "\n",
    "**Описание данных**\n",
    "\n",
    "Данные находятся в файле `toxic_comments.csv`. Столбец *text* в нём содержит текст комментария, а *toxic* — целевой признак."
   ]
  },
  {
   "cell_type": "markdown",
   "metadata": {},
   "source": [
    "## Подготовка"
   ]
  },
  {
   "cell_type": "code",
   "execution_count": 21,
   "metadata": {},
   "outputs": [
    {
     "name": "stderr",
     "output_type": "stream",
     "text": [
      "[nltk_data] Downloading package wordnet to\n",
      "[nltk_data]     C:\\Users\\dimson\\AppData\\Roaming\\nltk_data...\n",
      "[nltk_data]   Package wordnet is already up-to-date!\n",
      "[nltk_data] Downloading package punkt to\n",
      "[nltk_data]     C:\\Users\\dimson\\AppData\\Roaming\\nltk_data...\n",
      "[nltk_data]   Package punkt is already up-to-date!\n",
      "[nltk_data] Downloading package averaged_perceptron_tagger to\n",
      "[nltk_data]     C:\\Users\\dimson\\AppData\\Roaming\\nltk_data...\n",
      "[nltk_data]   Unzipping taggers\\averaged_perceptron_tagger.zip.\n"
     ]
    }
   ],
   "source": [
    "import pandas as pd\n",
    "\n",
    "from pymystem3 import Mystem\n",
    "\n",
    "import re\n",
    "\n",
    "from functools import lru_cache\n",
    "\n",
    "import nltk\n",
    "from nltk.stem import WordNetLemmatizer \n",
    "nltk.download('wordnet')\n",
    "nltk.download('punkt')\n",
    "nltk.download('averaged_perceptron_tagger')\n",
    "from nltk.corpus import stopwords\n",
    "from nltk.corpus import wordnet\n",
    "\n",
    "from sklearn.model_selection import train_test_split, cross_val_score, GridSearchCV\n",
    "from sklearn.feature_extraction.text import TfidfVectorizer\n",
    "from sklearn.linear_model import LogisticRegression\n",
    "from sklearn.metrics import f1_score\n",
    "\n",
    "import spacy\n",
    "\n",
    "import warnings\n",
    "warnings.filterwarnings('ignore')\n",
    "\n",
    "from catboost import CatBoostClassifier\n",
    "from lightgbm import LGBMClassifier\n",
    "\n",
    "import time\n"
   ]
  },
  {
   "cell_type": "code",
   "execution_count": 2,
   "metadata": {},
   "outputs": [],
   "source": [
    "try:\n",
    "    data = pd.read_csv('/datasets/toxic_comments.csv')\n",
    "except:\n",
    "    data = pd.read_csv('C:/Study/Yandex_Practicum/Negative comments/toxic_comments.csv')"
   ]
  },
  {
   "cell_type": "code",
   "execution_count": 3,
   "metadata": {},
   "outputs": [
    {
     "data": {
      "text/html": [
       "<div>\n",
       "<style scoped>\n",
       "    .dataframe tbody tr th:only-of-type {\n",
       "        vertical-align: middle;\n",
       "    }\n",
       "\n",
       "    .dataframe tbody tr th {\n",
       "        vertical-align: top;\n",
       "    }\n",
       "\n",
       "    .dataframe thead th {\n",
       "        text-align: right;\n",
       "    }\n",
       "</style>\n",
       "<table border=\"1\" class=\"dataframe\">\n",
       "  <thead>\n",
       "    <tr style=\"text-align: right;\">\n",
       "      <th></th>\n",
       "      <th>Unnamed: 0</th>\n",
       "      <th>text</th>\n",
       "      <th>toxic</th>\n",
       "    </tr>\n",
       "  </thead>\n",
       "  <tbody>\n",
       "    <tr>\n",
       "      <th>0</th>\n",
       "      <td>0</td>\n",
       "      <td>Explanation\\nWhy the edits made under my usern...</td>\n",
       "      <td>0</td>\n",
       "    </tr>\n",
       "    <tr>\n",
       "      <th>1</th>\n",
       "      <td>1</td>\n",
       "      <td>D'aww! He matches this background colour I'm s...</td>\n",
       "      <td>0</td>\n",
       "    </tr>\n",
       "    <tr>\n",
       "      <th>2</th>\n",
       "      <td>2</td>\n",
       "      <td>Hey man, I'm really not trying to edit war. It...</td>\n",
       "      <td>0</td>\n",
       "    </tr>\n",
       "    <tr>\n",
       "      <th>3</th>\n",
       "      <td>3</td>\n",
       "      <td>\"\\nMore\\nI can't make any real suggestions on ...</td>\n",
       "      <td>0</td>\n",
       "    </tr>\n",
       "    <tr>\n",
       "      <th>4</th>\n",
       "      <td>4</td>\n",
       "      <td>You, sir, are my hero. Any chance you remember...</td>\n",
       "      <td>0</td>\n",
       "    </tr>\n",
       "  </tbody>\n",
       "</table>\n",
       "</div>"
      ],
      "text/plain": [
       "   Unnamed: 0                                               text  toxic\n",
       "0           0  Explanation\\nWhy the edits made under my usern...      0\n",
       "1           1  D'aww! He matches this background colour I'm s...      0\n",
       "2           2  Hey man, I'm really not trying to edit war. It...      0\n",
       "3           3  \"\\nMore\\nI can't make any real suggestions on ...      0\n",
       "4           4  You, sir, are my hero. Any chance you remember...      0"
      ]
     },
     "execution_count": 3,
     "metadata": {},
     "output_type": "execute_result"
    }
   ],
   "source": [
    "data.head(5)"
   ]
  },
  {
   "cell_type": "code",
   "execution_count": 4,
   "metadata": {},
   "outputs": [
    {
     "name": "stdout",
     "output_type": "stream",
     "text": [
      "<class 'pandas.core.frame.DataFrame'>\n",
      "RangeIndex: 159292 entries, 0 to 159291\n",
      "Data columns (total 3 columns):\n",
      " #   Column      Non-Null Count   Dtype \n",
      "---  ------      --------------   ----- \n",
      " 0   Unnamed: 0  159292 non-null  int64 \n",
      " 1   text        159292 non-null  object\n",
      " 2   toxic       159292 non-null  int64 \n",
      "dtypes: int64(2), object(1)\n",
      "memory usage: 3.6+ MB\n"
     ]
    }
   ],
   "source": [
    "data.info()"
   ]
  },
  {
   "cell_type": "code",
   "execution_count": 5,
   "metadata": {},
   "outputs": [],
   "source": [
    "data = data.drop('Unnamed: 0', axis=1)#дропнем столбец, так как он не несет информации"
   ]
  },
  {
   "cell_type": "code",
   "execution_count": 6,
   "metadata": {},
   "outputs": [
    {
     "data": {
      "text/html": [
       "<div>\n",
       "<style scoped>\n",
       "    .dataframe tbody tr th:only-of-type {\n",
       "        vertical-align: middle;\n",
       "    }\n",
       "\n",
       "    .dataframe tbody tr th {\n",
       "        vertical-align: top;\n",
       "    }\n",
       "\n",
       "    .dataframe thead th {\n",
       "        text-align: right;\n",
       "    }\n",
       "</style>\n",
       "<table border=\"1\" class=\"dataframe\">\n",
       "  <thead>\n",
       "    <tr style=\"text-align: right;\">\n",
       "      <th></th>\n",
       "      <th>text</th>\n",
       "      <th>toxic</th>\n",
       "    </tr>\n",
       "  </thead>\n",
       "  <tbody>\n",
       "    <tr>\n",
       "      <th>0</th>\n",
       "      <td>Explanation\\nWhy the edits made under my usern...</td>\n",
       "      <td>0</td>\n",
       "    </tr>\n",
       "    <tr>\n",
       "      <th>1</th>\n",
       "      <td>D'aww! He matches this background colour I'm s...</td>\n",
       "      <td>0</td>\n",
       "    </tr>\n",
       "    <tr>\n",
       "      <th>2</th>\n",
       "      <td>Hey man, I'm really not trying to edit war. It...</td>\n",
       "      <td>0</td>\n",
       "    </tr>\n",
       "    <tr>\n",
       "      <th>3</th>\n",
       "      <td>\"\\nMore\\nI can't make any real suggestions on ...</td>\n",
       "      <td>0</td>\n",
       "    </tr>\n",
       "    <tr>\n",
       "      <th>4</th>\n",
       "      <td>You, sir, are my hero. Any chance you remember...</td>\n",
       "      <td>0</td>\n",
       "    </tr>\n",
       "  </tbody>\n",
       "</table>\n",
       "</div>"
      ],
      "text/plain": [
       "                                                text  toxic\n",
       "0  Explanation\\nWhy the edits made under my usern...      0\n",
       "1  D'aww! He matches this background colour I'm s...      0\n",
       "2  Hey man, I'm really not trying to edit war. It...      0\n",
       "3  \"\\nMore\\nI can't make any real suggestions on ...      0\n",
       "4  You, sir, are my hero. Any chance you remember...      0"
      ]
     },
     "execution_count": 6,
     "metadata": {},
     "output_type": "execute_result"
    }
   ],
   "source": [
    "data.head(5)"
   ]
  },
  {
   "cell_type": "code",
   "execution_count": 7,
   "metadata": {},
   "outputs": [
    {
     "data": {
      "text/plain": [
       "0    0.898388\n",
       "1    0.101612\n",
       "Name: toxic, dtype: float64"
      ]
     },
     "execution_count": 7,
     "metadata": {},
     "output_type": "execute_result"
    }
   ],
   "source": [
    "data['toxic'].value_counts(normalize=True)"
   ]
  },
  {
   "cell_type": "markdown",
   "metadata": {},
   "source": [
    "Вывод: классы не сбалансированны"
   ]
  },
  {
   "cell_type": "markdown",
   "metadata": {},
   "source": [
    "Создадим функции для очистки и лемматизации текста."
   ]
  },
  {
   "cell_type": "code",
   "execution_count": 8,
   "metadata": {},
   "outputs": [],
   "source": [
    "def clear_text(text):\n",
    "    re_list = re.sub(r\"[^a-zA-Z']\", ' ', text)\n",
    "    re_list = re_list.split()\n",
    "    re_list = \" \".join(re_list)\n",
    "    return re_list"
   ]
  },
  {
   "cell_type": "code",
   "execution_count": 9,
   "metadata": {},
   "outputs": [
    {
     "data": {
      "text/html": [
       "<div>\n",
       "<style scoped>\n",
       "    .dataframe tbody tr th:only-of-type {\n",
       "        vertical-align: middle;\n",
       "    }\n",
       "\n",
       "    .dataframe tbody tr th {\n",
       "        vertical-align: top;\n",
       "    }\n",
       "\n",
       "    .dataframe thead th {\n",
       "        text-align: right;\n",
       "    }\n",
       "</style>\n",
       "<table border=\"1\" class=\"dataframe\">\n",
       "  <thead>\n",
       "    <tr style=\"text-align: right;\">\n",
       "      <th></th>\n",
       "      <th>text</th>\n",
       "      <th>toxic</th>\n",
       "      <th>lemm_text</th>\n",
       "    </tr>\n",
       "  </thead>\n",
       "  <tbody>\n",
       "    <tr>\n",
       "      <th>0</th>\n",
       "      <td>Explanation\\nWhy the edits made under my usern...</td>\n",
       "      <td>0</td>\n",
       "      <td>Explanation Why the edits made under my userna...</td>\n",
       "    </tr>\n",
       "    <tr>\n",
       "      <th>1</th>\n",
       "      <td>D'aww! He matches this background colour I'm s...</td>\n",
       "      <td>0</td>\n",
       "      <td>D'aww He matches this background colour I'm se...</td>\n",
       "    </tr>\n",
       "    <tr>\n",
       "      <th>2</th>\n",
       "      <td>Hey man, I'm really not trying to edit war. It...</td>\n",
       "      <td>0</td>\n",
       "      <td>Hey man I'm really not trying to edit war It's...</td>\n",
       "    </tr>\n",
       "    <tr>\n",
       "      <th>3</th>\n",
       "      <td>\"\\nMore\\nI can't make any real suggestions on ...</td>\n",
       "      <td>0</td>\n",
       "      <td>More I can't make any real suggestions on impr...</td>\n",
       "    </tr>\n",
       "    <tr>\n",
       "      <th>4</th>\n",
       "      <td>You, sir, are my hero. Any chance you remember...</td>\n",
       "      <td>0</td>\n",
       "      <td>You sir are my hero Any chance you remember wh...</td>\n",
       "    </tr>\n",
       "    <tr>\n",
       "      <th>...</th>\n",
       "      <td>...</td>\n",
       "      <td>...</td>\n",
       "      <td>...</td>\n",
       "    </tr>\n",
       "    <tr>\n",
       "      <th>159287</th>\n",
       "      <td>\":::::And for the second time of asking, when ...</td>\n",
       "      <td>0</td>\n",
       "      <td>And for the second time of asking when your vi...</td>\n",
       "    </tr>\n",
       "    <tr>\n",
       "      <th>159288</th>\n",
       "      <td>You should be ashamed of yourself \\n\\nThat is ...</td>\n",
       "      <td>0</td>\n",
       "      <td>You should be ashamed of yourself That is a ho...</td>\n",
       "    </tr>\n",
       "    <tr>\n",
       "      <th>159289</th>\n",
       "      <td>Spitzer \\n\\nUmm, theres no actual article for ...</td>\n",
       "      <td>0</td>\n",
       "      <td>Spitzer Umm theres no actual article for prost...</td>\n",
       "    </tr>\n",
       "    <tr>\n",
       "      <th>159290</th>\n",
       "      <td>And it looks like it was actually you who put ...</td>\n",
       "      <td>0</td>\n",
       "      <td>And it looks like it was actually you who put ...</td>\n",
       "    </tr>\n",
       "    <tr>\n",
       "      <th>159291</th>\n",
       "      <td>\"\\nAnd ... I really don't think you understand...</td>\n",
       "      <td>0</td>\n",
       "      <td>And I really don't think you understand I came...</td>\n",
       "    </tr>\n",
       "  </tbody>\n",
       "</table>\n",
       "<p>159292 rows × 3 columns</p>\n",
       "</div>"
      ],
      "text/plain": [
       "                                                     text  toxic  \\\n",
       "0       Explanation\\nWhy the edits made under my usern...      0   \n",
       "1       D'aww! He matches this background colour I'm s...      0   \n",
       "2       Hey man, I'm really not trying to edit war. It...      0   \n",
       "3       \"\\nMore\\nI can't make any real suggestions on ...      0   \n",
       "4       You, sir, are my hero. Any chance you remember...      0   \n",
       "...                                                   ...    ...   \n",
       "159287  \":::::And for the second time of asking, when ...      0   \n",
       "159288  You should be ashamed of yourself \\n\\nThat is ...      0   \n",
       "159289  Spitzer \\n\\nUmm, theres no actual article for ...      0   \n",
       "159290  And it looks like it was actually you who put ...      0   \n",
       "159291  \"\\nAnd ... I really don't think you understand...      0   \n",
       "\n",
       "                                                lemm_text  \n",
       "0       Explanation Why the edits made under my userna...  \n",
       "1       D'aww He matches this background colour I'm se...  \n",
       "2       Hey man I'm really not trying to edit war It's...  \n",
       "3       More I can't make any real suggestions on impr...  \n",
       "4       You sir are my hero Any chance you remember wh...  \n",
       "...                                                   ...  \n",
       "159287  And for the second time of asking when your vi...  \n",
       "159288  You should be ashamed of yourself That is a ho...  \n",
       "159289  Spitzer Umm theres no actual article for prost...  \n",
       "159290  And it looks like it was actually you who put ...  \n",
       "159291  And I really don't think you understand I came...  \n",
       "\n",
       "[159292 rows x 3 columns]"
      ]
     },
     "execution_count": 9,
     "metadata": {},
     "output_type": "execute_result"
    }
   ],
   "source": [
    "data['lemm_text'] = data['text'].apply(clear_text)\n",
    "data"
   ]
  },
  {
   "cell_type": "markdown",
   "metadata": {},
   "source": [
    "Ячейка грузилась 69 минут."
   ]
  },
  {
   "cell_type": "code",
   "execution_count": 22,
   "metadata": {},
   "outputs": [
    {
     "data": {
      "text/html": [
       "<div>\n",
       "<style scoped>\n",
       "    .dataframe tbody tr th:only-of-type {\n",
       "        vertical-align: middle;\n",
       "    }\n",
       "\n",
       "    .dataframe tbody tr th {\n",
       "        vertical-align: top;\n",
       "    }\n",
       "\n",
       "    .dataframe thead th {\n",
       "        text-align: right;\n",
       "    }\n",
       "</style>\n",
       "<table border=\"1\" class=\"dataframe\">\n",
       "  <thead>\n",
       "    <tr style=\"text-align: right;\">\n",
       "      <th></th>\n",
       "      <th>text</th>\n",
       "      <th>toxic</th>\n",
       "      <th>lemm_text</th>\n",
       "    </tr>\n",
       "  </thead>\n",
       "  <tbody>\n",
       "    <tr>\n",
       "      <th>0</th>\n",
       "      <td>Explanation\\nWhy the edits made under my usern...</td>\n",
       "      <td>0</td>\n",
       "      <td>Explanation Why the edits make under my userna...</td>\n",
       "    </tr>\n",
       "    <tr>\n",
       "      <th>1</th>\n",
       "      <td>D'aww! He matches this background colour I'm s...</td>\n",
       "      <td>0</td>\n",
       "      <td>D'aww He match this background colour I 'm see...</td>\n",
       "    </tr>\n",
       "    <tr>\n",
       "      <th>2</th>\n",
       "      <td>Hey man, I'm really not trying to edit war. It...</td>\n",
       "      <td>0</td>\n",
       "      <td>Hey man I 'm really not try to edit war It 's ...</td>\n",
       "    </tr>\n",
       "    <tr>\n",
       "      <th>3</th>\n",
       "      <td>\"\\nMore\\nI can't make any real suggestions on ...</td>\n",
       "      <td>0</td>\n",
       "      <td>More I ca n't make any real suggestion on impr...</td>\n",
       "    </tr>\n",
       "    <tr>\n",
       "      <th>4</th>\n",
       "      <td>You, sir, are my hero. Any chance you remember...</td>\n",
       "      <td>0</td>\n",
       "      <td>You sir be my hero Any chance you remember wha...</td>\n",
       "    </tr>\n",
       "  </tbody>\n",
       "</table>\n",
       "</div>"
      ],
      "text/plain": [
       "                                                text  toxic  \\\n",
       "0  Explanation\\nWhy the edits made under my usern...      0   \n",
       "1  D'aww! He matches this background colour I'm s...      0   \n",
       "2  Hey man, I'm really not trying to edit war. It...      0   \n",
       "3  \"\\nMore\\nI can't make any real suggestions on ...      0   \n",
       "4  You, sir, are my hero. Any chance you remember...      0   \n",
       "\n",
       "                                           lemm_text  \n",
       "0  Explanation Why the edits make under my userna...  \n",
       "1  D'aww He match this background colour I 'm see...  \n",
       "2  Hey man I 'm really not try to edit war It 's ...  \n",
       "3  More I ca n't make any real suggestion on impr...  \n",
       "4  You sir be my hero Any chance you remember wha...  "
      ]
     },
     "execution_count": 22,
     "metadata": {},
     "output_type": "execute_result"
    }
   ],
   "source": [
    "def get_wordnet_pos(word):\n",
    "    tag = nltk.pos_tag([word])[0][1][0].upper()\n",
    "    tag_dict = {\"J\": wordnet.ADJ,\n",
    "                \"N\": wordnet.NOUN,\n",
    "                \"V\": wordnet.VERB,\n",
    "                \"R\": wordnet.ADV}\n",
    "    return tag_dict.get(tag, wordnet.NOUN)\n",
    "\n",
    "lemmatizer = WordNetLemmatizer()\n",
    "\n",
    "def lemmatize_text(text):\n",
    "    word_list = nltk.word_tokenize((text))\n",
    "    \n",
    "    return ' '.join([lemmatizer.lemmatize(w, get_wordnet_pos(w)) for w in word_list])\n",
    "\n",
    "data['lemm_text'] = data['lemm_text'].apply(lemmatize_text)\n",
    "data.head()\n"
   ]
  },
  {
   "cell_type": "markdown",
   "metadata": {},
   "source": [
    "Разобьем данные на три выборки."
   ]
  },
  {
   "cell_type": "code",
   "execution_count": 23,
   "metadata": {},
   "outputs": [],
   "source": [
    "features = data['lemm_text'].values\n",
    "target = data['toxic'].values\n",
    "\n",
    "train_valid_features, test_features, train_valid_target, test_target = train_test_split(features, target, test_size=0.2, random_state=12345)"
   ]
  },
  {
   "cell_type": "code",
   "execution_count": 24,
   "metadata": {},
   "outputs": [],
   "source": [
    "train_features, valid_features, train_target, valid_target = train_test_split(train_valid_features, train_valid_target, test_size=0.25, random_state=12345)"
   ]
  },
  {
   "cell_type": "markdown",
   "metadata": {},
   "source": [
    "Сделаем векторизацию текста"
   ]
  },
  {
   "cell_type": "code",
   "execution_count": 25,
   "metadata": {},
   "outputs": [],
   "source": [
    "stopwordss = list(set(stopwords.words('english')))\n",
    "\n",
    "count_tf_idf = TfidfVectorizer(stop_words = stopwordss)\n",
    "train_features = count_tf_idf.fit_transform(train_features)\n",
    "test_features = count_tf_idf.transform(test_features)\n",
    "valid_features = count_tf_idf.transform(valid_features)\n"
   ]
  },
  {
   "cell_type": "markdown",
   "metadata": {},
   "source": [
    "## Обучение"
   ]
  },
  {
   "cell_type": "markdown",
   "metadata": {},
   "source": [
    "### Логистическая регрессия"
   ]
  },
  {
   "cell_type": "code",
   "execution_count": 26,
   "metadata": {},
   "outputs": [
    {
     "name": "stdout",
     "output_type": "stream",
     "text": [
      "Лучшие параметры модели: {'C': 10, 'class_weight': 'balanced', 'max_iter': 50}\n",
      "\n",
      "F1: 0.7573909608656693\n",
      "CPU times: total: 45.4 s\n",
      "Wall time: 41 s\n"
     ]
    }
   ],
   "source": [
    "%%time\n",
    "lr_model = LogisticRegression()\n",
    "hyperparams = [{'C':(0, 10, 0.5),   \n",
    "                'class_weight':['balanced'],\n",
    "                'max_iter': (50, 200, 50)}]\n",
    "clf = GridSearchCV(lr_model, hyperparams, scoring='f1',cv=3)\n",
    "clf.fit(train_features, train_target)\n",
    "print(\"Лучшие параметры модели:\", clf.best_params_)\n",
    "print()\n",
    "print('F1:', clf.best_score_)"
   ]
  },
  {
   "cell_type": "code",
   "execution_count": 27,
   "metadata": {},
   "outputs": [
    {
     "name": "stdout",
     "output_type": "stream",
     "text": [
      "F1 на валидационных данных 0.7502165752237944\n"
     ]
    }
   ],
   "source": [
    "lr_model = LogisticRegression(C=10, class_weight='balanced', max_iter=200).fit(train_features, train_target)\n",
    "pred_lr = lr_model.predict(valid_features)\n",
    "print('F1 на валидационных данных', f1_score(valid_target, pred_lr))\n"
   ]
  },
  {
   "cell_type": "markdown",
   "metadata": {},
   "source": [
    "### Классификатор CatBoost"
   ]
  },
  {
   "cell_type": "code",
   "execution_count": 28,
   "metadata": {},
   "outputs": [
    {
     "name": "stdout",
     "output_type": "stream",
     "text": [
      "0:\tlearn: 0.3750779\ttotal: 544ms\tremaining: 26.7s\n",
      "10:\tlearn: 0.4785947\ttotal: 4.49s\tremaining: 15.9s\n",
      "20:\tlearn: 0.5104297\ttotal: 8.42s\tremaining: 11.6s\n",
      "30:\tlearn: 0.5387190\ttotal: 12.3s\tremaining: 7.54s\n",
      "40:\tlearn: 0.5623971\ttotal: 16.3s\tremaining: 3.57s\n",
      "49:\tlearn: 0.5772103\ttotal: 19.5s\tremaining: 0us\n",
      "0:\tlearn: 0.3500889\ttotal: 363ms\tremaining: 17.8s\n",
      "10:\tlearn: 0.4799814\ttotal: 3.61s\tremaining: 12.8s\n",
      "20:\tlearn: 0.4972998\ttotal: 6.91s\tremaining: 9.54s\n",
      "30:\tlearn: 0.5328418\ttotal: 10.1s\tremaining: 6.2s\n",
      "40:\tlearn: 0.5467212\ttotal: 13.5s\tremaining: 2.97s\n",
      "49:\tlearn: 0.5752566\ttotal: 16.7s\tremaining: 0us\n",
      "0:\tlearn: 0.4068293\ttotal: 513ms\tremaining: 25.2s\n",
      "10:\tlearn: 0.4923183\ttotal: 4.38s\tremaining: 15.5s\n",
      "20:\tlearn: 0.5179678\ttotal: 8.08s\tremaining: 11.2s\n",
      "30:\tlearn: 0.5430185\ttotal: 11.6s\tremaining: 7.12s\n",
      "40:\tlearn: 0.5567010\ttotal: 15.1s\tremaining: 3.32s\n",
      "49:\tlearn: 0.5663986\ttotal: 18.3s\tremaining: 0us\n",
      "0:\tlearn: 0.3322610\ttotal: 68.7ms\tremaining: 3.36s\n",
      "10:\tlearn: 0.3529113\ttotal: 746ms\tremaining: 2.65s\n",
      "20:\tlearn: 0.3544786\ttotal: 1.42s\tremaining: 1.97s\n",
      "30:\tlearn: 0.3703518\ttotal: 2.12s\tremaining: 1.3s\n",
      "40:\tlearn: 0.3800250\ttotal: 2.77s\tremaining: 609ms\n",
      "49:\tlearn: 0.3963919\ttotal: 3.37s\tremaining: 0us\n",
      "0:\tlearn: 0.3502538\ttotal: 69.1ms\tremaining: 3.38s\n",
      "10:\tlearn: 0.3521662\ttotal: 735ms\tremaining: 2.6s\n",
      "20:\tlearn: 0.3595307\ttotal: 1.66s\tremaining: 2.29s\n",
      "30:\tlearn: 0.3753278\ttotal: 2.46s\tremaining: 1.51s\n",
      "40:\tlearn: 0.3878082\ttotal: 3.24s\tremaining: 712ms\n",
      "49:\tlearn: 0.3973396\ttotal: 3.95s\tremaining: 0us\n",
      "0:\tlearn: 0.3526729\ttotal: 88.2ms\tremaining: 4.32s\n",
      "10:\tlearn: 0.3561228\ttotal: 996ms\tremaining: 3.53s\n",
      "20:\tlearn: 0.3602876\ttotal: 1.74s\tremaining: 2.4s\n",
      "30:\tlearn: 0.3743904\ttotal: 2.54s\tremaining: 1.55s\n",
      "40:\tlearn: 0.3889508\ttotal: 3.39s\tremaining: 744ms\n",
      "49:\tlearn: 0.3978322\ttotal: 4.11s\tremaining: 0us\n"
     ]
    },
    {
     "name": "stderr",
     "output_type": "stream",
     "text": [
      "learning rate is greater than 1. You probably need to decrease learning rate.\n",
      "learning rate is greater than 1. You probably need to decrease learning rate.\n",
      "learning rate is greater than 1. You probably need to decrease learning rate.\n"
     ]
    },
    {
     "name": "stdout",
     "output_type": "stream",
     "text": [
      "0:\tlearn: 0.3750779\ttotal: 367ms\tremaining: 18s\n"
     ]
    },
    {
     "name": "stderr",
     "output_type": "stream",
     "text": [
      "Training has stopped (degenerate solution on iteration 4, probably too small l2-regularization, try to increase it)\n",
      "learning rate is greater than 1. You probably need to decrease learning rate.\n",
      "learning rate is greater than 1. You probably need to decrease learning rate.\n",
      "learning rate is greater than 1. You probably need to decrease learning rate.\n"
     ]
    },
    {
     "name": "stdout",
     "output_type": "stream",
     "text": [
      "0:\tlearn: 0.3500889\ttotal: 343ms\tremaining: 16.8s\n"
     ]
    },
    {
     "name": "stderr",
     "output_type": "stream",
     "text": [
      "learning rate is greater than 1. You probably need to decrease learning rate.\n",
      "learning rate is greater than 1. You probably need to decrease learning rate.\n",
      "learning rate is greater than 1. You probably need to decrease learning rate.\n"
     ]
    },
    {
     "name": "stdout",
     "output_type": "stream",
     "text": [
      "0:\tlearn: 0.4068293\ttotal: 376ms\tremaining: 18.4s\n"
     ]
    },
    {
     "name": "stderr",
     "output_type": "stream",
     "text": [
      "learning rate is greater than 1. You probably need to decrease learning rate.\n",
      "learning rate is greater than 1. You probably need to decrease learning rate.\n",
      "learning rate is greater than 1. You probably need to decrease learning rate.\n"
     ]
    },
    {
     "name": "stdout",
     "output_type": "stream",
     "text": [
      "0:\tlearn: 0.3322610\ttotal: 78.5ms\tremaining: 3.85s\n"
     ]
    },
    {
     "name": "stderr",
     "output_type": "stream",
     "text": [
      "learning rate is greater than 1. You probably need to decrease learning rate.\n",
      "learning rate is greater than 1. You probably need to decrease learning rate.\n",
      "learning rate is greater than 1. You probably need to decrease learning rate.\n"
     ]
    },
    {
     "name": "stdout",
     "output_type": "stream",
     "text": [
      "0:\tlearn: 0.3502538\ttotal: 131ms\tremaining: 6.4s\n"
     ]
    },
    {
     "name": "stderr",
     "output_type": "stream",
     "text": [
      "learning rate is greater than 1. You probably need to decrease learning rate.\n",
      "learning rate is greater than 1. You probably need to decrease learning rate.\n",
      "learning rate is greater than 1. You probably need to decrease learning rate.\n"
     ]
    },
    {
     "name": "stdout",
     "output_type": "stream",
     "text": [
      "0:\tlearn: 0.3526729\ttotal: 85.8ms\tremaining: 4.21s\n",
      "0:\tlearn: 0.3750779\ttotal: 441ms\tremaining: 21.6s\n",
      "10:\tlearn: 0.4785947\ttotal: 4.52s\tremaining: 16s\n",
      "20:\tlearn: 0.5104297\ttotal: 8.3s\tremaining: 11.5s\n",
      "30:\tlearn: 0.5387190\ttotal: 12.6s\tremaining: 7.71s\n",
      "40:\tlearn: 0.5623971\ttotal: 16.5s\tremaining: 3.63s\n",
      "49:\tlearn: 0.5772103\ttotal: 19.8s\tremaining: 0us\n",
      "0:\tlearn: 0.3500889\ttotal: 443ms\tremaining: 21.7s\n",
      "10:\tlearn: 0.4799814\ttotal: 5.03s\tremaining: 17.8s\n",
      "20:\tlearn: 0.4972998\ttotal: 9.49s\tremaining: 13.1s\n",
      "30:\tlearn: 0.5328418\ttotal: 13.7s\tremaining: 8.4s\n",
      "40:\tlearn: 0.5467212\ttotal: 18.3s\tremaining: 4.01s\n",
      "49:\tlearn: 0.5752566\ttotal: 21.9s\tremaining: 0us\n",
      "0:\tlearn: 0.4068293\ttotal: 403ms\tremaining: 19.7s\n",
      "10:\tlearn: 0.4923183\ttotal: 4.31s\tremaining: 15.3s\n",
      "20:\tlearn: 0.5179678\ttotal: 8.12s\tremaining: 11.2s\n",
      "30:\tlearn: 0.5430185\ttotal: 11.9s\tremaining: 7.32s\n",
      "40:\tlearn: 0.5567010\ttotal: 15.7s\tremaining: 3.46s\n",
      "49:\tlearn: 0.5663986\ttotal: 19.2s\tremaining: 0us\n",
      "0:\tlearn: 0.3322610\ttotal: 72ms\tremaining: 3.52s\n",
      "10:\tlearn: 0.3529113\ttotal: 773ms\tremaining: 2.74s\n",
      "20:\tlearn: 0.3544786\ttotal: 1.48s\tremaining: 2.04s\n",
      "30:\tlearn: 0.3703518\ttotal: 2.17s\tremaining: 1.33s\n",
      "40:\tlearn: 0.3800250\ttotal: 2.9s\tremaining: 636ms\n",
      "49:\tlearn: 0.3963919\ttotal: 3.54s\tremaining: 0us\n",
      "0:\tlearn: 0.3502538\ttotal: 76.4ms\tremaining: 3.74s\n",
      "10:\tlearn: 0.3521662\ttotal: 785ms\tremaining: 2.78s\n",
      "20:\tlearn: 0.3595307\ttotal: 1.49s\tremaining: 2.05s\n",
      "30:\tlearn: 0.3753278\ttotal: 2.2s\tremaining: 1.35s\n",
      "40:\tlearn: 0.3878082\ttotal: 2.9s\tremaining: 637ms\n",
      "49:\tlearn: 0.3973396\ttotal: 3.64s\tremaining: 0us\n",
      "0:\tlearn: 0.3526729\ttotal: 72.1ms\tremaining: 3.53s\n",
      "10:\tlearn: 0.3561228\ttotal: 787ms\tremaining: 2.79s\n",
      "20:\tlearn: 0.3602876\ttotal: 1.51s\tremaining: 2.08s\n",
      "30:\tlearn: 0.3743904\ttotal: 2.21s\tremaining: 1.35s\n",
      "40:\tlearn: 0.3889508\ttotal: 2.92s\tremaining: 641ms\n",
      "49:\tlearn: 0.3978322\ttotal: 3.55s\tremaining: 0us\n",
      "0:\tlearn: 0.3750779\ttotal: 424ms\tremaining: 1m 24s\n",
      "10:\tlearn: 0.4785947\ttotal: 4.29s\tremaining: 1m 13s\n",
      "20:\tlearn: 0.5104297\ttotal: 8.18s\tremaining: 1m 9s\n",
      "30:\tlearn: 0.5387190\ttotal: 12.1s\tremaining: 1m 5s\n",
      "40:\tlearn: 0.5623971\ttotal: 15.9s\tremaining: 1m 1s\n",
      "50:\tlearn: 0.5799698\ttotal: 19.7s\tremaining: 57.6s\n",
      "60:\tlearn: 0.5987437\ttotal: 23.6s\tremaining: 53.7s\n",
      "70:\tlearn: 0.6094756\ttotal: 27.3s\tremaining: 49.6s\n",
      "80:\tlearn: 0.6164326\ttotal: 31.6s\tremaining: 46.4s\n",
      "90:\tlearn: 0.6286425\ttotal: 35.9s\tremaining: 43s\n",
      "100:\tlearn: 0.6411257\ttotal: 39.8s\tremaining: 39s\n",
      "110:\tlearn: 0.6481028\ttotal: 43.7s\tremaining: 35s\n",
      "120:\tlearn: 0.6469267\ttotal: 47.4s\tremaining: 31s\n",
      "130:\tlearn: 0.6585834\ttotal: 51.2s\tremaining: 27s\n",
      "140:\tlearn: 0.6629100\ttotal: 55.1s\tremaining: 23.1s\n",
      "150:\tlearn: 0.6713972\ttotal: 58.9s\tremaining: 19.1s\n",
      "160:\tlearn: 0.6766902\ttotal: 1m 2s\tremaining: 15.2s\n",
      "170:\tlearn: 0.6825067\ttotal: 1m 6s\tremaining: 11.3s\n",
      "180:\tlearn: 0.6842573\ttotal: 1m 10s\tremaining: 7.37s\n",
      "190:\tlearn: 0.6894379\ttotal: 1m 14s\tremaining: 3.49s\n",
      "199:\tlearn: 0.6920204\ttotal: 1m 17s\tremaining: 0us\n",
      "0:\tlearn: 0.3500889\ttotal: 401ms\tremaining: 1m 19s\n",
      "10:\tlearn: 0.4799814\ttotal: 4.3s\tremaining: 1m 13s\n",
      "20:\tlearn: 0.4972998\ttotal: 8.16s\tremaining: 1m 9s\n",
      "30:\tlearn: 0.5328418\ttotal: 11.9s\tremaining: 1m 5s\n",
      "40:\tlearn: 0.5467212\ttotal: 15.7s\tremaining: 1m\n",
      "50:\tlearn: 0.5758099\ttotal: 19.4s\tremaining: 56.7s\n",
      "60:\tlearn: 0.5936034\ttotal: 23.1s\tremaining: 52.7s\n",
      "70:\tlearn: 0.6008056\ttotal: 26.8s\tremaining: 48.8s\n",
      "80:\tlearn: 0.6102408\ttotal: 30.5s\tremaining: 44.8s\n",
      "90:\tlearn: 0.6144490\ttotal: 34.3s\tremaining: 41.1s\n",
      "100:\tlearn: 0.6309155\ttotal: 38s\tremaining: 37.3s\n",
      "110:\tlearn: 0.6371299\ttotal: 41.9s\tremaining: 33.6s\n",
      "120:\tlearn: 0.6414669\ttotal: 46s\tremaining: 30.1s\n",
      "130:\tlearn: 0.6493797\ttotal: 50.7s\tremaining: 26.7s\n",
      "140:\tlearn: 0.6602880\ttotal: 54.7s\tremaining: 22.9s\n",
      "150:\tlearn: 0.6685988\ttotal: 58.4s\tremaining: 18.9s\n",
      "160:\tlearn: 0.6790919\ttotal: 1m 2s\tremaining: 15s\n",
      "170:\tlearn: 0.6784438\ttotal: 1m 5s\tremaining: 11.1s\n",
      "180:\tlearn: 0.6864407\ttotal: 1m 9s\tremaining: 7.27s\n",
      "190:\tlearn: 0.6910090\ttotal: 1m 12s\tremaining: 3.44s\n",
      "199:\tlearn: 0.6928732\ttotal: 1m 16s\tremaining: 0us\n",
      "0:\tlearn: 0.4068293\ttotal: 415ms\tremaining: 1m 22s\n",
      "10:\tlearn: 0.4923183\ttotal: 4.48s\tremaining: 1m 17s\n",
      "20:\tlearn: 0.5179678\ttotal: 9.13s\tremaining: 1m 17s\n",
      "30:\tlearn: 0.5430185\ttotal: 13.2s\tremaining: 1m 11s\n",
      "40:\tlearn: 0.5567010\ttotal: 17s\tremaining: 1m 5s\n",
      "50:\tlearn: 0.5668624\ttotal: 20.7s\tremaining: 1m\n",
      "60:\tlearn: 0.5965360\ttotal: 24.4s\tremaining: 55.5s\n",
      "70:\tlearn: 0.6107898\ttotal: 28.1s\tremaining: 51s\n",
      "80:\tlearn: 0.6182728\ttotal: 31.7s\tremaining: 46.6s\n",
      "90:\tlearn: 0.6267358\ttotal: 35.4s\tremaining: 42.4s\n",
      "100:\tlearn: 0.6436523\ttotal: 39s\tremaining: 38.2s\n",
      "110:\tlearn: 0.6506856\ttotal: 42.7s\tremaining: 34.2s\n",
      "120:\tlearn: 0.6534333\ttotal: 46.3s\tremaining: 30.2s\n",
      "130:\tlearn: 0.6598811\ttotal: 50s\tremaining: 26.3s\n",
      "140:\tlearn: 0.6684642\ttotal: 53.8s\tremaining: 22.5s\n",
      "150:\tlearn: 0.6746150\ttotal: 57.4s\tremaining: 18.6s\n",
      "160:\tlearn: 0.6808384\ttotal: 1m\tremaining: 14.8s\n",
      "170:\tlearn: 0.6872663\ttotal: 1m 4s\tremaining: 11s\n",
      "180:\tlearn: 0.6919014\ttotal: 1m 8s\tremaining: 7.16s\n",
      "190:\tlearn: 0.6968370\ttotal: 1m 11s\tremaining: 3.38s\n",
      "199:\tlearn: 0.7003785\ttotal: 1m 15s\tremaining: 0us\n",
      "0:\tlearn: 0.3322610\ttotal: 73.5ms\tremaining: 14.6s\n",
      "10:\tlearn: 0.3529113\ttotal: 747ms\tremaining: 12.8s\n",
      "20:\tlearn: 0.3544786\ttotal: 1.41s\tremaining: 12s\n",
      "30:\tlearn: 0.3703518\ttotal: 2.08s\tremaining: 11.4s\n",
      "40:\tlearn: 0.3800250\ttotal: 2.77s\tremaining: 10.7s\n",
      "50:\tlearn: 0.3954006\ttotal: 3.45s\tremaining: 10.1s\n",
      "60:\tlearn: 0.4050135\ttotal: 4.13s\tremaining: 9.42s\n",
      "70:\tlearn: 0.4117431\ttotal: 4.83s\tremaining: 8.77s\n",
      "80:\tlearn: 0.4205278\ttotal: 5.51s\tremaining: 8.09s\n",
      "90:\tlearn: 0.4279835\ttotal: 6.18s\tremaining: 7.41s\n",
      "100:\tlearn: 0.4532605\ttotal: 6.87s\tremaining: 6.73s\n",
      "110:\tlearn: 0.4574544\ttotal: 7.55s\tremaining: 6.06s\n",
      "120:\tlearn: 0.4623199\ttotal: 8.24s\tremaining: 5.38s\n",
      "130:\tlearn: 0.4882346\ttotal: 8.92s\tremaining: 4.7s\n",
      "140:\tlearn: 0.4917351\ttotal: 9.6s\tremaining: 4.02s\n",
      "150:\tlearn: 0.5177722\ttotal: 10.3s\tremaining: 3.33s\n",
      "160:\tlearn: 0.5212285\ttotal: 10.9s\tremaining: 2.65s\n",
      "170:\tlearn: 0.5235036\ttotal: 11.6s\tremaining: 1.97s\n",
      "180:\tlearn: 0.5273688\ttotal: 12.3s\tremaining: 1.29s\n",
      "190:\tlearn: 0.5307313\ttotal: 13s\tremaining: 613ms\n",
      "199:\tlearn: 0.5361493\ttotal: 13.6s\tremaining: 0us\n",
      "0:\tlearn: 0.3502538\ttotal: 71.4ms\tremaining: 14.2s\n",
      "10:\tlearn: 0.3521662\ttotal: 745ms\tremaining: 12.8s\n",
      "20:\tlearn: 0.3595307\ttotal: 1.42s\tremaining: 12.1s\n",
      "30:\tlearn: 0.3753278\ttotal: 2.09s\tremaining: 11.4s\n",
      "40:\tlearn: 0.3878082\ttotal: 2.79s\tremaining: 10.8s\n",
      "50:\tlearn: 0.3985231\ttotal: 3.51s\tremaining: 10.3s\n",
      "60:\tlearn: 0.4055379\ttotal: 4.21s\tremaining: 9.6s\n",
      "70:\tlearn: 0.4150530\ttotal: 4.89s\tremaining: 8.89s\n",
      "80:\tlearn: 0.4216400\ttotal: 5.6s\tremaining: 8.23s\n",
      "90:\tlearn: 0.4274496\ttotal: 6.28s\tremaining: 7.53s\n",
      "100:\tlearn: 0.4330244\ttotal: 6.95s\tremaining: 6.82s\n",
      "110:\tlearn: 0.4823899\ttotal: 7.63s\tremaining: 6.12s\n",
      "120:\tlearn: 0.4887140\ttotal: 8.3s\tremaining: 5.42s\n",
      "130:\tlearn: 0.4918638\ttotal: 8.98s\tremaining: 4.73s\n",
      "140:\tlearn: 0.4972985\ttotal: 9.65s\tremaining: 4.04s\n",
      "150:\tlearn: 0.5016615\ttotal: 10.3s\tremaining: 3.35s\n",
      "160:\tlearn: 0.5041152\ttotal: 11s\tremaining: 2.67s\n",
      "170:\tlearn: 0.5075853\ttotal: 11.7s\tremaining: 1.98s\n",
      "180:\tlearn: 0.5137157\ttotal: 12.4s\tremaining: 1.3s\n",
      "190:\tlearn: 0.5171790\ttotal: 13s\tremaining: 614ms\n",
      "199:\tlearn: 0.5326476\ttotal: 13.6s\tremaining: 0us\n",
      "0:\tlearn: 0.3526729\ttotal: 68.7ms\tremaining: 13.7s\n",
      "10:\tlearn: 0.3561228\ttotal: 749ms\tremaining: 12.9s\n",
      "20:\tlearn: 0.3602876\ttotal: 1.43s\tremaining: 12.2s\n",
      "30:\tlearn: 0.3743904\ttotal: 2.16s\tremaining: 11.8s\n",
      "40:\tlearn: 0.3889508\ttotal: 3.09s\tremaining: 12s\n",
      "50:\tlearn: 0.3978322\ttotal: 3.91s\tremaining: 11.4s\n",
      "60:\tlearn: 0.4050012\ttotal: 4.83s\tremaining: 11s\n",
      "70:\tlearn: 0.4137006\ttotal: 5.63s\tremaining: 10.2s\n",
      "80:\tlearn: 0.4201966\ttotal: 6.57s\tremaining: 9.64s\n",
      "90:\tlearn: 0.4259640\ttotal: 7.47s\tremaining: 8.95s\n",
      "100:\tlearn: 0.4329525\ttotal: 8.26s\tremaining: 8.1s\n",
      "110:\tlearn: 0.4387499\ttotal: 9.01s\tremaining: 7.23s\n",
      "120:\tlearn: 0.5000574\ttotal: 9.74s\tremaining: 6.36s\n",
      "130:\tlearn: 0.4892020\ttotal: 10.5s\tremaining: 5.51s\n",
      "140:\tlearn: 0.5145576\ttotal: 11.2s\tremaining: 4.69s\n",
      "150:\tlearn: 0.5166836\ttotal: 11.9s\tremaining: 3.88s\n",
      "160:\tlearn: 0.5225712\ttotal: 12.7s\tremaining: 3.08s\n",
      "170:\tlearn: 0.5257720\ttotal: 13.4s\tremaining: 2.27s\n",
      "180:\tlearn: 0.5281453\ttotal: 14.1s\tremaining: 1.48s\n",
      "190:\tlearn: 0.5317673\ttotal: 14.8s\tremaining: 700ms\n",
      "199:\tlearn: 0.5324095\ttotal: 15.5s\tremaining: 0us\n"
     ]
    },
    {
     "name": "stderr",
     "output_type": "stream",
     "text": [
      "learning rate is greater than 1. You probably need to decrease learning rate.\n",
      "learning rate is greater than 1. You probably need to decrease learning rate.\n",
      "learning rate is greater than 1. You probably need to decrease learning rate.\n"
     ]
    },
    {
     "name": "stdout",
     "output_type": "stream",
     "text": [
      "0:\tlearn: 0.3750779\ttotal: 411ms\tremaining: 1m 21s\n"
     ]
    },
    {
     "name": "stderr",
     "output_type": "stream",
     "text": [
      "Training has stopped (degenerate solution on iteration 4, probably too small l2-regularization, try to increase it)\n",
      "learning rate is greater than 1. You probably need to decrease learning rate.\n",
      "learning rate is greater than 1. You probably need to decrease learning rate.\n",
      "learning rate is greater than 1. You probably need to decrease learning rate.\n"
     ]
    },
    {
     "name": "stdout",
     "output_type": "stream",
     "text": [
      "0:\tlearn: 0.3500889\ttotal: 477ms\tremaining: 1m 34s\n"
     ]
    },
    {
     "name": "stderr",
     "output_type": "stream",
     "text": [
      "learning rate is greater than 1. You probably need to decrease learning rate.\n",
      "learning rate is greater than 1. You probably need to decrease learning rate.\n",
      "learning rate is greater than 1. You probably need to decrease learning rate.\n"
     ]
    },
    {
     "name": "stdout",
     "output_type": "stream",
     "text": [
      "0:\tlearn: 0.4068293\ttotal: 417ms\tremaining: 1m 23s\n"
     ]
    },
    {
     "name": "stderr",
     "output_type": "stream",
     "text": [
      "learning rate is greater than 1. You probably need to decrease learning rate.\n",
      "learning rate is greater than 1. You probably need to decrease learning rate.\n",
      "learning rate is greater than 1. You probably need to decrease learning rate.\n"
     ]
    },
    {
     "name": "stdout",
     "output_type": "stream",
     "text": [
      "0:\tlearn: 0.3322610\ttotal: 74.3ms\tremaining: 14.8s\n"
     ]
    },
    {
     "name": "stderr",
     "output_type": "stream",
     "text": [
      "learning rate is greater than 1. You probably need to decrease learning rate.\n",
      "learning rate is greater than 1. You probably need to decrease learning rate.\n",
      "learning rate is greater than 1. You probably need to decrease learning rate.\n"
     ]
    },
    {
     "name": "stdout",
     "output_type": "stream",
     "text": [
      "0:\tlearn: 0.3502538\ttotal: 73.4ms\tremaining: 14.6s\n"
     ]
    },
    {
     "name": "stderr",
     "output_type": "stream",
     "text": [
      "learning rate is greater than 1. You probably need to decrease learning rate.\n",
      "learning rate is greater than 1. You probably need to decrease learning rate.\n",
      "learning rate is greater than 1. You probably need to decrease learning rate.\n"
     ]
    },
    {
     "name": "stdout",
     "output_type": "stream",
     "text": [
      "0:\tlearn: 0.3526729\ttotal: 77.2ms\tremaining: 15.4s\n",
      "0:\tlearn: 0.3750779\ttotal: 414ms\tremaining: 1m 22s\n",
      "10:\tlearn: 0.4785947\ttotal: 4.35s\tremaining: 1m 14s\n",
      "20:\tlearn: 0.5104297\ttotal: 8.15s\tremaining: 1m 9s\n",
      "30:\tlearn: 0.5387190\ttotal: 12s\tremaining: 1m 5s\n",
      "40:\tlearn: 0.5623971\ttotal: 15.8s\tremaining: 1m 1s\n",
      "50:\tlearn: 0.5799698\ttotal: 19.7s\tremaining: 57.4s\n",
      "60:\tlearn: 0.5987437\ttotal: 23.4s\tremaining: 53.4s\n",
      "70:\tlearn: 0.6094756\ttotal: 27.1s\tremaining: 49.3s\n",
      "80:\tlearn: 0.6164326\ttotal: 30.9s\tremaining: 45.4s\n",
      "90:\tlearn: 0.6286425\ttotal: 34.7s\tremaining: 41.6s\n",
      "100:\tlearn: 0.6411257\ttotal: 38.5s\tremaining: 37.7s\n",
      "110:\tlearn: 0.6481028\ttotal: 42.2s\tremaining: 33.8s\n",
      "120:\tlearn: 0.6469267\ttotal: 45.9s\tremaining: 30s\n",
      "130:\tlearn: 0.6585834\ttotal: 49.6s\tremaining: 26.1s\n",
      "140:\tlearn: 0.6629100\ttotal: 53.4s\tremaining: 22.3s\n",
      "150:\tlearn: 0.6713972\ttotal: 57.1s\tremaining: 18.5s\n",
      "160:\tlearn: 0.6766902\ttotal: 1m\tremaining: 14.7s\n",
      "170:\tlearn: 0.6825067\ttotal: 1m 4s\tremaining: 11s\n",
      "180:\tlearn: 0.6842573\ttotal: 1m 8s\tremaining: 7.17s\n",
      "190:\tlearn: 0.6894379\ttotal: 1m 12s\tremaining: 3.4s\n",
      "199:\tlearn: 0.6920204\ttotal: 1m 15s\tremaining: 0us\n",
      "0:\tlearn: 0.3500889\ttotal: 384ms\tremaining: 1m 16s\n",
      "10:\tlearn: 0.4799814\ttotal: 4.19s\tremaining: 1m 12s\n",
      "20:\tlearn: 0.4972998\ttotal: 7.96s\tremaining: 1m 7s\n",
      "30:\tlearn: 0.5328418\ttotal: 11.7s\tremaining: 1m 3s\n",
      "40:\tlearn: 0.5467212\ttotal: 15.5s\tremaining: 1m\n",
      "50:\tlearn: 0.5758099\ttotal: 19.3s\tremaining: 56.3s\n",
      "60:\tlearn: 0.5936034\ttotal: 23.1s\tremaining: 52.7s\n",
      "70:\tlearn: 0.6008056\ttotal: 26.8s\tremaining: 48.7s\n",
      "80:\tlearn: 0.6102408\ttotal: 30.6s\tremaining: 44.9s\n",
      "90:\tlearn: 0.6144490\ttotal: 34.3s\tremaining: 41.1s\n",
      "100:\tlearn: 0.6309155\ttotal: 38s\tremaining: 37.2s\n",
      "110:\tlearn: 0.6371299\ttotal: 41.6s\tremaining: 33.4s\n",
      "120:\tlearn: 0.6414669\ttotal: 45.3s\tremaining: 29.6s\n",
      "130:\tlearn: 0.6493797\ttotal: 48.9s\tremaining: 25.8s\n",
      "140:\tlearn: 0.6602880\ttotal: 52.7s\tremaining: 22s\n",
      "150:\tlearn: 0.6685988\ttotal: 56.5s\tremaining: 18.3s\n",
      "160:\tlearn: 0.6790919\ttotal: 1m\tremaining: 14.6s\n",
      "170:\tlearn: 0.6784438\ttotal: 1m 3s\tremaining: 10.8s\n",
      "180:\tlearn: 0.6864407\ttotal: 1m 7s\tremaining: 7.11s\n",
      "190:\tlearn: 0.6910090\ttotal: 1m 11s\tremaining: 3.36s\n",
      "199:\tlearn: 0.6928732\ttotal: 1m 14s\tremaining: 0us\n",
      "0:\tlearn: 0.4068293\ttotal: 385ms\tremaining: 1m 16s\n",
      "10:\tlearn: 0.4923183\ttotal: 4.13s\tremaining: 1m 10s\n",
      "20:\tlearn: 0.5179678\ttotal: 7.87s\tremaining: 1m 7s\n",
      "30:\tlearn: 0.5430185\ttotal: 11.8s\tremaining: 1m 4s\n",
      "40:\tlearn: 0.5567010\ttotal: 16.1s\tremaining: 1m 2s\n",
      "50:\tlearn: 0.5668624\ttotal: 19.9s\tremaining: 58.2s\n",
      "60:\tlearn: 0.5965360\ttotal: 23.6s\tremaining: 53.8s\n",
      "70:\tlearn: 0.6107898\ttotal: 27.4s\tremaining: 49.7s\n",
      "80:\tlearn: 0.6182728\ttotal: 31.1s\tremaining: 45.7s\n",
      "90:\tlearn: 0.6267358\ttotal: 34.8s\tremaining: 41.7s\n",
      "100:\tlearn: 0.6436523\ttotal: 38.5s\tremaining: 37.7s\n",
      "110:\tlearn: 0.6506856\ttotal: 42.2s\tremaining: 33.8s\n",
      "120:\tlearn: 0.6534333\ttotal: 45.9s\tremaining: 30s\n",
      "130:\tlearn: 0.6598811\ttotal: 49.6s\tremaining: 26.1s\n",
      "140:\tlearn: 0.6684642\ttotal: 53.3s\tremaining: 22.3s\n",
      "150:\tlearn: 0.6746150\ttotal: 57.1s\tremaining: 18.5s\n",
      "160:\tlearn: 0.6808384\ttotal: 1m\tremaining: 14.7s\n",
      "170:\tlearn: 0.6872663\ttotal: 1m 4s\tremaining: 10.9s\n",
      "180:\tlearn: 0.6919014\ttotal: 1m 8s\tremaining: 7.15s\n",
      "190:\tlearn: 0.6968370\ttotal: 1m 11s\tremaining: 3.38s\n",
      "199:\tlearn: 0.7003785\ttotal: 1m 15s\tremaining: 0us\n",
      "0:\tlearn: 0.3322610\ttotal: 69ms\tremaining: 13.7s\n",
      "10:\tlearn: 0.3529113\ttotal: 769ms\tremaining: 13.2s\n",
      "20:\tlearn: 0.3544786\ttotal: 1.55s\tremaining: 13.2s\n",
      "30:\tlearn: 0.3703518\ttotal: 2.26s\tremaining: 12.3s\n",
      "40:\tlearn: 0.3800250\ttotal: 2.99s\tremaining: 11.6s\n",
      "50:\tlearn: 0.3954006\ttotal: 3.68s\tremaining: 10.8s\n",
      "60:\tlearn: 0.4050135\ttotal: 4.39s\tremaining: 10s\n",
      "70:\tlearn: 0.4117431\ttotal: 5.11s\tremaining: 9.28s\n",
      "80:\tlearn: 0.4205278\ttotal: 5.79s\tremaining: 8.5s\n",
      "90:\tlearn: 0.4279835\ttotal: 6.48s\tremaining: 7.76s\n",
      "100:\tlearn: 0.4532605\ttotal: 7.17s\tremaining: 7.03s\n",
      "110:\tlearn: 0.4574544\ttotal: 7.86s\tremaining: 6.3s\n",
      "120:\tlearn: 0.4623199\ttotal: 8.54s\tremaining: 5.57s\n",
      "130:\tlearn: 0.4882346\ttotal: 9.23s\tremaining: 4.86s\n",
      "140:\tlearn: 0.4917351\ttotal: 9.92s\tremaining: 4.15s\n",
      "150:\tlearn: 0.5177722\ttotal: 10.6s\tremaining: 3.44s\n",
      "160:\tlearn: 0.5212285\ttotal: 11.3s\tremaining: 2.73s\n",
      "170:\tlearn: 0.5235036\ttotal: 12s\tremaining: 2.03s\n",
      "180:\tlearn: 0.5273688\ttotal: 12.7s\tremaining: 1.33s\n",
      "190:\tlearn: 0.5307313\ttotal: 13.4s\tremaining: 631ms\n",
      "199:\tlearn: 0.5361493\ttotal: 14s\tremaining: 0us\n",
      "0:\tlearn: 0.3502538\ttotal: 71.4ms\tremaining: 14.2s\n",
      "10:\tlearn: 0.3521662\ttotal: 767ms\tremaining: 13.2s\n",
      "20:\tlearn: 0.3595307\ttotal: 1.46s\tremaining: 12.4s\n",
      "30:\tlearn: 0.3753278\ttotal: 2.15s\tremaining: 11.7s\n",
      "40:\tlearn: 0.3878082\ttotal: 2.85s\tremaining: 11s\n",
      "50:\tlearn: 0.3985231\ttotal: 3.55s\tremaining: 10.4s\n",
      "60:\tlearn: 0.4055379\ttotal: 4.25s\tremaining: 9.68s\n",
      "70:\tlearn: 0.4150530\ttotal: 4.94s\tremaining: 8.98s\n",
      "80:\tlearn: 0.4216400\ttotal: 5.64s\tremaining: 8.28s\n",
      "90:\tlearn: 0.4274496\ttotal: 6.34s\tremaining: 7.59s\n",
      "100:\tlearn: 0.4330244\ttotal: 7.04s\tremaining: 6.9s\n",
      "110:\tlearn: 0.4823899\ttotal: 7.75s\tremaining: 6.22s\n",
      "120:\tlearn: 0.4887140\ttotal: 8.45s\tremaining: 5.51s\n",
      "130:\tlearn: 0.4918638\ttotal: 9.13s\tremaining: 4.81s\n",
      "140:\tlearn: 0.4972985\ttotal: 9.82s\tremaining: 4.11s\n",
      "150:\tlearn: 0.5016615\ttotal: 10.5s\tremaining: 3.41s\n",
      "160:\tlearn: 0.5041152\ttotal: 11.2s\tremaining: 2.72s\n",
      "170:\tlearn: 0.5075853\ttotal: 11.9s\tremaining: 2.02s\n",
      "180:\tlearn: 0.5137157\ttotal: 12.6s\tremaining: 1.32s\n",
      "190:\tlearn: 0.5171790\ttotal: 13.3s\tremaining: 626ms\n",
      "199:\tlearn: 0.5326476\ttotal: 13.9s\tremaining: 0us\n",
      "0:\tlearn: 0.3526729\ttotal: 74.9ms\tremaining: 14.9s\n",
      "10:\tlearn: 0.3561228\ttotal: 761ms\tremaining: 13.1s\n",
      "20:\tlearn: 0.3602876\ttotal: 1.46s\tremaining: 12.5s\n",
      "30:\tlearn: 0.3743904\ttotal: 2.16s\tremaining: 11.8s\n",
      "40:\tlearn: 0.3889508\ttotal: 2.9s\tremaining: 11.3s\n",
      "50:\tlearn: 0.3978322\ttotal: 3.6s\tremaining: 10.5s\n",
      "60:\tlearn: 0.4050012\ttotal: 4.29s\tremaining: 9.78s\n",
      "70:\tlearn: 0.4137006\ttotal: 4.98s\tremaining: 9.05s\n",
      "80:\tlearn: 0.4201966\ttotal: 5.67s\tremaining: 8.33s\n",
      "90:\tlearn: 0.4259640\ttotal: 6.37s\tremaining: 7.63s\n",
      "100:\tlearn: 0.4329525\ttotal: 7.07s\tremaining: 6.93s\n",
      "110:\tlearn: 0.4387499\ttotal: 7.76s\tremaining: 6.22s\n",
      "120:\tlearn: 0.5000574\ttotal: 8.46s\tremaining: 5.52s\n",
      "130:\tlearn: 0.4892020\ttotal: 9.15s\tremaining: 4.82s\n",
      "140:\tlearn: 0.5145576\ttotal: 9.87s\tremaining: 4.13s\n",
      "150:\tlearn: 0.5166836\ttotal: 10.6s\tremaining: 3.43s\n",
      "160:\tlearn: 0.5225712\ttotal: 11.3s\tremaining: 2.73s\n",
      "170:\tlearn: 0.5257720\ttotal: 11.9s\tremaining: 2.02s\n",
      "180:\tlearn: 0.5281453\ttotal: 12.7s\tremaining: 1.33s\n",
      "190:\tlearn: 0.5317673\ttotal: 13.3s\tremaining: 629ms\n",
      "199:\tlearn: 0.5324095\ttotal: 14s\tremaining: 0us\n",
      "0:\tlearn: 0.3750779\ttotal: 388ms\tremaining: 19s\n",
      "10:\tlearn: 0.4785947\ttotal: 4.21s\tremaining: 14.9s\n",
      "20:\tlearn: 0.5104297\ttotal: 7.98s\tremaining: 11s\n",
      "30:\tlearn: 0.5387190\ttotal: 11.7s\tremaining: 7.2s\n",
      "40:\tlearn: 0.5623971\ttotal: 15.6s\tremaining: 3.43s\n",
      "49:\tlearn: 0.5772103\ttotal: 19s\tremaining: 0us\n",
      "0:\tlearn: 0.3500889\ttotal: 386ms\tremaining: 18.9s\n",
      "10:\tlearn: 0.4799814\ttotal: 4.14s\tremaining: 14.7s\n",
      "20:\tlearn: 0.4972998\ttotal: 8.12s\tremaining: 11.2s\n",
      "30:\tlearn: 0.5328418\ttotal: 12.1s\tremaining: 7.43s\n",
      "40:\tlearn: 0.5467212\ttotal: 16s\tremaining: 3.5s\n",
      "49:\tlearn: 0.5752566\ttotal: 19.3s\tremaining: 0us\n",
      "0:\tlearn: 0.4068293\ttotal: 388ms\tremaining: 19s\n",
      "10:\tlearn: 0.4923183\ttotal: 4.17s\tremaining: 14.8s\n",
      "20:\tlearn: 0.5179678\ttotal: 7.95s\tremaining: 11s\n",
      "30:\tlearn: 0.5430185\ttotal: 11.7s\tremaining: 7.15s\n",
      "40:\tlearn: 0.5567010\ttotal: 15.4s\tremaining: 3.38s\n",
      "49:\tlearn: 0.5663986\ttotal: 18.8s\tremaining: 0us\n",
      "0:\tlearn: 0.3322610\ttotal: 75.5ms\tremaining: 3.7s\n",
      "10:\tlearn: 0.3529113\ttotal: 776ms\tremaining: 2.75s\n",
      "20:\tlearn: 0.3544786\ttotal: 1.5s\tremaining: 2.07s\n",
      "30:\tlearn: 0.3703518\ttotal: 2.21s\tremaining: 1.35s\n",
      "40:\tlearn: 0.3800250\ttotal: 2.91s\tremaining: 639ms\n",
      "49:\tlearn: 0.3963919\ttotal: 3.56s\tremaining: 0us\n",
      "0:\tlearn: 0.3502538\ttotal: 70ms\tremaining: 3.43s\n",
      "10:\tlearn: 0.3521662\ttotal: 766ms\tremaining: 2.72s\n",
      "20:\tlearn: 0.3595307\ttotal: 1.53s\tremaining: 2.11s\n",
      "30:\tlearn: 0.3753278\ttotal: 2.36s\tremaining: 1.45s\n",
      "40:\tlearn: 0.3878082\ttotal: 3.17s\tremaining: 697ms\n",
      "49:\tlearn: 0.3973396\ttotal: 3.83s\tremaining: 0us\n",
      "0:\tlearn: 0.3526729\ttotal: 72.9ms\tremaining: 3.57s\n",
      "10:\tlearn: 0.3561228\ttotal: 772ms\tremaining: 2.74s\n",
      "20:\tlearn: 0.3602876\ttotal: 1.48s\tremaining: 2.04s\n",
      "30:\tlearn: 0.3743904\ttotal: 2.17s\tremaining: 1.33s\n",
      "40:\tlearn: 0.3889508\ttotal: 2.87s\tremaining: 631ms\n",
      "49:\tlearn: 0.3978322\ttotal: 3.51s\tremaining: 0us\n"
     ]
    },
    {
     "name": "stderr",
     "output_type": "stream",
     "text": [
      "learning rate is greater than 1. You probably need to decrease learning rate.\n",
      "learning rate is greater than 1. You probably need to decrease learning rate.\n",
      "learning rate is greater than 1. You probably need to decrease learning rate.\n"
     ]
    },
    {
     "name": "stdout",
     "output_type": "stream",
     "text": [
      "0:\tlearn: 0.3750779\ttotal: 402ms\tremaining: 19.7s\n"
     ]
    },
    {
     "name": "stderr",
     "output_type": "stream",
     "text": [
      "Training has stopped (degenerate solution on iteration 4, probably too small l2-regularization, try to increase it)\n",
      "learning rate is greater than 1. You probably need to decrease learning rate.\n",
      "learning rate is greater than 1. You probably need to decrease learning rate.\n",
      "learning rate is greater than 1. You probably need to decrease learning rate.\n"
     ]
    },
    {
     "name": "stdout",
     "output_type": "stream",
     "text": [
      "0:\tlearn: 0.3500889\ttotal: 384ms\tremaining: 18.8s\n"
     ]
    },
    {
     "name": "stderr",
     "output_type": "stream",
     "text": [
      "learning rate is greater than 1. You probably need to decrease learning rate.\n",
      "learning rate is greater than 1. You probably need to decrease learning rate.\n",
      "learning rate is greater than 1. You probably need to decrease learning rate.\n"
     ]
    },
    {
     "name": "stdout",
     "output_type": "stream",
     "text": [
      "0:\tlearn: 0.4068293\ttotal: 421ms\tremaining: 20.6s\n"
     ]
    },
    {
     "name": "stderr",
     "output_type": "stream",
     "text": [
      "learning rate is greater than 1. You probably need to decrease learning rate.\n",
      "learning rate is greater than 1. You probably need to decrease learning rate.\n",
      "learning rate is greater than 1. You probably need to decrease learning rate.\n"
     ]
    },
    {
     "name": "stdout",
     "output_type": "stream",
     "text": [
      "0:\tlearn: 0.3322610\ttotal: 76.4ms\tremaining: 3.74s\n"
     ]
    },
    {
     "name": "stderr",
     "output_type": "stream",
     "text": [
      "learning rate is greater than 1. You probably need to decrease learning rate.\n",
      "learning rate is greater than 1. You probably need to decrease learning rate.\n",
      "learning rate is greater than 1. You probably need to decrease learning rate.\n"
     ]
    },
    {
     "name": "stdout",
     "output_type": "stream",
     "text": [
      "0:\tlearn: 0.3502538\ttotal: 73.9ms\tremaining: 3.62s\n"
     ]
    },
    {
     "name": "stderr",
     "output_type": "stream",
     "text": [
      "learning rate is greater than 1. You probably need to decrease learning rate.\n",
      "learning rate is greater than 1. You probably need to decrease learning rate.\n",
      "learning rate is greater than 1. You probably need to decrease learning rate.\n"
     ]
    },
    {
     "name": "stdout",
     "output_type": "stream",
     "text": [
      "0:\tlearn: 0.3526729\ttotal: 73ms\tremaining: 3.57s\n",
      "0:\tlearn: 0.3750779\ttotal: 404ms\tremaining: 19.8s\n",
      "10:\tlearn: 0.4785947\ttotal: 4.32s\tremaining: 15.3s\n",
      "20:\tlearn: 0.5104297\ttotal: 8.16s\tremaining: 11.3s\n",
      "30:\tlearn: 0.5387190\ttotal: 12s\tremaining: 7.33s\n",
      "40:\tlearn: 0.5623971\ttotal: 15.8s\tremaining: 3.46s\n",
      "49:\tlearn: 0.5772103\ttotal: 19.2s\tremaining: 0us\n",
      "0:\tlearn: 0.3500889\ttotal: 393ms\tremaining: 19.3s\n",
      "10:\tlearn: 0.4799814\ttotal: 4.15s\tremaining: 14.7s\n",
      "20:\tlearn: 0.4972998\ttotal: 7.94s\tremaining: 11s\n",
      "30:\tlearn: 0.5328418\ttotal: 11.7s\tremaining: 7.17s\n",
      "40:\tlearn: 0.5467212\ttotal: 15.4s\tremaining: 3.38s\n",
      "49:\tlearn: 0.5752566\ttotal: 18.7s\tremaining: 0us\n",
      "0:\tlearn: 0.4068293\ttotal: 456ms\tremaining: 22.4s\n",
      "10:\tlearn: 0.4923183\ttotal: 4.88s\tremaining: 17.3s\n",
      "20:\tlearn: 0.5179678\ttotal: 8.86s\tremaining: 12.2s\n",
      "30:\tlearn: 0.5430185\ttotal: 12.7s\tremaining: 7.78s\n",
      "40:\tlearn: 0.5567010\ttotal: 16.4s\tremaining: 3.6s\n",
      "49:\tlearn: 0.5663986\ttotal: 19.7s\tremaining: 0us\n",
      "0:\tlearn: 0.3322610\ttotal: 73.5ms\tremaining: 3.6s\n",
      "10:\tlearn: 0.3529113\ttotal: 757ms\tremaining: 2.68s\n",
      "20:\tlearn: 0.3544786\ttotal: 1.51s\tremaining: 2.08s\n",
      "30:\tlearn: 0.3703518\ttotal: 2.35s\tremaining: 1.44s\n",
      "40:\tlearn: 0.3800250\ttotal: 3.11s\tremaining: 683ms\n",
      "49:\tlearn: 0.3963919\ttotal: 3.81s\tremaining: 0us\n",
      "0:\tlearn: 0.3502538\ttotal: 72.3ms\tremaining: 3.54s\n",
      "10:\tlearn: 0.3521662\ttotal: 793ms\tremaining: 2.81s\n",
      "20:\tlearn: 0.3595307\ttotal: 1.5s\tremaining: 2.06s\n",
      "30:\tlearn: 0.3753278\ttotal: 2.22s\tremaining: 1.36s\n",
      "40:\tlearn: 0.3878082\ttotal: 2.93s\tremaining: 643ms\n",
      "49:\tlearn: 0.3973396\ttotal: 3.59s\tremaining: 0us\n",
      "0:\tlearn: 0.3526729\ttotal: 73.3ms\tremaining: 3.59s\n",
      "10:\tlearn: 0.3561228\ttotal: 767ms\tremaining: 2.72s\n",
      "20:\tlearn: 0.3602876\ttotal: 1.47s\tremaining: 2.03s\n",
      "30:\tlearn: 0.3743904\ttotal: 2.19s\tremaining: 1.34s\n",
      "40:\tlearn: 0.3889508\ttotal: 2.89s\tremaining: 634ms\n",
      "49:\tlearn: 0.3978322\ttotal: 3.53s\tremaining: 0us\n",
      "0:\tlearn: 0.3513993\ttotal: 538ms\tremaining: 1m 47s\n",
      "10:\tlearn: 0.4631035\ttotal: 5.57s\tremaining: 1m 35s\n",
      "20:\tlearn: 0.5162847\ttotal: 10.5s\tremaining: 1m 29s\n",
      "30:\tlearn: 0.5401676\ttotal: 15.5s\tremaining: 1m 24s\n",
      "40:\tlearn: 0.5555556\ttotal: 20.4s\tremaining: 1m 19s\n",
      "50:\tlearn: 0.5784624\ttotal: 25.3s\tremaining: 1m 14s\n",
      "60:\tlearn: 0.5951503\ttotal: 30.3s\tremaining: 1m 9s\n",
      "70:\tlearn: 0.6044907\ttotal: 35.2s\tremaining: 1m 3s\n",
      "80:\tlearn: 0.6108505\ttotal: 40s\tremaining: 58.8s\n",
      "90:\tlearn: 0.6181489\ttotal: 44.8s\tremaining: 53.7s\n",
      "100:\tlearn: 0.6305724\ttotal: 49.7s\tremaining: 48.7s\n",
      "110:\tlearn: 0.6435906\ttotal: 54.6s\tremaining: 43.8s\n",
      "120:\tlearn: 0.6525761\ttotal: 59.4s\tremaining: 38.8s\n",
      "130:\tlearn: 0.6571198\ttotal: 1m 4s\tremaining: 33.9s\n",
      "140:\tlearn: 0.6647522\ttotal: 1m 9s\tremaining: 29s\n",
      "150:\tlearn: 0.6686615\ttotal: 1m 14s\tremaining: 24s\n",
      "160:\tlearn: 0.6721964\ttotal: 1m 18s\tremaining: 19.1s\n",
      "170:\tlearn: 0.6817823\ttotal: 1m 23s\tremaining: 14.2s\n",
      "180:\tlearn: 0.6873977\ttotal: 1m 28s\tremaining: 9.29s\n",
      "190:\tlearn: 0.6897407\ttotal: 1m 33s\tremaining: 4.4s\n",
      "199:\tlearn: 0.6940847\ttotal: 1m 37s\tremaining: 0us\n",
      "Лучшие параметры модели: {'eval_metric': 'F1', 'iterations': 200, 'learning_rate': 0.1, 'max_depth': 5, 'random_state': 12345}\n",
      "\n",
      "F1: 0.6748734927689638\n",
      "CPU times: total: 1h 40min 56s\n",
      "Wall time: 19min 7s\n"
     ]
    }
   ],
   "source": [
    "%%time\n",
    "cat_model = CatBoostClassifier()\n",
    "params = [{'eval_metric': [\"F1\"], \n",
    "          'iterations':(50, 200, 50), \n",
    "          'max_depth':(5, 20, 1), \n",
    "          'learning_rate':(0.1, 3, 0.1), \n",
    "          'random_state': [12345]}]\n",
    "grid = GridSearchCV(cat_model, params, cv=3, scoring='f1')\n",
    "grid.fit(train_features, train_target, verbose=10)\n",
    "print(\"Лучшие параметры модели:\", grid.best_params_)\n",
    "print()\n",
    "print('F1:', grid.best_score_)"
   ]
  },
  {
   "cell_type": "code",
   "execution_count": 29,
   "metadata": {},
   "outputs": [
    {
     "name": "stdout",
     "output_type": "stream",
     "text": [
      "0:\tlearn: 0.3513993\ttotal: 910ms\tremaining: 3m 1s\n",
      "2:\tlearn: 0.4644113\ttotal: 2.52s\tremaining: 2m 45s\n",
      "4:\tlearn: 0.4608519\ttotal: 4.18s\tremaining: 2m 42s\n",
      "6:\tlearn: 0.4616590\ttotal: 5.9s\tremaining: 2m 42s\n",
      "8:\tlearn: 0.4611399\ttotal: 7.79s\tremaining: 2m 45s\n",
      "10:\tlearn: 0.4692284\ttotal: 9.45s\tremaining: 2m 42s\n",
      "12:\tlearn: 0.4971337\ttotal: 11.1s\tremaining: 2m 39s\n",
      "14:\tlearn: 0.5050505\ttotal: 12.7s\tremaining: 2m 36s\n",
      "16:\tlearn: 0.5033848\ttotal: 14.2s\tremaining: 2m 33s\n",
      "18:\tlearn: 0.5087161\ttotal: 15.8s\tremaining: 2m 30s\n",
      "20:\tlearn: 0.5237559\ttotal: 17.4s\tremaining: 2m 27s\n",
      "22:\tlearn: 0.5234375\ttotal: 18.9s\tremaining: 2m 25s\n",
      "24:\tlearn: 0.5303076\ttotal: 20.5s\tremaining: 2m 23s\n",
      "26:\tlearn: 0.5199007\ttotal: 22.1s\tremaining: 2m 21s\n",
      "28:\tlearn: 0.5270169\ttotal: 23.6s\tremaining: 2m 19s\n",
      "30:\tlearn: 0.5385359\ttotal: 25.2s\tremaining: 2m 17s\n",
      "32:\tlearn: 0.5451458\ttotal: 26.7s\tremaining: 2m 15s\n",
      "34:\tlearn: 0.5606536\ttotal: 28.3s\tremaining: 2m 13s\n",
      "36:\tlearn: 0.5638786\ttotal: 29.9s\tremaining: 2m 11s\n",
      "38:\tlearn: 0.5651953\ttotal: 31.5s\tremaining: 2m 9s\n",
      "40:\tlearn: 0.5784293\ttotal: 33s\tremaining: 2m 8s\n",
      "42:\tlearn: 0.5882101\ttotal: 34.6s\tremaining: 2m 6s\n",
      "44:\tlearn: 0.5924241\ttotal: 36.2s\tremaining: 2m 4s\n",
      "46:\tlearn: 0.5948783\ttotal: 37.7s\tremaining: 2m 2s\n",
      "48:\tlearn: 0.5960162\ttotal: 39.2s\tremaining: 2m\n",
      "50:\tlearn: 0.5969113\ttotal: 40.8s\tremaining: 1m 59s\n",
      "52:\tlearn: 0.5974651\ttotal: 42.4s\tremaining: 1m 57s\n",
      "54:\tlearn: 0.5993495\ttotal: 43.9s\tremaining: 1m 55s\n",
      "56:\tlearn: 0.6013976\ttotal: 45.6s\tremaining: 1m 54s\n",
      "58:\tlearn: 0.6027494\ttotal: 47.2s\tremaining: 1m 52s\n",
      "60:\tlearn: 0.6048966\ttotal: 48.8s\tremaining: 1m 51s\n",
      "62:\tlearn: 0.6074136\ttotal: 50.4s\tremaining: 1m 49s\n",
      "64:\tlearn: 0.6112901\ttotal: 52s\tremaining: 1m 47s\n",
      "66:\tlearn: 0.6126731\ttotal: 53.5s\tremaining: 1m 46s\n",
      "68:\tlearn: 0.6143316\ttotal: 55.1s\tremaining: 1m 44s\n",
      "70:\tlearn: 0.6156315\ttotal: 56.7s\tremaining: 1m 42s\n",
      "72:\tlearn: 0.6171755\ttotal: 58.2s\tremaining: 1m 41s\n",
      "74:\tlearn: 0.6180957\ttotal: 59.8s\tremaining: 1m 39s\n",
      "76:\tlearn: 0.6222654\ttotal: 1m 1s\tremaining: 1m 37s\n",
      "78:\tlearn: 0.6235604\ttotal: 1m 2s\tremaining: 1m 36s\n",
      "80:\tlearn: 0.6248440\ttotal: 1m 4s\tremaining: 1m 34s\n",
      "82:\tlearn: 0.6269462\ttotal: 1m 6s\tremaining: 1m 33s\n",
      "84:\tlearn: 0.6306493\ttotal: 1m 8s\tremaining: 1m 32s\n",
      "86:\tlearn: 0.6348705\ttotal: 1m 9s\tremaining: 1m 30s\n",
      "88:\tlearn: 0.6415352\ttotal: 1m 11s\tremaining: 1m 29s\n",
      "90:\tlearn: 0.6427791\ttotal: 1m 13s\tremaining: 1m 27s\n",
      "92:\tlearn: 0.6471268\ttotal: 1m 14s\tremaining: 1m 25s\n",
      "94:\tlearn: 0.6479103\ttotal: 1m 16s\tremaining: 1m 24s\n",
      "96:\tlearn: 0.6512636\ttotal: 1m 18s\tremaining: 1m 23s\n",
      "98:\tlearn: 0.6524064\ttotal: 1m 19s\tremaining: 1m 21s\n",
      "100:\tlearn: 0.6532242\ttotal: 1m 21s\tremaining: 1m 19s\n",
      "102:\tlearn: 0.6574530\ttotal: 1m 23s\tremaining: 1m 18s\n",
      "104:\tlearn: 0.6591307\ttotal: 1m 24s\tremaining: 1m 16s\n",
      "106:\tlearn: 0.6600336\ttotal: 1m 26s\tremaining: 1m 15s\n",
      "108:\tlearn: 0.6597204\ttotal: 1m 27s\tremaining: 1m 13s\n",
      "110:\tlearn: 0.6622392\ttotal: 1m 29s\tremaining: 1m 11s\n",
      "112:\tlearn: 0.6630471\ttotal: 1m 31s\tremaining: 1m 10s\n",
      "114:\tlearn: 0.6644354\ttotal: 1m 32s\tremaining: 1m 8s\n",
      "116:\tlearn: 0.6651502\ttotal: 1m 34s\tremaining: 1m 6s\n",
      "118:\tlearn: 0.6662211\ttotal: 1m 35s\tremaining: 1m 5s\n",
      "120:\tlearn: 0.6671119\ttotal: 1m 37s\tremaining: 1m 3s\n",
      "122:\tlearn: 0.6690216\ttotal: 1m 38s\tremaining: 1m 1s\n",
      "124:\tlearn: 0.6701285\ttotal: 1m 40s\tremaining: 1m\n",
      "126:\tlearn: 0.6704372\ttotal: 1m 41s\tremaining: 58.6s\n",
      "128:\tlearn: 0.6711454\ttotal: 1m 43s\tremaining: 57s\n",
      "130:\tlearn: 0.6721170\ttotal: 1m 45s\tremaining: 55.3s\n",
      "132:\tlearn: 0.6723817\ttotal: 1m 46s\tremaining: 53.7s\n",
      "134:\tlearn: 0.6733949\ttotal: 1m 48s\tremaining: 52.1s\n",
      "136:\tlearn: 0.6752816\ttotal: 1m 49s\tremaining: 50.4s\n",
      "138:\tlearn: 0.6781678\ttotal: 1m 51s\tremaining: 48.8s\n",
      "140:\tlearn: 0.6818511\ttotal: 1m 52s\tremaining: 47.2s\n",
      "142:\tlearn: 0.6821685\ttotal: 1m 54s\tremaining: 45.6s\n",
      "144:\tlearn: 0.6829975\ttotal: 1m 55s\tremaining: 44s\n",
      "146:\tlearn: 0.6842071\ttotal: 1m 57s\tremaining: 42.4s\n",
      "148:\tlearn: 0.6855829\ttotal: 1m 59s\tremaining: 40.8s\n",
      "150:\tlearn: 0.6866885\ttotal: 2m\tremaining: 39.2s\n",
      "152:\tlearn: 0.6873280\ttotal: 2m 2s\tremaining: 37.6s\n",
      "154:\tlearn: 0.6881425\ttotal: 2m 3s\tremaining: 35.9s\n",
      "156:\tlearn: 0.6883142\ttotal: 2m 5s\tremaining: 34.3s\n",
      "158:\tlearn: 0.6899392\ttotal: 2m 6s\tremaining: 32.7s\n",
      "160:\tlearn: 0.6904077\ttotal: 2m 8s\tremaining: 31.1s\n",
      "162:\tlearn: 0.6930099\ttotal: 2m 10s\tremaining: 29.5s\n",
      "164:\tlearn: 0.6965781\ttotal: 2m 11s\tremaining: 27.9s\n",
      "166:\tlearn: 0.6990870\ttotal: 2m 13s\tremaining: 26.3s\n",
      "168:\tlearn: 0.6992491\ttotal: 2m 14s\tremaining: 24.7s\n",
      "170:\tlearn: 0.6997152\ttotal: 2m 16s\tremaining: 23.1s\n",
      "172:\tlearn: 0.7010216\ttotal: 2m 17s\tremaining: 21.5s\n",
      "174:\tlearn: 0.7019970\ttotal: 2m 19s\tremaining: 19.9s\n",
      "176:\tlearn: 0.7029505\ttotal: 2m 20s\tremaining: 18.3s\n",
      "178:\tlearn: 0.7032470\ttotal: 2m 22s\tremaining: 16.7s\n",
      "180:\tlearn: 0.7038328\ttotal: 2m 24s\tremaining: 15.1s\n",
      "182:\tlearn: 0.7039928\ttotal: 2m 25s\tremaining: 13.5s\n",
      "184:\tlearn: 0.7043198\ttotal: 2m 27s\tremaining: 11.9s\n",
      "186:\tlearn: 0.7055792\ttotal: 2m 28s\tremaining: 10.3s\n",
      "188:\tlearn: 0.7072982\ttotal: 2m 30s\tremaining: 8.75s\n",
      "190:\tlearn: 0.7074191\ttotal: 2m 31s\tremaining: 7.16s\n",
      "192:\tlearn: 0.7091178\ttotal: 2m 33s\tremaining: 5.56s\n",
      "194:\tlearn: 0.7113991\ttotal: 2m 34s\tremaining: 3.97s\n",
      "196:\tlearn: 0.7121338\ttotal: 2m 36s\tremaining: 2.38s\n",
      "198:\tlearn: 0.7122989\ttotal: 2m 38s\tremaining: 795ms\n",
      "199:\tlearn: 0.7122989\ttotal: 2m 38s\tremaining: 0us\n",
      "F1 CatBoost классификатора на валидационных данных: 0.6826254826254826\n"
     ]
    }
   ],
   "source": [
    "cat_model1 = CatBoostClassifier(eval_metric=\"F1\", iterations=200, max_depth=6, learning_rate=0.1, random_state=12345).fit(train_features, train_target, verbose=2)\n",
    "pred_cb = cat_model1.predict(valid_features)\n",
    "print('F1 CatBoost классификатора на валидационных данных:', f1_score(valid_target, pred_cb))"
   ]
  },
  {
   "cell_type": "code",
   "execution_count": 30,
   "metadata": {},
   "outputs": [
    {
     "name": "stdout",
     "output_type": "stream",
     "text": [
      "Лучшие параметры модели:\n",
      "\n",
      "{'learning_rate': 0.1, 'n_estimators': 1000, 'num_leaves': 20, 'random_state': 12345}\n",
      "\n",
      "F1: 0.7605102024783673\n"
     ]
    }
   ],
   "source": [
    "#40 минут грузится ячейка, поэтому написал какие параметры перебирал\n",
    "LightGBM_model = LGBMClassifier()\n",
    "hyperparams = [{'num_leaves' : [20], #(20, 50, 5)\n",
    "                'learning_rate':[0.1], #(0.1, 1, 0.1)\n",
    "                'n_estimators' : [1000],  #(50, 1000, 50)\n",
    "                'random_state':[12345]}]\n",
    "clf = GridSearchCV(LightGBM_model, hyperparams, scoring='f1',cv=3)\n",
    "clf.fit(train_features, train_target)\n",
    "print(\"Лучшие параметры модели:\")\n",
    "print()\n",
    "LGBM_best_params = clf.best_params_\n",
    "print(LGBM_best_params)\n",
    "print()\n",
    "print('F1:', clf.best_score_)"
   ]
  },
  {
   "cell_type": "code",
   "execution_count": 31,
   "metadata": {},
   "outputs": [
    {
     "name": "stdout",
     "output_type": "stream",
     "text": [
      "F1 LGBM классификатора на валидационных данных: 0.7657360846193862\n"
     ]
    }
   ],
   "source": [
    "lgbm = LGBMClassifier(num_leaves=20, learning_rate=0.1, n_estimators=1000, random_state=12345).fit(train_features, train_target)\n",
    "pred_lg = lgbm.predict(valid_features)\n",
    "print('F1 LGBM классификатора на валидационных данных:', f1_score(valid_target, pred_lg))"
   ]
  },
  {
   "cell_type": "markdown",
   "metadata": {},
   "source": [
    "Лучшей моделью является LGBMClassifier с метрикой F1 на валидационных данных 0.765. "
   ]
  },
  {
   "cell_type": "markdown",
   "metadata": {},
   "source": [
    "## Выводы"
   ]
  },
  {
   "cell_type": "markdown",
   "metadata": {},
   "source": [
    "Проверим лушую модель на тестовых данных."
   ]
  },
  {
   "cell_type": "code",
   "execution_count": 32,
   "metadata": {},
   "outputs": [
    {
     "name": "stdout",
     "output_type": "stream",
     "text": [
      " 0.7711761649055949\n"
     ]
    }
   ],
   "source": [
    "final_model = LGBMClassifier(num_leaves=20, learning_rate=0.1, n_estimators=1000, random_state=12345).fit(train_features, train_target)\n",
    "pred = final_model.predict(test_features)\n",
    "print('', f1_score(test_target, pred))"
   ]
  },
  {
   "cell_type": "markdown",
   "metadata": {},
   "source": [
    "Вывод: \n",
    "\n",
    "За проделанный мною анализ я сделал лемматизацию и токенизацию текста, а также определил самую подходящую модель, которая на тестовых данных дала метрику F1 равной 0.771."
   ]
  }
 ],
 "metadata": {
  "kernelspec": {
   "display_name": "Python 3 (ipykernel)",
   "language": "python",
   "name": "python3"
  },
  "language_info": {
   "codemirror_mode": {
    "name": "ipython",
    "version": 3
   },
   "file_extension": ".py",
   "mimetype": "text/x-python",
   "name": "python",
   "nbconvert_exporter": "python",
   "pygments_lexer": "ipython3",
   "version": "3.9.5"
  },
  "toc": {
   "base_numbering": 1,
   "nav_menu": {},
   "number_sections": true,
   "sideBar": true,
   "skip_h1_title": true,
   "title_cell": "Содержание",
   "title_sidebar": "Contents",
   "toc_cell": true,
   "toc_position": {
    "height": "calc(100% - 180px)",
    "left": "10px",
    "top": "150px",
    "width": "302.391px"
   },
   "toc_section_display": true,
   "toc_window_display": false
  }
 },
 "nbformat": 4,
 "nbformat_minor": 2
}
