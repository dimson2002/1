{
 "cells": [
  {
   "cell_type": "markdown",
   "metadata": {},
   "source": [
    "# Рекомендация тарифов"
   ]
  },
  {
   "cell_type": "markdown",
   "metadata": {},
   "source": [
    "В вашем распоряжении данные о поведении клиентов, которые уже перешли на эти тарифы (из проекта курса «Статистический анализ данных»). Нужно построить модель для задачи классификации, которая выберет подходящий тариф. Предобработка данных не понадобится — вы её уже сделали.\n",
    "\n",
    "Постройте модель с максимально большим значением *accuracy*. Чтобы сдать проект успешно, нужно довести долю правильных ответов по крайней мере до 0.75. Проверьте *accuracy* на тестовой выборке самостоятельно."
   ]
  },
  {
   "cell_type": "markdown",
   "metadata": {},
   "source": [
    "## Откройте и изучите файл"
   ]
  },
  {
   "cell_type": "code",
   "execution_count": 1,
   "metadata": {},
   "outputs": [],
   "source": [
    "import pandas as pd\n",
    "from sklearn.model_selection import train_test_split\n",
    "from sklearn.tree import DecisionTreeClassifier\n",
    "from sklearn.ensemble import RandomForestClassifier\n",
    "from sklearn.linear_model import LogisticRegression \n",
    "from sklearn.metrics import accuracy_score\n",
    "import matplotlib.pyplot as plt\n",
    "import warnings\n",
    "from sklearn.model_selection import GridSearchCV\n",
    "import numpy as np\n",
    "from sklearn.ensemble import RandomForestClassifier\n",
    "from scipy.stats import randint\n",
    "from sklearn.model_selection import RandomizedSearchCV"
   ]
  },
  {
   "cell_type": "code",
   "execution_count": 2,
   "metadata": {},
   "outputs": [],
   "source": [
    "warnings.filterwarnings(\"ignore\")"
   ]
  },
  {
   "cell_type": "code",
   "execution_count": 2,
   "metadata": {},
   "outputs": [
    {
     "data": {
      "text/html": [
       "<div>\n",
       "<style scoped>\n",
       "    .dataframe tbody tr th:only-of-type {\n",
       "        vertical-align: middle;\n",
       "    }\n",
       "\n",
       "    .dataframe tbody tr th {\n",
       "        vertical-align: top;\n",
       "    }\n",
       "\n",
       "    .dataframe thead th {\n",
       "        text-align: right;\n",
       "    }\n",
       "</style>\n",
       "<table border=\"1\" class=\"dataframe\">\n",
       "  <thead>\n",
       "    <tr style=\"text-align: right;\">\n",
       "      <th></th>\n",
       "      <th>calls</th>\n",
       "      <th>minutes</th>\n",
       "      <th>messages</th>\n",
       "      <th>mb_used</th>\n",
       "      <th>is_ultra</th>\n",
       "    </tr>\n",
       "  </thead>\n",
       "  <tbody>\n",
       "    <tr>\n",
       "      <th>0</th>\n",
       "      <td>40.0</td>\n",
       "      <td>311.90</td>\n",
       "      <td>83.0</td>\n",
       "      <td>19915.42</td>\n",
       "      <td>0</td>\n",
       "    </tr>\n",
       "    <tr>\n",
       "      <th>1</th>\n",
       "      <td>85.0</td>\n",
       "      <td>516.75</td>\n",
       "      <td>56.0</td>\n",
       "      <td>22696.96</td>\n",
       "      <td>0</td>\n",
       "    </tr>\n",
       "    <tr>\n",
       "      <th>2</th>\n",
       "      <td>77.0</td>\n",
       "      <td>467.66</td>\n",
       "      <td>86.0</td>\n",
       "      <td>21060.45</td>\n",
       "      <td>0</td>\n",
       "    </tr>\n",
       "    <tr>\n",
       "      <th>3</th>\n",
       "      <td>106.0</td>\n",
       "      <td>745.53</td>\n",
       "      <td>81.0</td>\n",
       "      <td>8437.39</td>\n",
       "      <td>1</td>\n",
       "    </tr>\n",
       "    <tr>\n",
       "      <th>4</th>\n",
       "      <td>66.0</td>\n",
       "      <td>418.74</td>\n",
       "      <td>1.0</td>\n",
       "      <td>14502.75</td>\n",
       "      <td>0</td>\n",
       "    </tr>\n",
       "  </tbody>\n",
       "</table>\n",
       "</div>"
      ],
      "text/plain": [
       "   calls  minutes  messages   mb_used  is_ultra\n",
       "0   40.0   311.90      83.0  19915.42         0\n",
       "1   85.0   516.75      56.0  22696.96         0\n",
       "2   77.0   467.66      86.0  21060.45         0\n",
       "3  106.0   745.53      81.0   8437.39         1\n",
       "4   66.0   418.74       1.0  14502.75         0"
      ]
     },
     "execution_count": 2,
     "metadata": {},
     "output_type": "execute_result"
    }
   ],
   "source": [
    "df = pd.read_csv('/datasets/users_behavior.csv')\n",
    "df.head()"
   ]
  },
  {
   "cell_type": "code",
   "execution_count": 4,
   "metadata": {},
   "outputs": [
    {
     "name": "stdout",
     "output_type": "stream",
     "text": [
      "<class 'pandas.core.frame.DataFrame'>\n",
      "RangeIndex: 3214 entries, 0 to 3213\n",
      "Data columns (total 5 columns):\n",
      " #   Column    Non-Null Count  Dtype  \n",
      "---  ------    --------------  -----  \n",
      " 0   calls     3214 non-null   float64\n",
      " 1   minutes   3214 non-null   float64\n",
      " 2   messages  3214 non-null   float64\n",
      " 3   mb_used   3214 non-null   float64\n",
      " 4   is_ultra  3214 non-null   int64  \n",
      "dtypes: float64(4), int64(1)\n",
      "memory usage: 125.7 KB\n"
     ]
    }
   ],
   "source": [
    "df.info()"
   ]
  },
  {
   "cell_type": "markdown",
   "metadata": {},
   "source": [
    "## Разбейте данные на выборки"
   ]
  },
  {
   "cell_type": "code",
   "execution_count": 3,
   "metadata": {},
   "outputs": [],
   "source": [
    "features = df.drop('is_ultra', axis=1)\n",
    "target = df['is_ultra']"
   ]
  },
  {
   "cell_type": "markdown",
   "metadata": {},
   "source": [
    "У нас нет спрятанной тестовой выборки, соответственно разбиваем выборку в соотношении 3:1:1."
   ]
  },
  {
   "cell_type": "code",
   "execution_count": 4,
   "metadata": {},
   "outputs": [],
   "source": [
    "features_train, features_test, target_train, target_test = train_test_split(\n",
    "    features, target, test_size=0.4, random_state=12345)"
   ]
  },
  {
   "cell_type": "code",
   "execution_count": 5,
   "metadata": {},
   "outputs": [
    {
     "name": "stdout",
     "output_type": "stream",
     "text": [
      "Размер обучающей выборки: (1928, 4); (1928,)\n"
     ]
    }
   ],
   "source": [
    "print(f'Размер обучающей выборки: {features_train.shape}; {target_train.shape}')"
   ]
  },
  {
   "cell_type": "markdown",
   "metadata": {},
   "source": [
    "Отделяем 60% выборки под обучающую, а далее оставшуюся 40-ка % выборку делим еще на 2 выборки."
   ]
  },
  {
   "cell_type": "code",
   "execution_count": 6,
   "metadata": {},
   "outputs": [],
   "source": [
    "features_valid, features_test, target_valid, target_test = train_test_split(\n",
    "    features, target, test_size=0.5, random_state=12345)"
   ]
  },
  {
   "cell_type": "code",
   "execution_count": 7,
   "metadata": {},
   "outputs": [
    {
     "name": "stdout",
     "output_type": "stream",
     "text": [
      "Размер валидационной выборки: (1607, 4); (1607,)\n",
      "Размер тестовой выборки: (1607, 4); (1607,)\n"
     ]
    }
   ],
   "source": [
    "print(f'Размер валидационной выборки: {features_valid.shape}; {target_valid.shape}')\n",
    "print(f'Размер тестовой выборки: {features_test.shape}; {target_test.shape}')"
   ]
  },
  {
   "cell_type": "markdown",
   "metadata": {},
   "source": [
    "## Исследуйте модели"
   ]
  },
  {
   "cell_type": "markdown",
   "metadata": {},
   "source": [
    "### **Модель \"Дерево решений\".**"
   ]
  },
  {
   "cell_type": "code",
   "execution_count": 10,
   "metadata": {},
   "outputs": [
    {
     "data": {
      "text/plain": [
       "Text(0.5, 1.0, 'Accuracy в зависимости от количества деревьев')"
      ]
     },
     "execution_count": 10,
     "metadata": {},
     "output_type": "execute_result"
    },
    {
     "data": {
      "image/png": "[encoded data removed]",
      "text/plain": [
       "<Figure size 432x288 with 1 Axes>"
      ]
     },
     "metadata": {
      "needs_background": "light"
     },
     "output_type": "display_data"
    }
   ],
   "source": [
    "depth = []\n",
    "accuracy = []\n",
    "for col in range(1, 6):\n",
    "    model_DT = DecisionTreeClassifier(random_state=12345, max_depth=col).fit(features_train, target_train)\n",
    "    predictions_valid = model_DT.predict(features_valid)\n",
    "    depth.append(col)\n",
    "    accuracy.append(accuracy_score(target_valid, predictions_valid))\n",
    "plt.plot(depth, accuracy, ':o') \n",
    "plt.grid()\n",
    "plt.title('Accuracy в зависимости от количества деревьев')"
   ]
  },
  {
   "cell_type": "code",
   "execution_count": 11,
   "metadata": {},
   "outputs": [
    {
     "data": {
      "text/plain": [
       "Text(0.5, 1.0, 'Accuracy в зависимости от «минимального количество объектов в листе»')"
      ]
     },
     "execution_count": 11,
     "metadata": {},
     "output_type": "execute_result"
    },
    {
     "data": {
      "image/png": "[encoded data removed]",
      "text/plain": [
       "<Figure size 432x288 with 1 Axes>"
      ]
     },
     "metadata": {
      "needs_background": "light"
     },
     "output_type": "display_data"
    }
   ],
   "source": [
    "min_samples_leaf = []\n",
    "accuracy = []\n",
    "for col in range(1, 20):\n",
    "    model_DT = DecisionTreeClassifier(random_state=12345, max_depth=5, min_samples_leaf=col).fit(features_train, target_train)\n",
    "    predictions_valid = model_DT.predict(features_valid)\n",
    "    min_samples_leaf.append(col)\n",
    "    accuracy.append(accuracy_score(target_valid, predictions_valid))\n",
    "plt.plot(min_samples_leaf, accuracy, ':o') \n",
    "plt.grid()\n",
    "plt.title('Accuracy в зависимости от «минимального количество объектов в листе»')"
   ]
  },
  {
   "cell_type": "markdown",
   "metadata": {},
   "source": [
    "*Из вышенаписанного можно сделать вывод, что самая лучшая модель дерева решений имеет глубину равную 5, а остальные параметры заполнены по умолчанию.*"
   ]
  },
  {
   "cell_type": "code",
   "execution_count": 12,
   "metadata": {},
   "outputs": [],
   "source": [
    "best_model_DT = DecisionTreeClassifier(random_state=12345, max_depth=5).fit(features_train, target_train)"
   ]
  },
  {
   "cell_type": "markdown",
   "metadata": {},
   "source": [
    "### **Модель \"Случайный лес\":**"
   ]
  },
  {
   "cell_type": "code",
   "execution_count": 13,
   "metadata": {},
   "outputs": [
    {
     "data": {
      "text/plain": [
       "(20.0, 40.0)"
      ]
     },
     "execution_count": 13,
     "metadata": {},
     "output_type": "execute_result"
    },
    {
     "data": {
      "image/png": "[encoded data removed]",
      "text/plain": [
       "<Figure size 432x288 with 1 Axes>"
      ]
     },
     "metadata": {
      "needs_background": "light"
     },
     "output_type": "display_data"
    }
   ],
   "source": [
    "estimators = []\n",
    "accuracy = []\n",
    "for col in range(1, 40):\n",
    "    model_RF = RandomForestClassifier(random_state=12345, n_estimators=col) \n",
    "    model_RF.fit(features_train, target_train) \n",
    "    estimators.append(col)\n",
    "    accuracy.append(model_RF.score(features_valid, target_valid)) \n",
    "plt.plot(estimators, accuracy, ':o') \n",
    "plt.grid()\n",
    "plt.title('Accuracy в зависимости от «количества деревьев»')\n",
    "plt.xlim(20, 40)"
   ]
  },
  {
   "cell_type": "code",
   "execution_count": 14,
   "metadata": {
    "scrolled": true
   },
   "outputs": [
    {
     "data": {
      "text/plain": [
       "(0.6, 9.4)"
      ]
     },
     "execution_count": 14,
     "metadata": {},
     "output_type": "execute_result"
    },
    {
     "data": {
      "image/png": "[encoded data removed]",
      "text/plain": [
       "<Figure size 432x288 with 1 Axes>"
      ]
     },
     "metadata": {
      "needs_background": "light"
     },
     "output_type": "display_data"
    }
   ],
   "source": [
    "min_samples_leaf = []\n",
    "accuracy = []\n",
    "for col in range(1, 10):\n",
    "    model_RF = RandomForestClassifier(random_state=12345, n_estimators=35, min_samples_leaf =col) \n",
    "    model_RF.fit(features_train, target_train) \n",
    "    min_samples_leaf.append(col)\n",
    "    accuracy.append(model_RF.score(features_valid, target_valid)) \n",
    "plt.plot(min_samples_leaf, accuracy, ':o') \n",
    "plt.grid()\n",
    "plt.title('Accuracy в зависимости от «колчества деревьев»')\n",
    "plt.xlim()"
   ]
  },
  {
   "cell_type": "code",
   "execution_count": 16,
   "metadata": {},
   "outputs": [
    {
     "data": {
      "text/plain": [
       "{'max_depth': 11,\n",
       " 'min_samples_leaf': 4,\n",
       " 'min_samples_split': 2,\n",
       " 'n_estimators': 40}"
      ]
     },
     "execution_count": 16,
     "metadata": {},
     "output_type": "execute_result"
    }
   ],
   "source": [
    "clf = RandomForestClassifier()\n",
    "parametrs = { 'n_estimators': range (10, 51, 10),\n",
    "              'max_depth': range (1,13, 2),\n",
    "              'min_samples_leaf': range (1,8),\n",
    "              'min_samples_split': range (2,10,2) }\n",
    "grid = GridSearchCV(clf, parametrs)\n",
    "grid.fit(features_train, target_train)\n",
    "grid.best_params_"
   ]
  },
  {
   "cell_type": "code",
   "execution_count": 19,
   "metadata": {},
   "outputs": [
    {
     "data": {
      "text/plain": [
       "0.8699439950217797"
      ]
     },
     "execution_count": 19,
     "metadata": {},
     "output_type": "execute_result"
    }
   ],
   "source": [
    "model_RF1 = RandomForestClassifier(random_state=12345, n_estimators=40, min_samples_leaf =4, max_depth= 11) \n",
    "model_RF1.fit(features_train, target_train)\n",
    "model_RF1.score(features_valid, target_valid)"
   ]
  },
  {
   "cell_type": "markdown",
   "metadata": {},
   "source": [
    "*Можно сказать, что в модели случайного леса наиболее результативной оказалась модель с 35-ю деревьями и параметрами по умолчанию.*"
   ]
  },
  {
   "cell_type": "code",
   "execution_count": null,
   "metadata": {},
   "outputs": [],
   "source": [
    "best_model_RF = RandomForestClassifier(random_state=12345, n_estimators=35).fit(features_train, target_train)\n",
    "best_model_RF.score(features_valid, target_valid)"
   ]
  },
  {
   "cell_type": "markdown",
   "metadata": {},
   "source": [
    "### **Модель \"Логистическая регрессия\":**"
   ]
  },
  {
   "cell_type": "code",
   "execution_count": null,
   "metadata": {},
   "outputs": [],
   "source": [
    "#iters = []\n",
    "#accuracy = [ ]\n",
    "#for col in range(1, 500):\n",
    "    #model_LR = LogisticRegression(random_state=12345, solver='lbfgs', max_iter=col).fit(features_train, target_train)  \n",
    "    #iters.append(col)\n",
    "    #accuracy.append(model_RF.score(features_valid, target_valid))\n",
    "#plt.plot(iters, accuracy, ':o') \n",
    "#plt.grid()\n",
    "#plt.title('Accuracy в зависимости от «колчества деревьев»')\n",
    "#plt.xlim( )   "
   ]
  },
  {
   "cell_type": "markdown",
   "metadata": {},
   "source": [
    "Одно и то же accuracy при итерациях от 40 до 1000."
   ]
  },
  {
   "cell_type": "code",
   "execution_count": null,
   "metadata": {},
   "outputs": [],
   "source": [
    "model_LR = LogisticRegression(random_state=12345, solver='lbfgs', max_iter=40).fit(features_train, target_train)\n",
    "print(f'Accuracy равно {model_LR.score(features_valid, target_valid)}')"
   ]
  },
  {
   "cell_type": "code",
   "execution_count": null,
   "metadata": {},
   "outputs": [],
   "source": [
    "model_LR = LogisticRegression(random_state=12345, solver='lbfgs', max_iter=2000).fit(features_train, target_train)\n",
    "print(f'Accuracy равно {model_LR.score(features_valid, target_valid)}')"
   ]
  },
  {
   "cell_type": "code",
   "execution_count": null,
   "metadata": {},
   "outputs": [],
   "source": [
    "best_model_LR = LogisticRegression(random_state=12345, solver='newton-cg', max_iter=200, penalty = 'l2').fit(features_train, target_train)\n",
    "print(f'Accuracy равно {model_LR.score(features_valid, target_valid)}')"
   ]
  },
  {
   "cell_type": "markdown",
   "metadata": {},
   "source": [
    "## Проверьте модель на тестовой выборке"
   ]
  },
  {
   "cell_type": "code",
   "execution_count": null,
   "metadata": {},
   "outputs": [],
   "source": [
    "best_model_DT.score(features_test, target_test)"
   ]
  },
  {
   "cell_type": "markdown",
   "metadata": {},
   "source": [
    "На тестовой выборке модель дерева решений показывает accuracy равным 0.7915."
   ]
  },
  {
   "cell_type": "code",
   "execution_count": null,
   "metadata": {},
   "outputs": [],
   "source": [
    "best_model_RF.score(features_test, target_test)"
   ]
  },
  {
   "cell_type": "markdown",
   "metadata": {},
   "source": [
    "На тестовой выборке модель случайного леса показывает accuracy равным 0.827."
   ]
  },
  {
   "cell_type": "code",
   "execution_count": null,
   "metadata": {},
   "outputs": [],
   "source": [
    "best_model_LR.score(features_test, target_test)"
   ]
  },
  {
   "cell_type": "markdown",
   "metadata": {},
   "source": [
    "На тестовой выборке модель логистической регрессии показывает accuracy равным 0.7573."
   ]
  },
  {
   "cell_type": "markdown",
   "metadata": {},
   "source": [
    "**Вывод: accuracy всех моделей больше 0.75, но предпочтение я бы отдал случайному лесу.**"
   ]
  },
  {
   "cell_type": "markdown",
   "metadata": {},
   "source": [
    "## (бонус) Проверьте модели на адекватность"
   ]
  },
  {
   "cell_type": "code",
   "execution_count": null,
   "metadata": {},
   "outputs": [],
   "source": [
    "len(df.query('is_ultra==0'))/ len(df['is_ultra'])"
   ]
  },
  {
   "cell_type": "markdown",
   "metadata": {},
   "source": [
    "Если бы модель выдавала все нули, то accuracy была бы равна 0,69. У меня же на модели случайного леса она равна 0,82, что показывает, что модель адекватна."
   ]
  }
 ],
 "metadata": {
  "ExecuteTimeLog": [
   {
    "duration": 440,
    "start_time": "2023-03-19T20:10:25.653Z"
   },
   {
    "duration": 237,
    "start_time": "2023-03-19T20:12:02.927Z"
   },
   {
    "duration": 124,
    "start_time": "2023-03-19T20:12:10.434Z"
   },
   {
    "duration": 50,
    "start_time": "2023-03-19T20:12:16.792Z"
   },
   {
    "duration": 64,
    "start_time": "2023-03-19T20:12:19.453Z"
   },
   {
    "duration": 17,
    "start_time": "2023-03-19T23:20:00.028Z"
   },
   {
    "duration": 4,
    "start_time": "2023-03-19T23:20:14.332Z"
   },
   {
    "duration": 7,
    "start_time": "2023-03-19T23:20:21.677Z"
   },
   {
    "duration": 698,
    "start_time": "2023-03-19T23:20:38.614Z"
   },
   {
    "duration": 6,
    "start_time": "2023-03-19T23:20:40.868Z"
   },
   {
    "duration": 49,
    "start_time": "2023-03-19T23:21:19.934Z"
   },
   {
    "duration": 3,
    "start_time": "2023-03-19T23:23:53.527Z"
   },
   {
    "duration": 3,
    "start_time": "2023-03-19T23:29:24.299Z"
   },
   {
    "duration": 51,
    "start_time": "2023-03-19T23:32:13.836Z"
   },
   {
    "duration": 21,
    "start_time": "2023-03-19T23:32:25.940Z"
   },
   {
    "duration": 1151,
    "start_time": "2023-03-20T17:53:34.093Z"
   },
   {
    "duration": 88,
    "start_time": "2023-03-20T17:53:35.246Z"
   },
   {
    "duration": 5,
    "start_time": "2023-03-20T17:53:35.843Z"
   },
   {
    "duration": 6,
    "start_time": "2023-03-20T17:53:36.354Z"
   },
   {
    "duration": 25,
    "start_time": "2023-03-20T17:53:37.986Z"
   },
   {
    "duration": 13,
    "start_time": "2023-03-20T17:59:38.958Z"
   },
   {
    "duration": 4,
    "start_time": "2023-03-20T18:01:48.495Z"
   },
   {
    "duration": 76,
    "start_time": "2023-03-20T20:02:33.125Z"
   },
   {
    "duration": 115,
    "start_time": "2023-03-20T20:25:41.236Z"
   },
   {
    "duration": 25,
    "start_time": "2023-03-20T20:25:51.781Z"
   },
   {
    "duration": 321,
    "start_time": "2023-03-20T20:26:05.504Z"
   },
   {
    "duration": 344,
    "start_time": "2023-03-20T20:26:19.922Z"
   },
   {
    "duration": 356,
    "start_time": "2023-03-20T20:27:05.526Z"
   },
   {
    "duration": 42,
    "start_time": "2023-03-20T20:27:53.727Z"
   },
   {
    "duration": 62,
    "start_time": "2023-03-21T17:23:42.237Z"
   },
   {
    "duration": 1119,
    "start_time": "2023-03-21T17:23:44.221Z"
   },
   {
    "duration": 88,
    "start_time": "2023-03-21T17:23:45.342Z"
   },
   {
    "duration": 4,
    "start_time": "2023-03-21T17:23:46.539Z"
   },
   {
    "duration": 6,
    "start_time": "2023-03-21T17:23:47.188Z"
   },
   {
    "duration": 29,
    "start_time": "2023-03-21T17:23:47.947Z"
   },
   {
    "duration": 46,
    "start_time": "2023-03-21T17:24:56.245Z"
   },
   {
    "duration": 39,
    "start_time": "2023-03-21T17:25:17.788Z"
   },
   {
    "duration": 40,
    "start_time": "2023-03-21T17:30:42.241Z"
   },
   {
    "duration": 14,
    "start_time": "2023-03-21T17:30:44.224Z"
   },
   {
    "duration": 8,
    "start_time": "2023-03-21T17:31:07.445Z"
   },
   {
    "duration": 7,
    "start_time": "2023-03-21T17:31:44.940Z"
   },
   {
    "duration": 51,
    "start_time": "2023-03-21T17:31:45.222Z"
   },
   {
    "duration": 4,
    "start_time": "2023-03-21T17:31:45.785Z"
   },
   {
    "duration": 6,
    "start_time": "2023-03-21T17:31:46.084Z"
   },
   {
    "duration": 32,
    "start_time": "2023-03-21T17:31:46.445Z"
   },
   {
    "duration": 52,
    "start_time": "2023-03-21T17:31:47.761Z"
   },
   {
    "duration": 10,
    "start_time": "2023-03-21T17:31:48.252Z"
   },
   {
    "duration": 538,
    "start_time": "2023-03-21T17:31:48.997Z"
   },
   {
    "duration": 1371,
    "start_time": "2023-03-21T17:31:49.644Z"
   },
   {
    "duration": 86,
    "start_time": "2023-03-21T17:31:51.018Z"
   },
   {
    "duration": 348,
    "start_time": "2023-03-21T17:31:51.545Z"
   },
   {
    "duration": 390,
    "start_time": "2023-03-21T17:45:59.833Z"
   },
   {
    "duration": 355,
    "start_time": "2023-03-21T17:46:38.888Z"
   },
   {
    "duration": 3,
    "start_time": "2023-03-21T17:47:33.544Z"
   },
   {
    "duration": 93,
    "start_time": "2023-03-21T17:47:49.022Z"
   },
   {
    "duration": 6,
    "start_time": "2023-03-21T17:47:59.029Z"
   },
   {
    "duration": 13,
    "start_time": "2023-03-21T17:48:00.664Z"
   },
   {
    "duration": 6,
    "start_time": "2023-03-21T17:48:27.122Z"
   },
   {
    "duration": 13,
    "start_time": "2023-03-21T17:48:29.030Z"
   },
   {
    "duration": 59,
    "start_time": "2023-03-21T17:49:12.737Z"
   },
   {
    "duration": 12,
    "start_time": "2023-03-21T17:49:14.379Z"
   },
   {
    "duration": 755,
    "start_time": "2023-03-21T17:57:36.361Z"
   },
   {
    "duration": 404,
    "start_time": "2023-03-21T17:58:07.121Z"
   },
   {
    "duration": 8,
    "start_time": "2023-03-21T17:58:28.151Z"
   },
   {
    "duration": 5,
    "start_time": "2023-03-21T18:21:27.012Z"
   },
   {
    "duration": 6,
    "start_time": "2023-03-21T18:22:20.452Z"
   },
   {
    "duration": 1129,
    "start_time": "2023-03-21T18:22:49.588Z"
   },
   {
    "duration": 42,
    "start_time": "2023-03-21T18:22:50.845Z"
   },
   {
    "duration": 5,
    "start_time": "2023-03-21T18:22:51.996Z"
   },
   {
    "duration": 6,
    "start_time": "2023-03-21T18:22:52.471Z"
   },
   {
    "duration": 6,
    "start_time": "2023-03-21T18:22:52.971Z"
   },
   {
    "duration": 37,
    "start_time": "2023-03-21T18:22:54.493Z"
   },
   {
    "duration": 8,
    "start_time": "2023-03-21T18:22:56.924Z"
   },
   {
    "duration": 266,
    "start_time": "2023-03-21T18:22:57.782Z"
   },
   {
    "duration": 51,
    "start_time": "2023-03-21T18:23:00.829Z"
   },
   {
    "duration": 25,
    "start_time": "2023-03-21T18:23:01.526Z"
   },
   {
    "duration": 97,
    "start_time": "2023-03-21T18:23:02.948Z"
   },
   {
    "duration": 6,
    "start_time": "2023-03-21T18:23:29.629Z"
   },
   {
    "duration": 10,
    "start_time": "2023-03-21T18:23:36.381Z"
   },
   {
    "duration": 7,
    "start_time": "2023-03-21T18:23:40.197Z"
   },
   {
    "duration": 9,
    "start_time": "2023-03-21T18:30:55.673Z"
   },
   {
    "duration": 40,
    "start_time": "2023-03-21T18:32:53.107Z"
   },
   {
    "duration": 8,
    "start_time": "2023-03-21T18:32:59.114Z"
   },
   {
    "duration": 11,
    "start_time": "2023-03-21T18:33:00.915Z"
   },
   {
    "duration": 6,
    "start_time": "2023-03-21T18:33:02.819Z"
   },
   {
    "duration": 1134,
    "start_time": "2023-03-21T18:33:55.034Z"
   },
   {
    "duration": 42,
    "start_time": "2023-03-21T18:33:56.170Z"
   },
   {
    "duration": 4,
    "start_time": "2023-03-21T18:33:56.214Z"
   },
   {
    "duration": 8,
    "start_time": "2023-03-21T18:33:56.219Z"
   },
   {
    "duration": 14,
    "start_time": "2023-03-21T18:33:56.230Z"
   },
   {
    "duration": 64,
    "start_time": "2023-03-21T18:33:56.245Z"
   },
   {
    "duration": 8,
    "start_time": "2023-03-21T18:33:56.311Z"
   },
   {
    "duration": 307,
    "start_time": "2023-03-21T18:33:56.320Z"
   },
   {
    "duration": 41,
    "start_time": "2023-03-21T18:33:56.629Z"
   },
   {
    "duration": 41,
    "start_time": "2023-03-21T18:33:56.672Z"
   },
   {
    "duration": 7,
    "start_time": "2023-03-21T18:33:56.715Z"
   },
   {
    "duration": 11,
    "start_time": "2023-03-21T18:33:56.724Z"
   },
   {
    "duration": 12,
    "start_time": "2023-03-21T18:33:56.737Z"
   },
   {
    "duration": 3,
    "start_time": "2023-03-21T18:33:57.715Z"
   },
   {
    "duration": 37,
    "start_time": "2023-03-21T18:33:57.947Z"
   },
   {
    "duration": 5,
    "start_time": "2023-03-21T18:33:58.435Z"
   },
   {
    "duration": 5,
    "start_time": "2023-03-21T18:33:58.972Z"
   },
   {
    "duration": 6,
    "start_time": "2023-03-21T18:33:59.475Z"
   },
   {
    "duration": 37,
    "start_time": "2023-03-21T18:34:00.195Z"
   },
   {
    "duration": 9,
    "start_time": "2023-03-21T18:34:00.699Z"
   },
   {
    "duration": 317,
    "start_time": "2023-03-21T18:34:01.189Z"
   },
   {
    "duration": 41,
    "start_time": "2023-03-21T18:34:01.715Z"
   },
   {
    "duration": 27,
    "start_time": "2023-03-21T18:34:02.275Z"
   },
   {
    "duration": 6,
    "start_time": "2023-03-21T18:34:03.072Z"
   },
   {
    "duration": 10,
    "start_time": "2023-03-21T18:34:03.579Z"
   },
   {
    "duration": 8,
    "start_time": "2023-03-21T18:34:04.115Z"
   },
   {
    "duration": 51,
    "start_time": "2023-03-21T21:02:41.651Z"
   },
   {
    "duration": 44,
    "start_time": "2023-03-21T21:02:59.309Z"
   },
   {
    "duration": 1166,
    "start_time": "2023-03-21T21:03:02.368Z"
   },
   {
    "duration": 133,
    "start_time": "2023-03-21T21:03:03.536Z"
   },
   {
    "duration": 12,
    "start_time": "2023-03-21T21:03:04.171Z"
   },
   {
    "duration": 47,
    "start_time": "2023-03-21T21:03:38.793Z"
   },
   {
    "duration": 68,
    "start_time": "2023-03-21T21:03:42.417Z"
   },
   {
    "duration": 9,
    "start_time": "2023-03-21T21:03:52.657Z"
   },
   {
    "duration": 5,
    "start_time": "2023-03-21T21:03:55.970Z"
   },
   {
    "duration": 6,
    "start_time": "2023-03-21T21:03:56.498Z"
   },
   {
    "duration": 9,
    "start_time": "2023-03-21T21:03:56.842Z"
   },
   {
    "duration": 3,
    "start_time": "2023-03-21T21:04:27.682Z"
   },
   {
    "duration": 3,
    "start_time": "2023-03-21T21:05:22.491Z"
   },
   {
    "duration": 4,
    "start_time": "2023-03-21T21:06:19.492Z"
   },
   {
    "duration": 5,
    "start_time": "2023-03-21T21:07:16.492Z"
   },
   {
    "duration": 3,
    "start_time": "2023-03-21T21:07:21.932Z"
   },
   {
    "duration": 9,
    "start_time": "2023-03-21T21:07:49.101Z"
   },
   {
    "duration": 5,
    "start_time": "2023-03-21T21:07:50.861Z"
   },
   {
    "duration": 9,
    "start_time": "2023-03-21T21:07:51.833Z"
   },
   {
    "duration": 3,
    "start_time": "2023-03-21T21:07:58.549Z"
   },
   {
    "duration": 9,
    "start_time": "2023-03-21T21:08:24.589Z"
   },
   {
    "duration": 4,
    "start_time": "2023-03-21T21:08:29.701Z"
   },
   {
    "duration": 46,
    "start_time": "2023-03-21T21:08:38.750Z"
   },
   {
    "duration": 48,
    "start_time": "2023-03-21T21:09:45.341Z"
   },
   {
    "duration": 47,
    "start_time": "2023-03-21T21:09:54.406Z"
   },
   {
    "duration": 47,
    "start_time": "2023-03-21T21:09:57.182Z"
   },
   {
    "duration": 28,
    "start_time": "2023-03-21T21:10:15.934Z"
   },
   {
    "duration": 75,
    "start_time": "2023-03-21T21:10:55.478Z"
   },
   {
    "duration": 14,
    "start_time": "2023-03-21T21:10:58.782Z"
   },
   {
    "duration": 15,
    "start_time": "2023-03-21T21:11:05.838Z"
   },
   {
    "duration": 25,
    "start_time": "2023-03-21T21:11:12.399Z"
   },
   {
    "duration": 12,
    "start_time": "2023-03-21T21:11:58.791Z"
   },
   {
    "duration": 11,
    "start_time": "2023-03-21T21:12:05.065Z"
   },
   {
    "duration": 7,
    "start_time": "2023-03-21T21:12:09.695Z"
   },
   {
    "duration": 28,
    "start_time": "2023-03-21T21:13:34.264Z"
   },
   {
    "duration": 6,
    "start_time": "2023-03-21T21:13:46.405Z"
   },
   {
    "duration": 6,
    "start_time": "2023-03-21T21:14:01.224Z"
   },
   {
    "duration": 6,
    "start_time": "2023-03-21T21:14:04.257Z"
   },
   {
    "duration": 89,
    "start_time": "2023-03-22T17:03:19.137Z"
   },
   {
    "duration": 1341,
    "start_time": "2023-03-22T17:03:44.182Z"
   },
   {
    "duration": 179,
    "start_time": "2023-03-22T17:03:45.526Z"
   },
   {
    "duration": 16,
    "start_time": "2023-03-22T17:03:45.707Z"
   },
   {
    "duration": 4,
    "start_time": "2023-03-22T17:03:46.351Z"
   },
   {
    "duration": 8,
    "start_time": "2023-03-22T17:03:46.911Z"
   },
   {
    "duration": 5,
    "start_time": "2023-03-22T17:03:47.339Z"
   },
   {
    "duration": 10,
    "start_time": "2023-03-22T17:03:47.911Z"
   },
   {
    "duration": 7,
    "start_time": "2023-03-22T17:03:48.191Z"
   },
   {
    "duration": 46,
    "start_time": "2023-03-22T17:03:49.943Z"
   },
   {
    "duration": 37,
    "start_time": "2023-03-22T17:05:51.846Z"
   },
   {
    "duration": 47,
    "start_time": "2023-03-22T17:05:59.411Z"
   },
   {
    "duration": 47,
    "start_time": "2023-03-22T17:06:12.672Z"
   },
   {
    "duration": 514,
    "start_time": "2023-03-22T17:07:33.361Z"
   },
   {
    "duration": 260,
    "start_time": "2023-03-22T17:07:53.361Z"
   },
   {
    "duration": 323,
    "start_time": "2023-03-22T17:08:45.097Z"
   },
   {
    "duration": 204,
    "start_time": "2023-03-22T17:08:49.474Z"
   },
   {
    "duration": 190,
    "start_time": "2023-03-22T17:08:57.282Z"
   },
   {
    "duration": 183,
    "start_time": "2023-03-22T17:10:15.342Z"
   },
   {
    "duration": 210,
    "start_time": "2023-03-22T17:10:54.312Z"
   },
   {
    "duration": 275,
    "start_time": "2023-03-22T17:12:29.451Z"
   },
   {
    "duration": 13,
    "start_time": "2023-03-22T17:19:37.139Z"
   },
   {
    "duration": 14,
    "start_time": "2023-03-22T17:19:44.039Z"
   },
   {
    "duration": 16,
    "start_time": "2023-03-22T17:19:49.255Z"
   },
   {
    "duration": 14,
    "start_time": "2023-03-22T17:19:51.735Z"
   },
   {
    "duration": 16,
    "start_time": "2023-03-22T17:19:54.656Z"
   },
   {
    "duration": 16,
    "start_time": "2023-03-22T17:19:56.688Z"
   },
   {
    "duration": 15,
    "start_time": "2023-03-22T17:20:29.783Z"
   },
   {
    "duration": 17,
    "start_time": "2023-03-22T17:20:32.146Z"
   },
   {
    "duration": 18,
    "start_time": "2023-03-22T17:20:35.792Z"
   },
   {
    "duration": 226,
    "start_time": "2023-03-22T17:22:06.355Z"
   },
   {
    "duration": 260,
    "start_time": "2023-03-22T17:22:28.059Z"
   },
   {
    "duration": 30,
    "start_time": "2023-03-22T17:25:18.188Z"
   },
   {
    "duration": 32,
    "start_time": "2023-03-22T17:26:09.785Z"
   },
   {
    "duration": 16,
    "start_time": "2023-03-22T17:29:09.664Z"
   },
   {
    "duration": 268,
    "start_time": "2023-03-22T17:30:28.186Z"
   },
   {
    "duration": 286,
    "start_time": "2023-03-22T17:30:31.955Z"
   },
   {
    "duration": 286,
    "start_time": "2023-03-22T17:30:36.294Z"
   },
   {
    "duration": 670,
    "start_time": "2023-03-22T17:30:43.620Z"
   },
   {
    "duration": 378,
    "start_time": "2023-03-22T17:30:51.590Z"
   },
   {
    "duration": 333,
    "start_time": "2023-03-22T17:33:23.672Z"
   },
   {
    "duration": 344,
    "start_time": "2023-03-22T17:33:33.853Z"
   },
   {
    "duration": 17,
    "start_time": "2023-03-22T17:33:59.076Z"
   },
   {
    "duration": 4,
    "start_time": "2023-03-22T17:34:19.368Z"
   },
   {
    "duration": 60,
    "start_time": "2023-03-22T17:34:19.888Z"
   },
   {
    "duration": 14,
    "start_time": "2023-03-22T17:34:19.951Z"
   },
   {
    "duration": 5,
    "start_time": "2023-03-22T17:34:20.946Z"
   },
   {
    "duration": 6,
    "start_time": "2023-03-22T17:34:21.487Z"
   },
   {
    "duration": 6,
    "start_time": "2023-03-22T17:34:21.744Z"
   },
   {
    "duration": 9,
    "start_time": "2023-03-22T17:34:22.539Z"
   },
   {
    "duration": 13,
    "start_time": "2023-03-22T17:34:22.894Z"
   },
   {
    "duration": 23,
    "start_time": "2023-03-22T17:34:24.750Z"
   },
   {
    "duration": 355,
    "start_time": "2023-03-22T17:34:25.847Z"
   },
   {
    "duration": 337,
    "start_time": "2023-03-22T17:34:42.688Z"
   },
   {
    "duration": 396,
    "start_time": "2023-03-22T17:34:46.858Z"
   },
   {
    "duration": 12,
    "start_time": "2023-03-22T17:34:50.325Z"
   },
   {
    "duration": 92,
    "start_time": "2023-03-22T17:35:41.193Z"
   },
   {
    "duration": 366,
    "start_time": "2023-03-22T17:36:03.747Z"
   },
   {
    "duration": 535,
    "start_time": "2023-03-22T17:36:54.288Z"
   },
   {
    "duration": 1509,
    "start_time": "2023-03-22T17:38:02.586Z"
   },
   {
    "duration": 27084,
    "start_time": "2023-03-22T17:38:09.875Z"
   },
   {
    "duration": 4777,
    "start_time": "2023-03-22T17:38:45.534Z"
   },
   {
    "duration": 4240,
    "start_time": "2023-03-22T17:39:27.650Z"
   },
   {
    "duration": 4542,
    "start_time": "2023-03-22T17:39:57.474Z"
   },
   {
    "duration": 175,
    "start_time": "2023-03-22T17:41:33.947Z"
   },
   {
    "duration": 193,
    "start_time": "2023-03-22T17:41:40.139Z"
   },
   {
    "duration": 199,
    "start_time": "2023-03-22T17:42:01.986Z"
   },
   {
    "duration": 685,
    "start_time": "2023-03-22T17:43:17.386Z"
   },
   {
    "duration": 765,
    "start_time": "2023-03-22T17:43:27.520Z"
   },
   {
    "duration": 1199,
    "start_time": "2023-03-22T17:43:38.382Z"
   },
   {
    "duration": 56,
    "start_time": "2023-03-22T17:44:12.998Z"
   },
   {
    "duration": 2032,
    "start_time": "2023-03-22T17:44:52.155Z"
   },
   {
    "duration": 1936,
    "start_time": "2023-03-22T17:46:21.166Z"
   },
   {
    "duration": 43,
    "start_time": "2023-03-22T17:48:13.946Z"
   },
   {
    "duration": 3871,
    "start_time": "2023-03-22T17:53:07.722Z"
   },
   {
    "duration": 53,
    "start_time": "2023-03-22T17:53:31.563Z"
   },
   {
    "duration": 3681,
    "start_time": "2023-03-22T17:53:35.877Z"
   },
   {
    "duration": 5,
    "start_time": "2023-03-22T17:54:33.724Z"
   },
   {
    "duration": 40398,
    "start_time": "2023-03-22T17:54:44.590Z"
   },
   {
    "duration": 4,
    "start_time": "2023-03-22T17:56:29.321Z"
   },
   {
    "duration": 40435,
    "start_time": "2023-03-22T17:56:36.951Z"
   },
   {
    "duration": 5,
    "start_time": "2023-03-22T17:57:39.599Z"
   },
   {
    "duration": 46,
    "start_time": "2023-03-22T17:57:52.729Z"
   },
   {
    "duration": 19,
    "start_time": "2023-03-22T17:58:56.922Z"
   },
   {
    "duration": 22,
    "start_time": "2023-03-22T17:59:17.716Z"
   },
   {
    "duration": 18,
    "start_time": "2023-03-22T17:59:27.160Z"
   },
   {
    "duration": 22,
    "start_time": "2023-03-22T17:59:36.791Z"
   },
   {
    "duration": 47,
    "start_time": "2023-03-22T17:59:41.558Z"
   },
   {
    "duration": 174,
    "start_time": "2023-03-22T18:00:38.026Z"
   },
   {
    "duration": 19,
    "start_time": "2023-03-22T18:00:44.018Z"
   },
   {
    "duration": 183,
    "start_time": "2023-03-22T18:00:47.504Z"
   },
   {
    "duration": 23,
    "start_time": "2023-03-22T18:01:01.871Z"
   },
   {
    "duration": 51,
    "start_time": "2023-03-22T18:01:15.221Z"
   },
   {
    "duration": 236,
    "start_time": "2023-03-22T18:01:22.771Z"
   },
   {
    "duration": 48,
    "start_time": "2023-03-22T18:02:09.793Z"
   },
   {
    "duration": 325,
    "start_time": "2023-03-22T18:02:12.962Z"
   },
   {
    "duration": 199,
    "start_time": "2023-03-22T18:02:19.018Z"
   },
   {
    "duration": 37,
    "start_time": "2023-03-22T18:03:57.171Z"
   },
   {
    "duration": 33,
    "start_time": "2023-03-22T18:04:00.627Z"
   },
   {
    "duration": 23,
    "start_time": "2023-03-22T18:04:04.170Z"
   },
   {
    "duration": 23,
    "start_time": "2023-03-22T18:04:07.566Z"
   },
   {
    "duration": 41,
    "start_time": "2023-03-22T18:04:10.923Z"
   },
   {
    "duration": 27,
    "start_time": "2023-03-22T18:04:13.983Z"
   },
   {
    "duration": 33,
    "start_time": "2023-03-22T18:04:16.561Z"
   },
   {
    "duration": 116,
    "start_time": "2023-03-22T18:04:27.571Z"
   },
   {
    "duration": 339,
    "start_time": "2023-03-22T18:04:32.525Z"
   },
   {
    "duration": 49,
    "start_time": "2023-03-22T18:04:56.489Z"
   },
   {
    "duration": 33,
    "start_time": "2023-03-22T18:05:01.755Z"
   },
   {
    "duration": 55,
    "start_time": "2023-03-22T18:05:07.690Z"
   },
   {
    "duration": 36,
    "start_time": "2023-03-22T18:05:13.471Z"
   },
   {
    "duration": 26,
    "start_time": "2023-03-22T18:05:18.358Z"
   },
   {
    "duration": 278,
    "start_time": "2023-03-22T18:05:31.490Z"
   },
   {
    "duration": 135,
    "start_time": "2023-03-22T18:05:36.224Z"
   },
   {
    "duration": 267,
    "start_time": "2023-03-22T18:05:39.806Z"
   },
   {
    "duration": 9,
    "start_time": "2023-03-22T18:06:00.151Z"
   },
   {
    "duration": 33,
    "start_time": "2023-03-22T18:06:02.297Z"
   },
   {
    "duration": 18,
    "start_time": "2023-03-22T18:06:04.094Z"
   },
   {
    "duration": 13,
    "start_time": "2023-03-22T18:07:05.099Z"
   },
   {
    "duration": 3,
    "start_time": "2023-03-22T18:08:34.189Z"
   },
   {
    "duration": 4,
    "start_time": "2023-03-22T18:08:34.459Z"
   },
   {
    "duration": 62,
    "start_time": "2023-03-22T18:08:34.674Z"
   },
   {
    "duration": 35,
    "start_time": "2023-03-22T18:08:34.903Z"
   },
   {
    "duration": 5,
    "start_time": "2023-03-22T18:08:35.886Z"
   },
   {
    "duration": 9,
    "start_time": "2023-03-22T18:08:36.435Z"
   },
   {
    "duration": 4,
    "start_time": "2023-03-22T18:08:36.682Z"
   },
   {
    "duration": 7,
    "start_time": "2023-03-22T18:08:37.262Z"
   },
   {
    "duration": 4,
    "start_time": "2023-03-22T18:08:37.514Z"
   },
   {
    "duration": 259,
    "start_time": "2023-03-22T18:08:39.038Z"
   },
   {
    "duration": 322,
    "start_time": "2023-03-22T18:08:39.920Z"
   },
   {
    "duration": 25,
    "start_time": "2023-03-22T18:08:41.996Z"
   },
   {
    "duration": 4905,
    "start_time": "2023-03-22T18:08:42.766Z"
   },
   {
    "duration": 1868,
    "start_time": "2023-03-22T18:08:47.674Z"
   },
   {
    "duration": 2094,
    "start_time": "2023-03-22T18:08:52.262Z"
   },
   {
    "duration": 238,
    "start_time": "2023-03-22T18:08:55.086Z"
   },
   {
    "duration": 3,
    "start_time": "2023-03-22T18:08:59.889Z"
   },
   {
    "duration": 41,
    "start_time": "2023-03-22T18:09:00.605Z"
   },
   {
    "duration": 42,
    "start_time": "2023-03-22T18:09:00.931Z"
   },
   {
    "duration": 276,
    "start_time": "2023-03-22T18:09:01.303Z"
   },
   {
    "duration": 9,
    "start_time": "2023-03-22T18:09:03.570Z"
   },
   {
    "duration": 37,
    "start_time": "2023-03-22T18:09:05.079Z"
   },
   {
    "duration": 7,
    "start_time": "2023-03-22T18:09:05.875Z"
   },
   {
    "duration": 10,
    "start_time": "2023-03-22T18:09:09.249Z"
   },
   {
    "duration": 17,
    "start_time": "2023-03-22T18:09:37.424Z"
   },
   {
    "duration": 250,
    "start_time": "2023-03-22T18:09:40.922Z"
   },
   {
    "duration": 9,
    "start_time": "2023-03-22T18:09:44.354Z"
   },
   {
    "duration": 6,
    "start_time": "2023-03-22T18:13:58.254Z"
   },
   {
    "duration": 12,
    "start_time": "2023-03-22T18:16:09.985Z"
   },
   {
    "duration": 11,
    "start_time": "2023-03-22T18:16:40.874Z"
   },
   {
    "duration": 16,
    "start_time": "2023-03-22T18:17:08.326Z"
   },
   {
    "duration": 1679,
    "start_time": "2023-03-22T18:45:09.326Z"
   },
   {
    "duration": 11,
    "start_time": "2023-03-22T18:45:11.007Z"
   },
   {
    "duration": 81,
    "start_time": "2023-03-22T18:45:11.028Z"
   },
   {
    "duration": 19,
    "start_time": "2023-03-22T18:45:11.834Z"
   },
   {
    "duration": 13,
    "start_time": "2023-03-22T18:45:14.920Z"
   },
   {
    "duration": 11,
    "start_time": "2023-03-22T18:45:17.223Z"
   },
   {
    "duration": 4,
    "start_time": "2023-03-22T18:45:17.543Z"
   },
   {
    "duration": 6,
    "start_time": "2023-03-22T18:45:18.592Z"
   },
   {
    "duration": 17,
    "start_time": "2023-03-22T18:45:18.927Z"
   },
   {
    "duration": 232,
    "start_time": "2023-03-22T18:45:21.341Z"
   },
   {
    "duration": 347,
    "start_time": "2023-03-22T18:45:22.176Z"
   },
   {
    "duration": 9,
    "start_time": "2023-03-22T18:45:24.078Z"
   },
   {
    "duration": 4109,
    "start_time": "2023-03-22T18:45:25.472Z"
   },
   {
    "duration": 1648,
    "start_time": "2023-03-22T18:45:30.738Z"
   },
   {
    "duration": 5122,
    "start_time": "2023-03-22T18:45:44.631Z"
   },
   {
    "duration": 1585,
    "start_time": "2023-03-22T18:47:10.961Z"
   },
   {
    "duration": 9,
    "start_time": "2023-03-22T18:47:12.930Z"
   },
   {
    "duration": 70,
    "start_time": "2023-03-22T18:47:13.688Z"
   },
   {
    "duration": 14,
    "start_time": "2023-03-22T18:47:14.465Z"
   },
   {
    "duration": 6,
    "start_time": "2023-03-22T18:47:16.222Z"
   },
   {
    "duration": 6,
    "start_time": "2023-03-22T18:47:16.848Z"
   },
   {
    "duration": 3,
    "start_time": "2023-03-22T18:47:17.242Z"
   },
   {
    "duration": 7,
    "start_time": "2023-03-22T18:47:17.911Z"
   },
   {
    "duration": 5,
    "start_time": "2023-03-22T18:47:18.248Z"
   },
   {
    "duration": 241,
    "start_time": "2023-03-22T18:47:19.881Z"
   },
   {
    "duration": 310,
    "start_time": "2023-03-22T18:47:20.814Z"
   },
   {
    "duration": 13,
    "start_time": "2023-03-22T18:47:22.841Z"
   },
   {
    "duration": 4307,
    "start_time": "2023-03-22T18:47:24.140Z"
   },
   {
    "duration": 1684,
    "start_time": "2023-03-22T18:47:29.027Z"
   },
   {
    "duration": 75,
    "start_time": "2023-03-22T18:47:31.673Z"
   },
   {
    "duration": 363698,
    "start_time": "2023-03-22T18:47:36.153Z"
   },
   {
    "duration": 150,
    "start_time": "2023-03-22T20:32:22.189Z"
   },
   {
    "duration": 165,
    "start_time": "2023-03-22T20:32:38.430Z"
   },
   {
    "duration": 188,
    "start_time": "2023-03-22T20:34:31.695Z"
   },
   {
    "duration": 3956,
    "start_time": "2023-04-06T18:13:42.118Z"
   },
   {
    "duration": 73,
    "start_time": "2023-04-06T18:13:46.076Z"
   },
   {
    "duration": 4,
    "start_time": "2023-04-06T18:13:49.934Z"
   },
   {
    "duration": 5,
    "start_time": "2023-04-06T18:13:50.902Z"
   },
   {
    "duration": 4,
    "start_time": "2023-04-06T18:13:51.808Z"
   },
   {
    "duration": 6,
    "start_time": "2023-04-06T18:13:56.342Z"
   },
   {
    "duration": 3,
    "start_time": "2023-04-06T18:13:56.895Z"
   }
  ],
  "kernelspec": {
   "display_name": "Python 3 (ipykernel)",
   "language": "python",
   "name": "python3"
  },
  "language_info": {
   "codemirror_mode": {
    "name": "ipython",
    "version": 3
   },
   "file_extension": ".py",
   "mimetype": "text/x-python",
   "name": "python",
   "nbconvert_exporter": "python",
   "pygments_lexer": "ipython3",
   "version": "3.9.5"
  },
  "toc": {
   "base_numbering": 1,
   "nav_menu": {},
   "number_sections": true,
   "sideBar": true,
   "skip_h1_title": true,
   "title_cell": "Table of Contents",
   "title_sidebar": "Contents",
   "toc_cell": false,
   "toc_position": {},
   "toc_section_display": true,
   "toc_window_display": false
  }
 },
 "nbformat": 4,
 "nbformat_minor": 2
}
