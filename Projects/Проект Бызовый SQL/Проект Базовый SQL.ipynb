{
 "cells": [
  {
   "cell_type": "markdown",
   "metadata": {},
   "source": [
    "В самостоятельном проекте вам нужно проанализировать данные о фондах и инвестициях и написать запросы к базе. "
   ]
  },
  {
   "cell_type": "markdown",
   "metadata": {},
   "source": [
    "**1.Посчитайте, сколько компаний закрылось.**"
   ]
  },
  {
   "cell_type": "markdown",
   "metadata": {},
   "source": [
    "``` \n",
    "SELECT COUNT(*)\n",
    "FROM company\n",
    "WHERE status = 'closed';\n",
    "```"
   ]
  },
  {
   "cell_type": "markdown",
   "metadata": {},
   "source": [
    "**2.Отобразите количество привлечённых средств для новостных компаний США. Используйте данные из таблицы company. Отсортируйте таблицу по убыванию значений в поле funding_total .**"
   ]
  },
  {
   "cell_type": "markdown",
   "metadata": {},
   "source": [
    "```\n",
    "SELECT funding_total\n",
    "FROM company\n",
    "WHERE category_code = 'news' AND country_code = 'USA'\n",
    "ORDER BY funding_total DESC;\n",
    "```"
   ]
  },
  {
   "cell_type": "markdown",
   "metadata": {},
   "source": [
    "**3.Найдите общую сумму сделок по покупке одних компаний другими в долларах. Отберите сделки, которые осуществлялись только за наличные с 2011 по 2013 год включительно.**"
   ]
  },
  {
   "cell_type": "markdown",
   "metadata": {},
   "source": [
    "```\n",
    "SELECT SUM(price_amount)\n",
    "FROM acquisition\n",
    "WHERE term_code = 'cash' AND acquired_at between '2011-01-01' AND '2013-12-31';\n",
    "```"
   ]
  },
  {
   "cell_type": "markdown",
   "metadata": {},
   "source": [
    "**4.Отобразите имя, фамилию и названия аккаунтов людей в твиттере, у которых названия аккаунтов начинаются на 'Silver'.**"
   ]
  },
  {
   "cell_type": "markdown",
   "metadata": {},
   "source": [
    "```\n",
    "SELECT first_name, last_name, twitter_username\n",
    "FROM people\n",
    "WHERE twitter_username LIKE 'Silver%';\n",
    "```"
   ]
  },
  {
   "cell_type": "markdown",
   "metadata": {},
   "source": [
    "**5.Выведите на экран всю информацию о людях, у которых названия аккаунтов в твиттере содержат подстроку 'money', а фамилия начинается на 'K'.**"
   ]
  },
  {
   "cell_type": "markdown",
   "metadata": {},
   "source": [
    "```\n",
    "SELECT *\n",
    "FROM people\n",
    "WHERE twitter_username LIKE '%money%' AND last_name LIKE 'K%';\n",
    "```"
   ]
  },
  {
   "cell_type": "markdown",
   "metadata": {},
   "source": [
    "**6.Для каждой страны отобразите общую сумму привлечённых инвестиций, которые получили компании, зарегистрированные в этой стране. Страну, в которой зарегистрирована компания, можно определить по коду страны. Отсортируйте данные по убыванию суммы.**"
   ]
  },
  {
   "cell_type": "markdown",
   "metadata": {},
   "source": [
    "```\n",
    "SELECT country_code, SUM(funding_total)\n",
    "FROM company\n",
    "GROUP BY country_code\n",
    "ORDER BY SUM(funding_total) DESC;\n",
    "```"
   ]
  },
  {
   "cell_type": "markdown",
   "metadata": {},
   "source": [
    "**7.Составьте таблицу, в которую войдёт дата проведения раунда, а также минимальное и максимальное значения суммы инвестиций, привлечённых в эту дату.\n",
    "Оставьте в итоговой таблице только те записи, в которых минимальное значение суммы инвестиций не равно нулю и не равно максимальному значению.**"
   ]
  },
  {
   "cell_type": "markdown",
   "metadata": {},
   "source": [
    "```\n",
    "SELECT funded_at, MIN(raised_amount), MAX(raised_amount)\n",
    "FROM funding_round\n",
    "GROUP BY funded_at\n",
    "HAVING (MIN(raised_amount) != 0) AND (MIN(raised_amount) != MAX(raised_amount));\n",
    "```"
   ]
  },
  {
   "cell_type": "markdown",
   "metadata": {},
   "source": [
    "**8.Создайте поле с категориями:\\\n",
    "Для фондов, которые инвестируют в 100 и более компаний, назначьте категорию high_activity.\\\n",
    "Для фондов, которые инвестируют в 20 и более компаний до 100, назначьте категорию middle_activity.\\\n",
    "Если количество инвестируемых компаний фонда не достигает 20, назначьте категорию low_activity.\\\n",
    "Отобразите все поля таблицы fund и новое поле с категориями.**"
   ]
  },
  {
   "cell_type": "markdown",
   "metadata": {},
   "source": [
    "```\n",
    "SELECT *, CASE\n",
    "WHEN invested_companies >= 100 THEN 'high_activity'\n",
    "WHEN invested_companies < 100 AND invested_companies >= 20 THEN 'middle_activity'\n",
    "ELSE 'low_activity' \n",
    "END\n",
    "FROM fund;\n",
    "```"
   ]
  },
  {
   "cell_type": "markdown",
   "metadata": {},
   "source": [
    "**9.Для каждой из категорий, назначенных в предыдущем задании, посчитайте округлённое до ближайшего целого числа среднее количество инвестиционных раундов, в которых фонд принимал участие. Выведите на экран категории и среднее число инвестиционных раундов. Отсортируйте таблицу по возрастанию среднего.**"
   ]
  },
  {
   "cell_type": "markdown",
   "metadata": {},
   "source": [
    "```\n",
    "SELECT \n",
    "       CASE\n",
    "           WHEN invested_companies>=100 THEN 'high_activity'\n",
    "           WHEN invested_companies>=20 THEN 'middle_activity'\n",
    "           ELSE 'low_activity'\n",
    "       END AS activity,\n",
    "       ROUND(AVG(investment_rounds))\n",
    "\n",
    "FROM fund\n",
    "GROUP BY activity\n",
    "ORDER BY ROUND(AVG(investment_rounds))\n",
    "```"
   ]
  },
  {
   "cell_type": "markdown",
   "metadata": {},
   "source": [
    "**10.Проанализируйте, в каких странах находятся фонды, которые чаще всего инвестируют в стартапы. \n",
    "Для каждой страны посчитайте минимальное, максимальное и среднее число компаний, в которые инвестировали фонды этой страны, основанные с 2010 по 2012 год включительно. Исключите страны с фондами, у которых минимальное число компаний, получивших инвестиции, равно нулю. \n",
    "Выгрузите десять самых активных стран-инвесторов: отсортируйте таблицу по среднему количеству компаний от большего к меньшему. Затем добавьте сортировку по коду страны в лексикографическом порядке.**"
   ]
  },
  {
   "cell_type": "markdown",
   "metadata": {},
   "source": [
    "```\n",
    "SELECT country_code,\n",
    "       MIN(invested_companies) AS min_count,\n",
    "       MAX(invested_companies) AS max_count,\n",
    "       AVG(invested_companies) AS avg_count\n",
    "FROM fund\n",
    "WHERE EXTRACT(YEAR FROM CAST(founded_at AS date)) BETWEEN 2010 AND 2012 \n",
    "GROUP BY country_code\n",
    "HAVING MIN(invested_companies) > 0\n",
    "ORDER BY avg_count DESC\n",
    "LIMIT 10;\n",
    "```"
   ]
  },
  {
   "cell_type": "markdown",
   "metadata": {},
   "source": [
    "**11.Отобразите имя и фамилию всех сотрудников стартапов. Добавьте поле с названием учебного заведения, которое окончил сотрудник, если эта информация известна.**"
   ]
  },
  {
   "cell_type": "markdown",
   "metadata": {},
   "source": [
    "```\n",
    "SELECT p.first_name, p.last_name, e.instituition\n",
    "FROM people AS p\n",
    "LEFT JOIN education AS e ON p.id = e.person_id;\n",
    "```"
   ]
  },
  {
   "cell_type": "markdown",
   "metadata": {},
   "source": [
    "**12.Для каждой компании найдите количество учебных заведений, которые окончили её сотрудники. Выведите название компании и число уникальных названий учебных заведений. Составьте топ-5 компаний по количеству университетов.**"
   ]
  },
  {
   "cell_type": "markdown",
   "metadata": {},
   "source": [
    "```\n",
    "SELECT c.name, COUNT(DISTINCT e.instituition)\n",
    "FROM company AS c\n",
    "INNER JOIN people AS p ON c.id = p.company_id\n",
    "INNER JOIN education AS e ON p.id = e.person_id\n",
    "GROUP BY c.name\n",
    "ORDER BY COUNT(DISTINCT e.instituition) DESC\n",
    "LIMIT 5;\n",
    "```"
   ]
  },
  {
   "cell_type": "markdown",
   "metadata": {},
   "source": [
    "**13.Составьте список с уникальными названиями закрытых компаний, для которых первый раунд финансирования оказался последним.**"
   ]
  },
  {
   "cell_type": "markdown",
   "metadata": {},
   "source": [
    "```\n",
    "SELECT DISTINCT name\n",
    "FROM company AS c\n",
    "LEFT JOIN funding_round AS f ON c.id = f.company_id\n",
    "WHERE c.status = 'closed' AND is_first_round = 1 AND is_last_round = 1;\n",
    "```"
   ]
  },
  {
   "cell_type": "markdown",
   "metadata": {},
   "source": [
    "**14.Составьте список уникальных номеров сотрудников, которые работают в компаниях, отобранных в предыдущем задании.**"
   ]
  },
  {
   "cell_type": "markdown",
   "metadata": {},
   "source": [
    "```\n",
    "SELECT DISTINCT p.id\n",
    "FROM company AS c\n",
    "LEFT JOIN funding_round AS f ON c.id = f.company_id\n",
    "RIGHT JOIN people AS p ON p.company_id = c.id\n",
    "WHERE c.status = 'closed' AND is_first_round = 1 AND is_last_round = 1;\n",
    "```"
   ]
  },
  {
   "cell_type": "markdown",
   "metadata": {},
   "source": [
    "**15.Составьте таблицу, куда войдут уникальные пары с номерами сотрудников из предыдущей задачи и учебным заведением, которое окончил сотрудник.**"
   ]
  },
  {
   "cell_type": "markdown",
   "metadata": {},
   "source": [
    "```\n",
    "SELECT p.id, e.instituition\n",
    "FROM company AS c\n",
    "LEFT JOIN funding_round AS f ON c.id = f.company_id\n",
    "RIGHT JOIN people AS p ON p.company_id = c.id\n",
    "RIGHT JOIN education AS e ON e.person_id = p.id\n",
    "WHERE c.status = 'closed' AND is_first_round = 1 AND is_last_round = 1\n",
    "GROUP BY p.id, e.instituition\n",
    "```"
   ]
  },
  {
   "cell_type": "markdown",
   "metadata": {},
   "source": [
    "**16.Посчитайте количество учебных заведений для каждого сотрудника из предыдущего задания. При подсчёте учитывайте, что некоторые сотрудники могли окончить одно и то же заведение дважды.**"
   ]
  },
  {
   "cell_type": "markdown",
   "metadata": {},
   "source": [
    "```\n",
    "SELECT p.id, COUNT(e.instituition)\n",
    "FROM people AS p\n",
    "INNER JOIN education AS e ON p.id=e.person_id\n",
    "WHERE p.company_id IN (\n",
    "                   SELECT id\n",
    "                   FROM company\n",
    "                   WHERE status='closed'\n",
    "                   AND id IN (\n",
    "                          SELECT company_id\n",
    "                          FROM funding_round\n",
    "                          WHERE is_first_round=1 AND is_last_round=1\n",
    "                             )\n",
    "                       )\n",
    "GROUP BY p.id;\n",
    "```\n"
   ]
  },
  {
   "cell_type": "markdown",
   "metadata": {},
   "source": [
    "**17.Дополните предыдущий запрос и выведите среднее число учебных заведений (всех, не только уникальных), которые окончили сотрудники разных компаний. Нужно вывести только одну запись, группировка здесь не понадобится.**"
   ]
  },
  {
   "cell_type": "markdown",
   "metadata": {},
   "source": [
    "```\n",
    "WITH\n",
    "count_institute AS (\n",
    "                    SELECT p.id,\n",
    "                           COUNT(e.instituition)\n",
    "                    FROM people AS p\n",
    "                    INNER JOIN education AS e\n",
    "                    ON p.id=e.person_id\n",
    "                    WHERE p.company_id IN (\n",
    "                                       SELECT id\n",
    "                                       FROM company\n",
    "                                       WHERE status='closed'\n",
    "                                       AND id IN (\n",
    "                                              SELECT company_id\n",
    "                                              FROM funding_round\n",
    "                                              WHERE is_first_round=1 AND is_last_round=1\n",
    "                                                 )\n",
    "                                          )\n",
    "                    GROUP BY p.id\n",
    "                    )\n",
    " \n",
    "SELECT AVG(count)\n",
    "FROM (SELECT count FROM count_institute) AS avg_count;\n",
    "```"
   ]
  },
  {
   "cell_type": "markdown",
   "metadata": {},
   "source": [
    "**18.Напишите похожий запрос: выведите среднее число учебных заведений (всех, не только уникальных), которые окончили сотрудники Facebook.\n",
    "(сервис, запрещённый на территории РФ)**"
   ]
  },
  {
   "cell_type": "markdown",
   "metadata": {},
   "source": [
    "```\n",
    "WITH a AS (select person_id, count(instituition) AS one\n",
    "FROM education\n",
    "WHERE person_id IN (SELECT id\n",
    "                    FROM people\n",
    "                    WHERE company_id IN (SELECT id\n",
    "                                        FROM company\n",
    "                                        WHERE name = 'Facebook'))\n",
    "                                        GROUP BY person_id)\n",
    "\n",
    "SELECT AVG(one)\n",
    "FROM a;\n",
    "```"
   ]
  },
  {
   "cell_type": "markdown",
   "metadata": {},
   "source": [
    "**19.Составьте таблицу из полей:**\n",
    "- **name_of_fund — название фонда;**\n",
    "- **name_of_company — название компании;**\n",
    "- **amount — сумма инвестиций, которую привлекла компания в раунде.**\n",
    "\n",
    "**В таблицу войдут данные о компаниях, в истории которых было больше шести важных этапов, а раунды финансирования проходили с 2012 по 2013 год включительно.**"
   ]
  },
  {
   "cell_type": "markdown",
   "metadata": {},
   "source": [
    "```\n",
    "SELECT f.name AS name_of_fund,\n",
    "       c.name AS name_of_company,\n",
    "       fr.raised_amount AS amount\n",
    "FROM investment AS i\n",
    "LEFT JOIN company AS c \n",
    "ON i.company_id=c.id\n",
    "LEFT JOIN fund AS f \n",
    "ON f.id=i.fund_id\n",
    "LEFT JOIN funding_round AS fr \n",
    "ON i.funding_round_id = fr.id\n",
    "WHERE c.milestones>6\n",
    "AND EXTRACT(YEAR FROM CAST(funded_at AS date)) BETWEEN 2012 AND 2013\n",
    "```"
   ]
  },
  {
   "cell_type": "markdown",
   "metadata": {},
   "source": [
    "**20.Выгрузите таблицу, в которой будут такие поля:**\n",
    "- **название компании-покупателя;**\n",
    "- **сумма сделки;**\n",
    "- **название компании, которую купили;**\n",
    "- **сумма инвестиций, вложенных в купленную компанию;**\n",
    "- **доля, которая отображает, во сколько раз сумма покупки превысила сумму вложенных в компанию инвестиций, округлённая до ближайшего целого числа.**\n",
    "\n",
    "**Не учитывайте те сделки, в которых сумма покупки равна нулю. Если сумма инвестиций в компанию равна нулю, исключите такую компанию из таблицы. \n",
    "Отсортируйте таблицу по сумме сделки от большей к меньшей, а затем по названию купленной компании в лексикографическом порядке. Ограничьте таблицу первыми десятью записями.**"
   ]
  },
  {
   "cell_type": "markdown",
   "metadata": {},
   "source": [
    "```\n",
    "SELECT c.name,\n",
    "    a.price_amount,\n",
    "    cmp.name,\n",
    "    cmp.funding_total,\n",
    "    ROUND(a.price_amount / cmp.funding_total)\n",
    "FROM acquisition AS a\n",
    "LEFT JOIN company AS c ON c.id = a.acquiring_company_id\n",
    "LEFT JOIN company AS cmp ON cmp.id = a.acquired_company_id\n",
    "WHERE cmp.funding_total > 0 AND a.price_amount > 0\n",
    "ORDER BY a.price_amount DESC\n",
    "LIMIT 10;\n",
    "```"
   ]
  },
  {
   "cell_type": "markdown",
   "metadata": {},
   "source": [
    "**21.Выгрузите таблицу, в которую войдут названия компаний из категории social, получившие финансирование с 2010 по 2013 год включительно. Проверьте, что сумма инвестиций не равна нулю. Выведите также номер месяца, в котором проходил раунд финансирования.**"
   ]
  },
  {
   "cell_type": "markdown",
   "metadata": {},
   "source": [
    "```\n",
    "SELECT com.name,\n",
    "       EXTRACT(MONTH FROM CAST(fr.funded_at AS date))\n",
    "FROM company AS com\n",
    "LEFT OUTER JOIN funding_round AS fr ON fr.company_id =com.id\n",
    "WHERE com.category_code = 'social'\n",
    "  AND EXTRACT(YEAR FROM CAST(fr.funded_at AS date)) IN (2010, 2011, 2012, 2013) AND fr.raised_amount != 0;\n",
    "  ```"
   ]
  },
  {
   "cell_type": "markdown",
   "metadata": {},
   "source": [
    "**22.Отберите данные по месяцам с 2010 по 2013 год, когда проходили инвестиционные раунды. Сгруппируйте данные по номеру месяца и получите таблицу, в которой будут поля:\\\n",
    "номер месяца, в котором проходили раунды;\\\n",
    "количество уникальных названий фондов из США, которые инвестировали в этом месяце;\\\n",
    "количество компаний, купленных за этот месяц;\\\n",
    "общая сумма сделок по покупкам в этом месяце.**"
   ]
  },
  {
   "cell_type": "markdown",
   "metadata": {},
   "source": [
    "```\n",
    "WITH\n",
    "fund_count AS (\n",
    "               SELECT EXTRACT(MONTH FROM CAST(fr.funded_at AS date)) AS month_number,\n",
    "                      COUNT(DISTINCT f.name) AS fund_count_USA       \n",
    "               FROM funding_round AS fr\n",
    "               LEFT OUTER JOIN investment AS i \n",
    "               ON fr.id=i.funding_round_id\n",
    "               LEFT OUTER JOIN fund AS f \n",
    "               ON i.fund_id=f.id\n",
    "               WHERE f.country_code='USA'\n",
    "               AND EXTRACT(YEAR FROM CAST(fr.funded_at AS date)) BETWEEN 2010 AND 2013\n",
    "               GROUP BY  EXTRACT(MONTH FROM CAST(fr.funded_at AS date))\n",
    "               ),\n",
    "comp_count AS (\n",
    "               SELECT EXTRACT(MONTH FROM CAST(acquired_at AS date)) AS month_number,\n",
    "                      COUNT(id) AS company_count,\n",
    "                      SUM(price_amount) AS total_amount\n",
    "               FROM  acquisition\n",
    "               WHERE EXTRACT(YEAR FROM CAST(acquired_at AS date)) BETWEEN 2010 AND 2013\n",
    "               GROUP BY EXTRACT(MONTH FROM CAST(acquired_at AS date)) \n",
    "               )\n",
    "                            \n",
    "                             \n",
    "SELECT fund_count.month_number,\n",
    "       fund_count_USA,\n",
    "       company_count, \n",
    "       total_amount\n",
    "FROM fund_count \n",
    "LEFT JOIN comp_count \n",
    "ON fund_count.month_number=comp_count.month_number;\n",
    "```"
   ]
  },
  {
   "cell_type": "markdown",
   "metadata": {},
   "source": [
    "**23.Составьте сводную таблицу и выведите среднюю сумму инвестиций для стран, в которых есть стартапы, зарегистрированные в 2011, 2012 и 2013 годах. Данные за каждый год должны быть в отдельном поле. Отсортируйте таблицу по среднему значению инвестиций за 2011 год от большего к меньшему.**"
   ]
  },
  {
   "cell_type": "markdown",
   "metadata": {},
   "source": [
    "```\n",
    "WITH\n",
    "y_2011 AS (\n",
    "           SELECT country_code,\n",
    "                  AVG(funding_total) AS year_2011\n",
    "           FROM company\n",
    "           WHERE EXTRACT(YEAR FROM CAST(founded_at AS date)) = 2011\n",
    "           GROUP BY country_code\n",
    "           ),\n",
    "y_2012 AS (\n",
    "           SELECT country_code,\n",
    "                  AVG(funding_total) AS  year_2012\n",
    "           FROM company\n",
    "           WHERE EXTRACT(YEAR FROM CAST(founded_at AS date)) = 2012\n",
    "           GROUP BY country_code\n",
    "           ), \n",
    "y_2013 AS (\n",
    "           SELECT country_code,\n",
    "                 AVG(funding_total) AS year_2013\n",
    "           FROM company\n",
    "           WHERE EXTRACT(YEAR FROM CAST(founded_at AS date)) = 2013\n",
    "           GROUP BY country_code\n",
    "           )\n",
    "\n",
    "SELECT y_2011.country_code,\n",
    "       year_2011,\n",
    "       year_2012,\n",
    "       year_2013\n",
    "FROM  y_2011 JOIN y_2012  \n",
    "ON y_2011.country_code=y_2012.country_code\n",
    "INNER JOIN y_2013 \n",
    "ON y_2011.country_code=y_2013.country_code\n",
    "ORDER BY year_2011 DESC;\n",
    "```"
   ]
  }
 ],
 "metadata": {
  "kernelspec": {
   "display_name": "Python 3",
   "language": "python",
   "name": "python3"
  },
  "language_info": {
   "name": "python",
   "version": "3.11.0"
  },
  "orig_nbformat": 4
 },
 "nbformat": 4,
 "nbformat_minor": 2
}
