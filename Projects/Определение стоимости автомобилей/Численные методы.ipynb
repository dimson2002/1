{
 "cells": [
  {
   "cell_type": "markdown",
   "metadata": {},
   "source": [
    "# Определение стоимости автомобилей"
   ]
  },
  {
   "cell_type": "markdown",
   "metadata": {},
   "source": [
    "Сервис по продаже автомобилей с пробегом «Не бит, не крашен» разрабатывает приложение для привлечения новых клиентов. В нём можно быстро узнать рыночную стоимость своего автомобиля. В вашем распоряжении исторические данные. Вам нужно построить модель для определения стоимости. \n",
    "\n",
    "Заказчику важны:\n",
    "\n",
    "- качество предсказания;\n",
    "- скорость предсказания;\n",
    "- время обучения."
   ]
  },
  {
   "cell_type": "markdown",
   "metadata": {},
   "source": [
    "## Подготовка данных"
   ]
  },
  {
   "cell_type": "code",
   "execution_count": 1,
   "metadata": {},
   "outputs": [
    {
     "name": "stdout",
     "output_type": "stream",
     "text": [
      "Collecting optuna\n",
      "  Downloading optuna-3.2.0-py3-none-any.whl (390 kB)\n",
      "\u001b[K     |████████████████████████████████| 390 kB 1.3 MB/s eta 0:00:01\n",
      "\u001b[?25hRequirement already satisfied: sqlalchemy>=1.3.0 in /opt/conda/lib/python3.9/site-packages (from optuna) (1.4.20)\n",
      "Requirement already satisfied: alembic>=1.5.0 in /opt/conda/lib/python3.9/site-packages (from optuna) (1.6.5)\n",
      "Requirement already satisfied: tqdm in /opt/conda/lib/python3.9/site-packages (from optuna) (4.61.2)\n",
      "Requirement already satisfied: numpy in /opt/conda/lib/python3.9/site-packages (from optuna) (1.21.1)\n",
      "Requirement already satisfied: packaging>=20.0 in /opt/conda/lib/python3.9/site-packages (from optuna) (21.3)\n",
      "Collecting colorlog\n",
      "  Downloading colorlog-6.7.0-py2.py3-none-any.whl (11 kB)\n",
      "Collecting cmaes>=0.9.1\n",
      "  Downloading cmaes-0.9.1-py3-none-any.whl (21 kB)\n",
      "Requirement already satisfied: PyYAML in /opt/conda/lib/python3.9/site-packages (from optuna) (6.0)\n",
      "Requirement already satisfied: python-editor>=0.3 in /opt/conda/lib/python3.9/site-packages (from alembic>=1.5.0->optuna) (1.0.4)\n",
      "Requirement already satisfied: Mako in /opt/conda/lib/python3.9/site-packages (from alembic>=1.5.0->optuna) (1.1.4)\n",
      "Requirement already satisfied: python-dateutil in /opt/conda/lib/python3.9/site-packages (from alembic>=1.5.0->optuna) (2.8.1)\n",
      "Requirement already satisfied: pyparsing!=3.0.5,>=2.0.2 in /opt/conda/lib/python3.9/site-packages (from packaging>=20.0->optuna) (2.4.7)\n",
      "Requirement already satisfied: greenlet!=0.4.17 in /opt/conda/lib/python3.9/site-packages (from sqlalchemy>=1.3.0->optuna) (1.1.0)\n",
      "Requirement already satisfied: MarkupSafe>=0.9.2 in /opt/conda/lib/python3.9/site-packages (from Mako->alembic>=1.5.0->optuna) (2.1.1)\n",
      "Requirement already satisfied: six>=1.5 in /opt/conda/lib/python3.9/site-packages (from python-dateutil->alembic>=1.5.0->optuna) (1.16.0)\n",
      "Installing collected packages: colorlog, cmaes, optuna\n",
      "Successfully installed cmaes-0.9.1 colorlog-6.7.0 optuna-3.2.0\n",
      "Collecting phik\n",
      "  Downloading phik-0.12.3-cp39-cp39-manylinux_2_17_x86_64.manylinux2014_x86_64.whl (679 kB)\n",
      "\u001b[K     |████████████████████████████████| 679 kB 1.3 MB/s eta 0:00:01\n",
      "\u001b[?25hRequirement already satisfied: pandas>=0.25.1 in /opt/conda/lib/python3.9/site-packages (from phik) (1.2.4)\n",
      "Requirement already satisfied: joblib>=0.14.1 in /opt/conda/lib/python3.9/site-packages (from phik) (1.1.0)\n",
      "Requirement already satisfied: scipy>=1.5.2 in /opt/conda/lib/python3.9/site-packages (from phik) (1.9.1)\n",
      "Requirement already satisfied: matplotlib>=2.2.3 in /opt/conda/lib/python3.9/site-packages (from phik) (3.3.4)\n",
      "Requirement already satisfied: numpy>=1.18.0 in /opt/conda/lib/python3.9/site-packages (from phik) (1.21.1)\n",
      "Requirement already satisfied: pyparsing!=2.0.4,!=2.1.2,!=2.1.6,>=2.0.3 in /opt/conda/lib/python3.9/site-packages (from matplotlib>=2.2.3->phik) (2.4.7)\n",
      "Requirement already satisfied: kiwisolver>=1.0.1 in /opt/conda/lib/python3.9/site-packages (from matplotlib>=2.2.3->phik) (1.4.4)\n",
      "Requirement already satisfied: cycler>=0.10 in /opt/conda/lib/python3.9/site-packages (from matplotlib>=2.2.3->phik) (0.11.0)\n",
      "Requirement already satisfied: pillow>=6.2.0 in /opt/conda/lib/python3.9/site-packages (from matplotlib>=2.2.3->phik) (8.4.0)\n",
      "Requirement already satisfied: python-dateutil>=2.1 in /opt/conda/lib/python3.9/site-packages (from matplotlib>=2.2.3->phik) (2.8.1)\n",
      "Requirement already satisfied: pytz>=2017.3 in /opt/conda/lib/python3.9/site-packages (from pandas>=0.25.1->phik) (2021.1)\n",
      "Requirement already satisfied: six>=1.5 in /opt/conda/lib/python3.9/site-packages (from python-dateutil>=2.1->matplotlib>=2.2.3->phik) (1.16.0)\n",
      "Installing collected packages: phik\n",
      "Successfully installed phik-0.12.3\n"
     ]
    }
   ],
   "source": [
    "!pip install optuna\n",
    "!pip install phik"
   ]
  },
  {
   "cell_type": "code",
   "execution_count": 91,
   "metadata": {},
   "outputs": [
    {
     "data": {
      "text/html": [
       "<style>.container { width:90% !important; }</style>"
      ],
      "text/plain": [
       "<IPython.core.display.HTML object>"
      ]
     },
     "metadata": {},
     "output_type": "display_data"
    }
   ],
   "source": [
    "import pandas as pd\n",
    "\n",
    "import numpy as np\n",
    "\n",
    "import matplotlib.pyplot as plt\n",
    "\n",
    "from sklearn.preprocessing import StandardScaler\n",
    "from sklearn.model_selection import train_test_split\n",
    "from sklearn.metrics import mean_squared_error\n",
    "from sklearn.linear_model import LinearRegression\n",
    "from sklearn.model_selection import GridSearchCV\n",
    "from sklearn.ensemble import RandomForestRegressor\n",
    "\n",
    "from lightgbm import LGBMRegressor\n",
    "from catboost import CatBoostRegressor\n",
    "\n",
    "import seaborn\n",
    "\n",
    "from IPython.core.display import display, HTML\n",
    "display(HTML(\"<style>.container { width:90% !important; }</style>\"))\n",
    "\n",
    "import warnings\n",
    "warnings.filterwarnings(\"ignore\")\n",
    "\n",
    "import time\n",
    "\n",
    "import optuna\n",
    "\n",
    "import phik\n"
   ]
  },
  {
   "cell_type": "code",
   "execution_count": 92,
   "metadata": {},
   "outputs": [
    {
     "data": {
      "text/html": [
       "<div>\n",
       "<style scoped>\n",
       "    .dataframe tbody tr th:only-of-type {\n",
       "        vertical-align: middle;\n",
       "    }\n",
       "\n",
       "    .dataframe tbody tr th {\n",
       "        vertical-align: top;\n",
       "    }\n",
       "\n",
       "    .dataframe thead th {\n",
       "        text-align: right;\n",
       "    }\n",
       "</style>\n",
       "<table border=\"1\" class=\"dataframe\">\n",
       "  <thead>\n",
       "    <tr style=\"text-align: right;\">\n",
       "      <th></th>\n",
       "      <th>DateCrawled</th>\n",
       "      <th>Price</th>\n",
       "      <th>VehicleType</th>\n",
       "      <th>RegistrationYear</th>\n",
       "      <th>Gearbox</th>\n",
       "      <th>Power</th>\n",
       "      <th>Model</th>\n",
       "      <th>Kilometer</th>\n",
       "      <th>RegistrationMonth</th>\n",
       "      <th>FuelType</th>\n",
       "      <th>Brand</th>\n",
       "      <th>Repaired</th>\n",
       "      <th>DateCreated</th>\n",
       "      <th>NumberOfPictures</th>\n",
       "      <th>PostalCode</th>\n",
       "      <th>LastSeen</th>\n",
       "    </tr>\n",
       "  </thead>\n",
       "  <tbody>\n",
       "    <tr>\n",
       "      <th>0</th>\n",
       "      <td>2016-03-24 11:52:17</td>\n",
       "      <td>480</td>\n",
       "      <td>NaN</td>\n",
       "      <td>1993</td>\n",
       "      <td>manual</td>\n",
       "      <td>0</td>\n",
       "      <td>golf</td>\n",
       "      <td>150000</td>\n",
       "      <td>0</td>\n",
       "      <td>petrol</td>\n",
       "      <td>volkswagen</td>\n",
       "      <td>NaN</td>\n",
       "      <td>2016-03-24 00:00:00</td>\n",
       "      <td>0</td>\n",
       "      <td>70435</td>\n",
       "      <td>2016-04-07 03:16:57</td>\n",
       "    </tr>\n",
       "    <tr>\n",
       "      <th>1</th>\n",
       "      <td>2016-03-24 10:58:45</td>\n",
       "      <td>18300</td>\n",
       "      <td>coupe</td>\n",
       "      <td>2011</td>\n",
       "      <td>manual</td>\n",
       "      <td>190</td>\n",
       "      <td>NaN</td>\n",
       "      <td>125000</td>\n",
       "      <td>5</td>\n",
       "      <td>gasoline</td>\n",
       "      <td>audi</td>\n",
       "      <td>yes</td>\n",
       "      <td>2016-03-24 00:00:00</td>\n",
       "      <td>0</td>\n",
       "      <td>66954</td>\n",
       "      <td>2016-04-07 01:46:50</td>\n",
       "    </tr>\n",
       "    <tr>\n",
       "      <th>2</th>\n",
       "      <td>2016-03-14 12:52:21</td>\n",
       "      <td>9800</td>\n",
       "      <td>suv</td>\n",
       "      <td>2004</td>\n",
       "      <td>auto</td>\n",
       "      <td>163</td>\n",
       "      <td>grand</td>\n",
       "      <td>125000</td>\n",
       "      <td>8</td>\n",
       "      <td>gasoline</td>\n",
       "      <td>jeep</td>\n",
       "      <td>NaN</td>\n",
       "      <td>2016-03-14 00:00:00</td>\n",
       "      <td>0</td>\n",
       "      <td>90480</td>\n",
       "      <td>2016-04-05 12:47:46</td>\n",
       "    </tr>\n",
       "    <tr>\n",
       "      <th>3</th>\n",
       "      <td>2016-03-17 16:54:04</td>\n",
       "      <td>1500</td>\n",
       "      <td>small</td>\n",
       "      <td>2001</td>\n",
       "      <td>manual</td>\n",
       "      <td>75</td>\n",
       "      <td>golf</td>\n",
       "      <td>150000</td>\n",
       "      <td>6</td>\n",
       "      <td>petrol</td>\n",
       "      <td>volkswagen</td>\n",
       "      <td>no</td>\n",
       "      <td>2016-03-17 00:00:00</td>\n",
       "      <td>0</td>\n",
       "      <td>91074</td>\n",
       "      <td>2016-03-17 17:40:17</td>\n",
       "    </tr>\n",
       "    <tr>\n",
       "      <th>4</th>\n",
       "      <td>2016-03-31 17:25:20</td>\n",
       "      <td>3600</td>\n",
       "      <td>small</td>\n",
       "      <td>2008</td>\n",
       "      <td>manual</td>\n",
       "      <td>69</td>\n",
       "      <td>fabia</td>\n",
       "      <td>90000</td>\n",
       "      <td>7</td>\n",
       "      <td>gasoline</td>\n",
       "      <td>skoda</td>\n",
       "      <td>no</td>\n",
       "      <td>2016-03-31 00:00:00</td>\n",
       "      <td>0</td>\n",
       "      <td>60437</td>\n",
       "      <td>2016-04-06 10:17:21</td>\n",
       "    </tr>\n",
       "  </tbody>\n",
       "</table>\n",
       "</div>"
      ],
      "text/plain": [
       "           DateCrawled  Price VehicleType  RegistrationYear Gearbox  Power  \\\n",
       "0  2016-03-24 11:52:17    480         NaN              1993  manual      0   \n",
       "1  2016-03-24 10:58:45  18300       coupe              2011  manual    190   \n",
       "2  2016-03-14 12:52:21   9800         suv              2004    auto    163   \n",
       "3  2016-03-17 16:54:04   1500       small              2001  manual     75   \n",
       "4  2016-03-31 17:25:20   3600       small              2008  manual     69   \n",
       "\n",
       "   Model  Kilometer  RegistrationMonth  FuelType       Brand Repaired  \\\n",
       "0   golf     150000                  0    petrol  volkswagen      NaN   \n",
       "1    NaN     125000                  5  gasoline        audi      yes   \n",
       "2  grand     125000                  8  gasoline        jeep      NaN   \n",
       "3   golf     150000                  6    petrol  volkswagen       no   \n",
       "4  fabia      90000                  7  gasoline       skoda       no   \n",
       "\n",
       "           DateCreated  NumberOfPictures  PostalCode             LastSeen  \n",
       "0  2016-03-24 00:00:00                 0       70435  2016-04-07 03:16:57  \n",
       "1  2016-03-24 00:00:00                 0       66954  2016-04-07 01:46:50  \n",
       "2  2016-03-14 00:00:00                 0       90480  2016-04-05 12:47:46  \n",
       "3  2016-03-17 00:00:00                 0       91074  2016-03-17 17:40:17  \n",
       "4  2016-03-31 00:00:00                 0       60437  2016-04-06 10:17:21  "
      ]
     },
     "execution_count": 92,
     "metadata": {},
     "output_type": "execute_result"
    }
   ],
   "source": [
    "try:\n",
    "    df = pd.read_csv('/Study/Yandex_Practicum/Определение стоимости автомобилей/autos.csv')\n",
    "except FileNotFoundError:\n",
    "    df = pd.read_csv('/datasets/autos.csv')\n",
    "df.head(5)"
   ]
  },
  {
   "cell_type": "code",
   "execution_count": 93,
   "metadata": {},
   "outputs": [
    {
     "name": "stdout",
     "output_type": "stream",
     "text": [
      "<class 'pandas.core.frame.DataFrame'>\n",
      "RangeIndex: 354369 entries, 0 to 354368\n",
      "Data columns (total 16 columns):\n",
      " #   Column             Non-Null Count   Dtype \n",
      "---  ------             --------------   ----- \n",
      " 0   DateCrawled        354369 non-null  object\n",
      " 1   Price              354369 non-null  int64 \n",
      " 2   VehicleType        316879 non-null  object\n",
      " 3   RegistrationYear   354369 non-null  int64 \n",
      " 4   Gearbox            334536 non-null  object\n",
      " 5   Power              354369 non-null  int64 \n",
      " 6   Model              334664 non-null  object\n",
      " 7   Kilometer          354369 non-null  int64 \n",
      " 8   RegistrationMonth  354369 non-null  int64 \n",
      " 9   FuelType           321474 non-null  object\n",
      " 10  Brand              354369 non-null  object\n",
      " 11  Repaired           283215 non-null  object\n",
      " 12  DateCreated        354369 non-null  object\n",
      " 13  NumberOfPictures   354369 non-null  int64 \n",
      " 14  PostalCode         354369 non-null  int64 \n",
      " 15  LastSeen           354369 non-null  object\n",
      "dtypes: int64(7), object(9)\n",
      "memory usage: 43.3+ MB\n"
     ]
    }
   ],
   "source": [
    "df.info()"
   ]
  },
  {
   "cell_type": "code",
   "execution_count": 94,
   "metadata": {},
   "outputs": [
    {
     "data": {
      "text/plain": [
       "354369"
      ]
     },
     "execution_count": 94,
     "metadata": {},
     "output_type": "execute_result"
    }
   ],
   "source": [
    "strings_before = df.shape[0]\n",
    "strings_before"
   ]
  },
  {
   "cell_type": "code",
   "execution_count": 95,
   "metadata": {},
   "outputs": [
    {
     "data": {
      "image/png": "[encoded data removed]",
      "text/plain": [
       "<Figure size 720x576 with 9 Axes>"
      ]
     },
     "metadata": {
      "needs_background": "light"
     },
     "output_type": "display_data"
    }
   ],
   "source": [
    "df.hist(figsize=(10, 8));"
   ]
  },
  {
   "cell_type": "code",
   "execution_count": 96,
   "metadata": {},
   "outputs": [
    {
     "data": {
      "text/html": [
       "<div>\n",
       "<style scoped>\n",
       "    .dataframe tbody tr th:only-of-type {\n",
       "        vertical-align: middle;\n",
       "    }\n",
       "\n",
       "    .dataframe tbody tr th {\n",
       "        vertical-align: top;\n",
       "    }\n",
       "\n",
       "    .dataframe thead th {\n",
       "        text-align: right;\n",
       "    }\n",
       "</style>\n",
       "<table border=\"1\" class=\"dataframe\">\n",
       "  <thead>\n",
       "    <tr style=\"text-align: right;\">\n",
       "      <th></th>\n",
       "      <th>Price</th>\n",
       "      <th>RegistrationYear</th>\n",
       "      <th>Power</th>\n",
       "      <th>Kilometer</th>\n",
       "      <th>RegistrationMonth</th>\n",
       "      <th>NumberOfPictures</th>\n",
       "      <th>PostalCode</th>\n",
       "    </tr>\n",
       "  </thead>\n",
       "  <tbody>\n",
       "    <tr>\n",
       "      <th>count</th>\n",
       "      <td>354369.000000</td>\n",
       "      <td>354369.000000</td>\n",
       "      <td>354369.000000</td>\n",
       "      <td>354369.000000</td>\n",
       "      <td>354369.000000</td>\n",
       "      <td>354369.0</td>\n",
       "      <td>354369.000000</td>\n",
       "    </tr>\n",
       "    <tr>\n",
       "      <th>mean</th>\n",
       "      <td>4416.656776</td>\n",
       "      <td>2004.234448</td>\n",
       "      <td>110.094337</td>\n",
       "      <td>128211.172535</td>\n",
       "      <td>5.714645</td>\n",
       "      <td>0.0</td>\n",
       "      <td>50508.689087</td>\n",
       "    </tr>\n",
       "    <tr>\n",
       "      <th>std</th>\n",
       "      <td>4514.158514</td>\n",
       "      <td>90.227958</td>\n",
       "      <td>189.850405</td>\n",
       "      <td>37905.341530</td>\n",
       "      <td>3.726421</td>\n",
       "      <td>0.0</td>\n",
       "      <td>25783.096248</td>\n",
       "    </tr>\n",
       "    <tr>\n",
       "      <th>min</th>\n",
       "      <td>0.000000</td>\n",
       "      <td>1000.000000</td>\n",
       "      <td>0.000000</td>\n",
       "      <td>5000.000000</td>\n",
       "      <td>0.000000</td>\n",
       "      <td>0.0</td>\n",
       "      <td>1067.000000</td>\n",
       "    </tr>\n",
       "    <tr>\n",
       "      <th>25%</th>\n",
       "      <td>1050.000000</td>\n",
       "      <td>1999.000000</td>\n",
       "      <td>69.000000</td>\n",
       "      <td>125000.000000</td>\n",
       "      <td>3.000000</td>\n",
       "      <td>0.0</td>\n",
       "      <td>30165.000000</td>\n",
       "    </tr>\n",
       "    <tr>\n",
       "      <th>50%</th>\n",
       "      <td>2700.000000</td>\n",
       "      <td>2003.000000</td>\n",
       "      <td>105.000000</td>\n",
       "      <td>150000.000000</td>\n",
       "      <td>6.000000</td>\n",
       "      <td>0.0</td>\n",
       "      <td>49413.000000</td>\n",
       "    </tr>\n",
       "    <tr>\n",
       "      <th>75%</th>\n",
       "      <td>6400.000000</td>\n",
       "      <td>2008.000000</td>\n",
       "      <td>143.000000</td>\n",
       "      <td>150000.000000</td>\n",
       "      <td>9.000000</td>\n",
       "      <td>0.0</td>\n",
       "      <td>71083.000000</td>\n",
       "    </tr>\n",
       "    <tr>\n",
       "      <th>max</th>\n",
       "      <td>20000.000000</td>\n",
       "      <td>9999.000000</td>\n",
       "      <td>20000.000000</td>\n",
       "      <td>150000.000000</td>\n",
       "      <td>12.000000</td>\n",
       "      <td>0.0</td>\n",
       "      <td>99998.000000</td>\n",
       "    </tr>\n",
       "  </tbody>\n",
       "</table>\n",
       "</div>"
      ],
      "text/plain": [
       "               Price  RegistrationYear          Power      Kilometer  \\\n",
       "count  354369.000000     354369.000000  354369.000000  354369.000000   \n",
       "mean     4416.656776       2004.234448     110.094337  128211.172535   \n",
       "std      4514.158514         90.227958     189.850405   37905.341530   \n",
       "min         0.000000       1000.000000       0.000000    5000.000000   \n",
       "25%      1050.000000       1999.000000      69.000000  125000.000000   \n",
       "50%      2700.000000       2003.000000     105.000000  150000.000000   \n",
       "75%      6400.000000       2008.000000     143.000000  150000.000000   \n",
       "max     20000.000000       9999.000000   20000.000000  150000.000000   \n",
       "\n",
       "       RegistrationMonth  NumberOfPictures     PostalCode  \n",
       "count      354369.000000          354369.0  354369.000000  \n",
       "mean            5.714645               0.0   50508.689087  \n",
       "std             3.726421               0.0   25783.096248  \n",
       "min             0.000000               0.0    1067.000000  \n",
       "25%             3.000000               0.0   30165.000000  \n",
       "50%             6.000000               0.0   49413.000000  \n",
       "75%             9.000000               0.0   71083.000000  \n",
       "max            12.000000               0.0   99998.000000  "
      ]
     },
     "execution_count": 96,
     "metadata": {},
     "output_type": "execute_result"
    }
   ],
   "source": [
    "df.describe()"
   ]
  },
  {
   "cell_type": "code",
   "execution_count": 97,
   "metadata": {},
   "outputs": [
    {
     "data": {
      "text/html": [
       "<div>\n",
       "<style scoped>\n",
       "    .dataframe tbody tr th:only-of-type {\n",
       "        vertical-align: middle;\n",
       "    }\n",
       "\n",
       "    .dataframe tbody tr th {\n",
       "        vertical-align: top;\n",
       "    }\n",
       "\n",
       "    .dataframe thead th {\n",
       "        text-align: right;\n",
       "    }\n",
       "</style>\n",
       "<table border=\"1\" class=\"dataframe\">\n",
       "  <thead>\n",
       "    <tr style=\"text-align: right;\">\n",
       "      <th></th>\n",
       "      <th>DateCrawled</th>\n",
       "      <th>VehicleType</th>\n",
       "      <th>Gearbox</th>\n",
       "      <th>Model</th>\n",
       "      <th>FuelType</th>\n",
       "      <th>Brand</th>\n",
       "      <th>Repaired</th>\n",
       "      <th>DateCreated</th>\n",
       "      <th>LastSeen</th>\n",
       "    </tr>\n",
       "  </thead>\n",
       "  <tbody>\n",
       "    <tr>\n",
       "      <th>count</th>\n",
       "      <td>354369</td>\n",
       "      <td>316879</td>\n",
       "      <td>334536</td>\n",
       "      <td>334664</td>\n",
       "      <td>321474</td>\n",
       "      <td>354369</td>\n",
       "      <td>283215</td>\n",
       "      <td>354369</td>\n",
       "      <td>354369</td>\n",
       "    </tr>\n",
       "    <tr>\n",
       "      <th>unique</th>\n",
       "      <td>271174</td>\n",
       "      <td>8</td>\n",
       "      <td>2</td>\n",
       "      <td>250</td>\n",
       "      <td>7</td>\n",
       "      <td>40</td>\n",
       "      <td>2</td>\n",
       "      <td>109</td>\n",
       "      <td>179150</td>\n",
       "    </tr>\n",
       "    <tr>\n",
       "      <th>top</th>\n",
       "      <td>2016-03-24 14:49:47</td>\n",
       "      <td>sedan</td>\n",
       "      <td>manual</td>\n",
       "      <td>golf</td>\n",
       "      <td>petrol</td>\n",
       "      <td>volkswagen</td>\n",
       "      <td>no</td>\n",
       "      <td>2016-04-03 00:00:00</td>\n",
       "      <td>2016-04-06 13:45:54</td>\n",
       "    </tr>\n",
       "    <tr>\n",
       "      <th>freq</th>\n",
       "      <td>7</td>\n",
       "      <td>91457</td>\n",
       "      <td>268251</td>\n",
       "      <td>29232</td>\n",
       "      <td>216352</td>\n",
       "      <td>77013</td>\n",
       "      <td>247161</td>\n",
       "      <td>13719</td>\n",
       "      <td>17</td>\n",
       "    </tr>\n",
       "  </tbody>\n",
       "</table>\n",
       "</div>"
      ],
      "text/plain": [
       "                DateCrawled VehicleType Gearbox   Model FuelType       Brand  \\\n",
       "count                354369      316879  334536  334664   321474      354369   \n",
       "unique               271174           8       2     250        7          40   \n",
       "top     2016-03-24 14:49:47       sedan  manual    golf   petrol  volkswagen   \n",
       "freq                      7       91457  268251   29232   216352       77013   \n",
       "\n",
       "       Repaired          DateCreated             LastSeen  \n",
       "count    283215               354369               354369  \n",
       "unique        2                  109               179150  \n",
       "top          no  2016-04-03 00:00:00  2016-04-06 13:45:54  \n",
       "freq     247161                13719                   17  "
      ]
     },
     "execution_count": 97,
     "metadata": {},
     "output_type": "execute_result"
    }
   ],
   "source": [
    "df.describe(include='object')"
   ]
  },
  {
   "cell_type": "code",
   "execution_count": 98,
   "metadata": {
    "scrolled": false
   },
   "outputs": [
    {
     "data": {
      "text/plain": [
       "DateCrawled              0\n",
       "Price                    0\n",
       "VehicleType          37490\n",
       "RegistrationYear         0\n",
       "Gearbox              19833\n",
       "Power                    0\n",
       "Model                19705\n",
       "Kilometer                0\n",
       "RegistrationMonth        0\n",
       "FuelType             32895\n",
       "Brand                    0\n",
       "Repaired             71154\n",
       "DateCreated              0\n",
       "NumberOfPictures         0\n",
       "PostalCode               0\n",
       "LastSeen                 0\n",
       "dtype: int64"
      ]
     },
     "execution_count": 98,
     "metadata": {},
     "output_type": "execute_result"
    }
   ],
   "source": [
    "df.isna().sum()"
   ]
  },
  {
   "cell_type": "markdown",
   "metadata": {},
   "source": [
    "Вывод: в данных есть пропуски и аномальные значения, со всем этим попытаемся разобраться далее."
   ]
  },
  {
   "cell_type": "markdown",
   "metadata": {},
   "source": [
    "### Предобработка данных"
   ]
  },
  {
   "cell_type": "markdown",
   "metadata": {},
   "source": [
    "**Посмотрим значения в столбце с ценой.**"
   ]
  },
  {
   "cell_type": "code",
   "execution_count": 99,
   "metadata": {},
   "outputs": [
    {
     "data": {
      "image/png": "[encoded data removed]",
      "text/plain": [
       "<Figure size 720x576 with 1 Axes>"
      ]
     },
     "metadata": {
      "needs_background": "light"
     },
     "output_type": "display_data"
    }
   ],
   "source": [
    "df['Price'].plot(kind='box', grid=True, figsize=(10, 8), title='Распределение цены');"
   ]
  },
  {
   "cell_type": "code",
   "execution_count": 100,
   "metadata": {},
   "outputs": [
    {
     "data": {
      "image/png": "[encoded data removed]",
      "text/plain": [
       "<Figure size 1080x504 with 1 Axes>"
      ]
     },
     "metadata": {
      "needs_background": "light"
     },
     "output_type": "display_data"
    }
   ],
   "source": [
    "df['Price'].hist(bins=50, figsize=(15,7))\n",
    "plt.xlabel('Цена')\n",
    "plt.ylabel('Количество');\n"
   ]
  },
  {
   "cell_type": "code",
   "execution_count": 101,
   "metadata": {},
   "outputs": [],
   "source": [
    "df = df.query('Price > 100')"
   ]
  },
  {
   "cell_type": "code",
   "execution_count": 102,
   "metadata": {},
   "outputs": [
    {
     "data": {
      "text/plain": [
       "DateCrawled              0\n",
       "Price                    0\n",
       "VehicleType          32251\n",
       "RegistrationYear         0\n",
       "Gearbox              16085\n",
       "Power                    0\n",
       "Model                16889\n",
       "Kilometer                0\n",
       "RegistrationMonth        0\n",
       "FuelType             28004\n",
       "Brand                    0\n",
       "Repaired             63867\n",
       "DateCreated              0\n",
       "NumberOfPictures         0\n",
       "PostalCode               0\n",
       "LastSeen                 0\n",
       "dtype: int64"
      ]
     },
     "execution_count": 102,
     "metadata": {},
     "output_type": "execute_result"
    }
   ],
   "source": [
    "df.isna().sum()"
   ]
  },
  {
   "cell_type": "markdown",
   "metadata": {},
   "source": [
    "**Поменяем значения в столбце с типом кузова**"
   ]
  },
  {
   "cell_type": "code",
   "execution_count": 103,
   "metadata": {},
   "outputs": [
    {
     "data": {
      "text/plain": [
       "array([nan, 'coupe', 'suv', 'small', 'sedan', 'convertible', 'bus',\n",
       "       'wagon', 'other'], dtype=object)"
      ]
     },
     "execution_count": 103,
     "metadata": {},
     "output_type": "execute_result"
    }
   ],
   "source": [
    "df['VehicleType'].unique()"
   ]
  },
  {
   "cell_type": "code",
   "execution_count": 104,
   "metadata": {},
   "outputs": [],
   "source": [
    "df['VehicleType'] = df['VehicleType'].fillna('other')"
   ]
  },
  {
   "cell_type": "markdown",
   "metadata": {},
   "source": [
    "Сделал я так потому, что одинаковые модели могут иметь разные типы кузова."
   ]
  },
  {
   "cell_type": "markdown",
   "metadata": {},
   "source": [
    "**Посмотрим значения в столбце с датой регистрации автомобиля**"
   ]
  },
  {
   "cell_type": "code",
   "execution_count": 105,
   "metadata": {},
   "outputs": [
    {
     "data": {
      "image/png": "[encoded data removed]",
      "text/plain": [
       "<Figure size 720x576 with 1 Axes>"
      ]
     },
     "metadata": {
      "needs_background": "light"
     },
     "output_type": "display_data"
    }
   ],
   "source": [
    "pd.Series(list(df['RegistrationYear'].unique())).plot(kind='hist', \n",
    "                                                      grid=True, bins=40, figsize=(10, 8), \n",
    "                                                      title='Распределение годов регистрации');"
   ]
  },
  {
   "cell_type": "code",
   "execution_count": 106,
   "metadata": {},
   "outputs": [
    {
     "data": {
      "text/plain": [
       "array([1993, 2011, 2004, 2001, 2008, 1995, 2014, 1998, 2005, 1910, 2016,\n",
       "       2007, 2009, 2002, 2018, 1997, 1990, 2017, 1981, 2003, 1994, 1991,\n",
       "       1984, 2006, 1999, 2012, 2010, 2000, 1992, 2013, 1996, 1985, 1989,\n",
       "       2015, 1982, 1976, 1983, 1973, 1969, 1971, 1987, 1986, 1988, 1980,\n",
       "       1970, 1965, 1945, 1925, 1974, 1979, 1955, 1978, 1972, 1968, 1977,\n",
       "       1961, 1966, 1975, 1963, 1964, 1960, 1958, 1967, 1956, 3200, 1000,\n",
       "       1941, 9999, 8888, 1500, 2200, 4100, 1962, 1929, 1957, 1940, 3000,\n",
       "       2066, 1949, 2019, 1937, 1951, 1800, 1959, 1953, 1954, 1234, 5300,\n",
       "       9000, 2900, 6000, 5900, 5911, 1400, 5000, 1950, 4000, 1948, 1952,\n",
       "       8500, 1932, 3700, 3800, 4800, 1942, 7000, 1935, 1933, 1936, 1923,\n",
       "       2290, 1930, 1001, 9450, 1944, 2500, 1943, 1938, 1934, 1928, 5555,\n",
       "       5600, 1600, 1111, 1039, 1300, 2800, 1931, 4500, 1602, 7800, 1947,\n",
       "       1927, 7100, 8200, 1946])"
      ]
     },
     "execution_count": 106,
     "metadata": {},
     "output_type": "execute_result"
    }
   ],
   "source": [
    "df['RegistrationYear'].unique()"
   ]
  },
  {
   "cell_type": "code",
   "execution_count": 107,
   "metadata": {},
   "outputs": [],
   "source": [
    "df = df.query('2017 > RegistrationYear > 1980')"
   ]
  },
  {
   "cell_type": "markdown",
   "metadata": {},
   "source": [
    "**Далее посмотрим на пропуски в столбце с типом коробки передач**"
   ]
  },
  {
   "cell_type": "code",
   "execution_count": 108,
   "metadata": {},
   "outputs": [
    {
     "data": {
      "text/html": [
       "<div>\n",
       "<style scoped>\n",
       "    .dataframe tbody tr th:only-of-type {\n",
       "        vertical-align: middle;\n",
       "    }\n",
       "\n",
       "    .dataframe tbody tr th {\n",
       "        vertical-align: top;\n",
       "    }\n",
       "\n",
       "    .dataframe thead th {\n",
       "        text-align: right;\n",
       "    }\n",
       "</style>\n",
       "<table border=\"1\" class=\"dataframe\">\n",
       "  <thead>\n",
       "    <tr style=\"text-align: right;\">\n",
       "      <th></th>\n",
       "      <th>DateCrawled</th>\n",
       "      <th>Price</th>\n",
       "      <th>VehicleType</th>\n",
       "      <th>RegistrationYear</th>\n",
       "      <th>Gearbox</th>\n",
       "      <th>Power</th>\n",
       "      <th>Model</th>\n",
       "      <th>Kilometer</th>\n",
       "      <th>RegistrationMonth</th>\n",
       "      <th>FuelType</th>\n",
       "      <th>Brand</th>\n",
       "      <th>Repaired</th>\n",
       "      <th>DateCreated</th>\n",
       "      <th>NumberOfPictures</th>\n",
       "      <th>PostalCode</th>\n",
       "      <th>LastSeen</th>\n",
       "    </tr>\n",
       "  </thead>\n",
       "  <tbody>\n",
       "    <tr>\n",
       "      <th>16</th>\n",
       "      <td>2016-04-01 12:46:46</td>\n",
       "      <td>300</td>\n",
       "      <td>other</td>\n",
       "      <td>2016</td>\n",
       "      <td>NaN</td>\n",
       "      <td>60</td>\n",
       "      <td>polo</td>\n",
       "      <td>150000</td>\n",
       "      <td>0</td>\n",
       "      <td>petrol</td>\n",
       "      <td>volkswagen</td>\n",
       "      <td>NaN</td>\n",
       "      <td>2016-04-01 00:00:00</td>\n",
       "      <td>0</td>\n",
       "      <td>38871</td>\n",
       "      <td>2016-04-01 12:46:46</td>\n",
       "    </tr>\n",
       "    <tr>\n",
       "      <th>32</th>\n",
       "      <td>2016-03-15 20:59:01</td>\n",
       "      <td>245</td>\n",
       "      <td>sedan</td>\n",
       "      <td>1994</td>\n",
       "      <td>NaN</td>\n",
       "      <td>0</td>\n",
       "      <td>golf</td>\n",
       "      <td>150000</td>\n",
       "      <td>2</td>\n",
       "      <td>petrol</td>\n",
       "      <td>volkswagen</td>\n",
       "      <td>no</td>\n",
       "      <td>2016-03-15 00:00:00</td>\n",
       "      <td>0</td>\n",
       "      <td>44145</td>\n",
       "      <td>2016-03-17 18:17:43</td>\n",
       "    </tr>\n",
       "    <tr>\n",
       "      <th>37</th>\n",
       "      <td>2016-03-28 17:50:15</td>\n",
       "      <td>1500</td>\n",
       "      <td>other</td>\n",
       "      <td>2016</td>\n",
       "      <td>NaN</td>\n",
       "      <td>0</td>\n",
       "      <td>kangoo</td>\n",
       "      <td>150000</td>\n",
       "      <td>1</td>\n",
       "      <td>gasoline</td>\n",
       "      <td>renault</td>\n",
       "      <td>no</td>\n",
       "      <td>2016-03-28 00:00:00</td>\n",
       "      <td>0</td>\n",
       "      <td>46483</td>\n",
       "      <td>2016-03-30 09:18:02</td>\n",
       "    </tr>\n",
       "    <tr>\n",
       "      <th>69</th>\n",
       "      <td>2016-04-01 11:56:40</td>\n",
       "      <td>1200</td>\n",
       "      <td>coupe</td>\n",
       "      <td>2001</td>\n",
       "      <td>NaN</td>\n",
       "      <td>0</td>\n",
       "      <td>astra</td>\n",
       "      <td>150000</td>\n",
       "      <td>0</td>\n",
       "      <td>NaN</td>\n",
       "      <td>opel</td>\n",
       "      <td>NaN</td>\n",
       "      <td>2016-04-01 00:00:00</td>\n",
       "      <td>0</td>\n",
       "      <td>47249</td>\n",
       "      <td>2016-04-07 08:46:07</td>\n",
       "    </tr>\n",
       "    <tr>\n",
       "      <th>92</th>\n",
       "      <td>2016-03-16 07:56:19</td>\n",
       "      <td>250</td>\n",
       "      <td>other</td>\n",
       "      <td>2000</td>\n",
       "      <td>NaN</td>\n",
       "      <td>60</td>\n",
       "      <td>ka</td>\n",
       "      <td>150000</td>\n",
       "      <td>0</td>\n",
       "      <td>NaN</td>\n",
       "      <td>ford</td>\n",
       "      <td>NaN</td>\n",
       "      <td>2016-03-16 00:00:00</td>\n",
       "      <td>0</td>\n",
       "      <td>51427</td>\n",
       "      <td>2016-03-21 09:47:08</td>\n",
       "    </tr>\n",
       "    <tr>\n",
       "      <th>...</th>\n",
       "      <td>...</td>\n",
       "      <td>...</td>\n",
       "      <td>...</td>\n",
       "      <td>...</td>\n",
       "      <td>...</td>\n",
       "      <td>...</td>\n",
       "      <td>...</td>\n",
       "      <td>...</td>\n",
       "      <td>...</td>\n",
       "      <td>...</td>\n",
       "      <td>...</td>\n",
       "      <td>...</td>\n",
       "      <td>...</td>\n",
       "      <td>...</td>\n",
       "      <td>...</td>\n",
       "      <td>...</td>\n",
       "    </tr>\n",
       "    <tr>\n",
       "      <th>354288</th>\n",
       "      <td>2016-03-16 13:36:25</td>\n",
       "      <td>3300</td>\n",
       "      <td>wagon</td>\n",
       "      <td>2006</td>\n",
       "      <td>NaN</td>\n",
       "      <td>0</td>\n",
       "      <td>touran</td>\n",
       "      <td>150000</td>\n",
       "      <td>7</td>\n",
       "      <td>gasoline</td>\n",
       "      <td>volkswagen</td>\n",
       "      <td>NaN</td>\n",
       "      <td>2016-03-16 00:00:00</td>\n",
       "      <td>0</td>\n",
       "      <td>12057</td>\n",
       "      <td>2016-03-17 12:17:07</td>\n",
       "    </tr>\n",
       "    <tr>\n",
       "      <th>354305</th>\n",
       "      <td>2016-04-03 13:46:24</td>\n",
       "      <td>3500</td>\n",
       "      <td>other</td>\n",
       "      <td>1995</td>\n",
       "      <td>NaN</td>\n",
       "      <td>0</td>\n",
       "      <td>polo</td>\n",
       "      <td>150000</td>\n",
       "      <td>0</td>\n",
       "      <td>NaN</td>\n",
       "      <td>volkswagen</td>\n",
       "      <td>NaN</td>\n",
       "      <td>2016-04-03 00:00:00</td>\n",
       "      <td>0</td>\n",
       "      <td>74579</td>\n",
       "      <td>2016-04-05 12:44:38</td>\n",
       "    </tr>\n",
       "    <tr>\n",
       "      <th>354329</th>\n",
       "      <td>2016-03-30 20:55:30</td>\n",
       "      <td>350</td>\n",
       "      <td>small</td>\n",
       "      <td>1996</td>\n",
       "      <td>NaN</td>\n",
       "      <td>65</td>\n",
       "      <td>punto</td>\n",
       "      <td>150000</td>\n",
       "      <td>0</td>\n",
       "      <td>NaN</td>\n",
       "      <td>fiat</td>\n",
       "      <td>NaN</td>\n",
       "      <td>2016-03-30 00:00:00</td>\n",
       "      <td>0</td>\n",
       "      <td>25436</td>\n",
       "      <td>2016-04-07 13:50:41</td>\n",
       "    </tr>\n",
       "    <tr>\n",
       "      <th>354338</th>\n",
       "      <td>2016-03-31 19:52:33</td>\n",
       "      <td>180</td>\n",
       "      <td>other</td>\n",
       "      <td>1995</td>\n",
       "      <td>NaN</td>\n",
       "      <td>0</td>\n",
       "      <td>NaN</td>\n",
       "      <td>125000</td>\n",
       "      <td>3</td>\n",
       "      <td>petrol</td>\n",
       "      <td>opel</td>\n",
       "      <td>NaN</td>\n",
       "      <td>2016-03-31 00:00:00</td>\n",
       "      <td>0</td>\n",
       "      <td>41470</td>\n",
       "      <td>2016-04-06 14:18:04</td>\n",
       "    </tr>\n",
       "    <tr>\n",
       "      <th>354365</th>\n",
       "      <td>2016-03-14 17:48:27</td>\n",
       "      <td>2200</td>\n",
       "      <td>other</td>\n",
       "      <td>2005</td>\n",
       "      <td>NaN</td>\n",
       "      <td>0</td>\n",
       "      <td>NaN</td>\n",
       "      <td>20000</td>\n",
       "      <td>1</td>\n",
       "      <td>NaN</td>\n",
       "      <td>sonstige_autos</td>\n",
       "      <td>NaN</td>\n",
       "      <td>2016-03-14 00:00:00</td>\n",
       "      <td>0</td>\n",
       "      <td>39576</td>\n",
       "      <td>2016-04-06 00:46:52</td>\n",
       "    </tr>\n",
       "  </tbody>\n",
       "</table>\n",
       "<p>13740 rows × 16 columns</p>\n",
       "</div>"
      ],
      "text/plain": [
       "                DateCrawled  Price VehicleType  RegistrationYear Gearbox  \\\n",
       "16      2016-04-01 12:46:46    300       other              2016     NaN   \n",
       "32      2016-03-15 20:59:01    245       sedan              1994     NaN   \n",
       "37      2016-03-28 17:50:15   1500       other              2016     NaN   \n",
       "69      2016-04-01 11:56:40   1200       coupe              2001     NaN   \n",
       "92      2016-03-16 07:56:19    250       other              2000     NaN   \n",
       "...                     ...    ...         ...               ...     ...   \n",
       "354288  2016-03-16 13:36:25   3300       wagon              2006     NaN   \n",
       "354305  2016-04-03 13:46:24   3500       other              1995     NaN   \n",
       "354329  2016-03-30 20:55:30    350       small              1996     NaN   \n",
       "354338  2016-03-31 19:52:33    180       other              1995     NaN   \n",
       "354365  2016-03-14 17:48:27   2200       other              2005     NaN   \n",
       "\n",
       "        Power   Model  Kilometer  RegistrationMonth  FuelType           Brand  \\\n",
       "16         60    polo     150000                  0    petrol      volkswagen   \n",
       "32          0    golf     150000                  2    petrol      volkswagen   \n",
       "37          0  kangoo     150000                  1  gasoline         renault   \n",
       "69          0   astra     150000                  0       NaN            opel   \n",
       "92         60      ka     150000                  0       NaN            ford   \n",
       "...       ...     ...        ...                ...       ...             ...   \n",
       "354288      0  touran     150000                  7  gasoline      volkswagen   \n",
       "354305      0    polo     150000                  0       NaN      volkswagen   \n",
       "354329     65   punto     150000                  0       NaN            fiat   \n",
       "354338      0     NaN     125000                  3    petrol            opel   \n",
       "354365      0     NaN      20000                  1       NaN  sonstige_autos   \n",
       "\n",
       "       Repaired          DateCreated  NumberOfPictures  PostalCode  \\\n",
       "16          NaN  2016-04-01 00:00:00                 0       38871   \n",
       "32           no  2016-03-15 00:00:00                 0       44145   \n",
       "37           no  2016-03-28 00:00:00                 0       46483   \n",
       "69          NaN  2016-04-01 00:00:00                 0       47249   \n",
       "92          NaN  2016-03-16 00:00:00                 0       51427   \n",
       "...         ...                  ...               ...         ...   \n",
       "354288      NaN  2016-03-16 00:00:00                 0       12057   \n",
       "354305      NaN  2016-04-03 00:00:00                 0       74579   \n",
       "354329      NaN  2016-03-30 00:00:00                 0       25436   \n",
       "354338      NaN  2016-03-31 00:00:00                 0       41470   \n",
       "354365      NaN  2016-03-14 00:00:00                 0       39576   \n",
       "\n",
       "                   LastSeen  \n",
       "16      2016-04-01 12:46:46  \n",
       "32      2016-03-17 18:17:43  \n",
       "37      2016-03-30 09:18:02  \n",
       "69      2016-04-07 08:46:07  \n",
       "92      2016-03-21 09:47:08  \n",
       "...                     ...  \n",
       "354288  2016-03-17 12:17:07  \n",
       "354305  2016-04-05 12:44:38  \n",
       "354329  2016-04-07 13:50:41  \n",
       "354338  2016-04-06 14:18:04  \n",
       "354365  2016-04-06 00:46:52  \n",
       "\n",
       "[13740 rows x 16 columns]"
      ]
     },
     "execution_count": 108,
     "metadata": {},
     "output_type": "execute_result"
    }
   ],
   "source": [
    "df.query('Gearbox.isna()')"
   ]
  },
  {
   "cell_type": "code",
   "execution_count": 109,
   "metadata": {},
   "outputs": [],
   "source": [
    "df = df.dropna(subset=['Gearbox'])"
   ]
  },
  {
   "cell_type": "markdown",
   "metadata": {},
   "source": [
    "**Посмотрим на столбец с количеством лошадиных сил**"
   ]
  },
  {
   "cell_type": "code",
   "execution_count": 110,
   "metadata": {},
   "outputs": [
    {
     "data": {
      "image/png": "[encoded data removed]",
      "text/plain": [
       "<Figure size 720x576 with 1 Axes>"
      ]
     },
     "metadata": {
      "needs_background": "light"
     },
     "output_type": "display_data"
    }
   ],
   "source": [
    "pd.Series(df['Power'].unique()).plot(kind='hist', bins=50, grid=True, figsize=(10, 8));"
   ]
  },
  {
   "cell_type": "code",
   "execution_count": 111,
   "metadata": {},
   "outputs": [],
   "source": [
    "for col in df['Model'].unique():\n",
    "       df.loc[(df['Model'] == col) & (df['Power']==0), 'Power'] = df.loc[(df['Model']==col) &  (df['Power']!=0), 'Power'].median()\n",
    "        "
   ]
  },
  {
   "cell_type": "code",
   "execution_count": 112,
   "metadata": {},
   "outputs": [],
   "source": [
    "df = df.query('15 < Power < 2500')"
   ]
  },
  {
   "cell_type": "markdown",
   "metadata": {},
   "source": [
    "**Посмотрим на столбец с моделями автомобилей**"
   ]
  },
  {
   "cell_type": "code",
   "execution_count": 113,
   "metadata": {},
   "outputs": [
    {
     "data": {
      "text/html": [
       "<div>\n",
       "<style scoped>\n",
       "    .dataframe tbody tr th:only-of-type {\n",
       "        vertical-align: middle;\n",
       "    }\n",
       "\n",
       "    .dataframe tbody tr th {\n",
       "        vertical-align: top;\n",
       "    }\n",
       "\n",
       "    .dataframe thead th {\n",
       "        text-align: right;\n",
       "    }\n",
       "</style>\n",
       "<table border=\"1\" class=\"dataframe\">\n",
       "  <thead>\n",
       "    <tr style=\"text-align: right;\">\n",
       "      <th></th>\n",
       "      <th>DateCrawled</th>\n",
       "      <th>Price</th>\n",
       "      <th>VehicleType</th>\n",
       "      <th>RegistrationYear</th>\n",
       "      <th>Gearbox</th>\n",
       "      <th>Power</th>\n",
       "      <th>Model</th>\n",
       "      <th>Kilometer</th>\n",
       "      <th>RegistrationMonth</th>\n",
       "      <th>FuelType</th>\n",
       "      <th>Brand</th>\n",
       "      <th>Repaired</th>\n",
       "      <th>DateCreated</th>\n",
       "      <th>NumberOfPictures</th>\n",
       "      <th>PostalCode</th>\n",
       "      <th>LastSeen</th>\n",
       "    </tr>\n",
       "  </thead>\n",
       "  <tbody>\n",
       "    <tr>\n",
       "      <th>1</th>\n",
       "      <td>2016-03-24 10:58:45</td>\n",
       "      <td>18300</td>\n",
       "      <td>coupe</td>\n",
       "      <td>2011</td>\n",
       "      <td>manual</td>\n",
       "      <td>190.0</td>\n",
       "      <td>NaN</td>\n",
       "      <td>125000</td>\n",
       "      <td>5</td>\n",
       "      <td>gasoline</td>\n",
       "      <td>audi</td>\n",
       "      <td>yes</td>\n",
       "      <td>2016-03-24 00:00:00</td>\n",
       "      <td>0</td>\n",
       "      <td>66954</td>\n",
       "      <td>2016-04-07 01:46:50</td>\n",
       "    </tr>\n",
       "    <tr>\n",
       "      <th>81</th>\n",
       "      <td>2016-04-03 12:56:45</td>\n",
       "      <td>350</td>\n",
       "      <td>small</td>\n",
       "      <td>1997</td>\n",
       "      <td>manual</td>\n",
       "      <td>54.0</td>\n",
       "      <td>NaN</td>\n",
       "      <td>150000</td>\n",
       "      <td>3</td>\n",
       "      <td>NaN</td>\n",
       "      <td>fiat</td>\n",
       "      <td>yes</td>\n",
       "      <td>2016-04-03 00:00:00</td>\n",
       "      <td>0</td>\n",
       "      <td>45665</td>\n",
       "      <td>2016-04-05 11:47:13</td>\n",
       "    </tr>\n",
       "    <tr>\n",
       "      <th>135</th>\n",
       "      <td>2016-03-27 20:51:23</td>\n",
       "      <td>1450</td>\n",
       "      <td>sedan</td>\n",
       "      <td>1992</td>\n",
       "      <td>manual</td>\n",
       "      <td>136.0</td>\n",
       "      <td>NaN</td>\n",
       "      <td>150000</td>\n",
       "      <td>0</td>\n",
       "      <td>NaN</td>\n",
       "      <td>audi</td>\n",
       "      <td>no</td>\n",
       "      <td>2016-03-27 00:00:00</td>\n",
       "      <td>0</td>\n",
       "      <td>38709</td>\n",
       "      <td>2016-04-05 20:17:31</td>\n",
       "    </tr>\n",
       "    <tr>\n",
       "      <th>193</th>\n",
       "      <td>2016-03-27 12:47:45</td>\n",
       "      <td>1200</td>\n",
       "      <td>coupe</td>\n",
       "      <td>1990</td>\n",
       "      <td>manual</td>\n",
       "      <td>45.0</td>\n",
       "      <td>NaN</td>\n",
       "      <td>150000</td>\n",
       "      <td>0</td>\n",
       "      <td>petrol</td>\n",
       "      <td>volkswagen</td>\n",
       "      <td>NaN</td>\n",
       "      <td>2016-03-27 00:00:00</td>\n",
       "      <td>0</td>\n",
       "      <td>83317</td>\n",
       "      <td>2016-04-07 08:17:08</td>\n",
       "    </tr>\n",
       "    <tr>\n",
       "      <th>273</th>\n",
       "      <td>2016-03-29 23:38:02</td>\n",
       "      <td>1500</td>\n",
       "      <td>coupe</td>\n",
       "      <td>1994</td>\n",
       "      <td>manual</td>\n",
       "      <td>116.0</td>\n",
       "      <td>NaN</td>\n",
       "      <td>150000</td>\n",
       "      <td>8</td>\n",
       "      <td>NaN</td>\n",
       "      <td>audi</td>\n",
       "      <td>no</td>\n",
       "      <td>2016-03-29 00:00:00</td>\n",
       "      <td>0</td>\n",
       "      <td>32791</td>\n",
       "      <td>2016-04-06 20:16:34</td>\n",
       "    </tr>\n",
       "    <tr>\n",
       "      <th>...</th>\n",
       "      <td>...</td>\n",
       "      <td>...</td>\n",
       "      <td>...</td>\n",
       "      <td>...</td>\n",
       "      <td>...</td>\n",
       "      <td>...</td>\n",
       "      <td>...</td>\n",
       "      <td>...</td>\n",
       "      <td>...</td>\n",
       "      <td>...</td>\n",
       "      <td>...</td>\n",
       "      <td>...</td>\n",
       "      <td>...</td>\n",
       "      <td>...</td>\n",
       "      <td>...</td>\n",
       "      <td>...</td>\n",
       "    </tr>\n",
       "    <tr>\n",
       "      <th>354077</th>\n",
       "      <td>2016-03-21 08:36:18</td>\n",
       "      <td>200</td>\n",
       "      <td>small</td>\n",
       "      <td>1998</td>\n",
       "      <td>manual</td>\n",
       "      <td>37.0</td>\n",
       "      <td>NaN</td>\n",
       "      <td>150000</td>\n",
       "      <td>4</td>\n",
       "      <td>petrol</td>\n",
       "      <td>volkswagen</td>\n",
       "      <td>yes</td>\n",
       "      <td>2016-03-21 00:00:00</td>\n",
       "      <td>0</td>\n",
       "      <td>26382</td>\n",
       "      <td>2016-04-06 02:45:28</td>\n",
       "    </tr>\n",
       "    <tr>\n",
       "      <th>354234</th>\n",
       "      <td>2016-03-19 01:47:31</td>\n",
       "      <td>5000</td>\n",
       "      <td>sedan</td>\n",
       "      <td>2002</td>\n",
       "      <td>auto</td>\n",
       "      <td>170.0</td>\n",
       "      <td>NaN</td>\n",
       "      <td>150000</td>\n",
       "      <td>0</td>\n",
       "      <td>petrol</td>\n",
       "      <td>audi</td>\n",
       "      <td>no</td>\n",
       "      <td>2016-03-18 00:00:00</td>\n",
       "      <td>0</td>\n",
       "      <td>85221</td>\n",
       "      <td>2016-04-06 03:45:36</td>\n",
       "    </tr>\n",
       "    <tr>\n",
       "      <th>354245</th>\n",
       "      <td>2016-03-07 16:37:42</td>\n",
       "      <td>560</td>\n",
       "      <td>small</td>\n",
       "      <td>2001</td>\n",
       "      <td>auto</td>\n",
       "      <td>170.0</td>\n",
       "      <td>NaN</td>\n",
       "      <td>90000</td>\n",
       "      <td>0</td>\n",
       "      <td>petrol</td>\n",
       "      <td>fiat</td>\n",
       "      <td>yes</td>\n",
       "      <td>2016-03-07 00:00:00</td>\n",
       "      <td>0</td>\n",
       "      <td>55743</td>\n",
       "      <td>2016-03-12 21:45:25</td>\n",
       "    </tr>\n",
       "    <tr>\n",
       "      <th>354321</th>\n",
       "      <td>2016-03-15 13:52:34</td>\n",
       "      <td>9400</td>\n",
       "      <td>wagon</td>\n",
       "      <td>2007</td>\n",
       "      <td>manual</td>\n",
       "      <td>200.0</td>\n",
       "      <td>NaN</td>\n",
       "      <td>150000</td>\n",
       "      <td>4</td>\n",
       "      <td>gasoline</td>\n",
       "      <td>sonstige_autos</td>\n",
       "      <td>yes</td>\n",
       "      <td>2016-03-15 00:00:00</td>\n",
       "      <td>0</td>\n",
       "      <td>91186</td>\n",
       "      <td>2016-03-17 08:16:25</td>\n",
       "    </tr>\n",
       "    <tr>\n",
       "      <th>354351</th>\n",
       "      <td>2016-03-11 23:40:32</td>\n",
       "      <td>1900</td>\n",
       "      <td>other</td>\n",
       "      <td>2000</td>\n",
       "      <td>manual</td>\n",
       "      <td>110.0</td>\n",
       "      <td>NaN</td>\n",
       "      <td>150000</td>\n",
       "      <td>7</td>\n",
       "      <td>NaN</td>\n",
       "      <td>volkswagen</td>\n",
       "      <td>no</td>\n",
       "      <td>2016-03-11 00:00:00</td>\n",
       "      <td>0</td>\n",
       "      <td>87700</td>\n",
       "      <td>2016-03-12 14:16:51</td>\n",
       "    </tr>\n",
       "  </tbody>\n",
       "</table>\n",
       "<p>9753 rows × 16 columns</p>\n",
       "</div>"
      ],
      "text/plain": [
       "                DateCrawled  Price VehicleType  RegistrationYear Gearbox  \\\n",
       "1       2016-03-24 10:58:45  18300       coupe              2011  manual   \n",
       "81      2016-04-03 12:56:45    350       small              1997  manual   \n",
       "135     2016-03-27 20:51:23   1450       sedan              1992  manual   \n",
       "193     2016-03-27 12:47:45   1200       coupe              1990  manual   \n",
       "273     2016-03-29 23:38:02   1500       coupe              1994  manual   \n",
       "...                     ...    ...         ...               ...     ...   \n",
       "354077  2016-03-21 08:36:18    200       small              1998  manual   \n",
       "354234  2016-03-19 01:47:31   5000       sedan              2002    auto   \n",
       "354245  2016-03-07 16:37:42    560       small              2001    auto   \n",
       "354321  2016-03-15 13:52:34   9400       wagon              2007  manual   \n",
       "354351  2016-03-11 23:40:32   1900       other              2000  manual   \n",
       "\n",
       "        Power Model  Kilometer  RegistrationMonth  FuelType           Brand  \\\n",
       "1       190.0   NaN     125000                  5  gasoline            audi   \n",
       "81       54.0   NaN     150000                  3       NaN            fiat   \n",
       "135     136.0   NaN     150000                  0       NaN            audi   \n",
       "193      45.0   NaN     150000                  0    petrol      volkswagen   \n",
       "273     116.0   NaN     150000                  8       NaN            audi   \n",
       "...       ...   ...        ...                ...       ...             ...   \n",
       "354077   37.0   NaN     150000                  4    petrol      volkswagen   \n",
       "354234  170.0   NaN     150000                  0    petrol            audi   \n",
       "354245  170.0   NaN      90000                  0    petrol            fiat   \n",
       "354321  200.0   NaN     150000                  4  gasoline  sonstige_autos   \n",
       "354351  110.0   NaN     150000                  7       NaN      volkswagen   \n",
       "\n",
       "       Repaired          DateCreated  NumberOfPictures  PostalCode  \\\n",
       "1           yes  2016-03-24 00:00:00                 0       66954   \n",
       "81          yes  2016-04-03 00:00:00                 0       45665   \n",
       "135          no  2016-03-27 00:00:00                 0       38709   \n",
       "193         NaN  2016-03-27 00:00:00                 0       83317   \n",
       "273          no  2016-03-29 00:00:00                 0       32791   \n",
       "...         ...                  ...               ...         ...   \n",
       "354077      yes  2016-03-21 00:00:00                 0       26382   \n",
       "354234       no  2016-03-18 00:00:00                 0       85221   \n",
       "354245      yes  2016-03-07 00:00:00                 0       55743   \n",
       "354321      yes  2016-03-15 00:00:00                 0       91186   \n",
       "354351       no  2016-03-11 00:00:00                 0       87700   \n",
       "\n",
       "                   LastSeen  \n",
       "1       2016-04-07 01:46:50  \n",
       "81      2016-04-05 11:47:13  \n",
       "135     2016-04-05 20:17:31  \n",
       "193     2016-04-07 08:17:08  \n",
       "273     2016-04-06 20:16:34  \n",
       "...                     ...  \n",
       "354077  2016-04-06 02:45:28  \n",
       "354234  2016-04-06 03:45:36  \n",
       "354245  2016-03-12 21:45:25  \n",
       "354321  2016-03-17 08:16:25  \n",
       "354351  2016-03-12 14:16:51  \n",
       "\n",
       "[9753 rows x 16 columns]"
      ]
     },
     "execution_count": 113,
     "metadata": {},
     "output_type": "execute_result"
    }
   ],
   "source": [
    "df.query('Model.isna()')"
   ]
  },
  {
   "cell_type": "code",
   "execution_count": 114,
   "metadata": {},
   "outputs": [],
   "source": [
    "df.dropna(subset=['Model'], inplace=True)"
   ]
  },
  {
   "cell_type": "markdown",
   "metadata": {},
   "source": [
    "**Далее посмотрим на столбец с пробегом**"
   ]
  },
  {
   "cell_type": "code",
   "execution_count": 115,
   "metadata": {},
   "outputs": [
    {
     "data": {
      "text/plain": [
       "<AxesSubplot:>"
      ]
     },
     "execution_count": 115,
     "metadata": {},
     "output_type": "execute_result"
    },
    {
     "data": {
      "image/png": "[encoded data removed]",
      "text/plain": [
       "<Figure size 432x288 with 1 Axes>"
      ]
     },
     "metadata": {
      "needs_background": "light"
     },
     "output_type": "display_data"
    }
   ],
   "source": [
    "df.boxplot('Kilometer')"
   ]
  },
  {
   "cell_type": "markdown",
   "metadata": {},
   "source": [
    "**Посмотрим на столбец с месяцом регистрации**"
   ]
  },
  {
   "cell_type": "code",
   "execution_count": 116,
   "metadata": {},
   "outputs": [
    {
     "data": {
      "text/plain": [
       "3     30480\n",
       "6     27386\n",
       "4     25618\n",
       "5     25487\n",
       "7     23672\n",
       "10    23103\n",
       "12    21310\n",
       "11    21175\n",
       "9     21166\n",
       "1     20062\n",
       "8     19824\n",
       "0     18852\n",
       "2     18714\n",
       "Name: RegistrationMonth, dtype: int64"
      ]
     },
     "execution_count": 116,
     "metadata": {},
     "output_type": "execute_result"
    }
   ],
   "source": [
    "df['RegistrationMonth'].value_counts()"
   ]
  },
  {
   "cell_type": "markdown",
   "metadata": {},
   "source": [
    "Видно, что есть нулевой месяц, заменим его на среднее значение."
   ]
  },
  {
   "cell_type": "code",
   "execution_count": 117,
   "metadata": {},
   "outputs": [
    {
     "data": {
      "text/plain": [
       "18852"
      ]
     },
     "execution_count": 117,
     "metadata": {},
     "output_type": "execute_result"
    }
   ],
   "source": [
    "# сколько значений для замены надо\n",
    "size = (df['RegistrationMonth'] == 0).sum()\n",
    "size"
   ]
  },
  {
   "cell_type": "code",
   "execution_count": 119,
   "metadata": {},
   "outputs": [
    {
     "data": {
      "text/plain": [
       "1     0.072166\n",
       "2     0.067317\n",
       "3     0.109641\n",
       "4     0.092152\n",
       "5     0.091681\n",
       "6     0.098512\n",
       "7     0.085152\n",
       "8     0.071310\n",
       "9     0.076138\n",
       "10    0.083105\n",
       "11    0.076170\n",
       "12    0.076656\n",
       "Name: RegistrationMonth, dtype: float64"
      ]
     },
     "execution_count": 119,
     "metadata": {},
     "output_type": "execute_result"
    }
   ],
   "source": [
    "# вероятности значений от 1 до 12\n",
    "probs = df.query('RegistrationMonth!=0')['RegistrationMonth'].value_counts(normalize=True).sort_index()\n",
    "probs"
   ]
  },
  {
   "cell_type": "code",
   "execution_count": 46,
   "metadata": {},
   "outputs": [],
   "source": [
    "res = np.random.choice(a = np.arange(1,13), size=size, p=probs)"
   ]
  },
  {
   "cell_type": "code",
   "execution_count": 47,
   "metadata": {},
   "outputs": [
    {
     "data": {
      "text/plain": [
       "<AxesSubplot:>"
      ]
     },
     "execution_count": 47,
     "metadata": {},
     "output_type": "execute_result"
    },
    {
     "data": {
      "image/png": "[encoded data removed]",
      "text/plain": [
       "<Figure size 432x288 with 1 Axes>"
      ]
     },
     "metadata": {
      "needs_background": "light"
     },
     "output_type": "display_data"
    }
   ],
   "source": [
    "# распределение значений было\n",
    "probs.plot.bar()"
   ]
  },
  {
   "cell_type": "code",
   "execution_count": 48,
   "metadata": {},
   "outputs": [
    {
     "data": {
      "text/plain": [
       "<AxesSubplot:>"
      ]
     },
     "execution_count": 48,
     "metadata": {},
     "output_type": "execute_result"
    },
    {
     "data": {
      "image/png": "[encoded data removed]",
      "text/plain": [
       "<Figure size 432x288 with 1 Axes>"
      ]
     },
     "metadata": {
      "needs_background": "light"
     },
     "output_type": "display_data"
    }
   ],
   "source": [
    "# распределение значений новое\n",
    "pd.Series(res).value_counts().sort_index().plot.bar()"
   ]
  },
  {
   "cell_type": "code",
   "execution_count": 50,
   "metadata": {},
   "outputs": [],
   "source": [
    "df.loc[df['RegistrationMonth'] == 0, 'RegistrationMonth'] = res"
   ]
  },
  {
   "cell_type": "markdown",
   "metadata": {},
   "source": [
    "**Рассмотрим столбец с типом топлива**"
   ]
  },
  {
   "cell_type": "code",
   "execution_count": 36,
   "metadata": {},
   "outputs": [
    {
     "data": {
      "text/html": [
       "<div>\n",
       "<style scoped>\n",
       "    .dataframe tbody tr th:only-of-type {\n",
       "        vertical-align: middle;\n",
       "    }\n",
       "\n",
       "    .dataframe tbody tr th {\n",
       "        vertical-align: top;\n",
       "    }\n",
       "\n",
       "    .dataframe thead th {\n",
       "        text-align: right;\n",
       "    }\n",
       "</style>\n",
       "<table border=\"1\" class=\"dataframe\">\n",
       "  <thead>\n",
       "    <tr style=\"text-align: right;\">\n",
       "      <th></th>\n",
       "      <th>DateCrawled</th>\n",
       "      <th>Price</th>\n",
       "      <th>VehicleType</th>\n",
       "      <th>RegistrationYear</th>\n",
       "      <th>Gearbox</th>\n",
       "      <th>Power</th>\n",
       "      <th>Model</th>\n",
       "      <th>Kilometer</th>\n",
       "      <th>RegistrationMonth</th>\n",
       "      <th>FuelType</th>\n",
       "      <th>Brand</th>\n",
       "      <th>Repaired</th>\n",
       "      <th>DateCreated</th>\n",
       "      <th>NumberOfPictures</th>\n",
       "      <th>PostalCode</th>\n",
       "      <th>LastSeen</th>\n",
       "    </tr>\n",
       "  </thead>\n",
       "  <tbody>\n",
       "    <tr>\n",
       "      <th>9</th>\n",
       "      <td>2016-03-17 10:53:50</td>\n",
       "      <td>999</td>\n",
       "      <td>small</td>\n",
       "      <td>1998</td>\n",
       "      <td>manual</td>\n",
       "      <td>101.0</td>\n",
       "      <td>golf</td>\n",
       "      <td>150000</td>\n",
       "      <td>6</td>\n",
       "      <td>NaN</td>\n",
       "      <td>volkswagen</td>\n",
       "      <td>NaN</td>\n",
       "      <td>2016-03-17 00:00:00</td>\n",
       "      <td>0</td>\n",
       "      <td>27472</td>\n",
       "      <td>2016-03-31 17:17:06</td>\n",
       "    </tr>\n",
       "    <tr>\n",
       "      <th>13</th>\n",
       "      <td>2016-03-21 21:37:40</td>\n",
       "      <td>2500</td>\n",
       "      <td>wagon</td>\n",
       "      <td>2004</td>\n",
       "      <td>manual</td>\n",
       "      <td>131.0</td>\n",
       "      <td>passat</td>\n",
       "      <td>150000</td>\n",
       "      <td>2</td>\n",
       "      <td>NaN</td>\n",
       "      <td>volkswagen</td>\n",
       "      <td>no</td>\n",
       "      <td>2016-03-21 00:00:00</td>\n",
       "      <td>0</td>\n",
       "      <td>90762</td>\n",
       "      <td>2016-03-23 02:50:54</td>\n",
       "    </tr>\n",
       "    <tr>\n",
       "      <th>36</th>\n",
       "      <td>2016-03-11 11:50:37</td>\n",
       "      <td>1600</td>\n",
       "      <td>other</td>\n",
       "      <td>1991</td>\n",
       "      <td>manual</td>\n",
       "      <td>75.0</td>\n",
       "      <td>kadett</td>\n",
       "      <td>70000</td>\n",
       "      <td>6</td>\n",
       "      <td>NaN</td>\n",
       "      <td>opel</td>\n",
       "      <td>NaN</td>\n",
       "      <td>2016-03-11 00:00:00</td>\n",
       "      <td>0</td>\n",
       "      <td>2943</td>\n",
       "      <td>2016-04-07 03:46:09</td>\n",
       "    </tr>\n",
       "    <tr>\n",
       "      <th>41</th>\n",
       "      <td>2016-03-30 20:38:20</td>\n",
       "      <td>7500</td>\n",
       "      <td>sedan</td>\n",
       "      <td>2002</td>\n",
       "      <td>auto</td>\n",
       "      <td>306.0</td>\n",
       "      <td>e_klasse</td>\n",
       "      <td>150000</td>\n",
       "      <td>4</td>\n",
       "      <td>NaN</td>\n",
       "      <td>mercedes_benz</td>\n",
       "      <td>NaN</td>\n",
       "      <td>2016-03-30 00:00:00</td>\n",
       "      <td>0</td>\n",
       "      <td>33649</td>\n",
       "      <td>2016-04-03 11:44:49</td>\n",
       "    </tr>\n",
       "    <tr>\n",
       "      <th>52</th>\n",
       "      <td>2016-04-04 10:57:36</td>\n",
       "      <td>1400</td>\n",
       "      <td>other</td>\n",
       "      <td>2016</td>\n",
       "      <td>manual</td>\n",
       "      <td>55.0</td>\n",
       "      <td>other</td>\n",
       "      <td>5000</td>\n",
       "      <td>1</td>\n",
       "      <td>NaN</td>\n",
       "      <td>hyundai</td>\n",
       "      <td>NaN</td>\n",
       "      <td>2016-04-04 00:00:00</td>\n",
       "      <td>0</td>\n",
       "      <td>34454</td>\n",
       "      <td>2016-04-06 12:45:43</td>\n",
       "    </tr>\n",
       "    <tr>\n",
       "      <th>...</th>\n",
       "      <td>...</td>\n",
       "      <td>...</td>\n",
       "      <td>...</td>\n",
       "      <td>...</td>\n",
       "      <td>...</td>\n",
       "      <td>...</td>\n",
       "      <td>...</td>\n",
       "      <td>...</td>\n",
       "      <td>...</td>\n",
       "      <td>...</td>\n",
       "      <td>...</td>\n",
       "      <td>...</td>\n",
       "      <td>...</td>\n",
       "      <td>...</td>\n",
       "      <td>...</td>\n",
       "      <td>...</td>\n",
       "    </tr>\n",
       "    <tr>\n",
       "      <th>354326</th>\n",
       "      <td>2016-03-31 19:36:18</td>\n",
       "      <td>1300</td>\n",
       "      <td>small</td>\n",
       "      <td>1999</td>\n",
       "      <td>manual</td>\n",
       "      <td>75.0</td>\n",
       "      <td>2_reihe</td>\n",
       "      <td>125000</td>\n",
       "      <td>6</td>\n",
       "      <td>NaN</td>\n",
       "      <td>peugeot</td>\n",
       "      <td>NaN</td>\n",
       "      <td>2016-03-31 00:00:00</td>\n",
       "      <td>0</td>\n",
       "      <td>35102</td>\n",
       "      <td>2016-04-06 13:44:44</td>\n",
       "    </tr>\n",
       "    <tr>\n",
       "      <th>354327</th>\n",
       "      <td>2016-03-14 11:51:01</td>\n",
       "      <td>2999</td>\n",
       "      <td>wagon</td>\n",
       "      <td>2004</td>\n",
       "      <td>manual</td>\n",
       "      <td>234.0</td>\n",
       "      <td>vectra</td>\n",
       "      <td>100000</td>\n",
       "      <td>1</td>\n",
       "      <td>NaN</td>\n",
       "      <td>opel</td>\n",
       "      <td>NaN</td>\n",
       "      <td>2016-03-14 00:00:00</td>\n",
       "      <td>0</td>\n",
       "      <td>83364</td>\n",
       "      <td>2016-03-16 23:46:11</td>\n",
       "    </tr>\n",
       "    <tr>\n",
       "      <th>354339</th>\n",
       "      <td>2016-03-20 12:46:00</td>\n",
       "      <td>3850</td>\n",
       "      <td>convertible</td>\n",
       "      <td>2006</td>\n",
       "      <td>manual</td>\n",
       "      <td>108.0</td>\n",
       "      <td>2_reihe</td>\n",
       "      <td>125000</td>\n",
       "      <td>2</td>\n",
       "      <td>NaN</td>\n",
       "      <td>peugeot</td>\n",
       "      <td>no</td>\n",
       "      <td>2016-03-20 00:00:00</td>\n",
       "      <td>0</td>\n",
       "      <td>53947</td>\n",
       "      <td>2016-03-26 21:18:23</td>\n",
       "    </tr>\n",
       "    <tr>\n",
       "      <th>354346</th>\n",
       "      <td>2016-03-07 17:06:35</td>\n",
       "      <td>2600</td>\n",
       "      <td>other</td>\n",
       "      <td>2005</td>\n",
       "      <td>auto</td>\n",
       "      <td>143.0</td>\n",
       "      <td>c_klasse</td>\n",
       "      <td>150000</td>\n",
       "      <td>9</td>\n",
       "      <td>NaN</td>\n",
       "      <td>mercedes_benz</td>\n",
       "      <td>NaN</td>\n",
       "      <td>2016-03-07 00:00:00</td>\n",
       "      <td>0</td>\n",
       "      <td>61169</td>\n",
       "      <td>2016-03-08 21:28:38</td>\n",
       "    </tr>\n",
       "    <tr>\n",
       "      <th>354361</th>\n",
       "      <td>2016-03-09 13:37:43</td>\n",
       "      <td>5250</td>\n",
       "      <td>other</td>\n",
       "      <td>2016</td>\n",
       "      <td>auto</td>\n",
       "      <td>150.0</td>\n",
       "      <td>159</td>\n",
       "      <td>150000</td>\n",
       "      <td>12</td>\n",
       "      <td>NaN</td>\n",
       "      <td>alfa_romeo</td>\n",
       "      <td>no</td>\n",
       "      <td>2016-03-09 00:00:00</td>\n",
       "      <td>0</td>\n",
       "      <td>51371</td>\n",
       "      <td>2016-03-13 01:44:13</td>\n",
       "    </tr>\n",
       "  </tbody>\n",
       "</table>\n",
       "<p>14221 rows × 16 columns</p>\n",
       "</div>"
      ],
      "text/plain": [
       "                DateCrawled  Price  VehicleType  RegistrationYear Gearbox  \\\n",
       "9       2016-03-17 10:53:50    999        small              1998  manual   \n",
       "13      2016-03-21 21:37:40   2500        wagon              2004  manual   \n",
       "36      2016-03-11 11:50:37   1600        other              1991  manual   \n",
       "41      2016-03-30 20:38:20   7500        sedan              2002    auto   \n",
       "52      2016-04-04 10:57:36   1400        other              2016  manual   \n",
       "...                     ...    ...          ...               ...     ...   \n",
       "354326  2016-03-31 19:36:18   1300        small              1999  manual   \n",
       "354327  2016-03-14 11:51:01   2999        wagon              2004  manual   \n",
       "354339  2016-03-20 12:46:00   3850  convertible              2006  manual   \n",
       "354346  2016-03-07 17:06:35   2600        other              2005    auto   \n",
       "354361  2016-03-09 13:37:43   5250        other              2016    auto   \n",
       "\n",
       "        Power     Model  Kilometer  RegistrationMonth FuelType          Brand  \\\n",
       "9       101.0      golf     150000                  6      NaN     volkswagen   \n",
       "13      131.0    passat     150000                  2      NaN     volkswagen   \n",
       "36       75.0    kadett      70000                  6      NaN           opel   \n",
       "41      306.0  e_klasse     150000                  4      NaN  mercedes_benz   \n",
       "52       55.0     other       5000                  1      NaN        hyundai   \n",
       "...       ...       ...        ...                ...      ...            ...   \n",
       "354326   75.0   2_reihe     125000                  6      NaN        peugeot   \n",
       "354327  234.0    vectra     100000                  1      NaN           opel   \n",
       "354339  108.0   2_reihe     125000                  2      NaN        peugeot   \n",
       "354346  143.0  c_klasse     150000                  9      NaN  mercedes_benz   \n",
       "354361  150.0       159     150000                 12      NaN     alfa_romeo   \n",
       "\n",
       "       Repaired          DateCreated  NumberOfPictures  PostalCode  \\\n",
       "9           NaN  2016-03-17 00:00:00                 0       27472   \n",
       "13           no  2016-03-21 00:00:00                 0       90762   \n",
       "36          NaN  2016-03-11 00:00:00                 0        2943   \n",
       "41          NaN  2016-03-30 00:00:00                 0       33649   \n",
       "52          NaN  2016-04-04 00:00:00                 0       34454   \n",
       "...         ...                  ...               ...         ...   \n",
       "354326      NaN  2016-03-31 00:00:00                 0       35102   \n",
       "354327      NaN  2016-03-14 00:00:00                 0       83364   \n",
       "354339       no  2016-03-20 00:00:00                 0       53947   \n",
       "354346      NaN  2016-03-07 00:00:00                 0       61169   \n",
       "354361       no  2016-03-09 00:00:00                 0       51371   \n",
       "\n",
       "                   LastSeen  \n",
       "9       2016-03-31 17:17:06  \n",
       "13      2016-03-23 02:50:54  \n",
       "36      2016-04-07 03:46:09  \n",
       "41      2016-04-03 11:44:49  \n",
       "52      2016-04-06 12:45:43  \n",
       "...                     ...  \n",
       "354326  2016-04-06 13:44:44  \n",
       "354327  2016-03-16 23:46:11  \n",
       "354339  2016-03-26 21:18:23  \n",
       "354346  2016-03-08 21:28:38  \n",
       "354361  2016-03-13 01:44:13  \n",
       "\n",
       "[14221 rows x 16 columns]"
      ]
     },
     "execution_count": 36,
     "metadata": {},
     "output_type": "execute_result"
    }
   ],
   "source": [
    "df.query('FuelType.isna()')"
   ]
  },
  {
   "cell_type": "code",
   "execution_count": 37,
   "metadata": {},
   "outputs": [
    {
     "data": {
      "text/plain": [
       "array(['petrol', 'gasoline', nan, 'lpg', 'other', 'hybrid', 'cng',\n",
       "       'electric'], dtype=object)"
      ]
     },
     "execution_count": 37,
     "metadata": {},
     "output_type": "execute_result"
    }
   ],
   "source": [
    "df['FuelType'].unique()"
   ]
  },
  {
   "cell_type": "markdown",
   "metadata": {},
   "source": [
    "Пропуски можно отнести к категории other."
   ]
  },
  {
   "cell_type": "code",
   "execution_count": 38,
   "metadata": {},
   "outputs": [],
   "source": [
    "df['FuelType'] = df['FuelType'].fillna('other')"
   ]
  },
  {
   "cell_type": "code",
   "execution_count": 39,
   "metadata": {},
   "outputs": [
    {
     "data": {
      "text/plain": [
       "array(['volkswagen', 'jeep', 'skoda', 'bmw', 'peugeot', 'ford', 'mazda',\n",
       "       'nissan', 'renault', 'mercedes_benz', 'seat', 'honda', 'fiat',\n",
       "       'opel', 'mini', 'smart', 'hyundai', 'audi', 'alfa_romeo', 'subaru',\n",
       "       'volvo', 'mitsubishi', 'kia', 'suzuki', 'lancia', 'citroen',\n",
       "       'toyota', 'chevrolet', 'dacia', 'daihatsu', 'chrysler', 'jaguar',\n",
       "       'daewoo', 'rover', 'porsche', 'saab', 'land_rover', 'trabant',\n",
       "       'lada'], dtype=object)"
      ]
     },
     "execution_count": 39,
     "metadata": {},
     "output_type": "execute_result"
    }
   ],
   "source": [
    "df['Brand'].unique()"
   ]
  },
  {
   "cell_type": "markdown",
   "metadata": {},
   "source": [
    "В марках ничего изменять и заполнять не надо."
   ]
  },
  {
   "cell_type": "markdown",
   "metadata": {},
   "source": [
    "**Посмотрим на столбец с информацией о ремонте**"
   ]
  },
  {
   "cell_type": "code",
   "execution_count": 40,
   "metadata": {},
   "outputs": [
    {
     "data": {
      "text/plain": [
       "array([nan, 'no', 'yes'], dtype=object)"
      ]
     },
     "execution_count": 40,
     "metadata": {},
     "output_type": "execute_result"
    }
   ],
   "source": [
    "df['Repaired'].unique()"
   ]
  },
  {
   "cell_type": "code",
   "execution_count": 41,
   "metadata": {},
   "outputs": [
    {
     "data": {
      "text/plain": [
       "44665"
      ]
     },
     "execution_count": 41,
     "metadata": {},
     "output_type": "execute_result"
    }
   ],
   "source": [
    "df['Repaired'].isna().sum()"
   ]
  },
  {
   "cell_type": "code",
   "execution_count": 42,
   "metadata": {},
   "outputs": [],
   "source": [
    "df['Repaired'] = df['Repaired'].fillna('unknown')"
   ]
  },
  {
   "cell_type": "markdown",
   "metadata": {},
   "source": [
    "**Посмотрим на столбец с количеством фотографий**"
   ]
  },
  {
   "cell_type": "code",
   "execution_count": 43,
   "metadata": {},
   "outputs": [
    {
     "data": {
      "text/plain": [
       "array([0])"
      ]
     },
     "execution_count": 43,
     "metadata": {},
     "output_type": "execute_result"
    }
   ],
   "source": [
    "df['NumberOfPictures'].unique()"
   ]
  },
  {
   "cell_type": "markdown",
   "metadata": {},
   "source": [
    "Везде стоят нули, и тем более количество фотографий не влияет на рыночную стоимость автомобиля. А влияет на скорость продажи. Поэтому удалим этот столбец."
   ]
  },
  {
   "cell_type": "code",
   "execution_count": 44,
   "metadata": {},
   "outputs": [],
   "source": [
    "df = df.drop(['NumberOfPictures'], axis=1)"
   ]
  },
  {
   "cell_type": "markdown",
   "metadata": {},
   "source": [
    "Так как в столбце 36444 пропусков, а это примерно 10% выборки, то заменим пропуски на \"unknown\"."
   ]
  },
  {
   "cell_type": "markdown",
   "metadata": {},
   "source": [
    "Далее хочу удалить столбцы, которые никак не влияют на формирование цены автомобиля."
   ]
  },
  {
   "cell_type": "code",
   "execution_count": 45,
   "metadata": {},
   "outputs": [],
   "source": [
    "df = df.drop(['DateCrawled', 'DateCreated', 'PostalCode', 'LastSeen'], axis=1)"
   ]
  },
  {
   "cell_type": "code",
   "execution_count": 46,
   "metadata": {},
   "outputs": [],
   "source": [
    "df = df.reset_index(drop=True)"
   ]
  },
  {
   "cell_type": "code",
   "execution_count": 47,
   "metadata": {},
   "outputs": [
    {
     "data": {
      "text/html": [
       "<div>\n",
       "<style scoped>\n",
       "    .dataframe tbody tr th:only-of-type {\n",
       "        vertical-align: middle;\n",
       "    }\n",
       "\n",
       "    .dataframe tbody tr th {\n",
       "        vertical-align: top;\n",
       "    }\n",
       "\n",
       "    .dataframe thead th {\n",
       "        text-align: right;\n",
       "    }\n",
       "</style>\n",
       "<table border=\"1\" class=\"dataframe\">\n",
       "  <thead>\n",
       "    <tr style=\"text-align: right;\">\n",
       "      <th></th>\n",
       "      <th>Price</th>\n",
       "      <th>VehicleType</th>\n",
       "      <th>RegistrationYear</th>\n",
       "      <th>Gearbox</th>\n",
       "      <th>Power</th>\n",
       "      <th>Model</th>\n",
       "      <th>Kilometer</th>\n",
       "      <th>RegistrationMonth</th>\n",
       "      <th>FuelType</th>\n",
       "      <th>Brand</th>\n",
       "      <th>Repaired</th>\n",
       "    </tr>\n",
       "  </thead>\n",
       "  <tbody>\n",
       "    <tr>\n",
       "      <th>0</th>\n",
       "      <td>480</td>\n",
       "      <td>other</td>\n",
       "      <td>1993</td>\n",
       "      <td>manual</td>\n",
       "      <td>101.0</td>\n",
       "      <td>golf</td>\n",
       "      <td>150000</td>\n",
       "      <td>6</td>\n",
       "      <td>petrol</td>\n",
       "      <td>volkswagen</td>\n",
       "      <td>unknown</td>\n",
       "    </tr>\n",
       "    <tr>\n",
       "      <th>1</th>\n",
       "      <td>9800</td>\n",
       "      <td>suv</td>\n",
       "      <td>2004</td>\n",
       "      <td>auto</td>\n",
       "      <td>163.0</td>\n",
       "      <td>grand</td>\n",
       "      <td>125000</td>\n",
       "      <td>8</td>\n",
       "      <td>gasoline</td>\n",
       "      <td>jeep</td>\n",
       "      <td>unknown</td>\n",
       "    </tr>\n",
       "    <tr>\n",
       "      <th>2</th>\n",
       "      <td>1500</td>\n",
       "      <td>small</td>\n",
       "      <td>2001</td>\n",
       "      <td>manual</td>\n",
       "      <td>75.0</td>\n",
       "      <td>golf</td>\n",
       "      <td>150000</td>\n",
       "      <td>6</td>\n",
       "      <td>petrol</td>\n",
       "      <td>volkswagen</td>\n",
       "      <td>no</td>\n",
       "    </tr>\n",
       "    <tr>\n",
       "      <th>3</th>\n",
       "      <td>3600</td>\n",
       "      <td>small</td>\n",
       "      <td>2008</td>\n",
       "      <td>manual</td>\n",
       "      <td>69.0</td>\n",
       "      <td>fabia</td>\n",
       "      <td>90000</td>\n",
       "      <td>7</td>\n",
       "      <td>gasoline</td>\n",
       "      <td>skoda</td>\n",
       "      <td>no</td>\n",
       "    </tr>\n",
       "    <tr>\n",
       "      <th>4</th>\n",
       "      <td>650</td>\n",
       "      <td>sedan</td>\n",
       "      <td>1995</td>\n",
       "      <td>manual</td>\n",
       "      <td>102.0</td>\n",
       "      <td>3er</td>\n",
       "      <td>150000</td>\n",
       "      <td>10</td>\n",
       "      <td>petrol</td>\n",
       "      <td>bmw</td>\n",
       "      <td>yes</td>\n",
       "    </tr>\n",
       "  </tbody>\n",
       "</table>\n",
       "</div>"
      ],
      "text/plain": [
       "   Price VehicleType  RegistrationYear Gearbox  Power  Model  Kilometer  \\\n",
       "0    480       other              1993  manual  101.0   golf     150000   \n",
       "1   9800         suv              2004    auto  163.0  grand     125000   \n",
       "2   1500       small              2001  manual   75.0   golf     150000   \n",
       "3   3600       small              2008  manual   69.0  fabia      90000   \n",
       "4    650       sedan              1995  manual  102.0    3er     150000   \n",
       "\n",
       "   RegistrationMonth  FuelType       Brand Repaired  \n",
       "0                  6    petrol  volkswagen  unknown  \n",
       "1                  8  gasoline        jeep  unknown  \n",
       "2                  6    petrol  volkswagen       no  \n",
       "3                  7  gasoline       skoda       no  \n",
       "4                 10    petrol         bmw      yes  "
      ]
     },
     "execution_count": 47,
     "metadata": {},
     "output_type": "execute_result"
    }
   ],
   "source": [
    "df.head(5)"
   ]
  },
  {
   "cell_type": "code",
   "execution_count": 48,
   "metadata": {},
   "outputs": [
    {
     "name": "stdout",
     "output_type": "stream",
     "text": [
      "<class 'pandas.core.frame.DataFrame'>\n",
      "RangeIndex: 296849 entries, 0 to 296848\n",
      "Data columns (total 11 columns):\n",
      " #   Column             Non-Null Count   Dtype  \n",
      "---  ------             --------------   -----  \n",
      " 0   Price              296849 non-null  int64  \n",
      " 1   VehicleType        296849 non-null  object \n",
      " 2   RegistrationYear   296849 non-null  int64  \n",
      " 3   Gearbox            296849 non-null  object \n",
      " 4   Power              296849 non-null  float64\n",
      " 5   Model              296849 non-null  object \n",
      " 6   Kilometer          296849 non-null  int64  \n",
      " 7   RegistrationMonth  296849 non-null  int64  \n",
      " 8   FuelType           296849 non-null  object \n",
      " 9   Brand              296849 non-null  object \n",
      " 10  Repaired           296849 non-null  object \n",
      "dtypes: float64(1), int64(4), object(6)\n",
      "memory usage: 24.9+ MB\n"
     ]
    }
   ],
   "source": [
    "df.info()"
   ]
  },
  {
   "cell_type": "code",
   "execution_count": 49,
   "metadata": {},
   "outputs": [
    {
     "data": {
      "text/plain": [
       "Price                0\n",
       "VehicleType          0\n",
       "RegistrationYear     0\n",
       "Gearbox              0\n",
       "Power                0\n",
       "Model                0\n",
       "Kilometer            0\n",
       "RegistrationMonth    0\n",
       "FuelType             0\n",
       "Brand                0\n",
       "Repaired             0\n",
       "dtype: int64"
      ]
     },
     "execution_count": 49,
     "metadata": {},
     "output_type": "execute_result"
    }
   ],
   "source": [
    "df.isna().sum()"
   ]
  },
  {
   "cell_type": "code",
   "execution_count": 50,
   "metadata": {},
   "outputs": [
    {
     "name": "stdout",
     "output_type": "stream",
     "text": [
      "Осталось данных от исходной выборки- 84%\n"
     ]
    }
   ],
   "source": [
    "print('Осталось данных от исходной выборки- {:.0%}'.format(df.shape[0] / strings_before))"
   ]
  },
  {
   "cell_type": "code",
   "execution_count": 51,
   "metadata": {},
   "outputs": [
    {
     "name": "stdout",
     "output_type": "stream",
     "text": [
      "interval columns not set, guessing: ['Price', 'RegistrationYear', 'Power', 'Kilometer', 'RegistrationMonth']\n"
     ]
    },
    {
     "data": {
      "text/html": [
       "<div>\n",
       "<style scoped>\n",
       "    .dataframe tbody tr th:only-of-type {\n",
       "        vertical-align: middle;\n",
       "    }\n",
       "\n",
       "    .dataframe tbody tr th {\n",
       "        vertical-align: top;\n",
       "    }\n",
       "\n",
       "    .dataframe thead th {\n",
       "        text-align: right;\n",
       "    }\n",
       "</style>\n",
       "<table border=\"1\" class=\"dataframe\">\n",
       "  <thead>\n",
       "    <tr style=\"text-align: right;\">\n",
       "      <th></th>\n",
       "      <th>Price</th>\n",
       "      <th>VehicleType</th>\n",
       "      <th>RegistrationYear</th>\n",
       "      <th>Gearbox</th>\n",
       "      <th>Power</th>\n",
       "      <th>Model</th>\n",
       "      <th>Kilometer</th>\n",
       "      <th>RegistrationMonth</th>\n",
       "      <th>FuelType</th>\n",
       "      <th>Brand</th>\n",
       "      <th>Repaired</th>\n",
       "    </tr>\n",
       "  </thead>\n",
       "  <tbody>\n",
       "    <tr>\n",
       "      <th>Price</th>\n",
       "      <td>1.000000</td>\n",
       "      <td>0.278748</td>\n",
       "      <td>0.690819</td>\n",
       "      <td>0.328142</td>\n",
       "      <td>0.216712</td>\n",
       "      <td>0.581412</td>\n",
       "      <td>0.321094</td>\n",
       "      <td>0.109357</td>\n",
       "      <td>0.273297</td>\n",
       "      <td>0.343310</td>\n",
       "      <td>0.339171</td>\n",
       "    </tr>\n",
       "    <tr>\n",
       "      <th>VehicleType</th>\n",
       "      <td>0.278748</td>\n",
       "      <td>1.000000</td>\n",
       "      <td>0.377340</td>\n",
       "      <td>0.286439</td>\n",
       "      <td>0.111346</td>\n",
       "      <td>0.917187</td>\n",
       "      <td>0.177039</td>\n",
       "      <td>0.113183</td>\n",
       "      <td>0.370455</td>\n",
       "      <td>0.599348</td>\n",
       "      <td>0.217340</td>\n",
       "    </tr>\n",
       "    <tr>\n",
       "      <th>RegistrationYear</th>\n",
       "      <td>0.690819</td>\n",
       "      <td>0.377340</td>\n",
       "      <td>1.000000</td>\n",
       "      <td>0.129570</td>\n",
       "      <td>0.060109</td>\n",
       "      <td>0.625229</td>\n",
       "      <td>0.442115</td>\n",
       "      <td>0.115327</td>\n",
       "      <td>0.297289</td>\n",
       "      <td>0.320993</td>\n",
       "      <td>0.239333</td>\n",
       "    </tr>\n",
       "    <tr>\n",
       "      <th>Gearbox</th>\n",
       "      <td>0.328142</td>\n",
       "      <td>0.286439</td>\n",
       "      <td>0.129570</td>\n",
       "      <td>1.000000</td>\n",
       "      <td>0.262265</td>\n",
       "      <td>0.649851</td>\n",
       "      <td>0.022446</td>\n",
       "      <td>0.043111</td>\n",
       "      <td>0.150375</td>\n",
       "      <td>0.496359</td>\n",
       "      <td>0.021968</td>\n",
       "    </tr>\n",
       "    <tr>\n",
       "      <th>Power</th>\n",
       "      <td>0.216712</td>\n",
       "      <td>0.111346</td>\n",
       "      <td>0.060109</td>\n",
       "      <td>0.262265</td>\n",
       "      <td>1.000000</td>\n",
       "      <td>0.419958</td>\n",
       "      <td>0.018774</td>\n",
       "      <td>0.009701</td>\n",
       "      <td>0.071695</td>\n",
       "      <td>0.199585</td>\n",
       "      <td>0.032150</td>\n",
       "    </tr>\n",
       "    <tr>\n",
       "      <th>Model</th>\n",
       "      <td>0.581412</td>\n",
       "      <td>0.917187</td>\n",
       "      <td>0.625229</td>\n",
       "      <td>0.649851</td>\n",
       "      <td>0.419958</td>\n",
       "      <td>1.000000</td>\n",
       "      <td>0.448926</td>\n",
       "      <td>0.129025</td>\n",
       "      <td>0.537371</td>\n",
       "      <td>0.998495</td>\n",
       "      <td>0.225596</td>\n",
       "    </tr>\n",
       "    <tr>\n",
       "      <th>Kilometer</th>\n",
       "      <td>0.321094</td>\n",
       "      <td>0.177039</td>\n",
       "      <td>0.442115</td>\n",
       "      <td>0.022446</td>\n",
       "      <td>0.018774</td>\n",
       "      <td>0.448926</td>\n",
       "      <td>1.000000</td>\n",
       "      <td>0.040057</td>\n",
       "      <td>0.149223</td>\n",
       "      <td>0.269083</td>\n",
       "      <td>0.226008</td>\n",
       "    </tr>\n",
       "    <tr>\n",
       "      <th>RegistrationMonth</th>\n",
       "      <td>0.109357</td>\n",
       "      <td>0.113183</td>\n",
       "      <td>0.115327</td>\n",
       "      <td>0.043111</td>\n",
       "      <td>0.009701</td>\n",
       "      <td>0.129025</td>\n",
       "      <td>0.040057</td>\n",
       "      <td>1.000000</td>\n",
       "      <td>0.116777</td>\n",
       "      <td>0.066524</td>\n",
       "      <td>0.190495</td>\n",
       "    </tr>\n",
       "    <tr>\n",
       "      <th>FuelType</th>\n",
       "      <td>0.273297</td>\n",
       "      <td>0.370455</td>\n",
       "      <td>0.297289</td>\n",
       "      <td>0.150375</td>\n",
       "      <td>0.071695</td>\n",
       "      <td>0.537371</td>\n",
       "      <td>0.149223</td>\n",
       "      <td>0.116777</td>\n",
       "      <td>1.000000</td>\n",
       "      <td>0.284147</td>\n",
       "      <td>0.169254</td>\n",
       "    </tr>\n",
       "    <tr>\n",
       "      <th>Brand</th>\n",
       "      <td>0.343310</td>\n",
       "      <td>0.599348</td>\n",
       "      <td>0.320993</td>\n",
       "      <td>0.496359</td>\n",
       "      <td>0.199585</td>\n",
       "      <td>0.998495</td>\n",
       "      <td>0.269083</td>\n",
       "      <td>0.066524</td>\n",
       "      <td>0.284147</td>\n",
       "      <td>1.000000</td>\n",
       "      <td>0.140276</td>\n",
       "    </tr>\n",
       "    <tr>\n",
       "      <th>Repaired</th>\n",
       "      <td>0.339171</td>\n",
       "      <td>0.217340</td>\n",
       "      <td>0.239333</td>\n",
       "      <td>0.021968</td>\n",
       "      <td>0.032150</td>\n",
       "      <td>0.225596</td>\n",
       "      <td>0.226008</td>\n",
       "      <td>0.190495</td>\n",
       "      <td>0.169254</td>\n",
       "      <td>0.140276</td>\n",
       "      <td>1.000000</td>\n",
       "    </tr>\n",
       "  </tbody>\n",
       "</table>\n",
       "</div>"
      ],
      "text/plain": [
       "                      Price  VehicleType  RegistrationYear   Gearbox  \\\n",
       "Price              1.000000     0.278748          0.690819  0.328142   \n",
       "VehicleType        0.278748     1.000000          0.377340  0.286439   \n",
       "RegistrationYear   0.690819     0.377340          1.000000  0.129570   \n",
       "Gearbox            0.328142     0.286439          0.129570  1.000000   \n",
       "Power              0.216712     0.111346          0.060109  0.262265   \n",
       "Model              0.581412     0.917187          0.625229  0.649851   \n",
       "Kilometer          0.321094     0.177039          0.442115  0.022446   \n",
       "RegistrationMonth  0.109357     0.113183          0.115327  0.043111   \n",
       "FuelType           0.273297     0.370455          0.297289  0.150375   \n",
       "Brand              0.343310     0.599348          0.320993  0.496359   \n",
       "Repaired           0.339171     0.217340          0.239333  0.021968   \n",
       "\n",
       "                      Power     Model  Kilometer  RegistrationMonth  FuelType  \\\n",
       "Price              0.216712  0.581412   0.321094           0.109357  0.273297   \n",
       "VehicleType        0.111346  0.917187   0.177039           0.113183  0.370455   \n",
       "RegistrationYear   0.060109  0.625229   0.442115           0.115327  0.297289   \n",
       "Gearbox            0.262265  0.649851   0.022446           0.043111  0.150375   \n",
       "Power              1.000000  0.419958   0.018774           0.009701  0.071695   \n",
       "Model              0.419958  1.000000   0.448926           0.129025  0.537371   \n",
       "Kilometer          0.018774  0.448926   1.000000           0.040057  0.149223   \n",
       "RegistrationMonth  0.009701  0.129025   0.040057           1.000000  0.116777   \n",
       "FuelType           0.071695  0.537371   0.149223           0.116777  1.000000   \n",
       "Brand              0.199585  0.998495   0.269083           0.066524  0.284147   \n",
       "Repaired           0.032150  0.225596   0.226008           0.190495  0.169254   \n",
       "\n",
       "                      Brand  Repaired  \n",
       "Price              0.343310  0.339171  \n",
       "VehicleType        0.599348  0.217340  \n",
       "RegistrationYear   0.320993  0.239333  \n",
       "Gearbox            0.496359  0.021968  \n",
       "Power              0.199585  0.032150  \n",
       "Model              0.998495  0.225596  \n",
       "Kilometer          0.269083  0.226008  \n",
       "RegistrationMonth  0.066524  0.190495  \n",
       "FuelType           0.284147  0.169254  \n",
       "Brand              1.000000  0.140276  \n",
       "Repaired           0.140276  1.000000  "
      ]
     },
     "execution_count": 51,
     "metadata": {},
     "output_type": "execute_result"
    }
   ],
   "source": [
    "df.phik_matrix()"
   ]
  },
  {
   "cell_type": "markdown",
   "metadata": {},
   "source": [
    "### Подготовка выборок для обучения моделей"
   ]
  },
  {
   "cell_type": "code",
   "execution_count": 52,
   "metadata": {},
   "outputs": [],
   "source": [
    "RANDOM_STATE = 12345\n",
    "\n",
    "#Выделим категориальные и числовые переменные\n",
    "category = ['VehicleType', 'Gearbox', 'Model', 'RegistrationMonth', 'FuelType', 'Brand', 'Repaired', 'RegistrationYear']\n",
    "numeric = ['Power', 'Kilometer']\n",
    "\n",
    "#Разделим данные на фичи и таргет\n",
    "features = df.drop('Price', axis=1)\n",
    "target = df['Price']"
   ]
  },
  {
   "cell_type": "code",
   "execution_count": 53,
   "metadata": {},
   "outputs": [
    {
     "data": {
      "text/html": [
       "<div>\n",
       "<style scoped>\n",
       "    .dataframe tbody tr th:only-of-type {\n",
       "        vertical-align: middle;\n",
       "    }\n",
       "\n",
       "    .dataframe tbody tr th {\n",
       "        vertical-align: top;\n",
       "    }\n",
       "\n",
       "    .dataframe thead th {\n",
       "        text-align: right;\n",
       "    }\n",
       "</style>\n",
       "<table border=\"1\" class=\"dataframe\">\n",
       "  <thead>\n",
       "    <tr style=\"text-align: right;\">\n",
       "      <th></th>\n",
       "      <th>Power</th>\n",
       "      <th>Kilometer</th>\n",
       "      <th>VehicleType_bus</th>\n",
       "      <th>VehicleType_convertible</th>\n",
       "      <th>VehicleType_coupe</th>\n",
       "      <th>VehicleType_other</th>\n",
       "      <th>VehicleType_sedan</th>\n",
       "      <th>VehicleType_small</th>\n",
       "      <th>VehicleType_suv</th>\n",
       "      <th>VehicleType_wagon</th>\n",
       "      <th>...</th>\n",
       "      <th>RegistrationYear_2007</th>\n",
       "      <th>RegistrationYear_2008</th>\n",
       "      <th>RegistrationYear_2009</th>\n",
       "      <th>RegistrationYear_2010</th>\n",
       "      <th>RegistrationYear_2011</th>\n",
       "      <th>RegistrationYear_2012</th>\n",
       "      <th>RegistrationYear_2013</th>\n",
       "      <th>RegistrationYear_2014</th>\n",
       "      <th>RegistrationYear_2015</th>\n",
       "      <th>RegistrationYear_2016</th>\n",
       "    </tr>\n",
       "  </thead>\n",
       "  <tbody>\n",
       "    <tr>\n",
       "      <th>0</th>\n",
       "      <td>101.0</td>\n",
       "      <td>150000</td>\n",
       "      <td>0</td>\n",
       "      <td>0</td>\n",
       "      <td>0</td>\n",
       "      <td>1</td>\n",
       "      <td>0</td>\n",
       "      <td>0</td>\n",
       "      <td>0</td>\n",
       "      <td>0</td>\n",
       "      <td>...</td>\n",
       "      <td>0</td>\n",
       "      <td>0</td>\n",
       "      <td>0</td>\n",
       "      <td>0</td>\n",
       "      <td>0</td>\n",
       "      <td>0</td>\n",
       "      <td>0</td>\n",
       "      <td>0</td>\n",
       "      <td>0</td>\n",
       "      <td>0</td>\n",
       "    </tr>\n",
       "    <tr>\n",
       "      <th>1</th>\n",
       "      <td>163.0</td>\n",
       "      <td>125000</td>\n",
       "      <td>0</td>\n",
       "      <td>0</td>\n",
       "      <td>0</td>\n",
       "      <td>0</td>\n",
       "      <td>0</td>\n",
       "      <td>0</td>\n",
       "      <td>1</td>\n",
       "      <td>0</td>\n",
       "      <td>...</td>\n",
       "      <td>0</td>\n",
       "      <td>0</td>\n",
       "      <td>0</td>\n",
       "      <td>0</td>\n",
       "      <td>0</td>\n",
       "      <td>0</td>\n",
       "      <td>0</td>\n",
       "      <td>0</td>\n",
       "      <td>0</td>\n",
       "      <td>0</td>\n",
       "    </tr>\n",
       "    <tr>\n",
       "      <th>2</th>\n",
       "      <td>75.0</td>\n",
       "      <td>150000</td>\n",
       "      <td>0</td>\n",
       "      <td>0</td>\n",
       "      <td>0</td>\n",
       "      <td>0</td>\n",
       "      <td>0</td>\n",
       "      <td>1</td>\n",
       "      <td>0</td>\n",
       "      <td>0</td>\n",
       "      <td>...</td>\n",
       "      <td>0</td>\n",
       "      <td>0</td>\n",
       "      <td>0</td>\n",
       "      <td>0</td>\n",
       "      <td>0</td>\n",
       "      <td>0</td>\n",
       "      <td>0</td>\n",
       "      <td>0</td>\n",
       "      <td>0</td>\n",
       "      <td>0</td>\n",
       "    </tr>\n",
       "    <tr>\n",
       "      <th>3</th>\n",
       "      <td>69.0</td>\n",
       "      <td>90000</td>\n",
       "      <td>0</td>\n",
       "      <td>0</td>\n",
       "      <td>0</td>\n",
       "      <td>0</td>\n",
       "      <td>0</td>\n",
       "      <td>1</td>\n",
       "      <td>0</td>\n",
       "      <td>0</td>\n",
       "      <td>...</td>\n",
       "      <td>0</td>\n",
       "      <td>1</td>\n",
       "      <td>0</td>\n",
       "      <td>0</td>\n",
       "      <td>0</td>\n",
       "      <td>0</td>\n",
       "      <td>0</td>\n",
       "      <td>0</td>\n",
       "      <td>0</td>\n",
       "      <td>0</td>\n",
       "    </tr>\n",
       "    <tr>\n",
       "      <th>4</th>\n",
       "      <td>102.0</td>\n",
       "      <td>150000</td>\n",
       "      <td>0</td>\n",
       "      <td>0</td>\n",
       "      <td>0</td>\n",
       "      <td>0</td>\n",
       "      <td>1</td>\n",
       "      <td>0</td>\n",
       "      <td>0</td>\n",
       "      <td>0</td>\n",
       "      <td>...</td>\n",
       "      <td>0</td>\n",
       "      <td>0</td>\n",
       "      <td>0</td>\n",
       "      <td>0</td>\n",
       "      <td>0</td>\n",
       "      <td>0</td>\n",
       "      <td>0</td>\n",
       "      <td>0</td>\n",
       "      <td>0</td>\n",
       "      <td>0</td>\n",
       "    </tr>\n",
       "  </tbody>\n",
       "</table>\n",
       "<p>5 rows × 357 columns</p>\n",
       "</div>"
      ],
      "text/plain": [
       "   Power  Kilometer  VehicleType_bus  VehicleType_convertible  \\\n",
       "0  101.0     150000                0                        0   \n",
       "1  163.0     125000                0                        0   \n",
       "2   75.0     150000                0                        0   \n",
       "3   69.0      90000                0                        0   \n",
       "4  102.0     150000                0                        0   \n",
       "\n",
       "   VehicleType_coupe  VehicleType_other  VehicleType_sedan  VehicleType_small  \\\n",
       "0                  0                  1                  0                  0   \n",
       "1                  0                  0                  0                  0   \n",
       "2                  0                  0                  0                  1   \n",
       "3                  0                  0                  0                  1   \n",
       "4                  0                  0                  1                  0   \n",
       "\n",
       "   VehicleType_suv  VehicleType_wagon  ...  RegistrationYear_2007  \\\n",
       "0                0                  0  ...                      0   \n",
       "1                1                  0  ...                      0   \n",
       "2                0                  0  ...                      0   \n",
       "3                0                  0  ...                      0   \n",
       "4                0                  0  ...                      0   \n",
       "\n",
       "   RegistrationYear_2008  RegistrationYear_2009  RegistrationYear_2010  \\\n",
       "0                      0                      0                      0   \n",
       "1                      0                      0                      0   \n",
       "2                      0                      0                      0   \n",
       "3                      1                      0                      0   \n",
       "4                      0                      0                      0   \n",
       "\n",
       "   RegistrationYear_2011  RegistrationYear_2012  RegistrationYear_2013  \\\n",
       "0                      0                      0                      0   \n",
       "1                      0                      0                      0   \n",
       "2                      0                      0                      0   \n",
       "3                      0                      0                      0   \n",
       "4                      0                      0                      0   \n",
       "\n",
       "   RegistrationYear_2014  RegistrationYear_2015  RegistrationYear_2016  \n",
       "0                      0                      0                      0  \n",
       "1                      0                      0                      0  \n",
       "2                      0                      0                      0  \n",
       "3                      0                      0                      0  \n",
       "4                      0                      0                      0  \n",
       "\n",
       "[5 rows x 357 columns]"
      ]
     },
     "execution_count": 53,
     "metadata": {},
     "output_type": "execute_result"
    }
   ],
   "source": [
    "features_ohe = pd.get_dummies(features, columns=category)\n",
    "features_ohe.head(5)"
   ]
  },
  {
   "cell_type": "code",
   "execution_count": 54,
   "metadata": {},
   "outputs": [
    {
     "data": {
      "text/html": [
       "<div>\n",
       "<style scoped>\n",
       "    .dataframe tbody tr th:only-of-type {\n",
       "        vertical-align: middle;\n",
       "    }\n",
       "\n",
       "    .dataframe tbody tr th {\n",
       "        vertical-align: top;\n",
       "    }\n",
       "\n",
       "    .dataframe thead th {\n",
       "        text-align: right;\n",
       "    }\n",
       "</style>\n",
       "<table border=\"1\" class=\"dataframe\">\n",
       "  <thead>\n",
       "    <tr style=\"text-align: right;\">\n",
       "      <th></th>\n",
       "      <th>Power</th>\n",
       "      <th>Kilometer</th>\n",
       "      <th>VehicleType_bus</th>\n",
       "      <th>VehicleType_convertible</th>\n",
       "      <th>VehicleType_coupe</th>\n",
       "      <th>VehicleType_other</th>\n",
       "      <th>VehicleType_sedan</th>\n",
       "      <th>VehicleType_small</th>\n",
       "      <th>VehicleType_suv</th>\n",
       "      <th>VehicleType_wagon</th>\n",
       "      <th>...</th>\n",
       "      <th>RegistrationYear_2007</th>\n",
       "      <th>RegistrationYear_2008</th>\n",
       "      <th>RegistrationYear_2009</th>\n",
       "      <th>RegistrationYear_2010</th>\n",
       "      <th>RegistrationYear_2011</th>\n",
       "      <th>RegistrationYear_2012</th>\n",
       "      <th>RegistrationYear_2013</th>\n",
       "      <th>RegistrationYear_2014</th>\n",
       "      <th>RegistrationYear_2015</th>\n",
       "      <th>RegistrationYear_2016</th>\n",
       "    </tr>\n",
       "  </thead>\n",
       "  <tbody>\n",
       "    <tr>\n",
       "      <th>0</th>\n",
       "      <td>-0.326897</td>\n",
       "      <td>0.581806</td>\n",
       "      <td>0</td>\n",
       "      <td>0</td>\n",
       "      <td>0</td>\n",
       "      <td>1</td>\n",
       "      <td>0</td>\n",
       "      <td>0</td>\n",
       "      <td>0</td>\n",
       "      <td>0</td>\n",
       "      <td>...</td>\n",
       "      <td>0</td>\n",
       "      <td>0</td>\n",
       "      <td>0</td>\n",
       "      <td>0</td>\n",
       "      <td>0</td>\n",
       "      <td>0</td>\n",
       "      <td>0</td>\n",
       "      <td>0</td>\n",
       "      <td>0</td>\n",
       "      <td>0</td>\n",
       "    </tr>\n",
       "    <tr>\n",
       "      <th>1</th>\n",
       "      <td>0.672631</td>\n",
       "      <td>-0.106262</td>\n",
       "      <td>0</td>\n",
       "      <td>0</td>\n",
       "      <td>0</td>\n",
       "      <td>0</td>\n",
       "      <td>0</td>\n",
       "      <td>0</td>\n",
       "      <td>1</td>\n",
       "      <td>0</td>\n",
       "      <td>...</td>\n",
       "      <td>0</td>\n",
       "      <td>0</td>\n",
       "      <td>0</td>\n",
       "      <td>0</td>\n",
       "      <td>0</td>\n",
       "      <td>0</td>\n",
       "      <td>0</td>\n",
       "      <td>0</td>\n",
       "      <td>0</td>\n",
       "      <td>0</td>\n",
       "    </tr>\n",
       "    <tr>\n",
       "      <th>2</th>\n",
       "      <td>-0.746054</td>\n",
       "      <td>0.581806</td>\n",
       "      <td>0</td>\n",
       "      <td>0</td>\n",
       "      <td>0</td>\n",
       "      <td>0</td>\n",
       "      <td>0</td>\n",
       "      <td>1</td>\n",
       "      <td>0</td>\n",
       "      <td>0</td>\n",
       "      <td>...</td>\n",
       "      <td>0</td>\n",
       "      <td>0</td>\n",
       "      <td>0</td>\n",
       "      <td>0</td>\n",
       "      <td>0</td>\n",
       "      <td>0</td>\n",
       "      <td>0</td>\n",
       "      <td>0</td>\n",
       "      <td>0</td>\n",
       "      <td>0</td>\n",
       "    </tr>\n",
       "    <tr>\n",
       "      <th>3</th>\n",
       "      <td>-0.842782</td>\n",
       "      <td>-1.069558</td>\n",
       "      <td>0</td>\n",
       "      <td>0</td>\n",
       "      <td>0</td>\n",
       "      <td>0</td>\n",
       "      <td>0</td>\n",
       "      <td>1</td>\n",
       "      <td>0</td>\n",
       "      <td>0</td>\n",
       "      <td>...</td>\n",
       "      <td>0</td>\n",
       "      <td>1</td>\n",
       "      <td>0</td>\n",
       "      <td>0</td>\n",
       "      <td>0</td>\n",
       "      <td>0</td>\n",
       "      <td>0</td>\n",
       "      <td>0</td>\n",
       "      <td>0</td>\n",
       "      <td>0</td>\n",
       "    </tr>\n",
       "    <tr>\n",
       "      <th>4</th>\n",
       "      <td>-0.310775</td>\n",
       "      <td>0.581806</td>\n",
       "      <td>0</td>\n",
       "      <td>0</td>\n",
       "      <td>0</td>\n",
       "      <td>0</td>\n",
       "      <td>1</td>\n",
       "      <td>0</td>\n",
       "      <td>0</td>\n",
       "      <td>0</td>\n",
       "      <td>...</td>\n",
       "      <td>0</td>\n",
       "      <td>0</td>\n",
       "      <td>0</td>\n",
       "      <td>0</td>\n",
       "      <td>0</td>\n",
       "      <td>0</td>\n",
       "      <td>0</td>\n",
       "      <td>0</td>\n",
       "      <td>0</td>\n",
       "      <td>0</td>\n",
       "    </tr>\n",
       "  </tbody>\n",
       "</table>\n",
       "<p>5 rows × 357 columns</p>\n",
       "</div>"
      ],
      "text/plain": [
       "      Power  Kilometer  VehicleType_bus  VehicleType_convertible  \\\n",
       "0 -0.326897   0.581806                0                        0   \n",
       "1  0.672631  -0.106262                0                        0   \n",
       "2 -0.746054   0.581806                0                        0   \n",
       "3 -0.842782  -1.069558                0                        0   \n",
       "4 -0.310775   0.581806                0                        0   \n",
       "\n",
       "   VehicleType_coupe  VehicleType_other  VehicleType_sedan  VehicleType_small  \\\n",
       "0                  0                  1                  0                  0   \n",
       "1                  0                  0                  0                  0   \n",
       "2                  0                  0                  0                  1   \n",
       "3                  0                  0                  0                  1   \n",
       "4                  0                  0                  1                  0   \n",
       "\n",
       "   VehicleType_suv  VehicleType_wagon  ...  RegistrationYear_2007  \\\n",
       "0                0                  0  ...                      0   \n",
       "1                1                  0  ...                      0   \n",
       "2                0                  0  ...                      0   \n",
       "3                0                  0  ...                      0   \n",
       "4                0                  0  ...                      0   \n",
       "\n",
       "   RegistrationYear_2008  RegistrationYear_2009  RegistrationYear_2010  \\\n",
       "0                      0                      0                      0   \n",
       "1                      0                      0                      0   \n",
       "2                      0                      0                      0   \n",
       "3                      1                      0                      0   \n",
       "4                      0                      0                      0   \n",
       "\n",
       "   RegistrationYear_2011  RegistrationYear_2012  RegistrationYear_2013  \\\n",
       "0                      0                      0                      0   \n",
       "1                      0                      0                      0   \n",
       "2                      0                      0                      0   \n",
       "3                      0                      0                      0   \n",
       "4                      0                      0                      0   \n",
       "\n",
       "   RegistrationYear_2014  RegistrationYear_2015  RegistrationYear_2016  \n",
       "0                      0                      0                      0  \n",
       "1                      0                      0                      0  \n",
       "2                      0                      0                      0  \n",
       "3                      0                      0                      0  \n",
       "4                      0                      0                      0  \n",
       "\n",
       "[5 rows x 357 columns]"
      ]
     },
     "execution_count": 54,
     "metadata": {},
     "output_type": "execute_result"
    }
   ],
   "source": [
    "#Теперь проведем скалирование числовых признаков\n",
    "\n",
    "scaler = StandardScaler()\n",
    "scaler.fit(features_ohe[numeric])\n",
    "features_ohe[numeric] = scaler.transform(features_ohe[numeric])\n",
    "features_ohe.head(5)"
   ]
  },
  {
   "cell_type": "code",
   "execution_count": 55,
   "metadata": {},
   "outputs": [
    {
     "name": "stdout",
     "output_type": "stream",
     "text": [
      "Размер обучающей выбрки: (178109, 357)\n",
      "Размер валидационная выбрки: (59370, 357)\n",
      "Размер тестовой выбрки: (59370, 357)\n"
     ]
    }
   ],
   "source": [
    "features_train, features_valid_test, target_train, target_valid_test = train_test_split(features_ohe, target, test_size=0.4, random_state=RANDOM_STATE)\n",
    "print('Размер обучающей выбрки:', features_train.shape)\n",
    "\n",
    "features_valid, features_test, target_valid, target_test = train_test_split(features_valid_test, target_valid_test, test_size=0.5, random_state=RANDOM_STATE)\n",
    "\n",
    "print('Размер валидационная выбрки:', features_valid.shape)\n",
    "print('Размер тестовой выбрки:', features_test.shape)"
   ]
  },
  {
   "cell_type": "markdown",
   "metadata": {},
   "source": [
    "## Обучение моделей"
   ]
  },
  {
   "cell_type": "markdown",
   "metadata": {},
   "source": [
    "Напишем функцию для расчета RMSE."
   ]
  },
  {
   "cell_type": "code",
   "execution_count": 156,
   "metadata": {},
   "outputs": [],
   "source": [
    "def rmse(test, predictions):\n",
    "    return round(mean_squared_error(test, predictions)**0.5, 2)"
   ]
  },
  {
   "cell_type": "code",
   "execution_count": 157,
   "metadata": {},
   "outputs": [],
   "source": [
    "def illustration(test,predictions):\n",
    "    plt.figure(figsize=(8, 5))\n",
    "    pd.Series(test).hist(bins=20, alpha=0.5)\n",
    "    pd.Series(predictions).hist(bins=20, alpha=0.5)\n",
    "    plt.legend(['Предсказанные значения', 'Истинные значения'])\n",
    "    plt.title('График распределения предсказанных и истинных значениий', y=1.05)\n",
    "    plt.xlabel('Предсказанные / Истинные значения')\n",
    "    plt.ylabel('Количество')\n",
    "    plt.subplot()"
   ]
  },
  {
   "cell_type": "markdown",
   "metadata": {},
   "source": [
    "Начнем с простых моделей."
   ]
  },
  {
   "cell_type": "markdown",
   "metadata": {},
   "source": [
    "### Случайный лес"
   ]
  },
  {
   "cell_type": "code",
   "execution_count": 158,
   "metadata": {},
   "outputs": [
    {
     "name": "stdout",
     "output_type": "stream",
     "text": [
      "CPU times: total: 7min 40s\n",
      "Wall time: 7min 43s\n"
     ]
    },
    {
     "data": {
      "text/html": [
       "<style>#sk-container-id-4 {color: black;background-color: white;}#sk-container-id-4 pre{padding: 0;}#sk-container-id-4 div.sk-toggleable {background-color: white;}#sk-container-id-4 label.sk-toggleable__label {cursor: pointer;display: block;width: 100%;margin-bottom: 0;padding: 0.3em;box-sizing: border-box;text-align: center;}#sk-container-id-4 label.sk-toggleable__label-arrow:before {content: \"▸\";float: left;margin-right: 0.25em;color: #696969;}#sk-container-id-4 label.sk-toggleable__label-arrow:hover:before {color: black;}#sk-container-id-4 div.sk-estimator:hover label.sk-toggleable__label-arrow:before {color: black;}#sk-container-id-4 div.sk-toggleable__content {max-height: 0;max-width: 0;overflow: hidden;text-align: left;background-color: #f0f8ff;}#sk-container-id-4 div.sk-toggleable__content pre {margin: 0.2em;color: black;border-radius: 0.25em;background-color: #f0f8ff;}#sk-container-id-4 input.sk-toggleable__control:checked~div.sk-toggleable__content {max-height: 200px;max-width: 100%;overflow: auto;}#sk-container-id-4 input.sk-toggleable__control:checked~label.sk-toggleable__label-arrow:before {content: \"▾\";}#sk-container-id-4 div.sk-estimator input.sk-toggleable__control:checked~label.sk-toggleable__label {background-color: #d4ebff;}#sk-container-id-4 div.sk-label input.sk-toggleable__control:checked~label.sk-toggleable__label {background-color: #d4ebff;}#sk-container-id-4 input.sk-hidden--visually {border: 0;clip: rect(1px 1px 1px 1px);clip: rect(1px, 1px, 1px, 1px);height: 1px;margin: -1px;overflow: hidden;padding: 0;position: absolute;width: 1px;}#sk-container-id-4 div.sk-estimator {font-family: monospace;background-color: #f0f8ff;border: 1px dotted black;border-radius: 0.25em;box-sizing: border-box;margin-bottom: 0.5em;}#sk-container-id-4 div.sk-estimator:hover {background-color: #d4ebff;}#sk-container-id-4 div.sk-parallel-item::after {content: \"\";width: 100%;border-bottom: 1px solid gray;flex-grow: 1;}#sk-container-id-4 div.sk-label:hover label.sk-toggleable__label {background-color: #d4ebff;}#sk-container-id-4 div.sk-serial::before {content: \"\";position: absolute;border-left: 1px solid gray;box-sizing: border-box;top: 0;bottom: 0;left: 50%;z-index: 0;}#sk-container-id-4 div.sk-serial {display: flex;flex-direction: column;align-items: center;background-color: white;padding-right: 0.2em;padding-left: 0.2em;position: relative;}#sk-container-id-4 div.sk-item {position: relative;z-index: 1;}#sk-container-id-4 div.sk-parallel {display: flex;align-items: stretch;justify-content: center;background-color: white;position: relative;}#sk-container-id-4 div.sk-item::before, #sk-container-id-4 div.sk-parallel-item::before {content: \"\";position: absolute;border-left: 1px solid gray;box-sizing: border-box;top: 0;bottom: 0;left: 50%;z-index: -1;}#sk-container-id-4 div.sk-parallel-item {display: flex;flex-direction: column;z-index: 1;position: relative;background-color: white;}#sk-container-id-4 div.sk-parallel-item:first-child::after {align-self: flex-end;width: 50%;}#sk-container-id-4 div.sk-parallel-item:last-child::after {align-self: flex-start;width: 50%;}#sk-container-id-4 div.sk-parallel-item:only-child::after {width: 0;}#sk-container-id-4 div.sk-dashed-wrapped {border: 1px dashed gray;margin: 0 0.4em 0.5em 0.4em;box-sizing: border-box;padding-bottom: 0.4em;background-color: white;}#sk-container-id-4 div.sk-label label {font-family: monospace;font-weight: bold;display: inline-block;line-height: 1.2em;}#sk-container-id-4 div.sk-label-container {text-align: center;}#sk-container-id-4 div.sk-container {/* jupyter's `normalize.less` sets `[hidden] { display: none; }` but bootstrap.min.css set `[hidden] { display: none !important; }` so we also need the `!important` here to be able to override the default hidden behavior on the sphinx rendered scikit-learn.org. See: https://github.com/scikit-learn/scikit-learn/issues/21755 */display: inline-block !important;position: relative;}#sk-container-id-4 div.sk-text-repr-fallback {display: none;}</style><div id=\"sk-container-id-4\" class=\"sk-top-container\"><div class=\"sk-text-repr-fallback\"><pre>RandomForestRegressor(criterion=&#x27;friedman_mse&#x27;, random_state=12345)</pre><b>In a Jupyter environment, please rerun this cell to show the HTML representation or trust the notebook. <br />On GitHub, the HTML representation is unable to render, please try loading this page with nbviewer.org.</b></div><div class=\"sk-container\" hidden><div class=\"sk-item\"><div class=\"sk-estimator sk-toggleable\"><input class=\"sk-toggleable__control sk-hidden--visually\" id=\"sk-estimator-id-4\" type=\"checkbox\" checked><label for=\"sk-estimator-id-4\" class=\"sk-toggleable__label sk-toggleable__label-arrow\">RandomForestRegressor</label><div class=\"sk-toggleable__content\"><pre>RandomForestRegressor(criterion=&#x27;friedman_mse&#x27;, random_state=12345)</pre></div></div></div></div></div>"
      ],
      "text/plain": [
       "RandomForestRegressor(criterion='friedman_mse', random_state=12345)"
      ]
     },
     "execution_count": 158,
     "metadata": {},
     "output_type": "execute_result"
    }
   ],
   "source": [
    "%%time\n",
    "model_rf = RandomForestRegressor(random_state=RANDOM_STATE, criterion='friedman_mse',warm_start=False, n_estimators=100)\n",
    "model_rf.fit(features_train, target_train)"
   ]
  },
  {
   "cell_type": "code",
   "execution_count": 159,
   "metadata": {},
   "outputs": [
    {
     "name": "stdout",
     "output_type": "stream",
     "text": [
      "CPU times: total: 2.45 s\n",
      "Wall time: 2.47 s\n"
     ]
    }
   ],
   "source": [
    "%%time\n",
    "predict_rf=model_rf.predict(features_valid)"
   ]
  },
  {
   "cell_type": "code",
   "execution_count": 160,
   "metadata": {},
   "outputs": [
    {
     "name": "stdout",
     "output_type": "stream",
     "text": [
      "RMSE случайного леса: 1574.95\n"
     ]
    }
   ],
   "source": [
    "print('RMSE случайного леса:', rmse(target_valid, predict_rf))"
   ]
  },
  {
   "cell_type": "code",
   "execution_count": 161,
   "metadata": {},
   "outputs": [
    {
     "data": {
      "image/png": "[encoded data removed]",
      "text/plain": [
       "<Figure size 800x500 with 1 Axes>"
      ]
     },
     "metadata": {},
     "output_type": "display_data"
    }
   ],
   "source": [
    "illustration(target_valid, predict_rf)"
   ]
  },
  {
   "cell_type": "markdown",
   "metadata": {},
   "source": [
    "### Линейная регрессия"
   ]
  },
  {
   "cell_type": "code",
   "execution_count": 162,
   "metadata": {},
   "outputs": [
    {
     "name": "stdout",
     "output_type": "stream",
     "text": [
      "CPU times: total: 28.2 s\n",
      "Wall time: 5.78 s\n"
     ]
    },
    {
     "data": {
      "text/html": [
       "<style>#sk-container-id-5 {color: black;background-color: white;}#sk-container-id-5 pre{padding: 0;}#sk-container-id-5 div.sk-toggleable {background-color: white;}#sk-container-id-5 label.sk-toggleable__label {cursor: pointer;display: block;width: 100%;margin-bottom: 0;padding: 0.3em;box-sizing: border-box;text-align: center;}#sk-container-id-5 label.sk-toggleable__label-arrow:before {content: \"▸\";float: left;margin-right: 0.25em;color: #696969;}#sk-container-id-5 label.sk-toggleable__label-arrow:hover:before {color: black;}#sk-container-id-5 div.sk-estimator:hover label.sk-toggleable__label-arrow:before {color: black;}#sk-container-id-5 div.sk-toggleable__content {max-height: 0;max-width: 0;overflow: hidden;text-align: left;background-color: #f0f8ff;}#sk-container-id-5 div.sk-toggleable__content pre {margin: 0.2em;color: black;border-radius: 0.25em;background-color: #f0f8ff;}#sk-container-id-5 input.sk-toggleable__control:checked~div.sk-toggleable__content {max-height: 200px;max-width: 100%;overflow: auto;}#sk-container-id-5 input.sk-toggleable__control:checked~label.sk-toggleable__label-arrow:before {content: \"▾\";}#sk-container-id-5 div.sk-estimator input.sk-toggleable__control:checked~label.sk-toggleable__label {background-color: #d4ebff;}#sk-container-id-5 div.sk-label input.sk-toggleable__control:checked~label.sk-toggleable__label {background-color: #d4ebff;}#sk-container-id-5 input.sk-hidden--visually {border: 0;clip: rect(1px 1px 1px 1px);clip: rect(1px, 1px, 1px, 1px);height: 1px;margin: -1px;overflow: hidden;padding: 0;position: absolute;width: 1px;}#sk-container-id-5 div.sk-estimator {font-family: monospace;background-color: #f0f8ff;border: 1px dotted black;border-radius: 0.25em;box-sizing: border-box;margin-bottom: 0.5em;}#sk-container-id-5 div.sk-estimator:hover {background-color: #d4ebff;}#sk-container-id-5 div.sk-parallel-item::after {content: \"\";width: 100%;border-bottom: 1px solid gray;flex-grow: 1;}#sk-container-id-5 div.sk-label:hover label.sk-toggleable__label {background-color: #d4ebff;}#sk-container-id-5 div.sk-serial::before {content: \"\";position: absolute;border-left: 1px solid gray;box-sizing: border-box;top: 0;bottom: 0;left: 50%;z-index: 0;}#sk-container-id-5 div.sk-serial {display: flex;flex-direction: column;align-items: center;background-color: white;padding-right: 0.2em;padding-left: 0.2em;position: relative;}#sk-container-id-5 div.sk-item {position: relative;z-index: 1;}#sk-container-id-5 div.sk-parallel {display: flex;align-items: stretch;justify-content: center;background-color: white;position: relative;}#sk-container-id-5 div.sk-item::before, #sk-container-id-5 div.sk-parallel-item::before {content: \"\";position: absolute;border-left: 1px solid gray;box-sizing: border-box;top: 0;bottom: 0;left: 50%;z-index: -1;}#sk-container-id-5 div.sk-parallel-item {display: flex;flex-direction: column;z-index: 1;position: relative;background-color: white;}#sk-container-id-5 div.sk-parallel-item:first-child::after {align-self: flex-end;width: 50%;}#sk-container-id-5 div.sk-parallel-item:last-child::after {align-self: flex-start;width: 50%;}#sk-container-id-5 div.sk-parallel-item:only-child::after {width: 0;}#sk-container-id-5 div.sk-dashed-wrapped {border: 1px dashed gray;margin: 0 0.4em 0.5em 0.4em;box-sizing: border-box;padding-bottom: 0.4em;background-color: white;}#sk-container-id-5 div.sk-label label {font-family: monospace;font-weight: bold;display: inline-block;line-height: 1.2em;}#sk-container-id-5 div.sk-label-container {text-align: center;}#sk-container-id-5 div.sk-container {/* jupyter's `normalize.less` sets `[hidden] { display: none; }` but bootstrap.min.css set `[hidden] { display: none !important; }` so we also need the `!important` here to be able to override the default hidden behavior on the sphinx rendered scikit-learn.org. See: https://github.com/scikit-learn/scikit-learn/issues/21755 */display: inline-block !important;position: relative;}#sk-container-id-5 div.sk-text-repr-fallback {display: none;}</style><div id=\"sk-container-id-5\" class=\"sk-top-container\"><div class=\"sk-text-repr-fallback\"><pre>LinearRegression()</pre><b>In a Jupyter environment, please rerun this cell to show the HTML representation or trust the notebook. <br />On GitHub, the HTML representation is unable to render, please try loading this page with nbviewer.org.</b></div><div class=\"sk-container\" hidden><div class=\"sk-item\"><div class=\"sk-estimator sk-toggleable\"><input class=\"sk-toggleable__control sk-hidden--visually\" id=\"sk-estimator-id-5\" type=\"checkbox\" checked><label for=\"sk-estimator-id-5\" class=\"sk-toggleable__label sk-toggleable__label-arrow\">LinearRegression</label><div class=\"sk-toggleable__content\"><pre>LinearRegression()</pre></div></div></div></div></div>"
      ],
      "text/plain": [
       "LinearRegression()"
      ]
     },
     "execution_count": 162,
     "metadata": {},
     "output_type": "execute_result"
    }
   ],
   "source": [
    "%%time\n",
    "\n",
    "model_lr = LinearRegression()\n",
    "model_lr.fit(features_train, target_train)"
   ]
  },
  {
   "cell_type": "code",
   "execution_count": 163,
   "metadata": {},
   "outputs": [
    {
     "name": "stdout",
     "output_type": "stream",
     "text": [
      "CPU times: total: 93.8 ms\n",
      "Wall time: 96.7 ms\n"
     ]
    }
   ],
   "source": [
    "%%time\n",
    "predict_lr = model_lr.predict(features_valid)"
   ]
  },
  {
   "cell_type": "code",
   "execution_count": 164,
   "metadata": {},
   "outputs": [
    {
     "name": "stdout",
     "output_type": "stream",
     "text": [
      "RMSE линейной регрессии: 2101.17\n"
     ]
    }
   ],
   "source": [
    "print('RMSE линейной регрессии:', rmse(target_valid, predict_lr))"
   ]
  },
  {
   "cell_type": "code",
   "execution_count": 165,
   "metadata": {},
   "outputs": [
    {
     "data": {
      "image/png": "[encoded data removed]",
      "text/plain": [
       "<Figure size 800x500 with 1 Axes>"
      ]
     },
     "metadata": {},
     "output_type": "display_data"
    }
   ],
   "source": [
    "illustration(target_valid, predict_lr)"
   ]
  },
  {
   "cell_type": "markdown",
   "metadata": {},
   "source": [
    "### LGBM регрессор"
   ]
  },
  {
   "cell_type": "code",
   "execution_count": 166,
   "metadata": {},
   "outputs": [],
   "source": [
    "def objective(trial):\n",
    "    params = {'verbosity':-1,\n",
    "              'max_depth':trial.suggest_int('max_depth', 5, 100, step=5),\n",
    "              'num_leaves':trial.suggest_int('num_leaves', 5, 105, step=10),\n",
    "              'learning_rate':trial.suggest_float('learning_rate', 0.001, 0.1, step=0.01),\n",
    "              'random_state': RANDOM_STATE\n",
    "             }\n",
    "    reg = LGBMRegressor(**params)\n",
    "    reg.fit(features_train, target_train)\n",
    "    pr = reg.predict(features_valid)\n",
    "    rmse1 = rmse(target_valid, pr)\n",
    "    return rmse1"
   ]
  },
  {
   "cell_type": "code",
   "execution_count": 167,
   "metadata": {},
   "outputs": [
    {
     "name": "stderr",
     "output_type": "stream",
     "text": [
      "[I 2023-06-05 03:28:03,010] A new study created in memory with name: no-name-28b758c3-1fa9-459e-8804-589c251b1179\n",
      "[I 2023-06-05 03:28:04,375] Trial 0 finished with value: 1606.41 and parameters: {'max_depth': 20, 'num_leaves': 85, 'learning_rate': 0.07100000000000001}. Best is trial 0 with value: 1606.41.\n",
      "[I 2023-06-05 03:28:05,672] Trial 1 finished with value: 1605.85 and parameters: {'max_depth': 75, 'num_leaves': 65, 'learning_rate': 0.081}. Best is trial 1 with value: 1605.85.\n",
      "[I 2023-06-05 03:28:06,848] Trial 2 finished with value: 1903.52 and parameters: {'max_depth': 80, 'num_leaves': 45, 'learning_rate': 0.031}. Best is trial 1 with value: 1605.85.\n",
      "[I 2023-06-05 03:28:08,058] Trial 3 finished with value: 1698.58 and parameters: {'max_depth': 85, 'num_leaves': 35, 'learning_rate': 0.07100000000000001}. Best is trial 1 with value: 1605.85.\n",
      "[I 2023-06-05 03:28:09,201] Trial 4 finished with value: 1831.09 and parameters: {'max_depth': 15, 'num_leaves': 25, 'learning_rate': 0.051000000000000004}. Best is trial 1 with value: 1605.85.\n",
      "[I 2023-06-05 03:28:10,542] Trial 5 finished with value: 1621.48 and parameters: {'max_depth': 100, 'num_leaves': 55, 'learning_rate': 0.081}. Best is trial 1 with value: 1605.85.\n",
      "[I 2023-06-05 03:28:11,968] Trial 6 finished with value: 1668.73 and parameters: {'max_depth': 65, 'num_leaves': 75, 'learning_rate': 0.051000000000000004}. Best is trial 1 with value: 1605.85.\n",
      "[I 2023-06-05 03:28:13,331] Trial 7 finished with value: 1599.37 and parameters: {'max_depth': 35, 'num_leaves': 85, 'learning_rate': 0.07100000000000001}. Best is trial 7 with value: 1599.37.\n",
      "[I 2023-06-05 03:28:14,561] Trial 8 finished with value: 1622.51 and parameters: {'max_depth': 45, 'num_leaves': 65, 'learning_rate': 0.07100000000000001}. Best is trial 7 with value: 1599.37.\n",
      "[I 2023-06-05 03:28:15,594] Trial 9 finished with value: 4328.65 and parameters: {'max_depth': 5, 'num_leaves': 25, 'learning_rate': 0.001}. Best is trial 7 with value: 1599.37.\n",
      "[I 2023-06-05 03:28:16,949] Trial 10 finished with value: 2006.53 and parameters: {'max_depth': 40, 'num_leaves': 105, 'learning_rate': 0.021}. Best is trial 7 with value: 1599.37.\n",
      "[I 2023-06-05 03:28:18,377] Trial 11 finished with value: 1561.28 and parameters: {'max_depth': 60, 'num_leaves': 95, 'learning_rate': 0.091}. Best is trial 11 with value: 1561.28.\n",
      "[I 2023-06-05 03:28:19,783] Trial 12 finished with value: 1553.53 and parameters: {'max_depth': 35, 'num_leaves': 105, 'learning_rate': 0.091}. Best is trial 12 with value: 1553.53.\n",
      "[I 2023-06-05 03:28:21,189] Trial 13 finished with value: 1552.38 and parameters: {'max_depth': 60, 'num_leaves': 105, 'learning_rate': 0.091}. Best is trial 13 with value: 1552.38.\n",
      "[I 2023-06-05 03:28:22,195] Trial 14 finished with value: 2193.1 and parameters: {'max_depth': 30, 'num_leaves': 5, 'learning_rate': 0.091}. Best is trial 13 with value: 1552.38.\n",
      "[I 2023-06-05 03:28:23,581] Trial 15 finished with value: 1552.38 and parameters: {'max_depth': 55, 'num_leaves': 105, 'learning_rate': 0.091}. Best is trial 13 with value: 1552.38.\n",
      "[I 2023-06-05 03:28:24,932] Trial 16 finished with value: 1603.64 and parameters: {'max_depth': 50, 'num_leaves': 105, 'learning_rate': 0.061}. Best is trial 13 with value: 1552.38.\n",
      "[I 2023-06-05 03:28:26,296] Trial 17 finished with value: 1806.82 and parameters: {'max_depth': 60, 'num_leaves': 85, 'learning_rate': 0.031}. Best is trial 13 with value: 1552.38.\n",
      "[I 2023-06-05 03:28:27,643] Trial 18 finished with value: 1572.68 and parameters: {'max_depth': 70, 'num_leaves': 95, 'learning_rate': 0.081}. Best is trial 13 with value: 1552.38.\n",
      "[I 2023-06-05 03:28:28,887] Trial 19 finished with value: 1632.38 and parameters: {'max_depth': 90, 'num_leaves': 75, 'learning_rate': 0.061}. Best is trial 13 with value: 1552.38.\n",
      "[I 2023-06-05 03:28:30,302] Trial 20 finished with value: 1694.07 and parameters: {'max_depth': 55, 'num_leaves': 95, 'learning_rate': 0.041}. Best is trial 13 with value: 1552.38.\n",
      "[I 2023-06-05 03:28:31,704] Trial 21 finished with value: 1555.88 and parameters: {'max_depth': 25, 'num_leaves': 105, 'learning_rate': 0.091}. Best is trial 13 with value: 1552.38.\n",
      "[I 2023-06-05 03:28:33,042] Trial 22 finished with value: 1552.38 and parameters: {'max_depth': 45, 'num_leaves': 105, 'learning_rate': 0.091}. Best is trial 13 with value: 1552.38.\n",
      "[I 2023-06-05 03:28:34,451] Trial 23 finished with value: 1572.68 and parameters: {'max_depth': 50, 'num_leaves': 95, 'learning_rate': 0.081}. Best is trial 13 with value: 1552.38.\n",
      "[I 2023-06-05 03:28:35,727] Trial 24 finished with value: 1582.65 and parameters: {'max_depth': 45, 'num_leaves': 75, 'learning_rate': 0.091}. Best is trial 13 with value: 1552.38.\n",
      "[I 2023-06-05 03:28:37,098] Trial 25 finished with value: 1603.64 and parameters: {'max_depth': 70, 'num_leaves': 105, 'learning_rate': 0.061}. Best is trial 13 with value: 1552.38.\n",
      "[I 2023-06-05 03:28:38,437] Trial 26 finished with value: 4274.45 and parameters: {'max_depth': 60, 'num_leaves': 85, 'learning_rate': 0.001}. Best is trial 13 with value: 1552.38.\n",
      "[I 2023-06-05 03:28:39,782] Trial 27 finished with value: 1572.68 and parameters: {'max_depth': 55, 'num_leaves': 95, 'learning_rate': 0.081}. Best is trial 13 with value: 1552.38.\n",
      "[I 2023-06-05 03:28:41,029] Trial 28 finished with value: 1593.22 and parameters: {'max_depth': 40, 'num_leaves': 65, 'learning_rate': 0.091}. Best is trial 13 with value: 1552.38.\n",
      "[I 2023-06-05 03:28:42,377] Trial 29 finished with value: 1606.41 and parameters: {'max_depth': 20, 'num_leaves': 85, 'learning_rate': 0.07100000000000001}. Best is trial 13 with value: 1552.38.\n",
      "[I 2023-06-05 03:28:43,334] Trial 30 finished with value: 2229.82 and parameters: {'max_depth': 70, 'num_leaves': 5, 'learning_rate': 0.081}. Best is trial 13 with value: 1552.38.\n",
      "[I 2023-06-05 03:28:44,712] Trial 31 finished with value: 1553.53 and parameters: {'max_depth': 35, 'num_leaves': 105, 'learning_rate': 0.091}. Best is trial 13 with value: 1552.38.\n",
      "[I 2023-06-05 03:28:46,071] Trial 32 finished with value: 1568.12 and parameters: {'max_depth': 45, 'num_leaves': 105, 'learning_rate': 0.081}. Best is trial 13 with value: 1552.38.\n",
      "[I 2023-06-05 03:28:47,464] Trial 33 finished with value: 1563.55 and parameters: {'max_depth': 30, 'num_leaves': 95, 'learning_rate': 0.091}. Best is trial 13 with value: 1552.38.\n",
      "[I 2023-06-05 03:28:48,813] Trial 34 finished with value: 1580.91 and parameters: {'max_depth': 50, 'num_leaves': 105, 'learning_rate': 0.07100000000000001}. Best is trial 13 with value: 1552.38.\n",
      "[I 2023-06-05 03:28:50,194] Trial 35 finished with value: 1583.97 and parameters: {'max_depth': 75, 'num_leaves': 85, 'learning_rate': 0.081}. Best is trial 13 with value: 1552.38.\n",
      "[I 2023-06-05 03:28:51,544] Trial 36 finished with value: 1585.57 and parameters: {'max_depth': 15, 'num_leaves': 95, 'learning_rate': 0.091}. Best is trial 13 with value: 1552.38.\n",
      "[I 2023-06-05 03:28:52,754] Trial 37 finished with value: 1621.48 and parameters: {'max_depth': 40, 'num_leaves': 55, 'learning_rate': 0.081}. Best is trial 13 with value: 1552.38.\n",
      "[I 2023-06-05 03:28:54,055] Trial 38 finished with value: 1610.63 and parameters: {'max_depth': 60, 'num_leaves': 75, 'learning_rate': 0.07100000000000001}. Best is trial 13 with value: 1552.38.\n",
      "[I 2023-06-05 03:28:55,517] Trial 39 finished with value: 2574.38 and parameters: {'max_depth': 80, 'num_leaves': 105, 'learning_rate': 0.011}. Best is trial 13 with value: 1552.38.\n",
      "[I 2023-06-05 03:28:56,710] Trial 40 finished with value: 1767.27 and parameters: {'max_depth': 65, 'num_leaves': 35, 'learning_rate': 0.051000000000000004}. Best is trial 13 with value: 1552.38.\n",
      "[I 2023-06-05 03:28:58,040] Trial 41 finished with value: 1553.53 and parameters: {'max_depth': 35, 'num_leaves': 105, 'learning_rate': 0.091}. Best is trial 13 with value: 1552.38.\n",
      "[I 2023-06-05 03:28:59,459] Trial 42 finished with value: 1553.53 and parameters: {'max_depth': 35, 'num_leaves': 105, 'learning_rate': 0.091}. Best is trial 13 with value: 1552.38.\n",
      "[I 2023-06-05 03:29:00,853] Trial 43 finished with value: 1575.15 and parameters: {'max_depth': 25, 'num_leaves': 95, 'learning_rate': 0.081}. Best is trial 13 with value: 1552.38.\n",
      "[I 2023-06-05 03:29:02,365] Trial 44 finished with value: 1552.38 and parameters: {'max_depth': 45, 'num_leaves': 105, 'learning_rate': 0.091}. Best is trial 13 with value: 1552.38.\n",
      "[I 2023-06-05 03:29:03,743] Trial 45 finished with value: 1559.44 and parameters: {'max_depth': 45, 'num_leaves': 95, 'learning_rate': 0.091}. Best is trial 13 with value: 1552.38.\n",
      "[I 2023-06-05 03:29:05,077] Trial 46 finished with value: 1600.6 and parameters: {'max_depth': 55, 'num_leaves': 85, 'learning_rate': 0.07100000000000001}. Best is trial 13 with value: 1552.38.\n",
      "[I 2023-06-05 03:29:06,630] Trial 47 finished with value: 1567.24 and parameters: {'max_depth': 65, 'num_leaves': 105, 'learning_rate': 0.081}. Best is trial 13 with value: 1552.38.\n",
      "[I 2023-06-05 03:29:07,824] Trial 48 finished with value: 1664.92 and parameters: {'max_depth': 40, 'num_leaves': 55, 'learning_rate': 0.061}. Best is trial 13 with value: 1552.38.\n",
      "[I 2023-06-05 03:29:08,934] Trial 49 finished with value: 2036.52 and parameters: {'max_depth': 50, 'num_leaves': 15, 'learning_rate': 0.041}. Best is trial 13 with value: 1552.38.\n",
      "[I 2023-06-05 03:29:09,981] Trial 50 finished with value: 1879.91 and parameters: {'max_depth': 5, 'num_leaves': 45, 'learning_rate': 0.091}. Best is trial 13 with value: 1552.38.\n",
      "[I 2023-06-05 03:29:11,448] Trial 51 finished with value: 1553.53 and parameters: {'max_depth': 35, 'num_leaves': 105, 'learning_rate': 0.091}. Best is trial 13 with value: 1552.38.\n",
      "[I 2023-06-05 03:29:12,774] Trial 52 finished with value: 1563.55 and parameters: {'max_depth': 30, 'num_leaves': 95, 'learning_rate': 0.091}. Best is trial 13 with value: 1552.38.\n",
      "[I 2023-06-05 03:29:14,174] Trial 53 finished with value: 1552.38 and parameters: {'max_depth': 45, 'num_leaves': 105, 'learning_rate': 0.091}. Best is trial 13 with value: 1552.38.\n",
      "[I 2023-06-05 03:29:15,621] Trial 54 finished with value: 1568.12 and parameters: {'max_depth': 45, 'num_leaves': 105, 'learning_rate': 0.081}. Best is trial 13 with value: 1552.38.\n",
      "[I 2023-06-05 03:29:16,997] Trial 55 finished with value: 1561.09 and parameters: {'max_depth': 55, 'num_leaves': 95, 'learning_rate': 0.091}. Best is trial 13 with value: 1552.38.\n",
      "[I 2023-06-05 03:29:18,371] Trial 56 finished with value: 1600.6 and parameters: {'max_depth': 50, 'num_leaves': 85, 'learning_rate': 0.07100000000000001}. Best is trial 13 with value: 1552.38.\n",
      "[I 2023-06-05 03:29:19,774] Trial 57 finished with value: 1567.89 and parameters: {'max_depth': 40, 'num_leaves': 105, 'learning_rate': 0.081}. Best is trial 13 with value: 1552.38.\n",
      "[I 2023-06-05 03:29:21,166] Trial 58 finished with value: 1561.28 and parameters: {'max_depth': 60, 'num_leaves': 95, 'learning_rate': 0.091}. Best is trial 13 with value: 1552.38.\n",
      "[I 2023-06-05 03:29:22,619] Trial 59 finished with value: 2006.53 and parameters: {'max_depth': 45, 'num_leaves': 105, 'learning_rate': 0.021}. Best is trial 13 with value: 1552.38.\n",
      "[I 2023-06-05 03:29:23,932] Trial 60 finished with value: 1575.15 and parameters: {'max_depth': 25, 'num_leaves': 95, 'learning_rate': 0.081}. Best is trial 13 with value: 1552.38.\n",
      "[I 2023-06-05 03:29:25,404] Trial 61 finished with value: 1553.53 and parameters: {'max_depth': 35, 'num_leaves': 105, 'learning_rate': 0.091}. Best is trial 13 with value: 1552.38.\n",
      "[I 2023-06-05 03:29:26,807] Trial 62 finished with value: 1554.13 and parameters: {'max_depth': 30, 'num_leaves': 105, 'learning_rate': 0.091}. Best is trial 13 with value: 1552.38.\n",
      "[I 2023-06-05 03:29:28,154] Trial 63 finished with value: 1560.83 and parameters: {'max_depth': 40, 'num_leaves': 95, 'learning_rate': 0.091}. Best is trial 13 with value: 1552.38.\n",
      "[I 2023-06-05 03:29:29,585] Trial 64 finished with value: 1567.24 and parameters: {'max_depth': 55, 'num_leaves': 105, 'learning_rate': 0.081}. Best is trial 13 with value: 1552.38.\n",
      "[I 2023-06-05 03:29:30,915] Trial 65 finished with value: 1561.28 and parameters: {'max_depth': 95, 'num_leaves': 95, 'learning_rate': 0.091}. Best is trial 13 with value: 1552.38.\n",
      "[I 2023-06-05 03:29:32,391] Trial 66 finished with value: 1567.24 and parameters: {'max_depth': 50, 'num_leaves': 105, 'learning_rate': 0.081}. Best is trial 13 with value: 1552.38.\n",
      "[I 2023-06-05 03:29:33,730] Trial 67 finished with value: 1570.99 and parameters: {'max_depth': 65, 'num_leaves': 85, 'learning_rate': 0.091}. Best is trial 13 with value: 1552.38.\n",
      "[I 2023-06-05 03:29:35,112] Trial 68 finished with value: 1568.12 and parameters: {'max_depth': 45, 'num_leaves': 105, 'learning_rate': 0.081}. Best is trial 13 with value: 1552.38.\n",
      "[I 2023-06-05 03:29:36,504] Trial 69 finished with value: 1561.28 and parameters: {'max_depth': 60, 'num_leaves': 95, 'learning_rate': 0.091}. Best is trial 13 with value: 1552.38.\n",
      "[I 2023-06-05 03:29:37,875] Trial 70 finished with value: 1554.13 and parameters: {'max_depth': 30, 'num_leaves': 105, 'learning_rate': 0.091}. Best is trial 13 with value: 1552.38.\n",
      "[I 2023-06-05 03:29:39,292] Trial 71 finished with value: 1553.53 and parameters: {'max_depth': 35, 'num_leaves': 105, 'learning_rate': 0.091}. Best is trial 13 with value: 1552.38.\n",
      "[I 2023-06-05 03:29:40,721] Trial 72 finished with value: 1553.53 and parameters: {'max_depth': 35, 'num_leaves': 105, 'learning_rate': 0.091}. Best is trial 13 with value: 1552.38.\n",
      "[I 2023-06-05 03:29:42,124] Trial 73 finished with value: 1567.89 and parameters: {'max_depth': 40, 'num_leaves': 105, 'learning_rate': 0.081}. Best is trial 13 with value: 1552.38.\n",
      "[I 2023-06-05 03:29:43,487] Trial 74 finished with value: 1566.17 and parameters: {'max_depth': 20, 'num_leaves': 95, 'learning_rate': 0.091}. Best is trial 13 with value: 1552.38.\n",
      "[I 2023-06-05 03:29:44,851] Trial 75 finished with value: 1573.53 and parameters: {'max_depth': 45, 'num_leaves': 95, 'learning_rate': 0.081}. Best is trial 13 with value: 1552.38.\n",
      "[I 2023-06-05 03:29:46,113] Trial 76 finished with value: 1593.22 and parameters: {'max_depth': 50, 'num_leaves': 65, 'learning_rate': 0.091}. Best is trial 13 with value: 1552.38.\n",
      "[I 2023-06-05 03:29:47,537] Trial 77 finished with value: 1567.89 and parameters: {'max_depth': 40, 'num_leaves': 105, 'learning_rate': 0.081}. Best is trial 13 with value: 1552.38.\n",
      "[I 2023-06-05 03:29:48,928] Trial 78 finished with value: 1552.38 and parameters: {'max_depth': 55, 'num_leaves': 105, 'learning_rate': 0.091}. Best is trial 13 with value: 1552.38.\n",
      "[I 2023-06-05 03:29:50,331] Trial 79 finished with value: 1589.85 and parameters: {'max_depth': 55, 'num_leaves': 95, 'learning_rate': 0.07100000000000001}. Best is trial 13 with value: 1552.38.\n",
      "[I 2023-06-05 03:29:51,685] Trial 80 finished with value: 1583.97 and parameters: {'max_depth': 70, 'num_leaves': 85, 'learning_rate': 0.081}. Best is trial 13 with value: 1552.38.\n",
      "[I 2023-06-05 03:29:53,078] Trial 81 finished with value: 1552.38 and parameters: {'max_depth': 50, 'num_leaves': 105, 'learning_rate': 0.091}. Best is trial 13 with value: 1552.38.\n",
      "[I 2023-06-05 03:29:54,499] Trial 82 finished with value: 1552.38 and parameters: {'max_depth': 50, 'num_leaves': 105, 'learning_rate': 0.091}. Best is trial 13 with value: 1552.38.\n",
      "[I 2023-06-05 03:29:55,902] Trial 83 finished with value: 1552.38 and parameters: {'max_depth': 55, 'num_leaves': 105, 'learning_rate': 0.091}. Best is trial 13 with value: 1552.38.\n",
      "[I 2023-06-05 03:29:57,312] Trial 84 finished with value: 1552.38 and parameters: {'max_depth': 60, 'num_leaves': 105, 'learning_rate': 0.091}. Best is trial 13 with value: 1552.38.\n",
      "[I 2023-06-05 03:29:58,758] Trial 85 finished with value: 1552.38 and parameters: {'max_depth': 55, 'num_leaves': 105, 'learning_rate': 0.091}. Best is trial 13 with value: 1552.38.\n",
      "[I 2023-06-05 03:30:00,129] Trial 86 finished with value: 1633.36 and parameters: {'max_depth': 65, 'num_leaves': 105, 'learning_rate': 0.051000000000000004}. Best is trial 13 with value: 1552.38.\n",
      "[I 2023-06-05 03:30:01,548] Trial 87 finished with value: 1561.04 and parameters: {'max_depth': 50, 'num_leaves': 95, 'learning_rate': 0.091}. Best is trial 13 with value: 1552.38.\n",
      "[I 2023-06-05 03:30:02,978] Trial 88 finished with value: 1567.24 and parameters: {'max_depth': 55, 'num_leaves': 105, 'learning_rate': 0.081}. Best is trial 13 with value: 1552.38.\n",
      "[I 2023-06-05 03:30:04,333] Trial 89 finished with value: 1561.04 and parameters: {'max_depth': 50, 'num_leaves': 95, 'learning_rate': 0.091}. Best is trial 13 with value: 1552.38.\n",
      "[I 2023-06-05 03:30:05,491] Trial 90 finished with value: 1955.12 and parameters: {'max_depth': 55, 'num_leaves': 35, 'learning_rate': 0.031}. Best is trial 13 with value: 1552.38.\n",
      "[I 2023-06-05 03:30:07,043] Trial 91 finished with value: 1552.38 and parameters: {'max_depth': 60, 'num_leaves': 105, 'learning_rate': 0.091}. Best is trial 13 with value: 1552.38.\n",
      "[I 2023-06-05 03:30:08,443] Trial 92 finished with value: 1552.38 and parameters: {'max_depth': 60, 'num_leaves': 105, 'learning_rate': 0.091}. Best is trial 13 with value: 1552.38.\n",
      "[I 2023-06-05 03:30:09,838] Trial 93 finished with value: 1552.38 and parameters: {'max_depth': 60, 'num_leaves': 105, 'learning_rate': 0.091}. Best is trial 13 with value: 1552.38.\n",
      "[I 2023-06-05 03:30:11,222] Trial 94 finished with value: 1552.38 and parameters: {'max_depth': 65, 'num_leaves': 105, 'learning_rate': 0.091}. Best is trial 13 with value: 1552.38.\n",
      "[I 2023-06-05 03:30:12,622] Trial 95 finished with value: 1573.53 and parameters: {'max_depth': 45, 'num_leaves': 95, 'learning_rate': 0.081}. Best is trial 13 with value: 1552.38.\n",
      "[I 2023-06-05 03:30:13,948] Trial 96 finished with value: 1552.38 and parameters: {'max_depth': 50, 'num_leaves': 105, 'learning_rate': 0.091}. Best is trial 13 with value: 1552.38.\n",
      "[I 2023-06-05 03:30:15,409] Trial 97 finished with value: 1559.44 and parameters: {'max_depth': 45, 'num_leaves': 95, 'learning_rate': 0.091}. Best is trial 13 with value: 1552.38.\n",
      "[I 2023-06-05 03:30:16,808] Trial 98 finished with value: 1552.38 and parameters: {'max_depth': 60, 'num_leaves': 105, 'learning_rate': 0.091}. Best is trial 13 with value: 1552.38.\n",
      "[I 2023-06-05 03:30:18,235] Trial 99 finished with value: 1567.24 and parameters: {'max_depth': 75, 'num_leaves': 105, 'learning_rate': 0.081}. Best is trial 13 with value: 1552.38.\n"
     ]
    }
   ],
   "source": [
    "study = optuna.create_study()\n",
    "study.optimize(objective, n_trials=100)"
   ]
  },
  {
   "cell_type": "code",
   "execution_count": 168,
   "metadata": {},
   "outputs": [
    {
     "data": {
      "text/plain": [
       "{'max_depth': 60, 'num_leaves': 105, 'learning_rate': 0.091}"
      ]
     },
     "execution_count": 168,
     "metadata": {},
     "output_type": "execute_result"
    }
   ],
   "source": [
    "study.best_params"
   ]
  },
  {
   "cell_type": "code",
   "execution_count": 169,
   "metadata": {},
   "outputs": [
    {
     "name": "stdout",
     "output_type": "stream",
     "text": [
      "CPU times: total: 8.44 s\n",
      "Wall time: 1.26 s\n"
     ]
    },
    {
     "data": {
      "text/html": [
       "<style>#sk-container-id-6 {color: black;background-color: white;}#sk-container-id-6 pre{padding: 0;}#sk-container-id-6 div.sk-toggleable {background-color: white;}#sk-container-id-6 label.sk-toggleable__label {cursor: pointer;display: block;width: 100%;margin-bottom: 0;padding: 0.3em;box-sizing: border-box;text-align: center;}#sk-container-id-6 label.sk-toggleable__label-arrow:before {content: \"▸\";float: left;margin-right: 0.25em;color: #696969;}#sk-container-id-6 label.sk-toggleable__label-arrow:hover:before {color: black;}#sk-container-id-6 div.sk-estimator:hover label.sk-toggleable__label-arrow:before {color: black;}#sk-container-id-6 div.sk-toggleable__content {max-height: 0;max-width: 0;overflow: hidden;text-align: left;background-color: #f0f8ff;}#sk-container-id-6 div.sk-toggleable__content pre {margin: 0.2em;color: black;border-radius: 0.25em;background-color: #f0f8ff;}#sk-container-id-6 input.sk-toggleable__control:checked~div.sk-toggleable__content {max-height: 200px;max-width: 100%;overflow: auto;}#sk-container-id-6 input.sk-toggleable__control:checked~label.sk-toggleable__label-arrow:before {content: \"▾\";}#sk-container-id-6 div.sk-estimator input.sk-toggleable__control:checked~label.sk-toggleable__label {background-color: #d4ebff;}#sk-container-id-6 div.sk-label input.sk-toggleable__control:checked~label.sk-toggleable__label {background-color: #d4ebff;}#sk-container-id-6 input.sk-hidden--visually {border: 0;clip: rect(1px 1px 1px 1px);clip: rect(1px, 1px, 1px, 1px);height: 1px;margin: -1px;overflow: hidden;padding: 0;position: absolute;width: 1px;}#sk-container-id-6 div.sk-estimator {font-family: monospace;background-color: #f0f8ff;border: 1px dotted black;border-radius: 0.25em;box-sizing: border-box;margin-bottom: 0.5em;}#sk-container-id-6 div.sk-estimator:hover {background-color: #d4ebff;}#sk-container-id-6 div.sk-parallel-item::after {content: \"\";width: 100%;border-bottom: 1px solid gray;flex-grow: 1;}#sk-container-id-6 div.sk-label:hover label.sk-toggleable__label {background-color: #d4ebff;}#sk-container-id-6 div.sk-serial::before {content: \"\";position: absolute;border-left: 1px solid gray;box-sizing: border-box;top: 0;bottom: 0;left: 50%;z-index: 0;}#sk-container-id-6 div.sk-serial {display: flex;flex-direction: column;align-items: center;background-color: white;padding-right: 0.2em;padding-left: 0.2em;position: relative;}#sk-container-id-6 div.sk-item {position: relative;z-index: 1;}#sk-container-id-6 div.sk-parallel {display: flex;align-items: stretch;justify-content: center;background-color: white;position: relative;}#sk-container-id-6 div.sk-item::before, #sk-container-id-6 div.sk-parallel-item::before {content: \"\";position: absolute;border-left: 1px solid gray;box-sizing: border-box;top: 0;bottom: 0;left: 50%;z-index: -1;}#sk-container-id-6 div.sk-parallel-item {display: flex;flex-direction: column;z-index: 1;position: relative;background-color: white;}#sk-container-id-6 div.sk-parallel-item:first-child::after {align-self: flex-end;width: 50%;}#sk-container-id-6 div.sk-parallel-item:last-child::after {align-self: flex-start;width: 50%;}#sk-container-id-6 div.sk-parallel-item:only-child::after {width: 0;}#sk-container-id-6 div.sk-dashed-wrapped {border: 1px dashed gray;margin: 0 0.4em 0.5em 0.4em;box-sizing: border-box;padding-bottom: 0.4em;background-color: white;}#sk-container-id-6 div.sk-label label {font-family: monospace;font-weight: bold;display: inline-block;line-height: 1.2em;}#sk-container-id-6 div.sk-label-container {text-align: center;}#sk-container-id-6 div.sk-container {/* jupyter's `normalize.less` sets `[hidden] { display: none; }` but bootstrap.min.css set `[hidden] { display: none !important; }` so we also need the `!important` here to be able to override the default hidden behavior on the sphinx rendered scikit-learn.org. See: https://github.com/scikit-learn/scikit-learn/issues/21755 */display: inline-block !important;position: relative;}#sk-container-id-6 div.sk-text-repr-fallback {display: none;}</style><div id=\"sk-container-id-6\" class=\"sk-top-container\"><div class=\"sk-text-repr-fallback\"><pre>LGBMRegressor(learning_rate=0.091, max_depth=60, num_leaves=105)</pre><b>In a Jupyter environment, please rerun this cell to show the HTML representation or trust the notebook. <br />On GitHub, the HTML representation is unable to render, please try loading this page with nbviewer.org.</b></div><div class=\"sk-container\" hidden><div class=\"sk-item\"><div class=\"sk-estimator sk-toggleable\"><input class=\"sk-toggleable__control sk-hidden--visually\" id=\"sk-estimator-id-6\" type=\"checkbox\" checked><label for=\"sk-estimator-id-6\" class=\"sk-toggleable__label sk-toggleable__label-arrow\">LGBMRegressor</label><div class=\"sk-toggleable__content\"><pre>LGBMRegressor(learning_rate=0.091, max_depth=60, num_leaves=105)</pre></div></div></div></div></div>"
      ],
      "text/plain": [
       "LGBMRegressor(learning_rate=0.091, max_depth=60, num_leaves=105)"
      ]
     },
     "execution_count": 169,
     "metadata": {},
     "output_type": "execute_result"
    }
   ],
   "source": [
    "%%time\n",
    "lgbm_model = LGBMRegressor(**study.best_params)\n",
    "lgbm_model.fit(features_train, target_train)\n"
   ]
  },
  {
   "cell_type": "code",
   "execution_count": 170,
   "metadata": {},
   "outputs": [
    {
     "name": "stdout",
     "output_type": "stream",
     "text": [
      "CPU times: total: 1.23 s\n",
      "Wall time: 198 ms\n"
     ]
    }
   ],
   "source": [
    "%%time\n",
    "predict_lgbm = lgbm_model.predict(features_valid)"
   ]
  },
  {
   "cell_type": "code",
   "execution_count": 171,
   "metadata": {},
   "outputs": [
    {
     "name": "stdout",
     "output_type": "stream",
     "text": [
      "RMSE LGBM регрессора: 1552.38\n"
     ]
    }
   ],
   "source": [
    "print('RMSE LGBM регрессора:', rmse(target_valid, predict_lgbm))"
   ]
  },
  {
   "cell_type": "code",
   "execution_count": 172,
   "metadata": {
    "scrolled": true
   },
   "outputs": [
    {
     "data": {
      "image/png": "[encoded data removed]",
      "text/plain": [
       "<Figure size 800x500 with 1 Axes>"
      ]
     },
     "metadata": {},
     "output_type": "display_data"
    }
   ],
   "source": [
    "illustration(target_valid, predict_lgbm)"
   ]
  },
  {
   "cell_type": "markdown",
   "metadata": {},
   "source": [
    "### CatBoost регрессор"
   ]
  },
  {
   "cell_type": "code",
   "execution_count": 173,
   "metadata": {},
   "outputs": [
    {
     "name": "stdout",
     "output_type": "stream",
     "text": [
      "Learning rate set to 0.5\n",
      "0:\tlearn: 3147.6062635\ttotal: 758ms\tremaining: 14.4s\n",
      "19:\tlearn: 1563.7212092\ttotal: 15.6s\tremaining: 0us\n",
      "CPU times: total: 49.9 s\n",
      "Wall time: 16 s\n"
     ]
    },
    {
     "data": {
      "text/plain": [
       "<catboost.core.CatBoostRegressor at 0x26b69c9bf10>"
      ]
     },
     "execution_count": 173,
     "metadata": {},
     "output_type": "execute_result"
    }
   ],
   "source": [
    "%%time\n",
    "model_cb = CatBoostRegressor(loss_function='RMSE', iterations=20, depth = 16, random_state=RANDOM_STATE)\n",
    "model_cb.fit(features_train, target_train, verbose=20)"
   ]
  },
  {
   "cell_type": "code",
   "execution_count": 174,
   "metadata": {},
   "outputs": [
    {
     "name": "stdout",
     "output_type": "stream",
     "text": [
      "CPU times: total: 203 ms\n",
      "Wall time: 49.9 ms\n"
     ]
    }
   ],
   "source": [
    "%%time\n",
    "predict_cr = model_cb.predict(features_valid)"
   ]
  },
  {
   "cell_type": "code",
   "execution_count": 175,
   "metadata": {
    "scrolled": true
   },
   "outputs": [
    {
     "name": "stdout",
     "output_type": "stream",
     "text": [
      "RMSE CatBoost регрессора: 1642.84\n"
     ]
    }
   ],
   "source": [
    "print('RMSE CatBoost регрессора:', rmse(target_valid, predict_cr))"
   ]
  },
  {
   "cell_type": "code",
   "execution_count": 176,
   "metadata": {},
   "outputs": [
    {
     "data": {
      "image/png": "[encoded data removed]",
      "text/plain": [
       "<Figure size 800x500 with 1 Axes>"
      ]
     },
     "metadata": {},
     "output_type": "display_data"
    }
   ],
   "source": [
    "illustration(target_valid, predict_cr)"
   ]
  },
  {
   "cell_type": "markdown",
   "metadata": {},
   "source": [
    "## Анализ моделей"
   ]
  },
  {
   "cell_type": "code",
   "execution_count": 56,
   "metadata": {},
   "outputs": [
    {
     "data": {
      "text/html": [
       "<div>\n",
       "<style scoped>\n",
       "    .dataframe tbody tr th:only-of-type {\n",
       "        vertical-align: middle;\n",
       "    }\n",
       "\n",
       "    .dataframe tbody tr th {\n",
       "        vertical-align: top;\n",
       "    }\n",
       "\n",
       "    .dataframe thead th {\n",
       "        text-align: right;\n",
       "    }\n",
       "</style>\n",
       "<table border=\"1\" class=\"dataframe\">\n",
       "  <thead>\n",
       "    <tr style=\"text-align: right;\">\n",
       "      <th></th>\n",
       "      <th>Названия моделей</th>\n",
       "      <th>RMSE</th>\n",
       "      <th>Время обучения</th>\n",
       "      <th>Время предсказания</th>\n",
       "    </tr>\n",
       "  </thead>\n",
       "  <tbody>\n",
       "    <tr>\n",
       "      <th>0</th>\n",
       "      <td>Случайный лес</td>\n",
       "      <td>1574.95</td>\n",
       "      <td>16min 23s</td>\n",
       "      <td>7.92 s</td>\n",
       "    </tr>\n",
       "    <tr>\n",
       "      <th>1</th>\n",
       "      <td>Линейная регрессия</td>\n",
       "      <td>2101.17</td>\n",
       "      <td>10.4 s</td>\n",
       "      <td>183 ms</td>\n",
       "    </tr>\n",
       "    <tr>\n",
       "      <th>2</th>\n",
       "      <td>LGBM</td>\n",
       "      <td>1552.38</td>\n",
       "      <td>2m 19s</td>\n",
       "      <td>187 ms</td>\n",
       "    </tr>\n",
       "    <tr>\n",
       "      <th>3</th>\n",
       "      <td>CatBoost</td>\n",
       "      <td>1642.84</td>\n",
       "      <td>16.3 s</td>\n",
       "      <td>58.8 ms</td>\n",
       "    </tr>\n",
       "  </tbody>\n",
       "</table>\n",
       "</div>"
      ],
      "text/plain": [
       "     Названия моделей     RMSE Время обучения Время предсказания\n",
       "0       Случайный лес  1574.95      16min 23s             7.92 s\n",
       "1  Линейная регрессия  2101.17         10.4 s             183 ms\n",
       "2                LGBM  1552.38         2m 19s             187 ms\n",
       "3            CatBoost  1642.84         16.3 s            58.8 ms"
      ]
     },
     "execution_count": 56,
     "metadata": {},
     "output_type": "execute_result"
    }
   ],
   "source": [
    "pd.DataFrame({'Названия моделей': ['Случайный лес', 'Линейная регрессия', 'LGBM', 'CatBoost'], 'RMSE': [1574.95, 2101.17, 1552.38, 1642.84], \n",
    "              'Время обучения': ['16min 23s', '10.4 s', '2m 19s', '16.3 s'], 'Время предсказания': ['7.92 s', '183 ms', '187 ms', '58.8 ms']})"
   ]
  },
  {
   "cell_type": "markdown",
   "metadata": {},
   "source": [
    "Исходя из проведенного анализа, можно сделать вывод, что LGBMRegressor имеет самое маленькое RMSE(более точные предсказания), модель CatBoost - наименьшее время предсказания, а линейная регрессия наименьшее время обучения. Поэтому предлагаю использовать модель LGBMRegressor."
   ]
  },
  {
   "cell_type": "code",
   "execution_count": 178,
   "metadata": {},
   "outputs": [
    {
     "name": "stdout",
     "output_type": "stream",
     "text": [
      "CPU times: total: 1.2 s\n",
      "Wall time: 201 ms\n"
     ]
    }
   ],
   "source": [
    "%%time\n",
    "predict_lgbm = lgbm_model.predict(features_test)"
   ]
  },
  {
   "cell_type": "code",
   "execution_count": 179,
   "metadata": {},
   "outputs": [
    {
     "name": "stdout",
     "output_type": "stream",
     "text": [
      "RMSE LGBM регрессора на тестовой выборке: 1542.4\n"
     ]
    }
   ],
   "source": [
    "print('RMSE LGBM регрессора на тестовой выборке:', rmse(target_test, predict_lgbm))"
   ]
  }
 ],
 "metadata": {
  "ExecuteTimeLog": [
   {
    "duration": 363,
    "start_time": "2023-05-29T19:31:25.886Z"
   },
   {
    "duration": 1306,
    "start_time": "2023-05-29T19:31:48.605Z"
   },
   {
    "duration": 980,
    "start_time": "2023-05-29T19:31:54.797Z"
   },
   {
    "duration": 979,
    "start_time": "2023-05-29T19:35:41.927Z"
   },
   {
    "duration": 690,
    "start_time": "2023-05-29T19:35:47.551Z"
   },
   {
    "duration": 80,
    "start_time": "2023-05-29T19:35:57.342Z"
   },
   {
    "duration": 564,
    "start_time": "2023-05-29T19:36:06.234Z"
   },
   {
    "duration": 241,
    "start_time": "2023-05-29T19:38:12.115Z"
   },
   {
    "duration": 850,
    "start_time": "2023-05-29T19:38:34.888Z"
   },
   {
    "duration": 107,
    "start_time": "2023-05-29T19:40:07.135Z"
   },
   {
    "duration": 118,
    "start_time": "2023-05-29T19:42:28.919Z"
   },
   {
    "duration": 42,
    "start_time": "2023-05-29T19:45:16.187Z"
   },
   {
    "duration": 1395,
    "start_time": "2023-05-29T21:14:06.381Z"
   },
   {
    "duration": 77,
    "start_time": "2023-05-29T21:14:13.987Z"
   },
   {
    "duration": 58,
    "start_time": "2023-05-29T21:14:16.217Z"
   },
   {
    "duration": 10,
    "start_time": "2023-05-29T22:00:02.917Z"
   },
   {
    "duration": 9,
    "start_time": "2023-05-29T22:00:07.313Z"
   },
   {
    "duration": 11,
    "start_time": "2023-05-29T22:00:51.873Z"
   },
   {
    "duration": 413,
    "start_time": "2023-05-29T22:00:59.616Z"
   },
   {
    "duration": 41,
    "start_time": "2023-05-29T22:01:46.858Z"
   },
   {
    "duration": 44,
    "start_time": "2023-05-29T22:02:18.186Z"
   },
   {
    "duration": 53,
    "start_time": "2023-05-29T22:46:22.784Z"
   },
   {
    "duration": 521,
    "start_time": "2023-05-30T11:49:27.289Z"
   },
   {
    "duration": 1240,
    "start_time": "2023-05-30T11:49:27.813Z"
   },
   {
    "duration": 131,
    "start_time": "2023-05-30T11:49:29.055Z"
   },
   {
    "duration": 1302,
    "start_time": "2023-05-30T11:49:29.188Z"
   },
   {
    "duration": 98,
    "start_time": "2023-05-30T11:49:32.672Z"
   },
   {
    "duration": 938,
    "start_time": "2023-05-30T11:49:45.272Z"
   },
   {
    "duration": 106,
    "start_time": "2023-05-30T11:53:03.875Z"
   },
   {
    "duration": 82,
    "start_time": "2023-05-30T11:53:21.107Z"
   },
   {
    "duration": 6,
    "start_time": "2023-05-30T11:53:33.665Z"
   },
   {
    "duration": 136,
    "start_time": "2023-05-30T11:53:41.973Z"
   },
   {
    "duration": 154,
    "start_time": "2023-05-30T11:54:51.820Z"
   },
   {
    "duration": 73,
    "start_time": "2023-05-30T11:56:40.068Z"
   },
   {
    "duration": 9,
    "start_time": "2023-05-30T11:57:07.796Z"
   },
   {
    "duration": 8,
    "start_time": "2023-05-30T11:57:43.948Z"
   },
   {
    "duration": 2,
    "start_time": "2023-05-30T11:57:50.541Z"
   },
   {
    "duration": 8,
    "start_time": "2023-05-30T11:58:06.059Z"
   },
   {
    "duration": 144,
    "start_time": "2023-05-30T11:58:11.845Z"
   },
   {
    "duration": 133,
    "start_time": "2023-05-30T12:00:31.502Z"
   },
   {
    "duration": 136,
    "start_time": "2023-05-30T12:00:37.470Z"
   },
   {
    "duration": 164,
    "start_time": "2023-05-30T12:01:37.759Z"
   },
   {
    "duration": 171,
    "start_time": "2023-05-30T12:01:47.000Z"
   },
   {
    "duration": 153,
    "start_time": "2023-05-30T12:02:16.023Z"
   },
   {
    "duration": 183,
    "start_time": "2023-05-30T12:03:13.696Z"
   },
   {
    "duration": 751,
    "start_time": "2023-05-30T12:04:12.792Z"
   },
   {
    "duration": 843,
    "start_time": "2023-05-30T12:04:13.545Z"
   },
   {
    "duration": 137,
    "start_time": "2023-05-30T12:04:14.389Z"
   },
   {
    "duration": 306,
    "start_time": "2023-05-30T12:04:14.528Z"
   },
   {
    "duration": 1442,
    "start_time": "2023-05-30T12:04:14.836Z"
   },
   {
    "duration": 107,
    "start_time": "2023-05-30T12:04:16.280Z"
   },
   {
    "duration": 352,
    "start_time": "2023-05-30T12:04:16.389Z"
   },
   {
    "duration": 88,
    "start_time": "2023-05-30T12:04:16.742Z"
   },
   {
    "duration": 154,
    "start_time": "2023-05-30T12:04:16.832Z"
   },
   {
    "duration": 656,
    "start_time": "2023-05-30T12:07:11.018Z"
   },
   {
    "duration": 1106,
    "start_time": "2023-05-30T12:07:11.676Z"
   },
   {
    "duration": 131,
    "start_time": "2023-05-30T12:07:12.783Z"
   },
   {
    "duration": 787,
    "start_time": "2023-05-30T12:07:12.915Z"
   },
   {
    "duration": 270,
    "start_time": "2023-05-30T12:07:14.595Z"
   },
   {
    "duration": 97,
    "start_time": "2023-05-30T12:07:15.011Z"
   },
   {
    "duration": 276,
    "start_time": "2023-05-30T12:07:15.847Z"
   },
   {
    "duration": 87,
    "start_time": "2023-05-30T12:07:19.210Z"
   },
   {
    "duration": 87,
    "start_time": "2023-05-30T12:07:31.773Z"
   },
   {
    "duration": 570,
    "start_time": "2023-05-30T12:07:54.168Z"
   },
   {
    "duration": 39,
    "start_time": "2023-05-30T12:07:57.658Z"
   },
   {
    "duration": 10,
    "start_time": "2023-05-30T12:09:28.257Z"
   },
   {
    "duration": 8,
    "start_time": "2023-05-30T12:09:34.516Z"
   },
   {
    "duration": 1156,
    "start_time": "2023-05-30T12:10:41.917Z"
   },
   {
    "duration": 835,
    "start_time": "2023-05-30T12:10:43.077Z"
   },
   {
    "duration": 146,
    "start_time": "2023-05-30T12:10:43.914Z"
   },
   {
    "duration": 749,
    "start_time": "2023-05-30T12:10:44.063Z"
   },
   {
    "duration": 298,
    "start_time": "2023-05-30T12:10:44.814Z"
   },
   {
    "duration": 104,
    "start_time": "2023-05-30T12:10:45.113Z"
   },
   {
    "duration": 289,
    "start_time": "2023-05-30T12:10:45.218Z"
   },
   {
    "duration": 91,
    "start_time": "2023-05-30T12:10:45.508Z"
   },
   {
    "duration": 170,
    "start_time": "2023-05-30T12:10:45.600Z"
   },
   {
    "duration": 162,
    "start_time": "2023-05-30T12:10:45.772Z"
   },
   {
    "duration": 186,
    "start_time": "2023-05-30T12:12:15.470Z"
   },
   {
    "duration": 206,
    "start_time": "2023-05-30T12:12:20.350Z"
   },
   {
    "duration": 303,
    "start_time": "2023-05-30T12:16:47.705Z"
   },
   {
    "duration": 242,
    "start_time": "2023-05-30T12:16:57.608Z"
   },
   {
    "duration": 199,
    "start_time": "2023-05-30T12:17:02.053Z"
   },
   {
    "duration": 221,
    "start_time": "2023-05-30T12:17:22.009Z"
   },
   {
    "duration": 207,
    "start_time": "2023-05-30T12:17:27.289Z"
   },
   {
    "duration": 225,
    "start_time": "2023-05-30T12:17:34.769Z"
   },
   {
    "duration": 382,
    "start_time": "2023-05-30T12:18:01.555Z"
   },
   {
    "duration": 242,
    "start_time": "2023-05-30T12:18:04.853Z"
   },
   {
    "duration": 298,
    "start_time": "2023-05-30T12:18:36.218Z"
   },
   {
    "duration": 40,
    "start_time": "2023-05-30T12:21:30.856Z"
   },
   {
    "duration": 81,
    "start_time": "2023-05-30T12:21:51.916Z"
   },
   {
    "duration": 20,
    "start_time": "2023-05-30T12:24:15.981Z"
   },
   {
    "duration": 141,
    "start_time": "2023-05-30T12:26:18.400Z"
   },
   {
    "duration": 200,
    "start_time": "2023-05-30T12:26:37.207Z"
   },
   {
    "duration": 244,
    "start_time": "2023-05-30T12:26:45.174Z"
   },
   {
    "duration": 102,
    "start_time": "2023-05-30T12:26:57.159Z"
   },
   {
    "duration": 131,
    "start_time": "2023-05-30T12:27:07.679Z"
   },
   {
    "duration": 181,
    "start_time": "2023-05-30T12:28:06.354Z"
   },
   {
    "duration": 9,
    "start_time": "2023-05-30T12:28:53.496Z"
   },
   {
    "duration": 12,
    "start_time": "2023-05-30T12:28:58.088Z"
   },
   {
    "duration": 11,
    "start_time": "2023-05-30T12:29:20.512Z"
   },
   {
    "duration": 224,
    "start_time": "2023-05-30T12:29:34.370Z"
   },
   {
    "duration": 121,
    "start_time": "2023-05-30T12:29:46.496Z"
   },
   {
    "duration": 1687,
    "start_time": "2023-05-30T12:30:21.070Z"
   },
   {
    "duration": 145,
    "start_time": "2023-05-30T12:30:38.889Z"
   },
   {
    "duration": 212,
    "start_time": "2023-05-30T12:30:55.986Z"
   },
   {
    "duration": 187,
    "start_time": "2023-05-30T12:31:01.170Z"
   },
   {
    "duration": 196,
    "start_time": "2023-05-30T12:31:30.170Z"
   },
   {
    "duration": 209,
    "start_time": "2023-05-30T13:45:33.515Z"
   },
   {
    "duration": 362,
    "start_time": "2023-05-30T13:47:00.688Z"
   },
   {
    "duration": 501,
    "start_time": "2023-05-30T13:47:06.555Z"
   },
   {
    "duration": 10,
    "start_time": "2023-05-30T13:48:29.977Z"
   },
   {
    "duration": 8,
    "start_time": "2023-05-30T13:48:34.161Z"
   },
   {
    "duration": 7,
    "start_time": "2023-05-30T13:48:59.972Z"
   },
   {
    "duration": 28,
    "start_time": "2023-05-30T13:49:44.781Z"
   },
   {
    "duration": 29,
    "start_time": "2023-05-30T13:50:04.327Z"
   },
   {
    "duration": 39,
    "start_time": "2023-05-30T13:51:26.098Z"
   },
   {
    "duration": 7,
    "start_time": "2023-05-30T13:52:21.491Z"
   },
   {
    "duration": 214,
    "start_time": "2023-05-30T13:52:34.491Z"
   },
   {
    "duration": 10,
    "start_time": "2023-05-30T13:52:50.656Z"
   },
   {
    "duration": 8,
    "start_time": "2023-05-30T13:53:05.860Z"
   },
   {
    "duration": 98,
    "start_time": "2023-05-30T13:53:19.828Z"
   },
   {
    "duration": 7,
    "start_time": "2023-05-30T13:53:33.169Z"
   },
   {
    "duration": 7,
    "start_time": "2023-05-30T13:53:41.681Z"
   },
   {
    "duration": 9,
    "start_time": "2023-05-30T13:53:56.470Z"
   },
   {
    "duration": 6,
    "start_time": "2023-05-30T13:54:01.280Z"
   },
   {
    "duration": 7,
    "start_time": "2023-05-30T13:54:09.420Z"
   },
   {
    "duration": 10,
    "start_time": "2023-05-30T13:54:16.169Z"
   },
   {
    "duration": 6,
    "start_time": "2023-05-30T13:54:21.457Z"
   },
   {
    "duration": 36,
    "start_time": "2023-05-30T13:54:46.678Z"
   },
   {
    "duration": 202,
    "start_time": "2023-05-30T13:55:07.380Z"
   },
   {
    "duration": 17628,
    "start_time": "2023-05-30T13:57:54.632Z"
   },
   {
    "duration": 75,
    "start_time": "2023-05-30T13:59:07.677Z"
   },
   {
    "duration": 9,
    "start_time": "2023-05-30T14:01:21.705Z"
   },
   {
    "duration": 329,
    "start_time": "2023-05-30T14:01:42.065Z"
   },
   {
    "duration": 175,
    "start_time": "2023-05-30T14:02:10.530Z"
   },
   {
    "duration": 283,
    "start_time": "2023-05-30T14:02:19.210Z"
   },
   {
    "duration": 277,
    "start_time": "2023-05-30T14:03:06.780Z"
   },
   {
    "duration": 204,
    "start_time": "2023-05-30T14:03:49.980Z"
   },
   {
    "duration": 211,
    "start_time": "2023-05-30T14:03:57.684Z"
   },
   {
    "duration": 224,
    "start_time": "2023-05-30T14:04:10.429Z"
   },
   {
    "duration": 216,
    "start_time": "2023-05-30T14:04:15.891Z"
   },
   {
    "duration": 25,
    "start_time": "2023-05-30T14:06:27.553Z"
   },
   {
    "duration": 7,
    "start_time": "2023-05-30T14:08:22.075Z"
   },
   {
    "duration": 2511,
    "start_time": "2023-05-30T14:09:29.428Z"
   },
   {
    "duration": 17,
    "start_time": "2023-05-30T14:09:41.257Z"
   },
   {
    "duration": 39,
    "start_time": "2023-05-30T14:10:33.861Z"
   },
   {
    "duration": 262,
    "start_time": "2023-05-30T14:20:46.583Z"
   },
   {
    "duration": 43,
    "start_time": "2023-05-30T14:21:01.374Z"
   },
   {
    "duration": 198,
    "start_time": "2023-05-30T14:31:56.453Z"
   },
   {
    "duration": 19,
    "start_time": "2023-05-30T14:32:26.053Z"
   },
   {
    "duration": 41,
    "start_time": "2023-05-30T14:36:00.803Z"
   },
   {
    "duration": 355,
    "start_time": "2023-05-30T14:37:02.199Z"
   },
   {
    "duration": 6,
    "start_time": "2023-05-30T14:38:04.644Z"
   },
   {
    "duration": 10,
    "start_time": "2023-05-30T14:40:11.513Z"
   },
   {
    "duration": 6,
    "start_time": "2023-05-30T15:39:26.777Z"
   },
   {
    "duration": 44,
    "start_time": "2023-05-30T15:40:11.723Z"
   },
   {
    "duration": 24,
    "start_time": "2023-05-30T18:57:43.905Z"
   },
   {
    "duration": 17,
    "start_time": "2023-05-30T18:58:47.327Z"
   },
   {
    "duration": 24,
    "start_time": "2023-05-30T18:59:14.767Z"
   },
   {
    "duration": 16,
    "start_time": "2023-05-30T19:01:44.545Z"
   },
   {
    "duration": 29,
    "start_time": "2023-05-30T19:01:56.688Z"
   },
   {
    "duration": 24,
    "start_time": "2023-05-30T19:02:29.961Z"
   },
   {
    "duration": 10,
    "start_time": "2023-05-30T19:05:04.051Z"
   },
   {
    "duration": 6,
    "start_time": "2023-05-30T19:05:07.412Z"
   },
   {
    "duration": 12,
    "start_time": "2023-05-30T19:05:32.796Z"
   },
   {
    "duration": 34,
    "start_time": "2023-05-30T19:05:43.019Z"
   },
   {
    "duration": 10,
    "start_time": "2023-05-30T19:06:46.028Z"
   },
   {
    "duration": 14,
    "start_time": "2023-05-30T19:08:51.429Z"
   },
   {
    "duration": 21,
    "start_time": "2023-05-30T19:14:18.129Z"
   },
   {
    "duration": 93,
    "start_time": "2023-05-30T19:14:24.849Z"
   },
   {
    "duration": 1356,
    "start_time": "2023-05-30T19:16:45.214Z"
   },
   {
    "duration": 1195,
    "start_time": "2023-05-30T19:16:46.573Z"
   },
   {
    "duration": 182,
    "start_time": "2023-05-30T19:16:52.407Z"
   },
   {
    "duration": 5,
    "start_time": "2023-05-30T19:17:34.178Z"
   },
   {
    "duration": 10,
    "start_time": "2023-05-30T19:17:42.675Z"
   },
   {
    "duration": 5,
    "start_time": "2023-05-30T19:17:45.416Z"
   },
   {
    "duration": 4,
    "start_time": "2023-05-30T19:17:49.034Z"
   },
   {
    "duration": 169,
    "start_time": "2023-05-30T19:18:06.738Z"
   },
   {
    "duration": 231,
    "start_time": "2023-05-30T19:18:07.619Z"
   },
   {
    "duration": 295,
    "start_time": "2023-05-30T19:18:07.855Z"
   },
   {
    "duration": 70,
    "start_time": "2023-05-30T19:18:08.153Z"
   },
   {
    "duration": 181,
    "start_time": "2023-05-30T19:18:08.251Z"
   },
   {
    "duration": 38,
    "start_time": "2023-05-30T19:18:08.659Z"
   },
   {
    "duration": 231,
    "start_time": "2023-05-30T19:18:09.305Z"
   },
   {
    "duration": 7,
    "start_time": "2023-05-30T19:18:09.537Z"
   },
   {
    "duration": 73,
    "start_time": "2023-05-30T19:18:09.717Z"
   },
   {
    "duration": 56,
    "start_time": "2023-05-30T19:18:10.138Z"
   },
   {
    "duration": 96,
    "start_time": "2023-05-30T19:18:10.370Z"
   },
   {
    "duration": 243,
    "start_time": "2023-05-30T19:18:10.806Z"
   },
   {
    "duration": 67,
    "start_time": "2023-05-30T19:18:11.051Z"
   },
   {
    "duration": 39,
    "start_time": "2023-05-30T19:18:11.515Z"
   },
   {
    "duration": 63,
    "start_time": "2023-05-30T19:18:11.808Z"
   },
   {
    "duration": 424,
    "start_time": "2023-05-30T19:18:12.330Z"
   },
   {
    "duration": 10,
    "start_time": "2023-05-30T19:18:12.870Z"
   },
   {
    "duration": 5,
    "start_time": "2023-05-30T19:18:13.419Z"
   },
   {
    "duration": 47,
    "start_time": "2023-05-30T19:18:14.000Z"
   },
   {
    "duration": 25,
    "start_time": "2023-05-30T19:18:14.258Z"
   },
   {
    "duration": 16,
    "start_time": "2023-05-30T19:18:14.827Z"
   },
   {
    "duration": 22,
    "start_time": "2023-05-30T19:18:15.110Z"
   },
   {
    "duration": 33,
    "start_time": "2023-05-30T19:18:15.996Z"
   },
   {
    "duration": 17,
    "start_time": "2023-05-30T19:18:16.250Z"
   },
   {
    "duration": 52,
    "start_time": "2023-05-30T19:18:16.571Z"
   },
   {
    "duration": 6,
    "start_time": "2023-05-30T19:18:17.155Z"
   },
   {
    "duration": 36,
    "start_time": "2023-05-30T19:18:17.747Z"
   },
   {
    "duration": 23,
    "start_time": "2023-05-30T19:18:18.717Z"
   },
   {
    "duration": 101,
    "start_time": "2023-05-30T19:18:19.670Z"
   },
   {
    "duration": 99,
    "start_time": "2023-05-30T19:18:27.442Z"
   },
   {
    "duration": 87,
    "start_time": "2023-05-30T19:18:45.124Z"
   },
   {
    "duration": 3,
    "start_time": "2023-05-30T19:21:22.062Z"
   },
   {
    "duration": 7,
    "start_time": "2023-05-30T19:21:42.008Z"
   },
   {
    "duration": 12,
    "start_time": "2023-05-30T19:24:13.318Z"
   },
   {
    "duration": 41,
    "start_time": "2023-05-30T19:26:23.953Z"
   },
   {
    "duration": 19,
    "start_time": "2023-05-30T19:26:26.998Z"
   },
   {
    "duration": 102,
    "start_time": "2023-05-30T19:26:31.216Z"
   },
   {
    "duration": 64,
    "start_time": "2023-05-30T19:31:19.876Z"
   },
   {
    "duration": 1405,
    "start_time": "2023-05-31T17:52:40.739Z"
   },
   {
    "duration": 2941,
    "start_time": "2023-05-31T17:52:58.522Z"
   },
   {
    "duration": 117,
    "start_time": "2023-05-31T17:53:04.416Z"
   },
   {
    "duration": 4,
    "start_time": "2023-05-31T17:53:05.472Z"
   },
   {
    "duration": 838,
    "start_time": "2023-05-31T17:53:05.849Z"
   },
   {
    "duration": 120,
    "start_time": "2023-05-31T17:53:06.690Z"
   },
   {
    "duration": 879,
    "start_time": "2023-05-31T17:53:06.812Z"
   },
   {
    "duration": 105,
    "start_time": "2023-05-31T17:53:07.693Z"
   },
   {
    "duration": 171,
    "start_time": "2023-05-31T17:53:07.799Z"
   },
   {
    "duration": 248,
    "start_time": "2023-05-31T17:53:07.972Z"
   },
   {
    "duration": 55,
    "start_time": "2023-05-31T17:53:08.222Z"
   },
   {
    "duration": 113,
    "start_time": "2023-05-31T17:53:08.279Z"
   },
   {
    "duration": 19,
    "start_time": "2023-05-31T17:53:08.394Z"
   },
   {
    "duration": 211,
    "start_time": "2023-05-31T17:53:08.415Z"
   },
   {
    "duration": 6,
    "start_time": "2023-05-31T17:53:08.628Z"
   },
   {
    "duration": 72,
    "start_time": "2023-05-31T17:53:08.636Z"
   },
   {
    "duration": 41,
    "start_time": "2023-05-31T17:53:08.730Z"
   },
   {
    "duration": 58,
    "start_time": "2023-05-31T17:53:08.961Z"
   },
   {
    "duration": 316,
    "start_time": "2023-05-31T17:53:09.361Z"
   },
   {
    "duration": 42,
    "start_time": "2023-05-31T17:53:09.679Z"
   },
   {
    "duration": 40,
    "start_time": "2023-05-31T17:53:09.969Z"
   },
   {
    "duration": 49,
    "start_time": "2023-05-31T17:53:10.169Z"
   },
   {
    "duration": 327,
    "start_time": "2023-05-31T17:53:10.593Z"
   },
   {
    "duration": 7,
    "start_time": "2023-05-31T17:53:10.977Z"
   },
   {
    "duration": 6,
    "start_time": "2023-05-31T17:53:11.384Z"
   },
   {
    "duration": 38,
    "start_time": "2023-05-31T17:53:11.801Z"
   },
   {
    "duration": 17,
    "start_time": "2023-05-31T17:53:12.008Z"
   },
   {
    "duration": 14,
    "start_time": "2023-05-31T17:53:12.432Z"
   },
   {
    "duration": 18,
    "start_time": "2023-05-31T17:53:12.673Z"
   },
   {
    "duration": 15,
    "start_time": "2023-05-31T17:53:13.441Z"
   },
   {
    "duration": 13,
    "start_time": "2023-05-31T17:53:13.682Z"
   },
   {
    "duration": 17,
    "start_time": "2023-05-31T17:53:13.913Z"
   },
   {
    "duration": 8,
    "start_time": "2023-05-31T17:53:14.376Z"
   },
   {
    "duration": 32,
    "start_time": "2023-05-31T17:53:14.760Z"
   },
   {
    "duration": 26,
    "start_time": "2023-05-31T17:53:15.376Z"
   },
   {
    "duration": 15,
    "start_time": "2023-05-31T17:53:16.074Z"
   },
   {
    "duration": 11,
    "start_time": "2023-05-31T17:53:16.417Z"
   },
   {
    "duration": 57,
    "start_time": "2023-05-31T17:53:16.713Z"
   },
   {
    "duration": 56,
    "start_time": "2023-05-31T17:53:16.937Z"
   },
   {
    "duration": 3,
    "start_time": "2023-05-31T17:53:17.177Z"
   },
   {
    "duration": 125,
    "start_time": "2023-05-31T18:47:58.179Z"
   },
   {
    "duration": 15,
    "start_time": "2023-05-31T18:48:17.808Z"
   },
   {
    "duration": 853,
    "start_time": "2023-05-31T18:51:16.945Z"
   },
   {
    "duration": 702,
    "start_time": "2023-05-31T18:51:27.521Z"
   },
   {
    "duration": 325,
    "start_time": "2023-05-31T18:52:29.053Z"
   },
   {
    "duration": 14,
    "start_time": "2023-05-31T18:55:08.463Z"
   },
   {
    "duration": 162,
    "start_time": "2023-05-31T18:56:13.672Z"
   },
   {
    "duration": 100,
    "start_time": "2023-05-31T18:56:25.289Z"
   },
   {
    "duration": 16,
    "start_time": "2023-05-31T18:57:10.504Z"
   },
   {
    "duration": 75,
    "start_time": "2023-05-31T18:59:52.699Z"
   },
   {
    "duration": 393,
    "start_time": "2023-05-31T19:01:58.105Z"
   },
   {
    "duration": 73,
    "start_time": "2023-05-31T20:17:49.258Z"
   },
   {
    "duration": 2,
    "start_time": "2023-05-31T20:18:30.251Z"
   },
   {
    "duration": 76,
    "start_time": "2023-05-31T20:21:22.006Z"
   },
   {
    "duration": 79,
    "start_time": "2023-05-31T20:22:25.341Z"
   },
   {
    "duration": 126,
    "start_time": "2023-05-31T20:28:25.073Z"
   },
   {
    "duration": 53,
    "start_time": "2023-05-31T20:29:02.318Z"
   },
   {
    "duration": 114,
    "start_time": "2023-05-31T20:29:05.929Z"
   },
   {
    "duration": 713220,
    "start_time": "2023-05-31T20:29:32.865Z"
   },
   {
    "duration": 4,
    "start_time": "2023-05-31T20:41:26.087Z"
   },
   {
    "duration": 4652,
    "start_time": "2023-05-31T21:16:19.344Z"
   },
   {
    "duration": 13,
    "start_time": "2023-05-31T21:17:32.991Z"
   },
   {
    "duration": 5,
    "start_time": "2023-05-31T21:17:48.304Z"
   },
   {
    "duration": 12,
    "start_time": "2023-05-31T21:17:50.568Z"
   },
   {
    "duration": 5,
    "start_time": "2023-05-31T21:18:11.505Z"
   },
   {
    "duration": 16,
    "start_time": "2023-05-31T21:18:14.249Z"
   },
   {
    "duration": 5,
    "start_time": "2023-05-31T21:18:27.000Z"
   },
   {
    "duration": 200,
    "start_time": "2023-05-31T21:18:29.784Z"
   },
   {
    "duration": 4,
    "start_time": "2023-05-31T21:52:30.582Z"
   },
   {
    "duration": 237,
    "start_time": "2023-05-31T21:52:33.544Z"
   },
   {
    "duration": 6,
    "start_time": "2023-05-31T21:53:24.079Z"
   },
   {
    "duration": 257,
    "start_time": "2023-05-31T21:53:26.424Z"
   },
   {
    "duration": 4,
    "start_time": "2023-05-31T21:53:39.760Z"
   },
   {
    "duration": 239,
    "start_time": "2023-05-31T21:53:41.680Z"
   },
   {
    "duration": 4,
    "start_time": "2023-05-31T21:53:58.000Z"
   },
   {
    "duration": 241,
    "start_time": "2023-05-31T21:54:00.992Z"
   },
   {
    "duration": 8,
    "start_time": "2023-05-31T21:54:18.896Z"
   },
   {
    "duration": 248,
    "start_time": "2023-05-31T21:54:20.712Z"
   },
   {
    "duration": 4,
    "start_time": "2023-05-31T21:55:36.681Z"
   },
   {
    "duration": 110,
    "start_time": "2023-05-31T21:56:18.354Z"
   },
   {
    "duration": 4,
    "start_time": "2023-05-31T21:56:22.842Z"
   },
   {
    "duration": 704937,
    "start_time": "2023-05-31T21:59:19.292Z"
   },
   {
    "duration": 4747,
    "start_time": "2023-05-31T22:49:27.966Z"
   },
   {
    "duration": 4,
    "start_time": "2023-05-31T22:49:32.715Z"
   },
   {
    "duration": 240,
    "start_time": "2023-05-31T22:49:38.534Z"
   },
   {
    "duration": 1713,
    "start_time": "2023-06-02T15:59:04.749Z"
   },
   {
    "duration": 3342,
    "start_time": "2023-06-02T15:59:06.588Z"
   },
   {
    "duration": 111,
    "start_time": "2023-06-02T15:59:09.932Z"
   },
   {
    "duration": 14,
    "start_time": "2023-06-02T15:59:10.045Z"
   },
   {
    "duration": 902,
    "start_time": "2023-06-02T15:59:10.062Z"
   },
   {
    "duration": 117,
    "start_time": "2023-06-02T15:59:10.966Z"
   },
   {
    "duration": 937,
    "start_time": "2023-06-02T15:59:11.085Z"
   },
   {
    "duration": 126,
    "start_time": "2023-06-02T15:59:12.024Z"
   },
   {
    "duration": 185,
    "start_time": "2023-06-02T15:59:12.158Z"
   },
   {
    "duration": 250,
    "start_time": "2023-06-02T15:59:12.346Z"
   },
   {
    "duration": 65,
    "start_time": "2023-06-02T15:59:12.600Z"
   },
   {
    "duration": 127,
    "start_time": "2023-06-02T15:59:12.667Z"
   },
   {
    "duration": 29,
    "start_time": "2023-06-02T15:59:12.797Z"
   },
   {
    "duration": 224,
    "start_time": "2023-06-02T15:59:12.828Z"
   },
   {
    "duration": 8,
    "start_time": "2023-06-02T15:59:13.058Z"
   },
   {
    "duration": 76,
    "start_time": "2023-06-02T15:59:13.068Z"
   },
   {
    "duration": 55,
    "start_time": "2023-06-02T15:59:13.146Z"
   },
   {
    "duration": 90,
    "start_time": "2023-06-02T15:59:13.203Z"
   },
   {
    "duration": 244,
    "start_time": "2023-06-02T15:59:13.295Z"
   },
   {
    "duration": 53,
    "start_time": "2023-06-02T15:59:13.541Z"
   },
   {
    "duration": 43,
    "start_time": "2023-06-02T15:59:13.595Z"
   },
   {
    "duration": 66,
    "start_time": "2023-06-02T15:59:13.640Z"
   },
   {
    "duration": 365,
    "start_time": "2023-06-02T15:59:13.708Z"
   },
   {
    "duration": 8,
    "start_time": "2023-06-02T15:59:14.075Z"
   },
   {
    "duration": 9,
    "start_time": "2023-06-02T15:59:14.085Z"
   },
   {
    "duration": 66,
    "start_time": "2023-06-02T15:59:14.098Z"
   },
   {
    "duration": 17,
    "start_time": "2023-06-02T15:59:14.166Z"
   },
   {
    "duration": 23,
    "start_time": "2023-06-02T15:59:14.185Z"
   },
   {
    "duration": 22,
    "start_time": "2023-06-02T15:59:14.316Z"
   },
   {
    "duration": 17,
    "start_time": "2023-06-02T15:59:15.524Z"
   },
   {
    "duration": 16,
    "start_time": "2023-06-02T15:59:15.884Z"
   },
   {
    "duration": 25,
    "start_time": "2023-06-02T15:59:16.238Z"
   },
   {
    "duration": 8,
    "start_time": "2023-06-02T15:59:19.541Z"
   },
   {
    "duration": 43,
    "start_time": "2023-06-02T15:59:19.956Z"
   },
   {
    "duration": 28,
    "start_time": "2023-06-02T15:59:20.541Z"
   },
   {
    "duration": 15,
    "start_time": "2023-06-02T15:59:20.876Z"
   },
   {
    "duration": 17,
    "start_time": "2023-06-02T15:59:21.189Z"
   },
   {
    "duration": 70,
    "start_time": "2023-06-02T15:59:21.404Z"
   },
   {
    "duration": 60,
    "start_time": "2023-06-02T15:59:21.644Z"
   },
   {
    "duration": 3,
    "start_time": "2023-06-02T15:59:21.933Z"
   },
   {
    "duration": 14,
    "start_time": "2023-06-02T15:59:26.356Z"
   },
   {
    "duration": 798,
    "start_time": "2023-06-02T15:59:26.573Z"
   },
   {
    "duration": 197,
    "start_time": "2023-06-02T15:59:27.374Z"
   },
   {
    "duration": 335,
    "start_time": "2023-06-02T15:59:27.573Z"
   },
   {
    "duration": 3,
    "start_time": "2023-06-02T15:59:29.620Z"
   },
   {
    "duration": 5,
    "start_time": "2023-06-02T15:59:29.899Z"
   },
   {
    "duration": 46787,
    "start_time": "2023-06-02T16:04:22.805Z"
   },
   {
    "duration": 280,
    "start_time": "2023-06-02T16:05:09.669Z"
   },
   {
    "duration": 194,
    "start_time": "2023-06-02T16:05:22.876Z"
   },
   {
    "duration": 6,
    "start_time": "2023-06-02T16:05:59.040Z"
   },
   {
    "duration": 276,
    "start_time": "2023-06-02T16:08:31.386Z"
   },
   {
    "duration": 129,
    "start_time": "2023-06-02T16:10:00.475Z"
   },
   {
    "duration": 45913,
    "start_time": "2023-06-02T16:10:13.155Z"
   },
   {
    "duration": 201,
    "start_time": "2023-06-02T16:27:42.164Z"
   },
   {
    "duration": 6,
    "start_time": "2023-06-02T16:27:42.458Z"
   },
   {
    "duration": 257,
    "start_time": "2023-06-02T16:27:44.192Z"
   },
   {
    "duration": 5,
    "start_time": "2023-06-02T16:27:51.449Z"
   },
   {
    "duration": 77,
    "start_time": "2023-06-02T17:03:46.318Z"
   },
   {
    "duration": 366997,
    "start_time": "2023-06-02T17:09:18.778Z"
   },
   {
    "duration": 981,
    "start_time": "2023-06-02T17:15:25.777Z"
   },
   {
    "duration": 5,
    "start_time": "2023-06-02T17:15:26.760Z"
   },
   {
    "duration": 222,
    "start_time": "2023-06-02T17:44:43.344Z"
   },
   {
    "duration": 119,
    "start_time": "2023-06-02T18:18:14.661Z"
   },
   {
    "duration": 64,
    "start_time": "2023-06-02T18:27:57.755Z"
   },
   {
    "duration": 4016,
    "start_time": "2023-06-02T22:11:10.724Z"
   },
   {
    "duration": 73,
    "start_time": "2023-06-02T22:12:31.293Z"
   },
   {
    "duration": 30871,
    "start_time": "2023-06-02T22:16:58.632Z"
   },
   {
    "duration": 29634,
    "start_time": "2023-06-02T22:18:49.428Z"
   },
   {
    "duration": 51,
    "start_time": "2023-06-02T22:21:18.267Z"
   },
   {
    "duration": 4,
    "start_time": "2023-06-02T22:21:45.452Z"
   },
   {
    "duration": 202,
    "start_time": "2023-06-02T22:22:07.724Z"
   },
   {
    "duration": 7,
    "start_time": "2023-06-02T23:01:26.648Z"
   },
   {
    "duration": 8,
    "start_time": "2023-06-02T23:03:54.738Z"
   },
   {
    "duration": 10,
    "start_time": "2023-06-02T23:06:15.859Z"
   },
   {
    "duration": 1516,
    "start_time": "2023-06-02T23:08:36.633Z"
   },
   {
    "duration": 952,
    "start_time": "2023-06-02T23:08:38.151Z"
   },
   {
    "duration": 112,
    "start_time": "2023-06-02T23:08:39.104Z"
   },
   {
    "duration": 4,
    "start_time": "2023-06-02T23:08:39.218Z"
   },
   {
    "duration": 845,
    "start_time": "2023-06-02T23:08:39.224Z"
   },
   {
    "duration": 103,
    "start_time": "2023-06-02T23:08:40.070Z"
   },
   {
    "duration": 866,
    "start_time": "2023-06-02T23:08:40.175Z"
   },
   {
    "duration": 110,
    "start_time": "2023-06-02T23:08:41.043Z"
   },
   {
    "duration": 161,
    "start_time": "2023-06-02T23:08:41.156Z"
   },
   {
    "duration": 218,
    "start_time": "2023-06-02T23:08:41.319Z"
   },
   {
    "duration": 61,
    "start_time": "2023-06-02T23:08:41.539Z"
   },
   {
    "duration": 100,
    "start_time": "2023-06-02T23:08:41.602Z"
   },
   {
    "duration": 17,
    "start_time": "2023-06-02T23:08:41.703Z"
   },
   {
    "duration": 193,
    "start_time": "2023-06-02T23:08:41.722Z"
   },
   {
    "duration": 6,
    "start_time": "2023-06-02T23:08:41.917Z"
   },
   {
    "duration": 82,
    "start_time": "2023-06-02T23:08:41.924Z"
   },
   {
    "duration": 49,
    "start_time": "2023-06-02T23:08:42.008Z"
   },
   {
    "duration": 71,
    "start_time": "2023-06-02T23:08:42.059Z"
   },
   {
    "duration": 207,
    "start_time": "2023-06-02T23:08:42.131Z"
   },
   {
    "duration": 57,
    "start_time": "2023-06-02T23:08:42.340Z"
   },
   {
    "duration": 37,
    "start_time": "2023-06-02T23:08:42.399Z"
   },
   {
    "duration": 64,
    "start_time": "2023-06-02T23:08:42.437Z"
   },
   {
    "duration": 364,
    "start_time": "2023-06-02T23:08:42.503Z"
   },
   {
    "duration": 7,
    "start_time": "2023-06-02T23:08:42.869Z"
   },
   {
    "duration": 9,
    "start_time": "2023-06-02T23:08:42.877Z"
   },
   {
    "duration": 65,
    "start_time": "2023-06-02T23:08:42.887Z"
   },
   {
    "duration": 16,
    "start_time": "2023-06-02T23:08:42.953Z"
   },
   {
    "duration": 18,
    "start_time": "2023-06-02T23:08:42.974Z"
   },
   {
    "duration": 19,
    "start_time": "2023-06-02T23:08:42.994Z"
   },
   {
    "duration": 15,
    "start_time": "2023-06-02T23:08:43.014Z"
   },
   {
    "duration": 31,
    "start_time": "2023-06-02T23:08:43.030Z"
   },
   {
    "duration": 16,
    "start_time": "2023-06-02T23:08:43.063Z"
   },
   {
    "duration": 4,
    "start_time": "2023-06-02T23:08:43.081Z"
   },
   {
    "duration": 41,
    "start_time": "2023-06-02T23:08:43.087Z"
   },
   {
    "duration": 45,
    "start_time": "2023-06-02T23:08:43.129Z"
   },
   {
    "duration": 25,
    "start_time": "2023-06-02T23:08:43.176Z"
   },
   {
    "duration": 12,
    "start_time": "2023-06-02T23:08:43.203Z"
   },
   {
    "duration": 78,
    "start_time": "2023-06-02T23:08:43.217Z"
   },
   {
    "duration": 51,
    "start_time": "2023-06-02T23:08:43.297Z"
   },
   {
    "duration": 8,
    "start_time": "2023-06-02T23:08:43.349Z"
   },
   {
    "duration": 21,
    "start_time": "2023-06-02T23:08:43.358Z"
   },
   {
    "duration": 709,
    "start_time": "2023-06-02T23:08:43.381Z"
   },
   {
    "duration": 188,
    "start_time": "2023-06-02T23:08:44.092Z"
   },
   {
    "duration": 313,
    "start_time": "2023-06-02T23:08:44.281Z"
   },
   {
    "duration": 3,
    "start_time": "2023-06-02T23:08:44.596Z"
   },
   {
    "duration": 18,
    "start_time": "2023-06-02T23:08:44.600Z"
   },
   {
    "duration": 725858,
    "start_time": "2023-06-02T23:08:44.620Z"
   },
   {
    "duration": 4707,
    "start_time": "2023-06-02T23:20:50.480Z"
   },
   {
    "duration": 5,
    "start_time": "2023-06-02T23:20:55.189Z"
   },
   {
    "duration": 239,
    "start_time": "2023-06-02T23:20:55.195Z"
   },
   {
    "duration": 22424,
    "start_time": "2023-06-02T23:20:55.435Z"
   },
   {
    "duration": 204,
    "start_time": "2023-06-02T23:21:17.861Z"
   },
   {
    "duration": 6,
    "start_time": "2023-06-02T23:21:18.157Z"
   },
   {
    "duration": 463,
    "start_time": "2023-06-02T23:21:18.165Z"
   },
   {
    "duration": 6827,
    "start_time": "2023-06-02T23:21:18.630Z"
   },
   {
    "duration": 813,
    "start_time": "2023-06-02T23:21:25.459Z"
   },
   {
    "duration": 4,
    "start_time": "2023-06-02T23:21:26.274Z"
   },
   {
    "duration": 218,
    "start_time": "2023-06-02T23:21:26.356Z"
   },
   {
    "duration": 29676,
    "start_time": "2023-06-02T23:21:26.575Z"
   },
   {
    "duration": 53,
    "start_time": "2023-06-02T23:21:56.252Z"
   },
   {
    "duration": 5,
    "start_time": "2023-06-02T23:21:56.306Z"
   },
   {
    "duration": 228,
    "start_time": "2023-06-02T23:21:56.313Z"
   },
   {
    "duration": 15,
    "start_time": "2023-06-02T23:21:56.543Z"
   },
   {
    "duration": 9,
    "start_time": "2023-06-02T23:22:30.911Z"
   },
   {
    "duration": 1779,
    "start_time": "2023-06-03T00:08:24.874Z"
   },
   {
    "duration": 914,
    "start_time": "2023-06-03T00:08:26.655Z"
   },
   {
    "duration": 119,
    "start_time": "2023-06-03T00:08:27.570Z"
   },
   {
    "duration": 3,
    "start_time": "2023-06-03T00:08:27.691Z"
   },
   {
    "duration": 864,
    "start_time": "2023-06-03T00:08:28.378Z"
   },
   {
    "duration": 113,
    "start_time": "2023-06-03T00:08:29.243Z"
   },
   {
    "duration": 886,
    "start_time": "2023-06-03T00:08:33.388Z"
   },
   {
    "duration": 110,
    "start_time": "2023-06-03T00:08:35.186Z"
   },
   {
    "duration": 169,
    "start_time": "2023-06-03T00:09:05.237Z"
   },
   {
    "duration": 231,
    "start_time": "2023-06-03T00:09:06.153Z"
   },
   {
    "duration": 52,
    "start_time": "2023-06-03T00:09:09.358Z"
   },
   {
    "duration": 107,
    "start_time": "2023-06-03T00:09:19.307Z"
   },
   {
    "duration": 20,
    "start_time": "2023-06-03T00:09:22.027Z"
   },
   {
    "duration": 191,
    "start_time": "2023-06-03T00:10:02.205Z"
   },
   {
    "duration": 7,
    "start_time": "2023-06-03T00:10:06.954Z"
   },
   {
    "duration": 67,
    "start_time": "2023-06-03T00:10:09.252Z"
   },
   {
    "duration": 42,
    "start_time": "2023-06-03T00:10:20.954Z"
   },
   {
    "duration": 72,
    "start_time": "2023-06-03T00:10:25.033Z"
   },
   {
    "duration": 207,
    "start_time": "2023-06-03T00:10:39.371Z"
   },
   {
    "duration": 52,
    "start_time": "2023-06-03T00:10:42.337Z"
   },
   {
    "duration": 41,
    "start_time": "2023-06-03T00:10:55.748Z"
   },
   {
    "duration": 57,
    "start_time": "2023-06-03T00:10:58.757Z"
   },
   {
    "duration": 368,
    "start_time": "2023-06-03T00:10:59.816Z"
   },
   {
    "duration": 8,
    "start_time": "2023-06-03T00:11:02.337Z"
   },
   {
    "duration": 6,
    "start_time": "2023-06-03T00:11:05.827Z"
   },
   {
    "duration": 41,
    "start_time": "2023-06-03T00:11:19.722Z"
   },
   {
    "duration": 17,
    "start_time": "2023-06-03T00:11:22.165Z"
   },
   {
    "duration": 15,
    "start_time": "2023-06-03T00:11:23.592Z"
   },
   {
    "duration": 18,
    "start_time": "2023-06-03T00:11:23.990Z"
   },
   {
    "duration": 16,
    "start_time": "2023-06-03T00:11:27.805Z"
   },
   {
    "duration": 12,
    "start_time": "2023-06-03T00:11:28.814Z"
   },
   {
    "duration": 16,
    "start_time": "2023-06-03T00:11:29.594Z"
   },
   {
    "duration": 7,
    "start_time": "2023-06-03T00:11:31.820Z"
   },
   {
    "duration": 37,
    "start_time": "2023-06-03T00:11:35.369Z"
   },
   {
    "duration": 27,
    "start_time": "2023-06-03T00:11:46.692Z"
   },
   {
    "duration": 28,
    "start_time": "2023-06-03T00:11:58.037Z"
   },
   {
    "duration": 12,
    "start_time": "2023-06-03T00:12:00.382Z"
   },
   {
    "duration": 60,
    "start_time": "2023-06-03T00:12:00.926Z"
   },
   {
    "duration": 57,
    "start_time": "2023-06-03T00:12:03.693Z"
   },
   {
    "duration": 3,
    "start_time": "2023-06-03T00:12:05.022Z"
   },
   {
    "duration": 61,
    "start_time": "2023-06-03T00:12:35.922Z"
   },
   {
    "duration": 16,
    "start_time": "2023-06-03T00:14:04.651Z"
   },
   {
    "duration": 678,
    "start_time": "2023-06-03T00:14:09.278Z"
   },
   {
    "duration": 205,
    "start_time": "2023-06-03T00:14:23.940Z"
   },
   {
    "duration": 668,
    "start_time": "2023-06-03T00:15:23.196Z"
   },
   {
    "duration": 190,
    "start_time": "2023-06-03T00:15:25.081Z"
   },
   {
    "duration": 314,
    "start_time": "2023-06-03T00:15:58.456Z"
   },
   {
    "duration": 3,
    "start_time": "2023-06-03T00:16:07.848Z"
   },
   {
    "duration": 4,
    "start_time": "2023-06-03T00:16:14.223Z"
   },
   {
    "duration": 23814,
    "start_time": "2023-06-03T00:16:24.941Z"
   },
   {
    "duration": 205,
    "start_time": "2023-06-03T00:16:48.843Z"
   },
   {
    "duration": 5,
    "start_time": "2023-06-03T00:17:35.711Z"
   },
   {
    "duration": 2829,
    "start_time": "2023-06-03T12:42:24.431Z"
   },
   {
    "duration": 4724,
    "start_time": "2023-06-03T12:42:30.634Z"
   },
   {
    "duration": 245,
    "start_time": "2023-06-03T12:42:35.360Z"
   },
   {
    "duration": 4,
    "start_time": "2023-06-03T12:42:35.607Z"
   },
   {
    "duration": 1125,
    "start_time": "2023-06-03T12:42:35.614Z"
   },
   {
    "duration": 133,
    "start_time": "2023-06-03T12:42:39.267Z"
   },
   {
    "duration": 1306,
    "start_time": "2023-06-03T12:42:39.570Z"
   },
   {
    "duration": 212,
    "start_time": "2023-06-03T12:43:35.058Z"
   },
   {
    "duration": 164,
    "start_time": "2023-06-03T13:11:23.594Z"
   },
   {
    "duration": 221,
    "start_time": "2023-06-03T13:11:24.491Z"
   },
   {
    "duration": 52,
    "start_time": "2023-06-03T13:11:27.189Z"
   },
   {
    "duration": 171,
    "start_time": "2023-06-03T13:11:28.471Z"
   },
   {
    "duration": 20,
    "start_time": "2023-06-03T13:11:45.847Z"
   },
   {
    "duration": 20,
    "start_time": "2023-06-03T13:12:01.816Z"
   },
   {
    "duration": 201,
    "start_time": "2023-06-03T13:13:14.297Z"
   },
   {
    "duration": 6,
    "start_time": "2023-06-03T13:13:15.033Z"
   },
   {
    "duration": 60,
    "start_time": "2023-06-03T13:13:17.993Z"
   },
   {
    "duration": 51,
    "start_time": "2023-06-03T13:13:28.662Z"
   },
   {
    "duration": 74,
    "start_time": "2023-06-03T13:13:32.089Z"
   },
   {
    "duration": 78,
    "start_time": "2023-06-03T13:17:40.801Z"
   },
   {
    "duration": 259,
    "start_time": "2023-06-03T13:21:15.001Z"
   },
   {
    "duration": 1702,
    "start_time": "2023-06-03T14:04:19.155Z"
   },
   {
    "duration": 6,
    "start_time": "2023-06-03T14:05:30.049Z"
   },
   {
    "duration": 9472,
    "start_time": "2023-06-03T14:05:34.209Z"
   },
   {
    "duration": 140,
    "start_time": "2023-06-03T14:05:53.989Z"
   },
   {
    "duration": 1534,
    "start_time": "2023-06-03T14:06:11.932Z"
   },
   {
    "duration": 1802,
    "start_time": "2023-06-03T14:08:42.908Z"
   },
   {
    "duration": 10069,
    "start_time": "2023-06-03T14:09:11.357Z"
   },
   {
    "duration": 54,
    "start_time": "2023-06-03T14:10:36.796Z"
   },
   {
    "duration": 33,
    "start_time": "2023-06-03T14:10:45.415Z"
   },
   {
    "duration": 40,
    "start_time": "2023-06-03T14:10:55.603Z"
   },
   {
    "duration": 70,
    "start_time": "2023-06-03T14:10:55.855Z"
   },
   {
    "duration": 411,
    "start_time": "2023-06-03T14:10:59.926Z"
   },
   {
    "duration": 11,
    "start_time": "2023-06-03T14:11:03.504Z"
   },
   {
    "duration": 55,
    "start_time": "2023-06-03T14:14:28.810Z"
   },
   {
    "duration": 5,
    "start_time": "2023-06-03T14:15:16.210Z"
   },
   {
    "duration": 6,
    "start_time": "2023-06-03T14:15:21.920Z"
   },
   {
    "duration": 637,
    "start_time": "2023-06-03T14:18:30.126Z"
   },
   {
    "duration": 543,
    "start_time": "2023-06-03T14:18:52.404Z"
   },
   {
    "duration": 11,
    "start_time": "2023-06-03T14:19:02.971Z"
   },
   {
    "duration": 7,
    "start_time": "2023-06-03T14:19:06.010Z"
   },
   {
    "duration": 49,
    "start_time": "2023-06-03T14:20:26.746Z"
   },
   {
    "duration": 16,
    "start_time": "2023-06-03T14:20:26.956Z"
   },
   {
    "duration": 18,
    "start_time": "2023-06-03T14:20:27.813Z"
   },
   {
    "duration": 24,
    "start_time": "2023-06-03T14:20:28.060Z"
   },
   {
    "duration": 29,
    "start_time": "2023-06-03T14:20:32.391Z"
   },
   {
    "duration": 33,
    "start_time": "2023-06-03T14:20:32.564Z"
   },
   {
    "duration": 29,
    "start_time": "2023-06-03T14:20:32.724Z"
   },
   {
    "duration": 8,
    "start_time": "2023-06-03T14:20:33.078Z"
   },
   {
    "duration": 26,
    "start_time": "2023-06-03T14:20:33.556Z"
   },
   {
    "duration": 39,
    "start_time": "2023-06-03T14:20:35.591Z"
   },
   {
    "duration": 15,
    "start_time": "2023-06-03T14:20:36.003Z"
   },
   {
    "duration": 17,
    "start_time": "2023-06-03T14:20:36.202Z"
   },
   {
    "duration": 81,
    "start_time": "2023-06-03T14:20:39.421Z"
   },
   {
    "duration": 92,
    "start_time": "2023-06-03T14:20:42.973Z"
   },
   {
    "duration": 1922,
    "start_time": "2023-06-03T23:37:14.920Z"
   },
   {
    "duration": 0,
    "start_time": "2023-06-03T23:37:16.844Z"
   },
   {
    "duration": 0,
    "start_time": "2023-06-03T23:37:16.845Z"
   },
   {
    "duration": 0,
    "start_time": "2023-06-03T23:37:16.846Z"
   },
   {
    "duration": 0,
    "start_time": "2023-06-03T23:37:16.848Z"
   },
   {
    "duration": 0,
    "start_time": "2023-06-03T23:37:16.849Z"
   },
   {
    "duration": 0,
    "start_time": "2023-06-03T23:37:16.850Z"
   },
   {
    "duration": 0,
    "start_time": "2023-06-03T23:37:16.852Z"
   },
   {
    "duration": 0,
    "start_time": "2023-06-03T23:37:16.853Z"
   },
   {
    "duration": 0,
    "start_time": "2023-06-03T23:37:16.854Z"
   },
   {
    "duration": 0,
    "start_time": "2023-06-03T23:37:16.856Z"
   },
   {
    "duration": 14,
    "start_time": "2023-06-03T23:37:16.880Z"
   },
   {
    "duration": 10,
    "start_time": "2023-06-03T23:37:16.948Z"
   },
   {
    "duration": 14,
    "start_time": "2023-06-03T23:37:16.976Z"
   },
   {
    "duration": 1242,
    "start_time": "2023-06-03T23:37:50.424Z"
   },
   {
    "duration": 152,
    "start_time": "2023-06-03T23:37:51.668Z"
   },
   {
    "duration": 4,
    "start_time": "2023-06-03T23:37:51.822Z"
   },
   {
    "duration": 870,
    "start_time": "2023-06-03T23:37:51.828Z"
   },
   {
    "duration": 93,
    "start_time": "2023-06-03T23:37:52.700Z"
   },
   {
    "duration": 888,
    "start_time": "2023-06-03T23:37:52.795Z"
   },
   {
    "duration": 151,
    "start_time": "2023-06-03T23:37:53.692Z"
   },
   {
    "duration": 167,
    "start_time": "2023-06-03T23:37:53.845Z"
   },
   {
    "duration": 251,
    "start_time": "2023-06-03T23:37:54.014Z"
   },
   {
    "duration": 64,
    "start_time": "2023-06-03T23:37:54.266Z"
   },
   {
    "duration": 129,
    "start_time": "2023-06-03T23:37:54.332Z"
   },
   {
    "duration": 32,
    "start_time": "2023-06-03T23:37:54.478Z"
   },
   {
    "duration": 29,
    "start_time": "2023-06-03T23:37:54.629Z"
   },
   {
    "duration": 177,
    "start_time": "2023-06-03T23:37:59.453Z"
   },
   {
    "duration": 7,
    "start_time": "2023-06-03T23:38:01.766Z"
   },
   {
    "duration": 67,
    "start_time": "2023-06-03T23:38:02.183Z"
   },
   {
    "duration": 52,
    "start_time": "2023-06-03T23:38:03.078Z"
   },
   {
    "duration": 76,
    "start_time": "2023-06-03T23:38:05.766Z"
   },
   {
    "duration": 214,
    "start_time": "2023-06-03T23:38:08.621Z"
   },
   {
    "duration": 8777,
    "start_time": "2023-06-03T23:38:08.836Z"
   },
   {
    "duration": 42,
    "start_time": "2023-06-03T23:38:17.614Z"
   },
   {
    "duration": 63,
    "start_time": "2023-06-03T23:38:17.658Z"
   },
   {
    "duration": 78,
    "start_time": "2023-06-03T23:38:17.724Z"
   },
   {
    "duration": 407,
    "start_time": "2023-06-03T23:38:17.804Z"
   },
   {
    "duration": 7,
    "start_time": "2023-06-03T23:38:18.213Z"
   },
   {
    "duration": 7,
    "start_time": "2023-06-03T23:38:18.332Z"
   },
   {
    "duration": 42,
    "start_time": "2023-06-03T23:38:24.621Z"
   },
   {
    "duration": 17,
    "start_time": "2023-06-03T23:38:24.821Z"
   },
   {
    "duration": 27,
    "start_time": "2023-06-03T23:38:25.158Z"
   },
   {
    "duration": 21,
    "start_time": "2023-06-03T23:38:32.142Z"
   },
   {
    "duration": 19,
    "start_time": "2023-06-03T23:38:36.921Z"
   },
   {
    "duration": 15,
    "start_time": "2023-06-03T23:38:37.120Z"
   },
   {
    "duration": 19,
    "start_time": "2023-06-03T23:38:37.317Z"
   },
   {
    "duration": 6,
    "start_time": "2023-06-03T23:38:37.838Z"
   },
   {
    "duration": 34,
    "start_time": "2023-06-03T23:38:41.292Z"
   },
   {
    "duration": 24,
    "start_time": "2023-06-03T23:38:42.446Z"
   },
   {
    "duration": 19,
    "start_time": "2023-06-03T23:38:45.622Z"
   },
   {
    "duration": 13,
    "start_time": "2023-06-03T23:38:45.839Z"
   },
   {
    "duration": 93,
    "start_time": "2023-06-03T23:38:48.343Z"
   },
   {
    "duration": 81,
    "start_time": "2023-06-03T23:38:48.638Z"
   },
   {
    "duration": 4,
    "start_time": "2023-06-03T23:38:52.127Z"
   },
   {
    "duration": 13,
    "start_time": "2023-06-03T23:45:47.861Z"
   },
   {
    "duration": 27,
    "start_time": "2023-06-03T23:45:52.876Z"
   },
   {
    "duration": 625,
    "start_time": "2023-06-03T23:45:53.219Z"
   },
   {
    "duration": 199,
    "start_time": "2023-06-03T23:45:53.846Z"
   },
   {
    "duration": 438,
    "start_time": "2023-06-03T23:45:56.628Z"
   },
   {
    "duration": 439,
    "start_time": "2023-06-03T23:46:12.189Z"
   },
   {
    "duration": 3,
    "start_time": "2023-06-03T23:46:31.565Z"
   },
   {
    "duration": 5,
    "start_time": "2023-06-03T23:46:31.838Z"
   },
   {
    "duration": 2004,
    "start_time": "2023-06-04T19:45:32.967Z"
   },
   {
    "duration": 4588,
    "start_time": "2023-06-04T19:45:34.974Z"
   },
   {
    "duration": 235,
    "start_time": "2023-06-04T19:45:39.564Z"
   },
   {
    "duration": 4,
    "start_time": "2023-06-04T19:45:39.802Z"
   },
   {
    "duration": 987,
    "start_time": "2023-06-04T19:45:39.808Z"
   },
   {
    "duration": 111,
    "start_time": "2023-06-04T19:45:40.797Z"
   },
   {
    "duration": 959,
    "start_time": "2023-06-04T19:45:40.910Z"
   },
   {
    "duration": 205,
    "start_time": "2023-06-04T19:45:41.872Z"
   },
   {
    "duration": 170,
    "start_time": "2023-06-04T19:45:42.078Z"
   },
   {
    "duration": 241,
    "start_time": "2023-06-04T19:45:42.252Z"
   },
   {
    "duration": 67,
    "start_time": "2023-06-04T19:45:42.494Z"
   },
   {
    "duration": 141,
    "start_time": "2023-06-04T19:45:42.565Z"
   },
   {
    "duration": 42,
    "start_time": "2023-06-04T19:45:42.709Z"
   },
   {
    "duration": 32,
    "start_time": "2023-06-04T19:45:42.756Z"
   },
   {
    "duration": 273,
    "start_time": "2023-06-04T19:45:42.790Z"
   },
   {
    "duration": 8,
    "start_time": "2023-06-04T19:45:43.069Z"
   },
   {
    "duration": 70,
    "start_time": "2023-06-04T19:45:43.079Z"
   },
   {
    "duration": 46,
    "start_time": "2023-06-04T19:45:43.154Z"
   },
   {
    "duration": 78,
    "start_time": "2023-06-04T19:45:43.202Z"
   },
   {
    "duration": 221,
    "start_time": "2023-06-04T19:45:43.282Z"
   },
   {
    "duration": 10393,
    "start_time": "2023-06-04T19:45:43.505Z"
   },
   {
    "duration": 71,
    "start_time": "2023-06-04T19:45:53.900Z"
   },
   {
    "duration": 44,
    "start_time": "2023-06-04T19:45:53.982Z"
   },
   {
    "duration": 83,
    "start_time": "2023-06-04T19:45:54.031Z"
   },
   {
    "duration": 487,
    "start_time": "2023-06-04T19:45:54.117Z"
   },
   {
    "duration": 11,
    "start_time": "2023-06-04T19:45:54.605Z"
   },
   {
    "duration": 9,
    "start_time": "2023-06-04T19:45:54.625Z"
   },
   {
    "duration": 70,
    "start_time": "2023-06-04T19:45:54.636Z"
   },
   {
    "duration": 23,
    "start_time": "2023-06-04T19:45:58.271Z"
   },
   {
    "duration": 44,
    "start_time": "2023-06-04T19:45:58.621Z"
   },
   {
    "duration": 31,
    "start_time": "2023-06-04T19:45:58.798Z"
   },
   {
    "duration": 17,
    "start_time": "2023-06-04T19:46:03.205Z"
   },
   {
    "duration": 26,
    "start_time": "2023-06-04T19:46:03.542Z"
   },
   {
    "duration": 16,
    "start_time": "2023-06-04T19:46:03.799Z"
   },
   {
    "duration": 6,
    "start_time": "2023-06-04T19:46:06.013Z"
   },
   {
    "duration": 39,
    "start_time": "2023-06-04T19:46:06.561Z"
   },
   {
    "duration": 39,
    "start_time": "2023-06-04T19:46:07.615Z"
   },
   {
    "duration": 27,
    "start_time": "2023-06-04T19:46:08.285Z"
   },
   {
    "duration": 16,
    "start_time": "2023-06-04T19:46:08.552Z"
   },
   {
    "duration": 99,
    "start_time": "2023-06-04T19:46:11.463Z"
   },
   {
    "duration": 68,
    "start_time": "2023-06-04T19:46:14.150Z"
   },
   {
    "duration": 25,
    "start_time": "2023-06-04T19:47:41.553Z"
   },
   {
    "duration": 656,
    "start_time": "2023-06-04T19:47:41.751Z"
   },
   {
    "duration": 210,
    "start_time": "2023-06-04T19:47:42.409Z"
   },
   {
    "duration": 450,
    "start_time": "2023-06-04T19:47:45.086Z"
   },
   {
    "duration": 2,
    "start_time": "2023-06-04T19:47:48.719Z"
   },
   {
    "duration": 4,
    "start_time": "2023-06-04T19:47:48.894Z"
   },
   {
    "duration": 626668,
    "start_time": "2023-06-04T19:48:04.800Z"
   },
   {
    "duration": 3911,
    "start_time": "2023-06-04T19:58:31.470Z"
   },
   {
    "duration": 4,
    "start_time": "2023-06-04T19:58:35.383Z"
   },
   {
    "duration": 282,
    "start_time": "2023-06-04T20:04:57.520Z"
   },
   {
    "duration": 71286,
    "start_time": "2023-06-04T20:05:03.665Z"
   },
   {
    "duration": 198,
    "start_time": "2023-06-04T20:06:14.957Z"
   },
   {
    "duration": 8,
    "start_time": "2023-06-04T20:06:15.160Z"
   },
   {
    "duration": 374,
    "start_time": "2023-06-04T20:12:34.200Z"
   },
   {
    "duration": 511103,
    "start_time": "2023-06-04T20:30:37.564Z"
   },
   {
    "duration": 889,
    "start_time": "2023-06-04T20:39:08.669Z"
   },
   {
    "duration": 6,
    "start_time": "2023-06-04T20:39:49.863Z"
   },
   {
    "duration": 302,
    "start_time": "2023-06-04T20:39:56.648Z"
   },
   {
    "duration": 227,
    "start_time": "2023-06-04T21:12:41.061Z"
   },
   {
    "duration": 1978,
    "start_time": "2023-06-05T04:36:54.577Z"
   },
   {
    "duration": 0,
    "start_time": "2023-06-05T04:36:56.557Z"
   },
   {
    "duration": 0,
    "start_time": "2023-06-05T04:36:56.558Z"
   },
   {
    "duration": 0,
    "start_time": "2023-06-05T04:36:56.559Z"
   },
   {
    "duration": 0,
    "start_time": "2023-06-05T04:36:56.560Z"
   },
   {
    "duration": 0,
    "start_time": "2023-06-05T04:36:56.560Z"
   },
   {
    "duration": 0,
    "start_time": "2023-06-05T04:36:56.561Z"
   },
   {
    "duration": 0,
    "start_time": "2023-06-05T04:36:56.562Z"
   },
   {
    "duration": 0,
    "start_time": "2023-06-05T04:36:56.563Z"
   },
   {
    "duration": 0,
    "start_time": "2023-06-05T04:36:56.564Z"
   },
   {
    "duration": 0,
    "start_time": "2023-06-05T04:36:56.565Z"
   },
   {
    "duration": 0,
    "start_time": "2023-06-05T04:36:56.565Z"
   },
   {
    "duration": 0,
    "start_time": "2023-06-05T04:36:56.566Z"
   },
   {
    "duration": 0,
    "start_time": "2023-06-05T04:36:56.567Z"
   },
   {
    "duration": 0,
    "start_time": "2023-06-05T04:36:56.568Z"
   },
   {
    "duration": 0,
    "start_time": "2023-06-05T04:36:56.569Z"
   },
   {
    "duration": 0,
    "start_time": "2023-06-05T04:36:56.570Z"
   },
   {
    "duration": 0,
    "start_time": "2023-06-05T04:36:56.571Z"
   },
   {
    "duration": 0,
    "start_time": "2023-06-05T04:36:56.594Z"
   },
   {
    "duration": 0,
    "start_time": "2023-06-05T04:36:56.595Z"
   },
   {
    "duration": 0,
    "start_time": "2023-06-05T04:36:56.602Z"
   },
   {
    "duration": 0,
    "start_time": "2023-06-05T04:36:56.603Z"
   },
   {
    "duration": 0,
    "start_time": "2023-06-05T04:36:56.603Z"
   },
   {
    "duration": 0,
    "start_time": "2023-06-05T04:36:56.604Z"
   },
   {
    "duration": 0,
    "start_time": "2023-06-05T04:36:56.604Z"
   },
   {
    "duration": 0,
    "start_time": "2023-06-05T04:36:56.605Z"
   },
   {
    "duration": 7582,
    "start_time": "2023-06-05T04:37:26.946Z"
   },
   {
    "duration": 319,
    "start_time": "2023-06-05T04:37:34.530Z"
   },
   {
    "duration": 258,
    "start_time": "2023-06-05T08:50:24.544Z"
   },
   {
    "duration": 2015,
    "start_time": "2023-06-05T08:50:27.794Z"
   },
   {
    "duration": 7428,
    "start_time": "2023-06-05T08:50:32.727Z"
   },
   {
    "duration": 397,
    "start_time": "2023-06-05T08:50:40.159Z"
   },
   {
    "duration": 74,
    "start_time": "2023-06-05T08:50:44.888Z"
   },
   {
    "duration": 83,
    "start_time": "2023-06-05T08:52:23.163Z"
   },
   {
    "duration": 16,
    "start_time": "2023-06-05T08:52:32.028Z"
   },
   {
    "duration": 116,
    "start_time": "2023-06-05T08:52:58.411Z"
   },
   {
    "duration": 60,
    "start_time": "2023-06-05T08:53:01.970Z"
   },
   {
    "duration": 1046,
    "start_time": "2023-06-05T08:53:33.915Z"
   },
   {
    "duration": 128,
    "start_time": "2023-06-05T08:53:38.330Z"
   },
   {
    "duration": 3,
    "start_time": "2023-06-05T08:53:38.842Z"
   },
   {
    "duration": 719,
    "start_time": "2023-06-05T08:53:38.873Z"
   },
   {
    "duration": 93,
    "start_time": "2023-06-05T08:53:39.594Z"
   },
   {
    "duration": 758,
    "start_time": "2023-06-05T08:53:39.689Z"
   },
   {
    "duration": 118,
    "start_time": "2023-06-05T08:53:40.448Z"
   },
   {
    "duration": 177,
    "start_time": "2023-06-05T08:53:40.568Z"
   },
   {
    "duration": 219,
    "start_time": "2023-06-05T08:53:40.747Z"
   },
   {
    "duration": 40,
    "start_time": "2023-06-05T08:53:40.968Z"
   },
   {
    "duration": 117,
    "start_time": "2023-06-05T08:53:41.010Z"
   },
   {
    "duration": 36,
    "start_time": "2023-06-05T08:53:41.129Z"
   },
   {
    "duration": 32,
    "start_time": "2023-06-05T08:53:41.167Z"
   },
   {
    "duration": 274,
    "start_time": "2023-06-05T08:53:41.373Z"
   },
   {
    "duration": 8,
    "start_time": "2023-06-05T08:53:41.649Z"
   },
   {
    "duration": 75,
    "start_time": "2023-06-05T08:53:41.659Z"
   },
   {
    "duration": 34,
    "start_time": "2023-06-05T08:53:41.736Z"
   },
   {
    "duration": 68,
    "start_time": "2023-06-05T08:53:41.771Z"
   },
   {
    "duration": 188,
    "start_time": "2023-06-05T08:53:43.050Z"
   },
   {
    "duration": 7959,
    "start_time": "2023-06-05T08:53:43.240Z"
   },
   {
    "duration": 59,
    "start_time": "2023-06-05T08:53:51.201Z"
   },
   {
    "duration": 37,
    "start_time": "2023-06-05T08:53:51.262Z"
   },
   {
    "duration": 70,
    "start_time": "2023-06-05T08:53:51.301Z"
   },
   {
    "duration": 383,
    "start_time": "2023-06-05T08:53:51.373Z"
   },
   {
    "duration": 7,
    "start_time": "2023-06-05T08:53:51.757Z"
   },
   {
    "duration": 16,
    "start_time": "2023-06-05T08:53:51.765Z"
   },
   {
    "duration": 52,
    "start_time": "2023-06-05T08:53:51.783Z"
   },
   {
    "duration": 20,
    "start_time": "2023-06-05T08:53:51.837Z"
   },
   {
    "duration": 38,
    "start_time": "2023-06-05T08:53:51.859Z"
   },
   {
    "duration": 59,
    "start_time": "2023-06-05T08:53:51.899Z"
   },
   {
    "duration": 25,
    "start_time": "2023-06-05T08:53:51.960Z"
   },
   {
    "duration": 26,
    "start_time": "2023-06-05T08:53:51.987Z"
   },
   {
    "duration": 45,
    "start_time": "2023-06-05T08:53:52.015Z"
   },
   {
    "duration": 10,
    "start_time": "2023-06-05T08:53:52.062Z"
   },
   {
    "duration": 48,
    "start_time": "2023-06-05T08:53:52.073Z"
   },
   {
    "duration": 27,
    "start_time": "2023-06-05T08:53:52.126Z"
   },
   {
    "duration": 49,
    "start_time": "2023-06-05T08:53:52.154Z"
   },
   {
    "duration": 28,
    "start_time": "2023-06-05T08:53:52.205Z"
   },
   {
    "duration": 77,
    "start_time": "2023-06-05T08:53:52.235Z"
   },
   {
    "duration": 86,
    "start_time": "2023-06-05T08:53:52.314Z"
   },
   {
    "duration": 34,
    "start_time": "2023-06-05T08:53:52.402Z"
   },
   {
    "duration": 5111,
    "start_time": "2023-06-05T08:53:52.439Z"
   },
   {
    "duration": 15,
    "start_time": "2023-06-05T08:53:57.551Z"
   },
   {
    "duration": 532,
    "start_time": "2023-06-05T08:53:57.567Z"
   },
   {
    "duration": 211,
    "start_time": "2023-06-05T08:53:58.101Z"
   },
   {
    "duration": 390,
    "start_time": "2023-06-05T08:53:58.315Z"
   },
   {
    "duration": 9,
    "start_time": "2023-06-05T08:54:10.051Z"
   },
   {
    "duration": 749,
    "start_time": "2023-06-05T08:57:00.581Z"
   },
   {
    "duration": 113,
    "start_time": "2023-06-05T08:57:01.332Z"
   },
   {
    "duration": 42,
    "start_time": "2023-06-05T08:57:01.447Z"
   },
   {
    "duration": 708,
    "start_time": "2023-06-05T08:57:01.548Z"
   },
   {
    "duration": 94,
    "start_time": "2023-06-05T08:57:02.258Z"
   },
   {
    "duration": 721,
    "start_time": "2023-06-05T08:57:02.353Z"
   },
   {
    "duration": 113,
    "start_time": "2023-06-05T08:57:03.076Z"
   },
   {
    "duration": 148,
    "start_time": "2023-06-05T08:57:03.980Z"
   },
   {
    "duration": 205,
    "start_time": "2023-06-05T08:57:04.231Z"
   },
   {
    "duration": 44,
    "start_time": "2023-06-05T08:57:04.492Z"
   },
   {
    "duration": 138,
    "start_time": "2023-06-05T08:57:05.396Z"
   },
   {
    "duration": 20,
    "start_time": "2023-06-05T08:57:07.031Z"
   },
   {
    "duration": 16,
    "start_time": "2023-06-05T08:57:07.588Z"
   },
   {
    "duration": 166,
    "start_time": "2023-06-05T08:57:11.492Z"
   },
   {
    "duration": 6,
    "start_time": "2023-06-05T08:57:11.852Z"
   },
   {
    "duration": 51,
    "start_time": "2023-06-05T08:57:12.140Z"
   },
   {
    "duration": 37,
    "start_time": "2023-06-05T08:57:13.727Z"
   },
   {
    "duration": 52,
    "start_time": "2023-06-05T08:57:13.931Z"
   },
   {
    "duration": 227,
    "start_time": "2023-06-05T08:57:15.388Z"
   },
   {
    "duration": 8167,
    "start_time": "2023-06-05T08:57:15.684Z"
   },
   {
    "duration": 43,
    "start_time": "2023-06-05T08:57:23.853Z"
   },
   {
    "duration": 61,
    "start_time": "2023-06-05T08:57:23.898Z"
   },
   {
    "duration": 49,
    "start_time": "2023-06-05T08:57:23.961Z"
   },
   {
    "duration": 356,
    "start_time": "2023-06-05T08:57:24.011Z"
   },
   {
    "duration": 8,
    "start_time": "2023-06-05T08:57:29.356Z"
   },
   {
    "duration": 4,
    "start_time": "2023-06-05T08:58:05.373Z"
   },
   {
    "duration": 5,
    "start_time": "2023-06-05T08:58:10.301Z"
   },
   {
    "duration": 6,
    "start_time": "2023-06-05T08:58:24.053Z"
   },
   {
    "duration": 770,
    "start_time": "2023-06-05T10:03:23.898Z"
   },
   {
    "duration": 685,
    "start_time": "2023-06-05T10:03:31.947Z"
   },
   {
    "duration": 9,
    "start_time": "2023-06-05T10:04:05.370Z"
   },
   {
    "duration": 7424,
    "start_time": "2023-06-05T10:46:48.748Z"
   },
   {
    "duration": 2504,
    "start_time": "2023-06-05T10:46:56.175Z"
   },
   {
    "duration": 1144,
    "start_time": "2023-06-05T10:46:58.681Z"
   },
   {
    "duration": 124,
    "start_time": "2023-06-05T10:46:59.828Z"
   },
   {
    "duration": 4,
    "start_time": "2023-06-05T10:46:59.954Z"
   },
   {
    "duration": 706,
    "start_time": "2023-06-05T10:46:59.960Z"
   },
   {
    "duration": 131,
    "start_time": "2023-06-05T10:47:00.668Z"
   },
   {
    "duration": 806,
    "start_time": "2023-06-05T10:47:00.800Z"
   },
   {
    "duration": 207,
    "start_time": "2023-06-05T10:47:01.608Z"
   },
   {
    "duration": 235,
    "start_time": "2023-06-05T10:47:01.818Z"
   },
   {
    "duration": 239,
    "start_time": "2023-06-05T10:47:02.055Z"
   },
   {
    "duration": 43,
    "start_time": "2023-06-05T10:47:02.296Z"
   },
   {
    "duration": 215,
    "start_time": "2023-06-05T10:47:02.342Z"
   },
   {
    "duration": 50,
    "start_time": "2023-06-05T10:47:02.559Z"
   },
   {
    "duration": 23,
    "start_time": "2023-06-05T10:47:02.611Z"
   },
   {
    "duration": 306,
    "start_time": "2023-06-05T10:47:02.636Z"
   },
   {
    "duration": 8,
    "start_time": "2023-06-05T10:47:02.944Z"
   },
   {
    "duration": 79,
    "start_time": "2023-06-05T10:47:02.953Z"
   },
   {
    "duration": 64,
    "start_time": "2023-06-05T10:47:03.034Z"
   },
   {
    "duration": 67,
    "start_time": "2023-06-05T10:47:03.100Z"
   },
   {
    "duration": 205,
    "start_time": "2023-06-05T10:47:03.169Z"
   },
   {
    "duration": 8045,
    "start_time": "2023-06-05T10:47:03.376Z"
   },
   {
    "duration": 46,
    "start_time": "2023-06-05T10:47:11.423Z"
   },
   {
    "duration": 46,
    "start_time": "2023-06-05T10:47:11.471Z"
   },
   {
    "duration": 66,
    "start_time": "2023-06-05T10:47:11.519Z"
   },
   {
    "duration": 531,
    "start_time": "2023-06-05T10:47:11.587Z"
   },
   {
    "duration": 9,
    "start_time": "2023-06-05T10:47:12.120Z"
   },
   {
    "duration": 22,
    "start_time": "2023-06-05T10:47:12.133Z"
   },
   {
    "duration": 560,
    "start_time": "2023-06-05T10:47:12.157Z"
   },
   {
    "duration": 0,
    "start_time": "2023-06-05T10:47:12.720Z"
   },
   {
    "duration": 0,
    "start_time": "2023-06-05T10:47:12.721Z"
   },
   {
    "duration": 52,
    "start_time": "2023-06-05T10:47:20.695Z"
   },
   {
    "duration": 55,
    "start_time": "2023-06-05T10:47:52.217Z"
   },
   {
    "duration": 4,
    "start_time": "2023-06-05T10:48:21.047Z"
   },
   {
    "duration": 5,
    "start_time": "2023-06-05T10:48:26.141Z"
   },
   {
    "duration": 5,
    "start_time": "2023-06-05T10:49:34.372Z"
   },
   {
    "duration": 5,
    "start_time": "2023-06-05T10:49:44.074Z"
   },
   {
    "duration": 40,
    "start_time": "2023-06-05T10:49:47.659Z"
   },
   {
    "duration": 5,
    "start_time": "2023-06-05T10:50:23.784Z"
   },
   {
    "duration": 3,
    "start_time": "2023-06-05T10:50:30.467Z"
   },
   {
    "duration": 9,
    "start_time": "2023-06-05T10:50:40.099Z"
   },
   {
    "duration": 122,
    "start_time": "2023-06-05T10:50:49.457Z"
   },
   {
    "duration": 85,
    "start_time": "2023-06-05T10:51:10.144Z"
   },
   {
    "duration": 136,
    "start_time": "2023-06-05T10:51:13.499Z"
   },
   {
    "duration": 140,
    "start_time": "2023-06-05T10:51:22.614Z"
   },
   {
    "duration": 132,
    "start_time": "2023-06-05T10:51:40.920Z"
   },
   {
    "duration": 48,
    "start_time": "2023-06-05T10:52:26.719Z"
   },
   {
    "duration": 4,
    "start_time": "2023-06-05T10:52:27.980Z"
   },
   {
    "duration": 144,
    "start_time": "2023-06-05T10:52:28.800Z"
   },
   {
    "duration": 130,
    "start_time": "2023-06-05T10:52:53.121Z"
   },
   {
    "duration": 145,
    "start_time": "2023-06-05T10:53:22.262Z"
   },
   {
    "duration": 8,
    "start_time": "2023-06-05T10:53:34.414Z"
   },
   {
    "duration": 159,
    "start_time": "2023-06-05T10:53:35.167Z"
   },
   {
    "duration": 215,
    "start_time": "2023-06-05T10:53:42.960Z"
   },
   {
    "duration": 3,
    "start_time": "2023-06-05T13:30:03.327Z"
   },
   {
    "duration": 5,
    "start_time": "2023-06-05T13:30:12.798Z"
   },
   {
    "duration": 127,
    "start_time": "2023-06-05T13:30:45.527Z"
   },
   {
    "duration": 81,
    "start_time": "2023-06-05T13:30:49.031Z"
   },
   {
    "duration": 765,
    "start_time": "2023-06-05T13:30:49.694Z"
   },
   {
    "duration": 119,
    "start_time": "2023-06-05T13:30:50.461Z"
   },
   {
    "duration": 24,
    "start_time": "2023-06-05T13:30:50.582Z"
   },
   {
    "duration": 724,
    "start_time": "2023-06-05T13:30:50.608Z"
   },
   {
    "duration": 101,
    "start_time": "2023-06-05T13:30:51.334Z"
   },
   {
    "duration": 838,
    "start_time": "2023-06-05T13:30:51.437Z"
   },
   {
    "duration": 129,
    "start_time": "2023-06-05T13:30:52.277Z"
   },
   {
    "duration": 169,
    "start_time": "2023-06-05T13:30:52.416Z"
   },
   {
    "duration": 342,
    "start_time": "2023-06-05T13:30:52.587Z"
   },
   {
    "duration": 34,
    "start_time": "2023-06-05T13:30:52.934Z"
   },
   {
    "duration": 161,
    "start_time": "2023-06-05T13:30:52.970Z"
   },
   {
    "duration": 19,
    "start_time": "2023-06-05T13:30:53.134Z"
   },
   {
    "duration": 23,
    "start_time": "2023-06-05T13:30:53.155Z"
   },
   {
    "duration": 176,
    "start_time": "2023-06-05T13:30:54.461Z"
   },
   {
    "duration": 6,
    "start_time": "2023-06-05T13:30:54.653Z"
   },
   {
    "duration": 43,
    "start_time": "2023-06-05T13:30:54.845Z"
   },
   {
    "duration": 41,
    "start_time": "2023-06-05T13:30:55.558Z"
   },
   {
    "duration": 53,
    "start_time": "2023-06-05T13:30:55.789Z"
   },
   {
    "duration": 207,
    "start_time": "2023-06-05T13:30:56.965Z"
   },
   {
    "duration": 8392,
    "start_time": "2023-06-05T13:30:57.180Z"
   },
   {
    "duration": 55,
    "start_time": "2023-06-05T13:31:05.574Z"
   },
   {
    "duration": 34,
    "start_time": "2023-06-05T13:31:05.630Z"
   },
   {
    "duration": 45,
    "start_time": "2023-06-05T13:31:05.666Z"
   },
   {
    "duration": 367,
    "start_time": "2023-06-05T13:31:05.713Z"
   },
   {
    "duration": 7,
    "start_time": "2023-06-05T13:31:06.081Z"
   },
   {
    "duration": 5,
    "start_time": "2023-06-05T13:31:09.966Z"
   },
   {
    "duration": 41,
    "start_time": "2023-06-05T13:31:14.382Z"
   },
   {
    "duration": 41,
    "start_time": "2023-06-05T13:31:18.070Z"
   }
  ],
  "kernelspec": {
   "display_name": "Python 3 (ipykernel)",
   "language": "python",
   "name": "python3"
  },
  "language_info": {
   "codemirror_mode": {
    "name": "ipython",
    "version": 3
   },
   "file_extension": ".py",
   "mimetype": "text/x-python",
   "name": "python",
   "nbconvert_exporter": "python",
   "pygments_lexer": "ipython3",
   "version": "3.9.5"
  },
  "toc": {
   "base_numbering": 1,
   "nav_menu": {},
   "number_sections": true,
   "sideBar": true,
   "skip_h1_title": true,
   "title_cell": "Table of Contents",
   "title_sidebar": "Contents",
   "toc_cell": false,
   "toc_position": {},
   "toc_section_display": true,
   "toc_window_display": false
  },
  "vscode": {
   "interpreter": {
    "hash": "cdde7e6ff3ed2495ad9e4abcf8ebd3c451414e017a006463f103df9a332ac860"
   }
  }
 },
 "nbformat": 4,
 "nbformat_minor": 2
}
