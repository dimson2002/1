{
 "cells": [
  {
   "cell_type": "markdown",
   "metadata": {},
   "source": [
    "# Выбор локации для скважины"
   ]
  },
  {
   "cell_type": "markdown",
   "metadata": {},
   "source": [
    "Допустим, вы работаете в добывающей компании «ГлавРосГосНефть». Нужно решить, где бурить новую скважину.\n",
    "\n",
    "Вам предоставлены пробы нефти в трёх регионах: в каждом 10 000 месторождений, где измерили качество нефти и объём её запасов. Постройте модель машинного обучения, которая поможет определить регион, где добыча принесёт наибольшую прибыль. Проанализируйте возможную прибыль и риски техникой *Bootstrap.*\n",
    "\n",
    "Шаги для выбора локации:\n",
    "\n",
    "- В избранном регионе ищут месторождения, для каждого определяют значения признаков;\n",
    "- Строят модель и оценивают объём запасов;\n",
    "- Выбирают месторождения с самым высокими оценками значений. Количество месторождений зависит от бюджета компании и стоимости разработки одной скважины;\n",
    "- Прибыль равна суммарной прибыли отобранных месторождений."
   ]
  },
  {
   "cell_type": "markdown",
   "metadata": {},
   "source": [
    "## Загрузка и подготовка данных"
   ]
  },
  {
   "cell_type": "code",
   "execution_count": 1,
   "metadata": {},
   "outputs": [],
   "source": [
    "import pandas as pd\n",
    "from sklearn.model_selection import train_test_split\n",
    "import matplotlib.pyplot as plt \n",
    "from sklearn.preprocessing import StandardScaler \n",
    "from sklearn.linear_model import LinearRegression\n",
    "from sklearn.metrics import mean_squared_error\n",
    "from numpy.random import RandomState\n",
    "from IPython.core.display import display, HTML\n",
    "import scipy.stats as st"
   ]
  },
  {
   "cell_type": "code",
   "execution_count": 2,
   "metadata": {},
   "outputs": [
    {
     "data": {
      "text/html": [
       "<style>.container { width:90% !important; }</style>"
      ],
      "text/plain": [
       "<IPython.core.display.HTML object>"
      ]
     },
     "metadata": {},
     "output_type": "display_data"
    }
   ],
   "source": [
    "display(HTML(\"<style>.container { width:90% !important; }</style>\"))"
   ]
  },
  {
   "cell_type": "code",
   "execution_count": 3,
   "metadata": {},
   "outputs": [],
   "source": [
    "data_0 = pd.read_csv('/datasets/geo_data_0.csv')\n",
    "data_1 = pd.read_csv('/datasets/geo_data_1.csv')\n",
    "data_2 = pd.read_csv('/datasets/geo_data_2.csv')"
   ]
  },
  {
   "cell_type": "code",
   "execution_count": 4,
   "metadata": {},
   "outputs": [
    {
     "data": {
      "text/html": [
       "<div>\n",
       "<style scoped>\n",
       "    .dataframe tbody tr th:only-of-type {\n",
       "        vertical-align: middle;\n",
       "    }\n",
       "\n",
       "    .dataframe tbody tr th {\n",
       "        vertical-align: top;\n",
       "    }\n",
       "\n",
       "    .dataframe thead th {\n",
       "        text-align: right;\n",
       "    }\n",
       "</style>\n",
       "<table border=\"1\" class=\"dataframe\">\n",
       "  <thead>\n",
       "    <tr style=\"text-align: right;\">\n",
       "      <th></th>\n",
       "      <th>id</th>\n",
       "      <th>f0</th>\n",
       "      <th>f1</th>\n",
       "      <th>f2</th>\n",
       "      <th>product</th>\n",
       "    </tr>\n",
       "  </thead>\n",
       "  <tbody>\n",
       "    <tr>\n",
       "      <th>0</th>\n",
       "      <td>txEyH</td>\n",
       "      <td>0.705745</td>\n",
       "      <td>-0.497823</td>\n",
       "      <td>1.221170</td>\n",
       "      <td>105.280062</td>\n",
       "    </tr>\n",
       "    <tr>\n",
       "      <th>1</th>\n",
       "      <td>2acmU</td>\n",
       "      <td>1.334711</td>\n",
       "      <td>-0.340164</td>\n",
       "      <td>4.365080</td>\n",
       "      <td>73.037750</td>\n",
       "    </tr>\n",
       "    <tr>\n",
       "      <th>2</th>\n",
       "      <td>409Wp</td>\n",
       "      <td>1.022732</td>\n",
       "      <td>0.151990</td>\n",
       "      <td>1.419926</td>\n",
       "      <td>85.265647</td>\n",
       "    </tr>\n",
       "    <tr>\n",
       "      <th>3</th>\n",
       "      <td>iJLyR</td>\n",
       "      <td>-0.032172</td>\n",
       "      <td>0.139033</td>\n",
       "      <td>2.978566</td>\n",
       "      <td>168.620776</td>\n",
       "    </tr>\n",
       "    <tr>\n",
       "      <th>4</th>\n",
       "      <td>Xdl7t</td>\n",
       "      <td>1.988431</td>\n",
       "      <td>0.155413</td>\n",
       "      <td>4.751769</td>\n",
       "      <td>154.036647</td>\n",
       "    </tr>\n",
       "  </tbody>\n",
       "</table>\n",
       "</div>"
      ],
      "text/plain": [
       "      id        f0        f1        f2     product\n",
       "0  txEyH  0.705745 -0.497823  1.221170  105.280062\n",
       "1  2acmU  1.334711 -0.340164  4.365080   73.037750\n",
       "2  409Wp  1.022732  0.151990  1.419926   85.265647\n",
       "3  iJLyR -0.032172  0.139033  2.978566  168.620776\n",
       "4  Xdl7t  1.988431  0.155413  4.751769  154.036647"
      ]
     },
     "metadata": {},
     "output_type": "display_data"
    },
    {
     "name": "stdout",
     "output_type": "stream",
     "text": [
      "----------------------------------------------\n"
     ]
    },
    {
     "data": {
      "text/html": [
       "<div>\n",
       "<style scoped>\n",
       "    .dataframe tbody tr th:only-of-type {\n",
       "        vertical-align: middle;\n",
       "    }\n",
       "\n",
       "    .dataframe tbody tr th {\n",
       "        vertical-align: top;\n",
       "    }\n",
       "\n",
       "    .dataframe thead th {\n",
       "        text-align: right;\n",
       "    }\n",
       "</style>\n",
       "<table border=\"1\" class=\"dataframe\">\n",
       "  <thead>\n",
       "    <tr style=\"text-align: right;\">\n",
       "      <th></th>\n",
       "      <th>id</th>\n",
       "      <th>f0</th>\n",
       "      <th>f1</th>\n",
       "      <th>f2</th>\n",
       "      <th>product</th>\n",
       "    </tr>\n",
       "  </thead>\n",
       "  <tbody>\n",
       "    <tr>\n",
       "      <th>0</th>\n",
       "      <td>kBEdx</td>\n",
       "      <td>-15.001348</td>\n",
       "      <td>-8.276000</td>\n",
       "      <td>-0.005876</td>\n",
       "      <td>3.179103</td>\n",
       "    </tr>\n",
       "    <tr>\n",
       "      <th>1</th>\n",
       "      <td>62mP7</td>\n",
       "      <td>14.272088</td>\n",
       "      <td>-3.475083</td>\n",
       "      <td>0.999183</td>\n",
       "      <td>26.953261</td>\n",
       "    </tr>\n",
       "    <tr>\n",
       "      <th>2</th>\n",
       "      <td>vyE1P</td>\n",
       "      <td>6.263187</td>\n",
       "      <td>-5.948386</td>\n",
       "      <td>5.001160</td>\n",
       "      <td>134.766305</td>\n",
       "    </tr>\n",
       "    <tr>\n",
       "      <th>3</th>\n",
       "      <td>KcrkZ</td>\n",
       "      <td>-13.081196</td>\n",
       "      <td>-11.506057</td>\n",
       "      <td>4.999415</td>\n",
       "      <td>137.945408</td>\n",
       "    </tr>\n",
       "    <tr>\n",
       "      <th>4</th>\n",
       "      <td>AHL4O</td>\n",
       "      <td>12.702195</td>\n",
       "      <td>-8.147433</td>\n",
       "      <td>5.004363</td>\n",
       "      <td>134.766305</td>\n",
       "    </tr>\n",
       "  </tbody>\n",
       "</table>\n",
       "</div>"
      ],
      "text/plain": [
       "      id         f0         f1        f2     product\n",
       "0  kBEdx -15.001348  -8.276000 -0.005876    3.179103\n",
       "1  62mP7  14.272088  -3.475083  0.999183   26.953261\n",
       "2  vyE1P   6.263187  -5.948386  5.001160  134.766305\n",
       "3  KcrkZ -13.081196 -11.506057  4.999415  137.945408\n",
       "4  AHL4O  12.702195  -8.147433  5.004363  134.766305"
      ]
     },
     "metadata": {},
     "output_type": "display_data"
    },
    {
     "name": "stdout",
     "output_type": "stream",
     "text": [
      "----------------------------------------------\n"
     ]
    },
    {
     "data": {
      "text/html": [
       "<div>\n",
       "<style scoped>\n",
       "    .dataframe tbody tr th:only-of-type {\n",
       "        vertical-align: middle;\n",
       "    }\n",
       "\n",
       "    .dataframe tbody tr th {\n",
       "        vertical-align: top;\n",
       "    }\n",
       "\n",
       "    .dataframe thead th {\n",
       "        text-align: right;\n",
       "    }\n",
       "</style>\n",
       "<table border=\"1\" class=\"dataframe\">\n",
       "  <thead>\n",
       "    <tr style=\"text-align: right;\">\n",
       "      <th></th>\n",
       "      <th>id</th>\n",
       "      <th>f0</th>\n",
       "      <th>f1</th>\n",
       "      <th>f2</th>\n",
       "      <th>product</th>\n",
       "    </tr>\n",
       "  </thead>\n",
       "  <tbody>\n",
       "    <tr>\n",
       "      <th>0</th>\n",
       "      <td>fwXo0</td>\n",
       "      <td>-1.146987</td>\n",
       "      <td>0.963328</td>\n",
       "      <td>-0.828965</td>\n",
       "      <td>27.758673</td>\n",
       "    </tr>\n",
       "    <tr>\n",
       "      <th>1</th>\n",
       "      <td>WJtFt</td>\n",
       "      <td>0.262778</td>\n",
       "      <td>0.269839</td>\n",
       "      <td>-2.530187</td>\n",
       "      <td>56.069697</td>\n",
       "    </tr>\n",
       "    <tr>\n",
       "      <th>2</th>\n",
       "      <td>ovLUW</td>\n",
       "      <td>0.194587</td>\n",
       "      <td>0.289035</td>\n",
       "      <td>-5.586433</td>\n",
       "      <td>62.871910</td>\n",
       "    </tr>\n",
       "    <tr>\n",
       "      <th>3</th>\n",
       "      <td>q6cA6</td>\n",
       "      <td>2.236060</td>\n",
       "      <td>-0.553760</td>\n",
       "      <td>0.930038</td>\n",
       "      <td>114.572842</td>\n",
       "    </tr>\n",
       "    <tr>\n",
       "      <th>4</th>\n",
       "      <td>WPMUX</td>\n",
       "      <td>-0.515993</td>\n",
       "      <td>1.716266</td>\n",
       "      <td>5.899011</td>\n",
       "      <td>149.600746</td>\n",
       "    </tr>\n",
       "  </tbody>\n",
       "</table>\n",
       "</div>"
      ],
      "text/plain": [
       "      id        f0        f1        f2     product\n",
       "0  fwXo0 -1.146987  0.963328 -0.828965   27.758673\n",
       "1  WJtFt  0.262778  0.269839 -2.530187   56.069697\n",
       "2  ovLUW  0.194587  0.289035 -5.586433   62.871910\n",
       "3  q6cA6  2.236060 -0.553760  0.930038  114.572842\n",
       "4  WPMUX -0.515993  1.716266  5.899011  149.600746"
      ]
     },
     "metadata": {},
     "output_type": "display_data"
    },
    {
     "name": "stdout",
     "output_type": "stream",
     "text": [
      "----------------------------------------------\n"
     ]
    }
   ],
   "source": [
    "data = [data_0, data_1, data_2]\n",
    "def head(data):\n",
    "    display(data.head(5))\n",
    "for col in data:\n",
    "    head(col)\n",
    "    print(\"--\" * 23)"
   ]
  },
  {
   "cell_type": "code",
   "execution_count": 5,
   "metadata": {},
   "outputs": [
    {
     "name": "stdout",
     "output_type": "stream",
     "text": [
      "\n",
      "--------------------------------------------------\n",
      "<class 'pandas.core.frame.DataFrame'>\n",
      "RangeIndex: 100000 entries, 0 to 99999\n",
      "Data columns (total 5 columns):\n",
      " #   Column   Non-Null Count   Dtype  \n",
      "---  ------   --------------   -----  \n",
      " 0   id       100000 non-null  object \n",
      " 1   f0       100000 non-null  float64\n",
      " 2   f1       100000 non-null  float64\n",
      " 3   f2       100000 non-null  float64\n",
      " 4   product  100000 non-null  float64\n",
      "dtypes: float64(4), object(1)\n",
      "memory usage: 3.8+ MB\n",
      "None\n",
      "\n",
      "--------------------------------------------------\n",
      "<class 'pandas.core.frame.DataFrame'>\n",
      "RangeIndex: 100000 entries, 0 to 99999\n",
      "Data columns (total 5 columns):\n",
      " #   Column   Non-Null Count   Dtype  \n",
      "---  ------   --------------   -----  \n",
      " 0   id       100000 non-null  object \n",
      " 1   f0       100000 non-null  float64\n",
      " 2   f1       100000 non-null  float64\n",
      " 3   f2       100000 non-null  float64\n",
      " 4   product  100000 non-null  float64\n",
      "dtypes: float64(4), object(1)\n",
      "memory usage: 3.8+ MB\n",
      "None\n",
      "\n",
      "--------------------------------------------------\n",
      "<class 'pandas.core.frame.DataFrame'>\n",
      "RangeIndex: 100000 entries, 0 to 99999\n",
      "Data columns (total 5 columns):\n",
      " #   Column   Non-Null Count   Dtype  \n",
      "---  ------   --------------   -----  \n",
      " 0   id       100000 non-null  object \n",
      " 1   f0       100000 non-null  float64\n",
      " 2   f1       100000 non-null  float64\n",
      " 3   f2       100000 non-null  float64\n",
      " 4   product  100000 non-null  float64\n",
      "dtypes: float64(4), object(1)\n",
      "memory usage: 3.8+ MB\n",
      "None\n"
     ]
    }
   ],
   "source": [
    "def info(data):\n",
    "    print(data.info())\n",
    "for col in data:\n",
    "    print('')\n",
    "    print('--' * 25)\n",
    "    info(col)"
   ]
  },
  {
   "cell_type": "code",
   "execution_count": 6,
   "metadata": {
    "scrolled": true
   },
   "outputs": [],
   "source": [
    "#fig, axes = plt.subplots(3, 4, figsize=(20, 15))   \n",
    "#1-ый регион\n",
    "#axes[0,0].boxplot(data_0['f0'])\n",
    "#axes[0,0].set_title('f0')\n",
    "#axes[0, 0].set_ylabel('1-ый регион')\n",
    "#axes[0,1].boxplot(data_0['f1'])\n",
    "#axes[0,1].set_title('f1')\n",
    "#axes[0,2].boxplot(data_0['f2'])\n",
    "#axes[0,2].set_title('f2')\n",
    "#axes[0,3].boxplot(data_0['product'])\n",
    "#axes[0,3].set_title('product')\n",
    "\n",
    "#2-ой регион\n",
    "#axes[1,0].boxplot(data_1['f0'])\n",
    "#axes[1,0].set_title('f0')\n",
    "#axes[1, 0].set_ylabel('2-ой регион')\n",
    "#axes[1,1].boxplot(data_1['f1'])\n",
    "#axes[1,1].set_title('f1')\n",
    "#axes[1,2].boxplot(data_1['f2'])\n",
    "#axes[1,2].set_title('f2')\n",
    "#axes[1,3].boxplot(data_1['product'])\n",
    "#axes[1,3].set_title('product')\n",
    "\n",
    "#3-ий регион\n",
    "#axes[2,0].boxplot(data_2['f0'])\n",
    "#axes[2,0].set_title('f0')\n",
    "#axes[2, 0].set_ylabel('3-ий регион')\n",
    "#axes[2,1].boxplot(data_2['f1'])\n",
    "#axes[2,1].set_title('f1')\n",
    "#axes[2,2].boxplot(data_2['f2'])\n",
    "#axes[2,2].set_title('f2')\n",
    "#axes[2,3].boxplot(data_2['product'])\n",
    "#axes[2,3].set_title('product')"
   ]
  },
  {
   "cell_type": "code",
   "execution_count": 7,
   "metadata": {},
   "outputs": [
    {
     "name": "stdout",
     "output_type": "stream",
     "text": [
      "0\n",
      "0\n",
      "0\n"
     ]
    }
   ],
   "source": [
    "def dupl(data):\n",
    "    print(data.duplicated().sum())\n",
    "for col in data:\n",
    "    dupl(col)"
   ]
  },
  {
   "cell_type": "code",
   "execution_count": 8,
   "metadata": {
    "scrolled": false
   },
   "outputs": [
    {
     "name": "stdout",
     "output_type": "stream",
     "text": [
      "--------------------\n",
      "AGS9W    2\n",
      "bxg6G    2\n",
      "TtcGQ    2\n",
      "bsk9y    2\n",
      "A5aEY    2\n",
      "Name: id, dtype: int64\n",
      "--------------------\n",
      "wt4Uk    2\n",
      "5ltQ6    2\n",
      "bfPNe    2\n",
      "LHZR0    2\n",
      "BldTk    1\n",
      "Name: id, dtype: int64\n",
      "--------------------\n",
      "KUPhW    2\n",
      "xCHr8    2\n",
      "VF7Jo    2\n",
      "Vcm5J    2\n",
      "LEHqV    1\n",
      "Name: id, dtype: int64\n"
     ]
    }
   ],
   "source": [
    "def dupl_id(data):\n",
    "    print(data['id'].value_counts().head(5))\n",
    "for col in data:\n",
    "    print('--' *10)\n",
    "    dupl_id(col)"
   ]
  },
  {
   "cell_type": "code",
   "execution_count": 9,
   "metadata": {},
   "outputs": [
    {
     "data": {
      "text/html": [
       "<div>\n",
       "<style scoped>\n",
       "    .dataframe tbody tr th:only-of-type {\n",
       "        vertical-align: middle;\n",
       "    }\n",
       "\n",
       "    .dataframe tbody tr th {\n",
       "        vertical-align: top;\n",
       "    }\n",
       "\n",
       "    .dataframe thead th {\n",
       "        text-align: right;\n",
       "    }\n",
       "</style>\n",
       "<table border=\"1\" class=\"dataframe\">\n",
       "  <thead>\n",
       "    <tr style=\"text-align: right;\">\n",
       "      <th></th>\n",
       "      <th>id</th>\n",
       "      <th>f0</th>\n",
       "      <th>f1</th>\n",
       "      <th>f2</th>\n",
       "      <th>product</th>\n",
       "    </tr>\n",
       "  </thead>\n",
       "  <tbody>\n",
       "    <tr>\n",
       "      <th>1364</th>\n",
       "      <td>bxg6G</td>\n",
       "      <td>0.411645</td>\n",
       "      <td>0.856830</td>\n",
       "      <td>-3.653440</td>\n",
       "      <td>73.604260</td>\n",
       "    </tr>\n",
       "    <tr>\n",
       "      <th>41724</th>\n",
       "      <td>bxg6G</td>\n",
       "      <td>-0.823752</td>\n",
       "      <td>0.546319</td>\n",
       "      <td>3.630479</td>\n",
       "      <td>93.007798</td>\n",
       "    </tr>\n",
       "  </tbody>\n",
       "</table>\n",
       "</div>"
      ],
      "text/plain": [
       "          id        f0        f1        f2    product\n",
       "1364   bxg6G  0.411645  0.856830 -3.653440  73.604260\n",
       "41724  bxg6G -0.823752  0.546319  3.630479  93.007798"
      ]
     },
     "execution_count": 9,
     "metadata": {},
     "output_type": "execute_result"
    }
   ],
   "source": [
    "data_0[data_0['id'] == 'bxg6G']"
   ]
  },
  {
   "cell_type": "markdown",
   "metadata": {},
   "source": [
    "С данными все впордяке."
   ]
  },
  {
   "cell_type": "code",
   "execution_count": 10,
   "metadata": {},
   "outputs": [
    {
     "data": {
      "text/html": [
       "<div>\n",
       "<style scoped>\n",
       "    .dataframe tbody tr th:only-of-type {\n",
       "        vertical-align: middle;\n",
       "    }\n",
       "\n",
       "    .dataframe tbody tr th {\n",
       "        vertical-align: top;\n",
       "    }\n",
       "\n",
       "    .dataframe thead th {\n",
       "        text-align: right;\n",
       "    }\n",
       "</style>\n",
       "<table border=\"1\" class=\"dataframe\">\n",
       "  <thead>\n",
       "    <tr style=\"text-align: right;\">\n",
       "      <th></th>\n",
       "      <th>f0</th>\n",
       "      <th>f1</th>\n",
       "      <th>f2</th>\n",
       "      <th>product</th>\n",
       "    </tr>\n",
       "  </thead>\n",
       "  <tbody>\n",
       "    <tr>\n",
       "      <th>f0</th>\n",
       "      <td>1.000000</td>\n",
       "      <td>-0.440723</td>\n",
       "      <td>-0.003153</td>\n",
       "      <td>0.143536</td>\n",
       "    </tr>\n",
       "    <tr>\n",
       "      <th>f1</th>\n",
       "      <td>-0.440723</td>\n",
       "      <td>1.000000</td>\n",
       "      <td>0.001724</td>\n",
       "      <td>-0.192356</td>\n",
       "    </tr>\n",
       "    <tr>\n",
       "      <th>f2</th>\n",
       "      <td>-0.003153</td>\n",
       "      <td>0.001724</td>\n",
       "      <td>1.000000</td>\n",
       "      <td>0.483663</td>\n",
       "    </tr>\n",
       "    <tr>\n",
       "      <th>product</th>\n",
       "      <td>0.143536</td>\n",
       "      <td>-0.192356</td>\n",
       "      <td>0.483663</td>\n",
       "      <td>1.000000</td>\n",
       "    </tr>\n",
       "  </tbody>\n",
       "</table>\n",
       "</div>"
      ],
      "text/plain": [
       "               f0        f1        f2   product\n",
       "f0       1.000000 -0.440723 -0.003153  0.143536\n",
       "f1      -0.440723  1.000000  0.001724 -0.192356\n",
       "f2      -0.003153  0.001724  1.000000  0.483663\n",
       "product  0.143536 -0.192356  0.483663  1.000000"
      ]
     },
     "metadata": {},
     "output_type": "display_data"
    },
    {
     "name": "stdout",
     "output_type": "stream",
     "text": [
      "------------------------------------------\n"
     ]
    },
    {
     "data": {
      "text/html": [
       "<div>\n",
       "<style scoped>\n",
       "    .dataframe tbody tr th:only-of-type {\n",
       "        vertical-align: middle;\n",
       "    }\n",
       "\n",
       "    .dataframe tbody tr th {\n",
       "        vertical-align: top;\n",
       "    }\n",
       "\n",
       "    .dataframe thead th {\n",
       "        text-align: right;\n",
       "    }\n",
       "</style>\n",
       "<table border=\"1\" class=\"dataframe\">\n",
       "  <thead>\n",
       "    <tr style=\"text-align: right;\">\n",
       "      <th></th>\n",
       "      <th>f0</th>\n",
       "      <th>f1</th>\n",
       "      <th>f2</th>\n",
       "      <th>product</th>\n",
       "    </tr>\n",
       "  </thead>\n",
       "  <tbody>\n",
       "    <tr>\n",
       "      <th>f0</th>\n",
       "      <td>1.000000</td>\n",
       "      <td>0.182287</td>\n",
       "      <td>-0.001777</td>\n",
       "      <td>-0.030491</td>\n",
       "    </tr>\n",
       "    <tr>\n",
       "      <th>f1</th>\n",
       "      <td>0.182287</td>\n",
       "      <td>1.000000</td>\n",
       "      <td>-0.002595</td>\n",
       "      <td>-0.010155</td>\n",
       "    </tr>\n",
       "    <tr>\n",
       "      <th>f2</th>\n",
       "      <td>-0.001777</td>\n",
       "      <td>-0.002595</td>\n",
       "      <td>1.000000</td>\n",
       "      <td>0.999397</td>\n",
       "    </tr>\n",
       "    <tr>\n",
       "      <th>product</th>\n",
       "      <td>-0.030491</td>\n",
       "      <td>-0.010155</td>\n",
       "      <td>0.999397</td>\n",
       "      <td>1.000000</td>\n",
       "    </tr>\n",
       "  </tbody>\n",
       "</table>\n",
       "</div>"
      ],
      "text/plain": [
       "               f0        f1        f2   product\n",
       "f0       1.000000  0.182287 -0.001777 -0.030491\n",
       "f1       0.182287  1.000000 -0.002595 -0.010155\n",
       "f2      -0.001777 -0.002595  1.000000  0.999397\n",
       "product -0.030491 -0.010155  0.999397  1.000000"
      ]
     },
     "metadata": {},
     "output_type": "display_data"
    },
    {
     "name": "stdout",
     "output_type": "stream",
     "text": [
      "------------------------------------------\n"
     ]
    },
    {
     "data": {
      "text/html": [
       "<div>\n",
       "<style scoped>\n",
       "    .dataframe tbody tr th:only-of-type {\n",
       "        vertical-align: middle;\n",
       "    }\n",
       "\n",
       "    .dataframe tbody tr th {\n",
       "        vertical-align: top;\n",
       "    }\n",
       "\n",
       "    .dataframe thead th {\n",
       "        text-align: right;\n",
       "    }\n",
       "</style>\n",
       "<table border=\"1\" class=\"dataframe\">\n",
       "  <thead>\n",
       "    <tr style=\"text-align: right;\">\n",
       "      <th></th>\n",
       "      <th>f0</th>\n",
       "      <th>f1</th>\n",
       "      <th>f2</th>\n",
       "      <th>product</th>\n",
       "    </tr>\n",
       "  </thead>\n",
       "  <tbody>\n",
       "    <tr>\n",
       "      <th>f0</th>\n",
       "      <td>1.000000</td>\n",
       "      <td>0.000528</td>\n",
       "      <td>-0.000448</td>\n",
       "      <td>-0.001987</td>\n",
       "    </tr>\n",
       "    <tr>\n",
       "      <th>f1</th>\n",
       "      <td>0.000528</td>\n",
       "      <td>1.000000</td>\n",
       "      <td>0.000779</td>\n",
       "      <td>-0.001012</td>\n",
       "    </tr>\n",
       "    <tr>\n",
       "      <th>f2</th>\n",
       "      <td>-0.000448</td>\n",
       "      <td>0.000779</td>\n",
       "      <td>1.000000</td>\n",
       "      <td>0.445871</td>\n",
       "    </tr>\n",
       "    <tr>\n",
       "      <th>product</th>\n",
       "      <td>-0.001987</td>\n",
       "      <td>-0.001012</td>\n",
       "      <td>0.445871</td>\n",
       "      <td>1.000000</td>\n",
       "    </tr>\n",
       "  </tbody>\n",
       "</table>\n",
       "</div>"
      ],
      "text/plain": [
       "               f0        f1        f2   product\n",
       "f0       1.000000  0.000528 -0.000448 -0.001987\n",
       "f1       0.000528  1.000000  0.000779 -0.001012\n",
       "f2      -0.000448  0.000779  1.000000  0.445871\n",
       "product -0.001987 -0.001012  0.445871  1.000000"
      ]
     },
     "metadata": {},
     "output_type": "display_data"
    },
    {
     "name": "stdout",
     "output_type": "stream",
     "text": [
      "------------------------------------------\n"
     ]
    }
   ],
   "source": [
    "def corr(data):\n",
    "    display(data.corr())\n",
    "for col in data:\n",
    "    corr(col)\n",
    "    print('--' * 21)"
   ]
  },
  {
   "cell_type": "code",
   "execution_count": 11,
   "metadata": {},
   "outputs": [
    {
     "data": {
      "image/png": "[encoded data removed]",
      "text/plain": [
       "<Figure size 432x288 with 1 Axes>"
      ]
     },
     "metadata": {
      "needs_background": "light"
     },
     "output_type": "display_data"
    },
    {
     "data": {
      "image/png": "[encoded data removed]",
      "text/plain": [
       "<Figure size 432x288 with 1 Axes>"
      ]
     },
     "metadata": {
      "needs_background": "light"
     },
     "output_type": "display_data"
    },
    {
     "data": {
      "image/png": "[encoded data removed]",
      "text/plain": [
       "<Figure size 432x288 with 1 Axes>"
      ]
     },
     "metadata": {
      "needs_background": "light"
     },
     "output_type": "display_data"
    },
    {
     "name": "stdout",
     "output_type": "stream",
     "text": [
      "--------------------------------------------------\n"
     ]
    },
    {
     "data": {
      "image/png": "[encoded data removed]",
      "text/plain": [
       "<Figure size 432x288 with 1 Axes>"
      ]
     },
     "metadata": {
      "needs_background": "light"
     },
     "output_type": "display_data"
    },
    {
     "data": {
      "image/png": "[encoded data removed]",
      "text/plain": [
       "<Figure size 432x288 with 1 Axes>"
      ]
     },
     "metadata": {
      "needs_background": "light"
     },
     "output_type": "display_data"
    },
    {
     "data": {
      "image/png": "[encoded data removed]",
      "text/plain": [
       "<Figure size 432x288 with 1 Axes>"
      ]
     },
     "metadata": {
      "needs_background": "light"
     },
     "output_type": "display_data"
    },
    {
     "name": "stdout",
     "output_type": "stream",
     "text": [
      "--------------------------------------------------\n"
     ]
    },
    {
     "data": {
      "image/png": "[encoded data removed]",
      "text/plain": [
       "<Figure size 432x288 with 1 Axes>"
      ]
     },
     "metadata": {
      "needs_background": "light"
     },
     "output_type": "display_data"
    },
    {
     "data": {
      "image/png": "[encoded data removed]",
      "text/plain": [
       "<Figure size 432x288 with 1 Axes>"
      ]
     },
     "metadata": {
      "needs_background": "light"
     },
     "output_type": "display_data"
    },
    {
     "data": {
      "image/png": "[encoded data removed]",
      "text/plain": [
       "<Figure size 432x288 with 1 Axes>"
      ]
     },
     "metadata": {
      "needs_background": "light"
     },
     "output_type": "display_data"
    },
    {
     "name": "stdout",
     "output_type": "stream",
     "text": [
      "--------------------------------------------------\n"
     ]
    }
   ],
   "source": [
    "def scatter(data):\n",
    "    for col in ['f0', 'f1', 'f2']:\n",
    "        plt.scatter(data[col], data['product'])\n",
    "        plt.xlabel(col)\n",
    "        plt.ylabel('product')\n",
    "        plt.show()\n",
    "for x in data:\n",
    "    scatter(x)\n",
    "    print('--' * 25)"
   ]
  },
  {
   "cell_type": "markdown",
   "metadata": {},
   "source": [
    "## Обучение и проверка модели"
   ]
  },
  {
   "cell_type": "markdown",
   "metadata": {},
   "source": [
    "### Модель для 1-ого региона"
   ]
  },
  {
   "cell_type": "code",
   "execution_count": 12,
   "metadata": {},
   "outputs": [],
   "source": [
    "features = data_0.drop(['id', 'product'], axis=1)\n",
    "target = data_0['product']\n",
    "\n",
    "#scaler = StandardScaler()\n",
    "#scaler.fit(features)\n",
    "#features = scaler.transform(features)\n",
    "\n",
    "state = RandomState(12345)\n",
    "features_train, features_valid, target_train, target_valid0 = train_test_split(\n",
    "    features, target, test_size=0.25, random_state=state)"
   ]
  },
  {
   "cell_type": "code",
   "execution_count": 13,
   "metadata": {},
   "outputs": [
    {
     "name": "stdout",
     "output_type": "stream",
     "text": [
      "Для 1-ого региона RMSE равно: 37.5794217150813, а средний запас предсказанного сырья равен: 92.59256778438035\n"
     ]
    }
   ],
   "source": [
    "model = LinearRegression()\n",
    "model.fit(features_train, target_train)\n",
    "pred0 = model.predict(features_valid)\n",
    "rmse = mean_squared_error(target_valid0, pred0)**0.5\n",
    "print(f'Для 1-ого региона RMSE равно: {rmse}, а средний запас предсказанного сырья равен: {pred0.mean()}')"
   ]
  },
  {
   "cell_type": "markdown",
   "metadata": {},
   "source": [
    "### Модель для 2-ого региона"
   ]
  },
  {
   "cell_type": "code",
   "execution_count": 14,
   "metadata": {},
   "outputs": [],
   "source": [
    "features = data_1.drop(['id','product'], axis=1)\n",
    "target = data_1['product']\n",
    "\n",
    "features_train, features_valid, target_train, target_valid1 = train_test_split(\n",
    "    features, target, test_size=0.25, random_state=state)"
   ]
  },
  {
   "cell_type": "code",
   "execution_count": 15,
   "metadata": {},
   "outputs": [
    {
     "name": "stdout",
     "output_type": "stream",
     "text": [
      "Для 2-ого региона RMSE равно: 0.889736773768065, а средний запас предсказанного сырья равен: 68.76995145799754\n"
     ]
    }
   ],
   "source": [
    "model = LinearRegression()\n",
    "model.fit(features_train, target_train)\n",
    "pred1 = model.predict(features_valid)\n",
    "rmse = mean_squared_error(target_valid1, pred1)**0.5\n",
    "print(f'Для 2-ого региона RMSE равно: {rmse}, а средний запас предсказанного сырья равен: {pred1.mean()}')"
   ]
  },
  {
   "cell_type": "markdown",
   "metadata": {},
   "source": [
    "### Модель для 3-eго региона"
   ]
  },
  {
   "cell_type": "code",
   "execution_count": 16,
   "metadata": {},
   "outputs": [],
   "source": [
    "features = data_2.drop(['id', 'product'], axis=1)\n",
    "target = data_2['product']\n",
    "\n",
    "features_train, features_valid, target_train, target_valid2 = train_test_split(\n",
    "    features, target, test_size=0.25, random_state=state)"
   ]
  },
  {
   "cell_type": "code",
   "execution_count": 17,
   "metadata": {
    "scrolled": false
   },
   "outputs": [
    {
     "name": "stdout",
     "output_type": "stream",
     "text": [
      "Для 3-его региона RMSE равно: 39.958042459521614, а средний запас предсказанного сырья равен: 95.087528122523\n"
     ]
    }
   ],
   "source": [
    "model = LinearRegression()\n",
    "model.fit(features_train, target_train)\n",
    "pred2 = model.predict(features_valid)\n",
    "rmse = mean_squared_error(target_valid2, pred2)**0.5\n",
    "print(f'Для 3-его региона RMSE равно: {rmse}, а средний запас предсказанного сырья равен: {pred2.mean()}')"
   ]
  },
  {
   "cell_type": "markdown",
   "metadata": {},
   "source": [
    "Вывод: самая маленькая ошибка у 1-ого региона, по среднему запасу сырья он на 2-ом месте. Самый большой средний запас предсказанного сырья у 3-его региона, и ошибка у него 2-ая по рамзеру. У 2-ого региона самый маленький предсказанный средний запас, и по величине средней ошибки он он самый большой."
   ]
  },
  {
   "cell_type": "markdown",
   "metadata": {},
   "source": [
    "## Подготовка к расчёту прибыли"
   ]
  },
  {
   "cell_type": "code",
   "execution_count": 18,
   "metadata": {},
   "outputs": [
    {
     "name": "stdout",
     "output_type": "stream",
     "text": [
      "Объем добычи для безубыточности равен: 111.11\n"
     ]
    }
   ],
   "source": [
    "EXPLORE_POINTS = 500\n",
    "MAX_POINTS = 200\n",
    "BUDGET = 10**10\n",
    "INCOME = 450000\n",
    "PROB_RISK = 0.025\n",
    "BREAK_EVEN_POINT = (BUDGET / INCOME) / MAX_POINTS\n",
    "print(f'Объем добычи для безубыточности равен: {round(BREAK_EVEN_POINT, 2)}')"
   ]
  },
  {
   "cell_type": "markdown",
   "metadata": {},
   "source": [
    "Вывод: точка безубыточности больше, чем средние занчения в регионах, поэтому нам нужна модель, которая с высокой точностью будет предсказывать объемы скважин."
   ]
  },
  {
   "cell_type": "markdown",
   "metadata": {},
   "source": [
    "## Расчёт прибыли и рисков "
   ]
  },
  {
   "cell_type": "code",
   "execution_count": 19,
   "metadata": {},
   "outputs": [],
   "source": [
    "pred0 = pd.Series(pred0, index=target_valid0.index)\n",
    "pred1 = pd.Series(pred1, index=target_valid1.index)\n",
    "pred2 = pd.Series(pred2, index=target_valid2.index)"
   ]
  },
  {
   "cell_type": "code",
   "execution_count": 20,
   "metadata": {
    "scrolled": true
   },
   "outputs": [
    {
     "name": "stdout",
     "output_type": "stream",
     "text": [
      "В 1-ом регионе прибыль с 200 лучших скважин равна: 3320826043.14\n",
      "Во 2-ом регионе прибыль с 200 лучших скважин равна: 2415086696.68\n",
      "В 3-ом регионе прибыль с 200 лучших скважин равна: 2539915945.84\n"
     ]
    }
   ],
   "source": [
    "def income_func(pred, target):\n",
    "    probs_sort = pred.sort_values(ascending=False)\n",
    "    selected = target[probs_sort.index][:MAX_POINTS]\n",
    "    sum_true = selected.sum()\n",
    "    return round((sum_true*INCOME) - BUDGET, 2)\n",
    "print(f'В 1-ом регионе прибыль с 200 лучших скважин равна: {income_func(pred0, target_valid0)}')\n",
    "print(f'Во 2-ом регионе прибыль с 200 лучших скважин равна: {income_func(pred1, target_valid1)}')\n",
    "print(f'В 3-ом регионе прибыль с 200 лучших скважин равна: {income_func(pred2, target_valid2)}')"
   ]
  },
  {
   "cell_type": "code",
   "execution_count": 21,
   "metadata": {},
   "outputs": [],
   "source": [
    "def confidence_interval(pred, target):\n",
    "    samples = []\n",
    "    for i in range(1000):\n",
    "        target_sample = target.sample(n = EXPLORE_POINTS, replace=True, random_state=state)\n",
    "        pred_sample = pred[target_sample.index]\n",
    "        samples.append(income_func(pred_sample, target_sample))\n",
    "    samples = pd.Series(samples)\n",
    "    print(f'Среднаяя прибыль равна: {samples.mean()}')\n",
    "    print(f'Риск равен: {round(st.percentileofscore(samples, 0), 2)}%')\n",
    "    \n",
    "    lower = samples.quantile(0.025)\n",
    "    upper = samples.quantile(0.975)\n",
    "    return round(lower,2), round(upper,2)"
   ]
  },
  {
   "cell_type": "code",
   "execution_count": 22,
   "metadata": {
    "scrolled": true
   },
   "outputs": [
    {
     "name": "stdout",
     "output_type": "stream",
     "text": [
      "Среднаяя прибыль равна: 423897237.91688\n",
      "Риск равен: 4.8%\n",
      "95% доверительный итервал для первого региона лежит между: (-76187813.89, 957846531.96)\n",
      "----------------------------------------------------------------------------------------------------\n",
      "Среднаяя прибыль равна: 513256698.91735\n",
      "Риск равен: 0.6%\n",
      "95% доверительный итервал для для второго региона лежит между: (108066895.23, 928574439.24)\n",
      "----------------------------------------------------------------------------------------------------\n",
      "Среднаяя прибыль равна: 381120359.5758101\n",
      "Риск равен: 7.4%\n",
      "95% доверительный итервал для третьего региона лежит между: (-142800630.09, 893380565.75)\n"
     ]
    }
   ],
   "source": [
    "print(\"95% доверительный итервал для первого региона лежит между:\",\n",
    "      confidence_interval(pred0, target_valid0))\n",
    "print('--' * 50)\n",
    "print(\"95% доверительный итервал для для второго региона лежит между:\",\n",
    "      confidence_interval(pred1, target_valid1))\n",
    "print('--' * 50)\n",
    "print(\"95% доверительный итервал для третьего региона лежит между:\",\n",
    "      confidence_interval(pred2, target_valid2))"
   ]
  },
  {
   "cell_type": "markdown",
   "metadata": {},
   "source": [
    "*Общий вывод: Максимальную прибыль принесут скважины во 2-ом регионе, плюс там самый минимальный риск. Во 3-ем регионе не рекомендуется добывать нефть, так как наибольший риск и наименьшая прибыль. В 1-ом регионе тоже можно добывать, однако там выше риск и меньше прибыль, чем во 2-ом.*"
   ]
  }
 ],
 "metadata": {
  "ExecuteTimeLog": [
   {
    "duration": 47,
    "start_time": "2023-04-13T07:24:27.400Z"
   },
   {
    "duration": 369,
    "start_time": "2023-04-13T07:24:29.951Z"
   },
   {
    "duration": 1070,
    "start_time": "2023-04-13T07:24:30.322Z"
   },
   {
    "duration": 840,
    "start_time": "2023-04-13T07:24:38.329Z"
   },
   {
    "duration": 26,
    "start_time": "2023-04-13T07:25:45.473Z"
   },
   {
    "duration": 24,
    "start_time": "2023-04-13T07:25:53.265Z"
   },
   {
    "duration": 33,
    "start_time": "2023-04-13T07:26:04.954Z"
   },
   {
    "duration": 9,
    "start_time": "2023-04-13T07:26:41.306Z"
   },
   {
    "duration": 13,
    "start_time": "2023-04-13T07:27:24.906Z"
   },
   {
    "duration": 943,
    "start_time": "2023-04-13T07:30:26.659Z"
   },
   {
    "duration": 16,
    "start_time": "2023-04-13T07:30:36.749Z"
   },
   {
    "duration": 21,
    "start_time": "2023-04-13T07:30:50.243Z"
   },
   {
    "duration": 23,
    "start_time": "2023-04-13T07:31:00.524Z"
   },
   {
    "duration": 4,
    "start_time": "2023-04-13T07:32:54.014Z"
   },
   {
    "duration": 27,
    "start_time": "2023-04-13T07:32:57.726Z"
   },
   {
    "duration": 3,
    "start_time": "2023-04-13T07:33:03.821Z"
   },
   {
    "duration": 10,
    "start_time": "2023-04-13T07:33:11.975Z"
   },
   {
    "duration": 7,
    "start_time": "2023-04-13T07:33:12.806Z"
   },
   {
    "duration": 7,
    "start_time": "2023-04-13T07:33:22.134Z"
   },
   {
    "duration": 9,
    "start_time": "2023-04-13T07:34:36.350Z"
   },
   {
    "duration": 339,
    "start_time": "2023-04-13T07:34:40.807Z"
   },
   {
    "duration": 7,
    "start_time": "2023-04-13T07:34:43.099Z"
   },
   {
    "duration": 17,
    "start_time": "2023-04-13T07:34:48.415Z"
   },
   {
    "duration": 6,
    "start_time": "2023-04-13T07:34:57.753Z"
   },
   {
    "duration": 7,
    "start_time": "2023-04-13T07:35:08.822Z"
   },
   {
    "duration": 6,
    "start_time": "2023-04-13T07:35:18.527Z"
   },
   {
    "duration": 3,
    "start_time": "2023-04-13T08:26:48.853Z"
   },
   {
    "duration": 401,
    "start_time": "2023-04-13T08:26:49.035Z"
   },
   {
    "duration": 9,
    "start_time": "2023-04-13T08:26:49.438Z"
   },
   {
    "duration": 22,
    "start_time": "2023-04-13T08:26:49.562Z"
   },
   {
    "duration": 17,
    "start_time": "2023-04-13T08:26:49.794Z"
   },
   {
    "duration": 13,
    "start_time": "2023-04-13T08:26:50.031Z"
   },
   {
    "duration": 17,
    "start_time": "2023-04-13T08:27:08.172Z"
   },
   {
    "duration": 8,
    "start_time": "2023-04-13T08:28:33.499Z"
   },
   {
    "duration": 457,
    "start_time": "2023-04-13T08:28:36.443Z"
   },
   {
    "duration": 10,
    "start_time": "2023-04-13T08:30:47.044Z"
   },
   {
    "duration": 9,
    "start_time": "2023-04-13T08:31:11.244Z"
   },
   {
    "duration": 8,
    "start_time": "2023-04-13T08:31:46.629Z"
   },
   {
    "duration": 10,
    "start_time": "2023-04-13T08:31:49.126Z"
   },
   {
    "duration": 173,
    "start_time": "2023-04-13T08:32:28.370Z"
   },
   {
    "duration": 450,
    "start_time": "2023-04-13T08:32:40.146Z"
   },
   {
    "duration": 2,
    "start_time": "2023-04-13T08:33:13.060Z"
   },
   {
    "duration": 4,
    "start_time": "2023-04-13T08:39:08.945Z"
   },
   {
    "duration": 13,
    "start_time": "2023-04-13T08:41:46.418Z"
   },
   {
    "duration": 22,
    "start_time": "2023-04-13T08:42:07.263Z"
   },
   {
    "duration": 61,
    "start_time": "2023-04-13T08:43:01.194Z"
   },
   {
    "duration": 115,
    "start_time": "2023-04-13T08:43:23.723Z"
   },
   {
    "duration": 526,
    "start_time": "2023-04-13T08:44:42.527Z"
   },
   {
    "duration": 9,
    "start_time": "2023-04-13T08:46:28.444Z"
   },
   {
    "duration": 8,
    "start_time": "2023-04-13T08:46:38.053Z"
   },
   {
    "duration": 1559,
    "start_time": "2023-04-13T08:46:54.861Z"
   },
   {
    "duration": 810,
    "start_time": "2023-04-13T08:47:33.965Z"
   },
   {
    "duration": 894,
    "start_time": "2023-04-13T08:47:43.907Z"
   },
   {
    "duration": 822,
    "start_time": "2023-04-13T08:47:57.468Z"
   },
   {
    "duration": 1018,
    "start_time": "2023-04-13T08:48:39.296Z"
   },
   {
    "duration": 944,
    "start_time": "2023-04-13T08:49:01.262Z"
   },
   {
    "duration": 918,
    "start_time": "2023-04-13T08:50:10.970Z"
   },
   {
    "duration": 962,
    "start_time": "2023-04-13T08:50:38.628Z"
   },
   {
    "duration": 849,
    "start_time": "2023-04-13T08:51:07.769Z"
   },
   {
    "duration": 864,
    "start_time": "2023-04-13T08:52:16.794Z"
   },
   {
    "duration": 1100,
    "start_time": "2023-04-13T08:52:34.243Z"
   },
   {
    "duration": 845,
    "start_time": "2023-04-13T08:53:29.627Z"
   },
   {
    "duration": 13,
    "start_time": "2023-04-13T08:53:53.897Z"
   },
   {
    "duration": 13,
    "start_time": "2023-04-13T08:54:00.931Z"
   },
   {
    "duration": 1024,
    "start_time": "2023-04-13T09:01:16.292Z"
   },
   {
    "duration": 1160,
    "start_time": "2023-04-13T09:02:02.364Z"
   },
   {
    "duration": 1048,
    "start_time": "2023-04-13T09:02:32.555Z"
   },
   {
    "duration": 1081,
    "start_time": "2023-04-13T09:03:35.493Z"
   },
   {
    "duration": 1026,
    "start_time": "2023-04-13T09:04:54.900Z"
   },
   {
    "duration": 1535,
    "start_time": "2023-04-13T09:06:04.056Z"
   },
   {
    "duration": 1044,
    "start_time": "2023-04-13T09:06:14.024Z"
   },
   {
    "duration": 8,
    "start_time": "2023-04-13T09:09:28.785Z"
   },
   {
    "duration": 20,
    "start_time": "2023-04-13T09:09:32.098Z"
   },
   {
    "duration": 4,
    "start_time": "2023-04-13T09:24:14.887Z"
   },
   {
    "duration": 10,
    "start_time": "2023-04-13T09:25:23.723Z"
   },
   {
    "duration": 34,
    "start_time": "2023-04-13T09:25:31.191Z"
   },
   {
    "duration": 8,
    "start_time": "2023-04-13T09:29:24.963Z"
   },
   {
    "duration": 21,
    "start_time": "2023-04-13T09:29:34.721Z"
   },
   {
    "duration": 14,
    "start_time": "2023-04-13T09:29:46.292Z"
   },
   {
    "duration": 35,
    "start_time": "2023-04-13T09:29:57.492Z"
   },
   {
    "duration": 35,
    "start_time": "2023-04-13T09:30:11.318Z"
   },
   {
    "duration": 3,
    "start_time": "2023-04-13T09:30:23.226Z"
   },
   {
    "duration": 9,
    "start_time": "2023-04-13T09:30:33.906Z"
   },
   {
    "duration": 442,
    "start_time": "2023-04-13T09:30:34.058Z"
   },
   {
    "duration": 1246,
    "start_time": "2023-04-13T10:34:43.214Z"
   },
   {
    "duration": 5,
    "start_time": "2023-04-13T10:36:11.130Z"
   },
   {
    "duration": 213,
    "start_time": "2023-04-13T10:44:20.211Z"
   },
   {
    "duration": 286,
    "start_time": "2023-04-13T10:45:22.849Z"
   },
   {
    "duration": 41,
    "start_time": "2023-04-13T10:45:38.224Z"
   },
   {
    "duration": 53,
    "start_time": "2023-04-13T10:45:51.037Z"
   },
   {
    "duration": 19,
    "start_time": "2023-04-13T10:48:52.725Z"
   },
   {
    "duration": 3,
    "start_time": "2023-04-13T10:52:55.107Z"
   },
   {
    "duration": 28,
    "start_time": "2023-04-13T10:53:21.303Z"
   },
   {
    "duration": 36,
    "start_time": "2023-04-13T10:53:47.202Z"
   },
   {
    "duration": 21,
    "start_time": "2023-04-13T10:58:57.049Z"
   },
   {
    "duration": 22,
    "start_time": "2023-04-13T10:58:57.538Z"
   },
   {
    "duration": 18,
    "start_time": "2023-04-13T11:00:16.115Z"
   },
   {
    "duration": 43,
    "start_time": "2023-04-13T11:02:15.834Z"
   },
   {
    "duration": 19,
    "start_time": "2023-04-13T11:03:07.413Z"
   },
   {
    "duration": 22,
    "start_time": "2023-04-13T11:03:11.717Z"
   },
   {
    "duration": 57,
    "start_time": "2023-04-13T11:03:11.859Z"
   },
   {
    "duration": 15,
    "start_time": "2023-04-13T11:04:49.524Z"
   },
   {
    "duration": 44,
    "start_time": "2023-04-13T11:04:49.671Z"
   },
   {
    "duration": 3,
    "start_time": "2023-04-13T11:09:01.893Z"
   },
   {
    "duration": 489,
    "start_time": "2023-04-13T11:09:02.105Z"
   },
   {
    "duration": 11,
    "start_time": "2023-04-13T11:09:02.597Z"
   },
   {
    "duration": 53,
    "start_time": "2023-04-13T11:09:02.610Z"
   },
   {
    "duration": 1687,
    "start_time": "2023-04-13T11:09:11.251Z"
   },
   {
    "duration": 445,
    "start_time": "2023-04-13T11:09:14.413Z"
   },
   {
    "duration": 33,
    "start_time": "2023-04-13T11:09:14.860Z"
   },
   {
    "duration": 15,
    "start_time": "2023-04-13T11:09:15.053Z"
   },
   {
    "duration": 13,
    "start_time": "2023-04-13T11:09:15.434Z"
   },
   {
    "duration": 29,
    "start_time": "2023-04-13T11:09:15.770Z"
   },
   {
    "duration": 3,
    "start_time": "2023-04-13T11:09:16.146Z"
   },
   {
    "duration": 20,
    "start_time": "2023-04-13T11:09:21.618Z"
   },
   {
    "duration": 109,
    "start_time": "2023-04-13T11:09:22.193Z"
   },
   {
    "duration": 17,
    "start_time": "2023-04-13T11:09:25.527Z"
   },
   {
    "duration": 22,
    "start_time": "2023-04-13T11:09:25.860Z"
   },
   {
    "duration": 17,
    "start_time": "2023-04-13T11:09:28.093Z"
   },
   {
    "duration": 46,
    "start_time": "2023-04-13T11:09:28.362Z"
   },
   {
    "duration": 250,
    "start_time": "2023-04-13T11:24:03.998Z"
   },
   {
    "duration": 24,
    "start_time": "2023-04-13T11:24:20.360Z"
   },
   {
    "duration": 54,
    "start_time": "2023-04-13T11:24:25.065Z"
   },
   {
    "duration": 42,
    "start_time": "2023-04-13T11:24:31.268Z"
   },
   {
    "duration": 26,
    "start_time": "2023-04-13T11:24:35.499Z"
   },
   {
    "duration": 18,
    "start_time": "2023-04-13T11:24:51.602Z"
   },
   {
    "duration": 11,
    "start_time": "2023-04-13T11:24:53.624Z"
   },
   {
    "duration": 33,
    "start_time": "2023-04-13T11:24:53.965Z"
   },
   {
    "duration": 16,
    "start_time": "2023-04-13T11:24:56.711Z"
   },
   {
    "duration": 29,
    "start_time": "2023-04-13T11:24:57.057Z"
   },
   {
    "duration": 10,
    "start_time": "2023-04-13T11:25:04.729Z"
   },
   {
    "duration": 14,
    "start_time": "2023-04-13T11:25:05.026Z"
   },
   {
    "duration": 12,
    "start_time": "2023-04-13T11:26:00.928Z"
   },
   {
    "duration": 12,
    "start_time": "2023-04-13T11:26:01.154Z"
   },
   {
    "duration": 24,
    "start_time": "2023-04-13T11:26:01.594Z"
   },
   {
    "duration": 236,
    "start_time": "2023-04-13T11:26:01.802Z"
   },
   {
    "duration": 32,
    "start_time": "2023-04-13T11:26:02.161Z"
   },
   {
    "duration": 14,
    "start_time": "2023-04-13T11:26:02.553Z"
   },
   {
    "duration": 10,
    "start_time": "2023-04-13T11:26:09.542Z"
   },
   {
    "duration": 65,
    "start_time": "2023-04-13T11:26:09.720Z"
   },
   {
    "duration": 5,
    "start_time": "2023-04-13T11:58:56.253Z"
   },
   {
    "duration": 18,
    "start_time": "2023-04-13T12:00:13.690Z"
   },
   {
    "duration": 3,
    "start_time": "2023-04-13T12:01:01.054Z"
   },
   {
    "duration": 4,
    "start_time": "2023-04-13T12:01:41.654Z"
   },
   {
    "duration": 4,
    "start_time": "2023-04-13T12:02:20.335Z"
   },
   {
    "duration": 11,
    "start_time": "2023-04-13T12:10:59.630Z"
   },
   {
    "duration": 11,
    "start_time": "2023-04-13T12:11:20.121Z"
   },
   {
    "duration": 15,
    "start_time": "2023-04-13T12:11:25.694Z"
   },
   {
    "duration": 105,
    "start_time": "2023-04-13T12:20:36.743Z"
   },
   {
    "duration": 7,
    "start_time": "2023-04-13T12:20:46.246Z"
   },
   {
    "duration": 6,
    "start_time": "2023-04-13T12:20:53.264Z"
   },
   {
    "duration": 6,
    "start_time": "2023-04-13T12:21:03.054Z"
   },
   {
    "duration": 6,
    "start_time": "2023-04-13T12:21:06.194Z"
   },
   {
    "duration": 5,
    "start_time": "2023-04-13T12:21:10.391Z"
   },
   {
    "duration": 6,
    "start_time": "2023-04-13T12:21:12.920Z"
   },
   {
    "duration": 8,
    "start_time": "2023-04-13T12:21:29.696Z"
   },
   {
    "duration": 3,
    "start_time": "2023-04-13T12:21:48.937Z"
   },
   {
    "duration": 3,
    "start_time": "2023-04-13T12:21:54.663Z"
   },
   {
    "duration": 7,
    "start_time": "2023-04-13T12:22:15.113Z"
   },
   {
    "duration": 6,
    "start_time": "2023-04-13T12:22:17.864Z"
   },
   {
    "duration": 7,
    "start_time": "2023-04-13T12:22:22.414Z"
   },
   {
    "duration": 6,
    "start_time": "2023-04-13T12:22:25.910Z"
   },
   {
    "duration": 7,
    "start_time": "2023-04-13T12:22:29.120Z"
   },
   {
    "duration": 7,
    "start_time": "2023-04-13T12:22:32.804Z"
   },
   {
    "duration": 6,
    "start_time": "2023-04-13T12:22:38.647Z"
   },
   {
    "duration": 7,
    "start_time": "2023-04-13T12:22:41.040Z"
   },
   {
    "duration": 6,
    "start_time": "2023-04-13T12:22:43.064Z"
   },
   {
    "duration": 7,
    "start_time": "2023-04-13T12:23:35.056Z"
   },
   {
    "duration": 9,
    "start_time": "2023-04-13T12:23:37.673Z"
   },
   {
    "duration": 3,
    "start_time": "2023-04-13T12:23:45.190Z"
   },
   {
    "duration": 725,
    "start_time": "2023-04-13T13:06:40.084Z"
   },
   {
    "duration": 10,
    "start_time": "2023-04-13T13:07:00.713Z"
   },
   {
    "duration": 11,
    "start_time": "2023-04-13T13:07:07.744Z"
   },
   {
    "duration": 19,
    "start_time": "2023-04-13T13:07:07.887Z"
   },
   {
    "duration": 15017,
    "start_time": "2023-04-13T13:07:12.032Z"
   },
   {
    "duration": 11,
    "start_time": "2023-04-13T13:08:26.935Z"
   },
   {
    "duration": 13,
    "start_time": "2023-04-13T13:08:27.351Z"
   },
   {
    "duration": 8,
    "start_time": "2023-04-13T13:08:32.434Z"
   },
   {
    "duration": 7,
    "start_time": "2023-04-13T13:09:14.104Z"
   },
   {
    "duration": 17,
    "start_time": "2023-04-13T13:10:16.311Z"
   },
   {
    "duration": 29,
    "start_time": "2023-04-13T13:10:16.464Z"
   },
   {
    "duration": 11,
    "start_time": "2023-04-13T13:10:26.504Z"
   },
   {
    "duration": 14,
    "start_time": "2023-04-13T13:10:26.639Z"
   },
   {
    "duration": 11,
    "start_time": "2023-04-13T13:10:48.632Z"
   },
   {
    "duration": 16,
    "start_time": "2023-04-13T13:11:25.705Z"
   },
   {
    "duration": 4,
    "start_time": "2023-04-13T13:30:03.692Z"
   },
   {
    "duration": 24,
    "start_time": "2023-04-13T13:30:36.085Z"
   },
   {
    "duration": 25,
    "start_time": "2023-04-13T13:31:05.006Z"
   },
   {
    "duration": 12,
    "start_time": "2023-04-13T13:32:23.012Z"
   },
   {
    "duration": 13,
    "start_time": "2023-04-13T13:32:23.174Z"
   },
   {
    "duration": 5,
    "start_time": "2023-04-13T13:32:28.149Z"
   },
   {
    "duration": 24,
    "start_time": "2023-04-13T13:32:28.349Z"
   },
   {
    "duration": 3,
    "start_time": "2023-04-13T13:40:26.016Z"
   },
   {
    "duration": 6,
    "start_time": "2023-04-13T13:40:58.266Z"
   },
   {
    "duration": 24,
    "start_time": "2023-04-13T13:41:00.362Z"
   },
   {
    "duration": 5,
    "start_time": "2023-04-13T13:42:20.482Z"
   },
   {
    "duration": 30,
    "start_time": "2023-04-13T13:42:21.306Z"
   },
   {
    "duration": 4,
    "start_time": "2023-04-13T13:56:00.409Z"
   },
   {
    "duration": 23,
    "start_time": "2023-04-13T13:56:07.313Z"
   },
   {
    "duration": 10653,
    "start_time": "2023-04-13T13:56:44.507Z"
   },
   {
    "duration": 26,
    "start_time": "2023-04-13T13:57:27.713Z"
   },
   {
    "duration": 501,
    "start_time": "2023-04-13T13:58:43.193Z"
   },
   {
    "duration": 8701,
    "start_time": "2023-04-13T13:58:47.997Z"
   },
   {
    "duration": 22,
    "start_time": "2023-04-13T14:03:11.548Z"
   },
   {
    "duration": 7,
    "start_time": "2023-04-13T14:03:55.799Z"
   },
   {
    "duration": 0,
    "start_time": "2023-04-13T14:04:13.153Z"
   },
   {
    "duration": 4,
    "start_time": "2023-04-13T14:04:22.511Z"
   },
   {
    "duration": 5,
    "start_time": "2023-04-13T14:04:49.295Z"
   },
   {
    "duration": 5,
    "start_time": "2023-04-13T14:04:53.397Z"
   },
   {
    "duration": 10,
    "start_time": "2023-04-13T14:05:11.885Z"
   },
   {
    "duration": 3,
    "start_time": "2023-04-13T14:05:23.548Z"
   },
   {
    "duration": 21,
    "start_time": "2023-04-13T14:06:14.311Z"
   },
   {
    "duration": 22,
    "start_time": "2023-04-13T14:07:11.407Z"
   },
   {
    "duration": 22,
    "start_time": "2023-04-13T14:12:32.434Z"
   },
   {
    "duration": 21,
    "start_time": "2023-04-13T14:18:51.117Z"
   },
   {
    "duration": 17,
    "start_time": "2023-04-13T14:20:29.278Z"
   },
   {
    "duration": 23,
    "start_time": "2023-04-13T14:21:16.221Z"
   },
   {
    "duration": 5,
    "start_time": "2023-04-13T14:21:24.453Z"
   },
   {
    "duration": 27,
    "start_time": "2023-04-13T14:21:25.222Z"
   },
   {
    "duration": 31,
    "start_time": "2023-04-13T14:22:16.408Z"
   },
   {
    "duration": 31,
    "start_time": "2023-04-13T14:23:45.167Z"
   },
   {
    "duration": 7,
    "start_time": "2023-04-13T14:23:47.432Z"
   },
   {
    "duration": 30,
    "start_time": "2023-04-13T14:23:48.638Z"
   },
   {
    "duration": 5,
    "start_time": "2023-04-13T14:25:36.103Z"
   },
   {
    "duration": 19,
    "start_time": "2023-04-13T14:25:37.616Z"
   },
   {
    "duration": 16,
    "start_time": "2023-04-13T14:26:17.452Z"
   },
   {
    "duration": 4,
    "start_time": "2023-04-13T14:26:19.560Z"
   },
   {
    "duration": 743,
    "start_time": "2023-04-13T14:26:20.128Z"
   },
   {
    "duration": 1368,
    "start_time": "2023-04-13T14:26:35.872Z"
   },
   {
    "duration": 2059,
    "start_time": "2023-04-13T14:26:49.656Z"
   },
   {
    "duration": 5,
    "start_time": "2023-04-13T14:27:38.593Z"
   },
   {
    "duration": 2225,
    "start_time": "2023-04-13T14:27:39.608Z"
   },
   {
    "duration": 5,
    "start_time": "2023-04-13T14:27:48.888Z"
   },
   {
    "duration": 2034,
    "start_time": "2023-04-13T14:27:53.305Z"
   },
   {
    "duration": 6,
    "start_time": "2023-04-13T14:34:54.428Z"
   },
   {
    "duration": 2292,
    "start_time": "2023-04-13T14:34:54.949Z"
   },
   {
    "duration": 10,
    "start_time": "2023-04-13T14:37:46.454Z"
   },
   {
    "duration": 11,
    "start_time": "2023-04-13T14:38:09.087Z"
   },
   {
    "duration": 12,
    "start_time": "2023-04-13T14:39:32.175Z"
   },
   {
    "duration": 14,
    "start_time": "2023-04-13T14:39:59.271Z"
   },
   {
    "duration": 15,
    "start_time": "2023-04-13T14:40:12.935Z"
   },
   {
    "duration": 19,
    "start_time": "2023-04-13T14:40:56.101Z"
   },
   {
    "duration": 15,
    "start_time": "2023-04-13T14:41:22.265Z"
   },
   {
    "duration": 15,
    "start_time": "2023-04-13T14:41:39.282Z"
   },
   {
    "duration": 18,
    "start_time": "2023-04-13T14:42:04.723Z"
   },
   {
    "duration": 1487,
    "start_time": "2023-04-14T09:20:06.151Z"
   },
   {
    "duration": 1545,
    "start_time": "2023-04-14T09:20:08.382Z"
   },
   {
    "duration": 25,
    "start_time": "2023-04-14T09:20:09.929Z"
   },
   {
    "duration": 18,
    "start_time": "2023-04-14T09:20:09.961Z"
   },
   {
    "duration": 15,
    "start_time": "2023-04-14T09:20:12.252Z"
   },
   {
    "duration": 25,
    "start_time": "2023-04-14T09:20:12.727Z"
   },
   {
    "duration": 43,
    "start_time": "2023-04-14T09:20:56.413Z"
   },
   {
    "duration": 120,
    "start_time": "2023-04-14T09:21:13.230Z"
   },
   {
    "duration": 130,
    "start_time": "2023-04-14T09:21:23.505Z"
   },
   {
    "duration": 19,
    "start_time": "2023-04-14T09:21:48.631Z"
   },
   {
    "duration": 190,
    "start_time": "2023-04-14T09:21:49.047Z"
   },
   {
    "duration": 18,
    "start_time": "2023-04-14T09:21:55.478Z"
   },
   {
    "duration": 15,
    "start_time": "2023-04-14T09:21:55.790Z"
   },
   {
    "duration": 4,
    "start_time": "2023-04-14T09:23:36.672Z"
   },
   {
    "duration": 13,
    "start_time": "2023-04-14T09:23:38.575Z"
   },
   {
    "duration": 7,
    "start_time": "2023-04-14T09:23:41.135Z"
   },
   {
    "duration": 12,
    "start_time": "2023-04-14T09:23:41.447Z"
   },
   {
    "duration": 8,
    "start_time": "2023-04-14T09:23:41.815Z"
   },
   {
    "duration": 11,
    "start_time": "2023-04-14T09:23:42.159Z"
   },
   {
    "duration": 9,
    "start_time": "2023-04-14T09:23:44.491Z"
   },
   {
    "duration": 4,
    "start_time": "2023-04-14T09:23:48.488Z"
   },
   {
    "duration": 4,
    "start_time": "2023-04-14T09:23:48.663Z"
   },
   {
    "duration": 129,
    "start_time": "2023-04-14T09:23:58.479Z"
   },
   {
    "duration": 147,
    "start_time": "2023-04-14T09:24:06.407Z"
   },
   {
    "duration": 4,
    "start_time": "2023-04-14T09:24:12.159Z"
   },
   {
    "duration": 373,
    "start_time": "2023-04-14T09:24:12.344Z"
   },
   {
    "duration": 16,
    "start_time": "2023-04-14T09:24:12.719Z"
   },
   {
    "duration": 31,
    "start_time": "2023-04-14T09:24:12.737Z"
   },
   {
    "duration": 13,
    "start_time": "2023-04-14T09:24:12.864Z"
   },
   {
    "duration": 14,
    "start_time": "2023-04-14T09:24:13.024Z"
   },
   {
    "duration": 3,
    "start_time": "2023-04-14T09:24:13.208Z"
   },
   {
    "duration": 107,
    "start_time": "2023-04-14T09:24:13.400Z"
   },
   {
    "duration": 13,
    "start_time": "2023-04-14T09:24:14.154Z"
   },
   {
    "duration": 19,
    "start_time": "2023-04-14T09:24:14.577Z"
   },
   {
    "duration": 12,
    "start_time": "2023-04-14T09:24:15.080Z"
   },
   {
    "duration": 24,
    "start_time": "2023-04-14T09:24:15.304Z"
   },
   {
    "duration": 12,
    "start_time": "2023-04-14T09:24:15.775Z"
   },
   {
    "duration": 18,
    "start_time": "2023-04-14T09:24:16.008Z"
   },
   {
    "duration": 4,
    "start_time": "2023-04-14T09:24:17.271Z"
   },
   {
    "duration": 13,
    "start_time": "2023-04-14T09:24:17.703Z"
   },
   {
    "duration": 8,
    "start_time": "2023-04-14T09:24:17.935Z"
   },
   {
    "duration": 11,
    "start_time": "2023-04-14T09:24:18.192Z"
   },
   {
    "duration": 6,
    "start_time": "2023-04-14T09:24:19.184Z"
   },
   {
    "duration": 11,
    "start_time": "2023-04-14T09:24:19.569Z"
   },
   {
    "duration": 6,
    "start_time": "2023-04-14T09:24:19.848Z"
   },
   {
    "duration": 4,
    "start_time": "2023-04-14T09:24:20.439Z"
   },
   {
    "duration": 18,
    "start_time": "2023-04-14T09:24:21.072Z"
   },
   {
    "duration": 9,
    "start_time": "2023-04-14T09:24:23.960Z"
   },
   {
    "duration": 11,
    "start_time": "2023-04-14T09:24:32.824Z"
   },
   {
    "duration": 21,
    "start_time": "2023-04-14T09:24:59.147Z"
   },
   {
    "duration": 136,
    "start_time": "2023-04-14T09:26:26.146Z"
   },
   {
    "duration": 6,
    "start_time": "2023-04-14T09:26:29.961Z"
   },
   {
    "duration": 5,
    "start_time": "2023-04-14T09:26:55.640Z"
   },
   {
    "duration": 14,
    "start_time": "2023-04-14T09:27:28.527Z"
   },
   {
    "duration": 19,
    "start_time": "2023-04-14T09:28:46.251Z"
   },
   {
    "duration": 5,
    "start_time": "2023-04-14T09:29:56.179Z"
   },
   {
    "duration": 22,
    "start_time": "2023-04-14T09:29:58.676Z"
   },
   {
    "duration": 10,
    "start_time": "2023-04-14T09:30:42.707Z"
   },
   {
    "duration": 6,
    "start_time": "2023-04-14T09:30:55.354Z"
   },
   {
    "duration": 13,
    "start_time": "2023-04-14T09:31:17.284Z"
   },
   {
    "duration": 2058,
    "start_time": "2023-04-14T22:14:49.456Z"
   },
   {
    "duration": 1479,
    "start_time": "2023-04-14T22:14:51.516Z"
   },
   {
    "duration": 15,
    "start_time": "2023-04-14T22:14:52.996Z"
   },
   {
    "duration": 16,
    "start_time": "2023-04-14T22:14:53.012Z"
   },
   {
    "duration": 16,
    "start_time": "2023-04-14T22:14:53.030Z"
   },
   {
    "duration": 13,
    "start_time": "2023-04-14T22:14:53.048Z"
   },
   {
    "duration": 3,
    "start_time": "2023-04-14T22:14:53.063Z"
   },
   {
    "duration": 135,
    "start_time": "2023-04-14T22:14:53.088Z"
   },
   {
    "duration": 16,
    "start_time": "2023-04-14T22:14:53.224Z"
   },
   {
    "duration": 56,
    "start_time": "2023-04-14T22:14:53.242Z"
   },
   {
    "duration": 105,
    "start_time": "2023-04-14T22:14:53.300Z"
   },
   {
    "duration": 80,
    "start_time": "2023-04-14T22:14:53.406Z"
   },
   {
    "duration": 108,
    "start_time": "2023-04-14T22:14:53.490Z"
   },
   {
    "duration": 27,
    "start_time": "2023-04-14T22:14:53.601Z"
   },
   {
    "duration": 167,
    "start_time": "2023-04-14T22:14:53.629Z"
   },
   {
    "duration": 52,
    "start_time": "2023-04-14T22:14:53.798Z"
   },
   {
    "duration": 31,
    "start_time": "2023-04-14T22:14:53.852Z"
   },
   {
    "duration": 35,
    "start_time": "2023-04-14T22:14:53.884Z"
   },
   {
    "duration": 18,
    "start_time": "2023-04-14T22:14:53.921Z"
   },
   {
    "duration": 55,
    "start_time": "2023-04-14T22:14:53.940Z"
   },
   {
    "duration": 45,
    "start_time": "2023-04-14T22:14:53.997Z"
   },
   {
    "duration": 36,
    "start_time": "2023-04-14T22:14:54.044Z"
   },
   {
    "duration": 43,
    "start_time": "2023-04-14T22:14:54.082Z"
   },
   {
    "duration": 23,
    "start_time": "2023-04-14T22:14:54.126Z"
   },
   {
    "duration": 178,
    "start_time": "2023-04-14T22:14:54.150Z"
   },
   {
    "duration": 13,
    "start_time": "2023-04-14T22:17:22.992Z"
   },
   {
    "duration": 4,
    "start_time": "2023-04-14T22:25:04.663Z"
   },
   {
    "duration": 5,
    "start_time": "2023-04-14T22:25:15.570Z"
   },
   {
    "duration": 26,
    "start_time": "2023-04-14T22:25:30.759Z"
   },
   {
    "duration": 13,
    "start_time": "2023-04-14T22:25:44.153Z"
   },
   {
    "duration": 1473,
    "start_time": "2023-04-17T07:33:51.713Z"
   },
   {
    "duration": 42,
    "start_time": "2023-04-17T07:34:01.916Z"
   },
   {
    "duration": 876,
    "start_time": "2023-04-17T07:38:09.839Z"
   },
   {
    "duration": 11,
    "start_time": "2023-04-17T07:38:11.618Z"
   },
   {
    "duration": 7,
    "start_time": "2023-04-17T07:40:05.213Z"
   },
   {
    "duration": 10,
    "start_time": "2023-04-17T07:40:19.713Z"
   },
   {
    "duration": 117,
    "start_time": "2023-04-17T07:43:38.916Z"
   },
   {
    "duration": 14,
    "start_time": "2023-04-17T07:43:47.920Z"
   },
   {
    "duration": 24,
    "start_time": "2023-04-17T07:43:55.317Z"
   },
   {
    "duration": 21,
    "start_time": "2023-04-17T07:44:58.338Z"
   },
   {
    "duration": 22,
    "start_time": "2023-04-17T07:45:03.681Z"
   },
   {
    "duration": 20,
    "start_time": "2023-04-17T07:45:06.817Z"
   },
   {
    "duration": 22,
    "start_time": "2023-04-17T07:45:09.063Z"
   },
   {
    "duration": 22,
    "start_time": "2023-04-17T07:45:11.881Z"
   },
   {
    "duration": 34,
    "start_time": "2023-04-17T07:45:45.516Z"
   },
   {
    "duration": 3,
    "start_time": "2023-04-17T07:45:52.514Z"
   },
   {
    "duration": 35,
    "start_time": "2023-04-17T07:45:54.974Z"
   },
   {
    "duration": 23,
    "start_time": "2023-04-17T07:46:09.718Z"
   },
   {
    "duration": 23,
    "start_time": "2023-04-17T07:47:01.243Z"
   },
   {
    "duration": 20,
    "start_time": "2023-04-17T07:47:23.348Z"
   },
   {
    "duration": 35,
    "start_time": "2023-04-17T07:48:21.074Z"
   },
   {
    "duration": 32,
    "start_time": "2023-04-17T07:48:41.804Z"
   },
   {
    "duration": 32,
    "start_time": "2023-04-17T07:49:02.043Z"
   },
   {
    "duration": 28,
    "start_time": "2023-04-17T07:51:54.616Z"
   },
   {
    "duration": 32,
    "start_time": "2023-04-17T07:52:01.125Z"
   },
   {
    "duration": 238,
    "start_time": "2023-04-17T07:53:22.513Z"
   },
   {
    "duration": 106,
    "start_time": "2023-04-17T07:53:25.733Z"
   },
   {
    "duration": 15,
    "start_time": "2023-04-17T07:55:33.343Z"
   },
   {
    "duration": 687,
    "start_time": "2023-04-17T07:55:44.525Z"
   },
   {
    "duration": 133,
    "start_time": "2023-04-17T07:56:06.383Z"
   },
   {
    "duration": 128,
    "start_time": "2023-04-17T07:56:18.928Z"
   },
   {
    "duration": 28,
    "start_time": "2023-04-17T07:57:42.248Z"
   },
   {
    "duration": 16,
    "start_time": "2023-04-17T07:57:58.318Z"
   },
   {
    "duration": 16,
    "start_time": "2023-04-17T07:58:02.720Z"
   },
   {
    "duration": 17,
    "start_time": "2023-04-17T07:58:05.559Z"
   },
   {
    "duration": 27,
    "start_time": "2023-04-17T07:58:08.658Z"
   },
   {
    "duration": 26,
    "start_time": "2023-04-17T07:58:16.641Z"
   },
   {
    "duration": 25,
    "start_time": "2023-04-17T07:58:29.470Z"
   },
   {
    "duration": 23,
    "start_time": "2023-04-17T07:58:45.626Z"
   },
   {
    "duration": 25,
    "start_time": "2023-04-17T07:59:41.710Z"
   },
   {
    "duration": 17,
    "start_time": "2023-04-17T07:59:51.458Z"
   },
   {
    "duration": 25,
    "start_time": "2023-04-17T08:00:01.935Z"
   },
   {
    "duration": 1194,
    "start_time": "2023-04-17T08:00:28.082Z"
   },
   {
    "duration": 87,
    "start_time": "2023-04-17T08:00:36.310Z"
   },
   {
    "duration": 15,
    "start_time": "2023-04-17T08:10:14.423Z"
   },
   {
    "duration": 39,
    "start_time": "2023-04-17T08:12:37.183Z"
   },
   {
    "duration": 38,
    "start_time": "2023-04-17T08:12:57.318Z"
   },
   {
    "duration": 40,
    "start_time": "2023-04-17T08:13:01.257Z"
   },
   {
    "duration": 41,
    "start_time": "2023-04-17T08:13:03.922Z"
   },
   {
    "duration": 40,
    "start_time": "2023-04-17T08:13:06.033Z"
   },
   {
    "duration": 37,
    "start_time": "2023-04-17T08:13:25.840Z"
   },
   {
    "duration": 9,
    "start_time": "2023-04-17T08:16:25.526Z"
   },
   {
    "duration": 10,
    "start_time": "2023-04-17T08:16:29.829Z"
   },
   {
    "duration": 1309,
    "start_time": "2023-04-17T08:20:37.271Z"
   },
   {
    "duration": 41,
    "start_time": "2023-04-17T08:20:38.582Z"
   },
   {
    "duration": 328,
    "start_time": "2023-04-17T08:20:39.444Z"
   },
   {
    "duration": 23,
    "start_time": "2023-04-17T08:20:39.822Z"
   },
   {
    "duration": 32,
    "start_time": "2023-04-17T08:20:40.571Z"
   },
   {
    "duration": 3,
    "start_time": "2023-04-17T08:20:40.815Z"
   },
   {
    "duration": 116,
    "start_time": "2023-04-17T08:20:41.626Z"
   },
   {
    "duration": 139,
    "start_time": "2023-04-17T08:20:42.136Z"
   },
   {
    "duration": 14,
    "start_time": "2023-04-17T08:20:42.444Z"
   },
   {
    "duration": 40,
    "start_time": "2023-04-17T08:20:43.409Z"
   },
   {
    "duration": 93,
    "start_time": "2023-04-17T08:20:44.684Z"
   },
   {
    "duration": 9,
    "start_time": "2023-04-17T08:22:01.732Z"
   },
   {
    "duration": 266,
    "start_time": "2023-04-17T08:22:33.937Z"
   },
   {
    "duration": 279,
    "start_time": "2023-04-17T08:22:38.551Z"
   },
   {
    "duration": 80,
    "start_time": "2023-04-17T08:24:34.809Z"
   },
   {
    "duration": 79,
    "start_time": "2023-04-17T08:24:37.982Z"
   },
   {
    "duration": 1438,
    "start_time": "2023-04-17T08:24:43.410Z"
   },
   {
    "duration": 2401,
    "start_time": "2023-04-17T08:25:05.567Z"
   },
   {
    "duration": 2557,
    "start_time": "2023-04-17T08:25:35.368Z"
   },
   {
    "duration": 2303,
    "start_time": "2023-04-17T08:26:12.598Z"
   },
   {
    "duration": 274,
    "start_time": "2023-04-17T08:28:08.127Z"
   },
   {
    "duration": 309,
    "start_time": "2023-04-17T08:28:12.214Z"
   },
   {
    "duration": 2472,
    "start_time": "2023-04-17T08:28:54.406Z"
   },
   {
    "duration": 2656,
    "start_time": "2023-04-17T08:29:03.385Z"
   },
   {
    "duration": 82,
    "start_time": "2023-04-17T08:29:08.625Z"
   },
   {
    "duration": 2371,
    "start_time": "2023-04-17T08:29:26.074Z"
   },
   {
    "duration": 14,
    "start_time": "2023-04-17T08:48:28.387Z"
   },
   {
    "duration": 19,
    "start_time": "2023-04-17T08:49:22.295Z"
   },
   {
    "duration": 10,
    "start_time": "2023-04-17T08:50:31.572Z"
   },
   {
    "duration": 13,
    "start_time": "2023-04-17T08:50:33.412Z"
   },
   {
    "duration": 13,
    "start_time": "2023-04-17T08:50:48.221Z"
   },
   {
    "duration": 13,
    "start_time": "2023-04-17T08:50:51.653Z"
   },
   {
    "duration": 13,
    "start_time": "2023-04-17T08:51:19.813Z"
   },
   {
    "duration": 12,
    "start_time": "2023-04-17T08:51:28.422Z"
   },
   {
    "duration": 12,
    "start_time": "2023-04-17T08:51:33.982Z"
   },
   {
    "duration": 15,
    "start_time": "2023-04-17T08:51:37.254Z"
   },
   {
    "duration": 10,
    "start_time": "2023-04-17T08:51:45.520Z"
   },
   {
    "duration": 12,
    "start_time": "2023-04-17T08:51:45.782Z"
   },
   {
    "duration": 11,
    "start_time": "2023-04-17T08:51:52.404Z"
   },
   {
    "duration": 15,
    "start_time": "2023-04-17T08:52:40.181Z"
   },
   {
    "duration": 11,
    "start_time": "2023-04-17T08:52:45.550Z"
   },
   {
    "duration": 12,
    "start_time": "2023-04-17T08:52:46.165Z"
   },
   {
    "duration": 12,
    "start_time": "2023-04-17T08:53:08.124Z"
   },
   {
    "duration": 13,
    "start_time": "2023-04-17T08:53:09.894Z"
   },
   {
    "duration": 11,
    "start_time": "2023-04-17T08:53:12.281Z"
   },
   {
    "duration": 11,
    "start_time": "2023-04-17T08:53:12.991Z"
   },
   {
    "duration": 12,
    "start_time": "2023-04-17T08:53:15.542Z"
   },
   {
    "duration": 15,
    "start_time": "2023-04-17T08:53:16.254Z"
   },
   {
    "duration": 4,
    "start_time": "2023-04-17T08:57:39.785Z"
   },
   {
    "duration": 18,
    "start_time": "2023-04-17T09:01:47.610Z"
   },
   {
    "duration": 19,
    "start_time": "2023-04-17T09:01:58.467Z"
   },
   {
    "duration": 5,
    "start_time": "2023-04-17T09:02:25.860Z"
   },
   {
    "duration": 13,
    "start_time": "2023-04-17T09:02:29.451Z"
   },
   {
    "duration": 20,
    "start_time": "2023-04-17T09:02:37.673Z"
   },
   {
    "duration": 24,
    "start_time": "2023-04-17T09:03:33.731Z"
   },
   {
    "duration": 24,
    "start_time": "2023-04-17T09:04:02.469Z"
   },
   {
    "duration": 18,
    "start_time": "2023-04-17T09:04:21.325Z"
   },
   {
    "duration": 3,
    "start_time": "2023-04-17T09:04:47.524Z"
   },
   {
    "duration": 23,
    "start_time": "2023-04-17T09:04:47.948Z"
   },
   {
    "duration": 4,
    "start_time": "2023-04-17T09:10:07.158Z"
   },
   {
    "duration": 19,
    "start_time": "2023-04-17T09:10:07.753Z"
   },
   {
    "duration": 4,
    "start_time": "2023-04-17T09:12:21.679Z"
   },
   {
    "duration": 14,
    "start_time": "2023-04-17T09:12:22.716Z"
   },
   {
    "duration": 4,
    "start_time": "2023-04-17T09:12:48.616Z"
   },
   {
    "duration": 14,
    "start_time": "2023-04-17T09:12:48.997Z"
   },
   {
    "duration": 4,
    "start_time": "2023-04-17T09:13:55.129Z"
   },
   {
    "duration": 12,
    "start_time": "2023-04-17T09:13:55.521Z"
   },
   {
    "duration": 4,
    "start_time": "2023-04-17T09:15:01.299Z"
   },
   {
    "duration": 25,
    "start_time": "2023-04-17T09:15:01.737Z"
   },
   {
    "duration": 4,
    "start_time": "2023-04-17T09:16:25.842Z"
   },
   {
    "duration": 14,
    "start_time": "2023-04-17T09:16:26.738Z"
   },
   {
    "duration": 4,
    "start_time": "2023-04-17T09:16:55.722Z"
   },
   {
    "duration": 19,
    "start_time": "2023-04-17T09:16:56.562Z"
   },
   {
    "duration": 17,
    "start_time": "2023-04-17T09:19:41.563Z"
   },
   {
    "duration": 5,
    "start_time": "2023-04-17T09:21:33.420Z"
   },
   {
    "duration": 24,
    "start_time": "2023-04-17T09:21:34.099Z"
   },
   {
    "duration": 92,
    "start_time": "2023-04-17T09:23:47.311Z"
   },
   {
    "duration": 3,
    "start_time": "2023-04-17T09:23:58.815Z"
   },
   {
    "duration": 14,
    "start_time": "2023-04-17T09:24:23.751Z"
   },
   {
    "duration": 5,
    "start_time": "2023-04-17T09:24:39.942Z"
   },
   {
    "duration": 5,
    "start_time": "2023-04-17T09:25:47.118Z"
   },
   {
    "duration": 5,
    "start_time": "2023-04-17T09:26:12.719Z"
   },
   {
    "duration": 6,
    "start_time": "2023-04-17T09:26:34.873Z"
   },
   {
    "duration": 3,
    "start_time": "2023-04-17T09:26:58.072Z"
   },
   {
    "duration": 25,
    "start_time": "2023-04-17T09:26:59.632Z"
   },
   {
    "duration": 24,
    "start_time": "2023-04-17T09:27:35.425Z"
   },
   {
    "duration": 4,
    "start_time": "2023-04-17T09:28:18.321Z"
   },
   {
    "duration": 22,
    "start_time": "2023-04-17T09:28:21.626Z"
   },
   {
    "duration": 6,
    "start_time": "2023-04-17T09:30:11.266Z"
   },
   {
    "duration": 7,
    "start_time": "2023-04-17T09:30:38.642Z"
   },
   {
    "duration": 101,
    "start_time": "2023-04-17T09:30:39.434Z"
   },
   {
    "duration": 14,
    "start_time": "2023-04-17T09:30:42.618Z"
   },
   {
    "duration": 20,
    "start_time": "2023-04-17T09:30:51.281Z"
   },
   {
    "duration": 14,
    "start_time": "2023-04-17T09:31:01.483Z"
   },
   {
    "duration": 3,
    "start_time": "2023-04-17T09:31:49.515Z"
   },
   {
    "duration": 20,
    "start_time": "2023-04-17T09:31:50.156Z"
   },
   {
    "duration": 5,
    "start_time": "2023-04-17T09:36:20.861Z"
   },
   {
    "duration": 6,
    "start_time": "2023-04-17T09:36:53.725Z"
   },
   {
    "duration": 6,
    "start_time": "2023-04-17T09:37:18.997Z"
   },
   {
    "duration": 16,
    "start_time": "2023-04-17T09:37:57.343Z"
   },
   {
    "duration": 5,
    "start_time": "2023-04-17T09:38:08.095Z"
   },
   {
    "duration": 15,
    "start_time": "2023-04-17T09:38:09.482Z"
   },
   {
    "duration": 1323,
    "start_time": "2023-04-17T09:38:31.678Z"
   },
   {
    "duration": 57,
    "start_time": "2023-04-17T09:38:33.003Z"
   },
   {
    "duration": 367,
    "start_time": "2023-04-17T09:38:33.062Z"
   },
   {
    "duration": 25,
    "start_time": "2023-04-17T09:38:33.431Z"
   },
   {
    "duration": 53,
    "start_time": "2023-04-17T09:38:33.457Z"
   },
   {
    "duration": 3,
    "start_time": "2023-04-17T09:38:33.511Z"
   },
   {
    "duration": 125,
    "start_time": "2023-04-17T09:38:33.515Z"
   },
   {
    "duration": 139,
    "start_time": "2023-04-17T09:38:33.642Z"
   },
   {
    "duration": 14,
    "start_time": "2023-04-17T09:38:33.794Z"
   },
   {
    "duration": 37,
    "start_time": "2023-04-17T09:38:33.809Z"
   },
   {
    "duration": 2518,
    "start_time": "2023-04-17T09:38:33.847Z"
   },
   {
    "duration": 13,
    "start_time": "2023-04-17T09:38:36.367Z"
   },
   {
    "duration": 26,
    "start_time": "2023-04-17T09:38:36.382Z"
   },
   {
    "duration": 11,
    "start_time": "2023-04-17T09:38:36.613Z"
   },
   {
    "duration": 13,
    "start_time": "2023-04-17T09:38:37.270Z"
   },
   {
    "duration": 13,
    "start_time": "2023-04-17T09:38:37.813Z"
   },
   {
    "duration": 13,
    "start_time": "2023-04-17T09:38:38.629Z"
   },
   {
    "duration": 3,
    "start_time": "2023-04-17T09:38:40.621Z"
   },
   {
    "duration": 6,
    "start_time": "2023-04-17T09:38:43.117Z"
   },
   {
    "duration": 109,
    "start_time": "2023-04-17T09:38:43.950Z"
   },
   {
    "duration": 20,
    "start_time": "2023-04-17T09:39:34.687Z"
   },
   {
    "duration": 4,
    "start_time": "2023-04-17T09:40:45.142Z"
   },
   {
    "duration": 22,
    "start_time": "2023-04-17T09:40:45.414Z"
   },
   {
    "duration": 5,
    "start_time": "2023-04-17T09:41:16.974Z"
   },
   {
    "duration": 17,
    "start_time": "2023-04-17T09:41:17.784Z"
   },
   {
    "duration": 5,
    "start_time": "2023-04-17T09:41:45.511Z"
   },
   {
    "duration": 18,
    "start_time": "2023-04-17T09:41:45.920Z"
   },
   {
    "duration": 4,
    "start_time": "2023-04-17T09:42:20.775Z"
   },
   {
    "duration": 19,
    "start_time": "2023-04-17T09:42:21.590Z"
   },
   {
    "duration": 6,
    "start_time": "2023-04-17T09:43:45.556Z"
   },
   {
    "duration": 6,
    "start_time": "2023-04-17T09:43:52.694Z"
   },
   {
    "duration": 3,
    "start_time": "2023-04-17T09:47:15.117Z"
   },
   {
    "duration": 4,
    "start_time": "2023-04-17T09:48:17.739Z"
   },
   {
    "duration": 17,
    "start_time": "2023-04-17T09:48:18.259Z"
   },
   {
    "duration": 72,
    "start_time": "2023-04-17T09:51:50.236Z"
   },
   {
    "duration": 84,
    "start_time": "2023-04-17T09:51:56.349Z"
   },
   {
    "duration": 5,
    "start_time": "2023-04-17T09:51:59.685Z"
   },
   {
    "duration": 19,
    "start_time": "2023-04-17T09:52:00.333Z"
   },
   {
    "duration": 4,
    "start_time": "2023-04-17T09:52:27.701Z"
   },
   {
    "duration": 19,
    "start_time": "2023-04-17T09:52:28.543Z"
   },
   {
    "duration": 10,
    "start_time": "2023-04-17T09:57:51.400Z"
   },
   {
    "duration": 9,
    "start_time": "2023-04-17T09:57:59.902Z"
   },
   {
    "duration": 14,
    "start_time": "2023-04-17T09:58:03.351Z"
   },
   {
    "duration": 10,
    "start_time": "2023-04-17T09:58:18.568Z"
   },
   {
    "duration": 13,
    "start_time": "2023-04-17T09:58:22.448Z"
   },
   {
    "duration": 6,
    "start_time": "2023-04-17T09:58:35.641Z"
   },
   {
    "duration": 18,
    "start_time": "2023-04-17T09:59:16.430Z"
   },
   {
    "duration": 25,
    "start_time": "2023-04-17T09:59:35.650Z"
   },
   {
    "duration": 21,
    "start_time": "2023-04-17T10:02:28.205Z"
   },
   {
    "duration": 1312,
    "start_time": "2023-04-17T10:02:48.473Z"
   },
   {
    "duration": 55,
    "start_time": "2023-04-17T10:02:49.787Z"
   },
   {
    "duration": 333,
    "start_time": "2023-04-17T10:02:49.844Z"
   },
   {
    "duration": 25,
    "start_time": "2023-04-17T10:02:50.179Z"
   },
   {
    "duration": 37,
    "start_time": "2023-04-17T10:02:50.206Z"
   },
   {
    "duration": 3,
    "start_time": "2023-04-17T10:02:50.307Z"
   },
   {
    "duration": 120,
    "start_time": "2023-04-17T10:02:51.050Z"
   },
   {
    "duration": 181,
    "start_time": "2023-04-17T10:02:51.432Z"
   },
   {
    "duration": 14,
    "start_time": "2023-04-17T10:02:51.633Z"
   },
   {
    "duration": 39,
    "start_time": "2023-04-17T10:02:52.206Z"
   },
   {
    "duration": 2516,
    "start_time": "2023-04-17T10:02:52.368Z"
   },
   {
    "duration": 20,
    "start_time": "2023-04-17T10:02:54.886Z"
   },
   {
    "duration": 17,
    "start_time": "2023-04-17T10:02:54.908Z"
   },
   {
    "duration": 12,
    "start_time": "2023-04-17T10:02:54.994Z"
   },
   {
    "duration": 11,
    "start_time": "2023-04-17T10:02:55.095Z"
   },
   {
    "duration": 186,
    "start_time": "2023-04-17T10:02:55.108Z"
   },
   {
    "duration": 22,
    "start_time": "2023-04-17T10:02:55.296Z"
   },
   {
    "duration": 5,
    "start_time": "2023-04-17T10:02:55.395Z"
   },
   {
    "duration": 5,
    "start_time": "2023-04-17T10:02:55.402Z"
   },
   {
    "duration": 101,
    "start_time": "2023-04-17T10:02:55.409Z"
   },
   {
    "duration": 4,
    "start_time": "2023-04-17T10:02:55.512Z"
   },
   {
    "duration": 115,
    "start_time": "2023-04-17T10:02:55.518Z"
   },
   {
    "duration": 27,
    "start_time": "2023-04-17T10:04:27.211Z"
   },
   {
    "duration": 15,
    "start_time": "2023-04-17T10:35:40.004Z"
   },
   {
    "duration": 17,
    "start_time": "2023-04-17T10:35:44.308Z"
   },
   {
    "duration": 4,
    "start_time": "2023-04-17T10:35:45.229Z"
   },
   {
    "duration": 17,
    "start_time": "2023-04-17T10:35:46.221Z"
   },
   {
    "duration": 23,
    "start_time": "2023-04-17T10:36:01.111Z"
   },
   {
    "duration": 14,
    "start_time": "2023-04-17T10:36:07.506Z"
   },
   {
    "duration": 15,
    "start_time": "2023-04-17T10:36:32.612Z"
   },
   {
    "duration": 4,
    "start_time": "2023-04-17T10:36:34.009Z"
   },
   {
    "duration": 18,
    "start_time": "2023-04-17T10:36:34.676Z"
   },
   {
    "duration": 20,
    "start_time": "2023-04-17T10:36:53.083Z"
   },
   {
    "duration": 3,
    "start_time": "2023-04-17T10:36:55.504Z"
   },
   {
    "duration": 21,
    "start_time": "2023-04-17T10:36:55.870Z"
   },
   {
    "duration": 9,
    "start_time": "2023-04-17T10:41:04.623Z"
   },
   {
    "duration": 11,
    "start_time": "2023-04-17T10:41:05.128Z"
   },
   {
    "duration": 4,
    "start_time": "2023-04-17T10:48:24.365Z"
   },
   {
    "duration": 11,
    "start_time": "2023-04-17T10:48:24.747Z"
   },
   {
    "duration": 16,
    "start_time": "2023-04-17T10:48:49.401Z"
   },
   {
    "duration": 11,
    "start_time": "2023-04-17T10:48:55.452Z"
   },
   {
    "duration": 13,
    "start_time": "2023-04-17T10:48:55.763Z"
   },
   {
    "duration": 3,
    "start_time": "2023-04-17T10:48:59.911Z"
   },
   {
    "duration": 14,
    "start_time": "2023-04-17T10:49:00.202Z"
   },
   {
    "duration": 1289,
    "start_time": "2023-04-17T10:49:10.947Z"
   },
   {
    "duration": 39,
    "start_time": "2023-04-17T10:49:12.237Z"
   },
   {
    "duration": 323,
    "start_time": "2023-04-17T10:49:13.562Z"
   },
   {
    "duration": 31,
    "start_time": "2023-04-17T10:49:14.060Z"
   },
   {
    "duration": 39,
    "start_time": "2023-04-17T10:49:14.157Z"
   },
   {
    "duration": 4,
    "start_time": "2023-04-17T10:49:14.198Z"
   },
   {
    "duration": 107,
    "start_time": "2023-04-17T10:49:14.280Z"
   },
   {
    "duration": 136,
    "start_time": "2023-04-17T10:49:14.389Z"
   },
   {
    "duration": 14,
    "start_time": "2023-04-17T10:49:14.527Z"
   },
   {
    "duration": 60,
    "start_time": "2023-04-17T10:49:14.543Z"
   },
   {
    "duration": 2367,
    "start_time": "2023-04-17T10:49:15.220Z"
   },
   {
    "duration": 15,
    "start_time": "2023-04-17T10:49:17.589Z"
   },
   {
    "duration": 15,
    "start_time": "2023-04-17T10:49:18.187Z"
   },
   {
    "duration": 10,
    "start_time": "2023-04-17T10:49:20.106Z"
   },
   {
    "duration": 12,
    "start_time": "2023-04-17T10:49:20.404Z"
   },
   {
    "duration": 12,
    "start_time": "2023-04-17T10:49:21.219Z"
   },
   {
    "duration": 13,
    "start_time": "2023-04-17T10:49:22.579Z"
   },
   {
    "duration": 4,
    "start_time": "2023-04-17T10:49:25.067Z"
   },
   {
    "duration": 3,
    "start_time": "2023-04-17T10:49:27.547Z"
   },
   {
    "duration": 17,
    "start_time": "2023-04-17T10:49:27.906Z"
   },
   {
    "duration": 5,
    "start_time": "2023-04-17T10:49:32.915Z"
   },
   {
    "duration": 3425,
    "start_time": "2023-04-17T10:49:33.469Z"
   },
   {
    "duration": 3191,
    "start_time": "2023-04-17T10:51:06.297Z"
   },
   {
    "duration": 3086,
    "start_time": "2023-04-17T10:51:22.484Z"
   },
   {
    "duration": 3155,
    "start_time": "2023-04-17T10:51:30.102Z"
   },
   {
    "duration": 3107,
    "start_time": "2023-04-17T10:51:57.702Z"
   },
   {
    "duration": 4,
    "start_time": "2023-04-17T10:56:58.120Z"
   },
   {
    "duration": 5,
    "start_time": "2023-04-17T10:58:02.311Z"
   },
   {
    "duration": 3150,
    "start_time": "2023-04-17T10:58:02.865Z"
   },
   {
    "duration": 4,
    "start_time": "2023-04-17T11:07:26.802Z"
   },
   {
    "duration": 3118,
    "start_time": "2023-04-17T11:07:27.708Z"
   },
   {
    "duration": 4,
    "start_time": "2023-04-17T11:08:04.190Z"
   },
   {
    "duration": 3218,
    "start_time": "2023-04-17T11:08:04.917Z"
   },
   {
    "duration": 4,
    "start_time": "2023-04-17T11:08:16.581Z"
   },
   {
    "duration": 3085,
    "start_time": "2023-04-17T11:08:18.484Z"
   },
   {
    "duration": 4,
    "start_time": "2023-04-17T11:08:32.800Z"
   },
   {
    "duration": 3182,
    "start_time": "2023-04-17T11:08:33.388Z"
   },
   {
    "duration": 51,
    "start_time": "2023-04-17T23:38:38.792Z"
   },
   {
    "duration": 1876,
    "start_time": "2023-04-17T23:38:43.636Z"
   },
   {
    "duration": 42,
    "start_time": "2023-04-17T23:38:45.514Z"
   },
   {
    "duration": 394,
    "start_time": "2023-04-17T23:38:45.558Z"
   },
   {
    "duration": 33,
    "start_time": "2023-04-17T23:38:45.954Z"
   },
   {
    "duration": 36,
    "start_time": "2023-04-17T23:38:45.989Z"
   },
   {
    "duration": 2,
    "start_time": "2023-04-17T23:38:46.027Z"
   },
   {
    "duration": 147,
    "start_time": "2023-04-17T23:38:46.031Z"
   },
   {
    "duration": 173,
    "start_time": "2023-04-17T23:38:46.187Z"
   },
   {
    "duration": 26,
    "start_time": "2023-04-17T23:38:46.362Z"
   },
   {
    "duration": 45,
    "start_time": "2023-04-17T23:38:46.391Z"
   },
   {
    "duration": 2715,
    "start_time": "2023-04-17T23:38:46.438Z"
   },
   {
    "duration": 14,
    "start_time": "2023-04-17T23:38:49.154Z"
   },
   {
    "duration": 32,
    "start_time": "2023-04-17T23:38:49.169Z"
   },
   {
    "duration": 91,
    "start_time": "2023-04-17T23:38:49.203Z"
   },
   {
    "duration": 104,
    "start_time": "2023-04-17T23:38:49.297Z"
   },
   {
    "duration": 88,
    "start_time": "2023-04-17T23:38:49.403Z"
   },
   {
    "duration": 108,
    "start_time": "2023-04-17T23:38:49.494Z"
   },
   {
    "duration": 186,
    "start_time": "2023-04-17T23:38:49.604Z"
   },
   {
    "duration": 13,
    "start_time": "2023-04-17T23:38:49.791Z"
   },
   {
    "duration": 6,
    "start_time": "2023-04-17T23:38:49.805Z"
   },
   {
    "duration": 20,
    "start_time": "2023-04-17T23:38:49.812Z"
   },
   {
    "duration": 4,
    "start_time": "2023-04-17T23:38:49.835Z"
   },
   {
    "duration": 3540,
    "start_time": "2023-04-17T23:38:49.841Z"
   },
   {
    "duration": 19,
    "start_time": "2023-04-17T23:40:43.579Z"
   },
   {
    "duration": 7539,
    "start_time": "2023-04-17T23:40:48.829Z"
   },
   {
    "duration": 30,
    "start_time": "2023-04-17T23:40:56.371Z"
   },
   {
    "duration": 3558,
    "start_time": "2023-04-17T23:40:58.139Z"
   },
   {
    "duration": 19,
    "start_time": "2023-04-17T23:43:53.037Z"
   },
   {
    "duration": 4090,
    "start_time": "2023-04-17T23:43:56.862Z"
   },
   {
    "duration": 16,
    "start_time": "2023-04-17T23:44:06.193Z"
   },
   {
    "duration": 3584,
    "start_time": "2023-04-17T23:44:08.379Z"
   },
   {
    "duration": 1761,
    "start_time": "2023-04-19T07:14:45.547Z"
   },
   {
    "duration": 48,
    "start_time": "2023-04-19T07:14:47.311Z"
   },
   {
    "duration": 1545,
    "start_time": "2023-04-19T07:14:48.502Z"
   },
   {
    "duration": 28,
    "start_time": "2023-04-19T07:14:50.049Z"
   },
   {
    "duration": 43,
    "start_time": "2023-04-19T07:14:50.079Z"
   },
   {
    "duration": 3,
    "start_time": "2023-04-19T07:14:50.597Z"
   },
   {
    "duration": 136,
    "start_time": "2023-04-19T07:14:51.541Z"
   },
   {
    "duration": 164,
    "start_time": "2023-04-19T07:14:52.195Z"
   },
   {
    "duration": 15,
    "start_time": "2023-04-19T07:14:52.558Z"
   },
   {
    "duration": 43,
    "start_time": "2023-04-19T07:14:53.582Z"
   },
   {
    "duration": 2627,
    "start_time": "2023-04-19T07:14:55.101Z"
   },
   {
    "duration": 13,
    "start_time": "2023-04-19T07:14:57.730Z"
   },
   {
    "duration": 29,
    "start_time": "2023-04-19T07:14:59.261Z"
   },
   {
    "duration": 11,
    "start_time": "2023-04-19T07:15:52.295Z"
   },
   {
    "duration": 14,
    "start_time": "2023-04-19T07:15:53.886Z"
   },
   {
    "duration": 12,
    "start_time": "2023-04-19T07:16:38.983Z"
   },
   {
    "duration": 14,
    "start_time": "2023-04-19T07:16:39.478Z"
   },
   {
    "duration": 14,
    "start_time": "2023-04-19T07:16:40.854Z"
   },
   {
    "duration": 15,
    "start_time": "2023-04-19T07:16:42.287Z"
   },
   {
    "duration": 14,
    "start_time": "2023-04-19T07:18:29.960Z"
   },
   {
    "duration": 18,
    "start_time": "2023-04-19T07:18:30.768Z"
   },
   {
    "duration": 5,
    "start_time": "2023-04-19T07:18:34.511Z"
   },
   {
    "duration": 3,
    "start_time": "2023-04-19T07:18:43.984Z"
   },
   {
    "duration": 16,
    "start_time": "2023-04-19T07:18:44.609Z"
   },
   {
    "duration": 5,
    "start_time": "2023-04-19T07:26:18.958Z"
   },
   {
    "duration": 2930,
    "start_time": "2023-04-19T07:26:19.845Z"
   },
   {
    "duration": 19,
    "start_time": "2023-04-19T07:26:27.471Z"
   },
   {
    "duration": 4,
    "start_time": "2023-04-19T07:26:35.861Z"
   },
   {
    "duration": 3175,
    "start_time": "2023-04-19T07:26:36.685Z"
   },
   {
    "duration": 5,
    "start_time": "2023-04-19T07:26:49.373Z"
   },
   {
    "duration": 105,
    "start_time": "2023-04-19T07:26:50.469Z"
   },
   {
    "duration": 5,
    "start_time": "2023-04-19T07:26:55.661Z"
   },
   {
    "duration": 3434,
    "start_time": "2023-04-19T07:26:56.125Z"
   },
   {
    "duration": 1371,
    "start_time": "2023-04-19T07:28:02.405Z"
   },
   {
    "duration": 46,
    "start_time": "2023-04-19T07:28:03.778Z"
   },
   {
    "duration": 412,
    "start_time": "2023-04-19T07:28:03.825Z"
   },
   {
    "duration": 26,
    "start_time": "2023-04-19T07:28:04.240Z"
   },
   {
    "duration": 53,
    "start_time": "2023-04-19T07:28:04.268Z"
   },
   {
    "duration": 3,
    "start_time": "2023-04-19T07:28:04.323Z"
   },
   {
    "duration": 158,
    "start_time": "2023-04-19T07:28:04.327Z"
   },
   {
    "duration": 177,
    "start_time": "2023-04-19T07:28:04.487Z"
   },
   {
    "duration": 24,
    "start_time": "2023-04-19T07:28:04.666Z"
   },
   {
    "duration": 44,
    "start_time": "2023-04-19T07:28:04.692Z"
   },
   {
    "duration": 2704,
    "start_time": "2023-04-19T07:28:04.737Z"
   },
   {
    "duration": 14,
    "start_time": "2023-04-19T07:28:07.442Z"
   },
   {
    "duration": 38,
    "start_time": "2023-04-19T07:28:07.458Z"
   },
   {
    "duration": 187,
    "start_time": "2023-04-19T07:28:07.498Z"
   },
   {
    "duration": 22,
    "start_time": "2023-04-19T07:28:07.688Z"
   },
   {
    "duration": 103,
    "start_time": "2023-04-19T07:28:07.788Z"
   },
   {
    "duration": 15,
    "start_time": "2023-04-19T07:28:07.893Z"
   },
   {
    "duration": 77,
    "start_time": "2023-04-19T07:28:07.910Z"
   },
   {
    "duration": 3,
    "start_time": "2023-04-19T07:28:09.036Z"
   },
   {
    "duration": 17,
    "start_time": "2023-04-19T07:28:09.276Z"
   },
   {
    "duration": 4,
    "start_time": "2023-04-19T07:28:09.957Z"
   },
   {
    "duration": 3590,
    "start_time": "2023-04-19T07:28:10.717Z"
   },
   {
    "duration": 18,
    "start_time": "2023-04-19T07:43:04.539Z"
   },
   {
    "duration": 4,
    "start_time": "2023-04-19T07:43:07.031Z"
   },
   {
    "duration": 4055,
    "start_time": "2023-04-19T07:43:07.629Z"
   },
   {
    "duration": 5,
    "start_time": "2023-04-19T07:43:29.909Z"
   },
   {
    "duration": 49,
    "start_time": "2023-04-19T07:43:41.766Z"
   },
   {
    "duration": 1355,
    "start_time": "2023-04-19T07:43:45.767Z"
   },
   {
    "duration": 42,
    "start_time": "2023-04-19T07:43:47.124Z"
   },
   {
    "duration": 383,
    "start_time": "2023-04-19T07:43:47.167Z"
   },
   {
    "duration": 35,
    "start_time": "2023-04-19T07:43:47.552Z"
   },
   {
    "duration": 37,
    "start_time": "2023-04-19T07:43:47.589Z"
   },
   {
    "duration": 3,
    "start_time": "2023-04-19T07:43:47.628Z"
   },
   {
    "duration": 161,
    "start_time": "2023-04-19T07:43:47.633Z"
   },
   {
    "duration": 175,
    "start_time": "2023-04-19T07:43:47.796Z"
   },
   {
    "duration": 20,
    "start_time": "2023-04-19T07:43:47.973Z"
   },
   {
    "duration": 42,
    "start_time": "2023-04-19T07:43:47.995Z"
   },
   {
    "duration": 2640,
    "start_time": "2023-04-19T07:43:48.039Z"
   },
   {
    "duration": 13,
    "start_time": "2023-04-19T07:43:50.681Z"
   },
   {
    "duration": 90,
    "start_time": "2023-04-19T07:43:50.696Z"
   },
   {
    "duration": 106,
    "start_time": "2023-04-19T07:43:50.788Z"
   },
   {
    "duration": 30,
    "start_time": "2023-04-19T07:43:50.895Z"
   },
   {
    "duration": 162,
    "start_time": "2023-04-19T07:43:50.927Z"
   },
   {
    "duration": 19,
    "start_time": "2023-04-19T07:43:51.091Z"
   },
   {
    "duration": 98,
    "start_time": "2023-04-19T07:43:51.187Z"
   },
   {
    "duration": 3,
    "start_time": "2023-04-19T07:43:51.623Z"
   },
   {
    "duration": 20,
    "start_time": "2023-04-19T07:43:51.894Z"
   },
   {
    "duration": 4,
    "start_time": "2023-04-19T07:43:53.213Z"
   },
   {
    "duration": 4198,
    "start_time": "2023-04-19T07:43:53.511Z"
   },
   {
    "duration": 90,
    "start_time": "2023-04-19T07:45:34.160Z"
   },
   {
    "duration": 5,
    "start_time": "2023-04-19T07:45:56.016Z"
   },
   {
    "duration": 4202,
    "start_time": "2023-04-19T07:45:57.235Z"
   },
   {
    "duration": 1342,
    "start_time": "2023-04-19T07:51:41.307Z"
   },
   {
    "duration": 43,
    "start_time": "2023-04-19T07:51:44.122Z"
   },
   {
    "duration": 387,
    "start_time": "2023-04-19T07:51:45.695Z"
   },
   {
    "duration": 25,
    "start_time": "2023-04-19T07:51:46.084Z"
   },
   {
    "duration": 36,
    "start_time": "2023-04-19T07:51:46.111Z"
   },
   {
    "duration": 3,
    "start_time": "2023-04-19T07:51:46.149Z"
   },
   {
    "duration": 174,
    "start_time": "2023-04-19T07:51:46.154Z"
   },
   {
    "duration": 176,
    "start_time": "2023-04-19T07:51:46.330Z"
   },
   {
    "duration": 14,
    "start_time": "2023-04-19T07:51:46.508Z"
   },
   {
    "duration": 63,
    "start_time": "2023-04-19T07:51:46.524Z"
   },
   {
    "duration": 2644,
    "start_time": "2023-04-19T07:51:46.589Z"
   },
   {
    "duration": 14,
    "start_time": "2023-04-19T07:51:49.234Z"
   },
   {
    "duration": 42,
    "start_time": "2023-04-19T07:51:49.250Z"
   },
   {
    "duration": 102,
    "start_time": "2023-04-19T07:51:49.294Z"
   },
   {
    "duration": 91,
    "start_time": "2023-04-19T07:51:49.397Z"
   },
   {
    "duration": 101,
    "start_time": "2023-04-19T07:51:49.491Z"
   },
   {
    "duration": 20,
    "start_time": "2023-04-19T07:51:49.595Z"
   },
   {
    "duration": 69,
    "start_time": "2023-04-19T07:51:49.617Z"
   },
   {
    "duration": 4,
    "start_time": "2023-04-19T07:51:51.762Z"
   },
   {
    "duration": 20,
    "start_time": "2023-04-19T07:51:52.810Z"
   },
   {
    "duration": 5,
    "start_time": "2023-04-19T07:51:55.033Z"
   },
   {
    "duration": 4230,
    "start_time": "2023-04-19T07:51:56.553Z"
   },
   {
    "duration": 1377,
    "start_time": "2023-04-19T07:52:43.315Z"
   },
   {
    "duration": 41,
    "start_time": "2023-04-19T07:52:44.694Z"
   },
   {
    "duration": 373,
    "start_time": "2023-04-19T07:52:44.737Z"
   },
   {
    "duration": 25,
    "start_time": "2023-04-19T07:52:45.112Z"
   },
   {
    "duration": 53,
    "start_time": "2023-04-19T07:52:45.139Z"
   },
   {
    "duration": 3,
    "start_time": "2023-04-19T07:52:45.193Z"
   },
   {
    "duration": 128,
    "start_time": "2023-04-19T07:52:45.197Z"
   },
   {
    "duration": 162,
    "start_time": "2023-04-19T07:52:45.326Z"
   },
   {
    "duration": 17,
    "start_time": "2023-04-19T07:52:45.490Z"
   },
   {
    "duration": 55,
    "start_time": "2023-04-19T07:52:45.509Z"
   },
   {
    "duration": 2499,
    "start_time": "2023-04-19T07:52:45.565Z"
   },
   {
    "duration": 21,
    "start_time": "2023-04-19T07:52:48.066Z"
   },
   {
    "duration": 24,
    "start_time": "2023-04-19T07:52:48.089Z"
   },
   {
    "duration": 174,
    "start_time": "2023-04-19T07:52:48.115Z"
   },
   {
    "duration": 27,
    "start_time": "2023-04-19T07:52:48.292Z"
   },
   {
    "duration": 171,
    "start_time": "2023-04-19T07:52:48.321Z"
   },
   {
    "duration": 22,
    "start_time": "2023-04-19T07:52:48.494Z"
   },
   {
    "duration": 68,
    "start_time": "2023-04-19T07:52:48.520Z"
   },
   {
    "duration": 7,
    "start_time": "2023-04-19T07:52:48.590Z"
   },
   {
    "duration": 105,
    "start_time": "2023-04-19T07:52:48.599Z"
   },
   {
    "duration": 4,
    "start_time": "2023-04-19T07:52:49.995Z"
   },
   {
    "duration": 4031,
    "start_time": "2023-04-19T07:52:50.363Z"
   }
  ],
  "kernelspec": {
   "display_name": "Python 3 (ipykernel)",
   "language": "python",
   "name": "python3"
  },
  "language_info": {
   "codemirror_mode": {
    "name": "ipython",
    "version": 3
   },
   "file_extension": ".py",
   "mimetype": "text/x-python",
   "name": "python",
   "nbconvert_exporter": "python",
   "pygments_lexer": "ipython3",
   "version": "3.9.5"
  },
  "toc": {
   "base_numbering": 1,
   "nav_menu": {},
   "number_sections": true,
   "sideBar": true,
   "skip_h1_title": true,
   "title_cell": "Table of Contents",
   "title_sidebar": "Contents",
   "toc_cell": false,
   "toc_position": {},
   "toc_section_display": true,
   "toc_window_display": false
  }
 },
 "nbformat": 4,
 "nbformat_minor": 2
}
