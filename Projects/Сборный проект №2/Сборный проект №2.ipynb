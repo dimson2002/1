{
 "cells": [
  {
   "cell_type": "markdown",
   "metadata": {
    "toc": true
   },
   "source": [
    "<h1>Содержание<span class=\"tocSkip\"></span></h1>\n",
    "<div class=\"toc\"><ul class=\"toc-item\"><li><span><a href=\"#Подготовка-данных\" data-toc-modified-id=\"Подготовка-данных-1\"><span class=\"toc-item-num\">1&nbsp;&nbsp;</span>Подготовка данных</a></span><ul class=\"toc-item\"><li><span><a href=\"#Откройте-файлы-и-изучите-их\" data-toc-modified-id=\"Откройте-файлы-и-изучите-их-1.1\"><span class=\"toc-item-num\">1.1&nbsp;&nbsp;</span>Откройте файлы и изучите их</a></span></li><li><span><a href=\"#-Комментарий-ревьюера-v1\" data-toc-modified-id=\"-Комментарий-ревьюера-v1-1.2\"><span class=\"toc-item-num\">1.2&nbsp;&nbsp;</span> Комментарий ревьюера v1</a></span></li><li><span><a href=\"#Проверка-эффективности-обогащения\" data-toc-modified-id=\"Проверка-эффективности-обогащения-1.3\"><span class=\"toc-item-num\">1.3&nbsp;&nbsp;</span>Проверка эффективности обогащения</a></span></li><li><span><a href=\"#-Комментарий-ревьюера-v1\" data-toc-modified-id=\"-Комментарий-ревьюера-v1-1.4\"><span class=\"toc-item-num\">1.4&nbsp;&nbsp;</span> Комментарий ревьюера v1</a></span></li><li><span><a href=\"#Анализ-признаков,-недоступных-в-тестовой-выборке\" data-toc-modified-id=\"Анализ-признаков,-недоступных-в-тестовой-выборке-1.5\"><span class=\"toc-item-num\">1.5&nbsp;&nbsp;</span>Анализ признаков, недоступных в тестовой выборке</a></span></li><li><span><a href=\"#-Комментарий-ревьюера-v1\" data-toc-modified-id=\"-Комментарий-ревьюера-v1-1.6\"><span class=\"toc-item-num\">1.6&nbsp;&nbsp;</span> Комментарий ревьюера v1</a></span></li><li><span><a href=\"#Предобработка-данных\" data-toc-modified-id=\"Предобработка-данных-1.7\"><span class=\"toc-item-num\">1.7&nbsp;&nbsp;</span>Предобработка данных</a></span></li><li><span><a href=\"#-Комментарий-ревьюера-v1\" data-toc-modified-id=\"-Комментарий-ревьюера-v1-1.8\"><span class=\"toc-item-num\">1.8&nbsp;&nbsp;</span> Комментарий ревьюера v1</a></span></li></ul></li><li><span><a href=\"#Анализ-данных\" data-toc-modified-id=\"Анализ-данных-2\"><span class=\"toc-item-num\">2&nbsp;&nbsp;</span>Анализ данных</a></span><ul class=\"toc-item\"><li><span><a href=\"#Изменение-концентрации-металлов-(Au,-Ag,-Pb)-на-различных-этапах-очистки\" data-toc-modified-id=\"Изменение-концентрации-металлов-(Au,-Ag,-Pb)-на-различных-этапах-очистки-2.1\"><span class=\"toc-item-num\">2.1&nbsp;&nbsp;</span>Изменение концентрации металлов (Au, Ag, Pb) на различных этапах очистки</a></span></li><li><span><a href=\"#-Комментарий-ревьюера-v1\" data-toc-modified-id=\"-Комментарий-ревьюера-v1-2.2\"><span class=\"toc-item-num\">2.2&nbsp;&nbsp;</span> Комментарий ревьюера v1</a></span></li><li><span><a href=\"#Распределения-размеров-гранул-сырья-на-обучающей-и-тестовой-выборках\" data-toc-modified-id=\"Распределения-размеров-гранул-сырья-на-обучающей-и-тестовой-выборках-2.3\"><span class=\"toc-item-num\">2.3&nbsp;&nbsp;</span>Распределения размеров гранул сырья на обучающей и тестовой выборках</a></span></li><li><span><a href=\"#-Комментарий-ревьюера-v1\" data-toc-modified-id=\"-Комментарий-ревьюера-v1-2.4\"><span class=\"toc-item-num\">2.4&nbsp;&nbsp;</span> Комментарий ревьюера v1</a></span></li><li><span><a href=\"#Исследование-суммарной-концентрации-всех-веществ-на-разных-стадиях:-в-сырье,-в-черновом-и-финальном-концентратах\" data-toc-modified-id=\"Исследование-суммарной-концентрации-всех-веществ-на-разных-стадиях:-в-сырье,-в-черновом-и-финальном-концентратах-2.5\"><span class=\"toc-item-num\">2.5&nbsp;&nbsp;</span>Исследование суммарной концентрации всех веществ на разных стадиях: в сырье, в черновом и финальном концентратах</a></span><ul class=\"toc-item\"><li><span><a href=\"#Исследование-суммарной-концентрации-всех-веществ-на-стадии-сырья.\" data-toc-modified-id=\"Исследование-суммарной-концентрации-всех-веществ-на-стадии-сырья.-2.5.1\"><span class=\"toc-item-num\">2.5.1&nbsp;&nbsp;</span>Исследование суммарной концентрации всех веществ на стадии сырья.</a></span></li><li><span><a href=\"#Исследование-суммарной-концентрации-всех-веществ-на-чернового-концентрата.\" data-toc-modified-id=\"Исследование-суммарной-концентрации-всех-веществ-на-чернового-концентрата.-2.5.2\"><span class=\"toc-item-num\">2.5.2&nbsp;&nbsp;</span>Исследование суммарной концентрации всех веществ на чернового концентрата.</a></span></li><li><span><a href=\"#Исследование-суммарной-концентрации-всех-веществ-на-стадии-финального-концентрата.\" data-toc-modified-id=\"Исследование-суммарной-концентрации-всех-веществ-на-стадии-финального-концентрата.-2.5.3\"><span class=\"toc-item-num\">2.5.3&nbsp;&nbsp;</span>Исследование суммарной концентрации всех веществ на стадии финального концентрата.</a></span></li></ul></li><li><span><a href=\"#-Комментарий-ревьюера-v1\" data-toc-modified-id=\"-Комментарий-ревьюера-v1-2.6\"><span class=\"toc-item-num\">2.6&nbsp;&nbsp;</span> Комментарий ревьюера v1</a></span></li></ul></li><li><span><a href=\"#Модель\" data-toc-modified-id=\"Модель-3\"><span class=\"toc-item-num\">3&nbsp;&nbsp;</span>Модель</a></span><ul class=\"toc-item\"><li><span><a href=\"#Функция-для-вычисления-итоговой-sMAPE\" data-toc-modified-id=\"Функция-для-вычисления-итоговой-sMAPE-3.1\"><span class=\"toc-item-num\">3.1&nbsp;&nbsp;</span>Функция для вычисления итоговой sMAPE</a></span></li><li><span><a href=\"#-Комментарий-ревьюера-v1\" data-toc-modified-id=\"-Комментарий-ревьюера-v1-3.2\"><span class=\"toc-item-num\">3.2&nbsp;&nbsp;</span> Комментарий ревьюера v1</a></span></li><li><span><a href=\"#Обучение-моделей\" data-toc-modified-id=\"Обучение-моделей-3.3\"><span class=\"toc-item-num\">3.3&nbsp;&nbsp;</span>Обучение моделей</a></span><ul class=\"toc-item\"><li><span><a href=\"#Дерево-решений\" data-toc-modified-id=\"Дерево-решений-3.3.1\"><span class=\"toc-item-num\">3.3.1&nbsp;&nbsp;</span>Дерево решений</a></span></li></ul></li><li><span><a href=\"#-Комментарий-ревьюера-v1\" data-toc-modified-id=\"-Комментарий-ревьюера-v1-3.4\"><span class=\"toc-item-num\">3.4&nbsp;&nbsp;</span> Комментарий ревьюера v1</a></span><ul class=\"toc-item\"><li><span><a href=\"#Случайный-лес\" data-toc-modified-id=\"Случайный-лес-3.4.1\"><span class=\"toc-item-num\">3.4.1&nbsp;&nbsp;</span>Случайный лес</a></span></li></ul></li><li><span><a href=\"#-Комментарий-ревьюера-v2\" data-toc-modified-id=\"-Комментарий-ревьюера-v2-3.5\"><span class=\"toc-item-num\">3.5&nbsp;&nbsp;</span> Комментарий ревьюера v2</a></span><ul class=\"toc-item\"><li><span><a href=\"#Линейная-регрессия\" data-toc-modified-id=\"Линейная-регрессия-3.5.1\"><span class=\"toc-item-num\">3.5.1&nbsp;&nbsp;</span>Линейная регрессия</a></span></li></ul></li><li><span><a href=\"#-Комментарий-ревьюера-v1\" data-toc-modified-id=\"-Комментарий-ревьюера-v1-3.6\"><span class=\"toc-item-num\">3.6&nbsp;&nbsp;</span> Комментарий ревьюера v1</a></span></li><li><span><a href=\"#-Комментарий-ревьюера-v1\" data-toc-modified-id=\"-Комментарий-ревьюера-v1-3.7\"><span class=\"toc-item-num\">3.7&nbsp;&nbsp;</span> Комментарий ревьюера v1</a></span></li><li><span><a href=\"#-Комментарий-ревьюера-v1\" data-toc-modified-id=\"-Комментарий-ревьюера-v1-3.8\"><span class=\"toc-item-num\">3.8&nbsp;&nbsp;</span> Комментарий ревьюера v1</a></span></li><li><span><a href=\"#-Комментарий-ревьюера-v2\" data-toc-modified-id=\"-Комментарий-ревьюера-v2-3.9\"><span class=\"toc-item-num\">3.9&nbsp;&nbsp;</span> Комментарий ревьюера v2</a></span></li></ul></li><li><span><a href=\"#Чек-лист-готовности-проекта\" data-toc-modified-id=\"Чек-лист-готовности-проекта-4\"><span class=\"toc-item-num\">4&nbsp;&nbsp;</span>Чек-лист готовности проекта</a></span></li></ul></div>"
   ]
  },
  {
   "cell_type": "markdown",
   "metadata": {},
   "source": [
    "# Восстановление золота из руды"
   ]
  },
  {
   "cell_type": "markdown",
   "metadata": {},
   "source": [
    "Подготовьте прототип модели машинного обучения для «Цифры». Компания разрабатывает решения для эффективной работы промышленных предприятий.\n",
    "\n",
    "Модель должна предсказать коэффициент восстановления золота из золотосодержащей руды. Используйте данные с параметрами добычи и очистки. \n",
    "\n",
    "Модель поможет оптимизировать производство, чтобы не запускать предприятие с убыточными характеристиками.\n",
    "\n",
    "Вам нужно:\n",
    "\n",
    "1. Подготовить данные;\n",
    "2. Провести исследовательский анализ данных;\n",
    "3. Построить и обучить модель.\n",
    "\n",
    "Чтобы выполнить проект, обращайтесь к библиотекам *pandas*, *matplotlib* и *sklearn.* Вам поможет их документация."
   ]
  },
  {
   "cell_type": "markdown",
   "metadata": {},
   "source": [
    "## Подготовка данных"
   ]
  },
  {
   "cell_type": "markdown",
   "metadata": {},
   "source": [
    "### Откройте файлы и изучите их"
   ]
  },
  {
   "cell_type": "code",
   "execution_count": 51,
   "metadata": {},
   "outputs": [
    {
     "data": {
      "text/html": [
       "<style>.container { width:90% !important; }</style>"
      ],
      "text/plain": [
       "<IPython.core.display.HTML object>"
      ]
     },
     "metadata": {},
     "output_type": "display_data"
    }
   ],
   "source": [
    "import pandas as pd\n",
    "\n",
    "import numpy as np\n",
    "from numpy.random import RandomState\n",
    "\n",
    "from sklearn.metrics import mean_absolute_error\n",
    "from sklearn.metrics import make_scorer\n",
    "from sklearn.model_selection import GridSearchCV\n",
    "from sklearn.ensemble import RandomForestRegressor\n",
    "from sklearn.tree import DecisionTreeRegressor\n",
    "from sklearn.linear_model import LinearRegression\n",
    "from sklearn.model_selection import cross_val_score\n",
    "from sklearn.model_selection import RandomizedSearchCV\n",
    "from sklearn.dummy import DummyRegressor\n",
    "\n",
    "import matplotlib.pyplot as plt\n",
    "\n",
    "from IPython.core.display import display, HTML\n",
    "display(HTML(\"<style>.container { width:90% !important; }</style>\"))\n",
    "\n",
    "from scipy.stats import ks_2samp\n",
    "from scipy.stats import iqr\n",
    "\n",
    "import warnings\n",
    "warnings.filterwarnings(\"ignore\")\n",
    "\n",
    "\n",
    "from tqdm import tqdm\n",
    "\n",
    "TARGETS = ['rougher.output.recovery', 'final.output.recovery']"
   ]
  },
  {
   "cell_type": "code",
   "execution_count": 52,
   "metadata": {},
   "outputs": [],
   "source": [
    "data_train = pd.read_csv(\"/datasets/gold_recovery_train_new.csv\")\n",
    "data_test = pd.read_csv(\"/datasets/gold_recovery_test_new.csv\")\n",
    "data_full = pd.read_csv(\"/datasets/gold_recovery_full_new.csv\")"
   ]
  },
  {
   "cell_type": "code",
   "execution_count": 53,
   "metadata": {},
   "outputs": [],
   "source": [
    "data_train = data_train.set_index('date')\n",
    "data_test = data_test.set_index('date')\n",
    "data_full = data_full.set_index('date')"
   ]
  },
  {
   "cell_type": "code",
   "execution_count": 54,
   "metadata": {
    "scrolled": true
   },
   "outputs": [],
   "source": [
    "def info(data):\n",
    "    rows, columns = data.shape\n",
    "    print('Количество строк:', rows)\n",
    "    print('Количество столбцов:', columns)\n",
    "    display(data.head(5))\n",
    "    display(data.describe())\n",
    "    data.info()"
   ]
  },
  {
   "cell_type": "code",
   "execution_count": 55,
   "metadata": {
    "scrolled": true
   },
   "outputs": [
    {
     "name": "stdout",
     "output_type": "stream",
     "text": [
      "Количество строк: 14149\n",
      "Количество столбцов: 86\n"
     ]
    },
    {
     "data": {
      "text/html": [
       "<div>\n",
       "<style scoped>\n",
       "    .dataframe tbody tr th:only-of-type {\n",
       "        vertical-align: middle;\n",
       "    }\n",
       "\n",
       "    .dataframe tbody tr th {\n",
       "        vertical-align: top;\n",
       "    }\n",
       "\n",
       "    .dataframe thead th {\n",
       "        text-align: right;\n",
       "    }\n",
       "</style>\n",
       "<table border=\"1\" class=\"dataframe\">\n",
       "  <thead>\n",
       "    <tr style=\"text-align: right;\">\n",
       "      <th></th>\n",
       "      <th>final.output.concentrate_ag</th>\n",
       "      <th>final.output.concentrate_pb</th>\n",
       "      <th>final.output.concentrate_sol</th>\n",
       "      <th>final.output.concentrate_au</th>\n",
       "      <th>final.output.recovery</th>\n",
       "      <th>final.output.tail_ag</th>\n",
       "      <th>final.output.tail_pb</th>\n",
       "      <th>final.output.tail_sol</th>\n",
       "      <th>final.output.tail_au</th>\n",
       "      <th>primary_cleaner.input.sulfate</th>\n",
       "      <th>...</th>\n",
       "      <th>secondary_cleaner.state.floatbank4_a_air</th>\n",
       "      <th>secondary_cleaner.state.floatbank4_a_level</th>\n",
       "      <th>secondary_cleaner.state.floatbank4_b_air</th>\n",
       "      <th>secondary_cleaner.state.floatbank4_b_level</th>\n",
       "      <th>secondary_cleaner.state.floatbank5_a_air</th>\n",
       "      <th>secondary_cleaner.state.floatbank5_a_level</th>\n",
       "      <th>secondary_cleaner.state.floatbank5_b_air</th>\n",
       "      <th>secondary_cleaner.state.floatbank5_b_level</th>\n",
       "      <th>secondary_cleaner.state.floatbank6_a_air</th>\n",
       "      <th>secondary_cleaner.state.floatbank6_a_level</th>\n",
       "    </tr>\n",
       "    <tr>\n",
       "      <th>date</th>\n",
       "      <th></th>\n",
       "      <th></th>\n",
       "      <th></th>\n",
       "      <th></th>\n",
       "      <th></th>\n",
       "      <th></th>\n",
       "      <th></th>\n",
       "      <th></th>\n",
       "      <th></th>\n",
       "      <th></th>\n",
       "      <th></th>\n",
       "      <th></th>\n",
       "      <th></th>\n",
       "      <th></th>\n",
       "      <th></th>\n",
       "      <th></th>\n",
       "      <th></th>\n",
       "      <th></th>\n",
       "      <th></th>\n",
       "      <th></th>\n",
       "      <th></th>\n",
       "    </tr>\n",
       "  </thead>\n",
       "  <tbody>\n",
       "    <tr>\n",
       "      <th>2016-01-15 00:00:00</th>\n",
       "      <td>6.055403</td>\n",
       "      <td>9.889648</td>\n",
       "      <td>5.507324</td>\n",
       "      <td>42.192020</td>\n",
       "      <td>70.541216</td>\n",
       "      <td>10.411962</td>\n",
       "      <td>0.895447</td>\n",
       "      <td>16.904297</td>\n",
       "      <td>2.143149</td>\n",
       "      <td>127.092003</td>\n",
       "      <td>...</td>\n",
       "      <td>14.016835</td>\n",
       "      <td>-502.488007</td>\n",
       "      <td>12.099931</td>\n",
       "      <td>-504.715942</td>\n",
       "      <td>9.925633</td>\n",
       "      <td>-498.310211</td>\n",
       "      <td>8.079666</td>\n",
       "      <td>-500.470978</td>\n",
       "      <td>14.151341</td>\n",
       "      <td>-605.841980</td>\n",
       "    </tr>\n",
       "    <tr>\n",
       "      <th>2016-01-15 01:00:00</th>\n",
       "      <td>6.029369</td>\n",
       "      <td>9.968944</td>\n",
       "      <td>5.257781</td>\n",
       "      <td>42.701629</td>\n",
       "      <td>69.266198</td>\n",
       "      <td>10.462676</td>\n",
       "      <td>0.927452</td>\n",
       "      <td>16.634514</td>\n",
       "      <td>2.224930</td>\n",
       "      <td>125.629232</td>\n",
       "      <td>...</td>\n",
       "      <td>13.992281</td>\n",
       "      <td>-505.503262</td>\n",
       "      <td>11.950531</td>\n",
       "      <td>-501.331529</td>\n",
       "      <td>10.039245</td>\n",
       "      <td>-500.169983</td>\n",
       "      <td>7.984757</td>\n",
       "      <td>-500.582168</td>\n",
       "      <td>13.998353</td>\n",
       "      <td>-599.787184</td>\n",
       "    </tr>\n",
       "    <tr>\n",
       "      <th>2016-01-15 02:00:00</th>\n",
       "      <td>6.055926</td>\n",
       "      <td>10.213995</td>\n",
       "      <td>5.383759</td>\n",
       "      <td>42.657501</td>\n",
       "      <td>68.116445</td>\n",
       "      <td>10.507046</td>\n",
       "      <td>0.953716</td>\n",
       "      <td>16.208849</td>\n",
       "      <td>2.257889</td>\n",
       "      <td>123.819808</td>\n",
       "      <td>...</td>\n",
       "      <td>14.015015</td>\n",
       "      <td>-502.520901</td>\n",
       "      <td>11.912783</td>\n",
       "      <td>-501.133383</td>\n",
       "      <td>10.070913</td>\n",
       "      <td>-500.129135</td>\n",
       "      <td>8.013877</td>\n",
       "      <td>-500.517572</td>\n",
       "      <td>14.028663</td>\n",
       "      <td>-601.427363</td>\n",
       "    </tr>\n",
       "    <tr>\n",
       "      <th>2016-01-15 03:00:00</th>\n",
       "      <td>6.047977</td>\n",
       "      <td>9.977019</td>\n",
       "      <td>4.858634</td>\n",
       "      <td>42.689819</td>\n",
       "      <td>68.347543</td>\n",
       "      <td>10.422762</td>\n",
       "      <td>0.883763</td>\n",
       "      <td>16.532835</td>\n",
       "      <td>2.146849</td>\n",
       "      <td>122.270188</td>\n",
       "      <td>...</td>\n",
       "      <td>14.036510</td>\n",
       "      <td>-500.857308</td>\n",
       "      <td>11.999550</td>\n",
       "      <td>-501.193686</td>\n",
       "      <td>9.970366</td>\n",
       "      <td>-499.201640</td>\n",
       "      <td>7.977324</td>\n",
       "      <td>-500.255908</td>\n",
       "      <td>14.005551</td>\n",
       "      <td>-599.996129</td>\n",
       "    </tr>\n",
       "    <tr>\n",
       "      <th>2016-01-15 04:00:00</th>\n",
       "      <td>6.148599</td>\n",
       "      <td>10.142511</td>\n",
       "      <td>4.939416</td>\n",
       "      <td>42.774141</td>\n",
       "      <td>66.927016</td>\n",
       "      <td>10.360302</td>\n",
       "      <td>0.792826</td>\n",
       "      <td>16.525686</td>\n",
       "      <td>2.055292</td>\n",
       "      <td>117.988169</td>\n",
       "      <td>...</td>\n",
       "      <td>14.027298</td>\n",
       "      <td>-499.838632</td>\n",
       "      <td>11.953070</td>\n",
       "      <td>-501.053894</td>\n",
       "      <td>9.925709</td>\n",
       "      <td>-501.686727</td>\n",
       "      <td>7.894242</td>\n",
       "      <td>-500.356035</td>\n",
       "      <td>13.996647</td>\n",
       "      <td>-601.496691</td>\n",
       "    </tr>\n",
       "  </tbody>\n",
       "</table>\n",
       "<p>5 rows × 86 columns</p>\n",
       "</div>"
      ],
      "text/plain": [
       "                     final.output.concentrate_ag  final.output.concentrate_pb  \\\n",
       "date                                                                            \n",
       "2016-01-15 00:00:00                     6.055403                     9.889648   \n",
       "2016-01-15 01:00:00                     6.029369                     9.968944   \n",
       "2016-01-15 02:00:00                     6.055926                    10.213995   \n",
       "2016-01-15 03:00:00                     6.047977                     9.977019   \n",
       "2016-01-15 04:00:00                     6.148599                    10.142511   \n",
       "\n",
       "                     final.output.concentrate_sol  \\\n",
       "date                                                \n",
       "2016-01-15 00:00:00                      5.507324   \n",
       "2016-01-15 01:00:00                      5.257781   \n",
       "2016-01-15 02:00:00                      5.383759   \n",
       "2016-01-15 03:00:00                      4.858634   \n",
       "2016-01-15 04:00:00                      4.939416   \n",
       "\n",
       "                     final.output.concentrate_au  final.output.recovery  \\\n",
       "date                                                                      \n",
       "2016-01-15 00:00:00                    42.192020              70.541216   \n",
       "2016-01-15 01:00:00                    42.701629              69.266198   \n",
       "2016-01-15 02:00:00                    42.657501              68.116445   \n",
       "2016-01-15 03:00:00                    42.689819              68.347543   \n",
       "2016-01-15 04:00:00                    42.774141              66.927016   \n",
       "\n",
       "                     final.output.tail_ag  final.output.tail_pb  \\\n",
       "date                                                              \n",
       "2016-01-15 00:00:00             10.411962              0.895447   \n",
       "2016-01-15 01:00:00             10.462676              0.927452   \n",
       "2016-01-15 02:00:00             10.507046              0.953716   \n",
       "2016-01-15 03:00:00             10.422762              0.883763   \n",
       "2016-01-15 04:00:00             10.360302              0.792826   \n",
       "\n",
       "                     final.output.tail_sol  final.output.tail_au  \\\n",
       "date                                                               \n",
       "2016-01-15 00:00:00              16.904297              2.143149   \n",
       "2016-01-15 01:00:00              16.634514              2.224930   \n",
       "2016-01-15 02:00:00              16.208849              2.257889   \n",
       "2016-01-15 03:00:00              16.532835              2.146849   \n",
       "2016-01-15 04:00:00              16.525686              2.055292   \n",
       "\n",
       "                     primary_cleaner.input.sulfate  ...  \\\n",
       "date                                                ...   \n",
       "2016-01-15 00:00:00                     127.092003  ...   \n",
       "2016-01-15 01:00:00                     125.629232  ...   \n",
       "2016-01-15 02:00:00                     123.819808  ...   \n",
       "2016-01-15 03:00:00                     122.270188  ...   \n",
       "2016-01-15 04:00:00                     117.988169  ...   \n",
       "\n",
       "                     secondary_cleaner.state.floatbank4_a_air  \\\n",
       "date                                                            \n",
       "2016-01-15 00:00:00                                 14.016835   \n",
       "2016-01-15 01:00:00                                 13.992281   \n",
       "2016-01-15 02:00:00                                 14.015015   \n",
       "2016-01-15 03:00:00                                 14.036510   \n",
       "2016-01-15 04:00:00                                 14.027298   \n",
       "\n",
       "                     secondary_cleaner.state.floatbank4_a_level  \\\n",
       "date                                                              \n",
       "2016-01-15 00:00:00                                 -502.488007   \n",
       "2016-01-15 01:00:00                                 -505.503262   \n",
       "2016-01-15 02:00:00                                 -502.520901   \n",
       "2016-01-15 03:00:00                                 -500.857308   \n",
       "2016-01-15 04:00:00                                 -499.838632   \n",
       "\n",
       "                     secondary_cleaner.state.floatbank4_b_air  \\\n",
       "date                                                            \n",
       "2016-01-15 00:00:00                                 12.099931   \n",
       "2016-01-15 01:00:00                                 11.950531   \n",
       "2016-01-15 02:00:00                                 11.912783   \n",
       "2016-01-15 03:00:00                                 11.999550   \n",
       "2016-01-15 04:00:00                                 11.953070   \n",
       "\n",
       "                     secondary_cleaner.state.floatbank4_b_level  \\\n",
       "date                                                              \n",
       "2016-01-15 00:00:00                                 -504.715942   \n",
       "2016-01-15 01:00:00                                 -501.331529   \n",
       "2016-01-15 02:00:00                                 -501.133383   \n",
       "2016-01-15 03:00:00                                 -501.193686   \n",
       "2016-01-15 04:00:00                                 -501.053894   \n",
       "\n",
       "                     secondary_cleaner.state.floatbank5_a_air  \\\n",
       "date                                                            \n",
       "2016-01-15 00:00:00                                  9.925633   \n",
       "2016-01-15 01:00:00                                 10.039245   \n",
       "2016-01-15 02:00:00                                 10.070913   \n",
       "2016-01-15 03:00:00                                  9.970366   \n",
       "2016-01-15 04:00:00                                  9.925709   \n",
       "\n",
       "                     secondary_cleaner.state.floatbank5_a_level  \\\n",
       "date                                                              \n",
       "2016-01-15 00:00:00                                 -498.310211   \n",
       "2016-01-15 01:00:00                                 -500.169983   \n",
       "2016-01-15 02:00:00                                 -500.129135   \n",
       "2016-01-15 03:00:00                                 -499.201640   \n",
       "2016-01-15 04:00:00                                 -501.686727   \n",
       "\n",
       "                     secondary_cleaner.state.floatbank5_b_air  \\\n",
       "date                                                            \n",
       "2016-01-15 00:00:00                                  8.079666   \n",
       "2016-01-15 01:00:00                                  7.984757   \n",
       "2016-01-15 02:00:00                                  8.013877   \n",
       "2016-01-15 03:00:00                                  7.977324   \n",
       "2016-01-15 04:00:00                                  7.894242   \n",
       "\n",
       "                     secondary_cleaner.state.floatbank5_b_level  \\\n",
       "date                                                              \n",
       "2016-01-15 00:00:00                                 -500.470978   \n",
       "2016-01-15 01:00:00                                 -500.582168   \n",
       "2016-01-15 02:00:00                                 -500.517572   \n",
       "2016-01-15 03:00:00                                 -500.255908   \n",
       "2016-01-15 04:00:00                                 -500.356035   \n",
       "\n",
       "                     secondary_cleaner.state.floatbank6_a_air  \\\n",
       "date                                                            \n",
       "2016-01-15 00:00:00                                 14.151341   \n",
       "2016-01-15 01:00:00                                 13.998353   \n",
       "2016-01-15 02:00:00                                 14.028663   \n",
       "2016-01-15 03:00:00                                 14.005551   \n",
       "2016-01-15 04:00:00                                 13.996647   \n",
       "\n",
       "                     secondary_cleaner.state.floatbank6_a_level  \n",
       "date                                                             \n",
       "2016-01-15 00:00:00                                 -605.841980  \n",
       "2016-01-15 01:00:00                                 -599.787184  \n",
       "2016-01-15 02:00:00                                 -601.427363  \n",
       "2016-01-15 03:00:00                                 -599.996129  \n",
       "2016-01-15 04:00:00                                 -601.496691  \n",
       "\n",
       "[5 rows x 86 columns]"
      ]
     },
     "metadata": {},
     "output_type": "display_data"
    },
    {
     "data": {
      "text/html": [
       "<div>\n",
       "<style scoped>\n",
       "    .dataframe tbody tr th:only-of-type {\n",
       "        vertical-align: middle;\n",
       "    }\n",
       "\n",
       "    .dataframe tbody tr th {\n",
       "        vertical-align: top;\n",
       "    }\n",
       "\n",
       "    .dataframe thead th {\n",
       "        text-align: right;\n",
       "    }\n",
       "</style>\n",
       "<table border=\"1\" class=\"dataframe\">\n",
       "  <thead>\n",
       "    <tr style=\"text-align: right;\">\n",
       "      <th></th>\n",
       "      <th>final.output.concentrate_ag</th>\n",
       "      <th>final.output.concentrate_pb</th>\n",
       "      <th>final.output.concentrate_sol</th>\n",
       "      <th>final.output.concentrate_au</th>\n",
       "      <th>final.output.recovery</th>\n",
       "      <th>final.output.tail_ag</th>\n",
       "      <th>final.output.tail_pb</th>\n",
       "      <th>final.output.tail_sol</th>\n",
       "      <th>final.output.tail_au</th>\n",
       "      <th>primary_cleaner.input.sulfate</th>\n",
       "      <th>...</th>\n",
       "      <th>secondary_cleaner.state.floatbank4_a_air</th>\n",
       "      <th>secondary_cleaner.state.floatbank4_a_level</th>\n",
       "      <th>secondary_cleaner.state.floatbank4_b_air</th>\n",
       "      <th>secondary_cleaner.state.floatbank4_b_level</th>\n",
       "      <th>secondary_cleaner.state.floatbank5_a_air</th>\n",
       "      <th>secondary_cleaner.state.floatbank5_a_level</th>\n",
       "      <th>secondary_cleaner.state.floatbank5_b_air</th>\n",
       "      <th>secondary_cleaner.state.floatbank5_b_level</th>\n",
       "      <th>secondary_cleaner.state.floatbank6_a_air</th>\n",
       "      <th>secondary_cleaner.state.floatbank6_a_level</th>\n",
       "    </tr>\n",
       "  </thead>\n",
       "  <tbody>\n",
       "    <tr>\n",
       "      <th>count</th>\n",
       "      <td>14148.000000</td>\n",
       "      <td>14148.000000</td>\n",
       "      <td>13938.000000</td>\n",
       "      <td>14149.000000</td>\n",
       "      <td>14149.000000</td>\n",
       "      <td>14149.000000</td>\n",
       "      <td>14049.000000</td>\n",
       "      <td>14144.000000</td>\n",
       "      <td>14149.000000</td>\n",
       "      <td>14129.000000</td>\n",
       "      <td>...</td>\n",
       "      <td>14143.000000</td>\n",
       "      <td>14148.000000</td>\n",
       "      <td>14148.000000</td>\n",
       "      <td>14148.000000</td>\n",
       "      <td>14148.000000</td>\n",
       "      <td>14148.000000</td>\n",
       "      <td>14148.000000</td>\n",
       "      <td>14148.000000</td>\n",
       "      <td>14147.000000</td>\n",
       "      <td>14148.000000</td>\n",
       "    </tr>\n",
       "    <tr>\n",
       "      <th>mean</th>\n",
       "      <td>5.142034</td>\n",
       "      <td>10.132960</td>\n",
       "      <td>9.202849</td>\n",
       "      <td>44.003792</td>\n",
       "      <td>66.518832</td>\n",
       "      <td>9.607035</td>\n",
       "      <td>2.597298</td>\n",
       "      <td>10.512122</td>\n",
       "      <td>2.918421</td>\n",
       "      <td>133.320659</td>\n",
       "      <td>...</td>\n",
       "      <td>19.985454</td>\n",
       "      <td>-478.696836</td>\n",
       "      <td>15.487065</td>\n",
       "      <td>-460.229416</td>\n",
       "      <td>16.775136</td>\n",
       "      <td>-483.956022</td>\n",
       "      <td>13.064590</td>\n",
       "      <td>-483.966564</td>\n",
       "      <td>19.577539</td>\n",
       "      <td>-506.798480</td>\n",
       "    </tr>\n",
       "    <tr>\n",
       "      <th>std</th>\n",
       "      <td>1.369586</td>\n",
       "      <td>1.654930</td>\n",
       "      <td>2.790516</td>\n",
       "      <td>4.905261</td>\n",
       "      <td>10.295402</td>\n",
       "      <td>2.319069</td>\n",
       "      <td>0.971843</td>\n",
       "      <td>3.003617</td>\n",
       "      <td>0.903712</td>\n",
       "      <td>39.431659</td>\n",
       "      <td>...</td>\n",
       "      <td>5.657723</td>\n",
       "      <td>50.736021</td>\n",
       "      <td>5.255655</td>\n",
       "      <td>58.843586</td>\n",
       "      <td>5.831906</td>\n",
       "      <td>37.892788</td>\n",
       "      <td>5.765617</td>\n",
       "      <td>39.207913</td>\n",
       "      <td>5.764417</td>\n",
       "      <td>37.079249</td>\n",
       "    </tr>\n",
       "    <tr>\n",
       "      <th>min</th>\n",
       "      <td>0.000000</td>\n",
       "      <td>0.000000</td>\n",
       "      <td>0.000000</td>\n",
       "      <td>0.000000</td>\n",
       "      <td>0.000000</td>\n",
       "      <td>0.000000</td>\n",
       "      <td>0.000000</td>\n",
       "      <td>0.000000</td>\n",
       "      <td>0.000000</td>\n",
       "      <td>0.003112</td>\n",
       "      <td>...</td>\n",
       "      <td>0.000000</td>\n",
       "      <td>-799.709069</td>\n",
       "      <td>0.000000</td>\n",
       "      <td>-799.889113</td>\n",
       "      <td>-0.372054</td>\n",
       "      <td>-797.142475</td>\n",
       "      <td>0.646208</td>\n",
       "      <td>-800.006180</td>\n",
       "      <td>0.195324</td>\n",
       "      <td>-809.398668</td>\n",
       "    </tr>\n",
       "    <tr>\n",
       "      <th>25%</th>\n",
       "      <td>4.211620</td>\n",
       "      <td>9.297355</td>\n",
       "      <td>7.484645</td>\n",
       "      <td>43.276111</td>\n",
       "      <td>62.545817</td>\n",
       "      <td>7.997429</td>\n",
       "      <td>1.905973</td>\n",
       "      <td>8.811324</td>\n",
       "      <td>2.368607</td>\n",
       "      <td>107.006651</td>\n",
       "      <td>...</td>\n",
       "      <td>14.990775</td>\n",
       "      <td>-500.628656</td>\n",
       "      <td>11.894558</td>\n",
       "      <td>-500.149000</td>\n",
       "      <td>11.083980</td>\n",
       "      <td>-500.363177</td>\n",
       "      <td>8.994405</td>\n",
       "      <td>-500.105994</td>\n",
       "      <td>14.989304</td>\n",
       "      <td>-500.745104</td>\n",
       "    </tr>\n",
       "    <tr>\n",
       "      <th>50%</th>\n",
       "      <td>4.994652</td>\n",
       "      <td>10.297144</td>\n",
       "      <td>8.845462</td>\n",
       "      <td>44.872436</td>\n",
       "      <td>67.432775</td>\n",
       "      <td>9.480270</td>\n",
       "      <td>2.592022</td>\n",
       "      <td>10.514621</td>\n",
       "      <td>2.851025</td>\n",
       "      <td>133.018328</td>\n",
       "      <td>...</td>\n",
       "      <td>20.001789</td>\n",
       "      <td>-499.681450</td>\n",
       "      <td>14.975536</td>\n",
       "      <td>-499.388738</td>\n",
       "      <td>17.932223</td>\n",
       "      <td>-499.702452</td>\n",
       "      <td>11.997547</td>\n",
       "      <td>-499.914556</td>\n",
       "      <td>19.984175</td>\n",
       "      <td>-500.061431</td>\n",
       "    </tr>\n",
       "    <tr>\n",
       "      <th>75%</th>\n",
       "      <td>5.859540</td>\n",
       "      <td>11.170603</td>\n",
       "      <td>10.487508</td>\n",
       "      <td>46.166425</td>\n",
       "      <td>72.346428</td>\n",
       "      <td>11.003707</td>\n",
       "      <td>3.241723</td>\n",
       "      <td>11.933009</td>\n",
       "      <td>3.434764</td>\n",
       "      <td>159.825396</td>\n",
       "      <td>...</td>\n",
       "      <td>24.990826</td>\n",
       "      <td>-477.472413</td>\n",
       "      <td>20.059375</td>\n",
       "      <td>-400.039008</td>\n",
       "      <td>21.346550</td>\n",
       "      <td>-487.712108</td>\n",
       "      <td>17.982903</td>\n",
       "      <td>-453.186936</td>\n",
       "      <td>24.991623</td>\n",
       "      <td>-499.536466</td>\n",
       "    </tr>\n",
       "    <tr>\n",
       "      <th>max</th>\n",
       "      <td>16.001945</td>\n",
       "      <td>17.031899</td>\n",
       "      <td>18.124851</td>\n",
       "      <td>52.756638</td>\n",
       "      <td>100.000000</td>\n",
       "      <td>19.552149</td>\n",
       "      <td>5.639565</td>\n",
       "      <td>22.317730</td>\n",
       "      <td>8.197408</td>\n",
       "      <td>250.127834</td>\n",
       "      <td>...</td>\n",
       "      <td>30.115735</td>\n",
       "      <td>-245.239184</td>\n",
       "      <td>24.007913</td>\n",
       "      <td>-145.071088</td>\n",
       "      <td>43.709931</td>\n",
       "      <td>-275.073125</td>\n",
       "      <td>27.926001</td>\n",
       "      <td>-157.396071</td>\n",
       "      <td>32.188906</td>\n",
       "      <td>-104.427459</td>\n",
       "    </tr>\n",
       "  </tbody>\n",
       "</table>\n",
       "<p>8 rows × 86 columns</p>\n",
       "</div>"
      ],
      "text/plain": [
       "       final.output.concentrate_ag  final.output.concentrate_pb  \\\n",
       "count                 14148.000000                 14148.000000   \n",
       "mean                      5.142034                    10.132960   \n",
       "std                       1.369586                     1.654930   \n",
       "min                       0.000000                     0.000000   \n",
       "25%                       4.211620                     9.297355   \n",
       "50%                       4.994652                    10.297144   \n",
       "75%                       5.859540                    11.170603   \n",
       "max                      16.001945                    17.031899   \n",
       "\n",
       "       final.output.concentrate_sol  final.output.concentrate_au  \\\n",
       "count                  13938.000000                 14149.000000   \n",
       "mean                       9.202849                    44.003792   \n",
       "std                        2.790516                     4.905261   \n",
       "min                        0.000000                     0.000000   \n",
       "25%                        7.484645                    43.276111   \n",
       "50%                        8.845462                    44.872436   \n",
       "75%                       10.487508                    46.166425   \n",
       "max                       18.124851                    52.756638   \n",
       "\n",
       "       final.output.recovery  final.output.tail_ag  final.output.tail_pb  \\\n",
       "count           14149.000000          14149.000000          14049.000000   \n",
       "mean               66.518832              9.607035              2.597298   \n",
       "std                10.295402              2.319069              0.971843   \n",
       "min                 0.000000              0.000000              0.000000   \n",
       "25%                62.545817              7.997429              1.905973   \n",
       "50%                67.432775              9.480270              2.592022   \n",
       "75%                72.346428             11.003707              3.241723   \n",
       "max               100.000000             19.552149              5.639565   \n",
       "\n",
       "       final.output.tail_sol  final.output.tail_au  \\\n",
       "count           14144.000000          14149.000000   \n",
       "mean               10.512122              2.918421   \n",
       "std                 3.003617              0.903712   \n",
       "min                 0.000000              0.000000   \n",
       "25%                 8.811324              2.368607   \n",
       "50%                10.514621              2.851025   \n",
       "75%                11.933009              3.434764   \n",
       "max                22.317730              8.197408   \n",
       "\n",
       "       primary_cleaner.input.sulfate  ...  \\\n",
       "count                   14129.000000  ...   \n",
       "mean                      133.320659  ...   \n",
       "std                        39.431659  ...   \n",
       "min                         0.003112  ...   \n",
       "25%                       107.006651  ...   \n",
       "50%                       133.018328  ...   \n",
       "75%                       159.825396  ...   \n",
       "max                       250.127834  ...   \n",
       "\n",
       "       secondary_cleaner.state.floatbank4_a_air  \\\n",
       "count                              14143.000000   \n",
       "mean                                  19.985454   \n",
       "std                                    5.657723   \n",
       "min                                    0.000000   \n",
       "25%                                   14.990775   \n",
       "50%                                   20.001789   \n",
       "75%                                   24.990826   \n",
       "max                                   30.115735   \n",
       "\n",
       "       secondary_cleaner.state.floatbank4_a_level  \\\n",
       "count                                14148.000000   \n",
       "mean                                  -478.696836   \n",
       "std                                     50.736021   \n",
       "min                                   -799.709069   \n",
       "25%                                   -500.628656   \n",
       "50%                                   -499.681450   \n",
       "75%                                   -477.472413   \n",
       "max                                   -245.239184   \n",
       "\n",
       "       secondary_cleaner.state.floatbank4_b_air  \\\n",
       "count                              14148.000000   \n",
       "mean                                  15.487065   \n",
       "std                                    5.255655   \n",
       "min                                    0.000000   \n",
       "25%                                   11.894558   \n",
       "50%                                   14.975536   \n",
       "75%                                   20.059375   \n",
       "max                                   24.007913   \n",
       "\n",
       "       secondary_cleaner.state.floatbank4_b_level  \\\n",
       "count                                14148.000000   \n",
       "mean                                  -460.229416   \n",
       "std                                     58.843586   \n",
       "min                                   -799.889113   \n",
       "25%                                   -500.149000   \n",
       "50%                                   -499.388738   \n",
       "75%                                   -400.039008   \n",
       "max                                   -145.071088   \n",
       "\n",
       "       secondary_cleaner.state.floatbank5_a_air  \\\n",
       "count                              14148.000000   \n",
       "mean                                  16.775136   \n",
       "std                                    5.831906   \n",
       "min                                   -0.372054   \n",
       "25%                                   11.083980   \n",
       "50%                                   17.932223   \n",
       "75%                                   21.346550   \n",
       "max                                   43.709931   \n",
       "\n",
       "       secondary_cleaner.state.floatbank5_a_level  \\\n",
       "count                                14148.000000   \n",
       "mean                                  -483.956022   \n",
       "std                                     37.892788   \n",
       "min                                   -797.142475   \n",
       "25%                                   -500.363177   \n",
       "50%                                   -499.702452   \n",
       "75%                                   -487.712108   \n",
       "max                                   -275.073125   \n",
       "\n",
       "       secondary_cleaner.state.floatbank5_b_air  \\\n",
       "count                              14148.000000   \n",
       "mean                                  13.064590   \n",
       "std                                    5.765617   \n",
       "min                                    0.646208   \n",
       "25%                                    8.994405   \n",
       "50%                                   11.997547   \n",
       "75%                                   17.982903   \n",
       "max                                   27.926001   \n",
       "\n",
       "       secondary_cleaner.state.floatbank5_b_level  \\\n",
       "count                                14148.000000   \n",
       "mean                                  -483.966564   \n",
       "std                                     39.207913   \n",
       "min                                   -800.006180   \n",
       "25%                                   -500.105994   \n",
       "50%                                   -499.914556   \n",
       "75%                                   -453.186936   \n",
       "max                                   -157.396071   \n",
       "\n",
       "       secondary_cleaner.state.floatbank6_a_air  \\\n",
       "count                              14147.000000   \n",
       "mean                                  19.577539   \n",
       "std                                    5.764417   \n",
       "min                                    0.195324   \n",
       "25%                                   14.989304   \n",
       "50%                                   19.984175   \n",
       "75%                                   24.991623   \n",
       "max                                   32.188906   \n",
       "\n",
       "       secondary_cleaner.state.floatbank6_a_level  \n",
       "count                                14148.000000  \n",
       "mean                                  -506.798480  \n",
       "std                                     37.079249  \n",
       "min                                   -809.398668  \n",
       "25%                                   -500.745104  \n",
       "50%                                   -500.061431  \n",
       "75%                                   -499.536466  \n",
       "max                                   -104.427459  \n",
       "\n",
       "[8 rows x 86 columns]"
      ]
     },
     "metadata": {},
     "output_type": "display_data"
    },
    {
     "name": "stdout",
     "output_type": "stream",
     "text": [
      "<class 'pandas.core.frame.DataFrame'>\n",
      "Index: 14149 entries, 2016-01-15 00:00:00 to 2018-08-18 10:59:59\n",
      "Data columns (total 86 columns):\n",
      " #   Column                                              Non-Null Count  Dtype  \n",
      "---  ------                                              --------------  -----  \n",
      " 0   final.output.concentrate_ag                         14148 non-null  float64\n",
      " 1   final.output.concentrate_pb                         14148 non-null  float64\n",
      " 2   final.output.concentrate_sol                        13938 non-null  float64\n",
      " 3   final.output.concentrate_au                         14149 non-null  float64\n",
      " 4   final.output.recovery                               14149 non-null  float64\n",
      " 5   final.output.tail_ag                                14149 non-null  float64\n",
      " 6   final.output.tail_pb                                14049 non-null  float64\n",
      " 7   final.output.tail_sol                               14144 non-null  float64\n",
      " 8   final.output.tail_au                                14149 non-null  float64\n",
      " 9   primary_cleaner.input.sulfate                       14129 non-null  float64\n",
      " 10  primary_cleaner.input.depressant                    14117 non-null  float64\n",
      " 11  primary_cleaner.input.feed_size                     14149 non-null  float64\n",
      " 12  primary_cleaner.input.xanthate                      14049 non-null  float64\n",
      " 13  primary_cleaner.output.concentrate_ag               14149 non-null  float64\n",
      " 14  primary_cleaner.output.concentrate_pb               14063 non-null  float64\n",
      " 15  primary_cleaner.output.concentrate_sol              13863 non-null  float64\n",
      " 16  primary_cleaner.output.concentrate_au               14149 non-null  float64\n",
      " 17  primary_cleaner.output.tail_ag                      14148 non-null  float64\n",
      " 18  primary_cleaner.output.tail_pb                      14134 non-null  float64\n",
      " 19  primary_cleaner.output.tail_sol                     14103 non-null  float64\n",
      " 20  primary_cleaner.output.tail_au                      14149 non-null  float64\n",
      " 21  primary_cleaner.state.floatbank8_a_air              14145 non-null  float64\n",
      " 22  primary_cleaner.state.floatbank8_a_level            14148 non-null  float64\n",
      " 23  primary_cleaner.state.floatbank8_b_air              14145 non-null  float64\n",
      " 24  primary_cleaner.state.floatbank8_b_level            14148 non-null  float64\n",
      " 25  primary_cleaner.state.floatbank8_c_air              14147 non-null  float64\n",
      " 26  primary_cleaner.state.floatbank8_c_level            14148 non-null  float64\n",
      " 27  primary_cleaner.state.floatbank8_d_air              14146 non-null  float64\n",
      " 28  primary_cleaner.state.floatbank8_d_level            14148 non-null  float64\n",
      " 29  rougher.calculation.sulfate_to_au_concentrate       14148 non-null  float64\n",
      " 30  rougher.calculation.floatbank10_sulfate_to_au_feed  14148 non-null  float64\n",
      " 31  rougher.calculation.floatbank11_sulfate_to_au_feed  14148 non-null  float64\n",
      " 32  rougher.calculation.au_pb_ratio                     14149 non-null  float64\n",
      " 33  rougher.input.feed_ag                               14149 non-null  float64\n",
      " 34  rougher.input.feed_pb                               14049 non-null  float64\n",
      " 35  rougher.input.feed_rate                             14141 non-null  float64\n",
      " 36  rougher.input.feed_size                             14005 non-null  float64\n",
      " 37  rougher.input.feed_sol                              14071 non-null  float64\n",
      " 38  rougher.input.feed_au                               14149 non-null  float64\n",
      " 39  rougher.input.floatbank10_sulfate                   14120 non-null  float64\n",
      " 40  rougher.input.floatbank10_xanthate                  14141 non-null  float64\n",
      " 41  rougher.input.floatbank11_sulfate                   14113 non-null  float64\n",
      " 42  rougher.input.floatbank11_xanthate                  13721 non-null  float64\n",
      " 43  rougher.output.concentrate_ag                       14149 non-null  float64\n",
      " 44  rougher.output.concentrate_pb                       14149 non-null  float64\n",
      " 45  rougher.output.concentrate_sol                      14127 non-null  float64\n",
      " 46  rougher.output.concentrate_au                       14149 non-null  float64\n",
      " 47  rougher.output.recovery                             14149 non-null  float64\n",
      " 48  rougher.output.tail_ag                              14148 non-null  float64\n",
      " 49  rougher.output.tail_pb                              14149 non-null  float64\n",
      " 50  rougher.output.tail_sol                             14149 non-null  float64\n",
      " 51  rougher.output.tail_au                              14149 non-null  float64\n",
      " 52  rougher.state.floatbank10_a_air                     14148 non-null  float64\n",
      " 53  rougher.state.floatbank10_a_level                   14148 non-null  float64\n",
      " 54  rougher.state.floatbank10_b_air                     14148 non-null  float64\n",
      " 55  rougher.state.floatbank10_b_level                   14148 non-null  float64\n",
      " 56  rougher.state.floatbank10_c_air                     14148 non-null  float64\n",
      " 57  rougher.state.floatbank10_c_level                   14148 non-null  float64\n",
      " 58  rougher.state.floatbank10_d_air                     14149 non-null  float64\n",
      " 59  rougher.state.floatbank10_d_level                   14149 non-null  float64\n",
      " 60  rougher.state.floatbank10_e_air                     13713 non-null  float64\n",
      " 61  rougher.state.floatbank10_e_level                   14149 non-null  float64\n",
      " 62  rougher.state.floatbank10_f_air                     14149 non-null  float64\n",
      " 63  rougher.state.floatbank10_f_level                   14149 non-null  float64\n",
      " 64  secondary_cleaner.output.tail_ag                    14147 non-null  float64\n",
      " 65  secondary_cleaner.output.tail_pb                    14139 non-null  float64\n",
      " 66  secondary_cleaner.output.tail_sol                   12544 non-null  float64\n",
      " 67  secondary_cleaner.output.tail_au                    14149 non-null  float64\n",
      " 68  secondary_cleaner.state.floatbank2_a_air            13932 non-null  float64\n",
      " 69  secondary_cleaner.state.floatbank2_a_level          14148 non-null  float64\n",
      " 70  secondary_cleaner.state.floatbank2_b_air            14128 non-null  float64\n",
      " 71  secondary_cleaner.state.floatbank2_b_level          14148 non-null  float64\n",
      " 72  secondary_cleaner.state.floatbank3_a_air            14145 non-null  float64\n",
      " 73  secondary_cleaner.state.floatbank3_a_level          14148 non-null  float64\n",
      " 74  secondary_cleaner.state.floatbank3_b_air            14148 non-null  float64\n",
      " 75  secondary_cleaner.state.floatbank3_b_level          14148 non-null  float64\n",
      " 76  secondary_cleaner.state.floatbank4_a_air            14143 non-null  float64\n",
      " 77  secondary_cleaner.state.floatbank4_a_level          14148 non-null  float64\n",
      " 78  secondary_cleaner.state.floatbank4_b_air            14148 non-null  float64\n",
      " 79  secondary_cleaner.state.floatbank4_b_level          14148 non-null  float64\n",
      " 80  secondary_cleaner.state.floatbank5_a_air            14148 non-null  float64\n",
      " 81  secondary_cleaner.state.floatbank5_a_level          14148 non-null  float64\n",
      " 82  secondary_cleaner.state.floatbank5_b_air            14148 non-null  float64\n",
      " 83  secondary_cleaner.state.floatbank5_b_level          14148 non-null  float64\n",
      " 84  secondary_cleaner.state.floatbank6_a_air            14147 non-null  float64\n",
      " 85  secondary_cleaner.state.floatbank6_a_level          14148 non-null  float64\n",
      "dtypes: float64(86)\n",
      "memory usage: 9.4+ MB\n"
     ]
    }
   ],
   "source": [
    "info(data_train)"
   ]
  },
  {
   "cell_type": "code",
   "execution_count": 56,
   "metadata": {
    "scrolled": true
   },
   "outputs": [
    {
     "name": "stdout",
     "output_type": "stream",
     "text": [
      "Количество строк: 5290\n",
      "Количество столбцов: 52\n"
     ]
    },
    {
     "data": {
      "text/html": [
       "<div>\n",
       "<style scoped>\n",
       "    .dataframe tbody tr th:only-of-type {\n",
       "        vertical-align: middle;\n",
       "    }\n",
       "\n",
       "    .dataframe tbody tr th {\n",
       "        vertical-align: top;\n",
       "    }\n",
       "\n",
       "    .dataframe thead th {\n",
       "        text-align: right;\n",
       "    }\n",
       "</style>\n",
       "<table border=\"1\" class=\"dataframe\">\n",
       "  <thead>\n",
       "    <tr style=\"text-align: right;\">\n",
       "      <th></th>\n",
       "      <th>primary_cleaner.input.sulfate</th>\n",
       "      <th>primary_cleaner.input.depressant</th>\n",
       "      <th>primary_cleaner.input.feed_size</th>\n",
       "      <th>primary_cleaner.input.xanthate</th>\n",
       "      <th>primary_cleaner.state.floatbank8_a_air</th>\n",
       "      <th>primary_cleaner.state.floatbank8_a_level</th>\n",
       "      <th>primary_cleaner.state.floatbank8_b_air</th>\n",
       "      <th>primary_cleaner.state.floatbank8_b_level</th>\n",
       "      <th>primary_cleaner.state.floatbank8_c_air</th>\n",
       "      <th>primary_cleaner.state.floatbank8_c_level</th>\n",
       "      <th>...</th>\n",
       "      <th>secondary_cleaner.state.floatbank4_a_air</th>\n",
       "      <th>secondary_cleaner.state.floatbank4_a_level</th>\n",
       "      <th>secondary_cleaner.state.floatbank4_b_air</th>\n",
       "      <th>secondary_cleaner.state.floatbank4_b_level</th>\n",
       "      <th>secondary_cleaner.state.floatbank5_a_air</th>\n",
       "      <th>secondary_cleaner.state.floatbank5_a_level</th>\n",
       "      <th>secondary_cleaner.state.floatbank5_b_air</th>\n",
       "      <th>secondary_cleaner.state.floatbank5_b_level</th>\n",
       "      <th>secondary_cleaner.state.floatbank6_a_air</th>\n",
       "      <th>secondary_cleaner.state.floatbank6_a_level</th>\n",
       "    </tr>\n",
       "    <tr>\n",
       "      <th>date</th>\n",
       "      <th></th>\n",
       "      <th></th>\n",
       "      <th></th>\n",
       "      <th></th>\n",
       "      <th></th>\n",
       "      <th></th>\n",
       "      <th></th>\n",
       "      <th></th>\n",
       "      <th></th>\n",
       "      <th></th>\n",
       "      <th></th>\n",
       "      <th></th>\n",
       "      <th></th>\n",
       "      <th></th>\n",
       "      <th></th>\n",
       "      <th></th>\n",
       "      <th></th>\n",
       "      <th></th>\n",
       "      <th></th>\n",
       "      <th></th>\n",
       "      <th></th>\n",
       "    </tr>\n",
       "  </thead>\n",
       "  <tbody>\n",
       "    <tr>\n",
       "      <th>2016-09-01 00:59:59</th>\n",
       "      <td>210.800909</td>\n",
       "      <td>14.993118</td>\n",
       "      <td>8.080000</td>\n",
       "      <td>1.005021</td>\n",
       "      <td>1398.981301</td>\n",
       "      <td>-500.225577</td>\n",
       "      <td>1399.144926</td>\n",
       "      <td>-499.919735</td>\n",
       "      <td>1400.102998</td>\n",
       "      <td>-500.704369</td>\n",
       "      <td>...</td>\n",
       "      <td>12.023554</td>\n",
       "      <td>-497.795834</td>\n",
       "      <td>8.016656</td>\n",
       "      <td>-501.289139</td>\n",
       "      <td>7.946562</td>\n",
       "      <td>-432.317850</td>\n",
       "      <td>4.872511</td>\n",
       "      <td>-500.037437</td>\n",
       "      <td>26.705889</td>\n",
       "      <td>-499.709414</td>\n",
       "    </tr>\n",
       "    <tr>\n",
       "      <th>2016-09-01 01:59:59</th>\n",
       "      <td>215.392455</td>\n",
       "      <td>14.987471</td>\n",
       "      <td>8.080000</td>\n",
       "      <td>0.990469</td>\n",
       "      <td>1398.777912</td>\n",
       "      <td>-500.057435</td>\n",
       "      <td>1398.055362</td>\n",
       "      <td>-499.778182</td>\n",
       "      <td>1396.151033</td>\n",
       "      <td>-499.240168</td>\n",
       "      <td>...</td>\n",
       "      <td>12.058140</td>\n",
       "      <td>-498.695773</td>\n",
       "      <td>8.130979</td>\n",
       "      <td>-499.634209</td>\n",
       "      <td>7.958270</td>\n",
       "      <td>-525.839648</td>\n",
       "      <td>4.878850</td>\n",
       "      <td>-500.162375</td>\n",
       "      <td>25.019940</td>\n",
       "      <td>-499.819438</td>\n",
       "    </tr>\n",
       "    <tr>\n",
       "      <th>2016-09-01 02:59:59</th>\n",
       "      <td>215.259946</td>\n",
       "      <td>12.884934</td>\n",
       "      <td>7.786667</td>\n",
       "      <td>0.996043</td>\n",
       "      <td>1398.493666</td>\n",
       "      <td>-500.868360</td>\n",
       "      <td>1398.860436</td>\n",
       "      <td>-499.764529</td>\n",
       "      <td>1398.075709</td>\n",
       "      <td>-502.151509</td>\n",
       "      <td>...</td>\n",
       "      <td>11.962366</td>\n",
       "      <td>-498.767484</td>\n",
       "      <td>8.096893</td>\n",
       "      <td>-500.827423</td>\n",
       "      <td>8.071056</td>\n",
       "      <td>-500.801673</td>\n",
       "      <td>4.905125</td>\n",
       "      <td>-499.828510</td>\n",
       "      <td>24.994862</td>\n",
       "      <td>-500.622559</td>\n",
       "    </tr>\n",
       "    <tr>\n",
       "      <th>2016-09-01 03:59:59</th>\n",
       "      <td>215.336236</td>\n",
       "      <td>12.006805</td>\n",
       "      <td>7.640000</td>\n",
       "      <td>0.863514</td>\n",
       "      <td>1399.618111</td>\n",
       "      <td>-498.863574</td>\n",
       "      <td>1397.440120</td>\n",
       "      <td>-499.211024</td>\n",
       "      <td>1400.129303</td>\n",
       "      <td>-498.355873</td>\n",
       "      <td>...</td>\n",
       "      <td>12.033091</td>\n",
       "      <td>-498.350935</td>\n",
       "      <td>8.074946</td>\n",
       "      <td>-499.474407</td>\n",
       "      <td>7.897085</td>\n",
       "      <td>-500.868509</td>\n",
       "      <td>4.931400</td>\n",
       "      <td>-499.963623</td>\n",
       "      <td>24.948919</td>\n",
       "      <td>-498.709987</td>\n",
       "    </tr>\n",
       "    <tr>\n",
       "      <th>2016-09-01 04:59:59</th>\n",
       "      <td>199.099327</td>\n",
       "      <td>10.682530</td>\n",
       "      <td>7.530000</td>\n",
       "      <td>0.805575</td>\n",
       "      <td>1401.268123</td>\n",
       "      <td>-500.808305</td>\n",
       "      <td>1398.128818</td>\n",
       "      <td>-499.504543</td>\n",
       "      <td>1402.172226</td>\n",
       "      <td>-500.810606</td>\n",
       "      <td>...</td>\n",
       "      <td>12.025367</td>\n",
       "      <td>-500.786497</td>\n",
       "      <td>8.054678</td>\n",
       "      <td>-500.397500</td>\n",
       "      <td>8.107890</td>\n",
       "      <td>-509.526725</td>\n",
       "      <td>4.957674</td>\n",
       "      <td>-500.360026</td>\n",
       "      <td>25.003331</td>\n",
       "      <td>-500.856333</td>\n",
       "    </tr>\n",
       "  </tbody>\n",
       "</table>\n",
       "<p>5 rows × 52 columns</p>\n",
       "</div>"
      ],
      "text/plain": [
       "                     primary_cleaner.input.sulfate  \\\n",
       "date                                                 \n",
       "2016-09-01 00:59:59                     210.800909   \n",
       "2016-09-01 01:59:59                     215.392455   \n",
       "2016-09-01 02:59:59                     215.259946   \n",
       "2016-09-01 03:59:59                     215.336236   \n",
       "2016-09-01 04:59:59                     199.099327   \n",
       "\n",
       "                     primary_cleaner.input.depressant  \\\n",
       "date                                                    \n",
       "2016-09-01 00:59:59                         14.993118   \n",
       "2016-09-01 01:59:59                         14.987471   \n",
       "2016-09-01 02:59:59                         12.884934   \n",
       "2016-09-01 03:59:59                         12.006805   \n",
       "2016-09-01 04:59:59                         10.682530   \n",
       "\n",
       "                     primary_cleaner.input.feed_size  \\\n",
       "date                                                   \n",
       "2016-09-01 00:59:59                         8.080000   \n",
       "2016-09-01 01:59:59                         8.080000   \n",
       "2016-09-01 02:59:59                         7.786667   \n",
       "2016-09-01 03:59:59                         7.640000   \n",
       "2016-09-01 04:59:59                         7.530000   \n",
       "\n",
       "                     primary_cleaner.input.xanthate  \\\n",
       "date                                                  \n",
       "2016-09-01 00:59:59                        1.005021   \n",
       "2016-09-01 01:59:59                        0.990469   \n",
       "2016-09-01 02:59:59                        0.996043   \n",
       "2016-09-01 03:59:59                        0.863514   \n",
       "2016-09-01 04:59:59                        0.805575   \n",
       "\n",
       "                     primary_cleaner.state.floatbank8_a_air  \\\n",
       "date                                                          \n",
       "2016-09-01 00:59:59                             1398.981301   \n",
       "2016-09-01 01:59:59                             1398.777912   \n",
       "2016-09-01 02:59:59                             1398.493666   \n",
       "2016-09-01 03:59:59                             1399.618111   \n",
       "2016-09-01 04:59:59                             1401.268123   \n",
       "\n",
       "                     primary_cleaner.state.floatbank8_a_level  \\\n",
       "date                                                            \n",
       "2016-09-01 00:59:59                               -500.225577   \n",
       "2016-09-01 01:59:59                               -500.057435   \n",
       "2016-09-01 02:59:59                               -500.868360   \n",
       "2016-09-01 03:59:59                               -498.863574   \n",
       "2016-09-01 04:59:59                               -500.808305   \n",
       "\n",
       "                     primary_cleaner.state.floatbank8_b_air  \\\n",
       "date                                                          \n",
       "2016-09-01 00:59:59                             1399.144926   \n",
       "2016-09-01 01:59:59                             1398.055362   \n",
       "2016-09-01 02:59:59                             1398.860436   \n",
       "2016-09-01 03:59:59                             1397.440120   \n",
       "2016-09-01 04:59:59                             1398.128818   \n",
       "\n",
       "                     primary_cleaner.state.floatbank8_b_level  \\\n",
       "date                                                            \n",
       "2016-09-01 00:59:59                               -499.919735   \n",
       "2016-09-01 01:59:59                               -499.778182   \n",
       "2016-09-01 02:59:59                               -499.764529   \n",
       "2016-09-01 03:59:59                               -499.211024   \n",
       "2016-09-01 04:59:59                               -499.504543   \n",
       "\n",
       "                     primary_cleaner.state.floatbank8_c_air  \\\n",
       "date                                                          \n",
       "2016-09-01 00:59:59                             1400.102998   \n",
       "2016-09-01 01:59:59                             1396.151033   \n",
       "2016-09-01 02:59:59                             1398.075709   \n",
       "2016-09-01 03:59:59                             1400.129303   \n",
       "2016-09-01 04:59:59                             1402.172226   \n",
       "\n",
       "                     primary_cleaner.state.floatbank8_c_level  ...  \\\n",
       "date                                                           ...   \n",
       "2016-09-01 00:59:59                               -500.704369  ...   \n",
       "2016-09-01 01:59:59                               -499.240168  ...   \n",
       "2016-09-01 02:59:59                               -502.151509  ...   \n",
       "2016-09-01 03:59:59                               -498.355873  ...   \n",
       "2016-09-01 04:59:59                               -500.810606  ...   \n",
       "\n",
       "                     secondary_cleaner.state.floatbank4_a_air  \\\n",
       "date                                                            \n",
       "2016-09-01 00:59:59                                 12.023554   \n",
       "2016-09-01 01:59:59                                 12.058140   \n",
       "2016-09-01 02:59:59                                 11.962366   \n",
       "2016-09-01 03:59:59                                 12.033091   \n",
       "2016-09-01 04:59:59                                 12.025367   \n",
       "\n",
       "                     secondary_cleaner.state.floatbank4_a_level  \\\n",
       "date                                                              \n",
       "2016-09-01 00:59:59                                 -497.795834   \n",
       "2016-09-01 01:59:59                                 -498.695773   \n",
       "2016-09-01 02:59:59                                 -498.767484   \n",
       "2016-09-01 03:59:59                                 -498.350935   \n",
       "2016-09-01 04:59:59                                 -500.786497   \n",
       "\n",
       "                     secondary_cleaner.state.floatbank4_b_air  \\\n",
       "date                                                            \n",
       "2016-09-01 00:59:59                                  8.016656   \n",
       "2016-09-01 01:59:59                                  8.130979   \n",
       "2016-09-01 02:59:59                                  8.096893   \n",
       "2016-09-01 03:59:59                                  8.074946   \n",
       "2016-09-01 04:59:59                                  8.054678   \n",
       "\n",
       "                     secondary_cleaner.state.floatbank4_b_level  \\\n",
       "date                                                              \n",
       "2016-09-01 00:59:59                                 -501.289139   \n",
       "2016-09-01 01:59:59                                 -499.634209   \n",
       "2016-09-01 02:59:59                                 -500.827423   \n",
       "2016-09-01 03:59:59                                 -499.474407   \n",
       "2016-09-01 04:59:59                                 -500.397500   \n",
       "\n",
       "                     secondary_cleaner.state.floatbank5_a_air  \\\n",
       "date                                                            \n",
       "2016-09-01 00:59:59                                  7.946562   \n",
       "2016-09-01 01:59:59                                  7.958270   \n",
       "2016-09-01 02:59:59                                  8.071056   \n",
       "2016-09-01 03:59:59                                  7.897085   \n",
       "2016-09-01 04:59:59                                  8.107890   \n",
       "\n",
       "                     secondary_cleaner.state.floatbank5_a_level  \\\n",
       "date                                                              \n",
       "2016-09-01 00:59:59                                 -432.317850   \n",
       "2016-09-01 01:59:59                                 -525.839648   \n",
       "2016-09-01 02:59:59                                 -500.801673   \n",
       "2016-09-01 03:59:59                                 -500.868509   \n",
       "2016-09-01 04:59:59                                 -509.526725   \n",
       "\n",
       "                     secondary_cleaner.state.floatbank5_b_air  \\\n",
       "date                                                            \n",
       "2016-09-01 00:59:59                                  4.872511   \n",
       "2016-09-01 01:59:59                                  4.878850   \n",
       "2016-09-01 02:59:59                                  4.905125   \n",
       "2016-09-01 03:59:59                                  4.931400   \n",
       "2016-09-01 04:59:59                                  4.957674   \n",
       "\n",
       "                     secondary_cleaner.state.floatbank5_b_level  \\\n",
       "date                                                              \n",
       "2016-09-01 00:59:59                                 -500.037437   \n",
       "2016-09-01 01:59:59                                 -500.162375   \n",
       "2016-09-01 02:59:59                                 -499.828510   \n",
       "2016-09-01 03:59:59                                 -499.963623   \n",
       "2016-09-01 04:59:59                                 -500.360026   \n",
       "\n",
       "                     secondary_cleaner.state.floatbank6_a_air  \\\n",
       "date                                                            \n",
       "2016-09-01 00:59:59                                 26.705889   \n",
       "2016-09-01 01:59:59                                 25.019940   \n",
       "2016-09-01 02:59:59                                 24.994862   \n",
       "2016-09-01 03:59:59                                 24.948919   \n",
       "2016-09-01 04:59:59                                 25.003331   \n",
       "\n",
       "                     secondary_cleaner.state.floatbank6_a_level  \n",
       "date                                                             \n",
       "2016-09-01 00:59:59                                 -499.709414  \n",
       "2016-09-01 01:59:59                                 -499.819438  \n",
       "2016-09-01 02:59:59                                 -500.622559  \n",
       "2016-09-01 03:59:59                                 -498.709987  \n",
       "2016-09-01 04:59:59                                 -500.856333  \n",
       "\n",
       "[5 rows x 52 columns]"
      ]
     },
     "metadata": {},
     "output_type": "display_data"
    },
    {
     "data": {
      "text/html": [
       "<div>\n",
       "<style scoped>\n",
       "    .dataframe tbody tr th:only-of-type {\n",
       "        vertical-align: middle;\n",
       "    }\n",
       "\n",
       "    .dataframe tbody tr th {\n",
       "        vertical-align: top;\n",
       "    }\n",
       "\n",
       "    .dataframe thead th {\n",
       "        text-align: right;\n",
       "    }\n",
       "</style>\n",
       "<table border=\"1\" class=\"dataframe\">\n",
       "  <thead>\n",
       "    <tr style=\"text-align: right;\">\n",
       "      <th></th>\n",
       "      <th>primary_cleaner.input.sulfate</th>\n",
       "      <th>primary_cleaner.input.depressant</th>\n",
       "      <th>primary_cleaner.input.feed_size</th>\n",
       "      <th>primary_cleaner.input.xanthate</th>\n",
       "      <th>primary_cleaner.state.floatbank8_a_air</th>\n",
       "      <th>primary_cleaner.state.floatbank8_a_level</th>\n",
       "      <th>primary_cleaner.state.floatbank8_b_air</th>\n",
       "      <th>primary_cleaner.state.floatbank8_b_level</th>\n",
       "      <th>primary_cleaner.state.floatbank8_c_air</th>\n",
       "      <th>primary_cleaner.state.floatbank8_c_level</th>\n",
       "      <th>...</th>\n",
       "      <th>secondary_cleaner.state.floatbank4_a_air</th>\n",
       "      <th>secondary_cleaner.state.floatbank4_a_level</th>\n",
       "      <th>secondary_cleaner.state.floatbank4_b_air</th>\n",
       "      <th>secondary_cleaner.state.floatbank4_b_level</th>\n",
       "      <th>secondary_cleaner.state.floatbank5_a_air</th>\n",
       "      <th>secondary_cleaner.state.floatbank5_a_level</th>\n",
       "      <th>secondary_cleaner.state.floatbank5_b_air</th>\n",
       "      <th>secondary_cleaner.state.floatbank5_b_level</th>\n",
       "      <th>secondary_cleaner.state.floatbank6_a_air</th>\n",
       "      <th>secondary_cleaner.state.floatbank6_a_level</th>\n",
       "    </tr>\n",
       "  </thead>\n",
       "  <tbody>\n",
       "    <tr>\n",
       "      <th>count</th>\n",
       "      <td>5286.000000</td>\n",
       "      <td>5285.000000</td>\n",
       "      <td>5290.000000</td>\n",
       "      <td>5286.000000</td>\n",
       "      <td>5.290000e+03</td>\n",
       "      <td>5290.000000</td>\n",
       "      <td>5.290000e+03</td>\n",
       "      <td>5290.000000</td>\n",
       "      <td>5.290000e+03</td>\n",
       "      <td>5290.000000</td>\n",
       "      <td>...</td>\n",
       "      <td>5.290000e+03</td>\n",
       "      <td>5290.000000</td>\n",
       "      <td>5.290000e+03</td>\n",
       "      <td>5290.000000</td>\n",
       "      <td>5290.000000</td>\n",
       "      <td>5290.000000</td>\n",
       "      <td>5290.000000</td>\n",
       "      <td>5290.000000</td>\n",
       "      <td>5290.000000</td>\n",
       "      <td>5290.000000</td>\n",
       "    </tr>\n",
       "    <tr>\n",
       "      <th>mean</th>\n",
       "      <td>174.839652</td>\n",
       "      <td>8.683596</td>\n",
       "      <td>7.266339</td>\n",
       "      <td>1.383803</td>\n",
       "      <td>1.539494e+03</td>\n",
       "      <td>-497.665883</td>\n",
       "      <td>1.545174e+03</td>\n",
       "      <td>-500.273098</td>\n",
       "      <td>1.527272e+03</td>\n",
       "      <td>-498.330680</td>\n",
       "      <td>...</td>\n",
       "      <td>1.632007e+01</td>\n",
       "      <td>-505.144570</td>\n",
       "      <td>1.373544e+01</td>\n",
       "      <td>-463.349858</td>\n",
       "      <td>12.804186</td>\n",
       "      <td>-501.329122</td>\n",
       "      <td>9.881145</td>\n",
       "      <td>-495.663398</td>\n",
       "      <td>17.304935</td>\n",
       "      <td>-501.793193</td>\n",
       "    </tr>\n",
       "    <tr>\n",
       "      <th>std</th>\n",
       "      <td>43.027080</td>\n",
       "      <td>3.072050</td>\n",
       "      <td>0.610219</td>\n",
       "      <td>0.643474</td>\n",
       "      <td>1.167979e+02</td>\n",
       "      <td>19.952431</td>\n",
       "      <td>1.222246e+02</td>\n",
       "      <td>32.968307</td>\n",
       "      <td>1.225380e+02</td>\n",
       "      <td>21.964876</td>\n",
       "      <td>...</td>\n",
       "      <td>3.493583e+00</td>\n",
       "      <td>31.427337</td>\n",
       "      <td>3.430484e+00</td>\n",
       "      <td>86.189107</td>\n",
       "      <td>3.026591</td>\n",
       "      <td>17.951495</td>\n",
       "      <td>2.868205</td>\n",
       "      <td>34.535007</td>\n",
       "      <td>4.536544</td>\n",
       "      <td>39.044215</td>\n",
       "    </tr>\n",
       "    <tr>\n",
       "      <th>min</th>\n",
       "      <td>2.566156</td>\n",
       "      <td>0.003839</td>\n",
       "      <td>5.650000</td>\n",
       "      <td>0.004984</td>\n",
       "      <td>5.445860e-32</td>\n",
       "      <td>-795.316337</td>\n",
       "      <td>6.647490e-32</td>\n",
       "      <td>-799.997015</td>\n",
       "      <td>4.033736e-32</td>\n",
       "      <td>-799.960571</td>\n",
       "      <td>...</td>\n",
       "      <td>1.079872e-16</td>\n",
       "      <td>-799.798523</td>\n",
       "      <td>2.489718e-17</td>\n",
       "      <td>-800.836914</td>\n",
       "      <td>0.069227</td>\n",
       "      <td>-797.323986</td>\n",
       "      <td>0.528083</td>\n",
       "      <td>-800.220337</td>\n",
       "      <td>-0.079426</td>\n",
       "      <td>-809.741464</td>\n",
       "    </tr>\n",
       "    <tr>\n",
       "      <th>25%</th>\n",
       "      <td>147.121401</td>\n",
       "      <td>6.489555</td>\n",
       "      <td>6.890000</td>\n",
       "      <td>0.907623</td>\n",
       "      <td>1.498936e+03</td>\n",
       "      <td>-500.357298</td>\n",
       "      <td>1.498971e+03</td>\n",
       "      <td>-500.703002</td>\n",
       "      <td>1.473230e+03</td>\n",
       "      <td>-501.018117</td>\n",
       "      <td>...</td>\n",
       "      <td>1.403618e+01</td>\n",
       "      <td>-500.868258</td>\n",
       "      <td>1.202862e+01</td>\n",
       "      <td>-500.323028</td>\n",
       "      <td>10.914838</td>\n",
       "      <td>-500.726841</td>\n",
       "      <td>8.036719</td>\n",
       "      <td>-500.194668</td>\n",
       "      <td>13.997317</td>\n",
       "      <td>-500.690984</td>\n",
       "    </tr>\n",
       "    <tr>\n",
       "      <th>50%</th>\n",
       "      <td>177.828489</td>\n",
       "      <td>8.052207</td>\n",
       "      <td>7.250000</td>\n",
       "      <td>1.197610</td>\n",
       "      <td>1.585129e+03</td>\n",
       "      <td>-499.969164</td>\n",
       "      <td>1.595622e+03</td>\n",
       "      <td>-500.028514</td>\n",
       "      <td>1.549595e+03</td>\n",
       "      <td>-500.017711</td>\n",
       "      <td>...</td>\n",
       "      <td>1.700847e+01</td>\n",
       "      <td>-500.115727</td>\n",
       "      <td>1.496486e+01</td>\n",
       "      <td>-499.576513</td>\n",
       "      <td>12.954182</td>\n",
       "      <td>-499.990332</td>\n",
       "      <td>10.004301</td>\n",
       "      <td>-499.990535</td>\n",
       "      <td>16.014935</td>\n",
       "      <td>-500.007126</td>\n",
       "    </tr>\n",
       "    <tr>\n",
       "      <th>75%</th>\n",
       "      <td>208.125438</td>\n",
       "      <td>10.027764</td>\n",
       "      <td>7.600000</td>\n",
       "      <td>1.797819</td>\n",
       "      <td>1.602077e+03</td>\n",
       "      <td>-499.568951</td>\n",
       "      <td>1.602324e+03</td>\n",
       "      <td>-499.293257</td>\n",
       "      <td>1.601144e+03</td>\n",
       "      <td>-498.994130</td>\n",
       "      <td>...</td>\n",
       "      <td>1.803862e+01</td>\n",
       "      <td>-499.404224</td>\n",
       "      <td>1.596213e+01</td>\n",
       "      <td>-400.933805</td>\n",
       "      <td>15.097528</td>\n",
       "      <td>-499.283191</td>\n",
       "      <td>11.997467</td>\n",
       "      <td>-499.719913</td>\n",
       "      <td>21.020013</td>\n",
       "      <td>-499.373018</td>\n",
       "    </tr>\n",
       "    <tr>\n",
       "      <th>max</th>\n",
       "      <td>265.983123</td>\n",
       "      <td>40.000000</td>\n",
       "      <td>15.500000</td>\n",
       "      <td>4.102454</td>\n",
       "      <td>2.103104e+03</td>\n",
       "      <td>-57.195404</td>\n",
       "      <td>1.813084e+03</td>\n",
       "      <td>-142.527229</td>\n",
       "      <td>1.715054e+03</td>\n",
       "      <td>-150.937035</td>\n",
       "      <td>...</td>\n",
       "      <td>3.005180e+01</td>\n",
       "      <td>-401.565212</td>\n",
       "      <td>3.126971e+01</td>\n",
       "      <td>-6.506986</td>\n",
       "      <td>25.258848</td>\n",
       "      <td>-244.483566</td>\n",
       "      <td>14.086866</td>\n",
       "      <td>-137.740004</td>\n",
       "      <td>26.705889</td>\n",
       "      <td>-123.307487</td>\n",
       "    </tr>\n",
       "  </tbody>\n",
       "</table>\n",
       "<p>8 rows × 52 columns</p>\n",
       "</div>"
      ],
      "text/plain": [
       "       primary_cleaner.input.sulfate  primary_cleaner.input.depressant  \\\n",
       "count                    5286.000000                       5285.000000   \n",
       "mean                      174.839652                          8.683596   \n",
       "std                        43.027080                          3.072050   \n",
       "min                         2.566156                          0.003839   \n",
       "25%                       147.121401                          6.489555   \n",
       "50%                       177.828489                          8.052207   \n",
       "75%                       208.125438                         10.027764   \n",
       "max                       265.983123                         40.000000   \n",
       "\n",
       "       primary_cleaner.input.feed_size  primary_cleaner.input.xanthate  \\\n",
       "count                      5290.000000                     5286.000000   \n",
       "mean                          7.266339                        1.383803   \n",
       "std                           0.610219                        0.643474   \n",
       "min                           5.650000                        0.004984   \n",
       "25%                           6.890000                        0.907623   \n",
       "50%                           7.250000                        1.197610   \n",
       "75%                           7.600000                        1.797819   \n",
       "max                          15.500000                        4.102454   \n",
       "\n",
       "       primary_cleaner.state.floatbank8_a_air  \\\n",
       "count                            5.290000e+03   \n",
       "mean                             1.539494e+03   \n",
       "std                              1.167979e+02   \n",
       "min                              5.445860e-32   \n",
       "25%                              1.498936e+03   \n",
       "50%                              1.585129e+03   \n",
       "75%                              1.602077e+03   \n",
       "max                              2.103104e+03   \n",
       "\n",
       "       primary_cleaner.state.floatbank8_a_level  \\\n",
       "count                               5290.000000   \n",
       "mean                                -497.665883   \n",
       "std                                   19.952431   \n",
       "min                                 -795.316337   \n",
       "25%                                 -500.357298   \n",
       "50%                                 -499.969164   \n",
       "75%                                 -499.568951   \n",
       "max                                  -57.195404   \n",
       "\n",
       "       primary_cleaner.state.floatbank8_b_air  \\\n",
       "count                            5.290000e+03   \n",
       "mean                             1.545174e+03   \n",
       "std                              1.222246e+02   \n",
       "min                              6.647490e-32   \n",
       "25%                              1.498971e+03   \n",
       "50%                              1.595622e+03   \n",
       "75%                              1.602324e+03   \n",
       "max                              1.813084e+03   \n",
       "\n",
       "       primary_cleaner.state.floatbank8_b_level  \\\n",
       "count                               5290.000000   \n",
       "mean                                -500.273098   \n",
       "std                                   32.968307   \n",
       "min                                 -799.997015   \n",
       "25%                                 -500.703002   \n",
       "50%                                 -500.028514   \n",
       "75%                                 -499.293257   \n",
       "max                                 -142.527229   \n",
       "\n",
       "       primary_cleaner.state.floatbank8_c_air  \\\n",
       "count                            5.290000e+03   \n",
       "mean                             1.527272e+03   \n",
       "std                              1.225380e+02   \n",
       "min                              4.033736e-32   \n",
       "25%                              1.473230e+03   \n",
       "50%                              1.549595e+03   \n",
       "75%                              1.601144e+03   \n",
       "max                              1.715054e+03   \n",
       "\n",
       "       primary_cleaner.state.floatbank8_c_level  ...  \\\n",
       "count                               5290.000000  ...   \n",
       "mean                                -498.330680  ...   \n",
       "std                                   21.964876  ...   \n",
       "min                                 -799.960571  ...   \n",
       "25%                                 -501.018117  ...   \n",
       "50%                                 -500.017711  ...   \n",
       "75%                                 -498.994130  ...   \n",
       "max                                 -150.937035  ...   \n",
       "\n",
       "       secondary_cleaner.state.floatbank4_a_air  \\\n",
       "count                              5.290000e+03   \n",
       "mean                               1.632007e+01   \n",
       "std                                3.493583e+00   \n",
       "min                                1.079872e-16   \n",
       "25%                                1.403618e+01   \n",
       "50%                                1.700847e+01   \n",
       "75%                                1.803862e+01   \n",
       "max                                3.005180e+01   \n",
       "\n",
       "       secondary_cleaner.state.floatbank4_a_level  \\\n",
       "count                                 5290.000000   \n",
       "mean                                  -505.144570   \n",
       "std                                     31.427337   \n",
       "min                                   -799.798523   \n",
       "25%                                   -500.868258   \n",
       "50%                                   -500.115727   \n",
       "75%                                   -499.404224   \n",
       "max                                   -401.565212   \n",
       "\n",
       "       secondary_cleaner.state.floatbank4_b_air  \\\n",
       "count                              5.290000e+03   \n",
       "mean                               1.373544e+01   \n",
       "std                                3.430484e+00   \n",
       "min                                2.489718e-17   \n",
       "25%                                1.202862e+01   \n",
       "50%                                1.496486e+01   \n",
       "75%                                1.596213e+01   \n",
       "max                                3.126971e+01   \n",
       "\n",
       "       secondary_cleaner.state.floatbank4_b_level  \\\n",
       "count                                 5290.000000   \n",
       "mean                                  -463.349858   \n",
       "std                                     86.189107   \n",
       "min                                   -800.836914   \n",
       "25%                                   -500.323028   \n",
       "50%                                   -499.576513   \n",
       "75%                                   -400.933805   \n",
       "max                                     -6.506986   \n",
       "\n",
       "       secondary_cleaner.state.floatbank5_a_air  \\\n",
       "count                               5290.000000   \n",
       "mean                                  12.804186   \n",
       "std                                    3.026591   \n",
       "min                                    0.069227   \n",
       "25%                                   10.914838   \n",
       "50%                                   12.954182   \n",
       "75%                                   15.097528   \n",
       "max                                   25.258848   \n",
       "\n",
       "       secondary_cleaner.state.floatbank5_a_level  \\\n",
       "count                                 5290.000000   \n",
       "mean                                  -501.329122   \n",
       "std                                     17.951495   \n",
       "min                                   -797.323986   \n",
       "25%                                   -500.726841   \n",
       "50%                                   -499.990332   \n",
       "75%                                   -499.283191   \n",
       "max                                   -244.483566   \n",
       "\n",
       "       secondary_cleaner.state.floatbank5_b_air  \\\n",
       "count                               5290.000000   \n",
       "mean                                   9.881145   \n",
       "std                                    2.868205   \n",
       "min                                    0.528083   \n",
       "25%                                    8.036719   \n",
       "50%                                   10.004301   \n",
       "75%                                   11.997467   \n",
       "max                                   14.086866   \n",
       "\n",
       "       secondary_cleaner.state.floatbank5_b_level  \\\n",
       "count                                 5290.000000   \n",
       "mean                                  -495.663398   \n",
       "std                                     34.535007   \n",
       "min                                   -800.220337   \n",
       "25%                                   -500.194668   \n",
       "50%                                   -499.990535   \n",
       "75%                                   -499.719913   \n",
       "max                                   -137.740004   \n",
       "\n",
       "       secondary_cleaner.state.floatbank6_a_air  \\\n",
       "count                               5290.000000   \n",
       "mean                                  17.304935   \n",
       "std                                    4.536544   \n",
       "min                                   -0.079426   \n",
       "25%                                   13.997317   \n",
       "50%                                   16.014935   \n",
       "75%                                   21.020013   \n",
       "max                                   26.705889   \n",
       "\n",
       "       secondary_cleaner.state.floatbank6_a_level  \n",
       "count                                 5290.000000  \n",
       "mean                                  -501.793193  \n",
       "std                                     39.044215  \n",
       "min                                   -809.741464  \n",
       "25%                                   -500.690984  \n",
       "50%                                   -500.007126  \n",
       "75%                                   -499.373018  \n",
       "max                                   -123.307487  \n",
       "\n",
       "[8 rows x 52 columns]"
      ]
     },
     "metadata": {},
     "output_type": "display_data"
    },
    {
     "name": "stdout",
     "output_type": "stream",
     "text": [
      "<class 'pandas.core.frame.DataFrame'>\n",
      "Index: 5290 entries, 2016-09-01 00:59:59 to 2017-12-31 23:59:59\n",
      "Data columns (total 52 columns):\n",
      " #   Column                                      Non-Null Count  Dtype  \n",
      "---  ------                                      --------------  -----  \n",
      " 0   primary_cleaner.input.sulfate               5286 non-null   float64\n",
      " 1   primary_cleaner.input.depressant            5285 non-null   float64\n",
      " 2   primary_cleaner.input.feed_size             5290 non-null   float64\n",
      " 3   primary_cleaner.input.xanthate              5286 non-null   float64\n",
      " 4   primary_cleaner.state.floatbank8_a_air      5290 non-null   float64\n",
      " 5   primary_cleaner.state.floatbank8_a_level    5290 non-null   float64\n",
      " 6   primary_cleaner.state.floatbank8_b_air      5290 non-null   float64\n",
      " 7   primary_cleaner.state.floatbank8_b_level    5290 non-null   float64\n",
      " 8   primary_cleaner.state.floatbank8_c_air      5290 non-null   float64\n",
      " 9   primary_cleaner.state.floatbank8_c_level    5290 non-null   float64\n",
      " 10  primary_cleaner.state.floatbank8_d_air      5290 non-null   float64\n",
      " 11  primary_cleaner.state.floatbank8_d_level    5290 non-null   float64\n",
      " 12  rougher.input.feed_ag                       5290 non-null   float64\n",
      " 13  rougher.input.feed_pb                       5290 non-null   float64\n",
      " 14  rougher.input.feed_rate                     5287 non-null   float64\n",
      " 15  rougher.input.feed_size                     5289 non-null   float64\n",
      " 16  rougher.input.feed_sol                      5269 non-null   float64\n",
      " 17  rougher.input.feed_au                       5290 non-null   float64\n",
      " 18  rougher.input.floatbank10_sulfate           5285 non-null   float64\n",
      " 19  rougher.input.floatbank10_xanthate          5290 non-null   float64\n",
      " 20  rougher.input.floatbank11_sulfate           5282 non-null   float64\n",
      " 21  rougher.input.floatbank11_xanthate          5265 non-null   float64\n",
      " 22  rougher.state.floatbank10_a_air             5290 non-null   float64\n",
      " 23  rougher.state.floatbank10_a_level           5290 non-null   float64\n",
      " 24  rougher.state.floatbank10_b_air             5290 non-null   float64\n",
      " 25  rougher.state.floatbank10_b_level           5290 non-null   float64\n",
      " 26  rougher.state.floatbank10_c_air             5290 non-null   float64\n",
      " 27  rougher.state.floatbank10_c_level           5290 non-null   float64\n",
      " 28  rougher.state.floatbank10_d_air             5290 non-null   float64\n",
      " 29  rougher.state.floatbank10_d_level           5290 non-null   float64\n",
      " 30  rougher.state.floatbank10_e_air             5290 non-null   float64\n",
      " 31  rougher.state.floatbank10_e_level           5290 non-null   float64\n",
      " 32  rougher.state.floatbank10_f_air             5290 non-null   float64\n",
      " 33  rougher.state.floatbank10_f_level           5290 non-null   float64\n",
      " 34  secondary_cleaner.state.floatbank2_a_air    5287 non-null   float64\n",
      " 35  secondary_cleaner.state.floatbank2_a_level  5290 non-null   float64\n",
      " 36  secondary_cleaner.state.floatbank2_b_air    5288 non-null   float64\n",
      " 37  secondary_cleaner.state.floatbank2_b_level  5290 non-null   float64\n",
      " 38  secondary_cleaner.state.floatbank3_a_air    5281 non-null   float64\n",
      " 39  secondary_cleaner.state.floatbank3_a_level  5290 non-null   float64\n",
      " 40  secondary_cleaner.state.floatbank3_b_air    5290 non-null   float64\n",
      " 41  secondary_cleaner.state.floatbank3_b_level  5290 non-null   float64\n",
      " 42  secondary_cleaner.state.floatbank4_a_air    5290 non-null   float64\n",
      " 43  secondary_cleaner.state.floatbank4_a_level  5290 non-null   float64\n",
      " 44  secondary_cleaner.state.floatbank4_b_air    5290 non-null   float64\n",
      " 45  secondary_cleaner.state.floatbank4_b_level  5290 non-null   float64\n",
      " 46  secondary_cleaner.state.floatbank5_a_air    5290 non-null   float64\n",
      " 47  secondary_cleaner.state.floatbank5_a_level  5290 non-null   float64\n",
      " 48  secondary_cleaner.state.floatbank5_b_air    5290 non-null   float64\n",
      " 49  secondary_cleaner.state.floatbank5_b_level  5290 non-null   float64\n",
      " 50  secondary_cleaner.state.floatbank6_a_air    5290 non-null   float64\n",
      " 51  secondary_cleaner.state.floatbank6_a_level  5290 non-null   float64\n",
      "dtypes: float64(52)\n",
      "memory usage: 2.1+ MB\n"
     ]
    }
   ],
   "source": [
    "info(data_test)"
   ]
  },
  {
   "cell_type": "code",
   "execution_count": 57,
   "metadata": {
    "scrolled": true
   },
   "outputs": [
    {
     "name": "stdout",
     "output_type": "stream",
     "text": [
      "Количество строк: 19439\n",
      "Количество столбцов: 86\n"
     ]
    },
    {
     "data": {
      "text/html": [
       "<div>\n",
       "<style scoped>\n",
       "    .dataframe tbody tr th:only-of-type {\n",
       "        vertical-align: middle;\n",
       "    }\n",
       "\n",
       "    .dataframe tbody tr th {\n",
       "        vertical-align: top;\n",
       "    }\n",
       "\n",
       "    .dataframe thead th {\n",
       "        text-align: right;\n",
       "    }\n",
       "</style>\n",
       "<table border=\"1\" class=\"dataframe\">\n",
       "  <thead>\n",
       "    <tr style=\"text-align: right;\">\n",
       "      <th></th>\n",
       "      <th>final.output.concentrate_ag</th>\n",
       "      <th>final.output.concentrate_pb</th>\n",
       "      <th>final.output.concentrate_sol</th>\n",
       "      <th>final.output.concentrate_au</th>\n",
       "      <th>final.output.recovery</th>\n",
       "      <th>final.output.tail_ag</th>\n",
       "      <th>final.output.tail_pb</th>\n",
       "      <th>final.output.tail_sol</th>\n",
       "      <th>final.output.tail_au</th>\n",
       "      <th>primary_cleaner.input.sulfate</th>\n",
       "      <th>...</th>\n",
       "      <th>secondary_cleaner.state.floatbank4_a_air</th>\n",
       "      <th>secondary_cleaner.state.floatbank4_a_level</th>\n",
       "      <th>secondary_cleaner.state.floatbank4_b_air</th>\n",
       "      <th>secondary_cleaner.state.floatbank4_b_level</th>\n",
       "      <th>secondary_cleaner.state.floatbank5_a_air</th>\n",
       "      <th>secondary_cleaner.state.floatbank5_a_level</th>\n",
       "      <th>secondary_cleaner.state.floatbank5_b_air</th>\n",
       "      <th>secondary_cleaner.state.floatbank5_b_level</th>\n",
       "      <th>secondary_cleaner.state.floatbank6_a_air</th>\n",
       "      <th>secondary_cleaner.state.floatbank6_a_level</th>\n",
       "    </tr>\n",
       "    <tr>\n",
       "      <th>date</th>\n",
       "      <th></th>\n",
       "      <th></th>\n",
       "      <th></th>\n",
       "      <th></th>\n",
       "      <th></th>\n",
       "      <th></th>\n",
       "      <th></th>\n",
       "      <th></th>\n",
       "      <th></th>\n",
       "      <th></th>\n",
       "      <th></th>\n",
       "      <th></th>\n",
       "      <th></th>\n",
       "      <th></th>\n",
       "      <th></th>\n",
       "      <th></th>\n",
       "      <th></th>\n",
       "      <th></th>\n",
       "      <th></th>\n",
       "      <th></th>\n",
       "      <th></th>\n",
       "    </tr>\n",
       "  </thead>\n",
       "  <tbody>\n",
       "    <tr>\n",
       "      <th>2016-01-15 00:00:00</th>\n",
       "      <td>6.055403</td>\n",
       "      <td>9.889648</td>\n",
       "      <td>5.507324</td>\n",
       "      <td>42.192020</td>\n",
       "      <td>70.541216</td>\n",
       "      <td>10.411962</td>\n",
       "      <td>0.895447</td>\n",
       "      <td>16.904297</td>\n",
       "      <td>2.143149</td>\n",
       "      <td>127.092003</td>\n",
       "      <td>...</td>\n",
       "      <td>14.016835</td>\n",
       "      <td>-502.488007</td>\n",
       "      <td>12.099931</td>\n",
       "      <td>-504.715942</td>\n",
       "      <td>9.925633</td>\n",
       "      <td>-498.310211</td>\n",
       "      <td>8.079666</td>\n",
       "      <td>-500.470978</td>\n",
       "      <td>14.151341</td>\n",
       "      <td>-605.841980</td>\n",
       "    </tr>\n",
       "    <tr>\n",
       "      <th>2016-01-15 01:00:00</th>\n",
       "      <td>6.029369</td>\n",
       "      <td>9.968944</td>\n",
       "      <td>5.257781</td>\n",
       "      <td>42.701629</td>\n",
       "      <td>69.266198</td>\n",
       "      <td>10.462676</td>\n",
       "      <td>0.927452</td>\n",
       "      <td>16.634514</td>\n",
       "      <td>2.224930</td>\n",
       "      <td>125.629232</td>\n",
       "      <td>...</td>\n",
       "      <td>13.992281</td>\n",
       "      <td>-505.503262</td>\n",
       "      <td>11.950531</td>\n",
       "      <td>-501.331529</td>\n",
       "      <td>10.039245</td>\n",
       "      <td>-500.169983</td>\n",
       "      <td>7.984757</td>\n",
       "      <td>-500.582168</td>\n",
       "      <td>13.998353</td>\n",
       "      <td>-599.787184</td>\n",
       "    </tr>\n",
       "    <tr>\n",
       "      <th>2016-01-15 02:00:00</th>\n",
       "      <td>6.055926</td>\n",
       "      <td>10.213995</td>\n",
       "      <td>5.383759</td>\n",
       "      <td>42.657501</td>\n",
       "      <td>68.116445</td>\n",
       "      <td>10.507046</td>\n",
       "      <td>0.953716</td>\n",
       "      <td>16.208849</td>\n",
       "      <td>2.257889</td>\n",
       "      <td>123.819808</td>\n",
       "      <td>...</td>\n",
       "      <td>14.015015</td>\n",
       "      <td>-502.520901</td>\n",
       "      <td>11.912783</td>\n",
       "      <td>-501.133383</td>\n",
       "      <td>10.070913</td>\n",
       "      <td>-500.129135</td>\n",
       "      <td>8.013877</td>\n",
       "      <td>-500.517572</td>\n",
       "      <td>14.028663</td>\n",
       "      <td>-601.427363</td>\n",
       "    </tr>\n",
       "    <tr>\n",
       "      <th>2016-01-15 03:00:00</th>\n",
       "      <td>6.047977</td>\n",
       "      <td>9.977019</td>\n",
       "      <td>4.858634</td>\n",
       "      <td>42.689819</td>\n",
       "      <td>68.347543</td>\n",
       "      <td>10.422762</td>\n",
       "      <td>0.883763</td>\n",
       "      <td>16.532835</td>\n",
       "      <td>2.146849</td>\n",
       "      <td>122.270188</td>\n",
       "      <td>...</td>\n",
       "      <td>14.036510</td>\n",
       "      <td>-500.857308</td>\n",
       "      <td>11.999550</td>\n",
       "      <td>-501.193686</td>\n",
       "      <td>9.970366</td>\n",
       "      <td>-499.201640</td>\n",
       "      <td>7.977324</td>\n",
       "      <td>-500.255908</td>\n",
       "      <td>14.005551</td>\n",
       "      <td>-599.996129</td>\n",
       "    </tr>\n",
       "    <tr>\n",
       "      <th>2016-01-15 04:00:00</th>\n",
       "      <td>6.148599</td>\n",
       "      <td>10.142511</td>\n",
       "      <td>4.939416</td>\n",
       "      <td>42.774141</td>\n",
       "      <td>66.927016</td>\n",
       "      <td>10.360302</td>\n",
       "      <td>0.792826</td>\n",
       "      <td>16.525686</td>\n",
       "      <td>2.055292</td>\n",
       "      <td>117.988169</td>\n",
       "      <td>...</td>\n",
       "      <td>14.027298</td>\n",
       "      <td>-499.838632</td>\n",
       "      <td>11.953070</td>\n",
       "      <td>-501.053894</td>\n",
       "      <td>9.925709</td>\n",
       "      <td>-501.686727</td>\n",
       "      <td>7.894242</td>\n",
       "      <td>-500.356035</td>\n",
       "      <td>13.996647</td>\n",
       "      <td>-601.496691</td>\n",
       "    </tr>\n",
       "  </tbody>\n",
       "</table>\n",
       "<p>5 rows × 86 columns</p>\n",
       "</div>"
      ],
      "text/plain": [
       "                     final.output.concentrate_ag  final.output.concentrate_pb  \\\n",
       "date                                                                            \n",
       "2016-01-15 00:00:00                     6.055403                     9.889648   \n",
       "2016-01-15 01:00:00                     6.029369                     9.968944   \n",
       "2016-01-15 02:00:00                     6.055926                    10.213995   \n",
       "2016-01-15 03:00:00                     6.047977                     9.977019   \n",
       "2016-01-15 04:00:00                     6.148599                    10.142511   \n",
       "\n",
       "                     final.output.concentrate_sol  \\\n",
       "date                                                \n",
       "2016-01-15 00:00:00                      5.507324   \n",
       "2016-01-15 01:00:00                      5.257781   \n",
       "2016-01-15 02:00:00                      5.383759   \n",
       "2016-01-15 03:00:00                      4.858634   \n",
       "2016-01-15 04:00:00                      4.939416   \n",
       "\n",
       "                     final.output.concentrate_au  final.output.recovery  \\\n",
       "date                                                                      \n",
       "2016-01-15 00:00:00                    42.192020              70.541216   \n",
       "2016-01-15 01:00:00                    42.701629              69.266198   \n",
       "2016-01-15 02:00:00                    42.657501              68.116445   \n",
       "2016-01-15 03:00:00                    42.689819              68.347543   \n",
       "2016-01-15 04:00:00                    42.774141              66.927016   \n",
       "\n",
       "                     final.output.tail_ag  final.output.tail_pb  \\\n",
       "date                                                              \n",
       "2016-01-15 00:00:00             10.411962              0.895447   \n",
       "2016-01-15 01:00:00             10.462676              0.927452   \n",
       "2016-01-15 02:00:00             10.507046              0.953716   \n",
       "2016-01-15 03:00:00             10.422762              0.883763   \n",
       "2016-01-15 04:00:00             10.360302              0.792826   \n",
       "\n",
       "                     final.output.tail_sol  final.output.tail_au  \\\n",
       "date                                                               \n",
       "2016-01-15 00:00:00              16.904297              2.143149   \n",
       "2016-01-15 01:00:00              16.634514              2.224930   \n",
       "2016-01-15 02:00:00              16.208849              2.257889   \n",
       "2016-01-15 03:00:00              16.532835              2.146849   \n",
       "2016-01-15 04:00:00              16.525686              2.055292   \n",
       "\n",
       "                     primary_cleaner.input.sulfate  ...  \\\n",
       "date                                                ...   \n",
       "2016-01-15 00:00:00                     127.092003  ...   \n",
       "2016-01-15 01:00:00                     125.629232  ...   \n",
       "2016-01-15 02:00:00                     123.819808  ...   \n",
       "2016-01-15 03:00:00                     122.270188  ...   \n",
       "2016-01-15 04:00:00                     117.988169  ...   \n",
       "\n",
       "                     secondary_cleaner.state.floatbank4_a_air  \\\n",
       "date                                                            \n",
       "2016-01-15 00:00:00                                 14.016835   \n",
       "2016-01-15 01:00:00                                 13.992281   \n",
       "2016-01-15 02:00:00                                 14.015015   \n",
       "2016-01-15 03:00:00                                 14.036510   \n",
       "2016-01-15 04:00:00                                 14.027298   \n",
       "\n",
       "                     secondary_cleaner.state.floatbank4_a_level  \\\n",
       "date                                                              \n",
       "2016-01-15 00:00:00                                 -502.488007   \n",
       "2016-01-15 01:00:00                                 -505.503262   \n",
       "2016-01-15 02:00:00                                 -502.520901   \n",
       "2016-01-15 03:00:00                                 -500.857308   \n",
       "2016-01-15 04:00:00                                 -499.838632   \n",
       "\n",
       "                     secondary_cleaner.state.floatbank4_b_air  \\\n",
       "date                                                            \n",
       "2016-01-15 00:00:00                                 12.099931   \n",
       "2016-01-15 01:00:00                                 11.950531   \n",
       "2016-01-15 02:00:00                                 11.912783   \n",
       "2016-01-15 03:00:00                                 11.999550   \n",
       "2016-01-15 04:00:00                                 11.953070   \n",
       "\n",
       "                     secondary_cleaner.state.floatbank4_b_level  \\\n",
       "date                                                              \n",
       "2016-01-15 00:00:00                                 -504.715942   \n",
       "2016-01-15 01:00:00                                 -501.331529   \n",
       "2016-01-15 02:00:00                                 -501.133383   \n",
       "2016-01-15 03:00:00                                 -501.193686   \n",
       "2016-01-15 04:00:00                                 -501.053894   \n",
       "\n",
       "                     secondary_cleaner.state.floatbank5_a_air  \\\n",
       "date                                                            \n",
       "2016-01-15 00:00:00                                  9.925633   \n",
       "2016-01-15 01:00:00                                 10.039245   \n",
       "2016-01-15 02:00:00                                 10.070913   \n",
       "2016-01-15 03:00:00                                  9.970366   \n",
       "2016-01-15 04:00:00                                  9.925709   \n",
       "\n",
       "                     secondary_cleaner.state.floatbank5_a_level  \\\n",
       "date                                                              \n",
       "2016-01-15 00:00:00                                 -498.310211   \n",
       "2016-01-15 01:00:00                                 -500.169983   \n",
       "2016-01-15 02:00:00                                 -500.129135   \n",
       "2016-01-15 03:00:00                                 -499.201640   \n",
       "2016-01-15 04:00:00                                 -501.686727   \n",
       "\n",
       "                     secondary_cleaner.state.floatbank5_b_air  \\\n",
       "date                                                            \n",
       "2016-01-15 00:00:00                                  8.079666   \n",
       "2016-01-15 01:00:00                                  7.984757   \n",
       "2016-01-15 02:00:00                                  8.013877   \n",
       "2016-01-15 03:00:00                                  7.977324   \n",
       "2016-01-15 04:00:00                                  7.894242   \n",
       "\n",
       "                     secondary_cleaner.state.floatbank5_b_level  \\\n",
       "date                                                              \n",
       "2016-01-15 00:00:00                                 -500.470978   \n",
       "2016-01-15 01:00:00                                 -500.582168   \n",
       "2016-01-15 02:00:00                                 -500.517572   \n",
       "2016-01-15 03:00:00                                 -500.255908   \n",
       "2016-01-15 04:00:00                                 -500.356035   \n",
       "\n",
       "                     secondary_cleaner.state.floatbank6_a_air  \\\n",
       "date                                                            \n",
       "2016-01-15 00:00:00                                 14.151341   \n",
       "2016-01-15 01:00:00                                 13.998353   \n",
       "2016-01-15 02:00:00                                 14.028663   \n",
       "2016-01-15 03:00:00                                 14.005551   \n",
       "2016-01-15 04:00:00                                 13.996647   \n",
       "\n",
       "                     secondary_cleaner.state.floatbank6_a_level  \n",
       "date                                                             \n",
       "2016-01-15 00:00:00                                 -605.841980  \n",
       "2016-01-15 01:00:00                                 -599.787184  \n",
       "2016-01-15 02:00:00                                 -601.427363  \n",
       "2016-01-15 03:00:00                                 -599.996129  \n",
       "2016-01-15 04:00:00                                 -601.496691  \n",
       "\n",
       "[5 rows x 86 columns]"
      ]
     },
     "metadata": {},
     "output_type": "display_data"
    },
    {
     "data": {
      "text/html": [
       "<div>\n",
       "<style scoped>\n",
       "    .dataframe tbody tr th:only-of-type {\n",
       "        vertical-align: middle;\n",
       "    }\n",
       "\n",
       "    .dataframe tbody tr th {\n",
       "        vertical-align: top;\n",
       "    }\n",
       "\n",
       "    .dataframe thead th {\n",
       "        text-align: right;\n",
       "    }\n",
       "</style>\n",
       "<table border=\"1\" class=\"dataframe\">\n",
       "  <thead>\n",
       "    <tr style=\"text-align: right;\">\n",
       "      <th></th>\n",
       "      <th>final.output.concentrate_ag</th>\n",
       "      <th>final.output.concentrate_pb</th>\n",
       "      <th>final.output.concentrate_sol</th>\n",
       "      <th>final.output.concentrate_au</th>\n",
       "      <th>final.output.recovery</th>\n",
       "      <th>final.output.tail_ag</th>\n",
       "      <th>final.output.tail_pb</th>\n",
       "      <th>final.output.tail_sol</th>\n",
       "      <th>final.output.tail_au</th>\n",
       "      <th>primary_cleaner.input.sulfate</th>\n",
       "      <th>...</th>\n",
       "      <th>secondary_cleaner.state.floatbank4_a_air</th>\n",
       "      <th>secondary_cleaner.state.floatbank4_a_level</th>\n",
       "      <th>secondary_cleaner.state.floatbank4_b_air</th>\n",
       "      <th>secondary_cleaner.state.floatbank4_b_level</th>\n",
       "      <th>secondary_cleaner.state.floatbank5_a_air</th>\n",
       "      <th>secondary_cleaner.state.floatbank5_a_level</th>\n",
       "      <th>secondary_cleaner.state.floatbank5_b_air</th>\n",
       "      <th>secondary_cleaner.state.floatbank5_b_level</th>\n",
       "      <th>secondary_cleaner.state.floatbank6_a_air</th>\n",
       "      <th>secondary_cleaner.state.floatbank6_a_level</th>\n",
       "    </tr>\n",
       "  </thead>\n",
       "  <tbody>\n",
       "    <tr>\n",
       "      <th>count</th>\n",
       "      <td>19438.000000</td>\n",
       "      <td>19438.000000</td>\n",
       "      <td>19228.000000</td>\n",
       "      <td>19439.000000</td>\n",
       "      <td>19439.000000</td>\n",
       "      <td>19438.000000</td>\n",
       "      <td>19338.000000</td>\n",
       "      <td>19433.000000</td>\n",
       "      <td>19439.000000</td>\n",
       "      <td>19415.000000</td>\n",
       "      <td>...</td>\n",
       "      <td>19433.000000</td>\n",
       "      <td>19438.000000</td>\n",
       "      <td>19438.000000</td>\n",
       "      <td>19438.000000</td>\n",
       "      <td>19438.000000</td>\n",
       "      <td>19438.000000</td>\n",
       "      <td>19438.000000</td>\n",
       "      <td>19438.000000</td>\n",
       "      <td>19437.000000</td>\n",
       "      <td>19438.000000</td>\n",
       "    </tr>\n",
       "    <tr>\n",
       "      <th>mean</th>\n",
       "      <td>5.168470</td>\n",
       "      <td>9.978895</td>\n",
       "      <td>9.501224</td>\n",
       "      <td>44.076513</td>\n",
       "      <td>67.050208</td>\n",
       "      <td>9.688589</td>\n",
       "      <td>2.705795</td>\n",
       "      <td>10.583728</td>\n",
       "      <td>3.042467</td>\n",
       "      <td>144.624774</td>\n",
       "      <td>...</td>\n",
       "      <td>18.987674</td>\n",
       "      <td>-485.894516</td>\n",
       "      <td>15.010366</td>\n",
       "      <td>-461.078636</td>\n",
       "      <td>15.694452</td>\n",
       "      <td>-488.684065</td>\n",
       "      <td>12.198224</td>\n",
       "      <td>-487.149827</td>\n",
       "      <td>18.959024</td>\n",
       "      <td>-505.436305</td>\n",
       "    </tr>\n",
       "    <tr>\n",
       "      <th>std</th>\n",
       "      <td>1.372348</td>\n",
       "      <td>1.669240</td>\n",
       "      <td>2.787537</td>\n",
       "      <td>5.129784</td>\n",
       "      <td>10.125840</td>\n",
       "      <td>2.328642</td>\n",
       "      <td>0.949077</td>\n",
       "      <td>2.868782</td>\n",
       "      <td>0.922808</td>\n",
       "      <td>44.464071</td>\n",
       "      <td>...</td>\n",
       "      <td>5.411058</td>\n",
       "      <td>47.758570</td>\n",
       "      <td>4.890228</td>\n",
       "      <td>67.405524</td>\n",
       "      <td>5.510974</td>\n",
       "      <td>34.533396</td>\n",
       "      <td>5.333024</td>\n",
       "      <td>38.347312</td>\n",
       "      <td>5.550498</td>\n",
       "      <td>37.689057</td>\n",
       "    </tr>\n",
       "    <tr>\n",
       "      <th>min</th>\n",
       "      <td>0.000000</td>\n",
       "      <td>0.000000</td>\n",
       "      <td>0.000000</td>\n",
       "      <td>0.000000</td>\n",
       "      <td>0.000000</td>\n",
       "      <td>0.000000</td>\n",
       "      <td>0.000000</td>\n",
       "      <td>0.000000</td>\n",
       "      <td>0.000000</td>\n",
       "      <td>0.003112</td>\n",
       "      <td>...</td>\n",
       "      <td>0.000000</td>\n",
       "      <td>-799.798523</td>\n",
       "      <td>0.000000</td>\n",
       "      <td>-800.836914</td>\n",
       "      <td>-0.372054</td>\n",
       "      <td>-797.323986</td>\n",
       "      <td>0.528083</td>\n",
       "      <td>-800.220337</td>\n",
       "      <td>-0.079426</td>\n",
       "      <td>-809.741464</td>\n",
       "    </tr>\n",
       "    <tr>\n",
       "      <th>25%</th>\n",
       "      <td>4.251240</td>\n",
       "      <td>9.137262</td>\n",
       "      <td>7.722820</td>\n",
       "      <td>43.402215</td>\n",
       "      <td>63.299712</td>\n",
       "      <td>8.062878</td>\n",
       "      <td>2.040119</td>\n",
       "      <td>8.938947</td>\n",
       "      <td>2.461138</td>\n",
       "      <td>114.107029</td>\n",
       "      <td>...</td>\n",
       "      <td>14.975734</td>\n",
       "      <td>-500.704892</td>\n",
       "      <td>11.940294</td>\n",
       "      <td>-500.187742</td>\n",
       "      <td>10.988606</td>\n",
       "      <td>-500.458467</td>\n",
       "      <td>8.971105</td>\n",
       "      <td>-500.129462</td>\n",
       "      <td>14.983037</td>\n",
       "      <td>-500.728067</td>\n",
       "    </tr>\n",
       "    <tr>\n",
       "      <th>50%</th>\n",
       "      <td>5.066094</td>\n",
       "      <td>10.102433</td>\n",
       "      <td>9.218961</td>\n",
       "      <td>45.011244</td>\n",
       "      <td>68.172738</td>\n",
       "      <td>9.743623</td>\n",
       "      <td>2.748730</td>\n",
       "      <td>10.622456</td>\n",
       "      <td>2.984909</td>\n",
       "      <td>143.232103</td>\n",
       "      <td>...</td>\n",
       "      <td>18.017481</td>\n",
       "      <td>-499.837793</td>\n",
       "      <td>14.971014</td>\n",
       "      <td>-499.459786</td>\n",
       "      <td>15.000036</td>\n",
       "      <td>-499.802605</td>\n",
       "      <td>11.019433</td>\n",
       "      <td>-499.935317</td>\n",
       "      <td>19.960541</td>\n",
       "      <td>-500.048400</td>\n",
       "    </tr>\n",
       "    <tr>\n",
       "      <th>75%</th>\n",
       "      <td>5.895527</td>\n",
       "      <td>11.035769</td>\n",
       "      <td>10.947813</td>\n",
       "      <td>46.275313</td>\n",
       "      <td>72.686642</td>\n",
       "      <td>11.134294</td>\n",
       "      <td>3.333216</td>\n",
       "      <td>12.104271</td>\n",
       "      <td>3.571351</td>\n",
       "      <td>175.075656</td>\n",
       "      <td>...</td>\n",
       "      <td>23.012470</td>\n",
       "      <td>-498.249730</td>\n",
       "      <td>19.034162</td>\n",
       "      <td>-400.118106</td>\n",
       "      <td>18.026190</td>\n",
       "      <td>-498.384187</td>\n",
       "      <td>14.019088</td>\n",
       "      <td>-499.436708</td>\n",
       "      <td>24.003170</td>\n",
       "      <td>-499.495378</td>\n",
       "    </tr>\n",
       "    <tr>\n",
       "      <th>max</th>\n",
       "      <td>16.001945</td>\n",
       "      <td>17.031899</td>\n",
       "      <td>19.615720</td>\n",
       "      <td>52.756638</td>\n",
       "      <td>100.000000</td>\n",
       "      <td>19.552149</td>\n",
       "      <td>5.804178</td>\n",
       "      <td>22.317730</td>\n",
       "      <td>8.245022</td>\n",
       "      <td>265.983123</td>\n",
       "      <td>...</td>\n",
       "      <td>30.115735</td>\n",
       "      <td>-245.239184</td>\n",
       "      <td>31.269706</td>\n",
       "      <td>-6.506986</td>\n",
       "      <td>43.709931</td>\n",
       "      <td>-244.483566</td>\n",
       "      <td>27.926001</td>\n",
       "      <td>-137.740004</td>\n",
       "      <td>32.188906</td>\n",
       "      <td>-104.427459</td>\n",
       "    </tr>\n",
       "  </tbody>\n",
       "</table>\n",
       "<p>8 rows × 86 columns</p>\n",
       "</div>"
      ],
      "text/plain": [
       "       final.output.concentrate_ag  final.output.concentrate_pb  \\\n",
       "count                 19438.000000                 19438.000000   \n",
       "mean                      5.168470                     9.978895   \n",
       "std                       1.372348                     1.669240   \n",
       "min                       0.000000                     0.000000   \n",
       "25%                       4.251240                     9.137262   \n",
       "50%                       5.066094                    10.102433   \n",
       "75%                       5.895527                    11.035769   \n",
       "max                      16.001945                    17.031899   \n",
       "\n",
       "       final.output.concentrate_sol  final.output.concentrate_au  \\\n",
       "count                  19228.000000                 19439.000000   \n",
       "mean                       9.501224                    44.076513   \n",
       "std                        2.787537                     5.129784   \n",
       "min                        0.000000                     0.000000   \n",
       "25%                        7.722820                    43.402215   \n",
       "50%                        9.218961                    45.011244   \n",
       "75%                       10.947813                    46.275313   \n",
       "max                       19.615720                    52.756638   \n",
       "\n",
       "       final.output.recovery  final.output.tail_ag  final.output.tail_pb  \\\n",
       "count           19439.000000          19438.000000          19338.000000   \n",
       "mean               67.050208              9.688589              2.705795   \n",
       "std                10.125840              2.328642              0.949077   \n",
       "min                 0.000000              0.000000              0.000000   \n",
       "25%                63.299712              8.062878              2.040119   \n",
       "50%                68.172738              9.743623              2.748730   \n",
       "75%                72.686642             11.134294              3.333216   \n",
       "max               100.000000             19.552149              5.804178   \n",
       "\n",
       "       final.output.tail_sol  final.output.tail_au  \\\n",
       "count           19433.000000          19439.000000   \n",
       "mean               10.583728              3.042467   \n",
       "std                 2.868782              0.922808   \n",
       "min                 0.000000              0.000000   \n",
       "25%                 8.938947              2.461138   \n",
       "50%                10.622456              2.984909   \n",
       "75%                12.104271              3.571351   \n",
       "max                22.317730              8.245022   \n",
       "\n",
       "       primary_cleaner.input.sulfate  ...  \\\n",
       "count                   19415.000000  ...   \n",
       "mean                      144.624774  ...   \n",
       "std                        44.464071  ...   \n",
       "min                         0.003112  ...   \n",
       "25%                       114.107029  ...   \n",
       "50%                       143.232103  ...   \n",
       "75%                       175.075656  ...   \n",
       "max                       265.983123  ...   \n",
       "\n",
       "       secondary_cleaner.state.floatbank4_a_air  \\\n",
       "count                              19433.000000   \n",
       "mean                                  18.987674   \n",
       "std                                    5.411058   \n",
       "min                                    0.000000   \n",
       "25%                                   14.975734   \n",
       "50%                                   18.017481   \n",
       "75%                                   23.012470   \n",
       "max                                   30.115735   \n",
       "\n",
       "       secondary_cleaner.state.floatbank4_a_level  \\\n",
       "count                                19438.000000   \n",
       "mean                                  -485.894516   \n",
       "std                                     47.758570   \n",
       "min                                   -799.798523   \n",
       "25%                                   -500.704892   \n",
       "50%                                   -499.837793   \n",
       "75%                                   -498.249730   \n",
       "max                                   -245.239184   \n",
       "\n",
       "       secondary_cleaner.state.floatbank4_b_air  \\\n",
       "count                              19438.000000   \n",
       "mean                                  15.010366   \n",
       "std                                    4.890228   \n",
       "min                                    0.000000   \n",
       "25%                                   11.940294   \n",
       "50%                                   14.971014   \n",
       "75%                                   19.034162   \n",
       "max                                   31.269706   \n",
       "\n",
       "       secondary_cleaner.state.floatbank4_b_level  \\\n",
       "count                                19438.000000   \n",
       "mean                                  -461.078636   \n",
       "std                                     67.405524   \n",
       "min                                   -800.836914   \n",
       "25%                                   -500.187742   \n",
       "50%                                   -499.459786   \n",
       "75%                                   -400.118106   \n",
       "max                                     -6.506986   \n",
       "\n",
       "       secondary_cleaner.state.floatbank5_a_air  \\\n",
       "count                              19438.000000   \n",
       "mean                                  15.694452   \n",
       "std                                    5.510974   \n",
       "min                                   -0.372054   \n",
       "25%                                   10.988606   \n",
       "50%                                   15.000036   \n",
       "75%                                   18.026190   \n",
       "max                                   43.709931   \n",
       "\n",
       "       secondary_cleaner.state.floatbank5_a_level  \\\n",
       "count                                19438.000000   \n",
       "mean                                  -488.684065   \n",
       "std                                     34.533396   \n",
       "min                                   -797.323986   \n",
       "25%                                   -500.458467   \n",
       "50%                                   -499.802605   \n",
       "75%                                   -498.384187   \n",
       "max                                   -244.483566   \n",
       "\n",
       "       secondary_cleaner.state.floatbank5_b_air  \\\n",
       "count                              19438.000000   \n",
       "mean                                  12.198224   \n",
       "std                                    5.333024   \n",
       "min                                    0.528083   \n",
       "25%                                    8.971105   \n",
       "50%                                   11.019433   \n",
       "75%                                   14.019088   \n",
       "max                                   27.926001   \n",
       "\n",
       "       secondary_cleaner.state.floatbank5_b_level  \\\n",
       "count                                19438.000000   \n",
       "mean                                  -487.149827   \n",
       "std                                     38.347312   \n",
       "min                                   -800.220337   \n",
       "25%                                   -500.129462   \n",
       "50%                                   -499.935317   \n",
       "75%                                   -499.436708   \n",
       "max                                   -137.740004   \n",
       "\n",
       "       secondary_cleaner.state.floatbank6_a_air  \\\n",
       "count                              19437.000000   \n",
       "mean                                  18.959024   \n",
       "std                                    5.550498   \n",
       "min                                   -0.079426   \n",
       "25%                                   14.983037   \n",
       "50%                                   19.960541   \n",
       "75%                                   24.003170   \n",
       "max                                   32.188906   \n",
       "\n",
       "       secondary_cleaner.state.floatbank6_a_level  \n",
       "count                                19438.000000  \n",
       "mean                                  -505.436305  \n",
       "std                                     37.689057  \n",
       "min                                   -809.741464  \n",
       "25%                                   -500.728067  \n",
       "50%                                   -500.048400  \n",
       "75%                                   -499.495378  \n",
       "max                                   -104.427459  \n",
       "\n",
       "[8 rows x 86 columns]"
      ]
     },
     "metadata": {},
     "output_type": "display_data"
    },
    {
     "name": "stdout",
     "output_type": "stream",
     "text": [
      "<class 'pandas.core.frame.DataFrame'>\n",
      "Index: 19439 entries, 2016-01-15 00:00:00 to 2018-08-18 10:59:59\n",
      "Data columns (total 86 columns):\n",
      " #   Column                                              Non-Null Count  Dtype  \n",
      "---  ------                                              --------------  -----  \n",
      " 0   final.output.concentrate_ag                         19438 non-null  float64\n",
      " 1   final.output.concentrate_pb                         19438 non-null  float64\n",
      " 2   final.output.concentrate_sol                        19228 non-null  float64\n",
      " 3   final.output.concentrate_au                         19439 non-null  float64\n",
      " 4   final.output.recovery                               19439 non-null  float64\n",
      " 5   final.output.tail_ag                                19438 non-null  float64\n",
      " 6   final.output.tail_pb                                19338 non-null  float64\n",
      " 7   final.output.tail_sol                               19433 non-null  float64\n",
      " 8   final.output.tail_au                                19439 non-null  float64\n",
      " 9   primary_cleaner.input.sulfate                       19415 non-null  float64\n",
      " 10  primary_cleaner.input.depressant                    19402 non-null  float64\n",
      " 11  primary_cleaner.input.feed_size                     19439 non-null  float64\n",
      " 12  primary_cleaner.input.xanthate                      19335 non-null  float64\n",
      " 13  primary_cleaner.output.concentrate_ag               19439 non-null  float64\n",
      " 14  primary_cleaner.output.concentrate_pb               19323 non-null  float64\n",
      " 15  primary_cleaner.output.concentrate_sol              19069 non-null  float64\n",
      " 16  primary_cleaner.output.concentrate_au               19439 non-null  float64\n",
      " 17  primary_cleaner.output.tail_ag                      19435 non-null  float64\n",
      " 18  primary_cleaner.output.tail_pb                      19418 non-null  float64\n",
      " 19  primary_cleaner.output.tail_sol                     19377 non-null  float64\n",
      " 20  primary_cleaner.output.tail_au                      19439 non-null  float64\n",
      " 21  primary_cleaner.state.floatbank8_a_air              19435 non-null  float64\n",
      " 22  primary_cleaner.state.floatbank8_a_level            19438 non-null  float64\n",
      " 23  primary_cleaner.state.floatbank8_b_air              19435 non-null  float64\n",
      " 24  primary_cleaner.state.floatbank8_b_level            19438 non-null  float64\n",
      " 25  primary_cleaner.state.floatbank8_c_air              19437 non-null  float64\n",
      " 26  primary_cleaner.state.floatbank8_c_level            19438 non-null  float64\n",
      " 27  primary_cleaner.state.floatbank8_d_air              19436 non-null  float64\n",
      " 28  primary_cleaner.state.floatbank8_d_level            19438 non-null  float64\n",
      " 29  rougher.calculation.sulfate_to_au_concentrate       19437 non-null  float64\n",
      " 30  rougher.calculation.floatbank10_sulfate_to_au_feed  19437 non-null  float64\n",
      " 31  rougher.calculation.floatbank11_sulfate_to_au_feed  19437 non-null  float64\n",
      " 32  rougher.calculation.au_pb_ratio                     19439 non-null  float64\n",
      " 33  rougher.input.feed_ag                               19439 non-null  float64\n",
      " 34  rougher.input.feed_pb                               19339 non-null  float64\n",
      " 35  rougher.input.feed_rate                             19428 non-null  float64\n",
      " 36  rougher.input.feed_size                             19294 non-null  float64\n",
      " 37  rougher.input.feed_sol                              19340 non-null  float64\n",
      " 38  rougher.input.feed_au                               19439 non-null  float64\n",
      " 39  rougher.input.floatbank10_sulfate                   19405 non-null  float64\n",
      " 40  rougher.input.floatbank10_xanthate                  19431 non-null  float64\n",
      " 41  rougher.input.floatbank11_sulfate                   19395 non-null  float64\n",
      " 42  rougher.input.floatbank11_xanthate                  18986 non-null  float64\n",
      " 43  rougher.output.concentrate_ag                       19439 non-null  float64\n",
      " 44  rougher.output.concentrate_pb                       19439 non-null  float64\n",
      " 45  rougher.output.concentrate_sol                      19416 non-null  float64\n",
      " 46  rougher.output.concentrate_au                       19439 non-null  float64\n",
      " 47  rougher.output.recovery                             19439 non-null  float64\n",
      " 48  rougher.output.tail_ag                              19438 non-null  float64\n",
      " 49  rougher.output.tail_pb                              19439 non-null  float64\n",
      " 50  rougher.output.tail_sol                             19439 non-null  float64\n",
      " 51  rougher.output.tail_au                              19439 non-null  float64\n",
      " 52  rougher.state.floatbank10_a_air                     19438 non-null  float64\n",
      " 53  rougher.state.floatbank10_a_level                   19438 non-null  float64\n",
      " 54  rougher.state.floatbank10_b_air                     19438 non-null  float64\n",
      " 55  rougher.state.floatbank10_b_level                   19438 non-null  float64\n",
      " 56  rougher.state.floatbank10_c_air                     19438 non-null  float64\n",
      " 57  rougher.state.floatbank10_c_level                   19438 non-null  float64\n",
      " 58  rougher.state.floatbank10_d_air                     19439 non-null  float64\n",
      " 59  rougher.state.floatbank10_d_level                   19439 non-null  float64\n",
      " 60  rougher.state.floatbank10_e_air                     19003 non-null  float64\n",
      " 61  rougher.state.floatbank10_e_level                   19439 non-null  float64\n",
      " 62  rougher.state.floatbank10_f_air                     19439 non-null  float64\n",
      " 63  rougher.state.floatbank10_f_level                   19439 non-null  float64\n",
      " 64  secondary_cleaner.output.tail_ag                    19437 non-null  float64\n",
      " 65  secondary_cleaner.output.tail_pb                    19427 non-null  float64\n",
      " 66  secondary_cleaner.output.tail_sol                   17691 non-null  float64\n",
      " 67  secondary_cleaner.output.tail_au                    19439 non-null  float64\n",
      " 68  secondary_cleaner.state.floatbank2_a_air            19219 non-null  float64\n",
      " 69  secondary_cleaner.state.floatbank2_a_level          19438 non-null  float64\n",
      " 70  secondary_cleaner.state.floatbank2_b_air            19416 non-null  float64\n",
      " 71  secondary_cleaner.state.floatbank2_b_level          19438 non-null  float64\n",
      " 72  secondary_cleaner.state.floatbank3_a_air            19426 non-null  float64\n",
      " 73  secondary_cleaner.state.floatbank3_a_level          19438 non-null  float64\n",
      " 74  secondary_cleaner.state.floatbank3_b_air            19438 non-null  float64\n",
      " 75  secondary_cleaner.state.floatbank3_b_level          19438 non-null  float64\n",
      " 76  secondary_cleaner.state.floatbank4_a_air            19433 non-null  float64\n",
      " 77  secondary_cleaner.state.floatbank4_a_level          19438 non-null  float64\n",
      " 78  secondary_cleaner.state.floatbank4_b_air            19438 non-null  float64\n",
      " 79  secondary_cleaner.state.floatbank4_b_level          19438 non-null  float64\n",
      " 80  secondary_cleaner.state.floatbank5_a_air            19438 non-null  float64\n",
      " 81  secondary_cleaner.state.floatbank5_a_level          19438 non-null  float64\n",
      " 82  secondary_cleaner.state.floatbank5_b_air            19438 non-null  float64\n",
      " 83  secondary_cleaner.state.floatbank5_b_level          19438 non-null  float64\n",
      " 84  secondary_cleaner.state.floatbank6_a_air            19437 non-null  float64\n",
      " 85  secondary_cleaner.state.floatbank6_a_level          19438 non-null  float64\n",
      "dtypes: float64(86)\n",
      "memory usage: 12.9+ MB\n"
     ]
    }
   ],
   "source": [
    "info(data_full)"
   ]
  },
  {
   "cell_type": "markdown",
   "metadata": {},
   "source": [
    "*Вывод: во всех таблицах есть пропуски. Ну и как было сказанно в описании проекта - в тестовой выборке отсутсвуют некоторые признаки из обучающей. Также, все данные имеют тип float.*"
   ]
  },
  {
   "cell_type": "markdown",
   "metadata": {},
   "source": [
    "###  Проверка эффективности обогащения"
   ]
  },
  {
   "cell_type": "code",
   "execution_count": 58,
   "metadata": {},
   "outputs": [],
   "source": [
    "def recovery_calculate(c, f, t):\n",
    "    recovery = (c * (f - t)) / (f * (c - t)) * 100\n",
    "    return recovery"
   ]
  },
  {
   "cell_type": "markdown",
   "metadata": {},
   "source": [
    "C — доля золота в концентрате после флотации/очистки;\n",
    "F — доля золота в сырье/концентрате до флотации/очистки;\n",
    "T — доля золота в отвальных хвостах после флотации/очистки."
   ]
  },
  {
   "cell_type": "code",
   "execution_count": 59,
   "metadata": {},
   "outputs": [
    {
     "name": "stdout",
     "output_type": "stream",
     "text": [
      "MAE равно: 9.73512347450521e-15\n"
     ]
    }
   ],
   "source": [
    "recovery = recovery_calculate(data_train['rougher.output.concentrate_au'],\n",
    "                  data_train['rougher.input.feed_au'],\n",
    "                  data_train['rougher.output.tail_au'])\n",
    "mae_recovery = mean_absolute_error(data_train['rougher.output.recovery'].dropna(), recovery.dropna())\n",
    "print('MAE равно:', mae_recovery)"
   ]
  },
  {
   "cell_type": "markdown",
   "metadata": {},
   "source": [
    "*Вывод: средняя абсолютная ошибка между признаком и рассчитанной величиной крайне мала, из чего можно сделать вывод, что признак в таблице посчитан верно.*"
   ]
  },
  {
   "cell_type": "markdown",
   "metadata": {},
   "source": [
    "### Анализ признаков, недоступных в тестовой выборке"
   ]
  },
  {
   "cell_type": "code",
   "execution_count": 60,
   "metadata": {
    "scrolled": true
   },
   "outputs": [
    {
     "data": {
      "text/plain": [
       "['final.output.concentrate_ag',\n",
       " 'final.output.concentrate_pb',\n",
       " 'final.output.concentrate_sol',\n",
       " 'final.output.concentrate_au',\n",
       " 'final.output.recovery',\n",
       " 'final.output.tail_ag',\n",
       " 'final.output.tail_pb',\n",
       " 'final.output.tail_sol',\n",
       " 'final.output.tail_au',\n",
       " 'primary_cleaner.output.concentrate_ag',\n",
       " 'primary_cleaner.output.concentrate_pb',\n",
       " 'primary_cleaner.output.concentrate_sol',\n",
       " 'primary_cleaner.output.concentrate_au',\n",
       " 'primary_cleaner.output.tail_ag',\n",
       " 'primary_cleaner.output.tail_pb',\n",
       " 'primary_cleaner.output.tail_sol',\n",
       " 'primary_cleaner.output.tail_au',\n",
       " 'rougher.calculation.sulfate_to_au_concentrate',\n",
       " 'rougher.calculation.floatbank10_sulfate_to_au_feed',\n",
       " 'rougher.calculation.floatbank11_sulfate_to_au_feed',\n",
       " 'rougher.calculation.au_pb_ratio',\n",
       " 'rougher.output.concentrate_ag',\n",
       " 'rougher.output.concentrate_pb',\n",
       " 'rougher.output.concentrate_sol',\n",
       " 'rougher.output.concentrate_au',\n",
       " 'rougher.output.recovery',\n",
       " 'rougher.output.tail_ag',\n",
       " 'rougher.output.tail_pb',\n",
       " 'rougher.output.tail_sol',\n",
       " 'rougher.output.tail_au',\n",
       " 'secondary_cleaner.output.tail_ag',\n",
       " 'secondary_cleaner.output.tail_pb',\n",
       " 'secondary_cleaner.output.tail_sol',\n",
       " 'secondary_cleaner.output.tail_au']"
      ]
     },
     "execution_count": 60,
     "metadata": {},
     "output_type": "execute_result"
    }
   ],
   "source": [
    "missing_columns = []\n",
    "for col in range(len(data_train.columns)):\n",
    "    if data_train.columns[col] not in data_test.columns:\n",
    "        missing_columns.append(data_train.columns[col])\n",
    "missing_columns"
   ]
  },
  {
   "cell_type": "markdown",
   "metadata": {},
   "source": [
    "*Вывод: признаки с calculation скорее всего отсутствуют из-за того, что он рассчитывается значительно позже процесса. Признаки с output отсутсвуют так как они являются целевыми.*"
   ]
  },
  {
   "cell_type": "markdown",
   "metadata": {},
   "source": [
    "### Предобработка данных\n"
   ]
  },
  {
   "cell_type": "markdown",
   "metadata": {},
   "source": [
    "Посчитаем долю пропусков в столбцых таблиц."
   ]
  },
  {
   "cell_type": "code",
   "execution_count": 61,
   "metadata": {},
   "outputs": [],
   "source": [
    "def na_perc(data):\n",
    "    print((data.isna().sum() / data.shape[0] * 100)\n",
    "          .sort_values(ascending=False))"
   ]
  },
  {
   "cell_type": "code",
   "execution_count": 62,
   "metadata": {
    "scrolled": true
   },
   "outputs": [
    {
     "name": "stdout",
     "output_type": "stream",
     "text": [
      "secondary_cleaner.output.tail_sol           11.343558\n",
      "rougher.state.floatbank10_e_air              3.081490\n",
      "rougher.input.floatbank11_xanthate           3.024949\n",
      "primary_cleaner.output.concentrate_sol       2.021344\n",
      "secondary_cleaner.state.floatbank2_a_air     1.533677\n",
      "                                              ...    \n",
      "rougher.state.floatbank10_d_air              0.000000\n",
      "rougher.output.concentrate_au                0.000000\n",
      "rougher.output.recovery                      0.000000\n",
      "rougher.output.tail_pb                       0.000000\n",
      "rougher.output.concentrate_ag                0.000000\n",
      "Length: 86, dtype: float64\n"
     ]
    }
   ],
   "source": [
    "na_perc(data_train)"
   ]
  },
  {
   "cell_type": "code",
   "execution_count": 63,
   "metadata": {
    "scrolled": true
   },
   "outputs": [
    {
     "name": "stdout",
     "output_type": "stream",
     "text": [
      "rougher.input.floatbank11_xanthate            0.472590\n",
      "rougher.input.feed_sol                        0.396975\n",
      "secondary_cleaner.state.floatbank3_a_air      0.170132\n",
      "rougher.input.floatbank11_sulfate             0.151229\n",
      "primary_cleaner.input.depressant              0.094518\n",
      "rougher.input.floatbank10_sulfate             0.094518\n",
      "primary_cleaner.input.sulfate                 0.075614\n",
      "primary_cleaner.input.xanthate                0.075614\n",
      "rougher.input.feed_rate                       0.056711\n",
      "secondary_cleaner.state.floatbank2_a_air      0.056711\n",
      "secondary_cleaner.state.floatbank2_b_air      0.037807\n",
      "rougher.input.feed_size                       0.018904\n",
      "secondary_cleaner.state.floatbank3_b_level    0.000000\n",
      "secondary_cleaner.state.floatbank3_b_air      0.000000\n",
      "rougher.state.floatbank10_f_air               0.000000\n",
      "rougher.state.floatbank10_f_level             0.000000\n",
      "secondary_cleaner.state.floatbank6_a_air      0.000000\n",
      "secondary_cleaner.state.floatbank5_b_level    0.000000\n",
      "secondary_cleaner.state.floatbank2_a_level    0.000000\n",
      "secondary_cleaner.state.floatbank5_b_air      0.000000\n",
      "secondary_cleaner.state.floatbank2_b_level    0.000000\n",
      "secondary_cleaner.state.floatbank5_a_level    0.000000\n",
      "secondary_cleaner.state.floatbank5_a_air      0.000000\n",
      "secondary_cleaner.state.floatbank4_b_level    0.000000\n",
      "secondary_cleaner.state.floatbank4_b_air      0.000000\n",
      "secondary_cleaner.state.floatbank3_a_level    0.000000\n",
      "secondary_cleaner.state.floatbank4_a_level    0.000000\n",
      "rougher.state.floatbank10_e_air               0.000000\n",
      "secondary_cleaner.state.floatbank4_a_air      0.000000\n",
      "rougher.state.floatbank10_e_level             0.000000\n",
      "rougher.state.floatbank10_c_air               0.000000\n",
      "rougher.state.floatbank10_d_level             0.000000\n",
      "primary_cleaner.state.floatbank8_d_level      0.000000\n",
      "primary_cleaner.input.feed_size               0.000000\n",
      "primary_cleaner.state.floatbank8_a_air        0.000000\n",
      "primary_cleaner.state.floatbank8_a_level      0.000000\n",
      "primary_cleaner.state.floatbank8_b_air        0.000000\n",
      "primary_cleaner.state.floatbank8_b_level      0.000000\n",
      "primary_cleaner.state.floatbank8_c_air        0.000000\n",
      "primary_cleaner.state.floatbank8_c_level      0.000000\n",
      "primary_cleaner.state.floatbank8_d_air        0.000000\n",
      "rougher.input.feed_ag                         0.000000\n",
      "rougher.state.floatbank10_d_air               0.000000\n",
      "rougher.input.feed_pb                         0.000000\n",
      "rougher.input.feed_au                         0.000000\n",
      "rougher.input.floatbank10_xanthate            0.000000\n",
      "rougher.state.floatbank10_a_air               0.000000\n",
      "rougher.state.floatbank10_a_level             0.000000\n",
      "rougher.state.floatbank10_b_air               0.000000\n",
      "rougher.state.floatbank10_b_level             0.000000\n",
      "rougher.state.floatbank10_c_level             0.000000\n",
      "secondary_cleaner.state.floatbank6_a_level    0.000000\n",
      "dtype: float64\n"
     ]
    }
   ],
   "source": [
    "na_perc(data_test)"
   ]
  },
  {
   "cell_type": "markdown",
   "metadata": {},
   "source": [
    "Добавим целевые признаки в тестовую выборку из полной выборки."
   ]
  },
  {
   "cell_type": "code",
   "execution_count": 64,
   "metadata": {},
   "outputs": [
    {
     "name": "stdout",
     "output_type": "stream",
     "text": [
      "(5290, 52)\n",
      "(5290, 54)\n"
     ]
    }
   ],
   "source": [
    "print(data_test.shape)\n",
    "data_test = data_test.merge(data_full[TARGETS]\n",
    "                            .loc[data_test.index], on='date', how='left')\n",
    "\n",
    "print(data_test.shape)"
   ]
  },
  {
   "cell_type": "markdown",
   "metadata": {},
   "source": [
    "Удалять пропуски нельзя, так как я уже пытался это делать и там уйдут 23% данных, а это много. Поэтому заполняем их. Так как по условию сказанно, что соседние значения похожи - применяем метод filna с параметром method='bfill' или 'ffill'."
   ]
  },
  {
   "cell_type": "code",
   "execution_count": 65,
   "metadata": {},
   "outputs": [],
   "source": [
    "data_train = data_train.fillna(method='ffill')\n",
    "data_test = data_test.fillna(method='ffill')"
   ]
  },
  {
   "cell_type": "code",
   "execution_count": 66,
   "metadata": {},
   "outputs": [
    {
     "name": "stdout",
     "output_type": "stream",
     "text": [
      "Количество пропусков в обучающей выборке: 0\n",
      "Количество пропусков в тестовой выборке: 0\n"
     ]
    }
   ],
   "source": [
    "print('Количество пропусков в обучающей выборке:', data_train.isna().sum().sum())\n",
    "print('Количество пропусков в тестовой выборке:', data_test.isna().sum().sum())"
   ]
  },
  {
   "cell_type": "markdown",
   "metadata": {},
   "source": [
    "## Анализ данных"
   ]
  },
  {
   "cell_type": "markdown",
   "metadata": {},
   "source": [
    " ### Изменение концентрации металлов (Au, Ag, Pb) на различных этапах очистки"
   ]
  },
  {
   "cell_type": "code",
   "execution_count": 67,
   "metadata": {},
   "outputs": [
    {
     "data": {
      "text/plain": [
       "<matplotlib.legend.Legend at 0x7fedc597c130>"
      ]
     },
     "execution_count": 67,
     "metadata": {},
     "output_type": "execute_result"
    },
    {
     "data": {
      "text/plain": [
       "<Figure size 432x288 with 0 Axes>"
      ]
     },
     "metadata": {},
     "output_type": "display_data"
    },
    {
     "data": {
      "image/png": "[encoded data removed]",
      "text/plain": [
       "<Figure size 1296x360 with 1 Axes>"
      ]
     },
     "metadata": {
      "needs_background": "light"
     },
     "output_type": "display_data"
    }
   ],
   "source": [
    "plt.figure()\n",
    "data_full[['rougher.input.feed_au', 'rougher.output.concentrate_au', \n",
    "           'primary_cleaner.output.concentrate_au', 'final.output.concentrate_au']].plot(\n",
    "title='Изменение концентрации Au на разных этапах очистки',\n",
    "kind='hist',\n",
    "grid=True,\n",
    "legend=True,\n",
    "bins=150,\n",
    "figsize=(18, 5),\n",
    "alpha=0.6)\n",
    "\n",
    "plt.xlabel('Концентрация')\n",
    "plt.axvline(data_full['rougher.input.feed_au'].mean(), ls='--', label='Средняя концентрация до флотации')\n",
    "plt.axvline(data_full['rougher.output.concentrate_au'].mean(), ls='--', label='Средняя концентрация после флотации', c='m')\n",
    "plt.axvline(data_full['primary_cleaner.output.concentrate_au'].mean(), ls='--', label='Средняя концентрация после первой очистки', c='g')\n",
    "plt.axvline(data_full['final.output.concentrate_au'].mean(), ls='--', label='Средняя концентрация после второй очистки', c='r')\n",
    "\n",
    "plt.legend(loc='upper right', borderaxespad= 0, bbox_to_anchor=( 1.23, 1 ))"
   ]
  },
  {
   "cell_type": "markdown",
   "metadata": {},
   "source": [
    "Средняя концентрация зололта на разных этапах очистки увеличивается."
   ]
  },
  {
   "cell_type": "code",
   "execution_count": 68,
   "metadata": {},
   "outputs": [
    {
     "data": {
      "text/plain": [
       "Text(0.5, 0, 'Концентрация')"
      ]
     },
     "execution_count": 68,
     "metadata": {},
     "output_type": "execute_result"
    },
    {
     "data": {
      "image/png": "[encoded data removed]",
      "text/plain": [
       "<Figure size 1296x360 with 1 Axes>"
      ]
     },
     "metadata": {
      "needs_background": "light"
     },
     "output_type": "display_data"
    }
   ],
   "source": [
    "data_full[['rougher.input.feed_ag', 'rougher.output.concentrate_ag', \n",
    "           'primary_cleaner.output.concentrate_ag', 'final.output.concentrate_ag']].plot(\n",
    "title='Изменение концентрации Ag на разных этапах очистки',\n",
    "kind='hist',\n",
    "grid=True,\n",
    "legend=True,\n",
    "bins=150,\n",
    "figsize=(18, 5),\n",
    "alpha=0.6)\n",
    "plt.axvline(data_full['rougher.input.feed_ag'].mean(), ls='--', label='Средняя концентрация до флотации')\n",
    "plt.axvline(data_full['rougher.output.concentrate_ag'].mean(), ls='--', label='Средняя концентрация после флотации', c='m')\n",
    "plt.axvline(data_full['primary_cleaner.output.concentrate_ag'].mean(), ls='--', label='Средняя концентрация после первой очистки', c='g')\n",
    "plt.axvline(data_full['final.output.concentrate_ag'].mean(), ls='--', label='Средняя концентрация после второй очистки', c='r')\n",
    "plt.legend(loc='upper right', borderaxespad= 0, bbox_to_anchor=( 1.23, 1 ))\n",
    "plt.xlabel('Концентрация')"
   ]
  },
  {
   "cell_type": "markdown",
   "metadata": {},
   "source": [
    "Концентрация серебра после этапа флотации увеличилась, а на дальнейших этапах снижалась."
   ]
  },
  {
   "cell_type": "code",
   "execution_count": 69,
   "metadata": {},
   "outputs": [
    {
     "data": {
      "text/plain": [
       "Text(0.5, 0, 'Концентрация')"
      ]
     },
     "execution_count": 69,
     "metadata": {},
     "output_type": "execute_result"
    },
    {
     "data": {
      "image/png": "[encoded data removed]",
      "text/plain": [
       "<Figure size 1296x360 with 1 Axes>"
      ]
     },
     "metadata": {
      "needs_background": "light"
     },
     "output_type": "display_data"
    }
   ],
   "source": [
    "data_full[['rougher.input.feed_pb', 'rougher.output.concentrate_pb', \n",
    "           'primary_cleaner.output.concentrate_pb', 'final.output.concentrate_pb']].plot(\n",
    "title='Изменение концентрации Pb на разных этапах очистки',\n",
    "kind='hist',\n",
    "grid=True,\n",
    "legend=True,\n",
    "bins=150,\n",
    "figsize=(18, 5),\n",
    "alpha=0.6)\n",
    "plt.axvline(data_full['rougher.input.feed_pb'].mean(), ls='--', label='Средняя концентрация до флотации')\n",
    "plt.axvline(data_full['rougher.output.concentrate_pb'].mean(), ls='--', label='Средняя концентрация после флотации', c='m')\n",
    "plt.axvline(data_full['primary_cleaner.output.concentrate_pb'].mean(), ls='--', label='Средняя концентрация после первой очистки', c='g')\n",
    "plt.axvline(data_full['final.output.concentrate_pb'].mean(), ls='--', label='Средняя концентрация после второй очистки', c='r')\n",
    "plt.legend(loc='upper right', borderaxespad= 0, bbox_to_anchor=( 1.23, 1 ))\n",
    "plt.xlabel('Концентрация')"
   ]
  },
  {
   "cell_type": "markdown",
   "metadata": {},
   "source": [
    "Концентрация свинца увеличививается, но после первичной очистки увеличение очень незначительное."
   ]
  },
  {
   "cell_type": "markdown",
   "metadata": {},
   "source": [
    "### Распределения размеров гранул сырья на обучающей и тестовой выборках"
   ]
  },
  {
   "cell_type": "code",
   "execution_count": 70,
   "metadata": {},
   "outputs": [
    {
     "data": {
      "text/plain": [
       "Text(0.5, 1.0, 'Размер гранул на этапе флотации')"
      ]
     },
     "execution_count": 70,
     "metadata": {},
     "output_type": "execute_result"
    },
    {
     "data": {
      "image/png": "[encoded data removed]",
      "text/plain": [
       "<Figure size 1440x360 with 1 Axes>"
      ]
     },
     "metadata": {
      "needs_background": "light"
     },
     "output_type": "display_data"
    }
   ],
   "source": [
    "plt.figure(figsize=(20,5))\n",
    "data_train['rougher.input.feed_size'].hist(bins=200, alpha=0.5, label='train', range=(0,150), density=True)\n",
    "data_test['rougher.input.feed_size'].hist(bins=200, alpha=0.5, label='test', range=(0,150), density=True)\n",
    "plt.xlabel('Размер')\n",
    "plt.legend()\n",
    "plt.title('Размер гранул на этапе флотации')"
   ]
  },
  {
   "cell_type": "code",
   "execution_count": 71,
   "metadata": {},
   "outputs": [
    {
     "data": {
      "text/plain": [
       "Text(0.5, 1.0, 'Размер гранул на этапе первой очситки')"
      ]
     },
     "execution_count": 71,
     "metadata": {},
     "output_type": "execute_result"
    },
    {
     "data": {
      "image/png": "[encoded data removed]",
      "text/plain": [
       "<Figure size 1440x360 with 1 Axes>"
      ]
     },
     "metadata": {
      "needs_background": "light"
     },
     "output_type": "display_data"
    }
   ],
   "source": [
    "plt.figure(figsize=(20,5))\n",
    "data_train['primary_cleaner.input.feed_size'].hist(bins=200, alpha=0.5, label='train', range=(5,10), density=True)\n",
    "data_test['primary_cleaner.input.feed_size'].hist(bins=200, alpha=0.5, label='test', range=(5,10), density=True)\n",
    "plt.xlabel('Размер')\n",
    "plt.legend()\n",
    "plt.title('Размер гранул на этапе первой очситки')"
   ]
  },
  {
   "cell_type": "markdown",
   "metadata": {},
   "source": [
    "Также для сравнения распределений хочу применить тест Колмогорова-Смирнова."
   ]
  },
  {
   "cell_type": "code",
   "execution_count": 72,
   "metadata": {},
   "outputs": [
    {
     "name": "stdout",
     "output_type": "stream",
     "text": [
      "Kolmogorov-Smirnov Test: statistic=0.2503, p-value=5.1997046130555955e-213\n"
     ]
    }
   ],
   "source": [
    "stat, p_value = ks_2samp(data_train['rougher.input.feed_size'], data_test['rougher.input.feed_size'])\n",
    "print(f'Kolmogorov-Smirnov Test: statistic={stat:.4f}, p-value={p_value}')"
   ]
  },
  {
   "cell_type": "markdown",
   "metadata": {},
   "source": [
    "Значение p-value ниже 5%, поэтому отвергаем нулевую гипотезу об одинаковости двух распределений."
   ]
  },
  {
   "cell_type": "code",
   "execution_count": 73,
   "metadata": {},
   "outputs": [
    {
     "name": "stdout",
     "output_type": "stream",
     "text": [
      "Kolmogorov-Smirnov Test: statistic=0.0592, p-value=3.5273935105512727e-12\n"
     ]
    }
   ],
   "source": [
    "stat, p_value = ks_2samp(data_train['primary_cleaner.input.feed_size'], data_test['primary_cleaner.input.feed_size'])\n",
    "print(f'Kolmogorov-Smirnov Test: statistic={stat:.4f}, p-value={p_value}')"
   ]
  },
  {
   "cell_type": "markdown",
   "metadata": {},
   "source": [
    "Вывод: распределения различаются из-за большого количества наблюдений в обучающей выборке. Но визуально распределения похожи."
   ]
  },
  {
   "cell_type": "markdown",
   "metadata": {},
   "source": [
    "### Исследование суммарной концентрации всех веществ на разных стадиях: в сырье, в черновом и финальном концентратах"
   ]
  },
  {
   "cell_type": "markdown",
   "metadata": {},
   "source": [
    "#### Исследование суммарной концентрации всех веществ на стадии сырья."
   ]
  },
  {
   "cell_type": "code",
   "execution_count": 74,
   "metadata": {},
   "outputs": [],
   "source": [
    "sum_rougher_feed = data_full[['rougher.input.feed_ag', \n",
    "                   'rougher.input.feed_pb', \n",
    "                   'rougher.input.feed_sol', \n",
    "                   'rougher.input.feed_au']].sum(axis=1)\n"
   ]
  },
  {
   "cell_type": "code",
   "execution_count": 75,
   "metadata": {},
   "outputs": [
    {
     "data": {
      "text/plain": [
       "Text(0.5, 1.0, 'Суммарная концентрация всех веществ в сырье')"
      ]
     },
     "execution_count": 75,
     "metadata": {},
     "output_type": "execute_result"
    },
    {
     "data": {
      "image/png": "[encoded data removed]",
      "text/plain": [
       "<Figure size 1440x504 with 1 Axes>"
      ]
     },
     "metadata": {
      "needs_background": "light"
     },
     "output_type": "display_data"
    }
   ],
   "source": [
    "sum_rougher_feed.hist(bins=250, figsize=(20,7))\n",
    "plt.title('Суммарная концентрация всех веществ в сырье')"
   ]
  },
  {
   "cell_type": "code",
   "execution_count": 76,
   "metadata": {},
   "outputs": [
    {
     "name": "stdout",
     "output_type": "stream",
     "text": [
      "Границы нормальных значений: (40.84, 74.62)\n"
     ]
    }
   ],
   "source": [
    "print(f'Границы нормальных значений: ({round(sum_rougher_feed.quantile(0.25) - 1.5 * iqr(sum_rougher_feed), 2)}, {round(sum_rougher_feed.quantile(0.75) + 1.5 * iqr(sum_rougher_feed), 2)})')"
   ]
  },
  {
   "cell_type": "code",
   "execution_count": 77,
   "metadata": {},
   "outputs": [],
   "source": [
    "data_train['sum_rougher_feed'] = sum_rougher_feed"
   ]
  },
  {
   "cell_type": "markdown",
   "metadata": {},
   "source": [
    "#### Исследование суммарной концентрации всех веществ на чернового концентрата."
   ]
  },
  {
   "cell_type": "code",
   "execution_count": 78,
   "metadata": {},
   "outputs": [],
   "source": [
    "sum_rougher_conc = data_full[['rougher.output.concentrate_pb', \n",
    "                   'rougher.output.concentrate_ag', \n",
    "                   'rougher.output.concentrate_sol', \n",
    "                   'rougher.output.concentrate_au']].sum(axis=1)"
   ]
  },
  {
   "cell_type": "code",
   "execution_count": 79,
   "metadata": {},
   "outputs": [
    {
     "data": {
      "text/plain": [
       "Text(0.5, 1.0, 'Суммарная концентрация всех веществ в черновом концентрате')"
      ]
     },
     "execution_count": 79,
     "metadata": {},
     "output_type": "execute_result"
    },
    {
     "data": {
      "image/png": "[encoded data removed]",
      "text/plain": [
       "<Figure size 1440x504 with 1 Axes>"
      ]
     },
     "metadata": {
      "needs_background": "light"
     },
     "output_type": "display_data"
    }
   ],
   "source": [
    "sum_rougher_conc.hist(bins=250, figsize=(20,7))\n",
    "plt.title('Суммарная концентрация всех веществ в черновом концентрате')"
   ]
  },
  {
   "cell_type": "code",
   "execution_count": 80,
   "metadata": {},
   "outputs": [
    {
     "name": "stdout",
     "output_type": "stream",
     "text": [
      "Границы нормальных значений: (53.47, 86.89)\n"
     ]
    }
   ],
   "source": [
    "print(f'Границы нормальных значений: ({round(sum_rougher_conc.quantile(0.25) - 1.5 * iqr(sum_rougher_conc), 2)}, {round(sum_rougher_conc.quantile(0.75) + 1.5 * iqr(sum_rougher_conc), 2)})')"
   ]
  },
  {
   "cell_type": "code",
   "execution_count": 81,
   "metadata": {},
   "outputs": [],
   "source": [
    "data_train['sum_rougher_conc'] = sum_rougher_conc"
   ]
  },
  {
   "cell_type": "markdown",
   "metadata": {},
   "source": [
    "#### Исследование суммарной концентрации всех веществ на стадии финального концентрата."
   ]
  },
  {
   "cell_type": "code",
   "execution_count": 82,
   "metadata": {},
   "outputs": [],
   "source": [
    "sum_final_conc = data_full[['final.output.concentrate_pb', \n",
    "                   'final.output.concentrate_ag', \n",
    "                   'final.output.concentrate_sol', \n",
    "                   'final.output.concentrate_au']].sum(axis=1)"
   ]
  },
  {
   "cell_type": "code",
   "execution_count": 83,
   "metadata": {},
   "outputs": [
    {
     "data": {
      "text/plain": [
       "Text(0.5, 1.0, 'Суммарная концентрация всех веществ в финальном концентрате')"
      ]
     },
     "execution_count": 83,
     "metadata": {},
     "output_type": "execute_result"
    },
    {
     "data": {
      "image/png": "[encoded data removed]",
      "text/plain": [
       "<Figure size 1440x504 with 1 Axes>"
      ]
     },
     "metadata": {
      "needs_background": "light"
     },
     "output_type": "display_data"
    }
   ],
   "source": [
    "sum_final_conc.hist(bins=250, figsize=(20,7))\n",
    "plt.title('Суммарная концентрация всех веществ в финальном концентрате')"
   ]
  },
  {
   "cell_type": "code",
   "execution_count": 84,
   "metadata": {},
   "outputs": [
    {
     "name": "stdout",
     "output_type": "stream",
     "text": [
      "Границы нормальных значений: (62.77, 76.53)\n"
     ]
    }
   ],
   "source": [
    "print(f'Границы нормальных значений: ({round(sum_final_conc.quantile(0.25) - 1.5 * iqr(sum_final_conc), 2)}, {round(sum_final_conc.quantile(0.75) + 1.5 * iqr(sum_final_conc), 2)})')"
   ]
  },
  {
   "cell_type": "code",
   "execution_count": 85,
   "metadata": {},
   "outputs": [],
   "source": [
    "data_train['sum_final_conc'] = sum_final_conc"
   ]
  },
  {
   "cell_type": "markdown",
   "metadata": {},
   "source": [
    "Избавимся от аномалий в обучающей выборке.\n"
   ]
  },
  {
   "cell_type": "code",
   "execution_count": 86,
   "metadata": {},
   "outputs": [
    {
     "name": "stdout",
     "output_type": "stream",
     "text": [
      "(14149, 89)\n",
      "(12246, 89)\n"
     ]
    }
   ],
   "source": [
    "print(data_train.shape)\n",
    "data_train = data_train.loc[(40.84 < data_train['sum_rougher_feed']) & (data_train['sum_rougher_feed'] < 74.62)]\n",
    "\n",
    "data_train = data_train.loc[(53.47 < data_train['sum_rougher_conc']) & (data_train['sum_rougher_conc'] < 86.89)]\n",
    "\n",
    "data_train = data_train.loc[(62.77 < data_train['sum_final_conc']) & (data_train['sum_final_conc'] < 76.53)]\n",
    "print(data_train.shape)"
   ]
  },
  {
   "cell_type": "markdown",
   "metadata": {},
   "source": [
    "*Вывод: Мы удалили 13.5% значений из обучающей выборки, поскольку они были аномальными.*"
   ]
  },
  {
   "cell_type": "markdown",
   "metadata": {},
   "source": [
    "## Модель"
   ]
  },
  {
   "cell_type": "markdown",
   "metadata": {},
   "source": [
    "Удалим признаки, которых нет в тестовой выборке, из обучающей выборки."
   ]
  },
  {
   "cell_type": "code",
   "execution_count": 87,
   "metadata": {
    "scrolled": true
   },
   "outputs": [
    {
     "data": {
      "text/plain": [
       "(12246, 57)"
      ]
     },
     "execution_count": 87,
     "metadata": {},
     "output_type": "execute_result"
    }
   ],
   "source": [
    "data_train = data_train.drop(set(missing_columns) - set(TARGETS), axis='columns')\n",
    "data_train.shape"
   ]
  },
  {
   "cell_type": "markdown",
   "metadata": {},
   "source": [
    "### Функция для вычисления итоговой sMAPE"
   ]
  },
  {
   "cell_type": "code",
   "execution_count": 88,
   "metadata": {},
   "outputs": [],
   "source": [
    "def smape_calculate(target, predictions):\n",
    "    x = np.abs(target - predictions)\n",
    "    y = np.abs(target + predictions)\n",
    "    return 1 / len(target) * np.sum(x / (y / 2)) *100\n",
    "\n",
    "def final_smape_calculate(target, predictions):\n",
    "    target_r = target['rougher.output.recovery']\n",
    "    target_f = target['final.output.recovery']\n",
    "    pred_r = predictions[:, 0]\n",
    "    pred_f = predictions[:, 1]\n",
    "    return 0.25 * smape_calculate(target_r, pred_r) + 0.75 * smape_calculate(target_f, pred_f)"
   ]
  },
  {
   "cell_type": "code",
   "execution_count": 89,
   "metadata": {},
   "outputs": [],
   "source": [
    "features_train = data_train.drop(TARGETS, axis='columns')\n",
    "target_train = data_train[TARGETS]\n",
    "features_test = data_test.drop(TARGETS, axis='columns')\n",
    "target_test = data_test[TARGETS]"
   ]
  },
  {
   "cell_type": "code",
   "execution_count": 90,
   "metadata": {},
   "outputs": [],
   "source": [
    "scorer = make_scorer(final_smape_calculate, greater_is_better=False)"
   ]
  },
  {
   "cell_type": "markdown",
   "metadata": {},
   "source": [
    "### Обучение моделей"
   ]
  },
  {
   "cell_type": "markdown",
   "metadata": {},
   "source": [
    "#### Дерево решений"
   ]
  },
  {
   "cell_type": "code",
   "execution_count": 91,
   "metadata": {},
   "outputs": [],
   "source": [
    "params_DT= {\"max_depth\": range(1, 15)}"
   ]
  },
  {
   "cell_type": "code",
   "execution_count": 92,
   "metadata": {},
   "outputs": [
    {
     "name": "stdout",
     "output_type": "stream",
     "text": [
      "Лучшее sMape для дерева решений: 8.361709954678004 при гиперпараметрах: {'max_depth': 3}\n"
     ]
    }
   ],
   "source": [
    "state = RandomState(12345)\n",
    "\n",
    "model_DT = RandomizedSearchCV(DecisionTreeRegressor(random_state=state), params_DT, scoring = scorer, cv=5)\n",
    "model_DT.fit(features_train, target_train)\n",
    "print(f'Лучшее sMape для дерева решений: {-model_DT.best_score_} при гиперпараметрах: {model_DT.best_params_}')"
   ]
  },
  {
   "cell_type": "markdown",
   "metadata": {},
   "source": [
    "#### Случайный лес"
   ]
  },
  {
   "cell_type": "code",
   "execution_count": 93,
   "metadata": {},
   "outputs": [],
   "source": [
    "params_RF = {'n_estimators' : range(10, 31, 10)}"
   ]
  },
  {
   "cell_type": "code",
   "execution_count": 94,
   "metadata": {},
   "outputs": [
    {
     "name": "stderr",
     "output_type": "stream",
     "text": [
      "Готовность: 100%|██████████| 1/1 [02:43<00:00, 163.37s/it]"
     ]
    },
    {
     "name": "stdout",
     "output_type": "stream",
     "text": [
      "Лучшее sMape для случайного леса: 8.564467895827956 при гиперпараметрах: {'n_estimators': 30}\n"
     ]
    },
    {
     "name": "stderr",
     "output_type": "stream",
     "text": [
      "\n"
     ]
    }
   ],
   "source": [
    "for i in tqdm(range(0, 1), desc =\"Готовность\"):\n",
    "    model_RF = RandomizedSearchCV(RandomForestRegressor(random_state=state),params_RF, cv=5, scoring=scorer)\n",
    "    model_RF.fit(features_train, target_train)\n",
    "print(f'Лучшее sMape для случайного леса: {-model_RF.best_score_} при гиперпараметрах: {model_RF.best_params_}')"
   ]
  },
  {
   "cell_type": "markdown",
   "metadata": {},
   "source": [
    "#### Линейная регрессия"
   ]
  },
  {
   "cell_type": "code",
   "execution_count": 95,
   "metadata": {},
   "outputs": [
    {
     "name": "stdout",
     "output_type": "stream",
     "text": [
      "Лучшее sMape для линейной регрессии: 6.510877130033008\n"
     ]
    }
   ],
   "source": [
    "model_LR = LinearRegression()\n",
    "model_LR.fit(features_train, target_train)\n",
    "score = cross_val_score(model_LR, features_train, target_train, cv=5, scoring=scorer)\n",
    "print(f'Лучшее sMape для линейной регрессии: {-(max(score))}')"
   ]
  },
  {
   "cell_type": "markdown",
   "metadata": {},
   "source": [
    "Лушчая модель -  линейная регрессия. Для проверки тестовой выборки будем использовать ее."
   ]
  },
  {
   "cell_type": "code",
   "execution_count": 96,
   "metadata": {},
   "outputs": [],
   "source": [
    "features_train = features_train.drop(['sum_final_conc', 'sum_rougher_conc', 'sum_rougher_feed'], axis=1)"
   ]
  },
  {
   "cell_type": "code",
   "execution_count": 97,
   "metadata": {
    "scrolled": true
   },
   "outputs": [
    {
     "name": "stdout",
     "output_type": "stream",
     "text": [
      "smMAPE для тестовой выборки равна: 9.233872326093055\n"
     ]
    }
   ],
   "source": [
    "model_LR = LinearRegression()\n",
    "model_LR.fit(features_train, target_train)\n",
    "pred = model_LR.predict(features_test)\n",
    "print(f'smMAPE для тестовой выборки равна: {final_smape_calculate(target_test, pred)}')"
   ]
  },
  {
   "cell_type": "code",
   "execution_count": 99,
   "metadata": {},
   "outputs": [
    {
     "name": "stdout",
     "output_type": "stream",
     "text": [
      "smMAPE константной модели для тестовой выборки равна: 9.271869742442863\n"
     ]
    }
   ],
   "source": [
    "const_model = DummyRegressor(strategy = 'median')\n",
    "const_model.fit(features_train, target_train)\n",
    "pred = const_model.predict(features_test)\n",
    "print(f'smMAPE константной модели для тестовой выборки равна: {final_smape_calculate(target_test, pred)}')"
   ]
  },
  {
   "cell_type": "markdown",
   "metadata": {},
   "source": [
    "*Вывод:*\n",
    "\n",
    "*1)в ходе исследования я провел предобработку данных;*\n",
    "\n",
    "*2)посмотрел, как меняется концентрация металлов (Au, Ag, Pb) на различных этапах очистки;*\n",
    "\n",
    "*3)сравнил распределения размеров гранул сырья на обучающей и тестовой выборках;*\n",
    "\n",
    "*4)исследовал суммарную концентрацию всех веществ на разных стадиях: в сырье, в черновом и финальном концентратах;* \n",
    "\n",
    "*5)в конце мне было необходимо построить модель, которая предсказывает коэффициент восстановления золота из золотосодержащей руды. Из рассмотренных мной моделей лучше всех проявила себя линейная регрессия, на тестовой выборке она показала себя чуть лучше константной модели*"
   ]
  }
 ],
 "metadata": {
  "ExecuteTimeLog": [
   {
    "duration": 463,
    "start_time": "2023-04-26T08:24:40.705Z"
   },
   {
    "duration": 122,
    "start_time": "2023-04-26T08:24:41.235Z"
   },
   {
    "duration": 46,
    "start_time": "2023-04-26T08:25:11.603Z"
   },
   {
    "duration": 460,
    "start_time": "2023-04-26T08:25:21.283Z"
   },
   {
    "duration": 324,
    "start_time": "2023-04-26T08:25:34.831Z"
   },
   {
    "duration": 1192,
    "start_time": "2023-04-26T08:50:15.693Z"
   },
   {
    "duration": 2417,
    "start_time": "2023-04-26T08:50:28.679Z"
   },
   {
    "duration": 65,
    "start_time": "2023-04-26T08:51:11.339Z"
   },
   {
    "duration": 65,
    "start_time": "2023-04-26T08:51:27.458Z"
   },
   {
    "duration": 72,
    "start_time": "2023-04-26T08:51:33.062Z"
   },
   {
    "duration": 57,
    "start_time": "2023-04-26T08:51:36.575Z"
   },
   {
    "duration": 58,
    "start_time": "2023-04-26T08:51:41.566Z"
   },
   {
    "duration": 62,
    "start_time": "2023-04-26T08:51:44.612Z"
   },
   {
    "duration": 7,
    "start_time": "2023-04-26T09:06:29.679Z"
   },
   {
    "duration": 13,
    "start_time": "2023-04-26T09:07:11.910Z"
   },
   {
    "duration": 16,
    "start_time": "2023-04-26T10:09:33.017Z"
   },
   {
    "duration": 13,
    "start_time": "2023-04-26T10:10:51.168Z"
   },
   {
    "duration": 16,
    "start_time": "2023-04-26T10:11:02.656Z"
   },
   {
    "duration": 775,
    "start_time": "2023-04-26T10:17:55.701Z"
   },
   {
    "duration": 19,
    "start_time": "2023-04-26T10:17:59.246Z"
   },
   {
    "duration": 16,
    "start_time": "2023-04-26T10:18:00.222Z"
   },
   {
    "duration": 105,
    "start_time": "2023-04-26T10:18:50.395Z"
   },
   {
    "duration": 8,
    "start_time": "2023-04-26T10:18:54.021Z"
   },
   {
    "duration": 5,
    "start_time": "2023-04-26T10:25:41.612Z"
   },
   {
    "duration": 4,
    "start_time": "2023-04-26T10:28:09.066Z"
   },
   {
    "duration": 3,
    "start_time": "2023-04-26T10:28:55.891Z"
   },
   {
    "duration": 751,
    "start_time": "2023-04-26T10:28:56.090Z"
   },
   {
    "duration": 20,
    "start_time": "2023-04-26T10:28:56.844Z"
   },
   {
    "duration": 4,
    "start_time": "2023-04-26T10:28:57.154Z"
   },
   {
    "duration": 300,
    "start_time": "2023-04-26T10:29:09.507Z"
   },
   {
    "duration": 160,
    "start_time": "2023-04-26T10:29:48.797Z"
   },
   {
    "duration": 320,
    "start_time": "2023-04-26T10:29:58.626Z"
   },
   {
    "duration": 4,
    "start_time": "2023-04-26T11:45:57.406Z"
   },
   {
    "duration": 4,
    "start_time": "2023-04-26T11:47:22.456Z"
   },
   {
    "duration": 14,
    "start_time": "2023-04-26T11:47:34.016Z"
   },
   {
    "duration": 20,
    "start_time": "2023-04-26T11:48:30.233Z"
   },
   {
    "duration": 54,
    "start_time": "2023-04-26T11:51:24.546Z"
   },
   {
    "duration": 1156,
    "start_time": "2023-04-26T11:51:35.626Z"
   },
   {
    "duration": 68,
    "start_time": "2023-04-26T11:51:40.650Z"
   },
   {
    "duration": 10,
    "start_time": "2023-04-26T11:51:47.601Z"
   },
   {
    "duration": 1179,
    "start_time": "2023-04-26T11:57:59.451Z"
   },
   {
    "duration": 1055,
    "start_time": "2023-04-26T11:58:23.860Z"
   },
   {
    "duration": 34,
    "start_time": "2023-04-26T11:58:24.917Z"
   },
   {
    "duration": 17,
    "start_time": "2023-04-26T11:58:24.953Z"
   },
   {
    "duration": 5,
    "start_time": "2023-04-26T11:58:35.355Z"
   },
   {
    "duration": 30,
    "start_time": "2023-04-26T11:58:36.131Z"
   },
   {
    "duration": 13,
    "start_time": "2023-04-26T11:58:36.908Z"
   },
   {
    "duration": 6,
    "start_time": "2023-04-26T12:17:10.806Z"
   },
   {
    "duration": 11,
    "start_time": "2023-04-26T12:17:11.109Z"
   },
   {
    "duration": 13,
    "start_time": "2023-04-26T12:17:20.015Z"
   },
   {
    "duration": 5,
    "start_time": "2023-04-26T12:18:24.479Z"
   },
   {
    "duration": 119,
    "start_time": "2023-04-26T12:18:28.873Z"
   },
   {
    "duration": 13,
    "start_time": "2023-04-26T12:22:07.905Z"
   },
   {
    "duration": 13,
    "start_time": "2023-04-26T12:22:14.922Z"
   },
   {
    "duration": 4,
    "start_time": "2023-04-26T12:22:46.089Z"
   },
   {
    "duration": 12,
    "start_time": "2023-04-26T12:24:18.171Z"
   },
   {
    "duration": 3,
    "start_time": "2023-04-26T12:25:56.154Z"
   },
   {
    "duration": 9,
    "start_time": "2023-04-26T12:26:06.564Z"
   },
   {
    "duration": 6,
    "start_time": "2023-04-26T12:26:23.187Z"
   },
   {
    "duration": 6,
    "start_time": "2023-04-26T12:26:54.986Z"
   },
   {
    "duration": 3,
    "start_time": "2023-04-26T13:26:31.081Z"
   },
   {
    "duration": 12,
    "start_time": "2023-04-26T13:26:41.730Z"
   },
   {
    "duration": 9,
    "start_time": "2023-04-26T13:28:16.732Z"
   },
   {
    "duration": 1908,
    "start_time": "2023-04-26T13:30:41.804Z"
   },
   {
    "duration": 1262,
    "start_time": "2023-04-26T13:31:13.600Z"
   },
   {
    "duration": 20,
    "start_time": "2023-04-26T13:31:48.061Z"
   },
   {
    "duration": 19,
    "start_time": "2023-04-26T13:31:56.052Z"
   },
   {
    "duration": 20,
    "start_time": "2023-04-26T13:32:03.260Z"
   },
   {
    "duration": 2,
    "start_time": "2023-04-26T13:32:19.907Z"
   },
   {
    "duration": 10,
    "start_time": "2023-04-26T13:47:25.291Z"
   },
   {
    "duration": 14,
    "start_time": "2023-04-26T13:56:31.559Z"
   },
   {
    "duration": 11,
    "start_time": "2023-04-26T13:57:49.328Z"
   },
   {
    "duration": 9,
    "start_time": "2023-04-26T13:58:40.543Z"
   },
   {
    "duration": 18,
    "start_time": "2023-04-26T14:05:52.828Z"
   },
   {
    "duration": 8,
    "start_time": "2023-04-26T14:05:57.498Z"
   },
   {
    "duration": 7,
    "start_time": "2023-04-26T14:09:39.196Z"
   },
   {
    "duration": 10,
    "start_time": "2023-04-26T14:10:21.836Z"
   },
   {
    "duration": 505,
    "start_time": "2023-04-26T14:27:10.387Z"
   },
   {
    "duration": 1394,
    "start_time": "2023-04-26T14:32:54.022Z"
   },
   {
    "duration": 269,
    "start_time": "2023-04-26T14:33:05.245Z"
   },
   {
    "duration": 21,
    "start_time": "2023-04-26T14:34:10.142Z"
   },
   {
    "duration": 306,
    "start_time": "2023-04-26T14:34:28.998Z"
   },
   {
    "duration": 1104,
    "start_time": "2023-04-26T14:34:42.355Z"
   },
   {
    "duration": 1631,
    "start_time": "2023-04-26T14:34:53.448Z"
   },
   {
    "duration": 1640,
    "start_time": "2023-04-26T14:35:16.613Z"
   },
   {
    "duration": 1357,
    "start_time": "2023-04-26T14:35:43.798Z"
   },
   {
    "duration": 1546,
    "start_time": "2023-04-26T14:35:49.285Z"
   },
   {
    "duration": 1673,
    "start_time": "2023-04-26T14:35:54.666Z"
   },
   {
    "duration": 1326,
    "start_time": "2023-04-26T14:36:01.094Z"
   },
   {
    "duration": 1554,
    "start_time": "2023-04-26T14:36:41.695Z"
   },
   {
    "duration": 1101,
    "start_time": "2023-04-26T14:37:29.310Z"
   },
   {
    "duration": 1349,
    "start_time": "2023-04-26T14:37:39.982Z"
   },
   {
    "duration": 819,
    "start_time": "2023-04-26T14:38:29.142Z"
   },
   {
    "duration": 1186,
    "start_time": "2023-04-26T14:39:53.629Z"
   },
   {
    "duration": 827,
    "start_time": "2023-04-26T14:40:11.030Z"
   },
   {
    "duration": 1175,
    "start_time": "2023-04-26T14:40:28.544Z"
   },
   {
    "duration": 925,
    "start_time": "2023-04-26T14:40:51.047Z"
   },
   {
    "duration": 36,
    "start_time": "2023-04-26T14:42:05.409Z"
   },
   {
    "duration": 1442,
    "start_time": "2023-04-26T14:42:37.017Z"
   },
   {
    "duration": 1058,
    "start_time": "2023-04-26T14:42:41.321Z"
   },
   {
    "duration": 1582,
    "start_time": "2023-04-26T14:42:45.801Z"
   },
   {
    "duration": 1059,
    "start_time": "2023-04-26T14:42:51.968Z"
   },
   {
    "duration": 1522,
    "start_time": "2023-04-26T14:42:55.199Z"
   },
   {
    "duration": 1059,
    "start_time": "2023-04-26T14:42:59.289Z"
   },
   {
    "duration": 1535,
    "start_time": "2023-04-26T14:43:03.121Z"
   },
   {
    "duration": 1081,
    "start_time": "2023-04-26T14:43:09.353Z"
   },
   {
    "duration": 1635,
    "start_time": "2023-04-26T14:43:16.593Z"
   },
   {
    "duration": 1040,
    "start_time": "2023-04-26T14:43:25.016Z"
   },
   {
    "duration": 1504,
    "start_time": "2023-04-26T14:43:37.825Z"
   },
   {
    "duration": 1126,
    "start_time": "2023-04-26T14:43:46.065Z"
   },
   {
    "duration": 1394,
    "start_time": "2023-04-26T14:44:23.425Z"
   },
   {
    "duration": 1096,
    "start_time": "2023-04-26T14:45:11.731Z"
   },
   {
    "duration": 1450,
    "start_time": "2023-04-26T14:47:34.653Z"
   },
   {
    "duration": 1068,
    "start_time": "2023-04-26T14:48:37.083Z"
   },
   {
    "duration": 2173,
    "start_time": "2023-04-27T08:46:13.351Z"
   },
   {
    "duration": 3012,
    "start_time": "2023-04-27T08:46:16.420Z"
   },
   {
    "duration": 25,
    "start_time": "2023-04-27T08:46:20.212Z"
   },
   {
    "duration": 5,
    "start_time": "2023-04-27T08:46:22.589Z"
   },
   {
    "duration": 3,
    "start_time": "2023-04-27T08:46:29.806Z"
   },
   {
    "duration": 258,
    "start_time": "2023-04-27T08:46:30.676Z"
   },
   {
    "duration": 6,
    "start_time": "2023-04-27T08:46:33.285Z"
   },
   {
    "duration": 4,
    "start_time": "2023-04-27T08:46:53.773Z"
   },
   {
    "duration": 12,
    "start_time": "2023-04-27T08:46:54.187Z"
   },
   {
    "duration": 10,
    "start_time": "2023-04-27T08:46:54.816Z"
   },
   {
    "duration": 21,
    "start_time": "2023-04-27T08:46:56.461Z"
   },
   {
    "duration": 17,
    "start_time": "2023-04-27T08:46:58.437Z"
   },
   {
    "duration": 13,
    "start_time": "2023-04-27T08:46:59.141Z"
   },
   {
    "duration": 1329,
    "start_time": "2023-04-27T08:47:00.798Z"
   },
   {
    "duration": 1117,
    "start_time": "2023-04-27T08:47:02.301Z"
   },
   {
    "duration": 1447,
    "start_time": "2023-04-27T08:47:05.160Z"
   },
   {
    "duration": 1573,
    "start_time": "2023-04-27T08:51:16.792Z"
   },
   {
    "duration": 1136,
    "start_time": "2023-04-27T08:51:57.425Z"
   },
   {
    "duration": 1442,
    "start_time": "2023-04-27T08:53:03.579Z"
   },
   {
    "duration": 1340,
    "start_time": "2023-04-27T08:53:08.864Z"
   },
   {
    "duration": 1185,
    "start_time": "2023-04-27T08:53:28.607Z"
   },
   {
    "duration": 1611,
    "start_time": "2023-04-27T08:56:16.694Z"
   },
   {
    "duration": 2036,
    "start_time": "2023-04-27T08:56:45.766Z"
   },
   {
    "duration": 1133,
    "start_time": "2023-04-27T08:56:57.514Z"
   },
   {
    "duration": 1876,
    "start_time": "2023-04-27T08:57:44.402Z"
   },
   {
    "duration": 1436,
    "start_time": "2023-04-27T09:17:31.261Z"
   },
   {
    "duration": 64,
    "start_time": "2023-04-27T09:28:29.315Z"
   },
   {
    "duration": 1664,
    "start_time": "2023-04-27T09:28:41.314Z"
   },
   {
    "duration": 1144,
    "start_time": "2023-04-27T09:34:51.887Z"
   },
   {
    "duration": 1624,
    "start_time": "2023-04-27T09:34:59.862Z"
   },
   {
    "duration": 1139,
    "start_time": "2023-04-27T09:35:07.008Z"
   },
   {
    "duration": 41,
    "start_time": "2023-04-27T09:47:08.094Z"
   },
   {
    "duration": 1806,
    "start_time": "2023-04-27T09:53:48.323Z"
   },
   {
    "duration": 1192,
    "start_time": "2023-04-27T09:55:27.211Z"
   },
   {
    "duration": 1255,
    "start_time": "2023-04-27T09:56:22.206Z"
   },
   {
    "duration": 2014,
    "start_time": "2023-04-27T09:56:55.079Z"
   },
   {
    "duration": 768,
    "start_time": "2023-04-27T09:57:23.571Z"
   },
   {
    "duration": 1206,
    "start_time": "2023-04-27T09:57:31.924Z"
   },
   {
    "duration": 1250,
    "start_time": "2023-04-27T09:58:03.076Z"
   },
   {
    "duration": 2155,
    "start_time": "2023-04-27T09:58:30.054Z"
   },
   {
    "duration": 1249,
    "start_time": "2023-04-27T09:59:09.342Z"
   },
   {
    "duration": 1357,
    "start_time": "2023-04-27T10:00:04.345Z"
   },
   {
    "duration": 1279,
    "start_time": "2023-04-27T10:00:21.796Z"
   },
   {
    "duration": 2286,
    "start_time": "2023-04-27T10:00:35.478Z"
   },
   {
    "duration": 1251,
    "start_time": "2023-04-27T10:02:22.887Z"
   },
   {
    "duration": 1384,
    "start_time": "2023-04-27T10:05:50.043Z"
   },
   {
    "duration": 27,
    "start_time": "2023-04-27T10:37:05.019Z"
   },
   {
    "duration": 12,
    "start_time": "2023-04-27T10:38:57.315Z"
   },
   {
    "duration": 91,
    "start_time": "2023-04-27T10:39:26.115Z"
   },
   {
    "duration": 16,
    "start_time": "2023-04-27T10:39:44.477Z"
   },
   {
    "duration": 10,
    "start_time": "2023-04-27T10:39:51.946Z"
   },
   {
    "duration": 13,
    "start_time": "2023-04-27T10:39:54.660Z"
   },
   {
    "duration": 13,
    "start_time": "2023-04-27T10:40:21.507Z"
   },
   {
    "duration": 12,
    "start_time": "2023-04-27T10:40:28.956Z"
   },
   {
    "duration": 140,
    "start_time": "2023-04-27T10:42:39.653Z"
   },
   {
    "duration": 162,
    "start_time": "2023-04-27T10:43:04.497Z"
   },
   {
    "duration": 184,
    "start_time": "2023-04-27T10:45:00.114Z"
   },
   {
    "duration": 335,
    "start_time": "2023-04-27T10:45:33.143Z"
   },
   {
    "duration": 426,
    "start_time": "2023-04-27T10:45:37.928Z"
   },
   {
    "duration": 509,
    "start_time": "2023-04-27T10:45:56.087Z"
   },
   {
    "duration": 418,
    "start_time": "2023-04-27T10:46:32.232Z"
   },
   {
    "duration": 514,
    "start_time": "2023-04-27T10:46:52.560Z"
   },
   {
    "duration": 12,
    "start_time": "2023-04-27T10:55:03.524Z"
   },
   {
    "duration": 700,
    "start_time": "2023-04-27T11:12:01.516Z"
   },
   {
    "duration": 903,
    "start_time": "2023-04-27T11:12:07.572Z"
   },
   {
    "duration": 834,
    "start_time": "2023-04-27T11:13:41.412Z"
   },
   {
    "duration": 2575,
    "start_time": "2023-04-27T11:13:54.414Z"
   },
   {
    "duration": 904,
    "start_time": "2023-04-27T11:14:38.773Z"
   },
   {
    "duration": 885,
    "start_time": "2023-04-27T11:15:34.114Z"
   },
   {
    "duration": 937,
    "start_time": "2023-04-27T11:18:44.376Z"
   },
   {
    "duration": 884,
    "start_time": "2023-04-27T11:19:16.936Z"
   },
   {
    "duration": 9,
    "start_time": "2023-04-27T11:35:36.161Z"
   },
   {
    "duration": 7,
    "start_time": "2023-04-27T11:35:58.249Z"
   },
   {
    "duration": 201,
    "start_time": "2023-04-27T11:36:45.881Z"
   },
   {
    "duration": 413,
    "start_time": "2023-04-27T11:37:03.138Z"
   },
   {
    "duration": 491,
    "start_time": "2023-04-27T11:37:15.514Z"
   },
   {
    "duration": 470,
    "start_time": "2023-04-27T11:37:20.810Z"
   },
   {
    "duration": 548,
    "start_time": "2023-04-27T11:37:25.978Z"
   },
   {
    "duration": 524,
    "start_time": "2023-04-27T11:38:21.746Z"
   },
   {
    "duration": 16,
    "start_time": "2023-04-27T11:51:35.907Z"
   },
   {
    "duration": 7,
    "start_time": "2023-04-27T11:51:41.769Z"
   },
   {
    "duration": 528,
    "start_time": "2023-04-27T11:51:54.738Z"
   },
   {
    "duration": 530,
    "start_time": "2023-04-27T11:52:40.387Z"
   },
   {
    "duration": 527,
    "start_time": "2023-04-27T11:53:43.459Z"
   },
   {
    "duration": 518,
    "start_time": "2023-04-27T11:54:04.643Z"
   },
   {
    "duration": 618,
    "start_time": "2023-04-27T11:55:35.691Z"
   },
   {
    "duration": 8,
    "start_time": "2023-04-27T11:56:07.659Z"
   },
   {
    "duration": 556,
    "start_time": "2023-04-27T11:56:45.036Z"
   },
   {
    "duration": 7,
    "start_time": "2023-04-27T12:03:53.873Z"
   },
   {
    "duration": 31,
    "start_time": "2023-04-27T12:06:05.022Z"
   },
   {
    "duration": 280,
    "start_time": "2023-04-27T12:06:38.908Z"
   },
   {
    "duration": 8,
    "start_time": "2023-04-27T12:06:46.266Z"
   },
   {
    "duration": 7,
    "start_time": "2023-04-27T12:07:15.138Z"
   },
   {
    "duration": 8,
    "start_time": "2023-04-27T12:07:22.859Z"
   },
   {
    "duration": 8,
    "start_time": "2023-04-27T12:07:25.510Z"
   },
   {
    "duration": 7,
    "start_time": "2023-04-27T12:07:29.970Z"
   },
   {
    "duration": 7,
    "start_time": "2023-04-27T12:07:46.075Z"
   },
   {
    "duration": 8,
    "start_time": "2023-04-27T12:33:49.613Z"
   },
   {
    "duration": 17,
    "start_time": "2023-04-27T12:34:59.128Z"
   },
   {
    "duration": 14,
    "start_time": "2023-04-27T12:35:34.510Z"
   },
   {
    "duration": 6,
    "start_time": "2023-04-27T12:35:45.117Z"
   },
   {
    "duration": 5,
    "start_time": "2023-04-27T12:36:10.616Z"
   },
   {
    "duration": 518,
    "start_time": "2023-04-27T12:36:17.275Z"
   },
   {
    "duration": 8,
    "start_time": "2023-04-27T12:37:07.529Z"
   },
   {
    "duration": 6,
    "start_time": "2023-04-27T12:37:51.915Z"
   },
   {
    "duration": 562,
    "start_time": "2023-04-27T12:37:52.883Z"
   },
   {
    "duration": 8,
    "start_time": "2023-04-27T12:37:55.483Z"
   },
   {
    "duration": 7,
    "start_time": "2023-04-27T12:37:56.539Z"
   },
   {
    "duration": 15,
    "start_time": "2023-04-27T12:38:03.226Z"
   },
   {
    "duration": 542,
    "start_time": "2023-04-27T12:38:09.492Z"
   },
   {
    "duration": 8,
    "start_time": "2023-04-27T12:39:44.405Z"
   },
   {
    "duration": 9,
    "start_time": "2023-04-27T13:14:11.312Z"
   },
   {
    "duration": 15,
    "start_time": "2023-04-27T13:15:30.780Z"
   },
   {
    "duration": 7,
    "start_time": "2023-04-27T13:15:50.826Z"
   },
   {
    "duration": 9,
    "start_time": "2023-04-27T13:17:40.442Z"
   },
   {
    "duration": 8,
    "start_time": "2023-04-27T13:18:28.119Z"
   },
   {
    "duration": 4,
    "start_time": "2023-04-27T13:26:38.528Z"
   },
   {
    "duration": 20,
    "start_time": "2023-04-27T13:28:22.167Z"
   },
   {
    "duration": 1127,
    "start_time": "2023-04-27T13:29:05.976Z"
   },
   {
    "duration": 15,
    "start_time": "2023-04-27T13:30:45.376Z"
   },
   {
    "duration": 10,
    "start_time": "2023-04-27T13:35:19.669Z"
   },
   {
    "duration": 9,
    "start_time": "2023-04-27T13:35:22.712Z"
   },
   {
    "duration": 8,
    "start_time": "2023-04-27T13:35:38.598Z"
   },
   {
    "duration": 8,
    "start_time": "2023-04-27T13:35:54.147Z"
   },
   {
    "duration": 14,
    "start_time": "2023-04-27T13:36:16.157Z"
   },
   {
    "duration": 10,
    "start_time": "2023-04-27T13:36:20.928Z"
   },
   {
    "duration": 6,
    "start_time": "2023-04-27T13:47:07.107Z"
   },
   {
    "duration": 5,
    "start_time": "2023-04-27T13:47:11.458Z"
   },
   {
    "duration": 2779,
    "start_time": "2023-04-27T13:47:37.250Z"
   },
   {
    "duration": 20,
    "start_time": "2023-04-27T13:47:40.032Z"
   },
   {
    "duration": 963,
    "start_time": "2023-04-27T13:47:43.859Z"
   },
   {
    "duration": 4,
    "start_time": "2023-04-27T13:47:45.027Z"
   },
   {
    "duration": 10,
    "start_time": "2023-04-27T13:48:00.612Z"
   },
   {
    "duration": 20,
    "start_time": "2023-04-27T13:48:05.532Z"
   },
   {
    "duration": 5,
    "start_time": "2023-04-27T13:48:07.581Z"
   },
   {
    "duration": 1195,
    "start_time": "2023-04-27T13:50:31.469Z"
   },
   {
    "duration": 7,
    "start_time": "2023-04-27T13:50:39.085Z"
   },
   {
    "duration": 7,
    "start_time": "2023-04-27T13:50:43.052Z"
   },
   {
    "duration": 28,
    "start_time": "2023-04-27T13:50:44.541Z"
   },
   {
    "duration": 21,
    "start_time": "2023-04-27T13:51:24.220Z"
   },
   {
    "duration": 21,
    "start_time": "2023-04-27T13:51:46.193Z"
   },
   {
    "duration": 1587,
    "start_time": "2023-04-27T13:52:01.342Z"
   },
   {
    "duration": 836,
    "start_time": "2023-04-27T13:52:03.701Z"
   },
   {
    "duration": 24,
    "start_time": "2023-04-27T13:52:04.540Z"
   },
   {
    "duration": 5,
    "start_time": "2023-04-27T13:52:04.566Z"
   },
   {
    "duration": 340,
    "start_time": "2023-04-27T13:52:04.573Z"
   },
   {
    "duration": 209,
    "start_time": "2023-04-27T13:52:04.916Z"
   },
   {
    "duration": 359,
    "start_time": "2023-04-27T13:52:05.128Z"
   },
   {
    "duration": 3,
    "start_time": "2023-04-27T13:52:05.917Z"
   },
   {
    "duration": 17,
    "start_time": "2023-04-27T13:52:06.405Z"
   },
   {
    "duration": 7,
    "start_time": "2023-04-27T13:52:07.102Z"
   },
   {
    "duration": 5,
    "start_time": "2023-04-27T13:52:08.102Z"
   },
   {
    "duration": 12,
    "start_time": "2023-04-27T13:52:08.372Z"
   },
   {
    "duration": 9,
    "start_time": "2023-04-27T13:52:08.622Z"
   },
   {
    "duration": 22,
    "start_time": "2023-04-27T13:52:09.202Z"
   },
   {
    "duration": 19,
    "start_time": "2023-04-27T13:52:09.797Z"
   },
   {
    "duration": 12,
    "start_time": "2023-04-27T13:52:10.061Z"
   },
   {
    "duration": 1417,
    "start_time": "2023-04-27T13:52:20.750Z"
   },
   {
    "duration": 1276,
    "start_time": "2023-04-27T13:52:22.170Z"
   },
   {
    "duration": 1410,
    "start_time": "2023-04-27T13:52:23.450Z"
   },
   {
    "duration": 1214,
    "start_time": "2023-04-27T13:52:25.102Z"
   },
   {
    "duration": 903,
    "start_time": "2023-04-27T13:52:27.899Z"
   },
   {
    "duration": 12,
    "start_time": "2023-04-27T13:52:29.181Z"
   },
   {
    "duration": 14,
    "start_time": "2023-04-27T13:52:51.964Z"
   },
   {
    "duration": 7,
    "start_time": "2023-04-27T13:52:53.426Z"
   },
   {
    "duration": 818,
    "start_time": "2023-04-27T13:52:54.445Z"
   },
   {
    "duration": 9,
    "start_time": "2023-04-27T13:52:55.717Z"
   },
   {
    "duration": 11,
    "start_time": "2023-04-27T13:52:56.685Z"
   },
   {
    "duration": 8,
    "start_time": "2023-04-27T13:52:57.399Z"
   },
   {
    "duration": 524,
    "start_time": "2023-04-27T13:52:57.799Z"
   },
   {
    "duration": 8,
    "start_time": "2023-04-27T13:52:58.679Z"
   },
   {
    "duration": 8,
    "start_time": "2023-04-27T13:52:59.075Z"
   },
   {
    "duration": 8,
    "start_time": "2023-04-27T13:53:00.087Z"
   },
   {
    "duration": 668,
    "start_time": "2023-04-27T13:53:00.773Z"
   },
   {
    "duration": 10,
    "start_time": "2023-04-27T13:53:01.925Z"
   },
   {
    "duration": 8,
    "start_time": "2023-04-27T13:53:02.685Z"
   },
   {
    "duration": 33,
    "start_time": "2023-04-27T13:53:04.221Z"
   },
   {
    "duration": 10,
    "start_time": "2023-04-27T13:59:24.119Z"
   },
   {
    "duration": 8,
    "start_time": "2023-04-27T14:02:00.387Z"
   },
   {
    "duration": 205,
    "start_time": "2023-04-27T14:03:10.340Z"
   },
   {
    "duration": 10,
    "start_time": "2023-04-27T14:03:20.659Z"
   },
   {
    "duration": 235,
    "start_time": "2023-04-27T14:13:40.359Z"
   },
   {
    "duration": 21,
    "start_time": "2023-04-27T14:32:52.331Z"
   },
   {
    "duration": 6,
    "start_time": "2023-04-27T14:33:00.516Z"
   },
   {
    "duration": 38,
    "start_time": "2023-04-27T14:33:06.346Z"
   },
   {
    "duration": 5,
    "start_time": "2023-04-27T14:46:39.433Z"
   },
   {
    "duration": 6,
    "start_time": "2023-04-27T14:46:45.720Z"
   },
   {
    "duration": 1464,
    "start_time": "2023-04-27T17:14:42.102Z"
   },
   {
    "duration": 2115,
    "start_time": "2023-04-27T17:14:43.569Z"
   },
   {
    "duration": 17,
    "start_time": "2023-04-27T17:14:45.687Z"
   },
   {
    "duration": 2,
    "start_time": "2023-04-27T17:14:45.706Z"
   },
   {
    "duration": 246,
    "start_time": "2023-04-27T17:14:45.710Z"
   },
   {
    "duration": 161,
    "start_time": "2023-04-27T17:14:45.958Z"
   },
   {
    "duration": 290,
    "start_time": "2023-04-27T17:14:46.121Z"
   },
   {
    "duration": 3,
    "start_time": "2023-04-27T17:14:46.413Z"
   },
   {
    "duration": 13,
    "start_time": "2023-04-27T17:14:46.417Z"
   },
   {
    "duration": 5,
    "start_time": "2023-04-27T17:14:46.432Z"
   },
   {
    "duration": 3,
    "start_time": "2023-04-27T17:14:46.456Z"
   },
   {
    "duration": 12,
    "start_time": "2023-04-27T17:14:46.462Z"
   },
   {
    "duration": 8,
    "start_time": "2023-04-27T17:14:46.475Z"
   },
   {
    "duration": 15,
    "start_time": "2023-04-27T17:14:46.485Z"
   },
   {
    "duration": 20,
    "start_time": "2023-04-27T17:14:46.502Z"
   },
   {
    "duration": 35,
    "start_time": "2023-04-27T17:14:46.524Z"
   },
   {
    "duration": 1249,
    "start_time": "2023-04-27T17:14:46.561Z"
   },
   {
    "duration": 1003,
    "start_time": "2023-04-27T17:14:47.812Z"
   },
   {
    "duration": 1175,
    "start_time": "2023-04-27T17:14:48.818Z"
   },
   {
    "duration": 862,
    "start_time": "2023-04-27T17:14:49.995Z"
   },
   {
    "duration": 760,
    "start_time": "2023-04-27T17:14:50.859Z"
   },
   {
    "duration": 9,
    "start_time": "2023-04-27T17:14:51.621Z"
   },
   {
    "duration": 10,
    "start_time": "2023-04-27T17:14:51.631Z"
   },
   {
    "duration": 5,
    "start_time": "2023-04-27T17:14:51.656Z"
   },
   {
    "duration": 668,
    "start_time": "2023-04-27T17:14:51.663Z"
   },
   {
    "duration": 7,
    "start_time": "2023-04-27T17:14:52.334Z"
   },
   {
    "duration": 22,
    "start_time": "2023-04-27T17:14:52.343Z"
   },
   {
    "duration": 32,
    "start_time": "2023-04-27T17:14:52.368Z"
   },
   {
    "duration": 440,
    "start_time": "2023-04-27T17:14:52.402Z"
   },
   {
    "duration": 13,
    "start_time": "2023-04-27T17:14:52.844Z"
   },
   {
    "duration": 8,
    "start_time": "2023-04-27T17:14:52.859Z"
   },
   {
    "duration": 33,
    "start_time": "2023-04-27T17:14:52.868Z"
   },
   {
    "duration": 501,
    "start_time": "2023-04-27T17:14:52.903Z"
   },
   {
    "duration": 7,
    "start_time": "2023-04-27T17:14:53.406Z"
   },
   {
    "duration": 20,
    "start_time": "2023-04-27T17:14:53.415Z"
   },
   {
    "duration": 30,
    "start_time": "2023-04-27T17:14:53.437Z"
   },
   {
    "duration": 6,
    "start_time": "2023-04-27T17:14:53.468Z"
   },
   {
    "duration": 22,
    "start_time": "2023-04-27T17:14:53.475Z"
   },
   {
    "duration": 112,
    "start_time": "2023-04-27T17:14:53.498Z"
   },
   {
    "duration": 13,
    "start_time": "2023-04-27T17:15:08.820Z"
   },
   {
    "duration": 15,
    "start_time": "2023-04-27T17:15:15.117Z"
   },
   {
    "duration": 12,
    "start_time": "2023-04-27T17:15:18.437Z"
   },
   {
    "duration": 13,
    "start_time": "2023-04-27T17:15:39.087Z"
   },
   {
    "duration": 13,
    "start_time": "2023-04-27T17:20:11.240Z"
   },
   {
    "duration": 9,
    "start_time": "2023-04-27T17:20:27.271Z"
   },
   {
    "duration": 14,
    "start_time": "2023-04-27T17:32:01.142Z"
   },
   {
    "duration": 29,
    "start_time": "2023-04-27T17:36:22.769Z"
   },
   {
    "duration": 1243,
    "start_time": "2023-04-27T17:36:33.529Z"
   },
   {
    "duration": 651,
    "start_time": "2023-04-27T17:41:10.344Z"
   },
   {
    "duration": 6,
    "start_time": "2023-04-27T17:41:30.652Z"
   },
   {
    "duration": 3,
    "start_time": "2023-04-27T17:52:54.322Z"
   },
   {
    "duration": 8,
    "start_time": "2023-04-27T17:53:05.568Z"
   },
   {
    "duration": 10,
    "start_time": "2023-04-27T17:53:12.600Z"
   },
   {
    "duration": 9,
    "start_time": "2023-04-27T17:55:43.907Z"
   },
   {
    "duration": 6,
    "start_time": "2023-04-27T17:56:06.589Z"
   },
   {
    "duration": 3,
    "start_time": "2023-04-27T17:56:18.941Z"
   },
   {
    "duration": 7,
    "start_time": "2023-04-27T17:56:30.276Z"
   },
   {
    "duration": 9,
    "start_time": "2023-04-27T17:56:39.028Z"
   },
   {
    "duration": 29,
    "start_time": "2023-04-27T17:56:53.349Z"
   },
   {
    "duration": 8,
    "start_time": "2023-04-27T17:57:00.685Z"
   },
   {
    "duration": 34,
    "start_time": "2023-04-27T17:57:04.003Z"
   },
   {
    "duration": 8,
    "start_time": "2023-04-27T17:57:11.341Z"
   },
   {
    "duration": 33,
    "start_time": "2023-04-27T17:57:11.574Z"
   },
   {
    "duration": 9,
    "start_time": "2023-04-27T18:12:11.802Z"
   },
   {
    "duration": 39,
    "start_time": "2023-04-27T18:13:09.601Z"
   },
   {
    "duration": 3,
    "start_time": "2023-04-27T18:13:14.079Z"
   },
   {
    "duration": 55,
    "start_time": "2023-04-27T18:57:57.323Z"
   },
   {
    "duration": 113,
    "start_time": "2023-04-27T19:37:37.107Z"
   },
   {
    "duration": 3,
    "start_time": "2023-04-27T20:30:26.691Z"
   },
   {
    "duration": 16,
    "start_time": "2023-04-27T20:30:27.234Z"
   },
   {
    "duration": 43,
    "start_time": "2023-04-27T20:31:55.786Z"
   },
   {
    "duration": 1591,
    "start_time": "2023-04-27T20:32:03.323Z"
   },
   {
    "duration": 46,
    "start_time": "2023-04-27T20:36:21.246Z"
   },
   {
    "duration": 37,
    "start_time": "2023-04-27T20:36:25.534Z"
   },
   {
    "duration": 1222,
    "start_time": "2023-04-27T20:36:30.366Z"
   },
   {
    "duration": 1074,
    "start_time": "2023-04-27T20:37:32.783Z"
   },
   {
    "duration": 1023,
    "start_time": "2023-04-27T20:41:08.905Z"
   },
   {
    "duration": 40,
    "start_time": "2023-04-27T20:42:41.835Z"
   },
   {
    "duration": 1020,
    "start_time": "2023-04-27T20:42:59.139Z"
   },
   {
    "duration": 1029,
    "start_time": "2023-04-27T20:43:24.938Z"
   },
   {
    "duration": 279,
    "start_time": "2023-04-27T20:57:17.214Z"
   },
   {
    "duration": 249,
    "start_time": "2023-04-27T20:57:23.238Z"
   },
   {
    "duration": 11,
    "start_time": "2023-04-27T20:58:31.908Z"
   },
   {
    "duration": 252,
    "start_time": "2023-04-27T20:59:48.910Z"
   },
   {
    "duration": 3,
    "start_time": "2023-04-27T21:05:47.130Z"
   },
   {
    "duration": 34,
    "start_time": "2023-04-27T21:05:47.597Z"
   },
   {
    "duration": 1668,
    "start_time": "2023-04-28T06:34:28.288Z"
   },
   {
    "duration": 2018,
    "start_time": "2023-04-28T06:34:29.958Z"
   },
   {
    "duration": 18,
    "start_time": "2023-04-28T06:34:31.978Z"
   },
   {
    "duration": 3,
    "start_time": "2023-04-28T06:34:31.998Z"
   },
   {
    "duration": 309,
    "start_time": "2023-04-28T06:34:32.003Z"
   },
   {
    "duration": 166,
    "start_time": "2023-04-28T06:34:32.314Z"
   },
   {
    "duration": 314,
    "start_time": "2023-04-28T06:34:32.482Z"
   },
   {
    "duration": 3,
    "start_time": "2023-04-28T06:34:32.797Z"
   },
   {
    "duration": 38,
    "start_time": "2023-04-28T06:34:32.811Z"
   },
   {
    "duration": 18,
    "start_time": "2023-04-28T06:34:32.851Z"
   },
   {
    "duration": 23,
    "start_time": "2023-04-28T06:34:32.871Z"
   },
   {
    "duration": 50,
    "start_time": "2023-04-28T06:34:32.896Z"
   },
   {
    "duration": 9,
    "start_time": "2023-04-28T06:34:32.947Z"
   },
   {
    "duration": 19,
    "start_time": "2023-04-28T06:34:32.957Z"
   },
   {
    "duration": 52,
    "start_time": "2023-04-28T06:34:32.978Z"
   },
   {
    "duration": 8,
    "start_time": "2023-04-28T06:34:33.032Z"
   },
   {
    "duration": 1363,
    "start_time": "2023-04-28T06:34:33.042Z"
   },
   {
    "duration": 1250,
    "start_time": "2023-04-28T06:34:34.411Z"
   },
   {
    "duration": 1219,
    "start_time": "2023-04-28T06:34:35.662Z"
   },
   {
    "duration": 1061,
    "start_time": "2023-04-28T06:34:36.883Z"
   },
   {
    "duration": 927,
    "start_time": "2023-04-28T06:34:37.947Z"
   },
   {
    "duration": 12,
    "start_time": "2023-04-28T06:34:38.876Z"
   },
   {
    "duration": 33,
    "start_time": "2023-04-28T06:34:38.891Z"
   },
   {
    "duration": 7,
    "start_time": "2023-04-28T06:34:38.927Z"
   },
   {
    "duration": 740,
    "start_time": "2023-04-28T06:34:38.937Z"
   },
   {
    "duration": 8,
    "start_time": "2023-04-28T06:34:39.678Z"
   },
   {
    "duration": 16,
    "start_time": "2023-04-28T06:34:39.687Z"
   },
   {
    "duration": 5,
    "start_time": "2023-04-28T06:34:39.711Z"
   },
   {
    "duration": 506,
    "start_time": "2023-04-28T06:34:39.718Z"
   },
   {
    "duration": 8,
    "start_time": "2023-04-28T06:34:40.226Z"
   },
   {
    "duration": 8,
    "start_time": "2023-04-28T06:34:40.236Z"
   },
   {
    "duration": 7,
    "start_time": "2023-04-28T06:34:40.247Z"
   },
   {
    "duration": 525,
    "start_time": "2023-04-28T06:34:40.256Z"
   },
   {
    "duration": 7,
    "start_time": "2023-04-28T06:34:40.784Z"
   },
   {
    "duration": 23,
    "start_time": "2023-04-28T06:34:40.793Z"
   },
   {
    "duration": 26,
    "start_time": "2023-04-28T06:34:40.818Z"
   },
   {
    "duration": 3,
    "start_time": "2023-04-28T06:34:40.845Z"
   },
   {
    "duration": 8,
    "start_time": "2023-04-28T06:34:40.849Z"
   },
   {
    "duration": 5,
    "start_time": "2023-04-28T06:34:40.859Z"
   },
   {
    "duration": 8,
    "start_time": "2023-04-28T06:34:40.865Z"
   },
   {
    "duration": 7,
    "start_time": "2023-04-28T06:34:40.875Z"
   },
   {
    "duration": 32,
    "start_time": "2023-04-28T06:34:40.883Z"
   },
   {
    "duration": 337,
    "start_time": "2023-04-28T06:34:40.916Z"
   },
   {
    "duration": 0,
    "start_time": "2023-04-28T06:34:41.254Z"
   },
   {
    "duration": 3,
    "start_time": "2023-04-28T06:35:02.649Z"
   },
   {
    "duration": 23,
    "start_time": "2023-04-28T06:35:03.770Z"
   },
   {
    "duration": 3,
    "start_time": "2023-04-28T06:36:22.337Z"
   },
   {
    "duration": 24,
    "start_time": "2023-04-28T06:36:22.482Z"
   },
   {
    "duration": 3,
    "start_time": "2023-04-28T06:36:49.825Z"
   },
   {
    "duration": 25,
    "start_time": "2023-04-28T06:36:50.186Z"
   },
   {
    "duration": 3,
    "start_time": "2023-04-28T06:37:27.193Z"
   },
   {
    "duration": 137437,
    "start_time": "2023-04-28T06:37:27.354Z"
   },
   {
    "duration": 28261,
    "start_time": "2023-04-28T06:49:21.751Z"
   },
   {
    "duration": 3,
    "start_time": "2023-04-28T06:53:16.057Z"
   },
   {
    "duration": 3,
    "start_time": "2023-04-28T06:55:26.402Z"
   },
   {
    "duration": 27380,
    "start_time": "2023-04-28T06:55:29.802Z"
   },
   {
    "duration": 1488,
    "start_time": "2023-04-28T07:46:21.179Z"
   },
   {
    "duration": 723,
    "start_time": "2023-04-28T07:46:23.811Z"
   },
   {
    "duration": 19,
    "start_time": "2023-04-28T07:46:24.536Z"
   },
   {
    "duration": 5,
    "start_time": "2023-04-28T07:46:24.556Z"
   },
   {
    "duration": 272,
    "start_time": "2023-04-28T07:46:24.649Z"
   },
   {
    "duration": 170,
    "start_time": "2023-04-28T07:46:25.152Z"
   },
   {
    "duration": 324,
    "start_time": "2023-04-28T07:46:25.325Z"
   },
   {
    "duration": 3,
    "start_time": "2023-04-28T07:46:25.651Z"
   },
   {
    "duration": 20,
    "start_time": "2023-04-28T07:46:25.656Z"
   },
   {
    "duration": 5,
    "start_time": "2023-04-28T07:46:25.678Z"
   },
   {
    "duration": 7,
    "start_time": "2023-04-28T07:46:25.685Z"
   },
   {
    "duration": 9,
    "start_time": "2023-04-28T07:46:25.711Z"
   },
   {
    "duration": 7,
    "start_time": "2023-04-28T07:46:25.879Z"
   },
   {
    "duration": 35,
    "start_time": "2023-04-28T07:46:25.888Z"
   },
   {
    "duration": 12,
    "start_time": "2023-04-28T07:46:25.925Z"
   },
   {
    "duration": 22,
    "start_time": "2023-04-28T07:46:25.939Z"
   },
   {
    "duration": 1287,
    "start_time": "2023-04-28T07:46:25.963Z"
   },
   {
    "duration": 1322,
    "start_time": "2023-04-28T07:46:27.253Z"
   },
   {
    "duration": 1196,
    "start_time": "2023-04-28T07:46:28.577Z"
   },
   {
    "duration": 984,
    "start_time": "2023-04-28T07:46:29.775Z"
   },
   {
    "duration": 812,
    "start_time": "2023-04-28T07:46:30.760Z"
   },
   {
    "duration": 11,
    "start_time": "2023-04-28T07:46:31.575Z"
   },
   {
    "duration": 99,
    "start_time": "2023-04-28T07:46:31.588Z"
   },
   {
    "duration": 28,
    "start_time": "2023-04-28T07:46:31.689Z"
   },
   {
    "duration": 700,
    "start_time": "2023-04-28T07:46:31.719Z"
   },
   {
    "duration": 7,
    "start_time": "2023-04-28T07:46:32.421Z"
   },
   {
    "duration": 17,
    "start_time": "2023-04-28T07:46:32.429Z"
   },
   {
    "duration": 23,
    "start_time": "2023-04-28T07:46:32.447Z"
   },
   {
    "duration": 509,
    "start_time": "2023-04-28T07:46:32.471Z"
   },
   {
    "duration": 8,
    "start_time": "2023-04-28T07:46:32.982Z"
   },
   {
    "duration": 22,
    "start_time": "2023-04-28T07:46:32.992Z"
   },
   {
    "duration": 7,
    "start_time": "2023-04-28T07:46:33.016Z"
   },
   {
    "duration": 515,
    "start_time": "2023-04-28T07:46:33.026Z"
   },
   {
    "duration": 7,
    "start_time": "2023-04-28T07:46:33.544Z"
   },
   {
    "duration": 12,
    "start_time": "2023-04-28T07:46:33.552Z"
   },
   {
    "duration": 28,
    "start_time": "2023-04-28T07:46:33.565Z"
   },
   {
    "duration": 17,
    "start_time": "2023-04-28T07:46:33.595Z"
   },
   {
    "duration": 8,
    "start_time": "2023-04-28T07:46:33.614Z"
   },
   {
    "duration": 10,
    "start_time": "2023-04-28T07:46:33.623Z"
   },
   {
    "duration": 12,
    "start_time": "2023-04-28T07:46:33.635Z"
   },
   {
    "duration": 9,
    "start_time": "2023-04-28T07:46:33.649Z"
   },
   {
    "duration": 12,
    "start_time": "2023-04-28T07:46:33.660Z"
   },
   {
    "duration": 27520,
    "start_time": "2023-04-28T07:46:33.674Z"
   },
   {
    "duration": 3,
    "start_time": "2023-04-28T07:47:01.196Z"
   },
   {
    "duration": 1575,
    "start_time": "2023-04-28T07:57:02.634Z"
   },
   {
    "duration": 785,
    "start_time": "2023-04-28T07:57:04.897Z"
   },
   {
    "duration": 28,
    "start_time": "2023-04-28T07:57:05.684Z"
   },
   {
    "duration": 3,
    "start_time": "2023-04-28T07:57:05.714Z"
   },
   {
    "duration": 335,
    "start_time": "2023-04-28T07:57:05.720Z"
   },
   {
    "duration": 202,
    "start_time": "2023-04-28T07:57:06.057Z"
   },
   {
    "duration": 294,
    "start_time": "2023-04-28T07:57:06.260Z"
   },
   {
    "duration": 3,
    "start_time": "2023-04-28T07:57:06.555Z"
   },
   {
    "duration": 22,
    "start_time": "2023-04-28T07:57:06.560Z"
   },
   {
    "duration": 19,
    "start_time": "2023-04-28T07:57:06.585Z"
   },
   {
    "duration": 8,
    "start_time": "2023-04-28T07:57:06.612Z"
   },
   {
    "duration": 19,
    "start_time": "2023-04-28T07:57:06.622Z"
   },
   {
    "duration": 8,
    "start_time": "2023-04-28T07:57:06.643Z"
   },
   {
    "duration": 19,
    "start_time": "2023-04-28T07:57:06.653Z"
   },
   {
    "duration": 44,
    "start_time": "2023-04-28T07:57:06.674Z"
   },
   {
    "duration": 11,
    "start_time": "2023-04-28T07:57:06.720Z"
   },
   {
    "duration": 1388,
    "start_time": "2023-04-28T07:57:06.734Z"
   },
   {
    "duration": 1353,
    "start_time": "2023-04-28T07:57:08.124Z"
   },
   {
    "duration": 1162,
    "start_time": "2023-04-28T07:57:09.479Z"
   },
   {
    "duration": 1001,
    "start_time": "2023-04-28T07:57:10.643Z"
   },
   {
    "duration": 823,
    "start_time": "2023-04-28T07:57:11.645Z"
   },
   {
    "duration": 10,
    "start_time": "2023-04-28T07:57:12.471Z"
   },
   {
    "duration": 11,
    "start_time": "2023-04-28T07:57:12.483Z"
   },
   {
    "duration": 6,
    "start_time": "2023-04-28T07:57:12.511Z"
   },
   {
    "duration": 750,
    "start_time": "2023-04-28T07:57:12.518Z"
   },
   {
    "duration": 8,
    "start_time": "2023-04-28T07:57:13.271Z"
   },
   {
    "duration": 10,
    "start_time": "2023-04-28T07:57:13.282Z"
   },
   {
    "duration": 7,
    "start_time": "2023-04-28T07:57:13.313Z"
   },
   {
    "duration": 483,
    "start_time": "2023-04-28T07:57:13.322Z"
   },
   {
    "duration": 9,
    "start_time": "2023-04-28T07:57:13.807Z"
   },
   {
    "duration": 14,
    "start_time": "2023-04-28T07:57:13.818Z"
   },
   {
    "duration": 15,
    "start_time": "2023-04-28T07:57:13.834Z"
   },
   {
    "duration": 500,
    "start_time": "2023-04-28T07:57:13.851Z"
   },
   {
    "duration": 7,
    "start_time": "2023-04-28T07:57:14.353Z"
   },
   {
    "duration": 7,
    "start_time": "2023-04-28T07:57:14.362Z"
   },
   {
    "duration": 56,
    "start_time": "2023-04-28T07:57:14.371Z"
   },
   {
    "duration": 3,
    "start_time": "2023-04-28T07:57:14.429Z"
   },
   {
    "duration": 24,
    "start_time": "2023-04-28T07:57:14.434Z"
   },
   {
    "duration": 5,
    "start_time": "2023-04-28T07:57:14.460Z"
   },
   {
    "duration": 7,
    "start_time": "2023-04-28T07:57:14.467Z"
   },
   {
    "duration": 11,
    "start_time": "2023-04-28T07:57:14.476Z"
   },
   {
    "duration": 10,
    "start_time": "2023-04-28T07:57:14.489Z"
   },
   {
    "duration": 28314,
    "start_time": "2023-04-28T07:57:14.501Z"
   },
   {
    "duration": 4,
    "start_time": "2023-04-28T07:57:42.822Z"
   },
   {
    "duration": 1552,
    "start_time": "2023-04-28T08:07:47.402Z"
   },
   {
    "duration": 818,
    "start_time": "2023-04-28T08:07:49.486Z"
   },
   {
    "duration": 27,
    "start_time": "2023-04-28T08:07:50.312Z"
   },
   {
    "duration": 4,
    "start_time": "2023-04-28T08:07:50.341Z"
   },
   {
    "duration": 342,
    "start_time": "2023-04-28T08:07:50.348Z"
   },
   {
    "duration": 202,
    "start_time": "2023-04-28T08:07:50.692Z"
   },
   {
    "duration": 345,
    "start_time": "2023-04-28T08:07:50.896Z"
   },
   {
    "duration": 4,
    "start_time": "2023-04-28T08:07:51.244Z"
   },
   {
    "duration": 26,
    "start_time": "2023-04-28T08:07:51.249Z"
   },
   {
    "duration": 12,
    "start_time": "2023-04-28T08:07:51.277Z"
   },
   {
    "duration": 17,
    "start_time": "2023-04-28T08:07:51.290Z"
   },
   {
    "duration": 13,
    "start_time": "2023-04-28T08:07:51.313Z"
   },
   {
    "duration": 6,
    "start_time": "2023-04-28T08:07:51.328Z"
   },
   {
    "duration": 18,
    "start_time": "2023-04-28T08:07:51.336Z"
   },
   {
    "duration": 11,
    "start_time": "2023-04-28T08:07:51.356Z"
   },
   {
    "duration": 8,
    "start_time": "2023-04-28T08:07:51.369Z"
   },
   {
    "duration": 1358,
    "start_time": "2023-04-28T08:07:51.413Z"
   },
   {
    "duration": 1449,
    "start_time": "2023-04-28T08:07:52.773Z"
   },
   {
    "duration": 1195,
    "start_time": "2023-04-28T08:07:54.225Z"
   },
   {
    "duration": 1054,
    "start_time": "2023-04-28T08:07:55.423Z"
   },
   {
    "duration": 886,
    "start_time": "2023-04-28T08:07:56.480Z"
   },
   {
    "duration": 12,
    "start_time": "2023-04-28T08:07:57.368Z"
   },
   {
    "duration": 30,
    "start_time": "2023-04-28T08:07:57.382Z"
   },
   {
    "duration": 9,
    "start_time": "2023-04-28T08:07:57.417Z"
   },
   {
    "duration": 787,
    "start_time": "2023-04-28T08:07:57.429Z"
   },
   {
    "duration": 8,
    "start_time": "2023-04-28T08:07:58.218Z"
   },
   {
    "duration": 16,
    "start_time": "2023-04-28T08:07:58.228Z"
   },
   {
    "duration": 11,
    "start_time": "2023-04-28T08:07:58.247Z"
   },
   {
    "duration": 596,
    "start_time": "2023-04-28T08:07:58.260Z"
   },
   {
    "duration": 10,
    "start_time": "2023-04-28T08:07:58.859Z"
   },
   {
    "duration": 10,
    "start_time": "2023-04-28T08:07:58.872Z"
   },
   {
    "duration": 32,
    "start_time": "2023-04-28T08:07:58.885Z"
   },
   {
    "duration": 682,
    "start_time": "2023-04-28T08:07:58.919Z"
   },
   {
    "duration": 12,
    "start_time": "2023-04-28T08:07:59.603Z"
   },
   {
    "duration": 11,
    "start_time": "2023-04-28T08:07:59.618Z"
   },
   {
    "duration": 27,
    "start_time": "2023-04-28T08:07:59.631Z"
   },
   {
    "duration": 2,
    "start_time": "2023-04-28T08:07:59.661Z"
   },
   {
    "duration": 7,
    "start_time": "2023-04-28T08:07:59.666Z"
   },
   {
    "duration": 5,
    "start_time": "2023-04-28T08:07:59.675Z"
   },
   {
    "duration": 37,
    "start_time": "2023-04-28T08:07:59.681Z"
   },
   {
    "duration": 7,
    "start_time": "2023-04-28T08:07:59.727Z"
   },
   {
    "duration": 2,
    "start_time": "2023-04-28T08:08:01.919Z"
   },
   {
    "duration": 1476,
    "start_time": "2023-04-28T08:15:40.677Z"
   },
   {
    "duration": 730,
    "start_time": "2023-04-28T08:15:42.155Z"
   },
   {
    "duration": 27,
    "start_time": "2023-04-28T08:15:42.887Z"
   },
   {
    "duration": 4,
    "start_time": "2023-04-28T08:15:42.916Z"
   },
   {
    "duration": 289,
    "start_time": "2023-04-28T08:15:42.922Z"
   },
   {
    "duration": 172,
    "start_time": "2023-04-28T08:15:43.214Z"
   },
   {
    "duration": 298,
    "start_time": "2023-04-28T08:15:43.388Z"
   },
   {
    "duration": 3,
    "start_time": "2023-04-28T08:15:43.688Z"
   },
   {
    "duration": 27,
    "start_time": "2023-04-28T08:15:43.693Z"
   },
   {
    "duration": 5,
    "start_time": "2023-04-28T08:15:43.724Z"
   },
   {
    "duration": 10,
    "start_time": "2023-04-28T08:15:43.731Z"
   },
   {
    "duration": 18,
    "start_time": "2023-04-28T08:15:43.743Z"
   },
   {
    "duration": 8,
    "start_time": "2023-04-28T08:15:43.763Z"
   },
   {
    "duration": 43,
    "start_time": "2023-04-28T08:15:43.772Z"
   },
   {
    "duration": 13,
    "start_time": "2023-04-28T08:15:43.817Z"
   },
   {
    "duration": 10,
    "start_time": "2023-04-28T08:15:43.832Z"
   },
   {
    "duration": 1286,
    "start_time": "2023-04-28T08:15:43.844Z"
   },
   {
    "duration": 1260,
    "start_time": "2023-04-28T08:15:45.133Z"
   },
   {
    "duration": 1181,
    "start_time": "2023-04-28T08:15:46.396Z"
   },
   {
    "duration": 1028,
    "start_time": "2023-04-28T08:15:47.579Z"
   },
   {
    "duration": 907,
    "start_time": "2023-04-28T08:15:48.611Z"
   },
   {
    "duration": 10,
    "start_time": "2023-04-28T08:15:49.520Z"
   },
   {
    "duration": 11,
    "start_time": "2023-04-28T08:15:49.532Z"
   },
   {
    "duration": 12,
    "start_time": "2023-04-28T08:15:49.546Z"
   },
   {
    "duration": 713,
    "start_time": "2023-04-28T08:15:49.560Z"
   },
   {
    "duration": 9,
    "start_time": "2023-04-28T08:15:50.274Z"
   },
   {
    "duration": 36,
    "start_time": "2023-04-28T08:15:50.284Z"
   },
   {
    "duration": 15,
    "start_time": "2023-04-28T08:15:50.322Z"
   },
   {
    "duration": 501,
    "start_time": "2023-04-28T08:15:50.339Z"
   },
   {
    "duration": 7,
    "start_time": "2023-04-28T08:15:50.842Z"
   },
   {
    "duration": 25,
    "start_time": "2023-04-28T08:15:50.851Z"
   },
   {
    "duration": 34,
    "start_time": "2023-04-28T08:15:50.878Z"
   },
   {
    "duration": 521,
    "start_time": "2023-04-28T08:15:50.914Z"
   },
   {
    "duration": 7,
    "start_time": "2023-04-28T08:15:51.437Z"
   },
   {
    "duration": 7,
    "start_time": "2023-04-28T08:15:51.447Z"
   },
   {
    "duration": 32,
    "start_time": "2023-04-28T08:15:51.455Z"
   },
   {
    "duration": 3,
    "start_time": "2023-04-28T08:15:56.489Z"
   },
   {
    "duration": 7,
    "start_time": "2023-04-28T08:15:56.842Z"
   },
   {
    "duration": 5,
    "start_time": "2023-04-28T08:15:58.705Z"
   },
   {
    "duration": 8,
    "start_time": "2023-04-28T08:15:59.002Z"
   },
   {
    "duration": 3,
    "start_time": "2023-04-28T08:15:59.386Z"
   },
   {
    "duration": 3,
    "start_time": "2023-04-28T08:16:02.866Z"
   },
   {
    "duration": 27035,
    "start_time": "2023-04-28T08:16:06.850Z"
   },
   {
    "duration": 124,
    "start_time": "2023-04-28T08:17:23.316Z"
   },
   {
    "duration": 3,
    "start_time": "2023-04-28T08:17:26.814Z"
   },
   {
    "duration": 158401,
    "start_time": "2023-04-28T08:17:26.971Z"
   },
   {
    "duration": 1599,
    "start_time": "2023-04-28T08:20:15.516Z"
   },
   {
    "duration": 78,
    "start_time": "2023-04-28T08:23:59.439Z"
   },
   {
    "duration": 8,
    "start_time": "2023-04-28T08:24:12.406Z"
   },
   {
    "duration": 153,
    "start_time": "2023-04-28T08:25:34.463Z"
   },
   {
    "duration": 4,
    "start_time": "2023-04-28T08:27:35.736Z"
   },
   {
    "duration": 19,
    "start_time": "2023-04-28T08:29:34.296Z"
   },
   {
    "duration": 684,
    "start_time": "2023-04-28T08:29:50.367Z"
   },
   {
    "duration": 8,
    "start_time": "2023-04-28T08:29:56.817Z"
   },
   {
    "duration": 5,
    "start_time": "2023-04-28T08:30:05.913Z"
   },
   {
    "duration": 132,
    "start_time": "2023-04-28T08:30:16.281Z"
   },
   {
    "duration": 13,
    "start_time": "2023-04-28T08:31:17.242Z"
   },
   {
    "duration": 13,
    "start_time": "2023-04-28T08:31:23.761Z"
   },
   {
    "duration": 738,
    "start_time": "2023-04-28T08:31:28.370Z"
   },
   {
    "duration": 7,
    "start_time": "2023-04-28T08:31:34.653Z"
   },
   {
    "duration": 4,
    "start_time": "2023-04-28T08:31:36.186Z"
   },
   {
    "duration": 4,
    "start_time": "2023-04-28T08:31:38.491Z"
   },
   {
    "duration": 19,
    "start_time": "2023-04-28T08:31:38.835Z"
   },
   {
    "duration": 13,
    "start_time": "2023-04-28T08:32:13.921Z"
   },
   {
    "duration": 12,
    "start_time": "2023-04-28T08:32:24.506Z"
   },
   {
    "duration": 14,
    "start_time": "2023-04-28T08:32:29.299Z"
   },
   {
    "duration": 661,
    "start_time": "2023-04-28T08:32:38.003Z"
   },
   {
    "duration": 9,
    "start_time": "2023-04-28T08:32:44.715Z"
   },
   {
    "duration": 5,
    "start_time": "2023-04-28T08:33:18.275Z"
   },
   {
    "duration": 17,
    "start_time": "2023-04-28T08:39:31.082Z"
   },
   {
    "duration": 67,
    "start_time": "2023-04-28T08:39:34.558Z"
   },
   {
    "duration": 709,
    "start_time": "2023-04-28T08:39:34.758Z"
   },
   {
    "duration": 18,
    "start_time": "2023-04-28T08:39:35.469Z"
   },
   {
    "duration": 3,
    "start_time": "2023-04-28T08:39:35.489Z"
   },
   {
    "duration": 287,
    "start_time": "2023-04-28T08:39:35.494Z"
   },
   {
    "duration": 173,
    "start_time": "2023-04-28T08:39:35.783Z"
   },
   {
    "duration": 290,
    "start_time": "2023-04-28T08:39:35.958Z"
   },
   {
    "duration": 4,
    "start_time": "2023-04-28T08:39:37.182Z"
   },
   {
    "duration": 11,
    "start_time": "2023-04-28T08:39:37.895Z"
   },
   {
    "duration": 5,
    "start_time": "2023-04-28T08:39:41.281Z"
   },
   {
    "duration": 3,
    "start_time": "2023-04-28T08:39:44.622Z"
   },
   {
    "duration": 8,
    "start_time": "2023-04-28T08:39:44.882Z"
   },
   {
    "duration": 7,
    "start_time": "2023-04-28T08:39:45.182Z"
   },
   {
    "duration": 16,
    "start_time": "2023-04-28T08:39:47.199Z"
   },
   {
    "duration": 75,
    "start_time": "2023-04-28T08:41:03.488Z"
   },
   {
    "duration": 14,
    "start_time": "2023-04-28T08:41:26.880Z"
   },
   {
    "duration": 673,
    "start_time": "2023-04-28T08:41:37.580Z"
   },
   {
    "duration": 12,
    "start_time": "2023-04-28T08:41:38.255Z"
   },
   {
    "duration": 15,
    "start_time": "2023-04-28T08:41:45.088Z"
   },
   {
    "duration": 689,
    "start_time": "2023-04-28T08:43:39.027Z"
   },
   {
    "duration": 12,
    "start_time": "2023-04-28T08:43:39.718Z"
   },
   {
    "duration": 34,
    "start_time": "2023-04-28T08:43:48.336Z"
   },
   {
    "duration": 29,
    "start_time": "2023-04-28T08:43:55.842Z"
   },
   {
    "duration": 705,
    "start_time": "2023-04-28T08:44:00.561Z"
   },
   {
    "duration": 14,
    "start_time": "2023-04-28T08:44:01.268Z"
   },
   {
    "duration": 25,
    "start_time": "2023-04-28T08:44:11.138Z"
   },
   {
    "duration": 9,
    "start_time": "2023-04-28T08:44:53.185Z"
   },
   {
    "duration": 9,
    "start_time": "2023-04-28T08:44:53.545Z"
   },
   {
    "duration": 6,
    "start_time": "2023-04-28T08:45:47.320Z"
   },
   {
    "duration": 7,
    "start_time": "2023-04-28T08:45:55.947Z"
   },
   {
    "duration": 5,
    "start_time": "2023-04-28T08:45:58.615Z"
   },
   {
    "duration": 4,
    "start_time": "2023-04-28T08:46:04.793Z"
   },
   {
    "duration": 8,
    "start_time": "2023-04-28T08:46:05.338Z"
   },
   {
    "duration": 1480,
    "start_time": "2023-04-28T08:46:25.090Z"
   },
   {
    "duration": 701,
    "start_time": "2023-04-28T08:46:27.097Z"
   },
   {
    "duration": 27,
    "start_time": "2023-04-28T08:46:27.800Z"
   },
   {
    "duration": 3,
    "start_time": "2023-04-28T08:46:28.362Z"
   },
   {
    "duration": 321,
    "start_time": "2023-04-28T08:46:28.851Z"
   },
   {
    "duration": 172,
    "start_time": "2023-04-28T08:46:29.175Z"
   },
   {
    "duration": 294,
    "start_time": "2023-04-28T08:46:29.349Z"
   },
   {
    "duration": 2,
    "start_time": "2023-04-28T08:46:29.646Z"
   },
   {
    "duration": 22,
    "start_time": "2023-04-28T08:46:29.650Z"
   },
   {
    "duration": 5,
    "start_time": "2023-04-28T08:46:29.674Z"
   },
   {
    "duration": 9,
    "start_time": "2023-04-28T08:46:29.680Z"
   },
   {
    "duration": 23,
    "start_time": "2023-04-28T08:46:29.690Z"
   },
   {
    "duration": 6,
    "start_time": "2023-04-28T08:46:29.715Z"
   },
   {
    "duration": 16,
    "start_time": "2023-04-28T08:46:29.723Z"
   },
   {
    "duration": 12,
    "start_time": "2023-04-28T08:46:29.785Z"
   },
   {
    "duration": 9,
    "start_time": "2023-04-28T08:46:30.288Z"
   },
   {
    "duration": 1260,
    "start_time": "2023-04-28T08:46:30.377Z"
   },
   {
    "duration": 1237,
    "start_time": "2023-04-28T08:46:31.639Z"
   },
   {
    "duration": 1214,
    "start_time": "2023-04-28T08:46:32.878Z"
   },
   {
    "duration": 986,
    "start_time": "2023-04-28T08:46:34.093Z"
   },
   {
    "duration": 805,
    "start_time": "2023-04-28T08:46:35.081Z"
   },
   {
    "duration": 11,
    "start_time": "2023-04-28T08:46:35.888Z"
   },
   {
    "duration": 11,
    "start_time": "2023-04-28T08:46:35.911Z"
   },
   {
    "duration": 63,
    "start_time": "2023-04-28T08:46:35.923Z"
   },
   {
    "duration": 685,
    "start_time": "2023-04-28T08:46:35.988Z"
   },
   {
    "duration": 8,
    "start_time": "2023-04-28T08:46:36.674Z"
   },
   {
    "duration": 24,
    "start_time": "2023-04-28T08:46:36.684Z"
   },
   {
    "duration": 14,
    "start_time": "2023-04-28T08:46:36.710Z"
   },
   {
    "duration": 462,
    "start_time": "2023-04-28T08:46:36.726Z"
   },
   {
    "duration": 7,
    "start_time": "2023-04-28T08:46:37.191Z"
   },
   {
    "duration": 18,
    "start_time": "2023-04-28T08:46:37.212Z"
   },
   {
    "duration": 6,
    "start_time": "2023-04-28T08:46:37.692Z"
   },
   {
    "duration": 476,
    "start_time": "2023-04-28T08:46:37.923Z"
   },
   {
    "duration": 14,
    "start_time": "2023-04-28T08:46:38.401Z"
   },
   {
    "duration": 7,
    "start_time": "2023-04-28T08:46:38.416Z"
   },
   {
    "duration": 27,
    "start_time": "2023-04-28T08:46:38.922Z"
   },
   {
    "duration": 6,
    "start_time": "2023-04-28T08:46:40.026Z"
   },
   {
    "duration": 4,
    "start_time": "2023-04-28T08:46:41.338Z"
   },
   {
    "duration": 108,
    "start_time": "2023-04-28T08:46:45.954Z"
   },
   {
    "duration": 2,
    "start_time": "2023-04-28T08:46:46.286Z"
   },
   {
    "duration": 9,
    "start_time": "2023-04-28T08:47:14.955Z"
   },
   {
    "duration": 3,
    "start_time": "2023-04-28T08:47:15.986Z"
   },
   {
    "duration": 2,
    "start_time": "2023-04-28T08:47:17.026Z"
   },
   {
    "duration": 27334,
    "start_time": "2023-04-28T08:47:17.514Z"
   },
   {
    "duration": 2,
    "start_time": "2023-04-28T08:47:44.850Z"
   },
   {
    "duration": 159070,
    "start_time": "2023-04-28T08:47:44.853Z"
   },
   {
    "duration": 1787,
    "start_time": "2023-04-28T08:50:23.926Z"
   },
   {
    "duration": 299,
    "start_time": "2023-04-28T08:50:25.715Z"
   },
   {
    "duration": 6,
    "start_time": "2023-04-28T08:50:55.348Z"
   },
   {
    "duration": 4,
    "start_time": "2023-04-28T08:51:05.022Z"
   },
   {
    "duration": 10,
    "start_time": "2023-04-28T08:51:35.334Z"
   },
   {
    "duration": 5,
    "start_time": "2023-04-28T08:51:39.324Z"
   },
   {
    "duration": 10,
    "start_time": "2023-04-28T08:51:53.028Z"
   },
   {
    "duration": 9,
    "start_time": "2023-04-28T08:52:49.525Z"
   },
   {
    "duration": 212,
    "start_time": "2023-04-28T08:52:54.801Z"
   },
   {
    "duration": 13,
    "start_time": "2023-04-28T08:53:55.550Z"
   },
   {
    "duration": 13,
    "start_time": "2023-04-28T08:54:27.957Z"
   },
   {
    "duration": 23,
    "start_time": "2023-04-28T08:55:39.015Z"
   },
   {
    "duration": 4,
    "start_time": "2023-04-28T08:55:53.194Z"
   },
   {
    "duration": 5,
    "start_time": "2023-04-28T08:56:17.717Z"
   },
   {
    "duration": 2482,
    "start_time": "2023-04-28T13:25:51.883Z"
   },
   {
    "duration": 2171,
    "start_time": "2023-04-28T13:25:54.368Z"
   },
   {
    "duration": 22,
    "start_time": "2023-04-28T13:25:56.541Z"
   },
   {
    "duration": 4,
    "start_time": "2023-04-28T13:25:56.565Z"
   },
   {
    "duration": 299,
    "start_time": "2023-04-28T13:25:56.572Z"
   },
   {
    "duration": 180,
    "start_time": "2023-04-28T13:25:56.873Z"
   },
   {
    "duration": 325,
    "start_time": "2023-04-28T13:25:57.056Z"
   },
   {
    "duration": 5,
    "start_time": "2023-04-28T13:25:57.383Z"
   },
   {
    "duration": 29,
    "start_time": "2023-04-28T13:25:57.391Z"
   },
   {
    "duration": 6,
    "start_time": "2023-04-28T13:25:57.421Z"
   },
   {
    "duration": 4,
    "start_time": "2023-04-28T13:25:57.429Z"
   },
   {
    "duration": 14,
    "start_time": "2023-04-28T13:25:57.435Z"
   },
   {
    "duration": 9,
    "start_time": "2023-04-28T13:25:57.450Z"
   },
   {
    "duration": 56,
    "start_time": "2023-04-28T13:25:57.463Z"
   },
   {
    "duration": 14,
    "start_time": "2023-04-28T13:25:57.521Z"
   },
   {
    "duration": 9,
    "start_time": "2023-04-28T13:25:57.537Z"
   },
   {
    "duration": 1424,
    "start_time": "2023-04-28T13:25:57.548Z"
   },
   {
    "duration": 1391,
    "start_time": "2023-04-28T13:25:58.974Z"
   },
   {
    "duration": 1360,
    "start_time": "2023-04-28T13:26:00.368Z"
   },
   {
    "duration": 1069,
    "start_time": "2023-04-28T13:26:01.730Z"
   },
   {
    "duration": 870,
    "start_time": "2023-04-28T13:26:02.802Z"
   },
   {
    "duration": 11,
    "start_time": "2023-04-28T13:26:03.673Z"
   },
   {
    "duration": 11,
    "start_time": "2023-04-28T13:26:03.686Z"
   },
   {
    "duration": 15,
    "start_time": "2023-04-28T13:26:03.699Z"
   },
   {
    "duration": 929,
    "start_time": "2023-04-28T13:26:03.716Z"
   },
   {
    "duration": 8,
    "start_time": "2023-04-28T13:26:04.647Z"
   },
   {
    "duration": 9,
    "start_time": "2023-04-28T13:26:04.657Z"
   },
   {
    "duration": 13,
    "start_time": "2023-04-28T13:26:04.668Z"
   },
   {
    "duration": 524,
    "start_time": "2023-04-28T13:26:04.683Z"
   },
   {
    "duration": 8,
    "start_time": "2023-04-28T13:26:05.209Z"
   },
   {
    "duration": 8,
    "start_time": "2023-04-28T13:26:05.219Z"
   },
   {
    "duration": 8,
    "start_time": "2023-04-28T13:26:05.229Z"
   },
   {
    "duration": 500,
    "start_time": "2023-04-28T13:26:05.239Z"
   },
   {
    "duration": 8,
    "start_time": "2023-04-28T13:26:05.741Z"
   },
   {
    "duration": 12,
    "start_time": "2023-04-28T13:26:05.751Z"
   },
   {
    "duration": 52,
    "start_time": "2023-04-28T13:26:05.765Z"
   },
   {
    "duration": 8,
    "start_time": "2023-04-28T13:26:05.819Z"
   },
   {
    "duration": 5,
    "start_time": "2023-04-28T13:26:21.040Z"
   },
   {
    "duration": 10,
    "start_time": "2023-04-28T13:26:21.359Z"
   },
   {
    "duration": 3,
    "start_time": "2023-04-28T13:26:21.725Z"
   },
   {
    "duration": 412,
    "start_time": "2023-04-28T13:26:41.228Z"
   },
   {
    "duration": 3,
    "start_time": "2023-04-28T13:27:03.272Z"
   },
   {
    "duration": 28427,
    "start_time": "2023-04-28T13:27:06.326Z"
   },
   {
    "duration": 33,
    "start_time": "2023-04-28T13:27:34.755Z"
   },
   {
    "duration": 4,
    "start_time": "2023-04-28T13:27:43.516Z"
   },
   {
    "duration": 31,
    "start_time": "2023-04-28T13:28:03.422Z"
   },
   {
    "duration": 21,
    "start_time": "2023-04-28T13:28:10.449Z"
   },
   {
    "duration": 24,
    "start_time": "2023-04-28T13:28:13.642Z"
   },
   {
    "duration": 5,
    "start_time": "2023-04-28T13:28:44.234Z"
   },
   {
    "duration": 5,
    "start_time": "2023-04-28T13:28:59.774Z"
   },
   {
    "duration": 2205,
    "start_time": "2023-04-28T15:27:44.382Z"
   },
   {
    "duration": 2241,
    "start_time": "2023-04-28T15:27:46.590Z"
   },
   {
    "duration": 24,
    "start_time": "2023-04-28T15:27:48.833Z"
   },
   {
    "duration": 10,
    "start_time": "2023-04-28T15:27:48.859Z"
   },
   {
    "duration": 460,
    "start_time": "2023-04-28T15:27:48.873Z"
   },
   {
    "duration": 270,
    "start_time": "2023-04-28T15:27:49.336Z"
   },
   {
    "duration": 451,
    "start_time": "2023-04-28T15:27:49.609Z"
   },
   {
    "duration": 4,
    "start_time": "2023-04-28T15:27:53.931Z"
   },
   {
    "duration": 15,
    "start_time": "2023-04-28T15:27:55.330Z"
   },
   {
    "duration": 9,
    "start_time": "2023-04-28T15:27:58.725Z"
   },
   {
    "duration": 5,
    "start_time": "2023-04-28T15:28:00.332Z"
   },
   {
    "duration": 13,
    "start_time": "2023-04-28T15:28:00.632Z"
   },
   {
    "duration": 12,
    "start_time": "2023-04-28T15:28:01.027Z"
   },
   {
    "duration": 23,
    "start_time": "2023-04-28T15:28:04.148Z"
   },
   {
    "duration": 15,
    "start_time": "2023-04-28T15:28:04.632Z"
   },
   {
    "duration": 15,
    "start_time": "2023-04-28T15:28:04.938Z"
   },
   {
    "duration": 1978,
    "start_time": "2023-04-28T15:28:08.333Z"
   },
   {
    "duration": 1942,
    "start_time": "2023-04-28T15:28:11.165Z"
   },
   {
    "duration": 1677,
    "start_time": "2023-04-28T15:28:13.174Z"
   },
   {
    "duration": 1214,
    "start_time": "2023-04-28T15:28:47.825Z"
   },
   {
    "duration": 968,
    "start_time": "2023-04-28T15:29:13.406Z"
   },
   {
    "duration": 6,
    "start_time": "2023-04-28T15:33:05.088Z"
   },
   {
    "duration": 691,
    "start_time": "2023-04-28T15:33:05.239Z"
   },
   {
    "duration": 9,
    "start_time": "2023-04-28T15:33:05.932Z"
   },
   {
    "duration": 8,
    "start_time": "2023-04-28T15:33:05.943Z"
   },
   {
    "duration": 19,
    "start_time": "2023-04-28T15:33:05.954Z"
   },
   {
    "duration": 521,
    "start_time": "2023-04-28T15:33:06.009Z"
   },
   {
    "duration": 8,
    "start_time": "2023-04-28T15:33:06.632Z"
   },
   {
    "duration": 8,
    "start_time": "2023-04-28T15:33:06.871Z"
   },
   {
    "duration": 8,
    "start_time": "2023-04-28T15:33:07.402Z"
   },
   {
    "duration": 547,
    "start_time": "2023-04-28T15:33:07.975Z"
   },
   {
    "duration": 8,
    "start_time": "2023-04-28T15:33:09.984Z"
   },
   {
    "duration": 10,
    "start_time": "2023-04-28T15:33:10.202Z"
   },
   {
    "duration": 33,
    "start_time": "2023-04-28T15:33:10.602Z"
   },
   {
    "duration": 8,
    "start_time": "2023-04-28T15:53:57.261Z"
   },
   {
    "duration": 5,
    "start_time": "2023-04-28T15:53:57.965Z"
   },
   {
    "duration": 11,
    "start_time": "2023-04-28T15:53:58.253Z"
   },
   {
    "duration": 4,
    "start_time": "2023-04-28T15:53:59.358Z"
   },
   {
    "duration": 109,
    "start_time": "2023-04-28T16:31:32.141Z"
   },
   {
    "duration": 215,
    "start_time": "2023-04-28T16:32:46.848Z"
   },
   {
    "duration": 20,
    "start_time": "2023-04-28T16:33:17.340Z"
   },
   {
    "duration": 5,
    "start_time": "2023-04-28T16:33:20.276Z"
   },
   {
    "duration": 26593,
    "start_time": "2023-04-28T16:33:20.651Z"
   },
   {
    "duration": 4,
    "start_time": "2023-04-28T16:36:04.934Z"
   },
   {
    "duration": 188711,
    "start_time": "2023-04-28T16:36:05.314Z"
   },
   {
    "duration": 8,
    "start_time": "2023-04-28T16:45:46.069Z"
   },
   {
    "duration": 370,
    "start_time": "2023-04-28T16:45:47.451Z"
   },
   {
    "duration": 1622,
    "start_time": "2023-04-28T16:46:08.172Z"
   },
   {
    "duration": 60,
    "start_time": "2023-04-28T21:14:50.043Z"
   },
   {
    "duration": 9,
    "start_time": "2023-04-28T21:17:00.561Z"
   },
   {
    "duration": 39,
    "start_time": "2023-04-28T21:24:33.037Z"
   },
   {
    "duration": 902,
    "start_time": "2023-04-28T21:24:33.537Z"
   },
   {
    "duration": 16,
    "start_time": "2023-04-28T21:24:34.441Z"
   },
   {
    "duration": 4,
    "start_time": "2023-04-28T21:24:34.458Z"
   },
   {
    "duration": 312,
    "start_time": "2023-04-28T21:24:34.464Z"
   },
   {
    "duration": 187,
    "start_time": "2023-04-28T21:24:34.778Z"
   },
   {
    "duration": 332,
    "start_time": "2023-04-28T21:24:34.968Z"
   },
   {
    "duration": 4,
    "start_time": "2023-04-28T21:24:35.302Z"
   },
   {
    "duration": 30,
    "start_time": "2023-04-28T21:24:35.308Z"
   },
   {
    "duration": 6,
    "start_time": "2023-04-28T21:24:35.339Z"
   },
   {
    "duration": 3,
    "start_time": "2023-04-28T21:24:35.348Z"
   },
   {
    "duration": 15,
    "start_time": "2023-04-28T21:24:35.353Z"
   },
   {
    "duration": 24,
    "start_time": "2023-04-28T21:24:35.371Z"
   },
   {
    "duration": 35,
    "start_time": "2023-04-28T21:24:35.397Z"
   },
   {
    "duration": 10,
    "start_time": "2023-04-28T21:24:35.434Z"
   },
   {
    "duration": 12,
    "start_time": "2023-04-28T21:24:35.446Z"
   },
   {
    "duration": 1291,
    "start_time": "2023-04-28T21:24:35.460Z"
   },
   {
    "duration": 1578,
    "start_time": "2023-04-28T21:24:36.753Z"
   },
   {
    "duration": 1411,
    "start_time": "2023-04-28T21:24:38.333Z"
   },
   {
    "duration": 1193,
    "start_time": "2023-04-28T21:24:39.746Z"
   },
   {
    "duration": 958,
    "start_time": "2023-04-28T21:24:40.942Z"
   },
   {
    "duration": 20,
    "start_time": "2023-04-28T21:24:41.902Z"
   },
   {
    "duration": 13,
    "start_time": "2023-04-28T21:24:41.927Z"
   },
   {
    "duration": 8,
    "start_time": "2023-04-28T21:24:41.944Z"
   },
   {
    "duration": 610,
    "start_time": "2023-04-28T21:24:41.956Z"
   },
   {
    "duration": 7,
    "start_time": "2023-04-28T21:24:42.568Z"
   },
   {
    "duration": 20,
    "start_time": "2023-04-28T21:24:42.577Z"
   },
   {
    "duration": 13,
    "start_time": "2023-04-28T21:24:42.602Z"
   },
   {
    "duration": 890,
    "start_time": "2023-04-28T21:24:42.617Z"
   },
   {
    "duration": 9,
    "start_time": "2023-04-28T21:24:43.509Z"
   },
   {
    "duration": 12,
    "start_time": "2023-04-28T21:24:43.520Z"
   },
   {
    "duration": 7,
    "start_time": "2023-04-28T21:24:43.535Z"
   },
   {
    "duration": 520,
    "start_time": "2023-04-28T21:24:43.544Z"
   },
   {
    "duration": 9,
    "start_time": "2023-04-28T21:24:44.066Z"
   },
   {
    "duration": 30,
    "start_time": "2023-04-28T21:24:44.077Z"
   },
   {
    "duration": 31,
    "start_time": "2023-04-28T21:24:44.109Z"
   },
   {
    "duration": 13,
    "start_time": "2023-04-28T21:24:44.142Z"
   },
   {
    "duration": 15,
    "start_time": "2023-04-28T21:24:44.157Z"
   },
   {
    "duration": 11,
    "start_time": "2023-04-28T21:24:44.173Z"
   },
   {
    "duration": 16,
    "start_time": "2023-04-28T21:24:44.186Z"
   },
   {
    "duration": 5,
    "start_time": "2023-04-28T21:24:44.211Z"
   },
   {
    "duration": 20254,
    "start_time": "2023-04-28T21:24:44.219Z"
   },
   {
    "duration": 3,
    "start_time": "2023-04-28T21:25:04.476Z"
   },
   {
    "duration": 163381,
    "start_time": "2023-04-28T21:25:04.481Z"
   },
   {
    "duration": 2234,
    "start_time": "2023-04-28T21:27:47.864Z"
   },
   {
    "duration": 6,
    "start_time": "2023-04-28T21:27:50.109Z"
   },
   {
    "duration": 679,
    "start_time": "2023-04-28T21:27:50.117Z"
   },
   {
    "duration": 12,
    "start_time": "2023-04-28T21:27:50.801Z"
   },
   {
    "duration": 83,
    "start_time": "2023-04-28T21:27:50.817Z"
   }
  ],
  "kernelspec": {
   "display_name": "Python 3 (ipykernel)",
   "language": "python",
   "name": "python3"
  },
  "language_info": {
   "codemirror_mode": {
    "name": "ipython",
    "version": 3
   },
   "file_extension": ".py",
   "mimetype": "text/x-python",
   "name": "python",
   "nbconvert_exporter": "python",
   "pygments_lexer": "ipython3",
   "version": "3.9.5"
  },
  "toc": {
   "base_numbering": 1,
   "nav_menu": {},
   "number_sections": true,
   "sideBar": true,
   "skip_h1_title": true,
   "title_cell": "Содержание",
   "title_sidebar": "Contents",
   "toc_cell": true,
   "toc_position": {
    "height": "calc(100% - 180px)",
    "left": "10px",
    "top": "150px",
    "width": "165px"
   },
   "toc_section_display": true,
   "toc_window_display": false
  }
 },
 "nbformat": 4,
 "nbformat_minor": 2
}
