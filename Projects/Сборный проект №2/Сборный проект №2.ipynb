{
 "cells": [
  {
   "cell_type": "markdown",
   "metadata": {},
   "source": [
    "# Восстановление золота из руды"
   ]
  },
  {
   "cell_type": "markdown",
   "metadata": {},
   "source": [
    "Подготовьте прототип модели машинного обучения для «Цифры». Компания разрабатывает решения для эффективной работы промышленных предприятий.\n",
    "\n",
    "Модель должна предсказать коэффициент восстановления золота из золотосодержащей руды. Используйте данные с параметрами добычи и очистки. \n",
    "\n",
    "Модель поможет оптимизировать производство, чтобы не запускать предприятие с убыточными характеристиками.\n",
    "\n",
    "Вам нужно:\n",
    "\n",
    "1. Подготовить данные;\n",
    "2. Провести исследовательский анализ данных;\n",
    "3. Построить и обучить модель.\n",
    "\n",
    "Чтобы выполнить проект, обращайтесь к библиотекам *pandas*, *matplotlib* и *sklearn.* Вам поможет их документация."
   ]
  },
  {
   "cell_type": "markdown",
   "metadata": {},
   "source": [
    "## Подготовка данных"
   ]
  },
  {
   "cell_type": "markdown",
   "metadata": {},
   "source": [
    "### Откройте файлы и изучите их"
   ]
  },
  {
   "cell_type": "code",
   "execution_count": null,
   "metadata": {},
   "outputs": [],
   "source": [
    "import pandas as pd\n",
    "\n",
    "import numpy as np\n",
    "from numpy.random import RandomState\n",
    "\n",
    "from sklearn.metrics import mean_absolute_error\n",
    "from sklearn.metrics import make_scorer\n",
    "from sklearn.model_selection import GridSearchCV\n",
    "from sklearn.ensemble import RandomForestRegressor\n",
    "from sklearn.tree import DecisionTreeRegressor\n",
    "from sklearn.linear_model import LinearRegression\n",
    "from sklearn.model_selection import cross_val_score\n",
    "from sklearn.model_selection import RandomizedSearchCV\n",
    "from sklearn.dummy import DummyRegressor\n",
    "\n",
    "import matplotlib.pyplot as plt\n",
    "\n",
    "from IPython.core.display import display, HTML\n",
    "display(HTML(\"<style>.container { width:90% !important; }</style>\"))\n",
    "\n",
    "from scipy.stats import ks_2samp\n",
    "from scipy.stats import iqr\n",
    "\n",
    "import warnings\n",
    "warnings.filterwarnings(\"ignore\")\n",
    "\n",
    "\n",
    "from tqdm import tqdm\n",
    "\n",
    "TARGETS = ['rougher.output.recovery', 'final.output.recovery']"
   ]
  },
  {
   "cell_type": "code",
   "execution_count": null,
   "metadata": {},
   "outputs": [],
   "source": [
    "data_train = pd.read_csv(\"/datasets/gold_recovery_train_new.csv\")\n",
    "data_test = pd.read_csv(\"/datasets/gold_recovery_test_new.csv\")\n",
    "data_full = pd.read_csv(\"/datasets/gold_recovery_full_new.csv\")"
   ]
  },
  {
   "cell_type": "code",
   "execution_count": null,
   "metadata": {},
   "outputs": [],
   "source": [
    "data_train = data_train.set_index('date')\n",
    "data_test = data_test.set_index('date')\n",
    "data_full = data_full.set_index('date')"
   ]
  },
  {
   "cell_type": "code",
   "execution_count": null,
   "metadata": {
    "scrolled": true
   },
   "outputs": [],
   "source": [
    "def info(data):\n",
    "    rows, columns = data.shape\n",
    "    print('Количество строк:', rows)\n",
    "    print('Количество столбцов:', columns)\n",
    "    display(data.head(5))\n",
    "    display(data.describe())\n",
    "    data.info()"
   ]
  },
  {
   "cell_type": "code",
   "execution_count": null,
   "metadata": {
    "scrolled": true
   },
   "outputs": [],
   "source": [
    "info(data_train)"
   ]
  },
  {
   "cell_type": "code",
   "execution_count": null,
   "metadata": {
    "scrolled": true
   },
   "outputs": [],
   "source": [
    "info(data_test)"
   ]
  },
  {
   "cell_type": "code",
   "execution_count": null,
   "metadata": {
    "scrolled": true
   },
   "outputs": [],
   "source": [
    "info(data_full)"
   ]
  },
  {
   "cell_type": "markdown",
   "metadata": {},
   "source": [
    "*Вывод: во всех таблицах есть пропуски. Ну и как было сказанно в описании проекта - в тестовой выборке отсутсвуют некоторые признаки из обучающей. Также, все данные имеют тип float.*"
   ]
  },
  {
   "cell_type": "markdown",
   "metadata": {},
   "source": [
    "###  Проверка эффективности обогащения"
   ]
  },
  {
   "cell_type": "code",
   "execution_count": null,
   "metadata": {},
   "outputs": [],
   "source": [
    "def recovery_calculate(c, f, t):\n",
    "    recovery = (c * (f - t)) / (f * (c - t)) * 100\n",
    "    return recovery"
   ]
  },
  {
   "cell_type": "markdown",
   "metadata": {},
   "source": [
    "C — доля золота в концентрате после флотации/очистки;\n",
    "F — доля золота в сырье/концентрате до флотации/очистки;\n",
    "T — доля золота в отвальных хвостах после флотации/очистки."
   ]
  },
  {
   "cell_type": "code",
   "execution_count": null,
   "metadata": {},
   "outputs": [],
   "source": [
    "recovery = recovery_calculate(data_train['rougher.output.concentrate_au'],\n",
    "                  data_train['rougher.input.feed_au'],\n",
    "                  data_train['rougher.output.tail_au'])\n",
    "mae_recovery = mean_absolute_error(data_train['rougher.output.recovery'].dropna(), recovery.dropna())\n",
    "print('MAE равно:', mae_recovery)"
   ]
  },
  {
   "cell_type": "markdown",
   "metadata": {},
   "source": [
    "*Вывод: средняя абсолютная ошибка между признаком и рассчитанной величиной крайне мала, из чего можно сделать вывод, что признак в таблице посчитан верно.*"
   ]
  },
  {
   "cell_type": "markdown",
   "metadata": {},
   "source": [
    "### Анализ признаков, недоступных в тестовой выборке"
   ]
  },
  {
   "cell_type": "code",
   "execution_count": null,
   "metadata": {
    "scrolled": true
   },
   "outputs": [],
   "source": [
    "missing_columns = []\n",
    "for col in range(len(data_train.columns)):\n",
    "    if data_train.columns[col] not in data_test.columns:\n",
    "        missing_columns.append(data_train.columns[col])\n",
    "missing_columns"
   ]
  },
  {
   "cell_type": "markdown",
   "metadata": {},
   "source": [
    "*Вывод: признаки с calculation скорее всего отсутствуют из-за того, что он рассчитывается значительно позже процесса. Признаки с output отсутсвуют так как они являются целевыми.*"
   ]
  },
  {
   "cell_type": "markdown",
   "metadata": {},
   "source": [
    "### Предобработка данных\n"
   ]
  },
  {
   "cell_type": "markdown",
   "metadata": {},
   "source": [
    "Посчитаем долю пропусков в столбцых таблиц."
   ]
  },
  {
   "cell_type": "code",
   "execution_count": null,
   "metadata": {},
   "outputs": [],
   "source": [
    "def na_perc(data):\n",
    "    print((data.isna().sum() / data.shape[0] * 100)\n",
    "          .sort_values(ascending=False))"
   ]
  },
  {
   "cell_type": "code",
   "execution_count": null,
   "metadata": {
    "scrolled": true
   },
   "outputs": [],
   "source": [
    "na_perc(data_train)"
   ]
  },
  {
   "cell_type": "code",
   "execution_count": null,
   "metadata": {
    "scrolled": true
   },
   "outputs": [],
   "source": [
    "na_perc(data_test)"
   ]
  },
  {
   "cell_type": "markdown",
   "metadata": {},
   "source": [
    "Добавим целевые признаки в тестовую выборку из полной выборки."
   ]
  },
  {
   "cell_type": "code",
   "execution_count": null,
   "metadata": {},
   "outputs": [],
   "source": [
    "print(data_test.shape)\n",
    "data_test = data_test.merge(data_full[TARGETS]\n",
    "                            .loc[data_test.index], on='date', how='left')\n",
    "\n",
    "print(data_test.shape)"
   ]
  },
  {
   "cell_type": "markdown",
   "metadata": {},
   "source": [
    "Удалять пропуски нельзя, так как я уже пытался это делать и там уйдут 23% данных, а это много. Поэтому заполняем их. Так как по условию сказанно, что соседние значения похожи - применяем метод filna с параметром method='bfill' или 'ffill'."
   ]
  },
  {
   "cell_type": "code",
   "execution_count": null,
   "metadata": {},
   "outputs": [],
   "source": [
    "data_train = data_train.fillna(method='ffill')\n",
    "data_test = data_test.fillna(method='ffill')"
   ]
  },
  {
   "cell_type": "code",
   "execution_count": null,
   "metadata": {},
   "outputs": [],
   "source": [
    "print('Количество пропусков в обучающей выборке:', data_train.isna().sum().sum())\n",
    "print('Количество пропусков в тестовой выборке:', data_test.isna().sum().sum())"
   ]
  },
  {
   "cell_type": "markdown",
   "metadata": {},
   "source": [
    "## Анализ данных"
   ]
  },
  {
   "cell_type": "markdown",
   "metadata": {},
   "source": [
    " ### Изменение концентрации металлов (Au, Ag, Pb) на различных этапах очистки"
   ]
  },
  {
   "cell_type": "code",
   "execution_count": null,
   "metadata": {},
   "outputs": [],
   "source": [
    "plt.figure()\n",
    "data_full[['rougher.input.feed_au', 'rougher.output.concentrate_au', \n",
    "           'primary_cleaner.output.concentrate_au', 'final.output.concentrate_au']].plot(\n",
    "title='Изменение концентрации Au на разных этапах очистки',\n",
    "kind='hist',\n",
    "grid=True,\n",
    "legend=True,\n",
    "bins=150,\n",
    "figsize=(18, 5),\n",
    "alpha=0.6)\n",
    "\n",
    "plt.xlabel('Концентрация')\n",
    "plt.axvline(data_full['rougher.input.feed_au'].mean(), ls='--', label='Средняя концентрация до флотации')\n",
    "plt.axvline(data_full['rougher.output.concentrate_au'].mean(), ls='--', label='Средняя концентрация после флотации', c='m')\n",
    "plt.axvline(data_full['primary_cleaner.output.concentrate_au'].mean(), ls='--', label='Средняя концентрация после первой очистки', c='g')\n",
    "plt.axvline(data_full['final.output.concentrate_au'].mean(), ls='--', label='Средняя концентрация после второй очистки', c='r')\n",
    "\n",
    "plt.legend(loc='upper right', borderaxespad= 0, bbox_to_anchor=( 1.23, 1 ))"
   ]
  },
  {
   "cell_type": "markdown",
   "metadata": {},
   "source": [
    "Средняя концентрация зололта на разных этапах очистки увеличивается."
   ]
  },
  {
   "cell_type": "code",
   "execution_count": null,
   "metadata": {},
   "outputs": [],
   "source": [
    "data_full[['rougher.input.feed_ag', 'rougher.output.concentrate_ag', \n",
    "           'primary_cleaner.output.concentrate_ag', 'final.output.concentrate_ag']].plot(\n",
    "title='Изменение концентрации Ag на разных этапах очистки',\n",
    "kind='hist',\n",
    "grid=True,\n",
    "legend=True,\n",
    "bins=150,\n",
    "figsize=(18, 5),\n",
    "alpha=0.6)\n",
    "plt.axvline(data_full['rougher.input.feed_ag'].mean(), ls='--', label='Средняя концентрация до флотации')\n",
    "plt.axvline(data_full['rougher.output.concentrate_ag'].mean(), ls='--', label='Средняя концентрация после флотации', c='m')\n",
    "plt.axvline(data_full['primary_cleaner.output.concentrate_ag'].mean(), ls='--', label='Средняя концентрация после первой очистки', c='g')\n",
    "plt.axvline(data_full['final.output.concentrate_ag'].mean(), ls='--', label='Средняя концентрация после второй очистки', c='r')\n",
    "plt.legend(loc='upper right', borderaxespad= 0, bbox_to_anchor=( 1.23, 1 ))\n",
    "plt.xlabel('Концентрация')"
   ]
  },
  {
   "cell_type": "markdown",
   "metadata": {},
   "source": [
    "Концентрация серебра после этапа флотации увеличилась, а на дальнейших этапах снижалась."
   ]
  },
  {
   "cell_type": "code",
   "execution_count": null,
   "metadata": {},
   "outputs": [],
   "source": [
    "data_full[['rougher.input.feed_pb', 'rougher.output.concentrate_pb', \n",
    "           'primary_cleaner.output.concentrate_pb', 'final.output.concentrate_pb']].plot(\n",
    "title='Изменение концентрации Pb на разных этапах очистки',\n",
    "kind='hist',\n",
    "grid=True,\n",
    "legend=True,\n",
    "bins=150,\n",
    "figsize=(18, 5),\n",
    "alpha=0.6)\n",
    "plt.axvline(data_full['rougher.input.feed_pb'].mean(), ls='--', label='Средняя концентрация до флотации')\n",
    "plt.axvline(data_full['rougher.output.concentrate_pb'].mean(), ls='--', label='Средняя концентрация после флотации', c='m')\n",
    "plt.axvline(data_full['primary_cleaner.output.concentrate_pb'].mean(), ls='--', label='Средняя концентрация после первой очистки', c='g')\n",
    "plt.axvline(data_full['final.output.concentrate_pb'].mean(), ls='--', label='Средняя концентрация после второй очистки', c='r')\n",
    "plt.legend(loc='upper right', borderaxespad= 0, bbox_to_anchor=( 1.23, 1 ))\n",
    "plt.xlabel('Концентрация')"
   ]
  },
  {
   "cell_type": "markdown",
   "metadata": {},
   "source": [
    "Концентрация свинца увеличививается, но после первичной очистки увеличение очень незначительное."
   ]
  },
  {
   "cell_type": "markdown",
   "metadata": {},
   "source": [
    "### Распределения размеров гранул сырья на обучающей и тестовой выборках"
   ]
  },
  {
   "cell_type": "code",
   "execution_count": null,
   "metadata": {},
   "outputs": [],
   "source": [
    "plt.figure(figsize=(20,5))\n",
    "data_train['rougher.input.feed_size'].hist(bins=200, alpha=0.5, label='train', range=(0,150), density=True)\n",
    "data_test['rougher.input.feed_size'].hist(bins=200, alpha=0.5, label='test', range=(0,150), density=True)\n",
    "plt.xlabel('Размер')\n",
    "plt.legend()\n",
    "plt.title('Размер гранул на этапе флотации')"
   ]
  },
  {
   "cell_type": "code",
   "execution_count": null,
   "metadata": {},
   "outputs": [],
   "source": [
    "plt.figure(figsize=(20,5))\n",
    "data_train['primary_cleaner.input.feed_size'].hist(bins=200, alpha=0.5, label='train', range=(5,10), density=True)\n",
    "data_test['primary_cleaner.input.feed_size'].hist(bins=200, alpha=0.5, label='test', range=(5,10), density=True)\n",
    "plt.xlabel('Размер')\n",
    "plt.legend()\n",
    "plt.title('Размер гранул на этапе первой очситки')"
   ]
  },
  {
   "cell_type": "markdown",
   "metadata": {},
   "source": [
    "Также для сравнения распределений хочу применить тест Колмогорова-Смирнова."
   ]
  },
  {
   "cell_type": "code",
   "execution_count": null,
   "metadata": {},
   "outputs": [],
   "source": [
    "stat, p_value = ks_2samp(data_train['rougher.input.feed_size'], data_test['rougher.input.feed_size'])\n",
    "print(f'Kolmogorov-Smirnov Test: statistic={stat:.4f}, p-value={p_value}')"
   ]
  },
  {
   "cell_type": "markdown",
   "metadata": {},
   "source": [
    "Значение p-value ниже 5%, поэтому отвергаем нулевую гипотезу об одинаковости двух распределений."
   ]
  },
  {
   "cell_type": "code",
   "execution_count": null,
   "metadata": {},
   "outputs": [],
   "source": [
    "stat, p_value = ks_2samp(data_train['primary_cleaner.input.feed_size'], data_test['primary_cleaner.input.feed_size'])\n",
    "print(f'Kolmogorov-Smirnov Test: statistic={stat:.4f}, p-value={p_value}')"
   ]
  },
  {
   "cell_type": "markdown",
   "metadata": {},
   "source": [
    "Вывод: распределения различаются из-за большого количества наблюдений в обучающей выборке. Но визуально распределения похожи."
   ]
  },
  {
   "cell_type": "markdown",
   "metadata": {},
   "source": [
    "### Исследование суммарной концентрации всех веществ на разных стадиях: в сырье, в черновом и финальном концентратах"
   ]
  },
  {
   "cell_type": "markdown",
   "metadata": {},
   "source": [
    "#### Исследование суммарной концентрации всех веществ на стадии сырья."
   ]
  },
  {
   "cell_type": "code",
   "execution_count": null,
   "metadata": {},
   "outputs": [],
   "source": [
    "sum_rougher_feed = data_full[['rougher.input.feed_ag', \n",
    "                   'rougher.input.feed_pb', \n",
    "                   'rougher.input.feed_sol', \n",
    "                   'rougher.input.feed_au']].sum(axis=1)\n"
   ]
  },
  {
   "cell_type": "code",
   "execution_count": null,
   "metadata": {},
   "outputs": [],
   "source": [
    "sum_rougher_feed.hist(bins=250, figsize=(20,7))\n",
    "plt.title('Суммарная концентрация всех веществ в сырье')"
   ]
  },
  {
   "cell_type": "code",
   "execution_count": null,
   "metadata": {},
   "outputs": [],
   "source": [
    "print(f'Границы нормальных значений: ({round(sum_rougher_feed.quantile(0.25) - 1.5 * iqr(sum_rougher_feed), 2)}, {round(sum_rougher_feed.quantile(0.75) + 1.5 * iqr(sum_rougher_feed), 2)})')"
   ]
  },
  {
   "cell_type": "code",
   "execution_count": null,
   "metadata": {},
   "outputs": [],
   "source": [
    "data_train['sum_rougher_feed'] = sum_rougher_feed"
   ]
  },
  {
   "cell_type": "markdown",
   "metadata": {},
   "source": [
    "#### Исследование суммарной концентрации всех веществ на чернового концентрата."
   ]
  },
  {
   "cell_type": "code",
   "execution_count": null,
   "metadata": {},
   "outputs": [],
   "source": [
    "sum_rougher_conc = data_full[['rougher.output.concentrate_pb', \n",
    "                   'rougher.output.concentrate_ag', \n",
    "                   'rougher.output.concentrate_sol', \n",
    "                   'rougher.output.concentrate_au']].sum(axis=1)"
   ]
  },
  {
   "cell_type": "code",
   "execution_count": null,
   "metadata": {},
   "outputs": [],
   "source": [
    "sum_rougher_conc.hist(bins=250, figsize=(20,7))\n",
    "plt.title('Суммарная концентрация всех веществ в черновом концентрате')"
   ]
  },
  {
   "cell_type": "code",
   "execution_count": null,
   "metadata": {},
   "outputs": [],
   "source": [
    "print(f'Границы нормальных значений: ({round(sum_rougher_conc.quantile(0.25) - 1.5 * iqr(sum_rougher_conc), 2)}, {round(sum_rougher_conc.quantile(0.75) + 1.5 * iqr(sum_rougher_conc), 2)})')"
   ]
  },
  {
   "cell_type": "code",
   "execution_count": null,
   "metadata": {},
   "outputs": [],
   "source": [
    "data_train['sum_rougher_conc'] = sum_rougher_conc"
   ]
  },
  {
   "cell_type": "markdown",
   "metadata": {},
   "source": [
    "#### Исследование суммарной концентрации всех веществ на стадии финального концентрата."
   ]
  },
  {
   "cell_type": "code",
   "execution_count": null,
   "metadata": {},
   "outputs": [],
   "source": [
    "sum_final_conc = data_full[['final.output.concentrate_pb', \n",
    "                   'final.output.concentrate_ag', \n",
    "                   'final.output.concentrate_sol', \n",
    "                   'final.output.concentrate_au']].sum(axis=1)"
   ]
  },
  {
   "cell_type": "code",
   "execution_count": null,
   "metadata": {},
   "outputs": [],
   "source": [
    "sum_final_conc.hist(bins=250, figsize=(20,7))\n",
    "plt.title('Суммарная концентрация всех веществ в финальном концентрате')"
   ]
  },
  {
   "cell_type": "code",
   "execution_count": null,
   "metadata": {},
   "outputs": [],
   "source": [
    "print(f'Границы нормальных значений: ({round(sum_final_conc.quantile(0.25) - 1.5 * iqr(sum_final_conc), 2)}, {round(sum_final_conc.quantile(0.75) + 1.5 * iqr(sum_final_conc), 2)})')"
   ]
  },
  {
   "cell_type": "code",
   "execution_count": null,
   "metadata": {},
   "outputs": [],
   "source": [
    "data_train['sum_final_conc'] = sum_final_conc"
   ]
  },
  {
   "cell_type": "markdown",
   "metadata": {},
   "source": [
    "Избавимся от аномалий в обучающей выборке.\n"
   ]
  },
  {
   "cell_type": "code",
   "execution_count": null,
   "metadata": {},
   "outputs": [],
   "source": [
    "print(data_train.shape)\n",
    "data_train = data_train.loc[(40.84 < data_train['sum_rougher_feed']) & (data_train['sum_rougher_feed'] < 74.62)]\n",
    "\n",
    "data_train = data_train.loc[(53.47 < data_train['sum_rougher_conc']) & (data_train['sum_rougher_conc'] < 86.89)]\n",
    "\n",
    "data_train = data_train.loc[(62.77 < data_train['sum_final_conc']) & (data_train['sum_final_conc'] < 76.53)]\n",
    "print(data_train.shape)"
   ]
  },
  {
   "cell_type": "markdown",
   "metadata": {},
   "source": [
    "*Вывод: Мы удалили 13.5% значений из обучающей выборки, поскольку они были аномальными.*"
   ]
  },
  {
   "cell_type": "markdown",
   "metadata": {},
   "source": [
    "## Модель"
   ]
  },
  {
   "cell_type": "markdown",
   "metadata": {},
   "source": [
    "Удалим признаки, которых нет в тестовой выборке, из обучающей выборки."
   ]
  },
  {
   "cell_type": "code",
   "execution_count": null,
   "metadata": {
    "scrolled": true
   },
   "outputs": [],
   "source": [
    "data_train = data_train.drop(set(missing_columns) - set(TARGETS), axis='columns')\n",
    "data_train.shape"
   ]
  },
  {
   "cell_type": "markdown",
   "metadata": {},
   "source": [
    "### Функция для вычисления итоговой sMAPE"
   ]
  },
  {
   "cell_type": "code",
   "execution_count": null,
   "metadata": {},
   "outputs": [],
   "source": [
    "def smape_calculate(target, predictions):\n",
    "    x = np.abs(target - predictions)\n",
    "    y = np.abs(target + predictions)\n",
    "    return 1 / len(target) * np.sum(x / (y / 2)) *100\n",
    "\n",
    "def final_smape_calculate(target, predictions):\n",
    "    target_r = target['rougher.output.recovery']\n",
    "    target_f = target['final.output.recovery']\n",
    "    pred_r = predictions[:, 0]\n",
    "    pred_f = predictions[:, 1]\n",
    "    return 0.25 * smape_calculate(target_r, pred_r) + 0.75 * smape_calculate(target_f, pred_f)"
   ]
  },
  {
   "cell_type": "code",
   "execution_count": null,
   "metadata": {},
   "outputs": [],
   "source": [
    "features_train = data_train.drop(TARGETS, axis='columns')\n",
    "target_train = data_train[TARGETS]\n",
    "features_test = data_test.drop(TARGETS, axis='columns')\n",
    "target_test = data_test[TARGETS]"
   ]
  },
  {
   "cell_type": "code",
   "execution_count": null,
   "metadata": {},
   "outputs": [],
   "source": [
    "scorer = make_scorer(final_smape_calculate, greater_is_better=False)"
   ]
  },
  {
   "cell_type": "markdown",
   "metadata": {},
   "source": [
    "### Обучение моделей"
   ]
  },
  {
   "cell_type": "markdown",
   "metadata": {},
   "source": [
    "#### Дерево решений"
   ]
  },
  {
   "cell_type": "code",
   "execution_count": null,
   "metadata": {},
   "outputs": [],
   "source": [
    "params_DT= {\"max_depth\": range(1, 15)}"
   ]
  },
  {
   "cell_type": "code",
   "execution_count": null,
   "metadata": {},
   "outputs": [],
   "source": [
    "state = RandomState(12345)\n",
    "\n",
    "model_DT = RandomizedSearchCV(DecisionTreeRegressor(random_state=state), params_DT, scoring = scorer, cv=5)\n",
    "model_DT.fit(features_train, target_train)\n",
    "print(f'Лучшее sMape для дерева решений: {-model_DT.best_score_} при гиперпараметрах: {model_DT.best_params_}')"
   ]
  },
  {
   "cell_type": "markdown",
   "metadata": {},
   "source": [
    "#### Случайный лес"
   ]
  },
  {
   "cell_type": "code",
   "execution_count": null,
   "metadata": {},
   "outputs": [],
   "source": [
    "params_RF = {'n_estimators' : range(10, 31, 10)}"
   ]
  },
  {
   "cell_type": "code",
   "execution_count": null,
   "metadata": {},
   "outputs": [],
   "source": [
    "for i in tqdm(range(0, 1), desc =\"Готовность\"):\n",
    "    model_RF = RandomizedSearchCV(RandomForestRegressor(random_state=state),params_RF, cv=5, scoring=scorer)\n",
    "    model_RF.fit(features_train, target_train)\n",
    "print(f'Лучшее sMape для случайного леса: {-model_RF.best_score_} при гиперпараметрах: {model_RF.best_params_}')"
   ]
  },
  {
   "cell_type": "markdown",
   "metadata": {},
   "source": [
    "#### Линейная регрессия"
   ]
  },
  {
   "cell_type": "code",
   "execution_count": null,
   "metadata": {},
   "outputs": [],
   "source": [
    "model_LR = LinearRegression()\n",
    "model_LR.fit(features_train, target_train)\n",
    "score = cross_val_score(model_LR, features_train, target_train, cv=5, scoring=scorer)\n",
    "print(f'Лучшее sMape для линейной регрессии: {-(max(score))}')"
   ]
  },
  {
   "cell_type": "markdown",
   "metadata": {},
   "source": [
    "Лушчая модель -  линейная регрессия. Для проверки тестовой выборки будем использовать ее."
   ]
  },
  {
   "cell_type": "code",
   "execution_count": null,
   "metadata": {},
   "outputs": [],
   "source": [
    "features_train = features_train.drop(['sum_final_conc', 'sum_rougher_conc', 'sum_rougher_feed'], axis=1)"
   ]
  },
  {
   "cell_type": "code",
   "execution_count": null,
   "metadata": {
    "scrolled": true
   },
   "outputs": [],
   "source": [
    "model_LR = LinearRegression()\n",
    "model_LR.fit(features_train, target_train)\n",
    "pred = model_LR.predict(features_test)\n",
    "print(f'smMAPE для тестовой выборки равна: {final_smape_calculate(target_test, pred)}')"
   ]
  },
  {
   "cell_type": "code",
   "execution_count": null,
   "metadata": {},
   "outputs": [],
   "source": [
    "const_model = DummyRegressor(strategy = 'median')\n",
    "const_model.fit(features_train, target_train)\n",
    "pred = const_model.predict(features_test)\n",
    "print(f'smMAPE константной модели для тестовой выборки равна: {final_smape_calculate(target_test, pred)}')"
   ]
  },
  {
   "cell_type": "markdown",
   "metadata": {},
   "source": [
    "*Вывод:*\n",
    "\n",
    "*1)в ходе исследования я провел предобработку данных;*\n",
    "\n",
    "*2)посмотрел, как меняется концентрация металлов (Au, Ag, Pb) на различных этапах очистки;*\n",
    "\n",
    "*3)сравнил распределения размеров гранул сырья на обучающей и тестовой выборках;*\n",
    "\n",
    "*4)исследовал суммарную концентрацию всех веществ на разных стадиях: в сырье, в черновом и финальном концентратах;* \n",
    "\n",
    "*5)в конце мне было необходимо построить модель, которая предсказывает коэффициент восстановления золота из золотосодержащей руды. Из рассмотренных мной моделей лучше всех проявила себя линейная регрессия, на тестовой выборке она показала себя чуть лучше константной модели*"
   ]
  }
 ],
 "metadata": {
  "ExecuteTimeLog": [
   {
    "duration": 463,
    "start_time": "2023-04-26T08:24:40.705Z"
   },
   {
    "duration": 122,
    "start_time": "2023-04-26T08:24:41.235Z"
   },
   {
    "duration": 46,
    "start_time": "2023-04-26T08:25:11.603Z"
   },
   {
    "duration": 460,
    "start_time": "2023-04-26T08:25:21.283Z"
   },
   {
    "duration": 324,
    "start_time": "2023-04-26T08:25:34.831Z"
   },
   {
    "duration": 1192,
    "start_time": "2023-04-26T08:50:15.693Z"
   },
   {
    "duration": 2417,
    "start_time": "2023-04-26T08:50:28.679Z"
   },
   {
    "duration": 65,
    "start_time": "2023-04-26T08:51:11.339Z"
   },
   {
    "duration": 65,
    "start_time": "2023-04-26T08:51:27.458Z"
   },
   {
    "duration": 72,
    "start_time": "2023-04-26T08:51:33.062Z"
   },
   {
    "duration": 57,
    "start_time": "2023-04-26T08:51:36.575Z"
   },
   {
    "duration": 58,
    "start_time": "2023-04-26T08:51:41.566Z"
   },
   {
    "duration": 62,
    "start_time": "2023-04-26T08:51:44.612Z"
   },
   {
    "duration": 7,
    "start_time": "2023-04-26T09:06:29.679Z"
   },
   {
    "duration": 13,
    "start_time": "2023-04-26T09:07:11.910Z"
   },
   {
    "duration": 16,
    "start_time": "2023-04-26T10:09:33.017Z"
   },
   {
    "duration": 13,
    "start_time": "2023-04-26T10:10:51.168Z"
   },
   {
    "duration": 16,
    "start_time": "2023-04-26T10:11:02.656Z"
   },
   {
    "duration": 775,
    "start_time": "2023-04-26T10:17:55.701Z"
   },
   {
    "duration": 19,
    "start_time": "2023-04-26T10:17:59.246Z"
   },
   {
    "duration": 16,
    "start_time": "2023-04-26T10:18:00.222Z"
   },
   {
    "duration": 105,
    "start_time": "2023-04-26T10:18:50.395Z"
   },
   {
    "duration": 8,
    "start_time": "2023-04-26T10:18:54.021Z"
   },
   {
    "duration": 5,
    "start_time": "2023-04-26T10:25:41.612Z"
   },
   {
    "duration": 4,
    "start_time": "2023-04-26T10:28:09.066Z"
   },
   {
    "duration": 3,
    "start_time": "2023-04-26T10:28:55.891Z"
   },
   {
    "duration": 751,
    "start_time": "2023-04-26T10:28:56.090Z"
   },
   {
    "duration": 20,
    "start_time": "2023-04-26T10:28:56.844Z"
   },
   {
    "duration": 4,
    "start_time": "2023-04-26T10:28:57.154Z"
   },
   {
    "duration": 300,
    "start_time": "2023-04-26T10:29:09.507Z"
   },
   {
    "duration": 160,
    "start_time": "2023-04-26T10:29:48.797Z"
   },
   {
    "duration": 320,
    "start_time": "2023-04-26T10:29:58.626Z"
   },
   {
    "duration": 4,
    "start_time": "2023-04-26T11:45:57.406Z"
   },
   {
    "duration": 4,
    "start_time": "2023-04-26T11:47:22.456Z"
   },
   {
    "duration": 14,
    "start_time": "2023-04-26T11:47:34.016Z"
   },
   {
    "duration": 20,
    "start_time": "2023-04-26T11:48:30.233Z"
   },
   {
    "duration": 54,
    "start_time": "2023-04-26T11:51:24.546Z"
   },
   {
    "duration": 1156,
    "start_time": "2023-04-26T11:51:35.626Z"
   },
   {
    "duration": 68,
    "start_time": "2023-04-26T11:51:40.650Z"
   },
   {
    "duration": 10,
    "start_time": "2023-04-26T11:51:47.601Z"
   },
   {
    "duration": 1179,
    "start_time": "2023-04-26T11:57:59.451Z"
   },
   {
    "duration": 1055,
    "start_time": "2023-04-26T11:58:23.860Z"
   },
   {
    "duration": 34,
    "start_time": "2023-04-26T11:58:24.917Z"
   },
   {
    "duration": 17,
    "start_time": "2023-04-26T11:58:24.953Z"
   },
   {
    "duration": 5,
    "start_time": "2023-04-26T11:58:35.355Z"
   },
   {
    "duration": 30,
    "start_time": "2023-04-26T11:58:36.131Z"
   },
   {
    "duration": 13,
    "start_time": "2023-04-26T11:58:36.908Z"
   },
   {
    "duration": 6,
    "start_time": "2023-04-26T12:17:10.806Z"
   },
   {
    "duration": 11,
    "start_time": "2023-04-26T12:17:11.109Z"
   },
   {
    "duration": 13,
    "start_time": "2023-04-26T12:17:20.015Z"
   },
   {
    "duration": 5,
    "start_time": "2023-04-26T12:18:24.479Z"
   },
   {
    "duration": 119,
    "start_time": "2023-04-26T12:18:28.873Z"
   },
   {
    "duration": 13,
    "start_time": "2023-04-26T12:22:07.905Z"
   },
   {
    "duration": 13,
    "start_time": "2023-04-26T12:22:14.922Z"
   },
   {
    "duration": 4,
    "start_time": "2023-04-26T12:22:46.089Z"
   },
   {
    "duration": 12,
    "start_time": "2023-04-26T12:24:18.171Z"
   },
   {
    "duration": 3,
    "start_time": "2023-04-26T12:25:56.154Z"
   },
   {
    "duration": 9,
    "start_time": "2023-04-26T12:26:06.564Z"
   },
   {
    "duration": 6,
    "start_time": "2023-04-26T12:26:23.187Z"
   },
   {
    "duration": 6,
    "start_time": "2023-04-26T12:26:54.986Z"
   },
   {
    "duration": 3,
    "start_time": "2023-04-26T13:26:31.081Z"
   },
   {
    "duration": 12,
    "start_time": "2023-04-26T13:26:41.730Z"
   },
   {
    "duration": 9,
    "start_time": "2023-04-26T13:28:16.732Z"
   },
   {
    "duration": 1908,
    "start_time": "2023-04-26T13:30:41.804Z"
   },
   {
    "duration": 1262,
    "start_time": "2023-04-26T13:31:13.600Z"
   },
   {
    "duration": 20,
    "start_time": "2023-04-26T13:31:48.061Z"
   },
   {
    "duration": 19,
    "start_time": "2023-04-26T13:31:56.052Z"
   },
   {
    "duration": 20,
    "start_time": "2023-04-26T13:32:03.260Z"
   },
   {
    "duration": 2,
    "start_time": "2023-04-26T13:32:19.907Z"
   },
   {
    "duration": 10,
    "start_time": "2023-04-26T13:47:25.291Z"
   },
   {
    "duration": 14,
    "start_time": "2023-04-26T13:56:31.559Z"
   },
   {
    "duration": 11,
    "start_time": "2023-04-26T13:57:49.328Z"
   },
   {
    "duration": 9,
    "start_time": "2023-04-26T13:58:40.543Z"
   },
   {
    "duration": 18,
    "start_time": "2023-04-26T14:05:52.828Z"
   },
   {
    "duration": 8,
    "start_time": "2023-04-26T14:05:57.498Z"
   },
   {
    "duration": 7,
    "start_time": "2023-04-26T14:09:39.196Z"
   },
   {
    "duration": 10,
    "start_time": "2023-04-26T14:10:21.836Z"
   },
   {
    "duration": 505,
    "start_time": "2023-04-26T14:27:10.387Z"
   },
   {
    "duration": 1394,
    "start_time": "2023-04-26T14:32:54.022Z"
   },
   {
    "duration": 269,
    "start_time": "2023-04-26T14:33:05.245Z"
   },
   {
    "duration": 21,
    "start_time": "2023-04-26T14:34:10.142Z"
   },
   {
    "duration": 306,
    "start_time": "2023-04-26T14:34:28.998Z"
   },
   {
    "duration": 1104,
    "start_time": "2023-04-26T14:34:42.355Z"
   },
   {
    "duration": 1631,
    "start_time": "2023-04-26T14:34:53.448Z"
   },
   {
    "duration": 1640,
    "start_time": "2023-04-26T14:35:16.613Z"
   },
   {
    "duration": 1357,
    "start_time": "2023-04-26T14:35:43.798Z"
   },
   {
    "duration": 1546,
    "start_time": "2023-04-26T14:35:49.285Z"
   },
   {
    "duration": 1673,
    "start_time": "2023-04-26T14:35:54.666Z"
   },
   {
    "duration": 1326,
    "start_time": "2023-04-26T14:36:01.094Z"
   },
   {
    "duration": 1554,
    "start_time": "2023-04-26T14:36:41.695Z"
   },
   {
    "duration": 1101,
    "start_time": "2023-04-26T14:37:29.310Z"
   },
   {
    "duration": 1349,
    "start_time": "2023-04-26T14:37:39.982Z"
   },
   {
    "duration": 819,
    "start_time": "2023-04-26T14:38:29.142Z"
   },
   {
    "duration": 1186,
    "start_time": "2023-04-26T14:39:53.629Z"
   },
   {
    "duration": 827,
    "start_time": "2023-04-26T14:40:11.030Z"
   },
   {
    "duration": 1175,
    "start_time": "2023-04-26T14:40:28.544Z"
   },
   {
    "duration": 925,
    "start_time": "2023-04-26T14:40:51.047Z"
   },
   {
    "duration": 36,
    "start_time": "2023-04-26T14:42:05.409Z"
   },
   {
    "duration": 1442,
    "start_time": "2023-04-26T14:42:37.017Z"
   },
   {
    "duration": 1058,
    "start_time": "2023-04-26T14:42:41.321Z"
   },
   {
    "duration": 1582,
    "start_time": "2023-04-26T14:42:45.801Z"
   },
   {
    "duration": 1059,
    "start_time": "2023-04-26T14:42:51.968Z"
   },
   {
    "duration": 1522,
    "start_time": "2023-04-26T14:42:55.199Z"
   },
   {
    "duration": 1059,
    "start_time": "2023-04-26T14:42:59.289Z"
   },
   {
    "duration": 1535,
    "start_time": "2023-04-26T14:43:03.121Z"
   },
   {
    "duration": 1081,
    "start_time": "2023-04-26T14:43:09.353Z"
   },
   {
    "duration": 1635,
    "start_time": "2023-04-26T14:43:16.593Z"
   },
   {
    "duration": 1040,
    "start_time": "2023-04-26T14:43:25.016Z"
   },
   {
    "duration": 1504,
    "start_time": "2023-04-26T14:43:37.825Z"
   },
   {
    "duration": 1126,
    "start_time": "2023-04-26T14:43:46.065Z"
   },
   {
    "duration": 1394,
    "start_time": "2023-04-26T14:44:23.425Z"
   },
   {
    "duration": 1096,
    "start_time": "2023-04-26T14:45:11.731Z"
   },
   {
    "duration": 1450,
    "start_time": "2023-04-26T14:47:34.653Z"
   },
   {
    "duration": 1068,
    "start_time": "2023-04-26T14:48:37.083Z"
   },
   {
    "duration": 2173,
    "start_time": "2023-04-27T08:46:13.351Z"
   },
   {
    "duration": 3012,
    "start_time": "2023-04-27T08:46:16.420Z"
   },
   {
    "duration": 25,
    "start_time": "2023-04-27T08:46:20.212Z"
   },
   {
    "duration": 5,
    "start_time": "2023-04-27T08:46:22.589Z"
   },
   {
    "duration": 3,
    "start_time": "2023-04-27T08:46:29.806Z"
   },
   {
    "duration": 258,
    "start_time": "2023-04-27T08:46:30.676Z"
   },
   {
    "duration": 6,
    "start_time": "2023-04-27T08:46:33.285Z"
   },
   {
    "duration": 4,
    "start_time": "2023-04-27T08:46:53.773Z"
   },
   {
    "duration": 12,
    "start_time": "2023-04-27T08:46:54.187Z"
   },
   {
    "duration": 10,
    "start_time": "2023-04-27T08:46:54.816Z"
   },
   {
    "duration": 21,
    "start_time": "2023-04-27T08:46:56.461Z"
   },
   {
    "duration": 17,
    "start_time": "2023-04-27T08:46:58.437Z"
   },
   {
    "duration": 13,
    "start_time": "2023-04-27T08:46:59.141Z"
   },
   {
    "duration": 1329,
    "start_time": "2023-04-27T08:47:00.798Z"
   },
   {
    "duration": 1117,
    "start_time": "2023-04-27T08:47:02.301Z"
   },
   {
    "duration": 1447,
    "start_time": "2023-04-27T08:47:05.160Z"
   },
   {
    "duration": 1573,
    "start_time": "2023-04-27T08:51:16.792Z"
   },
   {
    "duration": 1136,
    "start_time": "2023-04-27T08:51:57.425Z"
   },
   {
    "duration": 1442,
    "start_time": "2023-04-27T08:53:03.579Z"
   },
   {
    "duration": 1340,
    "start_time": "2023-04-27T08:53:08.864Z"
   },
   {
    "duration": 1185,
    "start_time": "2023-04-27T08:53:28.607Z"
   },
   {
    "duration": 1611,
    "start_time": "2023-04-27T08:56:16.694Z"
   },
   {
    "duration": 2036,
    "start_time": "2023-04-27T08:56:45.766Z"
   },
   {
    "duration": 1133,
    "start_time": "2023-04-27T08:56:57.514Z"
   },
   {
    "duration": 1876,
    "start_time": "2023-04-27T08:57:44.402Z"
   },
   {
    "duration": 1436,
    "start_time": "2023-04-27T09:17:31.261Z"
   },
   {
    "duration": 64,
    "start_time": "2023-04-27T09:28:29.315Z"
   },
   {
    "duration": 1664,
    "start_time": "2023-04-27T09:28:41.314Z"
   },
   {
    "duration": 1144,
    "start_time": "2023-04-27T09:34:51.887Z"
   },
   {
    "duration": 1624,
    "start_time": "2023-04-27T09:34:59.862Z"
   },
   {
    "duration": 1139,
    "start_time": "2023-04-27T09:35:07.008Z"
   },
   {
    "duration": 41,
    "start_time": "2023-04-27T09:47:08.094Z"
   },
   {
    "duration": 1806,
    "start_time": "2023-04-27T09:53:48.323Z"
   },
   {
    "duration": 1192,
    "start_time": "2023-04-27T09:55:27.211Z"
   },
   {
    "duration": 1255,
    "start_time": "2023-04-27T09:56:22.206Z"
   },
   {
    "duration": 2014,
    "start_time": "2023-04-27T09:56:55.079Z"
   },
   {
    "duration": 768,
    "start_time": "2023-04-27T09:57:23.571Z"
   },
   {
    "duration": 1206,
    "start_time": "2023-04-27T09:57:31.924Z"
   },
   {
    "duration": 1250,
    "start_time": "2023-04-27T09:58:03.076Z"
   },
   {
    "duration": 2155,
    "start_time": "2023-04-27T09:58:30.054Z"
   },
   {
    "duration": 1249,
    "start_time": "2023-04-27T09:59:09.342Z"
   },
   {
    "duration": 1357,
    "start_time": "2023-04-27T10:00:04.345Z"
   },
   {
    "duration": 1279,
    "start_time": "2023-04-27T10:00:21.796Z"
   },
   {
    "duration": 2286,
    "start_time": "2023-04-27T10:00:35.478Z"
   },
   {
    "duration": 1251,
    "start_time": "2023-04-27T10:02:22.887Z"
   },
   {
    "duration": 1384,
    "start_time": "2023-04-27T10:05:50.043Z"
   },
   {
    "duration": 27,
    "start_time": "2023-04-27T10:37:05.019Z"
   },
   {
    "duration": 12,
    "start_time": "2023-04-27T10:38:57.315Z"
   },
   {
    "duration": 91,
    "start_time": "2023-04-27T10:39:26.115Z"
   },
   {
    "duration": 16,
    "start_time": "2023-04-27T10:39:44.477Z"
   },
   {
    "duration": 10,
    "start_time": "2023-04-27T10:39:51.946Z"
   },
   {
    "duration": 13,
    "start_time": "2023-04-27T10:39:54.660Z"
   },
   {
    "duration": 13,
    "start_time": "2023-04-27T10:40:21.507Z"
   },
   {
    "duration": 12,
    "start_time": "2023-04-27T10:40:28.956Z"
   },
   {
    "duration": 140,
    "start_time": "2023-04-27T10:42:39.653Z"
   },
   {
    "duration": 162,
    "start_time": "2023-04-27T10:43:04.497Z"
   },
   {
    "duration": 184,
    "start_time": "2023-04-27T10:45:00.114Z"
   },
   {
    "duration": 335,
    "start_time": "2023-04-27T10:45:33.143Z"
   },
   {
    "duration": 426,
    "start_time": "2023-04-27T10:45:37.928Z"
   },
   {
    "duration": 509,
    "start_time": "2023-04-27T10:45:56.087Z"
   },
   {
    "duration": 418,
    "start_time": "2023-04-27T10:46:32.232Z"
   },
   {
    "duration": 514,
    "start_time": "2023-04-27T10:46:52.560Z"
   },
   {
    "duration": 12,
    "start_time": "2023-04-27T10:55:03.524Z"
   },
   {
    "duration": 700,
    "start_time": "2023-04-27T11:12:01.516Z"
   },
   {
    "duration": 903,
    "start_time": "2023-04-27T11:12:07.572Z"
   },
   {
    "duration": 834,
    "start_time": "2023-04-27T11:13:41.412Z"
   },
   {
    "duration": 2575,
    "start_time": "2023-04-27T11:13:54.414Z"
   },
   {
    "duration": 904,
    "start_time": "2023-04-27T11:14:38.773Z"
   },
   {
    "duration": 885,
    "start_time": "2023-04-27T11:15:34.114Z"
   },
   {
    "duration": 937,
    "start_time": "2023-04-27T11:18:44.376Z"
   },
   {
    "duration": 884,
    "start_time": "2023-04-27T11:19:16.936Z"
   },
   {
    "duration": 9,
    "start_time": "2023-04-27T11:35:36.161Z"
   },
   {
    "duration": 7,
    "start_time": "2023-04-27T11:35:58.249Z"
   },
   {
    "duration": 201,
    "start_time": "2023-04-27T11:36:45.881Z"
   },
   {
    "duration": 413,
    "start_time": "2023-04-27T11:37:03.138Z"
   },
   {
    "duration": 491,
    "start_time": "2023-04-27T11:37:15.514Z"
   },
   {
    "duration": 470,
    "start_time": "2023-04-27T11:37:20.810Z"
   },
   {
    "duration": 548,
    "start_time": "2023-04-27T11:37:25.978Z"
   },
   {
    "duration": 524,
    "start_time": "2023-04-27T11:38:21.746Z"
   },
   {
    "duration": 16,
    "start_time": "2023-04-27T11:51:35.907Z"
   },
   {
    "duration": 7,
    "start_time": "2023-04-27T11:51:41.769Z"
   },
   {
    "duration": 528,
    "start_time": "2023-04-27T11:51:54.738Z"
   },
   {
    "duration": 530,
    "start_time": "2023-04-27T11:52:40.387Z"
   },
   {
    "duration": 527,
    "start_time": "2023-04-27T11:53:43.459Z"
   },
   {
    "duration": 518,
    "start_time": "2023-04-27T11:54:04.643Z"
   },
   {
    "duration": 618,
    "start_time": "2023-04-27T11:55:35.691Z"
   },
   {
    "duration": 8,
    "start_time": "2023-04-27T11:56:07.659Z"
   },
   {
    "duration": 556,
    "start_time": "2023-04-27T11:56:45.036Z"
   },
   {
    "duration": 7,
    "start_time": "2023-04-27T12:03:53.873Z"
   },
   {
    "duration": 31,
    "start_time": "2023-04-27T12:06:05.022Z"
   },
   {
    "duration": 280,
    "start_time": "2023-04-27T12:06:38.908Z"
   },
   {
    "duration": 8,
    "start_time": "2023-04-27T12:06:46.266Z"
   },
   {
    "duration": 7,
    "start_time": "2023-04-27T12:07:15.138Z"
   },
   {
    "duration": 8,
    "start_time": "2023-04-27T12:07:22.859Z"
   },
   {
    "duration": 8,
    "start_time": "2023-04-27T12:07:25.510Z"
   },
   {
    "duration": 7,
    "start_time": "2023-04-27T12:07:29.970Z"
   },
   {
    "duration": 7,
    "start_time": "2023-04-27T12:07:46.075Z"
   },
   {
    "duration": 8,
    "start_time": "2023-04-27T12:33:49.613Z"
   },
   {
    "duration": 17,
    "start_time": "2023-04-27T12:34:59.128Z"
   },
   {
    "duration": 14,
    "start_time": "2023-04-27T12:35:34.510Z"
   },
   {
    "duration": 6,
    "start_time": "2023-04-27T12:35:45.117Z"
   },
   {
    "duration": 5,
    "start_time": "2023-04-27T12:36:10.616Z"
   },
   {
    "duration": 518,
    "start_time": "2023-04-27T12:36:17.275Z"
   },
   {
    "duration": 8,
    "start_time": "2023-04-27T12:37:07.529Z"
   },
   {
    "duration": 6,
    "start_time": "2023-04-27T12:37:51.915Z"
   },
   {
    "duration": 562,
    "start_time": "2023-04-27T12:37:52.883Z"
   },
   {
    "duration": 8,
    "start_time": "2023-04-27T12:37:55.483Z"
   },
   {
    "duration": 7,
    "start_time": "2023-04-27T12:37:56.539Z"
   },
   {
    "duration": 15,
    "start_time": "2023-04-27T12:38:03.226Z"
   },
   {
    "duration": 542,
    "start_time": "2023-04-27T12:38:09.492Z"
   },
   {
    "duration": 8,
    "start_time": "2023-04-27T12:39:44.405Z"
   },
   {
    "duration": 9,
    "start_time": "2023-04-27T13:14:11.312Z"
   },
   {
    "duration": 15,
    "start_time": "2023-04-27T13:15:30.780Z"
   },
   {
    "duration": 7,
    "start_time": "2023-04-27T13:15:50.826Z"
   },
   {
    "duration": 9,
    "start_time": "2023-04-27T13:17:40.442Z"
   },
   {
    "duration": 8,
    "start_time": "2023-04-27T13:18:28.119Z"
   },
   {
    "duration": 4,
    "start_time": "2023-04-27T13:26:38.528Z"
   },
   {
    "duration": 20,
    "start_time": "2023-04-27T13:28:22.167Z"
   },
   {
    "duration": 1127,
    "start_time": "2023-04-27T13:29:05.976Z"
   },
   {
    "duration": 15,
    "start_time": "2023-04-27T13:30:45.376Z"
   },
   {
    "duration": 10,
    "start_time": "2023-04-27T13:35:19.669Z"
   },
   {
    "duration": 9,
    "start_time": "2023-04-27T13:35:22.712Z"
   },
   {
    "duration": 8,
    "start_time": "2023-04-27T13:35:38.598Z"
   },
   {
    "duration": 8,
    "start_time": "2023-04-27T13:35:54.147Z"
   },
   {
    "duration": 14,
    "start_time": "2023-04-27T13:36:16.157Z"
   },
   {
    "duration": 10,
    "start_time": "2023-04-27T13:36:20.928Z"
   },
   {
    "duration": 6,
    "start_time": "2023-04-27T13:47:07.107Z"
   },
   {
    "duration": 5,
    "start_time": "2023-04-27T13:47:11.458Z"
   },
   {
    "duration": 2779,
    "start_time": "2023-04-27T13:47:37.250Z"
   },
   {
    "duration": 20,
    "start_time": "2023-04-27T13:47:40.032Z"
   },
   {
    "duration": 963,
    "start_time": "2023-04-27T13:47:43.859Z"
   },
   {
    "duration": 4,
    "start_time": "2023-04-27T13:47:45.027Z"
   },
   {
    "duration": 10,
    "start_time": "2023-04-27T13:48:00.612Z"
   },
   {
    "duration": 20,
    "start_time": "2023-04-27T13:48:05.532Z"
   },
   {
    "duration": 5,
    "start_time": "2023-04-27T13:48:07.581Z"
   },
   {
    "duration": 1195,
    "start_time": "2023-04-27T13:50:31.469Z"
   },
   {
    "duration": 7,
    "start_time": "2023-04-27T13:50:39.085Z"
   },
   {
    "duration": 7,
    "start_time": "2023-04-27T13:50:43.052Z"
   },
   {
    "duration": 28,
    "start_time": "2023-04-27T13:50:44.541Z"
   },
   {
    "duration": 21,
    "start_time": "2023-04-27T13:51:24.220Z"
   },
   {
    "duration": 21,
    "start_time": "2023-04-27T13:51:46.193Z"
   },
   {
    "duration": 1587,
    "start_time": "2023-04-27T13:52:01.342Z"
   },
   {
    "duration": 836,
    "start_time": "2023-04-27T13:52:03.701Z"
   },
   {
    "duration": 24,
    "start_time": "2023-04-27T13:52:04.540Z"
   },
   {
    "duration": 5,
    "start_time": "2023-04-27T13:52:04.566Z"
   },
   {
    "duration": 340,
    "start_time": "2023-04-27T13:52:04.573Z"
   },
   {
    "duration": 209,
    "start_time": "2023-04-27T13:52:04.916Z"
   },
   {
    "duration": 359,
    "start_time": "2023-04-27T13:52:05.128Z"
   },
   {
    "duration": 3,
    "start_time": "2023-04-27T13:52:05.917Z"
   },
   {
    "duration": 17,
    "start_time": "2023-04-27T13:52:06.405Z"
   },
   {
    "duration": 7,
    "start_time": "2023-04-27T13:52:07.102Z"
   },
   {
    "duration": 5,
    "start_time": "2023-04-27T13:52:08.102Z"
   },
   {
    "duration": 12,
    "start_time": "2023-04-27T13:52:08.372Z"
   },
   {
    "duration": 9,
    "start_time": "2023-04-27T13:52:08.622Z"
   },
   {
    "duration": 22,
    "start_time": "2023-04-27T13:52:09.202Z"
   },
   {
    "duration": 19,
    "start_time": "2023-04-27T13:52:09.797Z"
   },
   {
    "duration": 12,
    "start_time": "2023-04-27T13:52:10.061Z"
   },
   {
    "duration": 1417,
    "start_time": "2023-04-27T13:52:20.750Z"
   },
   {
    "duration": 1276,
    "start_time": "2023-04-27T13:52:22.170Z"
   },
   {
    "duration": 1410,
    "start_time": "2023-04-27T13:52:23.450Z"
   },
   {
    "duration": 1214,
    "start_time": "2023-04-27T13:52:25.102Z"
   },
   {
    "duration": 903,
    "start_time": "2023-04-27T13:52:27.899Z"
   },
   {
    "duration": 12,
    "start_time": "2023-04-27T13:52:29.181Z"
   },
   {
    "duration": 14,
    "start_time": "2023-04-27T13:52:51.964Z"
   },
   {
    "duration": 7,
    "start_time": "2023-04-27T13:52:53.426Z"
   },
   {
    "duration": 818,
    "start_time": "2023-04-27T13:52:54.445Z"
   },
   {
    "duration": 9,
    "start_time": "2023-04-27T13:52:55.717Z"
   },
   {
    "duration": 11,
    "start_time": "2023-04-27T13:52:56.685Z"
   },
   {
    "duration": 8,
    "start_time": "2023-04-27T13:52:57.399Z"
   },
   {
    "duration": 524,
    "start_time": "2023-04-27T13:52:57.799Z"
   },
   {
    "duration": 8,
    "start_time": "2023-04-27T13:52:58.679Z"
   },
   {
    "duration": 8,
    "start_time": "2023-04-27T13:52:59.075Z"
   },
   {
    "duration": 8,
    "start_time": "2023-04-27T13:53:00.087Z"
   },
   {
    "duration": 668,
    "start_time": "2023-04-27T13:53:00.773Z"
   },
   {
    "duration": 10,
    "start_time": "2023-04-27T13:53:01.925Z"
   },
   {
    "duration": 8,
    "start_time": "2023-04-27T13:53:02.685Z"
   },
   {
    "duration": 33,
    "start_time": "2023-04-27T13:53:04.221Z"
   },
   {
    "duration": 10,
    "start_time": "2023-04-27T13:59:24.119Z"
   },
   {
    "duration": 8,
    "start_time": "2023-04-27T14:02:00.387Z"
   },
   {
    "duration": 205,
    "start_time": "2023-04-27T14:03:10.340Z"
   },
   {
    "duration": 10,
    "start_time": "2023-04-27T14:03:20.659Z"
   },
   {
    "duration": 235,
    "start_time": "2023-04-27T14:13:40.359Z"
   },
   {
    "duration": 21,
    "start_time": "2023-04-27T14:32:52.331Z"
   },
   {
    "duration": 6,
    "start_time": "2023-04-27T14:33:00.516Z"
   },
   {
    "duration": 38,
    "start_time": "2023-04-27T14:33:06.346Z"
   },
   {
    "duration": 5,
    "start_time": "2023-04-27T14:46:39.433Z"
   },
   {
    "duration": 6,
    "start_time": "2023-04-27T14:46:45.720Z"
   },
   {
    "duration": 1464,
    "start_time": "2023-04-27T17:14:42.102Z"
   },
   {
    "duration": 2115,
    "start_time": "2023-04-27T17:14:43.569Z"
   },
   {
    "duration": 17,
    "start_time": "2023-04-27T17:14:45.687Z"
   },
   {
    "duration": 2,
    "start_time": "2023-04-27T17:14:45.706Z"
   },
   {
    "duration": 246,
    "start_time": "2023-04-27T17:14:45.710Z"
   },
   {
    "duration": 161,
    "start_time": "2023-04-27T17:14:45.958Z"
   },
   {
    "duration": 290,
    "start_time": "2023-04-27T17:14:46.121Z"
   },
   {
    "duration": 3,
    "start_time": "2023-04-27T17:14:46.413Z"
   },
   {
    "duration": 13,
    "start_time": "2023-04-27T17:14:46.417Z"
   },
   {
    "duration": 5,
    "start_time": "2023-04-27T17:14:46.432Z"
   },
   {
    "duration": 3,
    "start_time": "2023-04-27T17:14:46.456Z"
   },
   {
    "duration": 12,
    "start_time": "2023-04-27T17:14:46.462Z"
   },
   {
    "duration": 8,
    "start_time": "2023-04-27T17:14:46.475Z"
   },
   {
    "duration": 15,
    "start_time": "2023-04-27T17:14:46.485Z"
   },
   {
    "duration": 20,
    "start_time": "2023-04-27T17:14:46.502Z"
   },
   {
    "duration": 35,
    "start_time": "2023-04-27T17:14:46.524Z"
   },
   {
    "duration": 1249,
    "start_time": "2023-04-27T17:14:46.561Z"
   },
   {
    "duration": 1003,
    "start_time": "2023-04-27T17:14:47.812Z"
   },
   {
    "duration": 1175,
    "start_time": "2023-04-27T17:14:48.818Z"
   },
   {
    "duration": 862,
    "start_time": "2023-04-27T17:14:49.995Z"
   },
   {
    "duration": 760,
    "start_time": "2023-04-27T17:14:50.859Z"
   },
   {
    "duration": 9,
    "start_time": "2023-04-27T17:14:51.621Z"
   },
   {
    "duration": 10,
    "start_time": "2023-04-27T17:14:51.631Z"
   },
   {
    "duration": 5,
    "start_time": "2023-04-27T17:14:51.656Z"
   },
   {
    "duration": 668,
    "start_time": "2023-04-27T17:14:51.663Z"
   },
   {
    "duration": 7,
    "start_time": "2023-04-27T17:14:52.334Z"
   },
   {
    "duration": 22,
    "start_time": "2023-04-27T17:14:52.343Z"
   },
   {
    "duration": 32,
    "start_time": "2023-04-27T17:14:52.368Z"
   },
   {
    "duration": 440,
    "start_time": "2023-04-27T17:14:52.402Z"
   },
   {
    "duration": 13,
    "start_time": "2023-04-27T17:14:52.844Z"
   },
   {
    "duration": 8,
    "start_time": "2023-04-27T17:14:52.859Z"
   },
   {
    "duration": 33,
    "start_time": "2023-04-27T17:14:52.868Z"
   },
   {
    "duration": 501,
    "start_time": "2023-04-27T17:14:52.903Z"
   },
   {
    "duration": 7,
    "start_time": "2023-04-27T17:14:53.406Z"
   },
   {
    "duration": 20,
    "start_time": "2023-04-27T17:14:53.415Z"
   },
   {
    "duration": 30,
    "start_time": "2023-04-27T17:14:53.437Z"
   },
   {
    "duration": 6,
    "start_time": "2023-04-27T17:14:53.468Z"
   },
   {
    "duration": 22,
    "start_time": "2023-04-27T17:14:53.475Z"
   },
   {
    "duration": 112,
    "start_time": "2023-04-27T17:14:53.498Z"
   },
   {
    "duration": 13,
    "start_time": "2023-04-27T17:15:08.820Z"
   },
   {
    "duration": 15,
    "start_time": "2023-04-27T17:15:15.117Z"
   },
   {
    "duration": 12,
    "start_time": "2023-04-27T17:15:18.437Z"
   },
   {
    "duration": 13,
    "start_time": "2023-04-27T17:15:39.087Z"
   },
   {
    "duration": 13,
    "start_time": "2023-04-27T17:20:11.240Z"
   },
   {
    "duration": 9,
    "start_time": "2023-04-27T17:20:27.271Z"
   },
   {
    "duration": 14,
    "start_time": "2023-04-27T17:32:01.142Z"
   },
   {
    "duration": 29,
    "start_time": "2023-04-27T17:36:22.769Z"
   },
   {
    "duration": 1243,
    "start_time": "2023-04-27T17:36:33.529Z"
   },
   {
    "duration": 651,
    "start_time": "2023-04-27T17:41:10.344Z"
   },
   {
    "duration": 6,
    "start_time": "2023-04-27T17:41:30.652Z"
   },
   {
    "duration": 3,
    "start_time": "2023-04-27T17:52:54.322Z"
   },
   {
    "duration": 8,
    "start_time": "2023-04-27T17:53:05.568Z"
   },
   {
    "duration": 10,
    "start_time": "2023-04-27T17:53:12.600Z"
   },
   {
    "duration": 9,
    "start_time": "2023-04-27T17:55:43.907Z"
   },
   {
    "duration": 6,
    "start_time": "2023-04-27T17:56:06.589Z"
   },
   {
    "duration": 3,
    "start_time": "2023-04-27T17:56:18.941Z"
   },
   {
    "duration": 7,
    "start_time": "2023-04-27T17:56:30.276Z"
   },
   {
    "duration": 9,
    "start_time": "2023-04-27T17:56:39.028Z"
   },
   {
    "duration": 29,
    "start_time": "2023-04-27T17:56:53.349Z"
   },
   {
    "duration": 8,
    "start_time": "2023-04-27T17:57:00.685Z"
   },
   {
    "duration": 34,
    "start_time": "2023-04-27T17:57:04.003Z"
   },
   {
    "duration": 8,
    "start_time": "2023-04-27T17:57:11.341Z"
   },
   {
    "duration": 33,
    "start_time": "2023-04-27T17:57:11.574Z"
   },
   {
    "duration": 9,
    "start_time": "2023-04-27T18:12:11.802Z"
   },
   {
    "duration": 39,
    "start_time": "2023-04-27T18:13:09.601Z"
   },
   {
    "duration": 3,
    "start_time": "2023-04-27T18:13:14.079Z"
   },
   {
    "duration": 55,
    "start_time": "2023-04-27T18:57:57.323Z"
   },
   {
    "duration": 113,
    "start_time": "2023-04-27T19:37:37.107Z"
   },
   {
    "duration": 3,
    "start_time": "2023-04-27T20:30:26.691Z"
   },
   {
    "duration": 16,
    "start_time": "2023-04-27T20:30:27.234Z"
   },
   {
    "duration": 43,
    "start_time": "2023-04-27T20:31:55.786Z"
   },
   {
    "duration": 1591,
    "start_time": "2023-04-27T20:32:03.323Z"
   },
   {
    "duration": 46,
    "start_time": "2023-04-27T20:36:21.246Z"
   },
   {
    "duration": 37,
    "start_time": "2023-04-27T20:36:25.534Z"
   },
   {
    "duration": 1222,
    "start_time": "2023-04-27T20:36:30.366Z"
   },
   {
    "duration": 1074,
    "start_time": "2023-04-27T20:37:32.783Z"
   },
   {
    "duration": 1023,
    "start_time": "2023-04-27T20:41:08.905Z"
   },
   {
    "duration": 40,
    "start_time": "2023-04-27T20:42:41.835Z"
   },
   {
    "duration": 1020,
    "start_time": "2023-04-27T20:42:59.139Z"
   },
   {
    "duration": 1029,
    "start_time": "2023-04-27T20:43:24.938Z"
   },
   {
    "duration": 279,
    "start_time": "2023-04-27T20:57:17.214Z"
   },
   {
    "duration": 249,
    "start_time": "2023-04-27T20:57:23.238Z"
   },
   {
    "duration": 11,
    "start_time": "2023-04-27T20:58:31.908Z"
   },
   {
    "duration": 252,
    "start_time": "2023-04-27T20:59:48.910Z"
   },
   {
    "duration": 3,
    "start_time": "2023-04-27T21:05:47.130Z"
   },
   {
    "duration": 34,
    "start_time": "2023-04-27T21:05:47.597Z"
   },
   {
    "duration": 1668,
    "start_time": "2023-04-28T06:34:28.288Z"
   },
   {
    "duration": 2018,
    "start_time": "2023-04-28T06:34:29.958Z"
   },
   {
    "duration": 18,
    "start_time": "2023-04-28T06:34:31.978Z"
   },
   {
    "duration": 3,
    "start_time": "2023-04-28T06:34:31.998Z"
   },
   {
    "duration": 309,
    "start_time": "2023-04-28T06:34:32.003Z"
   },
   {
    "duration": 166,
    "start_time": "2023-04-28T06:34:32.314Z"
   },
   {
    "duration": 314,
    "start_time": "2023-04-28T06:34:32.482Z"
   },
   {
    "duration": 3,
    "start_time": "2023-04-28T06:34:32.797Z"
   },
   {
    "duration": 38,
    "start_time": "2023-04-28T06:34:32.811Z"
   },
   {
    "duration": 18,
    "start_time": "2023-04-28T06:34:32.851Z"
   },
   {
    "duration": 23,
    "start_time": "2023-04-28T06:34:32.871Z"
   },
   {
    "duration": 50,
    "start_time": "2023-04-28T06:34:32.896Z"
   },
   {
    "duration": 9,
    "start_time": "2023-04-28T06:34:32.947Z"
   },
   {
    "duration": 19,
    "start_time": "2023-04-28T06:34:32.957Z"
   },
   {
    "duration": 52,
    "start_time": "2023-04-28T06:34:32.978Z"
   },
   {
    "duration": 8,
    "start_time": "2023-04-28T06:34:33.032Z"
   },
   {
    "duration": 1363,
    "start_time": "2023-04-28T06:34:33.042Z"
   },
   {
    "duration": 1250,
    "start_time": "2023-04-28T06:34:34.411Z"
   },
   {
    "duration": 1219,
    "start_time": "2023-04-28T06:34:35.662Z"
   },
   {
    "duration": 1061,
    "start_time": "2023-04-28T06:34:36.883Z"
   },
   {
    "duration": 927,
    "start_time": "2023-04-28T06:34:37.947Z"
   },
   {
    "duration": 12,
    "start_time": "2023-04-28T06:34:38.876Z"
   },
   {
    "duration": 33,
    "start_time": "2023-04-28T06:34:38.891Z"
   },
   {
    "duration": 7,
    "start_time": "2023-04-28T06:34:38.927Z"
   },
   {
    "duration": 740,
    "start_time": "2023-04-28T06:34:38.937Z"
   },
   {
    "duration": 8,
    "start_time": "2023-04-28T06:34:39.678Z"
   },
   {
    "duration": 16,
    "start_time": "2023-04-28T06:34:39.687Z"
   },
   {
    "duration": 5,
    "start_time": "2023-04-28T06:34:39.711Z"
   },
   {
    "duration": 506,
    "start_time": "2023-04-28T06:34:39.718Z"
   },
   {
    "duration": 8,
    "start_time": "2023-04-28T06:34:40.226Z"
   },
   {
    "duration": 8,
    "start_time": "2023-04-28T06:34:40.236Z"
   },
   {
    "duration": 7,
    "start_time": "2023-04-28T06:34:40.247Z"
   },
   {
    "duration": 525,
    "start_time": "2023-04-28T06:34:40.256Z"
   },
   {
    "duration": 7,
    "start_time": "2023-04-28T06:34:40.784Z"
   },
   {
    "duration": 23,
    "start_time": "2023-04-28T06:34:40.793Z"
   },
   {
    "duration": 26,
    "start_time": "2023-04-28T06:34:40.818Z"
   },
   {
    "duration": 3,
    "start_time": "2023-04-28T06:34:40.845Z"
   },
   {
    "duration": 8,
    "start_time": "2023-04-28T06:34:40.849Z"
   },
   {
    "duration": 5,
    "start_time": "2023-04-28T06:34:40.859Z"
   },
   {
    "duration": 8,
    "start_time": "2023-04-28T06:34:40.865Z"
   },
   {
    "duration": 7,
    "start_time": "2023-04-28T06:34:40.875Z"
   },
   {
    "duration": 32,
    "start_time": "2023-04-28T06:34:40.883Z"
   },
   {
    "duration": 337,
    "start_time": "2023-04-28T06:34:40.916Z"
   },
   {
    "duration": 0,
    "start_time": "2023-04-28T06:34:41.254Z"
   },
   {
    "duration": 3,
    "start_time": "2023-04-28T06:35:02.649Z"
   },
   {
    "duration": 23,
    "start_time": "2023-04-28T06:35:03.770Z"
   },
   {
    "duration": 3,
    "start_time": "2023-04-28T06:36:22.337Z"
   },
   {
    "duration": 24,
    "start_time": "2023-04-28T06:36:22.482Z"
   },
   {
    "duration": 3,
    "start_time": "2023-04-28T06:36:49.825Z"
   },
   {
    "duration": 25,
    "start_time": "2023-04-28T06:36:50.186Z"
   },
   {
    "duration": 3,
    "start_time": "2023-04-28T06:37:27.193Z"
   },
   {
    "duration": 137437,
    "start_time": "2023-04-28T06:37:27.354Z"
   },
   {
    "duration": 28261,
    "start_time": "2023-04-28T06:49:21.751Z"
   },
   {
    "duration": 3,
    "start_time": "2023-04-28T06:53:16.057Z"
   },
   {
    "duration": 3,
    "start_time": "2023-04-28T06:55:26.402Z"
   },
   {
    "duration": 27380,
    "start_time": "2023-04-28T06:55:29.802Z"
   },
   {
    "duration": 1488,
    "start_time": "2023-04-28T07:46:21.179Z"
   },
   {
    "duration": 723,
    "start_time": "2023-04-28T07:46:23.811Z"
   },
   {
    "duration": 19,
    "start_time": "2023-04-28T07:46:24.536Z"
   },
   {
    "duration": 5,
    "start_time": "2023-04-28T07:46:24.556Z"
   },
   {
    "duration": 272,
    "start_time": "2023-04-28T07:46:24.649Z"
   },
   {
    "duration": 170,
    "start_time": "2023-04-28T07:46:25.152Z"
   },
   {
    "duration": 324,
    "start_time": "2023-04-28T07:46:25.325Z"
   },
   {
    "duration": 3,
    "start_time": "2023-04-28T07:46:25.651Z"
   },
   {
    "duration": 20,
    "start_time": "2023-04-28T07:46:25.656Z"
   },
   {
    "duration": 5,
    "start_time": "2023-04-28T07:46:25.678Z"
   },
   {
    "duration": 7,
    "start_time": "2023-04-28T07:46:25.685Z"
   },
   {
    "duration": 9,
    "start_time": "2023-04-28T07:46:25.711Z"
   },
   {
    "duration": 7,
    "start_time": "2023-04-28T07:46:25.879Z"
   },
   {
    "duration": 35,
    "start_time": "2023-04-28T07:46:25.888Z"
   },
   {
    "duration": 12,
    "start_time": "2023-04-28T07:46:25.925Z"
   },
   {
    "duration": 22,
    "start_time": "2023-04-28T07:46:25.939Z"
   },
   {
    "duration": 1287,
    "start_time": "2023-04-28T07:46:25.963Z"
   },
   {
    "duration": 1322,
    "start_time": "2023-04-28T07:46:27.253Z"
   },
   {
    "duration": 1196,
    "start_time": "2023-04-28T07:46:28.577Z"
   },
   {
    "duration": 984,
    "start_time": "2023-04-28T07:46:29.775Z"
   },
   {
    "duration": 812,
    "start_time": "2023-04-28T07:46:30.760Z"
   },
   {
    "duration": 11,
    "start_time": "2023-04-28T07:46:31.575Z"
   },
   {
    "duration": 99,
    "start_time": "2023-04-28T07:46:31.588Z"
   },
   {
    "duration": 28,
    "start_time": "2023-04-28T07:46:31.689Z"
   },
   {
    "duration": 700,
    "start_time": "2023-04-28T07:46:31.719Z"
   },
   {
    "duration": 7,
    "start_time": "2023-04-28T07:46:32.421Z"
   },
   {
    "duration": 17,
    "start_time": "2023-04-28T07:46:32.429Z"
   },
   {
    "duration": 23,
    "start_time": "2023-04-28T07:46:32.447Z"
   },
   {
    "duration": 509,
    "start_time": "2023-04-28T07:46:32.471Z"
   },
   {
    "duration": 8,
    "start_time": "2023-04-28T07:46:32.982Z"
   },
   {
    "duration": 22,
    "start_time": "2023-04-28T07:46:32.992Z"
   },
   {
    "duration": 7,
    "start_time": "2023-04-28T07:46:33.016Z"
   },
   {
    "duration": 515,
    "start_time": "2023-04-28T07:46:33.026Z"
   },
   {
    "duration": 7,
    "start_time": "2023-04-28T07:46:33.544Z"
   },
   {
    "duration": 12,
    "start_time": "2023-04-28T07:46:33.552Z"
   },
   {
    "duration": 28,
    "start_time": "2023-04-28T07:46:33.565Z"
   },
   {
    "duration": 17,
    "start_time": "2023-04-28T07:46:33.595Z"
   },
   {
    "duration": 8,
    "start_time": "2023-04-28T07:46:33.614Z"
   },
   {
    "duration": 10,
    "start_time": "2023-04-28T07:46:33.623Z"
   },
   {
    "duration": 12,
    "start_time": "2023-04-28T07:46:33.635Z"
   },
   {
    "duration": 9,
    "start_time": "2023-04-28T07:46:33.649Z"
   },
   {
    "duration": 12,
    "start_time": "2023-04-28T07:46:33.660Z"
   },
   {
    "duration": 27520,
    "start_time": "2023-04-28T07:46:33.674Z"
   },
   {
    "duration": 3,
    "start_time": "2023-04-28T07:47:01.196Z"
   },
   {
    "duration": 1575,
    "start_time": "2023-04-28T07:57:02.634Z"
   },
   {
    "duration": 785,
    "start_time": "2023-04-28T07:57:04.897Z"
   },
   {
    "duration": 28,
    "start_time": "2023-04-28T07:57:05.684Z"
   },
   {
    "duration": 3,
    "start_time": "2023-04-28T07:57:05.714Z"
   },
   {
    "duration": 335,
    "start_time": "2023-04-28T07:57:05.720Z"
   },
   {
    "duration": 202,
    "start_time": "2023-04-28T07:57:06.057Z"
   },
   {
    "duration": 294,
    "start_time": "2023-04-28T07:57:06.260Z"
   },
   {
    "duration": 3,
    "start_time": "2023-04-28T07:57:06.555Z"
   },
   {
    "duration": 22,
    "start_time": "2023-04-28T07:57:06.560Z"
   },
   {
    "duration": 19,
    "start_time": "2023-04-28T07:57:06.585Z"
   },
   {
    "duration": 8,
    "start_time": "2023-04-28T07:57:06.612Z"
   },
   {
    "duration": 19,
    "start_time": "2023-04-28T07:57:06.622Z"
   },
   {
    "duration": 8,
    "start_time": "2023-04-28T07:57:06.643Z"
   },
   {
    "duration": 19,
    "start_time": "2023-04-28T07:57:06.653Z"
   },
   {
    "duration": 44,
    "start_time": "2023-04-28T07:57:06.674Z"
   },
   {
    "duration": 11,
    "start_time": "2023-04-28T07:57:06.720Z"
   },
   {
    "duration": 1388,
    "start_time": "2023-04-28T07:57:06.734Z"
   },
   {
    "duration": 1353,
    "start_time": "2023-04-28T07:57:08.124Z"
   },
   {
    "duration": 1162,
    "start_time": "2023-04-28T07:57:09.479Z"
   },
   {
    "duration": 1001,
    "start_time": "2023-04-28T07:57:10.643Z"
   },
   {
    "duration": 823,
    "start_time": "2023-04-28T07:57:11.645Z"
   },
   {
    "duration": 10,
    "start_time": "2023-04-28T07:57:12.471Z"
   },
   {
    "duration": 11,
    "start_time": "2023-04-28T07:57:12.483Z"
   },
   {
    "duration": 6,
    "start_time": "2023-04-28T07:57:12.511Z"
   },
   {
    "duration": 750,
    "start_time": "2023-04-28T07:57:12.518Z"
   },
   {
    "duration": 8,
    "start_time": "2023-04-28T07:57:13.271Z"
   },
   {
    "duration": 10,
    "start_time": "2023-04-28T07:57:13.282Z"
   },
   {
    "duration": 7,
    "start_time": "2023-04-28T07:57:13.313Z"
   },
   {
    "duration": 483,
    "start_time": "2023-04-28T07:57:13.322Z"
   },
   {
    "duration": 9,
    "start_time": "2023-04-28T07:57:13.807Z"
   },
   {
    "duration": 14,
    "start_time": "2023-04-28T07:57:13.818Z"
   },
   {
    "duration": 15,
    "start_time": "2023-04-28T07:57:13.834Z"
   },
   {
    "duration": 500,
    "start_time": "2023-04-28T07:57:13.851Z"
   },
   {
    "duration": 7,
    "start_time": "2023-04-28T07:57:14.353Z"
   },
   {
    "duration": 7,
    "start_time": "2023-04-28T07:57:14.362Z"
   },
   {
    "duration": 56,
    "start_time": "2023-04-28T07:57:14.371Z"
   },
   {
    "duration": 3,
    "start_time": "2023-04-28T07:57:14.429Z"
   },
   {
    "duration": 24,
    "start_time": "2023-04-28T07:57:14.434Z"
   },
   {
    "duration": 5,
    "start_time": "2023-04-28T07:57:14.460Z"
   },
   {
    "duration": 7,
    "start_time": "2023-04-28T07:57:14.467Z"
   },
   {
    "duration": 11,
    "start_time": "2023-04-28T07:57:14.476Z"
   },
   {
    "duration": 10,
    "start_time": "2023-04-28T07:57:14.489Z"
   },
   {
    "duration": 28314,
    "start_time": "2023-04-28T07:57:14.501Z"
   },
   {
    "duration": 4,
    "start_time": "2023-04-28T07:57:42.822Z"
   },
   {
    "duration": 1552,
    "start_time": "2023-04-28T08:07:47.402Z"
   },
   {
    "duration": 818,
    "start_time": "2023-04-28T08:07:49.486Z"
   },
   {
    "duration": 27,
    "start_time": "2023-04-28T08:07:50.312Z"
   },
   {
    "duration": 4,
    "start_time": "2023-04-28T08:07:50.341Z"
   },
   {
    "duration": 342,
    "start_time": "2023-04-28T08:07:50.348Z"
   },
   {
    "duration": 202,
    "start_time": "2023-04-28T08:07:50.692Z"
   },
   {
    "duration": 345,
    "start_time": "2023-04-28T08:07:50.896Z"
   },
   {
    "duration": 4,
    "start_time": "2023-04-28T08:07:51.244Z"
   },
   {
    "duration": 26,
    "start_time": "2023-04-28T08:07:51.249Z"
   },
   {
    "duration": 12,
    "start_time": "2023-04-28T08:07:51.277Z"
   },
   {
    "duration": 17,
    "start_time": "2023-04-28T08:07:51.290Z"
   },
   {
    "duration": 13,
    "start_time": "2023-04-28T08:07:51.313Z"
   },
   {
    "duration": 6,
    "start_time": "2023-04-28T08:07:51.328Z"
   },
   {
    "duration": 18,
    "start_time": "2023-04-28T08:07:51.336Z"
   },
   {
    "duration": 11,
    "start_time": "2023-04-28T08:07:51.356Z"
   },
   {
    "duration": 8,
    "start_time": "2023-04-28T08:07:51.369Z"
   },
   {
    "duration": 1358,
    "start_time": "2023-04-28T08:07:51.413Z"
   },
   {
    "duration": 1449,
    "start_time": "2023-04-28T08:07:52.773Z"
   },
   {
    "duration": 1195,
    "start_time": "2023-04-28T08:07:54.225Z"
   },
   {
    "duration": 1054,
    "start_time": "2023-04-28T08:07:55.423Z"
   },
   {
    "duration": 886,
    "start_time": "2023-04-28T08:07:56.480Z"
   },
   {
    "duration": 12,
    "start_time": "2023-04-28T08:07:57.368Z"
   },
   {
    "duration": 30,
    "start_time": "2023-04-28T08:07:57.382Z"
   },
   {
    "duration": 9,
    "start_time": "2023-04-28T08:07:57.417Z"
   },
   {
    "duration": 787,
    "start_time": "2023-04-28T08:07:57.429Z"
   },
   {
    "duration": 8,
    "start_time": "2023-04-28T08:07:58.218Z"
   },
   {
    "duration": 16,
    "start_time": "2023-04-28T08:07:58.228Z"
   },
   {
    "duration": 11,
    "start_time": "2023-04-28T08:07:58.247Z"
   },
   {
    "duration": 596,
    "start_time": "2023-04-28T08:07:58.260Z"
   },
   {
    "duration": 10,
    "start_time": "2023-04-28T08:07:58.859Z"
   },
   {
    "duration": 10,
    "start_time": "2023-04-28T08:07:58.872Z"
   },
   {
    "duration": 32,
    "start_time": "2023-04-28T08:07:58.885Z"
   },
   {
    "duration": 682,
    "start_time": "2023-04-28T08:07:58.919Z"
   },
   {
    "duration": 12,
    "start_time": "2023-04-28T08:07:59.603Z"
   },
   {
    "duration": 11,
    "start_time": "2023-04-28T08:07:59.618Z"
   },
   {
    "duration": 27,
    "start_time": "2023-04-28T08:07:59.631Z"
   },
   {
    "duration": 2,
    "start_time": "2023-04-28T08:07:59.661Z"
   },
   {
    "duration": 7,
    "start_time": "2023-04-28T08:07:59.666Z"
   },
   {
    "duration": 5,
    "start_time": "2023-04-28T08:07:59.675Z"
   },
   {
    "duration": 37,
    "start_time": "2023-04-28T08:07:59.681Z"
   },
   {
    "duration": 7,
    "start_time": "2023-04-28T08:07:59.727Z"
   },
   {
    "duration": 2,
    "start_time": "2023-04-28T08:08:01.919Z"
   },
   {
    "duration": 1476,
    "start_time": "2023-04-28T08:15:40.677Z"
   },
   {
    "duration": 730,
    "start_time": "2023-04-28T08:15:42.155Z"
   },
   {
    "duration": 27,
    "start_time": "2023-04-28T08:15:42.887Z"
   },
   {
    "duration": 4,
    "start_time": "2023-04-28T08:15:42.916Z"
   },
   {
    "duration": 289,
    "start_time": "2023-04-28T08:15:42.922Z"
   },
   {
    "duration": 172,
    "start_time": "2023-04-28T08:15:43.214Z"
   },
   {
    "duration": 298,
    "start_time": "2023-04-28T08:15:43.388Z"
   },
   {
    "duration": 3,
    "start_time": "2023-04-28T08:15:43.688Z"
   },
   {
    "duration": 27,
    "start_time": "2023-04-28T08:15:43.693Z"
   },
   {
    "duration": 5,
    "start_time": "2023-04-28T08:15:43.724Z"
   },
   {
    "duration": 10,
    "start_time": "2023-04-28T08:15:43.731Z"
   },
   {
    "duration": 18,
    "start_time": "2023-04-28T08:15:43.743Z"
   },
   {
    "duration": 8,
    "start_time": "2023-04-28T08:15:43.763Z"
   },
   {
    "duration": 43,
    "start_time": "2023-04-28T08:15:43.772Z"
   },
   {
    "duration": 13,
    "start_time": "2023-04-28T08:15:43.817Z"
   },
   {
    "duration": 10,
    "start_time": "2023-04-28T08:15:43.832Z"
   },
   {
    "duration": 1286,
    "start_time": "2023-04-28T08:15:43.844Z"
   },
   {
    "duration": 1260,
    "start_time": "2023-04-28T08:15:45.133Z"
   },
   {
    "duration": 1181,
    "start_time": "2023-04-28T08:15:46.396Z"
   },
   {
    "duration": 1028,
    "start_time": "2023-04-28T08:15:47.579Z"
   },
   {
    "duration": 907,
    "start_time": "2023-04-28T08:15:48.611Z"
   },
   {
    "duration": 10,
    "start_time": "2023-04-28T08:15:49.520Z"
   },
   {
    "duration": 11,
    "start_time": "2023-04-28T08:15:49.532Z"
   },
   {
    "duration": 12,
    "start_time": "2023-04-28T08:15:49.546Z"
   },
   {
    "duration": 713,
    "start_time": "2023-04-28T08:15:49.560Z"
   },
   {
    "duration": 9,
    "start_time": "2023-04-28T08:15:50.274Z"
   },
   {
    "duration": 36,
    "start_time": "2023-04-28T08:15:50.284Z"
   },
   {
    "duration": 15,
    "start_time": "2023-04-28T08:15:50.322Z"
   },
   {
    "duration": 501,
    "start_time": "2023-04-28T08:15:50.339Z"
   },
   {
    "duration": 7,
    "start_time": "2023-04-28T08:15:50.842Z"
   },
   {
    "duration": 25,
    "start_time": "2023-04-28T08:15:50.851Z"
   },
   {
    "duration": 34,
    "start_time": "2023-04-28T08:15:50.878Z"
   },
   {
    "duration": 521,
    "start_time": "2023-04-28T08:15:50.914Z"
   },
   {
    "duration": 7,
    "start_time": "2023-04-28T08:15:51.437Z"
   },
   {
    "duration": 7,
    "start_time": "2023-04-28T08:15:51.447Z"
   },
   {
    "duration": 32,
    "start_time": "2023-04-28T08:15:51.455Z"
   },
   {
    "duration": 3,
    "start_time": "2023-04-28T08:15:56.489Z"
   },
   {
    "duration": 7,
    "start_time": "2023-04-28T08:15:56.842Z"
   },
   {
    "duration": 5,
    "start_time": "2023-04-28T08:15:58.705Z"
   },
   {
    "duration": 8,
    "start_time": "2023-04-28T08:15:59.002Z"
   },
   {
    "duration": 3,
    "start_time": "2023-04-28T08:15:59.386Z"
   },
   {
    "duration": 3,
    "start_time": "2023-04-28T08:16:02.866Z"
   },
   {
    "duration": 27035,
    "start_time": "2023-04-28T08:16:06.850Z"
   },
   {
    "duration": 124,
    "start_time": "2023-04-28T08:17:23.316Z"
   },
   {
    "duration": 3,
    "start_time": "2023-04-28T08:17:26.814Z"
   },
   {
    "duration": 158401,
    "start_time": "2023-04-28T08:17:26.971Z"
   },
   {
    "duration": 1599,
    "start_time": "2023-04-28T08:20:15.516Z"
   },
   {
    "duration": 78,
    "start_time": "2023-04-28T08:23:59.439Z"
   },
   {
    "duration": 8,
    "start_time": "2023-04-28T08:24:12.406Z"
   },
   {
    "duration": 153,
    "start_time": "2023-04-28T08:25:34.463Z"
   },
   {
    "duration": 4,
    "start_time": "2023-04-28T08:27:35.736Z"
   },
   {
    "duration": 19,
    "start_time": "2023-04-28T08:29:34.296Z"
   },
   {
    "duration": 684,
    "start_time": "2023-04-28T08:29:50.367Z"
   },
   {
    "duration": 8,
    "start_time": "2023-04-28T08:29:56.817Z"
   },
   {
    "duration": 5,
    "start_time": "2023-04-28T08:30:05.913Z"
   },
   {
    "duration": 132,
    "start_time": "2023-04-28T08:30:16.281Z"
   },
   {
    "duration": 13,
    "start_time": "2023-04-28T08:31:17.242Z"
   },
   {
    "duration": 13,
    "start_time": "2023-04-28T08:31:23.761Z"
   },
   {
    "duration": 738,
    "start_time": "2023-04-28T08:31:28.370Z"
   },
   {
    "duration": 7,
    "start_time": "2023-04-28T08:31:34.653Z"
   },
   {
    "duration": 4,
    "start_time": "2023-04-28T08:31:36.186Z"
   },
   {
    "duration": 4,
    "start_time": "2023-04-28T08:31:38.491Z"
   },
   {
    "duration": 19,
    "start_time": "2023-04-28T08:31:38.835Z"
   },
   {
    "duration": 13,
    "start_time": "2023-04-28T08:32:13.921Z"
   },
   {
    "duration": 12,
    "start_time": "2023-04-28T08:32:24.506Z"
   },
   {
    "duration": 14,
    "start_time": "2023-04-28T08:32:29.299Z"
   },
   {
    "duration": 661,
    "start_time": "2023-04-28T08:32:38.003Z"
   },
   {
    "duration": 9,
    "start_time": "2023-04-28T08:32:44.715Z"
   },
   {
    "duration": 5,
    "start_time": "2023-04-28T08:33:18.275Z"
   },
   {
    "duration": 17,
    "start_time": "2023-04-28T08:39:31.082Z"
   },
   {
    "duration": 67,
    "start_time": "2023-04-28T08:39:34.558Z"
   },
   {
    "duration": 709,
    "start_time": "2023-04-28T08:39:34.758Z"
   },
   {
    "duration": 18,
    "start_time": "2023-04-28T08:39:35.469Z"
   },
   {
    "duration": 3,
    "start_time": "2023-04-28T08:39:35.489Z"
   },
   {
    "duration": 287,
    "start_time": "2023-04-28T08:39:35.494Z"
   },
   {
    "duration": 173,
    "start_time": "2023-04-28T08:39:35.783Z"
   },
   {
    "duration": 290,
    "start_time": "2023-04-28T08:39:35.958Z"
   },
   {
    "duration": 4,
    "start_time": "2023-04-28T08:39:37.182Z"
   },
   {
    "duration": 11,
    "start_time": "2023-04-28T08:39:37.895Z"
   },
   {
    "duration": 5,
    "start_time": "2023-04-28T08:39:41.281Z"
   },
   {
    "duration": 3,
    "start_time": "2023-04-28T08:39:44.622Z"
   },
   {
    "duration": 8,
    "start_time": "2023-04-28T08:39:44.882Z"
   },
   {
    "duration": 7,
    "start_time": "2023-04-28T08:39:45.182Z"
   },
   {
    "duration": 16,
    "start_time": "2023-04-28T08:39:47.199Z"
   },
   {
    "duration": 75,
    "start_time": "2023-04-28T08:41:03.488Z"
   },
   {
    "duration": 14,
    "start_time": "2023-04-28T08:41:26.880Z"
   },
   {
    "duration": 673,
    "start_time": "2023-04-28T08:41:37.580Z"
   },
   {
    "duration": 12,
    "start_time": "2023-04-28T08:41:38.255Z"
   },
   {
    "duration": 15,
    "start_time": "2023-04-28T08:41:45.088Z"
   },
   {
    "duration": 689,
    "start_time": "2023-04-28T08:43:39.027Z"
   },
   {
    "duration": 12,
    "start_time": "2023-04-28T08:43:39.718Z"
   },
   {
    "duration": 34,
    "start_time": "2023-04-28T08:43:48.336Z"
   },
   {
    "duration": 29,
    "start_time": "2023-04-28T08:43:55.842Z"
   },
   {
    "duration": 705,
    "start_time": "2023-04-28T08:44:00.561Z"
   },
   {
    "duration": 14,
    "start_time": "2023-04-28T08:44:01.268Z"
   },
   {
    "duration": 25,
    "start_time": "2023-04-28T08:44:11.138Z"
   },
   {
    "duration": 9,
    "start_time": "2023-04-28T08:44:53.185Z"
   },
   {
    "duration": 9,
    "start_time": "2023-04-28T08:44:53.545Z"
   },
   {
    "duration": 6,
    "start_time": "2023-04-28T08:45:47.320Z"
   },
   {
    "duration": 7,
    "start_time": "2023-04-28T08:45:55.947Z"
   },
   {
    "duration": 5,
    "start_time": "2023-04-28T08:45:58.615Z"
   },
   {
    "duration": 4,
    "start_time": "2023-04-28T08:46:04.793Z"
   },
   {
    "duration": 8,
    "start_time": "2023-04-28T08:46:05.338Z"
   },
   {
    "duration": 1480,
    "start_time": "2023-04-28T08:46:25.090Z"
   },
   {
    "duration": 701,
    "start_time": "2023-04-28T08:46:27.097Z"
   },
   {
    "duration": 27,
    "start_time": "2023-04-28T08:46:27.800Z"
   },
   {
    "duration": 3,
    "start_time": "2023-04-28T08:46:28.362Z"
   },
   {
    "duration": 321,
    "start_time": "2023-04-28T08:46:28.851Z"
   },
   {
    "duration": 172,
    "start_time": "2023-04-28T08:46:29.175Z"
   },
   {
    "duration": 294,
    "start_time": "2023-04-28T08:46:29.349Z"
   },
   {
    "duration": 2,
    "start_time": "2023-04-28T08:46:29.646Z"
   },
   {
    "duration": 22,
    "start_time": "2023-04-28T08:46:29.650Z"
   },
   {
    "duration": 5,
    "start_time": "2023-04-28T08:46:29.674Z"
   },
   {
    "duration": 9,
    "start_time": "2023-04-28T08:46:29.680Z"
   },
   {
    "duration": 23,
    "start_time": "2023-04-28T08:46:29.690Z"
   },
   {
    "duration": 6,
    "start_time": "2023-04-28T08:46:29.715Z"
   },
   {
    "duration": 16,
    "start_time": "2023-04-28T08:46:29.723Z"
   },
   {
    "duration": 12,
    "start_time": "2023-04-28T08:46:29.785Z"
   },
   {
    "duration": 9,
    "start_time": "2023-04-28T08:46:30.288Z"
   },
   {
    "duration": 1260,
    "start_time": "2023-04-28T08:46:30.377Z"
   },
   {
    "duration": 1237,
    "start_time": "2023-04-28T08:46:31.639Z"
   },
   {
    "duration": 1214,
    "start_time": "2023-04-28T08:46:32.878Z"
   },
   {
    "duration": 986,
    "start_time": "2023-04-28T08:46:34.093Z"
   },
   {
    "duration": 805,
    "start_time": "2023-04-28T08:46:35.081Z"
   },
   {
    "duration": 11,
    "start_time": "2023-04-28T08:46:35.888Z"
   },
   {
    "duration": 11,
    "start_time": "2023-04-28T08:46:35.911Z"
   },
   {
    "duration": 63,
    "start_time": "2023-04-28T08:46:35.923Z"
   },
   {
    "duration": 685,
    "start_time": "2023-04-28T08:46:35.988Z"
   },
   {
    "duration": 8,
    "start_time": "2023-04-28T08:46:36.674Z"
   },
   {
    "duration": 24,
    "start_time": "2023-04-28T08:46:36.684Z"
   },
   {
    "duration": 14,
    "start_time": "2023-04-28T08:46:36.710Z"
   },
   {
    "duration": 462,
    "start_time": "2023-04-28T08:46:36.726Z"
   },
   {
    "duration": 7,
    "start_time": "2023-04-28T08:46:37.191Z"
   },
   {
    "duration": 18,
    "start_time": "2023-04-28T08:46:37.212Z"
   },
   {
    "duration": 6,
    "start_time": "2023-04-28T08:46:37.692Z"
   },
   {
    "duration": 476,
    "start_time": "2023-04-28T08:46:37.923Z"
   },
   {
    "duration": 14,
    "start_time": "2023-04-28T08:46:38.401Z"
   },
   {
    "duration": 7,
    "start_time": "2023-04-28T08:46:38.416Z"
   },
   {
    "duration": 27,
    "start_time": "2023-04-28T08:46:38.922Z"
   },
   {
    "duration": 6,
    "start_time": "2023-04-28T08:46:40.026Z"
   },
   {
    "duration": 4,
    "start_time": "2023-04-28T08:46:41.338Z"
   },
   {
    "duration": 108,
    "start_time": "2023-04-28T08:46:45.954Z"
   },
   {
    "duration": 2,
    "start_time": "2023-04-28T08:46:46.286Z"
   },
   {
    "duration": 9,
    "start_time": "2023-04-28T08:47:14.955Z"
   },
   {
    "duration": 3,
    "start_time": "2023-04-28T08:47:15.986Z"
   },
   {
    "duration": 2,
    "start_time": "2023-04-28T08:47:17.026Z"
   },
   {
    "duration": 27334,
    "start_time": "2023-04-28T08:47:17.514Z"
   },
   {
    "duration": 2,
    "start_time": "2023-04-28T08:47:44.850Z"
   },
   {
    "duration": 159070,
    "start_time": "2023-04-28T08:47:44.853Z"
   },
   {
    "duration": 1787,
    "start_time": "2023-04-28T08:50:23.926Z"
   },
   {
    "duration": 299,
    "start_time": "2023-04-28T08:50:25.715Z"
   },
   {
    "duration": 6,
    "start_time": "2023-04-28T08:50:55.348Z"
   },
   {
    "duration": 4,
    "start_time": "2023-04-28T08:51:05.022Z"
   },
   {
    "duration": 10,
    "start_time": "2023-04-28T08:51:35.334Z"
   },
   {
    "duration": 5,
    "start_time": "2023-04-28T08:51:39.324Z"
   },
   {
    "duration": 10,
    "start_time": "2023-04-28T08:51:53.028Z"
   },
   {
    "duration": 9,
    "start_time": "2023-04-28T08:52:49.525Z"
   },
   {
    "duration": 212,
    "start_time": "2023-04-28T08:52:54.801Z"
   },
   {
    "duration": 13,
    "start_time": "2023-04-28T08:53:55.550Z"
   },
   {
    "duration": 13,
    "start_time": "2023-04-28T08:54:27.957Z"
   },
   {
    "duration": 23,
    "start_time": "2023-04-28T08:55:39.015Z"
   },
   {
    "duration": 4,
    "start_time": "2023-04-28T08:55:53.194Z"
   },
   {
    "duration": 5,
    "start_time": "2023-04-28T08:56:17.717Z"
   },
   {
    "duration": 2482,
    "start_time": "2023-04-28T13:25:51.883Z"
   },
   {
    "duration": 2171,
    "start_time": "2023-04-28T13:25:54.368Z"
   },
   {
    "duration": 22,
    "start_time": "2023-04-28T13:25:56.541Z"
   },
   {
    "duration": 4,
    "start_time": "2023-04-28T13:25:56.565Z"
   },
   {
    "duration": 299,
    "start_time": "2023-04-28T13:25:56.572Z"
   },
   {
    "duration": 180,
    "start_time": "2023-04-28T13:25:56.873Z"
   },
   {
    "duration": 325,
    "start_time": "2023-04-28T13:25:57.056Z"
   },
   {
    "duration": 5,
    "start_time": "2023-04-28T13:25:57.383Z"
   },
   {
    "duration": 29,
    "start_time": "2023-04-28T13:25:57.391Z"
   },
   {
    "duration": 6,
    "start_time": "2023-04-28T13:25:57.421Z"
   },
   {
    "duration": 4,
    "start_time": "2023-04-28T13:25:57.429Z"
   },
   {
    "duration": 14,
    "start_time": "2023-04-28T13:25:57.435Z"
   },
   {
    "duration": 9,
    "start_time": "2023-04-28T13:25:57.450Z"
   },
   {
    "duration": 56,
    "start_time": "2023-04-28T13:25:57.463Z"
   },
   {
    "duration": 14,
    "start_time": "2023-04-28T13:25:57.521Z"
   },
   {
    "duration": 9,
    "start_time": "2023-04-28T13:25:57.537Z"
   },
   {
    "duration": 1424,
    "start_time": "2023-04-28T13:25:57.548Z"
   },
   {
    "duration": 1391,
    "start_time": "2023-04-28T13:25:58.974Z"
   },
   {
    "duration": 1360,
    "start_time": "2023-04-28T13:26:00.368Z"
   },
   {
    "duration": 1069,
    "start_time": "2023-04-28T13:26:01.730Z"
   },
   {
    "duration": 870,
    "start_time": "2023-04-28T13:26:02.802Z"
   },
   {
    "duration": 11,
    "start_time": "2023-04-28T13:26:03.673Z"
   },
   {
    "duration": 11,
    "start_time": "2023-04-28T13:26:03.686Z"
   },
   {
    "duration": 15,
    "start_time": "2023-04-28T13:26:03.699Z"
   },
   {
    "duration": 929,
    "start_time": "2023-04-28T13:26:03.716Z"
   },
   {
    "duration": 8,
    "start_time": "2023-04-28T13:26:04.647Z"
   },
   {
    "duration": 9,
    "start_time": "2023-04-28T13:26:04.657Z"
   },
   {
    "duration": 13,
    "start_time": "2023-04-28T13:26:04.668Z"
   },
   {
    "duration": 524,
    "start_time": "2023-04-28T13:26:04.683Z"
   },
   {
    "duration": 8,
    "start_time": "2023-04-28T13:26:05.209Z"
   },
   {
    "duration": 8,
    "start_time": "2023-04-28T13:26:05.219Z"
   },
   {
    "duration": 8,
    "start_time": "2023-04-28T13:26:05.229Z"
   },
   {
    "duration": 500,
    "start_time": "2023-04-28T13:26:05.239Z"
   },
   {
    "duration": 8,
    "start_time": "2023-04-28T13:26:05.741Z"
   },
   {
    "duration": 12,
    "start_time": "2023-04-28T13:26:05.751Z"
   },
   {
    "duration": 52,
    "start_time": "2023-04-28T13:26:05.765Z"
   },
   {
    "duration": 8,
    "start_time": "2023-04-28T13:26:05.819Z"
   },
   {
    "duration": 5,
    "start_time": "2023-04-28T13:26:21.040Z"
   },
   {
    "duration": 10,
    "start_time": "2023-04-28T13:26:21.359Z"
   },
   {
    "duration": 3,
    "start_time": "2023-04-28T13:26:21.725Z"
   },
   {
    "duration": 412,
    "start_time": "2023-04-28T13:26:41.228Z"
   },
   {
    "duration": 3,
    "start_time": "2023-04-28T13:27:03.272Z"
   },
   {
    "duration": 28427,
    "start_time": "2023-04-28T13:27:06.326Z"
   },
   {
    "duration": 33,
    "start_time": "2023-04-28T13:27:34.755Z"
   },
   {
    "duration": 4,
    "start_time": "2023-04-28T13:27:43.516Z"
   },
   {
    "duration": 31,
    "start_time": "2023-04-28T13:28:03.422Z"
   },
   {
    "duration": 21,
    "start_time": "2023-04-28T13:28:10.449Z"
   },
   {
    "duration": 24,
    "start_time": "2023-04-28T13:28:13.642Z"
   },
   {
    "duration": 5,
    "start_time": "2023-04-28T13:28:44.234Z"
   },
   {
    "duration": 5,
    "start_time": "2023-04-28T13:28:59.774Z"
   },
   {
    "duration": 2205,
    "start_time": "2023-04-28T15:27:44.382Z"
   },
   {
    "duration": 2241,
    "start_time": "2023-04-28T15:27:46.590Z"
   },
   {
    "duration": 24,
    "start_time": "2023-04-28T15:27:48.833Z"
   },
   {
    "duration": 10,
    "start_time": "2023-04-28T15:27:48.859Z"
   },
   {
    "duration": 460,
    "start_time": "2023-04-28T15:27:48.873Z"
   },
   {
    "duration": 270,
    "start_time": "2023-04-28T15:27:49.336Z"
   },
   {
    "duration": 451,
    "start_time": "2023-04-28T15:27:49.609Z"
   },
   {
    "duration": 4,
    "start_time": "2023-04-28T15:27:53.931Z"
   },
   {
    "duration": 15,
    "start_time": "2023-04-28T15:27:55.330Z"
   },
   {
    "duration": 9,
    "start_time": "2023-04-28T15:27:58.725Z"
   },
   {
    "duration": 5,
    "start_time": "2023-04-28T15:28:00.332Z"
   },
   {
    "duration": 13,
    "start_time": "2023-04-28T15:28:00.632Z"
   },
   {
    "duration": 12,
    "start_time": "2023-04-28T15:28:01.027Z"
   },
   {
    "duration": 23,
    "start_time": "2023-04-28T15:28:04.148Z"
   },
   {
    "duration": 15,
    "start_time": "2023-04-28T15:28:04.632Z"
   },
   {
    "duration": 15,
    "start_time": "2023-04-28T15:28:04.938Z"
   },
   {
    "duration": 1978,
    "start_time": "2023-04-28T15:28:08.333Z"
   },
   {
    "duration": 1942,
    "start_time": "2023-04-28T15:28:11.165Z"
   },
   {
    "duration": 1677,
    "start_time": "2023-04-28T15:28:13.174Z"
   },
   {
    "duration": 1214,
    "start_time": "2023-04-28T15:28:47.825Z"
   },
   {
    "duration": 968,
    "start_time": "2023-04-28T15:29:13.406Z"
   },
   {
    "duration": 6,
    "start_time": "2023-04-28T15:33:05.088Z"
   },
   {
    "duration": 691,
    "start_time": "2023-04-28T15:33:05.239Z"
   },
   {
    "duration": 9,
    "start_time": "2023-04-28T15:33:05.932Z"
   },
   {
    "duration": 8,
    "start_time": "2023-04-28T15:33:05.943Z"
   },
   {
    "duration": 19,
    "start_time": "2023-04-28T15:33:05.954Z"
   },
   {
    "duration": 521,
    "start_time": "2023-04-28T15:33:06.009Z"
   },
   {
    "duration": 8,
    "start_time": "2023-04-28T15:33:06.632Z"
   },
   {
    "duration": 8,
    "start_time": "2023-04-28T15:33:06.871Z"
   },
   {
    "duration": 8,
    "start_time": "2023-04-28T15:33:07.402Z"
   },
   {
    "duration": 547,
    "start_time": "2023-04-28T15:33:07.975Z"
   },
   {
    "duration": 8,
    "start_time": "2023-04-28T15:33:09.984Z"
   },
   {
    "duration": 10,
    "start_time": "2023-04-28T15:33:10.202Z"
   },
   {
    "duration": 33,
    "start_time": "2023-04-28T15:33:10.602Z"
   },
   {
    "duration": 8,
    "start_time": "2023-04-28T15:53:57.261Z"
   },
   {
    "duration": 5,
    "start_time": "2023-04-28T15:53:57.965Z"
   },
   {
    "duration": 11,
    "start_time": "2023-04-28T15:53:58.253Z"
   },
   {
    "duration": 4,
    "start_time": "2023-04-28T15:53:59.358Z"
   },
   {
    "duration": 109,
    "start_time": "2023-04-28T16:31:32.141Z"
   },
   {
    "duration": 215,
    "start_time": "2023-04-28T16:32:46.848Z"
   },
   {
    "duration": 20,
    "start_time": "2023-04-28T16:33:17.340Z"
   },
   {
    "duration": 5,
    "start_time": "2023-04-28T16:33:20.276Z"
   },
   {
    "duration": 26593,
    "start_time": "2023-04-28T16:33:20.651Z"
   },
   {
    "duration": 4,
    "start_time": "2023-04-28T16:36:04.934Z"
   },
   {
    "duration": 188711,
    "start_time": "2023-04-28T16:36:05.314Z"
   },
   {
    "duration": 8,
    "start_time": "2023-04-28T16:45:46.069Z"
   },
   {
    "duration": 370,
    "start_time": "2023-04-28T16:45:47.451Z"
   },
   {
    "duration": 1622,
    "start_time": "2023-04-28T16:46:08.172Z"
   },
   {
    "duration": 60,
    "start_time": "2023-04-28T21:14:50.043Z"
   },
   {
    "duration": 9,
    "start_time": "2023-04-28T21:17:00.561Z"
   },
   {
    "duration": 39,
    "start_time": "2023-04-28T21:24:33.037Z"
   },
   {
    "duration": 902,
    "start_time": "2023-04-28T21:24:33.537Z"
   },
   {
    "duration": 16,
    "start_time": "2023-04-28T21:24:34.441Z"
   },
   {
    "duration": 4,
    "start_time": "2023-04-28T21:24:34.458Z"
   },
   {
    "duration": 312,
    "start_time": "2023-04-28T21:24:34.464Z"
   },
   {
    "duration": 187,
    "start_time": "2023-04-28T21:24:34.778Z"
   },
   {
    "duration": 332,
    "start_time": "2023-04-28T21:24:34.968Z"
   },
   {
    "duration": 4,
    "start_time": "2023-04-28T21:24:35.302Z"
   },
   {
    "duration": 30,
    "start_time": "2023-04-28T21:24:35.308Z"
   },
   {
    "duration": 6,
    "start_time": "2023-04-28T21:24:35.339Z"
   },
   {
    "duration": 3,
    "start_time": "2023-04-28T21:24:35.348Z"
   },
   {
    "duration": 15,
    "start_time": "2023-04-28T21:24:35.353Z"
   },
   {
    "duration": 24,
    "start_time": "2023-04-28T21:24:35.371Z"
   },
   {
    "duration": 35,
    "start_time": "2023-04-28T21:24:35.397Z"
   },
   {
    "duration": 10,
    "start_time": "2023-04-28T21:24:35.434Z"
   },
   {
    "duration": 12,
    "start_time": "2023-04-28T21:24:35.446Z"
   },
   {
    "duration": 1291,
    "start_time": "2023-04-28T21:24:35.460Z"
   },
   {
    "duration": 1578,
    "start_time": "2023-04-28T21:24:36.753Z"
   },
   {
    "duration": 1411,
    "start_time": "2023-04-28T21:24:38.333Z"
   },
   {
    "duration": 1193,
    "start_time": "2023-04-28T21:24:39.746Z"
   },
   {
    "duration": 958,
    "start_time": "2023-04-28T21:24:40.942Z"
   },
   {
    "duration": 20,
    "start_time": "2023-04-28T21:24:41.902Z"
   },
   {
    "duration": 13,
    "start_time": "2023-04-28T21:24:41.927Z"
   },
   {
    "duration": 8,
    "start_time": "2023-04-28T21:24:41.944Z"
   },
   {
    "duration": 610,
    "start_time": "2023-04-28T21:24:41.956Z"
   },
   {
    "duration": 7,
    "start_time": "2023-04-28T21:24:42.568Z"
   },
   {
    "duration": 20,
    "start_time": "2023-04-28T21:24:42.577Z"
   },
   {
    "duration": 13,
    "start_time": "2023-04-28T21:24:42.602Z"
   },
   {
    "duration": 890,
    "start_time": "2023-04-28T21:24:42.617Z"
   },
   {
    "duration": 9,
    "start_time": "2023-04-28T21:24:43.509Z"
   },
   {
    "duration": 12,
    "start_time": "2023-04-28T21:24:43.520Z"
   },
   {
    "duration": 7,
    "start_time": "2023-04-28T21:24:43.535Z"
   },
   {
    "duration": 520,
    "start_time": "2023-04-28T21:24:43.544Z"
   },
   {
    "duration": 9,
    "start_time": "2023-04-28T21:24:44.066Z"
   },
   {
    "duration": 30,
    "start_time": "2023-04-28T21:24:44.077Z"
   },
   {
    "duration": 31,
    "start_time": "2023-04-28T21:24:44.109Z"
   },
   {
    "duration": 13,
    "start_time": "2023-04-28T21:24:44.142Z"
   },
   {
    "duration": 15,
    "start_time": "2023-04-28T21:24:44.157Z"
   },
   {
    "duration": 11,
    "start_time": "2023-04-28T21:24:44.173Z"
   },
   {
    "duration": 16,
    "start_time": "2023-04-28T21:24:44.186Z"
   },
   {
    "duration": 5,
    "start_time": "2023-04-28T21:24:44.211Z"
   },
   {
    "duration": 20254,
    "start_time": "2023-04-28T21:24:44.219Z"
   },
   {
    "duration": 3,
    "start_time": "2023-04-28T21:25:04.476Z"
   },
   {
    "duration": 163381,
    "start_time": "2023-04-28T21:25:04.481Z"
   },
   {
    "duration": 2234,
    "start_time": "2023-04-28T21:27:47.864Z"
   },
   {
    "duration": 6,
    "start_time": "2023-04-28T21:27:50.109Z"
   },
   {
    "duration": 679,
    "start_time": "2023-04-28T21:27:50.117Z"
   },
   {
    "duration": 12,
    "start_time": "2023-04-28T21:27:50.801Z"
   },
   {
    "duration": 83,
    "start_time": "2023-04-28T21:27:50.817Z"
   }
  ],
  "kernelspec": {
   "display_name": "Python 3 (ipykernel)",
   "language": "python",
   "name": "python3"
  },
  "language_info": {
   "codemirror_mode": {
    "name": "ipython",
    "version": 3
   },
   "file_extension": ".py",
   "mimetype": "text/x-python",
   "name": "python",
   "nbconvert_exporter": "python",
   "pygments_lexer": "ipython3",
   "version": "3.9.5"
  },
  "toc": {
   "base_numbering": 1,
   "nav_menu": {},
   "number_sections": true,
   "sideBar": true,
   "skip_h1_title": true,
   "title_cell": "Содержание",
   "title_sidebar": "Contents",
   "toc_cell": true,
   "toc_position": {
    "height": "calc(100% - 180px)",
    "left": "10px",
    "top": "150px",
    "width": "165px"
   },
   "toc_section_display": true,
   "toc_window_display": false
  }
 },
 "nbformat": 4,
 "nbformat_minor": 2
}
